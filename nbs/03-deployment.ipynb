{
 "cells": [
  {
   "cell_type": "code",
   "execution_count": 1,
   "metadata": {},
   "outputs": [],
   "source": [
    "# default_exp deployment"
   ]
  },
  {
   "cell_type": "markdown",
   "metadata": {},
   "source": [
    "# Deployment\n",
    "\n",
    "This notebook includes helper functions and processes used in the deployment of the the Outages-Watch website.\n",
    "\n",
    "<br>\n",
    "\n",
    "### Imports"
   ]
  },
  {
   "cell_type": "code",
   "execution_count": 2,
   "metadata": {},
   "outputs": [],
   "source": [
    "#exports\n",
    "from outage import collation\n",
    "\n",
    "import typer"
   ]
  },
  {
   "cell_type": "markdown",
   "metadata": {},
   "source": [
    "<br>\n",
    "\n",
    "### Initialising CLI "
   ]
  },
  {
   "cell_type": "code",
   "execution_count": 3,
   "metadata": {},
   "outputs": [],
   "source": [
    "#exports\n",
    "app = typer.Typer()"
   ]
  },
  {
   "cell_type": "code",
   "execution_count": null,
   "metadata": {},
   "outputs": [],
   "source": []
  },
  {
   "cell_type": "code",
   "execution_count": 4,
   "metadata": {},
   "outputs": [],
   "source": [
    "#exports\n",
    "@app.command()\n",
    "def update_docs(\n",
    "    dnos=['ukpn', 'ssen', 'wpd', 'sp', 'np', 'enw'],\n",
    "    postcodes_fp='data/postcodes.csv', \n",
    "    outages_fp='docs/data/outages.csv',\n",
    "    null_threshold=1,\n",
    "    js_template_fp='templates/map_js.j2', \n",
    "    js_docs_fp='docs/map.js', \n",
    "    md_template_fp='templates/index_md.j2', \n",
    "    docs_md_fp='docs/index.md'\n",
    "):\n",
    "    # Retrieving and parsing outage data\n",
    "    cleaned_incidents_info = collation.collate_cleaned_incidents_info(dnos=dnos)\n",
    "    df_outages = collation.get_combined_outages_df(cleaned_incidents_info)\n",
    "    df_outages = collation.add_outage_longitudes_latitudes(df_outages, postcodes_fp=postcodes_fp, null_threshold=null_threshold)\n",
    "\n",
    "    # Map generation\n",
    "    gdf_outages = collation.construct_outages_gdf(df_outages)\n",
    "    collation.generate_map_js(gdf_outages, js_template_fp=js_template_fp, js_docs_fp=js_docs_fp)\n",
    "\n",
    "    # Documentation generation\n",
    "    df_outages_clean = collation.clean_outages_df(df_outages)\n",
    "    collation.generate_index_md(df_outages_clean, md_template_fp=md_template_fp, docs_md_fp=docs_md_fp)\n",
    "    df_outages_clean.assign(Incident=df_outages['incident_id']).to_csv(outages_fp, index=False)\n",
    "    \n",
    "    return"
   ]
  },
  {
   "cell_type": "code",
   "execution_count": 5,
   "metadata": {},
   "outputs": [
    {
     "data": {
      "text/html": [
       "<div><span class=\"Text-label\" style=\"display:inline-block; overflow:hidden; white-space:nowrap; text-overflow:ellipsis; min-width:15ex; max-width:15ex; vertical-align:middle; text-align:right\">DNOs</span>\n",
       "<progress style=\"width:45ex\" max=\"6\" value=\"6\" class=\"Progress-main\"/></progress>\n",
       "<span class=\"Progress-label\"><strong>100%</strong></span>\n",
       "<span class=\"Iteration-label\">6/6</span>\n",
       "<span class=\"Time-label\">[00:23<00:00, 3.78s/it]</span></div>"
      ],
      "text/plain": [
       "\u001b[A\u001b[2K\r",
       "           DNOs [█████████████████████████████████████████████] 6/6 [00:23<00:00, 3.78s/it]\u001b[B"
      ]
     },
     "metadata": {},
     "output_type": "display_data"
    },
    {
     "data": {
      "text/html": [
       "<div><span class=\"Text-label\" style=\"display:inline-block; overflow:hidden; white-space:nowrap; text-overflow:ellipsis; min-width:15ex; max-width:15ex; vertical-align:middle; text-align:right\">Multiple Ids</span>\n",
       "<progress style=\"width:45ex\" max=\"2\" value=\"2\" class=\"Progress-main\"/></progress>\n",
       "<span class=\"Progress-label\"><strong>100%</strong></span>\n",
       "<span class=\"Iteration-label\">2/2</span>\n",
       "<span class=\"Time-label\">[00:00<00:00, 0.25s/it]</span></div>"
      ],
      "text/plain": [
       "\u001b[A\u001b[2K\r",
       "   Multiple Ids [█████████████████████████████████████████████] 2/2 [00:00<00:00, 0.25s/it]"
      ]
     },
     "metadata": {},
     "output_type": "display_data"
    },
    {
     "data": {
      "text/html": [
       "<div><span class=\"Text-label\" style=\"display:inline-block; overflow:hidden; white-space:nowrap; text-overflow:ellipsis; min-width:15ex; max-width:15ex; vertical-align:middle; text-align:right\">Details</span>\n",
       "<progress style=\"width:45ex\" max=\"55\" value=\"55\" class=\"Progress-main\"/></progress>\n",
       "<span class=\"Progress-label\"><strong>100%</strong></span>\n",
       "<span class=\"Iteration-label\">55/55</span>\n",
       "<span class=\"Time-label\">[00:12<00:00, 0.22s/it]</span></div>"
      ],
      "text/plain": [
       "\u001b[A\u001b[2K\r",
       "        Details [█████████████████████████████████████████████] 55/55 [00:12<00:00, 0.22s/it]"
      ]
     },
     "metadata": {},
     "output_type": "display_data"
    },
    {
     "name": "stderr",
     "output_type": "stream",
     "text": [
      "C:\\Users\\Ayrto\\anaconda3\\envs\\outage\\lib\\site-packages\\urllib3\\connectionpool.py:1020: InsecureRequestWarning: Unverified HTTPS request is being made to host 'www.ssen.co.uk'. Adding certificate verification is strongly advised. See: https://urllib3.readthedocs.io/en/latest/advanced-usage.html#ssl-warnings\n",
      "  InsecureRequestWarning,\n"
     ]
    },
    {
     "data": {
      "text/html": [
       "<div><span class=\"Text-label\" style=\"display:inline-block; overflow:hidden; white-space:nowrap; text-overflow:ellipsis; min-width:0; max-width:15ex; vertical-align:middle; text-align:right\"></span>\n",
       "<progress style=\"width:60ex\" max=\"6\" value=\"6\" class=\"Progress-main\"/></progress>\n",
       "<span class=\"Progress-label\"><strong>100%</strong></span>\n",
       "<span class=\"Iteration-label\">6/6</span>\n",
       "<span class=\"Time-label\">[00:00<00:00, 0.00s/it]</span></div>"
      ],
      "text/plain": [
       "\u001b[A\u001b[2K\r",
       " [████████████████████████████████████████████████████████████] 6/6 [00:00<00:00, 0.00s/it]"
      ]
     },
     "metadata": {},
     "output_type": "display_data"
    },
    {
     "data": {
      "text/html": [
       "<div><span class=\"Text-label\" style=\"display:inline-block; overflow:hidden; white-space:nowrap; text-overflow:ellipsis; min-width:0; max-width:15ex; vertical-align:middle; text-align:right\"></span>\n",
       "<progress style=\"width:60ex\" max=\"69\" value=\"69\" class=\"Progress-main\"/></progress>\n",
       "<span class=\"Progress-label\"><strong>100%</strong></span>\n",
       "<span class=\"Iteration-label\">69/69</span>\n",
       "<span class=\"Time-label\">[00:14<00:01, 0.20s/it]</span></div>"
      ],
      "text/plain": [
       "\u001b[A\u001b[2K\r",
       " [████████████████████████████████████████████████████████████] 69/69 [00:14<00:01, 0.20s/it]\u001b[B"
      ]
     },
     "metadata": {},
     "output_type": "display_data"
    },
    {
     "name": "stderr",
     "output_type": "stream",
     "text": [
      "c:\\users\\ayrto\\desktop\\side projects\\outage-watch\\outage\\collation.py:109: UserWarning: The longitude and latitude of TN33 could not be determined\n",
      "  warn(f'The longitude and latitude of {postcode} could not be determined')\n",
      "c:\\users\\ayrto\\desktop\\side projects\\outage-watch\\outage\\collation.py:109: UserWarning: The longitude and latitude of TN33OSR could not be determined\n",
      "  warn(f'The longitude and latitude of {postcode} could not be determined')\n",
      "c:\\users\\ayrto\\desktop\\side projects\\outage-watch\\outage\\collation.py:109: UserWarning: The longitude and latitude of UMS could not be determined\n",
      "  warn(f'The longitude and latitude of {postcode} could not be determined')\n",
      "c:\\users\\ayrto\\desktop\\side projects\\outage-watch\\outage\\collation.py:109: UserWarning: The longitude and latitude of RH11ONR could not be determined\n",
      "  warn(f'The longitude and latitude of {postcode} could not be determined')\n",
      "c:\\users\\ayrto\\desktop\\side projects\\outage-watch\\outage\\collation.py:109: UserWarning: The longitude and latitude of TN34 could not be determined\n",
      "  warn(f'The longitude and latitude of {postcode} could not be determined')\n",
      "c:\\users\\ayrto\\desktop\\side projects\\outage-watch\\outage\\collation.py:109: UserWarning: The longitude and latitude of TN386AE could not be determined\n",
      "  warn(f'The longitude and latitude of {postcode} could not be determined')\n",
      "c:\\users\\ayrto\\desktop\\side projects\\outage-watch\\outage\\collation.py:109: UserWarning: The longitude and latitude of GU4 could not be determined\n",
      "  warn(f'The longitude and latitude of {postcode} could not be determined')\n",
      "c:\\users\\ayrto\\desktop\\side projects\\outage-watch\\outage\\collation.py:109: UserWarning: The longitude and latitude of B80 7FQ could not be determined\n",
      "  warn(f'The longitude and latitude of {postcode} could not be determined')\n",
      "c:\\users\\ayrto\\desktop\\side projects\\outage-watch\\outage\\collation.py:109: UserWarning: The longitude and latitude of CA6 could not be determined\n",
      "  warn(f'The longitude and latitude of {postcode} could not be determined')\n",
      "c:\\users\\ayrto\\desktop\\side projects\\outage-watch\\outage\\collation.py:109: UserWarning: The longitude and latitude of CA61AA could not be determined\n",
      "  warn(f'The longitude and latitude of {postcode} could not be determined')\n",
      "c:\\users\\ayrto\\desktop\\side projects\\outage-watch\\outage\\collation.py:109: UserWarning: The longitude and latitude of DG164EH could not be determined\n",
      "  warn(f'The longitude and latitude of {postcode} could not be determined')\n",
      "c:\\users\\ayrto\\desktop\\side projects\\outage-watch\\outage\\collation.py:109: UserWarning: The longitude and latitude of DG165ZZ could not be determined\n",
      "  warn(f'The longitude and latitude of {postcode} could not be determined')\n",
      "c:\\users\\ayrto\\desktop\\side projects\\outage-watch\\outage\\collation.py:109: UserWarning: The longitude and latitude of DG166EH could not be determined\n",
      "  warn(f'The longitude and latitude of {postcode} could not be determined')\n",
      "c:\\users\\ayrto\\desktop\\side projects\\outage-watch\\outage\\collation.py:109: UserWarning: The longitude and latitude of ML1 could not be determined\n",
      "  warn(f'The longitude and latitude of {postcode} could not be determined')\n",
      "c:\\users\\ayrto\\desktop\\side projects\\outage-watch\\outage\\collation.py:109: UserWarning: The longitude and latitude of ML110WW could not be determined\n",
      "  warn(f'The longitude and latitude of {postcode} could not be determined')\n",
      "c:\\users\\ayrto\\desktop\\side projects\\outage-watch\\outage\\collation.py:109: UserWarning: The longitude and latitude of ML110XX could not be determined\n",
      "  warn(f'The longitude and latitude of {postcode} could not be determined')\n"
     ]
    }
   ],
   "source": [
    "update_docs( \n",
    "    postcodes_fp='../data/postcodes.csv', \n",
    "    outages_fp='../docs/data/outages.csv',\n",
    "    js_template_fp='../templates/map_js.j2', \n",
    "    js_docs_fp='../docs/map.js', \n",
    "    md_template_fp='../templates/index_md.j2', \n",
    "    docs_md_fp='../docs/index.md'\n",
    ")"
   ]
  },
  {
   "cell_type": "markdown",
   "metadata": {},
   "source": [
    "<br>\n",
    "\n",
    "Finally we need to ensure the CLI app is available when the module is loaded.\n",
    "\n",
    "N.b. we've included the condition `'__file__' in globals()` to make sure this isn't when inside the notebook"
   ]
  },
  {
   "cell_type": "code",
   "execution_count": 6,
   "metadata": {},
   "outputs": [],
   "source": [
    "#exports\n",
    "if __name__ == '__main__' and '__file__' in globals():\n",
    "    app()"
   ]
  },
  {
   "cell_type": "code",
   "execution_count": null,
   "metadata": {},
   "outputs": [],
   "source": []
  },
  {
   "cell_type": "code",
   "execution_count": 15,
   "metadata": {},
   "outputs": [
    {
     "name": "stdout",
     "output_type": "stream",
     "text": [
      "Converted 01-retrieval.ipynb.\n",
      "Converted 02-collation.ipynb.\n",
      "Converted 03-deployment.ipynb.\n"
     ]
    }
   ],
   "source": [
    "#hide\n",
    "from nbdev.export import *\n",
    "notebook2script()"
   ]
  }
 ],
 "metadata": {
  "kernelspec": {
   "display_name": "outage",
   "language": "python",
   "name": "outage"
  },
  "language_info": {
   "codemirror_mode": {
    "name": "ipython",
    "version": 3
   },
   "file_extension": ".py",
   "mimetype": "text/x-python",
   "name": "python",
   "nbconvert_exporter": "python",
   "pygments_lexer": "ipython3",
   "version": "3.7.10"
  }
 },
 "nbformat": 4,
 "nbformat_minor": 4
}

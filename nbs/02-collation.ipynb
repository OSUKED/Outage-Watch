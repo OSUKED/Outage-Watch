{
 "cells": [
  {
   "cell_type": "code",
   "execution_count": 1,
   "id": "removed-slovak",
   "metadata": {},
   "outputs": [],
   "source": [
    "# default_exp collation"
   ]
  },
  {
   "cell_type": "markdown",
   "id": "blessed-month",
   "metadata": {},
   "source": [
    "# Outage Data Collation\n",
    "\n",
    "<br>\n",
    "\n",
    "### Imports"
   ]
  },
  {
   "cell_type": "code",
   "execution_count": 37,
   "id": "retained-example",
   "metadata": {},
   "outputs": [],
   "source": [
    "import json\n",
    "import numpy as np\n",
    "import pandas as pd\n",
    "import geopandas as gpd\n",
    "\n",
    "from outage import retrieval\n",
    "\n",
    "import matplotlib.pyplot as plt\n",
    "\n",
    "import os\n",
    "import requests\n",
    "from warnings import warn\n",
    "\n",
    "from ipypb import track\n",
    "from IPython.display import JSON"
   ]
  },
  {
   "cell_type": "code",
   "execution_count": null,
   "id": "authorized-adoption",
   "metadata": {},
   "outputs": [],
   "source": []
  },
  {
   "cell_type": "code",
   "execution_count": 3,
   "id": "cross-boutique",
   "metadata": {},
   "outputs": [],
   "source": [
    "#exports\n",
    "def collate_cleaned_incidents_info(dnos=['ukpn', 'ssen', 'wpd']):\n",
    "    cleaned_incidents_info = dict()\n",
    "\n",
    "    for dno in track(dnos, label='DNOs'):\n",
    "        raw_dno_incidents_info, cleaned_dno_incidents_info = getattr(retrieval, f'get_{dno}_incidents_info')()\n",
    "        cleaned_incidents_info[dno] = cleaned_dno_incidents_info\n",
    "        retrieval.save_json_data(raw_dno_incidents_info, f'{dno}_incidents_info')\n",
    "        \n",
    "    return cleaned_incidents_info"
   ]
  },
  {
   "cell_type": "code",
   "execution_count": 4,
   "id": "respective-metabolism",
   "metadata": {},
   "outputs": [
    {
     "data": {
      "text/html": [
       "<div><span class=\"Text-label\" style=\"display:inline-block; overflow:hidden; white-space:nowrap; text-overflow:ellipsis; min-width:15ex; max-width:15ex; vertical-align:middle; text-align:right\">DNOs</span>\n",
       "<progress style=\"width:45ex\" max=\"3\" value=\"3\" class=\"Progress-main\"/></progress>\n",
       "<span class=\"Progress-label\"><strong>100%</strong></span>\n",
       "<span class=\"Iteration-label\">3/3</span>\n",
       "<span class=\"Time-label\">[00:17<00:01, 5.55s/it]</span></div>"
      ],
      "text/plain": [
       "\u001b[A\u001b[2K\r",
       "           DNOs [█████████████████████████████████████████████] 3/3 [00:17<00:01, 5.55s/it]\u001b[B"
      ]
     },
     "metadata": {},
     "output_type": "display_data"
    },
    {
     "data": {
      "text/html": [
       "<div><span class=\"Text-label\" style=\"display:inline-block; overflow:hidden; white-space:nowrap; text-overflow:ellipsis; min-width:15ex; max-width:15ex; vertical-align:middle; text-align:right\">Multiple Ids</span>\n",
       "<progress style=\"width:45ex\" max=\"4\" value=\"4\" class=\"Progress-main\"/></progress>\n",
       "<span class=\"Progress-label\"><strong>100%</strong></span>\n",
       "<span class=\"Iteration-label\">4/4</span>\n",
       "<span class=\"Time-label\">[00:01<00:00, 0.26s/it]</span></div>"
      ],
      "text/plain": [
       "\u001b[A\u001b[2K\r",
       "   Multiple Ids [█████████████████████████████████████████████] 4/4 [00:01<00:00, 0.26s/it]"
      ]
     },
     "metadata": {},
     "output_type": "display_data"
    },
    {
     "data": {
      "text/html": [
       "<div><span class=\"Text-label\" style=\"display:inline-block; overflow:hidden; white-space:nowrap; text-overflow:ellipsis; min-width:15ex; max-width:15ex; vertical-align:middle; text-align:right\">Details</span>\n",
       "<progress style=\"width:45ex\" max=\"55\" value=\"55\" class=\"Progress-main\"/></progress>\n",
       "<span class=\"Progress-label\"><strong>100%</strong></span>\n",
       "<span class=\"Iteration-label\">55/55</span>\n",
       "<span class=\"Time-label\">[00:14<00:00, 0.25s/it]</span></div>"
      ],
      "text/plain": [
       "\u001b[A\u001b[2K\r",
       "        Details [█████████████████████████████████████████████] 55/55 [00:14<00:00, 0.25s/it]"
      ]
     },
     "metadata": {},
     "output_type": "display_data"
    },
    {
     "name": "stderr",
     "output_type": "stream",
     "text": [
      "C:\\Users\\Ayrto\\anaconda3\\envs\\outage\\lib\\site-packages\\urllib3\\connectionpool.py:1020: InsecureRequestWarning: Unverified HTTPS request is being made to host 'www.ssen.co.uk'. Adding certificate verification is strongly advised. See: https://urllib3.readthedocs.io/en/latest/advanced-usage.html#ssl-warnings\n",
      "  InsecureRequestWarning,\n"
     ]
    },
    {
     "data": {
      "text/html": [
       "<div><span class=\"Text-label\" style=\"display:inline-block; overflow:hidden; white-space:nowrap; text-overflow:ellipsis; min-width:0; max-width:15ex; vertical-align:middle; text-align:right\"></span>\n",
       "<progress style=\"width:60ex\" max=\"3\" value=\"3\" class=\"Progress-main\"/></progress>\n",
       "<span class=\"Progress-label\"><strong>100%</strong></span>\n",
       "<span class=\"Iteration-label\">3/3</span>\n",
       "<span class=\"Time-label\">[00:00<00:00, 0.00s/it]</span></div>"
      ],
      "text/plain": [
       "\u001b[A\u001b[2K\r",
       " [████████████████████████████████████████████████████████████] 3/3 [00:00<00:00, 0.00s/it]"
      ]
     },
     "metadata": {},
     "output_type": "display_data"
    },
    {
     "data": {
      "application/json": [
       {
        "ssen": {
         "HB1965": {
          "description": "We’re sorry for the loss of supply. We currently have a fault affecting the areas listed. Our engineers are on site working hard to get the power back on as quickly as they can. If you need more information, please call us on 105 or send us a message on <a href=\"http://m.me/ssencommunity/\">Facebook</a> or Twitter (<a href=\"https://twitter.com/ssencommunity\">@ssencommunity</a>) and quote reference 'HB1965'",
          "estimated_arrival_time": "2021-04-04 17:30:00",
          "estimated_restored_time": "2021-04-05 18:00:00",
          "incident_active": true,
          "incident_url": "https://www.ssen.co.uk/Powertrack/",
          "postcodes_impacted": [
           "HP12 4AJ",
           "HP12 4AP",
           "HP13 5XN",
           "HP13 5YD",
           "HP13 5YE",
           "HP13 5YF",
           "HP13 5YG",
           "HP13 5YH",
           "HP13 5YJ",
           "HP13 5YL",
           "HP13 5YN",
           "HP13 5YQ",
           "HP14 4QY",
           "HP14 4RG",
           "HP14 4RH",
           "HP14 4RJ",
           "HP14 4RQ"
          ],
          "received_time": "2021-04-04 14:11:00"
         },
         "HB2253": {
          "description": "We’re sorry for the loss of supply. We currently have a fault affecting the areas listed. Our engineers are working hard to get the power back on as quickly as they can. If you need more information, please call us on 105 or send us a message on <a href=\"http://m.me/ssencommunity/\">Facebook</a> or Twitter (<a href=\"https://twitter.com/ssencommunity\">@ssencommunity</a>) and quote reference 'HB2253'",
          "estimated_arrival_time": null,
          "estimated_restored_time": null,
          "incident_active": true,
          "incident_url": "https://www.ssen.co.uk/Powertrack/",
          "postcodes_impacted": [
           "SL5 7JY",
           "SL5 7JZ",
           "SL5 8DE",
           "SL5 8DH",
           "SL5 8DQ",
           "SL5 8EP",
           "SL5 8EW",
           "SL5 8TA",
           "SL5 8TB",
           "SL5 8TH",
           "SL5 8TJ",
           "SL5 8TP",
           "SL5 8TW",
           "SL5 8TZ"
          ],
          "received_time": "2021-04-05 09:36:00"
         },
         "HB2540": {
          "description": "We’re sorry for the loss of supply. We currently have a fault affecting the areas listed. Our engineers are on site working hard to get the power back on as quickly as they can. If you need more information, please call us on 105 or send us a message on <a href=\"http://m.me/ssencommunity/\">Facebook</a> or Twitter (<a href=\"https://twitter.com/ssencommunity\">@ssencommunity</a>) and quote reference 'HB2540'",
          "estimated_arrival_time": null,
          "estimated_restored_time": "2021-04-05 17:30:00",
          "incident_active": true,
          "incident_url": "https://www.ssen.co.uk/Powertrack/",
          "postcodes_impacted": [
           "AB31 6DB",
           "AB31 6DD",
           "AB31 6DE",
           "AB31 6DH",
           "AB31 6DJ",
           "AB31 6DL",
           "AB31 6JU",
           "AB31 6JY",
           "AB31 6LA",
           "AB31 6LB",
           "AB31 6LD",
           "AB31 6LH"
          ],
          "received_time": "2021-04-05 15:19:00"
         }
        },
        "ukpn": {
         "INCD-228174-Z": {
          "description": "A fault occurred on an underground electricity cable affecting the local area.",
          "estimated_restored_time": null,
          "incident_active": false,
          "incident_url": "https://www.ukpowernetworks.co.uk/power-cut/map?incidentid=INCD-228174-Z",
          "planned_time": null,
          "postcodes_impacted": [
           "N200JS",
           "N200JT",
           "N200JX",
           "N200NL",
           "N200NN",
           "N200NP"
          ],
          "received_time": "2021-03-30T13:53:13",
          "restored_time": "2021-04-05T12:36:27.567"
         },
         "INCD-229042-Z": {
          "description": "A fault occurred on a piece of our electrical equipment which controls the power to your home.",
          "estimated_restored_time": "2021-04-05T11:30:00",
          "incident_active": false,
          "incident_url": "https://www.ukpowernetworks.co.uk/power-cut/map?incidentid=INCD-229042-Z",
          "planned_time": null,
          "postcodes_impacted": [
           "HA46HD",
           "HA46HE"
          ],
          "received_time": "2021-04-05T03:23:00",
          "restored_time": "2021-04-05T08:47:56.28"
         },
         "INCD-229043-Z": {
          "description": "A fault occurred on a piece of our electrical equipment which controls the power to your home.",
          "estimated_restored_time": "2021-04-05T10:30:00",
          "incident_active": false,
          "incident_url": "https://www.ukpowernetworks.co.uk/power-cut/map?incidentid=INCD-229043-Z",
          "planned_time": null,
          "postcodes_impacted": [
           "NR118AE",
           "NR118BG",
           "NR118BH",
           "NR118BJ",
           "NR118BQ",
           "NR118BU"
          ],
          "received_time": "2021-04-05T04:40:00",
          "restored_time": "2021-04-05T10:44:28.88"
         },
         "INCD-229044-Z": {
          "description": "We were investigating a high voltage overhead electricity line fault which caused a power cut in the local area.",
          "estimated_restored_time": null,
          "incident_active": false,
          "incident_url": "https://www.ukpowernetworks.co.uk/power-cut/map?incidentid=INCD-229044-Z",
          "planned_time": null,
          "postcodes_impacted": [
           "IP171HA"
          ],
          "received_time": "2021-04-05T05:16:00",
          "restored_time": "2021-04-05T11:17:04.507"
         },
         "INCD-229047-Z": {
          "description": "A fault occurred on a piece of our electrical equipment which controls the power to your home.",
          "estimated_restored_time": "2021-04-05T10:00:00",
          "incident_active": false,
          "incident_url": "https://www.ukpowernetworks.co.uk/power-cut/map?incidentid=INCD-229047-Z",
          "planned_time": null,
          "postcodes_impacted": [
           "RM124QU",
           "RM124QX"
          ],
          "received_time": "2021-04-05T06:01:00",
          "restored_time": "2021-04-05T08:06:07.937"
         },
         "INCD-229048-Z": {
          "description": "We were investigating a high voltage overhead electricity line fault which caused a power cut in the local area.",
          "estimated_restored_time": "2021-04-05T15:00:00",
          "incident_active": false,
          "incident_url": "https://www.ukpowernetworks.co.uk/power-cut/map?incidentid=INCD-229048-Z",
          "planned_time": null,
          "postcodes_impacted": [
           "HA96ET",
           "IP221AA",
           "IP221AB",
           "IP221AD",
           "IP221AE",
           "IP221AG",
           "IP221AH",
           "IP221AJ",
           "IP221AL",
           "IP221AN",
           "IP221AP",
           "IP221AQ",
           "IP221AR",
           "IP221AS",
           "IP221AU",
           "IP221AW",
           "IP221AX",
           "IP221AZ",
           "IP221BA",
           "IP221BE",
           "IP221BF",
           "IP221FB",
           "IP221FD",
           "IP221FJ",
           "IP221PF",
           "IP221PN",
           "IP221PP",
           "IP221PQ",
           "IP221PS",
           "IP221PT",
           "IP221PU",
           "IP221PW",
           "IP221RA",
           "IP221RB",
           "IP221RE",
           "IP221RF",
           "IP221RG",
           "IP221SH",
           "IP221SJ",
           "IP221SL",
           "IP221SN",
           "IP221SP",
           "IP221SR",
           "IP221SS",
           "IP221ST",
           "IP221SU",
           "IP221SW",
           "IP221SX",
           "IP221SY",
           "IP221TD",
           "IP221TH",
           "IP221TQ",
           "IP223BG",
           "IP224AW",
           "IP224BE",
           "IP224BG",
           "IP224LS",
           "IP256SY",
           "IP257EU",
           "IP257ND",
           "IP257TE",
           "PE339SR"
          ],
          "received_time": "2021-04-05T07:53:40",
          "restored_time": "2021-04-05T12:14:42.04"
         },
         "INCD-229049-Z": {
          "description": "A fault occurred on a piece of our electrical equipment which controls the power to your home.",
          "estimated_restored_time": "2021-04-05T15:00:00",
          "incident_active": false,
          "incident_url": "https://www.ukpowernetworks.co.uk/power-cut/map?incidentid=INCD-229049-Z",
          "planned_time": null,
          "postcodes_impacted": [
           "NR12GB",
           "NR12JT",
           "NR12PN",
           "NR12PW",
           "NR12PY",
           "NR12RN",
           "NR12RT",
           "NR12RU",
           "NR12RY",
           "NR12RZ",
           "NR12SA",
           "NR12SE",
           "NR46NE"
          ],
          "received_time": "2021-04-05T06:34:00",
          "restored_time": "2021-04-05T12:20:39.917"
         },
         "INCD-229051-Z": {
          "description": "A fault occurred on a high voltage overhead electricity line in the local area.",
          "estimated_restored_time": "2021-04-05T13:30:00",
          "incident_active": false,
          "incident_url": "https://www.ukpowernetworks.co.uk/power-cut/map?incidentid=INCD-229051-Z",
          "planned_time": null,
          "postcodes_impacted": [
           "NR",
           "NR294AB",
           "NR294AD",
           "NR294AH",
           "NR294AW",
           "NR294DH",
           "NR294DJ",
           "NR294DL",
           "NR294DN",
           "NR294DP",
           "NR294DR",
           "NR294DW",
           "NR294DY",
           "NR294DZ",
           "NR294EA",
           "NR294EB",
           "NR294EE",
           "NR294EF",
           "NR294EG",
           "NR294EL",
           "NR294FB",
           "NR294FG",
           "NR294GA",
           "NR294NZ",
           "NR294PB",
           "NR294PD",
           "NR294PE",
           "NR294PF",
           "NR294PG",
           "NR294PJ",
           "NR294PL",
           "NR294PN",
           "NR294PQ",
           "NR294PR",
           "NR294PT",
           "NR294PU",
           "NR294PX",
           "NR294PY",
           "NR294PZ",
           "NR294QA",
           "NR294QB",
           "NR294QD",
           "NR294QE",
           "NR294QF",
           "NR294QG",
           "NR294UA",
           "NR294UB",
           "NR294UD",
           "NR294UE",
           "NR294UF",
           "NR294UP",
           "NR294UR",
           "NR295",
           "NR295AB",
           "NR295AZ",
           "NR295BN",
           "NR295BQ",
           "NR319JW"
          ],
          "received_time": "2021-04-05T06:46:00",
          "restored_time": "2021-04-05T11:57:04.227"
         },
         "INCD-229052-Z": {
          "description": "We were investigating an overhead electricity line fault which caused a power cut in the local area.",
          "estimated_restored_time": "2021-04-05T14:00:00",
          "incident_active": false,
          "incident_url": "https://www.ukpowernetworks.co.uk/power-cut/map?incidentid=INCD-229052-Z",
          "planned_time": null,
          "postcodes_impacted": [
           "NR347NF",
           "NR347NH"
          ],
          "received_time": "2021-04-05T06:55:00",
          "restored_time": "2021-04-05T14:04:10.663"
         },
         "INCD-229056-Z": {
          "description": "A fault occurred on a piece of our electrical equipment which controls the power to your home.",
          "estimated_restored_time": null,
          "incident_active": false,
          "incident_url": "https://www.ukpowernetworks.co.uk/power-cut/map?incidentid=INCD-229056-Z",
          "planned_time": null,
          "postcodes_impacted": [
           "IP173QS",
           "IP173QT"
          ],
          "received_time": "2021-04-05T07:43:00",
          "restored_time": "2021-04-05T08:56:18.137"
         },
         "INCD-229057-Z": {
          "description": "A fault occurred on an underground electricity cable affecting the local area.",
          "estimated_restored_time": "2021-04-05T14:00:00",
          "incident_active": false,
          "incident_url": "https://www.ukpowernetworks.co.uk/power-cut/map?incidentid=INCD-229057-Z",
          "planned_time": null,
          "postcodes_impacted": [
           "PE159AD",
           "PE159AE",
           "PE159AG",
           "PE159AU",
           "PE159AY",
           "PE159BQ"
          ],
          "received_time": "2021-04-05T08:54:00",
          "restored_time": "2021-04-05T14:17:15.037"
         },
         "INCD-229059-Z": {
          "description": "A fault occurred on a piece of our electrical equipment which controls the power to your home.",
          "estimated_restored_time": null,
          "incident_active": false,
          "incident_url": "https://www.ukpowernetworks.co.uk/power-cut/map?incidentid=INCD-229059-Z",
          "planned_time": null,
          "postcodes_impacted": [
           "RM41PA",
           "RM41PL",
           "RM41PP",
           "RM41PR",
           "RM41PS",
           "RM41QR",
           "RM41QS"
          ],
          "received_time": "2021-04-05T09:02:57",
          "restored_time": "2021-04-05T10:17:17.817"
         },
         "INCD-229071-Z": {
          "description": "An underground electricity cable faulted on our high voltage network, causing an area wide power cut.",
          "estimated_restored_time": "2021-04-05T12:00:00",
          "incident_active": false,
          "incident_url": "https://www.ukpowernetworks.co.uk/power-cut/map?incidentid=INCD-229071-Z",
          "planned_time": null,
          "postcodes_impacted": [
           "IP295LT",
           "IP295NY",
           "IP295NZ",
           "IP295PU",
           "IP332BL",
           "IP332BN",
           "IP332BT",
           "IP332BU",
           "IP332BW",
           "IP332BX",
           "IP332DA",
           "IP332DB",
           "IP332DD",
           "IP332DT",
           "IP332JZ",
           "IP332LE",
           "IP332NB",
           "IP332NN",
           "IP332NP",
           "IP332NR",
           "IP332NS",
           "IP332NT",
           "IP332NU",
           "IP332NW",
           "IP332NX",
           "IP332NY",
           "IP332NZ",
           "IP332PA",
           "IP332PB",
           "IP332PD",
           "IP332PE",
           "IP332PF",
           "IP332PG",
           "IP332PH",
           "IP332PJ",
           "IP332PL",
           "IP332PN",
           "IP332PP",
           "IP332PQ",
           "IP332PR",
           "IP332PS",
           "IP332PT",
           "IP332PU",
           "IP332PW",
           "IP332PX",
           "IP332PY",
           "IP332PZ",
           "IP332QA",
           "IP332QE",
           "IP332QF",
           "IP332QJ",
           "IP332QL",
           "IP332QS",
           "IP332QT",
           "IP332QU",
           "IP332QY",
           "IP332QZ",
           "IP332RD",
           "IP332RH",
           "IP332RN",
           "IP332TA",
           "IP332TB",
           "IP332TD",
           "IP332TE",
           "IP332TF",
           "IP332TG",
           "IP332TH",
           "IP332TN",
           "IP332TQ"
          ],
          "received_time": "2021-04-05T10:10:33",
          "restored_time": "2021-04-05T12:31:23.51"
         },
         "INCD-229089-Z": {
          "description": "A fault occurred on a piece of our electrical equipment which controls the power to your home.",
          "estimated_restored_time": "2021-04-05T14:30:00",
          "incident_active": false,
          "incident_url": "https://www.ukpowernetworks.co.uk/power-cut/map?incidentid=INCD-229089-Z",
          "planned_time": null,
          "postcodes_impacted": [
           "EN13ED",
           "EN13EF",
           "EN13EG",
           "EN26BN",
           "EN26LE"
          ],
          "received_time": "2021-04-05T11:39:00",
          "restored_time": "2021-04-05T12:37:46.1"
         },
         "INCD-229094-Z": {
          "description": "We were investigating a high voltage overhead electricity line fault which caused a power cut in the local area.",
          "estimated_restored_time": "2021-04-05T18:00:00",
          "incident_active": true,
          "incident_url": "https://www.ukpowernetworks.co.uk/power-cut/map?incidentid=INCD-229094-Z",
          "planned_time": null,
          "postcodes_impacted": [
           "NR189HF",
           "NR189HG",
           "NR94ED",
           "UK",
           "NR4",
           "NR93ND",
           "NR94AE",
           "NR94AF",
           "NR94AJ",
           "NR94BZ",
           "NR94EE",
           "NR94EJ",
           "NR94EP",
           "NR94ES",
           "NR94EW",
           "NR94GA",
           "NR94HA",
           "NR94HH",
           "NR94HL",
           "NR94HN",
           "NR94HR",
           "NR94HS",
           "NR94HT",
           "NR94HU",
           "NR94HW",
           "NR94HX",
           "NR94HY",
           "NR94HZ",
           "NR94JB",
           "NR94JD",
           "NR94JE",
           "NR94JF",
           "NR94JG",
           "NR94JH",
           "NR94JJ",
           "NR94JL",
           "NR94JN",
           "NR94JP",
           "NR94JS",
           "NR94JT",
           "NR94JU",
           "NR94JW",
           "NR94JX",
           "NR94JY",
           "NR94LA",
           "NR94LB",
           "NR94LF",
           "NR94LG",
           "NR94LH",
           "NR94LJ",
           "NR94LL",
           "NR94LN",
           "NR94LP",
           "NR94LQ",
           "NR94LR",
           "NR94LS",
           "NR94LT",
           "NR94LU",
           "NR94LW",
           "NR94LX",
           "NR94LY",
           "NR94LZ",
           "NR94NA",
           "NR94PX",
           "NR94PY",
           "NR94PZ"
          ],
          "received_time": "2021-04-05T12:39:39",
          "restored_time": null
         },
         "INCD-229103-Z": {
          "description": "A fault occurred on a piece of our electrical equipment which controls the power to your home.",
          "estimated_restored_time": "2021-04-05T17:30:00",
          "incident_active": false,
          "incident_url": "https://www.ukpowernetworks.co.uk/power-cut/map?incidentid=INCD-229103-Z",
          "planned_time": null,
          "postcodes_impacted": [
           "SG175AD",
           "SG175AE",
           "SG175AF",
           "SG175AU",
           "SG175JR",
           "SG175RA",
           "SG175SG"
          ],
          "received_time": "2021-04-05T13:50:00",
          "restored_time": "2021-04-05T16:05:47.263"
         },
         "INCD-229104-Z": {
          "description": "A fault occurred on a piece of our electrical equipment which controls the power to your home.",
          "estimated_restored_time": null,
          "incident_active": false,
          "incident_url": "https://www.ukpowernetworks.co.uk/power-cut/map?incidentid=INCD-229104-Z",
          "planned_time": null,
          "postcodes_impacted": [
           "HP41AB",
           "HP41AD",
           "HP41AP",
           "HP41AW",
           "HP41FD",
           "HP41FG",
           "HP43DA",
           "HP43DB",
           "HP43DD",
           "HP43DE",
           "HP43FQ",
           "HP43FW"
          ],
          "received_time": "2021-04-05T14:08:00",
          "restored_time": "2021-04-05T17:08:50.883"
         },
         "INCD-247525-G": {
          "description": "Due to a faulty piece of high voltage network equipment we had to turn off your power.",
          "estimated_restored_time": "2021-03-30T20:00:00",
          "incident_active": false,
          "incident_url": "https://www.ukpowernetworks.co.uk/power-cut/map?incidentid=INCD-247525-G",
          "planned_time": null,
          "postcodes_impacted": [
           "CT66AD",
           "KT14ER",
           "KT25GU",
           "KT25QR",
           "KT25QY",
           "KT25QZ",
           "KT25RA",
           "KT25RB",
           "RH163BD",
           "TW107BH",
           "TW107BS",
           "TW107BT",
           "TW107BU",
           "TW107BX",
           "TW107BY",
           "TW107BZ",
           "TW107EE",
           "TW107EF",
           "TW107EG",
           "TW107EH",
           "TW107EJ",
           "TW107EL",
           "TW107EQ",
           "TW107EW",
           "TW107HA",
           "TW107HD",
           "TW107HE",
           "TW107HF",
           "TW107HG",
           "TW107HJ",
           "TW107HL",
           "TW107HQ",
           "TW107HS",
           "TW107JE",
           "TW107JJ",
           "TW107JN",
           "TW107JS",
           "TW107JT",
           "TW107JU",
           "TW107LR",
           "TW107LS",
           "TW107LT",
           "TW107LU",
           "TW107NB",
           "TW107NG",
           "TW107NH",
           "TW107NJ",
           "TW107NL",
           "TW107NN",
           "TW107NQ",
           "TW107NR",
           "TW107NS",
           "TW107NT",
           "TW107NU",
           "TW107NW",
           "TW107NX",
           "TW107NY",
           "TW107PA",
           "TW107PB",
           "TW107PD",
           "TW107PE",
           "TW107PW",
           "TW107QA",
           "TW107QB",
           "TW107QD",
           "TW107QE",
           "TW107QF",
           "TW107QG",
           "TW107QH",
           "TW107QN",
           "TW107QP",
           "TW107QR",
           "TW107QS",
           "TW107QT",
           "TW107QU",
           "TW107QW",
           "TW107QX",
           "TW107QY",
           "TW107RP",
           "TW107RS",
           "TW107RT",
           "TW107RY",
           "TW107RZ",
           "TW107SA",
           "TW107SB",
           "TW107SD",
           "TW107SE",
           "TW107SF",
           "TW107SG",
           "TW107SH",
           "TW107SJ",
           "TW107SL",
           "TW107SN",
           "TW107SP",
           "TW107SQ",
           "TW107SW",
           "TW107TS",
           "TW107TT",
           "TW107TU",
           "TW107TX",
           "TW107TY",
           "TW107TZ",
           "TW107UA",
           "TW107UB",
           "TW107UD",
           "TW107UE",
           "TW107UF",
           "TW107UG",
           "TW107UH",
           "TW107UJ",
           "TW107UL",
           "TW107UN",
           "TW107UQ",
           "TW107UR",
           "TW107UT",
           "TW107UU",
           "TW107UW",
           "TW107XU",
           "TW107XX",
           "TW107XY",
           "TW107YA",
           "TW107YB",
           "TW107YJ",
           "TW14PA",
           "TW14PB",
           "TW14PD",
           "TW14PE",
           "TW14PG",
           "TW14PH",
           "TW14PJ",
           "TW14PL",
           "TW14PP",
           "TW14PQ",
           "TW14PR",
           "TW14PS",
           "TW14PT",
           "TW14PU",
           "TW14PW",
           "TW14QA",
           "TW14QB",
           "TW14QD",
           "TW14QG",
           "TW14RB",
           "TW14RG",
           "TW14RL",
           "TW14RT",
           "TW14RU",
           "TW14RX",
           "TW14SB",
           "TW14SD",
           "TW14ST",
           "TW14SU",
           "TW25RR",
           "TW25RX",
           "TW25SA",
           "TW25SD",
           "TW25SE",
           "TW25SF",
           "TW25SG",
           "TW25SH",
           "TW25SJ",
           "TW25SL",
           "TW25SQ",
           "TW25TE",
           "TW25TF",
           "TW25TL",
           "TW25TZ",
           "TW25UA",
           "TW94QA"
          ],
          "received_time": "2021-03-30T16:56:22",
          "restored_time": "2021-04-05T10:09:09.493"
         },
         "INCD-247620-G": {
          "description": "An underground electricity cable faulted on our high voltage network, causing an area wide power cut.",
          "estimated_restored_time": "2021-04-02T07:00:00",
          "incident_active": false,
          "incident_url": "https://www.ukpowernetworks.co.uk/power-cut/map?incidentid=INCD-247620-G",
          "planned_time": null,
          "postcodes_impacted": [
           "KT168DE",
           "KT171TH",
           "KT187LZ",
           "KT198AA",
           "KT198EJ",
           "KT198EX",
           "KT198EY",
           "KT198EZ",
           "KT198HA",
           "KT198HB",
           "KT198HF",
           "KT198HG",
           "KT198HH",
           "KT198HL",
           "KT198HN",
           "KT198HP",
           "KT198HW",
           "KT198JU",
           "KT198JX",
           "KT198PZ",
           "KT198QN",
           "KT198QT",
           "KT198QU",
           "KT198QY",
           "KT198QZ",
           "KT198RA",
           "KT198RD",
           "KT198RE",
           "KT198RG",
           "KT198RH",
           "KT198RJ",
           "KT198RN",
           "KT198RT",
           "KT198RW",
           "KT198RY",
           "KT198SA",
           "KT198SB",
           "KT198SD",
           "KT198SF",
           "KT198SG",
           "KT198SH",
           "KT198SJ",
           "KT198SL",
           "KT198SN",
           "KT198SS",
           "KT198ST",
           "KT198SW",
           "KT198SY",
           "KT198TB",
           "KT198TD",
           "KT198TE",
           "KT198TH",
           "KT198TL",
           "KT198TN",
           "KT198TP",
           "KT198TR",
           "KT198TT",
           "KT198TU",
           "KT198TX",
           "KT198TY",
           "KT198TZ",
           "KT198UA",
           "KT198UB",
           "KT198UD",
           "KT199AA",
           "KT199AB",
           "KT199AD",
           "KT199AN",
           "KT199AP",
           "KT199BB",
           "KT199BE",
           "KT199BW",
           "KT199DA",
           "KT199DB",
           "KT199DD",
           "KT199DE",
           "KT199DF",
           "KT199DG",
           "KT199DJ",
           "KT199DP",
           "KT199DR",
           "KT199DS",
           "KT199DT",
           "KT199DU",
           "KT199DW",
           "KT199QG",
           "KT199QQ",
           "KT199RR",
           "KT199RX",
           "KT199XS",
           "ME651LB"
          ],
          "received_time": "2021-04-02T00:58:30",
          "restored_time": "2021-04-05T10:10:06.73"
         },
         "INCD-247687-G": {
          "description": "A fault occurred on a piece of our electrical equipment which controls the power to your home.",
          "estimated_restored_time": "2021-04-04T01:00:00",
          "incident_active": false,
          "incident_url": "https://www.ukpowernetworks.co.uk/power-cut/map?incidentid=INCD-247687-G",
          "planned_time": null,
          "postcodes_impacted": [
           "CT170ES",
           "CT170ET",
           "CT170EX",
           "CT170FP",
           "CT170FZ",
           "CT170UP"
          ],
          "received_time": "2021-04-03T21:10:31",
          "restored_time": "2021-04-05T16:12:59.133"
         },
         "INCD-247691-G": {
          "description": "We had to turn off power in your area so our engineers could safely carry out emergency repairs to the network.",
          "estimated_restored_time": null,
          "incident_active": true,
          "incident_url": "https://www.ukpowernetworks.co.uk/power-cut/map?incidentid=INCD-247691-G",
          "planned_time": null,
          "postcodes_impacted": [
           "BN11YE",
           "UMS",
           "BN11UA",
           "BN11YA",
           "BN14AB",
           "BN14AD",
           "BN14AE",
           "BN14AF",
           "BN14AG"
          ],
          "received_time": "2021-04-04T02:05:00",
          "restored_time": null
         },
         "INCD-247709-G": {
          "description": "A fault occurred on a piece of our electrical equipment which controls the power to your home.",
          "estimated_restored_time": "2021-04-05T15:00:00",
          "incident_active": false,
          "incident_url": "https://www.ukpowernetworks.co.uk/power-cut/map?incidentid=INCD-247709-G",
          "planned_time": null,
          "postcodes_impacted": [
           "TN156XN"
          ],
          "received_time": "2021-04-04T22:58:48",
          "restored_time": "2021-04-05T11:03:21.923"
         },
         "INCD-247710-G": {
          "description": "A fault occurred on a piece of our electrical equipment which controls the power to your home.",
          "estimated_restored_time": null,
          "incident_active": false,
          "incident_url": "https://www.ukpowernetworks.co.uk/power-cut/map?incidentid=INCD-247710-G",
          "planned_time": null,
          "postcodes_impacted": [
           "ME139LH"
          ],
          "received_time": "2021-04-04T23:25:00",
          "restored_time": "2021-04-05T09:24:43.087"
         },
         "INCD-247713-G": {
          "description": "A fault occurred on an underground electricity cable affecting the local area.",
          "estimated_restored_time": "2021-04-05T14:00:00",
          "incident_active": false,
          "incident_url": "https://www.ukpowernetworks.co.uk/power-cut/map?incidentid=INCD-247713-G",
          "planned_time": null,
          "postcodes_impacted": [
           "ME88DR",
           "ME88DS",
           "ME88SR"
          ],
          "received_time": "2021-04-05T00:39:00",
          "restored_time": "2021-04-05T14:21:28.667"
         },
         "INCD-247718-G": {
          "description": "A fault occurred on an underground electricity cable affecting the local area.",
          "estimated_restored_time": "2021-04-05T18:00:00",
          "incident_active": true,
          "incident_url": "https://www.ukpowernetworks.co.uk/power-cut/map?incidentid=INCD-247718-G",
          "planned_time": null,
          "postcodes_impacted": [
           "ME44AS",
           "ME44JG"
          ],
          "received_time": "2021-04-05T04:02:00",
          "restored_time": null
         },
         "INCD-247722-G": {
          "description": "A fault occurred on a piece of our electrical equipment which controls the power to your home.",
          "estimated_restored_time": "2021-04-05T18:00:00",
          "incident_active": false,
          "incident_url": "https://www.ukpowernetworks.co.uk/power-cut/map?incidentid=INCD-247722-G",
          "planned_time": null,
          "postcodes_impacted": [
           "BN124EY",
           "BN124EZ",
           "BN124PJ",
           "BN124PL",
           "BN124PN",
           "BN124RS",
           "BN124SE",
           "BN124SG"
          ],
          "received_time": "2021-04-05T13:49:00",
          "restored_time": "2021-04-05T15:17:15.663"
         },
         "INCD-259202-J": {
          "description": "We were investigating an electricity cable that was damaged, causing a power cut in the local area.",
          "estimated_restored_time": null,
          "incident_active": true,
          "incident_url": "https://www.ukpowernetworks.co.uk/power-cut/map?incidentid=INCD-259202-J",
          "planned_time": null,
          "postcodes_impacted": [
           "W1M1HE",
           "W1M1DH",
           "W1M1HB",
           "W1M1HJ",
           "W1U5AH",
           "W1U6QJ",
           "W1U6QL",
           "W1U7AJ",
           "W1U7AL",
           "W1U7BY",
           "W1U7JA",
           "W1U7JF",
           "W1U7NE",
           "W1U7NF",
           "W1U7NN",
           "W1U7NP",
           "W1U7NR",
           "W1U7NS",
           "W1U7NT",
           "W1U7NU",
           "W1U7NW",
           "W1U7NX",
           "W1U7NY",
           "W1U7NZ",
           "W1U7PB",
           "W1U7PD",
           "W1U7PE",
           "W1U7PF",
           "W1U7PG",
           "W1U7PJ",
           "W1U7PN",
           "W1U7PP",
           "W1U7PQ",
           "W1U7PW",
           "W1U7RT"
          ],
          "received_time": "2021-04-02T15:00:00",
          "restored_time": null
         },
         "INCD-259247-J": {
          "description": "Due to a faulty piece of underground network equipment we had to turn off your power.",
          "estimated_restored_time": null,
          "incident_active": false,
          "incident_url": "https://www.ukpowernetworks.co.uk/power-cut/map?incidentid=INCD-259247-J",
          "planned_time": null,
          "postcodes_impacted": [
           "E126AD",
           "E126AP",
           "E126AS",
           "E126AU",
           "E126AX",
           "E126AZ",
           "E126BB",
           "E126BF"
          ],
          "received_time": "2021-04-01T18:18:00",
          "restored_time": "2021-04-05T09:39:40.29"
         },
         "INCD-259361-J": {
          "description": "A fault occurred on an underground electricity cable affecting the local area.",
          "estimated_restored_time": "2021-04-05T21:00:00",
          "incident_active": true,
          "incident_url": "https://www.ukpowernetworks.co.uk/power-cut/map?incidentid=INCD-259361-J",
          "planned_time": null,
          "postcodes_impacted": [
           "NW10RE",
           "NW19RE",
           "NW19SG",
           "NW19SH",
           "NW10RG",
           "NW19QN",
           "NW19RH",
           "NW19RL",
           "NW19RN",
           "NW19SB",
           "NW19SL",
           "NW19SX",
           "NW19SY",
           "NW19UG",
           "NW19XA",
           "NW19XB",
           "NW19XG",
           "NW19XT"
          ],
          "received_time": "2021-04-05T11:52:00",
          "restored_time": null
         },
         "INCD-259364-J": {
          "description": "A fault occurred on an underground electricity cable affecting the local area.",
          "estimated_restored_time": "2021-04-05T20:00:00",
          "incident_active": true,
          "incident_url": "https://www.ukpowernetworks.co.uk/power-cut/map?incidentid=INCD-259364-J",
          "planned_time": null,
          "postcodes_impacted": [
           "N51XG",
           "N51PR",
           "N51PS",
           "N51PT",
           "N51XR"
          ],
          "received_time": "2021-04-05T13:48:00",
          "restored_time": null
         },
         "INCD-259369-J": {
          "description": "A fault occurred on a piece of our electrical equipment which controls the power to your home.",
          "estimated_restored_time": "2021-04-05T18:30:00",
          "incident_active": false,
          "incident_url": "https://www.ukpowernetworks.co.uk/power-cut/map?incidentid=INCD-259369-J",
          "planned_time": null,
          "postcodes_impacted": [
           "W106TU",
           "W106TX",
           "W106UB",
           "W106UD",
           "W106UH",
           "W106UJ",
           "W1P1LN",
           "W1T4ED"
          ],
          "received_time": "2021-04-05T15:10:00",
          "restored_time": "2021-04-05T17:14:47.557"
         },
         "INCD-316946-U": {
          "description": "An underground electricity cable faulted on our high voltage network, causing an area wide power cut.",
          "estimated_restored_time": "2021-03-25T13:30:00",
          "incident_active": false,
          "incident_url": "https://www.ukpowernetworks.co.uk/power-cut/map?incidentid=INCD-316946-U",
          "planned_time": null,
          "postcodes_impacted": [
           "ME144RD",
           "RH104US",
           "TN118AL",
           "TN118AP",
           "TN118AR",
           "TN118AS",
           "TN235ES",
           "TN30BD",
           "TN30JG",
           "TN30JP",
           "TN30JR",
           "TN30JU",
           "TN30JW",
           "TN30JX",
           "TN30JY",
           "TN30NR",
           "TN30PH",
           "TN30RA",
           "TN30RB",
           "TN30RH",
           "TN39JH",
           "TN39LY",
           "TN39LZ",
           "TN39NA",
           "TN39SR",
           "TN39TD",
           "TN39TE",
           "TN39TL"
          ],
          "received_time": "2021-03-25T08:39:30",
          "restored_time": "2021-04-05T10:43:59.543"
         },
         "INCD-317009-U": {
          "description": "We were investigating an electricity cable that was damaged, causing a power cut in the local area.",
          "estimated_restored_time": "2021-04-02T15:30:00",
          "incident_active": false,
          "incident_url": "https://www.ukpowernetworks.co.uk/power-cut/map?incidentid=INCD-317009-U",
          "planned_time": null,
          "postcodes_impacted": [
           "TN240HY",
           "TN240NS",
           "TN240NY",
           "TN240NZ",
           "TN240QU",
           "TN240QX",
           "TN240QY",
           "TN240ST",
           "TN240TD",
           "TN240TH"
          ],
          "received_time": "2021-04-01T15:43:00",
          "restored_time": "2021-04-05T10:13:25.197"
         },
         "INCD-43643-C": {
          "description": "A fault occurred on an underground electricity cable affecting the local area.",
          "estimated_restored_time": null,
          "incident_active": false,
          "incident_url": "https://www.ukpowernetworks.co.uk/power-cut/map?incidentid=INCD-43643-C",
          "planned_time": null,
          "postcodes_impacted": [
           "WD22HL",
           "WD232BA",
           "WD232BB",
           "WD232DH",
           "WD232DQ"
          ],
          "received_time": "2021-03-27T13:27:00",
          "restored_time": "2021-04-05T18:25:59.117"
         },
         "INCD-43889-C": {
          "description": "We had to turn off power in your area so our engineers could safely carry out emergency repairs to the network.",
          "estimated_restored_time": null,
          "incident_active": true,
          "incident_url": "https://www.ukpowernetworks.co.uk/power-cut/map?incidentid=INCD-43889-C",
          "planned_time": null,
          "postcodes_impacted": [
           "CO45JL",
           "CO45JN",
           "CO45JT"
          ],
          "received_time": "2021-04-05T16:39:00",
          "restored_time": null
         },
         "INCD-43890-C": {
          "description": "A fault occurred on an underground electricity cable affecting the local area.",
          "estimated_restored_time": null,
          "incident_active": true,
          "incident_url": "https://www.ukpowernetworks.co.uk/power-cut/map?incidentid=INCD-43890-C",
          "planned_time": null,
          "postcodes_impacted": [
           "EN13ED",
           "EN13EF",
           "EN13EG",
           "EN26BN",
           "EN26LE"
          ],
          "received_time": "2021-04-05T12:48:40",
          "restored_time": null
         },
         "INCD-43891-C": {
          "description": "We were investigating an overhead electricity line fault which caused a power cut in the local area.",
          "estimated_restored_time": "2021-04-05T15:00:00",
          "incident_active": false,
          "incident_url": "https://www.ukpowernetworks.co.uk/power-cut/map?incidentid=INCD-43891-C",
          "planned_time": null,
          "postcodes_impacted": [
           "IP173QS",
           "IP173QT"
          ],
          "received_time": "2021-04-05T14:01:00",
          "restored_time": "2021-04-05T15:18:14.073"
         },
         "INCD-43892-C": {
          "description": "A fault occurred on a piece of our electrical equipment which controls the power to your home.",
          "estimated_restored_time": "2021-04-05T18:30:00",
          "incident_active": false,
          "incident_url": "https://www.ukpowernetworks.co.uk/power-cut/map?incidentid=INCD-43892-C",
          "planned_time": null,
          "postcodes_impacted": [
           "CM26HX",
           "CM26HZ",
           "CM26JE",
           "CM26JG",
           "CM26JY"
          ],
          "received_time": "2021-04-05T15:25:00",
          "restored_time": "2021-04-05T16:52:43.677"
         },
         "INCD-53443-V": {
          "description": "A fault occurred on an underground electricity cable affecting the local area.",
          "estimated_restored_time": "2021-03-29T21:00:00",
          "incident_active": false,
          "incident_url": "https://www.ukpowernetworks.co.uk/power-cut/map?incidentid=INCD-53443-V",
          "planned_time": null,
          "postcodes_impacted": [
           "ME71AU",
           "ME71AX",
           "ME71BJ",
           "ME71BL",
           "ME71BN",
           "ME71BS",
           "ME71BW",
           "ME71BZ",
           "ME71DD",
           "ME71DE",
           "ME71DG",
           "ME71DW",
           "ME71DY",
           "ME71EB",
           "ME71EZ",
           "ME71HD",
           "ME75EW",
           "ME75TP",
           "ME75TX"
          ],
          "received_time": "2021-03-29T09:23:00",
          "restored_time": "2021-04-05T10:17:39.397"
         },
         "INCD-53654-V": {
          "description": "A fault occurred on an underground electricity cable affecting the local area.",
          "estimated_restored_time": null,
          "incident_active": false,
          "incident_url": "https://www.ukpowernetworks.co.uk/power-cut/map?incidentid=INCD-53654-V",
          "planned_time": null,
          "postcodes_impacted": [
           "CT170ES",
           "CT170ET",
           "CT170EX",
           "CT170EY",
           "CT170EZ",
           "CT170HA",
           "CT170HB",
           "CT170HE",
           "CT170HF",
           "CT170HG",
           "CT170HQ",
           "CT170JA"
          ],
          "received_time": "2021-03-31T17:16:00",
          "restored_time": "2021-04-05T10:17:54.523"
         },
         "INCD-53771-V": {
          "description": "A fault occurred on an underground electricity cable affecting the local area.",
          "estimated_restored_time": null,
          "incident_active": false,
          "incident_url": "https://www.ukpowernetworks.co.uk/power-cut/map?incidentid=INCD-53771-V",
          "planned_time": null,
          "postcodes_impacted": [
           "CT93AT",
           "CT93AU",
           "CT93AX",
           "CT93AY",
           "CT93AZ",
           "CT93BB",
           "CT93BJ",
           "CT93BL",
           "CT93BN",
           "CT93BP",
           "CT93BT",
           "CT93BU",
           "CT93BW",
           "CT93BX",
           "CT93BZ",
           "CT93DA",
           "CT93LX",
           "CT93LY",
           "CT93LZ",
           "CT93NA",
           "CT93PB",
           "CT93PD",
           "CT93PE",
           "CT93PF",
           "CT93PG",
           "CT93PH",
           "CT93PQ"
          ],
          "received_time": "2021-04-02T14:35:00",
          "restored_time": "2021-04-05T10:20:04.663"
         },
         "INCD-53827-V": {
          "description": "A fault occurred on a piece of our electrical equipment which controls the power to your home.",
          "estimated_restored_time": "2021-04-05T12:00:00",
          "incident_active": false,
          "incident_url": "https://www.ukpowernetworks.co.uk/power-cut/map?incidentid=INCD-53827-V",
          "planned_time": null,
          "postcodes_impacted": [
           "TN172JU",
           "TN172JX",
           "TN172JZ"
          ],
          "received_time": "2021-04-05T06:49:00",
          "restored_time": "2021-04-05T11:41:58.903"
         },
         "INCD-53828-V": {
          "description": "A fault occurred on a piece of our electrical equipment which controls the power to your home.",
          "estimated_restored_time": "2021-04-05T12:00:00",
          "incident_active": false,
          "incident_url": "https://www.ukpowernetworks.co.uk/power-cut/map?incidentid=INCD-53828-V",
          "planned_time": null,
          "postcodes_impacted": [
           "TN163DA",
           "TN163DB",
           "TN163DD",
           "TN163DF",
           "TN163DG",
           "TN163DN",
           "TN163DP",
           "TN163DW",
           "TN163XR",
           "TN163XS",
           "TN163XT"
          ],
          "received_time": "2021-04-05T07:31:00",
          "restored_time": "2021-04-05T08:34:13.69"
         },
         "INCD-53830-V": {
          "description": "A fault occurred on a piece of our electrical equipment which controls the power to your home.",
          "estimated_restored_time": null,
          "incident_active": false,
          "incident_url": "https://www.ukpowernetworks.co.uk/power-cut/map?incidentid=INCD-53830-V",
          "planned_time": null,
          "postcodes_impacted": [
           "TN197DP",
           "TN197DR"
          ],
          "received_time": "2021-04-05T08:49:00",
          "restored_time": "2021-04-05T10:44:51.547"
         },
         "INCD-53835-V": {
          "description": "A fault occurred on an underground electricity cable affecting the local area.",
          "estimated_restored_time": null,
          "incident_active": false,
          "incident_url": "https://www.ukpowernetworks.co.uk/power-cut/map?incidentid=INCD-53835-V",
          "planned_time": null,
          "postcodes_impacted": [
           "BN21DJ",
           "BN21EF",
           "BN21EH",
           "BN21EJ",
           "BN21EL",
           "BN21EP",
           "BN21ER",
           "BN21FA",
           "BN21FU"
          ],
          "received_time": "2021-04-05T10:55:00",
          "restored_time": "2021-04-05T17:33:10.003"
         },
         "INCD-53851-V": {
          "description": "A fault occurred on a piece of our electrical equipment which controls the power to your home.",
          "estimated_restored_time": "2021-04-05T22:30:00",
          "incident_active": true,
          "incident_url": "https://www.ukpowernetworks.co.uk/power-cut/map?incidentid=INCD-53851-V",
          "planned_time": null,
          "postcodes_impacted": [
           "RH117NN",
           "RH117NP",
           "RH117NT",
           "RH117NW",
           "RH117RX"
          ],
          "received_time": "2021-04-05T18:13:42",
          "restored_time": null
         },
         "INCD-8407-L": {
          "description": "A fault occurred on a piece of our electrical equipment which controls the power to your home.",
          "estimated_restored_time": null,
          "incident_active": false,
          "incident_url": "https://www.ukpowernetworks.co.uk/power-cut/map?incidentid=INCD-8407-L",
          "planned_time": null,
          "postcodes_impacted": [
           "IG110NZ",
           "IG110QG"
          ],
          "received_time": "2021-04-05T06:05:00",
          "restored_time": "2021-04-05T07:39:00.067"
         }
        },
        "wpd": {
         "INCD-125121-B": {
          "description": "In Progress",
          "estimated_restored_time": "2021-04-05 17:30:00",
          "incident_active": true,
          "incident_url": "https://powercuts.westernpower.co.uk/incident/INCD-125121-B",
          "postcodes_impacted": [
           "EX14 9DQ",
           "EX14 9DG"
          ],
          "received_time": "2021-04-05 12:35:00"
         },
         "INCD-125125-B": {
          "description": "In Progress",
          "estimated_restored_time": "2021-04-05 19:00:00",
          "incident_active": true,
          "incident_url": "https://powercuts.westernpower.co.uk/incident/INCD-125125-B",
          "postcodes_impacted": [
           "TA21 8AU"
          ],
          "received_time": "2021-04-05 13:05:00"
         },
         "INCD-125132-B": {
          "description": "In Progress",
          "estimated_restored_time": "2021-04-05 20:00:00",
          "incident_active": true,
          "incident_url": "https://powercuts.westernpower.co.uk/incident/INCD-125132-B",
          "postcodes_impacted": [
           "BS23 2UB",
           "BS23 2UE",
           "BS23 2UD"
          ],
          "received_time": "2021-04-05 14:56:00"
         },
         "INCD-125145-B": {
          "description": "In Progress",
          "estimated_restored_time": "2021-04-05 23:00:00",
          "incident_active": true,
          "incident_url": "https://powercuts.westernpower.co.uk/incident/INCD-125145-B",
          "postcodes_impacted": [
           "TR2 5ET",
           "TR2 5EY",
           "TR2 5EZ",
           "TR2 5EX",
           "TR2 5EF",
           "TR2 5HA",
           "TR2 5EU",
           "TR2 5EN",
           "TR2 5EE"
          ],
          "received_time": "2021-04-05 16:55:00"
         },
         "INCD-151800-H": {
          "description": "In Progress",
          "estimated_restored_time": "2021-04-05 19:30:00",
          "incident_active": true,
          "incident_url": "https://powercuts.westernpower.co.uk/incident/INCD-151800-H",
          "postcodes_impacted": [
           "DE11 8LA",
           "DE11 0BW",
           "DE11 0AS",
           "DE11 8GG",
           "DE11 0AN",
           "DE11 0AE",
           "DE11 8JU"
          ],
          "received_time": "2021-04-05 07:52:00"
         },
         "INCD-151823-H": {
          "description": "In Progress",
          "estimated_restored_time": "2021-04-05 19:30:00",
          "incident_active": true,
          "incident_url": "https://powercuts.westernpower.co.uk/incident/INCD-151823-H",
          "postcodes_impacted": [
           "DE22 2DB",
           "DE22 2DA",
           "DE22 2BX"
          ],
          "received_time": "2021-04-05 16:05:00"
         },
         "INCD-357153-G": {
          "description": "In Progress",
          "estimated_restored_time": "2021-04-05 20:00:00",
          "incident_active": true,
          "incident_url": "https://powercuts.westernpower.co.uk/incident/INCD-357153-G",
          "postcodes_impacted": [
           "GL15 6PB",
           "GL15 6PS"
          ],
          "received_time": "2021-04-05 14:08:00"
         }
        }
       }
      ],
      "text/plain": [
       "<IPython.core.display.JSON object>"
      ]
     },
     "execution_count": 4,
     "metadata": {
      "application/json": {
       "expanded": false,
       "root": "root"
      }
     },
     "output_type": "execute_result"
    }
   ],
   "source": [
    "cleaned_incidents_info = collate_cleaned_incidents_info()\n",
    "\n",
    "JSON([cleaned_incidents_info])"
   ]
  },
  {
   "cell_type": "code",
   "execution_count": null,
   "id": "stainless-property",
   "metadata": {},
   "outputs": [],
   "source": []
  },
  {
   "cell_type": "code",
   "execution_count": 52,
   "id": "chinese-package",
   "metadata": {},
   "outputs": [],
   "source": [
    "#exports\n",
    "def get_combined_outages_df(cleaned_incidents_info):\n",
    "    df_outages = pd.DataFrame()\n",
    "\n",
    "    for dno, dno_outages in cleaned_incidents_info.items():\n",
    "        df_dno_outages = pd.DataFrame(dno_outages).T.query('incident_active==True')\n",
    "\n",
    "        df_dno_outages['dno'] = dno\n",
    "        df_dno_outages = df_dno_outages[['received_time', 'estimated_restored_time', 'postcodes_impacted', 'description', 'dno', 'incident_url']]\n",
    "\n",
    "        df_dno_outages.index.name = 'incident_id'\n",
    "        df_dno_outages = df_dno_outages.reset_index()\n",
    "\n",
    "        df_outages = df_outages.append(df_dno_outages)\n",
    "\n",
    "    df_outages = df_outages.reset_index(drop=True)\n",
    "    \n",
    "    return df_outages"
   ]
  },
  {
   "cell_type": "code",
   "execution_count": 54,
   "id": "formed-cylinder",
   "metadata": {},
   "outputs": [
    {
     "data": {
      "text/html": [
       "<div>\n",
       "<style scoped>\n",
       "    .dataframe tbody tr th:only-of-type {\n",
       "        vertical-align: middle;\n",
       "    }\n",
       "\n",
       "    .dataframe tbody tr th {\n",
       "        vertical-align: top;\n",
       "    }\n",
       "\n",
       "    .dataframe thead th {\n",
       "        text-align: right;\n",
       "    }\n",
       "</style>\n",
       "<table border=\"1\" class=\"dataframe\">\n",
       "  <thead>\n",
       "    <tr style=\"text-align: right;\">\n",
       "      <th></th>\n",
       "      <th>incident_id</th>\n",
       "      <th>received_time</th>\n",
       "      <th>estimated_restored_time</th>\n",
       "      <th>postcodes_impacted</th>\n",
       "      <th>description</th>\n",
       "      <th>dno</th>\n",
       "      <th>incident_url</th>\n",
       "    </tr>\n",
       "  </thead>\n",
       "  <tbody>\n",
       "    <tr>\n",
       "      <th>0</th>\n",
       "      <td>INCD-259361-J</td>\n",
       "      <td>2021-04-05T11:52:00</td>\n",
       "      <td>2021-04-05T21:00:00</td>\n",
       "      <td>[NW10RE, NW19RE, NW19SG, NW19SH, NW10RG, NW19Q...</td>\n",
       "      <td>A fault occurred on an underground electricity...</td>\n",
       "      <td>ukpn</td>\n",
       "      <td>https://www.ukpowernetworks.co.uk/power-cut/ma...</td>\n",
       "    </tr>\n",
       "    <tr>\n",
       "      <th>1</th>\n",
       "      <td>INCD-259364-J</td>\n",
       "      <td>2021-04-05T13:48:00</td>\n",
       "      <td>2021-04-05T20:00:00</td>\n",
       "      <td>[N51XG, N51PR, N51PS, N51PT, N51XR]</td>\n",
       "      <td>A fault occurred on an underground electricity...</td>\n",
       "      <td>ukpn</td>\n",
       "      <td>https://www.ukpowernetworks.co.uk/power-cut/ma...</td>\n",
       "    </tr>\n",
       "    <tr>\n",
       "      <th>2</th>\n",
       "      <td>INCD-247691-G</td>\n",
       "      <td>2021-04-04T02:05:00</td>\n",
       "      <td>None</td>\n",
       "      <td>[BN11YE, UMS, BN11UA, BN11YA, BN14AB, BN14AD, ...</td>\n",
       "      <td>We had to turn off power in your area so our e...</td>\n",
       "      <td>ukpn</td>\n",
       "      <td>https://www.ukpowernetworks.co.uk/power-cut/ma...</td>\n",
       "    </tr>\n",
       "  </tbody>\n",
       "</table>\n",
       "</div>"
      ],
      "text/plain": [
       "     incident_id        received_time estimated_restored_time  \\\n",
       "0  INCD-259361-J  2021-04-05T11:52:00     2021-04-05T21:00:00   \n",
       "1  INCD-259364-J  2021-04-05T13:48:00     2021-04-05T20:00:00   \n",
       "2  INCD-247691-G  2021-04-04T02:05:00                    None   \n",
       "\n",
       "                                  postcodes_impacted  \\\n",
       "0  [NW10RE, NW19RE, NW19SG, NW19SH, NW10RG, NW19Q...   \n",
       "1                [N51XG, N51PR, N51PS, N51PT, N51XR]   \n",
       "2  [BN11YE, UMS, BN11UA, BN11YA, BN14AB, BN14AD, ...   \n",
       "\n",
       "                                         description   dno  \\\n",
       "0  A fault occurred on an underground electricity...  ukpn   \n",
       "1  A fault occurred on an underground electricity...  ukpn   \n",
       "2  We had to turn off power in your area so our e...  ukpn   \n",
       "\n",
       "                                        incident_url  \n",
       "0  https://www.ukpowernetworks.co.uk/power-cut/ma...  \n",
       "1  https://www.ukpowernetworks.co.uk/power-cut/ma...  \n",
       "2  https://www.ukpowernetworks.co.uk/power-cut/ma...  "
      ]
     },
     "execution_count": 54,
     "metadata": {},
     "output_type": "execute_result"
    }
   ],
   "source": [
    "df_outages = get_combined_outages_df(cleaned_incidents_info)\n",
    "    \n",
    "df_outages.head(3)"
   ]
  },
  {
   "cell_type": "markdown",
   "id": "assisted-cassette",
   "metadata": {},
   "source": [
    "<br>\n",
    "\n",
    "### Locating Post Codes"
   ]
  },
  {
   "cell_type": "code",
   "execution_count": 10,
   "id": "casual-express",
   "metadata": {},
   "outputs": [
    {
     "name": "stdout",
     "output_type": "stream",
     "text": [
      "Wall time: 3.89 s\n"
     ]
    },
    {
     "data": {
      "text/html": [
       "<div>\n",
       "<style scoped>\n",
       "    .dataframe tbody tr th:only-of-type {\n",
       "        vertical-align: middle;\n",
       "    }\n",
       "\n",
       "    .dataframe tbody tr th {\n",
       "        vertical-align: top;\n",
       "    }\n",
       "\n",
       "    .dataframe thead th {\n",
       "        text-align: right;\n",
       "    }\n",
       "</style>\n",
       "<table border=\"1\" class=\"dataframe\">\n",
       "  <thead>\n",
       "    <tr style=\"text-align: right;\">\n",
       "      <th></th>\n",
       "      <th>longitude</th>\n",
       "      <th>latitude</th>\n",
       "    </tr>\n",
       "    <tr>\n",
       "      <th>postcode</th>\n",
       "      <th></th>\n",
       "      <th></th>\n",
       "    </tr>\n",
       "  </thead>\n",
       "  <tbody>\n",
       "    <tr>\n",
       "      <th>AB101AB</th>\n",
       "      <td>-2.096916</td>\n",
       "      <td>57.149606</td>\n",
       "    </tr>\n",
       "    <tr>\n",
       "      <th>AB101AF</th>\n",
       "      <td>-2.097806</td>\n",
       "      <td>57.148707</td>\n",
       "    </tr>\n",
       "    <tr>\n",
       "      <th>AB101AG</th>\n",
       "      <td>-2.096997</td>\n",
       "      <td>57.149067</td>\n",
       "    </tr>\n",
       "    <tr>\n",
       "      <th>AB101AH</th>\n",
       "      <td>-2.094664</td>\n",
       "      <td>57.148080</td>\n",
       "    </tr>\n",
       "    <tr>\n",
       "      <th>AB101AL</th>\n",
       "      <td>-2.095909</td>\n",
       "      <td>57.150074</td>\n",
       "    </tr>\n",
       "  </tbody>\n",
       "</table>\n",
       "</div>"
      ],
      "text/plain": [
       "          longitude   latitude\n",
       "postcode                      \n",
       "AB101AB   -2.096916  57.149606\n",
       "AB101AF   -2.097806  57.148707\n",
       "AB101AG   -2.096997  57.149067\n",
       "AB101AH   -2.094664  57.148080\n",
       "AB101AL   -2.095909  57.150074"
      ]
     },
     "execution_count": 10,
     "metadata": {},
     "output_type": "execute_result"
    }
   ],
   "source": [
    "%%time\n",
    "\n",
    "df_postcodes = pd.read_csv('../data/postcodes.csv', index_col='postcode')\n",
    "df_postcodes.index = df_postcodes.index.str.replace(' ', '')\n",
    "\n",
    "df_postcodes.head()"
   ]
  },
  {
   "cell_type": "markdown",
   "id": "macro-planet",
   "metadata": {},
   "source": [
    "<br>\n",
    "\n",
    "Although most are, some post-codes aren't included in our database"
   ]
  },
  {
   "cell_type": "code",
   "execution_count": 11,
   "id": "sized-track",
   "metadata": {},
   "outputs": [],
   "source": [
    "check_postcode_is_in_df = lambda postcode, df: postcode in df.index"
   ]
  },
  {
   "cell_type": "code",
   "execution_count": 12,
   "id": "civil-telling",
   "metadata": {},
   "outputs": [
    {
     "data": {
      "text/plain": [
       "(False, True)"
      ]
     },
     "execution_count": 12,
     "metadata": {},
     "output_type": "execute_result"
    }
   ],
   "source": [
    "(check_postcode_is_in_df('W1M1HE', df_postcodes), \n",
    " check_postcode_is_in_df('HP41FD', df_postcodes))"
   ]
  },
  {
   "cell_type": "code",
   "execution_count": null,
   "id": "stupid-netherlands",
   "metadata": {},
   "outputs": [],
   "source": []
  },
  {
   "cell_type": "code",
   "execution_count": 13,
   "id": "exempt-piece",
   "metadata": {},
   "outputs": [],
   "source": [
    "def get_postcode_location_df(df_postcodes, postcode):\n",
    "    postcode_is_in_df = check_postcode_is_in_df(postcode, df_postcodes)\n",
    "    \n",
    "    if postcode_is_in_df:\n",
    "        location = df_postcodes.loc[postcode]\n",
    "\n",
    "        longitude = location['longitude']\n",
    "        latitude = location['latitude']\n",
    "        \n",
    "    else:\n",
    "        longitude, latitude = None, None\n",
    "\n",
    "    return longitude, latitude"
   ]
  },
  {
   "cell_type": "code",
   "execution_count": 14,
   "id": "yellow-lebanon",
   "metadata": {},
   "outputs": [
    {
     "data": {
      "text/plain": [
       "(-0.5676534391043929, 51.76118688537669)"
      ]
     },
     "execution_count": 14,
     "metadata": {},
     "output_type": "execute_result"
    }
   ],
   "source": [
    "longitude, latitude = get_postcode_location_df(df_postcodes, 'HP41FD')\n",
    "\n",
    "longitude, latitude"
   ]
  },
  {
   "cell_type": "code",
   "execution_count": null,
   "id": "fundamental-immigration",
   "metadata": {},
   "outputs": [],
   "source": []
  },
  {
   "cell_type": "code",
   "execution_count": 15,
   "id": "demanding-japanese",
   "metadata": {},
   "outputs": [],
   "source": [
    "get_postcode_url = lambda postcode: f'http://api.getthedata.com/postcode/{postcode}'"
   ]
  },
  {
   "cell_type": "code",
   "execution_count": 16,
   "id": "bacterial-priority",
   "metadata": {},
   "outputs": [
    {
     "data": {
      "application/json": {
       "copyright": [
        "Contains OS data (c) Crown copyright and database right 2021",
        "Contains Royal Mail data (c) Royal Mail copyright and database right 2021",
        "Contains National Statistics data (c) Crown copyright and database right 2021"
       ],
       "data": {
        "country": "England",
        "easting": 528092,
        "incode": "1HE",
        "latitude": "51.519146",
        "longitude": "-0.155234",
        "northing": 181638,
        "outcode": "W1M",
        "positional_quality_indicator": 1,
        "postcode": "W1M 1HE",
        "postcode_area": "W",
        "postcode_district": "W1M",
        "postcode_fixed_width_eight": "W1M  1HE",
        "postcode_fixed_width_seven": "W1M 1HE",
        "postcode_no_space": "W1M1HE",
        "postcode_sector": "W1M 1",
        "status": "terminated",
        "usertype": "small"
       },
       "input": "W1M1HE",
       "match_type": "unit_postcode",
       "status": "match"
      },
      "text/plain": [
       "<IPython.core.display.JSON object>"
      ]
     },
     "execution_count": 16,
     "metadata": {
      "application/json": {
       "expanded": false,
       "root": "root"
      }
     },
     "output_type": "execute_result"
    }
   ],
   "source": [
    "postcode = 'W1M1HE'\n",
    "\n",
    "postcode_url = get_postcode_url(postcode)\n",
    "r_json = requests.get(postcode_url).json()\n",
    "\n",
    "JSON(r_json)"
   ]
  },
  {
   "cell_type": "code",
   "execution_count": null,
   "id": "complex-broadcast",
   "metadata": {},
   "outputs": [],
   "source": []
  },
  {
   "cell_type": "code",
   "execution_count": 30,
   "id": "terminal-alberta",
   "metadata": {},
   "outputs": [],
   "source": [
    "def get_postcode_location_api(postcode):\n",
    "    longitude, latitude = None, None\n",
    "    \n",
    "    postcode_url = get_postcode_url(postcode)\n",
    "    r_json = requests.get(postcode_url).json()\n",
    "\n",
    "    if r_json['status'] == 'match':\n",
    "        data_keys = r_json['data'].keys()\n",
    "        \n",
    "        if 'longitude' in data_keys and 'latitude' in data_keys:\n",
    "            longitude = float(r_json['data']['longitude'])\n",
    "            latitude = float(r_json['data']['latitude'])\n",
    "\n",
    "    return longitude, latitude"
   ]
  },
  {
   "cell_type": "code",
   "execution_count": 18,
   "id": "sound-saskatchewan",
   "metadata": {},
   "outputs": [
    {
     "data": {
      "text/plain": [
       "(-0.155234, 51.519146)"
      ]
     },
     "execution_count": 18,
     "metadata": {},
     "output_type": "execute_result"
    }
   ],
   "source": [
    "longitude, latitude = get_postcode_location_api(postcode)\n",
    "\n",
    "longitude, latitude"
   ]
  },
  {
   "cell_type": "code",
   "execution_count": null,
   "id": "adjustable-assurance",
   "metadata": {},
   "outputs": [],
   "source": []
  },
  {
   "cell_type": "code",
   "execution_count": 19,
   "id": "numeric-bradley",
   "metadata": {},
   "outputs": [],
   "source": [
    "#exports\n",
    "class PostCodeLocator:\n",
    "    def __init__(self, postcodes_fp: str='../data/postcodes.csv'):\n",
    "        # Loading Post Codes DataFrame\n",
    "        df_postcodes = pd.read_csv(postcodes_fp, index_col='postcode')\n",
    "        df_postcodes.index = df_postcodes.index.str.replace(' ', '')\n",
    "        \n",
    "        self.df_postcodes = df_postcodes\n",
    "        \n",
    "    def get_postcode_location(self, postcode):\n",
    "        postcode_is_in_df = check_postcode_is_in_df(postcode, self.df_postcodes)\n",
    "\n",
    "        if postcode_is_in_df:\n",
    "            longitude, latitude = get_postcode_location_df(self.df_postcodes, postcode)\n",
    "            \n",
    "        else:\n",
    "            longitude, latitude = get_postcode_location_api(postcode)\n",
    "            \n",
    "        if longitude is None or latitude is None:\n",
    "            warn(f'The longitude and latitude of {postcode} could not be determined')\n",
    "            \n",
    "        return longitude, latitude"
   ]
  },
  {
   "cell_type": "code",
   "execution_count": 31,
   "id": "middle-glass",
   "metadata": {},
   "outputs": [
    {
     "name": "stdout",
     "output_type": "stream",
     "text": [
      "Wall time: 4.34 s\n"
     ]
    }
   ],
   "source": [
    "%%time\n",
    "\n",
    "pcl = PostCodeLocator()"
   ]
  },
  {
   "cell_type": "code",
   "execution_count": null,
   "id": "bulgarian-surface",
   "metadata": {},
   "outputs": [],
   "source": []
  },
  {
   "cell_type": "code",
   "execution_count": 21,
   "id": "freelance-estate",
   "metadata": {},
   "outputs": [
    {
     "name": "stdout",
     "output_type": "stream",
     "text": [
      "Wall time: 856 ms\n"
     ]
    },
    {
     "data": {
      "text/plain": [
       "(-0.5676534391043929, 51.76118688537669)"
      ]
     },
     "execution_count": 21,
     "metadata": {},
     "output_type": "execute_result"
    }
   ],
   "source": [
    "%%time\n",
    "\n",
    "postcode = 'HP41FD'\n",
    "\n",
    "pcl.get_postcode_location(postcode)"
   ]
  },
  {
   "cell_type": "code",
   "execution_count": null,
   "id": "adverse-chicago",
   "metadata": {},
   "outputs": [],
   "source": []
  },
  {
   "cell_type": "code",
   "execution_count": 22,
   "id": "given-point",
   "metadata": {},
   "outputs": [
    {
     "name": "stdout",
     "output_type": "stream",
     "text": [
      "Wall time: 96 ms\n"
     ]
    },
    {
     "data": {
      "text/plain": [
       "(-0.155234, 51.519146)"
      ]
     },
     "execution_count": 22,
     "metadata": {},
     "output_type": "execute_result"
    }
   ],
   "source": [
    "%%time\n",
    "\n",
    "postcode = 'W1M1HE'\n",
    "\n",
    "pcl.get_postcode_location(postcode)"
   ]
  },
  {
   "cell_type": "markdown",
   "id": "ultimate-technician",
   "metadata": {},
   "source": [
    "<br>\n",
    "\n",
    "### Creating Outages Leaflet GeoJSON"
   ]
  },
  {
   "cell_type": "code",
   "execution_count": 50,
   "id": "hungarian-injection",
   "metadata": {},
   "outputs": [],
   "source": [
    "def add_outage_longitudes_latitudes(df_outages, postcodes_fp: str='../data/postcodes.csv'):\n",
    "    pcl = PostCodeLocator(postcodes_fp)\n",
    "        \n",
    "    s_incident_longitudes = pd.Series(index=df_outages.index, dtype='float64')\n",
    "    s_incident_latitudes = pd.Series(index=df_outages.index, dtype='float64')\n",
    "\n",
    "    for outage_idx, s_outage in track(df_outages.iterrows(), total=df_outages.shape[0]):\n",
    "        incident_longitudes = []\n",
    "        incident_latitudes = []\n",
    "\n",
    "        for postcode_impacted in s_outage['postcodes_impacted']:\n",
    "            longitude, latitude = pcl.get_postcode_location(postcode_impacted)\n",
    "\n",
    "            incident_longitudes += [longitude]\n",
    "            incident_latitudes += [latitude]\n",
    "\n",
    "        s_incident_longitudes.loc[outage_idx] = pd.Series(incident_longitudes).mean()\n",
    "        s_incident_latitudes.loc[outage_idx] = pd.Series(incident_latitudes).mean()\n",
    "        \n",
    "    df_outages = (df_outages\n",
    "                  .assign(longitude=s_incident_longitudes)\n",
    "                  .assign(latitude=s_incident_latitudes)\n",
    "                 )\n",
    "    \n",
    "    return df_outages"
   ]
  },
  {
   "cell_type": "code",
   "execution_count": 67,
   "id": "linear-enforcement",
   "metadata": {},
   "outputs": [
    {
     "data": {
      "text/html": [
       "<div>\n",
       "<style scoped>\n",
       "    .dataframe tbody tr th:only-of-type {\n",
       "        vertical-align: middle;\n",
       "    }\n",
       "\n",
       "    .dataframe tbody tr th {\n",
       "        vertical-align: top;\n",
       "    }\n",
       "\n",
       "    .dataframe thead th {\n",
       "        text-align: right;\n",
       "    }\n",
       "</style>\n",
       "<table border=\"1\" class=\"dataframe\">\n",
       "  <thead>\n",
       "    <tr style=\"text-align: right;\">\n",
       "      <th></th>\n",
       "      <th>incident_id</th>\n",
       "      <th>received_time</th>\n",
       "      <th>estimated_restored_time</th>\n",
       "      <th>postcodes_impacted</th>\n",
       "      <th>description</th>\n",
       "      <th>dno</th>\n",
       "      <th>incident_url</th>\n",
       "      <th>longitude</th>\n",
       "      <th>latitude</th>\n",
       "    </tr>\n",
       "  </thead>\n",
       "  <tbody>\n",
       "    <tr>\n",
       "      <th>0</th>\n",
       "      <td>INCD-259361-J</td>\n",
       "      <td>2021-04-05T11:52:00</td>\n",
       "      <td>2021-04-05T21:00:00</td>\n",
       "      <td>[NW10RE, NW19RE, NW19SG, NW19SH, NW10RG, NW19Q...</td>\n",
       "      <td>A fault occurred on an underground electricity...</td>\n",
       "      <td>ukpn</td>\n",
       "      <td>https://www.ukpowernetworks.co.uk/power-cut/ma...</td>\n",
       "      <td>-0.132014</td>\n",
       "      <td>51.543393</td>\n",
       "    </tr>\n",
       "    <tr>\n",
       "      <th>1</th>\n",
       "      <td>INCD-259364-J</td>\n",
       "      <td>2021-04-05T13:48:00</td>\n",
       "      <td>2021-04-05T20:00:00</td>\n",
       "      <td>[N51XG, N51PR, N51PS, N51PT, N51XR]</td>\n",
       "      <td>A fault occurred on an underground electricity...</td>\n",
       "      <td>ukpn</td>\n",
       "      <td>https://www.ukpowernetworks.co.uk/power-cut/ma...</td>\n",
       "      <td>-0.105853</td>\n",
       "      <td>51.550313</td>\n",
       "    </tr>\n",
       "    <tr>\n",
       "      <th>2</th>\n",
       "      <td>INCD-247691-G</td>\n",
       "      <td>2021-04-04T02:05:00</td>\n",
       "      <td>None</td>\n",
       "      <td>[BN11YE, UMS, BN11UA, BN11YA, BN14AB, BN14AD, ...</td>\n",
       "      <td>We had to turn off power in your area so our e...</td>\n",
       "      <td>ukpn</td>\n",
       "      <td>https://www.ukpowernetworks.co.uk/power-cut/ma...</td>\n",
       "      <td>-0.137029</td>\n",
       "      <td>50.825975</td>\n",
       "    </tr>\n",
       "  </tbody>\n",
       "</table>\n",
       "</div>"
      ],
      "text/plain": [
       "     incident_id        received_time estimated_restored_time  \\\n",
       "0  INCD-259361-J  2021-04-05T11:52:00     2021-04-05T21:00:00   \n",
       "1  INCD-259364-J  2021-04-05T13:48:00     2021-04-05T20:00:00   \n",
       "2  INCD-247691-G  2021-04-04T02:05:00                    None   \n",
       "\n",
       "                                  postcodes_impacted  \\\n",
       "0  [NW10RE, NW19RE, NW19SG, NW19SH, NW10RG, NW19Q...   \n",
       "1                [N51XG, N51PR, N51PS, N51PT, N51XR]   \n",
       "2  [BN11YE, UMS, BN11UA, BN11YA, BN14AB, BN14AD, ...   \n",
       "\n",
       "                                         description   dno  \\\n",
       "0  A fault occurred on an underground electricity...  ukpn   \n",
       "1  A fault occurred on an underground electricity...  ukpn   \n",
       "2  We had to turn off power in your area so our e...  ukpn   \n",
       "\n",
       "                                        incident_url  longitude   latitude  \n",
       "0  https://www.ukpowernetworks.co.uk/power-cut/ma...  -0.132014  51.543393  \n",
       "1  https://www.ukpowernetworks.co.uk/power-cut/ma...  -0.105853  51.550313  \n",
       "2  https://www.ukpowernetworks.co.uk/power-cut/ma...  -0.137029  50.825975  "
      ]
     },
     "execution_count": 67,
     "metadata": {},
     "output_type": "execute_result"
    }
   ],
   "source": [
    "df_outages = add_outage_longitudes_latitudes(df_outages)\n",
    "\n",
    "df_outages.head(3)"
   ]
  },
  {
   "cell_type": "code",
   "execution_count": null,
   "id": "caring-rings",
   "metadata": {},
   "outputs": [],
   "source": []
  },
  {
   "cell_type": "code",
   "execution_count": null,
   "id": "middle-thunder",
   "metadata": {},
   "outputs": [],
   "source": [
    "# create a geojson and save it to github, then load from that for leaflet"
   ]
  },
  {
   "cell_type": "code",
   "execution_count": null,
   "id": "severe-operation",
   "metadata": {},
   "outputs": [],
   "source": []
  },
  {
   "cell_type": "code",
   "execution_count": 68,
   "id": "advanced-reach",
   "metadata": {},
   "outputs": [
    {
     "data": {
      "text/plain": [
       "<AxesSubplot:>"
      ]
     },
     "execution_count": 68,
     "metadata": {},
     "output_type": "execute_result"
    },
    {
     "data": {
      "image/png": "[encoded data removed]",
      "text/plain": [
       "<Figure size 432x288 with 1 Axes>"
      ]
     },
     "metadata": {
      "needs_background": "light"
     },
     "output_type": "display_data"
    }
   ],
   "source": [
    "gdf_outages = gpd.GeoDataFrame(\n",
    "    data=df_outages.drop(columns=['longitude', 'latitude']), \n",
    "    geometry=gpd.points_from_xy(df_outages['longitude'], df_outages['latitude']),\n",
    "    crs='EPSG:4326'\n",
    ")\n",
    "\n",
    "gdf_outages.plot()"
   ]
  },
  {
   "cell_type": "code",
   "execution_count": null,
   "id": "level-savannah",
   "metadata": {},
   "outputs": [],
   "source": []
  },
  {
   "cell_type": "code",
   "execution_count": 77,
   "id": "ambient-behalf",
   "metadata": {},
   "outputs": [
    {
     "data": {
      "application/json": {
       "features": [
        {
         "geometry": {
          "coordinates": [
           -0.13201428229254877,
           51.5433928685075
          ],
          "type": "Point"
         },
         "properties": {
          "description": "A fault occurred on an underground electricity cable affecting the local area.",
          "dno": "ukpn",
          "estimated_restored_time": "2021-04-05T21:00:00",
          "incident_id": "INCD-259361-J",
          "incident_url": "https://www.ukpowernetworks.co.uk/power-cut/map?incidentid=INCD-259361-J",
          "postcodes_impacted": [
           "NW10RE",
           "NW19RE",
           "NW19SG",
           "NW19SH",
           "NW10RG",
           "NW19QN",
           "NW19RH",
           "NW19RL",
           "NW19RN",
           "NW19SB",
           "NW19SL",
           "NW19SX",
           "NW19SY",
           "NW19UG",
           "NW19XA",
           "NW19XB",
           "NW19XG",
           "NW19XT"
          ],
          "received_time": "2021-04-05T11:52:00"
         },
         "type": "Feature"
        },
        {
         "geometry": {
          "coordinates": [
           -0.10585326530828287,
           51.550313385429455
          ],
          "type": "Point"
         },
         "properties": {
          "description": "A fault occurred on an underground electricity cable affecting the local area.",
          "dno": "ukpn",
          "estimated_restored_time": "2021-04-05T20:00:00",
          "incident_id": "INCD-259364-J",
          "incident_url": "https://www.ukpowernetworks.co.uk/power-cut/map?incidentid=INCD-259364-J",
          "postcodes_impacted": [
           "N51XG",
           "N51PR",
           "N51PS",
           "N51PT",
           "N51XR"
          ],
          "received_time": "2021-04-05T13:48:00"
         },
         "type": "Feature"
        },
        {
         "geometry": {
          "coordinates": [
           -0.13702898035919064,
           50.82597526373231
          ],
          "type": "Point"
         },
         "properties": {
          "description": "We had to turn off power in your area so our engineers could safely carry out emergency repairs to the network.",
          "dno": "ukpn",
          "estimated_restored_time": null,
          "incident_id": "INCD-247691-G",
          "incident_url": "https://www.ukpowernetworks.co.uk/power-cut/map?incidentid=INCD-247691-G",
          "postcodes_impacted": [
           "BN11YE",
           "UMS",
           "BN11UA",
           "BN11YA",
           "BN14AB",
           "BN14AD",
           "BN14AE",
           "BN14AF",
           "BN14AG"
          ],
          "received_time": "2021-04-04T02:05:00"
         },
         "type": "Feature"
        },
        {
         "geometry": {
          "coordinates": [
           -0.08101181882386922,
           51.65239850641596
          ],
          "type": "Point"
         },
         "properties": {
          "description": "A fault occurred on an underground electricity cable affecting the local area.",
          "dno": "ukpn",
          "estimated_restored_time": null,
          "incident_id": "INCD-43890-C",
          "incident_url": "https://www.ukpowernetworks.co.uk/power-cut/map?incidentid=INCD-43890-C",
          "postcodes_impacted": [
           "EN13ED",
           "EN13EF",
           "EN13EG",
           "EN26BN",
           "EN26LE"
          ],
          "received_time": "2021-04-05T12:48:40"
         },
         "type": "Feature"
        },
        {
         "geometry": {
          "coordinates": [
           -0.1973692141764371,
           51.129507329633434
          ],
          "type": "Point"
         },
         "properties": {
          "description": "A fault occurred on a piece of our electrical equipment which controls the power to your home.",
          "dno": "ukpn",
          "estimated_restored_time": "2021-04-05T22:30:00",
          "incident_id": "INCD-53851-V",
          "incident_url": "https://www.ukpowernetworks.co.uk/power-cut/map?incidentid=INCD-53851-V",
          "postcodes_impacted": [
           "RH117NN",
           "RH117NP",
           "RH117NT",
           "RH117NW",
           "RH117RX"
          ],
          "received_time": "2021-04-05T18:13:42"
         },
         "type": "Feature"
        },
        {
         "geometry": {
          "coordinates": [
           -0.15519409422858627,
           51.51911447221892
          ],
          "type": "Point"
         },
         "properties": {
          "description": "We were investigating an electricity cable that was damaged, causing a power cut in the local area.",
          "dno": "ukpn",
          "estimated_restored_time": null,
          "incident_id": "INCD-259202-J",
          "incident_url": "https://www.ukpowernetworks.co.uk/power-cut/map?incidentid=INCD-259202-J",
          "postcodes_impacted": [
           "W1M1HE",
           "W1M1DH",
           "W1M1HB",
           "W1M1HJ",
           "W1U5AH",
           "W1U6QJ",
           "W1U6QL",
           "W1U7AJ",
           "W1U7AL",
           "W1U7BY",
           "W1U7JA",
           "W1U7JF",
           "W1U7NE",
           "W1U7NF",
           "W1U7NN",
           "W1U7NP",
           "W1U7NR",
           "W1U7NS",
           "W1U7NT",
           "W1U7NU",
           "W1U7NW",
           "W1U7NX",
           "W1U7NY",
           "W1U7NZ",
           "W1U7PB",
           "W1U7PD",
           "W1U7PE",
           "W1U7PF",
           "W1U7PG",
           "W1U7PJ",
           "W1U7PN",
           "W1U7PP",
           "W1U7PQ",
           "W1U7PW",
           "W1U7RT"
          ],
          "received_time": "2021-04-02T15:00:00"
         },
         "type": "Feature"
        },
        {
         "geometry": {
          "coordinates": [
           0.524472438643613,
           51.38315178965133
          ],
          "type": "Point"
         },
         "properties": {
          "description": "A fault occurred on an underground electricity cable affecting the local area.",
          "dno": "ukpn",
          "estimated_restored_time": "2021-04-05T18:00:00",
          "incident_id": "INCD-247718-G",
          "incident_url": "https://www.ukpowernetworks.co.uk/power-cut/map?incidentid=INCD-247718-G",
          "postcodes_impacted": [
           "ME44AS",
           "ME44JG"
          ],
          "received_time": "2021-04-05T04:02:00"
         },
         "type": "Feature"
        },
        {
         "geometry": {
          "coordinates": [
           0.9984957529924617,
           52.58400043782886
          ],
          "type": "Point"
         },
         "properties": {
          "description": "We were investigating a high voltage overhead electricity line fault which caused a power cut in the local area.",
          "dno": "ukpn",
          "estimated_restored_time": "2021-04-05T18:00:00",
          "incident_id": "INCD-229094-Z",
          "incident_url": "https://www.ukpowernetworks.co.uk/power-cut/map?incidentid=INCD-229094-Z",
          "postcodes_impacted": [
           "NR189HF",
           "NR189HG",
           "NR94ED",
           "UK",
           "NR4",
           "NR93ND",
           "NR94AE",
           "NR94AF",
           "NR94AJ",
           "NR94BZ",
           "NR94EE",
           "NR94EJ",
           "NR94EP",
           "NR94ES",
           "NR94EW",
           "NR94GA",
           "NR94HA",
           "NR94HH",
           "NR94HL",
           "NR94HN",
           "NR94HR",
           "NR94HS",
           "NR94HT",
           "NR94HU",
           "NR94HW",
           "NR94HX",
           "NR94HY",
           "NR94HZ",
           "NR94JB",
           "NR94JD",
           "NR94JE",
           "NR94JF",
           "NR94JG",
           "NR94JH",
           "NR94JJ",
           "NR94JL",
           "NR94JN",
           "NR94JP",
           "NR94JS",
           "NR94JT",
           "NR94JU",
           "NR94JW",
           "NR94JX",
           "NR94JY",
           "NR94LA",
           "NR94LB",
           "NR94LF",
           "NR94LG",
           "NR94LH",
           "NR94LJ",
           "NR94LL",
           "NR94LN",
           "NR94LP",
           "NR94LQ",
           "NR94LR",
           "NR94LS",
           "NR94LT",
           "NR94LU",
           "NR94LW",
           "NR94LX",
           "NR94LY",
           "NR94LZ",
           "NR94NA",
           "NR94PX",
           "NR94PY",
           "NR94PZ"
          ],
          "received_time": "2021-04-05T12:39:39"
         },
         "type": "Feature"
        },
        {
         "geometry": {
          "coordinates": [
           0.9018223471839392,
           51.91021289672339
          ],
          "type": "Point"
         },
         "properties": {
          "description": "We had to turn off power in your area so our engineers could safely carry out emergency repairs to the network.",
          "dno": "ukpn",
          "estimated_restored_time": null,
          "incident_id": "INCD-43889-C",
          "incident_url": "https://www.ukpowernetworks.co.uk/power-cut/map?incidentid=INCD-43889-C",
          "postcodes_impacted": [
           "CO45JL",
           "CO45JN",
           "CO45JT"
          ],
          "received_time": "2021-04-05T16:39:00"
         },
         "type": "Feature"
        },
        {
         "geometry": {
          "coordinates": [
           -2.4287745000000003,
           57.02160516666666
          ],
          "type": "Point"
         },
         "properties": {
          "description": "We’re sorry for the loss of supply. We currently have a fault affecting the areas listed. Our engineers are on site working hard to get the power back on as quickly as they can. If you need more information, please call us on 105 or send us a message on <a href=\"http://m.me/ssencommunity/\">Facebook</a> or Twitter (<a href=\"https://twitter.com/ssencommunity\">@ssencommunity</a>) and quote reference 'HB2540'",
          "dno": "ssen",
          "estimated_restored_time": "2021-04-05 17:30:00",
          "incident_id": "HB2540",
          "incident_url": "https://www.ssen.co.uk/Powertrack/",
          "postcodes_impacted": [
           "AB31 6DB",
           "AB31 6DD",
           "AB31 6DE",
           "AB31 6DH",
           "AB31 6DJ",
           "AB31 6DL",
           "AB31 6JU",
           "AB31 6JY",
           "AB31 6LA",
           "AB31 6LB",
           "AB31 6LD",
           "AB31 6LH"
          ],
          "received_time": "2021-04-05 15:19:00"
         },
         "type": "Feature"
        },
        {
         "geometry": {
          "coordinates": [
           -0.6927979285714285,
           51.41256357142858
          ],
          "type": "Point"
         },
         "properties": {
          "description": "We’re sorry for the loss of supply. We currently have a fault affecting the areas listed. Our engineers are working hard to get the power back on as quickly as they can. If you need more information, please call us on 105 or send us a message on <a href=\"http://m.me/ssencommunity/\">Facebook</a> or Twitter (<a href=\"https://twitter.com/ssencommunity\">@ssencommunity</a>) and quote reference 'HB2253'",
          "dno": "ssen",
          "estimated_restored_time": null,
          "incident_id": "HB2253",
          "incident_url": "https://www.ssen.co.uk/Powertrack/",
          "postcodes_impacted": [
           "SL5 7JY",
           "SL5 7JZ",
           "SL5 8DE",
           "SL5 8DH",
           "SL5 8DQ",
           "SL5 8EP",
           "SL5 8EW",
           "SL5 8TA",
           "SL5 8TB",
           "SL5 8TH",
           "SL5 8TJ",
           "SL5 8TP",
           "SL5 8TW",
           "SL5 8TZ"
          ],
          "received_time": "2021-04-05 09:36:00"
         },
         "type": "Feature"
        },
        {
         "geometry": {
          "coordinates": [
           -0.7765204705882353,
           51.65592023529412
          ],
          "type": "Point"
         },
         "properties": {
          "description": "We’re sorry for the loss of supply. We currently have a fault affecting the areas listed. Our engineers are on site working hard to get the power back on as quickly as they can. If you need more information, please call us on 105 or send us a message on <a href=\"http://m.me/ssencommunity/\">Facebook</a> or Twitter (<a href=\"https://twitter.com/ssencommunity\">@ssencommunity</a>) and quote reference 'HB1965'",
          "dno": "ssen",
          "estimated_restored_time": "2021-04-05 18:00:00",
          "incident_id": "HB1965",
          "incident_url": "https://www.ssen.co.uk/Powertrack/",
          "postcodes_impacted": [
           "HP12 4AJ",
           "HP12 4AP",
           "HP13 5XN",
           "HP13 5YD",
           "HP13 5YE",
           "HP13 5YF",
           "HP13 5YG",
           "HP13 5YH",
           "HP13 5YJ",
           "HP13 5YL",
           "HP13 5YN",
           "HP13 5YQ",
           "HP14 4QY",
           "HP14 4RG",
           "HP14 4RH",
           "HP14 4RJ",
           "HP14 4RQ"
          ],
          "received_time": "2021-04-04 14:11:00"
         },
         "type": "Feature"
        },
        {
         "geometry": {
          "coordinates": [
           -2.9594366666666665,
           51.35561066666667
          ],
          "type": "Point"
         },
         "properties": {
          "description": "In Progress",
          "dno": "wpd",
          "estimated_restored_time": "2021-04-05 20:00:00",
          "incident_id": "INCD-125132-B",
          "incident_url": "https://powercuts.westernpower.co.uk/incident/INCD-125132-B",
          "postcodes_impacted": [
           "BS23 2UB",
           "BS23 2UE",
           "BS23 2UD"
          ],
          "received_time": "2021-04-05 14:56:00"
         },
         "type": "Feature"
        },
        {
         "geometry": {
          "coordinates": [
           -4.988301,
           50.16447288888889
          ],
          "type": "Point"
         },
         "properties": {
          "description": "In Progress",
          "dno": "wpd",
          "estimated_restored_time": "2021-04-05 23:00:00",
          "incident_id": "INCD-125145-B",
          "incident_url": "https://powercuts.westernpower.co.uk/incident/INCD-125145-B",
          "postcodes_impacted": [
           "TR2 5ET",
           "TR2 5EY",
           "TR2 5EZ",
           "TR2 5EX",
           "TR2 5EF",
           "TR2 5HA",
           "TR2 5EU",
           "TR2 5EN",
           "TR2 5EE"
          ],
          "received_time": "2021-04-05 16:55:00"
         },
         "type": "Feature"
        },
        {
         "geometry": {
          "coordinates": [
           -3.231594,
           50.975872
          ],
          "type": "Point"
         },
         "properties": {
          "description": "In Progress",
          "dno": "wpd",
          "estimated_restored_time": "2021-04-05 19:00:00",
          "incident_id": "INCD-125125-B",
          "incident_url": "https://powercuts.westernpower.co.uk/incident/INCD-125125-B",
          "postcodes_impacted": [
           "TA21 8AU"
          ],
          "received_time": "2021-04-05 13:05:00"
         },
         "type": "Feature"
        },
        {
         "geometry": {
          "coordinates": [
           -3.092472,
           50.8231885
          ],
          "type": "Point"
         },
         "properties": {
          "description": "In Progress",
          "dno": "wpd",
          "estimated_restored_time": "2021-04-05 17:30:00",
          "incident_id": "INCD-125121-B",
          "incident_url": "https://powercuts.westernpower.co.uk/incident/INCD-125121-B",
          "postcodes_impacted": [
           "EX14 9DQ",
           "EX14 9DG"
          ],
          "received_time": "2021-04-05 12:35:00"
         },
         "type": "Feature"
        },
        {
         "geometry": {
          "coordinates": [
           -2.615207,
           51.7020385
          ],
          "type": "Point"
         },
         "properties": {
          "description": "In Progress",
          "dno": "wpd",
          "estimated_restored_time": "2021-04-05 20:00:00",
          "incident_id": "INCD-357153-G",
          "incident_url": "https://powercuts.westernpower.co.uk/incident/INCD-357153-G",
          "postcodes_impacted": [
           "GL15 6PB",
           "GL15 6PS"
          ],
          "received_time": "2021-04-05 14:08:00"
         },
         "type": "Feature"
        },
        {
         "geometry": {
          "coordinates": [
           -1.4935556666666667,
           52.9462
          ],
          "type": "Point"
         },
         "properties": {
          "description": "In Progress",
          "dno": "wpd",
          "estimated_restored_time": "2021-04-05 19:30:00",
          "incident_id": "INCD-151823-H",
          "incident_url": "https://powercuts.westernpower.co.uk/incident/INCD-151823-H",
          "postcodes_impacted": [
           "DE22 2DB",
           "DE22 2DA",
           "DE22 2BX"
          ],
          "received_time": "2021-04-05 16:05:00"
         },
         "type": "Feature"
        },
        {
         "geometry": {
          "coordinates": [
           -1.5570140000000001,
           52.77570328571429
          ],
          "type": "Point"
         },
         "properties": {
          "description": "In Progress",
          "dno": "wpd",
          "estimated_restored_time": "2021-04-05 19:30:00",
          "incident_id": "INCD-151800-H",
          "incident_url": "https://powercuts.westernpower.co.uk/incident/INCD-151800-H",
          "postcodes_impacted": [
           "DE11 8LA",
           "DE11 0BW",
           "DE11 0AS",
           "DE11 8GG",
           "DE11 0AN",
           "DE11 0AE",
           "DE11 8JU"
          ],
          "received_time": "2021-04-05 07:52:00"
         },
         "type": "Feature"
        }
       ],
       "type": "FeatureCollection"
      },
      "text/plain": [
       "<IPython.core.display.JSON object>"
      ]
     },
     "execution_count": 77,
     "metadata": {
      "application/json": {
       "expanded": false,
       "root": "root"
      }
     },
     "output_type": "execute_result"
    }
   ],
   "source": [
    "outages_geojson = json.loads(gdf_outages.to_json(drop_id=True))\n",
    "\n",
    "with open('../data/outage_locations.json', 'w') as fp:\n",
    "    json.dump(outages_geojson, fp)\n",
    "\n",
    "JSON(outages_geojson)"
   ]
  },
  {
   "cell_type": "code",
   "execution_count": null,
   "id": "broken-vatican",
   "metadata": {},
   "outputs": [],
   "source": []
  },
  {
   "cell_type": "code",
   "execution_count": null,
   "id": "coral-respondent",
   "metadata": {},
   "outputs": [],
   "source": []
  },
  {
   "cell_type": "code",
   "execution_count": null,
   "id": "engaging-interference",
   "metadata": {},
   "outputs": [],
   "source": []
  }
 ],
 "metadata": {
  "kernelspec": {
   "display_name": "outage",
   "language": "python",
   "name": "outage"
  },
  "language_info": {
   "codemirror_mode": {
    "name": "ipython",
    "version": 3
   },
   "file_extension": ".py",
   "mimetype": "text/x-python",
   "name": "python",
   "nbconvert_exporter": "python",
   "pygments_lexer": "ipython3",
   "version": "3.7.10"
  }
 },
 "nbformat": 4,
 "nbformat_minor": 5
}

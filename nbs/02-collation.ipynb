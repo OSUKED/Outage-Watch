{
 "cells": [
  {
   "cell_type": "code",
   "execution_count": 1,
   "id": "golden-district",
   "metadata": {},
   "outputs": [],
   "source": [
    "# default_exp collation"
   ]
  },
  {
   "cell_type": "markdown",
   "id": "cleared-browser",
   "metadata": {},
   "source": [
    "# Outage Data Collation\n",
    "\n",
    "<br>\n",
    "\n",
    "### Imports"
   ]
  },
  {
   "cell_type": "code",
   "execution_count": 2,
   "id": "willing-enclosure",
   "metadata": {},
   "outputs": [],
   "source": [
    "import json\n",
    "import numpy as np\n",
    "import pandas as pd\n",
    "import geopandas as gpd\n",
    "\n",
    "from outage import retrieval\n",
    "\n",
    "import matplotlib.pyplot as plt\n",
    "\n",
    "import os\n",
    "import requests\n",
    "from warnings import warn\n",
    "from jinja2 import Template\n",
    "\n",
    "from ipypb import track\n",
    "from IPython.display import JSON"
   ]
  },
  {
   "cell_type": "code",
   "execution_count": null,
   "id": "assigned-christopher",
   "metadata": {},
   "outputs": [],
   "source": []
  },
  {
   "cell_type": "code",
   "execution_count": 3,
   "id": "generous-configuration",
   "metadata": {},
   "outputs": [],
   "source": [
    "#exports\n",
    "def collate_cleaned_incidents_info(dnos=['ukpn', 'ssen', 'wpd', 'sp', 'np']):\n",
    "    cleaned_incidents_info = dict()\n",
    "\n",
    "    for dno in track(dnos, label='DNOs'):\n",
    "        raw_dno_incidents_info, cleaned_dno_incidents_info = getattr(retrieval, f'get_{dno}_incidents_info')()\n",
    "        cleaned_incidents_info[dno] = cleaned_dno_incidents_info\n",
    "        retrieval.save_json_data(raw_dno_incidents_info, f'{dno}_incidents_info')\n",
    "        \n",
    "    return cleaned_incidents_info"
   ]
  },
  {
   "cell_type": "code",
   "execution_count": 4,
   "id": "plastic-premium",
   "metadata": {},
   "outputs": [
    {
     "data": {
      "text/html": [
       "<div><span class=\"Text-label\" style=\"display:inline-block; overflow:hidden; white-space:nowrap; text-overflow:ellipsis; min-width:15ex; max-width:15ex; vertical-align:middle; text-align:right\">DNOs</span>\n",
       "<progress style=\"width:45ex\" max=\"5\" value=\"5\" class=\"Progress-main\"/></progress>\n",
       "<span class=\"Progress-label\"><strong>100%</strong></span>\n",
       "<span class=\"Iteration-label\">5/5</span>\n",
       "<span class=\"Time-label\">[01:08<00:07, 13.55s/it]</span></div>"
      ],
      "text/plain": [
       "\u001b[A\u001b[2K\r",
       "           DNOs [█████████████████████████████████████████████] 5/5 [01:08<00:07, 13.55s/it]\u001b[B"
      ]
     },
     "metadata": {},
     "output_type": "display_data"
    },
    {
     "data": {
      "text/html": [
       "<div><span class=\"Text-label\" style=\"display:inline-block; overflow:hidden; white-space:nowrap; text-overflow:ellipsis; min-width:15ex; max-width:15ex; vertical-align:middle; text-align:right\">Multiple Ids</span>\n",
       "<progress style=\"width:45ex\" max=\"15\" value=\"15\" class=\"Progress-main\"/></progress>\n",
       "<span class=\"Progress-label\"><strong>100%</strong></span>\n",
       "<span class=\"Iteration-label\">15/15</span>\n",
       "<span class=\"Time-label\">[00:06<00:00, 0.39s/it]</span></div>"
      ],
      "text/plain": [
       "\u001b[A\u001b[2K\r",
       "   Multiple Ids [█████████████████████████████████████████████] 15/15 [00:06<00:00, 0.39s/it]"
      ]
     },
     "metadata": {},
     "output_type": "display_data"
    },
    {
     "data": {
      "text/html": [
       "<div><span class=\"Text-label\" style=\"display:inline-block; overflow:hidden; white-space:nowrap; text-overflow:ellipsis; min-width:15ex; max-width:15ex; vertical-align:middle; text-align:right\">Details</span>\n",
       "<progress style=\"width:45ex\" max=\"119\" value=\"119\" class=\"Progress-main\"/></progress>\n",
       "<span class=\"Progress-label\"><strong>100%</strong></span>\n",
       "<span class=\"Iteration-label\">119/119</span>\n",
       "<span class=\"Time-label\">[00:48<00:00, 0.40s/it]</span></div>"
      ],
      "text/plain": [
       "\u001b[A\u001b[2K\r",
       "        Details [█████████████████████████████████████████████] 119/119 [00:48<00:00, 0.40s/it]"
      ]
     },
     "metadata": {},
     "output_type": "display_data"
    },
    {
     "name": "stderr",
     "output_type": "stream",
     "text": [
      "C:\\Users\\Ayrto\\anaconda3\\envs\\outage\\lib\\site-packages\\urllib3\\connectionpool.py:1020: InsecureRequestWarning: Unverified HTTPS request is being made to host 'www.ssen.co.uk'. Adding certificate verification is strongly advised. See: https://urllib3.readthedocs.io/en/latest/advanced-usage.html#ssl-warnings\n",
      "  InsecureRequestWarning,\n"
     ]
    },
    {
     "data": {
      "text/html": [
       "<div><span class=\"Text-label\" style=\"display:inline-block; overflow:hidden; white-space:nowrap; text-overflow:ellipsis; min-width:0; max-width:15ex; vertical-align:middle; text-align:right\"></span>\n",
       "<progress style=\"width:60ex\" max=\"8\" value=\"8\" class=\"Progress-main\"/></progress>\n",
       "<span class=\"Progress-label\"><strong>100%</strong></span>\n",
       "<span class=\"Iteration-label\">8/8</span>\n",
       "<span class=\"Time-label\">[00:00<00:00, 0.00s/it]</span></div>"
      ],
      "text/plain": [
       "\u001b[A\u001b[2K\r",
       " [████████████████████████████████████████████████████████████] 8/8 [00:00<00:00, 0.00s/it]"
      ]
     },
     "metadata": {},
     "output_type": "display_data"
    },
    {
     "name": "stderr",
     "output_type": "stream",
     "text": [
      "c:\\users\\ayrto\\desktop\\side projects\\outage-watch\\outage\\retrieval.py:235: GuessedAtParserWarning: No parser was explicitly specified, so I'm using the best available HTML parser for this system (\"lxml\"). This usually isn't a problem, but if you run this code on another system, or in a different virtual environment, it may use a different parser and behave differently.\n",
      "\n",
      "The code that caused this warning is on line 235 of the file c:\\users\\ayrto\\desktop\\side projects\\outage-watch\\outage\\retrieval.py. To get rid of this warning, pass the additional argument 'features=\"lxml\"' to the BeautifulSoup constructor.\n",
      "\n",
      "  soup = bs(r.text)\n"
     ]
    },
    {
     "data": {
      "application/json": [
       {
        "np": {
         "INCD-15045-B": {
          "description": "U/G LV Mains Repair (Other) In Progress",
          "estimated_restored_time": "2021-04-09 08:46",
          "incident_active": true,
          "incident_url": "https://www.northernpowergrid.com/power-cuts",
          "postcodes_impacted": {
           "LS11 5SB": {
            "class": "models.MapDataLocation",
            "lat": 53.7662,
            "lng": -1.55323
           },
           "LS11 5SE": {
            "class": "models.MapDataLocation",
            "lat": 53.7634,
            "lng": -1.55113
           },
           "LS11 5SS": {
            "class": "models.MapDataLocation",
            "lat": 53.7647,
            "lng": -1.54896
           },
           "LS11 5UH": {
            "class": "models.MapDataLocation",
            "lat": 53.7637,
            "lng": -1.55257
           },
           "LS11 5XA": {
            "class": "models.MapDataLocation",
            "lat": 53.7638,
            "lng": -1.55063
           }
          },
          "received_time": "2021-04-09 08:46"
         },
         "INCD-15063-B": {
          "description": "Unknown P2 Awaiting",
          "estimated_restored_time": "2021-04-09 14:57",
          "incident_active": true,
          "incident_url": "https://www.northernpowergrid.com/power-cuts",
          "postcodes_impacted": {
           "S66 8RY": {
            "class": "models.MapDataLocation",
            "lat": 53.4262,
            "lng": -1.24574
           }
          },
          "received_time": "2021-04-09 14:57"
         },
         "INCD-167229-A": {
          "description": "Damaged EHV U/G In Progress",
          "estimated_restored_time": "",
          "incident_active": true,
          "incident_url": "https://www.northernpowergrid.com/power-cuts",
          "postcodes_impacted": {
           "LS15 8AB": {
            "class": "models.MapDataLocation",
            "lat": 53.8048,
            "lng": -1.41077
           },
           "LS15 8AD": {
            "class": "models.MapDataLocation",
            "lat": 53.804,
            "lng": -1.42138
           },
           "LS15 8AE": {
            "class": "models.MapDataLocation",
            "lat": 53.8056,
            "lng": -1.42527
           },
           "LS15 8AJ": {
            "class": "models.MapDataLocation",
            "lat": 53.8073,
            "lng": -1.43811
           },
           "LS25 1AS": {
            "class": "models.MapDataLocation",
            "lat": 53.7946,
            "lng": -1.40015
           },
           "LS25 1NF": {
            "class": "models.MapDataLocation",
            "lat": 53.7973,
            "lng": -1.40888
           },
           "LS25 1NG": {
            "class": "models.MapDataLocation",
            "lat": 53.7984,
            "lng": -1.39455
           },
           "LS25 2DQ": {
            "class": "models.MapDataLocation",
            "lat": 53.7997,
            "lng": -1.39461
           }
          },
          "received_time": "2021-03-29 16:46"
         },
         "INCD-168423-A": {
          "description": "U/G HV Mains Repair In Progress",
          "estimated_restored_time": "2021-04-02 20:36",
          "incident_active": true,
          "incident_url": "https://www.northernpowergrid.com/power-cuts",
          "postcodes_impacted": {
           "WF2 7BJ": {
            "class": "models.MapDataLocation",
            "lat": 53.6585,
            "lng": -1.51622
           },
           "WF6 1GX": {
            "class": "models.MapDataLocation",
            "lat": 53.6994,
            "lng": -1.38311
           },
           "WF6 1RS": {
            "class": "models.MapDataLocation",
            "lat": 53.7012,
            "lng": -1.38869
           },
           "WF6 1RT": {
            "class": "models.MapDataLocation",
            "lat": 53.7022,
            "lng": -1.38721
           },
           "WF6 1RU": {
            "class": "models.MapDataLocation",
            "lat": 53.7022,
            "lng": -1.3864
           },
           "WF6 1RW": {
            "class": "models.MapDataLocation",
            "lat": 53.7024,
            "lng": -1.39706
           },
           "WF6 1TL": {
            "class": "models.MapDataLocation",
            "lat": 53.7061,
            "lng": -1.39506
           },
           "WF6 1TN": {
            "class": "models.MapDataLocation",
            "lat": 53.7059,
            "lng": -1.3885
           },
           "WF6 1TW": {
            "class": "models.MapDataLocation",
            "lat": 53.7042,
            "lng": -1.39351
           },
           "WF7 6AJ": {
            "class": "models.MapDataLocation",
            "lat": 53.6903,
            "lng": -1.35564
           },
           "WF7 6BL": {
            "class": "models.MapDataLocation",
            "lat": 53.6937,
            "lng": -1.35628
           },
           "WF7 6HD": {
            "class": "models.MapDataLocation",
            "lat": 53.6843,
            "lng": -1.38835
           },
           "WF7 6HE": {
            "class": "models.MapDataLocation",
            "lat": 53.6839,
            "lng": -1.38273
           },
           "WF7 6HF": {
            "class": "models.MapDataLocation",
            "lat": 53.6847,
            "lng": -1.37642
           },
           "WF7 6HG": {
            "class": "models.MapDataLocation",
            "lat": 53.6896,
            "lng": -1.37771
           },
           "WF7 6HH": {
            "class": "models.MapDataLocation",
            "lat": 53.6909,
            "lng": -1.3758
           },
           "WF7 6HJ": {
            "class": "models.MapDataLocation",
            "lat": 53.6899,
            "lng": -1.37742
           },
           "WF7 6HL": {
            "class": "models.MapDataLocation",
            "lat": 53.6909,
            "lng": -1.37715
           },
           "WF7 6HN": {
            "class": "models.MapDataLocation",
            "lat": 53.6915,
            "lng": -1.37688
           },
           "WF7 6HP": {
            "class": "models.MapDataLocation",
            "lat": 53.6921,
            "lng": -1.37778
           },
           "WF7 6HQ": {
            "class": "models.MapDataLocation",
            "lat": 53.6899,
            "lng": -1.37621
           },
           "WF7 6HR": {
            "class": "models.MapDataLocation",
            "lat": 53.6926,
            "lng": -1.3775
           },
           "WF7 6HS": {
            "class": "models.MapDataLocation",
            "lat": 53.6929,
            "lng": -1.37595
           },
           "WF7 6HT": {
            "class": "models.MapDataLocation",
            "lat": 53.6936,
            "lng": -1.37341
           },
           "WF7 6HW": {
            "class": "models.MapDataLocation",
            "lat": 53.6905,
            "lng": -1.3779
           },
           "WF7 6JA": {
            "class": "models.MapDataLocation",
            "lat": 53.693,
            "lng": -1.37306
           },
           "WF7 6JB": {
            "class": "models.MapDataLocation",
            "lat": 53.6928,
            "lng": -1.37539
           },
           "WF7 6JD": {
            "class": "models.MapDataLocation",
            "lat": 53.693,
            "lng": -1.37465
           },
           "WF7 6JG": {
            "class": "models.MapDataLocation",
            "lat": 53.6821,
            "lng": -1.35676
           }
          },
          "received_time": "2021-04-02 20:36"
         },
         "INCD-168880-A": {
          "description": "Unknown P1 Awaiting",
          "estimated_restored_time": "",
          "incident_active": true,
          "incident_url": "https://www.northernpowergrid.com/power-cuts",
          "postcodes_impacted": {
           "YO32 2NB": {
            "class": "models.MapDataLocation",
            "lat": 54.0133,
            "lng": -1.06187
           }
          },
          "received_time": "2021-04-05 14:08"
         },
         "INCD-169997-A": {
          "description": "Safety Interruption In Progress",
          "estimated_restored_time": "2021-04-08 18:32",
          "incident_active": true,
          "incident_url": "https://www.northernpowergrid.com/power-cuts",
          "postcodes_impacted": {
           "YO16 4TD": {
            "class": "models.MapDataLocation",
            "lat": 54.0817,
            "lng": -0.216055
           }
          },
          "received_time": "2021-04-08 18:32"
         },
         "INCD-170023-A": {
          "description": "Safety Interruption In Progress",
          "estimated_restored_time": "2021-04-08 20:38",
          "incident_active": true,
          "incident_url": "https://www.northernpowergrid.com/power-cuts",
          "postcodes_impacted": {
           "YO32 9LH": {
            "class": "models.MapDataLocation",
            "lat": 53.9903,
            "lng": -1.05923
           },
           "YO32 9NH": {
            "class": "models.MapDataLocation",
            "lat": 53.989,
            "lng": -1.05946
           },
           "YO32 9NL": {
            "class": "models.MapDataLocation",
            "lat": 53.9901,
            "lng": -1.05982
           },
           "YO32 9NN": {
            "class": "models.MapDataLocation",
            "lat": 53.9914,
            "lng": -1.05934
           },
           "YO32 9NP": {
            "class": "models.MapDataLocation",
            "lat": 53.9917,
            "lng": -1.0556
           },
           "YO32 9NR": {
            "class": "models.MapDataLocation",
            "lat": 53.9926,
            "lng": -1.05842
           },
           "YO32 9NW": {
            "class": "models.MapDataLocation",
            "lat": 53.992,
            "lng": -1.05883
           },
           "YO32 9PJ": {
            "class": "models.MapDataLocation",
            "lat": 53.9904,
            "lng": -1.06106
           },
           "YO32 9PL": {
            "class": "models.MapDataLocation",
            "lat": 53.9913,
            "lng": -1.06084
           },
           "YO32 9PN": {
            "class": "models.MapDataLocation",
            "lat": 53.9909,
            "lng": -1.06009
           }
          },
          "received_time": "2021-04-08 20:38"
         },
         "INCD-170047-A": {
          "description": "O/H HV Mains Repair In Progress",
          "estimated_restored_time": "2021-04-09 03:37",
          "incident_active": true,
          "incident_url": "https://www.northernpowergrid.com/power-cuts",
          "postcodes_impacted": {
           "YO11 3UA": {
            "class": "models.MapDataLocation",
            "lat": 54.2035,
            "lng": -0.406329
           },
           "YO11 3UB": {
            "class": "models.MapDataLocation",
            "lat": 54.2018,
            "lng": -0.406698
           },
           "YO11 3UD": {
            "class": "models.MapDataLocation",
            "lat": 54.2006,
            "lng": -0.420605
           },
           "YO11 3UE": {
            "class": "models.MapDataLocation",
            "lat": 54.2011,
            "lng": -0.402692
           },
           "YO11 3UF": {
            "class": "models.MapDataLocation",
            "lat": 54.201,
            "lng": -0.399602
           },
           "YO11 3UG": {
            "class": "models.MapDataLocation",
            "lat": 54.2001,
            "lng": -0.391818
           },
           "YO11 3UH": {
            "class": "models.MapDataLocation",
            "lat": 54.2024,
            "lng": -0.38386
           },
           "YO11 3UQ": {
            "class": "models.MapDataLocation",
            "lat": 54.2008,
            "lng": -0.377073
           },
           "YO12 4BY": {
            "class": "models.MapDataLocation",
            "lat": 54.1971,
            "lng": -0.443439
           },
           "YO12 4NH": {
            "class": "models.MapDataLocation",
            "lat": 54.2127,
            "lng": -0.435556
           },
           "YO12 4NN": {
            "class": "models.MapDataLocation",
            "lat": 54.2061,
            "lng": -0.433135
           },
           "YO12 4NP": {
            "class": "models.MapDataLocation",
            "lat": 54.1897,
            "lng": -0.480871
           },
           "YO12 4NR": {
            "class": "models.MapDataLocation",
            "lat": 54.1848,
            "lng": -0.486075
           },
           "YO12 4NS": {
            "class": "models.MapDataLocation",
            "lat": 54.1839,
            "lng": -0.486708
           },
           "YO12 4NT": {
            "class": "models.MapDataLocation",
            "lat": 54.1812,
            "lng": -0.480952
           },
           "YO12 4NU": {
            "class": "models.MapDataLocation",
            "lat": 54.187,
            "lng": -0.488173
           },
           "YO12 4NW": {
            "class": "models.MapDataLocation",
            "lat": 54.2012,
            "lng": -0.432434
           },
           "YO12 4NX": {
            "class": "models.MapDataLocation",
            "lat": 54.186,
            "lng": -0.488623
           },
           "YO12 4PA": {
            "class": "models.MapDataLocation",
            "lat": 54.1905,
            "lng": -0.495156
           },
           "YO12 4PB": {
            "class": "models.MapDataLocation",
            "lat": 54.1907,
            "lng": -0.494229
           },
           "YO12 4PD": {
            "class": "models.MapDataLocation",
            "lat": 54.1991,
            "lng": -0.502096
           },
           "YO12 4PE": {
            "class": "models.MapDataLocation",
            "lat": 54.1789,
            "lng": -0.500727
           },
           "YO12 4PF": {
            "class": "models.MapDataLocation",
            "lat": 54.1783,
            "lng": -0.516623
           },
           "YO12 4PG": {
            "class": "models.MapDataLocation",
            "lat": 54.1699,
            "lng": -0.474657
           },
           "YO12 4PH": {
            "class": "models.MapDataLocation",
            "lat": 54.1665,
            "lng": -0.499105
           },
           "YO12 4QD": {
            "class": "models.MapDataLocation",
            "lat": 54.2372,
            "lng": -0.44402
           },
           "YO12 4RX": {
            "class": "models.MapDataLocation",
            "lat": 54.1972,
            "lng": -0.445413
           },
           "YO12 4RY": {
            "class": "models.MapDataLocation",
            "lat": 54.198,
            "lng": -0.442638
           },
           "YO12 4RZ": {
            "class": "models.MapDataLocation",
            "lat": 54.1983,
            "lng": -0.440897
           },
           "YO12 4SA": {
            "class": "models.MapDataLocation",
            "lat": 54.1993,
            "lng": -0.437595
           },
           "YO12 4SB": {
            "class": "models.MapDataLocation",
            "lat": 54.1978,
            "lng": -0.440041
           },
           "YO12 4SD": {
            "class": "models.MapDataLocation",
            "lat": 54.1978,
            "lng": -0.443505
           },
           "YO12 4SE": {
            "class": "models.MapDataLocation",
            "lat": 54.1976,
            "lng": -0.444187
           },
           "YO12 4SF": {
            "class": "models.MapDataLocation",
            "lat": 54.1979,
            "lng": -0.448559
           },
           "YO12 4SG": {
            "class": "models.MapDataLocation",
            "lat": 54.1986,
            "lng": -0.450882
           },
           "YO12 4SH": {
            "class": "models.MapDataLocation",
            "lat": 54.1982,
            "lng": -0.455142
           },
           "YO12 4SL": {
            "class": "models.MapDataLocation",
            "lat": 54.1954,
            "lng": -0.45621
           },
           "YO12 4SN": {
            "class": "models.MapDataLocation",
            "lat": 54.1953,
            "lng": -0.456934
           },
           "YO12 4SP": {
            "class": "models.MapDataLocation",
            "lat": 54.1973,
            "lng": -0.476024
           },
           "YO12 4SQ": {
            "class": "models.MapDataLocation",
            "lat": 54.1977,
            "lng": -0.45188
           },
           "YO12 4SR": {
            "class": "models.MapDataLocation",
            "lat": 54.1986,
            "lng": -0.449287
           },
           "YO12 4SS": {
            "class": "models.MapDataLocation",
            "lat": 54.1982,
            "lng": -0.446112
           },
           "YO12 4ST": {
            "class": "models.MapDataLocation",
            "lat": 54.198,
            "lng": -0.445199
           },
           "YO12 4SU": {
            "class": "models.MapDataLocation",
            "lat": 54.1986,
            "lng": -0.44435
           },
           "YO12 4SW": {
            "class": "models.MapDataLocation",
            "lat": 54.1933,
            "lng": -0.474269
           },
           "YO12 4SX": {
            "class": "models.MapDataLocation",
            "lat": 54.1982,
            "lng": -0.440089
           },
           "YO12 4SY": {
            "class": "models.MapDataLocation",
            "lat": 54.1984,
            "lng": -0.440265
           },
           "YO12 4SZ": {
            "class": "models.MapDataLocation",
            "lat": 54.1975,
            "lng": -0.446077
           },
           "YO12 4TA": {
            "class": "models.MapDataLocation",
            "lat": 54.1973,
            "lng": -0.443662
           },
           "YO12 4TB": {
            "class": "models.MapDataLocation",
            "lat": 54.1981,
            "lng": -0.442637
           },
           "YO12 4TD": {
            "class": "models.MapDataLocation",
            "lat": 54.1832,
            "lng": -0.453723
           },
           "YO12 6LP": {
            "class": "models.MapDataLocation",
            "lat": 54.2891,
            "lng": -0.421444
           },
           "YO14 0EQ": {
            "class": "models.MapDataLocation",
            "lat": 54.2151,
            "lng": -0.313477
           },
           "YO14 0EU": {
            "class": "models.MapDataLocation",
            "lat": 54.1979,
            "lng": -0.321615
           },
           "YO14 0HJ": {
            "class": "models.MapDataLocation",
            "lat": 54.198,
            "lng": -0.295626
           },
           "YO14 0HX": {
            "class": "models.MapDataLocation",
            "lat": 54.2032,
            "lng": -0.346314
           },
           "YO14 0HY": {
            "class": "models.MapDataLocation",
            "lat": 54.2012,
            "lng": -0.354288
           },
           "YO14 0LE": {
            "class": "models.MapDataLocation",
            "lat": 54.1901,
            "lng": -0.350714
           },
           "YO14 9PD": {
            "class": "models.MapDataLocation",
            "lat": 54.2147,
            "lng": -0.34113
           },
           "YO17 8EP": {
            "class": "models.MapDataLocation",
            "lat": 54.152,
            "lng": -0.518956
           },
           "YO17 8EW": {
            "class": "models.MapDataLocation",
            "lat": 54.1781,
            "lng": -0.550094
           },
           "YO17 8HF": {
            "class": "models.MapDataLocation",
            "lat": 54.1297,
            "lng": -0.48608
           },
           "YO17 8PA": {
            "class": "models.MapDataLocation",
            "lat": 54.1828,
            "lng": -0.533196
           },
           "YO17 8PE": {
            "class": "models.MapDataLocation",
            "lat": 54.1852,
            "lng": -0.533645
           },
           "YO17 8PF": {
            "class": "models.MapDataLocation",
            "lat": 54.1805,
            "lng": -0.530396
           },
           "YO17 8PG": {
            "class": "models.MapDataLocation",
            "lat": 54.179,
            "lng": -0.532655
           },
           "YO17 8PH": {
            "class": "models.MapDataLocation",
            "lat": 54.1817,
            "lng": -0.531485
           },
           "YO17 8PJ": {
            "class": "models.MapDataLocation",
            "lat": 54.1811,
            "lng": -0.530495
           },
           "YO17 8PL": {
            "class": "models.MapDataLocation",
            "lat": 54.1821,
            "lng": -0.532178
           },
           "YO17 8PN": {
            "class": "models.MapDataLocation",
            "lat": 54.1809,
            "lng": -0.533385
           },
           "YO17 8PP": {
            "class": "models.MapDataLocation",
            "lat": 54.1835,
            "lng": -0.532159
           },
           "YO17 8PR": {
            "class": "models.MapDataLocation",
            "lat": 54.1853,
            "lng": -0.532553
           },
           "YO17 8PS": {
            "class": "models.MapDataLocation",
            "lat": 54.1909,
            "lng": -0.535254
           },
           "YO17 8PT": {
            "class": "models.MapDataLocation",
            "lat": 54.1772,
            "lng": -0.53405
           },
           "YO17 8PU": {
            "class": "models.MapDataLocation",
            "lat": 54.1816,
            "lng": -0.530081
           },
           "YO17 8PW": {
            "class": "models.MapDataLocation",
            "lat": 54.1835,
            "lng": -0.532665
           },
           "YO17 8PX": {
            "class": "models.MapDataLocation",
            "lat": 54.1783,
            "lng": -0.531301
           },
           "YO17 8QB": {
            "class": "models.MapDataLocation",
            "lat": 54.1776,
            "lng": -0.533441
           },
           "YO17 8QD": {
            "class": "models.MapDataLocation",
            "lat": 54.1778,
            "lng": -0.533709
           },
           "YO17 8QE": {
            "class": "models.MapDataLocation",
            "lat": 54.1778,
            "lng": -0.534795
           },
           "YO17 8QF": {
            "class": "models.MapDataLocation",
            "lat": 54.179,
            "lng": -0.536778
           },
           "YO17 8QG": {
            "class": "models.MapDataLocation",
            "lat": 54.177,
            "lng": -0.538748
           },
           "YO17 8QH": {
            "class": "models.MapDataLocation",
            "lat": 54.175,
            "lng": -0.537362
           },
           "YO17 8QJ": {
            "class": "models.MapDataLocation",
            "lat": 54.1615,
            "lng": -0.545098
           },
           "YO17 8QL": {
            "class": "models.MapDataLocation",
            "lat": 54.1736,
            "lng": -0.525799
           },
           "YO17 8QN": {
            "class": "models.MapDataLocation",
            "lat": 54.1768,
            "lng": -0.527307
           },
           "YO17 8QQ": {
            "class": "models.MapDataLocation",
            "lat": 54.1753,
            "lng": -0.532448
           },
           "YO17 8QW": {
            "class": "models.MapDataLocation",
            "lat": 54.1776,
            "lng": -0.531707
           },
           "YO17 8RU": {
            "class": "models.MapDataLocation",
            "lat": 54.1388,
            "lng": -0.560604
           },
           "YO17 8TL": {
            "class": "models.MapDataLocation",
            "lat": 54.1254,
            "lng": -0.574184
           },
           "YO4 2RJ": {
            "class": "models.MapDataLocation",
            "lat": 53.9003,
            "lng": -0.753099
           },
           "YO4 6RE": {
            "class": "models.MapDataLocation",
            "lat": 53.8382,
            "lng": -1.0813
           },
           "YO42 4TJ": {
            "class": "models.MapDataLocation",
            "lat": 53.8748,
            "lng": -0.929845
           }
          },
          "received_time": "2021-04-09 03:37"
         },
         "INCD-170058-A": {
          "description": "U/G Service repair In Progress",
          "estimated_restored_time": "2021-04-09 06:11",
          "incident_active": true,
          "incident_url": "https://www.northernpowergrid.com/power-cuts",
          "postcodes_impacted": {
           "NE43 7AD": {
            "class": "models.MapDataLocation",
            "lat": 54.9492,
            "lng": -1.9259
           },
           "NE43 7HG": {
            "class": "models.MapDataLocation",
            "lat": 54.9464,
            "lng": -1.92055
           },
           "NE43 7HH": {
            "class": "models.MapDataLocation",
            "lat": 54.9464,
            "lng": -1.91607
           },
           "NE43 7ND": {
            "class": "models.MapDataLocation",
            "lat": 54.9464,
            "lng": -1.91456
           },
           "NE43 7NG": {
            "class": "models.MapDataLocation",
            "lat": 54.9491,
            "lng": -1.91206
           },
           "NE43 7NH": {
            "class": "models.MapDataLocation",
            "lat": 54.9468,
            "lng": -1.91664
           },
           "NE43 7NJ": {
            "class": "models.MapDataLocation",
            "lat": 54.9472,
            "lng": -1.91514
           },
           "NE43 7NL": {
            "class": "models.MapDataLocation",
            "lat": 54.9482,
            "lng": -1.91339
           },
           "NE43 7NN": {
            "class": "models.MapDataLocation",
            "lat": 54.9488,
            "lng": -1.91045
           },
           "NE43 7NQ": {
            "class": "models.MapDataLocation",
            "lat": 54.9468,
            "lng": -1.91624
           }
          },
          "received_time": "2021-04-09 06:11"
         },
         "INCD-170163-A": {
          "description": "O/H Service Repair In Progress",
          "estimated_restored_time": "2021-04-09 11:02",
          "incident_active": true,
          "incident_url": "https://www.northernpowergrid.com/power-cuts",
          "postcodes_impacted": {
           "WF9 2AE": {
            "class": "models.MapDataLocation",
            "lat": 53.5943,
            "lng": -1.29819
           },
           "WF9 2AF": {
            "class": "models.MapDataLocation",
            "lat": 53.5932,
            "lng": -1.29727
           },
           "WF9 2AG": {
            "class": "models.MapDataLocation",
            "lat": 53.5927,
            "lng": -1.29793
           },
           "WF9 2AH": {
            "class": "models.MapDataLocation",
            "lat": 53.5929,
            "lng": -1.29868
           },
           "WF9 2AJ": {
            "class": "models.MapDataLocation",
            "lat": 53.5933,
            "lng": -1.29836
           },
           "WF9 2AL": {
            "class": "models.MapDataLocation",
            "lat": 53.5938,
            "lng": -1.2977
           }
          },
          "received_time": "2021-04-09 11:02"
         },
         "INCD-170167-A": {
          "description": "U/G Service repair In Progress",
          "estimated_restored_time": "2021-04-09 11:11",
          "incident_active": true,
          "incident_url": "https://www.northernpowergrid.com/power-cuts",
          "postcodes_impacted": {
           "S6 2BS": {
            "class": "models.MapDataLocation",
            "lat": 53.404,
            "lng": -1.49679
           }
          },
          "received_time": "2021-04-09 11:11"
         },
         "INCD-170169-A": {
          "description": "O/H HV Mains Repair In Progress",
          "estimated_restored_time": "2021-04-09 11:15",
          "incident_active": true,
          "incident_url": "https://www.northernpowergrid.com/power-cuts",
          "postcodes_impacted": {
           "YO25 5NN": {
            "class": "models.MapDataLocation",
            "lat": 54.0021,
            "lng": -0.427
           },
           "YO4 2TS": {
            "class": "models.MapDataLocation",
            "lat": 53.9657,
            "lng": -0.761346
           },
           "YO42 4HX": {
            "class": "models.MapDataLocation",
            "lat": 53.9319,
            "lng": -0.839494
           },
           "YO8 0UZ": {
            "class": "models.MapDataLocation",
            "lat": 53.8126,
            "lng": -1.10803
           },
           "YO8 5HX": {
            "class": "models.MapDataLocation",
            "lat": 53.7895,
            "lng": -1.02198
           },
           "YO8 6DH": {
            "class": "models.MapDataLocation",
            "lat": 53.7974,
            "lng": -0.924665
           },
           "YO8 6ER": {
            "class": "models.MapDataLocation",
            "lat": 53.7731,
            "lng": -0.924891
           },
           "YO8 6LE": {
            "class": "models.MapDataLocation",
            "lat": 53.7833,
            "lng": -0.99393
           },
           "YO8 6NG": {
            "class": "models.MapDataLocation",
            "lat": 53.7773,
            "lng": -0.996986
           },
           "YO8 6NH": {
            "class": "models.MapDataLocation",
            "lat": 53.7767,
            "lng": -0.994011
           },
           "YO8 6NJ": {
            "class": "models.MapDataLocation",
            "lat": 53.7773,
            "lng": -0.993906
           },
           "YO8 6NL": {
            "class": "models.MapDataLocation",
            "lat": 53.7785,
            "lng": -0.996989
           },
           "YO8 6NN": {
            "class": "models.MapDataLocation",
            "lat": 53.7809,
            "lng": -0.996445
           },
           "YO8 6NP": {
            "class": "models.MapDataLocation",
            "lat": 53.7815,
            "lng": -0.992986
           },
           "YO8 6NQ": {
            "class": "models.MapDataLocation",
            "lat": 53.7776,
            "lng": -0.999788
           },
           "YO8 6NR": {
            "class": "models.MapDataLocation",
            "lat": 53.7825,
            "lng": -0.997166
           },
           "YO8 6NS": {
            "class": "models.MapDataLocation",
            "lat": 53.782,
            "lng": -0.993899
           },
           "YO8 6NT": {
            "class": "models.MapDataLocation",
            "lat": 53.7826,
            "lng": -0.992959
           },
           "YO8 6NU": {
            "class": "models.MapDataLocation",
            "lat": 53.7853,
            "lng": -0.994822
           },
           "YO8 6NW": {
            "class": "models.MapDataLocation",
            "lat": 53.7814,
            "lng": -0.996874
           },
           "YO8 6NX": {
            "class": "models.MapDataLocation",
            "lat": 53.7912,
            "lng": -0.992571
           },
           "YO8 6NZ": {
            "class": "models.MapDataLocation",
            "lat": 53.7828,
            "lng": -0.994092
           },
           "YO8 6PD": {
            "class": "models.MapDataLocation",
            "lat": 53.788,
            "lng": -1.01226
           },
           "YO8 6PE": {
            "class": "models.MapDataLocation",
            "lat": 53.7855,
            "lng": -1.00998
           },
           "YO8 6PF": {
            "class": "models.MapDataLocation",
            "lat": 53.781,
            "lng": -0.999751
           },
           "YO8 6PG": {
            "class": "models.MapDataLocation",
            "lat": 53.7813,
            "lng": -1.00061
           },
           "YO8 6PH": {
            "class": "models.MapDataLocation",
            "lat": 53.7755,
            "lng": -0.989304
           },
           "YO8 6PP": {
            "class": "models.MapDataLocation",
            "lat": 53.7817,
            "lng": -0.991828
           },
           "YO8 6PQ": {
            "class": "models.MapDataLocation",
            "lat": 53.778,
            "lng": -0.994148
           },
           "YO8 6PW": {
            "class": "models.MapDataLocation",
            "lat": 53.7781,
            "lng": -0.99548
           },
           "YO8 6QE": {
            "class": "models.MapDataLocation",
            "lat": 53.7688,
            "lng": -0.978709
           },
           "YO8 6QG": {
            "class": "models.MapDataLocation",
            "lat": 53.7729,
            "lng": -0.981039
           },
           "YO8 6RN": {
            "class": "models.MapDataLocation",
            "lat": 53.7838,
            "lng": -0.993675
           },
           "YO8 7NH": {
            "class": "models.MapDataLocation",
            "lat": 53.7768,
            "lng": -0.994222
           },
           "YO8 7NL": {
            "class": "models.MapDataLocation",
            "lat": 53.7792,
            "lng": -0.997046
           },
           "YO8 7NS": {
            "class": "models.MapDataLocation",
            "lat": 53.782,
            "lng": -0.993641
           },
           "YO8 7NX": {
            "class": "models.MapDataLocation",
            "lat": 53.792,
            "lng": -0.99914
           },
           "YO8 7PF": {
            "class": "models.MapDataLocation",
            "lat": 53.7848,
            "lng": -1.00563
           },
           "YO8 7PG": {
            "class": "models.MapDataLocation",
            "lat": 53.7811,
            "lng": -1.00291
           },
           "YO8 7QG": {
            "class": "models.MapDataLocation",
            "lat": 53.7731,
            "lng": -0.981669
           },
           "YO8 8QN": {
            "class": "models.MapDataLocation",
            "lat": 53.7182,
            "lng": -1.08735
           }
          },
          "received_time": "2021-04-09 11:15"
         },
         "INCD-170187-A": {
          "description": "Damaged LV U/G In Progress",
          "estimated_restored_time": "2021-04-09 11:45",
          "incident_active": true,
          "incident_url": "https://www.northernpowergrid.com/power-cuts",
          "postcodes_impacted": {
           "DN4 6QT": {
            "class": "models.MapDataLocation",
            "lat": 53.5079,
            "lng": -1.06409
           },
           "DN4 6QU": {
            "class": "models.MapDataLocation",
            "lat": 53.5072,
            "lng": -1.06651
           },
           "DN4 6QX": {
            "class": "models.MapDataLocation",
            "lat": 53.5068,
            "lng": -1.06587
           },
           "DN4 6RH": {
            "class": "models.MapDataLocation",
            "lat": 53.5063,
            "lng": -1.06741
           },
           "DN4 6RJ": {
            "class": "models.MapDataLocation",
            "lat": 53.5063,
            "lng": -1.06624
           },
           "DN4 6RL": {
            "class": "models.MapDataLocation",
            "lat": 53.5066,
            "lng": -1.06558
           },
           "DN4 6RN": {
            "class": "models.MapDataLocation",
            "lat": 53.5072,
            "lng": -1.06455
           },
           "DN4 6RY": {
            "class": "models.MapDataLocation",
            "lat": 53.5069,
            "lng": -1.06746
           },
           "DN4 6TN": {
            "class": "models.MapDataLocation",
            "lat": 53.5035,
            "lng": -1.06625
           },
           "DN4 6UQ": {
            "class": "models.MapDataLocation",
            "lat": 53.5053,
            "lng": -1.06679
           }
          },
          "received_time": "2021-04-09 11:45"
         },
         "INCD-170218-A": {
          "description": "Unknown P2 In Progress",
          "estimated_restored_time": "",
          "incident_active": true,
          "incident_url": "https://www.northernpowergrid.com/power-cuts",
          "postcodes_impacted": {
           "LS28 9HG": {
            "class": "models.MapDataLocation",
            "lat": 53.7882,
            "lng": -1.6522
           }
          },
          "received_time": "2021-04-09 13:06"
         },
         "INCD-170225-A": {
          "description": "O/H HV Mains Repair Awaiting",
          "estimated_restored_time": "2021-04-09 13:09",
          "incident_active": true,
          "incident_url": "https://www.northernpowergrid.com/power-cuts",
          "postcodes_impacted": {
           "HG3 1RP": {
            "class": "models.MapDataLocation",
            "lat": 53.9839,
            "lng": -1.70882
           },
           "HG3 1SB": {
            "class": "models.MapDataLocation",
            "lat": 53.9802,
            "lng": -1.68479
           },
           "HG3 1SD": {
            "class": "models.MapDataLocation",
            "lat": 53.9983,
            "lng": -1.69231
           },
           "HG3 1SF": {
            "class": "models.MapDataLocation",
            "lat": 53.9852,
            "lng": -1.59153
           },
           "HG3 1SJ": {
            "class": "models.MapDataLocation",
            "lat": 53.9879,
            "lng": -1.67637
           },
           "HG3 1SL": {
            "class": "models.MapDataLocation",
            "lat": 53.9873,
            "lng": -1.67848
           },
           "HG3 1SN": {
            "class": "models.MapDataLocation",
            "lat": 53.9927,
            "lng": -1.68105
           },
           "HG3 1SP": {
            "class": "models.MapDataLocation",
            "lat": 53.9975,
            "lng": -1.70313
           },
           "HG3 1SR": {
            "class": "models.MapDataLocation",
            "lat": 53.9906,
            "lng": -1.70738
           },
           "HG3 1SS": {
            "class": "models.MapDataLocation",
            "lat": 53.9851,
            "lng": -1.71106
           },
           "HG3 1SU": {
            "class": "models.MapDataLocation",
            "lat": 53.9828,
            "lng": -1.7045
           },
           "HG3 1SW": {
            "class": "models.MapDataLocation",
            "lat": 53.9949,
            "lng": -1.70156
           },
           "HG3 1SY": {
            "class": "models.MapDataLocation",
            "lat": 53.9858,
            "lng": -1.69701
           },
           "HG3 1SZ": {
            "class": "models.MapDataLocation",
            "lat": 53.983,
            "lng": -1.68385
           },
           "HG3 1TA": {
            "class": "models.MapDataLocation",
            "lat": 53.9789,
            "lng": -1.67345
           },
           "HG3 1TB": {
            "class": "models.MapDataLocation",
            "lat": 53.9742,
            "lng": -1.68688
           },
           "HG3 1TD": {
            "class": "models.MapDataLocation",
            "lat": 53.9738,
            "lng": -1.68599
           },
           "HG3 1TE": {
            "class": "models.MapDataLocation",
            "lat": 53.9735,
            "lng": -1.68476
           },
           "HG3 1TF": {
            "class": "models.MapDataLocation",
            "lat": 53.9734,
            "lng": -1.68417
           },
           "HG3 2RL": {
            "class": "models.MapDataLocation",
            "lat": 54.0033,
            "lng": -1.6974
           },
           "LS21 2NA": {
            "class": "models.MapDataLocation",
            "lat": 53.9427,
            "lng": -1.7062
           },
           "LS21 2PQ": {
            "class": "models.MapDataLocation",
            "lat": 54.0058,
            "lng": -1.74344
           },
           "LS21 2QS": {
            "class": "models.MapDataLocation",
            "lat": 53.949,
            "lng": -1.67095
           },
           "LS21 2QT": {
            "class": "models.MapDataLocation",
            "lat": 53.9533,
            "lng": -1.66908
           },
           "LS21 2QU": {
            "class": "models.MapDataLocation",
            "lat": 53.9629,
            "lng": -1.68763
           },
           "LS21 2QX": {
            "class": "models.MapDataLocation",
            "lat": 53.9667,
            "lng": -1.69471
           },
           "LS21 2QY": {
            "class": "models.MapDataLocation",
            "lat": 53.9626,
            "lng": -1.69942
           },
           "LS21 2QZ": {
            "class": "models.MapDataLocation",
            "lat": 53.9493,
            "lng": -1.6844
           },
           "LS21 2RA": {
            "class": "models.MapDataLocation",
            "lat": 53.9505,
            "lng": -1.68699
           }
          },
          "received_time": "2021-04-09 13:09"
         },
         "INCD-170226-A": {
          "description": "Unknown P2 Awaiting",
          "estimated_restored_time": "",
          "incident_active": true,
          "incident_url": "https://www.northernpowergrid.com/power-cuts",
          "postcodes_impacted": {
           "WF16 9EH": {
            "class": "models.MapDataLocation",
            "lat": 53.7116,
            "lng": -1.67113
           }
          },
          "received_time": "2021-04-09 13:13"
         },
         "INCD-170228-A": {
          "description": "Damage Other In Progress",
          "estimated_restored_time": "",
          "incident_active": true,
          "incident_url": "https://www.northernpowergrid.com/power-cuts",
          "postcodes_impacted": {
           "LS17 6RB": {
            "class": "models.MapDataLocation",
            "lat": 53.8433,
            "lng": -1.53186
           }
          },
          "received_time": "2021-04-09 13:15"
         },
         "INCD-170231-A": {
          "description": "Damage Other In Progress",
          "estimated_restored_time": "2021-04-09 13:24",
          "incident_active": true,
          "incident_url": "https://www.northernpowergrid.com/power-cuts",
          "postcodes_impacted": {
           "DN4 6UD": {
            "class": "models.MapDataLocation",
            "lat": 53.5069,
            "lng": -1.0625
           }
          },
          "received_time": "2021-04-09 13:24"
         },
         "INCD-170238-A": {
          "description": "Damaged service U/G In Progress",
          "estimated_restored_time": "2021-04-09 13:42",
          "incident_active": true,
          "incident_url": "https://www.northernpowergrid.com/power-cuts",
          "postcodes_impacted": {
           "SR5 3AH": {
            "class": "models.MapDataLocation",
            "lat": 54.9189,
            "lng": -1.43581
           }
          },
          "received_time": "2021-04-09 13:42"
         },
         "INCD-170241-A": {
          "description": "Damaged service U/G In Progress",
          "estimated_restored_time": "2021-04-09 13:52",
          "incident_active": true,
          "incident_url": "https://www.northernpowergrid.com/power-cuts",
          "postcodes_impacted": {
           "WF12 8RQ": {
            "class": "models.MapDataLocation",
            "lat": 53.6875,
            "lng": -1.60255
           }
          },
          "received_time": "2021-04-09 13:52"
         },
         "INCD-170246-A": {
          "description": "Unknown P2 In Progress",
          "estimated_restored_time": "",
          "incident_active": true,
          "incident_url": "https://www.northernpowergrid.com/power-cuts",
          "postcodes_impacted": {
           "BD2 1BJ": {
            "class": "models.MapDataLocation",
            "lat": 53.8213,
            "lng": -1.75891
           }
          },
          "received_time": "2021-04-09 14:01"
         },
         "INCD-170256-A": {
          "description": "Unknown P2 In Progress",
          "estimated_restored_time": "2021-04-09 14:17",
          "incident_active": true,
          "incident_url": "https://www.northernpowergrid.com/power-cuts",
          "postcodes_impacted": {
           "HU1 1UZ": {
            "class": "models.MapDataLocation",
            "lat": 53.7382,
            "lng": -0.335135
           }
          },
          "received_time": "2021-04-09 14:17"
         },
         "INCD-170257-A": {
          "description": "Unknown P2 In Progress",
          "estimated_restored_time": "2021-04-09 14:12",
          "incident_active": true,
          "incident_url": "https://www.northernpowergrid.com/power-cuts",
          "postcodes_impacted": {
           "HX3 0TJ": {
            "class": "models.MapDataLocation",
            "lat": 53.701,
            "lng": -1.8667
           },
           "HX3 0TU": {
            "class": "models.MapDataLocation",
            "lat": 53.6996,
            "lng": -1.86951
           },
           "HX3 0UA": {
            "class": "models.MapDataLocation",
            "lat": 53.7002,
            "lng": -1.8722
           },
           "HX3 0UT": {
            "class": "models.MapDataLocation",
            "lat": 53.7011,
            "lng": -1.87093
           },
           "HX3 0UU": {
            "class": "models.MapDataLocation",
            "lat": 53.7001,
            "lng": -1.86751
           }
          },
          "received_time": "2021-04-09 14:12"
         },
         "INCD-170260-A": {
          "description": "Unknown P1 In Progress",
          "estimated_restored_time": "",
          "incident_active": true,
          "incident_url": "https://www.northernpowergrid.com/power-cuts",
          "postcodes_impacted": {
           "TS25 5QE": {
            "class": "models.MapDataLocation",
            "lat": 54.674,
            "lng": -1.22599
           }
          },
          "received_time": "2021-04-09 14:25"
         },
         "INCD-170263-A": {
          "description": "Unknown P1 In Progress",
          "estimated_restored_time": "2021-04-09 14:34",
          "incident_active": true,
          "incident_url": "https://www.northernpowergrid.com/power-cuts",
          "postcodes_impacted": {
           "NE5 2YQ": {
            "class": "models.MapDataLocation",
            "lat": 54.9914,
            "lng": -1.69022
           }
          },
          "received_time": "2021-04-09 14:34"
         },
         "INCD-170265-A": {
          "description": "Damage Other In Progress",
          "estimated_restored_time": "2021-04-09 14:11",
          "incident_active": true,
          "incident_url": "https://www.northernpowergrid.com/power-cuts",
          "postcodes_impacted": {
           "HX3 7HG": {
            "class": "models.MapDataLocation",
            "lat": 53.7353,
            "lng": -1.82844
           }
          },
          "received_time": "2021-04-09 14:11"
         },
         "INCD-170279-A": {
          "description": "Unknown P2 Awaiting",
          "estimated_restored_time": "2021-04-09 15:07",
          "incident_active": true,
          "incident_url": "https://www.northernpowergrid.com/power-cuts",
          "postcodes_impacted": {
           "S8 8FJ": {
            "class": "models.MapDataLocation",
            "lat": 53.3191,
            "lng": -1.46707
           },
           "S8 8FN": {
            "class": "models.MapDataLocation",
            "lat": 53.319,
            "lng": -1.46644
           },
           "S8 8FX": {
            "class": "models.MapDataLocation",
            "lat": 53.3181,
            "lng": -1.4682
           }
          },
          "received_time": "2021-04-09 15:07"
         },
         "INCD-170280-A": {
          "description": "Unknown P2 Awaiting",
          "estimated_restored_time": "2021-04-09 15:25",
          "incident_active": true,
          "incident_url": "https://www.northernpowergrid.com/power-cuts",
          "postcodes_impacted": {
           "HU18 1TL": {
            "class": "models.MapDataLocation",
            "lat": 53.9047,
            "lng": -0.158804
           }
          },
          "received_time": "2021-04-09 15:25"
         },
         "INCD-170281-A": {
          "description": "Unknown P2 Awaiting",
          "estimated_restored_time": "2021-04-09 15:29",
          "incident_active": true,
          "incident_url": "https://www.northernpowergrid.com/power-cuts",
          "postcodes_impacted": {
           "WF14 0QP": {
            "class": "models.MapDataLocation",
            "lat": 53.6836,
            "lng": -1.67438
           }
          },
          "received_time": "2021-04-09 15:29"
         },
         "PPC039123": {
          "description": "We need to temporarily turn the power off to carry out power upgrades in the area. The scheduled work has now been completed",
          "estimated_restored_time": "2021-04-09 09:00",
          "incident_active": true,
          "incident_url": "https://www.northernpowergrid.com/power-cuts",
          "postcodes_impacted": {
           "NE21 4SY": {
            "class": "models.MapDataLocation",
            "lat": 54.9594,
            "lng": -1.74275
           },
           "NE21 4SZ": {
            "class": "models.MapDataLocation",
            "lat": 54.9586,
            "lng": -1.74094
           },
           "NE21 4TA": {
            "class": "models.MapDataLocation",
            "lat": 54.9577,
            "lng": -1.74058
           },
           "NE21 6DZ": {
            "class": "models.MapDataLocation",
            "lat": 54.9561,
            "lng": -1.73382
           },
           "NE21 6JJ": {
            "class": "models.MapDataLocation",
            "lat": 54.9549,
            "lng": -1.74264
           },
           "NE21 6JL": {
            "class": "models.MapDataLocation",
            "lat": 54.9554,
            "lng": -1.74139
           },
           "NE21 6JN": {
            "class": "models.MapDataLocation",
            "lat": 54.955,
            "lng": -1.74665
           },
           "NE21 6JR": {
            "class": "models.MapDataLocation",
            "lat": 54.9543,
            "lng": -1.74083
           },
           "NE21 6JW": {
            "class": "models.MapDataLocation",
            "lat": 54.9562,
            "lng": -1.75156
           }
          },
          "received_time": "2021-04-09 09:00"
         },
         "PPC039174": {
          "description": "We need to temporarily turn the power off to undertake vegetation management in the area. The scheduled work has now been completed",
          "estimated_restored_time": "2021-04-09 08:00",
          "incident_active": true,
          "incident_url": "https://www.northernpowergrid.com/power-cuts",
          "postcodes_impacted": {
           "LN7 6JY": {
            "class": "models.MapDataLocation",
            "lat": 53.5228,
            "lng": -0.419666
           },
           "LN7 6JZ": {
            "class": "models.MapDataLocation",
            "lat": 53.5237,
            "lng": -0.42138
           },
           "LN7 6LQ": {
            "class": "models.MapDataLocation",
            "lat": 53.5236,
            "lng": -0.422199
           }
          },
          "received_time": "2021-04-09 08:00"
         },
         "PPC039180": {
          "description": "We need to temporarily turn the power off to carry out maintenance on our network in the area. The scheduled work has now been completed",
          "estimated_restored_time": "2021-04-09 09:30",
          "incident_active": true,
          "incident_url": "https://www.northernpowergrid.com/power-cuts",
          "postcodes_impacted": {
           "YO62 6UN": {
            "class": "models.MapDataLocation",
            "lat": 54.3246,
            "lng": -0.925091
           },
           "YO62 7XH": {
            "class": "models.MapDataLocation",
            "lat": 54.3354,
            "lng": -0.953371
           },
           "YO62 7XJ": {
            "class": "models.MapDataLocation",
            "lat": 54.3245,
            "lng": -0.94825
           }
          },
          "received_time": "2021-04-09 09:30"
         },
         "PPC039181": {
          "description": "We need to temporarily turn the power off to carry out maintenance on our network in the area. The scheduled work has now been completed",
          "estimated_restored_time": "2021-04-09 10:30",
          "incident_active": true,
          "incident_url": "https://www.northernpowergrid.com/power-cuts",
          "postcodes_impacted": {
           "YO62 7HX": {
            "class": "models.MapDataLocation",
            "lat": 54.3013,
            "lng": -0.952977
           }
          },
          "received_time": "2021-04-09 10:30"
         },
         "PPC039351": {
          "description": "We need to temporarily turn the power off to undertake vegetation management in the area. The scheduled work has now been completed",
          "estimated_restored_time": "2021-04-09 08:00",
          "incident_active": true,
          "incident_url": "https://www.northernpowergrid.com/power-cuts",
          "postcodes_impacted": {
           "DL14 9NW": {
            "class": "models.MapDataLocation",
            "lat": 54.6127,
            "lng": -1.74999
           }
          },
          "received_time": "2021-04-09 08:00"
         },
         "PPC039370": {
          "description": "We need to temporarily turn the power off to carry out replacement of poles that support our overhead power lines in the area. The scheduled work has now been completed",
          "estimated_restored_time": "2021-04-09 08:00",
          "incident_active": true,
          "incident_url": "https://www.northernpowergrid.com/power-cuts",
          "postcodes_impacted": {
           "NE48 2RJ": {
            "class": "models.MapDataLocation",
            "lat": 55.1631,
            "lng": -2.18123
           },
           "NE61 4AE": {
            "class": "models.MapDataLocation",
            "lat": 55.1278,
            "lng": -1.93382
           }
          },
          "received_time": "2021-04-09 08:00"
         },
         "PPC039545": {
          "description": "We need to temporarily turn the power off to carry out replacement of poles that support our overhead power lines in the area. The scheduled work has now been completed",
          "estimated_restored_time": "2021-04-09 09:00",
          "incident_active": true,
          "incident_url": "https://www.northernpowergrid.com/power-cuts",
          "postcodes_impacted": {
           "DH7 0AB": {
            "class": "models.MapDataLocation",
            "lat": 54.828,
            "lng": -1.70789
           },
           "DH7 0BE": {
            "class": "models.MapDataLocation",
            "lat": 54.8309,
            "lng": -1.70283
           },
           "DH7 0BP": {
            "class": "models.MapDataLocation",
            "lat": 54.8302,
            "lng": -1.70595
           },
           "DH7 0BW": {
            "class": "models.MapDataLocation",
            "lat": 54.8303,
            "lng": -1.70582
           },
           "DH7 0DA": {
            "class": "models.MapDataLocation",
            "lat": 54.83,
            "lng": -1.70505
           },
           "DH7 0DB": {
            "class": "models.MapDataLocation",
            "lat": 54.8293,
            "lng": -1.70363
           },
           "DH7 0DD": {
            "class": "models.MapDataLocation",
            "lat": 54.8316,
            "lng": -1.70454
           },
           "DH7 0DE": {
            "class": "models.MapDataLocation",
            "lat": 54.8306,
            "lng": -1.70542
           },
           "DH7 0DL": {
            "class": "models.MapDataLocation",
            "lat": 54.8264,
            "lng": -1.71245
           },
           "DH7 0DP": {
            "class": "models.MapDataLocation",
            "lat": 54.832,
            "lng": -1.70159
           },
           "DH7 0EA": {
            "class": "models.MapDataLocation",
            "lat": 54.8307,
            "lng": -1.70439
           },
           "DH7 0EQ": {
            "class": "models.MapDataLocation",
            "lat": 54.8328,
            "lng": -1.70149
           }
          },
          "received_time": "2021-04-09 09:00"
         },
         "PPC039560": {
          "description": "We need to temporarily turn the power off to undertake vegetation management in the area. The scheduled work has now been completed",
          "estimated_restored_time": "2021-04-09 08:00",
          "incident_active": true,
          "incident_url": "https://www.northernpowergrid.com/power-cuts",
          "postcodes_impacted": {
           "DN20 8NA": {
            "class": "models.MapDataLocation",
            "lat": 53.549,
            "lng": -0.497721
           },
           "DN20 9EY": {
            "class": "models.MapDataLocation",
            "lat": 53.548,
            "lng": -0.480793
           },
           "DN20 9HW": {
            "class": "models.MapDataLocation",
            "lat": 53.5481,
            "lng": -0.490945
           }
          },
          "received_time": "2021-04-09 08:00"
         },
         "PPC039568": {
          "description": "We need to temporarily turn the power off to undertake vegetation management in the area. The scheduled work has now been completed",
          "estimated_restored_time": "2021-04-09 08:00",
          "incident_active": true,
          "incident_url": "https://www.northernpowergrid.com/power-cuts",
          "postcodes_impacted": {
           "BD23 4DT": {
            "class": "models.MapDataLocation",
            "lat": 54.0057,
            "lng": -2.15277
           },
           "BD23 4DU": {
            "class": "models.MapDataLocation",
            "lat": 54.002,
            "lng": -2.14596
           }
          },
          "received_time": "2021-04-09 08:00"
         },
         "PPC039725": {
          "description": "We need to temporarily turn the power off to carry out replacement work on our overhead power lines in the area. The scheduled work has now been completed",
          "estimated_restored_time": "2021-04-09 08:30",
          "incident_active": true,
          "incident_url": "https://www.northernpowergrid.com/power-cuts",
          "postcodes_impacted": {
           "NE40 3AA": {
            "class": "models.MapDataLocation",
            "lat": 54.9727,
            "lng": -1.77236
           },
           "NE40 3AJ": {
            "class": "models.MapDataLocation",
            "lat": 54.9727,
            "lng": -1.77118
           },
           "NE40 3AN": {
            "class": "models.MapDataLocation",
            "lat": 54.9736,
            "lng": -1.7705
           },
           "NE40 3AQ": {
            "class": "models.MapDataLocation",
            "lat": 54.9721,
            "lng": -1.77168
           },
           "NE40 3AR": {
            "class": "models.MapDataLocation",
            "lat": 54.9711,
            "lng": -1.77417
           },
           "NE40 3AT": {
            "class": "models.MapDataLocation",
            "lat": 54.9715,
            "lng": -1.77429
           },
           "NE40 3AW": {
            "class": "models.MapDataLocation",
            "lat": 54.9729,
            "lng": -1.77177
           },
           "NE40 3BT": {
            "class": "models.MapDataLocation",
            "lat": 54.9725,
            "lng": -1.76669
           }
          },
          "received_time": "2021-04-09 08:30"
         },
         "PPC039749": {
          "description": "We need to temporarily turn the power off to connect a new customer in the area. The scheduled work has now been completed",
          "estimated_restored_time": "2021-04-09 08:30",
          "incident_active": true,
          "incident_url": "https://www.northernpowergrid.com/power-cuts",
          "postcodes_impacted": {
           "DH1 5RD": {
            "class": "models.MapDataLocation",
            "lat": 54.8011,
            "lng": -1.61093
           },
           "DH1 5RH": {
            "class": "models.MapDataLocation",
            "lat": 54.8027,
            "lng": -1.61063
           },
           "DH1 5RQ": {
            "class": "models.MapDataLocation",
            "lat": 54.8021,
            "lng": -1.6124
           }
          },
          "received_time": "2021-04-09 08:30"
         },
         "PPC039763": {
          "description": "We need to temporarily turn the power off to carry out a permanent repair in the area. The scheduled work has now been completed",
          "estimated_restored_time": "2021-04-09 09:00",
          "incident_active": true,
          "incident_url": "https://www.northernpowergrid.com/power-cuts",
          "postcodes_impacted": {
           "BD6 2PZ": {
            "class": "models.MapDataLocation",
            "lat": 53.756,
            "lng": -1.78804
           },
           "BD6 2QG": {
            "class": "models.MapDataLocation",
            "lat": 53.7571,
            "lng": -1.78951
           },
           "BD6 2QL": {
            "class": "models.MapDataLocation",
            "lat": 53.7571,
            "lng": -1.79096
           },
           "BD6 2RE": {
            "class": "models.MapDataLocation",
            "lat": 53.7564,
            "lng": -1.79759
           },
           "BD6 2RH": {
            "class": "models.MapDataLocation",
            "lat": 53.7563,
            "lng": -1.79824
           },
           "BD6 2RL": {
            "class": "models.MapDataLocation",
            "lat": 53.7563,
            "lng": -1.79824
           },
           "BD6 2SB": {
            "class": "models.MapDataLocation",
            "lat": 53.7549,
            "lng": -1.7892
           },
           "BD6 3EW": {
            "class": "models.MapDataLocation",
            "lat": 53.7687,
            "lng": -1.80334
           }
          },
          "received_time": "2021-04-09 09:00"
         },
         "PPC039771": {
          "description": "We need to temporarily turn the power off to connect a new customer in the area. The scheduled work has now been completed",
          "estimated_restored_time": "2021-04-09 08:00",
          "incident_active": true,
          "incident_url": "https://www.northernpowergrid.com/power-cuts",
          "postcodes_impacted": {
           "HG3 1QU": {
            "class": "models.MapDataLocation",
            "lat": 53.9623,
            "lng": -1.60567
           }
          },
          "received_time": "2021-04-09 08:00"
         },
         "PPC039814": {
          "description": "We need to temporarily turn the power off to carry out a permanent repair in the area. The scheduled work has now been completed",
          "estimated_restored_time": "2021-04-09 09:00",
          "incident_active": true,
          "incident_url": "https://www.northernpowergrid.com/power-cuts",
          "postcodes_impacted": {
           "WF17 5AY": {
            "class": "models.MapDataLocation",
            "lat": 53.709,
            "lng": -1.63158
           },
           "WF17 5PT": {
            "class": "models.MapDataLocation",
            "lat": 53.7093,
            "lng": -1.62903
           },
           "WF17 5PU": {
            "class": "models.MapDataLocation",
            "lat": 53.7093,
            "lng": -1.62802
           },
           "WF17 5QA": {
            "class": "models.MapDataLocation",
            "lat": 53.7084,
            "lng": -1.62747
           },
           "WF17 6HY": {
            "class": "models.MapDataLocation",
            "lat": 53.7079,
            "lng": -1.62697
           }
          },
          "received_time": "2021-04-09 09:00"
         },
         "PPC039816": {
          "description": "We need to temporarily turn the power off to carry out a permanent repair in the area. The scheduled work has now been completed",
          "estimated_restored_time": "2021-04-09 10:00",
          "incident_active": true,
          "incident_url": "https://www.northernpowergrid.com/power-cuts",
          "postcodes_impacted": {
           "LS12 1YL": {
            "class": "models.MapDataLocation",
            "lat": 53.7956,
            "lng": -1.57288
           },
           "LS12 1YN": {
            "class": "models.MapDataLocation",
            "lat": 53.7961,
            "lng": -1.57252
           },
           "LS12 2UB": {
            "class": "models.MapDataLocation",
            "lat": 53.7955,
            "lng": -1.57297
           }
          },
          "received_time": "2021-04-09 10:00"
         },
         "PPC039818": {
          "description": "We need to temporarily turn the power off to carry out a permanent repair in the area. The scheduled work has now been completed",
          "estimated_restored_time": "2021-04-09 09:00",
          "incident_active": true,
          "incident_url": "https://www.northernpowergrid.com/power-cuts",
          "postcodes_impacted": {
           "BD16 2RD": {
            "class": "models.MapDataLocation",
            "lat": 53.8519,
            "lng": -1.84021
           },
           "BD16 2RH": {
            "class": "models.MapDataLocation",
            "lat": 53.8516,
            "lng": -1.8417
           },
           "BD16 2RJ": {
            "class": "models.MapDataLocation",
            "lat": 53.8523,
            "lng": -1.84246
           },
           "BD16 2RL": {
            "class": "models.MapDataLocation",
            "lat": 53.852,
            "lng": -1.84306
           }
          },
          "received_time": "2021-04-09 09:00"
         },
         "PPC039821": {
          "description": "We need to temporarily turn the power off to carry out a permanent repair in the area. The scheduled work has now been completed",
          "estimated_restored_time": "2021-04-09 08:30",
          "incident_active": true,
          "incident_url": "https://www.northernpowergrid.com/power-cuts",
          "postcodes_impacted": {
           "YO8 8BJ": {
            "class": "models.MapDataLocation",
            "lat": 53.7823,
            "lng": -1.06122
           },
           "YO8 8BL": {
            "class": "models.MapDataLocation",
            "lat": 53.7829,
            "lng": -1.06028
           },
           "YO8 8BN": {
            "class": "models.MapDataLocation",
            "lat": 53.7821,
            "lng": -1.05951
           },
           "YO8 8BW": {
            "class": "models.MapDataLocation",
            "lat": 53.7822,
            "lng": -1.05721
           }
          },
          "received_time": "2021-04-09 08:30"
         },
         "PPC039826": {
          "description": "We need to temporarily turn the power off to carry out power upgrades in the area. Work is scheduled to start",
          "estimated_restored_time": "2021-04-09 16:00",
          "incident_active": true,
          "incident_url": "https://www.northernpowergrid.com/power-cuts",
          "postcodes_impacted": {
           "HD8 9HH": {
            "class": "models.MapDataLocation",
            "lat": 53.5916,
            "lng": -1.61966
           }
          },
          "received_time": "2021-04-09 16:00"
         }
        },
        "sp": {
         "INCD-1806746-i": {
          "description": "There was a fault in your area which has now been resolved.  If you are still without power. please call us on: \nCentral and Southern Scotland: 0800 092 9290 . \n Cheshire, Merseyside, North Wales and North Shropshire: 0800 001 5400.",
          "estimated_restored_time": "",
          "incident_active": false,
          "incident_url": "https://www.spenergynetworks.co.uk/pages/power_cuts_map.aspx?incRef=INCD-1806746-i",
          "postcodes_impacted": [
           "L114SR",
           "L114TA",
           "L114TE",
           "L114UE"
          ],
          "received_time": "2021-04-07 22:04"
         },
         "INCD-1806920-i": {
          "description": "There was a fault in your area which has now been resolved.  If you are still without power. please call us on: \nCentral and Southern Scotland: 0800 092 9290 . \n Cheshire, Merseyside, North Wales and North Shropshire: 0800 001 5400.",
          "estimated_restored_time": "",
          "incident_active": false,
          "incident_url": "https://www.spenergynetworks.co.uk/pages/power_cuts_map.aspx?incRef=INCD-1806920-i",
          "postcodes_impacted": [
           "CW55DB"
          ],
          "received_time": "2021-04-08 11:08"
         },
         "INCD-1807004-i": {
          "description": "There was a fault in your area which has now been resolved.  If you are still without power. please call us on: \nCentral and Southern Scotland: 0800 092 9290 . \n Cheshire, Merseyside, North Wales and North Shropshire: 0800 001 5400.",
          "estimated_restored_time": "",
          "incident_active": false,
          "incident_url": "https://www.spenergynetworks.co.uk/pages/power_cuts_map.aspx?incRef=INCD-1807004-i",
          "postcodes_impacted": [
           "LL572DX",
           "LL572UJ",
           "LL572YD",
           "LL574SB",
           "LL574SG",
           "LL574SH",
           "LL574SN",
           "LL574SY",
           "LL574TA",
           "LL574TJ"
          ],
          "received_time": "2021-04-08 13:45"
         },
         "INCD-1807028-i": {
          "description": "There was a fault in your area which has now been resolved.  If you are still without power. please call us on: \nCentral and Southern Scotland: 0800 092 9290 . \n Cheshire, Merseyside, North Wales and North Shropshire: 0800 001 5400.",
          "estimated_restored_time": "",
          "incident_active": false,
          "incident_url": "https://www.spenergynetworks.co.uk/pages/power_cuts_map.aspx?incRef=INCD-1807028-i",
          "postcodes_impacted": [
           "CH448BT",
           "CH448BY",
           "CH448BZ",
           "CH448DA",
           "CH448DB",
           "CH448DD",
           "CH448DY"
          ],
          "received_time": "2021-04-08 14:15"
         },
         "INCD-1807118-i": {
          "description": "There was a fault in your area which has now been resolved.  If you are still without power. please call us on: \nCentral and Southern Scotland: 0800 092 9290 . \n Cheshire, Merseyside, North Wales and North Shropshire: 0800 001 5400.",
          "estimated_restored_time": "",
          "incident_active": false,
          "incident_url": "https://www.spenergynetworks.co.uk/pages/power_cuts_map.aspx?incRef=INCD-1807118-i",
          "postcodes_impacted": [
           "L12SJ",
           "L12SP",
           "L12TR",
           "L14AZ",
           "L14BB",
           "L14BL",
           "L14DL",
           "L14DR",
           "L14HF",
           "L14JF",
           "L14JQ",
           "L14JS",
           "L15EL",
           "L17AX",
           "L17AY",
           "L17BT",
           "L19AA",
           "L19AD",
           "L19AF",
           "L19AJ",
           "L19AL",
           "L19AR",
           "L19AS",
           "L19AW",
           "L19AX",
           "L19BB",
           "L19BG",
           "L19BP",
           "L19BQ",
           "L19BW",
           "L19BZ",
           "L19DA",
           "L19DF",
           "L19DN",
           "L19DS",
           "L19DT",
           "L19DU",
           "L19DW",
           "L19DY",
           "L19DZ",
           "L19EA",
           "L19EH",
           "L19EN",
           "L19ER",
           "L19EW",
           "L19EX",
           "L19HB",
           "L19HD",
           "L19HE",
           "L19HF",
           "L19HT",
           "L19JD",
           "L19JF",
           "L77BP",
           "L77DN",
           "L77DP",
           "L77DX",
           "L77EA",
           "L77EB",
           "L81NN",
           "L87JZ",
           "L87NE",
           "L87NH",
           "L87NL",
           "L87NN",
           "L87NP",
           "L87PB",
           "L87PE",
           "L87PH",
           "L87PJ",
           "L87PQ",
           "L87PU",
           "L87PY",
           "L87PZ",
           "L87TA"
          ],
          "received_time": "2021-04-08 17:27"
         },
         "INCD-1807142-i": {
          "description": "There was a fault in your area which has now been resolved.  If you are still without power. please call us on: \nCentral and Southern Scotland: 0800 092 9290 . \n Cheshire, Merseyside, North Wales and North Shropshire: 0800 001 5400.",
          "estimated_restored_time": "",
          "incident_active": false,
          "incident_url": "https://www.spenergynetworks.co.uk/pages/power_cuts_map.aspx?incRef=INCD-1807142-i",
          "postcodes_impacted": [
           "TD58NS",
           "TD58NT",
           "TD60EY",
           "TD60RH",
           "TD69EU",
           "TD86TX",
           "TD86TY",
           "TD86TZ",
           "TD86UJ",
           "TD86XH"
          ],
          "received_time": "2021-04-08 18:05"
         },
         "INCD-1807154-i": {
          "description": "There was a fault in your area which has now been resolved.  If you are still without power. please call us on: \nCentral and Southern Scotland: 0800 092 9290 . \n Cheshire, Merseyside, North Wales and North Shropshire: 0800 001 5400.",
          "estimated_restored_time": "",
          "incident_active": false,
          "incident_url": "https://www.spenergynetworks.co.uk/pages/power_cuts_map.aspx?incRef=INCD-1807154-i",
          "postcodes_impacted": [
           "G50PQ",
           "G626BW",
           "G727DW",
           "G776SJ",
           "G78",
           "G781",
           "G781AA",
           "G781AD",
           "G781AE",
           "G781AG",
           "G781AH",
           "G781AJ",
           "G781AL",
           "G781AQ",
           "G781AW",
           "G781AX",
           "G781AY",
           "G781AZ",
           "G781BA",
           "G781BB",
           "G781BD",
           "G781BH",
           "G781BP",
           "G781BQ",
           "G781BS",
           "G781BT",
           "G781BU",
           "G781BW",
           "G781BX",
           "G781DD",
           "G781DE",
           "G781DF",
           "G781DG",
           "G781DH",
           "G781DJ",
           "G781DN",
           "G781DP",
           "G781DQ",
           "G781DR",
           "G781DS",
           "G781DT",
           "G781DU",
           "G781DW",
           "G781DX",
           "G781DY",
           "G781EA",
           "G781EH",
           "G781EL",
           "G781EP",
           "G781EQ",
           "G781ES",
           "G781ET",
           "G781EU",
           "G781EW",
           "G781GA",
           "G781GB",
           "G781GD",
           "G781GE",
           "G781GF",
           "G781GG",
           "G781HA",
           "G781HB",
           "G781HD",
           "G781HF",
           "G781HH",
           "G781HJ",
           "G781HL",
           "G781HN",
           "G781HP",
           "G781HQ",
           "G781HR",
           "G781HS",
           "G781HT",
           "G781HU",
           "G781HW",
           "G781HX",
           "G781HY",
           "G781HZ",
           "G781JA",
           "G781JB",
           "G781JD",
           "G781JE",
           "G781JF",
           "G781JG",
           "G781JH",
           "G781JL",
           "G781JN",
           "G781JP",
           "G781JQ",
           "G781JR",
           "G781JS",
           "G781JT",
           "G781JU",
           "G781JX",
           "G781JY",
           "G781JZ",
           "G781LD",
           "G781LE",
           "G781LG",
           "G781LH",
           "G781LJ",
           "G781LL",
           "G781LN",
           "G781LP",
           "G781LR",
           "G781LS",
           "G781LT",
           "G781LU",
           "G781LW",
           "G781LX",
           "G781LZ",
           "G781NB",
           "G781ND",
           "G781NH",
           "G781NJ",
           "G781NL",
           "G781NN",
           "G781NP",
           "G781NQ",
           "G781NR",
           "G781NS",
           "G781NT",
           "G781NU",
           "G781NW",
           "G781NX",
           "G781NY",
           "G781NZ",
           "G781OO",
           "G781PA",
           "G781PB",
           "G781PD",
           "G781PE",
           "G781PF",
           "G781PG",
           "G781PH",
           "G781PJ",
           "G781PL",
           "G781PN",
           "G781PQ",
           "G781PR",
           "G781PS",
           "G781PT",
           "G781PW",
           "G781QA",
           "G781QB",
           "G781QJ",
           "G781QP",
           "G781QQ",
           "G781QW",
           "G781QX",
           "G781QY",
           "G781RB",
           "G781RE",
           "G781RF",
           "G781RG",
           "G781RX",
           "G781SB",
           "G781SP",
           "G781SS",
           "G781SU",
           "G781SX",
           "G781TA",
           "G781TB",
           "G781TG",
           "G781TJ",
           "G781TL",
           "G781TN",
           "G781TS",
           "G781TT",
           "G781TW",
           "G781TY",
           "G781TZ",
           "G781UA",
           "G781UL",
           "G781UT",
           "G781UU",
           "G781UX",
           "G781UY",
           "G781UZ",
           "G781WW",
           "G782AB",
           "G782AD",
           "G782AE",
           "G782AF",
           "G782AG",
           "G782BH",
           "G782BL",
           "G782BN",
           "G782BP",
           "G782EZ",
           "G782HA",
           "G782HB",
           "G782HF",
           "G782HQ",
           "G782LH",
           "G782LZ",
           "G782NA",
           "G782NB",
           "G782ND",
           "G782NG",
           "G782NH",
           "G782NJ",
           "G782NQ",
           "G782NZ",
           "G782PA",
           "G782PB",
           "G782PD",
           "G782PE",
           "G782PF",
           "G782QB",
           "G782QF",
           "G782QP",
           "G782RS",
           "G782SQ",
           "G782TH",
           "G782TJ",
           "G783AB",
           "G783AE",
           "G783AG",
           "G783EA",
           "G783HB",
           "G783JU",
           "G783LT",
           "G783LU",
           "G783LX",
           "G783LY",
           "G783NA",
           "G783ND",
           "G783NE",
           "G783NG",
           "G783PT",
           "G783XX",
           "ML36LR",
           "PA13PD",
           "PA13PF",
           "PA13WW"
          ],
          "received_time": "2021-04-08 18:35"
         },
         "INCD-1807160-i": {
          "description": "There was a fault in your area which has now been resolved.  If you are still without power. please call us on: \nCentral and Southern Scotland: 0800 092 9290 . \n Cheshire, Merseyside, North Wales and North Shropshire: 0800 001 5400.",
          "estimated_restored_time": "",
          "incident_active": false,
          "incident_url": "https://www.spenergynetworks.co.uk/pages/power_cuts_map.aspx?incRef=INCD-1807160-i",
          "postcodes_impacted": [
           "DG29FP",
           "G411EJ",
           "G51",
           "G511AA",
           "G514DP",
           "G514DU",
           "G514EN",
           "G514GX",
           "G514GZ",
           "G514HA",
           "G514HB",
           "G514HG",
           "G514HH",
           "G514HJ",
           "G514HL",
           "G514HN",
           "G514HW",
           "G514JJ",
           "G514JL",
           "G514TF",
           "G514UL",
           "G516SD",
           "G52",
           "G522AJ",
           "G522AL",
           "G522AN",
           "G522BJ",
           "G522BS",
           "G522BT",
           "G522BX",
           "G522BY",
           "G522BZ",
           "G522DA",
           "G522DB",
           "G522DD",
           "G522DE",
           "G522DF",
           "G522DG",
           "G522DH",
           "G522DJ",
           "G522DU",
           "G522DZ",
           "G522EA",
           "G522ED",
           "G522EE",
           "G522EJ",
           "G522EL",
           "G522EN",
           "G522EP",
           "G522EY",
           "G522EZ",
           "G522HJ",
           "G522HL",
           "G522HN",
           "G522HW",
           "G522HX",
           "G522HZ",
           "G522LX",
           "G522NE",
           "G522NF",
           "G522PE",
           "G522PF",
           "G522QF",
           "G522QG",
           "G522RH",
           "G522RJ",
           "G522RQ",
           "G522RX",
           "G522RY",
           "G522RZ",
           "G522SA",
           "G522SB",
           "G522SZ",
           "G522TA",
           "G523JG",
           "G523JH",
           "G523JL",
           "G523JP",
           "G523JQ",
           "G523JW",
           "G523LN",
           "G523LP",
           "G523LR",
           "G523LS",
           "G523LT",
           "G523LW",
           "G523PD",
           "G523PF",
           "G523PH",
           "G523PQ",
           "G523PT",
           "G523PU",
           "G523PX",
           "G523PY",
           "G523PZ",
           "G523QA",
           "G523QB",
           "G523SH",
           "G523SQ",
           "G524AA",
           "G524AB",
           "G524AD",
           "G524AE",
           "G524AF",
           "G524AJ",
           "G524AL",
           "G524AN",
           "G524AP",
           "G524AR",
           "G524AS",
           "G524AT",
           "G524AU",
           "G524AW",
           "G524AX",
           "G524AY",
           "G524AZ",
           "G524BA",
           "G524BB",
           "G524BD",
           "G524BE",
           "G524BS",
           "G524BT",
           "G524BU",
           "G524BX",
           "G524BY",
           "G524BZ",
           "G524DA",
           "G524DB",
           "G524DD",
           "G524DE",
           "G524DF",
           "G524DG",
           "G524DH",
           "G524DJ",
           "G524DN",
           "G524DQ",
           "G524EB",
           "G524ED",
           "G524EE",
           "G524EF",
           "G524EG",
           "G524EH",
           "G524EJ",
           "G524EN",
           "G524EQ",
           "G524FB",
           "G524FD",
           "G524FE",
           "G524FF",
           "G524FP",
           "G524HH",
           "G524HJ",
           "G524HL",
           "G524HN",
           "G524HP",
           "G524HR",
           "G524HS",
           "G524HT",
           "G524HU",
           "G524HW",
           "G524HX",
           "G524HY",
           "G524PH",
           "G524VV",
           "G53",
           "G531AA",
           "G536JB",
           "G536JE",
           "G536JF",
           "G536JG",
           "G536JJ",
           "G536JL",
           "G536JP",
           "G536JQ",
           "G536JS",
           "G536LP",
           "G536NL",
           "G536RA",
           "G536RB",
           "G536RE",
           "G536RU",
           "G536RX",
           "G536RY",
           "G536RZ",
           "G536SA",
           "G536SD",
           "G536SE",
           "G536SF",
           "G536SG",
           "G536SH",
           "G536SJ",
           "G536SL",
           "G536SQ",
           "G536SR",
           "G536SZ",
           "G536TD",
           "G537AG",
           "G537BE",
           "G537DY",
           "G537EA",
           "G537EB",
           "G537EH",
           "G537EJ",
           "G537FA",
           "G537FB",
           "G537FD",
           "G537FE",
           "G537FF",
           "G537FG",
           "G537FH",
           "G537FJ",
           "G537FL",
           "G537FN",
           "G537FP",
           "G537FQ",
           "G537FR",
           "G537FS",
           "G537FT",
           "G537FU",
           "G537FW",
           "G537FX",
           "G537GA",
           "G537GG",
           "G537LB",
           "G537LD",
           "G537LE",
           "G537LF",
           "G537LQ",
           "G537NP",
           "G537NR",
           "G537PQ",
           "G537TE",
           "G537UQ",
           "PA13",
           "PA13AA",
           "PA13AB",
           "PA13AD",
           "PA13AE",
           "PA13AJ",
           "PA13AL",
           "PA13AN",
           "PA13AP",
           "PA13AR",
           "PA13AS",
           "PA13AT",
           "PA13AU",
           "PA13AW",
           "PA13AX",
           "PA13BA",
           "PA13BB",
           "PA13BG",
           "PA13BH",
           "PA13BJ",
           "PA13BL",
           "PA13BN",
           "PA13BP",
           "PA13BQ",
           "PA13BS",
           "PA13BW",
           "PA13DA",
           "PA13DB",
           "PA13DD",
           "PA13DH",
           "PA13DL",
           "PA13DN",
           "PA13DP",
           "PA13DS",
           "PA13DT",
           "PA13DU",
           "PA13DX",
           "PA13DY",
           "PA13DZ",
           "PA13EA",
           "PA13EB",
           "PA13ED",
           "PA13EE",
           "PA13EF",
           "PA13EG",
           "PA13EQ",
           "PA13ER",
           "PA13ES",
           "PA13ET",
           "PA13EU",
           "PA13EX",
           "PA13EY",
           "PA13HA",
           "PA13HB",
           "PA13HD",
           "PA13HE",
           "PA13HF",
           "PA13HG",
           "PA13HH",
           "PA13HJ",
           "PA13HL",
           "PA13HQ",
           "PA13JL",
           "PA13JN",
           "PA13JP",
           "PA13JW"
          ],
          "received_time": "2021-04-08 18:35"
         },
         "INCD-1807166-i": {
          "description": "There was a fault in your area which has now been resolved.  If you are still without power. please call us on: \nCentral and Southern Scotland: 0800 092 9290 . \n Cheshire, Merseyside, North Wales and North Shropshire: 0800 001 5400.",
          "estimated_restored_time": "",
          "incident_active": false,
          "incident_url": "https://www.spenergynetworks.co.uk/pages/power_cuts_map.aspx?incRef=INCD-1807166-i",
          "postcodes_impacted": [
           "EH165JP",
           "EH411AA",
           "EH411GR",
           "EH412RF",
           "EH42",
           "EH421AA",
           "EH421AD",
           "EH421BB",
           "EH421BF",
           "EH421BX",
           "EH421DG",
           "EH421DH",
           "EH421DQ",
           "EH421DT",
           "EH421DU",
           "EH421DY",
           "EH421DZ",
           "EH421ED",
           "EH421EE",
           "EH421EH",
           "EH421EL",
           "EH421EN",
           "EH421EP",
           "EH421ER",
           "EH421ES",
           "EH421EW",
           "EH421EX",
           "EH421EY",
           "EH421FT",
           "EH421FZ",
           "EH421G",
           "EH421GA",
           "EH421GB",
           "EH421GD",
           "EH421GE",
           "EH421GF",
           "EH421GG",
           "EH421GH",
           "EH421GJ",
           "EH421GL",
           "EH421GN",
           "EH421GP",
           "EH421GQ",
           "EH421GR",
           "EH421GS",
           "EH421GT",
           "EH421GU",
           "EH421GW",
           "EH421GY",
           "EH421GZ",
           "EH421HA",
           "EH421HB",
           "EH421HD",
           "EH421HE",
           "EH421HF",
           "EH421HG",
           "EH421HJ",
           "EH421HX",
           "EH421HZ",
           "EH421JA",
           "EH421JB",
           "EH421JD",
           "EH421JE",
           "EH421JF",
           "EH421JG",
           "EH421JH",
           "EH421JP",
           "EH421JR",
           "EH421JS",
           "EH421JU",
           "EH421JX",
           "EH421JY",
           "EH421JZ",
           "EH421LA",
           "EH421LB",
           "EH421LD",
           "EH421LE",
           "EH421LF",
           "EH421LG",
           "EH421LJ",
           "EH421LL",
           "EH421LN",
           "EH421LP",
           "EH421LQ",
           "EH421LR",
           "EH421LS",
           "EH421LT",
           "EH421LU",
           "EH421LW",
           "EH421LX",
           "EH421LY",
           "EH421LZ",
           "EH421NA",
           "EH421NB",
           "EH421ND",
           "EH421NE",
           "EH421NF",
           "EH421PZ",
           "EH421QF",
           "EH421QG",
           "EH421QJ",
           "EH421QL",
           "EH421QN",
           "EH421QW",
           "EH421QZ",
           "EH421RA",
           "EH421RB",
           "EH421RD",
           "EH421RP",
           "EH421RR",
           "EH421RS",
           "EH421RT",
           "EH421RU",
           "EH421RX",
           "EH421SS",
           "EH421TN",
           "EH421UJ",
           "EH421UX",
           "EH421UZ",
           "EH421WG",
           "EH421WW",
           "EH421XB",
           "EH421YA",
           "EH421YB",
           "EH421YD",
           "EH421YE",
           "EH421YF",
           "EH421YG",
           "EH421YH",
           "EH421YQ",
           "EH421YR",
           "EH421YS"
          ],
          "received_time": "2021-04-08 19:11"
         },
         "INCD-1807196-i": {
          "description": "There was a fault in your area which has now been resolved.  If you are still without power. please call us on: \nCentral and Southern Scotland: 0800 092 9290 . \n Cheshire, Merseyside, North Wales and North Shropshire: 0800 001 5400.",
          "estimated_restored_time": "",
          "incident_active": false,
          "incident_url": "https://www.spenergynetworks.co.uk/pages/power_cuts_map.aspx?incRef=INCD-1807196-i",
          "postcodes_impacted": [
           "LL350RT",
           "SY231JG",
           "SY233PL",
           "SY235LA",
           "SY24",
           "SY245BA",
           "SY245HP",
           "SY245HT",
           "SY245HU",
           "SY245HW",
           "SY245HX",
           "SY245HY",
           "SY245HZ",
           "SY245JA",
           "SY245JB",
           "SY245JD",
           "SY245JE",
           "SY245JF",
           "SY245JG",
           "SY245JH",
           "SY245JP",
           "SY245JQ",
           "SY245JR",
           "SY245JS",
           "SY245JT",
           "SY245JU",
           "SY245JX",
           "SY245JY",
           "SY245JZ",
           "SY245LA",
           "SY245LB",
           "SY245LD",
           "SY245LE",
           "SY245LH",
           "SY245LJ",
           "SY245LL",
           "SY245LN",
           "SY245LP",
           "SY245LR",
           "SY245LT",
           "SY245LU",
           "SY245LW",
           "SY245NA",
           "SY245ND",
           "SY245NG",
           "SY245NH",
           "SY245NJ",
           "SY245NL",
           "SY245NN",
           "SY245NP",
           "SY245NQ",
           "SY245NR",
           "SY245NS",
           "SY245NW",
           "SY245NZ"
          ],
          "received_time": "2021-04-09 05:15"
         },
         "INCD-1807232-i": {
          "description": "There was a fault in your area which has now been resolved.  If you are still without power. please call us on: \nCentral and Southern Scotland: 0800 092 9290 . \n Cheshire, Merseyside, North Wales and North Shropshire: 0800 001 5400.",
          "estimated_restored_time": "",
          "incident_active": false,
          "incident_url": "https://www.spenergynetworks.co.uk/pages/power_cuts_map.aspx?incRef=INCD-1807232-i",
          "postcodes_impacted": [
           "DG13PX",
           "L35",
           "ST71LY",
           "ST71NE",
           "ST71NG",
           "ST71NN",
           "ST71NQ",
           "ST72AX",
           "ST73AB",
           "ST73AD",
           "ST73AE",
           "ST73AF",
           "ST73AG",
           "ST73AJ",
           "ST73AL",
           "ST73AN",
           "ST73AP",
           "ST73AQ",
           "ST73AS",
           "ST73AT",
           "ST73AU",
           "ST73AW",
           "ST73AX",
           "ST73AY",
           "ST73AZ",
           "ST73BA",
           "ST73BB",
           "ST73BD",
           "ST73BG",
           "ST73BH",
           "ST73BJ",
           "ST73BL",
           "ST73BN",
           "ST73BQ",
           "ST73BT",
           "ST73BU",
           "ST73BX",
           "ST73BY",
           "ST73DA",
           "ST73DB",
           "ST73DD",
           "ST73DE",
           "ST73DL",
           "ST73EH",
           "ST73ET",
           "ST73FA",
           "ST73HA",
           "ST73HB",
           "ST73JZ",
           "ST73LB",
           "ST73LE",
           "ST73LF",
           "ST73LG",
           "ST73LH",
           "ST73ND",
           "ST73NG",
           "ST73NH",
           "ST73NJ",
           "ST73NL",
           "ST73NN",
           "ST73NP",
           "ST73NQ",
           "ST73NR",
           "ST73NS",
           "ST73NT",
           "ST73NU",
           "ST73NW",
           "ST73NX",
           "ST73NY",
           "ST73NZ",
           "ST73PA",
           "ST73PB",
           "ST73PD",
           "ST73PE",
           "ST73PF",
           "ST73PX",
           "ST73PY",
           "ST73UX",
           "ST74HA",
           "ST74NP",
           "ST74NR",
           "ST74NS",
           "ST74NT",
           "ST74NU",
           "ST74NW",
           "ST74NX",
           "ST74NY",
           "ST74NZ",
           "ST74PA",
           "ST74PB",
           "ST74PD",
           "ST74PE",
           "ST74PF"
          ],
          "received_time": "2021-04-09 06:19"
         },
         "INCD-1807244-i": {
          "description": "There was a fault in your area which has now been resolved.  If you are still without power. please call us on: \nCentral and Southern Scotland: 0800 092 9290 . \n Cheshire, Merseyside, North Wales and North Shropshire: 0800 001 5400.",
          "estimated_restored_time": "",
          "incident_active": false,
          "incident_url": "https://www.spenergynetworks.co.uk/pages/power_cuts_map.aspx?incRef=INCD-1807244-i",
          "postcodes_impacted": [
           "LL139SG"
          ],
          "received_time": "2021-04-09 08:39"
         },
         "INCD-1807250-i": {
          "description": "There was a fault in your area which has now been resolved.  If you are still without power. please call us on: \nCentral and Southern Scotland: 0800 092 9290 . \n Cheshire, Merseyside, North Wales and North Shropshire: 0800 001 5400.",
          "estimated_restored_time": "",
          "incident_active": false,
          "incident_url": "https://www.spenergynetworks.co.uk/pages/power_cuts_map.aspx?incRef=INCD-1807250-i",
          "postcodes_impacted": [
           "*******",
           "LL595DB",
           "LL595EP",
           "LL595EY"
          ],
          "received_time": "2021-04-09 08:47"
         },
         "INCD-1807256-i": {
          "description": "There was a fault in your area which has now been resolved.  If you are still without power. please call us on: \nCentral and Southern Scotland: 0800 092 9290 . \n Cheshire, Merseyside, North Wales and North Shropshire: 0800 001 5400.",
          "estimated_restored_time": "",
          "incident_active": false,
          "incident_url": "https://www.spenergynetworks.co.uk/pages/power_cuts_map.aspx?incRef=INCD-1807256-i",
          "postcodes_impacted": [
           "LL207UL",
           "LL207UP",
           "LL207UR",
           "LL207UY",
           "LL207YA",
           "LL207YB",
           "LL207YD",
           "LL207YE",
           "LL207YL",
           "LL207YN",
           "LL207YP",
           "LL207YW",
           "LL208EG"
          ],
          "received_time": "2021-04-09 09:02"
         },
         "INCD-1807310-i": {
          "description": "There was a fault in your area which has now been resolved.  If you are still without power. please call us on: \nCentral and Southern Scotland: 0800 092 9290 . \n Cheshire, Merseyside, North Wales and North Shropshire: 0800 001 5400.",
          "estimated_restored_time": "",
          "incident_active": false,
          "incident_url": "https://www.spenergynetworks.co.uk/pages/power_cuts_map.aspx?incRef=INCD-1807310-i",
          "postcodes_impacted": [
           "SY108QY"
          ],
          "received_time": "2021-04-09 10:25"
         },
         "INCD-1807358-i": {
          "description": "There was a fault in your area which has now been resolved.  If you are still without power. please call us on: \nCentral and Southern Scotland: 0800 092 9290 . \n Cheshire, Merseyside, North Wales and North Shropshire: 0800 001 5400.",
          "estimated_restored_time": "",
          "incident_active": false,
          "incident_url": "https://www.spenergynetworks.co.uk/pages/power_cuts_map.aspx?incRef=INCD-1807358-i",
          "postcodes_impacted": [
           "WA95GZ"
          ],
          "received_time": "2021-04-09 11:57"
         },
         "INCD-1807364-i": {
          "description": "There was a fault in your area which has now been resolved.  If you are still without power. please call us on: \nCentral and Southern Scotland: 0800 092 9290 . \n Cheshire, Merseyside, North Wales and North Shropshire: 0800 001 5400.",
          "estimated_restored_time": "",
          "incident_active": false,
          "incident_url": "https://www.spenergynetworks.co.uk/pages/power_cuts_map.aspx?incRef=INCD-1807364-i",
          "postcodes_impacted": [
           "SY109LB"
          ],
          "received_time": "2021-04-09 11:59"
         },
         "INCD-1807418-i": {
          "description": "There was a fault in your area which has now been resolved.  If you are still without power. please call us on: \nCentral and Southern Scotland: 0800 092 9290 . \n Cheshire, Merseyside, North Wales and North Shropshire: 0800 001 5400.",
          "estimated_restored_time": "",
          "incident_active": false,
          "incident_url": "https://www.spenergynetworks.co.uk/pages/power_cuts_map.aspx?incRef=INCD-1807418-i",
          "postcodes_impacted": [
           "*******",
           "LL58",
           "LL581AA",
           "LL588AA",
           "LL588AB",
           "LL588AD",
           "LL588AE",
           "LL588AF",
           "LL588AG",
           "LL588AJ",
           "LL588AL",
           "LL588AP",
           "LL588AU",
           "LL588AW",
           "LL588AX",
           "LL588AY",
           "LL588BB",
           "LL588BD",
           "LL588BE",
           "LL588BG",
           "LL588BH",
           "LL588BL",
           "LL588BN",
           "LL588BP",
           "LL588BS",
           "LL588BU",
           "LL588BW",
           "LL588BY",
           "LL588DA",
           "LL588DB",
           "LL588DL",
           "LL588DN",
           "LL588DP",
           "LL588DR",
           "LL588DS",
           "LL588DT",
           "LL588DU",
           "LL588DW",
           "LL588DY",
           "LL588EA",
           "LL588EB",
           "LL588ED",
           "LL588EE",
           "LL588EF",
           "LL588EG",
           "LL588EH",
           "LL588EJ",
           "LL588EL",
           "LL588EN",
           "LL588EP",
           "LL588ER",
           "LL588ES",
           "LL588ET",
           "LL588EU",
           "LL588EW",
           "LL588EY",
           "LL588HA",
           "LL588HB",
           "LL588HD",
           "LL588HE",
           "LL588HF",
           "LL588HG",
           "LL588HH",
           "LL588HL",
           "LL588HN",
           "LL588HP",
           "LL588HR",
           "LL588HW",
           "LL588PS",
           "LL588RA",
           "LL588SA",
           "LL588TH",
           "LL588UF",
           "LL588UT",
           "LL588YH",
           "LL588YL",
           "LL588YN",
           "LL588YQ",
           "LL588YS",
           "LL588YT",
           "LL588YU",
           "LL588YW",
           "LL588YX",
           "LL689EY"
          ],
          "received_time": "2021-04-09 13:04"
         },
         "INCD-1807436-i": {
          "description": "There is a power cut in the L28 postcode area of Liverpool affecting properties in Barons Hey and the surrounding area. We had no advance warning of this and only became aware of it at 1:44pm. Our engineers have arrived on site to investigate the cause of the fault.  Our team will work to get your power back on as quickly and as safely as possible by 4:45pm. We will update this message if this information changes. We apologise for the inconvenience and thank you for your patience. This message was updated at 3:57pm on the 9th April 2021.",
          "estimated_restored_time": "2021-04-09 17:30",
          "incident_active": true,
          "incident_url": "https://www.spenergynetworks.co.uk/pages/power_cuts_map.aspx?incRef=INCD-1807436-i",
          "postcodes_impacted": [
           "L280QA",
           "L280QB",
           "L280QF",
           "L280QG",
           "L280QQ",
           "L288AF"
          ],
          "received_time": "2021-04-09 13:44"
         },
         "INCD-1807454-i": {
          "description": "There was a fault in your area which has now been resolved.  If you are still without power. please call us on: \nCentral and Southern Scotland: 0800 092 9290 . \n Cheshire, Merseyside, North Wales and North Shropshire: 0800 001 5400.",
          "estimated_restored_time": "",
          "incident_active": false,
          "incident_url": "https://www.spenergynetworks.co.uk/pages/power_cuts_map.aspx?incRef=INCD-1807454-i",
          "postcodes_impacted": [
           "SY109LB"
          ],
          "received_time": "2021-04-09 13:53"
         },
         "INCD-370816-r": {
          "description": "We are aware of a fault in your area. If you require more information please call us on: \nCentral and Southern Scotland:  0800 092 9290 . \n Cheshire, Merseyside, North Wales and North Shropshire: 0800 001 5400.",
          "estimated_restored_time": "",
          "incident_active": true,
          "incident_url": "https://www.spenergynetworks.co.uk/pages/power_cuts_map.aspx?incRef=INCD-370816-r",
          "postcodes_impacted": [
           "CH427NH",
           "CH437NA",
           "CH437ND",
           "CH437NH",
           "CH437NJ",
           "CH437NL",
           "CH437NN",
           "CH437NP",
           "CH437NQ",
           "CH437NW",
           "CH437QL",
           "CH437QS",
           "CH437QW",
           "CH437TE",
           "CH437TF",
           "CH437TG",
           "CH437TT",
           "CH437TW",
           "CH437UA",
           "CH437XS",
           "CH437XT",
           "CH437XU",
           "CH437XX",
           "CH437XY",
           "CH437YB",
           "CH437YS",
           "CH437ZE",
           "CH437ZF",
           "CH437ZH",
           "CH437ZL",
           "CH437ZQ",
           "CH437ZS",
           "CH437ZT",
           "CH437ZW"
          ],
          "received_time": "2021-04-07 13:03"
         },
         "INCD-370924-r": {
          "description": "There was a fault in your area which has now been resolved.  If you are still without power. please call us on: \nCentral and Southern Scotland: 0800 092 9290 . \n Cheshire, Merseyside, North Wales and North Shropshire: 0800 001 5400.",
          "estimated_restored_time": "",
          "incident_active": false,
          "incident_url": "https://www.spenergynetworks.co.uk/pages/power_cuts_map.aspx?incRef=INCD-370924-r",
          "postcodes_impacted": [
           "WA7",
           "WA71DF",
           "WA71DG",
           "WA71DS",
           "WA71LD",
           "WA71LG",
           "WA71LJ",
           "WA71LL",
           "WA71LR",
           "WA71LX",
           "WA71NA",
           "WA71ND",
           "WA71NE",
           "WA71X"
          ],
          "received_time": "2021-04-08 08:58"
         },
         "INCD-371140-r": {
          "description": "There was a fault in your area which has now been resolved.  If you are still without power. please call us on: \nCentral and Southern Scotland: 0800 092 9290 . \n Cheshire, Merseyside, North Wales and North Shropshire: 0800 001 5400.",
          "estimated_restored_time": "",
          "incident_active": false,
          "incident_url": "https://www.spenergynetworks.co.uk/pages/power_cuts_map.aspx?incRef=INCD-371140-r",
          "postcodes_impacted": [
           "CH419DL",
           "CH419DN",
           "CH419DP",
           "CH419DR",
           "CH419DS",
           "CH419DT",
           "CH419DW",
           "CH419DY",
           "CH419EH",
           "CH419EQ",
           "CH419ER",
           "CH419HU",
           "CH638RB"
          ],
          "received_time": "2021-04-09 06:16"
         },
         "INCD-371158-r": {
          "description": "There was a fault in your area which has now been resolved.  If you are still without power. please call us on: \nCentral and Southern Scotland: 0800 092 9290 . \n Cheshire, Merseyside, North Wales and North Shropshire: 0800 001 5400.",
          "estimated_restored_time": "",
          "incident_active": false,
          "incident_url": "https://www.spenergynetworks.co.uk/pages/power_cuts_map.aspx?incRef=INCD-371158-r",
          "postcodes_impacted": [
           "CH428PQ",
           "CH429LF",
           "L428PG"
          ],
          "received_time": "2021-04-09 09:10"
         },
         "INCD-371218-r": {
          "description": "There was a fault in your area which has now been resolved.  If you are still without power. please call us on: \nCentral and Southern Scotland: 0800 092 9290 . \n Cheshire, Merseyside, North Wales and North Shropshire: 0800 001 5400.",
          "estimated_restored_time": "",
          "incident_active": false,
          "incident_url": "https://www.spenergynetworks.co.uk/pages/power_cuts_map.aspx?incRef=INCD-371218-r",
          "postcodes_impacted": [
           "L113BN",
           "L113DE",
           "L113DG",
           "L113DL",
           "L113DP",
           "L113DW",
           "L115AJ",
           "WA85BW",
           "WA89AL",
           "WA89AN",
           "WA89BN",
           "WA89BP"
          ],
          "received_time": "2021-04-09 10:59"
         },
         "INCD-371308-r": {
          "description": "There was a fault in your area which has now been resolved.  If you are still without power. please call us on: \nCentral and Southern Scotland: 0800 092 9290 . \n Cheshire, Merseyside, North Wales and North Shropshire: 0800 001 5400.",
          "estimated_restored_time": "",
          "incident_active": false,
          "incident_url": "https://www.spenergynetworks.co.uk/pages/power_cuts_map.aspx?incRef=INCD-371308-r",
          "postcodes_impacted": [
           "CW13FZ",
           "CW13GE",
           "CW13GG",
           "CW13GH",
           "CW13GN",
           "CW13LZ",
           "CW13NX",
           "CW13NY",
           "CW13PN",
           "CW13PP",
           "CW13PW",
           "CW13QU"
          ],
          "received_time": "2021-04-09 13:53"
         },
         "INCD-371344-r": {
          "description": "We are aware of a fault in your area. If you require more information please call us on: \nCentral and Southern Scotland:  0800 092 9290 . \n Cheshire, Merseyside, North Wales and North Shropshire: 0800 001 5400.",
          "estimated_restored_time": "2021-04-09 16:42",
          "incident_active": true,
          "incident_url": "https://www.spenergynetworks.co.uk/pages/power_cuts_map.aspx?incRef=INCD-371344-r",
          "postcodes_impacted": [
           "LL295RU",
           "LL297RU",
           "LL297SA",
           "LL298DN",
           "LL298DU",
           "LL298DW",
           "LL298EL",
           "LL298EP"
          ],
          "received_time": "2021-04-09 14:42"
         },
         "INCD-489509-k": {
          "description": "There was a planned outage in your area which is now complete.  If you are still without power. please call us on: \nCentral and Southern Scotland: 0800 092 9290 . \n Cheshire, Merseyside, North Wales and North Shropshire: 0800 001 5400.",
          "estimated_restored_time": "",
          "incident_active": false,
          "incident_url": "https://www.spenergynetworks.co.uk/pages/power_cuts_map.aspx?incRef=INCD-489509-k",
          "postcodes_impacted": [
           "CW82FJ",
           "CW82RJ",
           "CW82RL",
           "CW82RR",
           "CW82TL",
           "CW82TN",
           "CW82TR",
           "CW82TU",
           "CW82TW",
           "WA61NH",
           "WA68NF",
           "WA68NG",
           "WA68NH",
           "WA68NJ",
           "WA68NL",
           "WA68NY",
           "WA68NZ",
           "WA68PA",
           "WA68PD",
           "WA68PF",
           "WA68PH",
           "WA68PJ"
          ],
          "received_time": "2021-03-09 12:45"
         },
         "INCD-489533-k": {
          "description": "There was a planned outage in your area which is now complete.  If you are still without power. please call us on: \nCentral and Southern Scotland: 0800 092 9290 . \n Cheshire, Merseyside, North Wales and North Shropshire: 0800 001 5400.",
          "estimated_restored_time": "",
          "incident_active": false,
          "incident_url": "https://www.spenergynetworks.co.uk/pages/power_cuts_map.aspx?incRef=INCD-489533-k",
          "postcodes_impacted": [
           "CH87AU",
           "CH88LS"
          ],
          "received_time": "2021-03-09 12:59"
         },
         "INCD-489707-k": {
          "description": "There was a planned outage in your area which is now complete.  If you are still without power. please call us on: \nCentral and Southern Scotland: 0800 092 9290 . \n Cheshire, Merseyside, North Wales and North Shropshire: 0800 001 5400.",
          "estimated_restored_time": "",
          "incident_active": false,
          "incident_url": "https://www.spenergynetworks.co.uk/pages/power_cuts_map.aspx?incRef=INCD-489707-k",
          "postcodes_impacted": [
           "CW5",
           "CW58NP",
           "CW58PE",
           "CW58PF",
           "CW58PY",
           "CW58QA",
           "CW58QB",
           "CW58QD"
          ],
          "received_time": "2021-03-10 10:44"
         },
         "INCD-489725-k": {
          "description": "There was a planned outage in your area which is now complete.  If you are still without power. please call us on: \nCentral and Southern Scotland: 0800 092 9290 . \n Cheshire, Merseyside, North Wales and North Shropshire: 0800 001 5400.",
          "estimated_restored_time": "",
          "incident_active": false,
          "incident_url": "https://www.spenergynetworks.co.uk/pages/power_cuts_map.aspx?incRef=INCD-489725-k",
          "postcodes_impacted": [
           "LL595BT",
           "LL595BY"
          ],
          "received_time": "2021-03-10 11:07"
         },
         "INCD-489731-k": {
          "description": "There was a planned outage in your area which is now complete.  If you are still without power. please call us on: \nCentral and Southern Scotland: 0800 092 9290 . \n Cheshire, Merseyside, North Wales and North Shropshire: 0800 001 5400.",
          "estimated_restored_time": "",
          "incident_active": false,
          "incident_url": "https://www.spenergynetworks.co.uk/pages/power_cuts_map.aspx?incRef=INCD-489731-k",
          "postcodes_impacted": [
           "SY226TB",
           "SY226TD",
           "SY226TJ"
          ],
          "received_time": "2021-03-10 11:24"
         },
         "INCD-489743-k": {
          "description": "There was a planned outage in your area which is now complete.  If you are still without power. please call us on: \nCentral and Southern Scotland: 0800 092 9290 . \n Cheshire, Merseyside, North Wales and North Shropshire: 0800 001 5400.",
          "estimated_restored_time": "",
          "incident_active": false,
          "incident_url": "https://www.spenergynetworks.co.uk/pages/power_cuts_map.aspx?incRef=INCD-489743-k",
          "postcodes_impacted": [
           "SY164NH"
          ],
          "received_time": "2021-03-10 11:37"
         },
         "INCD-489821-k": {
          "description": "There was a planned outage in your area which is now complete.  If you are still without power. please call us on: \nCentral and Southern Scotland: 0800 092 9290 . \n Cheshire, Merseyside, North Wales and North Shropshire: 0800 001 5400.",
          "estimated_restored_time": "",
          "incident_active": false,
          "incident_url": "https://www.spenergynetworks.co.uk/pages/power_cuts_map.aspx?incRef=INCD-489821-k",
          "postcodes_impacted": [
           "CW82TF",
           "CW82TG",
           "CW82TQ",
           "WA68JS",
           "WA68LJ",
           "WA68LL",
           "WA68LN",
           "WA68LR",
           "WA68LW"
          ],
          "received_time": "2021-03-10 13:59"
         },
         "INCD-489833-k": {
          "description": "There was a planned outage in your area which is now complete.  If you are still without power. please call us on: \nCentral and Southern Scotland: 0800 092 9290 . \n Cheshire, Merseyside, North Wales and North Shropshire: 0800 001 5400.",
          "estimated_restored_time": "",
          "incident_active": false,
          "incident_url": "https://www.spenergynetworks.co.uk/pages/power_cuts_map.aspx?incRef=INCD-489833-k",
          "postcodes_impacted": [
           "WA61AA",
           "WA66LH",
           "WA66LJ",
           "WA66NL",
           "WA66NY",
           "WA66NZ",
           "WA68JN",
           "WA68LR",
           "WA68ND",
           "WA68NE",
           "WA68NF"
          ],
          "received_time": "2021-03-10 14:07"
         },
         "INCD-489899-k": {
          "description": "There was a planned outage in your area which is now complete.  If you are still without power. please call us on: \nCentral and Southern Scotland: 0800 092 9290 . \n Cheshire, Merseyside, North Wales and North Shropshire: 0800 001 5400.",
          "estimated_restored_time": "",
          "incident_active": false,
          "incident_url": "https://www.spenergynetworks.co.uk/pages/power_cuts_map.aspx?incRef=INCD-489899-k",
          "postcodes_impacted": [
           "L175AN"
          ],
          "received_time": "2021-03-10 15:21"
         },
         "INCD-490001-k": {
          "description": "There was a planned outage in your area which is now complete.  If you are still without power. please call us on: \nCentral and Southern Scotland: 0800 092 9290 . \n Cheshire, Merseyside, North Wales and North Shropshire: 0800 001 5400.",
          "estimated_restored_time": "",
          "incident_active": false,
          "incident_url": "https://www.spenergynetworks.co.uk/pages/power_cuts_map.aspx?incRef=INCD-490001-k",
          "postcodes_impacted": [
           "LL653EY"
          ],
          "received_time": "2021-03-11 10:00"
         },
         "INCD-490019-k": {
          "description": "There was a planned outage in your area which is now complete.  If you are still without power. please call us on: \nCentral and Southern Scotland: 0800 092 9290 . \n Cheshire, Merseyside, North Wales and North Shropshire: 0800 001 5400.",
          "estimated_restored_time": "",
          "incident_active": false,
          "incident_url": "https://www.spenergynetworks.co.uk/pages/power_cuts_map.aspx?incRef=INCD-490019-k",
          "postcodes_impacted": [
           "SY4",
           "SY44BA",
           "SY44BD"
          ],
          "received_time": "2021-03-11 10:11"
         },
         "INCD-490277-k": {
          "description": "There was a planned outage in your area which is now complete.  If you are still without power. please call us on: \nCentral and Southern Scotland: 0800 092 9290 . \n Cheshire, Merseyside, North Wales and North Shropshire: 0800 001 5400.",
          "estimated_restored_time": "",
          "incident_active": false,
          "incident_url": "https://www.spenergynetworks.co.uk/pages/power_cuts_map.aspx?incRef=INCD-490277-k",
          "postcodes_impacted": [
           "CW47LP",
           "CW47LW"
          ],
          "received_time": "2021-03-11 15:21"
         },
         "INCD-490883-k": {
          "description": "There was a planned outage in your area which is now complete.  If you are still without power. please call us on: \nCentral and Southern Scotland: 0800 092 9290 . \n Cheshire, Merseyside, North Wales and North Shropshire: 0800 001 5400.",
          "estimated_restored_time": "",
          "incident_active": false,
          "incident_url": "https://www.spenergynetworks.co.uk/pages/power_cuts_map.aspx?incRef=INCD-490883-k",
          "postcodes_impacted": [
           "LL185UB",
           "LL185UE"
          ],
          "received_time": "2021-03-15 14:17"
         },
         "INCD-491093-k": {
          "description": "There was a planned outage in your area which is now complete.  If you are still without power. please call us on: \nCentral and Southern Scotland: 0800 092 9290 . \n Cheshire, Merseyside, North Wales and North Shropshire: 0800 001 5400.",
          "estimated_restored_time": "",
          "incident_active": false,
          "incident_url": "https://www.spenergynetworks.co.uk/pages/power_cuts_map.aspx?incRef=INCD-491093-k",
          "postcodes_impacted": [
           "LL219SF"
          ],
          "received_time": "2021-03-16 12:07"
         },
         "INCD-491153-k": {
          "description": "There was a planned outage in your area which is now complete.  If you are still without power. please call us on: \nCentral and Southern Scotland: 0800 092 9290 . \n Cheshire, Merseyside, North Wales and North Shropshire: 0800 001 5400.",
          "estimated_restored_time": "",
          "incident_active": false,
          "incident_url": "https://www.spenergynetworks.co.uk/pages/power_cuts_map.aspx?incRef=INCD-491153-k",
          "postcodes_impacted": [
           "LL228DU",
           "LL228DX",
           "LL228DY",
           "LL228EB"
          ],
          "received_time": "2021-03-16 15:24"
         },
         "INCD-491837-k": {
          "description": "There was a planned outage in your area which is now complete.  If you are still without power. please call us on: \nCentral and Southern Scotland: 0800 092 9290 . \n Cheshire, Merseyside, North Wales and North Shropshire: 0800 001 5400.",
          "estimated_restored_time": "",
          "incident_active": false,
          "incident_url": "https://www.spenergynetworks.co.uk/pages/power_cuts_map.aspx?incRef=INCD-491837-k",
          "postcodes_impacted": [
           "CH39LF",
           "CH39LG",
           "CH39LH",
           "CH39LJ",
           "CH39LL",
           "CH39LQ",
           "H39LL"
          ],
          "received_time": "2021-03-22 11:25"
         },
         "INCD-492311-k": {
          "description": "There was a planned outage in your area which is now complete.  If you are still without power. please call us on: \nCentral and Southern Scotland: 0800 092 9290 . \n Cheshire, Merseyside, North Wales and North Shropshire: 0800 001 5400.",
          "estimated_restored_time": "",
          "incident_active": false,
          "incident_url": "https://www.spenergynetworks.co.uk/pages/power_cuts_map.aspx?incRef=INCD-492311-k",
          "postcodes_impacted": [
           "SY44AE",
           "SY44AN",
           "SY44AP",
           "SY44AW",
           "SY44BA"
          ],
          "received_time": "2021-03-25 09:15"
         },
         "INCD-492359-k": {
          "description": "There was a planned outage in your area which is now complete.  If you are still without power. please call us on: \nCentral and Southern Scotland: 0800 092 9290 . \n Cheshire, Merseyside, North Wales and North Shropshire: 0800 001 5400.",
          "estimated_restored_time": "",
          "incident_active": false,
          "incident_url": "https://www.spenergynetworks.co.uk/pages/power_cuts_map.aspx?incRef=INCD-492359-k",
          "postcodes_impacted": [
           "DG140RA",
           "DG140RD",
           "DG140RE",
           "DG140RN",
           "DG140RP",
           "DG140RR",
           "DG140RS",
           "DG140RW",
           "DG140XA"
          ],
          "received_time": "2021-03-25 12:31"
         },
         "INCD-492377-k": {
          "description": "There was a planned outage in your area which is now complete.  If you are still without power. please call us on: \nCentral and Southern Scotland: 0800 092 9290 . \n Cheshire, Merseyside, North Wales and North Shropshire: 0800 001 5400.",
          "estimated_restored_time": "",
          "incident_active": false,
          "incident_url": "https://www.spenergynetworks.co.uk/pages/power_cuts_map.aspx?incRef=INCD-492377-k",
          "postcodes_impacted": [
           "TD113GA",
           "TD113SG",
           "TD113TX"
          ],
          "received_time": "2021-03-25 13:37"
         },
         "INCD-492467-k": {
          "description": "There was a planned outage in your area which is now complete.  If you are still without power. please call us on: \nCentral and Southern Scotland: 0800 092 9290 . \n Cheshire, Merseyside, North Wales and North Shropshire: 0800 001 5400.",
          "estimated_restored_time": "",
          "incident_active": false,
          "incident_url": "https://www.spenergynetworks.co.uk/pages/power_cuts_map.aspx?incRef=INCD-492467-k",
          "postcodes_impacted": [
           "KA20DW",
           "KA20EE",
           "KA32LY",
           "KA32PF"
          ],
          "received_time": "2021-03-26 09:44"
         },
         "INCD-492485-k": {
          "description": "There was a planned outage in your area which is now complete.  If you are still without power. please call us on: \nCentral and Southern Scotland: 0800 092 9290 . \n Cheshire, Merseyside, North Wales and North Shropshire: 0800 001 5400.",
          "estimated_restored_time": "",
          "incident_active": false,
          "incident_url": "https://www.spenergynetworks.co.uk/pages/power_cuts_map.aspx?incRef=INCD-492485-k",
          "postcodes_impacted": [
           "EH497LY",
           "EH497ND"
          ],
          "received_time": "2021-03-26 10:18"
         },
         "INCD-492503-k": {
          "description": "There was a planned outage in your area which is now complete.  If you are still without power. please call us on: \nCentral and Southern Scotland: 0800 092 9290 . \n Cheshire, Merseyside, North Wales and North Shropshire: 0800 001 5400.",
          "estimated_restored_time": "",
          "incident_active": false,
          "incident_url": "https://www.spenergynetworks.co.uk/pages/power_cuts_map.aspx?incRef=INCD-492503-k",
          "postcodes_impacted": [
           "KA20BY",
           "KA20DF",
           "KA20DH",
           "KA20DJ",
           "KA20DX",
           "KA20HL"
          ],
          "received_time": "2021-03-26 10:32"
         },
         "INCD-492539-k": {
          "description": "There was a planned outage in your area which is now complete.  If you are still without power. please call us on: \nCentral and Southern Scotland: 0800 092 9290 . \n Cheshire, Merseyside, North Wales and North Shropshire: 0800 001 5400.",
          "estimated_restored_time": "",
          "incident_active": false,
          "incident_url": "https://www.spenergynetworks.co.uk/pages/power_cuts_map.aspx?incRef=INCD-492539-k",
          "postcodes_impacted": [
           "KA151HH",
           "KA151HP",
           "KA151HQ",
           "KA151HT"
          ],
          "received_time": "2021-03-26 11:25"
         },
         "INCD-492545-k": {
          "description": "There was a planned outage in your area which is now complete.  If you are still without power. please call us on: \nCentral and Southern Scotland: 0800 092 9290 . \n Cheshire, Merseyside, North Wales and North Shropshire: 0800 001 5400.",
          "estimated_restored_time": "",
          "incident_active": false,
          "incident_url": "https://www.spenergynetworks.co.uk/pages/power_cuts_map.aspx?incRef=INCD-492545-k",
          "postcodes_impacted": [
           "KA36DU"
          ],
          "received_time": "2021-03-26 12:08"
         },
         "INCD-492701-k": {
          "description": "There was a planned outage in your area which is now complete.  If you are still without power. please call us on: \nCentral and Southern Scotland: 0800 092 9290 . \n Cheshire, Merseyside, North Wales and North Shropshire: 0800 001 5400.",
          "estimated_restored_time": "",
          "incident_active": false,
          "incident_url": "https://www.spenergynetworks.co.uk/pages/power_cuts_map.aspx?incRef=INCD-492701-k",
          "postcodes_impacted": [
           "FK12JL",
           "FK12JW"
          ],
          "received_time": "2021-03-26 15:50"
         },
         "INCD-492713-k": {
          "description": "There was a planned outage in your area which is now complete.  If you are still without power. please call us on: \nCentral and Southern Scotland: 0800 092 9290 . \n Cheshire, Merseyside, North Wales and North Shropshire: 0800 001 5400.",
          "estimated_restored_time": "",
          "incident_active": false,
          "incident_url": "https://www.spenergynetworks.co.uk/pages/power_cuts_map.aspx?incRef=INCD-492713-k",
          "postcodes_impacted": [
           "DG111EP",
           "DG111HD",
           "DG111HF",
           "DG111HG",
           "DG111HN",
           "DG111HW"
          ],
          "received_time": "2021-03-26 16:29"
         },
         "INCD-492905-k": {
          "description": "There was a planned outage in your area which is now complete.  If you are still without power. please call us on: \nCentral and Southern Scotland: 0800 092 9290 . \n Cheshire, Merseyside, North Wales and North Shropshire: 0800 001 5400.",
          "estimated_restored_time": "",
          "incident_active": false,
          "incident_url": "https://www.spenergynetworks.co.uk/pages/power_cuts_map.aspx?incRef=INCD-492905-k",
          "postcodes_impacted": [
           "TD106UW"
          ],
          "received_time": "2021-03-28 13:06"
         },
         "INCD-492911-k": {
          "description": "There was a planned outage in your area which is now complete.  If you are still without power. please call us on: \nCentral and Southern Scotland: 0800 092 9290 . \n Cheshire, Merseyside, North Wales and North Shropshire: 0800 001 5400.",
          "estimated_restored_time": "",
          "incident_active": false,
          "incident_url": "https://www.spenergynetworks.co.uk/pages/power_cuts_map.aspx?incRef=INCD-492911-k",
          "postcodes_impacted": [
           "DG140RS",
           "DG140RT",
           "DG140RU"
          ],
          "received_time": "2021-03-28 14:09"
         },
         "INCD-492917-k": {
          "description": "There was a planned outage in your area which is now complete.  If you are still without power. please call us on: \nCentral and Southern Scotland: 0800 092 9290 . \n Cheshire, Merseyside, North Wales and North Shropshire: 0800 001 5400.",
          "estimated_restored_time": "",
          "incident_active": false,
          "incident_url": "https://www.spenergynetworks.co.uk/pages/power_cuts_map.aspx?incRef=INCD-492917-k",
          "postcodes_impacted": [
           "DG165EY"
          ],
          "received_time": "2021-03-28 14:48"
         },
         "INCD-492935-k": {
          "description": "The electricity supply to your premises may currently be affected by planned work.  You should have received a letter explaining this.  We hope to be able to restore your supplies by 09-APR-2021 16:30.  Please accept our sincere apologies for any inconvenience this is causing.",
          "estimated_restored_time": "2021-04-09 15:30",
          "incident_active": true,
          "incident_url": "https://www.spenergynetworks.co.uk/pages/power_cuts_map.aspx?incRef=INCD-492935-k",
          "postcodes_impacted": [
           "DG165JG"
          ],
          "received_time": "2021-03-28 15:09"
         },
         "INCD-492959-k": {
          "description": "There was a planned outage in your area which is now complete.  If you are still without power. please call us on: \nCentral and Southern Scotland: 0800 092 9290 . \n Cheshire, Merseyside, North Wales and North Shropshire: 0800 001 5400.",
          "estimated_restored_time": "",
          "incident_active": false,
          "incident_url": "https://www.spenergynetworks.co.uk/pages/power_cuts_map.aspx?incRef=INCD-492959-k",
          "postcodes_impacted": [
           "KA13BQ",
           "KA34BQ"
          ],
          "received_time": "2021-03-28 16:23"
         },
         "INCD-492989-k": {
          "description": "There was a planned outage in your area which is now complete.  If you are still without power. please call us on: \nCentral and Southern Scotland: 0800 092 9290 . \n Cheshire, Merseyside, North Wales and North Shropshire: 0800 001 5400.",
          "estimated_restored_time": "",
          "incident_active": false,
          "incident_url": "https://www.spenergynetworks.co.uk/pages/power_cuts_map.aspx?incRef=INCD-492989-k",
          "postcodes_impacted": [
           "EH320PH"
          ],
          "received_time": "2021-03-28 16:57"
         },
         "INCD-493109-k": {
          "description": "There was a planned outage in your area which is now complete.  If you are still without power. please call us on: \nCentral and Southern Scotland: 0800 092 9290 . \n Cheshire, Merseyside, North Wales and North Shropshire: 0800 001 5400.",
          "estimated_restored_time": "",
          "incident_active": false,
          "incident_url": "https://www.spenergynetworks.co.uk/pages/power_cuts_map.aspx?incRef=INCD-493109-k",
          "postcodes_impacted": [
           "LL240EU"
          ],
          "received_time": "2021-03-29 09:18"
         },
         "INCD-493187-k": {
          "description": "There was a planned outage in your area which is now complete.  If you are still without power. please call us on: \nCentral and Southern Scotland: 0800 092 9290 . \n Cheshire, Merseyside, North Wales and North Shropshire: 0800 001 5400.",
          "estimated_restored_time": "",
          "incident_active": false,
          "incident_url": "https://www.spenergynetworks.co.uk/pages/power_cuts_map.aspx?incRef=INCD-493187-k",
          "postcodes_impacted": [
           "EH278BB"
          ],
          "received_time": "2021-03-29 11:16"
         },
         "INCD-493265-k": {
          "description": "There was a planned outage in your area which is now complete.  If you are still without power. please call us on: \nCentral and Southern Scotland: 0800 092 9290 . \n Cheshire, Merseyside, North Wales and North Shropshire: 0800 001 5400.",
          "estimated_restored_time": "",
          "incident_active": false,
          "incident_url": "https://www.spenergynetworks.co.uk/pages/power_cuts_map.aspx?incRef=INCD-493265-k",
          "postcodes_impacted": [
           "KA20AL",
           "KA20AP",
           "KA20BH",
           "KA20BJ",
           "KA20BL",
           "KA20BN",
           "KA20BT",
           "KA20BW"
          ],
          "received_time": "2021-03-29 12:35"
         },
         "INCD-493283-k": {
          "description": "There was a planned outage in your area which is now complete.  If you are still without power. please call us on: \nCentral and Southern Scotland: 0800 092 9290 . \n Cheshire, Merseyside, North Wales and North Shropshire: 0800 001 5400.",
          "estimated_restored_time": "",
          "incident_active": false,
          "incident_url": "https://www.spenergynetworks.co.uk/pages/power_cuts_map.aspx?incRef=INCD-493283-k",
          "postcodes_impacted": [
           "EH312AA",
           "EH320PZ",
           "EH320QA",
           "EH320QB",
           "EH39",
           "EH395AL"
          ],
          "received_time": "2021-03-29 12:56"
         },
         "INCD-493487-k": {
          "description": "There was a planned outage in your area which is now complete.  If you are still without power. please call us on: \nCentral and Southern Scotland: 0800 092 9290 . \n Cheshire, Merseyside, North Wales and North Shropshire: 0800 001 5400.",
          "estimated_restored_time": "",
          "incident_active": false,
          "incident_url": "https://www.spenergynetworks.co.uk/pages/power_cuts_map.aspx?incRef=INCD-493487-k",
          "postcodes_impacted": [
           "DG11TA"
          ],
          "received_time": "2021-03-30 10:58"
         },
         "INCD-494663-k": {
          "description": "There was a fault in your area which has now been resolved.  If you are still without power. please call us on: \nCentral and Southern Scotland: 0800 092 9290 . \n Cheshire, Merseyside, North Wales and North Shropshire: 0800 001 5400.",
          "estimated_restored_time": "",
          "incident_active": false,
          "incident_url": "https://www.spenergynetworks.co.uk/pages/power_cuts_map.aspx?incRef=INCD-494663-k",
          "postcodes_impacted": [
           "TD98RZ",
           "TD98SA"
          ],
          "received_time": "2021-04-02 13:59"
         },
         "INCD-495359-k": {
          "description": "There was a fault in your area which has now been resolved.  If you are still without power. please call us on: \nCentral and Southern Scotland: 0800 092 9290 . \n Cheshire, Merseyside, North Wales and North Shropshire: 0800 001 5400.",
          "estimated_restored_time": "",
          "incident_active": false,
          "incident_url": "https://www.spenergynetworks.co.uk/pages/power_cuts_map.aspx?incRef=INCD-495359-k",
          "postcodes_impacted": [
           "PA11BA",
           "PA11BL",
           "PA11BN",
           "PA11BP",
           "PA11XX",
           "PA32AD",
           "PA32AG",
           "PA32AL",
           "PA32AP",
           "PA34BT"
          ],
          "received_time": "2021-04-07 11:29"
         },
         "INCD-500919-f": {
          "description": "There was a planned outage in your area which is now complete.  If you are still without power. please call us on: \nCentral and Southern Scotland: 0800 092 9290 . \n Cheshire, Merseyside, North Wales and North Shropshire: 0800 001 5400.",
          "estimated_restored_time": "",
          "incident_active": false,
          "incident_url": "https://www.spenergynetworks.co.uk/pages/power_cuts_map.aspx?incRef=INCD-500919-f",
          "postcodes_impacted": [
           "TD106UN",
           "TD113HY",
           "TD57QT"
          ],
          "received_time": "2021-03-25 13:55"
         },
         "INCD-503355-f": {
          "description": "There was a fault in your area which has now been resolved.  If you are still without power. please call us on: \nCentral and Southern Scotland: 0800 092 9290 . \n Cheshire, Merseyside, North Wales and North Shropshire: 0800 001 5400.",
          "estimated_restored_time": "",
          "incident_active": false,
          "incident_url": "https://www.spenergynetworks.co.uk/pages/power_cuts_map.aspx?incRef=INCD-503355-f",
          "postcodes_impacted": [
           "FK38BP",
           "FK38BQ",
           "FK38BS",
           "FK38DA",
           "FK38JR",
           "FK38JS",
           "FK38LG",
           "FK38LQ"
          ],
          "received_time": "2021-04-07 19:35"
         },
         "INCD-503457-f": {
          "description": "There was a fault in your area which has now been resolved.  If you are still without power. please call us on: \nCentral and Southern Scotland: 0800 092 9290 . \n Cheshire, Merseyside, North Wales and North Shropshire: 0800 001 5400.",
          "estimated_restored_time": "",
          "incident_active": false,
          "incident_url": "https://www.spenergynetworks.co.uk/pages/power_cuts_map.aspx?incRef=INCD-503457-f",
          "postcodes_impacted": [
           "KY157UT"
          ],
          "received_time": "2021-04-08 15:30"
         },
         "INCD-503469-f": {
          "description": "There was a fault in your area which has now been resolved.  If you are still without power. please call us on: \nCentral and Southern Scotland: 0800 092 9290 . \n Cheshire, Merseyside, North Wales and North Shropshire: 0800 001 5400.",
          "estimated_restored_time": "",
          "incident_active": false,
          "incident_url": "https://www.spenergynetworks.co.uk/pages/power_cuts_map.aspx?incRef=INCD-503469-f",
          "postcodes_impacted": [
           "G33",
           "G336AA",
           "G336BD",
           "G336EY",
           "G336EZ",
           "G336HA",
           "G336HD",
           "G336HE",
           "G336HF",
           "G336HG",
           "G336HH",
           "G336HN",
           "G336HQ",
           "G336HY",
           "G336JF",
           "G336LS"
          ],
          "received_time": "2021-04-08 15:34"
         },
         "INCD-503499-f": {
          "description": "There was a fault in your area which has now been resolved.  If you are still without power. please call us on: \nCentral and Southern Scotland: 0800 092 9290 . \n Cheshire, Merseyside, North Wales and North Shropshire: 0800 001 5400.",
          "estimated_restored_time": "",
          "incident_active": false,
          "incident_url": "https://www.spenergynetworks.co.uk/pages/power_cuts_map.aspx?incRef=INCD-503499-f",
          "postcodes_impacted": [
           "DG112RN"
          ],
          "received_time": "2021-04-08 17:05"
         },
         "INCD-503511-f": {
          "description": "There was a fault in your area which has now been resolved.  If you are still without power. please call us on: \nCentral and Southern Scotland: 0800 092 9290 . \n Cheshire, Merseyside, North Wales and North Shropshire: 0800 001 5400.",
          "estimated_restored_time": "",
          "incident_active": false,
          "incident_url": "https://www.spenergynetworks.co.uk/pages/power_cuts_map.aspx?incRef=INCD-503511-f",
          "postcodes_impacted": [
           "FK11DD",
           "FK11LZ",
           "FK11NB",
           "FK11NH",
           "FK11NU"
          ],
          "received_time": "2021-04-08 17:25"
         },
         "INCD-503541-f": {
          "description": "There was a fault in your area which has now been resolved.  If you are still without power. please call us on: \nCentral and Southern Scotland: 0800 092 9290 . \n Cheshire, Merseyside, North Wales and North Shropshire: 0800 001 5400.",
          "estimated_restored_time": "",
          "incident_active": false,
          "incident_url": "https://www.spenergynetworks.co.uk/pages/power_cuts_map.aspx?incRef=INCD-503541-f",
          "postcodes_impacted": [
           "G728YF",
           "G728YH",
           "G728YQ",
           "G729UE",
           "G743XY"
          ],
          "received_time": "2021-04-08 18:15"
         },
         "INCD-503577-f": {
          "description": "There was a fault in your area which has now been resolved.  If you are still without power. please call us on: \nCentral and Southern Scotland: 0800 092 9290 . \n Cheshire, Merseyside, North Wales and North Shropshire: 0800 001 5400.",
          "estimated_restored_time": "",
          "incident_active": false,
          "incident_url": "https://www.spenergynetworks.co.uk/pages/power_cuts_map.aspx?incRef=INCD-503577-f",
          "postcodes_impacted": [
           "DG88HP"
          ],
          "received_time": "2021-04-08 19:17"
         },
         "INCD-503583-f": {
          "description": "There was a fault in your area which has now been resolved.  If you are still without power. please call us on: \nCentral and Southern Scotland: 0800 092 9290 . \n Cheshire, Merseyside, North Wales and North Shropshire: 0800 001 5400.",
          "estimated_restored_time": "",
          "incident_active": false,
          "incident_url": "https://www.spenergynetworks.co.uk/pages/power_cuts_map.aspx?incRef=INCD-503583-f",
          "postcodes_impacted": [
           "ML55AH",
           "ML55AJ",
           "ML55AL",
           "ML55AN",
           "ML55EU",
           "ML55NS",
           "ML55NW",
           "ML55QD",
           "ML55QU"
          ],
          "received_time": "2021-04-08 19:53"
         },
         "INCD-503589-f": {
          "description": "There was a fault in your area which has now been resolved.  If you are still without power. please call us on: \nCentral and Southern Scotland: 0800 092 9290 . \n Cheshire, Merseyside, North Wales and North Shropshire: 0800 001 5400.",
          "estimated_restored_time": "",
          "incident_active": false,
          "incident_url": "https://www.spenergynetworks.co.uk/pages/power_cuts_map.aspx?incRef=INCD-503589-f",
          "postcodes_impacted": [
           "ML55AH",
           "ML55AJ",
           "ML55AL",
           "ML55AN",
           "ML55EU",
           "ML55NS",
           "ML55NW",
           "ML55QD",
           "ML55QU"
          ],
          "received_time": "2021-04-08 20:20"
         },
         "INCD-503613-f": {
          "description": "There was a fault in your area which has now been resolved.  If you are still without power. please call us on: \nCentral and Southern Scotland: 0800 092 9290 . \n Cheshire, Merseyside, North Wales and North Shropshire: 0800 001 5400.",
          "estimated_restored_time": "",
          "incident_active": false,
          "incident_url": "https://www.spenergynetworks.co.uk/pages/power_cuts_map.aspx?incRef=INCD-503613-f",
          "postcodes_impacted": [
           "G466UE",
           "G466XW",
           "G467NE",
           "G467NR",
           "G467NS",
           "G467NT",
           "G467PQ"
          ],
          "received_time": "2021-04-09 06:29"
         },
         "INCD-503619-f": {
          "description": "There was a fault in your area which has now been resolved.  If you are still without power. please call us on: \nCentral and Southern Scotland: 0800 092 9290 . \n Cheshire, Merseyside, North Wales and North Shropshire: 0800 001 5400.",
          "estimated_restored_time": "",
          "incident_active": false,
          "incident_url": "https://www.spenergynetworks.co.uk/pages/power_cuts_map.aspx?incRef=INCD-503619-f",
          "postcodes_impacted": [
           "PA32BE"
          ],
          "received_time": "2021-04-09 07:56"
         },
         "INCD-503625-f": {
          "description": "There was a fault in your area which has now been resolved.  If you are still without power. please call us on: \nCentral and Southern Scotland: 0800 092 9290 . \n Cheshire, Merseyside, North Wales and North Shropshire: 0800 001 5400.",
          "estimated_restored_time": "",
          "incident_active": false,
          "incident_url": "https://www.spenergynetworks.co.uk/pages/power_cuts_map.aspx?incRef=INCD-503625-f",
          "postcodes_impacted": [
           "KA215AJ",
           "KA215AL",
           "KA215AZ"
          ],
          "received_time": "2021-04-09 08:45"
         },
         "INCD-503649-f": {
          "description": "There was a fault in your area which has now been resolved.  If you are still without power. please call us on: \nCentral and Southern Scotland: 0800 092 9290 . \n Cheshire, Merseyside, North Wales and North Shropshire: 0800 001 5400.",
          "estimated_restored_time": "",
          "incident_active": false,
          "incident_url": "https://www.spenergynetworks.co.uk/pages/power_cuts_map.aspx?incRef=INCD-503649-f",
          "postcodes_impacted": [
           "G831AA",
           "G838",
           "G838QN",
           "G838QX",
           "G838SE",
           "G838SJ",
           "G838SN",
           "G838SR",
           "G838SS"
          ],
          "received_time": "2021-04-09 09:46"
         },
         "INCD-503661-f": {
          "description": "There was a fault in your area which has now been resolved.  If you are still without power. please call us on: \nCentral and Southern Scotland: 0800 092 9290 . \n Cheshire, Merseyside, North Wales and North Shropshire: 0800 001 5400.",
          "estimated_restored_time": "",
          "incident_active": false,
          "incident_url": "https://www.spenergynetworks.co.uk/pages/power_cuts_map.aspx?incRef=INCD-503661-f",
          "postcodes_impacted": [
           "G37AW",
           "G37DS",
           "G37HU",
           "G37JR",
           "G37NG",
           "G37PJ",
           "G37PR",
           "G37RB"
          ],
          "received_time": "2021-04-09 10:27"
         },
         "INCD-503685-f": {
          "description": "There was a fault in your area which has now been resolved.  If you are still without power. please call us on: \nCentral and Southern Scotland: 0800 092 9290 . \n Cheshire, Merseyside, North Wales and North Shropshire: 0800 001 5400.",
          "estimated_restored_time": "",
          "incident_active": false,
          "incident_url": "https://www.spenergynetworks.co.uk/pages/power_cuts_map.aspx?incRef=INCD-503685-f",
          "postcodes_impacted": [
           "EH12EP",
           "EH24EH"
          ],
          "received_time": "2021-04-09 11:10"
         },
         "INCD-560455-s": {
          "description": "There was a fault in your area which has now been resolved.  If you are still without power. please call us on: \nCentral and Southern Scotland: 0800 092 9290 . \n Cheshire, Merseyside, North Wales and North Shropshire: 0800 001 5400.",
          "estimated_restored_time": "",
          "incident_active": false,
          "incident_url": "https://www.spenergynetworks.co.uk/pages/power_cuts_map.aspx?incRef=INCD-560455-s",
          "postcodes_impacted": [
           "G744PS",
           "G744QX",
           "G744QZ",
           "G744XR",
           "G744ZA"
          ],
          "received_time": "2021-04-02 15:27"
         },
         "INCD-561805-s": {
          "description": "There was a fault in your area which has now been resolved.  If you are still without power. please call us on: \nCentral and Southern Scotland: 0800 092 9290 . \n Cheshire, Merseyside, North Wales and North Shropshire: 0800 001 5400.",
          "estimated_restored_time": "",
          "incident_active": false,
          "incident_url": "https://www.spenergynetworks.co.uk/pages/power_cuts_map.aspx?incRef=INCD-561805-s",
          "postcodes_impacted": [
           "EH147HE",
           "EH147HF",
           "EH147HQ"
          ],
          "received_time": "2021-04-08 11:59"
         },
         "INCD-561931-s": {
          "description": "There was a fault in your area which has now been resolved.  If you are still without power. please call us on: \nCentral and Southern Scotland: 0800 092 9290 . \n Cheshire, Merseyside, North Wales and North Shropshire: 0800 001 5400.",
          "estimated_restored_time": "",
          "incident_active": false,
          "incident_url": "https://www.spenergynetworks.co.uk/pages/power_cuts_map.aspx?incRef=INCD-561931-s",
          "postcodes_impacted": [
           "EH496NL",
           "EH496NN",
           "EH496NP",
           "EH496NS",
           "EH496PD"
          ],
          "received_time": "2021-04-08 13:27"
         },
         "INCD-561979-s": {
          "description": "There was a fault in your area which has now been resolved.  If you are still without power. please call us on: \nCentral and Southern Scotland: 0800 092 9290 . \n Cheshire, Merseyside, North Wales and North Shropshire: 0800 001 5400.",
          "estimated_restored_time": "",
          "incident_active": false,
          "incident_url": "https://www.spenergynetworks.co.uk/pages/power_cuts_map.aspx?incRef=INCD-561979-s",
          "postcodes_impacted": [
           "G314XR",
           "G314XS",
           "G314XT",
           "G314XU",
           "G314XX",
           "G328TH"
          ],
          "received_time": "2021-04-08 15:18"
         },
         "INCD-562021-s": {
          "description": "There was a fault in your area which has now been resolved.  If you are still without power. please call us on: \nCentral and Southern Scotland: 0800 092 9290 . \n Cheshire, Merseyside, North Wales and North Shropshire: 0800 001 5400.",
          "estimated_restored_time": "",
          "incident_active": false,
          "incident_url": "https://www.spenergynetworks.co.uk/pages/power_cuts_map.aspx?incRef=INCD-562021-s",
          "postcodes_impacted": [
           "G411JA",
           "G511LE",
           "G511LF"
          ],
          "received_time": "2021-04-08 17:26"
         },
         "INCD-562105-s": {
          "description": "There was a fault in your area which has now been resolved.  If you are still without power. please call us on: \nCentral and Southern Scotland: 0800 092 9290 . \n Cheshire, Merseyside, North Wales and North Shropshire: 0800 001 5400.",
          "estimated_restored_time": "",
          "incident_active": false,
          "incident_url": "https://www.spenergynetworks.co.uk/pages/power_cuts_map.aspx?incRef=INCD-562105-s",
          "postcodes_impacted": [
           "G466UE",
           "G466XW",
           "G467NE",
           "G467NR",
           "G467NS",
           "G467NT",
           "G467PQ"
          ],
          "received_time": "2021-04-09 05:22"
         },
         "INCD-562111-s": {
          "description": "There was a fault in your area which has now been resolved.  If you are still without power. please call us on: \nCentral and Southern Scotland: 0800 092 9290 . \n Cheshire, Merseyside, North Wales and North Shropshire: 0800 001 5400.",
          "estimated_restored_time": "",
          "incident_active": false,
          "incident_url": "https://www.spenergynetworks.co.uk/pages/power_cuts_map.aspx?incRef=INCD-562111-s",
          "postcodes_impacted": [
           "TD46ES",
           "TD46ET"
          ],
          "received_time": "2021-04-09 06:20"
         },
         "INCD-562129-s": {
          "description": "There was a fault in your area which has now been resolved.  If you are still without power. please call us on: \nCentral and Southern Scotland: 0800 092 9290 . \n Cheshire, Merseyside, North Wales and North Shropshire: 0800 001 5400.",
          "estimated_restored_time": "",
          "incident_active": false,
          "incident_url": "https://www.spenergynetworks.co.uk/pages/power_cuts_map.aspx?incRef=INCD-562129-s",
          "postcodes_impacted": [
           "ML92JF",
           "ML92JG",
           "ML92JQ"
          ],
          "received_time": "2021-04-09 07:51"
         },
         "INCD-562135-s": {
          "description": "There was a fault in your area which has now been resolved.  If you are still without power. please call us on: \nCentral and Southern Scotland: 0800 092 9290 . \n Cheshire, Merseyside, North Wales and North Shropshire: 0800 001 5400.",
          "estimated_restored_time": "",
          "incident_active": false,
          "incident_url": "https://www.spenergynetworks.co.uk/pages/power_cuts_map.aspx?incRef=INCD-562135-s",
          "postcodes_impacted": [
           "DG112RN"
          ],
          "received_time": "2021-04-09 08:08"
         },
         "INCD-562141-s": {
          "description": "There was a fault in your area which has now been resolved.  If you are still without power. please call us on: \nCentral and Southern Scotland: 0800 092 9290 . \n Cheshire, Merseyside, North Wales and North Shropshire: 0800 001 5400.",
          "estimated_restored_time": "",
          "incident_active": false,
          "incident_url": "https://www.spenergynetworks.co.uk/pages/power_cuts_map.aspx?incRef=INCD-562141-s",
          "postcodes_impacted": [
           "KY48AJ",
           "KY48AP",
           "KY48AU",
           "KY48BE",
           "KY48BG",
           "KY48BQ",
           "KY48BS",
           "KY48BU",
           "KY48DA"
          ],
          "received_time": "2021-04-09 08:26"
         },
         "INCD-562147-s": {
          "description": "There was a fault in your area which has now been resolved.  If you are still without power. please call us on: \nCentral and Southern Scotland: 0800 092 9290 . \n Cheshire, Merseyside, North Wales and North Shropshire: 0800 001 5400.",
          "estimated_restored_time": "",
          "incident_active": false,
          "incident_url": "https://www.spenergynetworks.co.uk/pages/power_cuts_map.aspx?incRef=INCD-562147-s",
          "postcodes_impacted": [
           "G750QN"
          ],
          "received_time": "2021-04-09 08:50"
         },
         "INCD-562171-s": {
          "description": "There was a fault in your area which has now been resolved.  If you are still without power. please call us on: \nCentral and Southern Scotland: 0800 092 9290 . \n Cheshire, Merseyside, North Wales and North Shropshire: 0800 001 5400.",
          "estimated_restored_time": "",
          "incident_active": false,
          "incident_url": "https://www.spenergynetworks.co.uk/pages/power_cuts_map.aspx?incRef=INCD-562171-s",
          "postcodes_impacted": [
           "DD68JD",
           "DD68JE",
           "DD68JF",
           "DD68JG",
           "DD68JH"
          ],
          "received_time": "2021-04-09 09:07"
         },
         "INCD-562273-s": {
          "description": "There was a fault in your area which has now been resolved.  If you are still without power. please call us on: \nCentral and Southern Scotland: 0800 092 9290 . \n Cheshire, Merseyside, North Wales and North Shropshire: 0800 001 5400.",
          "estimated_restored_time": "",
          "incident_active": false,
          "incident_url": "https://www.spenergynetworks.co.uk/pages/power_cuts_map.aspx?incRef=INCD-562273-s",
          "postcodes_impacted": [
           "DG46BJ",
           "DG46BS",
           "DG46BT",
           "DG46BW",
           "DG46BX",
           "DG46BY",
           "DG46BZ",
           "DG46DE",
           "DG46DF",
           "DG46EN",
           "DG46WW"
          ],
          "received_time": "2021-04-09 11:04"
         },
         "INCD-562333-s": {
          "description": "There was a fault in your area which has now been resolved.  If you are still without power. please call us on: \nCentral and Southern Scotland: 0800 092 9290 . \n Cheshire, Merseyside, North Wales and North Shropshire: 0800 001 5400.",
          "estimated_restored_time": "",
          "incident_active": false,
          "incident_url": "https://www.spenergynetworks.co.uk/pages/power_cuts_map.aspx?incRef=INCD-562333-s",
          "postcodes_impacted": [
           "DG11TA"
          ],
          "received_time": "2021-04-09 12:11"
         }
        },
        "ssen": {
         "199083": {
          "description": "We're sorry for the loss of supply. The reason you're currently without power is a planned outage in the areas listed. We have turned off your electricity supply to allow us to safely carry out essential work to our electrical equipment. By doing this, it'll help us to improve the reliability of our service to you for the future. If you have any questions or require more information, please call us on 105 or send us a message on <a href=\"http://m.me/ssencommunity/\">Facebook</a> or Twitter (<a href=\"https://twitter.com/ssencommunity\">@ssencommunity</a>) with reference  '199083'. You will have received a letter from us confirming your power will be interrupted with specific information relating to your property. If you did not receive this letter, you can assume your power will not be interrupted.",
          "estimated_arrival_time": null,
          "estimated_restored_time": "2021-04-09 16:00:00",
          "incident_active": true,
          "incident_url": "https://www.ssen.co.uk/Powertrack/",
          "postcodes_impacted": [
           "IV18 0NA",
           "IV18 0NW",
           "IV18 0PD",
           "IV18 0PE",
           "IV18 0PF",
           "IV19 1NQ"
          ],
          "received_time": "2021-04-09 14:00:00"
         },
         "HB4396": {
          "description": "We’re sorry for the loss of supply. We currently have a fault affecting the areas listed. Our engineers are on site working hard to get the power back on as quickly as they can. If you need more information, please call us on 105 or send us a message on <a href=\"http://m.me/ssencommunity/\">Facebook</a> or Twitter (<a href=\"https://twitter.com/ssencommunity\">@ssencommunity</a>) and quote reference 'HB4396'",
          "estimated_arrival_time": null,
          "estimated_restored_time": "2021-04-09 16:30:00",
          "incident_active": true,
          "incident_url": "https://www.ssen.co.uk/Powertrack/",
          "postcodes_impacted": [
           "SO50 7DQ",
           "SO50 7DU",
           "SO50 7FJ",
           "SO50 7PA",
           "SO50 7PB",
           "SO50 7PF"
          ],
          "received_time": "2021-04-09 04:36:00"
         },
         "HB4497": {
          "description": "We’re sorry for the loss of supply. We currently have a fault affecting the areas listed. Our engineers are on site working hard to get the power back on as quickly as they can. If you need more information, please call us on 105 or send us a message on <a href=\"http://m.me/ssencommunity/\">Facebook</a> or Twitter (<a href=\"https://twitter.com/ssencommunity\">@ssencommunity</a>) and quote reference 'HB4497'",
          "estimated_arrival_time": null,
          "estimated_restored_time": "2021-04-09 15:30:00",
          "incident_active": true,
          "incident_url": "https://www.ssen.co.uk/Powertrack/",
          "postcodes_impacted": [
           "IV54 8YN",
           "IV54 8YU",
           "IV54 8YX"
          ],
          "received_time": "2021-04-09 09:45:00"
         },
         "HB4515": {
          "description": "We’re sorry for the loss of supply. We currently have a fault affecting the areas listed. Our engineers are on site working hard to get the power back on as quickly as they can. If you need more information, please call us on 105 or send us a message on <a href=\"http://m.me/ssencommunity/\">Facebook</a> or Twitter (<a href=\"https://twitter.com/ssencommunity\">@ssencommunity</a>) and quote reference 'HB4515'",
          "estimated_arrival_time": null,
          "estimated_restored_time": "2021-04-09 17:00:00",
          "incident_active": true,
          "incident_url": "https://www.ssen.co.uk/Powertrack/",
          "postcodes_impacted": [
           "OX49 5EP"
          ],
          "received_time": "2021-04-09 08:26:00"
         },
         "HB4557": {
          "description": "We’re sorry for the loss of supply. We currently have a fault affecting the areas listed. Our engineers are on site working hard to get the power back on as quickly as they can. If you need more information, please call us on 105 or send us a message on <a href=\"http://m.me/ssencommunity/\">Facebook</a> or Twitter (<a href=\"https://twitter.com/ssencommunity\">@ssencommunity</a>) and quote reference 'HB4557'",
          "estimated_arrival_time": null,
          "estimated_restored_time": "2021-04-09 18:00:00",
          "incident_active": true,
          "incident_url": "https://www.ssen.co.uk/Powertrack/",
          "postcodes_impacted": [
           "SO41 3RU",
           "SO41 3SE",
           "SO41 9ZG"
          ],
          "received_time": "2021-04-09 11:22:00"
         },
         "HB4621": {
          "description": "We’re sorry for the loss of supply. We currently have a fault affecting the areas listed. Our engineers are on site working hard to get the power back on as quickly as they can. If you need more information, please call us on 105 or send us a message on <a href=\"http://m.me/ssencommunity/\">Facebook</a> or Twitter (<a href=\"https://twitter.com/ssencommunity\">@ssencommunity</a>) and quote reference 'HB4621'",
          "estimated_arrival_time": "2021-04-09 13:20:00",
          "estimated_restored_time": "2021-04-09 16:30:00",
          "incident_active": true,
          "incident_url": "https://www.ssen.co.uk/Powertrack/",
          "postcodes_impacted": [
           "AB15 4BD",
           "AB15 4BF",
           "AB15 4BU",
           "AB15 4EY",
           "AB15 4EZ",
           "AB15 4YE",
           "AB15 4YQ",
           "AB15 4YS",
           "AB15 4YT",
           "AB15 4YU",
           "AB15 4YW",
           "AB15 4YY",
           "AB15 4ZR",
           "AB15 4ZX",
           "AB15 4ZZ",
           "AB23 8AQ"
          ],
          "received_time": "2021-04-09 13:12:00"
         },
         "HB4643": {
          "description": "We’re sorry for the loss of supply. We currently have a fault affecting the areas listed. Our engineers are on site working hard to get the power back on as quickly as they can. If you need more information, please call us on 105 or send us a message on <a href=\"http://m.me/ssencommunity/\">Facebook</a> or Twitter (<a href=\"https://twitter.com/ssencommunity\">@ssencommunity</a>) and quote reference 'HB4643'",
          "estimated_arrival_time": null,
          "estimated_restored_time": "2021-04-09 16:00:00",
          "incident_active": true,
          "incident_url": "https://www.ssen.co.uk/Powertrack/",
          "postcodes_impacted": [
           "BH20 5QJ",
           "BH20 5QT",
           "BH20 5QW"
          ],
          "received_time": "2021-04-09 13:41:00"
         },
         "HB4676": {
          "description": "We’re sorry for the loss of supply. We currently have a fault affecting the areas listed. Our engineers are on site working hard to get the power back on as quickly as they can. If you need more information, please call us on 105 or send us a message on <a href=\"http://m.me/ssencommunity/\">Facebook</a> or Twitter (<a href=\"https://twitter.com/ssencommunity\">@ssencommunity</a>) and quote reference 'HB4676'",
          "estimated_arrival_time": "2021-04-09 16:00:00",
          "estimated_restored_time": "2021-04-09 18:30:00",
          "incident_active": true,
          "incident_url": "https://www.ssen.co.uk/Powertrack/",
          "postcodes_impacted": [
           "TW18 4LR"
          ],
          "received_time": "2021-04-09 15:11:00"
         }
        },
        "ukpn": {
         "INCD-221608-Z": {
          "description": "We're carrying out planned work in your area. For our engineers to carry it out safely they need to turn the power off. We're doing this work as it's essential to provide reliable electricity supplies to your area. We're sorry for any inconvenience caused and thank you for your patience.",
          "estimated_restored_time": "2021-04-09T15:00:00",
          "incident_active": true,
          "incident_url": "https://www.ukpowernetworks.co.uk/power-cut/map?incidentid=INCD-221608-Z",
          "planned_time": "2021-04-09T09:00:00",
          "postcodes_impacted": [
           "PE148QA",
           "PE148QD",
           "PE148RY",
           "PE148RZ",
           "PE148SA"
          ],
          "received_time": "2021-04-09T09:18:00",
          "restored_time": "2021-04-09T14:19:42.967"
         },
         "INCD-221858-Z": {
          "description": "A fault occurred on an underground electricity cable affecting the local area.",
          "estimated_restored_time": null,
          "incident_active": false,
          "incident_url": "https://www.ukpowernetworks.co.uk/power-cut/map?incidentid=INCD-221858-Z",
          "planned_time": null,
          "postcodes_impacted": [
           "IP28AA",
           "IP28AD",
           "IP28AH",
           "IP28AP",
           "IP28AR",
           "IP28AS",
           "IP28AT",
           "IP28AU",
           "IP28AW",
           "IP28AX",
           "IP28AY",
           "IP28AZ",
           "IP28BA",
           "IP28BB",
           "IP28BD",
           "IP28BE",
           "IP28BG",
           "IP28BH",
           "IP28BQ",
           "IP28BX",
           "IP28BZ",
           "IP28DB",
           "IP28DD",
           "IP28EH",
           "IP28EJ",
           "IP28EN",
           "IP28EQ",
           "IP28FL"
          ],
          "received_time": "2021-02-28T00:03:00",
          "restored_time": "2021-04-09T10:15:50.14"
         },
         "INCD-223545-Z": {
          "description": "We're carrying out planned work in your area. For our engineers to carry it out safely they need to turn the power off. We're doing this work as it's essential to provide reliable electricity supplies to your area. We're sorry for any inconvenience caused and thank you for your patience.",
          "estimated_restored_time": "2021-04-09T15:00:00",
          "incident_active": true,
          "incident_url": "https://www.ukpowernetworks.co.uk/power-cut/map?incidentid=INCD-223545-Z",
          "planned_time": "2021-04-09T08:30:00",
          "postcodes_impacted": [
           "NR105AB",
           "NR105EH",
           "NR105HF",
           "NR105HG"
          ],
          "received_time": "2021-04-09T08:38:00",
          "restored_time": "2021-04-09T15:05:07.033"
         },
         "INCD-226484-Z": {
          "description": "A fault occurred on an underground electricity cable affecting the local area.",
          "estimated_restored_time": null,
          "incident_active": false,
          "incident_url": "https://www.ukpowernetworks.co.uk/power-cut/map?incidentid=INCD-226484-Z",
          "planned_time": null,
          "postcodes_impacted": [
           "PE150JL",
           "PE150JN"
          ],
          "received_time": "2021-03-22T10:52:00",
          "restored_time": "2021-04-09T14:48:54.67"
         },
         "INCD-227013-Z": {
          "description": "We're carrying out planned work in your area. For our engineers to carry it out safely they need to turn the power off. We're doing this work as it's essential to provide reliable electricity supplies to your area. We're sorry for any inconvenience caused and thank you for your patience.",
          "estimated_restored_time": "2021-04-09T15:00:00",
          "incident_active": true,
          "incident_url": "https://www.ukpowernetworks.co.uk/power-cut/map?incidentid=INCD-227013-Z",
          "planned_time": "2021-04-09T09:00:00",
          "postcodes_impacted": [
           "IP221AG",
           "IP221AL",
           "IP221AX"
          ],
          "received_time": "2021-04-09T09:06:00",
          "restored_time": "2021-04-09T14:48:10.713"
         },
         "INCD-227033-Z": {
          "description": "We're carrying out planned work in your area. For our engineers to carry it out safely they need to turn the power off. We're doing this work as it's essential to provide reliable electricity supplies to your area. We're sorry for any inconvenience caused and thank you for your patience.",
          "estimated_restored_time": "2021-04-09T15:00:00",
          "incident_active": true,
          "incident_url": "https://www.ukpowernetworks.co.uk/power-cut/map?incidentid=INCD-227033-Z",
          "planned_time": "2021-04-09T09:00:00",
          "postcodes_impacted": [
           "IP221AB",
           "IP221AD",
           "IP221AG"
          ],
          "received_time": "2021-04-09T09:25:00",
          "restored_time": "2021-04-09T14:46:26.073"
         },
         "INCD-227035-Z": {
          "description": "We're carrying out planned work in your area. For our engineers to carry it out safely they need to turn the power off. We're doing this work as it's essential to provide reliable electricity supplies to your area. We're sorry for any inconvenience caused and thank you for your patience.",
          "estimated_restored_time": "2021-04-09T13:00:00",
          "incident_active": true,
          "incident_url": "https://www.ukpowernetworks.co.uk/power-cut/map?incidentid=INCD-227035-Z",
          "planned_time": "2021-04-09T10:00:00",
          "postcodes_impacted": [
           "IP221AG",
           "IP221AH",
           "IP221AN",
           "IP221AP",
           "IP221AQ",
           "IP221AS",
           "IP221AU",
           "IP221AW",
           "IP221TD",
           "IP221TH",
           "IP221TQ",
           "IP224AW"
          ],
          "received_time": "2021-04-09T10:41:00",
          "restored_time": "2021-04-09T13:23:56.363"
         },
         "INCD-227251-Z": {
          "description": "We're carrying out planned work in your area. For our engineers to carry it out safely they need to turn the power off. We're doing this work as it's essential to provide reliable electricity supplies to your area. We're sorry for any inconvenience caused and thank you for your patience.",
          "estimated_restored_time": "2021-04-09T15:00:00",
          "incident_active": true,
          "incident_url": "https://www.ukpowernetworks.co.uk/power-cut/map?incidentid=INCD-227251-Z",
          "planned_time": "2021-04-09T09:00:00",
          "postcodes_impacted": [
           "IP77AR",
           "IP77BP",
           "IP77BS",
           "IP77BW"
          ],
          "received_time": "2021-04-09T09:04:00",
          "restored_time": "2021-04-09T14:23:56.213"
         },
         "INCD-227259-Z": {
          "description": "We're carrying out planned work in your area. For our engineers to carry it out safely they need to turn the power off. We're doing this work as it's essential to provide reliable electricity supplies to your area. We're sorry for any inconvenience caused and thank you for your patience.",
          "estimated_restored_time": "2021-04-09T15:00:00",
          "incident_active": true,
          "incident_url": "https://www.ukpowernetworks.co.uk/power-cut/map?incidentid=INCD-227259-Z",
          "planned_time": "2021-04-09T10:00:00",
          "postcodes_impacted": [
           "PE194DH",
           "PE195DH",
           "PE195DQ"
          ],
          "received_time": "2021-04-09T10:44:00",
          "restored_time": "2021-04-09T15:49:45.623"
         },
         "INCD-227747-Z": {
          "description": "A fault occurred on an underground electricity cable affecting the local area.",
          "estimated_restored_time": null,
          "incident_active": false,
          "incident_url": "https://www.ukpowernetworks.co.uk/power-cut/map?incidentid=INCD-227747-Z",
          "planned_time": null,
          "postcodes_impacted": [
           "CB75AN",
           "CB75HP"
          ],
          "received_time": "2021-03-28T11:13:00",
          "restored_time": "2021-04-09T05:45:56.043"
         },
         "INCD-227793-Z": {
          "description": "A fault occurred on an underground electricity cable affecting the local area.",
          "estimated_restored_time": null,
          "incident_active": true,
          "incident_url": "https://www.ukpowernetworks.co.uk/power-cut/map?incidentid=INCD-227793-Z",
          "planned_time": null,
          "postcodes_impacted": [
           "LU",
           "LU29HB",
           "LU29HE",
           "LU29HF",
           "LU29HH",
           "LU29JD",
           "LU29JE",
           "LU29JF",
           "LU29LB",
           "LU29NL",
           "LU29NY",
           "LU29PD",
           "LU29PF"
          ],
          "received_time": "2021-03-28T18:05:00",
          "restored_time": null
         },
         "INCD-227918-Z": {
          "description": "We're carrying out planned work in your area. For our engineers to carry it out safely they need to turn the power off. We're doing this work as it's essential to provide reliable electricity supplies to your area. We're sorry for any inconvenience caused and thank you for your patience.",
          "estimated_restored_time": "2021-04-09T14:30:00",
          "incident_active": true,
          "incident_url": "https://www.ukpowernetworks.co.uk/power-cut/map?incidentid=INCD-227918-Z",
          "planned_time": "2021-04-09T10:30:00",
          "postcodes_impacted": [
           "CM227QS",
           "CM227QT",
           "CM227QU"
          ],
          "received_time": "2021-04-09T10:30:00",
          "restored_time": "2021-04-09T14:52:56.917"
         },
         "INCD-228507-Z": {
          "description": "A fault occurred on an underground electricity cable affecting the local area.",
          "estimated_restored_time": null,
          "incident_active": false,
          "incident_url": "https://www.ukpowernetworks.co.uk/power-cut/map?incidentid=INCD-228507-Z",
          "planned_time": null,
          "postcodes_impacted": [
           "SS12TS"
          ],
          "received_time": "2021-03-31T23:00:00",
          "restored_time": "2021-04-09T06:56:18.06"
         },
         "INCD-228675-Z": {
          "description": "A fault occurred on an underground electricity cable affecting the local area.",
          "estimated_restored_time": null,
          "incident_active": false,
          "incident_url": "https://www.ukpowernetworks.co.uk/power-cut/map?incidentid=INCD-228675-Z",
          "planned_time": null,
          "postcodes_impacted": [
           "NR23AZ"
          ],
          "received_time": "2021-04-01T15:48:00",
          "restored_time": "2021-04-09T09:15:42.947"
         },
         "INCD-228983-Z": {
          "description": "",
          "estimated_restored_time": null,
          "incident_active": false,
          "incident_url": "https://www.ukpowernetworks.co.uk/power-cut/map?incidentid=INCD-228983-Z",
          "planned_time": null,
          "postcodes_impacted": [
           "RM11AH",
           "RM11AN",
           "RM11AR",
           "RM11JL",
           "RM79AA",
           "RM79AB",
           "RM79AD"
          ],
          "received_time": "2021-04-04T09:36:34",
          "restored_time": "2021-04-09T13:37:18.19"
         },
         "INCD-228998-Z": {
          "description": "An underground electricity cable faulted on our high voltage network, causing an area wide power cut.",
          "estimated_restored_time": "2021-04-04T15:30:00",
          "incident_active": false,
          "incident_url": "https://www.ukpowernetworks.co.uk/power-cut/map?incidentid=INCD-228998-Z",
          "planned_time": null,
          "postcodes_impacted": [
           "N120GL",
           "N120PA",
           "N120PB",
           "N120PG",
           "N120PH",
           "N120PJ",
           "N120PS",
           "N120PT",
           "N120PU",
           "N120PX",
           "N120PY",
           "N120QA",
           "N120QB",
           "N120QF",
           "N120QQ",
           "N156JN",
           "N2",
           "N224JW",
           "N228JW",
           "N28AG",
           "N28AJ",
           "N28AN",
           "N28AS",
           "N28AT",
           "N28BD",
           "N28BL",
           "N28BW",
           "N28BY",
           "N28DA",
           "N28DB",
           "N28DD",
           "N28DE",
           "N28DF",
           "N28DG",
           "N28DJ",
           "N28DQ",
           "N28EH",
           "N28EJ",
           "N28ET",
           "N28EU",
           "N28EW",
           "N28EX",
           "N28EY",
           "N28EZ",
           "N28GR",
           "N28GS",
           "N28HB",
           "N28HD",
           "N28HE",
           "N28HG",
           "N28HH",
           "N28HL",
           "N28HN",
           "N28HP",
           "N28HR",
           "N28HS",
           "N28LA",
           "N28LB",
           "N28LD",
           "N28LE",
           "N28LG",
           "N28LH",
           "N28LR",
           "N28NA",
           "N28NB",
           "N28ND",
           "N29AA",
           "N29AB",
           "N29AD",
           "N29AE",
           "N29AG",
           "N29AH",
           "N29AJ",
           "N29AL",
           "N29AN",
           "N29AS",
           "N29AZ",
           "N29BA",
           "N29BW",
           "N29DA",
           "N29DB",
           "N29DF",
           "N29DU",
           "N29DX",
           "N29DY",
           "N29DZ",
           "N29EA",
           "N29ED",
           "N29EJ",
           "N29FE",
           "N29FF",
           "N29FG",
           "N29FH",
           "N29PT",
           "N29RA",
           "N29RB",
           "N29RD",
           "N29RE",
           "N29RF",
           "N29RG",
           "N29RQ"
          ],
          "received_time": "2021-04-04T12:31:47",
          "restored_time": "2021-04-09T07:13:12.517"
         },
         "INCD-229185-Z": {
          "description": "We're carrying out planned work in your area. For our engineers to carry it out safely they need to turn the power off. We're doing this work as it's essential to provide reliable electricity supplies to your area. We're sorry for any inconvenience caused and thank you for your patience.",
          "estimated_restored_time": "2021-04-09T06:45:00",
          "incident_active": true,
          "incident_url": "https://www.ukpowernetworks.co.uk/power-cut/map?incidentid=INCD-229185-Z",
          "planned_time": "2021-04-09T06:30:00",
          "postcodes_impacted": [
           "EN93SL"
          ],
          "received_time": "2021-04-09T06:30:00",
          "restored_time": null
         },
         "INCD-229191-Z": {
          "description": "We were investigating a high voltage overhead electricity line fault which caused a power cut in the local area.",
          "estimated_restored_time": "2021-04-06T12:00:00",
          "incident_active": false,
          "incident_url": "https://www.ukpowernetworks.co.uk/power-cut/map?incidentid=INCD-229191-Z",
          "planned_time": null,
          "postcodes_impacted": [
           "PE192RD",
           "PE192SJ",
           "PE193BH",
           "PE193BQ",
           "PE193BT",
           "PE193ET",
           "PE193JH",
           "PE193JP",
           "PE193PX",
           "PE193TP",
           "PE193TT",
           "PE195XT",
           "PE196WA",
           "PE196WL",
           "PE196YH",
           "PE196YQ",
           "PE196YT",
           "PE197BH",
           "PE197BJ",
           "PE197DX",
           "PE198BB",
           "PE198BG",
           "PE198BT",
           "PE198BU",
           "PE198DD",
           "PE198DF",
           "PE198DG",
           "PE198DH",
           "PE198DJ",
           "PE198DL",
           "PE198DN",
           "PE198DP",
           "PE198DQ",
           "PE198DR",
           "PE198DS",
           "PE198DT",
           "PE198DU",
           "PE198DW",
           "PE198EJ",
           "PE198EL",
           "PE198ES",
           "PE198ET",
           "PE198EX",
           "PE198FQ",
           "PE198FT",
           "PE198GE",
           "PE198GH",
           "PE198GN",
           "PE198GP",
           "PE198GQ",
           "PE198GR",
           "PE198GU",
           "PE198GY",
           "PE198HS",
           "PE198HZ",
           "PE198JF",
           "PE198JH",
           "PE198JJ",
           "PE198JP",
           "PE198JQ",
           "PE198JR",
           "PE198JS",
           "PE198JW",
           "PE198LA",
           "PE198LB",
           "PE198NH",
           "PE198NJ",
           "PE198NL",
           "PE198NN",
           "PE198PA",
           "PE198PB",
           "PE198PE",
           "PE198PH",
           "PE198PJ",
           "PE198PL",
           "PE198PN",
           "PE198PP",
           "PE198PQ",
           "PE198PR",
           "PE198PS",
           "PE198PT",
           "PE198PU",
           "PE198PW",
           "PE198PX",
           "PE198PY",
           "PE198PZ",
           "PE198QB",
           "PE198QD",
           "PE198QE",
           "PE198QF",
           "PE198QG",
           "PE198QH",
           "PE198QJ",
           "PE198QL",
           "PE198TA",
           "PE198TB",
           "PE198TD",
           "PE198TP",
           "PE198TR",
           "PE198TS",
           "PE198TT",
           "PE198TY",
           "PE198YE",
           "RM38TS"
          ],
          "received_time": "2021-04-06T09:59:01",
          "restored_time": "2021-04-09T07:19:40.367"
         },
         "INCD-229210-Z": {
          "description": "We're carrying out planned work in your area. For our engineers to carry it out safely they need to turn the power off. We're doing this work as it's essential to provide reliable electricity supplies to your area. We're sorry for any inconvenience caused and thank you for your patience.",
          "estimated_restored_time": "2021-04-09T09:00:00",
          "incident_active": true,
          "incident_url": "https://www.ukpowernetworks.co.uk/power-cut/map?incidentid=INCD-229210-Z",
          "planned_time": "2021-04-09T08:00:00",
          "postcodes_impacted": [
           "CM59FN",
           "CM59LF",
           "CM59LG",
           "CM59LP",
           "CM59LQ",
           "CM59LW"
          ],
          "received_time": "2021-04-09T08:00:00",
          "restored_time": "2021-04-09T09:37:30.903"
         },
         "INCD-229450-Z": {
          "description": "We were investigating a high voltage electricity cable that was damaged, causing a power cut in the local area.",
          "estimated_restored_time": "2021-04-07T13:30:00",
          "incident_active": false,
          "incident_url": "https://www.ukpowernetworks.co.uk/power-cut/map?incidentid=INCD-229450-Z",
          "planned_time": null,
          "postcodes_impacted": [
           "SS94RP",
           "SS94RS",
           "SS94RU",
           "SS94RY",
           "SS94RZ",
           "SS94SN",
           "SS94SW",
           "SS94UT",
           "SS94XX",
           "SS95FA",
           "SS95JA",
           "SS95JL",
           "SS95JU",
           "SS95JX",
           "SS95LE",
           "SS95LF",
           "SS95LP",
           "SS95LQ",
           "SS95LY",
           "SS95PR",
           "UK"
          ],
          "received_time": "2021-04-07T10:19:00",
          "restored_time": "2021-04-09T06:41:50.377"
         },
         "INCD-229627-Z": {
          "description": "An underground electricity cable faulted on our high voltage network, causing an area wide power cut.",
          "estimated_restored_time": "2021-04-08T12:30:00",
          "incident_active": false,
          "incident_url": "https://www.ukpowernetworks.co.uk/power-cut/map?incidentid=INCD-229627-Z",
          "planned_time": null,
          "postcodes_impacted": [
           "AL48DF",
           "AL48ED",
           "AL48EE",
           "AL48EF",
           "AL48EZ",
           "AL48FE",
           "AL48FJ",
           "AL48HD",
           "AL48HF",
           "AL48HH",
           "AL48HJ",
           "AL48HL",
           "AL48HN",
           "AL48HP",
           "AL48HQ",
           "AL48HR",
           "AL48HT",
           "AL48HU",
           "AL48HW",
           "AL48HX",
           "AL48HY",
           "AL48HZ",
           "AL48JA",
           "AL48JB",
           "AL48JD",
           "AL48JE",
           "AL48JF",
           "AL48JG",
           "AL48JH",
           "AL48JQ",
           "AL48QT",
           "AL51AF",
           "AL51AG",
           "AL51AH",
           "AL51AJ",
           "AL51AQ",
           "AL51DY"
          ],
          "received_time": "2021-04-08T11:59:13",
          "restored_time": "2021-04-09T14:42:20.16"
         },
         "INCD-229812-Z": {
          "description": "An underground electricity cable faulted on our high voltage network, causing an area wide power cut.",
          "estimated_restored_time": null,
          "incident_active": false,
          "incident_url": "https://www.ukpowernetworks.co.uk/power-cut/map?incidentid=INCD-229812-Z",
          "planned_time": null,
          "postcodes_impacted": [
           "AL87AT",
           "AL87DU",
           "AL87EA",
           "AL87EB",
           "AL87ED",
           "AL87EE",
           "AL87EF",
           "AL87EG",
           "AL87EH",
           "AL87EJ",
           "AL87EL",
           "AL87EN",
           "AL87EP",
           "AL87EQ",
           "AL87EW",
           "AL87HD",
           "AL87HE",
           "AL87HG",
           "AL87HH",
           "AL87HJ",
           "AL87HL",
           "AL87HN",
           "AL87HP",
           "AL87HQ",
           "AL87HR",
           "AL87HW",
           "AL87HZ",
           "AL87JA",
           "AL87JB",
           "AL87JD",
           "AL87LT",
           "AL87LU",
           "AL87LX",
           "AL87LY",
           "AL87LZ",
           "AL87NA",
           "AL87NB",
           "AL87ND",
           "AL87NF",
           "AL87NG",
           "AL87NH",
           "AL87NJ",
           "AL87NL",
           "AL87NN",
           "AL87NQ",
           "AL87NR",
           "AL87NS",
           "AL87NW",
           "AL87NX",
           "AL87QG",
           "AL87QH",
           "AL87QJ",
           "AL87QL",
           "AL87QN",
           "AL87QP",
           "AL87QR",
           "AL87QS",
           "AL87QT",
           "AL87QU",
           "AL87QW",
           "AL87QX",
           "AL87QY",
           "AL87QZ",
           "AL87RA",
           "AL87RB",
           "AL87RH",
           "AL87RJ",
           "AL87RL",
           "AL87RQ",
           "AL87SU",
           "AL87UA"
          ],
          "received_time": "2021-04-08T18:47:21",
          "restored_time": "2021-04-09T11:52:22.733"
         },
         "INCD-229829-Z": {
          "description": "Due to a faulty piece of underground network equipment we had to turn off your power.",
          "estimated_restored_time": "2021-04-09T20:00:00",
          "incident_active": true,
          "incident_url": "https://www.ukpowernetworks.co.uk/power-cut/map?incidentid=INCD-229829-Z",
          "planned_time": null,
          "postcodes_impacted": [
           "CM195JN",
           "CM195JP",
           "CM195JW",
           "CM195JR",
           "CM195JU",
           "CM195JY",
           "CM195JZ"
          ],
          "received_time": "2021-04-09T02:37:00",
          "restored_time": null
         },
         "INCD-229831-Z": {
          "description": "A fault occurred on an underground electricity cable affecting the local area.",
          "estimated_restored_time": "2021-04-09T18:00:00",
          "incident_active": true,
          "incident_url": "https://www.ukpowernetworks.co.uk/power-cut/map?incidentid=INCD-229831-Z",
          "planned_time": null,
          "postcodes_impacted": [
           "HA02SW",
           "HA02QG",
           "HA02RZ",
           "HA02SA",
           "HA02SB",
           "HA02SE",
           "HA02SF",
           "HA02SL"
          ],
          "received_time": "2021-04-09T05:50:00",
          "restored_time": null
         },
         "INCD-229833-Z": {
          "description": "A fault occurred on an underground electricity cable affecting the local area.",
          "estimated_restored_time": "2021-04-09T17:00:00",
          "incident_active": false,
          "incident_url": "https://www.ukpowernetworks.co.uk/power-cut/map?incidentid=INCD-229833-Z",
          "planned_time": null,
          "postcodes_impacted": [
           "NR191BX",
           "NR191EA",
           "NR192AP"
          ],
          "received_time": "2021-04-09T09:18:00",
          "restored_time": "2021-04-09T15:03:32.623"
         },
         "INCD-229836-Z": {
          "description": "A fault occurred on a piece of our electrical equipment which controls the power to your home.",
          "estimated_restored_time": "2021-04-09T10:30:00",
          "incident_active": false,
          "incident_url": "https://www.ukpowernetworks.co.uk/power-cut/map?incidentid=INCD-229836-Z",
          "planned_time": null,
          "postcodes_impacted": [
           "CO101JS",
           "CO101LS"
          ],
          "received_time": "2021-04-09T07:27:00",
          "restored_time": "2021-04-09T09:39:46.63"
         },
         "INCD-229839-Z": {
          "description": "A fault occurred on a piece of our electrical equipment which controls the power to your home.",
          "estimated_restored_time": null,
          "incident_active": false,
          "incident_url": "https://www.ukpowernetworks.co.uk/power-cut/map?incidentid=INCD-229839-Z",
          "planned_time": null,
          "postcodes_impacted": [
           "WD188JG",
           "WD188QU",
           "WD188TF"
          ],
          "received_time": "2021-04-09T07:59:00",
          "restored_time": "2021-04-09T08:59:01.377"
         },
         "INCD-229840-Z": {
          "description": "A fault occurred on a piece of our electrical equipment which controls the power to your home.",
          "estimated_restored_time": null,
          "incident_active": false,
          "incident_url": "https://www.ukpowernetworks.co.uk/power-cut/map?incidentid=INCD-229840-Z",
          "planned_time": null,
          "postcodes_impacted": [
           "EN118ER"
          ],
          "received_time": "2021-04-09T08:01:00",
          "restored_time": "2021-04-09T11:36:09.447"
         },
         "INCD-229862-Z": {
          "description": "We were investigating an overhead electricity line fault which caused a power cut in the local area.",
          "estimated_restored_time": "2021-04-09T14:00:00",
          "incident_active": false,
          "incident_url": "https://www.ukpowernetworks.co.uk/power-cut/map?incidentid=INCD-229862-Z",
          "planned_time": null,
          "postcodes_impacted": [
           "NR105QW"
          ],
          "received_time": "2021-04-09T10:43:00",
          "restored_time": "2021-04-09T13:21:47.56"
         },
         "INCD-229873-Z": {
          "description": "We are carrying out essential work on the electricity network in your area.",
          "estimated_restored_time": null,
          "incident_active": false,
          "incident_url": "https://www.ukpowernetworks.co.uk/power-cut/map?incidentid=INCD-229873-Z",
          "planned_time": null,
          "postcodes_impacted": [
           "IP221AG",
           "IP221AJ",
           "IP221AL",
           "IP221AN",
           "IP221AS",
           "IP221AX",
           "IP221FJ",
           "IP221PF"
          ],
          "received_time": "2021-04-09T09:06:00",
          "restored_time": "2021-04-09T12:18:04.043"
         },
         "INCD-229908-Z": {
          "description": "We had to turn off power in your area so our engineers could safely carry out emergency repairs to the network.",
          "estimated_restored_time": null,
          "incident_active": false,
          "incident_url": "https://www.ukpowernetworks.co.uk/power-cut/map?incidentid=INCD-229908-Z",
          "planned_time": null,
          "postcodes_impacted": [
           "CO45AA",
           "CO45AB",
           "CO45AD",
           "CO45BT",
           "CO45BU",
           "CO46DT"
          ],
          "received_time": "2021-04-09T12:07:00",
          "restored_time": "2021-04-09T12:23:00"
         },
         "INCD-229910-Z": {
          "description": "We were investigating an electricity cable that was damaged, causing a power cut in the local area.",
          "estimated_restored_time": "2021-04-09T16:30:00",
          "incident_active": false,
          "incident_url": "https://www.ukpowernetworks.co.uk/power-cut/map?incidentid=INCD-229910-Z",
          "planned_time": null,
          "postcodes_impacted": [
           "RM155DL",
           "RM155DX",
           "RM155DZ",
           "RM155EJ",
           "RM155ET",
           "RM155FU"
          ],
          "received_time": "2021-04-09T12:07:11",
          "restored_time": "2021-04-09T13:30:07.597"
         },
         "INCD-229914-Z": {
          "description": "We had to turn off power in your area so our engineers could safely carry out emergency repairs to the network.",
          "estimated_restored_time": "2021-04-09T13:30:00",
          "incident_active": false,
          "incident_url": "https://www.ukpowernetworks.co.uk/power-cut/map?incidentid=INCD-229914-Z",
          "planned_time": null,
          "postcodes_impacted": [
           "HA27AA",
           "HA27HU",
           "HA27LR",
           "HA27LS",
           "HA27LT",
           "HA27LU",
           "HA27NT",
           "HA55DS",
           "HA55DT"
          ],
          "received_time": "2021-04-09T12:17:00",
          "restored_time": "2021-04-09T12:31:00"
         },
         "INCD-229928-Z": {
          "description": "A fault occurred on a piece of our electrical equipment which controls the power to your home.",
          "estimated_restored_time": "2021-04-09T15:30:00",
          "incident_active": false,
          "incident_url": "https://www.ukpowernetworks.co.uk/power-cut/map?incidentid=INCD-229928-Z",
          "planned_time": null,
          "postcodes_impacted": [
           "MK416AG",
           "MK416BN",
           "MK416DL",
           "MK416DN",
           "MK416EE",
           "MK416EG",
           "MK416EJ",
           "MK416EQ",
           "MK437DQ"
          ],
          "received_time": "2021-04-09T12:21:00",
          "restored_time": "2021-04-09T14:08:51.007"
         },
         "INCD-229935-Z": {
          "description": "We were investigating a high voltage overhead electricity line fault which caused a power cut in the local area.",
          "estimated_restored_time": null,
          "incident_active": false,
          "incident_url": "https://www.ukpowernetworks.co.uk/power-cut/map?incidentid=INCD-229935-Z",
          "planned_time": null,
          "postcodes_impacted": [
           "PE339AU",
           "PE339AY",
           "PE339AZ",
           "PE339BA"
          ],
          "received_time": "2021-04-09T14:02:00",
          "restored_time": "2021-04-09T15:43:26.247"
         },
         "INCD-229946-Z": {
          "description": "A fault occurred on a piece of our electrical equipment which controls the power to your home.",
          "estimated_restored_time": "2021-04-09T17:00:00",
          "incident_active": true,
          "incident_url": "https://www.ukpowernetworks.co.uk/power-cut/map?incidentid=INCD-229946-Z",
          "planned_time": null,
          "postcodes_impacted": [
           "SG191AG",
           "SG191AH",
           "SG191AQ",
           "SG191HU",
           "SG191HX",
           "SG191JB",
           "SG191JN",
           "SG191JP"
          ],
          "received_time": "2021-04-09T13:10:41",
          "restored_time": null
         },
         "INCD-229948-Z": {
          "description": "A fault occurred on a piece of our electrical equipment which controls the power to your home.",
          "estimated_restored_time": "2021-04-09T16:30:00",
          "incident_active": false,
          "incident_url": "https://www.ukpowernetworks.co.uk/power-cut/map?incidentid=INCD-229948-Z",
          "planned_time": null,
          "postcodes_impacted": [
           "IP76DB",
           "IP76DD",
           "IP76DE",
           "IP76DF",
           "IP76JL"
          ],
          "received_time": "2021-04-09T13:21:00",
          "restored_time": "2021-04-09T15:43:44.433"
         },
         "INCD-229961-Z": {
          "description": "We were investigating a high voltage overhead electricity line fault which caused a power cut in the local area.",
          "estimated_restored_time": "2021-04-09T16:00:00",
          "incident_active": true,
          "incident_url": "https://www.ukpowernetworks.co.uk/power-cut/map?incidentid=INCD-229961-Z",
          "planned_time": null,
          "postcodes_impacted": [],
          "received_time": "2021-04-09T14:05:04",
          "restored_time": null
         },
         "INCD-229962-Z": {
          "description": "We had to turn off power in your area so our engineers could safely carry out emergency repairs to the network.",
          "estimated_restored_time": null,
          "incident_active": true,
          "incident_url": "https://www.ukpowernetworks.co.uk/power-cut/map?incidentid=INCD-229962-Z",
          "planned_time": null,
          "postcodes_impacted": [
           "LU79QA",
           "LU79QB",
           "LU79QD",
           "LU79QF",
           "LU79QG",
           "LU79QQ"
          ],
          "received_time": "2021-04-09T14:05:25",
          "restored_time": null
         },
         "INCD-229998-Z": {
          "description": "We had to turn off power in your area so our engineers could safely carry out emergency repairs to the network.",
          "estimated_restored_time": "2021-04-09T19:00:00",
          "incident_active": true,
          "incident_url": "https://www.ukpowernetworks.co.uk/power-cut/map?incidentid=INCD-229998-Z",
          "planned_time": null,
          "postcodes_impacted": [
           "E48EJ",
           "E48EF",
           "E48EG",
           "E48EH",
           "E48EY"
          ],
          "received_time": "2021-04-09T16:00:00",
          "restored_time": null
         },
         "INCD-239464-G": {
          "description": "A fault occurred on an underground electricity cable affecting the local area.",
          "estimated_restored_time": null,
          "incident_active": false,
          "incident_url": "https://www.ukpowernetworks.co.uk/power-cut/map?incidentid=INCD-239464-G",
          "planned_time": null,
          "postcodes_impacted": [
           "KT12RB",
           "KT12RD",
           "KT12UJ",
           "KT12UR"
          ],
          "received_time": "2020-11-20T12:41:00",
          "restored_time": "2021-04-09T07:10:42.37"
         },
         "INCD-243592-G": {
          "description": "A piece of network equipment had a fault on our high voltage electricity network, causing an area wide power cut.",
          "estimated_restored_time": "2021-01-24T11:30:00",
          "incident_active": false,
          "incident_url": "https://www.ukpowernetworks.co.uk/power-cut/map?incidentid=INCD-243592-G",
          "planned_time": null,
          "postcodes_impacted": [
           "BN99SG",
           "BN99SN",
           "BN99SP",
           "BN99SW",
           "BN99TB"
          ],
          "received_time": "2021-01-24T06:43:38",
          "restored_time": "2021-04-09T07:33:31.383"
         },
         "INCD-246135-G": {
          "description": "An underground electricity cable faulted on our high voltage network, causing an area wide power cut.",
          "estimated_restored_time": "2021-03-03T17:30:00",
          "incident_active": false,
          "incident_url": "https://www.ukpowernetworks.co.uk/power-cut/map?incidentid=INCD-246135-G",
          "planned_time": null,
          "postcodes_impacted": [
           "RH15DF",
           "RH15DG",
           "RH15DZ",
           "RH15HN",
           "RH15JN",
           "RH15JP",
           "RH15JQ",
           "RH15JR",
           "RH15JS",
           "RH15JT",
           "RH15JU",
           "RH15JW",
           "RH15QL",
           "RH15RA",
           "RH15RG"
          ],
          "received_time": "2021-03-03T14:18:37",
          "restored_time": "2021-04-09T06:50:57.353"
         },
         "INCD-247495-G": {
          "description": "Due to a faulty piece of high voltage network equipment we had to turn off your power.",
          "estimated_restored_time": "2021-03-30T17:30:00",
          "incident_active": false,
          "incident_url": "https://www.ukpowernetworks.co.uk/power-cut/map?incidentid=INCD-247495-G",
          "planned_time": null,
          "postcodes_impacted": [
           "BR67NS",
           "BR67SH",
           "BR67SJ",
           "TN147HH",
           "TN147HJ",
           "TN147HL",
           "TN147HN",
           "TN147HP",
           "TN147HW",
           "TN157SH"
          ],
          "received_time": "2021-03-30T13:58:05",
          "restored_time": "2021-04-09T07:01:21.29"
         },
         "INCD-247546-G": {
          "description": "An underground electricity cable faulted on our high voltage network, causing an area wide power cut.",
          "estimated_restored_time": "2021-03-31T11:30:00",
          "incident_active": false,
          "incident_url": "https://www.ukpowernetworks.co.uk/power-cut/map?incidentid=INCD-247546-G",
          "planned_time": null,
          "postcodes_impacted": [
           "BN14QF",
           "BN17LA",
           "BN19JS",
           "BN19PU",
           "BN22XZ",
           "BN24BA",
           "BN24BB",
           "BN24FA",
           "BN24FB",
           "BN24FD",
           "BN24FE",
           "BN24FF",
           "BN24FG",
           "BN24FH",
           "BN24FZ",
           "BN24GA",
           "BN24GB",
           "BN24GD",
           "BN24GE",
           "BN24GF",
           "BN24GG",
           "BN24HA",
           "BN24HB",
           "BN24HD",
           "BN24HJ",
           "BN24HL",
           "BN24JB",
           "BN24JD",
           "BN24JE",
           "BN24JF",
           "BN24JG",
           "BN24JH",
           "BN24JJ",
           "BN24JL",
           "BN24JN",
           "BN24JP",
           "BN24JQ",
           "BN24JR",
           "BN24JS",
           "BN24JT",
           "BN24JW",
           "BN24JZ",
           "BN24LA",
           "BN24LB",
           "BN24LD",
           "BN24LE",
           "BN24LF",
           "BN24LG",
           "BN24LH",
           "BN24LJ",
           "BN24LL",
           "BN24LN",
           "BN24LP",
           "BN24LQ",
           "BN24LR",
           "BN24LS",
           "BN24LT",
           "BN24LU",
           "BN24LW",
           "BN24LX",
           "BN24LY",
           "BN24LZ",
           "BN24NP",
           "BN24NQ",
           "BN24PB",
           "BN24PW",
           "BN24PX",
           "BN24PZ",
           "BN24QA",
           "BN24QF",
           "BN24QJ",
           "BN24QN",
           "BN24RA",
           "BN24RB",
           "BN24RD",
           "BN24RE",
           "BN24RF",
           "BN24RG",
           "BN24RH",
           "BN24RJ",
           "BN24RL",
           "BN24RN",
           "BN24RP",
           "BN24RQ",
           "BN24RR",
           "BN24RS",
           "BN24RT",
           "BN24RU",
           "BN24RW",
           "BN24RX",
           "BN24RY",
           "BN24RZ",
           "BN24SA",
           "BN24SB",
           "BN24SE",
           "BN24TA",
           "BN24TB",
           "BN24TD",
           "BN24TF",
           "BN24TG",
           "BN24TH",
           "BN24TJ",
           "BN24TL",
           "BN24TN",
           "BN24TP",
           "BN24TQ",
           "BN24TR",
           "BN26AF",
           "BN26BJ",
           "BN26BL",
           "BN26BN",
           "BN26BP",
           "BN26DB",
           "BN26DD",
           "BN26DE",
           "BN26DF",
           "BN26DG",
           "BN26DH",
           "BN26DJ",
           "BN26DL",
           "BN26DN",
           "BN26DP",
           "BN26DQ",
           "BN26DR",
           "BN26DS",
           "BN26DT",
           "UMS"
          ],
          "received_time": "2021-03-31T08:39:07",
          "restored_time": "2021-04-09T07:17:56.487"
         },
         "INCD-247691-G": {
          "description": "We had to turn off power in your area so our engineers could safely carry out emergency repairs to the network.",
          "estimated_restored_time": null,
          "incident_active": true,
          "incident_url": "https://www.ukpowernetworks.co.uk/power-cut/map?incidentid=INCD-247691-G",
          "planned_time": null,
          "postcodes_impacted": [
           "BN11YE",
           "UMS",
           "BN11UA",
           "BN11YA",
           "BN14AB",
           "BN14AD",
           "BN14AE",
           "BN14AF",
           "BN14AG"
          ],
          "received_time": "2021-04-04T02:05:00",
          "restored_time": null
         },
         "INCD-247801-G": {
          "description": "A fault occurred on an underground electricity cable affecting the local area.",
          "estimated_restored_time": null,
          "incident_active": false,
          "incident_url": "https://www.ukpowernetworks.co.uk/power-cut/map?incidentid=INCD-247801-G",
          "planned_time": null,
          "postcodes_impacted": [
           "BN265SY",
           "BN265SZ",
           "BN265TB",
           "BN265TD",
           "BN265TE",
           "BN265TH",
           "BN265TJ",
           "BN265TL",
           "BN265TY",
           "BN265UD",
           "BN265XL"
          ],
          "received_time": "2021-04-07T13:55:00",
          "restored_time": "2021-04-09T15:15:50.403"
         },
         "INCD-247902-G": {
          "description": "An underground electricity cable faulted on our high voltage network, causing an area wide power cut.",
          "estimated_restored_time": "2021-04-09T06:00:00",
          "incident_active": false,
          "incident_url": "https://www.ukpowernetworks.co.uk/power-cut/map?incidentid=INCD-247902-G",
          "planned_time": null,
          "postcodes_impacted": [
           "DA99UH",
           "ME195FJ",
           "RH161QL",
           "RH191AA",
           "RH191AB",
           "RH191AD",
           "RH191AF",
           "RH191AG",
           "RH191AJ",
           "RH191AL",
           "RH191AP",
           "RH191AQ",
           "RH191AS",
           "RH191AW",
           "RH191BD",
           "RH191BE",
           "RH191BG",
           "RH191BP",
           "RH191BU",
           "RH191DL",
           "RH191EN",
           "RH191EP",
           "RH191EQ",
           "RH191ES",
           "RH191ET",
           "RH191EY",
           "RH191FG",
           "RH191HZ",
           "RH191JD",
           "RH191JF",
           "RH191JG",
           "RH191JJ",
           "RH191JL",
           "RH191JN",
           "RH191JP",
           "RH191JQ",
           "RH191JR",
           "RH191JS",
           "RH191JT",
           "RH191JU",
           "RH191JW",
           "RH191JX",
           "RH191JY",
           "RH191JZ",
           "RH191LY",
           "RH191NL",
           "RH191NP",
           "RH191NR",
           "RH191NS",
           "RH191NT",
           "RH191NU",
           "RH191NX",
           "RH191QP",
           "RH191QT",
           "RH191RP",
           "RH191RQ",
           "RH191RS",
           "RH191SR",
           "RH191TS",
           "RH191TX",
           "RH191UA",
           "RH191UD",
           "RH191UZ",
           "RH191XG",
           "RH193AA",
           "RH193AB",
           "RH193AD",
           "RH193AF",
           "RH193AG",
           "RH193AW",
           "RH193AZ",
           "RH193BB",
           "RH193BD",
           "RH193BE",
           "RH193BF",
           "RH193BG",
           "RH193BH",
           "RH193BJ",
           "RH193BL",
           "RH193BN",
           "RH193BP",
           "RH193BS",
           "RH193BT",
           "RH193BW",
           "RH193BX",
           "RH193BZ",
           "RH193DH",
           "RH193DJ",
           "RH193DL",
           "RH193SN",
           "RH194AA",
           "RH194BF",
           "RH194BJ",
           "RH194BL",
           "RH194BN",
           "RH194BP",
           "RH194BS",
           "RH194BT",
           "RH194BU",
           "RH194BW",
           "RH194BX",
           "RH194BY",
           "RH194BZ",
           "RH194DA",
           "RH194DB",
           "RH194DG",
           "RH194DH",
           "RH194DJ",
           "RH194DQ",
           "RH194DW",
           "RH194EB",
           "RH194ED",
           "RH194EE",
           "RH194EF",
           "RH194EG",
           "RH194EH",
           "RH194EJ",
           "RH194EL",
           "RH194EN",
           "RH194EP",
           "RH194EQ",
           "RH194ES",
           "RH194EY",
           "RH194EZ",
           "RH194SR",
           "RH194SX",
           "RH194YZ",
           "SM14QT"
          ],
          "received_time": "2021-04-09T04:10:21",
          "restored_time": "2021-04-09T05:37:42.003"
         },
         "INCD-247911-G": {
          "description": "We had to turn off power in your area so our engineers could safely carry out emergency repairs to the network.",
          "estimated_restored_time": "2021-04-09T13:30:00",
          "incident_active": false,
          "incident_url": "https://www.ukpowernetworks.co.uk/power-cut/map?incidentid=INCD-247911-G",
          "planned_time": null,
          "postcodes_impacted": [
           "RH15QL",
           "RH15RG"
          ],
          "received_time": "2021-04-09T11:37:32",
          "restored_time": "2021-04-09T14:13:36.353"
         },
         "INCD-247923-G": {
          "description": "A fault occurred on a piece of our electrical equipment which controls the power to your home.",
          "estimated_restored_time": "2021-04-09T17:30:00",
          "incident_active": true,
          "incident_url": "https://www.ukpowernetworks.co.uk/power-cut/map?incidentid=INCD-247923-G",
          "planned_time": null,
          "postcodes_impacted": [
           "CT203EG",
           "CT203EH",
           "CT203EJ",
           "CT203EL",
           "CT203EQ",
           "CT203JR",
           "CT203JS",
           "CT203JT",
           "CT203JU",
           "CT203JX",
           "CT203JY",
           "CT203JZ",
           "CT203LA",
           "CT203LG",
           "CT203LH",
           "CT203LJ",
           "CT203LL",
           "CT203LQ"
          ],
          "received_time": "2021-04-09T12:44:00",
          "restored_time": null
         },
         "INCD-247925-G": {
          "description": "We had to turn off power in your area so our engineers could safely carry out emergency repairs to the network.",
          "estimated_restored_time": "2021-04-09T15:30:00",
          "incident_active": false,
          "incident_url": "https://www.ukpowernetworks.co.uk/power-cut/map?incidentid=INCD-247925-G",
          "planned_time": null,
          "postcodes_impacted": [
           "BN13LP",
           "BN13LQ",
           "BN13LT",
           "BN13LU",
           "BN13RJ"
          ],
          "received_time": "2021-04-09T13:33:00",
          "restored_time": "2021-04-09T14:25:05.297"
         },
         "INCD-247926-G": {
          "description": "We had to turn off power in your area so our engineers could safely carry out emergency repairs to the network.",
          "estimated_restored_time": "2021-04-09T21:00:00",
          "incident_active": true,
          "incident_url": "https://www.ukpowernetworks.co.uk/power-cut/map?incidentid=INCD-247926-G",
          "planned_time": null,
          "postcodes_impacted": [
           "RH194QW",
           "TN120JS",
           "TN120JT",
           "TN120JW",
           "TN120RA",
           "TN120RB",
           "TN120RG",
           "TN120RH",
           "TN120RJ",
           "TN120RL",
           "TN120RU",
           "TN120RW",
           "TN129BU",
           "TN12ORJ",
           "KT168HT",
           "ME173DZ",
           "ME173EB",
           "TN11",
           "TN120DU",
           "TN120DX",
           "TN120DY",
           "TN120DZ",
           "TN120EA",
           "TN120EB",
           "TN120ED",
           "TN120EG",
           "TN120RD",
           "TN120RE",
           "TN120RR",
           "TN120RS",
           "TN120RT",
           "TN128JN",
           "TN261AN",
           "TN279JT",
           "TN279JU",
           "TN279NX",
           "TN279NY",
           "TN279PA",
           "TN279PB",
           "TN279PD",
           "TN279PE",
           "TN279PG",
           "TN279PJ",
           "TN279PL",
           "TN279PN",
           "TN279PP",
           "TN279PR",
           "TN279PS",
           "TN279PT",
           "TN279RL",
           "TN279RN",
           "TN279RP",
           "TN279RR",
           "TN279RS",
           "TN279RT",
           "TN91NL",
           "TN91TB"
          ],
          "received_time": "2021-04-09T13:15:53",
          "restored_time": null
         },
         "INCD-247931-G": {
          "description": "A fault occurred on a piece of our electrical equipment which controls the power to your home.",
          "estimated_restored_time": null,
          "incident_active": false,
          "incident_url": "https://www.ukpowernetworks.co.uk/power-cut/map?incidentid=INCD-247931-G",
          "planned_time": null,
          "postcodes_impacted": [
           "CR04XA",
           "CR04XD",
           "CR04YN"
          ],
          "received_time": "2021-04-09T13:54:50",
          "restored_time": "2021-04-09T15:01:18.91"
         },
         "INCD-259092-J": {
          "description": "A fault occurred on an underground electricity cable affecting the local area.",
          "estimated_restored_time": null,
          "incident_active": false,
          "incident_url": "https://www.ukpowernetworks.co.uk/power-cut/map?incidentid=INCD-259092-J",
          "planned_time": null,
          "postcodes_impacted": [
           "N10DG",
           "N10EH",
           "N10EQ",
           "N10HB",
           "N10RJ",
           "N10RT",
           "N10XT",
           "N10XU"
          ],
          "received_time": "2021-03-31T09:47:00",
          "restored_time": "2021-04-09T16:31:46.327"
         },
         "INCD-259202-J": {
          "description": "We were investigating an electricity cable that was damaged, causing a power cut in the local area.",
          "estimated_restored_time": null,
          "incident_active": false,
          "incident_url": "https://www.ukpowernetworks.co.uk/power-cut/map?incidentid=INCD-259202-J",
          "planned_time": null,
          "postcodes_impacted": [
           "W1M1DH",
           "W1M1HB",
           "W1M1HE",
           "W1M1HJ",
           "W1U5AH",
           "W1U6QJ",
           "W1U6QL",
           "W1U7AJ",
           "W1U7AL",
           "W1U7BY",
           "W1U7JA",
           "W1U7JF",
           "W1U7NE",
           "W1U7NF",
           "W1U7NN",
           "W1U7NP",
           "W1U7NR",
           "W1U7NS",
           "W1U7NT",
           "W1U7NU",
           "W1U7NW",
           "W1U7NX",
           "W1U7NY",
           "W1U7NZ",
           "W1U7PB",
           "W1U7PD",
           "W1U7PE",
           "W1U7PF",
           "W1U7PG",
           "W1U7PJ",
           "W1U7PN",
           "W1U7PP",
           "W1U7PQ",
           "W1U7PW",
           "W1U7RT"
          ],
          "received_time": "2021-04-02T15:00:00",
          "restored_time": "2021-04-09T08:33:48.74"
         },
         "INCD-259415-J": {
          "description": "A fault occurred on an underground electricity cable affecting the local area.",
          "estimated_restored_time": "2021-04-06T20:30:00",
          "incident_active": false,
          "incident_url": "https://www.ukpowernetworks.co.uk/power-cut/map?incidentid=INCD-259415-J",
          "planned_time": null,
          "postcodes_impacted": [
           "NW36RA",
           "NW36UU",
           "NW36UX",
           "NW36XA",
           "NW36XB",
           "NW36XD",
           "NW36XU"
          ],
          "received_time": "2021-04-06T15:36:00",
          "restored_time": "2021-04-09T10:08:11.067"
         },
         "INCD-259482-J": {
          "description": "Due to a faulty piece of underground network equipment we had to turn off your power.",
          "estimated_restored_time": null,
          "incident_active": false,
          "incident_url": "https://www.ukpowernetworks.co.uk/power-cut/map?incidentid=INCD-259482-J",
          "planned_time": null,
          "postcodes_impacted": [
           "E138AD",
           "E138AF",
           "E138AG",
           "E138AP",
           "E138AR",
           "E138AS",
           "E138AT",
           "E138AW",
           "E138AY",
           "E138AZ",
           "E138BB"
          ],
          "received_time": "2021-04-07T13:34:54",
          "restored_time": "2021-04-09T09:01:42.617"
         },
         "INCD-259614-J": {
          "description": "A fault occurred on an underground electricity cable affecting the local area.",
          "estimated_restored_time": null,
          "incident_active": false,
          "incident_url": "https://www.ukpowernetworks.co.uk/power-cut/map?incidentid=INCD-259614-J",
          "planned_time": null,
          "postcodes_impacted": [
           "NW63QR",
           "NW63QS",
           "NW63QT"
          ],
          "received_time": "2021-04-08T20:29:00",
          "restored_time": "2021-04-09T13:08:02.723"
         },
         "INCD-259626-J": {
          "description": "A fault occurred on a piece of our electrical equipment which controls the power to your home.",
          "estimated_restored_time": "2021-04-09T07:00:00",
          "incident_active": false,
          "incident_url": "https://www.ukpowernetworks.co.uk/power-cut/map?incidentid=INCD-259626-J",
          "planned_time": null,
          "postcodes_impacted": [
           "N19EB",
           "N19ED",
           "N19EG",
           "N19GB",
           "N19SD"
          ],
          "received_time": "2021-04-09T03:58:00",
          "restored_time": "2021-04-09T05:47:13.827"
         },
         "INCD-259628-J": {
          "description": "A fault occurred on a piece of our electrical equipment which controls the power to your home.",
          "estimated_restored_time": "2021-04-09T09:30:00",
          "incident_active": false,
          "incident_url": "https://www.ukpowernetworks.co.uk/power-cut/map?incidentid=INCD-259628-J",
          "planned_time": null,
          "postcodes_impacted": [
           "NW87AB",
           "NW87DX",
           "NW87DY",
           "NW87SH"
          ],
          "received_time": "2021-04-09T03:18:00",
          "restored_time": "2021-04-09T08:40:16.79"
         },
         "INCD-259629-J": {
          "description": "A fault occurred on a piece of our electrical equipment which controls the power to your home.",
          "estimated_restored_time": null,
          "incident_active": false,
          "incident_url": "https://www.ukpowernetworks.co.uk/power-cut/map?incidentid=INCD-259629-J",
          "planned_time": null,
          "postcodes_impacted": [
           "E181AB",
           "E181AG",
           "E181AN",
           "E182AB"
          ],
          "received_time": "2021-04-09T06:21:00",
          "restored_time": "2021-04-09T08:51:52.677"
         },
         "INCD-259632-J": {
          "description": "We had to turn off power in your area so our engineers could safely carry out emergency repairs to the network.",
          "estimated_restored_time": "2021-04-09T17:00:00",
          "incident_active": false,
          "incident_url": "https://www.ukpowernetworks.co.uk/power-cut/map?incidentid=INCD-259632-J",
          "planned_time": null,
          "postcodes_impacted": [
           "N10DG",
           "N10EF",
           "N10EG",
           "N10EH",
           "N10EQ",
           "N10EY",
           "N10FH",
           "N10FJ",
           "N10HB",
           "N10HD",
           "N10HX",
           "N10JA",
           "N10JB",
           "N10PY",
           "N10RG",
           "N10RH",
           "N10RJ",
           "N10RT",
           "N10XT",
           "N10XU",
           "N10XX",
           "N10XY",
           "N10XZ"
          ],
          "received_time": "2021-04-09T11:00:00",
          "restored_time": "2021-04-09T16:28:10.333"
         },
         "INCD-259634-J": {
          "description": "We had to turn off power in your area so our engineers could safely carry out emergency repairs to the network.",
          "estimated_restored_time": null,
          "incident_active": false,
          "incident_url": "https://www.ukpowernetworks.co.uk/power-cut/map?incidentid=INCD-259634-J",
          "planned_time": null,
          "postcodes_impacted": [
           "IG110SQ",
           "IG117UH",
           "IG117XF",
           "IG117XJ",
           "IG117XQ",
           "IG117YG",
           "IG117YH",
           "IG117YQ"
          ],
          "received_time": "2021-04-09T13:55:00",
          "restored_time": "2021-04-09T14:13:48.697"
         },
         "INCD-259647-J": {
          "description": "A fault occurred on a piece of our electrical equipment which controls the power to your home.",
          "estimated_restored_time": "2021-04-09T19:30:00",
          "incident_active": true,
          "incident_url": "https://www.ukpowernetworks.co.uk/power-cut/map?incidentid=INCD-259647-J",
          "planned_time": null,
          "postcodes_impacted": [
           "E81FG",
           "E81GP",
           "E81NG",
           "E81DB",
           "E81DE",
           "E81DJ",
           "E81PF",
           "E81PG",
           "E82BF"
          ],
          "received_time": "2021-04-09T16:05:40",
          "restored_time": null
         },
         "INCD-317017-U": {
          "description": "A piece of network equipment had a fault on our high voltage electricity network, causing an area wide power cut.",
          "estimated_restored_time": null,
          "incident_active": false,
          "incident_url": "https://www.ukpowernetworks.co.uk/power-cut/map?incidentid=INCD-317017-U",
          "planned_time": null,
          "postcodes_impacted": [
           "TW181HR",
           "TW182SD",
           "TW182SE",
           "TW182SF",
           "TW182SG",
           "TW182SL",
           "TW182SQ",
           "TW182SY"
          ],
          "received_time": "2021-04-09T01:46:00",
          "restored_time": "2021-04-09T07:13:20.407"
         },
         "INCD-317032-U": {
          "description": "We were investigating an overhead electricity line fault which caused a power cut in the local area.",
          "estimated_restored_time": "2021-04-09T20:30:00",
          "incident_active": true,
          "incident_url": "https://www.ukpowernetworks.co.uk/power-cut/map?incidentid=INCD-317032-U",
          "planned_time": null,
          "postcodes_impacted": [
           "BN18ZA",
           "BN18ZB"
          ],
          "received_time": "2021-04-09T12:26:43",
          "restored_time": null
         },
         "INCD-42719-C": {
          "description": "We're carrying out planned work in your area. For our engineers to carry it out safely they need to turn the power off. We're doing this work as it's essential to provide reliable electricity supplies to your area. We're sorry for any inconvenience caused and thank you for your patience.",
          "estimated_restored_time": "2021-04-09T15:00:00",
          "incident_active": true,
          "incident_url": "https://www.ukpowernetworks.co.uk/power-cut/map?incidentid=INCD-42719-C",
          "planned_time": "2021-04-09T09:00:00",
          "postcodes_impacted": [
           "CO94BP",
           "CO94BX"
          ],
          "received_time": "2021-04-09T09:27:00",
          "restored_time": "2021-04-09T14:37:34.61"
         },
         "INCD-44056-C": {
          "description": "We had to turn off power in your area so our engineers could safely carry out emergency repairs to the network.",
          "estimated_restored_time": "2021-04-09T09:30:00",
          "incident_active": false,
          "incident_url": "https://www.ukpowernetworks.co.uk/power-cut/map?incidentid=INCD-44056-C",
          "planned_time": null,
          "postcodes_impacted": [
           "NR23AD",
           "NR23AT",
           "NR23AU",
           "NR23AY",
           "NR23AZ",
           "NR23BA",
           "NR24BS",
           "NR24BW"
          ],
          "received_time": "2021-04-09T08:30:00",
          "restored_time": "2021-04-09T09:12:51.89"
         },
         "INCD-51220-V": {
          "description": "We're carrying out planned work in your area. For our engineers to carry it out safely they need to turn the power off. We're doing this work as it's essential to provide reliable electricity supplies to your area. We're sorry for any inconvenience caused and thank you for your patience.",
          "estimated_restored_time": "2021-04-09T15:00:00",
          "incident_active": true,
          "incident_url": "https://www.ukpowernetworks.co.uk/power-cut/map?incidentid=INCD-51220-V",
          "planned_time": "2021-04-09T08:00:00",
          "postcodes_impacted": [
           "ME38PT",
           "ME39BH",
           "ME39BJ",
           "ME39BQ",
           "ME39LR",
           "ME39LS",
           "ME39LT",
           "ME65FN"
          ],
          "received_time": "2021-04-09T08:08:00",
          "restored_time": "2021-04-09T14:50:04.157"
         },
         "INCD-51529-V": {
          "description": "We have identified that there are trees close to our high voltage overhead electricity cables that need trimming. To enable us to work close to the high voltage overhead electricity cables and cut the trees safely our engineers will need to temporarily switch off your power. This work needs to take place for safety reasons, along with reducing the risk of you having an unplanned power cut by stopping these trees from potentially causing damaged to the overhead electricity network. This is why it is important to complete this work during the Coronavirus pandemic. This work is taking place off Collier Street. The government has given exemptions to certain industries and activities, this outage falls into this category. We are adhering to government guidelines to keep our customers and colleagues safe. We are sorry for any inconvenience caused by this work and thank you for your patience.",
          "estimated_restored_time": "2021-04-09T15:30:00",
          "incident_active": true,
          "incident_url": "https://www.ukpowernetworks.co.uk/power-cut/map?incidentid=INCD-51529-V",
          "planned_time": "2021-04-09T09:30:00",
          "postcodes_impacted": [
           "TN129QA",
           "TN129RG",
           "TN129RJ",
           "TN129RL",
           "TN129RN",
           "TN129RP",
           "TN129RR"
          ],
          "received_time": "2021-04-09T09:40:00",
          "restored_time": "2021-04-09T15:32:44.597"
         },
         "INCD-52085-V": {
          "description": "Our contractors Avidety Ltd are replacing and upgrading some overhead electricity cables with improved insulated cables. This will improve the reliability of our electricity network and reduce the risk of you having an unplanned power cut. This is why it is important to complete this work during the Coronavirus pandemic. You may see our contractors completing preparation works prior to the outage to allow for a shorter interruption on the day. Due to safety reasons our contractors need to complete a safety check with your internal equipment checking a plug and a socket on separate circuits to enable the power to be turned on and off. As the checks are manual we aim to turn the power off at 09:30 and back on at 15:30, however please allow extra time for the checks to be completed. Access will only be required before and after the planned power cut. Please ensure access to the meter is clear.This work is taking place outside numbers 1 to 4 Upper Horton Farm Cottages, New House Lane.",
          "estimated_restored_time": "2021-04-09T15:30:00",
          "incident_active": true,
          "incident_url": "https://www.ukpowernetworks.co.uk/power-cut/map?incidentid=INCD-52085-V",
          "planned_time": "2021-04-09T09:30:00",
          "postcodes_impacted": [
           "CT47BN"
          ],
          "received_time": "2021-04-09T09:40:00",
          "restored_time": "2021-04-09T15:30:23.407"
         },
         "INCD-52097-V": {
          "description": "Our contractors Avidety Ltd are replacing and upgrading an electricity pole due to it decaying. They will also be replacing and upgrading some overhead electricity cables with improved insulated cables. This will improve the reliability of our electricity network and reduce the risk of you having an unplanned power cut. This is why it is important to complete this work during the Coronavirus pandemic. You may see our contractors erecting the new electricity pole prior to the outage to allow for a shorter interruption. This work is taking place along Rowly Drive. The government has given exemptions to certain industries and activities, this outage falls into this category. We are sorry for any inconvenience caused by this work.",
          "estimated_restored_time": "2021-04-09T15:30:00",
          "incident_active": true,
          "incident_url": "https://www.ukpowernetworks.co.uk/power-cut/map?incidentid=INCD-52097-V",
          "planned_time": "2021-04-09T09:30:00",
          "postcodes_impacted": [
           "GU68PJ",
           "GU68PN"
          ],
          "received_time": "2021-04-09T09:50:00",
          "restored_time": null
         },
         "INCD-52338-V": {
          "description": "Our contractors Avidety Ltd are replacing and upgrading electricity poles due to them decaying. Along with replacing and upgrading some overhead electricity cables with improved insulated cables. This will improve the reliability of the electricity network and will reduce the risk of you having an unplanned power cut which is why it is important to complete this work during the Coronavirus pandemic. You may see our contractors completing preparation works prior to the outage to allow for a shorter interruption on the day of the planned power cut. This work is taking place outside numbers 48 to 76 Joydens Wood Road. The government has given exemptions to certain industries and activities, this outage falls into this category.",
          "estimated_restored_time": "2021-04-09T15:30:00",
          "incident_active": true,
          "incident_url": "https://www.ukpowernetworks.co.uk/power-cut/map?incidentid=INCD-52338-V",
          "planned_time": "2021-04-09T09:30:00",
          "postcodes_impacted": [
           "DA52HT",
           "DA52JA"
          ],
          "received_time": "2021-04-09T09:30:00",
          "restored_time": "2021-04-09T16:14:23.463"
         },
         "INCD-52429-V": {
          "description": "Our contractors Avidety Ltd are replacing and upgrading electricity poles due to them coming to the end of their serviceable lives. This will improve the reliability of the electricity network and will reduce the risk of you having an unplanned power cut which is why it is important to complete this work during the Coronavirus pandemic. You may see our contractors completing preparation works prior to the outage to allow for a shorter interruption on the day of the planned power cut. This work is taking place in and around Fontridge Lane. The government has given exemptions to certain industries and activities, this outage falls into this category.",
          "estimated_restored_time": "2021-04-09T17:30:00",
          "incident_active": true,
          "incident_url": "https://www.ukpowernetworks.co.uk/power-cut/map?incidentid=INCD-52429-V",
          "planned_time": "2021-04-09T08:00:00",
          "postcodes_impacted": [
           "TN197AE",
           "TN197DD"
          ],
          "received_time": "2021-04-06T08:00:00",
          "restored_time": null
         },
         "INCD-52888-V": {
          "description": "Our contractors Avidety Ltd are replacing and upgrading electricity poles due to them coming to the end of their serviceable lives. This will improve the reliability of the electricity network and will reduce the risk of you having an unplanned power cut which is why it is important to complete this work during the Coronavirus pandemic. You may see our contractors completing preparation works prior to the outage to allow for a shorter interruption on the day of the planned power cut. This work is taking place in and around Fontridge Lane. The government has given exemptions to certain industries and activities, this outage falls into this category.",
          "estimated_restored_time": "2021-04-09T18:00:00",
          "incident_active": true,
          "incident_url": "https://www.ukpowernetworks.co.uk/power-cut/map?incidentid=INCD-52888-V",
          "planned_time": "2021-04-09T08:00:00",
          "postcodes_impacted": [
           "TN196EB",
           "TN197AE",
           "TN197AF",
           "TN197DD",
           "TN197BA",
           "TN197BD",
           "TN197BE",
           "TN197BG",
           "TN197DE",
           "TN197DG",
           "TN197DH"
          ],
          "received_time": "2021-04-09T08:00:00",
          "restored_time": null
         },
         "INCD-53079-V": {
          "description": "The reason for this work is we are replacing an overhead transformer with a new piece of equipment, called a substation on the electricity network. This equipment controls and delivers the electricity into your area. These are essential works that will improve the reliability of the electricity network, ensure our network can uphold the amount of electricity in your area and will also reduce the risk of you having an unplanned power cut which is why it is important to complete this work during the Coronavirus pandemic. This work is taking place in the vicinity of Adamswell Scout Camp. The government has given exemptions to certain industries and activities, this outage falls into this category.",
          "estimated_restored_time": "2021-04-09T17:45:00",
          "incident_active": true,
          "incident_url": "https://www.ukpowernetworks.co.uk/power-cut/map?incidentid=INCD-53079-V",
          "planned_time": "2021-04-09T08:00:00",
          "postcodes_impacted": [
           "TN39JH",
           "TN39JJ",
           "TN39JL",
           "TN39LU",
           "TN48NA",
           "TN48ND",
           "TN48NE",
           "TN48NG",
           "TN48NH"
          ],
          "received_time": "2021-04-09T08:00:00",
          "restored_time": "2021-04-09T15:44:49.06"
         },
         "INCD-53400-V": {
          "description": "A fault occurred on an underground electricity cable affecting the local area.",
          "estimated_restored_time": "2021-03-29T11:30:00",
          "incident_active": false,
          "incident_url": "https://www.ukpowernetworks.co.uk/power-cut/map?incidentid=INCD-53400-V",
          "planned_time": null,
          "postcodes_impacted": [
           "DA121LR",
           "ME21HT",
           "ME38SF",
           "ME38SL",
           "ME38SN",
           "ME38SS"
          ],
          "received_time": "2021-03-28T11:13:00",
          "restored_time": "2021-04-09T08:51:23.63"
         },
         "INCD-54022-V": {
          "description": "A fault occurred on an underground electricity cable affecting the local area.",
          "estimated_restored_time": null,
          "incident_active": false,
          "incident_url": "https://www.ukpowernetworks.co.uk/power-cut/map?incidentid=INCD-54022-V",
          "planned_time": null,
          "postcodes_impacted": [
           "GU27YP",
           "GU33AD",
           "GU33AE",
           "GU33AR"
          ],
          "received_time": "2021-04-07T15:55:00",
          "restored_time": "2021-04-09T08:26:19.673"
         },
         "INCD-54055-V": {
          "description": "A fault occurred on an underground electricity cable affecting the local area.",
          "estimated_restored_time": null,
          "incident_active": true,
          "incident_url": "https://www.ukpowernetworks.co.uk/power-cut/map?incidentid=INCD-54055-V",
          "planned_time": null,
          "postcodes_impacted": [
           "GU14SQ",
           "GU14RY",
           "GU14SG",
           "GU14SJ",
           "GU14SS",
           "GU14YN"
          ],
          "received_time": "2021-04-08T09:30:00",
          "restored_time": null
         },
         "INCD-54137-V": {
          "description": "We are carrying out essential work on the electricity network in your area.",
          "estimated_restored_time": "2021-04-09T15:00:00",
          "incident_active": false,
          "incident_url": "https://www.ukpowernetworks.co.uk/power-cut/map?incidentid=INCD-54137-V",
          "planned_time": null,
          "postcodes_impacted": [
           "ME39LR",
           "ME39LS"
          ],
          "received_time": "2021-04-09T08:08:00",
          "restored_time": "2021-04-09T15:08:54.147"
         },
         "INCD-54166-V": {
          "description": "We were investigating an electricity cable that was damaged, causing a power cut in the local area.",
          "estimated_restored_time": "2021-04-09T19:00:00",
          "incident_active": true,
          "incident_url": "https://www.ukpowernetworks.co.uk/power-cut/map?incidentid=INCD-54166-V",
          "planned_time": null,
          "postcodes_impacted": [
           "CT162LG",
           "CT162LH",
           "CT162LL",
           "CT162LQ",
           "CT162QX",
           "CT170ST",
           "CT162LF",
           "CT162ZZ"
          ],
          "received_time": "2021-04-09T12:53:00",
          "restored_time": null
         },
         "INCD-54174-V": {
          "description": "A fault occurred on a piece of our electrical equipment which controls the power to your home.",
          "estimated_restored_time": "2021-04-09T20:30:00",
          "incident_active": true,
          "incident_url": "https://www.ukpowernetworks.co.uk/power-cut/map?incidentid=INCD-54174-V",
          "planned_time": null,
          "postcodes_impacted": [
           "TN39PH",
           "TN39QY",
           "TN39QZ",
           "TN39RA",
           "TN39RB",
           "TN39RE",
           "TN39RG",
           "TN39RH",
           "TN39RJ",
           "TN39RL",
           "TN39RN",
           "TN39RP",
           "TN39RQ",
           "TN39RR",
           "TN39RW",
           "TN39SQ"
          ],
          "received_time": "2021-04-09T16:07:28",
          "restored_time": null
         },
         "INCD-59742-N": {
          "description": "A fault occurred on an underground electricity cable affecting the local area.",
          "estimated_restored_time": "2021-04-09T05:00:00",
          "incident_active": false,
          "incident_url": "https://www.ukpowernetworks.co.uk/power-cut/map?incidentid=INCD-59742-N",
          "planned_time": null,
          "postcodes_impacted": [
           "IG110NZ",
           "IG110QG"
          ],
          "received_time": "2021-04-08T11:24:00",
          "restored_time": "2021-04-09T04:51:45.13"
         },
         "INCD-59775-N": {
          "description": "A fault occurred on an underground electricity cable affecting the local area.",
          "estimated_restored_time": "2021-04-09T17:30:00",
          "incident_active": false,
          "incident_url": "https://www.ukpowernetworks.co.uk/power-cut/map?incidentid=INCD-59775-N",
          "planned_time": null,
          "postcodes_impacted": [
           "SE265BA",
           "SE265TB",
           "SE265TJ",
           "SE265TW"
          ],
          "received_time": "2021-04-09T09:04:00",
          "restored_time": "2021-04-09T16:30:58.573"
         },
         "INCD-59811-N": {
          "description": "A fault occurred on an underground electricity cable affecting the local area.",
          "estimated_restored_time": "2021-04-09T18:00:00",
          "incident_active": true,
          "incident_url": "https://www.ukpowernetworks.co.uk/power-cut/map?incidentid=INCD-59811-N",
          "planned_time": null,
          "postcodes_impacted": [
           "SW99BT",
           "SW99JZ",
           "SW99LA",
           "SW99LB",
           "SW99LE",
           "SW99LF",
           "SW99LJ",
           "SW99LL",
           "SW99LN",
           "SW99LW",
           "SW99RT",
           "SW99RX",
           "SW99LG",
           "SW99LH",
           "SW99NN"
          ],
          "received_time": "2021-04-09T14:24:00",
          "restored_time": null
         },
         "INCD-6198-O": {
          "description": "We're carrying out planned work in your area. For our engineers to carry it out safely they need to turn the power off. We're doing this work as it's essential to provide reliable electricity supplies to your area. We're sorry for any inconvenience caused and thank you for your patience.",
          "estimated_restored_time": "2021-04-09T14:00:00",
          "incident_active": true,
          "incident_url": "https://www.ukpowernetworks.co.uk/power-cut/map?incidentid=INCD-6198-O",
          "planned_time": "2021-04-09T09:00:00",
          "postcodes_impacted": [
           "CO94EA"
          ],
          "received_time": "2021-04-09T09:14:00",
          "restored_time": "2021-04-09T13:34:07.313"
         },
         "INCD-6434-O": {
          "description": "We're carrying out planned work in your area. For our engineers to carry it out safely they need to turn the power off. We're doing this work as it's essential to provide reliable electricity supplies to your area. We're sorry for any inconvenience caused and thank you for your patience.",
          "estimated_restored_time": "2021-04-09T13:30:00",
          "incident_active": true,
          "incident_url": "https://www.ukpowernetworks.co.uk/power-cut/map?incidentid=INCD-6434-O",
          "planned_time": "2021-04-09T09:30:00",
          "postcodes_impacted": [
           "NR152AN",
           "NR152RR"
          ],
          "received_time": "2021-04-09T09:31:00",
          "restored_time": "2021-04-09T12:16:33.54"
         }
        },
        "wpd": {
         "INCD-125316-B": {
          "description": "In Progress",
          "estimated_restored_time": "2021-04-09 19:30:00",
          "incident_active": true,
          "incident_url": "https://powercuts.westernpower.co.uk/incident/INCD-125316-B",
          "postcodes_impacted": [
           "EX31 4QN",
           "EX31 4RA"
          ],
          "received_time": "2021-04-09 09:47:00"
         },
         "INCD-1495-g": {
          "description": "In Progress",
          "estimated_restored_time": "2021-04-09 17:30:00",
          "incident_active": true,
          "incident_url": "https://powercuts.westernpower.co.uk/incident/INCD-1495-g",
          "postcodes_impacted": [
           "CF33 4DF"
          ],
          "received_time": "2021-04-09 09:43:00"
         },
         "INCD-1503-g": {
          "description": "In Progress",
          "estimated_restored_time": "2021-04-09 17:00:00",
          "incident_active": true,
          "incident_url": "https://powercuts.westernpower.co.uk/incident/INCD-1503-g",
          "postcodes_impacted": [
           "SA67 8QA",
           "SA67 8QP",
           "SA67 8QE",
           "SA67 8BP",
           "SA67 8QD"
          ],
          "received_time": "2021-04-09 10:54:00"
         },
         "INCD-152190-H": {
          "description": "In Progress",
          "estimated_restored_time": "2021-04-09 17:30:00",
          "incident_active": true,
          "incident_url": "https://powercuts.westernpower.co.uk/incident/INCD-152190-H",
          "postcodes_impacted": [],
          "received_time": "2021-04-08 22:18:00"
         },
         "INCD-152203-H": {
          "description": "In Progress",
          "estimated_restored_time": "2021-04-09 18:15:00",
          "incident_active": true,
          "incident_url": "https://powercuts.westernpower.co.uk/incident/INCD-152203-H",
          "postcodes_impacted": [
           "NG9 5EU"
          ],
          "received_time": "2021-04-09 06:27:00"
         },
         "INCD-152235-H": {
          "description": "In Progress",
          "estimated_restored_time": "2021-04-09 17:00:00",
          "incident_active": true,
          "incident_url": "https://powercuts.westernpower.co.uk/incident/INCD-152235-H",
          "postcodes_impacted": [
           "DE65 6BR"
          ],
          "received_time": "2021-04-09 13:30:00"
         },
         "INCD-1525-g": {
          "description": "In Progress",
          "estimated_restored_time": "2021-04-09 16:30:00",
          "incident_active": true,
          "incident_url": "https://powercuts.westernpower.co.uk/incident/INCD-1525-g",
          "postcodes_impacted": [
           "CF37 2EU",
           "CF37 2EW",
           "CF37 2EN",
           "CF37 2EY"
          ],
          "received_time": "2021-04-09 13:27:00"
         },
         "INCD-1533-g": {
          "description": "In Progress",
          "estimated_restored_time": "2021-04-09 17:00:00",
          "incident_active": true,
          "incident_url": "https://powercuts.westernpower.co.uk/incident/INCD-1533-g",
          "postcodes_impacted": [
           "CF45 3PX",
           "CF45 3LX",
           "CF45 3PJ",
           "CF45 3EX",
           "CF45 3LJ"
          ],
          "received_time": "2021-04-09 13:57:00"
         },
         "INCD-357527-G": {
          "description": "In Progress",
          "estimated_restored_time": "2021-04-09 16:30:00",
          "incident_active": true,
          "incident_url": "https://powercuts.westernpower.co.uk/incident/INCD-357527-G",
          "postcodes_impacted": [
           "B9 5XY",
           "B9 5XT",
           "B9 5PQ",
           "B9 5PG",
           "B9 5XU"
          ],
          "received_time": "2021-04-09 14:28:00"
         },
         "INCD-357532-G": {
          "description": "In Progress",
          "estimated_restored_time": "2021-04-09 17:30:00",
          "incident_active": true,
          "incident_url": "https://powercuts.westernpower.co.uk/incident/INCD-357532-G",
          "postcodes_impacted": [
           "HR4 0JP",
           "HR4 0HD"
          ],
          "received_time": "2021-04-09 15:12:00"
         },
         "INCD-37157-C": {
          "description": "In Progress",
          "estimated_restored_time": "2021-04-09 16:30:00",
          "incident_active": true,
          "incident_url": "https://powercuts.westernpower.co.uk/incident/INCD-37157-C",
          "postcodes_impacted": [
           "BS40 5HJ"
          ],
          "received_time": "2021-04-09 09:41:00"
         },
         "INCD-416170-E": {
          "description": "In Progress",
          "estimated_restored_time": "2021-04-09 17:30:00",
          "incident_active": true,
          "incident_url": "https://powercuts.westernpower.co.uk/incident/INCD-416170-E",
          "postcodes_impacted": [
           "GL53 9NE",
           "GL53 9NG",
           "GL53 9NF",
           "GL53 9RE"
          ],
          "received_time": "2021-04-09 12:06:00"
         },
         "INCD-416183-E": {
          "description": "In Progress",
          "estimated_restored_time": "2021-04-09 18:00:00",
          "incident_active": true,
          "incident_url": "https://powercuts.westernpower.co.uk/incident/INCD-416183-E",
          "postcodes_impacted": [
           "ST7 8PL",
           "ST7 8RB",
           "ST7 8PN",
           "ST7 8QP",
           "ST7 8PP",
           "ST7 8NN",
           "ST7 8PW",
           "ST7 8NW",
           "ST7 8PS"
          ],
          "received_time": "2021-04-09 15:01:00"
         },
         "INCD-416184-E": {
          "description": "Awaiting",
          "estimated_restored_time": "2021-04-09 15:17:00",
          "incident_active": true,
          "incident_url": "https://powercuts.westernpower.co.uk/incident/INCD-416184-E",
          "postcodes_impacted": [
           "SY15 6SZ"
          ],
          "received_time": "2021-04-09 15:16:00"
         },
         "INCD-74821-T": {
          "description": "In Progress",
          "estimated_restored_time": "2021-04-09 20:00:00",
          "incident_active": true,
          "incident_url": "https://powercuts.westernpower.co.uk/incident/INCD-74821-T",
          "postcodes_impacted": [
           "TA4 3TL",
           "TA4 3SZ",
           "TA4 3TA",
           "TA4 3TU",
           "TA4 3TQ"
          ],
          "received_time": "2021-04-09 07:53:00"
         },
         "INCD-74833-T": {
          "description": "In Progress",
          "estimated_restored_time": "2021-04-09 20:00:00",
          "incident_active": true,
          "incident_url": "https://powercuts.westernpower.co.uk/incident/INCD-74833-T",
          "postcodes_impacted": [
           "DT6 3RN"
          ],
          "received_time": "2021-04-09 09:10:00"
         }
        }
       }
      ],
      "text/plain": [
       "<IPython.core.display.JSON object>"
      ]
     },
     "execution_count": 4,
     "metadata": {
      "application/json": {
       "expanded": false,
       "root": "root"
      }
     },
     "output_type": "execute_result"
    }
   ],
   "source": [
    "cleaned_incidents_info = collate_cleaned_incidents_info()\n",
    "\n",
    "JSON([cleaned_incidents_info])"
   ]
  },
  {
   "cell_type": "code",
   "execution_count": null,
   "id": "growing-register",
   "metadata": {},
   "outputs": [],
   "source": []
  },
  {
   "cell_type": "code",
   "execution_count": 5,
   "id": "african-violin",
   "metadata": {},
   "outputs": [],
   "source": [
    "#exports\n",
    "def get_combined_outages_df(cleaned_incidents_info):\n",
    "    df_outages = pd.DataFrame()\n",
    "\n",
    "    for dno, dno_outages in cleaned_incidents_info.items():\n",
    "        df_dno_outages = pd.DataFrame(dno_outages).T.query('incident_active==True')\n",
    "\n",
    "        df_dno_outages['dno'] = dno\n",
    "        df_dno_outages = df_dno_outages[['received_time', 'estimated_restored_time', 'postcodes_impacted', 'description', 'dno', 'incident_url']]\n",
    "\n",
    "        df_dno_outages.index.name = 'incident_id'\n",
    "        df_dno_outages = df_dno_outages.reset_index()\n",
    "\n",
    "        df_outages = df_outages.append(df_dno_outages)\n",
    "\n",
    "    df_outages = df_outages.reset_index(drop=True)\n",
    "    \n",
    "    return df_outages"
   ]
  },
  {
   "cell_type": "code",
   "execution_count": 6,
   "id": "incoming-symbol",
   "metadata": {},
   "outputs": [
    {
     "data": {
      "text/html": [
       "<div>\n",
       "<style scoped>\n",
       "    .dataframe tbody tr th:only-of-type {\n",
       "        vertical-align: middle;\n",
       "    }\n",
       "\n",
       "    .dataframe tbody tr th {\n",
       "        vertical-align: top;\n",
       "    }\n",
       "\n",
       "    .dataframe thead th {\n",
       "        text-align: right;\n",
       "    }\n",
       "</style>\n",
       "<table border=\"1\" class=\"dataframe\">\n",
       "  <thead>\n",
       "    <tr style=\"text-align: right;\">\n",
       "      <th></th>\n",
       "      <th>incident_id</th>\n",
       "      <th>received_time</th>\n",
       "      <th>estimated_restored_time</th>\n",
       "      <th>postcodes_impacted</th>\n",
       "      <th>description</th>\n",
       "      <th>dno</th>\n",
       "      <th>incident_url</th>\n",
       "    </tr>\n",
       "  </thead>\n",
       "  <tbody>\n",
       "    <tr>\n",
       "      <th>0</th>\n",
       "      <td>INCD-229962-Z</td>\n",
       "      <td>2021-04-09T14:05:25</td>\n",
       "      <td>None</td>\n",
       "      <td>[LU79QA, LU79QB, LU79QD, LU79QF, LU79QG, LU79QQ]</td>\n",
       "      <td>We had to turn off power in your area so our e...</td>\n",
       "      <td>ukpn</td>\n",
       "      <td>https://www.ukpowernetworks.co.uk/power-cut/ma...</td>\n",
       "    </tr>\n",
       "    <tr>\n",
       "      <th>1</th>\n",
       "      <td>INCD-247691-G</td>\n",
       "      <td>2021-04-04T02:05:00</td>\n",
       "      <td>None</td>\n",
       "      <td>[BN11YE, UMS, BN11UA, BN11YA, BN14AB, BN14AD, ...</td>\n",
       "      <td>We had to turn off power in your area so our e...</td>\n",
       "      <td>ukpn</td>\n",
       "      <td>https://www.ukpowernetworks.co.uk/power-cut/ma...</td>\n",
       "    </tr>\n",
       "    <tr>\n",
       "      <th>2</th>\n",
       "      <td>INCD-54055-V</td>\n",
       "      <td>2021-04-08T09:30:00</td>\n",
       "      <td>None</td>\n",
       "      <td>[GU14SQ, GU14RY, GU14SG, GU14SJ, GU14SS, GU14YN]</td>\n",
       "      <td>A fault occurred on an underground electricity...</td>\n",
       "      <td>ukpn</td>\n",
       "      <td>https://www.ukpowernetworks.co.uk/power-cut/ma...</td>\n",
       "    </tr>\n",
       "  </tbody>\n",
       "</table>\n",
       "</div>"
      ],
      "text/plain": [
       "     incident_id        received_time estimated_restored_time  \\\n",
       "0  INCD-229962-Z  2021-04-09T14:05:25                    None   \n",
       "1  INCD-247691-G  2021-04-04T02:05:00                    None   \n",
       "2   INCD-54055-V  2021-04-08T09:30:00                    None   \n",
       "\n",
       "                                  postcodes_impacted  \\\n",
       "0   [LU79QA, LU79QB, LU79QD, LU79QF, LU79QG, LU79QQ]   \n",
       "1  [BN11YE, UMS, BN11UA, BN11YA, BN14AB, BN14AD, ...   \n",
       "2   [GU14SQ, GU14RY, GU14SG, GU14SJ, GU14SS, GU14YN]   \n",
       "\n",
       "                                         description   dno  \\\n",
       "0  We had to turn off power in your area so our e...  ukpn   \n",
       "1  We had to turn off power in your area so our e...  ukpn   \n",
       "2  A fault occurred on an underground electricity...  ukpn   \n",
       "\n",
       "                                        incident_url  \n",
       "0  https://www.ukpowernetworks.co.uk/power-cut/ma...  \n",
       "1  https://www.ukpowernetworks.co.uk/power-cut/ma...  \n",
       "2  https://www.ukpowernetworks.co.uk/power-cut/ma...  "
      ]
     },
     "execution_count": 6,
     "metadata": {},
     "output_type": "execute_result"
    }
   ],
   "source": [
    "df_outages = get_combined_outages_df(cleaned_incidents_info)\n",
    "    \n",
    "df_outages.head(3)"
   ]
  },
  {
   "cell_type": "markdown",
   "id": "transparent-conjunction",
   "metadata": {},
   "source": [
    "<br>\n",
    "\n",
    "### Locating Post Codes"
   ]
  },
  {
   "cell_type": "code",
   "execution_count": 7,
   "id": "handy-rolling",
   "metadata": {},
   "outputs": [
    {
     "name": "stdout",
     "output_type": "stream",
     "text": [
      "Wall time: 2.24 s\n"
     ]
    },
    {
     "data": {
      "text/html": [
       "<div>\n",
       "<style scoped>\n",
       "    .dataframe tbody tr th:only-of-type {\n",
       "        vertical-align: middle;\n",
       "    }\n",
       "\n",
       "    .dataframe tbody tr th {\n",
       "        vertical-align: top;\n",
       "    }\n",
       "\n",
       "    .dataframe thead th {\n",
       "        text-align: right;\n",
       "    }\n",
       "</style>\n",
       "<table border=\"1\" class=\"dataframe\">\n",
       "  <thead>\n",
       "    <tr style=\"text-align: right;\">\n",
       "      <th></th>\n",
       "      <th>longitude</th>\n",
       "      <th>latitude</th>\n",
       "    </tr>\n",
       "    <tr>\n",
       "      <th>postcode</th>\n",
       "      <th></th>\n",
       "      <th></th>\n",
       "    </tr>\n",
       "  </thead>\n",
       "  <tbody>\n",
       "    <tr>\n",
       "      <th>AB101AB</th>\n",
       "      <td>-2.096916</td>\n",
       "      <td>57.149606</td>\n",
       "    </tr>\n",
       "    <tr>\n",
       "      <th>AB101AF</th>\n",
       "      <td>-2.097806</td>\n",
       "      <td>57.148707</td>\n",
       "    </tr>\n",
       "    <tr>\n",
       "      <th>AB101AG</th>\n",
       "      <td>-2.096997</td>\n",
       "      <td>57.149067</td>\n",
       "    </tr>\n",
       "    <tr>\n",
       "      <th>AB101AH</th>\n",
       "      <td>-2.094664</td>\n",
       "      <td>57.148080</td>\n",
       "    </tr>\n",
       "    <tr>\n",
       "      <th>AB101AL</th>\n",
       "      <td>-2.095909</td>\n",
       "      <td>57.150074</td>\n",
       "    </tr>\n",
       "  </tbody>\n",
       "</table>\n",
       "</div>"
      ],
      "text/plain": [
       "          longitude   latitude\n",
       "postcode                      \n",
       "AB101AB   -2.096916  57.149606\n",
       "AB101AF   -2.097806  57.148707\n",
       "AB101AG   -2.096997  57.149067\n",
       "AB101AH   -2.094664  57.148080\n",
       "AB101AL   -2.095909  57.150074"
      ]
     },
     "execution_count": 7,
     "metadata": {},
     "output_type": "execute_result"
    }
   ],
   "source": [
    "%%time\n",
    "\n",
    "df_postcodes = pd.read_csv('../data/postcodes.csv', index_col='postcode')\n",
    "df_postcodes.index = df_postcodes.index.str.replace(' ', '')\n",
    "\n",
    "df_postcodes.head()"
   ]
  },
  {
   "cell_type": "markdown",
   "id": "skilled-complaint",
   "metadata": {},
   "source": [
    "<br>\n",
    "\n",
    "Although most are, some post-codes aren't included in our database"
   ]
  },
  {
   "cell_type": "code",
   "execution_count": 8,
   "id": "digital-newsletter",
   "metadata": {},
   "outputs": [],
   "source": [
    "check_postcode_is_in_df = lambda postcode, df: postcode in df.index"
   ]
  },
  {
   "cell_type": "code",
   "execution_count": 9,
   "id": "different-wesley",
   "metadata": {},
   "outputs": [
    {
     "data": {
      "text/plain": [
       "(False, True)"
      ]
     },
     "execution_count": 9,
     "metadata": {},
     "output_type": "execute_result"
    }
   ],
   "source": [
    "(check_postcode_is_in_df('W1M1HE', df_postcodes), \n",
    " check_postcode_is_in_df('HP41FD', df_postcodes))"
   ]
  },
  {
   "cell_type": "code",
   "execution_count": null,
   "id": "weird-preserve",
   "metadata": {},
   "outputs": [],
   "source": []
  },
  {
   "cell_type": "code",
   "execution_count": 10,
   "id": "interested-output",
   "metadata": {},
   "outputs": [],
   "source": [
    "def get_postcode_location_df(df_postcodes, postcode):\n",
    "    postcode_is_in_df = check_postcode_is_in_df(postcode, df_postcodes)\n",
    "    \n",
    "    if postcode_is_in_df:\n",
    "        location = df_postcodes.loc[postcode]\n",
    "\n",
    "        longitude = location['longitude']\n",
    "        latitude = location['latitude']\n",
    "        \n",
    "    else:\n",
    "        longitude, latitude = None, None\n",
    "\n",
    "    return longitude, latitude"
   ]
  },
  {
   "cell_type": "code",
   "execution_count": 11,
   "id": "continuous-blond",
   "metadata": {},
   "outputs": [
    {
     "data": {
      "text/plain": [
       "(-0.5676534391043929, 51.76118688537669)"
      ]
     },
     "execution_count": 11,
     "metadata": {},
     "output_type": "execute_result"
    }
   ],
   "source": [
    "longitude, latitude = get_postcode_location_df(df_postcodes, 'HP41FD')\n",
    "\n",
    "longitude, latitude"
   ]
  },
  {
   "cell_type": "code",
   "execution_count": null,
   "id": "extended-inflation",
   "metadata": {},
   "outputs": [],
   "source": []
  },
  {
   "cell_type": "code",
   "execution_count": 12,
   "id": "invisible-letter",
   "metadata": {},
   "outputs": [],
   "source": [
    "get_postcode_url = lambda postcode: f'http://api.getthedata.com/postcode/{postcode}'"
   ]
  },
  {
   "cell_type": "code",
   "execution_count": 13,
   "id": "fiscal-bunch",
   "metadata": {},
   "outputs": [
    {
     "data": {
      "application/json": {
       "copyright": [
        "Contains OS data (c) Crown copyright and database right 2021",
        "Contains Royal Mail data (c) Royal Mail copyright and database right 2021",
        "Contains National Statistics data (c) Crown copyright and database right 2021"
       ],
       "data": {
        "country": "England",
        "easting": 528092,
        "incode": "1HE",
        "latitude": "51.519146",
        "longitude": "-0.155234",
        "northing": 181638,
        "outcode": "W1M",
        "positional_quality_indicator": 1,
        "postcode": "W1M 1HE",
        "postcode_area": "W",
        "postcode_district": "W1M",
        "postcode_fixed_width_eight": "W1M  1HE",
        "postcode_fixed_width_seven": "W1M 1HE",
        "postcode_no_space": "W1M1HE",
        "postcode_sector": "W1M 1",
        "status": "terminated",
        "usertype": "small"
       },
       "input": "W1M1HE",
       "match_type": "unit_postcode",
       "status": "match"
      },
      "text/plain": [
       "<IPython.core.display.JSON object>"
      ]
     },
     "execution_count": 13,
     "metadata": {
      "application/json": {
       "expanded": false,
       "root": "root"
      }
     },
     "output_type": "execute_result"
    }
   ],
   "source": [
    "postcode = 'W1M1HE'\n",
    "\n",
    "postcode_url = get_postcode_url(postcode)\n",
    "r_json = requests.get(postcode_url).json()\n",
    "\n",
    "JSON(r_json)"
   ]
  },
  {
   "cell_type": "code",
   "execution_count": null,
   "id": "eligible-fiction",
   "metadata": {},
   "outputs": [],
   "source": []
  },
  {
   "cell_type": "code",
   "execution_count": 14,
   "id": "disabled-packing",
   "metadata": {},
   "outputs": [],
   "source": [
    "def get_postcode_location_api(postcode):\n",
    "    longitude, latitude = None, None\n",
    "    \n",
    "    postcode_url = get_postcode_url(postcode)\n",
    "    r_json = requests.get(postcode_url).json()\n",
    "\n",
    "    if r_json['status'] == 'match':\n",
    "        data_keys = r_json['data'].keys()\n",
    "        \n",
    "        if 'longitude' in data_keys and 'latitude' in data_keys:\n",
    "            longitude = float(r_json['data']['longitude'])\n",
    "            latitude = float(r_json['data']['latitude'])\n",
    "\n",
    "    return longitude, latitude"
   ]
  },
  {
   "cell_type": "code",
   "execution_count": 15,
   "id": "secure-syndication",
   "metadata": {},
   "outputs": [
    {
     "data": {
      "text/plain": [
       "(-0.155234, 51.519146)"
      ]
     },
     "execution_count": 15,
     "metadata": {},
     "output_type": "execute_result"
    }
   ],
   "source": [
    "longitude, latitude = get_postcode_location_api(postcode)\n",
    "\n",
    "longitude, latitude"
   ]
  },
  {
   "cell_type": "code",
   "execution_count": null,
   "id": "chronic-catalog",
   "metadata": {},
   "outputs": [],
   "source": []
  },
  {
   "cell_type": "code",
   "execution_count": 16,
   "id": "emerging-prophet",
   "metadata": {},
   "outputs": [],
   "source": [
    "#exports\n",
    "class PostCodeLocator:\n",
    "    def __init__(self, postcodes_fp: str='../data/postcodes.csv'):\n",
    "        # Loading Post Codes DataFrame\n",
    "        df_postcodes = pd.read_csv(postcodes_fp, index_col='postcode')\n",
    "        df_postcodes.index = df_postcodes.index.str.replace(' ', '')\n",
    "        \n",
    "        self.df_postcodes = df_postcodes\n",
    "        \n",
    "    def get_postcode_location(self, postcode):\n",
    "        postcode_is_in_df = check_postcode_is_in_df(postcode, self.df_postcodes)\n",
    "\n",
    "        if postcode_is_in_df:\n",
    "            longitude, latitude = get_postcode_location_df(self.df_postcodes, postcode)\n",
    "            \n",
    "        else:\n",
    "            longitude, latitude = get_postcode_location_api(postcode)\n",
    "            \n",
    "        if longitude is None or latitude is None:\n",
    "            warn(f'The longitude and latitude of {postcode} could not be determined')\n",
    "            \n",
    "        return longitude, latitude"
   ]
  },
  {
   "cell_type": "code",
   "execution_count": 17,
   "id": "interim-memphis",
   "metadata": {},
   "outputs": [
    {
     "name": "stdout",
     "output_type": "stream",
     "text": [
      "Wall time: 2.24 s\n"
     ]
    }
   ],
   "source": [
    "%%time\n",
    "\n",
    "pcl = PostCodeLocator()"
   ]
  },
  {
   "cell_type": "code",
   "execution_count": null,
   "id": "institutional-pride",
   "metadata": {},
   "outputs": [],
   "source": []
  },
  {
   "cell_type": "code",
   "execution_count": 18,
   "id": "specialized-printing",
   "metadata": {},
   "outputs": [
    {
     "name": "stdout",
     "output_type": "stream",
     "text": [
      "Wall time: 637 ms\n"
     ]
    },
    {
     "data": {
      "text/plain": [
       "(-0.5676534391043929, 51.76118688537669)"
      ]
     },
     "execution_count": 18,
     "metadata": {},
     "output_type": "execute_result"
    }
   ],
   "source": [
    "%%time\n",
    "\n",
    "postcode = 'HP41FD'\n",
    "\n",
    "pcl.get_postcode_location(postcode)"
   ]
  },
  {
   "cell_type": "code",
   "execution_count": null,
   "id": "affected-rugby",
   "metadata": {},
   "outputs": [],
   "source": []
  },
  {
   "cell_type": "code",
   "execution_count": 19,
   "id": "activated-turkish",
   "metadata": {},
   "outputs": [
    {
     "name": "stdout",
     "output_type": "stream",
     "text": [
      "Wall time: 188 ms\n"
     ]
    },
    {
     "data": {
      "text/plain": [
       "(-0.155234, 51.519146)"
      ]
     },
     "execution_count": 19,
     "metadata": {},
     "output_type": "execute_result"
    }
   ],
   "source": [
    "%%time\n",
    "\n",
    "postcode = 'W1M1HE'\n",
    "\n",
    "pcl.get_postcode_location(postcode)"
   ]
  },
  {
   "cell_type": "markdown",
   "id": "drawn-saint",
   "metadata": {},
   "source": [
    "<br>\n",
    "\n",
    "### Creating Outages Leaflet Map"
   ]
  },
  {
   "cell_type": "code",
   "execution_count": 20,
   "id": "demanding-martin",
   "metadata": {},
   "outputs": [],
   "source": [
    "def add_outage_longitudes_latitudes(df_outages, postcodes_fp: str='../data/postcodes.csv', null_threshold=1):\n",
    "    pcl = PostCodeLocator(postcodes_fp)\n",
    "        \n",
    "    s_incident_longitudes = pd.Series(index=df_outages.index, dtype='float64')\n",
    "    s_incident_latitudes = pd.Series(index=df_outages.index, dtype='float64')\n",
    "\n",
    "    for outage_idx, s_outage in track(df_outages.iterrows(), total=df_outages.shape[0]):\n",
    "        incident_longitudes = []\n",
    "        incident_latitudes = []\n",
    "\n",
    "        for postcode_impacted in s_outage['postcodes_impacted']:\n",
    "            longitude, latitude = pcl.get_postcode_location(postcode_impacted)\n",
    "\n",
    "            incident_longitudes += [longitude]\n",
    "            incident_latitudes += [latitude]\n",
    "\n",
    "        s_incident_longitudes.loc[outage_idx] = pd.Series(incident_longitudes).mean()\n",
    "        s_incident_latitudes.loc[outage_idx] = pd.Series(incident_latitudes).mean()\n",
    "        \n",
    "    df_outages = (df_outages\n",
    "                  .assign(longitude=s_incident_longitudes)\n",
    "                  .assign(latitude=s_incident_latitudes)\n",
    "                 )\n",
    "    \n",
    "    idxs_to_keep = (df_outages.isnull().sum(axis=1)<=null_threshold).replace(False, np.nan).dropna().index\n",
    "    df_outages = df_outages.loc[idxs_to_keep]\n",
    "    \n",
    "    return df_outages"
   ]
  },
  {
   "cell_type": "code",
   "execution_count": 21,
   "id": "contemporary-mumbai",
   "metadata": {},
   "outputs": [
    {
     "data": {
      "text/html": [
       "<div><span class=\"Text-label\" style=\"display:inline-block; overflow:hidden; white-space:nowrap; text-overflow:ellipsis; min-width:0; max-width:15ex; vertical-align:middle; text-align:right\"></span>\n",
       "<progress style=\"width:60ex\" max=\"112\" value=\"112\" class=\"Progress-main\"/></progress>\n",
       "<span class=\"Progress-label\"><strong>100%</strong></span>\n",
       "<span class=\"Iteration-label\">112/112</span>\n",
       "<span class=\"Time-label\">[01:02<00:00, 0.56s/it]</span></div>"
      ],
      "text/plain": [
       "\u001b[A\u001b[2K\r",
       " [████████████████████████████████████████████████████████████] 112/112 [01:02<00:00, 0.56s/it]\u001b[B"
      ]
     },
     "metadata": {},
     "output_type": "display_data"
    },
    {
     "name": "stderr",
     "output_type": "stream",
     "text": [
      "C:\\Users\\Ayrto\\anaconda3\\envs\\outage\\lib\\site-packages\\ipykernel_launcher.py:20: UserWarning: The longitude and latitude of UMS could not be determined\n",
      "C:\\Users\\Ayrto\\anaconda3\\envs\\outage\\lib\\site-packages\\ipykernel_launcher.py:20: UserWarning: The longitude and latitude of LU could not be determined\n",
      "C:\\Users\\Ayrto\\anaconda3\\envs\\outage\\lib\\site-packages\\ipykernel_launcher.py:17: DeprecationWarning: The default dtype for empty Series will be 'object' instead of 'float64' in a future version. Specify a dtype explicitly to silence this warning.\n",
      "C:\\Users\\Ayrto\\anaconda3\\envs\\outage\\lib\\site-packages\\ipykernel_launcher.py:18: DeprecationWarning: The default dtype for empty Series will be 'object' instead of 'float64' in a future version. Specify a dtype explicitly to silence this warning.\n",
      "C:\\Users\\Ayrto\\anaconda3\\envs\\outage\\lib\\site-packages\\ipykernel_launcher.py:20: UserWarning: The longitude and latitude of TN12ORJ could not be determined\n",
      "C:\\Users\\Ayrto\\anaconda3\\envs\\outage\\lib\\site-packages\\ipykernel_launcher.py:20: UserWarning: The longitude and latitude of TN11 could not be determined\n",
      "C:\\Users\\Ayrto\\anaconda3\\envs\\outage\\lib\\site-packages\\ipykernel_launcher.py:20: UserWarning: The longitude and latitude of TN196EB could not be determined\n",
      "C:\\Users\\Ayrto\\anaconda3\\envs\\outage\\lib\\site-packages\\ipykernel_launcher.py:20: UserWarning: The longitude and latitude of SA67 8BP could not be determined\n",
      "C:\\Users\\Ayrto\\anaconda3\\envs\\outage\\lib\\site-packages\\ipykernel_launcher.py:20: UserWarning: The longitude and latitude of LL295RU could not be determined\n",
      "C:\\Users\\Ayrto\\anaconda3\\envs\\outage\\lib\\site-packages\\ipykernel_launcher.py:20: UserWarning: The longitude and latitude of CH427NH could not be determined\n",
      "C:\\Users\\Ayrto\\anaconda3\\envs\\outage\\lib\\site-packages\\ipykernel_launcher.py:20: UserWarning: The longitude and latitude of CH437TG could not be determined\n",
      "C:\\Users\\Ayrto\\anaconda3\\envs\\outage\\lib\\site-packages\\ipykernel_launcher.py:20: UserWarning: The longitude and latitude of CH437TW could not be determined\n"
     ]
    },
    {
     "data": {
      "text/html": [
       "<div>\n",
       "<style scoped>\n",
       "    .dataframe tbody tr th:only-of-type {\n",
       "        vertical-align: middle;\n",
       "    }\n",
       "\n",
       "    .dataframe tbody tr th {\n",
       "        vertical-align: top;\n",
       "    }\n",
       "\n",
       "    .dataframe thead th {\n",
       "        text-align: right;\n",
       "    }\n",
       "</style>\n",
       "<table border=\"1\" class=\"dataframe\">\n",
       "  <thead>\n",
       "    <tr style=\"text-align: right;\">\n",
       "      <th></th>\n",
       "      <th>incident_id</th>\n",
       "      <th>received_time</th>\n",
       "      <th>estimated_restored_time</th>\n",
       "      <th>postcodes_impacted</th>\n",
       "      <th>description</th>\n",
       "      <th>dno</th>\n",
       "      <th>incident_url</th>\n",
       "      <th>longitude</th>\n",
       "      <th>latitude</th>\n",
       "    </tr>\n",
       "  </thead>\n",
       "  <tbody>\n",
       "    <tr>\n",
       "      <th>0</th>\n",
       "      <td>INCD-229962-Z</td>\n",
       "      <td>2021-04-09T14:05:25</td>\n",
       "      <td>None</td>\n",
       "      <td>[LU79QA, LU79QB, LU79QD, LU79QF, LU79QG, LU79QQ]</td>\n",
       "      <td>We had to turn off power in your area so our e...</td>\n",
       "      <td>ukpn</td>\n",
       "      <td>https://www.ukpowernetworks.co.uk/power-cut/ma...</td>\n",
       "      <td>-0.559336</td>\n",
       "      <td>51.930063</td>\n",
       "    </tr>\n",
       "    <tr>\n",
       "      <th>1</th>\n",
       "      <td>INCD-247691-G</td>\n",
       "      <td>2021-04-04T02:05:00</td>\n",
       "      <td>None</td>\n",
       "      <td>[BN11YE, UMS, BN11UA, BN11YA, BN14AB, BN14AD, ...</td>\n",
       "      <td>We had to turn off power in your area so our e...</td>\n",
       "      <td>ukpn</td>\n",
       "      <td>https://www.ukpowernetworks.co.uk/power-cut/ma...</td>\n",
       "      <td>-0.137029</td>\n",
       "      <td>50.825975</td>\n",
       "    </tr>\n",
       "    <tr>\n",
       "      <th>2</th>\n",
       "      <td>INCD-54055-V</td>\n",
       "      <td>2021-04-08T09:30:00</td>\n",
       "      <td>None</td>\n",
       "      <td>[GU14SQ, GU14RY, GU14SG, GU14SJ, GU14SS, GU14YN]</td>\n",
       "      <td>A fault occurred on an underground electricity...</td>\n",
       "      <td>ukpn</td>\n",
       "      <td>https://www.ukpowernetworks.co.uk/power-cut/ma...</td>\n",
       "      <td>-0.577513</td>\n",
       "      <td>51.237269</td>\n",
       "    </tr>\n",
       "  </tbody>\n",
       "</table>\n",
       "</div>"
      ],
      "text/plain": [
       "     incident_id        received_time estimated_restored_time  \\\n",
       "0  INCD-229962-Z  2021-04-09T14:05:25                    None   \n",
       "1  INCD-247691-G  2021-04-04T02:05:00                    None   \n",
       "2   INCD-54055-V  2021-04-08T09:30:00                    None   \n",
       "\n",
       "                                  postcodes_impacted  \\\n",
       "0   [LU79QA, LU79QB, LU79QD, LU79QF, LU79QG, LU79QQ]   \n",
       "1  [BN11YE, UMS, BN11UA, BN11YA, BN14AB, BN14AD, ...   \n",
       "2   [GU14SQ, GU14RY, GU14SG, GU14SJ, GU14SS, GU14YN]   \n",
       "\n",
       "                                         description   dno  \\\n",
       "0  We had to turn off power in your area so our e...  ukpn   \n",
       "1  We had to turn off power in your area so our e...  ukpn   \n",
       "2  A fault occurred on an underground electricity...  ukpn   \n",
       "\n",
       "                                        incident_url  longitude   latitude  \n",
       "0  https://www.ukpowernetworks.co.uk/power-cut/ma...  -0.559336  51.930063  \n",
       "1  https://www.ukpowernetworks.co.uk/power-cut/ma...  -0.137029  50.825975  \n",
       "2  https://www.ukpowernetworks.co.uk/power-cut/ma...  -0.577513  51.237269  "
      ]
     },
     "execution_count": 21,
     "metadata": {},
     "output_type": "execute_result"
    }
   ],
   "source": [
    "df_outages = add_outage_longitudes_latitudes(df_outages)\n",
    "\n",
    "df_outages.head(3)"
   ]
  },
  {
   "cell_type": "code",
   "execution_count": null,
   "id": "facial-affiliate",
   "metadata": {},
   "outputs": [],
   "source": []
  },
  {
   "cell_type": "code",
   "execution_count": 22,
   "id": "coupled-malaysia",
   "metadata": {},
   "outputs": [],
   "source": [
    "# create a geojson and save it to github, then load from that for leaflet"
   ]
  },
  {
   "cell_type": "code",
   "execution_count": null,
   "id": "binary-multiple",
   "metadata": {},
   "outputs": [],
   "source": []
  },
  {
   "cell_type": "code",
   "execution_count": 23,
   "id": "opponent-oregon",
   "metadata": {},
   "outputs": [
    {
     "data": {
      "text/plain": [
       "<AxesSubplot:>"
      ]
     },
     "execution_count": 23,
     "metadata": {},
     "output_type": "execute_result"
    },
    {
     "data": {
      "image/png": "[encoded data removed]",
      "text/plain": [
       "<Figure size 432x288 with 1 Axes>"
      ]
     },
     "metadata": {
      "needs_background": "light"
     },
     "output_type": "display_data"
    }
   ],
   "source": [
    "gdf_outages = gpd.GeoDataFrame(\n",
    "    data=df_outages.drop(columns=['longitude', 'latitude']), \n",
    "    geometry=gpd.points_from_xy(df_outages['longitude'], df_outages['latitude']),\n",
    "    crs='EPSG:4326'\n",
    ")\n",
    "\n",
    "gdf_outages.plot()"
   ]
  },
  {
   "cell_type": "code",
   "execution_count": null,
   "id": "composite-purpose",
   "metadata": {},
   "outputs": [],
   "source": []
  },
  {
   "cell_type": "code",
   "execution_count": 24,
   "id": "planned-approach",
   "metadata": {},
   "outputs": [
    {
     "data": {
      "application/json": {
       "features": [
        {
         "geometry": {
          "coordinates": [
           -0.5593357072657271,
           51.93006289269936
          ],
          "type": "Point"
         },
         "properties": {
          "description": "We had to turn off power in your area so our engineers could safely carry out emergency repairs to the network.",
          "dno": "ukpn",
          "estimated_restored_time": null,
          "incident_id": "INCD-229962-Z",
          "incident_url": "https://www.ukpowernetworks.co.uk/power-cut/map?incidentid=INCD-229962-Z",
          "postcodes_impacted": [
           "LU79QA",
           "LU79QB",
           "LU79QD",
           "LU79QF",
           "LU79QG",
           "LU79QQ"
          ],
          "received_time": "2021-04-09T14:05:25"
         },
         "type": "Feature"
        },
        {
         "geometry": {
          "coordinates": [
           -0.13702898035919064,
           50.82597526373231
          ],
          "type": "Point"
         },
         "properties": {
          "description": "We had to turn off power in your area so our engineers could safely carry out emergency repairs to the network.",
          "dno": "ukpn",
          "estimated_restored_time": null,
          "incident_id": "INCD-247691-G",
          "incident_url": "https://www.ukpowernetworks.co.uk/power-cut/map?incidentid=INCD-247691-G",
          "postcodes_impacted": [
           "BN11YE",
           "UMS",
           "BN11UA",
           "BN11YA",
           "BN14AB",
           "BN14AD",
           "BN14AE",
           "BN14AF",
           "BN14AG"
          ],
          "received_time": "2021-04-04T02:05:00"
         },
         "type": "Feature"
        },
        {
         "geometry": {
          "coordinates": [
           -0.5775125586781588,
           51.23726884118093
          ],
          "type": "Point"
         },
         "properties": {
          "description": "A fault occurred on an underground electricity cable affecting the local area.",
          "dno": "ukpn",
          "estimated_restored_time": null,
          "incident_id": "INCD-54055-V",
          "incident_url": "https://www.ukpowernetworks.co.uk/power-cut/map?incidentid=INCD-54055-V",
          "postcodes_impacted": [
           "GU14SQ",
           "GU14RY",
           "GU14SG",
           "GU14SJ",
           "GU14SS",
           "GU14YN"
          ],
          "received_time": "2021-04-08T09:30:00"
         },
         "type": "Feature"
        },
        {
         "geometry": {
          "coordinates": [
           -0.3797035092293459,
           51.88462950501842
          ],
          "type": "Point"
         },
         "properties": {
          "description": "A fault occurred on an underground electricity cable affecting the local area.",
          "dno": "ukpn",
          "estimated_restored_time": null,
          "incident_id": "INCD-227793-Z",
          "incident_url": "https://www.ukpowernetworks.co.uk/power-cut/map?incidentid=INCD-227793-Z",
          "postcodes_impacted": [
           "LU",
           "LU29HB",
           "LU29HE",
           "LU29HF",
           "LU29HH",
           "LU29JD",
           "LU29JE",
           "LU29JF",
           "LU29LB",
           "LU29NL",
           "LU29NY",
           "LU29PD",
           "LU29PF"
          ],
          "received_time": "2021-03-28T18:05:00"
         },
         "type": "Feature"
        },
        {
         "geometry": {
          "coordinates": [
           -0.02512465503988718,
           51.6181780742294
          ],
          "type": "Point"
         },
         "properties": {
          "description": "We had to turn off power in your area so our engineers could safely carry out emergency repairs to the network.",
          "dno": "ukpn",
          "estimated_restored_time": "2021-04-09T19:00:00",
          "incident_id": "INCD-229998-Z",
          "incident_url": "https://www.ukpowernetworks.co.uk/power-cut/map?incidentid=INCD-229998-Z",
          "postcodes_impacted": [
           "E48EJ",
           "E48EF",
           "E48EG",
           "E48EH",
           "E48EY"
          ],
          "received_time": "2021-04-09T16:00:00"
         },
         "type": "Feature"
        },
        {
         "geometry": {
          "coordinates": [
           -0.28775728961814795,
           52.12857931137893
          ],
          "type": "Point"
         },
         "properties": {
          "description": "A fault occurred on a piece of our electrical equipment which controls the power to your home.",
          "dno": "ukpn",
          "estimated_restored_time": "2021-04-09T17:00:00",
          "incident_id": "INCD-229946-Z",
          "incident_url": "https://www.ukpowernetworks.co.uk/power-cut/map?incidentid=INCD-229946-Z",
          "postcodes_impacted": [
           "SG191AG",
           "SG191AH",
           "SG191AQ",
           "SG191HU",
           "SG191HX",
           "SG191JB",
           "SG191JN",
           "SG191JP"
          ],
          "received_time": "2021-04-09T13:10:41"
         },
         "type": "Feature"
        },
        {
         "geometry": {
          "coordinates": [
           1.137813936445863,
           51.0855797894498
          ],
          "type": "Point"
         },
         "properties": {
          "description": "A fault occurred on a piece of our electrical equipment which controls the power to your home.",
          "dno": "ukpn",
          "estimated_restored_time": "2021-04-09T17:30:00",
          "incident_id": "INCD-247923-G",
          "incident_url": "https://www.ukpowernetworks.co.uk/power-cut/map?incidentid=INCD-247923-G",
          "postcodes_impacted": [
           "CT203EG",
           "CT203EH",
           "CT203EJ",
           "CT203EL",
           "CT203EQ",
           "CT203JR",
           "CT203JS",
           "CT203JT",
           "CT203JU",
           "CT203JX",
           "CT203JY",
           "CT203JZ",
           "CT203LA",
           "CT203LG",
           "CT203LH",
           "CT203LJ",
           "CT203LL",
           "CT203LQ"
          ],
          "received_time": "2021-04-09T12:44:00"
         },
         "type": "Feature"
        },
        {
         "geometry": {
          "coordinates": [
           1.3047200859126553,
           51.132102691341814
          ],
          "type": "Point"
         },
         "properties": {
          "description": "We were investigating an electricity cable that was damaged, causing a power cut in the local area.",
          "dno": "ukpn",
          "estimated_restored_time": "2021-04-09T19:00:00",
          "incident_id": "INCD-54166-V",
          "incident_url": "https://www.ukpowernetworks.co.uk/power-cut/map?incidentid=INCD-54166-V",
          "postcodes_impacted": [
           "CT162LG",
           "CT162LH",
           "CT162LL",
           "CT162LQ",
           "CT162QX",
           "CT170ST",
           "CT162LF",
           "CT162ZZ"
          ],
          "received_time": "2021-04-09T12:53:00"
         },
         "type": "Feature"
        },
        {
         "geometry": {
          "coordinates": [
           0.03032953766864644,
           51.75459136530754
          ],
          "type": "Point"
         },
         "properties": {
          "description": "Due to a faulty piece of underground network equipment we had to turn off your power.",
          "dno": "ukpn",
          "estimated_restored_time": "2021-04-09T20:00:00",
          "incident_id": "INCD-229829-Z",
          "incident_url": "https://www.ukpowernetworks.co.uk/power-cut/map?incidentid=INCD-229829-Z",
          "postcodes_impacted": [
           "CM195JN",
           "CM195JP",
           "CM195JW",
           "CM195JR",
           "CM195JU",
           "CM195JY",
           "CM195JZ"
          ],
          "received_time": "2021-04-09T02:37:00"
         },
         "type": "Feature"
        },
        {
         "geometry": {
          "coordinates": [
           -0.3283271478537304,
           51.55933307042985
          ],
          "type": "Point"
         },
         "properties": {
          "description": "A fault occurred on an underground electricity cable affecting the local area.",
          "dno": "ukpn",
          "estimated_restored_time": "2021-04-09T18:00:00",
          "incident_id": "INCD-229831-Z",
          "incident_url": "https://www.ukpowernetworks.co.uk/power-cut/map?incidentid=INCD-229831-Z",
          "postcodes_impacted": [
           "HA02SW",
           "HA02QG",
           "HA02RZ",
           "HA02SA",
           "HA02SB",
           "HA02SE",
           "HA02SF",
           "HA02SL"
          ],
          "received_time": "2021-04-09T05:50:00"
         },
         "type": "Feature"
        },
        {
         "geometry": {
          "coordinates": [
           -0.13734848769544344,
           50.881385468885135
          ],
          "type": "Point"
         },
         "properties": {
          "description": "We were investigating an overhead electricity line fault which caused a power cut in the local area.",
          "dno": "ukpn",
          "estimated_restored_time": "2021-04-09T20:30:00",
          "incident_id": "INCD-317032-U",
          "incident_url": "https://www.ukpowernetworks.co.uk/power-cut/map?incidentid=INCD-317032-U",
          "postcodes_impacted": [
           "BN18ZA",
           "BN18ZB"
          ],
          "received_time": "2021-04-09T12:26:43"
         },
         "type": "Feature"
        },
        {
         "geometry": {
          "coordinates": [
           0.5449342573272761,
           51.18259890241906
          ],
          "type": "Point"
         },
         "properties": {
          "description": "We had to turn off power in your area so our engineers could safely carry out emergency repairs to the network.",
          "dno": "ukpn",
          "estimated_restored_time": "2021-04-09T21:00:00",
          "incident_id": "INCD-247926-G",
          "incident_url": "https://www.ukpowernetworks.co.uk/power-cut/map?incidentid=INCD-247926-G",
          "postcodes_impacted": [
           "RH194QW",
           "TN120JS",
           "TN120JT",
           "TN120JW",
           "TN120RA",
           "TN120RB",
           "TN120RG",
           "TN120RH",
           "TN120RJ",
           "TN120RL",
           "TN120RU",
           "TN120RW",
           "TN129BU",
           "TN12ORJ",
           "KT168HT",
           "ME173DZ",
           "ME173EB",
           "TN11",
           "TN120DU",
           "TN120DX",
           "TN120DY",
           "TN120DZ",
           "TN120EA",
           "TN120EB",
           "TN120ED",
           "TN120EG",
           "TN120RD",
           "TN120RE",
           "TN120RR",
           "TN120RS",
           "TN120RT",
           "TN128JN",
           "TN261AN",
           "TN279JT",
           "TN279JU",
           "TN279NX",
           "TN279NY",
           "TN279PA",
           "TN279PB",
           "TN279PD",
           "TN279PE",
           "TN279PG",
           "TN279PJ",
           "TN279PL",
           "TN279PN",
           "TN279PP",
           "TN279PR",
           "TN279PS",
           "TN279PT",
           "TN279RL",
           "TN279RN",
           "TN279RP",
           "TN279RR",
           "TN279RS",
           "TN279RT",
           "TN91NL",
           "TN91TB"
          ],
          "received_time": "2021-04-09T13:15:53"
         },
         "type": "Feature"
        },
        {
         "geometry": {
          "coordinates": [
           0.18525517363680288,
           51.11202374207567
          ],
          "type": "Point"
         },
         "properties": {
          "description": "A fault occurred on a piece of our electrical equipment which controls the power to your home.",
          "dno": "ukpn",
          "estimated_restored_time": "2021-04-09T20:30:00",
          "incident_id": "INCD-54174-V",
          "incident_url": "https://www.ukpowernetworks.co.uk/power-cut/map?incidentid=INCD-54174-V",
          "postcodes_impacted": [
           "TN39PH",
           "TN39QY",
           "TN39QZ",
           "TN39RA",
           "TN39RB",
           "TN39RE",
           "TN39RG",
           "TN39RH",
           "TN39RJ",
           "TN39RL",
           "TN39RN",
           "TN39RP",
           "TN39RQ",
           "TN39RR",
           "TN39RW",
           "TN39SQ"
          ],
          "received_time": "2021-04-09T16:07:28"
         },
         "type": "Feature"
        },
        {
         "geometry": {
          "coordinates": [
           -0.06799430870494914,
           51.547382363760335
          ],
          "type": "Point"
         },
         "properties": {
          "description": "A fault occurred on a piece of our electrical equipment which controls the power to your home.",
          "dno": "ukpn",
          "estimated_restored_time": "2021-04-09T19:30:00",
          "incident_id": "INCD-259647-J",
          "incident_url": "https://www.ukpowernetworks.co.uk/power-cut/map?incidentid=INCD-259647-J",
          "postcodes_impacted": [
           "E81FG",
           "E81GP",
           "E81NG",
           "E81DB",
           "E81DE",
           "E81DJ",
           "E81PF",
           "E81PG",
           "E82BF"
          ],
          "received_time": "2021-04-09T16:05:40"
         },
         "type": "Feature"
        },
        {
         "geometry": {
          "coordinates": [
           -0.12665482075102813,
           51.466429343508985
          ],
          "type": "Point"
         },
         "properties": {
          "description": "A fault occurred on an underground electricity cable affecting the local area.",
          "dno": "ukpn",
          "estimated_restored_time": "2021-04-09T18:00:00",
          "incident_id": "INCD-59811-N",
          "incident_url": "https://www.ukpowernetworks.co.uk/power-cut/map?incidentid=INCD-59811-N",
          "postcodes_impacted": [
           "SW99BT",
           "SW99JZ",
           "SW99LA",
           "SW99LB",
           "SW99LE",
           "SW99LF",
           "SW99LJ",
           "SW99LL",
           "SW99LN",
           "SW99LW",
           "SW99RT",
           "SW99RX",
           "SW99LG",
           "SW99LH",
           "SW99NN"
          ],
          "received_time": "2021-04-09T14:24:00"
         },
         "type": "Feature"
        },
        {
         "geometry": {
          "coordinates": [
           0.0448610396204959,
           51.6926861368934
          ],
          "type": "Point"
         },
         "properties": {
          "description": "We're carrying out planned work in your area. For our engineers to carry it out safely they need to turn the power off. We're doing this work as it's essential to provide reliable electricity supplies to your area. We're sorry for any inconvenience caused and thank you for your patience.",
          "dno": "ukpn",
          "estimated_restored_time": "2021-04-09T06:45:00",
          "incident_id": "INCD-229185-Z",
          "incident_url": "https://www.ukpowernetworks.co.uk/power-cut/map?incidentid=INCD-229185-Z",
          "postcodes_impacted": [
           "EN93SL"
          ],
          "received_time": "2021-04-09T06:30:00"
         },
         "type": "Feature"
        },
        {
         "geometry": {
          "coordinates": [
           0.427666947309965,
           50.99966677600114
          ],
          "type": "Point"
         },
         "properties": {
          "description": "Our contractors Avidety Ltd are replacing and upgrading electricity poles due to them coming to the end of their serviceable lives. This will improve the reliability of the electricity network and will reduce the risk of you having an unplanned power cut which is why it is important to complete this work during the Coronavirus pandemic. You may see our contractors completing preparation works prior to the outage to allow for a shorter interruption on the day of the planned power cut. This work is taking place in and around Fontridge Lane. The government has given exemptions to certain industries and activities, this outage falls into this category.",
          "dno": "ukpn",
          "estimated_restored_time": "2021-04-09T17:30:00",
          "incident_id": "INCD-52429-V",
          "incident_url": "https://www.ukpowernetworks.co.uk/power-cut/map?incidentid=INCD-52429-V",
          "postcodes_impacted": [
           "TN197AE",
           "TN197DD"
          ],
          "received_time": "2021-04-06T08:00:00"
         },
         "type": "Feature"
        },
        {
         "geometry": {
          "coordinates": [
           1.1043715885481886,
           52.36384128782851
          ],
          "type": "Point"
         },
         "properties": {
          "description": "We're carrying out planned work in your area. For our engineers to carry it out safely they need to turn the power off. We're doing this work as it's essential to provide reliable electricity supplies to your area. We're sorry for any inconvenience caused and thank you for your patience.",
          "dno": "ukpn",
          "estimated_restored_time": "2021-04-09T15:00:00",
          "incident_id": "INCD-227013-Z",
          "incident_url": "https://www.ukpowernetworks.co.uk/power-cut/map?incidentid=INCD-227013-Z",
          "postcodes_impacted": [
           "IP221AG",
           "IP221AL",
           "IP221AX"
          ],
          "received_time": "2021-04-09T09:06:00"
         },
         "type": "Feature"
        },
        {
         "geometry": {
          "coordinates": [
           -0.5075386810225051,
           51.15639201752051
          ],
          "type": "Point"
         },
         "properties": {
          "description": "Our contractors Avidety Ltd are replacing and upgrading an electricity pole due to it decaying. They will also be replacing and upgrading some overhead electricity cables with improved insulated cables. This will improve the reliability of our electricity network and reduce the risk of you having an unplanned power cut. This is why it is important to complete this work during the Coronavirus pandemic. You may see our contractors erecting the new electricity pole prior to the outage to allow for a shorter interruption. This work is taking place along Rowly Drive. The government has given exemptions to certain industries and activities, this outage falls into this category. We are sorry for any inconvenience caused by this work.",
          "dno": "ukpn",
          "estimated_restored_time": "2021-04-09T15:30:00",
          "incident_id": "INCD-52097-V",
          "incident_url": "https://www.ukpowernetworks.co.uk/power-cut/map?incidentid=INCD-52097-V",
          "postcodes_impacted": [
           "GU68PJ",
           "GU68PN"
          ],
          "received_time": "2021-04-09T09:50:00"
         },
         "type": "Feature"
        },
        {
         "geometry": {
          "coordinates": [
           0.5287720689969375,
           52.00230756304841
          ],
          "type": "Point"
         },
         "properties": {
          "description": "We're carrying out planned work in your area. For our engineers to carry it out safely they need to turn the power off. We're doing this work as it's essential to provide reliable electricity supplies to your area. We're sorry for any inconvenience caused and thank you for your patience.",
          "dno": "ukpn",
          "estimated_restored_time": "2021-04-09T14:00:00",
          "incident_id": "INCD-6198-O",
          "incident_url": "https://www.ukpowernetworks.co.uk/power-cut/map?incidentid=INCD-6198-O",
          "postcodes_impacted": [
           "CO94EA"
          ],
          "received_time": "2021-04-09T09:14:00"
         },
         "type": "Feature"
        },
        {
         "geometry": {
          "coordinates": [
           1.1081732952744738,
           52.3641085085373
          ],
          "type": "Point"
         },
         "properties": {
          "description": "We're carrying out planned work in your area. For our engineers to carry it out safely they need to turn the power off. We're doing this work as it's essential to provide reliable electricity supplies to your area. We're sorry for any inconvenience caused and thank you for your patience.",
          "dno": "ukpn",
          "estimated_restored_time": "2021-04-09T13:00:00",
          "incident_id": "INCD-227035-Z",
          "incident_url": "https://www.ukpowernetworks.co.uk/power-cut/map?incidentid=INCD-227035-Z",
          "postcodes_impacted": [
           "IP221AG",
           "IP221AH",
           "IP221AN",
           "IP221AP",
           "IP221AQ",
           "IP221AS",
           "IP221AU",
           "IP221AW",
           "IP221TD",
           "IP221TH",
           "IP221TQ",
           "IP224AW"
          ],
          "received_time": "2021-04-09T10:41:00"
         },
         "type": "Feature"
        },
        {
         "geometry": {
          "coordinates": [
           0.4534829901366792,
           51.19412807740878
          ],
          "type": "Point"
         },
         "properties": {
          "description": "We have identified that there are trees close to our high voltage overhead electricity cables that need trimming. To enable us to work close to the high voltage overhead electricity cables and cut the trees safely our engineers will need to temporarily switch off your power. This work needs to take place for safety reasons, along with reducing the risk of you having an unplanned power cut by stopping these trees from potentially causing damaged to the overhead electricity network. This is why it is important to complete this work during the Coronavirus pandemic. This work is taking place off Collier Street. The government has given exemptions to certain industries and activities, this outage falls into this category. We are adhering to government guidelines to keep our customers and colleagues safe. We are sorry for any inconvenience caused by this work and thank you for your patience.",
          "dno": "ukpn",
          "estimated_restored_time": "2021-04-09T15:30:00",
          "incident_id": "INCD-51529-V",
          "incident_url": "https://www.ukpowernetworks.co.uk/power-cut/map?incidentid=INCD-51529-V",
          "postcodes_impacted": [
           "TN129QA",
           "TN129RG",
           "TN129RJ",
           "TN129RL",
           "TN129RN",
           "TN129RP",
           "TN129RR"
          ],
          "received_time": "2021-04-09T09:40:00"
         },
         "type": "Feature"
        },
        {
         "geometry": {
          "coordinates": [
           0.1717105831884139,
           51.82967698609019
          ],
          "type": "Point"
         },
         "properties": {
          "description": "We're carrying out planned work in your area. For our engineers to carry it out safely they need to turn the power off. We're doing this work as it's essential to provide reliable electricity supplies to your area. We're sorry for any inconvenience caused and thank you for your patience.",
          "dno": "ukpn",
          "estimated_restored_time": "2021-04-09T14:30:00",
          "incident_id": "INCD-227918-Z",
          "incident_url": "https://www.ukpowernetworks.co.uk/power-cut/map?incidentid=INCD-227918-Z",
          "postcodes_impacted": [
           "CM227QS",
           "CM227QT",
           "CM227QU"
          ],
          "received_time": "2021-04-09T10:30:00"
         },
         "type": "Feature"
        },
        {
         "geometry": {
          "coordinates": [
           0.2562645401168818,
           52.602955292728794
          ],
          "type": "Point"
         },
         "properties": {
          "description": "We're carrying out planned work in your area. For our engineers to carry it out safely they need to turn the power off. We're doing this work as it's essential to provide reliable electricity supplies to your area. We're sorry for any inconvenience caused and thank you for your patience.",
          "dno": "ukpn",
          "estimated_restored_time": "2021-04-09T15:00:00",
          "incident_id": "INCD-221608-Z",
          "incident_url": "https://www.ukpowernetworks.co.uk/power-cut/map?incidentid=INCD-221608-Z",
          "postcodes_impacted": [
           "PE148QA",
           "PE148QD",
           "PE148RY",
           "PE148RZ",
           "PE148SA"
          ],
          "received_time": "2021-04-09T09:18:00"
         },
         "type": "Feature"
        },
        {
         "geometry": {
          "coordinates": [
           0.20505470109204724,
           51.70958067557451
          ],
          "type": "Point"
         },
         "properties": {
          "description": "We're carrying out planned work in your area. For our engineers to carry it out safely they need to turn the power off. We're doing this work as it's essential to provide reliable electricity supplies to your area. We're sorry for any inconvenience caused and thank you for your patience.",
          "dno": "ukpn",
          "estimated_restored_time": "2021-04-09T09:00:00",
          "incident_id": "INCD-229210-Z",
          "incident_url": "https://www.ukpowernetworks.co.uk/power-cut/map?incidentid=INCD-229210-Z",
          "postcodes_impacted": [
           "CM59FN",
           "CM59LF",
           "CM59LG",
           "CM59LP",
           "CM59LQ",
           "CM59LW"
          ],
          "received_time": "2021-04-09T08:00:00"
         },
         "type": "Feature"
        },
        {
         "geometry": {
          "coordinates": [
           1.0488719353450682,
           51.247505916980685
          ],
          "type": "Point"
         },
         "properties": {
          "description": "Our contractors Avidety Ltd are replacing and upgrading some overhead electricity cables with improved insulated cables. This will improve the reliability of our electricity network and reduce the risk of you having an unplanned power cut. This is why it is important to complete this work during the Coronavirus pandemic. You may see our contractors completing preparation works prior to the outage to allow for a shorter interruption on the day. Due to safety reasons our contractors need to complete a safety check with your internal equipment checking a plug and a socket on separate circuits to enable the power to be turned on and off. As the checks are manual we aim to turn the power off at 09:30 and back on at 15:30, however please allow extra time for the checks to be completed. Access will only be required before and after the planned power cut. Please ensure access to the meter is clear.This work is taking place outside numbers 1 to 4 Upper Horton Farm Cottages, New House Lane.",
          "dno": "ukpn",
          "estimated_restored_time": "2021-04-09T15:30:00",
          "incident_id": "INCD-52085-V",
          "incident_url": "https://www.ukpowernetworks.co.uk/power-cut/map?incidentid=INCD-52085-V",
          "postcodes_impacted": [
           "CT47BN"
          ],
          "received_time": "2021-04-09T09:40:00"
         },
         "type": "Feature"
        },
        {
         "geometry": {
          "coordinates": [
           0.4809798671520068,
           52.039798670666094
          ],
          "type": "Point"
         },
         "properties": {
          "description": "We're carrying out planned work in your area. For our engineers to carry it out safely they need to turn the power off. We're doing this work as it's essential to provide reliable electricity supplies to your area. We're sorry for any inconvenience caused and thank you for your patience.",
          "dno": "ukpn",
          "estimated_restored_time": "2021-04-09T15:00:00",
          "incident_id": "INCD-42719-C",
          "incident_url": "https://www.ukpowernetworks.co.uk/power-cut/map?incidentid=INCD-42719-C",
          "postcodes_impacted": [
           "CO94BP",
           "CO94BX"
          ],
          "received_time": "2021-04-09T09:27:00"
         },
         "type": "Feature"
        },
        {
         "geometry": {
          "coordinates": [
           1.1037007003398895,
           52.36614626440513
          ],
          "type": "Point"
         },
         "properties": {
          "description": "We're carrying out planned work in your area. For our engineers to carry it out safely they need to turn the power off. We're doing this work as it's essential to provide reliable electricity supplies to your area. We're sorry for any inconvenience caused and thank you for your patience.",
          "dno": "ukpn",
          "estimated_restored_time": "2021-04-09T15:00:00",
          "incident_id": "INCD-227033-Z",
          "incident_url": "https://www.ukpowernetworks.co.uk/power-cut/map?incidentid=INCD-227033-Z",
          "postcodes_impacted": [
           "IP221AB",
           "IP221AD",
           "IP221AG"
          ],
          "received_time": "2021-04-09T09:25:00"
         },
         "type": "Feature"
        },
        {
         "geometry": {
          "coordinates": [
           0.5554311991614564,
           51.41330859931416
          ],
          "type": "Point"
         },
         "properties": {
          "description": "We're carrying out planned work in your area. For our engineers to carry it out safely they need to turn the power off. We're doing this work as it's essential to provide reliable electricity supplies to your area. We're sorry for any inconvenience caused and thank you for your patience.",
          "dno": "ukpn",
          "estimated_restored_time": "2021-04-09T15:00:00",
          "incident_id": "INCD-51220-V",
          "incident_url": "https://www.ukpowernetworks.co.uk/power-cut/map?incidentid=INCD-51220-V",
          "postcodes_impacted": [
           "ME38PT",
           "ME39BH",
           "ME39BJ",
           "ME39BQ",
           "ME39LR",
           "ME39LS",
           "ME39LT",
           "ME65FN"
          ],
          "received_time": "2021-04-09T08:08:00"
         },
         "type": "Feature"
        },
        {
         "geometry": {
          "coordinates": [
           1.30098298848762,
           52.75161748394528
          ],
          "type": "Point"
         },
         "properties": {
          "description": "We're carrying out planned work in your area. For our engineers to carry it out safely they need to turn the power off. We're doing this work as it's essential to provide reliable electricity supplies to your area. We're sorry for any inconvenience caused and thank you for your patience.",
          "dno": "ukpn",
          "estimated_restored_time": "2021-04-09T15:00:00",
          "incident_id": "INCD-223545-Z",
          "incident_url": "https://www.ukpowernetworks.co.uk/power-cut/map?incidentid=INCD-223545-Z",
          "postcodes_impacted": [
           "NR105AB",
           "NR105EH",
           "NR105HF",
           "NR105HG"
          ],
          "received_time": "2021-04-09T08:38:00"
         },
         "type": "Feature"
        },
        {
         "geometry": {
          "coordinates": [
           1.2484518032047203,
           52.47550798294085
          ],
          "type": "Point"
         },
         "properties": {
          "description": "We're carrying out planned work in your area. For our engineers to carry it out safely they need to turn the power off. We're doing this work as it's essential to provide reliable electricity supplies to your area. We're sorry for any inconvenience caused and thank you for your patience.",
          "dno": "ukpn",
          "estimated_restored_time": "2021-04-09T13:30:00",
          "incident_id": "INCD-6434-O",
          "incident_url": "https://www.ukpowernetworks.co.uk/power-cut/map?incidentid=INCD-6434-O",
          "postcodes_impacted": [
           "NR152AN",
           "NR152RR"
          ],
          "received_time": "2021-04-09T09:31:00"
         },
         "type": "Feature"
        },
        {
         "geometry": {
          "coordinates": [
           0.9540082868337114,
           52.105907470929594
          ],
          "type": "Point"
         },
         "properties": {
          "description": "We're carrying out planned work in your area. For our engineers to carry it out safely they need to turn the power off. We're doing this work as it's essential to provide reliable electricity supplies to your area. We're sorry for any inconvenience caused and thank you for your patience.",
          "dno": "ukpn",
          "estimated_restored_time": "2021-04-09T15:00:00",
          "incident_id": "INCD-227251-Z",
          "incident_url": "https://www.ukpowernetworks.co.uk/power-cut/map?incidentid=INCD-227251-Z",
          "postcodes_impacted": [
           "IP77AR",
           "IP77BP",
           "IP77BS",
           "IP77BW"
          ],
          "received_time": "2021-04-09T09:04:00"
         },
         "type": "Feature"
        },
        {
         "geometry": {
          "coordinates": [
           -0.33820825267824345,
           52.27597110891198
          ],
          "type": "Point"
         },
         "properties": {
          "description": "We're carrying out planned work in your area. For our engineers to carry it out safely they need to turn the power off. We're doing this work as it's essential to provide reliable electricity supplies to your area. We're sorry for any inconvenience caused and thank you for your patience.",
          "dno": "ukpn",
          "estimated_restored_time": "2021-04-09T15:00:00",
          "incident_id": "INCD-227259-Z",
          "incident_url": "https://www.ukpowernetworks.co.uk/power-cut/map?incidentid=INCD-227259-Z",
          "postcodes_impacted": [
           "PE194DH",
           "PE195DH",
           "PE195DQ"
          ],
          "received_time": "2021-04-09T10:44:00"
         },
         "type": "Feature"
        },
        {
         "geometry": {
          "coordinates": [
           0.4123918761330808,
           50.99710029888838
          ],
          "type": "Point"
         },
         "properties": {
          "description": "Our contractors Avidety Ltd are replacing and upgrading electricity poles due to them coming to the end of their serviceable lives. This will improve the reliability of the electricity network and will reduce the risk of you having an unplanned power cut which is why it is important to complete this work during the Coronavirus pandemic. You may see our contractors completing preparation works prior to the outage to allow for a shorter interruption on the day of the planned power cut. This work is taking place in and around Fontridge Lane. The government has given exemptions to certain industries and activities, this outage falls into this category.",
          "dno": "ukpn",
          "estimated_restored_time": "2021-04-09T18:00:00",
          "incident_id": "INCD-52888-V",
          "incident_url": "https://www.ukpowernetworks.co.uk/power-cut/map?incidentid=INCD-52888-V",
          "postcodes_impacted": [
           "TN196EB",
           "TN197AE",
           "TN197AF",
           "TN197DD",
           "TN197BA",
           "TN197BD",
           "TN197BE",
           "TN197BG",
           "TN197DE",
           "TN197DG",
           "TN197DH"
          ],
          "received_time": "2021-04-09T08:00:00"
         },
         "type": "Feature"
        },
        {
         "geometry": {
          "coordinates": [
           0.1735433280473478,
           51.42745611386678
          ],
          "type": "Point"
         },
         "properties": {
          "description": "Our contractors Avidety Ltd are replacing and upgrading electricity poles due to them decaying. Along with replacing and upgrading some overhead electricity cables with improved insulated cables. This will improve the reliability of the electricity network and will reduce the risk of you having an unplanned power cut which is why it is important to complete this work during the Coronavirus pandemic. You may see our contractors completing preparation works prior to the outage to allow for a shorter interruption on the day of the planned power cut. This work is taking place outside numbers 48 to 76 Joydens Wood Road. The government has given exemptions to certain industries and activities, this outage falls into this category.",
          "dno": "ukpn",
          "estimated_restored_time": "2021-04-09T15:30:00",
          "incident_id": "INCD-52338-V",
          "incident_url": "https://www.ukpowernetworks.co.uk/power-cut/map?incidentid=INCD-52338-V",
          "postcodes_impacted": [
           "DA52HT",
           "DA52JA"
          ],
          "received_time": "2021-04-09T09:30:00"
         },
         "type": "Feature"
        },
        {
         "geometry": {
          "coordinates": [
           0.23510861859300672,
           51.124304233936705
          ],
          "type": "Point"
         },
         "properties": {
          "description": "The reason for this work is we are replacing an overhead transformer with a new piece of equipment, called a substation on the electricity network. This equipment controls and delivers the electricity into your area. These are essential works that will improve the reliability of the electricity network, ensure our network can uphold the amount of electricity in your area and will also reduce the risk of you having an unplanned power cut which is why it is important to complete this work during the Coronavirus pandemic. This work is taking place in the vicinity of Adamswell Scout Camp. The government has given exemptions to certain industries and activities, this outage falls into this category.",
          "dno": "ukpn",
          "estimated_restored_time": "2021-04-09T17:45:00",
          "incident_id": "INCD-53079-V",
          "incident_url": "https://www.ukpowernetworks.co.uk/power-cut/map?incidentid=INCD-53079-V",
          "postcodes_impacted": [
           "TN39JH",
           "TN39JJ",
           "TN39JL",
           "TN39LU",
           "TN48NA",
           "TN48ND",
           "TN48NE",
           "TN48NG",
           "TN48NH"
          ],
          "received_time": "2021-04-09T08:00:00"
         },
         "type": "Feature"
        },
        {
         "geometry": {
          "coordinates": [
           -0.499327,
           51.434554
          ],
          "type": "Point"
         },
         "properties": {
          "description": "We’re sorry for the loss of supply. We currently have a fault affecting the areas listed. Our engineers are on site working hard to get the power back on as quickly as they can. If you need more information, please call us on 105 or send us a message on <a href=\"http://m.me/ssencommunity/\">Facebook</a> or Twitter (<a href=\"https://twitter.com/ssencommunity\">@ssencommunity</a>) and quote reference 'HB4676'",
          "dno": "ssen",
          "estimated_restored_time": "2021-04-09 18:30:00",
          "incident_id": "HB4676",
          "incident_url": "https://www.ssen.co.uk/Powertrack/",
          "postcodes_impacted": [
           "TW18 4LR"
          ],
          "received_time": "2021-04-09 15:11:00"
         },
         "type": "Feature"
        },
        {
         "geometry": {
          "coordinates": [
           -4.117575666666666,
           57.749713500000006
          ],
          "type": "Point"
         },
         "properties": {
          "description": "We're sorry for the loss of supply. The reason you're currently without power is a planned outage in the areas listed. We have turned off your electricity supply to allow us to safely carry out essential work to our electrical equipment. By doing this, it'll help us to improve the reliability of our service to you for the future. If you have any questions or require more information, please call us on 105 or send us a message on <a href=\"http://m.me/ssencommunity/\">Facebook</a> or Twitter (<a href=\"https://twitter.com/ssencommunity\">@ssencommunity</a>) with reference  '199083'. You will have received a letter from us confirming your power will be interrupted with specific information relating to your property. If you did not receive this letter, you can assume your power will not be interrupted.",
          "dno": "ssen",
          "estimated_restored_time": "2021-04-09 16:00:00",
          "incident_id": "199083",
          "incident_url": "https://www.ssen.co.uk/Powertrack/",
          "postcodes_impacted": [
           "IV18 0NA",
           "IV18 0NW",
           "IV18 0PD",
           "IV18 0PE",
           "IV18 0PF",
           "IV19 1NQ"
          ],
          "received_time": "2021-04-09 14:00:00"
         },
         "type": "Feature"
        },
        {
         "geometry": {
          "coordinates": [
           -2.197704,
           50.64228466666666
          ],
          "type": "Point"
         },
         "properties": {
          "description": "We’re sorry for the loss of supply. We currently have a fault affecting the areas listed. Our engineers are on site working hard to get the power back on as quickly as they can. If you need more information, please call us on 105 or send us a message on <a href=\"http://m.me/ssencommunity/\">Facebook</a> or Twitter (<a href=\"https://twitter.com/ssencommunity\">@ssencommunity</a>) and quote reference 'HB4643'",
          "dno": "ssen",
          "estimated_restored_time": "2021-04-09 16:00:00",
          "incident_id": "HB4643",
          "incident_url": "https://www.ssen.co.uk/Powertrack/",
          "postcodes_impacted": [
           "BH20 5QJ",
           "BH20 5QT",
           "BH20 5QW"
          ],
          "received_time": "2021-04-09 13:41:00"
         },
         "type": "Feature"
        },
        {
         "geometry": {
          "coordinates": [
           -2.1351256249999997,
           57.1434410625
          ],
          "type": "Point"
         },
         "properties": {
          "description": "We’re sorry for the loss of supply. We currently have a fault affecting the areas listed. Our engineers are on site working hard to get the power back on as quickly as they can. If you need more information, please call us on 105 or send us a message on <a href=\"http://m.me/ssencommunity/\">Facebook</a> or Twitter (<a href=\"https://twitter.com/ssencommunity\">@ssencommunity</a>) and quote reference 'HB4621'",
          "dno": "ssen",
          "estimated_restored_time": "2021-04-09 16:30:00",
          "incident_id": "HB4621",
          "incident_url": "https://www.ssen.co.uk/Powertrack/",
          "postcodes_impacted": [
           "AB15 4BD",
           "AB15 4BF",
           "AB15 4BU",
           "AB15 4EY",
           "AB15 4EZ",
           "AB15 4YE",
           "AB15 4YQ",
           "AB15 4YS",
           "AB15 4YT",
           "AB15 4YU",
           "AB15 4YW",
           "AB15 4YY",
           "AB15 4ZR",
           "AB15 4ZX",
           "AB15 4ZZ",
           "AB23 8AQ"
          ],
          "received_time": "2021-04-09 13:12:00"
         },
         "type": "Feature"
        },
        {
         "geometry": {
          "coordinates": [
           -1.5370623333333333,
           50.757216666666665
          ],
          "type": "Point"
         },
         "properties": {
          "description": "We’re sorry for the loss of supply. We currently have a fault affecting the areas listed. Our engineers are on site working hard to get the power back on as quickly as they can. If you need more information, please call us on 105 or send us a message on <a href=\"http://m.me/ssencommunity/\">Facebook</a> or Twitter (<a href=\"https://twitter.com/ssencommunity\">@ssencommunity</a>) and quote reference 'HB4557'",
          "dno": "ssen",
          "estimated_restored_time": "2021-04-09 18:00:00",
          "incident_id": "HB4557",
          "incident_url": "https://www.ssen.co.uk/Powertrack/",
          "postcodes_impacted": [
           "SO41 3RU",
           "SO41 3SE",
           "SO41 9ZG"
          ],
          "received_time": "2021-04-09 11:22:00"
         },
         "type": "Feature"
        },
        {
         "geometry": {
          "coordinates": [
           -5.396031666666667,
           57.440484999999995
          ],
          "type": "Point"
         },
         "properties": {
          "description": "We’re sorry for the loss of supply. We currently have a fault affecting the areas listed. Our engineers are on site working hard to get the power back on as quickly as they can. If you need more information, please call us on 105 or send us a message on <a href=\"http://m.me/ssencommunity/\">Facebook</a> or Twitter (<a href=\"https://twitter.com/ssencommunity\">@ssencommunity</a>) and quote reference 'HB4497'",
          "dno": "ssen",
          "estimated_restored_time": "2021-04-09 15:30:00",
          "incident_id": "HB4497",
          "incident_url": "https://www.ssen.co.uk/Powertrack/",
          "postcodes_impacted": [
           "IV54 8YN",
           "IV54 8YU",
           "IV54 8YX"
          ],
          "received_time": "2021-04-09 09:45:00"
         },
         "type": "Feature"
        },
        {
         "geometry": {
          "coordinates": [
           -1.002583,
           51.627208
          ],
          "type": "Point"
         },
         "properties": {
          "description": "We’re sorry for the loss of supply. We currently have a fault affecting the areas listed. Our engineers are on site working hard to get the power back on as quickly as they can. If you need more information, please call us on 105 or send us a message on <a href=\"http://m.me/ssencommunity/\">Facebook</a> or Twitter (<a href=\"https://twitter.com/ssencommunity\">@ssencommunity</a>) and quote reference 'HB4515'",
          "dno": "ssen",
          "estimated_restored_time": "2021-04-09 17:00:00",
          "incident_id": "HB4515",
          "incident_url": "https://www.ssen.co.uk/Powertrack/",
          "postcodes_impacted": [
           "OX49 5EP"
          ],
          "received_time": "2021-04-09 08:26:00"
         },
         "type": "Feature"
        },
        {
         "geometry": {
          "coordinates": [
           -1.2972876666666666,
           50.94983183333333
          ],
          "type": "Point"
         },
         "properties": {
          "description": "We’re sorry for the loss of supply. We currently have a fault affecting the areas listed. Our engineers are on site working hard to get the power back on as quickly as they can. If you need more information, please call us on 105 or send us a message on <a href=\"http://m.me/ssencommunity/\">Facebook</a> or Twitter (<a href=\"https://twitter.com/ssencommunity\">@ssencommunity</a>) and quote reference 'HB4396'",
          "dno": "ssen",
          "estimated_restored_time": "2021-04-09 16:30:00",
          "incident_id": "HB4396",
          "incident_url": "https://www.ssen.co.uk/Powertrack/",
          "postcodes_impacted": [
           "SO50 7DQ",
           "SO50 7DU",
           "SO50 7FJ",
           "SO50 7PA",
           "SO50 7PB",
           "SO50 7PF"
          ],
          "received_time": "2021-04-09 04:36:00"
         },
         "type": "Feature"
        },
        {
         "geometry": {
          "coordinates": [
           -2.754586,
           50.731443
          ],
          "type": "Point"
         },
         "properties": {
          "description": "In Progress",
          "dno": "wpd",
          "estimated_restored_time": "2021-04-09 20:00:00",
          "incident_id": "INCD-74833-T",
          "incident_url": "https://powercuts.westernpower.co.uk/incident/INCD-74833-T",
          "postcodes_impacted": [
           "DT6 3RN"
          ],
          "received_time": "2021-04-09 09:10:00"
         },
         "type": "Feature"
        },
        {
         "geometry": {
          "coordinates": [
           -3.8962845,
           51.198398
          ],
          "type": "Point"
         },
         "properties": {
          "description": "In Progress",
          "dno": "wpd",
          "estimated_restored_time": "2021-04-09 19:30:00",
          "incident_id": "INCD-125316-B",
          "incident_url": "https://powercuts.westernpower.co.uk/incident/INCD-125316-B",
          "postcodes_impacted": [
           "EX31 4QN",
           "EX31 4RA"
          ],
          "received_time": "2021-04-09 09:47:00"
         },
         "type": "Feature"
        },
        {
         "geometry": {
          "coordinates": [
           -2.771776,
           51.345248
          ],
          "type": "Point"
         },
         "properties": {
          "description": "In Progress",
          "dno": "wpd",
          "estimated_restored_time": "2021-04-09 16:30:00",
          "incident_id": "INCD-37157-C",
          "incident_url": "https://powercuts.westernpower.co.uk/incident/INCD-37157-C",
          "postcodes_impacted": [
           "BS40 5HJ"
          ],
          "received_time": "2021-04-09 09:41:00"
         },
         "type": "Feature"
        },
        {
         "geometry": {
          "coordinates": [
           -3.2908160000000004,
           51.12750140000001
          ],
          "type": "Point"
         },
         "properties": {
          "description": "In Progress",
          "dno": "wpd",
          "estimated_restored_time": "2021-04-09 20:00:00",
          "incident_id": "INCD-74821-T",
          "incident_url": "https://powercuts.westernpower.co.uk/incident/INCD-74821-T",
          "postcodes_impacted": [
           "TA4 3TL",
           "TA4 3SZ",
           "TA4 3TA",
           "TA4 3TU",
           "TA4 3TQ"
          ],
          "received_time": "2021-04-09 07:53:00"
         },
         "type": "Feature"
        },
        {
         "geometry": {
          "coordinates": [
           -3.3687780000000003,
           51.6693038
          ],
          "type": "Point"
         },
         "properties": {
          "description": "In Progress",
          "dno": "wpd",
          "estimated_restored_time": "2021-04-09 17:00:00",
          "incident_id": "INCD-1533-g",
          "incident_url": "https://powercuts.westernpower.co.uk/incident/INCD-1533-g",
          "postcodes_impacted": [
           "CF45 3PX",
           "CF45 3LX",
           "CF45 3PJ",
           "CF45 3EX",
           "CF45 3LJ"
          ],
          "received_time": "2021-04-09 13:57:00"
         },
         "type": "Feature"
        },
        {
         "geometry": {
          "coordinates": [
           -3.3467655,
           51.609058499999996
          ],
          "type": "Point"
         },
         "properties": {
          "description": "In Progress",
          "dno": "wpd",
          "estimated_restored_time": "2021-04-09 16:30:00",
          "incident_id": "INCD-1525-g",
          "incident_url": "https://powercuts.westernpower.co.uk/incident/INCD-1525-g",
          "postcodes_impacted": [
           "CF37 2EU",
           "CF37 2EW",
           "CF37 2EN",
           "CF37 2EY"
          ],
          "received_time": "2021-04-09 13:27:00"
         },
         "type": "Feature"
        },
        {
         "geometry": {
          "coordinates": [
           -4.637313,
           51.76204775
          ],
          "type": "Point"
         },
         "properties": {
          "description": "In Progress",
          "dno": "wpd",
          "estimated_restored_time": "2021-04-09 17:00:00",
          "incident_id": "INCD-1503-g",
          "incident_url": "https://powercuts.westernpower.co.uk/incident/INCD-1503-g",
          "postcodes_impacted": [
           "SA67 8QA",
           "SA67 8QP",
           "SA67 8QE",
           "SA67 8BP",
           "SA67 8QD"
          ],
          "received_time": "2021-04-09 10:54:00"
         },
         "type": "Feature"
        },
        {
         "geometry": {
          "coordinates": [
           -3.714054,
           51.522668
          ],
          "type": "Point"
         },
         "properties": {
          "description": "In Progress",
          "dno": "wpd",
          "estimated_restored_time": "2021-04-09 17:30:00",
          "incident_id": "INCD-1495-g",
          "incident_url": "https://powercuts.westernpower.co.uk/incident/INCD-1495-g",
          "postcodes_impacted": [
           "CF33 4DF"
          ],
          "received_time": "2021-04-09 09:43:00"
         },
         "type": "Feature"
        },
        {
         "geometry": {
          "coordinates": [
           -2.7341215,
           52.057095000000004
          ],
          "type": "Point"
         },
         "properties": {
          "description": "In Progress",
          "dno": "wpd",
          "estimated_restored_time": "2021-04-09 17:30:00",
          "incident_id": "INCD-357532-G",
          "incident_url": "https://powercuts.westernpower.co.uk/incident/INCD-357532-G",
          "postcodes_impacted": [
           "HR4 0JP",
           "HR4 0HD"
          ],
          "received_time": "2021-04-09 15:12:00"
         },
         "type": "Feature"
        },
        {
         "geometry": {
          "coordinates": [
           -2.287484111111111,
           53.05434833333333
          ],
          "type": "Point"
         },
         "properties": {
          "description": "In Progress",
          "dno": "wpd",
          "estimated_restored_time": "2021-04-09 18:00:00",
          "incident_id": "INCD-416183-E",
          "incident_url": "https://powercuts.westernpower.co.uk/incident/INCD-416183-E",
          "postcodes_impacted": [
           "ST7 8PL",
           "ST7 8RB",
           "ST7 8PN",
           "ST7 8QP",
           "ST7 8PP",
           "ST7 8NN",
           "ST7 8PW",
           "ST7 8NW",
           "ST7 8PS"
          ],
          "received_time": "2021-04-09 15:01:00"
         },
         "type": "Feature"
        },
        {
         "geometry": {
          "coordinates": [
           -2.0461865,
           51.8559485
          ],
          "type": "Point"
         },
         "properties": {
          "description": "In Progress",
          "dno": "wpd",
          "estimated_restored_time": "2021-04-09 17:30:00",
          "incident_id": "INCD-416170-E",
          "incident_url": "https://powercuts.westernpower.co.uk/incident/INCD-416170-E",
          "postcodes_impacted": [
           "GL53 9NE",
           "GL53 9NG",
           "GL53 9NF",
           "GL53 9RE"
          ],
          "received_time": "2021-04-09 12:06:00"
         },
         "type": "Feature"
        },
        {
         "geometry": {
          "coordinates": [
           -3.012754,
           52.508916
          ],
          "type": "Point"
         },
         "properties": {
          "description": "Awaiting",
          "dno": "wpd",
          "estimated_restored_time": "2021-04-09 15:17:00",
          "incident_id": "INCD-416184-E",
          "incident_url": "https://powercuts.westernpower.co.uk/incident/INCD-416184-E",
          "postcodes_impacted": [
           "SY15 6SZ"
          ],
          "received_time": "2021-04-09 15:16:00"
         },
         "type": "Feature"
        },
        {
         "geometry": {
          "coordinates": [
           -1.8366414,
           52.479411199999994
          ],
          "type": "Point"
         },
         "properties": {
          "description": "In Progress",
          "dno": "wpd",
          "estimated_restored_time": "2021-04-09 16:30:00",
          "incident_id": "INCD-357527-G",
          "incident_url": "https://powercuts.westernpower.co.uk/incident/INCD-357527-G",
          "postcodes_impacted": [
           "B9 5XY",
           "B9 5XT",
           "B9 5PQ",
           "B9 5PG",
           "B9 5XU"
          ],
          "received_time": "2021-04-09 14:28:00"
         },
         "type": "Feature"
        },
        {
         "geometry": {
          "coordinates": [
           -1.238754,
           52.919311
          ],
          "type": "Point"
         },
         "properties": {
          "description": "In Progress",
          "dno": "wpd",
          "estimated_restored_time": "2021-04-09 18:15:00",
          "incident_id": "INCD-152203-H",
          "incident_url": "https://powercuts.westernpower.co.uk/incident/INCD-152203-H",
          "postcodes_impacted": [
           "NG9 5EU"
          ],
          "received_time": "2021-04-09 06:27:00"
         },
         "type": "Feature"
        },
        {
         "geometry": {
          "coordinates": [
           -1.565616,
           52.853831
          ],
          "type": "Point"
         },
         "properties": {
          "description": "In Progress",
          "dno": "wpd",
          "estimated_restored_time": "2021-04-09 17:00:00",
          "incident_id": "INCD-152235-H",
          "incident_url": "https://powercuts.westernpower.co.uk/incident/INCD-152235-H",
          "postcodes_impacted": [
           "DE65 6BR"
          ],
          "received_time": "2021-04-09 13:30:00"
         },
         "type": "Feature"
        },
        {
         "geometry": {
          "coordinates": [
           -3.7233340731744997,
           53.293725052020754
          ],
          "type": "Point"
         },
         "properties": {
          "description": "We are aware of a fault in your area. If you require more information please call us on: \nCentral and Southern Scotland:  0800 092 9290 . \n Cheshire, Merseyside, North Wales and North Shropshire: 0800 001 5400.",
          "dno": "sp",
          "estimated_restored_time": "2021-04-09 16:42",
          "incident_id": "INCD-371344-r",
          "incident_url": "https://www.spenergynetworks.co.uk/pages/power_cuts_map.aspx?incRef=INCD-371344-r",
          "postcodes_impacted": [
           "LL295RU",
           "LL297RU",
           "LL297SA",
           "LL298DN",
           "LL298DU",
           "LL298DW",
           "LL298EL",
           "LL298EP"
          ],
          "received_time": "2021-04-09 14:42"
         },
         "type": "Feature"
        },
        {
         "geometry": {
          "coordinates": [
           -2.875720892775785,
           53.435653732975545
          ],
          "type": "Point"
         },
         "properties": {
          "description": "There is a power cut in the L28 postcode area of Liverpool affecting properties in Barons Hey and the surrounding area. We had no advance warning of this and only became aware of it at 1:44pm. Our engineers have arrived on site to investigate the cause of the fault.  Our team will work to get your power back on as quickly and as safely as possible by 4:45pm. We will update this message if this information changes. We apologise for the inconvenience and thank you for your patience. This message was updated at 3:57pm on the 9th April 2021.",
          "dno": "sp",
          "estimated_restored_time": "2021-04-09 17:30",
          "incident_id": "INCD-1807436-i",
          "incident_url": "https://www.spenergynetworks.co.uk/pages/power_cuts_map.aspx?incRef=INCD-1807436-i",
          "postcodes_impacted": [
           "L280QA",
           "L280QB",
           "L280QF",
           "L280QG",
           "L280QQ",
           "L288AF"
          ],
          "received_time": "2021-04-09 13:44"
         },
         "type": "Feature"
        },
        {
         "geometry": {
          "coordinates": [
           -3.0795558810695742,
           53.39840781665065
          ],
          "type": "Point"
         },
         "properties": {
          "description": "We are aware of a fault in your area. If you require more information please call us on: \nCentral and Southern Scotland:  0800 092 9290 . \n Cheshire, Merseyside, North Wales and North Shropshire: 0800 001 5400.",
          "dno": "sp",
          "estimated_restored_time": "",
          "incident_id": "INCD-370816-r",
          "incident_url": "https://www.spenergynetworks.co.uk/pages/power_cuts_map.aspx?incRef=INCD-370816-r",
          "postcodes_impacted": [
           "CH427NH",
           "CH437NA",
           "CH437ND",
           "CH437NH",
           "CH437NJ",
           "CH437NL",
           "CH437NN",
           "CH437NP",
           "CH437NQ",
           "CH437NW",
           "CH437QL",
           "CH437QS",
           "CH437QW",
           "CH437TE",
           "CH437TF",
           "CH437TG",
           "CH437TT",
           "CH437TW",
           "CH437UA",
           "CH437XS",
           "CH437XT",
           "CH437XU",
           "CH437XX",
           "CH437XY",
           "CH437YB",
           "CH437YS",
           "CH437ZE",
           "CH437ZF",
           "CH437ZH",
           "CH437ZL",
           "CH437ZQ",
           "CH437ZS",
           "CH437ZT",
           "CH437ZW"
          ],
          "received_time": "2021-04-07 13:03"
         },
         "type": "Feature"
        },
        {
         "geometry": {
          "coordinates": [
           -3.1163589790929507,
           54.99176138541917
          ],
          "type": "Point"
         },
         "properties": {
          "description": "The electricity supply to your premises may currently be affected by planned work.  You should have received a letter explaining this.  We hope to be able to restore your supplies by 09-APR-2021 16:30.  Please accept our sincere apologies for any inconvenience this is causing.",
          "dno": "sp",
          "estimated_restored_time": "2021-04-09 15:30",
          "incident_id": "INCD-492935-k",
          "incident_url": "https://www.spenergynetworks.co.uk/pages/power_cuts_map.aspx?incRef=INCD-492935-k",
          "postcodes_impacted": [
           "DG165JG"
          ],
          "received_time": "2021-03-28 15:09"
         },
         "type": "Feature"
        },
        {
         "geometry": {
          "coordinates": [
           -1.55139,
           53.7645162
          ],
          "type": "Point"
         },
         "properties": {
          "description": "U/G LV Mains Repair (Other) In Progress",
          "dno": "np",
          "estimated_restored_time": "2021-04-09 08:46",
          "incident_id": "INCD-15045-B",
          "incident_url": "https://www.northernpowergrid.com/power-cuts",
          "postcodes_impacted": {
           "LS11 5SB": {
            "class": "models.MapDataLocation",
            "lat": 53.7662,
            "lng": -1.55323
           },
           "LS11 5SE": {
            "class": "models.MapDataLocation",
            "lat": 53.7634,
            "lng": -1.55113
           },
           "LS11 5SS": {
            "class": "models.MapDataLocation",
            "lat": 53.7647,
            "lng": -1.54896
           },
           "LS11 5UH": {
            "class": "models.MapDataLocation",
            "lat": 53.7637,
            "lng": -1.55257
           },
           "LS11 5XA": {
            "class": "models.MapDataLocation",
            "lat": 53.7638,
            "lng": -1.55063
           }
          },
          "received_time": "2021-04-09 08:46"
         },
         "type": "Feature"
        },
        {
         "geometry": {
          "coordinates": [
           -1.245475,
           53.426116
          ],
          "type": "Point"
         },
         "properties": {
          "description": "Unknown P2 Awaiting",
          "dno": "np",
          "estimated_restored_time": "2021-04-09 14:57",
          "incident_id": "INCD-15063-B",
          "incident_url": "https://www.northernpowergrid.com/power-cuts",
          "postcodes_impacted": {
           "S66 8RY": {
            "class": "models.MapDataLocation",
            "lat": 53.4262,
            "lng": -1.24574
           }
          },
          "received_time": "2021-04-09 14:57"
         },
         "type": "Feature"
        },
        {
         "geometry": {
          "coordinates": [
           -1.4109423749999999,
           53.801725125000004
          ],
          "type": "Point"
         },
         "properties": {
          "description": "Damaged EHV U/G In Progress",
          "dno": "np",
          "estimated_restored_time": "",
          "incident_id": "INCD-167229-A",
          "incident_url": "https://www.northernpowergrid.com/power-cuts",
          "postcodes_impacted": {
           "LS15 8AB": {
            "class": "models.MapDataLocation",
            "lat": 53.8048,
            "lng": -1.41077
           },
           "LS15 8AD": {
            "class": "models.MapDataLocation",
            "lat": 53.804,
            "lng": -1.42138
           },
           "LS15 8AE": {
            "class": "models.MapDataLocation",
            "lat": 53.8056,
            "lng": -1.42527
           },
           "LS15 8AJ": {
            "class": "models.MapDataLocation",
            "lat": 53.8073,
            "lng": -1.43811
           },
           "LS25 1AS": {
            "class": "models.MapDataLocation",
            "lat": 53.7946,
            "lng": -1.40015
           },
           "LS25 1NF": {
            "class": "models.MapDataLocation",
            "lat": 53.7973,
            "lng": -1.40888
           },
           "LS25 1NG": {
            "class": "models.MapDataLocation",
            "lat": 53.7984,
            "lng": -1.39455
           },
           "LS25 2DQ": {
            "class": "models.MapDataLocation",
            "lat": 53.7997,
            "lng": -1.39461
           }
          },
          "received_time": "2021-03-29 16:46"
         },
         "type": "Feature"
        },
        {
         "geometry": {
          "coordinates": [
           -1.383345655172414,
           53.69257844827585
          ],
          "type": "Point"
         },
         "properties": {
          "description": "U/G HV Mains Repair In Progress",
          "dno": "np",
          "estimated_restored_time": "2021-04-02 20:36",
          "incident_id": "INCD-168423-A",
          "incident_url": "https://www.northernpowergrid.com/power-cuts",
          "postcodes_impacted": {
           "WF2 7BJ": {
            "class": "models.MapDataLocation",
            "lat": 53.6585,
            "lng": -1.51622
           },
           "WF6 1GX": {
            "class": "models.MapDataLocation",
            "lat": 53.6994,
            "lng": -1.38311
           },
           "WF6 1RS": {
            "class": "models.MapDataLocation",
            "lat": 53.7012,
            "lng": -1.38869
           },
           "WF6 1RT": {
            "class": "models.MapDataLocation",
            "lat": 53.7022,
            "lng": -1.38721
           },
           "WF6 1RU": {
            "class": "models.MapDataLocation",
            "lat": 53.7022,
            "lng": -1.3864
           },
           "WF6 1RW": {
            "class": "models.MapDataLocation",
            "lat": 53.7024,
            "lng": -1.39706
           },
           "WF6 1TL": {
            "class": "models.MapDataLocation",
            "lat": 53.7061,
            "lng": -1.39506
           },
           "WF6 1TN": {
            "class": "models.MapDataLocation",
            "lat": 53.7059,
            "lng": -1.3885
           },
           "WF6 1TW": {
            "class": "models.MapDataLocation",
            "lat": 53.7042,
            "lng": -1.39351
           },
           "WF7 6AJ": {
            "class": "models.MapDataLocation",
            "lat": 53.6903,
            "lng": -1.35564
           },
           "WF7 6BL": {
            "class": "models.MapDataLocation",
            "lat": 53.6937,
            "lng": -1.35628
           },
           "WF7 6HD": {
            "class": "models.MapDataLocation",
            "lat": 53.6843,
            "lng": -1.38835
           },
           "WF7 6HE": {
            "class": "models.MapDataLocation",
            "lat": 53.6839,
            "lng": -1.38273
           },
           "WF7 6HF": {
            "class": "models.MapDataLocation",
            "lat": 53.6847,
            "lng": -1.37642
           },
           "WF7 6HG": {
            "class": "models.MapDataLocation",
            "lat": 53.6896,
            "lng": -1.37771
           },
           "WF7 6HH": {
            "class": "models.MapDataLocation",
            "lat": 53.6909,
            "lng": -1.3758
           },
           "WF7 6HJ": {
            "class": "models.MapDataLocation",
            "lat": 53.6899,
            "lng": -1.37742
           },
           "WF7 6HL": {
            "class": "models.MapDataLocation",
            "lat": 53.6909,
            "lng": -1.37715
           },
           "WF7 6HN": {
            "class": "models.MapDataLocation",
            "lat": 53.6915,
            "lng": -1.37688
           },
           "WF7 6HP": {
            "class": "models.MapDataLocation",
            "lat": 53.6921,
            "lng": -1.37778
           },
           "WF7 6HQ": {
            "class": "models.MapDataLocation",
            "lat": 53.6899,
            "lng": -1.37621
           },
           "WF7 6HR": {
            "class": "models.MapDataLocation",
            "lat": 53.6926,
            "lng": -1.3775
           },
           "WF7 6HS": {
            "class": "models.MapDataLocation",
            "lat": 53.6929,
            "lng": -1.37595
           },
           "WF7 6HT": {
            "class": "models.MapDataLocation",
            "lat": 53.6936,
            "lng": -1.37341
           },
           "WF7 6HW": {
            "class": "models.MapDataLocation",
            "lat": 53.6905,
            "lng": -1.3779
           },
           "WF7 6JA": {
            "class": "models.MapDataLocation",
            "lat": 53.693,
            "lng": -1.37306
           },
           "WF7 6JB": {
            "class": "models.MapDataLocation",
            "lat": 53.6928,
            "lng": -1.37539
           },
           "WF7 6JD": {
            "class": "models.MapDataLocation",
            "lat": 53.693,
            "lng": -1.37465
           },
           "WF7 6JG": {
            "class": "models.MapDataLocation",
            "lat": 53.6821,
            "lng": -1.35676
           }
          },
          "received_time": "2021-04-02 20:36"
         },
         "type": "Feature"
        },
        {
         "geometry": {
          "coordinates": [
           -1.061855,
           54.013288
          ],
          "type": "Point"
         },
         "properties": {
          "description": "Unknown P1 Awaiting",
          "dno": "np",
          "estimated_restored_time": "",
          "incident_id": "INCD-168880-A",
          "incident_url": "https://www.northernpowergrid.com/power-cuts",
          "postcodes_impacted": {
           "YO32 2NB": {
            "class": "models.MapDataLocation",
            "lat": 54.0133,
            "lng": -1.06187
           }
          },
          "received_time": "2021-04-05 14:08"
         },
         "type": "Feature"
        },
        {
         "geometry": {
          "coordinates": [
           -0.216055,
           54.081691
          ],
          "type": "Point"
         },
         "properties": {
          "description": "Safety Interruption In Progress",
          "dno": "np",
          "estimated_restored_time": "2021-04-08 18:32",
          "incident_id": "INCD-169997-A",
          "incident_url": "https://www.northernpowergrid.com/power-cuts",
          "postcodes_impacted": {
           "YO16 4TD": {
            "class": "models.MapDataLocation",
            "lat": 54.0817,
            "lng": -0.216055
           }
          },
          "received_time": "2021-04-08 18:32"
         },
         "type": "Feature"
        },
        {
         "geometry": {
          "coordinates": [
           -1.0592755000000003,
           53.990864099999996
          ],
          "type": "Point"
         },
         "properties": {
          "description": "Safety Interruption In Progress",
          "dno": "np",
          "estimated_restored_time": "2021-04-08 20:38",
          "incident_id": "INCD-170023-A",
          "incident_url": "https://www.northernpowergrid.com/power-cuts",
          "postcodes_impacted": {
           "YO32 9LH": {
            "class": "models.MapDataLocation",
            "lat": 53.9903,
            "lng": -1.05923
           },
           "YO32 9NH": {
            "class": "models.MapDataLocation",
            "lat": 53.989,
            "lng": -1.05946
           },
           "YO32 9NL": {
            "class": "models.MapDataLocation",
            "lat": 53.9901,
            "lng": -1.05982
           },
           "YO32 9NN": {
            "class": "models.MapDataLocation",
            "lat": 53.9914,
            "lng": -1.05934
           },
           "YO32 9NP": {
            "class": "models.MapDataLocation",
            "lat": 53.9917,
            "lng": -1.0556
           },
           "YO32 9NR": {
            "class": "models.MapDataLocation",
            "lat": 53.9926,
            "lng": -1.05842
           },
           "YO32 9NW": {
            "class": "models.MapDataLocation",
            "lat": 53.992,
            "lng": -1.05883
           },
           "YO32 9PJ": {
            "class": "models.MapDataLocation",
            "lat": 53.9904,
            "lng": -1.06106
           },
           "YO32 9PL": {
            "class": "models.MapDataLocation",
            "lat": 53.9913,
            "lng": -1.06084
           },
           "YO32 9PN": {
            "class": "models.MapDataLocation",
            "lat": 53.9909,
            "lng": -1.06009
           }
          },
          "received_time": "2021-04-08 20:38"
         },
         "type": "Feature"
        },
        {
         "geometry": {
          "coordinates": [
           -0.48437631182795704,
           54.17949943010753
          ],
          "type": "Point"
         },
         "properties": {
          "description": "O/H HV Mains Repair In Progress",
          "dno": "np",
          "estimated_restored_time": "2021-04-09 03:37",
          "incident_id": "INCD-170047-A",
          "incident_url": "https://www.northernpowergrid.com/power-cuts",
          "postcodes_impacted": {
           "YO11 3UA": {
            "class": "models.MapDataLocation",
            "lat": 54.2035,
            "lng": -0.406329
           },
           "YO11 3UB": {
            "class": "models.MapDataLocation",
            "lat": 54.2018,
            "lng": -0.406698
           },
           "YO11 3UD": {
            "class": "models.MapDataLocation",
            "lat": 54.2006,
            "lng": -0.420605
           },
           "YO11 3UE": {
            "class": "models.MapDataLocation",
            "lat": 54.2011,
            "lng": -0.402692
           },
           "YO11 3UF": {
            "class": "models.MapDataLocation",
            "lat": 54.201,
            "lng": -0.399602
           },
           "YO11 3UG": {
            "class": "models.MapDataLocation",
            "lat": 54.2001,
            "lng": -0.391818
           },
           "YO11 3UH": {
            "class": "models.MapDataLocation",
            "lat": 54.2024,
            "lng": -0.38386
           },
           "YO11 3UQ": {
            "class": "models.MapDataLocation",
            "lat": 54.2008,
            "lng": -0.377073
           },
           "YO12 4BY": {
            "class": "models.MapDataLocation",
            "lat": 54.1971,
            "lng": -0.443439
           },
           "YO12 4NH": {
            "class": "models.MapDataLocation",
            "lat": 54.2127,
            "lng": -0.435556
           },
           "YO12 4NN": {
            "class": "models.MapDataLocation",
            "lat": 54.2061,
            "lng": -0.433135
           },
           "YO12 4NP": {
            "class": "models.MapDataLocation",
            "lat": 54.1897,
            "lng": -0.480871
           },
           "YO12 4NR": {
            "class": "models.MapDataLocation",
            "lat": 54.1848,
            "lng": -0.486075
           },
           "YO12 4NS": {
            "class": "models.MapDataLocation",
            "lat": 54.1839,
            "lng": -0.486708
           },
           "YO12 4NT": {
            "class": "models.MapDataLocation",
            "lat": 54.1812,
            "lng": -0.480952
           },
           "YO12 4NU": {
            "class": "models.MapDataLocation",
            "lat": 54.187,
            "lng": -0.488173
           },
           "YO12 4NW": {
            "class": "models.MapDataLocation",
            "lat": 54.2012,
            "lng": -0.432434
           },
           "YO12 4NX": {
            "class": "models.MapDataLocation",
            "lat": 54.186,
            "lng": -0.488623
           },
           "YO12 4PA": {
            "class": "models.MapDataLocation",
            "lat": 54.1905,
            "lng": -0.495156
           },
           "YO12 4PB": {
            "class": "models.MapDataLocation",
            "lat": 54.1907,
            "lng": -0.494229
           },
           "YO12 4PD": {
            "class": "models.MapDataLocation",
            "lat": 54.1991,
            "lng": -0.502096
           },
           "YO12 4PE": {
            "class": "models.MapDataLocation",
            "lat": 54.1789,
            "lng": -0.500727
           },
           "YO12 4PF": {
            "class": "models.MapDataLocation",
            "lat": 54.1783,
            "lng": -0.516623
           },
           "YO12 4PG": {
            "class": "models.MapDataLocation",
            "lat": 54.1699,
            "lng": -0.474657
           },
           "YO12 4PH": {
            "class": "models.MapDataLocation",
            "lat": 54.1665,
            "lng": -0.499105
           },
           "YO12 4QD": {
            "class": "models.MapDataLocation",
            "lat": 54.2372,
            "lng": -0.44402
           },
           "YO12 4RX": {
            "class": "models.MapDataLocation",
            "lat": 54.1972,
            "lng": -0.445413
           },
           "YO12 4RY": {
            "class": "models.MapDataLocation",
            "lat": 54.198,
            "lng": -0.442638
           },
           "YO12 4RZ": {
            "class": "models.MapDataLocation",
            "lat": 54.1983,
            "lng": -0.440897
           },
           "YO12 4SA": {
            "class": "models.MapDataLocation",
            "lat": 54.1993,
            "lng": -0.437595
           },
           "YO12 4SB": {
            "class": "models.MapDataLocation",
            "lat": 54.1978,
            "lng": -0.440041
           },
           "YO12 4SD": {
            "class": "models.MapDataLocation",
            "lat": 54.1978,
            "lng": -0.443505
           },
           "YO12 4SE": {
            "class": "models.MapDataLocation",
            "lat": 54.1976,
            "lng": -0.444187
           },
           "YO12 4SF": {
            "class": "models.MapDataLocation",
            "lat": 54.1979,
            "lng": -0.448559
           },
           "YO12 4SG": {
            "class": "models.MapDataLocation",
            "lat": 54.1986,
            "lng": -0.450882
           },
           "YO12 4SH": {
            "class": "models.MapDataLocation",
            "lat": 54.1982,
            "lng": -0.455142
           },
           "YO12 4SL": {
            "class": "models.MapDataLocation",
            "lat": 54.1954,
            "lng": -0.45621
           },
           "YO12 4SN": {
            "class": "models.MapDataLocation",
            "lat": 54.1953,
            "lng": -0.456934
           },
           "YO12 4SP": {
            "class": "models.MapDataLocation",
            "lat": 54.1973,
            "lng": -0.476024
           },
           "YO12 4SQ": {
            "class": "models.MapDataLocation",
            "lat": 54.1977,
            "lng": -0.45188
           },
           "YO12 4SR": {
            "class": "models.MapDataLocation",
            "lat": 54.1986,
            "lng": -0.449287
           },
           "YO12 4SS": {
            "class": "models.MapDataLocation",
            "lat": 54.1982,
            "lng": -0.446112
           },
           "YO12 4ST": {
            "class": "models.MapDataLocation",
            "lat": 54.198,
            "lng": -0.445199
           },
           "YO12 4SU": {
            "class": "models.MapDataLocation",
            "lat": 54.1986,
            "lng": -0.44435
           },
           "YO12 4SW": {
            "class": "models.MapDataLocation",
            "lat": 54.1933,
            "lng": -0.474269
           },
           "YO12 4SX": {
            "class": "models.MapDataLocation",
            "lat": 54.1982,
            "lng": -0.440089
           },
           "YO12 4SY": {
            "class": "models.MapDataLocation",
            "lat": 54.1984,
            "lng": -0.440265
           },
           "YO12 4SZ": {
            "class": "models.MapDataLocation",
            "lat": 54.1975,
            "lng": -0.446077
           },
           "YO12 4TA": {
            "class": "models.MapDataLocation",
            "lat": 54.1973,
            "lng": -0.443662
           },
           "YO12 4TB": {
            "class": "models.MapDataLocation",
            "lat": 54.1981,
            "lng": -0.442637
           },
           "YO12 4TD": {
            "class": "models.MapDataLocation",
            "lat": 54.1832,
            "lng": -0.453723
           },
           "YO12 6LP": {
            "class": "models.MapDataLocation",
            "lat": 54.2891,
            "lng": -0.421444
           },
           "YO14 0EQ": {
            "class": "models.MapDataLocation",
            "lat": 54.2151,
            "lng": -0.313477
           },
           "YO14 0EU": {
            "class": "models.MapDataLocation",
            "lat": 54.1979,
            "lng": -0.321615
           },
           "YO14 0HJ": {
            "class": "models.MapDataLocation",
            "lat": 54.198,
            "lng": -0.295626
           },
           "YO14 0HX": {
            "class": "models.MapDataLocation",
            "lat": 54.2032,
            "lng": -0.346314
           },
           "YO14 0HY": {
            "class": "models.MapDataLocation",
            "lat": 54.2012,
            "lng": -0.354288
           },
           "YO14 0LE": {
            "class": "models.MapDataLocation",
            "lat": 54.1901,
            "lng": -0.350714
           },
           "YO14 9PD": {
            "class": "models.MapDataLocation",
            "lat": 54.2147,
            "lng": -0.34113
           },
           "YO17 8EP": {
            "class": "models.MapDataLocation",
            "lat": 54.152,
            "lng": -0.518956
           },
           "YO17 8EW": {
            "class": "models.MapDataLocation",
            "lat": 54.1781,
            "lng": -0.550094
           },
           "YO17 8HF": {
            "class": "models.MapDataLocation",
            "lat": 54.1297,
            "lng": -0.48608
           },
           "YO17 8PA": {
            "class": "models.MapDataLocation",
            "lat": 54.1828,
            "lng": -0.533196
           },
           "YO17 8PE": {
            "class": "models.MapDataLocation",
            "lat": 54.1852,
            "lng": -0.533645
           },
           "YO17 8PF": {
            "class": "models.MapDataLocation",
            "lat": 54.1805,
            "lng": -0.530396
           },
           "YO17 8PG": {
            "class": "models.MapDataLocation",
            "lat": 54.179,
            "lng": -0.532655
           },
           "YO17 8PH": {
            "class": "models.MapDataLocation",
            "lat": 54.1817,
            "lng": -0.531485
           },
           "YO17 8PJ": {
            "class": "models.MapDataLocation",
            "lat": 54.1811,
            "lng": -0.530495
           },
           "YO17 8PL": {
            "class": "models.MapDataLocation",
            "lat": 54.1821,
            "lng": -0.532178
           },
           "YO17 8PN": {
            "class": "models.MapDataLocation",
            "lat": 54.1809,
            "lng": -0.533385
           },
           "YO17 8PP": {
            "class": "models.MapDataLocation",
            "lat": 54.1835,
            "lng": -0.532159
           },
           "YO17 8PR": {
            "class": "models.MapDataLocation",
            "lat": 54.1853,
            "lng": -0.532553
           },
           "YO17 8PS": {
            "class": "models.MapDataLocation",
            "lat": 54.1909,
            "lng": -0.535254
           },
           "YO17 8PT": {
            "class": "models.MapDataLocation",
            "lat": 54.1772,
            "lng": -0.53405
           },
           "YO17 8PU": {
            "class": "models.MapDataLocation",
            "lat": 54.1816,
            "lng": -0.530081
           },
           "YO17 8PW": {
            "class": "models.MapDataLocation",
            "lat": 54.1835,
            "lng": -0.532665
           },
           "YO17 8PX": {
            "class": "models.MapDataLocation",
            "lat": 54.1783,
            "lng": -0.531301
           },
           "YO17 8QB": {
            "class": "models.MapDataLocation",
            "lat": 54.1776,
            "lng": -0.533441
           },
           "YO17 8QD": {
            "class": "models.MapDataLocation",
            "lat": 54.1778,
            "lng": -0.533709
           },
           "YO17 8QE": {
            "class": "models.MapDataLocation",
            "lat": 54.1778,
            "lng": -0.534795
           },
           "YO17 8QF": {
            "class": "models.MapDataLocation",
            "lat": 54.179,
            "lng": -0.536778
           },
           "YO17 8QG": {
            "class": "models.MapDataLocation",
            "lat": 54.177,
            "lng": -0.538748
           },
           "YO17 8QH": {
            "class": "models.MapDataLocation",
            "lat": 54.175,
            "lng": -0.537362
           },
           "YO17 8QJ": {
            "class": "models.MapDataLocation",
            "lat": 54.1615,
            "lng": -0.545098
           },
           "YO17 8QL": {
            "class": "models.MapDataLocation",
            "lat": 54.1736,
            "lng": -0.525799
           },
           "YO17 8QN": {
            "class": "models.MapDataLocation",
            "lat": 54.1768,
            "lng": -0.527307
           },
           "YO17 8QQ": {
            "class": "models.MapDataLocation",
            "lat": 54.1753,
            "lng": -0.532448
           },
           "YO17 8QW": {
            "class": "models.MapDataLocation",
            "lat": 54.1776,
            "lng": -0.531707
           },
           "YO17 8RU": {
            "class": "models.MapDataLocation",
            "lat": 54.1388,
            "lng": -0.560604
           },
           "YO17 8TL": {
            "class": "models.MapDataLocation",
            "lat": 54.1254,
            "lng": -0.574184
           },
           "YO4 2RJ": {
            "class": "models.MapDataLocation",
            "lat": 53.9003,
            "lng": -0.753099
           },
           "YO4 6RE": {
            "class": "models.MapDataLocation",
            "lat": 53.8382,
            "lng": -1.0813
           },
           "YO42 4TJ": {
            "class": "models.MapDataLocation",
            "lat": 53.8748,
            "lng": -0.929845
           }
          },
          "received_time": "2021-04-09 03:37"
         },
         "type": "Feature"
        },
        {
         "geometry": {
          "coordinates": [
           -1.9161044,
           54.947522400000004
          ],
          "type": "Point"
         },
         "properties": {
          "description": "U/G Service repair In Progress",
          "dno": "np",
          "estimated_restored_time": "2021-04-09 06:11",
          "incident_id": "INCD-170058-A",
          "incident_url": "https://www.northernpowergrid.com/power-cuts",
          "postcodes_impacted": {
           "NE43 7AD": {
            "class": "models.MapDataLocation",
            "lat": 54.9492,
            "lng": -1.9259
           },
           "NE43 7HG": {
            "class": "models.MapDataLocation",
            "lat": 54.9464,
            "lng": -1.92055
           },
           "NE43 7HH": {
            "class": "models.MapDataLocation",
            "lat": 54.9464,
            "lng": -1.91607
           },
           "NE43 7ND": {
            "class": "models.MapDataLocation",
            "lat": 54.9464,
            "lng": -1.91456
           },
           "NE43 7NG": {
            "class": "models.MapDataLocation",
            "lat": 54.9491,
            "lng": -1.91206
           },
           "NE43 7NH": {
            "class": "models.MapDataLocation",
            "lat": 54.9468,
            "lng": -1.91664
           },
           "NE43 7NJ": {
            "class": "models.MapDataLocation",
            "lat": 54.9472,
            "lng": -1.91514
           },
           "NE43 7NL": {
            "class": "models.MapDataLocation",
            "lat": 54.9482,
            "lng": -1.91339
           },
           "NE43 7NN": {
            "class": "models.MapDataLocation",
            "lat": 54.9488,
            "lng": -1.91045
           },
           "NE43 7NQ": {
            "class": "models.MapDataLocation",
            "lat": 54.9468,
            "lng": -1.91624
           }
          },
          "received_time": "2021-04-09 06:11"
         },
         "type": "Feature"
        },
        {
         "geometry": {
          "coordinates": [
           -1.2978340000000002,
           53.59334116666667
          ],
          "type": "Point"
         },
         "properties": {
          "description": "O/H Service Repair In Progress",
          "dno": "np",
          "estimated_restored_time": "2021-04-09 11:02",
          "incident_id": "INCD-170163-A",
          "incident_url": "https://www.northernpowergrid.com/power-cuts",
          "postcodes_impacted": {
           "WF9 2AE": {
            "class": "models.MapDataLocation",
            "lat": 53.5943,
            "lng": -1.29819
           },
           "WF9 2AF": {
            "class": "models.MapDataLocation",
            "lat": 53.5932,
            "lng": -1.29727
           },
           "WF9 2AG": {
            "class": "models.MapDataLocation",
            "lat": 53.5927,
            "lng": -1.29793
           },
           "WF9 2AH": {
            "class": "models.MapDataLocation",
            "lat": 53.5929,
            "lng": -1.29868
           },
           "WF9 2AJ": {
            "class": "models.MapDataLocation",
            "lat": 53.5933,
            "lng": -1.29836
           },
           "WF9 2AL": {
            "class": "models.MapDataLocation",
            "lat": 53.5938,
            "lng": -1.2977
           }
          },
          "received_time": "2021-04-09 11:02"
         },
         "type": "Feature"
        },
        {
         "geometry": {
          "coordinates": [
           -1.496667,
           53.404031
          ],
          "type": "Point"
         },
         "properties": {
          "description": "U/G Service repair In Progress",
          "dno": "np",
          "estimated_restored_time": "2021-04-09 11:11",
          "incident_id": "INCD-170167-A",
          "incident_url": "https://www.northernpowergrid.com/power-cuts",
          "postcodes_impacted": {
           "S6 2BS": {
            "class": "models.MapDataLocation",
            "lat": 53.404,
            "lng": -1.49679
           }
          },
          "received_time": "2021-04-09 11:11"
         },
         "type": "Feature"
        },
        {
         "geometry": {
          "coordinates": [
           -0.9744647073170731,
           53.79407441463415
          ],
          "type": "Point"
         },
         "properties": {
          "description": "O/H HV Mains Repair In Progress",
          "dno": "np",
          "estimated_restored_time": "2021-04-09 11:15",
          "incident_id": "INCD-170169-A",
          "incident_url": "https://www.northernpowergrid.com/power-cuts",
          "postcodes_impacted": {
           "YO25 5NN": {
            "class": "models.MapDataLocation",
            "lat": 54.0021,
            "lng": -0.427
           },
           "YO4 2TS": {
            "class": "models.MapDataLocation",
            "lat": 53.9657,
            "lng": -0.761346
           },
           "YO42 4HX": {
            "class": "models.MapDataLocation",
            "lat": 53.9319,
            "lng": -0.839494
           },
           "YO8 0UZ": {
            "class": "models.MapDataLocation",
            "lat": 53.8126,
            "lng": -1.10803
           },
           "YO8 5HX": {
            "class": "models.MapDataLocation",
            "lat": 53.7895,
            "lng": -1.02198
           },
           "YO8 6DH": {
            "class": "models.MapDataLocation",
            "lat": 53.7974,
            "lng": -0.924665
           },
           "YO8 6ER": {
            "class": "models.MapDataLocation",
            "lat": 53.7731,
            "lng": -0.924891
           },
           "YO8 6LE": {
            "class": "models.MapDataLocation",
            "lat": 53.7833,
            "lng": -0.99393
           },
           "YO8 6NG": {
            "class": "models.MapDataLocation",
            "lat": 53.7773,
            "lng": -0.996986
           },
           "YO8 6NH": {
            "class": "models.MapDataLocation",
            "lat": 53.7767,
            "lng": -0.994011
           },
           "YO8 6NJ": {
            "class": "models.MapDataLocation",
            "lat": 53.7773,
            "lng": -0.993906
           },
           "YO8 6NL": {
            "class": "models.MapDataLocation",
            "lat": 53.7785,
            "lng": -0.996989
           },
           "YO8 6NN": {
            "class": "models.MapDataLocation",
            "lat": 53.7809,
            "lng": -0.996445
           },
           "YO8 6NP": {
            "class": "models.MapDataLocation",
            "lat": 53.7815,
            "lng": -0.992986
           },
           "YO8 6NQ": {
            "class": "models.MapDataLocation",
            "lat": 53.7776,
            "lng": -0.999788
           },
           "YO8 6NR": {
            "class": "models.MapDataLocation",
            "lat": 53.7825,
            "lng": -0.997166
           },
           "YO8 6NS": {
            "class": "models.MapDataLocation",
            "lat": 53.782,
            "lng": -0.993899
           },
           "YO8 6NT": {
            "class": "models.MapDataLocation",
            "lat": 53.7826,
            "lng": -0.992959
           },
           "YO8 6NU": {
            "class": "models.MapDataLocation",
            "lat": 53.7853,
            "lng": -0.994822
           },
           "YO8 6NW": {
            "class": "models.MapDataLocation",
            "lat": 53.7814,
            "lng": -0.996874
           },
           "YO8 6NX": {
            "class": "models.MapDataLocation",
            "lat": 53.7912,
            "lng": -0.992571
           },
           "YO8 6NZ": {
            "class": "models.MapDataLocation",
            "lat": 53.7828,
            "lng": -0.994092
           },
           "YO8 6PD": {
            "class": "models.MapDataLocation",
            "lat": 53.788,
            "lng": -1.01226
           },
           "YO8 6PE": {
            "class": "models.MapDataLocation",
            "lat": 53.7855,
            "lng": -1.00998
           },
           "YO8 6PF": {
            "class": "models.MapDataLocation",
            "lat": 53.781,
            "lng": -0.999751
           },
           "YO8 6PG": {
            "class": "models.MapDataLocation",
            "lat": 53.7813,
            "lng": -1.00061
           },
           "YO8 6PH": {
            "class": "models.MapDataLocation",
            "lat": 53.7755,
            "lng": -0.989304
           },
           "YO8 6PP": {
            "class": "models.MapDataLocation",
            "lat": 53.7817,
            "lng": -0.991828
           },
           "YO8 6PQ": {
            "class": "models.MapDataLocation",
            "lat": 53.778,
            "lng": -0.994148
           },
           "YO8 6PW": {
            "class": "models.MapDataLocation",
            "lat": 53.7781,
            "lng": -0.99548
           },
           "YO8 6QE": {
            "class": "models.MapDataLocation",
            "lat": 53.7688,
            "lng": -0.978709
           },
           "YO8 6QG": {
            "class": "models.MapDataLocation",
            "lat": 53.7729,
            "lng": -0.981039
           },
           "YO8 6RN": {
            "class": "models.MapDataLocation",
            "lat": 53.7838,
            "lng": -0.993675
           },
           "YO8 7NH": {
            "class": "models.MapDataLocation",
            "lat": 53.7768,
            "lng": -0.994222
           },
           "YO8 7NL": {
            "class": "models.MapDataLocation",
            "lat": 53.7792,
            "lng": -0.997046
           },
           "YO8 7NS": {
            "class": "models.MapDataLocation",
            "lat": 53.782,
            "lng": -0.993641
           },
           "YO8 7NX": {
            "class": "models.MapDataLocation",
            "lat": 53.792,
            "lng": -0.99914
           },
           "YO8 7PF": {
            "class": "models.MapDataLocation",
            "lat": 53.7848,
            "lng": -1.00563
           },
           "YO8 7PG": {
            "class": "models.MapDataLocation",
            "lat": 53.7811,
            "lng": -1.00291
           },
           "YO8 7QG": {
            "class": "models.MapDataLocation",
            "lat": 53.7731,
            "lng": -0.981669
           },
           "YO8 8QN": {
            "class": "models.MapDataLocation",
            "lat": 53.7182,
            "lng": -1.08735
           }
          },
          "received_time": "2021-04-09 11:15"
         },
         "type": "Feature"
        },
        {
         "geometry": {
          "coordinates": [
           -1.0660972,
           53.5064481
          ],
          "type": "Point"
         },
         "properties": {
          "description": "Damaged LV U/G In Progress",
          "dno": "np",
          "estimated_restored_time": "2021-04-09 11:45",
          "incident_id": "INCD-170187-A",
          "incident_url": "https://www.northernpowergrid.com/power-cuts",
          "postcodes_impacted": {
           "DN4 6QT": {
            "class": "models.MapDataLocation",
            "lat": 53.5079,
            "lng": -1.06409
           },
           "DN4 6QU": {
            "class": "models.MapDataLocation",
            "lat": 53.5072,
            "lng": -1.06651
           },
           "DN4 6QX": {
            "class": "models.MapDataLocation",
            "lat": 53.5068,
            "lng": -1.06587
           },
           "DN4 6RH": {
            "class": "models.MapDataLocation",
            "lat": 53.5063,
            "lng": -1.06741
           },
           "DN4 6RJ": {
            "class": "models.MapDataLocation",
            "lat": 53.5063,
            "lng": -1.06624
           },
           "DN4 6RL": {
            "class": "models.MapDataLocation",
            "lat": 53.5066,
            "lng": -1.06558
           },
           "DN4 6RN": {
            "class": "models.MapDataLocation",
            "lat": 53.5072,
            "lng": -1.06455
           },
           "DN4 6RY": {
            "class": "models.MapDataLocation",
            "lat": 53.5069,
            "lng": -1.06746
           },
           "DN4 6TN": {
            "class": "models.MapDataLocation",
            "lat": 53.5035,
            "lng": -1.06625
           },
           "DN4 6UQ": {
            "class": "models.MapDataLocation",
            "lat": 53.5053,
            "lng": -1.06679
           }
          },
          "received_time": "2021-04-09 11:45"
         },
         "type": "Feature"
        },
        {
         "geometry": {
          "coordinates": [
           -1.652244,
           53.78818
          ],
          "type": "Point"
         },
         "properties": {
          "description": "Unknown P2 In Progress",
          "dno": "np",
          "estimated_restored_time": "",
          "incident_id": "INCD-170218-A",
          "incident_url": "https://www.northernpowergrid.com/power-cuts",
          "postcodes_impacted": {
           "LS28 9HG": {
            "class": "models.MapDataLocation",
            "lat": 53.7882,
            "lng": -1.6522
           }
          },
          "received_time": "2021-04-09 13:06"
         },
         "type": "Feature"
        },
        {
         "geometry": {
          "coordinates": [
           -1.689722,
           53.978341241379304
          ],
          "type": "Point"
         },
         "properties": {
          "description": "O/H HV Mains Repair Awaiting",
          "dno": "np",
          "estimated_restored_time": "2021-04-09 13:09",
          "incident_id": "INCD-170225-A",
          "incident_url": "https://www.northernpowergrid.com/power-cuts",
          "postcodes_impacted": {
           "HG3 1RP": {
            "class": "models.MapDataLocation",
            "lat": 53.9839,
            "lng": -1.70882
           },
           "HG3 1SB": {
            "class": "models.MapDataLocation",
            "lat": 53.9802,
            "lng": -1.68479
           },
           "HG3 1SD": {
            "class": "models.MapDataLocation",
            "lat": 53.9983,
            "lng": -1.69231
           },
           "HG3 1SF": {
            "class": "models.MapDataLocation",
            "lat": 53.9852,
            "lng": -1.59153
           },
           "HG3 1SJ": {
            "class": "models.MapDataLocation",
            "lat": 53.9879,
            "lng": -1.67637
           },
           "HG3 1SL": {
            "class": "models.MapDataLocation",
            "lat": 53.9873,
            "lng": -1.67848
           },
           "HG3 1SN": {
            "class": "models.MapDataLocation",
            "lat": 53.9927,
            "lng": -1.68105
           },
           "HG3 1SP": {
            "class": "models.MapDataLocation",
            "lat": 53.9975,
            "lng": -1.70313
           },
           "HG3 1SR": {
            "class": "models.MapDataLocation",
            "lat": 53.9906,
            "lng": -1.70738
           },
           "HG3 1SS": {
            "class": "models.MapDataLocation",
            "lat": 53.9851,
            "lng": -1.71106
           },
           "HG3 1SU": {
            "class": "models.MapDataLocation",
            "lat": 53.9828,
            "lng": -1.7045
           },
           "HG3 1SW": {
            "class": "models.MapDataLocation",
            "lat": 53.9949,
            "lng": -1.70156
           },
           "HG3 1SY": {
            "class": "models.MapDataLocation",
            "lat": 53.9858,
            "lng": -1.69701
           },
           "HG3 1SZ": {
            "class": "models.MapDataLocation",
            "lat": 53.983,
            "lng": -1.68385
           },
           "HG3 1TA": {
            "class": "models.MapDataLocation",
            "lat": 53.9789,
            "lng": -1.67345
           },
           "HG3 1TB": {
            "class": "models.MapDataLocation",
            "lat": 53.9742,
            "lng": -1.68688
           },
           "HG3 1TD": {
            "class": "models.MapDataLocation",
            "lat": 53.9738,
            "lng": -1.68599
           },
           "HG3 1TE": {
            "class": "models.MapDataLocation",
            "lat": 53.9735,
            "lng": -1.68476
           },
           "HG3 1TF": {
            "class": "models.MapDataLocation",
            "lat": 53.9734,
            "lng": -1.68417
           },
           "HG3 2RL": {
            "class": "models.MapDataLocation",
            "lat": 54.0033,
            "lng": -1.6974
           },
           "LS21 2NA": {
            "class": "models.MapDataLocation",
            "lat": 53.9427,
            "lng": -1.7062
           },
           "LS21 2PQ": {
            "class": "models.MapDataLocation",
            "lat": 54.0058,
            "lng": -1.74344
           },
           "LS21 2QS": {
            "class": "models.MapDataLocation",
            "lat": 53.949,
            "lng": -1.67095
           },
           "LS21 2QT": {
            "class": "models.MapDataLocation",
            "lat": 53.9533,
            "lng": -1.66908
           },
           "LS21 2QU": {
            "class": "models.MapDataLocation",
            "lat": 53.9629,
            "lng": -1.68763
           },
           "LS21 2QX": {
            "class": "models.MapDataLocation",
            "lat": 53.9667,
            "lng": -1.69471
           },
           "LS21 2QY": {
            "class": "models.MapDataLocation",
            "lat": 53.9626,
            "lng": -1.69942
           },
           "LS21 2QZ": {
            "class": "models.MapDataLocation",
            "lat": 53.9493,
            "lng": -1.6844
           },
           "LS21 2RA": {
            "class": "models.MapDataLocation",
            "lat": 53.9505,
            "lng": -1.68699
           }
          },
          "received_time": "2021-04-09 13:09"
         },
         "type": "Feature"
        },
        {
         "geometry": {
          "coordinates": [
           -1.67109,
           53.71158
          ],
          "type": "Point"
         },
         "properties": {
          "description": "Unknown P2 Awaiting",
          "dno": "np",
          "estimated_restored_time": "",
          "incident_id": "INCD-170226-A",
          "incident_url": "https://www.northernpowergrid.com/power-cuts",
          "postcodes_impacted": {
           "WF16 9EH": {
            "class": "models.MapDataLocation",
            "lat": 53.7116,
            "lng": -1.67113
           }
          },
          "received_time": "2021-04-09 13:13"
         },
         "type": "Feature"
        },
        {
         "geometry": {
          "coordinates": [
           -1.531859,
           53.843244
          ],
          "type": "Point"
         },
         "properties": {
          "description": "Damage Other In Progress",
          "dno": "np",
          "estimated_restored_time": "",
          "incident_id": "INCD-170228-A",
          "incident_url": "https://www.northernpowergrid.com/power-cuts",
          "postcodes_impacted": {
           "LS17 6RB": {
            "class": "models.MapDataLocation",
            "lat": 53.8433,
            "lng": -1.53186
           }
          },
          "received_time": "2021-04-09 13:15"
         },
         "type": "Feature"
        },
        {
         "geometry": {
          "coordinates": [
           -1.062532,
           53.506888
          ],
          "type": "Point"
         },
         "properties": {
          "description": "Damage Other In Progress",
          "dno": "np",
          "estimated_restored_time": "2021-04-09 13:24",
          "incident_id": "INCD-170231-A",
          "incident_url": "https://www.northernpowergrid.com/power-cuts",
          "postcodes_impacted": {
           "DN4 6UD": {
            "class": "models.MapDataLocation",
            "lat": 53.5069,
            "lng": -1.0625
           }
          },
          "received_time": "2021-04-09 13:24"
         },
         "type": "Feature"
        },
        {
         "geometry": {
          "coordinates": [
           -1.43578,
           54.918907
          ],
          "type": "Point"
         },
         "properties": {
          "description": "Damaged service U/G In Progress",
          "dno": "np",
          "estimated_restored_time": "2021-04-09 13:42",
          "incident_id": "INCD-170238-A",
          "incident_url": "https://www.northernpowergrid.com/power-cuts",
          "postcodes_impacted": {
           "SR5 3AH": {
            "class": "models.MapDataLocation",
            "lat": 54.9189,
            "lng": -1.43581
           }
          },
          "received_time": "2021-04-09 13:42"
         },
         "type": "Feature"
        },
        {
         "geometry": {
          "coordinates": [
           -1.602548,
           53.687464
          ],
          "type": "Point"
         },
         "properties": {
          "description": "Damaged service U/G In Progress",
          "dno": "np",
          "estimated_restored_time": "2021-04-09 13:52",
          "incident_id": "INCD-170241-A",
          "incident_url": "https://www.northernpowergrid.com/power-cuts",
          "postcodes_impacted": {
           "WF12 8RQ": {
            "class": "models.MapDataLocation",
            "lat": 53.6875,
            "lng": -1.60255
           }
          },
          "received_time": "2021-04-09 13:52"
         },
         "type": "Feature"
        },
        {
         "geometry": {
          "coordinates": [
           -1.759062,
           53.821284
          ],
          "type": "Point"
         },
         "properties": {
          "description": "Unknown P2 In Progress",
          "dno": "np",
          "estimated_restored_time": "",
          "incident_id": "INCD-170246-A",
          "incident_url": "https://www.northernpowergrid.com/power-cuts",
          "postcodes_impacted": {
           "BD2 1BJ": {
            "class": "models.MapDataLocation",
            "lat": 53.8213,
            "lng": -1.75891
           }
          },
          "received_time": "2021-04-09 14:01"
         },
         "type": "Feature"
        },
        {
         "geometry": {
          "coordinates": [
           -0.334942,
           53.738445
          ],
          "type": "Point"
         },
         "properties": {
          "description": "Unknown P2 In Progress",
          "dno": "np",
          "estimated_restored_time": "2021-04-09 14:17",
          "incident_id": "INCD-170256-A",
          "incident_url": "https://www.northernpowergrid.com/power-cuts",
          "postcodes_impacted": {
           "HU1 1UZ": {
            "class": "models.MapDataLocation",
            "lat": 53.7382,
            "lng": -0.335135
           }
          },
          "received_time": "2021-04-09 14:17"
         },
         "type": "Feature"
        },
        {
         "geometry": {
          "coordinates": [
           -1.8692775999999998,
           53.7003706
          ],
          "type": "Point"
         },
         "properties": {
          "description": "Unknown P2 In Progress",
          "dno": "np",
          "estimated_restored_time": "2021-04-09 14:12",
          "incident_id": "INCD-170257-A",
          "incident_url": "https://www.northernpowergrid.com/power-cuts",
          "postcodes_impacted": {
           "HX3 0TJ": {
            "class": "models.MapDataLocation",
            "lat": 53.701,
            "lng": -1.8667
           },
           "HX3 0TU": {
            "class": "models.MapDataLocation",
            "lat": 53.6996,
            "lng": -1.86951
           },
           "HX3 0UA": {
            "class": "models.MapDataLocation",
            "lat": 53.7002,
            "lng": -1.8722
           },
           "HX3 0UT": {
            "class": "models.MapDataLocation",
            "lat": 53.7011,
            "lng": -1.87093
           },
           "HX3 0UU": {
            "class": "models.MapDataLocation",
            "lat": 53.7001,
            "lng": -1.86751
           }
          },
          "received_time": "2021-04-09 14:12"
         },
         "type": "Feature"
        },
        {
         "geometry": {
          "coordinates": [
           -1.225987,
           54.674023
          ],
          "type": "Point"
         },
         "properties": {
          "description": "Unknown P1 In Progress",
          "dno": "np",
          "estimated_restored_time": "",
          "incident_id": "INCD-170260-A",
          "incident_url": "https://www.northernpowergrid.com/power-cuts",
          "postcodes_impacted": {
           "TS25 5QE": {
            "class": "models.MapDataLocation",
            "lat": 54.674,
            "lng": -1.22599
           }
          },
          "received_time": "2021-04-09 14:25"
         },
         "type": "Feature"
        },
        {
         "geometry": {
          "coordinates": [
           -1.690236,
           54.991415
          ],
          "type": "Point"
         },
         "properties": {
          "description": "Unknown P1 In Progress",
          "dno": "np",
          "estimated_restored_time": "2021-04-09 14:34",
          "incident_id": "INCD-170263-A",
          "incident_url": "https://www.northernpowergrid.com/power-cuts",
          "postcodes_impacted": {
           "NE5 2YQ": {
            "class": "models.MapDataLocation",
            "lat": 54.9914,
            "lng": -1.69022
           }
          },
          "received_time": "2021-04-09 14:34"
         },
         "type": "Feature"
        },
        {
         "geometry": {
          "coordinates": [
           -1.828406,
           53.735334
          ],
          "type": "Point"
         },
         "properties": {
          "description": "Damage Other In Progress",
          "dno": "np",
          "estimated_restored_time": "2021-04-09 14:11",
          "incident_id": "INCD-170265-A",
          "incident_url": "https://www.northernpowergrid.com/power-cuts",
          "postcodes_impacted": {
           "HX3 7HG": {
            "class": "models.MapDataLocation",
            "lat": 53.7353,
            "lng": -1.82844
           }
          },
          "received_time": "2021-04-09 14:11"
         },
         "type": "Feature"
        },
        {
         "geometry": {
          "coordinates": [
           -1.467351,
           53.318748666666664
          ],
          "type": "Point"
         },
         "properties": {
          "description": "Unknown P2 Awaiting",
          "dno": "np",
          "estimated_restored_time": "2021-04-09 15:07",
          "incident_id": "INCD-170279-A",
          "incident_url": "https://www.northernpowergrid.com/power-cuts",
          "postcodes_impacted": {
           "S8 8FJ": {
            "class": "models.MapDataLocation",
            "lat": 53.3191,
            "lng": -1.46707
           },
           "S8 8FN": {
            "class": "models.MapDataLocation",
            "lat": 53.319,
            "lng": -1.46644
           },
           "S8 8FX": {
            "class": "models.MapDataLocation",
            "lat": 53.3181,
            "lng": -1.4682
           }
          },
          "received_time": "2021-04-09 15:07"
         },
         "type": "Feature"
        },
        {
         "geometry": {
          "coordinates": [
           -0.158767,
           53.90469
          ],
          "type": "Point"
         },
         "properties": {
          "description": "Unknown P2 Awaiting",
          "dno": "np",
          "estimated_restored_time": "2021-04-09 15:25",
          "incident_id": "INCD-170280-A",
          "incident_url": "https://www.northernpowergrid.com/power-cuts",
          "postcodes_impacted": {
           "HU18 1TL": {
            "class": "models.MapDataLocation",
            "lat": 53.9047,
            "lng": -0.158804
           }
          },
          "received_time": "2021-04-09 15:25"
         },
         "type": "Feature"
        },
        {
         "geometry": {
          "coordinates": [
           -1.674378,
           53.683602
          ],
          "type": "Point"
         },
         "properties": {
          "description": "Unknown P2 Awaiting",
          "dno": "np",
          "estimated_restored_time": "2021-04-09 15:29",
          "incident_id": "INCD-170281-A",
          "incident_url": "https://www.northernpowergrid.com/power-cuts",
          "postcodes_impacted": {
           "WF14 0QP": {
            "class": "models.MapDataLocation",
            "lat": 53.6836,
            "lng": -1.67438
           }
          },
          "received_time": "2021-04-09 15:29"
         },
         "type": "Feature"
        },
        {
         "geometry": {
          "coordinates": [
           -1.742347888888889,
           54.95636988888889
          ],
          "type": "Point"
         },
         "properties": {
          "description": "We need to temporarily turn the power off to carry out power upgrades in the area. The scheduled work has now been completed",
          "dno": "np",
          "estimated_restored_time": "2021-04-09 09:00",
          "incident_id": "PPC039123",
          "incident_url": "https://www.northernpowergrid.com/power-cuts",
          "postcodes_impacted": {
           "NE21 4SY": {
            "class": "models.MapDataLocation",
            "lat": 54.9594,
            "lng": -1.74275
           },
           "NE21 4SZ": {
            "class": "models.MapDataLocation",
            "lat": 54.9586,
            "lng": -1.74094
           },
           "NE21 4TA": {
            "class": "models.MapDataLocation",
            "lat": 54.9577,
            "lng": -1.74058
           },
           "NE21 6DZ": {
            "class": "models.MapDataLocation",
            "lat": 54.9561,
            "lng": -1.73382
           },
           "NE21 6JJ": {
            "class": "models.MapDataLocation",
            "lat": 54.9549,
            "lng": -1.74264
           },
           "NE21 6JL": {
            "class": "models.MapDataLocation",
            "lat": 54.9554,
            "lng": -1.74139
           },
           "NE21 6JN": {
            "class": "models.MapDataLocation",
            "lat": 54.955,
            "lng": -1.74665
           },
           "NE21 6JR": {
            "class": "models.MapDataLocation",
            "lat": 54.9543,
            "lng": -1.74083
           },
           "NE21 6JW": {
            "class": "models.MapDataLocation",
            "lat": 54.9562,
            "lng": -1.75156
           }
          },
          "received_time": "2021-04-09 09:00"
         },
         "type": "Feature"
        },
        {
         "geometry": {
          "coordinates": [
           -0.42100866666666664,
           53.52336033333333
          ],
          "type": "Point"
         },
         "properties": {
          "description": "We need to temporarily turn the power off to undertake vegetation management in the area. The scheduled work has now been completed",
          "dno": "np",
          "estimated_restored_time": "2021-04-09 08:00",
          "incident_id": "PPC039174",
          "incident_url": "https://www.northernpowergrid.com/power-cuts",
          "postcodes_impacted": {
           "LN7 6JY": {
            "class": "models.MapDataLocation",
            "lat": 53.5228,
            "lng": -0.419666
           },
           "LN7 6JZ": {
            "class": "models.MapDataLocation",
            "lat": 53.5237,
            "lng": -0.42138
           },
           "LN7 6LQ": {
            "class": "models.MapDataLocation",
            "lat": 53.5236,
            "lng": -0.422199
           }
          },
          "received_time": "2021-04-09 08:00"
         },
         "type": "Feature"
        },
        {
         "geometry": {
          "coordinates": [
           -0.9410763333333333,
           54.32728233333333
          ],
          "type": "Point"
         },
         "properties": {
          "description": "We need to temporarily turn the power off to carry out maintenance on our network in the area. The scheduled work has now been completed",
          "dno": "np",
          "estimated_restored_time": "2021-04-09 09:30",
          "incident_id": "PPC039180",
          "incident_url": "https://www.northernpowergrid.com/power-cuts",
          "postcodes_impacted": {
           "YO62 6UN": {
            "class": "models.MapDataLocation",
            "lat": 54.3246,
            "lng": -0.925091
           },
           "YO62 7XH": {
            "class": "models.MapDataLocation",
            "lat": 54.3354,
            "lng": -0.953371
           },
           "YO62 7XJ": {
            "class": "models.MapDataLocation",
            "lat": 54.3245,
            "lng": -0.94825
           }
          },
          "received_time": "2021-04-09 09:30"
         },
         "type": "Feature"
        },
        {
         "geometry": {
          "coordinates": [
           -0.955343,
           54.30004
          ],
          "type": "Point"
         },
         "properties": {
          "description": "We need to temporarily turn the power off to carry out maintenance on our network in the area. The scheduled work has now been completed",
          "dno": "np",
          "estimated_restored_time": "2021-04-09 10:30",
          "incident_id": "PPC039181",
          "incident_url": "https://www.northernpowergrid.com/power-cuts",
          "postcodes_impacted": {
           "YO62 7HX": {
            "class": "models.MapDataLocation",
            "lat": 54.3013,
            "lng": -0.952977
           }
          },
          "received_time": "2021-04-09 10:30"
         },
         "type": "Feature"
        },
        {
         "geometry": {
          "coordinates": [
           -1.749965,
           54.612673
          ],
          "type": "Point"
         },
         "properties": {
          "description": "We need to temporarily turn the power off to undertake vegetation management in the area. The scheduled work has now been completed",
          "dno": "np",
          "estimated_restored_time": "2021-04-09 08:00",
          "incident_id": "PPC039351",
          "incident_url": "https://www.northernpowergrid.com/power-cuts",
          "postcodes_impacted": {
           "DL14 9NW": {
            "class": "models.MapDataLocation",
            "lat": 54.6127,
            "lng": -1.74999
           }
          },
          "received_time": "2021-04-09 08:00"
         },
         "type": "Feature"
        },
        {
         "geometry": {
          "coordinates": [
           -2.0572915,
           55.145398
          ],
          "type": "Point"
         },
         "properties": {
          "description": "We need to temporarily turn the power off to carry out replacement of poles that support our overhead power lines in the area. The scheduled work has now been completed",
          "dno": "np",
          "estimated_restored_time": "2021-04-09 08:00",
          "incident_id": "PPC039370",
          "incident_url": "https://www.northernpowergrid.com/power-cuts",
          "postcodes_impacted": {
           "NE48 2RJ": {
            "class": "models.MapDataLocation",
            "lat": 55.1631,
            "lng": -2.18123
           },
           "NE61 4AE": {
            "class": "models.MapDataLocation",
            "lat": 55.1278,
            "lng": -1.93382
           }
          },
          "received_time": "2021-04-09 08:00"
         },
         "type": "Feature"
        },
        {
         "geometry": {
          "coordinates": [
           -1.7050999166666665,
           54.83020033333332
          ],
          "type": "Point"
         },
         "properties": {
          "description": "We need to temporarily turn the power off to carry out replacement of poles that support our overhead power lines in the area. The scheduled work has now been completed",
          "dno": "np",
          "estimated_restored_time": "2021-04-09 09:00",
          "incident_id": "PPC039545",
          "incident_url": "https://www.northernpowergrid.com/power-cuts",
          "postcodes_impacted": {
           "DH7 0AB": {
            "class": "models.MapDataLocation",
            "lat": 54.828,
            "lng": -1.70789
           },
           "DH7 0BE": {
            "class": "models.MapDataLocation",
            "lat": 54.8309,
            "lng": -1.70283
           },
           "DH7 0BP": {
            "class": "models.MapDataLocation",
            "lat": 54.8302,
            "lng": -1.70595
           },
           "DH7 0BW": {
            "class": "models.MapDataLocation",
            "lat": 54.8303,
            "lng": -1.70582
           },
           "DH7 0DA": {
            "class": "models.MapDataLocation",
            "lat": 54.83,
            "lng": -1.70505
           },
           "DH7 0DB": {
            "class": "models.MapDataLocation",
            "lat": 54.8293,
            "lng": -1.70363
           },
           "DH7 0DD": {
            "class": "models.MapDataLocation",
            "lat": 54.8316,
            "lng": -1.70454
           },
           "DH7 0DE": {
            "class": "models.MapDataLocation",
            "lat": 54.8306,
            "lng": -1.70542
           },
           "DH7 0DL": {
            "class": "models.MapDataLocation",
            "lat": 54.8264,
            "lng": -1.71245
           },
           "DH7 0DP": {
            "class": "models.MapDataLocation",
            "lat": 54.832,
            "lng": -1.70159
           },
           "DH7 0EA": {
            "class": "models.MapDataLocation",
            "lat": 54.8307,
            "lng": -1.70439
           },
           "DH7 0EQ": {
            "class": "models.MapDataLocation",
            "lat": 54.8328,
            "lng": -1.70149
           }
          },
          "received_time": "2021-04-09 09:00"
         },
         "type": "Feature"
        },
        {
         "geometry": {
          "coordinates": [
           -0.489816,
           53.548350666666664
          ],
          "type": "Point"
         },
         "properties": {
          "description": "We need to temporarily turn the power off to undertake vegetation management in the area. The scheduled work has now been completed",
          "dno": "np",
          "estimated_restored_time": "2021-04-09 08:00",
          "incident_id": "PPC039560",
          "incident_url": "https://www.northernpowergrid.com/power-cuts",
          "postcodes_impacted": {
           "DN20 8NA": {
            "class": "models.MapDataLocation",
            "lat": 53.549,
            "lng": -0.497721
           },
           "DN20 9EY": {
            "class": "models.MapDataLocation",
            "lat": 53.548,
            "lng": -0.480793
           },
           "DN20 9HW": {
            "class": "models.MapDataLocation",
            "lat": 53.5481,
            "lng": -0.490945
           }
          },
          "received_time": "2021-04-09 08:00"
         },
         "type": "Feature"
        },
        {
         "geometry": {
          "coordinates": [
           -2.1493645,
           54.003866
          ],
          "type": "Point"
         },
         "properties": {
          "description": "We need to temporarily turn the power off to undertake vegetation management in the area. The scheduled work has now been completed",
          "dno": "np",
          "estimated_restored_time": "2021-04-09 08:00",
          "incident_id": "PPC039568",
          "incident_url": "https://www.northernpowergrid.com/power-cuts",
          "postcodes_impacted": {
           "BD23 4DT": {
            "class": "models.MapDataLocation",
            "lat": 54.0057,
            "lng": -2.15277
           },
           "BD23 4DU": {
            "class": "models.MapDataLocation",
            "lat": 54.002,
            "lng": -2.14596
           }
          },
          "received_time": "2021-04-09 08:00"
         },
         "type": "Feature"
        },
        {
         "geometry": {
          "coordinates": [
           -1.771655375,
           54.972390250000004
          ],
          "type": "Point"
         },
         "properties": {
          "description": "We need to temporarily turn the power off to carry out replacement work on our overhead power lines in the area. The scheduled work has now been completed",
          "dno": "np",
          "estimated_restored_time": "2021-04-09 08:30",
          "incident_id": "PPC039725",
          "incident_url": "https://www.northernpowergrid.com/power-cuts",
          "postcodes_impacted": {
           "NE40 3AA": {
            "class": "models.MapDataLocation",
            "lat": 54.9727,
            "lng": -1.77236
           },
           "NE40 3AJ": {
            "class": "models.MapDataLocation",
            "lat": 54.9727,
            "lng": -1.77118
           },
           "NE40 3AN": {
            "class": "models.MapDataLocation",
            "lat": 54.9736,
            "lng": -1.7705
           },
           "NE40 3AQ": {
            "class": "models.MapDataLocation",
            "lat": 54.9721,
            "lng": -1.77168
           },
           "NE40 3AR": {
            "class": "models.MapDataLocation",
            "lat": 54.9711,
            "lng": -1.77417
           },
           "NE40 3AT": {
            "class": "models.MapDataLocation",
            "lat": 54.9715,
            "lng": -1.77429
           },
           "NE40 3AW": {
            "class": "models.MapDataLocation",
            "lat": 54.9729,
            "lng": -1.77177
           },
           "NE40 3BT": {
            "class": "models.MapDataLocation",
            "lat": 54.9725,
            "lng": -1.76669
           }
          },
          "received_time": "2021-04-09 08:30"
         },
         "type": "Feature"
        },
        {
         "geometry": {
          "coordinates": [
           -1.6117693333333332,
           54.801897999999994
          ],
          "type": "Point"
         },
         "properties": {
          "description": "We need to temporarily turn the power off to connect a new customer in the area. The scheduled work has now been completed",
          "dno": "np",
          "estimated_restored_time": "2021-04-09 08:30",
          "incident_id": "PPC039749",
          "incident_url": "https://www.northernpowergrid.com/power-cuts",
          "postcodes_impacted": {
           "DH1 5RD": {
            "class": "models.MapDataLocation",
            "lat": 54.8011,
            "lng": -1.61093
           },
           "DH1 5RH": {
            "class": "models.MapDataLocation",
            "lat": 54.8027,
            "lng": -1.61063
           },
           "DH1 5RQ": {
            "class": "models.MapDataLocation",
            "lat": 54.8021,
            "lng": -1.6124
           }
          },
          "received_time": "2021-04-09 08:30"
         },
         "type": "Feature"
        },
        {
         "geometry": {
          "coordinates": [
           -1.794438375,
           53.75785825
          ],
          "type": "Point"
         },
         "properties": {
          "description": "We need to temporarily turn the power off to carry out a permanent repair in the area. The scheduled work has now been completed",
          "dno": "np",
          "estimated_restored_time": "2021-04-09 09:00",
          "incident_id": "PPC039763",
          "incident_url": "https://www.northernpowergrid.com/power-cuts",
          "postcodes_impacted": {
           "BD6 2PZ": {
            "class": "models.MapDataLocation",
            "lat": 53.756,
            "lng": -1.78804
           },
           "BD6 2QG": {
            "class": "models.MapDataLocation",
            "lat": 53.7571,
            "lng": -1.78951
           },
           "BD6 2QL": {
            "class": "models.MapDataLocation",
            "lat": 53.7571,
            "lng": -1.79096
           },
           "BD6 2RE": {
            "class": "models.MapDataLocation",
            "lat": 53.7564,
            "lng": -1.79759
           },
           "BD6 2RH": {
            "class": "models.MapDataLocation",
            "lat": 53.7563,
            "lng": -1.79824
           },
           "BD6 2RL": {
            "class": "models.MapDataLocation",
            "lat": 53.7563,
            "lng": -1.79824
           },
           "BD6 2SB": {
            "class": "models.MapDataLocation",
            "lat": 53.7549,
            "lng": -1.7892
           },
           "BD6 3EW": {
            "class": "models.MapDataLocation",
            "lat": 53.7687,
            "lng": -1.80334
           }
          },
          "received_time": "2021-04-09 09:00"
         },
         "type": "Feature"
        },
        {
         "geometry": {
          "coordinates": [
           -1.605714,
           53.962257
          ],
          "type": "Point"
         },
         "properties": {
          "description": "We need to temporarily turn the power off to connect a new customer in the area. The scheduled work has now been completed",
          "dno": "np",
          "estimated_restored_time": "2021-04-09 08:00",
          "incident_id": "PPC039771",
          "incident_url": "https://www.northernpowergrid.com/power-cuts",
          "postcodes_impacted": {
           "HG3 1QU": {
            "class": "models.MapDataLocation",
            "lat": 53.9623,
            "lng": -1.60567
           }
          },
          "received_time": "2021-04-09 08:00"
         },
         "type": "Feature"
        },
        {
         "geometry": {
          "coordinates": [
           -1.6286264,
           53.708773799999996
          ],
          "type": "Point"
         },
         "properties": {
          "description": "We need to temporarily turn the power off to carry out a permanent repair in the area. The scheduled work has now been completed",
          "dno": "np",
          "estimated_restored_time": "2021-04-09 09:00",
          "incident_id": "PPC039814",
          "incident_url": "https://www.northernpowergrid.com/power-cuts",
          "postcodes_impacted": {
           "WF17 5AY": {
            "class": "models.MapDataLocation",
            "lat": 53.709,
            "lng": -1.63158
           },
           "WF17 5PT": {
            "class": "models.MapDataLocation",
            "lat": 53.7093,
            "lng": -1.62903
           },
           "WF17 5PU": {
            "class": "models.MapDataLocation",
            "lat": 53.7093,
            "lng": -1.62802
           },
           "WF17 5QA": {
            "class": "models.MapDataLocation",
            "lat": 53.7084,
            "lng": -1.62747
           },
           "WF17 6HY": {
            "class": "models.MapDataLocation",
            "lat": 53.7079,
            "lng": -1.62697
           }
          },
          "received_time": "2021-04-09 09:00"
         },
         "type": "Feature"
        },
        {
         "geometry": {
          "coordinates": [
           -1.5727946666666668,
           53.79574866666667
          ],
          "type": "Point"
         },
         "properties": {
          "description": "We need to temporarily turn the power off to carry out a permanent repair in the area. The scheduled work has now been completed",
          "dno": "np",
          "estimated_restored_time": "2021-04-09 10:00",
          "incident_id": "PPC039816",
          "incident_url": "https://www.northernpowergrid.com/power-cuts",
          "postcodes_impacted": {
           "LS12 1YL": {
            "class": "models.MapDataLocation",
            "lat": 53.7956,
            "lng": -1.57288
           },
           "LS12 1YN": {
            "class": "models.MapDataLocation",
            "lat": 53.7961,
            "lng": -1.57252
           },
           "LS12 2UB": {
            "class": "models.MapDataLocation",
            "lat": 53.7955,
            "lng": -1.57297
           }
          },
          "received_time": "2021-04-09 10:00"
         },
         "type": "Feature"
        },
        {
         "geometry": {
          "coordinates": [
           -1.8418359999999998,
           53.851959
          ],
          "type": "Point"
         },
         "properties": {
          "description": "We need to temporarily turn the power off to carry out a permanent repair in the area. The scheduled work has now been completed",
          "dno": "np",
          "estimated_restored_time": "2021-04-09 09:00",
          "incident_id": "PPC039818",
          "incident_url": "https://www.northernpowergrid.com/power-cuts",
          "postcodes_impacted": {
           "BD16 2RD": {
            "class": "models.MapDataLocation",
            "lat": 53.8519,
            "lng": -1.84021
           },
           "BD16 2RH": {
            "class": "models.MapDataLocation",
            "lat": 53.8516,
            "lng": -1.8417
           },
           "BD16 2RJ": {
            "class": "models.MapDataLocation",
            "lat": 53.8523,
            "lng": -1.84246
           },
           "BD16 2RL": {
            "class": "models.MapDataLocation",
            "lat": 53.852,
            "lng": -1.84306
           }
          },
          "received_time": "2021-04-09 09:00"
         },
         "type": "Feature"
        },
        {
         "geometry": {
          "coordinates": [
           -1.0595995,
           53.782326000000005
          ],
          "type": "Point"
         },
         "properties": {
          "description": "We need to temporarily turn the power off to carry out a permanent repair in the area. The scheduled work has now been completed",
          "dno": "np",
          "estimated_restored_time": "2021-04-09 08:30",
          "incident_id": "PPC039821",
          "incident_url": "https://www.northernpowergrid.com/power-cuts",
          "postcodes_impacted": {
           "YO8 8BJ": {
            "class": "models.MapDataLocation",
            "lat": 53.7823,
            "lng": -1.06122
           },
           "YO8 8BL": {
            "class": "models.MapDataLocation",
            "lat": 53.7829,
            "lng": -1.06028
           },
           "YO8 8BN": {
            "class": "models.MapDataLocation",
            "lat": 53.7821,
            "lng": -1.05951
           },
           "YO8 8BW": {
            "class": "models.MapDataLocation",
            "lat": 53.7822,
            "lng": -1.05721
           }
          },
          "received_time": "2021-04-09 08:30"
         },
         "type": "Feature"
        },
        {
         "geometry": {
          "coordinates": [
           -1.619974,
           53.591376
          ],
          "type": "Point"
         },
         "properties": {
          "description": "We need to temporarily turn the power off to carry out power upgrades in the area. Work is scheduled to start",
          "dno": "np",
          "estimated_restored_time": "2021-04-09 16:00",
          "incident_id": "PPC039826",
          "incident_url": "https://www.northernpowergrid.com/power-cuts",
          "postcodes_impacted": {
           "HD8 9HH": {
            "class": "models.MapDataLocation",
            "lat": 53.5916,
            "lng": -1.61966
           }
          },
          "received_time": "2021-04-09 16:00"
         },
         "type": "Feature"
        }
       ],
       "type": "FeatureCollection"
      },
      "text/plain": [
       "<IPython.core.display.JSON object>"
      ]
     },
     "execution_count": 24,
     "metadata": {
      "application/json": {
       "expanded": false,
       "root": "root"
      }
     },
     "output_type": "execute_result"
    }
   ],
   "source": [
    "outages_geojson = json.loads(gdf_outages.to_json(drop_id=True))\n",
    "\n",
    "JSON(outages_geojson)"
   ]
  },
  {
   "cell_type": "code",
   "execution_count": null,
   "id": "activated-pollution",
   "metadata": {},
   "outputs": [],
   "source": []
  },
  {
   "cell_type": "code",
   "execution_count": 25,
   "id": "micro-child",
   "metadata": {},
   "outputs": [],
   "source": [
    "rendered_map_js = Template(open('../templates/map_js.j2').read()).render(\n",
    "    zoom=5,\n",
    "    center=[53.96, -3.22],\n",
    "    geojson_features=str(outages_geojson).replace('None', 'null')\n",
    ")\n",
    "\n",
    "with open('../docs/map.js', 'w', encoding='utf8') as fp:\n",
    "    fp.write(rendered_map_js)"
   ]
  },
  {
   "cell_type": "code",
   "execution_count": null,
   "id": "quality-borough",
   "metadata": {},
   "outputs": [],
   "source": []
  },
  {
   "cell_type": "code",
   "execution_count": 26,
   "id": "mighty-portuguese",
   "metadata": {},
   "outputs": [
    {
     "data": {
      "text/html": [
       "<div>\n",
       "<style scoped>\n",
       "    .dataframe tbody tr th:only-of-type {\n",
       "        vertical-align: middle;\n",
       "    }\n",
       "\n",
       "    .dataframe tbody tr th {\n",
       "        vertical-align: top;\n",
       "    }\n",
       "\n",
       "    .dataframe thead th {\n",
       "        text-align: right;\n",
       "    }\n",
       "</style>\n",
       "<table border=\"1\" class=\"dataframe\">\n",
       "  <thead>\n",
       "    <tr style=\"text-align: right;\">\n",
       "      <th></th>\n",
       "      <th>Incident</th>\n",
       "      <th>Received Time</th>\n",
       "      <th>Estimated Restored Time</th>\n",
       "      <th>Postcodes Impacted</th>\n",
       "      <th>Operator</th>\n",
       "      <th>Description</th>\n",
       "    </tr>\n",
       "  </thead>\n",
       "  <tbody>\n",
       "    <tr>\n",
       "      <th>13</th>\n",
       "      <td>&lt;a href=\"https://www.ukpowernetworks.co.uk/pow...</td>\n",
       "      <td>2021-04-09 16:07</td>\n",
       "      <td>2021-04-09 20:30</td>\n",
       "      <td>TN39PH, TN39QY, TN39QZ, TN39RA, TN39RB, TN39RE...</td>\n",
       "      <td>UKPN</td>\n",
       "      <td>A fault occurred on a piece of our electrical ...</td>\n",
       "    </tr>\n",
       "    <tr>\n",
       "      <th>14</th>\n",
       "      <td>&lt;a href=\"https://www.ukpowernetworks.co.uk/pow...</td>\n",
       "      <td>2021-04-09 16:05</td>\n",
       "      <td>2021-04-09 19:30</td>\n",
       "      <td>E81FG, E81GP, E81NG, E81DB, E81DE, E81DJ, E81P...</td>\n",
       "      <td>UKPN</td>\n",
       "      <td>A fault occurred on a piece of our electrical ...</td>\n",
       "    </tr>\n",
       "    <tr>\n",
       "      <th>111</th>\n",
       "      <td>&lt;a href=\"https://www.northernpowergrid.com/pow...</td>\n",
       "      <td>2021-04-09 16:00</td>\n",
       "      <td>2021-04-09 16:00</td>\n",
       "      <td>HD8 9HH</td>\n",
       "      <td>NP</td>\n",
       "      <td>We need to temporarily turn the power off to c...</td>\n",
       "    </tr>\n",
       "  </tbody>\n",
       "</table>\n",
       "</div>"
      ],
      "text/plain": [
       "                                              Incident     Received Time  \\\n",
       "13   <a href=\"https://www.ukpowernetworks.co.uk/pow...  2021-04-09 16:07   \n",
       "14   <a href=\"https://www.ukpowernetworks.co.uk/pow...  2021-04-09 16:05   \n",
       "111  <a href=\"https://www.northernpowergrid.com/pow...  2021-04-09 16:00   \n",
       "\n",
       "    Estimated Restored Time  \\\n",
       "13         2021-04-09 20:30   \n",
       "14         2021-04-09 19:30   \n",
       "111        2021-04-09 16:00   \n",
       "\n",
       "                                    Postcodes Impacted Operator  \\\n",
       "13   TN39PH, TN39QY, TN39QZ, TN39RA, TN39RB, TN39RE...     UKPN   \n",
       "14   E81FG, E81GP, E81NG, E81DB, E81DE, E81DJ, E81P...     UKPN   \n",
       "111                                            HD8 9HH       NP   \n",
       "\n",
       "                                           Description  \n",
       "13   A fault occurred on a piece of our electrical ...  \n",
       "14   A fault occurred on a piece of our electrical ...  \n",
       "111  We need to temporarily turn the power off to c...  "
      ]
     },
     "execution_count": 26,
     "metadata": {},
     "output_type": "execute_result"
    }
   ],
   "source": [
    "df_outages_clean = pd.DataFrame()\n",
    "\n",
    "df_outages_clean['Incident'] = df_outages.agg(lambda x: f\"<a href=\\\"{x['incident_url']}\\\" target=\\\"_blank\\\">{x['incident_id']}</a>\", axis=1)\n",
    "df_outages_clean['Received Time'] = pd.to_datetime(df_outages['received_time']).dt.strftime('%Y-%m-%d %H:%M').fillna('Unknown')\n",
    "df_outages_clean['Estimated Restored Time'] = pd.to_datetime(df_outages['estimated_restored_time']).dt.strftime('%Y-%m-%d %H:%M').fillna('Unknown')\n",
    "df_outages_clean['Postcodes Impacted'] = df_outages['postcodes_impacted'].str.join(', ')\n",
    "df_outages_clean['Operator'] = df_outages['dno'].str.upper()\n",
    "df_outages_clean['Description'] = df_outages['description'].str.replace('\\n', '<br>')\n",
    "\n",
    "df_outages_clean = df_outages_clean.sort_values('Received Time', ascending=False)\n",
    "\n",
    "df_outages_clean.head(3)"
   ]
  },
  {
   "cell_type": "code",
   "execution_count": null,
   "id": "choice-surveillance",
   "metadata": {},
   "outputs": [],
   "source": []
  },
  {
   "cell_type": "code",
   "execution_count": 27,
   "id": "imported-international",
   "metadata": {},
   "outputs": [],
   "source": [
    "rendered_index_md = Template(open('../templates/index_md.j2').read()).render(\n",
    "    map_width='600px',\n",
    "    map_height='500px',\n",
    "    md_table=df_outages_clean.to_markdown(index=False)\n",
    ")\n",
    "\n",
    "with open('../docs/index.md', 'w', encoding='utf8') as fp:\n",
    "    fp.write(rendered_index_md)"
   ]
  },
  {
   "cell_type": "code",
   "execution_count": null,
   "id": "compliant-consortium",
   "metadata": {},
   "outputs": [],
   "source": []
  },
  {
   "cell_type": "code",
   "execution_count": null,
   "id": "distributed-middle",
   "metadata": {},
   "outputs": [],
   "source": []
  },
  {
   "cell_type": "code",
   "execution_count": null,
   "id": "polyphonic-canal",
   "metadata": {},
   "outputs": [],
   "source": []
  },
  {
   "cell_type": "code",
   "execution_count": null,
   "id": "billion-riverside",
   "metadata": {},
   "outputs": [],
   "source": []
  }
 ],
 "metadata": {
  "kernelspec": {
   "display_name": "outage",
   "language": "python",
   "name": "outage"
  },
  "language_info": {
   "codemirror_mode": {
    "name": "ipython",
    "version": 3
   },
   "file_extension": ".py",
   "mimetype": "text/x-python",
   "name": "python",
   "nbconvert_exporter": "python",
   "pygments_lexer": "ipython3",
   "version": "3.7.10"
  }
 },
 "nbformat": 4,
 "nbformat_minor": 5
}

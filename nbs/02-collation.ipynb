{
 "cells": [
  {
   "cell_type": "code",
   "execution_count": 1,
   "id": "generic-recovery",
   "metadata": {},
   "outputs": [],
   "source": [
    "# default_exp collation"
   ]
  },
  {
   "cell_type": "markdown",
   "id": "corrected-integer",
   "metadata": {},
   "source": [
    "# Outage Data Collation\n",
    "\n",
    "<br>\n",
    "\n",
    "### Imports"
   ]
  },
  {
   "cell_type": "code",
   "execution_count": 2,
   "id": "integrated-scene",
   "metadata": {},
   "outputs": [],
   "source": [
    "import json\n",
    "import numpy as np\n",
    "import pandas as pd\n",
    "import geopandas as gpd\n",
    "\n",
    "from outage import retrieval\n",
    "\n",
    "import matplotlib.pyplot as plt\n",
    "\n",
    "import os\n",
    "import requests\n",
    "from warnings import warn\n",
    "from jinja2 import Template\n",
    "\n",
    "from ipypb import track\n",
    "from IPython.display import JSON"
   ]
  },
  {
   "cell_type": "code",
   "execution_count": null,
   "id": "better-subsection",
   "metadata": {},
   "outputs": [],
   "source": []
  },
  {
   "cell_type": "code",
   "execution_count": 3,
   "id": "planned-retrieval",
   "metadata": {},
   "outputs": [],
   "source": [
    "#exports\n",
    "def collate_cleaned_incidents_info(dnos=['ukpn', 'ssen', 'wpd', 'sp', 'np', 'enw']):\n",
    "    cleaned_incidents_info = dict()\n",
    "\n",
    "    for dno in track(dnos, label='DNOs'):\n",
    "        raw_dno_incidents_info, cleaned_dno_incidents_info = getattr(retrieval, f'get_{dno}_incidents_info')()\n",
    "        cleaned_incidents_info[dno] = cleaned_dno_incidents_info\n",
    "        retrieval.save_json_data(raw_dno_incidents_info, f'{dno}_incidents_info')\n",
    "        \n",
    "    return cleaned_incidents_info"
   ]
  },
  {
   "cell_type": "code",
   "execution_count": 4,
   "id": "ranking-dating",
   "metadata": {},
   "outputs": [
    {
     "data": {
      "text/html": [
       "<div><span class=\"Text-label\" style=\"display:inline-block; overflow:hidden; white-space:nowrap; text-overflow:ellipsis; min-width:15ex; max-width:15ex; vertical-align:middle; text-align:right\">DNOs</span>\n",
       "<progress style=\"width:45ex\" max=\"6\" value=\"6\" class=\"Progress-main\"/></progress>\n",
       "<span class=\"Progress-label\"><strong>100%</strong></span>\n",
       "<span class=\"Iteration-label\">6/6</span>\n",
       "<span class=\"Time-label\">[00:42<00:00, 7.00s/it]</span></div>"
      ],
      "text/plain": [
       "\u001b[A\u001b[2K\r",
       "           DNOs [█████████████████████████████████████████████] 6/6 [00:42<00:00, 7.00s/it]\u001b[B"
      ]
     },
     "metadata": {},
     "output_type": "display_data"
    },
    {
     "data": {
      "text/html": [
       "<div><span class=\"Text-label\" style=\"display:inline-block; overflow:hidden; white-space:nowrap; text-overflow:ellipsis; min-width:15ex; max-width:15ex; vertical-align:middle; text-align:right\">Multiple Ids</span>\n",
       "<progress style=\"width:45ex\" max=\"16\" value=\"16\" class=\"Progress-main\"/></progress>\n",
       "<span class=\"Progress-label\"><strong>100%</strong></span>\n",
       "<span class=\"Iteration-label\">16/16</span>\n",
       "<span class=\"Time-label\">[00:04<00:00, 0.26s/it]</span></div>"
      ],
      "text/plain": [
       "\u001b[A\u001b[2K\r",
       "   Multiple Ids [█████████████████████████████████████████████] 16/16 [00:04<00:00, 0.26s/it]"
      ]
     },
     "metadata": {},
     "output_type": "display_data"
    },
    {
     "data": {
      "text/html": [
       "<div><span class=\"Text-label\" style=\"display:inline-block; overflow:hidden; white-space:nowrap; text-overflow:ellipsis; min-width:15ex; max-width:15ex; vertical-align:middle; text-align:right\">Details</span>\n",
       "<progress style=\"width:45ex\" max=\"125\" value=\"125\" class=\"Progress-main\"/></progress>\n",
       "<span class=\"Progress-label\"><strong>100%</strong></span>\n",
       "<span class=\"Iteration-label\">125/125</span>\n",
       "<span class=\"Time-label\">[00:30<00:00, 0.24s/it]</span></div>"
      ],
      "text/plain": [
       "\u001b[A\u001b[2K\r",
       "        Details [█████████████████████████████████████████████] 125/125 [00:30<00:00, 0.24s/it]"
      ]
     },
     "metadata": {},
     "output_type": "display_data"
    },
    {
     "name": "stderr",
     "output_type": "stream",
     "text": [
      "C:\\Users\\Ayrto\\anaconda3\\envs\\outage\\lib\\site-packages\\urllib3\\connectionpool.py:1020: InsecureRequestWarning: Unverified HTTPS request is being made to host 'www.ssen.co.uk'. Adding certificate verification is strongly advised. See: https://urllib3.readthedocs.io/en/latest/advanced-usage.html#ssl-warnings\n",
      "  InsecureRequestWarning,\n"
     ]
    },
    {
     "data": {
      "text/html": [
       "<div><span class=\"Text-label\" style=\"display:inline-block; overflow:hidden; white-space:nowrap; text-overflow:ellipsis; min-width:0; max-width:15ex; vertical-align:middle; text-align:right\"></span>\n",
       "<progress style=\"width:60ex\" max=\"6\" value=\"6\" class=\"Progress-main\"/></progress>\n",
       "<span class=\"Progress-label\"><strong>100%</strong></span>\n",
       "<span class=\"Iteration-label\">6/6</span>\n",
       "<span class=\"Time-label\">[00:00<00:00, 0.00s/it]</span></div>"
      ],
      "text/plain": [
       "\u001b[A\u001b[2K\r",
       " [████████████████████████████████████████████████████████████] 6/6 [00:00<00:00, 0.00s/it]"
      ]
     },
     "metadata": {},
     "output_type": "display_data"
    },
    {
     "name": "stderr",
     "output_type": "stream",
     "text": [
      "c:\\users\\ayrto\\desktop\\side projects\\outage-watch\\outage\\retrieval.py:237: GuessedAtParserWarning: No parser was explicitly specified, so I'm using the best available HTML parser for this system (\"lxml\"). This usually isn't a problem, but if you run this code on another system, or in a different virtual environment, it may use a different parser and behave differently.\n",
      "\n",
      "The code that caused this warning is on line 237 of the file c:\\users\\ayrto\\desktop\\side projects\\outage-watch\\outage\\retrieval.py. To get rid of this warning, pass the additional argument 'features=\"lxml\"' to the BeautifulSoup constructor.\n",
      "\n",
      "  soup = bs(r.text)\n"
     ]
    },
    {
     "data": {
      "application/json": [
       {
        "enw": {
         "10641810": {
          "description": "Good news! Our engineers have completed the work in your area and the planned power cut has now been restored.",
          "estimated_restored_time": "2021-04-09 14:32",
          "incident_active": false,
          "incident_url": "https://www.enwl.co.uk/power-cuts/power-cuts-power-cuts-live-power-cut-information-fault-list/fault-list",
          "postcodes_impacted": [
           "M24 2UD",
           "M24 2UA",
           "M24 2SB",
           "M24 2SA",
           "M24 2RE",
           "M24 2RD",
           "M24 2RB",
           "M24 2RA"
          ],
          "received_time": "2021-04-09 14:32"
         },
         "10642156": {
          "description": "Good news! The power cut in your area caused by an unexpected incident on our high voltage cable has now been resolved.",
          "estimated_restored_time": "2021-04-09 09:42",
          "incident_active": false,
          "incident_url": "https://www.enwl.co.uk/power-cuts/power-cuts-power-cuts-live-power-cut-information-fault-list/fault-list",
          "postcodes_impacted": [
           "WA15 6TL",
           "WA15 6TN",
           "WA15 6TR",
           "WA15 6TP",
           "WA15 6TW"
          ],
          "received_time": "2021-04-09 09:42"
         },
         "10642292": {
          "description": "We carry out planned power cuts to improve the reliability of your electricity supply and so our engineers can safely work on the cables that provide electricity to your property.",
          "estimated_restored_time": "",
          "incident_active": false,
          "incident_url": "https://www.enwl.co.uk/power-cuts/power-cuts-power-cuts-live-power-cut-information-fault-list/fault-list",
          "postcodes_impacted": [
           "SK23 0QU",
           "SK12 6QU"
          ],
          "received_time": "2021-04-14 00:00"
         },
         "10642295": {
          "description": "We carry out planned power cuts to improve the reliability of your electricity supply and so our engineers can safely work on the cables that provide electricity to your property.",
          "estimated_restored_time": "",
          "incident_active": false,
          "incident_url": "https://www.enwl.co.uk/power-cuts/power-cuts-power-cuts-live-power-cut-information-fault-list/fault-list",
          "postcodes_impacted": [
           "SK22 4AA",
           "SK22 3PB",
           "SK22 3JB",
           "SK22 3JA",
           "SK22 3EB",
           "SK22 3EA",
           "SK22 3DZ",
           "SK22 3DY",
           "SK22 3DX",
           "SK22 3DW",
           "SK22 3DU",
           "SK22 3DT",
           "SK22 3DS",
           "SK22 3DR",
           "SK22 3DP",
           "SK22 3DN",
           "SK22 3DD",
           "SK22 3DA",
           "SK22 3BZ",
           "SK22 3BY",
           "SK22 3BW",
           "SK22 3BR",
           "SK22 3BP",
           "SK22 3BL",
           "SK22 3BG",
           "SK22 1BJ",
           "SK12 3JB",
           "SK12 3EA",
           "SK12 3DW",
           "SK12 3DT",
           "SK12 3DR",
           "SK12 3DP",
           "SK12 3BW"
          ],
          "received_time": "2021-04-15 00:00"
         },
         "10642554": {
          "description": "We carry out planned power cuts to improve the reliability of your electricity supply and so our engineers can safely work on the cables that provide electricity to your property.",
          "estimated_restored_time": "",
          "incident_active": false,
          "incident_url": "https://www.enwl.co.uk/power-cuts/power-cuts-power-cuts-live-power-cut-information-fault-list/fault-list",
          "postcodes_impacted": [
           "SK56 6QG",
           "SK5 6UX",
           "SK5 6TA",
           "SK5 6SZ",
           "SK5 6SW",
           "SK5 6SU",
           "SK5 6SP",
           "SK5 6SN",
           "SK5 6SL",
           "SK5 6SD",
           "SK5 6SB",
           "SK5 6QW",
           "SK5 6QQ",
           "SK5 6QP",
           "SK5 6QL",
           "SK5 6QJ",
           "SK5 6QH",
           "SK5 6QG",
           "SK5 6QF",
           "SK5 6QE",
           "SK5 6QD",
           "SK5 6QB",
           "SK5 6QA",
           "M34 2HT",
           "M34 2HS",
           "M34 2HR",
           "M34 2HQ",
           "M34 2HG"
          ],
          "received_time": "2021-04-12 00:00"
         },
         "10643120": {
          "description": "We carry out planned power cuts to improve the reliability of your electricity supply and so our engineers can safely work on the cables that provide electricity to your property.",
          "estimated_restored_time": "",
          "incident_active": false,
          "incident_url": "https://www.enwl.co.uk/power-cuts/power-cuts-power-cuts-live-power-cut-information-fault-list/fault-list",
          "postcodes_impacted": [
           "WA15 8RW",
           "WA15 8RN",
           "WA15 8RL",
           "WA15 8QE",
           "WA15 8QD",
           "WA15 8PY",
           "WA15 8PU",
           "WA15 8NP",
           "WA15 8NA",
           "WA15 8LZ",
           "WA15 8LY",
           "WA15 8LX",
           "WA15 8LU",
           "WA15 8LT",
           "WA15 8LS",
           "WA15 8LR",
           "WA15 8LQ",
           "WA15 8LH",
           "WA15 8JZ",
           "WA15 8JY",
           "WA15 8JX",
           "WA15 8JT",
           "WA15 8JS",
           "WA15 8DU"
          ],
          "received_time": "2021-04-14 00:00"
         },
         "10644061": {
          "description": "We carry out planned power cuts to improve the reliability of your electricity supply and so our engineers can safely work on the cables that provide electricity to your property.",
          "estimated_restored_time": "",
          "incident_active": false,
          "incident_url": "https://www.enwl.co.uk/power-cuts/power-cuts-power-cuts-live-power-cut-information-fault-list/fault-list",
          "postcodes_impacted": [
           "SK10 5AH"
          ],
          "received_time": "2021-04-13 00:00"
         },
         "10644287": {
          "description": "We carry out planned power cuts to improve the reliability of your electricity supply and so our engineers can safely work on the cables that provide electricity to your property.",
          "estimated_restored_time": "",
          "incident_active": false,
          "incident_url": "https://www.enwl.co.uk/power-cuts/power-cuts-power-cuts-live-power-cut-information-fault-list/fault-list",
          "postcodes_impacted": [
           "SK5 6JZ",
           "SK5 6JJ",
           "SK5 6JH",
           "SK5 6JF"
          ],
          "received_time": "2021-04-14 00:00"
         },
         "10644722": {
          "description": "Good news! The electricity in your area has been restored. The power cut was caused by an unexpected incident on our underground cable that provides your supply.",
          "estimated_restored_time": "2021-04-09 02:27",
          "incident_active": false,
          "incident_url": "https://www.enwl.co.uk/power-cuts/power-cuts-power-cuts-live-power-cut-information-fault-list/fault-list",
          "postcodes_impacted": [
           "M9 4LB",
           "M9 4LR",
           "M9 4LZ",
           "M9 4PD",
           "M9 4QS",
           "M9 4QU",
           "M9 4WR"
          ],
          "received_time": "2021-04-09 02:27"
         },
         "10644795": {
          "description": "Good news! The electricity in your area has been restored. The power cut was caused by an unexpected incident on our underground cable that provides your supply.",
          "estimated_restored_time": "2021-04-09 13:28",
          "incident_active": false,
          "incident_url": "https://www.enwl.co.uk/power-cuts/power-cuts-power-cuts-live-power-cut-information-fault-list/fault-list",
          "postcodes_impacted": [
           "M23 1EY",
           "M23 1HA",
           "M23 1HG",
           "M23 1HL",
           "M23 1HN",
           "M23 1HP",
           "M23 1HT",
           "M23 1HU",
           "M23 1HW",
           "M23 1HX",
           "M23 1HZ",
           "M23 1JB",
           "M23 1JP",
           "M23 1JQ",
           "M23 1LF",
           "M23 1NH",
           "M23 1WL"
          ],
          "received_time": "2021-04-09 13:28"
         },
         "10644915": {
          "description": "",
          "estimated_restored_time": "2021-04-09 06:13",
          "incident_active": false,
          "incident_url": "https://www.enwl.co.uk/power-cuts/power-cuts-power-cuts-live-power-cut-information-fault-list/fault-list",
          "postcodes_impacted": [
           "SK9 3ES",
           "SK9 3HX",
           "SK9 3LN",
           "SK9 3LQ",
           "SK9 3LW",
           "SK9 3QA",
           "SK9 3QB",
           "SK9 3QD"
          ],
          "received_time": "2021-04-09 06:13"
         },
         "10644930": {
          "description": "Good news! The electricity in your area has been restored. The power cut was caused by an unexpected incident on our underground cable that provides your supply.",
          "estimated_restored_time": "2021-04-09 17:07",
          "incident_active": false,
          "incident_url": "https://www.enwl.co.uk/power-cuts/power-cuts-power-cuts-live-power-cut-information-fault-list/fault-list",
          "postcodes_impacted": [
           "M25 0HT",
           "M25 0LE",
           "M25 0LN",
           "M25 0LP",
           "M25 0LQ",
           "M25 0LR"
          ],
          "received_time": "2021-04-09 17:07"
         },
         "10644962": {
          "description": "",
          "estimated_restored_time": "2021-04-09 16:34",
          "incident_active": false,
          "incident_url": "https://www.enwl.co.uk/power-cuts/power-cuts-power-cuts-live-power-cut-information-fault-list/fault-list",
          "postcodes_impacted": [
           "SK5 8JF",
           "SK5 8LB",
           "SK5 8LE",
           "SK5 8LF"
          ],
          "received_time": "2021-04-09 16:34"
         },
         "10644963": {
          "description": "",
          "estimated_restored_time": "2021-04-09 15:27",
          "incident_active": false,
          "incident_url": "https://www.enwl.co.uk/power-cuts/power-cuts-power-cuts-live-power-cut-information-fault-list/fault-list",
          "postcodes_impacted": [
           "OL4 4LB",
           "OL4 4LN",
           "OL4 4LP",
           "OL4 4LS",
           "OL4 4LW",
           "OL4 4PZ",
           "OL4 4QA",
           "OL4 4QH",
           "OL4 4QJ",
           "OL4 4QL",
           "OL4 4QP",
           "OL4 4QR",
           "OL4 4QS",
           "OL4 4QW",
           "OL4 5SE",
           "OL4 5SF",
           "OL4 5SG",
           "OL4 5SH",
           "OL4 5SJ",
           "OL4 5SL",
           "OL4 5SN",
           "OL4 5SQ",
           "OL4 5TS"
          ],
          "received_time": "2021-04-09 15:27"
         },
         "10644983": {
          "description": "Good news! The power cut in your area caused by an unexpected incident on our high voltage cable has now been resolved.",
          "estimated_restored_time": "2021-04-09 17:33",
          "incident_active": false,
          "incident_url": "https://www.enwl.co.uk/power-cuts/power-cuts-power-cuts-live-power-cut-information-fault-list/fault-list",
          "postcodes_impacted": [
           "M33 7DF",
           "M33 7DX",
           "M33 7EB",
           "M33 7EE",
           "M33 7EG",
           "M33 7EJ",
           "M33 7EQ",
           "M33 7ES",
           "M33 7EX",
           "M33 7FD",
           "M33 7FJ",
           "M33 7FL",
           "M33 7BS",
           "M33 7DY",
           "M33 7XF",
           "M33 7XP",
           "M33 7XX",
           "M33 7ZA"
          ],
          "received_time": "2021-04-09 17:33"
         },
         "10644987": {
          "description": "The power cut in your area has been caused by an unexpected incident with the underground cable that provides electricity to your property.",
          "estimated_restored_time": "2021-04-09 21:48",
          "incident_active": true,
          "incident_url": "https://www.enwl.co.uk/power-cuts/power-cuts-power-cuts-live-power-cut-information-fault-list/fault-list",
          "postcodes_impacted": [
           "SK10 3JR",
           "SK10 3JS",
           "SK10 3JU",
           "SK10 3JW",
           "SK10 3JZ",
           "SK10 3LQ",
           "SK10 3NG",
           "SK10 3NH",
           "SK10 3NL",
           "SK10 3NN",
           "SK10 3NQ",
           "SK10 3NY",
           "SK10 3PT",
           "SK10 3PW"
          ],
          "received_time": "2021-04-09 15:44"
         },
         "10645002": {
          "description": "",
          "estimated_restored_time": "2021-04-09 18:13",
          "incident_active": false,
          "incident_url": "https://www.enwl.co.uk/power-cuts/power-cuts-power-cuts-live-power-cut-information-fault-list/fault-list",
          "postcodes_impacted": [
           "SK5 8JF",
           "SK5 8LB",
           "SK5 8LE",
           "SK5 8LF"
          ],
          "received_time": "2021-04-09 18:13"
         },
         "40802689": {
          "description": "We carry out planned power cuts to improve the reliability of your electricity supply and so our engineers can safely work on the cables that provide electricity to your property.",
          "estimated_restored_time": "",
          "incident_active": false,
          "incident_url": "https://www.enwl.co.uk/power-cuts/power-cuts-power-cuts-live-power-cut-information-fault-list/fault-list",
          "postcodes_impacted": [
           "WA3 6WU",
           "WA3 6DE",
           "WA3 6BU",
           "WA3 6"
          ],
          "received_time": "2021-04-11 00:00"
         },
         "40803203": {
          "description": "We carry out planned power cuts to improve the reliability of your electricity supply and so our engineers can safely work on the cables that provide electricity to your property.",
          "estimated_restored_time": "",
          "incident_active": false,
          "incident_url": "https://www.enwl.co.uk/power-cuts/power-cuts-power-cuts-live-power-cut-information-fault-list/fault-list",
          "postcodes_impacted": [
           "PR6 7YA",
           "PR6 7PP",
           "PR6 7EA",
           "PR6 7DZ",
           "PR6 7DS",
           "PR5 2SP",
           "PR25 5LX"
          ],
          "received_time": "2021-04-14 00:00"
         },
         "40804007": {
          "description": "We carry out planned power cuts to improve the reliability of your electricity supply and so our engineers can safely work on the cables that provide electricity to your property.",
          "estimated_restored_time": "",
          "incident_active": false,
          "incident_url": "https://www.enwl.co.uk/power-cuts/power-cuts-power-cuts-live-power-cut-information-fault-list/fault-list",
          "postcodes_impacted": [
           "PR3 5AX",
           "PR3 5AU",
           "PR3 5AR",
           "PR3 5AQ",
           "PR3 2JS"
          ],
          "received_time": "2021-04-14 00:00"
         },
         "40804015": {
          "description": "Good news! Our engineers have completed the work in your area and the planned power cut has now been restored.",
          "estimated_restored_time": "2021-04-09 15:55",
          "incident_active": false,
          "incident_url": "https://www.enwl.co.uk/power-cuts/power-cuts-power-cuts-live-power-cut-information-fault-list/fault-list",
          "postcodes_impacted": [
           "BB5 3RX",
           "BB5 3RU",
           "BB5 3RT",
           "BB5 3RS",
           "BB5 3RR",
           "BB5 3RP",
           "BB5 3QL"
          ],
          "received_time": "2021-04-09 15:55"
         },
         "40805028": {
          "description": "We carry out planned power cuts to improve the reliability of your electricity supply and so our engineers can safely work on the cables that provide electricity to your property.",
          "estimated_restored_time": "",
          "incident_active": false,
          "incident_url": "https://www.enwl.co.uk/power-cuts/power-cuts-power-cuts-live-power-cut-information-fault-list/fault-list",
          "postcodes_impacted": [
           "PR9 8BB"
          ],
          "received_time": "2021-04-13 00:00"
         },
         "40805030": {
          "description": "We carry out planned power cuts to improve the reliability of your electricity supply and so our engineers can safely work on the cables that provide electricity to your property.",
          "estimated_restored_time": "",
          "incident_active": false,
          "incident_url": "https://www.enwl.co.uk/power-cuts/power-cuts-power-cuts-live-power-cut-information-fault-list/fault-list",
          "postcodes_impacted": [
           "PR4 5ZD",
           "PR4 5LH",
           "PR4 5LE",
           "PR4 5JY",
           "PR4 5JP",
           "PR4 5JN",
           "PR4 5JL",
           "PR4 5JH",
           "PR4",
           "PR1 8LE"
          ],
          "received_time": "2021-04-15 00:00"
         },
         "40807825": {
          "description": "We carry out planned power cuts to improve the reliability of your electricity supply and so our engineers can safely work on the cables that provide electricity to your property.",
          "estimated_restored_time": "",
          "incident_active": false,
          "incident_url": "https://www.enwl.co.uk/power-cuts/power-cuts-power-cuts-live-power-cut-information-fault-list/fault-list",
          "postcodes_impacted": [
           "BB4 5EY",
           "BB4 5EU",
           "BB4 5ES",
           "BB4 5ER",
           "BB4 5ED",
           "BB4 4PU",
           "BB4 4PB",
           "BB4"
          ],
          "received_time": "2021-04-11 00:00"
         },
         "40808469": {
          "description": "Good news! The power cut in your area caused by an unexpected incident on our high voltage cable has now been resolved.",
          "estimated_restored_time": "2021-04-09 12:33",
          "incident_active": false,
          "incident_url": "https://www.enwl.co.uk/power-cuts/power-cuts-power-cuts-live-power-cut-information-fault-list/fault-list",
          "postcodes_impacted": [
           "PR4 1SL",
           "PR4 1RU",
           "PR4 1RX",
           "PR4 1SJ",
           "PR4 1SP",
           "PR4 1SQ",
           "PR4 1UP",
           "PR5 4RG"
          ],
          "received_time": "2021-04-09 12:33"
         },
         "40809057": {
          "description": "Good news! The electricity in your area has been restored. The power cut was caused by an unexpected incident on our underground cable that provides your supply.",
          "estimated_restored_time": "2021-04-09 08:31",
          "incident_active": false,
          "incident_url": "https://www.enwl.co.uk/power-cuts/power-cuts-power-cuts-live-power-cut-information-fault-list/fault-list",
          "postcodes_impacted": [
           "WN3 4EL",
           "WN3 4HB"
          ],
          "received_time": "2021-04-09 08:31"
         },
         "40809119": {
          "description": "Good news! The electricity in your area has been restored. The power cut was caused by a third party damaging our underground cable that provides your supply.",
          "estimated_restored_time": "2021-04-08 19:06",
          "incident_active": false,
          "incident_url": "https://www.enwl.co.uk/power-cuts/power-cuts-power-cuts-live-power-cut-information-fault-list/fault-list",
          "postcodes_impacted": [
           "BL2 1HH",
           "BL3 1RP",
           "BL3 2QP",
           "BL3 2QS",
           "BL3 2QX",
           "BL3 2QY",
           "BL3 2QZ",
           "BL3 2RA",
           "BL3 2RJ",
           "BL3 2RR",
           "BL3 2RS",
           "BL3 2RU",
           "BL3 2RX",
           "BL3 2RY"
          ],
          "received_time": "2021-04-08 19:06"
         },
         "40809122": {
          "description": "Good news! The electricity in your area has been restored. The power cut was caused by a third party damaging our underground cable that provides your supply.",
          "estimated_restored_time": "2021-04-08 20:37",
          "incident_active": false,
          "incident_url": "https://www.enwl.co.uk/power-cuts/power-cuts-power-cuts-live-power-cut-information-fault-list/fault-list",
          "postcodes_impacted": [
           "FY7 8JD",
           "FY7 8QZ",
           "FY7 8RB",
           "FY7 8RD",
           "FY7 8RF",
           "FY7 8RG",
           "FY7 8RH",
           "FY7 8RJ",
           "FY7 8RQ"
          ],
          "received_time": "2021-04-08 20:37"
         },
         "40809127": {
          "description": "Good news! The electricity in your area has been restored. The power cut was caused by an unexpected incident on our underground cable that provides your supply.",
          "estimated_restored_time": "2021-04-09 00:50",
          "incident_active": false,
          "incident_url": "https://www.enwl.co.uk/power-cuts/power-cuts-power-cuts-live-power-cut-information-fault-list/fault-list",
          "postcodes_impacted": [
           "PR25 5RJ",
           "PR25 5RL",
           "PR25 5RN",
           "PR25 5RP",
           "PR25 5RS",
           "PR25 5SQ",
           "PR25 5TJ",
           "PR25 5TN",
           "PR25 5TP",
           "PR25 5UR",
           "PR25 5US"
          ],
          "received_time": "2021-04-09 00:50"
         },
         "40809129": {
          "description": "Good news! The electricity in your area has been restored. The power cut was caused by an unexpected incident on our underground cable that provides your supply.",
          "estimated_restored_time": "2021-04-09 02:32",
          "incident_active": false,
          "incident_url": "https://www.enwl.co.uk/power-cuts/power-cuts-power-cuts-live-power-cut-information-fault-list/fault-list",
          "postcodes_impacted": [
           "BB9 0EZ",
           "BB9 0HA",
           "BB9 0HB",
           "BB9 0HD",
           "BB9 0HH",
           "BB9 0HJ",
           "BB9 0HL",
           "BB9 0HN",
           "BB9 5HA"
          ],
          "received_time": "2021-04-09 02:32"
         },
         "40809136": {
          "description": "Good news! The electricity in your area has been restored. The power cut was caused by an unexpected incident on our underground cable that provides your supply.",
          "estimated_restored_time": "2021-04-08 23:49",
          "incident_active": false,
          "incident_url": "https://www.enwl.co.uk/power-cuts/power-cuts-power-cuts-live-power-cut-information-fault-list/fault-list",
          "postcodes_impacted": [
           "BL7 9BG",
           "BL7 9BQ",
           "BL7 9JJ",
           "BL7 9JL",
           "BL7 9LS",
           "BL7 9LT",
           "BL7 9LU",
           "BL7 9LX"
          ],
          "received_time": "2021-04-08 23:49"
         },
         "40809138": {
          "description": "Good news! The electricity in your area has been restored. The power cut was been caused by an unexpected incident with the overhead cable that provides electricity to your property.",
          "estimated_restored_time": "2021-04-09 02:33",
          "incident_active": false,
          "incident_url": "https://www.enwl.co.uk/power-cuts/power-cuts-power-cuts-live-power-cut-information-fault-list/fault-list",
          "postcodes_impacted": [
           "BB6 8AQ"
          ],
          "received_time": "2021-04-09 02:33"
         },
         "40809144": {
          "description": "Good news! The electricity in your area has been restored. The power cut was caused by an unexpected incident on our underground cable that provides your supply.",
          "estimated_restored_time": "2021-04-09 17:02",
          "incident_active": false,
          "incident_url": "https://www.enwl.co.uk/power-cuts/power-cuts-power-cuts-live-power-cut-information-fault-list/fault-list",
          "postcodes_impacted": [
           "WA12 9JU",
           "WA12 9JZ",
           "WA12 9LB",
           "WA12 9LD",
           "WA12 9LE"
          ],
          "received_time": "2021-04-09 17:02"
         },
         "40809159": {
          "description": "Good news! The electricity in your area has been restored. The power cut was caused by an unexpected incident on our overhead cable that provides your supply.",
          "estimated_restored_time": "2021-04-09 12:31",
          "incident_active": false,
          "incident_url": "https://www.enwl.co.uk/power-cuts/power-cuts-power-cuts-live-power-cut-information-fault-list/fault-list",
          "postcodes_impacted": [
           "BB10 2BY",
           "BB10 2RJ",
           "BB10 2RQ",
           "BB10 2RW",
           "BB10 2SF",
           "BB10 2UB",
           "BB10 2UD"
          ],
          "received_time": "2021-04-09 12:31"
         },
         "40809192": {
          "description": "We carry out planned power cuts to improve the reliability of your electricity supply and so our engineers can safely work on the cables that provide electricity to your property.",
          "estimated_restored_time": "",
          "incident_active": false,
          "incident_url": "https://www.enwl.co.uk/power-cuts/power-cuts-power-cuts-live-power-cut-information-fault-list/fault-list",
          "postcodes_impacted": [
           "PR5 4RX",
           "PR5 4RU",
           "PR5 4RT",
           "PR5 4RS",
           "PR5 4RR",
           "PR5 4RP",
           "PR5 4RN",
           "PR5 4RH",
           "PR5 4RE"
          ],
          "received_time": "2021-04-15 00:00"
         },
         "60504163": {
          "description": "Good news! Our engineers have completed the work in your area and the planned power cut has now been restored.",
          "estimated_restored_time": "2021-04-09 14:11",
          "incident_active": false,
          "incident_url": "https://www.enwl.co.uk/power-cuts/power-cuts-power-cuts-live-power-cut-information-fault-list/fault-list",
          "postcodes_impacted": [
           "CA7 0PA"
          ],
          "received_time": "2021-04-09 14:11"
         },
         "60504426": {
          "description": "Good news! Our engineers have completed the work in your area and the planned power cut has now been restored.",
          "estimated_restored_time": "2021-04-09 15:41",
          "incident_active": false,
          "incident_url": "https://www.enwl.co.uk/power-cuts/power-cuts-power-cuts-live-power-cut-information-fault-list/fault-list",
          "postcodes_impacted": [
           "CA7 0NS"
          ],
          "received_time": "2021-04-09 15:41"
         },
         "60504539": {
          "description": "We carry out planned power cuts to improve the reliability of your electricity supply and so our engineers can safely work on the cables that provide electricity to your property.",
          "estimated_restored_time": "",
          "incident_active": false,
          "incident_url": "https://www.enwl.co.uk/power-cuts/power-cuts-power-cuts-live-power-cut-information-fault-list/fault-list",
          "postcodes_impacted": [
           "LA8 8BL"
          ],
          "received_time": "2021-04-14 00:00"
         },
         "60504540": {
          "description": "We carry out planned power cuts to improve the reliability of your electricity supply and so our engineers can safely work on the cables that provide electricity to your property.",
          "estimated_restored_time": "",
          "incident_active": false,
          "incident_url": "https://www.enwl.co.uk/power-cuts/power-cuts-power-cuts-live-power-cut-information-fault-list/fault-list",
          "postcodes_impacted": [
           "CA13 9YN",
           "CA13 9YL",
           "CA13 9YE"
          ],
          "received_time": "2021-04-15 00:00"
         },
         "60504755": {
          "description": "We carry out planned power cuts to improve the reliability of your electricity supply and so our engineers can safely work on the cables that provide electricity to your property.",
          "estimated_restored_time": "",
          "incident_active": false,
          "incident_url": "https://www.enwl.co.uk/power-cuts/power-cuts-power-cuts-live-power-cut-information-fault-list/fault-list",
          "postcodes_impacted": [
           "BD23 4LT",
           "BD23 4LS",
           "BD23 4LQ",
           "BD23 4LN",
           "BD23 4LE",
           "BD23 4LD",
           "BD23 4LB",
           "BD23 4LA"
          ],
          "received_time": "2021-04-15 00:00"
         },
         "60505036": {
          "description": "We carry out planned power cuts to improve the reliability of your electricity supply and so our engineers can safely work on the cables that provide electricity to your property.",
          "estimated_restored_time": "",
          "incident_active": false,
          "incident_url": "https://www.enwl.co.uk/power-cuts/power-cuts-power-cuts-live-power-cut-information-fault-list/fault-list",
          "postcodes_impacted": [
           "CA10 3HU",
           "CA10 3HB"
          ],
          "received_time": "2021-04-14 00:00"
         },
         "60505285": {
          "description": "We carry out planned power cuts to improve the reliability of your electricity supply and so our engineers can safely work on the cables that provide electricity to your property.",
          "estimated_restored_time": "",
          "incident_active": false,
          "incident_url": "https://www.enwl.co.uk/power-cuts/power-cuts-power-cuts-live-power-cut-information-fault-list/fault-list",
          "postcodes_impacted": [
           "CA16 6RU",
           "CA16 6RT",
           "CA16 6RF",
           "CA16 6RE",
           "CA16 6RA"
          ],
          "received_time": "2021-04-12 00:00"
         },
         "60505288": {
          "description": "We carry out planned power cuts to improve the reliability of your electricity supply and so our engineers can safely work on the cables that provide electricity to your property.",
          "estimated_restored_time": "",
          "incident_active": false,
          "incident_url": "https://www.enwl.co.uk/power-cuts/power-cuts-power-cuts-live-power-cut-information-fault-list/fault-list",
          "postcodes_impacted": [
           "LA6 2QF",
           "LA6 2NS",
           "LA6 2NP",
           "LA6 2DQ",
           "LA6 2DG"
          ],
          "received_time": "2021-04-14 00:00"
         },
         "60505617": {
          "description": "Good news! Our engineers have completed the work in your area and the planned power cut has now been restored.",
          "estimated_restored_time": "2021-04-09 14:11",
          "incident_active": false,
          "incident_url": "https://www.enwl.co.uk/power-cuts/power-cuts-power-cuts-live-power-cut-information-fault-list/fault-list",
          "postcodes_impacted": [
           "CA20 1BY",
           "CA20 1BX",
           "CA20 1BU"
          ],
          "received_time": "2021-04-09 14:11"
         },
         "60506703": {
          "description": "We carry out planned power cuts to improve the reliability of your electricity supply and so our engineers can safely work on the cables that provide electricity to your property.",
          "estimated_restored_time": "",
          "incident_active": false,
          "incident_url": "https://www.enwl.co.uk/power-cuts/power-cuts-power-cuts-live-power-cut-information-fault-list/fault-list",
          "postcodes_impacted": [
           "LA2 8PU",
           "LA2 8PS"
          ],
          "received_time": "2021-04-13 00:00"
         },
         "60506713": {
          "description": "We carry out planned power cuts to improve the reliability of your electricity supply and so our engineers can safely work on the cables that provide electricity to your property.",
          "estimated_restored_time": "",
          "incident_active": false,
          "incident_url": "https://www.enwl.co.uk/power-cuts/power-cuts-power-cuts-live-power-cut-information-fault-list/fault-list",
          "postcodes_impacted": [
           "CA5 7JW",
           "CA5 7JQ",
           "CA5 7JL",
           "CA5 7JJ",
           "CA5 7JH"
          ],
          "received_time": "2021-04-14 00:00"
         },
         "60506763": {
          "description": "We carry out planned power cuts to improve the reliability of your electricity supply and so our engineers can safely work on the cables that provide electricity to your property.",
          "estimated_restored_time": "",
          "incident_active": false,
          "incident_url": "https://www.enwl.co.uk/power-cuts/power-cuts-power-cuts-live-power-cut-information-fault-list/fault-list",
          "postcodes_impacted": [
           "CA6 6JG",
           "CA6 6HX"
          ],
          "received_time": "2021-04-10 00:00"
         },
         "60507287": {
          "description": "We carry out planned power cuts to improve the reliability of your electricity supply and so our engineers can safely work on the cables that provide electricity to your property.",
          "estimated_restored_time": "",
          "incident_active": false,
          "incident_url": "https://www.enwl.co.uk/power-cuts/power-cuts-power-cuts-live-power-cut-information-fault-list/fault-list",
          "postcodes_impacted": [
           "LA8 8DN",
           "LA8 8BW",
           "LA8 8BP"
          ],
          "received_time": "2021-04-15 00:00"
         },
         "60507570": {
          "description": "Good news! The power cut in your area caused by an unexpected incident on our high voltage cable has now been resolved.",
          "estimated_restored_time": "2021-04-09 17:09",
          "incident_active": false,
          "incident_url": "https://www.enwl.co.uk/power-cuts/power-cuts-power-cuts-live-power-cut-information-fault-list/fault-list",
          "postcodes_impacted": [
           "LA23 1NR",
           "LA23 1NP",
           "LA23 1NL",
           "LA23 1NW",
           "LA23 1NH",
           "LA23 1JT",
           "LA23 1JU",
           "LA23 1NU",
           "LA23 1NX",
           "LA23 1NY",
           "LA23 1NT",
           "LA23 1NS"
          ],
          "received_time": "2021-04-09 17:09"
         },
         "60507637": {
          "description": "We carry out planned power cuts to improve the reliability of your electricity supply and so our engineers can safely work on the cables that provide electricity to your property.",
          "estimated_restored_time": "",
          "incident_active": false,
          "incident_url": "https://www.enwl.co.uk/power-cuts/power-cuts-power-cuts-live-power-cut-information-fault-list/fault-list",
          "postcodes_impacted": [
           "CA15 8RX"
          ],
          "received_time": "2021-04-10 00:00"
         },
         "60507990": {
          "description": "Good news! The electricity in your area has been restored. The power cut was been caused by an unexpected incident with the overhead cable that provides electricity to your property.",
          "estimated_restored_time": "2021-04-08 20:42",
          "incident_active": false,
          "incident_url": "https://www.enwl.co.uk/power-cuts/power-cuts-power-cuts-live-power-cut-information-fault-list/fault-list",
          "postcodes_impacted": [
           "CA27 0AA",
           "CA27 0AB",
           "CA27 0BJ",
           "CA27 0DE"
          ],
          "received_time": "2021-04-08 20:42"
         },
         "60507995": {
          "description": "Good news! The electricity in your area has been restored. The power cut was caused by an unexpected incident on our underground cable that provides your supply.",
          "estimated_restored_time": "2021-04-08 21:10",
          "incident_active": false,
          "incident_url": "https://www.enwl.co.uk/power-cuts/power-cuts-power-cuts-live-power-cut-information-fault-list/fault-list",
          "postcodes_impacted": [
           "LA11 7QN",
           "LA11 7QP",
           "LA11 7QR",
           "LA11 7QU",
           "LA11 7QW"
          ],
          "received_time": "2021-04-08 21:10"
         },
         "60507999": {
          "description": "Good news! The electricity in your area has been restored. The power cut was caused by an unexpected incident on our underground cable that provides your supply.",
          "estimated_restored_time": "2021-04-09 02:36",
          "incident_active": false,
          "incident_url": "https://www.enwl.co.uk/power-cuts/power-cuts-power-cuts-live-power-cut-information-fault-list/fault-list",
          "postcodes_impacted": [
           "LA3 2BL",
           "LA3 2BN",
           "LA3 2BT",
           "LA3 2JJ",
           "LA3 2JL",
           "LA3 2JP",
           "LA3 2JS"
          ],
          "received_time": "2021-04-09 02:36"
         },
         "60508018": {
          "description": "Good news! The power cut in your area caused by an unexpected incident on our high voltage cable has now been resolved.",
          "estimated_restored_time": "2021-04-08 21:41",
          "incident_active": false,
          "incident_url": "https://www.enwl.co.uk/power-cuts/power-cuts-power-cuts-live-power-cut-information-fault-list/fault-list",
          "postcodes_impacted": [
           "LA11 6RE",
           "LA11 6RG",
           "LA11 6RB",
           "LA11 6RD",
           "LA11 6QS",
           "LA11 6QT",
           "LA11 6RF",
           "LA11 6RA",
           "LA11 6QX",
           "LA11 6QZ",
           "LA11 6QY"
          ],
          "received_time": "2021-04-08 21:41"
         },
         "60508072": {
          "description": "",
          "estimated_restored_time": "2021-04-08 23:01",
          "incident_active": false,
          "incident_url": "https://www.enwl.co.uk/power-cuts/power-cuts-power-cuts-live-power-cut-information-fault-list/fault-list",
          "postcodes_impacted": [
           "CA9 3HS",
           "CA9 3HU",
           "CA9 3HX",
           "CA9 3HY",
           "CA9 3QL",
           "CA9 3QN",
           "CA9 3QP",
           "CA9 3QR",
           "CA9 3QT",
           "CA9 3QW",
           "CA9 3QX",
           "CA9 3RE",
           "CA9 3RF",
           "CA9 3RL",
           "CA9 3RN"
          ],
          "received_time": "2021-04-08 23:01"
         },
         "60508113": {
          "description": "Good news! The electricity in your area has been restored. The power cut was caused by a third party damaging our underground cable that provides your supply.",
          "estimated_restored_time": "2021-04-09 17:26",
          "incident_active": false,
          "incident_url": "https://www.enwl.co.uk/power-cuts/power-cuts-power-cuts-live-power-cut-information-fault-list/fault-list",
          "postcodes_impacted": [
           "CA7 5HP"
          ],
          "received_time": "2021-04-09 17:26"
         },
         "60508120": {
          "description": "Good news! The electricity in your area has been restored. The power cut was caused by a third party damaging our underground cable that provides your supply.",
          "estimated_restored_time": "2021-04-09 15:36",
          "incident_active": false,
          "incident_url": "https://www.enwl.co.uk/power-cuts/power-cuts-power-cuts-live-power-cut-information-fault-list/fault-list",
          "postcodes_impacted": [
           "LA6 1JH"
          ],
          "received_time": "2021-04-09 15:36"
         }
        },
        "np": {
         "INCD-15045-B": {
          "description": "U/G Service repair In Progress",
          "estimated_restored_time": "2021-04-09 18:00",
          "incident_active": true,
          "incident_url": "https://www.northernpowergrid.com/power-cuts",
          "postcodes_impacted": {
           "LS11 5SB": {
            "class": "models.MapDataLocation",
            "lat": 53.7662,
            "lng": -1.55323
           },
           "LS11 5SE": {
            "class": "models.MapDataLocation",
            "lat": 53.7634,
            "lng": -1.55113
           },
           "LS11 5SS": {
            "class": "models.MapDataLocation",
            "lat": 53.7647,
            "lng": -1.54896
           },
           "LS11 5UH": {
            "class": "models.MapDataLocation",
            "lat": 53.7637,
            "lng": -1.55257
           },
           "LS11 5XA": {
            "class": "models.MapDataLocation",
            "lat": 53.7638,
            "lng": -1.55063
           }
          },
          "received_time": "2021-04-09 08:46"
         },
         "INCD-15063-B": {
          "description": "O/H EHV Repair In Progress",
          "estimated_restored_time": "",
          "incident_active": true,
          "incident_url": "https://www.northernpowergrid.com/power-cuts",
          "postcodes_impacted": {
           "S66 8RY": {
            "class": "models.MapDataLocation",
            "lat": 53.4262,
            "lng": -1.24574
           }
          },
          "received_time": "2021-04-09 14:57"
         },
         "INCD-15064-B": {
          "description": "Safety Interruption Awaiting",
          "estimated_restored_time": "2021-04-09 17:15",
          "incident_active": true,
          "incident_url": "https://www.northernpowergrid.com/power-cuts",
          "postcodes_impacted": {
           "S6 2AA": {
            "class": "models.MapDataLocation",
            "lat": 53.4098,
            "lng": -1.49967
           },
           "S6 4FL": {
            "class": "models.MapDataLocation",
            "lat": 53.4089,
            "lng": -1.50523
           },
           "S6 4FN": {
            "class": "models.MapDataLocation",
            "lat": 53.4088,
            "lng": -1.5075
           },
           "S6 4GA": {
            "class": "models.MapDataLocation",
            "lat": 53.4093,
            "lng": -1.50646
           },
           "S6 4HE": {
            "class": "models.MapDataLocation",
            "lat": 53.4095,
            "lng": -1.50431
           }
          },
          "received_time": "2021-04-09 16:35"
         },
         "INCD-167229-A": {
          "description": "Damaged EHV U/G In Progress",
          "estimated_restored_time": "",
          "incident_active": true,
          "incident_url": "https://www.northernpowergrid.com/power-cuts",
          "postcodes_impacted": {
           "LS15 8AB": {
            "class": "models.MapDataLocation",
            "lat": 53.8048,
            "lng": -1.41077
           },
           "LS15 8AD": {
            "class": "models.MapDataLocation",
            "lat": 53.804,
            "lng": -1.42138
           },
           "LS15 8AE": {
            "class": "models.MapDataLocation",
            "lat": 53.8056,
            "lng": -1.42527
           },
           "LS15 8AJ": {
            "class": "models.MapDataLocation",
            "lat": 53.8073,
            "lng": -1.43811
           },
           "LS25 1AS": {
            "class": "models.MapDataLocation",
            "lat": 53.7946,
            "lng": -1.40015
           },
           "LS25 1NF": {
            "class": "models.MapDataLocation",
            "lat": 53.7973,
            "lng": -1.40888
           },
           "LS25 1NG": {
            "class": "models.MapDataLocation",
            "lat": 53.7984,
            "lng": -1.39455
           },
           "LS25 2DQ": {
            "class": "models.MapDataLocation",
            "lat": 53.7997,
            "lng": -1.39461
           }
          },
          "received_time": "2021-03-29 16:46"
         },
         "INCD-168880-A": {
          "description": "Unknown P1 Awaiting",
          "estimated_restored_time": "",
          "incident_active": true,
          "incident_url": "https://www.northernpowergrid.com/power-cuts",
          "postcodes_impacted": {
           "YO32 2NB": {
            "class": "models.MapDataLocation",
            "lat": 54.0133,
            "lng": -1.06187
           }
          },
          "received_time": "2021-04-05 14:08"
         },
         "INCD-170058-A": {
          "description": "U/G Service repair In Progress",
          "estimated_restored_time": "2021-04-09 17:30",
          "incident_active": true,
          "incident_url": "https://www.northernpowergrid.com/power-cuts",
          "postcodes_impacted": {
           "NE43 7AD": {
            "class": "models.MapDataLocation",
            "lat": 54.9492,
            "lng": -1.9259
           },
           "NE43 7HG": {
            "class": "models.MapDataLocation",
            "lat": 54.9464,
            "lng": -1.92055
           },
           "NE43 7HH": {
            "class": "models.MapDataLocation",
            "lat": 54.9464,
            "lng": -1.91607
           },
           "NE43 7ND": {
            "class": "models.MapDataLocation",
            "lat": 54.9464,
            "lng": -1.91456
           },
           "NE43 7NG": {
            "class": "models.MapDataLocation",
            "lat": 54.9491,
            "lng": -1.91206
           },
           "NE43 7NH": {
            "class": "models.MapDataLocation",
            "lat": 54.9468,
            "lng": -1.91664
           },
           "NE43 7NJ": {
            "class": "models.MapDataLocation",
            "lat": 54.9472,
            "lng": -1.91514
           },
           "NE43 7NL": {
            "class": "models.MapDataLocation",
            "lat": 54.9482,
            "lng": -1.91339
           },
           "NE43 7NN": {
            "class": "models.MapDataLocation",
            "lat": 54.9488,
            "lng": -1.91045
           },
           "NE43 7NQ": {
            "class": "models.MapDataLocation",
            "lat": 54.9468,
            "lng": -1.91624
           }
          },
          "received_time": "2021-04-09 06:11"
         },
         "INCD-170163-A": {
          "description": "O/H Service Repair In Progress",
          "estimated_restored_time": "2021-04-09 21:00",
          "incident_active": true,
          "incident_url": "https://www.northernpowergrid.com/power-cuts",
          "postcodes_impacted": {
           "WF9 2AE": {
            "class": "models.MapDataLocation",
            "lat": 53.5943,
            "lng": -1.29819
           },
           "WF9 2AF": {
            "class": "models.MapDataLocation",
            "lat": 53.5932,
            "lng": -1.29727
           },
           "WF9 2AG": {
            "class": "models.MapDataLocation",
            "lat": 53.5927,
            "lng": -1.29793
           },
           "WF9 2AH": {
            "class": "models.MapDataLocation",
            "lat": 53.5929,
            "lng": -1.29868
           },
           "WF9 2AJ": {
            "class": "models.MapDataLocation",
            "lat": 53.5933,
            "lng": -1.29836
           },
           "WF9 2AL": {
            "class": "models.MapDataLocation",
            "lat": 53.5938,
            "lng": -1.2977
           }
          },
          "received_time": "2021-04-09 11:02"
         },
         "INCD-170167-A": {
          "description": "U/G Service repair In Progress",
          "estimated_restored_time": "2021-04-09 16:00",
          "incident_active": true,
          "incident_url": "https://www.northernpowergrid.com/power-cuts",
          "postcodes_impacted": {
           "S6 2BS": {
            "class": "models.MapDataLocation",
            "lat": 53.404,
            "lng": -1.49679
           }
          },
          "received_time": "2021-04-09 11:11"
         },
         "INCD-170187-A": {
          "description": "Damaged service U/G In Progress",
          "estimated_restored_time": "2021-04-09 17:00",
          "incident_active": true,
          "incident_url": "https://www.northernpowergrid.com/power-cuts",
          "postcodes_impacted": {
           "DN4 6QT": {
            "class": "models.MapDataLocation",
            "lat": 53.5079,
            "lng": -1.06409
           },
           "DN4 6QU": {
            "class": "models.MapDataLocation",
            "lat": 53.5072,
            "lng": -1.06651
           },
           "DN4 6QX": {
            "class": "models.MapDataLocation",
            "lat": 53.5068,
            "lng": -1.06587
           },
           "DN4 6RH": {
            "class": "models.MapDataLocation",
            "lat": 53.5063,
            "lng": -1.06741
           },
           "DN4 6RL": {
            "class": "models.MapDataLocation",
            "lat": 53.5066,
            "lng": -1.06558
           },
           "DN4 6RN": {
            "class": "models.MapDataLocation",
            "lat": 53.5072,
            "lng": -1.06455
           },
           "DN4 6UQ": {
            "class": "models.MapDataLocation",
            "lat": 53.5053,
            "lng": -1.06679
           }
          },
          "received_time": "2021-04-09 11:45"
         },
         "INCD-170225-A": {
          "description": "O/H HV Mains Repair Awaiting",
          "estimated_restored_time": "2021-04-09 19:00",
          "incident_active": true,
          "incident_url": "https://www.northernpowergrid.com/power-cuts",
          "postcodes_impacted": {
           "HG3 1RP": {
            "class": "models.MapDataLocation",
            "lat": 53.9839,
            "lng": -1.70882
           },
           "HG3 1SB": {
            "class": "models.MapDataLocation",
            "lat": 53.9802,
            "lng": -1.68479
           },
           "HG3 1SD": {
            "class": "models.MapDataLocation",
            "lat": 53.9983,
            "lng": -1.69231
           },
           "HG3 1SF": {
            "class": "models.MapDataLocation",
            "lat": 53.9852,
            "lng": -1.59153
           },
           "HG3 1SJ": {
            "class": "models.MapDataLocation",
            "lat": 53.9879,
            "lng": -1.67637
           },
           "HG3 1SL": {
            "class": "models.MapDataLocation",
            "lat": 53.9873,
            "lng": -1.67848
           },
           "HG3 1SN": {
            "class": "models.MapDataLocation",
            "lat": 53.9927,
            "lng": -1.68105
           },
           "HG3 1SP": {
            "class": "models.MapDataLocation",
            "lat": 53.9975,
            "lng": -1.70313
           },
           "HG3 1SR": {
            "class": "models.MapDataLocation",
            "lat": 53.9906,
            "lng": -1.70738
           },
           "HG3 1SS": {
            "class": "models.MapDataLocation",
            "lat": 53.9851,
            "lng": -1.71106
           },
           "HG3 1SU": {
            "class": "models.MapDataLocation",
            "lat": 53.9828,
            "lng": -1.7045
           },
           "HG3 1SW": {
            "class": "models.MapDataLocation",
            "lat": 53.9949,
            "lng": -1.70156
           },
           "HG3 1SY": {
            "class": "models.MapDataLocation",
            "lat": 53.9858,
            "lng": -1.69701
           },
           "HG3 1SZ": {
            "class": "models.MapDataLocation",
            "lat": 53.983,
            "lng": -1.68385
           },
           "HG3 1TA": {
            "class": "models.MapDataLocation",
            "lat": 53.9789,
            "lng": -1.67345
           },
           "HG3 1TB": {
            "class": "models.MapDataLocation",
            "lat": 53.9742,
            "lng": -1.68688
           },
           "HG3 1TD": {
            "class": "models.MapDataLocation",
            "lat": 53.9738,
            "lng": -1.68599
           },
           "HG3 1TE": {
            "class": "models.MapDataLocation",
            "lat": 53.9735,
            "lng": -1.68476
           },
           "HG3 1TF": {
            "class": "models.MapDataLocation",
            "lat": 53.9734,
            "lng": -1.68417
           },
           "HG3 2RL": {
            "class": "models.MapDataLocation",
            "lat": 54.0033,
            "lng": -1.6974
           },
           "LS21 2NA": {
            "class": "models.MapDataLocation",
            "lat": 53.9427,
            "lng": -1.7062
           },
           "LS21 2PQ": {
            "class": "models.MapDataLocation",
            "lat": 54.0058,
            "lng": -1.74344
           },
           "LS21 2QS": {
            "class": "models.MapDataLocation",
            "lat": 53.949,
            "lng": -1.67095
           },
           "LS21 2QT": {
            "class": "models.MapDataLocation",
            "lat": 53.9533,
            "lng": -1.66908
           },
           "LS21 2QU": {
            "class": "models.MapDataLocation",
            "lat": 53.9629,
            "lng": -1.68763
           },
           "LS21 2QX": {
            "class": "models.MapDataLocation",
            "lat": 53.9667,
            "lng": -1.69471
           },
           "LS21 2QY": {
            "class": "models.MapDataLocation",
            "lat": 53.9626,
            "lng": -1.69942
           },
           "LS21 2QZ": {
            "class": "models.MapDataLocation",
            "lat": 53.9493,
            "lng": -1.6844
           },
           "LS21 2RA": {
            "class": "models.MapDataLocation",
            "lat": 53.9505,
            "lng": -1.68699
           }
          },
          "received_time": "2021-04-09 13:09"
         },
         "INCD-170226-A": {
          "description": "Unknown P2 Awaiting",
          "estimated_restored_time": "",
          "incident_active": true,
          "incident_url": "https://www.northernpowergrid.com/power-cuts",
          "postcodes_impacted": {
           "WF16 9EH": {
            "class": "models.MapDataLocation",
            "lat": 53.7116,
            "lng": -1.67113
           }
          },
          "received_time": "2021-04-09 13:13"
         },
         "INCD-170228-A": {
          "description": "Damage Other In Progress",
          "estimated_restored_time": "",
          "incident_active": true,
          "incident_url": "https://www.northernpowergrid.com/power-cuts",
          "postcodes_impacted": {
           "LS17 6RB": {
            "class": "models.MapDataLocation",
            "lat": 53.8433,
            "lng": -1.53186
           }
          },
          "received_time": "2021-04-09 13:15"
         },
         "INCD-170238-A": {
          "description": "Damaged service U/G In Progress",
          "estimated_restored_time": "2021-04-09 19:00",
          "incident_active": true,
          "incident_url": "https://www.northernpowergrid.com/power-cuts",
          "postcodes_impacted": {
           "SR5 3AH": {
            "class": "models.MapDataLocation",
            "lat": 54.9189,
            "lng": -1.43581
           }
          },
          "received_time": "2021-04-09 13:42"
         },
         "INCD-170256-A": {
          "description": "LV Restoration In Progress",
          "estimated_restored_time": "2021-04-09 18:00",
          "incident_active": true,
          "incident_url": "https://www.northernpowergrid.com/power-cuts",
          "postcodes_impacted": {
           "HU1 1JJ": {
            "class": "models.MapDataLocation",
            "lat": 53.7441,
            "lng": -0.326561
           },
           "HU1 1UU": {
            "class": "models.MapDataLocation",
            "lat": 53.7389,
            "lng": -0.333119
           },
           "HU1 1XE": {
            "class": "models.MapDataLocation",
            "lat": 53.7384,
            "lng": -0.334337
           }
          },
          "received_time": "2021-04-09 14:17"
         },
         "INCD-170265-A": {
          "description": "Damaged LV U/G In Progress",
          "estimated_restored_time": "2021-04-09 21:15",
          "incident_active": true,
          "incident_url": "https://www.northernpowergrid.com/power-cuts",
          "postcodes_impacted": {
           "HX3 7HG": {
            "class": "models.MapDataLocation",
            "lat": 53.7353,
            "lng": -1.82844
           }
          },
          "received_time": "2021-04-09 14:11"
         },
         "INCD-170280-A": {
          "description": "Unknown P2 In Progress",
          "estimated_restored_time": "2021-04-09 18:30",
          "incident_active": true,
          "incident_url": "https://www.northernpowergrid.com/power-cuts",
          "postcodes_impacted": {
           "HU18 1TL": {
            "class": "models.MapDataLocation",
            "lat": 53.9047,
            "lng": -0.158804
           }
          },
          "received_time": "2021-04-09 15:25"
         },
         "INCD-170284-A": {
          "description": "Unknown P2 In Progress",
          "estimated_restored_time": "",
          "incident_active": true,
          "incident_url": "https://www.northernpowergrid.com/power-cuts",
          "postcodes_impacted": {
           "HX6 4BN": {
            "class": "models.MapDataLocation",
            "lat": 53.6757,
            "lng": -1.93911
           }
          },
          "received_time": "2021-04-09 15:34"
         },
         "INCD-170285-A": {
          "description": "Unknown P1 In Progress",
          "estimated_restored_time": "2021-04-09 18:45",
          "incident_active": true,
          "incident_url": "https://www.northernpowergrid.com/power-cuts",
          "postcodes_impacted": {
           "LS8 4JZ": {
            "class": "models.MapDataLocation",
            "lat": 53.8162,
            "lng": -1.52025
           }
          },
          "received_time": "2021-04-09 15:37"
         },
         "INCD-170293-A": {
          "description": "Unknown P1 Awaiting",
          "estimated_restored_time": "2021-04-09 19:00",
          "incident_active": true,
          "incident_url": "https://www.northernpowergrid.com/power-cuts",
          "postcodes_impacted": {
           "DN2 6JN": {
            "class": "models.MapDataLocation",
            "lat": 53.5295,
            "lng": -1.09248
           }
          },
          "received_time": "2021-04-09 15:58"
         },
         "INCD-170294-A": {
          "description": "Unknown P1 In Progress",
          "estimated_restored_time": "2021-04-09 19:00",
          "incident_active": true,
          "incident_url": "https://www.northernpowergrid.com/power-cuts",
          "postcodes_impacted": {
           "S66 9LX": {
            "class": "models.MapDataLocation",
            "lat": 53.3953,
            "lng": -1.25077
           }
          },
          "received_time": "2021-04-09 15:59"
         },
         "INCD-170295-A": {
          "description": "U/G Service repair In Progress",
          "estimated_restored_time": "2021-04-09 19:15",
          "incident_active": true,
          "incident_url": "https://www.northernpowergrid.com/power-cuts",
          "postcodes_impacted": {
           "WF12 9PQ": {
            "class": "models.MapDataLocation",
            "lat": 53.6707,
            "lng": -1.6436
           }
          },
          "received_time": "2021-04-09 16:01"
         },
         "INCD-170298-A": {
          "description": "Unknown P2 Awaiting",
          "estimated_restored_time": "2021-04-09 19:15",
          "incident_active": true,
          "incident_url": "https://www.northernpowergrid.com/power-cuts",
          "postcodes_impacted": {
           "DN4 0AL": {
            "class": "models.MapDataLocation",
            "lat": 53.5182,
            "lng": -1.14157
           },
           "DN4 0AS": {
            "class": "models.MapDataLocation",
            "lat": 53.5187,
            "lng": -1.14381
           },
           "DN4 0AT": {
            "class": "models.MapDataLocation",
            "lat": 53.5183,
            "lng": -1.14279
           },
           "DN4 0AU": {
            "class": "models.MapDataLocation",
            "lat": 53.5182,
            "lng": -1.14308
           },
           "DN4 0AX": {
            "class": "models.MapDataLocation",
            "lat": 53.518,
            "lng": -1.14344
           },
           "DN4 0BJ": {
            "class": "models.MapDataLocation",
            "lat": 53.5168,
            "lng": -1.14573
           }
          },
          "received_time": "2021-04-09 16:06"
         },
         "INCD-170301-A": {
          "description": "Unknown P2 In Progress",
          "estimated_restored_time": "2021-04-09 19:15",
          "incident_active": true,
          "incident_url": "https://www.northernpowergrid.com/power-cuts",
          "postcodes_impacted": {
           "S36 1GJ": {
            "class": "models.MapDataLocation",
            "lat": 53.4725,
            "lng": -1.60151
           }
          },
          "received_time": "2021-04-09 16:15"
         },
         "INCD-170307-A": {
          "description": "Damaged HV O/H Awaiting",
          "estimated_restored_time": "2021-04-09 21:00",
          "incident_active": true,
          "incident_url": "https://www.northernpowergrid.com/power-cuts",
          "postcodes_impacted": {
           "BD1 2SH": {
            "class": "models.MapDataLocation",
            "lat": 53.7942,
            "lng": -1.75665
           },
           "BD20 8HY": {
            "class": "models.MapDataLocation",
            "lat": 53.9184,
            "lng": -2.05085
           },
           "BD22 0EZ": {
            "class": "models.MapDataLocation",
            "lat": 53.8266,
            "lng": -1.97812
           },
           "BD22 0HA": {
            "class": "models.MapDataLocation",
            "lat": 53.8296,
            "lng": -1.9865
           },
           "BD22 0HT": {
            "class": "models.MapDataLocation",
            "lat": 53.8339,
            "lng": -2.00452
           },
           "BD22 0HY": {
            "class": "models.MapDataLocation",
            "lat": 53.8361,
            "lng": -1.99174
           },
           "BD22 0HZ": {
            "class": "models.MapDataLocation",
            "lat": 53.8367,
            "lng": -1.9937
           },
           "BD22 0JA": {
            "class": "models.MapDataLocation",
            "lat": 53.838,
            "lng": -1.98471
           },
           "BD22 0JB": {
            "class": "models.MapDataLocation",
            "lat": 53.8362,
            "lng": -1.98261
           },
           "BD22 0JD": {
            "class": "models.MapDataLocation",
            "lat": 53.839,
            "lng": -1.97919
           },
           "BD22 0JE": {
            "class": "models.MapDataLocation",
            "lat": 53.8401,
            "lng": -1.9894
           },
           "BD22 0JL": {
            "class": "models.MapDataLocation",
            "lat": 53.8396,
            "lng": -2.02944
           },
           "BD22 0NE": {
            "class": "models.MapDataLocation",
            "lat": 53.8668,
            "lng": -1.94887
           },
           "BD22 0PA": {
            "class": "models.MapDataLocation",
            "lat": 53.8594,
            "lng": -1.95038
           },
           "BD22 0PB": {
            "class": "models.MapDataLocation",
            "lat": 53.861,
            "lng": -1.95829
           },
           "BD22 0PD": {
            "class": "models.MapDataLocation",
            "lat": 53.8616,
            "lng": -1.95785
           },
           "BD22 0PE": {
            "class": "models.MapDataLocation",
            "lat": 53.8626,
            "lng": -1.95812
           },
           "BD22 0PF": {
            "class": "models.MapDataLocation",
            "lat": 53.8615,
            "lng": -1.95651
           },
           "BD22 0PG": {
            "class": "models.MapDataLocation",
            "lat": 53.8654,
            "lng": -1.95322
           },
           "BD22 0PH": {
            "class": "models.MapDataLocation",
            "lat": 53.8643,
            "lng": -1.95397
           },
           "BD22 0PJ": {
            "class": "models.MapDataLocation",
            "lat": 53.8645,
            "lng": -1.95421
           },
           "BD22 0PL": {
            "class": "models.MapDataLocation",
            "lat": 53.8625,
            "lng": -1.95109
           },
           "BD22 0PN": {
            "class": "models.MapDataLocation",
            "lat": 53.8657,
            "lng": -1.95254
           },
           "BD22 0PP": {
            "class": "models.MapDataLocation",
            "lat": 53.8665,
            "lng": -1.94984
           },
           "BD22 0PQ": {
            "class": "models.MapDataLocation",
            "lat": 53.8634,
            "lng": -1.95684
           },
           "BD22 0PR": {
            "class": "models.MapDataLocation",
            "lat": 53.8664,
            "lng": -1.94901
           },
           "BD22 0PS": {
            "class": "models.MapDataLocation",
            "lat": 53.8675,
            "lng": -1.9478
           },
           "BD22 0PT": {
            "class": "models.MapDataLocation",
            "lat": 53.8678,
            "lng": -1.94811
           },
           "BD22 0PU": {
            "class": "models.MapDataLocation",
            "lat": 53.8703,
            "lng": -1.94966
           },
           "BD22 0PW": {
            "class": "models.MapDataLocation",
            "lat": 53.8664,
            "lng": -1.95159
           },
           "BD22 0PX": {
            "class": "models.MapDataLocation",
            "lat": 53.8654,
            "lng": -1.96289
           },
           "BD22 0PY": {
            "class": "models.MapDataLocation",
            "lat": 53.8725,
            "lng": -1.97306
           },
           "BD22 0PZ": {
            "class": "models.MapDataLocation",
            "lat": 53.8626,
            "lng": -1.96183
           },
           "BD22 0QA": {
            "class": "models.MapDataLocation",
            "lat": 53.8612,
            "lng": -1.97219
           },
           "BD22 0QB": {
            "class": "models.MapDataLocation",
            "lat": 53.8635,
            "lng": -1.96768
           },
           "BD22 0QD": {
            "class": "models.MapDataLocation",
            "lat": 53.8646,
            "lng": -1.9862
           },
           "BD22 0QE": {
            "class": "models.MapDataLocation",
            "lat": 53.8629,
            "lng": -1.99821
           },
           "BD22 0QF": {
            "class": "models.MapDataLocation",
            "lat": 53.8616,
            "lng": -1.95684
           },
           "BD22 0QG": {
            "class": "models.MapDataLocation",
            "lat": 53.8618,
            "lng": -1.95666
           },
           "BD22 0QH": {
            "class": "models.MapDataLocation",
            "lat": 53.8585,
            "lng": -1.99045
           },
           "BD22 0QJ": {
            "class": "models.MapDataLocation",
            "lat": 53.8571,
            "lng": -1.9821
           },
           "BD22 0QL": {
            "class": "models.MapDataLocation",
            "lat": 53.8555,
            "lng": -1.97582
           },
           "BD22 0QN": {
            "class": "models.MapDataLocation",
            "lat": 53.8512,
            "lng": -1.98758
           },
           "BD22 0QP": {
            "class": "models.MapDataLocation",
            "lat": 53.8528,
            "lng": -1.96994
           },
           "BD22 0QQ": {
            "class": "models.MapDataLocation",
            "lat": 53.8559,
            "lng": -2.00586
           },
           "BD22 0QR": {
            "class": "models.MapDataLocation",
            "lat": 53.8457,
            "lng": -1.97651
           },
           "BD22 0QS": {
            "class": "models.MapDataLocation",
            "lat": 53.8462,
            "lng": -1.97121
           },
           "BD22 0QT": {
            "class": "models.MapDataLocation",
            "lat": 53.8549,
            "lng": -1.97039
           },
           "BD22 0QU": {
            "class": "models.MapDataLocation",
            "lat": 53.8544,
            "lng": -1.96319
           },
           "BD22 0QW": {
            "class": "models.MapDataLocation",
            "lat": 53.8544,
            "lng": -1.96331
           },
           "BD22 0QX": {
            "class": "models.MapDataLocation",
            "lat": 53.8565,
            "lng": -1.95708
           },
           "BD22 0QY": {
            "class": "models.MapDataLocation",
            "lat": 53.8577,
            "lng": -1.95834
           },
           "BD22 0QZ": {
            "class": "models.MapDataLocation",
            "lat": 53.8551,
            "lng": -1.95577
           },
           "BD22 0RA": {
            "class": "models.MapDataLocation",
            "lat": 53.8892,
            "lng": -2.06712
           },
           "BD22 0RB": {
            "class": "models.MapDataLocation",
            "lat": 53.8515,
            "lng": -1.9572
           },
           "BD22 0RF": {
            "class": "models.MapDataLocation",
            "lat": 53.8486,
            "lng": -1.96056
           },
           "BD22 0RH": {
            "class": "models.MapDataLocation",
            "lat": 53.8505,
            "lng": -1.96468
           },
           "BD22 0RJ": {
            "class": "models.MapDataLocation",
            "lat": 53.8489,
            "lng": -1.96163
           },
           "BD22 0RP": {
            "class": "models.MapDataLocation",
            "lat": 53.8398,
            "lng": -1.97355
           },
           "BD22 0RQ": {
            "class": "models.MapDataLocation",
            "lat": 53.8509,
            "lng": -1.95846
           },
           "BD22 0RR": {
            "class": "models.MapDataLocation",
            "lat": 53.8381,
            "lng": -1.97372
           },
           "BD22 0RS": {
            "class": "models.MapDataLocation",
            "lat": 53.8409,
            "lng": -1.97582
           },
           "BD22 0RT": {
            "class": "models.MapDataLocation",
            "lat": 53.8397,
            "lng": -1.97633
           },
           "BD22 0RU": {
            "class": "models.MapDataLocation",
            "lat": 53.8411,
            "lng": -1.97814
           },
           "BD22 0RW": {
            "class": "models.MapDataLocation",
            "lat": 53.8415,
            "lng": -1.97021
           },
           "BD22 0RX": {
            "class": "models.MapDataLocation",
            "lat": 53.8411,
            "lng": -1.98449
           },
           "BD22 0RY": {
            "class": "models.MapDataLocation",
            "lat": 53.8431,
            "lng": -1.97575
           },
           "BD22 0RZ": {
            "class": "models.MapDataLocation",
            "lat": 53.8461,
            "lng": -1.96402
           },
           "BD22 0SB": {
            "class": "models.MapDataLocation",
            "lat": 53.8656,
            "lng": -1.95313
           },
           "BD22 0TD": {
            "class": "models.MapDataLocation",
            "lat": 53.8377,
            "lng": -1.94283
           },
           "BD22 6EA": {
            "class": "models.MapDataLocation",
            "lat": 53.8629,
            "lng": -1.91989
           },
           "BD22 6PG": {
            "class": "models.MapDataLocation",
            "lat": 53.8706,
            "lng": -1.93458
           },
           "BD22 6PJ": {
            "class": "models.MapDataLocation",
            "lat": 53.8705,
            "lng": -1.93357
           },
           "BD22 7EU": {
            "class": "models.MapDataLocation",
            "lat": 53.8488,
            "lng": -1.94644
           },
           "BD22 7JD": {
            "class": "models.MapDataLocation",
            "lat": 53.8477,
            "lng": -1.953
           },
           "BD22 7PB": {
            "class": "models.MapDataLocation",
            "lat": 53.846,
            "lng": -1.95327
           },
           "BD22 7PY": {
            "class": "models.MapDataLocation",
            "lat": 53.8432,
            "lng": -1.95765
           },
           "BD22 7SA": {
            "class": "models.MapDataLocation",
            "lat": 53.8385,
            "lng": -1.96068
           }
          },
          "received_time": "2021-04-09 16:17"
         },
         "INCD-170312-A": {
          "description": "Unknown P1 In Progress",
          "estimated_restored_time": "",
          "incident_active": true,
          "incident_url": "https://www.northernpowergrid.com/power-cuts",
          "postcodes_impacted": {
           "HG5 0LZ": {
            "class": "models.MapDataLocation",
            "lat": 54.0191,
            "lng": -1.46347
           }
          },
          "received_time": "2021-04-09 16:54"
         },
         "INCD-170319-A": {
          "description": "Unknown P2 Awaiting",
          "estimated_restored_time": "2021-04-09 20:15",
          "incident_active": true,
          "incident_url": "https://www.northernpowergrid.com/power-cuts",
          "postcodes_impacted": {
           "SR5 5NL": {
            "class": "models.MapDataLocation",
            "lat": 54.9255,
            "lng": -1.42818
           }
          },
          "received_time": "2021-04-09 17:10"
         },
         "INCD-170320-A": {
          "description": "Unknown P2 Awaiting",
          "estimated_restored_time": "2021-04-09 20:15",
          "incident_active": true,
          "incident_url": "https://www.northernpowergrid.com/power-cuts",
          "postcodes_impacted": {
           "DL14 0NB": {
            "class": "models.MapDataLocation",
            "lat": 54.6383,
            "lng": -1.76061
           }
          },
          "received_time": "2021-04-09 17:11"
         },
         "PPC039123": {
          "description": "We need to temporarily turn the power off to carry out power upgrades in the area. The scheduled work has now been completed",
          "estimated_restored_time": "2021-04-09 13:00",
          "incident_active": true,
          "incident_url": "https://www.northernpowergrid.com/power-cuts",
          "postcodes_impacted": {
           "NE21 4SY": {
            "class": "models.MapDataLocation",
            "lat": 54.9594,
            "lng": -1.74275
           },
           "NE21 4SZ": {
            "class": "models.MapDataLocation",
            "lat": 54.9586,
            "lng": -1.74094
           },
           "NE21 4TA": {
            "class": "models.MapDataLocation",
            "lat": 54.9577,
            "lng": -1.74058
           },
           "NE21 6DZ": {
            "class": "models.MapDataLocation",
            "lat": 54.9561,
            "lng": -1.73382
           },
           "NE21 6JJ": {
            "class": "models.MapDataLocation",
            "lat": 54.9549,
            "lng": -1.74264
           },
           "NE21 6JL": {
            "class": "models.MapDataLocation",
            "lat": 54.9554,
            "lng": -1.74139
           },
           "NE21 6JN": {
            "class": "models.MapDataLocation",
            "lat": 54.955,
            "lng": -1.74665
           },
           "NE21 6JR": {
            "class": "models.MapDataLocation",
            "lat": 54.9543,
            "lng": -1.74083
           },
           "NE21 6JW": {
            "class": "models.MapDataLocation",
            "lat": 54.9562,
            "lng": -1.75156
           }
          },
          "received_time": "2021-04-09 09:00"
         },
         "PPC039174": {
          "description": "We need to temporarily turn the power off to undertake vegetation management in the area. The scheduled work has now been completed",
          "estimated_restored_time": "2021-04-09 13:00",
          "incident_active": true,
          "incident_url": "https://www.northernpowergrid.com/power-cuts",
          "postcodes_impacted": {
           "LN7 6JY": {
            "class": "models.MapDataLocation",
            "lat": 53.5228,
            "lng": -0.419666
           },
           "LN7 6JZ": {
            "class": "models.MapDataLocation",
            "lat": 53.5237,
            "lng": -0.42138
           },
           "LN7 6LQ": {
            "class": "models.MapDataLocation",
            "lat": 53.5236,
            "lng": -0.422199
           }
          },
          "received_time": "2021-04-09 08:00"
         },
         "PPC039180": {
          "description": "We need to temporarily turn the power off to carry out maintenance on our network in the area. The scheduled work has now been completed",
          "estimated_restored_time": "2021-04-09 10:00",
          "incident_active": true,
          "incident_url": "https://www.northernpowergrid.com/power-cuts",
          "postcodes_impacted": {
           "YO62 6UN": {
            "class": "models.MapDataLocation",
            "lat": 54.3246,
            "lng": -0.925091
           },
           "YO62 7XH": {
            "class": "models.MapDataLocation",
            "lat": 54.3354,
            "lng": -0.953371
           },
           "YO62 7XJ": {
            "class": "models.MapDataLocation",
            "lat": 54.3245,
            "lng": -0.94825
           }
          },
          "received_time": "2021-04-09 09:30"
         },
         "PPC039181": {
          "description": "We need to temporarily turn the power off to carry out maintenance on our network in the area. The scheduled work has now been completed",
          "estimated_restored_time": "2021-04-09 11:00",
          "incident_active": true,
          "incident_url": "https://www.northernpowergrid.com/power-cuts",
          "postcodes_impacted": {
           "YO62 7HX": {
            "class": "models.MapDataLocation",
            "lat": 54.3013,
            "lng": -0.952977
           }
          },
          "received_time": "2021-04-09 10:30"
         },
         "PPC039351": {
          "description": "We need to temporarily turn the power off to undertake vegetation management in the area. The scheduled work has now been completed",
          "estimated_restored_time": "2021-04-09 10:30",
          "incident_active": true,
          "incident_url": "https://www.northernpowergrid.com/power-cuts",
          "postcodes_impacted": {
           "DL14 9NW": {
            "class": "models.MapDataLocation",
            "lat": 54.6127,
            "lng": -1.74999
           }
          },
          "received_time": "2021-04-09 08:00"
         },
         "PPC039370": {
          "description": "We need to temporarily turn the power off to carry out replacement of poles that support our overhead power lines in the area. In Progress",
          "estimated_restored_time": "2021-04-16 15:00",
          "incident_active": true,
          "incident_url": "https://www.northernpowergrid.com/power-cuts",
          "postcodes_impacted": {
           "NE48 2RJ": {
            "class": "models.MapDataLocation",
            "lat": 55.1631,
            "lng": -2.18123
           },
           "NE61 4AE": {
            "class": "models.MapDataLocation",
            "lat": 55.1278,
            "lng": -1.93382
           }
          },
          "received_time": "2021-04-09 08:00"
         },
         "PPC039545": {
          "description": "We need to temporarily turn the power off to carry out replacement of poles that support our overhead power lines in the area. The scheduled work has now been completed",
          "estimated_restored_time": "2021-04-09 15:00",
          "incident_active": true,
          "incident_url": "https://www.northernpowergrid.com/power-cuts",
          "postcodes_impacted": {
           "DH7 0AB": {
            "class": "models.MapDataLocation",
            "lat": 54.828,
            "lng": -1.70789
           },
           "DH7 0BE": {
            "class": "models.MapDataLocation",
            "lat": 54.8309,
            "lng": -1.70283
           },
           "DH7 0BP": {
            "class": "models.MapDataLocation",
            "lat": 54.8302,
            "lng": -1.70595
           },
           "DH7 0BW": {
            "class": "models.MapDataLocation",
            "lat": 54.8303,
            "lng": -1.70582
           },
           "DH7 0DA": {
            "class": "models.MapDataLocation",
            "lat": 54.83,
            "lng": -1.70505
           },
           "DH7 0DB": {
            "class": "models.MapDataLocation",
            "lat": 54.8293,
            "lng": -1.70363
           },
           "DH7 0DD": {
            "class": "models.MapDataLocation",
            "lat": 54.8316,
            "lng": -1.70454
           },
           "DH7 0DE": {
            "class": "models.MapDataLocation",
            "lat": 54.8306,
            "lng": -1.70542
           },
           "DH7 0DL": {
            "class": "models.MapDataLocation",
            "lat": 54.8264,
            "lng": -1.71245
           },
           "DH7 0DP": {
            "class": "models.MapDataLocation",
            "lat": 54.832,
            "lng": -1.70159
           },
           "DH7 0EA": {
            "class": "models.MapDataLocation",
            "lat": 54.8307,
            "lng": -1.70439
           },
           "DH7 0EQ": {
            "class": "models.MapDataLocation",
            "lat": 54.8328,
            "lng": -1.70149
           }
          },
          "received_time": "2021-04-09 09:00"
         },
         "PPC039560": {
          "description": "We need to temporarily turn the power off to undertake vegetation management in the area. The scheduled work has now been completed",
          "estimated_restored_time": "2021-04-09 13:00",
          "incident_active": true,
          "incident_url": "https://www.northernpowergrid.com/power-cuts",
          "postcodes_impacted": {
           "DN20 8NA": {
            "class": "models.MapDataLocation",
            "lat": 53.549,
            "lng": -0.497721
           },
           "DN20 9EY": {
            "class": "models.MapDataLocation",
            "lat": 53.548,
            "lng": -0.480793
           },
           "DN20 9HW": {
            "class": "models.MapDataLocation",
            "lat": 53.5481,
            "lng": -0.490945
           }
          },
          "received_time": "2021-04-09 08:00"
         },
         "PPC039568": {
          "description": "We need to temporarily turn the power off to undertake vegetation management in the area. The scheduled work has now been completed",
          "estimated_restored_time": "2021-04-09 14:30",
          "incident_active": true,
          "incident_url": "https://www.northernpowergrid.com/power-cuts",
          "postcodes_impacted": {
           "BD23 4DT": {
            "class": "models.MapDataLocation",
            "lat": 54.0057,
            "lng": -2.15277
           },
           "BD23 4DU": {
            "class": "models.MapDataLocation",
            "lat": 54.002,
            "lng": -2.14596
           }
          },
          "received_time": "2021-04-09 08:00"
         },
         "PPC039725": {
          "description": "We need to temporarily turn the power off to carry out replacement work on our overhead power lines in the area. The scheduled work has now been completed",
          "estimated_restored_time": "2021-04-09 12:30",
          "incident_active": true,
          "incident_url": "https://www.northernpowergrid.com/power-cuts",
          "postcodes_impacted": {
           "NE40 3AA": {
            "class": "models.MapDataLocation",
            "lat": 54.9727,
            "lng": -1.77236
           },
           "NE40 3AJ": {
            "class": "models.MapDataLocation",
            "lat": 54.9727,
            "lng": -1.77118
           },
           "NE40 3AN": {
            "class": "models.MapDataLocation",
            "lat": 54.9736,
            "lng": -1.7705
           },
           "NE40 3AQ": {
            "class": "models.MapDataLocation",
            "lat": 54.9721,
            "lng": -1.77168
           },
           "NE40 3AR": {
            "class": "models.MapDataLocation",
            "lat": 54.9711,
            "lng": -1.77417
           },
           "NE40 3AT": {
            "class": "models.MapDataLocation",
            "lat": 54.9715,
            "lng": -1.77429
           },
           "NE40 3AW": {
            "class": "models.MapDataLocation",
            "lat": 54.9729,
            "lng": -1.77177
           },
           "NE40 3BT": {
            "class": "models.MapDataLocation",
            "lat": 54.9725,
            "lng": -1.76669
           }
          },
          "received_time": "2021-04-09 08:30"
         },
         "PPC039749": {
          "description": "We need to temporarily turn the power off to connect a new customer in the area. The scheduled work has now been completed",
          "estimated_restored_time": "2021-04-09 12:30",
          "incident_active": true,
          "incident_url": "https://www.northernpowergrid.com/power-cuts",
          "postcodes_impacted": {
           "DH1 5RD": {
            "class": "models.MapDataLocation",
            "lat": 54.8011,
            "lng": -1.61093
           },
           "DH1 5RH": {
            "class": "models.MapDataLocation",
            "lat": 54.8027,
            "lng": -1.61063
           },
           "DH1 5RQ": {
            "class": "models.MapDataLocation",
            "lat": 54.8021,
            "lng": -1.6124
           }
          },
          "received_time": "2021-04-09 08:30"
         },
         "PPC039763": {
          "description": "We need to temporarily turn the power off to carry out a permanent repair in the area. The scheduled work has now been completed",
          "estimated_restored_time": "2021-04-09 13:00",
          "incident_active": true,
          "incident_url": "https://www.northernpowergrid.com/power-cuts",
          "postcodes_impacted": {
           "BD6 2PZ": {
            "class": "models.MapDataLocation",
            "lat": 53.756,
            "lng": -1.78804
           },
           "BD6 2QG": {
            "class": "models.MapDataLocation",
            "lat": 53.7571,
            "lng": -1.78951
           },
           "BD6 2QL": {
            "class": "models.MapDataLocation",
            "lat": 53.7571,
            "lng": -1.79096
           },
           "BD6 2RE": {
            "class": "models.MapDataLocation",
            "lat": 53.7564,
            "lng": -1.79759
           },
           "BD6 2RH": {
            "class": "models.MapDataLocation",
            "lat": 53.7563,
            "lng": -1.79824
           },
           "BD6 2RL": {
            "class": "models.MapDataLocation",
            "lat": 53.7563,
            "lng": -1.79824
           },
           "BD6 2SB": {
            "class": "models.MapDataLocation",
            "lat": 53.7549,
            "lng": -1.7892
           },
           "BD6 3EW": {
            "class": "models.MapDataLocation",
            "lat": 53.7687,
            "lng": -1.80334
           }
          },
          "received_time": "2021-04-09 09:00"
         },
         "PPC039771": {
          "description": "We need to temporarily turn the power off to connect a new customer in the area. The scheduled work has now been completed",
          "estimated_restored_time": "2021-04-09 14:00",
          "incident_active": true,
          "incident_url": "https://www.northernpowergrid.com/power-cuts",
          "postcodes_impacted": {
           "HG3 1QU": {
            "class": "models.MapDataLocation",
            "lat": 53.9623,
            "lng": -1.60567
           }
          },
          "received_time": "2021-04-09 08:00"
         },
         "PPC039814": {
          "description": "We need to temporarily turn the power off to carry out a permanent repair in the area. The scheduled work has now been completed",
          "estimated_restored_time": "2021-04-09 13:00",
          "incident_active": true,
          "incident_url": "https://www.northernpowergrid.com/power-cuts",
          "postcodes_impacted": {
           "WF17 5AY": {
            "class": "models.MapDataLocation",
            "lat": 53.709,
            "lng": -1.63158
           },
           "WF17 5PT": {
            "class": "models.MapDataLocation",
            "lat": 53.7093,
            "lng": -1.62903
           },
           "WF17 5PU": {
            "class": "models.MapDataLocation",
            "lat": 53.7093,
            "lng": -1.62802
           },
           "WF17 5QA": {
            "class": "models.MapDataLocation",
            "lat": 53.7084,
            "lng": -1.62747
           },
           "WF17 6HY": {
            "class": "models.MapDataLocation",
            "lat": 53.7079,
            "lng": -1.62697
           }
          },
          "received_time": "2021-04-09 09:00"
         },
         "PPC039816": {
          "description": "We need to temporarily turn the power off to carry out a permanent repair in the area. The scheduled work has now been completed",
          "estimated_restored_time": "2021-04-09 14:00",
          "incident_active": true,
          "incident_url": "https://www.northernpowergrid.com/power-cuts",
          "postcodes_impacted": {
           "LS12 1YL": {
            "class": "models.MapDataLocation",
            "lat": 53.7956,
            "lng": -1.57288
           },
           "LS12 1YN": {
            "class": "models.MapDataLocation",
            "lat": 53.7961,
            "lng": -1.57252
           },
           "LS12 2UB": {
            "class": "models.MapDataLocation",
            "lat": 53.7955,
            "lng": -1.57297
           }
          },
          "received_time": "2021-04-09 10:00"
         },
         "PPC039818": {
          "description": "We need to temporarily turn the power off to carry out a permanent repair in the area. The scheduled work has now been completed",
          "estimated_restored_time": "2021-04-09 13:00",
          "incident_active": true,
          "incident_url": "https://www.northernpowergrid.com/power-cuts",
          "postcodes_impacted": {
           "BD16 2RD": {
            "class": "models.MapDataLocation",
            "lat": 53.8519,
            "lng": -1.84021
           },
           "BD16 2RH": {
            "class": "models.MapDataLocation",
            "lat": 53.8516,
            "lng": -1.8417
           },
           "BD16 2RJ": {
            "class": "models.MapDataLocation",
            "lat": 53.8523,
            "lng": -1.84246
           },
           "BD16 2RL": {
            "class": "models.MapDataLocation",
            "lat": 53.852,
            "lng": -1.84306
           }
          },
          "received_time": "2021-04-09 09:00"
         },
         "PPC039821": {
          "description": "We need to temporarily turn the power off to carry out a permanent repair in the area. The scheduled work has now been completed",
          "estimated_restored_time": "2021-04-09 13:00",
          "incident_active": true,
          "incident_url": "https://www.northernpowergrid.com/power-cuts",
          "postcodes_impacted": {
           "YO8 8BJ": {
            "class": "models.MapDataLocation",
            "lat": 53.7823,
            "lng": -1.06122
           },
           "YO8 8BL": {
            "class": "models.MapDataLocation",
            "lat": 53.7829,
            "lng": -1.06028
           },
           "YO8 8BN": {
            "class": "models.MapDataLocation",
            "lat": 53.7821,
            "lng": -1.05951
           },
           "YO8 8BW": {
            "class": "models.MapDataLocation",
            "lat": 53.7822,
            "lng": -1.05721
           }
          },
          "received_time": "2021-04-09 08:30"
         },
         "PPC039826": {
          "description": "We need to temporarily turn the power off to carry out power upgrades in the area. In Progress",
          "estimated_restored_time": "2021-04-11 18:00",
          "incident_active": true,
          "incident_url": "https://www.northernpowergrid.com/power-cuts",
          "postcodes_impacted": {
           "HD8 9HH": {
            "class": "models.MapDataLocation",
            "lat": 53.5916,
            "lng": -1.61966
           }
          },
          "received_time": "2021-04-09 16:00"
         }
        },
        "sp": {
         "INCD-1806746-i": {
          "description": "There was a fault in your area which has now been resolved.  If you are still without power. please call us on: \nCentral and Southern Scotland: 0800 092 9290 . \n Cheshire, Merseyside, North Wales and North Shropshire: 0800 001 5400.",
          "estimated_restored_time": "",
          "incident_active": false,
          "incident_url": "https://www.spenergynetworks.co.uk/pages/power_cuts_map.aspx?incRef=INCD-1806746-i",
          "postcodes_impacted": [
           "L114SR",
           "L114TA",
           "L114TE",
           "L114UE"
          ],
          "received_time": "2021-04-07 22:04"
         },
         "INCD-1806920-i": {
          "description": "There was a fault in your area which has now been resolved.  If you are still without power. please call us on: \nCentral and Southern Scotland: 0800 092 9290 . \n Cheshire, Merseyside, North Wales and North Shropshire: 0800 001 5400.",
          "estimated_restored_time": "",
          "incident_active": false,
          "incident_url": "https://www.spenergynetworks.co.uk/pages/power_cuts_map.aspx?incRef=INCD-1806920-i",
          "postcodes_impacted": [
           "CW55DB"
          ],
          "received_time": "2021-04-08 11:08"
         },
         "INCD-1807004-i": {
          "description": "There was a fault in your area which has now been resolved.  If you are still without power. please call us on: \nCentral and Southern Scotland: 0800 092 9290 . \n Cheshire, Merseyside, North Wales and North Shropshire: 0800 001 5400.",
          "estimated_restored_time": "",
          "incident_active": false,
          "incident_url": "https://www.spenergynetworks.co.uk/pages/power_cuts_map.aspx?incRef=INCD-1807004-i",
          "postcodes_impacted": [
           "LL572DX",
           "LL572UJ",
           "LL572YD",
           "LL574SB",
           "LL574SG",
           "LL574SH",
           "LL574SN",
           "LL574SY",
           "LL574TA",
           "LL574TJ"
          ],
          "received_time": "2021-04-08 13:45"
         },
         "INCD-1807028-i": {
          "description": "There was a fault in your area which has now been resolved.  If you are still without power. please call us on: \nCentral and Southern Scotland: 0800 092 9290 . \n Cheshire, Merseyside, North Wales and North Shropshire: 0800 001 5400.",
          "estimated_restored_time": "",
          "incident_active": false,
          "incident_url": "https://www.spenergynetworks.co.uk/pages/power_cuts_map.aspx?incRef=INCD-1807028-i",
          "postcodes_impacted": [
           "CH448BT",
           "CH448BY",
           "CH448BZ",
           "CH448DA",
           "CH448DB",
           "CH448DD",
           "CH448DY"
          ],
          "received_time": "2021-04-08 14:15"
         },
         "INCD-1807118-i": {
          "description": "There was a fault in your area which has now been resolved.  If you are still without power. please call us on: \nCentral and Southern Scotland: 0800 092 9290 . \n Cheshire, Merseyside, North Wales and North Shropshire: 0800 001 5400.",
          "estimated_restored_time": "",
          "incident_active": false,
          "incident_url": "https://www.spenergynetworks.co.uk/pages/power_cuts_map.aspx?incRef=INCD-1807118-i",
          "postcodes_impacted": [
           "L12SJ",
           "L12SP",
           "L12TR",
           "L14AZ",
           "L14BB",
           "L14BL",
           "L14DL",
           "L14DR",
           "L14HF",
           "L14JF",
           "L14JQ",
           "L14JS",
           "L15EL",
           "L17AX",
           "L17AY",
           "L17BT",
           "L19AA",
           "L19AD",
           "L19AF",
           "L19AJ",
           "L19AL",
           "L19AR",
           "L19AS",
           "L19AW",
           "L19AX",
           "L19BB",
           "L19BG",
           "L19BP",
           "L19BQ",
           "L19BW",
           "L19BZ",
           "L19DA",
           "L19DF",
           "L19DN",
           "L19DS",
           "L19DT",
           "L19DU",
           "L19DW",
           "L19DY",
           "L19DZ",
           "L19EA",
           "L19EH",
           "L19EN",
           "L19ER",
           "L19EW",
           "L19EX",
           "L19HB",
           "L19HD",
           "L19HE",
           "L19HF",
           "L19HT",
           "L19JD",
           "L19JF",
           "L77BP",
           "L77DN",
           "L77DP",
           "L77DX",
           "L77EA",
           "L77EB",
           "L81NN",
           "L87JZ",
           "L87NE",
           "L87NH",
           "L87NL",
           "L87NN",
           "L87NP",
           "L87PB",
           "L87PE",
           "L87PH",
           "L87PJ",
           "L87PQ",
           "L87PU",
           "L87PY",
           "L87PZ",
           "L87TA"
          ],
          "received_time": "2021-04-08 17:27"
         },
         "INCD-1807142-i": {
          "description": "There was a fault in your area which has now been resolved.  If you are still without power. please call us on: \nCentral and Southern Scotland: 0800 092 9290 . \n Cheshire, Merseyside, North Wales and North Shropshire: 0800 001 5400.",
          "estimated_restored_time": "",
          "incident_active": false,
          "incident_url": "https://www.spenergynetworks.co.uk/pages/power_cuts_map.aspx?incRef=INCD-1807142-i",
          "postcodes_impacted": [
           "TD58NS",
           "TD58NT",
           "TD60EY",
           "TD60RH",
           "TD69EU",
           "TD86TX",
           "TD86TY",
           "TD86TZ",
           "TD86UJ",
           "TD86XH"
          ],
          "received_time": "2021-04-08 18:05"
         },
         "INCD-1807154-i": {
          "description": "There was a fault in your area which has now been resolved.  If you are still without power. please call us on: \nCentral and Southern Scotland: 0800 092 9290 . \n Cheshire, Merseyside, North Wales and North Shropshire: 0800 001 5400.",
          "estimated_restored_time": "",
          "incident_active": false,
          "incident_url": "https://www.spenergynetworks.co.uk/pages/power_cuts_map.aspx?incRef=INCD-1807154-i",
          "postcodes_impacted": [
           "G50PQ",
           "G626BW",
           "G727DW",
           "G776SJ",
           "G78",
           "G781",
           "G781AA",
           "G781AD",
           "G781AE",
           "G781AG",
           "G781AH",
           "G781AJ",
           "G781AL",
           "G781AQ",
           "G781AW",
           "G781AX",
           "G781AY",
           "G781AZ",
           "G781BA",
           "G781BB",
           "G781BD",
           "G781BH",
           "G781BP",
           "G781BQ",
           "G781BS",
           "G781BT",
           "G781BU",
           "G781BW",
           "G781BX",
           "G781DD",
           "G781DE",
           "G781DF",
           "G781DG",
           "G781DH",
           "G781DJ",
           "G781DN",
           "G781DP",
           "G781DQ",
           "G781DR",
           "G781DS",
           "G781DT",
           "G781DU",
           "G781DW",
           "G781DX",
           "G781DY",
           "G781EA",
           "G781EH",
           "G781EL",
           "G781EP",
           "G781EQ",
           "G781ES",
           "G781ET",
           "G781EU",
           "G781EW",
           "G781GA",
           "G781GB",
           "G781GD",
           "G781GE",
           "G781GF",
           "G781GG",
           "G781HA",
           "G781HB",
           "G781HD",
           "G781HF",
           "G781HH",
           "G781HJ",
           "G781HL",
           "G781HN",
           "G781HP",
           "G781HQ",
           "G781HR",
           "G781HS",
           "G781HT",
           "G781HU",
           "G781HW",
           "G781HX",
           "G781HY",
           "G781HZ",
           "G781JA",
           "G781JB",
           "G781JD",
           "G781JE",
           "G781JF",
           "G781JG",
           "G781JH",
           "G781JL",
           "G781JN",
           "G781JP",
           "G781JQ",
           "G781JR",
           "G781JS",
           "G781JT",
           "G781JU",
           "G781JX",
           "G781JY",
           "G781JZ",
           "G781LD",
           "G781LE",
           "G781LG",
           "G781LH",
           "G781LJ",
           "G781LL",
           "G781LN",
           "G781LP",
           "G781LR",
           "G781LS",
           "G781LT",
           "G781LU",
           "G781LW",
           "G781LX",
           "G781LZ",
           "G781NB",
           "G781ND",
           "G781NH",
           "G781NJ",
           "G781NL",
           "G781NN",
           "G781NP",
           "G781NQ",
           "G781NR",
           "G781NS",
           "G781NT",
           "G781NU",
           "G781NW",
           "G781NX",
           "G781NY",
           "G781NZ",
           "G781OO",
           "G781PA",
           "G781PB",
           "G781PD",
           "G781PE",
           "G781PF",
           "G781PG",
           "G781PH",
           "G781PJ",
           "G781PL",
           "G781PN",
           "G781PQ",
           "G781PR",
           "G781PS",
           "G781PT",
           "G781PW",
           "G781QA",
           "G781QB",
           "G781QJ",
           "G781QP",
           "G781QQ",
           "G781QW",
           "G781QX",
           "G781QY",
           "G781RB",
           "G781RE",
           "G781RF",
           "G781RG",
           "G781RX",
           "G781SB",
           "G781SP",
           "G781SS",
           "G781SU",
           "G781SX",
           "G781TA",
           "G781TB",
           "G781TG",
           "G781TJ",
           "G781TL",
           "G781TN",
           "G781TS",
           "G781TT",
           "G781TW",
           "G781TY",
           "G781TZ",
           "G781UA",
           "G781UL",
           "G781UT",
           "G781UU",
           "G781UX",
           "G781UY",
           "G781UZ",
           "G781WW",
           "G782AB",
           "G782AD",
           "G782AE",
           "G782AF",
           "G782AG",
           "G782BH",
           "G782BL",
           "G782BN",
           "G782BP",
           "G782EZ",
           "G782HA",
           "G782HB",
           "G782HF",
           "G782HQ",
           "G782LH",
           "G782LZ",
           "G782NA",
           "G782NB",
           "G782ND",
           "G782NG",
           "G782NH",
           "G782NJ",
           "G782NQ",
           "G782NZ",
           "G782PA",
           "G782PB",
           "G782PD",
           "G782PE",
           "G782PF",
           "G782QB",
           "G782QF",
           "G782QP",
           "G782RS",
           "G782SQ",
           "G782TH",
           "G782TJ",
           "G783AB",
           "G783AE",
           "G783AG",
           "G783EA",
           "G783HB",
           "G783JU",
           "G783LT",
           "G783LU",
           "G783LX",
           "G783LY",
           "G783NA",
           "G783ND",
           "G783NE",
           "G783NG",
           "G783PT",
           "G783XX",
           "ML36LR",
           "PA13PD",
           "PA13PF",
           "PA13WW"
          ],
          "received_time": "2021-04-08 18:35"
         },
         "INCD-1807160-i": {
          "description": "There was a fault in your area which has now been resolved.  If you are still without power. please call us on: \nCentral and Southern Scotland: 0800 092 9290 . \n Cheshire, Merseyside, North Wales and North Shropshire: 0800 001 5400.",
          "estimated_restored_time": "",
          "incident_active": false,
          "incident_url": "https://www.spenergynetworks.co.uk/pages/power_cuts_map.aspx?incRef=INCD-1807160-i",
          "postcodes_impacted": [
           "DG29FP",
           "G411EJ",
           "G51",
           "G511AA",
           "G514DP",
           "G514DU",
           "G514EN",
           "G514GX",
           "G514GZ",
           "G514HA",
           "G514HB",
           "G514HG",
           "G514HH",
           "G514HJ",
           "G514HL",
           "G514HN",
           "G514HW",
           "G514JJ",
           "G514JL",
           "G514TF",
           "G514UL",
           "G516SD",
           "G52",
           "G522AJ",
           "G522AL",
           "G522AN",
           "G522BJ",
           "G522BS",
           "G522BT",
           "G522BX",
           "G522BY",
           "G522BZ",
           "G522DA",
           "G522DB",
           "G522DD",
           "G522DE",
           "G522DF",
           "G522DG",
           "G522DH",
           "G522DJ",
           "G522DU",
           "G522DZ",
           "G522EA",
           "G522ED",
           "G522EE",
           "G522EJ",
           "G522EL",
           "G522EN",
           "G522EP",
           "G522EY",
           "G522EZ",
           "G522HJ",
           "G522HL",
           "G522HN",
           "G522HW",
           "G522HX",
           "G522HZ",
           "G522LX",
           "G522NE",
           "G522NF",
           "G522PE",
           "G522PF",
           "G522QF",
           "G522QG",
           "G522RH",
           "G522RJ",
           "G522RQ",
           "G522RX",
           "G522RY",
           "G522RZ",
           "G522SA",
           "G522SB",
           "G522SZ",
           "G522TA",
           "G523JG",
           "G523JH",
           "G523JL",
           "G523JP",
           "G523JQ",
           "G523JW",
           "G523LN",
           "G523LP",
           "G523LR",
           "G523LS",
           "G523LT",
           "G523LW",
           "G523PD",
           "G523PF",
           "G523PH",
           "G523PQ",
           "G523PT",
           "G523PU",
           "G523PX",
           "G523PY",
           "G523PZ",
           "G523QA",
           "G523QB",
           "G523SH",
           "G523SQ",
           "G524AA",
           "G524AB",
           "G524AD",
           "G524AE",
           "G524AF",
           "G524AJ",
           "G524AL",
           "G524AN",
           "G524AP",
           "G524AR",
           "G524AS",
           "G524AT",
           "G524AU",
           "G524AW",
           "G524AX",
           "G524AY",
           "G524AZ",
           "G524BA",
           "G524BB",
           "G524BD",
           "G524BE",
           "G524BS",
           "G524BT",
           "G524BU",
           "G524BX",
           "G524BY",
           "G524BZ",
           "G524DA",
           "G524DB",
           "G524DD",
           "G524DE",
           "G524DF",
           "G524DG",
           "G524DH",
           "G524DJ",
           "G524DN",
           "G524DQ",
           "G524EB",
           "G524ED",
           "G524EE",
           "G524EF",
           "G524EG",
           "G524EH",
           "G524EJ",
           "G524EN",
           "G524EQ",
           "G524FB",
           "G524FD",
           "G524FE",
           "G524FF",
           "G524FP",
           "G524HH",
           "G524HJ",
           "G524HL",
           "G524HN",
           "G524HP",
           "G524HR",
           "G524HS",
           "G524HT",
           "G524HU",
           "G524HW",
           "G524HX",
           "G524HY",
           "G524PH",
           "G524VV",
           "G53",
           "G531AA",
           "G536JB",
           "G536JE",
           "G536JF",
           "G536JG",
           "G536JJ",
           "G536JL",
           "G536JP",
           "G536JQ",
           "G536JS",
           "G536LP",
           "G536NL",
           "G536RA",
           "G536RB",
           "G536RE",
           "G536RU",
           "G536RX",
           "G536RY",
           "G536RZ",
           "G536SA",
           "G536SD",
           "G536SE",
           "G536SF",
           "G536SG",
           "G536SH",
           "G536SJ",
           "G536SL",
           "G536SQ",
           "G536SR",
           "G536SZ",
           "G536TD",
           "G537AG",
           "G537BE",
           "G537DY",
           "G537EA",
           "G537EB",
           "G537EH",
           "G537EJ",
           "G537FA",
           "G537FB",
           "G537FD",
           "G537FE",
           "G537FF",
           "G537FG",
           "G537FH",
           "G537FJ",
           "G537FL",
           "G537FN",
           "G537FP",
           "G537FQ",
           "G537FR",
           "G537FS",
           "G537FT",
           "G537FU",
           "G537FW",
           "G537FX",
           "G537GA",
           "G537GG",
           "G537LB",
           "G537LD",
           "G537LE",
           "G537LF",
           "G537LQ",
           "G537NP",
           "G537NR",
           "G537PQ",
           "G537TE",
           "G537UQ",
           "PA13",
           "PA13AA",
           "PA13AB",
           "PA13AD",
           "PA13AE",
           "PA13AJ",
           "PA13AL",
           "PA13AN",
           "PA13AP",
           "PA13AR",
           "PA13AS",
           "PA13AT",
           "PA13AU",
           "PA13AW",
           "PA13AX",
           "PA13BA",
           "PA13BB",
           "PA13BG",
           "PA13BH",
           "PA13BJ",
           "PA13BL",
           "PA13BN",
           "PA13BP",
           "PA13BQ",
           "PA13BS",
           "PA13BW",
           "PA13DA",
           "PA13DB",
           "PA13DD",
           "PA13DH",
           "PA13DL",
           "PA13DN",
           "PA13DP",
           "PA13DS",
           "PA13DT",
           "PA13DU",
           "PA13DX",
           "PA13DY",
           "PA13DZ",
           "PA13EA",
           "PA13EB",
           "PA13ED",
           "PA13EE",
           "PA13EF",
           "PA13EG",
           "PA13EQ",
           "PA13ER",
           "PA13ES",
           "PA13ET",
           "PA13EU",
           "PA13EX",
           "PA13EY",
           "PA13HA",
           "PA13HB",
           "PA13HD",
           "PA13HE",
           "PA13HF",
           "PA13HG",
           "PA13HH",
           "PA13HJ",
           "PA13HL",
           "PA13HQ",
           "PA13JL",
           "PA13JN",
           "PA13JP",
           "PA13JW"
          ],
          "received_time": "2021-04-08 18:35"
         },
         "INCD-1807166-i": {
          "description": "There was a fault in your area which has now been resolved.  If you are still without power. please call us on: \nCentral and Southern Scotland: 0800 092 9290 . \n Cheshire, Merseyside, North Wales and North Shropshire: 0800 001 5400.",
          "estimated_restored_time": "",
          "incident_active": false,
          "incident_url": "https://www.spenergynetworks.co.uk/pages/power_cuts_map.aspx?incRef=INCD-1807166-i",
          "postcodes_impacted": [
           "EH165JP",
           "EH411AA",
           "EH411GR",
           "EH412RF",
           "EH42",
           "EH421AA",
           "EH421AD",
           "EH421BB",
           "EH421BF",
           "EH421BX",
           "EH421DG",
           "EH421DH",
           "EH421DQ",
           "EH421DT",
           "EH421DU",
           "EH421DY",
           "EH421DZ",
           "EH421ED",
           "EH421EE",
           "EH421EH",
           "EH421EL",
           "EH421EN",
           "EH421EP",
           "EH421ER",
           "EH421ES",
           "EH421EW",
           "EH421EX",
           "EH421EY",
           "EH421FT",
           "EH421FZ",
           "EH421G",
           "EH421GA",
           "EH421GB",
           "EH421GD",
           "EH421GE",
           "EH421GF",
           "EH421GG",
           "EH421GH",
           "EH421GJ",
           "EH421GL",
           "EH421GN",
           "EH421GP",
           "EH421GQ",
           "EH421GR",
           "EH421GS",
           "EH421GT",
           "EH421GU",
           "EH421GW",
           "EH421GY",
           "EH421GZ",
           "EH421HA",
           "EH421HB",
           "EH421HD",
           "EH421HE",
           "EH421HF",
           "EH421HG",
           "EH421HJ",
           "EH421HX",
           "EH421HZ",
           "EH421JA",
           "EH421JB",
           "EH421JD",
           "EH421JE",
           "EH421JF",
           "EH421JG",
           "EH421JH",
           "EH421JP",
           "EH421JR",
           "EH421JS",
           "EH421JU",
           "EH421JX",
           "EH421JY",
           "EH421JZ",
           "EH421LA",
           "EH421LB",
           "EH421LD",
           "EH421LE",
           "EH421LF",
           "EH421LG",
           "EH421LJ",
           "EH421LL",
           "EH421LN",
           "EH421LP",
           "EH421LQ",
           "EH421LR",
           "EH421LS",
           "EH421LT",
           "EH421LU",
           "EH421LW",
           "EH421LX",
           "EH421LY",
           "EH421LZ",
           "EH421NA",
           "EH421NB",
           "EH421ND",
           "EH421NE",
           "EH421NF",
           "EH421PZ",
           "EH421QF",
           "EH421QG",
           "EH421QJ",
           "EH421QL",
           "EH421QN",
           "EH421QW",
           "EH421QZ",
           "EH421RA",
           "EH421RB",
           "EH421RD",
           "EH421RP",
           "EH421RR",
           "EH421RS",
           "EH421RT",
           "EH421RU",
           "EH421RX",
           "EH421SS",
           "EH421TN",
           "EH421UJ",
           "EH421UX",
           "EH421UZ",
           "EH421WG",
           "EH421WW",
           "EH421XB",
           "EH421YA",
           "EH421YB",
           "EH421YD",
           "EH421YE",
           "EH421YF",
           "EH421YG",
           "EH421YH",
           "EH421YQ",
           "EH421YR",
           "EH421YS"
          ],
          "received_time": "2021-04-08 19:11"
         },
         "INCD-1807196-i": {
          "description": "There was a fault in your area which has now been resolved.  If you are still without power. please call us on: \nCentral and Southern Scotland: 0800 092 9290 . \n Cheshire, Merseyside, North Wales and North Shropshire: 0800 001 5400.",
          "estimated_restored_time": "",
          "incident_active": false,
          "incident_url": "https://www.spenergynetworks.co.uk/pages/power_cuts_map.aspx?incRef=INCD-1807196-i",
          "postcodes_impacted": [
           "LL350RT",
           "SY231JG",
           "SY233PL",
           "SY235LA",
           "SY24",
           "SY245BA",
           "SY245HP",
           "SY245HT",
           "SY245HU",
           "SY245HW",
           "SY245HX",
           "SY245HY",
           "SY245HZ",
           "SY245JA",
           "SY245JB",
           "SY245JD",
           "SY245JE",
           "SY245JF",
           "SY245JG",
           "SY245JH",
           "SY245JP",
           "SY245JQ",
           "SY245JR",
           "SY245JS",
           "SY245JT",
           "SY245JU",
           "SY245JX",
           "SY245JY",
           "SY245JZ",
           "SY245LA",
           "SY245LB",
           "SY245LD",
           "SY245LE",
           "SY245LH",
           "SY245LJ",
           "SY245LL",
           "SY245LN",
           "SY245LP",
           "SY245LR",
           "SY245LT",
           "SY245LU",
           "SY245LW",
           "SY245NA",
           "SY245ND",
           "SY245NG",
           "SY245NH",
           "SY245NJ",
           "SY245NL",
           "SY245NN",
           "SY245NP",
           "SY245NQ",
           "SY245NR",
           "SY245NS",
           "SY245NW",
           "SY245NZ"
          ],
          "received_time": "2021-04-09 05:15"
         },
         "INCD-1807232-i": {
          "description": "There was a fault in your area which has now been resolved.  If you are still without power. please call us on: \nCentral and Southern Scotland: 0800 092 9290 . \n Cheshire, Merseyside, North Wales and North Shropshire: 0800 001 5400.",
          "estimated_restored_time": "",
          "incident_active": false,
          "incident_url": "https://www.spenergynetworks.co.uk/pages/power_cuts_map.aspx?incRef=INCD-1807232-i",
          "postcodes_impacted": [
           "DG13PX",
           "L35",
           "ST71LY",
           "ST71NE",
           "ST71NG",
           "ST71NN",
           "ST71NQ",
           "ST72AX",
           "ST73AB",
           "ST73AD",
           "ST73AE",
           "ST73AF",
           "ST73AG",
           "ST73AJ",
           "ST73AL",
           "ST73AN",
           "ST73AP",
           "ST73AQ",
           "ST73AS",
           "ST73AT",
           "ST73AU",
           "ST73AW",
           "ST73AX",
           "ST73AY",
           "ST73AZ",
           "ST73BA",
           "ST73BB",
           "ST73BD",
           "ST73BG",
           "ST73BH",
           "ST73BJ",
           "ST73BL",
           "ST73BN",
           "ST73BQ",
           "ST73BT",
           "ST73BU",
           "ST73BX",
           "ST73BY",
           "ST73DA",
           "ST73DB",
           "ST73DD",
           "ST73DE",
           "ST73DL",
           "ST73EH",
           "ST73ET",
           "ST73FA",
           "ST73HA",
           "ST73HB",
           "ST73JZ",
           "ST73LB",
           "ST73LE",
           "ST73LF",
           "ST73LG",
           "ST73LH",
           "ST73ND",
           "ST73NG",
           "ST73NH",
           "ST73NJ",
           "ST73NL",
           "ST73NN",
           "ST73NP",
           "ST73NQ",
           "ST73NR",
           "ST73NS",
           "ST73NT",
           "ST73NU",
           "ST73NW",
           "ST73NX",
           "ST73NY",
           "ST73NZ",
           "ST73PA",
           "ST73PB",
           "ST73PD",
           "ST73PE",
           "ST73PF",
           "ST73PX",
           "ST73PY",
           "ST73UX",
           "ST74HA",
           "ST74NP",
           "ST74NR",
           "ST74NS",
           "ST74NT",
           "ST74NU",
           "ST74NW",
           "ST74NX",
           "ST74NY",
           "ST74NZ",
           "ST74PA",
           "ST74PB",
           "ST74PD",
           "ST74PE",
           "ST74PF"
          ],
          "received_time": "2021-04-09 06:19"
         },
         "INCD-1807244-i": {
          "description": "There was a fault in your area which has now been resolved.  If you are still without power. please call us on: \nCentral and Southern Scotland: 0800 092 9290 . \n Cheshire, Merseyside, North Wales and North Shropshire: 0800 001 5400.",
          "estimated_restored_time": "",
          "incident_active": false,
          "incident_url": "https://www.spenergynetworks.co.uk/pages/power_cuts_map.aspx?incRef=INCD-1807244-i",
          "postcodes_impacted": [
           "LL139SG"
          ],
          "received_time": "2021-04-09 08:39"
         },
         "INCD-1807250-i": {
          "description": "There was a fault in your area which has now been resolved.  If you are still without power. please call us on: \nCentral and Southern Scotland: 0800 092 9290 . \n Cheshire, Merseyside, North Wales and North Shropshire: 0800 001 5400.",
          "estimated_restored_time": "",
          "incident_active": false,
          "incident_url": "https://www.spenergynetworks.co.uk/pages/power_cuts_map.aspx?incRef=INCD-1807250-i",
          "postcodes_impacted": [
           "*******",
           "LL595DB",
           "LL595EP",
           "LL595EY"
          ],
          "received_time": "2021-04-09 08:47"
         },
         "INCD-1807256-i": {
          "description": "There was a fault in your area which has now been resolved.  If you are still without power. please call us on: \nCentral and Southern Scotland: 0800 092 9290 . \n Cheshire, Merseyside, North Wales and North Shropshire: 0800 001 5400.",
          "estimated_restored_time": "",
          "incident_active": false,
          "incident_url": "https://www.spenergynetworks.co.uk/pages/power_cuts_map.aspx?incRef=INCD-1807256-i",
          "postcodes_impacted": [
           "LL207UL",
           "LL207UP",
           "LL207UR",
           "LL207UY",
           "LL207YA",
           "LL207YB",
           "LL207YD",
           "LL207YE",
           "LL207YL",
           "LL207YN",
           "LL207YP",
           "LL207YW",
           "LL208EG"
          ],
          "received_time": "2021-04-09 09:02"
         },
         "INCD-1807310-i": {
          "description": "There was a fault in your area which has now been resolved.  If you are still without power. please call us on: \nCentral and Southern Scotland: 0800 092 9290 . \n Cheshire, Merseyside, North Wales and North Shropshire: 0800 001 5400.",
          "estimated_restored_time": "",
          "incident_active": false,
          "incident_url": "https://www.spenergynetworks.co.uk/pages/power_cuts_map.aspx?incRef=INCD-1807310-i",
          "postcodes_impacted": [
           "SY108QY"
          ],
          "received_time": "2021-04-09 10:25"
         },
         "INCD-1807358-i": {
          "description": "There was a fault in your area which has now been resolved.  If you are still without power. please call us on: \nCentral and Southern Scotland: 0800 092 9290 . \n Cheshire, Merseyside, North Wales and North Shropshire: 0800 001 5400.",
          "estimated_restored_time": "",
          "incident_active": false,
          "incident_url": "https://www.spenergynetworks.co.uk/pages/power_cuts_map.aspx?incRef=INCD-1807358-i",
          "postcodes_impacted": [
           "WA95GZ"
          ],
          "received_time": "2021-04-09 11:57"
         },
         "INCD-1807364-i": {
          "description": "There was a fault in your area which has now been resolved.  If you are still without power. please call us on: \nCentral and Southern Scotland: 0800 092 9290 . \n Cheshire, Merseyside, North Wales and North Shropshire: 0800 001 5400.",
          "estimated_restored_time": "",
          "incident_active": false,
          "incident_url": "https://www.spenergynetworks.co.uk/pages/power_cuts_map.aspx?incRef=INCD-1807364-i",
          "postcodes_impacted": [
           "SY109LB"
          ],
          "received_time": "2021-04-09 11:59"
         },
         "INCD-1807418-i": {
          "description": "There was a fault in your area which has now been resolved.  If you are still without power. please call us on: \nCentral and Southern Scotland: 0800 092 9290 . \n Cheshire, Merseyside, North Wales and North Shropshire: 0800 001 5400.",
          "estimated_restored_time": "",
          "incident_active": false,
          "incident_url": "https://www.spenergynetworks.co.uk/pages/power_cuts_map.aspx?incRef=INCD-1807418-i",
          "postcodes_impacted": [
           "*******",
           "LL58",
           "LL581AA",
           "LL588AA",
           "LL588AB",
           "LL588AD",
           "LL588AE",
           "LL588AF",
           "LL588AG",
           "LL588AJ",
           "LL588AL",
           "LL588AP",
           "LL588AU",
           "LL588AW",
           "LL588AX",
           "LL588AY",
           "LL588BB",
           "LL588BD",
           "LL588BE",
           "LL588BG",
           "LL588BH",
           "LL588BL",
           "LL588BN",
           "LL588BP",
           "LL588BS",
           "LL588BU",
           "LL588BW",
           "LL588BY",
           "LL588DA",
           "LL588DB",
           "LL588DL",
           "LL588DN",
           "LL588DP",
           "LL588DR",
           "LL588DS",
           "LL588DT",
           "LL588DU",
           "LL588DW",
           "LL588DY",
           "LL588EA",
           "LL588EB",
           "LL588ED",
           "LL588EE",
           "LL588EF",
           "LL588EG",
           "LL588EH",
           "LL588EJ",
           "LL588EL",
           "LL588EN",
           "LL588EP",
           "LL588ER",
           "LL588ES",
           "LL588ET",
           "LL588EU",
           "LL588EW",
           "LL588EY",
           "LL588HA",
           "LL588HB",
           "LL588HD",
           "LL588HE",
           "LL588HF",
           "LL588HG",
           "LL588HH",
           "LL588HL",
           "LL588HN",
           "LL588HP",
           "LL588HR",
           "LL588HW",
           "LL588PS",
           "LL588RA",
           "LL588SA",
           "LL588TH",
           "LL588UF",
           "LL588UT",
           "LL588YH",
           "LL588YL",
           "LL588YN",
           "LL588YQ",
           "LL588YS",
           "LL588YT",
           "LL588YU",
           "LL588YW",
           "LL588YX",
           "LL689EY"
          ],
          "received_time": "2021-04-09 13:04"
         },
         "INCD-1807436-i": {
          "description": "There is a power cut in the L28 postcode area of Liverpool affecting properties in Barons Hey and the surrounding area. Due to further investigations required on site we now expect to have supplies restored by 6:30pm.We will update this message if this information changes. We apologise for the inconvenience and thank you for your patience. This message was updated at 4:15pm on the 9th April 2021.",
          "estimated_restored_time": "2021-04-09 17:30",
          "incident_active": true,
          "incident_url": "https://www.spenergynetworks.co.uk/pages/power_cuts_map.aspx?incRef=INCD-1807436-i",
          "postcodes_impacted": [
           "L280QA",
           "L280QB",
           "L280QF",
           "L280QG",
           "L280QQ",
           "L288AF"
          ],
          "received_time": "2021-04-09 13:44"
         },
         "INCD-1807454-i": {
          "description": "There was a fault in your area which has now been resolved.  If you are still without power. please call us on: \nCentral and Southern Scotland: 0800 092 9290 . \n Cheshire, Merseyside, North Wales and North Shropshire: 0800 001 5400.",
          "estimated_restored_time": "",
          "incident_active": false,
          "incident_url": "https://www.spenergynetworks.co.uk/pages/power_cuts_map.aspx?incRef=INCD-1807454-i",
          "postcodes_impacted": [
           "SY109LB"
          ],
          "received_time": "2021-04-09 13:53"
         },
         "INCD-1807490-i": {
          "description": "We are aware of a fault in your area. If you require more information please call us on: \nCentral and Southern Scotland:  0800 092 9290 . \n Cheshire, Merseyside, North Wales and North Shropshire: 0800 001 5400.",
          "estimated_restored_time": "",
          "incident_active": true,
          "incident_url": "https://www.spenergynetworks.co.uk/pages/power_cuts_map.aspx?incRef=INCD-1807490-i",
          "postcodes_impacted": [
           "L362QJ"
          ],
          "received_time": "2021-04-09 15:52"
         },
         "INCD-370816-r": {
          "description": "There is an unplanned power cut affecting the CH43 postcode area of Prenton, affecting properties in St Oswald Avenue, Stoneridge Court and surrounding streets. It will be necessary for our engineers to carry out an emergency shutdown at 6:00PM due to emergency repairs required to the underground cable network. Our team will be carrying out repair work safely on the underground cable network and this may affect the supply to your property. We will work to get your power back on as quickly and as safely as possible, and we expect the power to be restored by 8:30PM. We will update this message if this information changes. We apologise for the inconvenience and thank you for your patience. This message was updated at 5:01PM on 9th April 2021.",
          "estimated_restored_time": "2021-04-09 19:30",
          "incident_active": true,
          "incident_url": "https://www.spenergynetworks.co.uk/pages/power_cuts_map.aspx?incRef=INCD-370816-r",
          "postcodes_impacted": [
           "CH427NH",
           "CH437NA",
           "CH437ND",
           "CH437NH",
           "CH437NJ",
           "CH437NL",
           "CH437NN",
           "CH437NP",
           "CH437NQ",
           "CH437NW",
           "CH437QL",
           "CH437QS",
           "CH437QW",
           "CH437TE",
           "CH437TF",
           "CH437TG",
           "CH437TT",
           "CH437TW",
           "CH437UA",
           "CH437XS",
           "CH437XT",
           "CH437XU",
           "CH437XX",
           "CH437XY",
           "CH437YB",
           "CH437YS",
           "CH437ZE",
           "CH437ZF",
           "CH437ZH",
           "CH437ZL",
           "CH437ZQ",
           "CH437ZS",
           "CH437ZT",
           "CH437ZW"
          ],
          "received_time": "2021-04-07 13:03"
         },
         "INCD-370924-r": {
          "description": "There was a fault in your area which has now been resolved.  If you are still without power. please call us on: \nCentral and Southern Scotland: 0800 092 9290 . \n Cheshire, Merseyside, North Wales and North Shropshire: 0800 001 5400.",
          "estimated_restored_time": "",
          "incident_active": false,
          "incident_url": "https://www.spenergynetworks.co.uk/pages/power_cuts_map.aspx?incRef=INCD-370924-r",
          "postcodes_impacted": [
           "WA7",
           "WA71DF",
           "WA71DG",
           "WA71DS",
           "WA71LD",
           "WA71LG",
           "WA71LJ",
           "WA71LL",
           "WA71LR",
           "WA71LX",
           "WA71NA",
           "WA71ND",
           "WA71NE",
           "WA71X"
          ],
          "received_time": "2021-04-08 08:58"
         },
         "INCD-371140-r": {
          "description": "There was a fault in your area which has now been resolved.  If you are still without power. please call us on: \nCentral and Southern Scotland: 0800 092 9290 . \n Cheshire, Merseyside, North Wales and North Shropshire: 0800 001 5400.",
          "estimated_restored_time": "",
          "incident_active": false,
          "incident_url": "https://www.spenergynetworks.co.uk/pages/power_cuts_map.aspx?incRef=INCD-371140-r",
          "postcodes_impacted": [
           "CH419DL",
           "CH419DN",
           "CH419DP",
           "CH419DR",
           "CH419DS",
           "CH419DT",
           "CH419DW",
           "CH419DY",
           "CH419EH",
           "CH419EQ",
           "CH419ER",
           "CH419HU",
           "CH638RB"
          ],
          "received_time": "2021-04-09 06:16"
         },
         "INCD-371158-r": {
          "description": "There was a fault in your area which has now been resolved.  If you are still without power. please call us on: \nCentral and Southern Scotland: 0800 092 9290 . \n Cheshire, Merseyside, North Wales and North Shropshire: 0800 001 5400.",
          "estimated_restored_time": "",
          "incident_active": false,
          "incident_url": "https://www.spenergynetworks.co.uk/pages/power_cuts_map.aspx?incRef=INCD-371158-r",
          "postcodes_impacted": [
           "CH428PQ",
           "CH429LF",
           "L428PG"
          ],
          "received_time": "2021-04-09 09:10"
         },
         "INCD-371218-r": {
          "description": "There was a fault in your area which has now been resolved.  If you are still without power. please call us on: \nCentral and Southern Scotland: 0800 092 9290 . \n Cheshire, Merseyside, North Wales and North Shropshire: 0800 001 5400.",
          "estimated_restored_time": "",
          "incident_active": false,
          "incident_url": "https://www.spenergynetworks.co.uk/pages/power_cuts_map.aspx?incRef=INCD-371218-r",
          "postcodes_impacted": [
           "L113BN",
           "L113DE",
           "L113DG",
           "L113DL",
           "L113DP",
           "L113DW",
           "L115AJ",
           "WA85BW",
           "WA89AL",
           "WA89AN",
           "WA89BN",
           "WA89BP"
          ],
          "received_time": "2021-04-09 10:59"
         },
         "INCD-371308-r": {
          "description": "There was a fault in your area which has now been resolved.  If you are still without power. please call us on: \nCentral and Southern Scotland: 0800 092 9290 . \n Cheshire, Merseyside, North Wales and North Shropshire: 0800 001 5400.",
          "estimated_restored_time": "",
          "incident_active": false,
          "incident_url": "https://www.spenergynetworks.co.uk/pages/power_cuts_map.aspx?incRef=INCD-371308-r",
          "postcodes_impacted": [
           "CW13FZ",
           "CW13GE",
           "CW13GG",
           "CW13GH",
           "CW13GN",
           "CW13LZ",
           "CW13NX",
           "CW13NY",
           "CW13PN",
           "CW13PP",
           "CW13PW",
           "CW13QU"
          ],
          "received_time": "2021-04-09 13:53"
         },
         "INCD-371344-r": {
          "description": "We are aware of a fault in your area. If you require more information please call us on: \nCentral and Southern Scotland:  0800 092 9290 . \n Cheshire, Merseyside, North Wales and North Shropshire: 0800 001 5400.",
          "estimated_restored_time": "",
          "incident_active": true,
          "incident_url": "https://www.spenergynetworks.co.uk/pages/power_cuts_map.aspx?incRef=INCD-371344-r",
          "postcodes_impacted": [
           "LL295RU",
           "LL297RU",
           "LL297SA",
           "LL298DN",
           "LL298DU",
           "LL298DW",
           "LL298EL",
           "LL298EP"
          ],
          "received_time": "2021-04-09 14:42"
         },
         "INCD-489509-k": {
          "description": "There was a planned outage in your area which is now complete.  If you are still without power. please call us on: \nCentral and Southern Scotland: 0800 092 9290 . \n Cheshire, Merseyside, North Wales and North Shropshire: 0800 001 5400.",
          "estimated_restored_time": "",
          "incident_active": false,
          "incident_url": "https://www.spenergynetworks.co.uk/pages/power_cuts_map.aspx?incRef=INCD-489509-k",
          "postcodes_impacted": [
           "CW82FJ",
           "CW82RJ",
           "CW82RL",
           "CW82RR",
           "CW82TL",
           "CW82TN",
           "CW82TR",
           "CW82TU",
           "CW82TW",
           "WA61NH",
           "WA68NF",
           "WA68NG",
           "WA68NH",
           "WA68NJ",
           "WA68NL",
           "WA68NY",
           "WA68NZ",
           "WA68PA",
           "WA68PD",
           "WA68PF",
           "WA68PH",
           "WA68PJ"
          ],
          "received_time": "2021-03-09 12:45"
         },
         "INCD-489533-k": {
          "description": "There was a planned outage in your area which is now complete.  If you are still without power. please call us on: \nCentral and Southern Scotland: 0800 092 9290 . \n Cheshire, Merseyside, North Wales and North Shropshire: 0800 001 5400.",
          "estimated_restored_time": "",
          "incident_active": false,
          "incident_url": "https://www.spenergynetworks.co.uk/pages/power_cuts_map.aspx?incRef=INCD-489533-k",
          "postcodes_impacted": [
           "CH87AU",
           "CH88LS"
          ],
          "received_time": "2021-03-09 12:59"
         },
         "INCD-489707-k": {
          "description": "There was a planned outage in your area which is now complete.  If you are still without power. please call us on: \nCentral and Southern Scotland: 0800 092 9290 . \n Cheshire, Merseyside, North Wales and North Shropshire: 0800 001 5400.",
          "estimated_restored_time": "",
          "incident_active": false,
          "incident_url": "https://www.spenergynetworks.co.uk/pages/power_cuts_map.aspx?incRef=INCD-489707-k",
          "postcodes_impacted": [
           "CW5",
           "CW58NP",
           "CW58PE",
           "CW58PF",
           "CW58PY",
           "CW58QA",
           "CW58QB",
           "CW58QD"
          ],
          "received_time": "2021-03-10 10:44"
         },
         "INCD-489725-k": {
          "description": "There was a planned outage in your area which is now complete.  If you are still without power. please call us on: \nCentral and Southern Scotland: 0800 092 9290 . \n Cheshire, Merseyside, North Wales and North Shropshire: 0800 001 5400.",
          "estimated_restored_time": "",
          "incident_active": false,
          "incident_url": "https://www.spenergynetworks.co.uk/pages/power_cuts_map.aspx?incRef=INCD-489725-k",
          "postcodes_impacted": [
           "LL595BT",
           "LL595BY"
          ],
          "received_time": "2021-03-10 11:07"
         },
         "INCD-489731-k": {
          "description": "There was a planned outage in your area which is now complete.  If you are still without power. please call us on: \nCentral and Southern Scotland: 0800 092 9290 . \n Cheshire, Merseyside, North Wales and North Shropshire: 0800 001 5400.",
          "estimated_restored_time": "",
          "incident_active": false,
          "incident_url": "https://www.spenergynetworks.co.uk/pages/power_cuts_map.aspx?incRef=INCD-489731-k",
          "postcodes_impacted": [
           "SY226TB",
           "SY226TD",
           "SY226TJ"
          ],
          "received_time": "2021-03-10 11:24"
         },
         "INCD-489743-k": {
          "description": "There was a planned outage in your area which is now complete.  If you are still without power. please call us on: \nCentral and Southern Scotland: 0800 092 9290 . \n Cheshire, Merseyside, North Wales and North Shropshire: 0800 001 5400.",
          "estimated_restored_time": "",
          "incident_active": false,
          "incident_url": "https://www.spenergynetworks.co.uk/pages/power_cuts_map.aspx?incRef=INCD-489743-k",
          "postcodes_impacted": [
           "SY164NH"
          ],
          "received_time": "2021-03-10 11:37"
         },
         "INCD-489821-k": {
          "description": "There was a planned outage in your area which is now complete.  If you are still without power. please call us on: \nCentral and Southern Scotland: 0800 092 9290 . \n Cheshire, Merseyside, North Wales and North Shropshire: 0800 001 5400.",
          "estimated_restored_time": "",
          "incident_active": false,
          "incident_url": "https://www.spenergynetworks.co.uk/pages/power_cuts_map.aspx?incRef=INCD-489821-k",
          "postcodes_impacted": [
           "CW82TF",
           "CW82TG",
           "CW82TQ",
           "WA68JS",
           "WA68LJ",
           "WA68LL",
           "WA68LN",
           "WA68LR",
           "WA68LW"
          ],
          "received_time": "2021-03-10 13:59"
         },
         "INCD-489833-k": {
          "description": "There was a planned outage in your area which is now complete.  If you are still without power. please call us on: \nCentral and Southern Scotland: 0800 092 9290 . \n Cheshire, Merseyside, North Wales and North Shropshire: 0800 001 5400.",
          "estimated_restored_time": "",
          "incident_active": false,
          "incident_url": "https://www.spenergynetworks.co.uk/pages/power_cuts_map.aspx?incRef=INCD-489833-k",
          "postcodes_impacted": [
           "WA61AA",
           "WA66LH",
           "WA66LJ",
           "WA66NL",
           "WA66NY",
           "WA66NZ",
           "WA68JN",
           "WA68LR",
           "WA68ND",
           "WA68NE",
           "WA68NF"
          ],
          "received_time": "2021-03-10 14:07"
         },
         "INCD-489899-k": {
          "description": "There was a planned outage in your area which is now complete.  If you are still without power. please call us on: \nCentral and Southern Scotland: 0800 092 9290 . \n Cheshire, Merseyside, North Wales and North Shropshire: 0800 001 5400.",
          "estimated_restored_time": "",
          "incident_active": false,
          "incident_url": "https://www.spenergynetworks.co.uk/pages/power_cuts_map.aspx?incRef=INCD-489899-k",
          "postcodes_impacted": [
           "L175AN"
          ],
          "received_time": "2021-03-10 15:21"
         },
         "INCD-490001-k": {
          "description": "There was a planned outage in your area which is now complete.  If you are still without power. please call us on: \nCentral and Southern Scotland: 0800 092 9290 . \n Cheshire, Merseyside, North Wales and North Shropshire: 0800 001 5400.",
          "estimated_restored_time": "",
          "incident_active": false,
          "incident_url": "https://www.spenergynetworks.co.uk/pages/power_cuts_map.aspx?incRef=INCD-490001-k",
          "postcodes_impacted": [
           "LL653EY"
          ],
          "received_time": "2021-03-11 10:00"
         },
         "INCD-490019-k": {
          "description": "There was a planned outage in your area which is now complete.  If you are still without power. please call us on: \nCentral and Southern Scotland: 0800 092 9290 . \n Cheshire, Merseyside, North Wales and North Shropshire: 0800 001 5400.",
          "estimated_restored_time": "",
          "incident_active": false,
          "incident_url": "https://www.spenergynetworks.co.uk/pages/power_cuts_map.aspx?incRef=INCD-490019-k",
          "postcodes_impacted": [
           "SY4",
           "SY44BA",
           "SY44BD"
          ],
          "received_time": "2021-03-11 10:11"
         },
         "INCD-490277-k": {
          "description": "There was a planned outage in your area which is now complete.  If you are still without power. please call us on: \nCentral and Southern Scotland: 0800 092 9290 . \n Cheshire, Merseyside, North Wales and North Shropshire: 0800 001 5400.",
          "estimated_restored_time": "",
          "incident_active": false,
          "incident_url": "https://www.spenergynetworks.co.uk/pages/power_cuts_map.aspx?incRef=INCD-490277-k",
          "postcodes_impacted": [
           "CW47LP",
           "CW47LW"
          ],
          "received_time": "2021-03-11 15:21"
         },
         "INCD-490883-k": {
          "description": "There was a planned outage in your area which is now complete.  If you are still without power. please call us on: \nCentral and Southern Scotland: 0800 092 9290 . \n Cheshire, Merseyside, North Wales and North Shropshire: 0800 001 5400.",
          "estimated_restored_time": "",
          "incident_active": false,
          "incident_url": "https://www.spenergynetworks.co.uk/pages/power_cuts_map.aspx?incRef=INCD-490883-k",
          "postcodes_impacted": [
           "LL185UB",
           "LL185UE"
          ],
          "received_time": "2021-03-15 14:17"
         },
         "INCD-491093-k": {
          "description": "There was a planned outage in your area which is now complete.  If you are still without power. please call us on: \nCentral and Southern Scotland: 0800 092 9290 . \n Cheshire, Merseyside, North Wales and North Shropshire: 0800 001 5400.",
          "estimated_restored_time": "",
          "incident_active": false,
          "incident_url": "https://www.spenergynetworks.co.uk/pages/power_cuts_map.aspx?incRef=INCD-491093-k",
          "postcodes_impacted": [
           "LL219SF"
          ],
          "received_time": "2021-03-16 12:07"
         },
         "INCD-491153-k": {
          "description": "There was a planned outage in your area which is now complete.  If you are still without power. please call us on: \nCentral and Southern Scotland: 0800 092 9290 . \n Cheshire, Merseyside, North Wales and North Shropshire: 0800 001 5400.",
          "estimated_restored_time": "",
          "incident_active": false,
          "incident_url": "https://www.spenergynetworks.co.uk/pages/power_cuts_map.aspx?incRef=INCD-491153-k",
          "postcodes_impacted": [
           "LL228DU",
           "LL228DX",
           "LL228DY",
           "LL228EB"
          ],
          "received_time": "2021-03-16 15:24"
         },
         "INCD-491837-k": {
          "description": "There was a planned outage in your area which is now complete.  If you are still without power. please call us on: \nCentral and Southern Scotland: 0800 092 9290 . \n Cheshire, Merseyside, North Wales and North Shropshire: 0800 001 5400.",
          "estimated_restored_time": "",
          "incident_active": false,
          "incident_url": "https://www.spenergynetworks.co.uk/pages/power_cuts_map.aspx?incRef=INCD-491837-k",
          "postcodes_impacted": [
           "CH39LF",
           "CH39LG",
           "CH39LH",
           "CH39LJ",
           "CH39LL",
           "CH39LQ",
           "H39LL"
          ],
          "received_time": "2021-03-22 11:25"
         },
         "INCD-492311-k": {
          "description": "There was a planned outage in your area which is now complete.  If you are still without power. please call us on: \nCentral and Southern Scotland: 0800 092 9290 . \n Cheshire, Merseyside, North Wales and North Shropshire: 0800 001 5400.",
          "estimated_restored_time": "",
          "incident_active": false,
          "incident_url": "https://www.spenergynetworks.co.uk/pages/power_cuts_map.aspx?incRef=INCD-492311-k",
          "postcodes_impacted": [
           "SY44AE",
           "SY44AN",
           "SY44AP",
           "SY44AW",
           "SY44BA"
          ],
          "received_time": "2021-03-25 09:15"
         },
         "INCD-492467-k": {
          "description": "There was a planned outage in your area which is now complete.  If you are still without power. please call us on: \nCentral and Southern Scotland: 0800 092 9290 . \n Cheshire, Merseyside, North Wales and North Shropshire: 0800 001 5400.",
          "estimated_restored_time": "",
          "incident_active": false,
          "incident_url": "https://www.spenergynetworks.co.uk/pages/power_cuts_map.aspx?incRef=INCD-492467-k",
          "postcodes_impacted": [
           "KA20DW",
           "KA20EE",
           "KA32LY",
           "KA32PF"
          ],
          "received_time": "2021-03-26 09:44"
         },
         "INCD-492485-k": {
          "description": "There was a planned outage in your area which is now complete.  If you are still without power. please call us on: \nCentral and Southern Scotland: 0800 092 9290 . \n Cheshire, Merseyside, North Wales and North Shropshire: 0800 001 5400.",
          "estimated_restored_time": "",
          "incident_active": false,
          "incident_url": "https://www.spenergynetworks.co.uk/pages/power_cuts_map.aspx?incRef=INCD-492485-k",
          "postcodes_impacted": [
           "EH497LY",
           "EH497ND"
          ],
          "received_time": "2021-03-26 10:18"
         },
         "INCD-492503-k": {
          "description": "There was a planned outage in your area which is now complete.  If you are still without power. please call us on: \nCentral and Southern Scotland: 0800 092 9290 . \n Cheshire, Merseyside, North Wales and North Shropshire: 0800 001 5400.",
          "estimated_restored_time": "",
          "incident_active": false,
          "incident_url": "https://www.spenergynetworks.co.uk/pages/power_cuts_map.aspx?incRef=INCD-492503-k",
          "postcodes_impacted": [
           "KA20BY",
           "KA20DF",
           "KA20DH",
           "KA20DJ",
           "KA20DX",
           "KA20HL"
          ],
          "received_time": "2021-03-26 10:32"
         },
         "INCD-492539-k": {
          "description": "There was a planned outage in your area which is now complete.  If you are still without power. please call us on: \nCentral and Southern Scotland: 0800 092 9290 . \n Cheshire, Merseyside, North Wales and North Shropshire: 0800 001 5400.",
          "estimated_restored_time": "",
          "incident_active": false,
          "incident_url": "https://www.spenergynetworks.co.uk/pages/power_cuts_map.aspx?incRef=INCD-492539-k",
          "postcodes_impacted": [
           "KA151HH",
           "KA151HP",
           "KA151HQ",
           "KA151HT"
          ],
          "received_time": "2021-03-26 11:25"
         },
         "INCD-492545-k": {
          "description": "There was a planned outage in your area which is now complete.  If you are still without power. please call us on: \nCentral and Southern Scotland: 0800 092 9290 . \n Cheshire, Merseyside, North Wales and North Shropshire: 0800 001 5400.",
          "estimated_restored_time": "",
          "incident_active": false,
          "incident_url": "https://www.spenergynetworks.co.uk/pages/power_cuts_map.aspx?incRef=INCD-492545-k",
          "postcodes_impacted": [
           "KA36DU"
          ],
          "received_time": "2021-03-26 12:08"
         },
         "INCD-492701-k": {
          "description": "There was a planned outage in your area which is now complete.  If you are still without power. please call us on: \nCentral and Southern Scotland: 0800 092 9290 . \n Cheshire, Merseyside, North Wales and North Shropshire: 0800 001 5400.",
          "estimated_restored_time": "",
          "incident_active": false,
          "incident_url": "https://www.spenergynetworks.co.uk/pages/power_cuts_map.aspx?incRef=INCD-492701-k",
          "postcodes_impacted": [
           "FK12JL",
           "FK12JW"
          ],
          "received_time": "2021-03-26 15:50"
         },
         "INCD-492905-k": {
          "description": "There was a planned outage in your area which is now complete.  If you are still without power. please call us on: \nCentral and Southern Scotland: 0800 092 9290 . \n Cheshire, Merseyside, North Wales and North Shropshire: 0800 001 5400.",
          "estimated_restored_time": "",
          "incident_active": false,
          "incident_url": "https://www.spenergynetworks.co.uk/pages/power_cuts_map.aspx?incRef=INCD-492905-k",
          "postcodes_impacted": [
           "TD106UW"
          ],
          "received_time": "2021-03-28 13:06"
         },
         "INCD-492911-k": {
          "description": "There was a planned outage in your area which is now complete.  If you are still without power. please call us on: \nCentral and Southern Scotland: 0800 092 9290 . \n Cheshire, Merseyside, North Wales and North Shropshire: 0800 001 5400.",
          "estimated_restored_time": "",
          "incident_active": false,
          "incident_url": "https://www.spenergynetworks.co.uk/pages/power_cuts_map.aspx?incRef=INCD-492911-k",
          "postcodes_impacted": [
           "DG140RS",
           "DG140RT",
           "DG140RU"
          ],
          "received_time": "2021-03-28 14:09"
         },
         "INCD-492917-k": {
          "description": "There was a planned outage in your area which is now complete.  If you are still without power. please call us on: \nCentral and Southern Scotland: 0800 092 9290 . \n Cheshire, Merseyside, North Wales and North Shropshire: 0800 001 5400.",
          "estimated_restored_time": "",
          "incident_active": false,
          "incident_url": "https://www.spenergynetworks.co.uk/pages/power_cuts_map.aspx?incRef=INCD-492917-k",
          "postcodes_impacted": [
           "DG165EY"
          ],
          "received_time": "2021-03-28 14:48"
         },
         "INCD-492935-k": {
          "description": "There was a planned outage in your area which is now complete.  If you are still without power. please call us on: \nCentral and Southern Scotland: 0800 092 9290 . \n Cheshire, Merseyside, North Wales and North Shropshire: 0800 001 5400.",
          "estimated_restored_time": "",
          "incident_active": false,
          "incident_url": "https://www.spenergynetworks.co.uk/pages/power_cuts_map.aspx?incRef=INCD-492935-k",
          "postcodes_impacted": [
           "DG165JG"
          ],
          "received_time": "2021-03-28 15:09"
         },
         "INCD-492959-k": {
          "description": "There was a planned outage in your area which is now complete.  If you are still without power. please call us on: \nCentral and Southern Scotland: 0800 092 9290 . \n Cheshire, Merseyside, North Wales and North Shropshire: 0800 001 5400.",
          "estimated_restored_time": "",
          "incident_active": false,
          "incident_url": "https://www.spenergynetworks.co.uk/pages/power_cuts_map.aspx?incRef=INCD-492959-k",
          "postcodes_impacted": [
           "KA13BQ",
           "KA34BQ"
          ],
          "received_time": "2021-03-28 16:23"
         },
         "INCD-492989-k": {
          "description": "There was a planned outage in your area which is now complete.  If you are still without power. please call us on: \nCentral and Southern Scotland: 0800 092 9290 . \n Cheshire, Merseyside, North Wales and North Shropshire: 0800 001 5400.",
          "estimated_restored_time": "",
          "incident_active": false,
          "incident_url": "https://www.spenergynetworks.co.uk/pages/power_cuts_map.aspx?incRef=INCD-492989-k",
          "postcodes_impacted": [
           "EH320PH"
          ],
          "received_time": "2021-03-28 16:57"
         },
         "INCD-493109-k": {
          "description": "There was a planned outage in your area which is now complete.  If you are still without power. please call us on: \nCentral and Southern Scotland: 0800 092 9290 . \n Cheshire, Merseyside, North Wales and North Shropshire: 0800 001 5400.",
          "estimated_restored_time": "",
          "incident_active": false,
          "incident_url": "https://www.spenergynetworks.co.uk/pages/power_cuts_map.aspx?incRef=INCD-493109-k",
          "postcodes_impacted": [
           "LL240EU"
          ],
          "received_time": "2021-03-29 09:18"
         },
         "INCD-493187-k": {
          "description": "There was a planned outage in your area which is now complete.  If you are still without power. please call us on: \nCentral and Southern Scotland: 0800 092 9290 . \n Cheshire, Merseyside, North Wales and North Shropshire: 0800 001 5400.",
          "estimated_restored_time": "",
          "incident_active": false,
          "incident_url": "https://www.spenergynetworks.co.uk/pages/power_cuts_map.aspx?incRef=INCD-493187-k",
          "postcodes_impacted": [
           "EH278BB"
          ],
          "received_time": "2021-03-29 11:16"
         },
         "INCD-493265-k": {
          "description": "There was a planned outage in your area which is now complete.  If you are still without power. please call us on: \nCentral and Southern Scotland: 0800 092 9290 . \n Cheshire, Merseyside, North Wales and North Shropshire: 0800 001 5400.",
          "estimated_restored_time": "",
          "incident_active": false,
          "incident_url": "https://www.spenergynetworks.co.uk/pages/power_cuts_map.aspx?incRef=INCD-493265-k",
          "postcodes_impacted": [
           "KA20AL",
           "KA20AP",
           "KA20BH",
           "KA20BJ",
           "KA20BL",
           "KA20BN",
           "KA20BT",
           "KA20BW"
          ],
          "received_time": "2021-03-29 12:35"
         },
         "INCD-493283-k": {
          "description": "There was a planned outage in your area which is now complete.  If you are still without power. please call us on: \nCentral and Southern Scotland: 0800 092 9290 . \n Cheshire, Merseyside, North Wales and North Shropshire: 0800 001 5400.",
          "estimated_restored_time": "",
          "incident_active": false,
          "incident_url": "https://www.spenergynetworks.co.uk/pages/power_cuts_map.aspx?incRef=INCD-493283-k",
          "postcodes_impacted": [
           "EH312AA",
           "EH320PZ",
           "EH320QA",
           "EH320QB",
           "EH39",
           "EH395AL"
          ],
          "received_time": "2021-03-29 12:56"
         },
         "INCD-493487-k": {
          "description": "There was a planned outage in your area which is now complete.  If you are still without power. please call us on: \nCentral and Southern Scotland: 0800 092 9290 . \n Cheshire, Merseyside, North Wales and North Shropshire: 0800 001 5400.",
          "estimated_restored_time": "",
          "incident_active": false,
          "incident_url": "https://www.spenergynetworks.co.uk/pages/power_cuts_map.aspx?incRef=INCD-493487-k",
          "postcodes_impacted": [
           "DG11TA"
          ],
          "received_time": "2021-03-30 10:58"
         },
         "INCD-494663-k": {
          "description": "There was a fault in your area which has now been resolved.  If you are still without power. please call us on: \nCentral and Southern Scotland: 0800 092 9290 . \n Cheshire, Merseyside, North Wales and North Shropshire: 0800 001 5400.",
          "estimated_restored_time": "",
          "incident_active": false,
          "incident_url": "https://www.spenergynetworks.co.uk/pages/power_cuts_map.aspx?incRef=INCD-494663-k",
          "postcodes_impacted": [
           "TD98RZ",
           "TD98SA"
          ],
          "received_time": "2021-04-02 13:59"
         },
         "INCD-495359-k": {
          "description": "There was a fault in your area which has now been resolved.  If you are still without power. please call us on: \nCentral and Southern Scotland: 0800 092 9290 . \n Cheshire, Merseyside, North Wales and North Shropshire: 0800 001 5400.",
          "estimated_restored_time": "",
          "incident_active": false,
          "incident_url": "https://www.spenergynetworks.co.uk/pages/power_cuts_map.aspx?incRef=INCD-495359-k",
          "postcodes_impacted": [
           "PA11BA",
           "PA11BL",
           "PA11BN",
           "PA11BP",
           "PA11XX",
           "PA32AD",
           "PA32AG",
           "PA32AL",
           "PA32AP",
           "PA34BT"
          ],
          "received_time": "2021-04-07 11:29"
         },
         "INCD-503355-f": {
          "description": "There was a fault in your area which has now been resolved.  If you are still without power. please call us on: \nCentral and Southern Scotland: 0800 092 9290 . \n Cheshire, Merseyside, North Wales and North Shropshire: 0800 001 5400.",
          "estimated_restored_time": "",
          "incident_active": false,
          "incident_url": "https://www.spenergynetworks.co.uk/pages/power_cuts_map.aspx?incRef=INCD-503355-f",
          "postcodes_impacted": [
           "FK38BP",
           "FK38BQ",
           "FK38BS",
           "FK38DA",
           "FK38JR",
           "FK38JS",
           "FK38LG",
           "FK38LQ"
          ],
          "received_time": "2021-04-07 19:35"
         },
         "INCD-503469-f": {
          "description": "There was a fault in your area which has now been resolved.  If you are still without power. please call us on: \nCentral and Southern Scotland: 0800 092 9290 . \n Cheshire, Merseyside, North Wales and North Shropshire: 0800 001 5400.",
          "estimated_restored_time": "",
          "incident_active": false,
          "incident_url": "https://www.spenergynetworks.co.uk/pages/power_cuts_map.aspx?incRef=INCD-503469-f",
          "postcodes_impacted": [
           "G33",
           "G336AA",
           "G336BD",
           "G336EY",
           "G336EZ",
           "G336HA",
           "G336HD",
           "G336HE",
           "G336HF",
           "G336HG",
           "G336HH",
           "G336HN",
           "G336HQ",
           "G336HY",
           "G336JF",
           "G336LS"
          ],
          "received_time": "2021-04-08 15:34"
         },
         "INCD-503499-f": {
          "description": "There was a fault in your area which has now been resolved.  If you are still without power. please call us on: \nCentral and Southern Scotland: 0800 092 9290 . \n Cheshire, Merseyside, North Wales and North Shropshire: 0800 001 5400.",
          "estimated_restored_time": "",
          "incident_active": false,
          "incident_url": "https://www.spenergynetworks.co.uk/pages/power_cuts_map.aspx?incRef=INCD-503499-f",
          "postcodes_impacted": [
           "DG112RN"
          ],
          "received_time": "2021-04-08 17:05"
         },
         "INCD-503511-f": {
          "description": "There was a fault in your area which has now been resolved.  If you are still without power. please call us on: \nCentral and Southern Scotland: 0800 092 9290 . \n Cheshire, Merseyside, North Wales and North Shropshire: 0800 001 5400.",
          "estimated_restored_time": "",
          "incident_active": false,
          "incident_url": "https://www.spenergynetworks.co.uk/pages/power_cuts_map.aspx?incRef=INCD-503511-f",
          "postcodes_impacted": [
           "FK11LZ",
           "FK11NH"
          ],
          "received_time": "2021-04-08 17:25"
         },
         "INCD-503541-f": {
          "description": "There was a fault in your area which has now been resolved.  If you are still without power. please call us on: \nCentral and Southern Scotland: 0800 092 9290 . \n Cheshire, Merseyside, North Wales and North Shropshire: 0800 001 5400.",
          "estimated_restored_time": "",
          "incident_active": false,
          "incident_url": "https://www.spenergynetworks.co.uk/pages/power_cuts_map.aspx?incRef=INCD-503541-f",
          "postcodes_impacted": [
           "G728YF",
           "G728YH",
           "G728YQ",
           "G729UE",
           "G743XY"
          ],
          "received_time": "2021-04-08 18:15"
         },
         "INCD-503577-f": {
          "description": "There was a fault in your area which has now been resolved.  If you are still without power. please call us on: \nCentral and Southern Scotland: 0800 092 9290 . \n Cheshire, Merseyside, North Wales and North Shropshire: 0800 001 5400.",
          "estimated_restored_time": "",
          "incident_active": false,
          "incident_url": "https://www.spenergynetworks.co.uk/pages/power_cuts_map.aspx?incRef=INCD-503577-f",
          "postcodes_impacted": [
           "DG88HP"
          ],
          "received_time": "2021-04-08 19:17"
         },
         "INCD-503583-f": {
          "description": "There was a fault in your area which has now been resolved.  If you are still without power. please call us on: \nCentral and Southern Scotland: 0800 092 9290 . \n Cheshire, Merseyside, North Wales and North Shropshire: 0800 001 5400.",
          "estimated_restored_time": "",
          "incident_active": false,
          "incident_url": "https://www.spenergynetworks.co.uk/pages/power_cuts_map.aspx?incRef=INCD-503583-f",
          "postcodes_impacted": [
           "ML55AH",
           "ML55AJ",
           "ML55AL",
           "ML55AN",
           "ML55EU",
           "ML55NS",
           "ML55NW",
           "ML55QD",
           "ML55QU"
          ],
          "received_time": "2021-04-08 19:53"
         },
         "INCD-503589-f": {
          "description": "There was a fault in your area which has now been resolved.  If you are still without power. please call us on: \nCentral and Southern Scotland: 0800 092 9290 . \n Cheshire, Merseyside, North Wales and North Shropshire: 0800 001 5400.",
          "estimated_restored_time": "",
          "incident_active": false,
          "incident_url": "https://www.spenergynetworks.co.uk/pages/power_cuts_map.aspx?incRef=INCD-503589-f",
          "postcodes_impacted": [
           "ML55AH",
           "ML55AJ",
           "ML55AL",
           "ML55AN",
           "ML55EU",
           "ML55NS",
           "ML55NW",
           "ML55QD",
           "ML55QU"
          ],
          "received_time": "2021-04-08 20:20"
         },
         "INCD-503613-f": {
          "description": "There was a fault in your area which has now been resolved.  If you are still without power. please call us on: \nCentral and Southern Scotland: 0800 092 9290 . \n Cheshire, Merseyside, North Wales and North Shropshire: 0800 001 5400.",
          "estimated_restored_time": "",
          "incident_active": false,
          "incident_url": "https://www.spenergynetworks.co.uk/pages/power_cuts_map.aspx?incRef=INCD-503613-f",
          "postcodes_impacted": [
           "G466UE",
           "G466XW",
           "G467NE",
           "G467NR",
           "G467NS",
           "G467NT",
           "G467PQ"
          ],
          "received_time": "2021-04-09 06:29"
         },
         "INCD-503619-f": {
          "description": "There was a fault in your area which has now been resolved.  If you are still without power. please call us on: \nCentral and Southern Scotland: 0800 092 9290 . \n Cheshire, Merseyside, North Wales and North Shropshire: 0800 001 5400.",
          "estimated_restored_time": "",
          "incident_active": false,
          "incident_url": "https://www.spenergynetworks.co.uk/pages/power_cuts_map.aspx?incRef=INCD-503619-f",
          "postcodes_impacted": [
           "PA32BE"
          ],
          "received_time": "2021-04-09 07:56"
         },
         "INCD-503625-f": {
          "description": "There was a fault in your area which has now been resolved.  If you are still without power. please call us on: \nCentral and Southern Scotland: 0800 092 9290 . \n Cheshire, Merseyside, North Wales and North Shropshire: 0800 001 5400.",
          "estimated_restored_time": "",
          "incident_active": false,
          "incident_url": "https://www.spenergynetworks.co.uk/pages/power_cuts_map.aspx?incRef=INCD-503625-f",
          "postcodes_impacted": [
           "KA215AJ",
           "KA215AL",
           "KA215AZ"
          ],
          "received_time": "2021-04-09 08:45"
         },
         "INCD-503649-f": {
          "description": "There was a fault in your area which has now been resolved.  If you are still without power. please call us on: \nCentral and Southern Scotland: 0800 092 9290 . \n Cheshire, Merseyside, North Wales and North Shropshire: 0800 001 5400.",
          "estimated_restored_time": "",
          "incident_active": false,
          "incident_url": "https://www.spenergynetworks.co.uk/pages/power_cuts_map.aspx?incRef=INCD-503649-f",
          "postcodes_impacted": [
           "G831AA",
           "G838",
           "G838QN",
           "G838QX",
           "G838SE",
           "G838SJ",
           "G838SN",
           "G838SR",
           "G838SS"
          ],
          "received_time": "2021-04-09 09:46"
         },
         "INCD-503661-f": {
          "description": "There was a fault in your area which has now been resolved.  If you are still without power. please call us on: \nCentral and Southern Scotland: 0800 092 9290 . \n Cheshire, Merseyside, North Wales and North Shropshire: 0800 001 5400.",
          "estimated_restored_time": "",
          "incident_active": false,
          "incident_url": "https://www.spenergynetworks.co.uk/pages/power_cuts_map.aspx?incRef=INCD-503661-f",
          "postcodes_impacted": [
           "G37AW",
           "G37DS",
           "G37HU",
           "G37JR",
           "G37NG",
           "G37PJ",
           "G37PR",
           "G37RB"
          ],
          "received_time": "2021-04-09 10:27"
         },
         "INCD-503685-f": {
          "description": "There was a fault in your area which has now been resolved.  If you are still without power. please call us on: \nCentral and Southern Scotland: 0800 092 9290 . \n Cheshire, Merseyside, North Wales and North Shropshire: 0800 001 5400.",
          "estimated_restored_time": "",
          "incident_active": false,
          "incident_url": "https://www.spenergynetworks.co.uk/pages/power_cuts_map.aspx?incRef=INCD-503685-f",
          "postcodes_impacted": [
           "EH12EP",
           "EH24EH"
          ],
          "received_time": "2021-04-09 11:10"
         },
         "INCD-560455-s": {
          "description": "There was a fault in your area which has now been resolved.  If you are still without power. please call us on: \nCentral and Southern Scotland: 0800 092 9290 . \n Cheshire, Merseyside, North Wales and North Shropshire: 0800 001 5400.",
          "estimated_restored_time": "",
          "incident_active": false,
          "incident_url": "https://www.spenergynetworks.co.uk/pages/power_cuts_map.aspx?incRef=INCD-560455-s",
          "postcodes_impacted": [
           "G744PS",
           "G744QX",
           "G744QZ",
           "G744XR",
           "G744ZA"
          ],
          "received_time": "2021-04-02 15:27"
         },
         "INCD-561805-s": {
          "description": "There was a fault in your area which has now been resolved.  If you are still without power. please call us on: \nCentral and Southern Scotland: 0800 092 9290 . \n Cheshire, Merseyside, North Wales and North Shropshire: 0800 001 5400.",
          "estimated_restored_time": "",
          "incident_active": false,
          "incident_url": "https://www.spenergynetworks.co.uk/pages/power_cuts_map.aspx?incRef=INCD-561805-s",
          "postcodes_impacted": [
           "EH147HE",
           "EH147HF",
           "EH147HQ"
          ],
          "received_time": "2021-04-08 11:59"
         },
         "INCD-561931-s": {
          "description": "There was a fault in your area which has now been resolved.  If you are still without power. please call us on: \nCentral and Southern Scotland: 0800 092 9290 . \n Cheshire, Merseyside, North Wales and North Shropshire: 0800 001 5400.",
          "estimated_restored_time": "",
          "incident_active": false,
          "incident_url": "https://www.spenergynetworks.co.uk/pages/power_cuts_map.aspx?incRef=INCD-561931-s",
          "postcodes_impacted": [
           "EH496NL",
           "EH496NN",
           "EH496NP",
           "EH496NS",
           "EH496PD"
          ],
          "received_time": "2021-04-08 13:27"
         },
         "INCD-561979-s": {
          "description": "There was a fault in your area which has now been resolved.  If you are still without power. please call us on: \nCentral and Southern Scotland: 0800 092 9290 . \n Cheshire, Merseyside, North Wales and North Shropshire: 0800 001 5400.",
          "estimated_restored_time": "",
          "incident_active": false,
          "incident_url": "https://www.spenergynetworks.co.uk/pages/power_cuts_map.aspx?incRef=INCD-561979-s",
          "postcodes_impacted": [
           "G314XR",
           "G314XS",
           "G314XT",
           "G314XU",
           "G314XX",
           "G328TH"
          ],
          "received_time": "2021-04-08 15:18"
         },
         "INCD-562021-s": {
          "description": "There was a fault in your area which has now been resolved.  If you are still without power. please call us on: \nCentral and Southern Scotland: 0800 092 9290 . \n Cheshire, Merseyside, North Wales and North Shropshire: 0800 001 5400.",
          "estimated_restored_time": "",
          "incident_active": false,
          "incident_url": "https://www.spenergynetworks.co.uk/pages/power_cuts_map.aspx?incRef=INCD-562021-s",
          "postcodes_impacted": [
           "G411JA",
           "G511LE",
           "G511LF"
          ],
          "received_time": "2021-04-08 17:26"
         },
         "INCD-562105-s": {
          "description": "There was a fault in your area which has now been resolved.  If you are still without power. please call us on: \nCentral and Southern Scotland: 0800 092 9290 . \n Cheshire, Merseyside, North Wales and North Shropshire: 0800 001 5400.",
          "estimated_restored_time": "",
          "incident_active": false,
          "incident_url": "https://www.spenergynetworks.co.uk/pages/power_cuts_map.aspx?incRef=INCD-562105-s",
          "postcodes_impacted": [
           "G466UE",
           "G466XW",
           "G467NE",
           "G467NR",
           "G467NS",
           "G467NT",
           "G467PQ"
          ],
          "received_time": "2021-04-09 05:22"
         },
         "INCD-562111-s": {
          "description": "There was a fault in your area which has now been resolved.  If you are still without power. please call us on: \nCentral and Southern Scotland: 0800 092 9290 . \n Cheshire, Merseyside, North Wales and North Shropshire: 0800 001 5400.",
          "estimated_restored_time": "",
          "incident_active": false,
          "incident_url": "https://www.spenergynetworks.co.uk/pages/power_cuts_map.aspx?incRef=INCD-562111-s",
          "postcodes_impacted": [
           "TD46ES",
           "TD46ET"
          ],
          "received_time": "2021-04-09 06:20"
         },
         "INCD-562129-s": {
          "description": "This is a message for customers in the ML9 postcode area of Larkhall. It is necessary for our engineers to carry out a shutdown at 6:45pm to safely complete repairs on a underground cable fault from earlier and this may affect the supply to your property. We will work to get your power back on as quickly and as safely as possible by 8:00pm. We will update this message if this information changes. We apologise for the inconvenience and thank you for your patience. This message was updated at 6:08pm on Friday, 09 April 2021",
          "estimated_restored_time": "2021-04-09 19:00",
          "incident_active": true,
          "incident_url": "https://www.spenergynetworks.co.uk/pages/power_cuts_map.aspx?incRef=INCD-562129-s",
          "postcodes_impacted": [
           "ML92JF",
           "ML92JG"
          ],
          "received_time": "2021-04-09 07:51"
         },
         "INCD-562135-s": {
          "description": "There was a fault in your area which has now been resolved.  If you are still without power. please call us on: \nCentral and Southern Scotland: 0800 092 9290 . \n Cheshire, Merseyside, North Wales and North Shropshire: 0800 001 5400.",
          "estimated_restored_time": "",
          "incident_active": false,
          "incident_url": "https://www.spenergynetworks.co.uk/pages/power_cuts_map.aspx?incRef=INCD-562135-s",
          "postcodes_impacted": [
           "DG112RN"
          ],
          "received_time": "2021-04-09 08:08"
         },
         "INCD-562141-s": {
          "description": "There was a fault in your area which has now been resolved.  If you are still without power. please call us on: \nCentral and Southern Scotland: 0800 092 9290 . \n Cheshire, Merseyside, North Wales and North Shropshire: 0800 001 5400.",
          "estimated_restored_time": "",
          "incident_active": false,
          "incident_url": "https://www.spenergynetworks.co.uk/pages/power_cuts_map.aspx?incRef=INCD-562141-s",
          "postcodes_impacted": [
           "KY48AJ",
           "KY48AP",
           "KY48AU",
           "KY48BE",
           "KY48BG",
           "KY48BQ",
           "KY48BS",
           "KY48BU",
           "KY48DA"
          ],
          "received_time": "2021-04-09 08:26"
         },
         "INCD-562147-s": {
          "description": "There was a fault in your area which has now been resolved.  If you are still without power. please call us on: \nCentral and Southern Scotland: 0800 092 9290 . \n Cheshire, Merseyside, North Wales and North Shropshire: 0800 001 5400.",
          "estimated_restored_time": "",
          "incident_active": false,
          "incident_url": "https://www.spenergynetworks.co.uk/pages/power_cuts_map.aspx?incRef=INCD-562147-s",
          "postcodes_impacted": [
           "G750QN"
          ],
          "received_time": "2021-04-09 08:50"
         },
         "INCD-562171-s": {
          "description": "There was a fault in your area which has now been resolved.  If you are still without power. please call us on: \nCentral and Southern Scotland: 0800 092 9290 . \n Cheshire, Merseyside, North Wales and North Shropshire: 0800 001 5400.",
          "estimated_restored_time": "",
          "incident_active": false,
          "incident_url": "https://www.spenergynetworks.co.uk/pages/power_cuts_map.aspx?incRef=INCD-562171-s",
          "postcodes_impacted": [
           "DD68JD",
           "DD68JE",
           "DD68JF",
           "DD68JG",
           "DD68JH"
          ],
          "received_time": "2021-04-09 09:07"
         },
         "INCD-562273-s": {
          "description": "There was a fault in your area which has now been resolved.  If you are still without power. please call us on: \nCentral and Southern Scotland: 0800 092 9290 . \n Cheshire, Merseyside, North Wales and North Shropshire: 0800 001 5400.",
          "estimated_restored_time": "",
          "incident_active": false,
          "incident_url": "https://www.spenergynetworks.co.uk/pages/power_cuts_map.aspx?incRef=INCD-562273-s",
          "postcodes_impacted": [
           "DG46BJ",
           "DG46BS",
           "DG46BT",
           "DG46BW",
           "DG46BX",
           "DG46BY",
           "DG46BZ",
           "DG46DE",
           "DG46DF",
           "DG46EN",
           "DG46WW"
          ],
          "received_time": "2021-04-09 11:04"
         },
         "INCD-562333-s": {
          "description": "There was a fault in your area which has now been resolved.  If you are still without power. please call us on: \nCentral and Southern Scotland: 0800 092 9290 . \n Cheshire, Merseyside, North Wales and North Shropshire: 0800 001 5400.",
          "estimated_restored_time": "",
          "incident_active": false,
          "incident_url": "https://www.spenergynetworks.co.uk/pages/power_cuts_map.aspx?incRef=INCD-562333-s",
          "postcodes_impacted": [
           "DG11TA"
          ],
          "received_time": "2021-04-09 12:11"
         },
         "INCD-562489-s": {
          "description": "There was a fault in your area which has now been resolved.  If you are still without power. please call us on: \nCentral and Southern Scotland: 0800 092 9290 . \n Cheshire, Merseyside, North Wales and North Shropshire: 0800 001 5400.",
          "estimated_restored_time": "",
          "incident_active": false,
          "incident_url": "https://www.spenergynetworks.co.uk/pages/power_cuts_map.aspx?incRef=INCD-562489-s",
          "postcodes_impacted": [
           "TD46ES",
           "TD46ET"
          ],
          "received_time": "2021-04-09 17:37"
         }
        },
        "ssen": {
         "HB4362": {
          "description": "We’re sorry for the loss of supply. We currently have a fault affecting the areas listed. Our engineers are on site working hard to get the power back on as quickly as they can. If you need more information, please call us on 105 or send us a message on <a href=\"http://m.me/ssencommunity/\">Facebook</a> or Twitter (<a href=\"https://twitter.com/ssencommunity\">@ssencommunity</a>) and quote reference 'HB4362'",
          "estimated_arrival_time": null,
          "estimated_restored_time": "2021-04-09 19:00:00",
          "incident_active": true,
          "incident_url": "https://www.ssen.co.uk/Powertrack/",
          "postcodes_impacted": [
           "HP14 3HX",
           "RG9 6NY",
           "RG9 6PB",
           "RG9 6PG",
           "RG9 6PU",
           "RG9 6PX",
           "RG9 6PY",
           "RG9 6RB"
          ],
          "received_time": "2021-04-09 01:37:00"
         },
         "HB4515": {
          "description": "We’re sorry for the loss of supply. We currently have a fault affecting the areas listed. Our engineers are on site working hard to get the power back on as quickly as they can. If you need more information, please call us on 105 or send us a message on <a href=\"http://m.me/ssencommunity/\">Facebook</a> or Twitter (<a href=\"https://twitter.com/ssencommunity\">@ssencommunity</a>) and quote reference 'HB4515'",
          "estimated_arrival_time": null,
          "estimated_restored_time": "2021-04-09 19:00:00",
          "incident_active": true,
          "incident_url": "https://www.ssen.co.uk/Powertrack/",
          "postcodes_impacted": [
           "OX49 5EP"
          ],
          "received_time": "2021-04-09 08:26:00"
         },
         "HB4557": {
          "description": "We’re sorry for the loss of supply. We currently have a fault affecting the areas listed. Our engineers are on site working hard to get the power back on as quickly as they can. If you need more information, please call us on 105 or send us a message on <a href=\"http://m.me/ssencommunity/\">Facebook</a> or Twitter (<a href=\"https://twitter.com/ssencommunity\">@ssencommunity</a>) and quote reference 'HB4557'",
          "estimated_arrival_time": null,
          "estimated_restored_time": "2021-04-09 18:00:00",
          "incident_active": true,
          "incident_url": "https://www.ssen.co.uk/Powertrack/",
          "postcodes_impacted": [
           "SO41 3RU",
           "SO41 3SE",
           "SO41 9ZG"
          ],
          "received_time": "2021-04-09 11:22:00"
         },
         "HB4643": {
          "description": "We’re sorry for the loss of supply. We currently have a fault affecting the areas listed. Our engineers are on site working hard to get the power back on as quickly as they can. If you need more information, please call us on 105 or send us a message on <a href=\"http://m.me/ssencommunity/\">Facebook</a> or Twitter (<a href=\"https://twitter.com/ssencommunity\">@ssencommunity</a>) and quote reference 'HB4643'",
          "estimated_arrival_time": null,
          "estimated_restored_time": "2021-04-09 21:00:00",
          "incident_active": true,
          "incident_url": "https://www.ssen.co.uk/Powertrack/",
          "postcodes_impacted": [
           "BH20 5QJ",
           "BH20 5QT",
           "BH20 5QW"
          ],
          "received_time": "2021-04-09 13:41:00"
         },
         "HB4682": {
          "description": "We’re sorry for the loss of supply. We currently have a fault affecting the areas listed. Our engineers are on site working hard to get the power back on as quickly as they can. If you need more information, please call us on 105 or send us a message on <a href=\"http://m.me/ssencommunity/\">Facebook</a> or Twitter (<a href=\"https://twitter.com/ssencommunity\">@ssencommunity</a>) and quote reference 'HB4682'",
          "estimated_arrival_time": null,
          "estimated_restored_time": "2021-04-10 00:00:00",
          "incident_active": true,
          "incident_url": "https://www.ssen.co.uk/Powertrack/",
          "postcodes_impacted": [
           "BH10 5BP",
           "BH10 5BS",
           "BH10 5BT",
           "BH10 5BU",
           "BH10 5FD",
           "BH10 5FE",
           "BH10 5FG",
           "BH10 5FH",
           "BH10 5FJ",
           "BH24 3FD"
          ],
          "received_time": "2021-04-09 15:27:00"
         },
         "HB4722": {
          "description": "We’re sorry for the loss of supply. We currently have a fault affecting the areas listed. We are working hard to get the power back on as quickly as we can. If you need more information, please call us on 105 or send us a message on <a href=\"http://m.me/ssencommunity/\">Facebook</a> or Twitter (<a href=\"https://twitter.com/ssencommunity\">@ssencommunity</a>) and quote reference 'HB4722'",
          "estimated_arrival_time": null,
          "estimated_restored_time": null,
          "incident_active": true,
          "incident_url": "https://www.ssen.co.uk/Powertrack/",
          "postcodes_impacted": [
           "RG41 1HR",
           "RG41 1HS",
           "RG41 1HT",
           "RG41 1HU",
           "RG41 1HX",
           "RG41 1LE",
           "RG41 1LH",
           "RG41 1LJ",
           "RG41 1LL",
           "RG41 3HG",
           "RG41 3HH",
           "RG41 3HL",
           "RG41 5AA"
          ],
          "received_time": "2021-04-09 17:06:00"
         }
        },
        "ukpn": {
         "INCD-212489-Z": {
          "description": "A fault occurred on an underground electricity cable affecting the local area.",
          "estimated_restored_time": null,
          "incident_active": false,
          "incident_url": "https://www.ukpowernetworks.co.uk/power-cut/map?incidentid=INCD-212489-Z",
          "planned_time": null,
          "postcodes_impacted": [
           "RM107DS",
           "RM107FT"
          ],
          "received_time": "2021-01-16T11:19:00",
          "restored_time": "2021-04-09T16:40:52.19"
         },
         "INCD-221608-Z": {
          "description": "We're carrying out planned work in your area. For our engineers to carry it out safely they need to turn the power off. We're doing this work as it's essential to provide reliable electricity supplies to your area. We're sorry for any inconvenience caused and thank you for your patience.",
          "estimated_restored_time": "2021-04-09T15:00:00",
          "incident_active": true,
          "incident_url": "https://www.ukpowernetworks.co.uk/power-cut/map?incidentid=INCD-221608-Z",
          "planned_time": "2021-04-09T09:00:00",
          "postcodes_impacted": [
           "PE148QA",
           "PE148QD",
           "PE148RY",
           "PE148RZ",
           "PE148SA"
          ],
          "received_time": "2021-04-09T09:18:00",
          "restored_time": "2021-04-09T14:19:42.967"
         },
         "INCD-221858-Z": {
          "description": "A fault occurred on an underground electricity cable affecting the local area.",
          "estimated_restored_time": null,
          "incident_active": false,
          "incident_url": "https://www.ukpowernetworks.co.uk/power-cut/map?incidentid=INCD-221858-Z",
          "planned_time": null,
          "postcodes_impacted": [
           "IP28AA",
           "IP28AD",
           "IP28AH",
           "IP28AP",
           "IP28AR",
           "IP28AS",
           "IP28AT",
           "IP28AU",
           "IP28AW",
           "IP28AX",
           "IP28AY",
           "IP28AZ",
           "IP28BA",
           "IP28BB",
           "IP28BD",
           "IP28BE",
           "IP28BG",
           "IP28BH",
           "IP28BQ",
           "IP28BX",
           "IP28BZ",
           "IP28DB",
           "IP28DD",
           "IP28EH",
           "IP28EJ",
           "IP28EN",
           "IP28EQ",
           "IP28FL"
          ],
          "received_time": "2021-02-28T00:03:00",
          "restored_time": "2021-04-09T10:15:50.14"
         },
         "INCD-223545-Z": {
          "description": "We're carrying out planned work in your area. For our engineers to carry it out safely they need to turn the power off. We're doing this work as it's essential to provide reliable electricity supplies to your area. We're sorry for any inconvenience caused and thank you for your patience.",
          "estimated_restored_time": "2021-04-09T15:00:00",
          "incident_active": true,
          "incident_url": "https://www.ukpowernetworks.co.uk/power-cut/map?incidentid=INCD-223545-Z",
          "planned_time": "2021-04-09T08:30:00",
          "postcodes_impacted": [
           "NR105AB",
           "NR105EH",
           "NR105HF",
           "NR105HG"
          ],
          "received_time": "2021-04-09T08:38:00",
          "restored_time": "2021-04-09T15:05:07.033"
         },
         "INCD-226484-Z": {
          "description": "A fault occurred on an underground electricity cable affecting the local area.",
          "estimated_restored_time": null,
          "incident_active": false,
          "incident_url": "https://www.ukpowernetworks.co.uk/power-cut/map?incidentid=INCD-226484-Z",
          "planned_time": null,
          "postcodes_impacted": [
           "PE150JL",
           "PE150JN"
          ],
          "received_time": "2021-03-22T10:52:00",
          "restored_time": "2021-04-09T14:48:54.67"
         },
         "INCD-227013-Z": {
          "description": "We're carrying out planned work in your area. For our engineers to carry it out safely they need to turn the power off. We're doing this work as it's essential to provide reliable electricity supplies to your area. We're sorry for any inconvenience caused and thank you for your patience.",
          "estimated_restored_time": "2021-04-09T15:00:00",
          "incident_active": true,
          "incident_url": "https://www.ukpowernetworks.co.uk/power-cut/map?incidentid=INCD-227013-Z",
          "planned_time": "2021-04-09T09:00:00",
          "postcodes_impacted": [
           "IP221AG",
           "IP221AL",
           "IP221AX"
          ],
          "received_time": "2021-04-09T09:06:00",
          "restored_time": "2021-04-09T14:48:10.713"
         },
         "INCD-227033-Z": {
          "description": "We're carrying out planned work in your area. For our engineers to carry it out safely they need to turn the power off. We're doing this work as it's essential to provide reliable electricity supplies to your area. We're sorry for any inconvenience caused and thank you for your patience.",
          "estimated_restored_time": "2021-04-09T15:00:00",
          "incident_active": true,
          "incident_url": "https://www.ukpowernetworks.co.uk/power-cut/map?incidentid=INCD-227033-Z",
          "planned_time": "2021-04-09T09:00:00",
          "postcodes_impacted": [
           "IP221AB",
           "IP221AD",
           "IP221AG"
          ],
          "received_time": "2021-04-09T09:25:00",
          "restored_time": "2021-04-09T14:46:26.073"
         },
         "INCD-227035-Z": {
          "description": "We're carrying out planned work in your area. For our engineers to carry it out safely they need to turn the power off. We're doing this work as it's essential to provide reliable electricity supplies to your area. We're sorry for any inconvenience caused and thank you for your patience.",
          "estimated_restored_time": "2021-04-09T13:00:00",
          "incident_active": true,
          "incident_url": "https://www.ukpowernetworks.co.uk/power-cut/map?incidentid=INCD-227035-Z",
          "planned_time": "2021-04-09T10:00:00",
          "postcodes_impacted": [
           "IP221AG",
           "IP221AH",
           "IP221AN",
           "IP221AP",
           "IP221AQ",
           "IP221AS",
           "IP221AU",
           "IP221AW",
           "IP221TD",
           "IP221TH",
           "IP221TQ",
           "IP224AW"
          ],
          "received_time": "2021-04-09T10:41:00",
          "restored_time": "2021-04-09T13:23:56.363"
         },
         "INCD-227251-Z": {
          "description": "We're carrying out planned work in your area. For our engineers to carry it out safely they need to turn the power off. We're doing this work as it's essential to provide reliable electricity supplies to your area. We're sorry for any inconvenience caused and thank you for your patience.",
          "estimated_restored_time": "2021-04-09T15:00:00",
          "incident_active": true,
          "incident_url": "https://www.ukpowernetworks.co.uk/power-cut/map?incidentid=INCD-227251-Z",
          "planned_time": "2021-04-09T09:00:00",
          "postcodes_impacted": [
           "IP77AR",
           "IP77BP",
           "IP77BS",
           "IP77BW"
          ],
          "received_time": "2021-04-09T09:04:00",
          "restored_time": "2021-04-09T14:23:56.213"
         },
         "INCD-227259-Z": {
          "description": "We're carrying out planned work in your area. For our engineers to carry it out safely they need to turn the power off. We're doing this work as it's essential to provide reliable electricity supplies to your area. We're sorry for any inconvenience caused and thank you for your patience.",
          "estimated_restored_time": "2021-04-09T15:00:00",
          "incident_active": true,
          "incident_url": "https://www.ukpowernetworks.co.uk/power-cut/map?incidentid=INCD-227259-Z",
          "planned_time": "2021-04-09T10:00:00",
          "postcodes_impacted": [
           "PE194DH",
           "PE195DH",
           "PE195DQ"
          ],
          "received_time": "2021-04-09T10:44:00",
          "restored_time": "2021-04-09T15:49:45.623"
         },
         "INCD-227793-Z": {
          "description": "A fault occurred on an underground electricity cable affecting the local area.",
          "estimated_restored_time": null,
          "incident_active": false,
          "incident_url": "https://www.ukpowernetworks.co.uk/power-cut/map?incidentid=INCD-227793-Z",
          "planned_time": null,
          "postcodes_impacted": [
           "LU",
           "LU29HB",
           "LU29HE",
           "LU29HF",
           "LU29HH",
           "LU29JD",
           "LU29JE",
           "LU29JF",
           "LU29LB",
           "LU29NL",
           "LU29NY",
           "LU29PD",
           "LU29PF"
          ],
          "received_time": "2021-03-28T18:05:00",
          "restored_time": "2021-04-09T17:51:56.413"
         },
         "INCD-227918-Z": {
          "description": "We're carrying out planned work in your area. For our engineers to carry it out safely they need to turn the power off. We're doing this work as it's essential to provide reliable electricity supplies to your area. We're sorry for any inconvenience caused and thank you for your patience.",
          "estimated_restored_time": "2021-04-09T14:30:00",
          "incident_active": true,
          "incident_url": "https://www.ukpowernetworks.co.uk/power-cut/map?incidentid=INCD-227918-Z",
          "planned_time": "2021-04-09T10:30:00",
          "postcodes_impacted": [
           "CM227QS",
           "CM227QT",
           "CM227QU"
          ],
          "received_time": "2021-04-09T10:30:00",
          "restored_time": "2021-04-09T14:52:56.917"
         },
         "INCD-228507-Z": {
          "description": "A fault occurred on an underground electricity cable affecting the local area.",
          "estimated_restored_time": null,
          "incident_active": false,
          "incident_url": "https://www.ukpowernetworks.co.uk/power-cut/map?incidentid=INCD-228507-Z",
          "planned_time": null,
          "postcodes_impacted": [
           "SS12TS"
          ],
          "received_time": "2021-03-31T23:00:00",
          "restored_time": "2021-04-09T06:56:18.06"
         },
         "INCD-228675-Z": {
          "description": "A fault occurred on an underground electricity cable affecting the local area.",
          "estimated_restored_time": null,
          "incident_active": false,
          "incident_url": "https://www.ukpowernetworks.co.uk/power-cut/map?incidentid=INCD-228675-Z",
          "planned_time": null,
          "postcodes_impacted": [
           "NR23AZ"
          ],
          "received_time": "2021-04-01T15:48:00",
          "restored_time": "2021-04-09T09:15:42.947"
         },
         "INCD-228983-Z": {
          "description": "",
          "estimated_restored_time": null,
          "incident_active": false,
          "incident_url": "https://www.ukpowernetworks.co.uk/power-cut/map?incidentid=INCD-228983-Z",
          "planned_time": null,
          "postcodes_impacted": [
           "RM11AH",
           "RM11AN",
           "RM11AR",
           "RM11JL",
           "RM79AA",
           "RM79AB",
           "RM79AD"
          ],
          "received_time": "2021-04-04T09:36:34",
          "restored_time": "2021-04-09T13:37:18.19"
         },
         "INCD-228998-Z": {
          "description": "An underground electricity cable faulted on our high voltage network, causing an area wide power cut.",
          "estimated_restored_time": "2021-04-04T15:30:00",
          "incident_active": false,
          "incident_url": "https://www.ukpowernetworks.co.uk/power-cut/map?incidentid=INCD-228998-Z",
          "planned_time": null,
          "postcodes_impacted": [
           "N120GL",
           "N120PA",
           "N120PB",
           "N120PG",
           "N120PH",
           "N120PJ",
           "N120PS",
           "N120PT",
           "N120PU",
           "N120PX",
           "N120PY",
           "N120QA",
           "N120QB",
           "N120QF",
           "N120QQ",
           "N156JN",
           "N2",
           "N224JW",
           "N228JW",
           "N28AG",
           "N28AJ",
           "N28AN",
           "N28AS",
           "N28AT",
           "N28BD",
           "N28BL",
           "N28BW",
           "N28BY",
           "N28DA",
           "N28DB",
           "N28DD",
           "N28DE",
           "N28DF",
           "N28DG",
           "N28DJ",
           "N28DQ",
           "N28EH",
           "N28EJ",
           "N28ET",
           "N28EU",
           "N28EW",
           "N28EX",
           "N28EY",
           "N28EZ",
           "N28GR",
           "N28GS",
           "N28HB",
           "N28HD",
           "N28HE",
           "N28HG",
           "N28HH",
           "N28HL",
           "N28HN",
           "N28HP",
           "N28HR",
           "N28HS",
           "N28LA",
           "N28LB",
           "N28LD",
           "N28LE",
           "N28LG",
           "N28LH",
           "N28LR",
           "N28NA",
           "N28NB",
           "N28ND",
           "N29AA",
           "N29AB",
           "N29AD",
           "N29AE",
           "N29AG",
           "N29AH",
           "N29AJ",
           "N29AL",
           "N29AN",
           "N29AS",
           "N29AZ",
           "N29BA",
           "N29BW",
           "N29DA",
           "N29DB",
           "N29DF",
           "N29DU",
           "N29DX",
           "N29DY",
           "N29DZ",
           "N29EA",
           "N29ED",
           "N29EJ",
           "N29FE",
           "N29FF",
           "N29FG",
           "N29FH",
           "N29PT",
           "N29RA",
           "N29RB",
           "N29RD",
           "N29RE",
           "N29RF",
           "N29RG",
           "N29RQ"
          ],
          "received_time": "2021-04-04T12:31:47",
          "restored_time": "2021-04-09T07:13:12.517"
         },
         "INCD-229185-Z": {
          "description": "We're carrying out planned work in your area. For our engineers to carry it out safely they need to turn the power off. We're doing this work as it's essential to provide reliable electricity supplies to your area. We're sorry for any inconvenience caused and thank you for your patience.",
          "estimated_restored_time": "2021-04-09T06:45:00",
          "incident_active": true,
          "incident_url": "https://www.ukpowernetworks.co.uk/power-cut/map?incidentid=INCD-229185-Z",
          "planned_time": "2021-04-09T06:30:00",
          "postcodes_impacted": [
           "EN93SL"
          ],
          "received_time": "2021-04-09T06:30:00",
          "restored_time": "2021-04-09T17:38:17.063"
         },
         "INCD-229191-Z": {
          "description": "We were investigating a high voltage overhead electricity line fault which caused a power cut in the local area.",
          "estimated_restored_time": "2021-04-06T12:00:00",
          "incident_active": false,
          "incident_url": "https://www.ukpowernetworks.co.uk/power-cut/map?incidentid=INCD-229191-Z",
          "planned_time": null,
          "postcodes_impacted": [
           "PE192RD",
           "PE192SJ",
           "PE193BH",
           "PE193BQ",
           "PE193BT",
           "PE193ET",
           "PE193JH",
           "PE193JP",
           "PE193PX",
           "PE193TP",
           "PE193TT",
           "PE195XT",
           "PE196WA",
           "PE196WL",
           "PE196YH",
           "PE196YQ",
           "PE196YT",
           "PE197BH",
           "PE197BJ",
           "PE197DX",
           "PE198BB",
           "PE198BG",
           "PE198BT",
           "PE198BU",
           "PE198DD",
           "PE198DF",
           "PE198DG",
           "PE198DH",
           "PE198DJ",
           "PE198DL",
           "PE198DN",
           "PE198DP",
           "PE198DQ",
           "PE198DR",
           "PE198DS",
           "PE198DT",
           "PE198DU",
           "PE198DW",
           "PE198EJ",
           "PE198EL",
           "PE198ES",
           "PE198ET",
           "PE198EX",
           "PE198FQ",
           "PE198FT",
           "PE198GE",
           "PE198GH",
           "PE198GN",
           "PE198GP",
           "PE198GQ",
           "PE198GR",
           "PE198GU",
           "PE198GY",
           "PE198HS",
           "PE198HZ",
           "PE198JF",
           "PE198JH",
           "PE198JJ",
           "PE198JP",
           "PE198JQ",
           "PE198JR",
           "PE198JS",
           "PE198JW",
           "PE198LA",
           "PE198LB",
           "PE198NH",
           "PE198NJ",
           "PE198NL",
           "PE198NN",
           "PE198PA",
           "PE198PB",
           "PE198PE",
           "PE198PH",
           "PE198PJ",
           "PE198PL",
           "PE198PN",
           "PE198PP",
           "PE198PQ",
           "PE198PR",
           "PE198PS",
           "PE198PT",
           "PE198PU",
           "PE198PW",
           "PE198PX",
           "PE198PY",
           "PE198PZ",
           "PE198QB",
           "PE198QD",
           "PE198QE",
           "PE198QF",
           "PE198QG",
           "PE198QH",
           "PE198QJ",
           "PE198QL",
           "PE198TA",
           "PE198TB",
           "PE198TD",
           "PE198TP",
           "PE198TR",
           "PE198TS",
           "PE198TT",
           "PE198TY",
           "PE198YE",
           "RM38TS"
          ],
          "received_time": "2021-04-06T09:59:01",
          "restored_time": "2021-04-09T07:19:40.367"
         },
         "INCD-229210-Z": {
          "description": "We're carrying out planned work in your area. For our engineers to carry it out safely they need to turn the power off. We're doing this work as it's essential to provide reliable electricity supplies to your area. We're sorry for any inconvenience caused and thank you for your patience.",
          "estimated_restored_time": "2021-04-09T09:00:00",
          "incident_active": true,
          "incident_url": "https://www.ukpowernetworks.co.uk/power-cut/map?incidentid=INCD-229210-Z",
          "planned_time": "2021-04-09T08:00:00",
          "postcodes_impacted": [
           "CM59FN",
           "CM59LF",
           "CM59LG",
           "CM59LP",
           "CM59LQ",
           "CM59LW"
          ],
          "received_time": "2021-04-09T08:00:00",
          "restored_time": "2021-04-09T09:37:30.903"
         },
         "INCD-229409-Z": {
          "description": "A fault occurred on an underground electricity cable affecting the local area.",
          "estimated_restored_time": "2021-04-07T18:00:00",
          "incident_active": false,
          "incident_url": "https://www.ukpowernetworks.co.uk/power-cut/map?incidentid=INCD-229409-Z",
          "planned_time": null,
          "postcodes_impacted": [
           "NR191BX",
           "NR191EA",
           "NR192AP"
          ],
          "received_time": "2021-04-07T07:10:00",
          "restored_time": "2021-04-09T17:19:50.27"
         },
         "INCD-229450-Z": {
          "description": "We were investigating a high voltage electricity cable that was damaged, causing a power cut in the local area.",
          "estimated_restored_time": "2021-04-07T13:30:00",
          "incident_active": false,
          "incident_url": "https://www.ukpowernetworks.co.uk/power-cut/map?incidentid=INCD-229450-Z",
          "planned_time": null,
          "postcodes_impacted": [
           "SS94RP",
           "SS94RS",
           "SS94RU",
           "SS94RY",
           "SS94RZ",
           "SS94SN",
           "SS94SW",
           "SS94UT",
           "SS94XX",
           "SS95FA",
           "SS95JA",
           "SS95JL",
           "SS95JU",
           "SS95JX",
           "SS95LE",
           "SS95LF",
           "SS95LP",
           "SS95LQ",
           "SS95LY",
           "SS95PR",
           "UK"
          ],
          "received_time": "2021-04-07T10:19:00",
          "restored_time": "2021-04-09T06:41:50.377"
         },
         "INCD-229627-Z": {
          "description": "An underground electricity cable faulted on our high voltage network, causing an area wide power cut.",
          "estimated_restored_time": "2021-04-08T12:30:00",
          "incident_active": false,
          "incident_url": "https://www.ukpowernetworks.co.uk/power-cut/map?incidentid=INCD-229627-Z",
          "planned_time": null,
          "postcodes_impacted": [
           "AL48DF",
           "AL48ED",
           "AL48EE",
           "AL48EF",
           "AL48EZ",
           "AL48FE",
           "AL48FJ",
           "AL48HD",
           "AL48HF",
           "AL48HH",
           "AL48HJ",
           "AL48HL",
           "AL48HN",
           "AL48HP",
           "AL48HQ",
           "AL48HR",
           "AL48HT",
           "AL48HU",
           "AL48HW",
           "AL48HX",
           "AL48HY",
           "AL48HZ",
           "AL48JA",
           "AL48JB",
           "AL48JD",
           "AL48JE",
           "AL48JF",
           "AL48JG",
           "AL48JH",
           "AL48JQ",
           "AL48QT",
           "AL51AF",
           "AL51AG",
           "AL51AH",
           "AL51AJ",
           "AL51AQ",
           "AL51DY"
          ],
          "received_time": "2021-04-08T11:59:13",
          "restored_time": "2021-04-09T14:42:20.16"
         },
         "INCD-229812-Z": {
          "description": "An underground electricity cable faulted on our high voltage network, causing an area wide power cut.",
          "estimated_restored_time": null,
          "incident_active": false,
          "incident_url": "https://www.ukpowernetworks.co.uk/power-cut/map?incidentid=INCD-229812-Z",
          "planned_time": null,
          "postcodes_impacted": [
           "AL87AT",
           "AL87DU",
           "AL87EA",
           "AL87EB",
           "AL87ED",
           "AL87EE",
           "AL87EF",
           "AL87EG",
           "AL87EH",
           "AL87EJ",
           "AL87EL",
           "AL87EN",
           "AL87EP",
           "AL87EQ",
           "AL87EW",
           "AL87HD",
           "AL87HE",
           "AL87HG",
           "AL87HH",
           "AL87HJ",
           "AL87HL",
           "AL87HN",
           "AL87HP",
           "AL87HQ",
           "AL87HR",
           "AL87HW",
           "AL87HZ",
           "AL87JA",
           "AL87JB",
           "AL87JD",
           "AL87LT",
           "AL87LU",
           "AL87LX",
           "AL87LY",
           "AL87LZ",
           "AL87NA",
           "AL87NB",
           "AL87ND",
           "AL87NF",
           "AL87NG",
           "AL87NH",
           "AL87NJ",
           "AL87NL",
           "AL87NN",
           "AL87NQ",
           "AL87NR",
           "AL87NS",
           "AL87NW",
           "AL87NX",
           "AL87QG",
           "AL87QH",
           "AL87QJ",
           "AL87QL",
           "AL87QN",
           "AL87QP",
           "AL87QR",
           "AL87QS",
           "AL87QT",
           "AL87QU",
           "AL87QW",
           "AL87QX",
           "AL87QY",
           "AL87QZ",
           "AL87RA",
           "AL87RB",
           "AL87RH",
           "AL87RJ",
           "AL87RL",
           "AL87RQ",
           "AL87SU",
           "AL87UA"
          ],
          "received_time": "2021-04-08T18:47:21",
          "restored_time": "2021-04-09T11:52:22.733"
         },
         "INCD-229829-Z": {
          "description": "Due to a faulty piece of underground network equipment we had to turn off your power.",
          "estimated_restored_time": "2021-04-09T20:00:00",
          "incident_active": true,
          "incident_url": "https://www.ukpowernetworks.co.uk/power-cut/map?incidentid=INCD-229829-Z",
          "planned_time": null,
          "postcodes_impacted": [
           "CM195JN",
           "CM195JP",
           "CM195JW",
           "CM195JR",
           "CM195JU",
           "CM195JY",
           "CM195JZ"
          ],
          "received_time": "2021-04-09T02:37:00",
          "restored_time": null
         },
         "INCD-229831-Z": {
          "description": "A fault occurred on an underground electricity cable affecting the local area.",
          "estimated_restored_time": "2021-04-09T18:00:00",
          "incident_active": false,
          "incident_url": "https://www.ukpowernetworks.co.uk/power-cut/map?incidentid=INCD-229831-Z",
          "planned_time": null,
          "postcodes_impacted": [
           "HA02QG",
           "HA02RZ",
           "HA02SA",
           "HA02SB",
           "HA02SE",
           "HA02SF",
           "HA02SL",
           "HA02SW"
          ],
          "received_time": "2021-04-09T05:50:00",
          "restored_time": "2021-04-09T17:01:26.77"
         },
         "INCD-229833-Z": {
          "description": "A fault occurred on an underground electricity cable affecting the local area.",
          "estimated_restored_time": "2021-04-09T17:00:00",
          "incident_active": false,
          "incident_url": "https://www.ukpowernetworks.co.uk/power-cut/map?incidentid=INCD-229833-Z",
          "planned_time": null,
          "postcodes_impacted": [
           "NR191BX",
           "NR191EA",
           "NR192AP"
          ],
          "received_time": "2021-04-09T06:01:41",
          "restored_time": "2021-04-09T15:03:32.623"
         },
         "INCD-229836-Z": {
          "description": "A fault occurred on a piece of our electrical equipment which controls the power to your home.",
          "estimated_restored_time": "2021-04-09T10:30:00",
          "incident_active": false,
          "incident_url": "https://www.ukpowernetworks.co.uk/power-cut/map?incidentid=INCD-229836-Z",
          "planned_time": null,
          "postcodes_impacted": [
           "CO101JS",
           "CO101LS"
          ],
          "received_time": "2021-04-09T07:27:00",
          "restored_time": "2021-04-09T09:39:46.63"
         },
         "INCD-229839-Z": {
          "description": "A fault occurred on a piece of our electrical equipment which controls the power to your home.",
          "estimated_restored_time": null,
          "incident_active": false,
          "incident_url": "https://www.ukpowernetworks.co.uk/power-cut/map?incidentid=INCD-229839-Z",
          "planned_time": null,
          "postcodes_impacted": [
           "WD188JG",
           "WD188QU",
           "WD188TF"
          ],
          "received_time": "2021-04-09T07:59:00",
          "restored_time": "2021-04-09T08:59:01.377"
         },
         "INCD-229840-Z": {
          "description": "A fault occurred on a piece of our electrical equipment which controls the power to your home.",
          "estimated_restored_time": null,
          "incident_active": false,
          "incident_url": "https://www.ukpowernetworks.co.uk/power-cut/map?incidentid=INCD-229840-Z",
          "planned_time": null,
          "postcodes_impacted": [
           "EN118ER"
          ],
          "received_time": "2021-04-09T08:01:00",
          "restored_time": "2021-04-09T11:36:09.447"
         },
         "INCD-229862-Z": {
          "description": "We were investigating an overhead electricity line fault which caused a power cut in the local area.",
          "estimated_restored_time": "2021-04-09T14:00:00",
          "incident_active": false,
          "incident_url": "https://www.ukpowernetworks.co.uk/power-cut/map?incidentid=INCD-229862-Z",
          "planned_time": null,
          "postcodes_impacted": [
           "NR105QW"
          ],
          "received_time": "2021-04-09T10:43:00",
          "restored_time": "2021-04-09T13:21:47.56"
         },
         "INCD-229873-Z": {
          "description": "We are carrying out essential work on the electricity network in your area.",
          "estimated_restored_time": null,
          "incident_active": false,
          "incident_url": "https://www.ukpowernetworks.co.uk/power-cut/map?incidentid=INCD-229873-Z",
          "planned_time": null,
          "postcodes_impacted": [
           "IP221AG",
           "IP221AJ",
           "IP221AL",
           "IP221AN",
           "IP221AS",
           "IP221AX",
           "IP221FJ",
           "IP221PF"
          ],
          "received_time": "2021-04-09T09:06:00",
          "restored_time": "2021-04-09T12:18:04.043"
         },
         "INCD-229908-Z": {
          "description": "We had to turn off power in your area so our engineers could safely carry out emergency repairs to the network.",
          "estimated_restored_time": null,
          "incident_active": false,
          "incident_url": "https://www.ukpowernetworks.co.uk/power-cut/map?incidentid=INCD-229908-Z",
          "planned_time": null,
          "postcodes_impacted": [
           "CO45AA",
           "CO45AB",
           "CO45AD",
           "CO45BT",
           "CO45BU",
           "CO46DT"
          ],
          "received_time": "2021-04-09T12:07:00",
          "restored_time": "2021-04-09T12:23:00"
         },
         "INCD-229910-Z": {
          "description": "We were investigating an electricity cable that was damaged, causing a power cut in the local area.",
          "estimated_restored_time": "2021-04-09T16:30:00",
          "incident_active": false,
          "incident_url": "https://www.ukpowernetworks.co.uk/power-cut/map?incidentid=INCD-229910-Z",
          "planned_time": null,
          "postcodes_impacted": [
           "RM155DL",
           "RM155DX",
           "RM155DZ",
           "RM155EJ",
           "RM155ET",
           "RM155FU"
          ],
          "received_time": "2021-04-09T12:07:11",
          "restored_time": "2021-04-09T13:30:07.597"
         },
         "INCD-229914-Z": {
          "description": "We had to turn off power in your area so our engineers could safely carry out emergency repairs to the network.",
          "estimated_restored_time": "2021-04-09T13:30:00",
          "incident_active": false,
          "incident_url": "https://www.ukpowernetworks.co.uk/power-cut/map?incidentid=INCD-229914-Z",
          "planned_time": null,
          "postcodes_impacted": [
           "HA27AA",
           "HA27HU",
           "HA27LR",
           "HA27LS",
           "HA27LT",
           "HA27LU",
           "HA27NT",
           "HA55DS",
           "HA55DT"
          ],
          "received_time": "2021-04-09T12:17:00",
          "restored_time": "2021-04-09T12:31:00"
         },
         "INCD-229928-Z": {
          "description": "A fault occurred on a piece of our electrical equipment which controls the power to your home.",
          "estimated_restored_time": "2021-04-09T15:30:00",
          "incident_active": false,
          "incident_url": "https://www.ukpowernetworks.co.uk/power-cut/map?incidentid=INCD-229928-Z",
          "planned_time": null,
          "postcodes_impacted": [
           "MK416AG",
           "MK416BN",
           "MK416DL",
           "MK416DN",
           "MK416EE",
           "MK416EG",
           "MK416EJ",
           "MK416EQ",
           "MK437DQ"
          ],
          "received_time": "2021-04-09T12:21:00",
          "restored_time": "2021-04-09T14:08:51.007"
         },
         "INCD-229935-Z": {
          "description": "We were investigating a high voltage overhead electricity line fault which caused a power cut in the local area.",
          "estimated_restored_time": null,
          "incident_active": false,
          "incident_url": "https://www.ukpowernetworks.co.uk/power-cut/map?incidentid=INCD-229935-Z",
          "planned_time": null,
          "postcodes_impacted": [
           "PE339AU",
           "PE339AY",
           "PE339AZ",
           "PE339BA"
          ],
          "received_time": "2021-04-09T14:02:00",
          "restored_time": "2021-04-09T15:43:26.247"
         },
         "INCD-229946-Z": {
          "description": "A fault occurred on an underground electricity cable affecting the local area.",
          "estimated_restored_time": "2021-04-09T21:30:00",
          "incident_active": true,
          "incident_url": "https://www.ukpowernetworks.co.uk/power-cut/map?incidentid=INCD-229946-Z",
          "planned_time": null,
          "postcodes_impacted": [
           "SG191AG",
           "SG191AH",
           "SG191AQ",
           "SG191HU",
           "SG191HX",
           "SG191JB",
           "SG191JN",
           "SG191JP"
          ],
          "received_time": "2021-04-09T13:10:41",
          "restored_time": null
         },
         "INCD-229948-Z": {
          "description": "A fault occurred on a piece of our electrical equipment which controls the power to your home.",
          "estimated_restored_time": "2021-04-09T16:30:00",
          "incident_active": false,
          "incident_url": "https://www.ukpowernetworks.co.uk/power-cut/map?incidentid=INCD-229948-Z",
          "planned_time": null,
          "postcodes_impacted": [
           "IP76DB",
           "IP76DD",
           "IP76DE",
           "IP76DF",
           "IP76JL"
          ],
          "received_time": "2021-04-09T13:21:00",
          "restored_time": "2021-04-09T15:43:44.433"
         },
         "INCD-229961-Z": {
          "description": "Our engineers had to redirect power due to a fault on the electricity network.",
          "estimated_restored_time": "2021-04-09T17:00:00",
          "incident_active": false,
          "incident_url": "https://www.ukpowernetworks.co.uk/power-cut/map?incidentid=INCD-229961-Z",
          "planned_time": null,
          "postcodes_impacted": [],
          "received_time": "2021-04-09T14:04:00",
          "restored_time": "2021-04-09T16:47:07.56"
         },
         "INCD-229962-Z": {
          "description": "We had to turn off power in your area so our engineers could safely carry out emergency repairs to the network.",
          "estimated_restored_time": null,
          "incident_active": false,
          "incident_url": "https://www.ukpowernetworks.co.uk/power-cut/map?incidentid=INCD-229962-Z",
          "planned_time": null,
          "postcodes_impacted": [
           "LU79QA",
           "LU79QB",
           "LU79QD",
           "LU79QF",
           "LU79QG",
           "LU79QQ"
          ],
          "received_time": "2021-04-09T16:00:00",
          "restored_time": "2021-04-09T16:54:42.87"
         },
         "INCD-229998-Z": {
          "description": "We had to turn off power in your area so our engineers could safely carry out emergency repairs to the network.",
          "estimated_restored_time": "2021-04-09T19:00:00",
          "incident_active": true,
          "incident_url": "https://www.ukpowernetworks.co.uk/power-cut/map?incidentid=INCD-229998-Z",
          "planned_time": null,
          "postcodes_impacted": [
           "E48EJ",
           "E48EF",
           "E48EG",
           "E48EH",
           "E48EY"
          ],
          "received_time": "2021-04-09T16:00:00",
          "restored_time": null
         },
         "INCD-230005-Z": {
          "description": "Our engineers are currently working to find out what caused this power cut.",
          "estimated_restored_time": null,
          "incident_active": false,
          "incident_url": "https://www.ukpowernetworks.co.uk/power-cut/map?incidentid=INCD-230005-Z",
          "planned_time": null,
          "postcodes_impacted": [
           "CM83QN",
           "CM83QS"
          ],
          "received_time": "2021-04-09T16:34:11",
          "restored_time": "2021-04-09T17:07:28.74"
         },
         "INCD-230007-Z": {
          "description": "We were investigating a high voltage overhead electricity line fault which caused a power cut in the local area.",
          "estimated_restored_time": "2021-04-09T18:30:00",
          "incident_active": true,
          "incident_url": "https://www.ukpowernetworks.co.uk/power-cut/map?incidentid=INCD-230007-Z",
          "planned_time": null,
          "postcodes_impacted": [
           "CM13DT",
           "CM13DU",
           "CM13DX",
           "CM13DY",
           "CM13DZ",
           "CM13EA",
           "CM13EB",
           "CM13ED",
           "CM13EE",
           "CM13EF",
           "CM13EG",
           "CM13EH",
           "CM13EJ",
           "CM13EL",
           "CM13EN",
           "CM13EP",
           "CM13EQ",
           "CM13ES",
           "CM13ET",
           "CM13EU",
           "CM13EW",
           "CM13EX",
           "CM13EY",
           "CM13EZ",
           "CM13FD",
           "CM13FL",
           "CM13GA",
           "CM13GD",
           "CM13GJ",
           "CM13GU",
           "CM13HB",
           "CM13HD",
           "CM13HE",
           "CM13HF",
           "CM13HG",
           "CM13HH",
           "CM13HJ",
           "CM13HL",
           "CM13HN",
           "CM13HP",
           "CM13HQ",
           "CM13HR",
           "CM13HS",
           "CM13HT",
           "CM13HW",
           "CM13HY",
           "CM13HZ",
           "CM13JA",
           "CM13JB",
           "CM13JD",
           "CM13JE",
           "CM13JF",
           "CM13JG",
           "CM13JH",
           "CM13JJ",
           "CM13JL",
           "CM13JN",
           "CM13JP",
           "CM13JQ",
           "CM13JR",
           "CM13JS",
           "CM13JT",
           "CM13JU",
           "CM13JW",
           "CM13JX",
           "CM13JY",
           "CM13JZ",
           "CM13LE",
           "CM13LF",
           "CM13LG",
           "CM13LH",
           "CM13LJ",
           "CM13LL",
           "CM13LN",
           "CM13LP",
           "CM13LQ",
           "CM13LR",
           "CM13LS",
           "CM13LT",
           "CM13LW",
           "CM13LY",
           "CM13NA",
           "CM13NB",
           "CM13ND",
           "CM13NE",
           "CM13NF",
           "CM13NG",
           "CM13NH",
           "CM13NQ",
           "CM13NU",
           "CM13NX",
           "CM13PA",
           "CM13PB",
           "CM13PD",
           "CM13PE",
           "CM13PF",
           "CM13PJ",
           "CM13RL",
           "CM13SW",
           "CM13US",
           "CM13YA",
           "CM29PD"
          ],
          "received_time": "2021-04-09T16:33:32",
          "restored_time": null
         },
         "INCD-230008-Z": {
          "description": "We had to turn off power in your area so our engineers could safely carry out emergency repairs to the network.",
          "estimated_restored_time": null,
          "incident_active": true,
          "incident_url": "https://www.ukpowernetworks.co.uk/power-cut/map?incidentid=INCD-230008-Z",
          "planned_time": null,
          "postcodes_impacted": [
           "RM107DS",
           "RM107FT"
          ],
          "received_time": "2021-04-09T16:41:11",
          "restored_time": null
         },
         "INCD-230013-Z": {
          "description": "A fault occurred on a piece of our electrical equipment which controls the power to your home.",
          "estimated_restored_time": "2021-04-09T21:00:00",
          "incident_active": false,
          "incident_url": "https://www.ukpowernetworks.co.uk/power-cut/map?incidentid=INCD-230013-Z",
          "planned_time": null,
          "postcodes_impacted": [
           "HA85AP",
           "HA85AS",
           "HA85AT",
           "HA85AZ",
           "HA85BA",
           "HA85BB",
           "HA85BD",
           "HA85BG",
           "HA85DL",
           "HA85DN"
          ],
          "received_time": "2021-04-09T16:50:00",
          "restored_time": "2021-04-09T18:13:59.543"
         },
         "INCD-239464-G": {
          "description": "A fault occurred on an underground electricity cable affecting the local area.",
          "estimated_restored_time": null,
          "incident_active": false,
          "incident_url": "https://www.ukpowernetworks.co.uk/power-cut/map?incidentid=INCD-239464-G",
          "planned_time": null,
          "postcodes_impacted": [
           "KT12RB",
           "KT12RD",
           "KT12UJ",
           "KT12UR"
          ],
          "received_time": "2020-11-20T12:41:00",
          "restored_time": "2021-04-09T07:10:42.37"
         },
         "INCD-243592-G": {
          "description": "A piece of network equipment had a fault on our high voltage electricity network, causing an area wide power cut.",
          "estimated_restored_time": "2021-01-24T11:30:00",
          "incident_active": false,
          "incident_url": "https://www.ukpowernetworks.co.uk/power-cut/map?incidentid=INCD-243592-G",
          "planned_time": null,
          "postcodes_impacted": [
           "BN99SG",
           "BN99SN",
           "BN99SP",
           "BN99SW",
           "BN99TB"
          ],
          "received_time": "2021-01-24T06:43:38",
          "restored_time": "2021-04-09T07:33:31.383"
         },
         "INCD-246135-G": {
          "description": "An underground electricity cable faulted on our high voltage network, causing an area wide power cut.",
          "estimated_restored_time": "2021-03-03T17:30:00",
          "incident_active": false,
          "incident_url": "https://www.ukpowernetworks.co.uk/power-cut/map?incidentid=INCD-246135-G",
          "planned_time": null,
          "postcodes_impacted": [
           "RH15DF",
           "RH15DG",
           "RH15DZ",
           "RH15HN",
           "RH15JN",
           "RH15JP",
           "RH15JQ",
           "RH15JR",
           "RH15JS",
           "RH15JT",
           "RH15JU",
           "RH15JW",
           "RH15QL",
           "RH15RA",
           "RH15RG"
          ],
          "received_time": "2021-03-03T14:18:37",
          "restored_time": "2021-04-09T06:50:57.353"
         },
         "INCD-247495-G": {
          "description": "Due to a faulty piece of high voltage network equipment we had to turn off your power.",
          "estimated_restored_time": "2021-03-30T17:30:00",
          "incident_active": false,
          "incident_url": "https://www.ukpowernetworks.co.uk/power-cut/map?incidentid=INCD-247495-G",
          "planned_time": null,
          "postcodes_impacted": [
           "BR67NS",
           "BR67SH",
           "BR67SJ",
           "TN147HH",
           "TN147HJ",
           "TN147HL",
           "TN147HN",
           "TN147HP",
           "TN147HW",
           "TN157SH"
          ],
          "received_time": "2021-03-30T13:58:05",
          "restored_time": "2021-04-09T07:01:21.29"
         },
         "INCD-247546-G": {
          "description": "An underground electricity cable faulted on our high voltage network, causing an area wide power cut.",
          "estimated_restored_time": "2021-03-31T11:30:00",
          "incident_active": false,
          "incident_url": "https://www.ukpowernetworks.co.uk/power-cut/map?incidentid=INCD-247546-G",
          "planned_time": null,
          "postcodes_impacted": [
           "BN14QF",
           "BN17LA",
           "BN19JS",
           "BN19PU",
           "BN22XZ",
           "BN24BA",
           "BN24BB",
           "BN24FA",
           "BN24FB",
           "BN24FD",
           "BN24FE",
           "BN24FF",
           "BN24FG",
           "BN24FH",
           "BN24FZ",
           "BN24GA",
           "BN24GB",
           "BN24GD",
           "BN24GE",
           "BN24GF",
           "BN24GG",
           "BN24HA",
           "BN24HB",
           "BN24HD",
           "BN24HJ",
           "BN24HL",
           "BN24JB",
           "BN24JD",
           "BN24JE",
           "BN24JF",
           "BN24JG",
           "BN24JH",
           "BN24JJ",
           "BN24JL",
           "BN24JN",
           "BN24JP",
           "BN24JQ",
           "BN24JR",
           "BN24JS",
           "BN24JT",
           "BN24JW",
           "BN24JZ",
           "BN24LA",
           "BN24LB",
           "BN24LD",
           "BN24LE",
           "BN24LF",
           "BN24LG",
           "BN24LH",
           "BN24LJ",
           "BN24LL",
           "BN24LN",
           "BN24LP",
           "BN24LQ",
           "BN24LR",
           "BN24LS",
           "BN24LT",
           "BN24LU",
           "BN24LW",
           "BN24LX",
           "BN24LY",
           "BN24LZ",
           "BN24NP",
           "BN24NQ",
           "BN24PB",
           "BN24PW",
           "BN24PX",
           "BN24PZ",
           "BN24QA",
           "BN24QF",
           "BN24QJ",
           "BN24QN",
           "BN24RA",
           "BN24RB",
           "BN24RD",
           "BN24RE",
           "BN24RF",
           "BN24RG",
           "BN24RH",
           "BN24RJ",
           "BN24RL",
           "BN24RN",
           "BN24RP",
           "BN24RQ",
           "BN24RR",
           "BN24RS",
           "BN24RT",
           "BN24RU",
           "BN24RW",
           "BN24RX",
           "BN24RY",
           "BN24RZ",
           "BN24SA",
           "BN24SB",
           "BN24SE",
           "BN24TA",
           "BN24TB",
           "BN24TD",
           "BN24TF",
           "BN24TG",
           "BN24TH",
           "BN24TJ",
           "BN24TL",
           "BN24TN",
           "BN24TP",
           "BN24TQ",
           "BN24TR",
           "BN26AF",
           "BN26BJ",
           "BN26BL",
           "BN26BN",
           "BN26BP",
           "BN26DB",
           "BN26DD",
           "BN26DE",
           "BN26DF",
           "BN26DG",
           "BN26DH",
           "BN26DJ",
           "BN26DL",
           "BN26DN",
           "BN26DP",
           "BN26DQ",
           "BN26DR",
           "BN26DS",
           "BN26DT",
           "UMS"
          ],
          "received_time": "2021-03-31T08:39:07",
          "restored_time": "2021-04-09T07:17:56.487"
         },
         "INCD-247691-G": {
          "description": "We had to turn off power in your area so our engineers could safely carry out emergency repairs to the network.",
          "estimated_restored_time": null,
          "incident_active": true,
          "incident_url": "https://www.ukpowernetworks.co.uk/power-cut/map?incidentid=INCD-247691-G",
          "planned_time": null,
          "postcodes_impacted": [
           "BN11YE",
           "UMS",
           "BN11UA",
           "BN11YA",
           "BN14AB",
           "BN14AD",
           "BN14AE",
           "BN14AF",
           "BN14AG"
          ],
          "received_time": "2021-04-04T02:05:00",
          "restored_time": null
         },
         "INCD-247801-G": {
          "description": "A fault occurred on an underground electricity cable affecting the local area.",
          "estimated_restored_time": null,
          "incident_active": false,
          "incident_url": "https://www.ukpowernetworks.co.uk/power-cut/map?incidentid=INCD-247801-G",
          "planned_time": null,
          "postcodes_impacted": [
           "BN265SY",
           "BN265SZ",
           "BN265TB",
           "BN265TD",
           "BN265TE",
           "BN265TH",
           "BN265TJ",
           "BN265TL",
           "BN265TY",
           "BN265UD",
           "BN265XL"
          ],
          "received_time": "2021-04-07T13:55:00",
          "restored_time": "2021-04-09T15:15:50.403"
         },
         "INCD-247911-G": {
          "description": "We had to turn off power in your area so our engineers could safely carry out emergency repairs to the network.",
          "estimated_restored_time": "2021-04-09T13:30:00",
          "incident_active": false,
          "incident_url": "https://www.ukpowernetworks.co.uk/power-cut/map?incidentid=INCD-247911-G",
          "planned_time": null,
          "postcodes_impacted": [
           "RH15QL",
           "RH15RG"
          ],
          "received_time": "2021-04-09T11:37:32",
          "restored_time": "2021-04-09T14:13:36.353"
         },
         "INCD-247923-G": {
          "description": "A fault occurred on a piece of our electrical equipment which controls the power to your home.",
          "estimated_restored_time": "2021-04-09T20:30:00",
          "incident_active": true,
          "incident_url": "https://www.ukpowernetworks.co.uk/power-cut/map?incidentid=INCD-247923-G",
          "planned_time": null,
          "postcodes_impacted": [
           "CT203EG",
           "CT203EH",
           "CT203EJ",
           "CT203EL",
           "CT203EQ",
           "CT203JR",
           "CT203JS",
           "CT203JT",
           "CT203JU",
           "CT203JX",
           "CT203JY",
           "CT203JZ",
           "CT203LA",
           "CT203LG",
           "CT203LH",
           "CT203LJ",
           "CT203LL",
           "CT203LQ"
          ],
          "received_time": "2021-04-09T12:44:00",
          "restored_time": null
         },
         "INCD-247925-G": {
          "description": "We had to turn off power in your area so our engineers could safely carry out emergency repairs to the network.",
          "estimated_restored_time": "2021-04-09T15:30:00",
          "incident_active": false,
          "incident_url": "https://www.ukpowernetworks.co.uk/power-cut/map?incidentid=INCD-247925-G",
          "planned_time": null,
          "postcodes_impacted": [
           "BN13LP",
           "BN13LQ",
           "BN13LT",
           "BN13LU",
           "BN13RJ"
          ],
          "received_time": "2021-04-09T13:33:00",
          "restored_time": "2021-04-09T14:25:05.297"
         },
         "INCD-247926-G": {
          "description": "We had to turn off power in your area so our engineers could safely carry out emergency repairs to the network.",
          "estimated_restored_time": "2021-04-09T21:00:00",
          "incident_active": true,
          "incident_url": "https://www.ukpowernetworks.co.uk/power-cut/map?incidentid=INCD-247926-G",
          "planned_time": null,
          "postcodes_impacted": [
           "RH194QW",
           "TN120JS",
           "TN120JT",
           "TN120JW",
           "TN120RA",
           "TN120RB",
           "TN120RG",
           "TN120RH",
           "TN120RJ",
           "TN120RL",
           "TN120RU",
           "TN120RW",
           "TN129BU",
           "TN12ORJ",
           "KT168HT",
           "ME173DZ",
           "ME173EB",
           "TN11",
           "TN120DU",
           "TN120DX",
           "TN120DY",
           "TN120DZ",
           "TN120EA",
           "TN120EB",
           "TN120ED",
           "TN120EG",
           "TN120RD",
           "TN120RE",
           "TN120RR",
           "TN120RS",
           "TN120RT",
           "TN128JN",
           "TN261AN",
           "TN279JT",
           "TN279JU",
           "TN279NX",
           "TN279NY",
           "TN279PA",
           "TN279PB",
           "TN279PD",
           "TN279PE",
           "TN279PG",
           "TN279PJ",
           "TN279PL",
           "TN279PN",
           "TN279PP",
           "TN279PR",
           "TN279PS",
           "TN279PT",
           "TN279RL",
           "TN279RN",
           "TN279RP",
           "TN279RR",
           "TN279RS",
           "TN279RT",
           "TN91NL",
           "TN91TB"
          ],
          "received_time": "2021-04-09T13:15:53",
          "restored_time": null
         },
         "INCD-247931-G": {
          "description": "A fault occurred on a piece of our electrical equipment which controls the power to your home.",
          "estimated_restored_time": null,
          "incident_active": false,
          "incident_url": "https://www.ukpowernetworks.co.uk/power-cut/map?incidentid=INCD-247931-G",
          "planned_time": null,
          "postcodes_impacted": [
           "CR04XA",
           "CR04XD",
           "CR04YN"
          ],
          "received_time": "2021-04-09T13:54:50",
          "restored_time": "2021-04-09T15:01:18.91"
         },
         "INCD-259092-J": {
          "description": "A fault occurred on an underground electricity cable affecting the local area.",
          "estimated_restored_time": null,
          "incident_active": false,
          "incident_url": "https://www.ukpowernetworks.co.uk/power-cut/map?incidentid=INCD-259092-J",
          "planned_time": null,
          "postcodes_impacted": [
           "N10DG",
           "N10EH",
           "N10EQ",
           "N10HB",
           "N10RJ",
           "N10RT",
           "N10XT",
           "N10XU"
          ],
          "received_time": "2021-03-31T09:47:00",
          "restored_time": "2021-04-09T16:31:46.327"
         },
         "INCD-259202-J": {
          "description": "We were investigating an electricity cable that was damaged, causing a power cut in the local area.",
          "estimated_restored_time": null,
          "incident_active": false,
          "incident_url": "https://www.ukpowernetworks.co.uk/power-cut/map?incidentid=INCD-259202-J",
          "planned_time": null,
          "postcodes_impacted": [
           "W1M1DH",
           "W1M1HB",
           "W1M1HE",
           "W1M1HJ",
           "W1U5AH",
           "W1U6QJ",
           "W1U6QL",
           "W1U7AJ",
           "W1U7AL",
           "W1U7BY",
           "W1U7JA",
           "W1U7JF",
           "W1U7NE",
           "W1U7NF",
           "W1U7NN",
           "W1U7NP",
           "W1U7NR",
           "W1U7NS",
           "W1U7NT",
           "W1U7NU",
           "W1U7NW",
           "W1U7NX",
           "W1U7NY",
           "W1U7NZ",
           "W1U7PB",
           "W1U7PD",
           "W1U7PE",
           "W1U7PF",
           "W1U7PG",
           "W1U7PJ",
           "W1U7PN",
           "W1U7PP",
           "W1U7PQ",
           "W1U7PW",
           "W1U7RT"
          ],
          "received_time": "2021-04-02T15:00:00",
          "restored_time": "2021-04-09T08:33:48.74"
         },
         "INCD-259415-J": {
          "description": "A fault occurred on an underground electricity cable affecting the local area.",
          "estimated_restored_time": "2021-04-06T20:30:00",
          "incident_active": false,
          "incident_url": "https://www.ukpowernetworks.co.uk/power-cut/map?incidentid=INCD-259415-J",
          "planned_time": null,
          "postcodes_impacted": [
           "NW36RA",
           "NW36UU",
           "NW36UX",
           "NW36XA",
           "NW36XB",
           "NW36XD",
           "NW36XU"
          ],
          "received_time": "2021-04-06T15:36:00",
          "restored_time": "2021-04-09T10:08:11.067"
         },
         "INCD-259482-J": {
          "description": "Due to a faulty piece of underground network equipment we had to turn off your power.",
          "estimated_restored_time": null,
          "incident_active": false,
          "incident_url": "https://www.ukpowernetworks.co.uk/power-cut/map?incidentid=INCD-259482-J",
          "planned_time": null,
          "postcodes_impacted": [
           "E138AD",
           "E138AF",
           "E138AG",
           "E138AP",
           "E138AR",
           "E138AS",
           "E138AT",
           "E138AW",
           "E138AY",
           "E138AZ",
           "E138BB"
          ],
          "received_time": "2021-04-07T13:34:54",
          "restored_time": "2021-04-09T09:01:42.617"
         },
         "INCD-259614-J": {
          "description": "A fault occurred on an underground electricity cable affecting the local area.",
          "estimated_restored_time": null,
          "incident_active": false,
          "incident_url": "https://www.ukpowernetworks.co.uk/power-cut/map?incidentid=INCD-259614-J",
          "planned_time": null,
          "postcodes_impacted": [
           "NW63QR",
           "NW63QS",
           "NW63QT"
          ],
          "received_time": "2021-04-08T20:29:00",
          "restored_time": "2021-04-09T13:08:02.723"
         },
         "INCD-259628-J": {
          "description": "A fault occurred on a piece of our electrical equipment which controls the power to your home.",
          "estimated_restored_time": "2021-04-09T09:30:00",
          "incident_active": false,
          "incident_url": "https://www.ukpowernetworks.co.uk/power-cut/map?incidentid=INCD-259628-J",
          "planned_time": null,
          "postcodes_impacted": [
           "NW87AB",
           "NW87DX",
           "NW87DY",
           "NW87SH"
          ],
          "received_time": "2021-04-09T03:18:00",
          "restored_time": "2021-04-09T08:40:16.79"
         },
         "INCD-259629-J": {
          "description": "A fault occurred on a piece of our electrical equipment which controls the power to your home.",
          "estimated_restored_time": null,
          "incident_active": false,
          "incident_url": "https://www.ukpowernetworks.co.uk/power-cut/map?incidentid=INCD-259629-J",
          "planned_time": null,
          "postcodes_impacted": [
           "E181AB",
           "E181AG",
           "E181AN",
           "E182AB"
          ],
          "received_time": "2021-04-09T06:21:00",
          "restored_time": "2021-04-09T08:51:52.677"
         },
         "INCD-259632-J": {
          "description": "We had to turn off power in your area so our engineers could safely carry out emergency repairs to the network.",
          "estimated_restored_time": "2021-04-09T17:00:00",
          "incident_active": false,
          "incident_url": "https://www.ukpowernetworks.co.uk/power-cut/map?incidentid=INCD-259632-J",
          "planned_time": null,
          "postcodes_impacted": [
           "N10DG",
           "N10EF",
           "N10EG",
           "N10EH",
           "N10EQ",
           "N10EY",
           "N10FH",
           "N10FJ",
           "N10HB",
           "N10HD",
           "N10HX",
           "N10JA",
           "N10JB",
           "N10PY",
           "N10RG",
           "N10RH",
           "N10RJ",
           "N10RT",
           "N10XT",
           "N10XU",
           "N10XX",
           "N10XY",
           "N10XZ"
          ],
          "received_time": "2021-04-09T11:00:00",
          "restored_time": "2021-04-09T16:28:10.333"
         },
         "INCD-259634-J": {
          "description": "We had to turn off power in your area so our engineers could safely carry out emergency repairs to the network.",
          "estimated_restored_time": null,
          "incident_active": false,
          "incident_url": "https://www.ukpowernetworks.co.uk/power-cut/map?incidentid=INCD-259634-J",
          "planned_time": null,
          "postcodes_impacted": [
           "IG110SQ",
           "IG117UH",
           "IG117XF",
           "IG117XJ",
           "IG117XQ",
           "IG117YG",
           "IG117YH",
           "IG117YQ"
          ],
          "received_time": "2021-04-09T13:55:00",
          "restored_time": "2021-04-09T14:13:48.697"
         },
         "INCD-259647-J": {
          "description": "A fault occurred on a piece of our electrical equipment which controls the power to your home.",
          "estimated_restored_time": "2021-04-09T19:30:00",
          "incident_active": false,
          "incident_url": "https://www.ukpowernetworks.co.uk/power-cut/map?incidentid=INCD-259647-J",
          "planned_time": null,
          "postcodes_impacted": [
           "E81DB",
           "E81DE",
           "E81DJ",
           "E81FG",
           "E81GP",
           "E81NG",
           "E81PF",
           "E81PG",
           "E82AB",
           "E82BF"
          ],
          "received_time": "2021-04-09T16:05:00",
          "restored_time": "2021-04-09T18:10:29.41"
         },
         "INCD-317017-U": {
          "description": "A piece of network equipment had a fault on our high voltage electricity network, causing an area wide power cut.",
          "estimated_restored_time": null,
          "incident_active": false,
          "incident_url": "https://www.ukpowernetworks.co.uk/power-cut/map?incidentid=INCD-317017-U",
          "planned_time": null,
          "postcodes_impacted": [
           "TW181HR",
           "TW182SD",
           "TW182SE",
           "TW182SF",
           "TW182SG",
           "TW182SL",
           "TW182SQ",
           "TW182SY"
          ],
          "received_time": "2021-04-09T01:46:00",
          "restored_time": "2021-04-09T07:13:20.407"
         },
         "INCD-317032-U": {
          "description": "We were investigating an overhead electricity line fault which caused a power cut in the local area.",
          "estimated_restored_time": "2021-04-09T20:30:00",
          "incident_active": true,
          "incident_url": "https://www.ukpowernetworks.co.uk/power-cut/map?incidentid=INCD-317032-U",
          "planned_time": null,
          "postcodes_impacted": [
           "BN18ZA",
           "BN18ZB"
          ],
          "received_time": "2021-04-09T12:26:43",
          "restored_time": null
         },
         "INCD-42719-C": {
          "description": "We're carrying out planned work in your area. For our engineers to carry it out safely they need to turn the power off. We're doing this work as it's essential to provide reliable electricity supplies to your area. We're sorry for any inconvenience caused and thank you for your patience.",
          "estimated_restored_time": "2021-04-09T15:00:00",
          "incident_active": true,
          "incident_url": "https://www.ukpowernetworks.co.uk/power-cut/map?incidentid=INCD-42719-C",
          "planned_time": "2021-04-09T09:00:00",
          "postcodes_impacted": [
           "CO94BP",
           "CO94BX"
          ],
          "received_time": "2021-04-09T09:27:00",
          "restored_time": "2021-04-09T14:37:34.61"
         },
         "INCD-43535-C": {
          "description": "A problem on the electricity network caused power to go on and off in the area.",
          "estimated_restored_time": null,
          "incident_active": false,
          "incident_url": "https://www.ukpowernetworks.co.uk/power-cut/map?incidentid=INCD-43535-C",
          "planned_time": null,
          "postcodes_impacted": [
           "EN64BG",
           "EN64BH",
           "EN64BJ",
           "EN64BQ"
          ],
          "received_time": "2021-03-23T12:04:58",
          "restored_time": "2021-04-09T16:57:07.86"
         },
         "INCD-44056-C": {
          "description": "We had to turn off power in your area so our engineers could safely carry out emergency repairs to the network.",
          "estimated_restored_time": "2021-04-09T09:30:00",
          "incident_active": false,
          "incident_url": "https://www.ukpowernetworks.co.uk/power-cut/map?incidentid=INCD-44056-C",
          "planned_time": null,
          "postcodes_impacted": [
           "NR23AD",
           "NR23AT",
           "NR23AU",
           "NR23AY",
           "NR23AZ",
           "NR23BA",
           "NR24BS",
           "NR24BW"
          ],
          "received_time": "2021-04-09T08:30:00",
          "restored_time": "2021-04-09T09:12:51.89"
         },
         "INCD-51220-V": {
          "description": "We're carrying out planned work in your area. For our engineers to carry it out safely they need to turn the power off. We're doing this work as it's essential to provide reliable electricity supplies to your area. We're sorry for any inconvenience caused and thank you for your patience.",
          "estimated_restored_time": "2021-04-09T15:00:00",
          "incident_active": true,
          "incident_url": "https://www.ukpowernetworks.co.uk/power-cut/map?incidentid=INCD-51220-V",
          "planned_time": "2021-04-09T08:00:00",
          "postcodes_impacted": [
           "ME38PT",
           "ME39BH",
           "ME39BJ",
           "ME39BQ",
           "ME39LR",
           "ME39LS",
           "ME39LT",
           "ME65FN"
          ],
          "received_time": "2021-04-09T08:08:00",
          "restored_time": "2021-04-09T14:50:04.157"
         },
         "INCD-51529-V": {
          "description": "We have identified that there are trees close to our high voltage overhead electricity cables that need trimming. To enable us to work close to the high voltage overhead electricity cables and cut the trees safely our engineers will need to temporarily switch off your power. This work needs to take place for safety reasons, along with reducing the risk of you having an unplanned power cut by stopping these trees from potentially causing damaged to the overhead electricity network. This is why it is important to complete this work during the Coronavirus pandemic. This work is taking place off Collier Street. The government has given exemptions to certain industries and activities, this outage falls into this category. We are adhering to government guidelines to keep our customers and colleagues safe. We are sorry for any inconvenience caused by this work and thank you for your patience.",
          "estimated_restored_time": "2021-04-09T15:30:00",
          "incident_active": true,
          "incident_url": "https://www.ukpowernetworks.co.uk/power-cut/map?incidentid=INCD-51529-V",
          "planned_time": "2021-04-09T09:30:00",
          "postcodes_impacted": [
           "TN129QA",
           "TN129RG",
           "TN129RJ",
           "TN129RL",
           "TN129RN",
           "TN129RP",
           "TN129RR"
          ],
          "received_time": "2021-04-09T09:40:00",
          "restored_time": "2021-04-09T15:32:44.597"
         },
         "INCD-52085-V": {
          "description": "Our contractors Avidety Ltd are replacing and upgrading some overhead electricity cables with improved insulated cables. This will improve the reliability of our electricity network and reduce the risk of you having an unplanned power cut. This is why it is important to complete this work during the Coronavirus pandemic. You may see our contractors completing preparation works prior to the outage to allow for a shorter interruption on the day. Due to safety reasons our contractors need to complete a safety check with your internal equipment checking a plug and a socket on separate circuits to enable the power to be turned on and off. As the checks are manual we aim to turn the power off at 09:30 and back on at 15:30, however please allow extra time for the checks to be completed. Access will only be required before and after the planned power cut. Please ensure access to the meter is clear.This work is taking place outside numbers 1 to 4 Upper Horton Farm Cottages, New House Lane.",
          "estimated_restored_time": "2021-04-09T15:30:00",
          "incident_active": true,
          "incident_url": "https://www.ukpowernetworks.co.uk/power-cut/map?incidentid=INCD-52085-V",
          "planned_time": "2021-04-09T09:30:00",
          "postcodes_impacted": [
           "CT47BN"
          ],
          "received_time": "2021-04-09T09:40:00",
          "restored_time": "2021-04-09T15:30:23.407"
         },
         "INCD-52097-V": {
          "description": "Our contractors Avidety Ltd are replacing and upgrading an electricity pole due to it decaying. They will also be replacing and upgrading some overhead electricity cables with improved insulated cables. This will improve the reliability of our electricity network and reduce the risk of you having an unplanned power cut. This is why it is important to complete this work during the Coronavirus pandemic. You may see our contractors erecting the new electricity pole prior to the outage to allow for a shorter interruption. This work is taking place along Rowly Drive. The government has given exemptions to certain industries and activities, this outage falls into this category. We are sorry for any inconvenience caused by this work.",
          "estimated_restored_time": "2021-04-09T15:30:00",
          "incident_active": true,
          "incident_url": "https://www.ukpowernetworks.co.uk/power-cut/map?incidentid=INCD-52097-V",
          "planned_time": "2021-04-09T09:30:00",
          "postcodes_impacted": [
           "GU68PJ",
           "GU68PN"
          ],
          "received_time": "2021-04-09T09:50:00",
          "restored_time": "2021-04-09T17:13:20.287"
         },
         "INCD-52338-V": {
          "description": "Our contractors Avidety Ltd are replacing and upgrading electricity poles due to them decaying. Along with replacing and upgrading some overhead electricity cables with improved insulated cables. This will improve the reliability of the electricity network and will reduce the risk of you having an unplanned power cut which is why it is important to complete this work during the Coronavirus pandemic. You may see our contractors completing preparation works prior to the outage to allow for a shorter interruption on the day of the planned power cut. This work is taking place outside numbers 48 to 76 Joydens Wood Road. The government has given exemptions to certain industries and activities, this outage falls into this category.",
          "estimated_restored_time": "2021-04-09T15:30:00",
          "incident_active": true,
          "incident_url": "https://www.ukpowernetworks.co.uk/power-cut/map?incidentid=INCD-52338-V",
          "planned_time": "2021-04-09T09:30:00",
          "postcodes_impacted": [
           "DA52HT",
           "DA52JA"
          ],
          "received_time": "2021-04-09T09:30:00",
          "restored_time": "2021-04-09T16:14:23.463"
         },
         "INCD-52429-V": {
          "description": "Our contractors Avidety Ltd are replacing and upgrading electricity poles due to them coming to the end of their serviceable lives. This will improve the reliability of the electricity network and will reduce the risk of you having an unplanned power cut which is why it is important to complete this work during the Coronavirus pandemic. You may see our contractors completing preparation works prior to the outage to allow for a shorter interruption on the day of the planned power cut. This work is taking place in and around Fontridge Lane. The government has given exemptions to certain industries and activities, this outage falls into this category.",
          "estimated_restored_time": "2021-04-09T17:30:00",
          "incident_active": true,
          "incident_url": "https://www.ukpowernetworks.co.uk/power-cut/map?incidentid=INCD-52429-V",
          "planned_time": "2021-04-09T08:00:00",
          "postcodes_impacted": [
           "TN197AE",
           "TN197DD"
          ],
          "received_time": "2021-04-06T08:00:00",
          "restored_time": null
         },
         "INCD-52888-V": {
          "description": "Our contractors Avidety Ltd are replacing and upgrading electricity poles due to them coming to the end of their serviceable lives. This will improve the reliability of the electricity network and will reduce the risk of you having an unplanned power cut which is why it is important to complete this work during the Coronavirus pandemic. You may see our contractors completing preparation works prior to the outage to allow for a shorter interruption on the day of the planned power cut. This work is taking place in and around Fontridge Lane. The government has given exemptions to certain industries and activities, this outage falls into this category.",
          "estimated_restored_time": "2021-04-09T18:00:00",
          "incident_active": true,
          "incident_url": "https://www.ukpowernetworks.co.uk/power-cut/map?incidentid=INCD-52888-V",
          "planned_time": "2021-04-09T08:00:00",
          "postcodes_impacted": [
           "TN196EB",
           "TN197AE",
           "TN197AF",
           "TN197BA",
           "TN197BD",
           "TN197BE",
           "TN197BG",
           "TN197DD",
           "TN197DE",
           "TN197DG",
           "TN197DH"
          ],
          "received_time": "2021-04-09T08:00:00",
          "restored_time": "2021-04-09T17:47:06.91"
         },
         "INCD-53079-V": {
          "description": "The reason for this work is we are replacing an overhead transformer with a new piece of equipment, called a substation on the electricity network. This equipment controls and delivers the electricity into your area. These are essential works that will improve the reliability of the electricity network, ensure our network can uphold the amount of electricity in your area and will also reduce the risk of you having an unplanned power cut which is why it is important to complete this work during the Coronavirus pandemic. This work is taking place in the vicinity of Adamswell Scout Camp. The government has given exemptions to certain industries and activities, this outage falls into this category.",
          "estimated_restored_time": "2021-04-09T17:45:00",
          "incident_active": true,
          "incident_url": "https://www.ukpowernetworks.co.uk/power-cut/map?incidentid=INCD-53079-V",
          "planned_time": "2021-04-09T08:00:00",
          "postcodes_impacted": [
           "TN39JH",
           "TN39JJ",
           "TN39JL",
           "TN39LU",
           "TN48NA",
           "TN48ND",
           "TN48NE",
           "TN48NG",
           "TN48NH"
          ],
          "received_time": "2021-04-09T08:00:00",
          "restored_time": "2021-04-09T17:28:57.653"
         },
         "INCD-53400-V": {
          "description": "A fault occurred on an underground electricity cable affecting the local area.",
          "estimated_restored_time": "2021-03-29T11:30:00",
          "incident_active": false,
          "incident_url": "https://www.ukpowernetworks.co.uk/power-cut/map?incidentid=INCD-53400-V",
          "planned_time": null,
          "postcodes_impacted": [
           "DA121LR",
           "ME21HT",
           "ME38SF",
           "ME38SL",
           "ME38SN",
           "ME38SS"
          ],
          "received_time": "2021-03-28T11:13:00",
          "restored_time": "2021-04-09T08:51:23.63"
         },
         "INCD-54022-V": {
          "description": "A fault occurred on an underground electricity cable affecting the local area.",
          "estimated_restored_time": null,
          "incident_active": false,
          "incident_url": "https://www.ukpowernetworks.co.uk/power-cut/map?incidentid=INCD-54022-V",
          "planned_time": null,
          "postcodes_impacted": [
           "GU27YP",
           "GU33AD",
           "GU33AE",
           "GU33AR"
          ],
          "received_time": "2021-04-07T15:55:00",
          "restored_time": "2021-04-09T08:26:19.673"
         },
         "INCD-54055-V": {
          "description": "A fault occurred on an underground electricity cable affecting the local area.",
          "estimated_restored_time": null,
          "incident_active": true,
          "incident_url": "https://www.ukpowernetworks.co.uk/power-cut/map?incidentid=INCD-54055-V",
          "planned_time": null,
          "postcodes_impacted": [
           "GU14SQ",
           "GU14RY",
           "GU14SG",
           "GU14SJ",
           "GU14SS",
           "GU14YN"
          ],
          "received_time": "2021-04-08T09:30:00",
          "restored_time": null
         },
         "INCD-54137-V": {
          "description": "We are carrying out essential work on the electricity network in your area.",
          "estimated_restored_time": "2021-04-09T15:00:00",
          "incident_active": false,
          "incident_url": "https://www.ukpowernetworks.co.uk/power-cut/map?incidentid=INCD-54137-V",
          "planned_time": null,
          "postcodes_impacted": [
           "ME39LR",
           "ME39LS"
          ],
          "received_time": "2021-04-09T08:08:00",
          "restored_time": "2021-04-09T15:08:54.147"
         },
         "INCD-54166-V": {
          "description": "We were investigating an electricity cable that was damaged, causing a power cut in the local area.",
          "estimated_restored_time": "2021-04-09T20:00:00",
          "incident_active": true,
          "incident_url": "https://www.ukpowernetworks.co.uk/power-cut/map?incidentid=INCD-54166-V",
          "planned_time": null,
          "postcodes_impacted": [
           "CT162LF",
           "CT162LG",
           "CT162LH",
           "CT162LL",
           "CT162LQ",
           "CT162QX",
           "CT162ZZ",
           "CT170ST"
          ],
          "received_time": "2021-04-09T12:53:00",
          "restored_time": null
         },
         "INCD-54174-V": {
          "description": "A fault occurred on a piece of our electrical equipment which controls the power to your home.",
          "estimated_restored_time": "2021-04-09T20:30:00",
          "incident_active": true,
          "incident_url": "https://www.ukpowernetworks.co.uk/power-cut/map?incidentid=INCD-54174-V",
          "planned_time": null,
          "postcodes_impacted": [
           "TN39PH",
           "TN39QY",
           "TN39QZ",
           "TN39RA",
           "TN39RB",
           "TN39RE",
           "TN39RG",
           "TN39RH",
           "TN39RJ",
           "TN39RL",
           "TN39RN",
           "TN39RP",
           "TN39RQ",
           "TN39RR",
           "TN39RW",
           "TN39SQ"
          ],
          "received_time": "2021-04-09T16:07:28",
          "restored_time": null
         },
         "INCD-54175-V": {
          "description": "A fault occurred on a piece of our electrical equipment which controls the power to your home.",
          "estimated_restored_time": "2021-04-09T22:00:00",
          "incident_active": true,
          "incident_url": "https://www.ukpowernetworks.co.uk/power-cut/map?incidentid=INCD-54175-V",
          "planned_time": null,
          "postcodes_impacted": [
           "TN74ET"
          ],
          "received_time": "2021-04-09T16:08:00",
          "restored_time": null
         },
         "INCD-59775-N": {
          "description": "A fault occurred on an underground electricity cable affecting the local area.",
          "estimated_restored_time": "2021-04-09T17:30:00",
          "incident_active": false,
          "incident_url": "https://www.ukpowernetworks.co.uk/power-cut/map?incidentid=INCD-59775-N",
          "planned_time": null,
          "postcodes_impacted": [
           "SE265BA",
           "SE265TB",
           "SE265TJ",
           "SE265TW"
          ],
          "received_time": "2021-04-09T09:04:00",
          "restored_time": "2021-04-09T16:30:58.573"
         },
         "INCD-59811-N": {
          "description": "A fault occurred on an underground electricity cable affecting the local area.",
          "estimated_restored_time": "2021-04-09T21:30:00",
          "incident_active": true,
          "incident_url": "https://www.ukpowernetworks.co.uk/power-cut/map?incidentid=INCD-59811-N",
          "planned_time": null,
          "postcodes_impacted": [
           "SW99RT",
           "SW99BT",
           "SW99JZ",
           "SW99LA",
           "SW99LB",
           "SW99LE",
           "SW99LF",
           "SW99LG",
           "SW99LH",
           "SW99LJ",
           "SW99LL",
           "SW99LN",
           "SW99LW",
           "SW99NN",
           "SW99RX"
          ],
          "received_time": "2021-04-09T14:24:00",
          "restored_time": null
         },
         "INCD-6198-O": {
          "description": "We're carrying out planned work in your area. For our engineers to carry it out safely they need to turn the power off. We're doing this work as it's essential to provide reliable electricity supplies to your area. We're sorry for any inconvenience caused and thank you for your patience.",
          "estimated_restored_time": "2021-04-09T14:00:00",
          "incident_active": true,
          "incident_url": "https://www.ukpowernetworks.co.uk/power-cut/map?incidentid=INCD-6198-O",
          "planned_time": "2021-04-09T09:00:00",
          "postcodes_impacted": [
           "CO94EA"
          ],
          "received_time": "2021-04-09T09:14:00",
          "restored_time": "2021-04-09T13:34:07.313"
         },
         "INCD-6434-O": {
          "description": "We're carrying out planned work in your area. For our engineers to carry it out safely they need to turn the power off. We're doing this work as it's essential to provide reliable electricity supplies to your area. We're sorry for any inconvenience caused and thank you for your patience.",
          "estimated_restored_time": "2021-04-09T13:30:00",
          "incident_active": true,
          "incident_url": "https://www.ukpowernetworks.co.uk/power-cut/map?incidentid=INCD-6434-O",
          "planned_time": "2021-04-09T09:30:00",
          "postcodes_impacted": [
           "NR152AN",
           "NR152RR"
          ],
          "received_time": "2021-04-09T09:31:00",
          "restored_time": "2021-04-09T12:16:33.54"
         }
        },
        "wpd": {
         "INCD-125326-B": {
          "description": "In Progress",
          "estimated_restored_time": "2021-04-09 18:30:00",
          "incident_active": true,
          "incident_url": "https://powercuts.westernpower.co.uk/incident/INCD-125326-B",
          "postcodes_impacted": [
           "PL2 2EH",
           "PL5 1EY",
           "PL2 2EB",
           "PL2 2ED",
           "PL5 1BA",
           "PL2 2EL"
          ],
          "received_time": "2021-04-09 16:04:00"
         },
         "INCD-125327-B": {
          "description": "In Progress",
          "estimated_restored_time": "2021-04-09 21:30:00",
          "incident_active": true,
          "incident_url": "https://powercuts.westernpower.co.uk/incident/INCD-125327-B",
          "postcodes_impacted": [
           "TQ13 9PR",
           "TQ13 9PU"
          ],
          "received_time": "2021-04-09 16:08:00"
         },
         "INCD-1503-g": {
          "description": "In Progress",
          "estimated_restored_time": "2021-04-09 19:00:00",
          "incident_active": true,
          "incident_url": "https://powercuts.westernpower.co.uk/incident/INCD-1503-g",
          "postcodes_impacted": [
           "SA67 8QA",
           "SA67 8QP",
           "SA67 8QE",
           "SA67 8BP",
           "SA67 8QD"
          ],
          "received_time": "2021-04-09 10:54:00"
         },
         "INCD-1525-g": {
          "description": "In Progress",
          "estimated_restored_time": "2021-04-09 19:00:00",
          "incident_active": true,
          "incident_url": "https://powercuts.westernpower.co.uk/incident/INCD-1525-g",
          "postcodes_impacted": [
           "CF37 2EU",
           "CF37 2EW",
           "CF37 2EN",
           "CF37 2EY"
          ],
          "received_time": "2021-04-09 13:27:00"
         },
         "INCD-1543-g": {
          "description": "In Progress",
          "estimated_restored_time": "2021-04-09 18:30:00",
          "incident_active": true,
          "incident_url": "https://powercuts.westernpower.co.uk/incident/INCD-1543-g",
          "postcodes_impacted": [
           "CF33 6NG",
           "CF33 6NH",
           "CF33 6NL"
          ],
          "received_time": "2021-04-09 15:34:00"
         },
         "INCD-357515-G": {
          "description": "In Progress",
          "estimated_restored_time": "2021-04-09 22:00:00",
          "incident_active": true,
          "incident_url": "https://powercuts.westernpower.co.uk/incident/INCD-357515-G",
          "postcodes_impacted": [
           "WR13 6PD"
          ],
          "received_time": "2021-04-09 13:32:00"
         },
         "INCD-357528-G": {
          "description": "In Progress",
          "estimated_restored_time": "2021-04-09 22:30:00",
          "incident_active": true,
          "incident_url": "https://powercuts.westernpower.co.uk/incident/INCD-357528-G",
          "postcodes_impacted": [
           "GL12 8RF",
           "GL12 8JU"
          ],
          "received_time": "2021-04-09 14:24:00"
         },
         "INCD-357536-G": {
          "description": "In Progress",
          "estimated_restored_time": "2021-04-09 19:30:00",
          "incident_active": true,
          "incident_url": "https://powercuts.westernpower.co.uk/incident/INCD-357536-G",
          "postcodes_impacted": [
           "WV15 6HE"
          ],
          "received_time": "2021-04-09 16:28:00"
         },
         "INCD-37157-C": {
          "description": "In Progress",
          "estimated_restored_time": "2021-04-09 20:30:00",
          "incident_active": true,
          "incident_url": "https://powercuts.westernpower.co.uk/incident/INCD-37157-C",
          "postcodes_impacted": [
           "BS40 5HJ"
          ],
          "received_time": "2021-04-09 09:41:00"
         },
         "INCD-416170-E": {
          "description": "In Progress",
          "estimated_restored_time": "2021-04-09 19:30:00",
          "incident_active": true,
          "incident_url": "https://powercuts.westernpower.co.uk/incident/INCD-416170-E",
          "postcodes_impacted": [
           "GL53 9NE",
           "GL53 9NG",
           "GL53 9NF",
           "GL53 9RE"
          ],
          "received_time": "2021-04-09 12:06:00"
         },
         "INCD-416183-E": {
          "description": "In Progress",
          "estimated_restored_time": "2021-04-09 18:00:00",
          "incident_active": true,
          "incident_url": "https://powercuts.westernpower.co.uk/incident/INCD-416183-E",
          "postcodes_impacted": [
           "ST7 8PL",
           "ST7 8RB",
           "ST7 8PN",
           "ST7 8QP",
           "ST7 8PP",
           "ST7 8NN",
           "ST7 8PW",
           "ST7 8NW",
           "ST7 8PS"
          ],
          "received_time": "2021-04-09 15:01:00"
         },
         "INCD-74821-T": {
          "description": "In Progress",
          "estimated_restored_time": "2021-04-09 20:00:00",
          "incident_active": true,
          "incident_url": "https://powercuts.westernpower.co.uk/incident/INCD-74821-T",
          "postcodes_impacted": [
           "TA4 3TL",
           "TA4 3SZ",
           "TA4 3TA",
           "TA4 3TU",
           "TA4 3TQ"
          ],
          "received_time": "2021-04-09 07:53:00"
         },
         "INCD-74833-T": {
          "description": "In Progress",
          "estimated_restored_time": "2021-04-09 22:00:00",
          "incident_active": true,
          "incident_url": "https://powercuts.westernpower.co.uk/incident/INCD-74833-T",
          "postcodes_impacted": [
           "DT6 3RN"
          ],
          "received_time": "2021-04-09 09:10:00"
         }
        }
       }
      ],
      "text/plain": [
       "<IPython.core.display.JSON object>"
      ]
     },
     "execution_count": 4,
     "metadata": {
      "application/json": {
       "expanded": false,
       "root": "root"
      }
     },
     "output_type": "execute_result"
    }
   ],
   "source": [
    "cleaned_incidents_info = collate_cleaned_incidents_info()\n",
    "\n",
    "JSON([cleaned_incidents_info])"
   ]
  },
  {
   "cell_type": "code",
   "execution_count": null,
   "id": "formed-jones",
   "metadata": {},
   "outputs": [],
   "source": []
  },
  {
   "cell_type": "code",
   "execution_count": 5,
   "id": "coordinated-gates",
   "metadata": {},
   "outputs": [],
   "source": [
    "#exports\n",
    "def get_combined_outages_df(cleaned_incidents_info):\n",
    "    df_outages = pd.DataFrame()\n",
    "\n",
    "    for dno, dno_outages in cleaned_incidents_info.items():\n",
    "        df_dno_outages = pd.DataFrame(dno_outages).T.query('incident_active==True')\n",
    "\n",
    "        df_dno_outages['dno'] = dno\n",
    "        df_dno_outages = df_dno_outages[['received_time', 'estimated_restored_time', 'postcodes_impacted', 'description', 'dno', 'incident_url']]\n",
    "\n",
    "        df_dno_outages.index.name = 'incident_id'\n",
    "        df_dno_outages = df_dno_outages.reset_index()\n",
    "\n",
    "        df_outages = df_outages.append(df_dno_outages)\n",
    "\n",
    "    df_outages = df_outages.reset_index(drop=True)\n",
    "    \n",
    "    return df_outages"
   ]
  },
  {
   "cell_type": "code",
   "execution_count": 6,
   "id": "amino-player",
   "metadata": {},
   "outputs": [
    {
     "data": {
      "text/html": [
       "<div>\n",
       "<style scoped>\n",
       "    .dataframe tbody tr th:only-of-type {\n",
       "        vertical-align: middle;\n",
       "    }\n",
       "\n",
       "    .dataframe tbody tr th {\n",
       "        vertical-align: top;\n",
       "    }\n",
       "\n",
       "    .dataframe thead th {\n",
       "        text-align: right;\n",
       "    }\n",
       "</style>\n",
       "<table border=\"1\" class=\"dataframe\">\n",
       "  <thead>\n",
       "    <tr style=\"text-align: right;\">\n",
       "      <th></th>\n",
       "      <th>incident_id</th>\n",
       "      <th>received_time</th>\n",
       "      <th>estimated_restored_time</th>\n",
       "      <th>postcodes_impacted</th>\n",
       "      <th>description</th>\n",
       "      <th>dno</th>\n",
       "      <th>incident_url</th>\n",
       "    </tr>\n",
       "  </thead>\n",
       "  <tbody>\n",
       "    <tr>\n",
       "      <th>0</th>\n",
       "      <td>INCD-54055-V</td>\n",
       "      <td>2021-04-08T09:30:00</td>\n",
       "      <td>None</td>\n",
       "      <td>[GU14SQ, GU14RY, GU14SG, GU14SJ, GU14SS, GU14YN]</td>\n",
       "      <td>A fault occurred on an underground electricity...</td>\n",
       "      <td>ukpn</td>\n",
       "      <td>https://www.ukpowernetworks.co.uk/power-cut/ma...</td>\n",
       "    </tr>\n",
       "    <tr>\n",
       "      <th>1</th>\n",
       "      <td>INCD-247691-G</td>\n",
       "      <td>2021-04-04T02:05:00</td>\n",
       "      <td>None</td>\n",
       "      <td>[BN11YE, UMS, BN11UA, BN11YA, BN14AB, BN14AD, ...</td>\n",
       "      <td>We had to turn off power in your area so our e...</td>\n",
       "      <td>ukpn</td>\n",
       "      <td>https://www.ukpowernetworks.co.uk/power-cut/ma...</td>\n",
       "    </tr>\n",
       "    <tr>\n",
       "      <th>2</th>\n",
       "      <td>INCD-230008-Z</td>\n",
       "      <td>2021-04-09T16:41:11</td>\n",
       "      <td>None</td>\n",
       "      <td>[RM107DS, RM107FT]</td>\n",
       "      <td>We had to turn off power in your area so our e...</td>\n",
       "      <td>ukpn</td>\n",
       "      <td>https://www.ukpowernetworks.co.uk/power-cut/ma...</td>\n",
       "    </tr>\n",
       "  </tbody>\n",
       "</table>\n",
       "</div>"
      ],
      "text/plain": [
       "     incident_id        received_time estimated_restored_time  \\\n",
       "0   INCD-54055-V  2021-04-08T09:30:00                    None   \n",
       "1  INCD-247691-G  2021-04-04T02:05:00                    None   \n",
       "2  INCD-230008-Z  2021-04-09T16:41:11                    None   \n",
       "\n",
       "                                  postcodes_impacted  \\\n",
       "0   [GU14SQ, GU14RY, GU14SG, GU14SJ, GU14SS, GU14YN]   \n",
       "1  [BN11YE, UMS, BN11UA, BN11YA, BN14AB, BN14AD, ...   \n",
       "2                                 [RM107DS, RM107FT]   \n",
       "\n",
       "                                         description   dno  \\\n",
       "0  A fault occurred on an underground electricity...  ukpn   \n",
       "1  We had to turn off power in your area so our e...  ukpn   \n",
       "2  We had to turn off power in your area so our e...  ukpn   \n",
       "\n",
       "                                        incident_url  \n",
       "0  https://www.ukpowernetworks.co.uk/power-cut/ma...  \n",
       "1  https://www.ukpowernetworks.co.uk/power-cut/ma...  \n",
       "2  https://www.ukpowernetworks.co.uk/power-cut/ma...  "
      ]
     },
     "execution_count": 6,
     "metadata": {},
     "output_type": "execute_result"
    }
   ],
   "source": [
    "df_outages = get_combined_outages_df(cleaned_incidents_info)\n",
    "    \n",
    "df_outages.head(3)"
   ]
  },
  {
   "cell_type": "markdown",
   "id": "valuable-balance",
   "metadata": {},
   "source": [
    "<br>\n",
    "\n",
    "### Locating Post Codes"
   ]
  },
  {
   "cell_type": "code",
   "execution_count": 7,
   "id": "amateur-brain",
   "metadata": {},
   "outputs": [
    {
     "name": "stdout",
     "output_type": "stream",
     "text": [
      "Wall time: 3.3 s\n"
     ]
    },
    {
     "data": {
      "text/html": [
       "<div>\n",
       "<style scoped>\n",
       "    .dataframe tbody tr th:only-of-type {\n",
       "        vertical-align: middle;\n",
       "    }\n",
       "\n",
       "    .dataframe tbody tr th {\n",
       "        vertical-align: top;\n",
       "    }\n",
       "\n",
       "    .dataframe thead th {\n",
       "        text-align: right;\n",
       "    }\n",
       "</style>\n",
       "<table border=\"1\" class=\"dataframe\">\n",
       "  <thead>\n",
       "    <tr style=\"text-align: right;\">\n",
       "      <th></th>\n",
       "      <th>longitude</th>\n",
       "      <th>latitude</th>\n",
       "    </tr>\n",
       "    <tr>\n",
       "      <th>postcode</th>\n",
       "      <th></th>\n",
       "      <th></th>\n",
       "    </tr>\n",
       "  </thead>\n",
       "  <tbody>\n",
       "    <tr>\n",
       "      <th>AB101AB</th>\n",
       "      <td>-2.096916</td>\n",
       "      <td>57.149606</td>\n",
       "    </tr>\n",
       "    <tr>\n",
       "      <th>AB101AF</th>\n",
       "      <td>-2.097806</td>\n",
       "      <td>57.148707</td>\n",
       "    </tr>\n",
       "    <tr>\n",
       "      <th>AB101AG</th>\n",
       "      <td>-2.096997</td>\n",
       "      <td>57.149067</td>\n",
       "    </tr>\n",
       "    <tr>\n",
       "      <th>AB101AH</th>\n",
       "      <td>-2.094664</td>\n",
       "      <td>57.148080</td>\n",
       "    </tr>\n",
       "    <tr>\n",
       "      <th>AB101AL</th>\n",
       "      <td>-2.095909</td>\n",
       "      <td>57.150074</td>\n",
       "    </tr>\n",
       "  </tbody>\n",
       "</table>\n",
       "</div>"
      ],
      "text/plain": [
       "          longitude   latitude\n",
       "postcode                      \n",
       "AB101AB   -2.096916  57.149606\n",
       "AB101AF   -2.097806  57.148707\n",
       "AB101AG   -2.096997  57.149067\n",
       "AB101AH   -2.094664  57.148080\n",
       "AB101AL   -2.095909  57.150074"
      ]
     },
     "execution_count": 7,
     "metadata": {},
     "output_type": "execute_result"
    }
   ],
   "source": [
    "%%time\n",
    "\n",
    "df_postcodes = pd.read_csv('../data/postcodes.csv', index_col='postcode')\n",
    "df_postcodes.index = df_postcodes.index.str.replace(' ', '')\n",
    "\n",
    "df_postcodes.head()"
   ]
  },
  {
   "cell_type": "markdown",
   "id": "narrative-creation",
   "metadata": {},
   "source": [
    "<br>\n",
    "\n",
    "Although most are, some post-codes aren't included in our database"
   ]
  },
  {
   "cell_type": "code",
   "execution_count": 8,
   "id": "single-scott",
   "metadata": {},
   "outputs": [],
   "source": [
    "check_postcode_is_in_df = lambda postcode, df: postcode in df.index"
   ]
  },
  {
   "cell_type": "code",
   "execution_count": 9,
   "id": "composite-bennett",
   "metadata": {},
   "outputs": [
    {
     "data": {
      "text/plain": [
       "(False, True)"
      ]
     },
     "execution_count": 9,
     "metadata": {},
     "output_type": "execute_result"
    }
   ],
   "source": [
    "(check_postcode_is_in_df('W1M1HE', df_postcodes), \n",
    " check_postcode_is_in_df('HP41FD', df_postcodes))"
   ]
  },
  {
   "cell_type": "code",
   "execution_count": null,
   "id": "terminal-nickname",
   "metadata": {},
   "outputs": [],
   "source": []
  },
  {
   "cell_type": "code",
   "execution_count": 10,
   "id": "listed-qatar",
   "metadata": {},
   "outputs": [],
   "source": [
    "def get_postcode_location_df(df_postcodes, postcode):\n",
    "    postcode_is_in_df = check_postcode_is_in_df(postcode, df_postcodes)\n",
    "    \n",
    "    if postcode_is_in_df:\n",
    "        location = df_postcodes.loc[postcode]\n",
    "\n",
    "        longitude = location['longitude']\n",
    "        latitude = location['latitude']\n",
    "        \n",
    "    else:\n",
    "        longitude, latitude = None, None\n",
    "\n",
    "    return longitude, latitude"
   ]
  },
  {
   "cell_type": "code",
   "execution_count": 11,
   "id": "limited-assignment",
   "metadata": {},
   "outputs": [
    {
     "data": {
      "text/plain": [
       "(-0.5676534391043929, 51.76118688537669)"
      ]
     },
     "execution_count": 11,
     "metadata": {},
     "output_type": "execute_result"
    }
   ],
   "source": [
    "longitude, latitude = get_postcode_location_df(df_postcodes, 'HP41FD')\n",
    "\n",
    "longitude, latitude"
   ]
  },
  {
   "cell_type": "code",
   "execution_count": null,
   "id": "stable-speed",
   "metadata": {},
   "outputs": [],
   "source": []
  },
  {
   "cell_type": "code",
   "execution_count": 12,
   "id": "acceptable-software",
   "metadata": {},
   "outputs": [],
   "source": [
    "get_postcode_url = lambda postcode: f'http://api.getthedata.com/postcode/{postcode}'"
   ]
  },
  {
   "cell_type": "code",
   "execution_count": 13,
   "id": "wound-candidate",
   "metadata": {},
   "outputs": [
    {
     "data": {
      "application/json": {
       "copyright": [
        "Contains OS data (c) Crown copyright and database right 2021",
        "Contains Royal Mail data (c) Royal Mail copyright and database right 2021",
        "Contains National Statistics data (c) Crown copyright and database right 2021"
       ],
       "data": {
        "country": "England",
        "easting": 528092,
        "incode": "1HE",
        "latitude": "51.519146",
        "longitude": "-0.155234",
        "northing": 181638,
        "outcode": "W1M",
        "positional_quality_indicator": 1,
        "postcode": "W1M 1HE",
        "postcode_area": "W",
        "postcode_district": "W1M",
        "postcode_fixed_width_eight": "W1M  1HE",
        "postcode_fixed_width_seven": "W1M 1HE",
        "postcode_no_space": "W1M1HE",
        "postcode_sector": "W1M 1",
        "status": "terminated",
        "usertype": "small"
       },
       "input": "W1M1HE",
       "match_type": "unit_postcode",
       "status": "match"
      },
      "text/plain": [
       "<IPython.core.display.JSON object>"
      ]
     },
     "execution_count": 13,
     "metadata": {
      "application/json": {
       "expanded": false,
       "root": "root"
      }
     },
     "output_type": "execute_result"
    }
   ],
   "source": [
    "postcode = 'W1M1HE'\n",
    "\n",
    "postcode_url = get_postcode_url(postcode)\n",
    "r_json = requests.get(postcode_url).json()\n",
    "\n",
    "JSON(r_json)"
   ]
  },
  {
   "cell_type": "code",
   "execution_count": null,
   "id": "blind-pepper",
   "metadata": {},
   "outputs": [],
   "source": []
  },
  {
   "cell_type": "code",
   "execution_count": 14,
   "id": "expensive-giant",
   "metadata": {},
   "outputs": [],
   "source": [
    "def get_postcode_location_api(postcode):\n",
    "    longitude, latitude = None, None\n",
    "    \n",
    "    postcode_url = get_postcode_url(postcode)\n",
    "    r_json = requests.get(postcode_url).json()\n",
    "\n",
    "    if r_json['status'] == 'match':\n",
    "        data_keys = r_json['data'].keys()\n",
    "        \n",
    "        if 'longitude' in data_keys and 'latitude' in data_keys:\n",
    "            longitude = float(r_json['data']['longitude'])\n",
    "            latitude = float(r_json['data']['latitude'])\n",
    "\n",
    "    return longitude, latitude"
   ]
  },
  {
   "cell_type": "code",
   "execution_count": 15,
   "id": "interested-globe",
   "metadata": {},
   "outputs": [
    {
     "data": {
      "text/plain": [
       "(-0.155234, 51.519146)"
      ]
     },
     "execution_count": 15,
     "metadata": {},
     "output_type": "execute_result"
    }
   ],
   "source": [
    "longitude, latitude = get_postcode_location_api(postcode)\n",
    "\n",
    "longitude, latitude"
   ]
  },
  {
   "cell_type": "code",
   "execution_count": null,
   "id": "sudden-beast",
   "metadata": {},
   "outputs": [],
   "source": []
  },
  {
   "cell_type": "code",
   "execution_count": 16,
   "id": "monthly-proceeding",
   "metadata": {},
   "outputs": [],
   "source": [
    "#exports\n",
    "class PostCodeLocator:\n",
    "    def __init__(self, postcodes_fp: str='../data/postcodes.csv'):\n",
    "        # Loading Post Codes DataFrame\n",
    "        df_postcodes = pd.read_csv(postcodes_fp, index_col='postcode')\n",
    "        df_postcodes.index = df_postcodes.index.str.replace(' ', '')\n",
    "        \n",
    "        self.df_postcodes = df_postcodes\n",
    "        \n",
    "    def get_postcode_location(self, postcode):\n",
    "        postcode_is_in_df = check_postcode_is_in_df(postcode, self.df_postcodes)\n",
    "\n",
    "        if postcode_is_in_df:\n",
    "            longitude, latitude = get_postcode_location_df(self.df_postcodes, postcode)\n",
    "            \n",
    "        else:\n",
    "            longitude, latitude = get_postcode_location_api(postcode)\n",
    "            \n",
    "        if longitude is None or latitude is None:\n",
    "            warn(f'The longitude and latitude of {postcode} could not be determined')\n",
    "            \n",
    "        return longitude, latitude"
   ]
  },
  {
   "cell_type": "code",
   "execution_count": 17,
   "id": "signal-elizabeth",
   "metadata": {},
   "outputs": [
    {
     "name": "stdout",
     "output_type": "stream",
     "text": [
      "Wall time: 3.79 s\n"
     ]
    }
   ],
   "source": [
    "%%time\n",
    "\n",
    "pcl = PostCodeLocator()"
   ]
  },
  {
   "cell_type": "code",
   "execution_count": null,
   "id": "educated-unknown",
   "metadata": {},
   "outputs": [],
   "source": []
  },
  {
   "cell_type": "code",
   "execution_count": 18,
   "id": "liable-trial",
   "metadata": {},
   "outputs": [
    {
     "name": "stdout",
     "output_type": "stream",
     "text": [
      "Wall time: 857 ms\n"
     ]
    },
    {
     "data": {
      "text/plain": [
       "(-0.5676534391043929, 51.76118688537669)"
      ]
     },
     "execution_count": 18,
     "metadata": {},
     "output_type": "execute_result"
    }
   ],
   "source": [
    "%%time\n",
    "\n",
    "postcode = 'HP41FD'\n",
    "\n",
    "pcl.get_postcode_location(postcode)"
   ]
  },
  {
   "cell_type": "code",
   "execution_count": null,
   "id": "detected-violation",
   "metadata": {},
   "outputs": [],
   "source": []
  },
  {
   "cell_type": "code",
   "execution_count": 19,
   "id": "fuzzy-cooler",
   "metadata": {},
   "outputs": [
    {
     "name": "stdout",
     "output_type": "stream",
     "text": [
      "Wall time: 68 ms\n"
     ]
    },
    {
     "data": {
      "text/plain": [
       "(-0.155234, 51.519146)"
      ]
     },
     "execution_count": 19,
     "metadata": {},
     "output_type": "execute_result"
    }
   ],
   "source": [
    "%%time\n",
    "\n",
    "postcode = 'W1M1HE'\n",
    "\n",
    "pcl.get_postcode_location(postcode)"
   ]
  },
  {
   "cell_type": "markdown",
   "id": "internal-montreal",
   "metadata": {},
   "source": [
    "<br>\n",
    "\n",
    "### Creating Outages Leaflet Map"
   ]
  },
  {
   "cell_type": "code",
   "execution_count": 20,
   "id": "passing-escape",
   "metadata": {},
   "outputs": [],
   "source": [
    "def add_outage_longitudes_latitudes(df_outages, postcodes_fp: str='../data/postcodes.csv', null_threshold=1):\n",
    "    pcl = PostCodeLocator(postcodes_fp)\n",
    "        \n",
    "    s_incident_longitudes = pd.Series(index=df_outages.index, dtype='float64')\n",
    "    s_incident_latitudes = pd.Series(index=df_outages.index, dtype='float64')\n",
    "\n",
    "    for outage_idx, s_outage in track(df_outages.iterrows(), total=df_outages.shape[0]):\n",
    "        incident_longitudes = []\n",
    "        incident_latitudes = []\n",
    "\n",
    "        for postcode_impacted in s_outage['postcodes_impacted']:\n",
    "            longitude, latitude = pcl.get_postcode_location(postcode_impacted)\n",
    "\n",
    "            incident_longitudes += [longitude]\n",
    "            incident_latitudes += [latitude]\n",
    "\n",
    "        s_incident_longitudes.loc[outage_idx] = pd.Series(incident_longitudes).mean()\n",
    "        s_incident_latitudes.loc[outage_idx] = pd.Series(incident_latitudes).mean()\n",
    "        \n",
    "    df_outages = (df_outages\n",
    "                  .assign(longitude=s_incident_longitudes)\n",
    "                  .assign(latitude=s_incident_latitudes)\n",
    "                 )\n",
    "    \n",
    "    idxs_to_keep = (df_outages.isnull().sum(axis=1)<=null_threshold).replace(False, np.nan).dropna().index\n",
    "    df_outages = df_outages.loc[idxs_to_keep]\n",
    "    \n",
    "    return df_outages"
   ]
  },
  {
   "cell_type": "code",
   "execution_count": 21,
   "id": "needed-rendering",
   "metadata": {},
   "outputs": [
    {
     "data": {
      "text/html": [
       "<div><span class=\"Text-label\" style=\"display:inline-block; overflow:hidden; white-space:nowrap; text-overflow:ellipsis; min-width:0; max-width:15ex; vertical-align:middle; text-align:right\"></span>\n",
       "<progress style=\"width:60ex\" max=\"105\" value=\"105\" class=\"Progress-main\"/></progress>\n",
       "<span class=\"Progress-label\"><strong>100%</strong></span>\n",
       "<span class=\"Iteration-label\">105/105</span>\n",
       "<span class=\"Time-label\">[00:29<00:01, 0.27s/it]</span></div>"
      ],
      "text/plain": [
       "\u001b[A\u001b[2K\r",
       " [████████████████████████████████████████████████████████████] 105/105 [00:29<00:01, 0.27s/it]\u001b[B"
      ]
     },
     "metadata": {},
     "output_type": "display_data"
    },
    {
     "name": "stderr",
     "output_type": "stream",
     "text": [
      "C:\\Users\\Ayrto\\anaconda3\\envs\\outage\\lib\\site-packages\\ipykernel_launcher.py:20: UserWarning: The longitude and latitude of UMS could not be determined\n",
      "C:\\Users\\Ayrto\\anaconda3\\envs\\outage\\lib\\site-packages\\ipykernel_launcher.py:20: UserWarning: The longitude and latitude of TN12ORJ could not be determined\n",
      "C:\\Users\\Ayrto\\anaconda3\\envs\\outage\\lib\\site-packages\\ipykernel_launcher.py:20: UserWarning: The longitude and latitude of TN11 could not be determined\n",
      "C:\\Users\\Ayrto\\anaconda3\\envs\\outage\\lib\\site-packages\\ipykernel_launcher.py:20: UserWarning: The longitude and latitude of TN196EB could not be determined\n",
      "C:\\Users\\Ayrto\\anaconda3\\envs\\outage\\lib\\site-packages\\ipykernel_launcher.py:20: UserWarning: The longitude and latitude of SA67 8BP could not be determined\n",
      "C:\\Users\\Ayrto\\anaconda3\\envs\\outage\\lib\\site-packages\\ipykernel_launcher.py:20: UserWarning: The longitude and latitude of LL295RU could not be determined\n",
      "C:\\Users\\Ayrto\\anaconda3\\envs\\outage\\lib\\site-packages\\ipykernel_launcher.py:20: UserWarning: The longitude and latitude of CH427NH could not be determined\n",
      "C:\\Users\\Ayrto\\anaconda3\\envs\\outage\\lib\\site-packages\\ipykernel_launcher.py:20: UserWarning: The longitude and latitude of CH437TG could not be determined\n",
      "C:\\Users\\Ayrto\\anaconda3\\envs\\outage\\lib\\site-packages\\ipykernel_launcher.py:20: UserWarning: The longitude and latitude of CH437TW could not be determined\n"
     ]
    },
    {
     "data": {
      "text/html": [
       "<div>\n",
       "<style scoped>\n",
       "    .dataframe tbody tr th:only-of-type {\n",
       "        vertical-align: middle;\n",
       "    }\n",
       "\n",
       "    .dataframe tbody tr th {\n",
       "        vertical-align: top;\n",
       "    }\n",
       "\n",
       "    .dataframe thead th {\n",
       "        text-align: right;\n",
       "    }\n",
       "</style>\n",
       "<table border=\"1\" class=\"dataframe\">\n",
       "  <thead>\n",
       "    <tr style=\"text-align: right;\">\n",
       "      <th></th>\n",
       "      <th>incident_id</th>\n",
       "      <th>received_time</th>\n",
       "      <th>estimated_restored_time</th>\n",
       "      <th>postcodes_impacted</th>\n",
       "      <th>description</th>\n",
       "      <th>dno</th>\n",
       "      <th>incident_url</th>\n",
       "      <th>longitude</th>\n",
       "      <th>latitude</th>\n",
       "    </tr>\n",
       "  </thead>\n",
       "  <tbody>\n",
       "    <tr>\n",
       "      <th>0</th>\n",
       "      <td>INCD-54055-V</td>\n",
       "      <td>2021-04-08T09:30:00</td>\n",
       "      <td>None</td>\n",
       "      <td>[GU14SQ, GU14RY, GU14SG, GU14SJ, GU14SS, GU14YN]</td>\n",
       "      <td>A fault occurred on an underground electricity...</td>\n",
       "      <td>ukpn</td>\n",
       "      <td>https://www.ukpowernetworks.co.uk/power-cut/ma...</td>\n",
       "      <td>-0.577513</td>\n",
       "      <td>51.237269</td>\n",
       "    </tr>\n",
       "    <tr>\n",
       "      <th>1</th>\n",
       "      <td>INCD-247691-G</td>\n",
       "      <td>2021-04-04T02:05:00</td>\n",
       "      <td>None</td>\n",
       "      <td>[BN11YE, UMS, BN11UA, BN11YA, BN14AB, BN14AD, ...</td>\n",
       "      <td>We had to turn off power in your area so our e...</td>\n",
       "      <td>ukpn</td>\n",
       "      <td>https://www.ukpowernetworks.co.uk/power-cut/ma...</td>\n",
       "      <td>-0.137029</td>\n",
       "      <td>50.825975</td>\n",
       "    </tr>\n",
       "    <tr>\n",
       "      <th>2</th>\n",
       "      <td>INCD-230008-Z</td>\n",
       "      <td>2021-04-09T16:41:11</td>\n",
       "      <td>None</td>\n",
       "      <td>[RM107DS, RM107FT]</td>\n",
       "      <td>We had to turn off power in your area so our e...</td>\n",
       "      <td>ukpn</td>\n",
       "      <td>https://www.ukpowernetworks.co.uk/power-cut/ma...</td>\n",
       "      <td>0.150140</td>\n",
       "      <td>51.560663</td>\n",
       "    </tr>\n",
       "  </tbody>\n",
       "</table>\n",
       "</div>"
      ],
      "text/plain": [
       "     incident_id        received_time estimated_restored_time  \\\n",
       "0   INCD-54055-V  2021-04-08T09:30:00                    None   \n",
       "1  INCD-247691-G  2021-04-04T02:05:00                    None   \n",
       "2  INCD-230008-Z  2021-04-09T16:41:11                    None   \n",
       "\n",
       "                                  postcodes_impacted  \\\n",
       "0   [GU14SQ, GU14RY, GU14SG, GU14SJ, GU14SS, GU14YN]   \n",
       "1  [BN11YE, UMS, BN11UA, BN11YA, BN14AB, BN14AD, ...   \n",
       "2                                 [RM107DS, RM107FT]   \n",
       "\n",
       "                                         description   dno  \\\n",
       "0  A fault occurred on an underground electricity...  ukpn   \n",
       "1  We had to turn off power in your area so our e...  ukpn   \n",
       "2  We had to turn off power in your area so our e...  ukpn   \n",
       "\n",
       "                                        incident_url  longitude   latitude  \n",
       "0  https://www.ukpowernetworks.co.uk/power-cut/ma...  -0.577513  51.237269  \n",
       "1  https://www.ukpowernetworks.co.uk/power-cut/ma...  -0.137029  50.825975  \n",
       "2  https://www.ukpowernetworks.co.uk/power-cut/ma...   0.150140  51.560663  "
      ]
     },
     "execution_count": 21,
     "metadata": {},
     "output_type": "execute_result"
    }
   ],
   "source": [
    "df_outages = add_outage_longitudes_latitudes(df_outages)\n",
    "\n",
    "df_outages.head(3)"
   ]
  },
  {
   "cell_type": "code",
   "execution_count": null,
   "id": "suited-morrison",
   "metadata": {},
   "outputs": [],
   "source": []
  },
  {
   "cell_type": "code",
   "execution_count": 22,
   "id": "overhead-breakdown",
   "metadata": {},
   "outputs": [
    {
     "data": {
      "text/plain": [
       "<AxesSubplot:>"
      ]
     },
     "execution_count": 22,
     "metadata": {},
     "output_type": "execute_result"
    },
    {
     "data": {
      "image/png": "[encoded data removed]",
      "text/plain": [
       "<Figure size 432x288 with 1 Axes>"
      ]
     },
     "metadata": {
      "needs_background": "light"
     },
     "output_type": "display_data"
    }
   ],
   "source": [
    "gdf_outages = gpd.GeoDataFrame(\n",
    "    data=df_outages.drop(columns=['longitude', 'latitude']), \n",
    "    geometry=gpd.points_from_xy(df_outages['longitude'], df_outages['latitude']),\n",
    "    crs='EPSG:4326'\n",
    ")\n",
    "\n",
    "gdf_outages.plot()"
   ]
  },
  {
   "cell_type": "code",
   "execution_count": null,
   "id": "nominated-conspiracy",
   "metadata": {},
   "outputs": [],
   "source": []
  },
  {
   "cell_type": "code",
   "execution_count": 23,
   "id": "driving-warren",
   "metadata": {},
   "outputs": [
    {
     "data": {
      "application/json": {
       "features": [
        {
         "geometry": {
          "coordinates": [
           -0.5775125586781588,
           51.23726884118093
          ],
          "type": "Point"
         },
         "properties": {
          "description": "A fault occurred on an underground electricity cable affecting the local area.",
          "dno": "ukpn",
          "estimated_restored_time": null,
          "incident_id": "INCD-54055-V",
          "incident_url": "https://www.ukpowernetworks.co.uk/power-cut/map?incidentid=INCD-54055-V",
          "postcodes_impacted": [
           "GU14SQ",
           "GU14RY",
           "GU14SG",
           "GU14SJ",
           "GU14SS",
           "GU14YN"
          ],
          "received_time": "2021-04-08T09:30:00"
         },
         "type": "Feature"
        },
        {
         "geometry": {
          "coordinates": [
           -0.13702898035919064,
           50.82597526373231
          ],
          "type": "Point"
         },
         "properties": {
          "description": "We had to turn off power in your area so our engineers could safely carry out emergency repairs to the network.",
          "dno": "ukpn",
          "estimated_restored_time": null,
          "incident_id": "INCD-247691-G",
          "incident_url": "https://www.ukpowernetworks.co.uk/power-cut/map?incidentid=INCD-247691-G",
          "postcodes_impacted": [
           "BN11YE",
           "UMS",
           "BN11UA",
           "BN11YA",
           "BN14AB",
           "BN14AD",
           "BN14AE",
           "BN14AF",
           "BN14AG"
          ],
          "received_time": "2021-04-04T02:05:00"
         },
         "type": "Feature"
        },
        {
         "geometry": {
          "coordinates": [
           0.1501399336721552,
           51.56066339068509
          ],
          "type": "Point"
         },
         "properties": {
          "description": "We had to turn off power in your area so our engineers could safely carry out emergency repairs to the network.",
          "dno": "ukpn",
          "estimated_restored_time": null,
          "incident_id": "INCD-230008-Z",
          "incident_url": "https://www.ukpowernetworks.co.uk/power-cut/map?incidentid=INCD-230008-Z",
          "postcodes_impacted": [
           "RM107DS",
           "RM107FT"
          ],
          "received_time": "2021-04-09T16:41:11"
         },
         "type": "Feature"
        },
        {
         "geometry": {
          "coordinates": [
           0.5449342573272761,
           51.18259890241906
          ],
          "type": "Point"
         },
         "properties": {
          "description": "We had to turn off power in your area so our engineers could safely carry out emergency repairs to the network.",
          "dno": "ukpn",
          "estimated_restored_time": "2021-04-09T21:00:00",
          "incident_id": "INCD-247926-G",
          "incident_url": "https://www.ukpowernetworks.co.uk/power-cut/map?incidentid=INCD-247926-G",
          "postcodes_impacted": [
           "RH194QW",
           "TN120JS",
           "TN120JT",
           "TN120JW",
           "TN120RA",
           "TN120RB",
           "TN120RG",
           "TN120RH",
           "TN120RJ",
           "TN120RL",
           "TN120RU",
           "TN120RW",
           "TN129BU",
           "TN12ORJ",
           "KT168HT",
           "ME173DZ",
           "ME173EB",
           "TN11",
           "TN120DU",
           "TN120DX",
           "TN120DY",
           "TN120DZ",
           "TN120EA",
           "TN120EB",
           "TN120ED",
           "TN120EG",
           "TN120RD",
           "TN120RE",
           "TN120RR",
           "TN120RS",
           "TN120RT",
           "TN128JN",
           "TN261AN",
           "TN279JT",
           "TN279JU",
           "TN279NX",
           "TN279NY",
           "TN279PA",
           "TN279PB",
           "TN279PD",
           "TN279PE",
           "TN279PG",
           "TN279PJ",
           "TN279PL",
           "TN279PN",
           "TN279PP",
           "TN279PR",
           "TN279PS",
           "TN279PT",
           "TN279RL",
           "TN279RN",
           "TN279RP",
           "TN279RR",
           "TN279RS",
           "TN279RT",
           "TN91NL",
           "TN91TB"
          ],
          "received_time": "2021-04-09T13:15:53"
         },
         "type": "Feature"
        },
        {
         "geometry": {
          "coordinates": [
           0.0891248562823091,
           51.08024221963581
          ],
          "type": "Point"
         },
         "properties": {
          "description": "A fault occurred on a piece of our electrical equipment which controls the power to your home.",
          "dno": "ukpn",
          "estimated_restored_time": "2021-04-09T22:00:00",
          "incident_id": "INCD-54175-V",
          "incident_url": "https://www.ukpowernetworks.co.uk/power-cut/map?incidentid=INCD-54175-V",
          "postcodes_impacted": [
           "TN74ET"
          ],
          "received_time": "2021-04-09T16:08:00"
         },
         "type": "Feature"
        },
        {
         "geometry": {
          "coordinates": [
           1.304720085912655,
           51.132102691341814
          ],
          "type": "Point"
         },
         "properties": {
          "description": "We were investigating an electricity cable that was damaged, causing a power cut in the local area.",
          "dno": "ukpn",
          "estimated_restored_time": "2021-04-09T20:00:00",
          "incident_id": "INCD-54166-V",
          "incident_url": "https://www.ukpowernetworks.co.uk/power-cut/map?incidentid=INCD-54166-V",
          "postcodes_impacted": [
           "CT162LF",
           "CT162LG",
           "CT162LH",
           "CT162LL",
           "CT162LQ",
           "CT162QX",
           "CT162ZZ",
           "CT170ST"
          ],
          "received_time": "2021-04-09T12:53:00"
         },
         "type": "Feature"
        },
        {
         "geometry": {
          "coordinates": [
           -0.02512465503988718,
           51.6181780742294
          ],
          "type": "Point"
         },
         "properties": {
          "description": "We had to turn off power in your area so our engineers could safely carry out emergency repairs to the network.",
          "dno": "ukpn",
          "estimated_restored_time": "2021-04-09T19:00:00",
          "incident_id": "INCD-229998-Z",
          "incident_url": "https://www.ukpowernetworks.co.uk/power-cut/map?incidentid=INCD-229998-Z",
          "postcodes_impacted": [
           "E48EJ",
           "E48EF",
           "E48EG",
           "E48EH",
           "E48EY"
          ],
          "received_time": "2021-04-09T16:00:00"
         },
         "type": "Feature"
        },
        {
         "geometry": {
          "coordinates": [
           0.03032953766864644,
           51.75459136530754
          ],
          "type": "Point"
         },
         "properties": {
          "description": "Due to a faulty piece of underground network equipment we had to turn off your power.",
          "dno": "ukpn",
          "estimated_restored_time": "2021-04-09T20:00:00",
          "incident_id": "INCD-229829-Z",
          "incident_url": "https://www.ukpowernetworks.co.uk/power-cut/map?incidentid=INCD-229829-Z",
          "postcodes_impacted": [
           "CM195JN",
           "CM195JP",
           "CM195JW",
           "CM195JR",
           "CM195JU",
           "CM195JY",
           "CM195JZ"
          ],
          "received_time": "2021-04-09T02:37:00"
         },
         "type": "Feature"
        },
        {
         "geometry": {
          "coordinates": [
           -0.12665482075102813,
           51.466429343509
          ],
          "type": "Point"
         },
         "properties": {
          "description": "A fault occurred on an underground electricity cable affecting the local area.",
          "dno": "ukpn",
          "estimated_restored_time": "2021-04-09T21:30:00",
          "incident_id": "INCD-59811-N",
          "incident_url": "https://www.ukpowernetworks.co.uk/power-cut/map?incidentid=INCD-59811-N",
          "postcodes_impacted": [
           "SW99RT",
           "SW99BT",
           "SW99JZ",
           "SW99LA",
           "SW99LB",
           "SW99LE",
           "SW99LF",
           "SW99LG",
           "SW99LH",
           "SW99LJ",
           "SW99LL",
           "SW99LN",
           "SW99LW",
           "SW99NN",
           "SW99RX"
          ],
          "received_time": "2021-04-09T14:24:00"
         },
         "type": "Feature"
        },
        {
         "geometry": {
          "coordinates": [
           0.18525517363680288,
           51.11202374207567
          ],
          "type": "Point"
         },
         "properties": {
          "description": "A fault occurred on a piece of our electrical equipment which controls the power to your home.",
          "dno": "ukpn",
          "estimated_restored_time": "2021-04-09T20:30:00",
          "incident_id": "INCD-54174-V",
          "incident_url": "https://www.ukpowernetworks.co.uk/power-cut/map?incidentid=INCD-54174-V",
          "postcodes_impacted": [
           "TN39PH",
           "TN39QY",
           "TN39QZ",
           "TN39RA",
           "TN39RB",
           "TN39RE",
           "TN39RG",
           "TN39RH",
           "TN39RJ",
           "TN39RL",
           "TN39RN",
           "TN39RP",
           "TN39RQ",
           "TN39RR",
           "TN39RW",
           "TN39SQ"
          ],
          "received_time": "2021-04-09T16:07:28"
         },
         "type": "Feature"
        },
        {
         "geometry": {
          "coordinates": [
           -0.13734848769544344,
           50.881385468885135
          ],
          "type": "Point"
         },
         "properties": {
          "description": "We were investigating an overhead electricity line fault which caused a power cut in the local area.",
          "dno": "ukpn",
          "estimated_restored_time": "2021-04-09T20:30:00",
          "incident_id": "INCD-317032-U",
          "incident_url": "https://www.ukpowernetworks.co.uk/power-cut/map?incidentid=INCD-317032-U",
          "postcodes_impacted": [
           "BN18ZA",
           "BN18ZB"
          ],
          "received_time": "2021-04-09T12:26:43"
         },
         "type": "Feature"
        },
        {
         "geometry": {
          "coordinates": [
           0.4248071107190544,
           51.72857961642411
          ],
          "type": "Point"
         },
         "properties": {
          "description": "We were investigating a high voltage overhead electricity line fault which caused a power cut in the local area.",
          "dno": "ukpn",
          "estimated_restored_time": "2021-04-09T18:30:00",
          "incident_id": "INCD-230007-Z",
          "incident_url": "https://www.ukpowernetworks.co.uk/power-cut/map?incidentid=INCD-230007-Z",
          "postcodes_impacted": [
           "CM13DT",
           "CM13DU",
           "CM13DX",
           "CM13DY",
           "CM13DZ",
           "CM13EA",
           "CM13EB",
           "CM13ED",
           "CM13EE",
           "CM13EF",
           "CM13EG",
           "CM13EH",
           "CM13EJ",
           "CM13EL",
           "CM13EN",
           "CM13EP",
           "CM13EQ",
           "CM13ES",
           "CM13ET",
           "CM13EU",
           "CM13EW",
           "CM13EX",
           "CM13EY",
           "CM13EZ",
           "CM13FD",
           "CM13FL",
           "CM13GA",
           "CM13GD",
           "CM13GJ",
           "CM13GU",
           "CM13HB",
           "CM13HD",
           "CM13HE",
           "CM13HF",
           "CM13HG",
           "CM13HH",
           "CM13HJ",
           "CM13HL",
           "CM13HN",
           "CM13HP",
           "CM13HQ",
           "CM13HR",
           "CM13HS",
           "CM13HT",
           "CM13HW",
           "CM13HY",
           "CM13HZ",
           "CM13JA",
           "CM13JB",
           "CM13JD",
           "CM13JE",
           "CM13JF",
           "CM13JG",
           "CM13JH",
           "CM13JJ",
           "CM13JL",
           "CM13JN",
           "CM13JP",
           "CM13JQ",
           "CM13JR",
           "CM13JS",
           "CM13JT",
           "CM13JU",
           "CM13JW",
           "CM13JX",
           "CM13JY",
           "CM13JZ",
           "CM13LE",
           "CM13LF",
           "CM13LG",
           "CM13LH",
           "CM13LJ",
           "CM13LL",
           "CM13LN",
           "CM13LP",
           "CM13LQ",
           "CM13LR",
           "CM13LS",
           "CM13LT",
           "CM13LW",
           "CM13LY",
           "CM13NA",
           "CM13NB",
           "CM13ND",
           "CM13NE",
           "CM13NF",
           "CM13NG",
           "CM13NH",
           "CM13NQ",
           "CM13NU",
           "CM13NX",
           "CM13PA",
           "CM13PB",
           "CM13PD",
           "CM13PE",
           "CM13PF",
           "CM13PJ",
           "CM13RL",
           "CM13SW",
           "CM13US",
           "CM13YA",
           "CM29PD"
          ],
          "received_time": "2021-04-09T16:33:32"
         },
         "type": "Feature"
        },
        {
         "geometry": {
          "coordinates": [
           -0.28775728961814795,
           52.12857931137893
          ],
          "type": "Point"
         },
         "properties": {
          "description": "A fault occurred on an underground electricity cable affecting the local area.",
          "dno": "ukpn",
          "estimated_restored_time": "2021-04-09T21:30:00",
          "incident_id": "INCD-229946-Z",
          "incident_url": "https://www.ukpowernetworks.co.uk/power-cut/map?incidentid=INCD-229946-Z",
          "postcodes_impacted": [
           "SG191AG",
           "SG191AH",
           "SG191AQ",
           "SG191HU",
           "SG191HX",
           "SG191JB",
           "SG191JN",
           "SG191JP"
          ],
          "received_time": "2021-04-09T13:10:41"
         },
         "type": "Feature"
        },
        {
         "geometry": {
          "coordinates": [
           1.137813936445863,
           51.0855797894498
          ],
          "type": "Point"
         },
         "properties": {
          "description": "A fault occurred on a piece of our electrical equipment which controls the power to your home.",
          "dno": "ukpn",
          "estimated_restored_time": "2021-04-09T20:30:00",
          "incident_id": "INCD-247923-G",
          "incident_url": "https://www.ukpowernetworks.co.uk/power-cut/map?incidentid=INCD-247923-G",
          "postcodes_impacted": [
           "CT203EG",
           "CT203EH",
           "CT203EJ",
           "CT203EL",
           "CT203EQ",
           "CT203JR",
           "CT203JS",
           "CT203JT",
           "CT203JU",
           "CT203JX",
           "CT203JY",
           "CT203JZ",
           "CT203LA",
           "CT203LG",
           "CT203LH",
           "CT203LJ",
           "CT203LL",
           "CT203LQ"
          ],
          "received_time": "2021-04-09T12:44:00"
         },
         "type": "Feature"
        },
        {
         "geometry": {
          "coordinates": [
           0.427666947309965,
           50.99966677600114
          ],
          "type": "Point"
         },
         "properties": {
          "description": "Our contractors Avidety Ltd are replacing and upgrading electricity poles due to them coming to the end of their serviceable lives. This will improve the reliability of the electricity network and will reduce the risk of you having an unplanned power cut which is why it is important to complete this work during the Coronavirus pandemic. You may see our contractors completing preparation works prior to the outage to allow for a shorter interruption on the day of the planned power cut. This work is taking place in and around Fontridge Lane. The government has given exemptions to certain industries and activities, this outage falls into this category.",
          "dno": "ukpn",
          "estimated_restored_time": "2021-04-09T17:30:00",
          "incident_id": "INCD-52429-V",
          "incident_url": "https://www.ukpowernetworks.co.uk/power-cut/map?incidentid=INCD-52429-V",
          "postcodes_impacted": [
           "TN197AE",
           "TN197DD"
          ],
          "received_time": "2021-04-06T08:00:00"
         },
         "type": "Feature"
        },
        {
         "geometry": {
          "coordinates": [
           -0.5075386810225051,
           51.15639201752051
          ],
          "type": "Point"
         },
         "properties": {
          "description": "Our contractors Avidety Ltd are replacing and upgrading an electricity pole due to it decaying. They will also be replacing and upgrading some overhead electricity cables with improved insulated cables. This will improve the reliability of our electricity network and reduce the risk of you having an unplanned power cut. This is why it is important to complete this work during the Coronavirus pandemic. You may see our contractors erecting the new electricity pole prior to the outage to allow for a shorter interruption. This work is taking place along Rowly Drive. The government has given exemptions to certain industries and activities, this outage falls into this category. We are sorry for any inconvenience caused by this work.",
          "dno": "ukpn",
          "estimated_restored_time": "2021-04-09T15:30:00",
          "incident_id": "INCD-52097-V",
          "incident_url": "https://www.ukpowernetworks.co.uk/power-cut/map?incidentid=INCD-52097-V",
          "postcodes_impacted": [
           "GU68PJ",
           "GU68PN"
          ],
          "received_time": "2021-04-09T09:50:00"
         },
         "type": "Feature"
        },
        {
         "geometry": {
          "coordinates": [
           0.5287720689969375,
           52.00230756304841
          ],
          "type": "Point"
         },
         "properties": {
          "description": "We're carrying out planned work in your area. For our engineers to carry it out safely they need to turn the power off. We're doing this work as it's essential to provide reliable electricity supplies to your area. We're sorry for any inconvenience caused and thank you for your patience.",
          "dno": "ukpn",
          "estimated_restored_time": "2021-04-09T14:00:00",
          "incident_id": "INCD-6198-O",
          "incident_url": "https://www.ukpowernetworks.co.uk/power-cut/map?incidentid=INCD-6198-O",
          "postcodes_impacted": [
           "CO94EA"
          ],
          "received_time": "2021-04-09T09:14:00"
         },
         "type": "Feature"
        },
        {
         "geometry": {
          "coordinates": [
           1.1081732952744738,
           52.3641085085373
          ],
          "type": "Point"
         },
         "properties": {
          "description": "We're carrying out planned work in your area. For our engineers to carry it out safely they need to turn the power off. We're doing this work as it's essential to provide reliable electricity supplies to your area. We're sorry for any inconvenience caused and thank you for your patience.",
          "dno": "ukpn",
          "estimated_restored_time": "2021-04-09T13:00:00",
          "incident_id": "INCD-227035-Z",
          "incident_url": "https://www.ukpowernetworks.co.uk/power-cut/map?incidentid=INCD-227035-Z",
          "postcodes_impacted": [
           "IP221AG",
           "IP221AH",
           "IP221AN",
           "IP221AP",
           "IP221AQ",
           "IP221AS",
           "IP221AU",
           "IP221AW",
           "IP221TD",
           "IP221TH",
           "IP221TQ",
           "IP224AW"
          ],
          "received_time": "2021-04-09T10:41:00"
         },
         "type": "Feature"
        },
        {
         "geometry": {
          "coordinates": [
           1.1043715885481886,
           52.36384128782851
          ],
          "type": "Point"
         },
         "properties": {
          "description": "We're carrying out planned work in your area. For our engineers to carry it out safely they need to turn the power off. We're doing this work as it's essential to provide reliable electricity supplies to your area. We're sorry for any inconvenience caused and thank you for your patience.",
          "dno": "ukpn",
          "estimated_restored_time": "2021-04-09T15:00:00",
          "incident_id": "INCD-227013-Z",
          "incident_url": "https://www.ukpowernetworks.co.uk/power-cut/map?incidentid=INCD-227013-Z",
          "postcodes_impacted": [
           "IP221AG",
           "IP221AL",
           "IP221AX"
          ],
          "received_time": "2021-04-09T09:06:00"
         },
         "type": "Feature"
        },
        {
         "geometry": {
          "coordinates": [
           -0.33820825267824345,
           52.27597110891198
          ],
          "type": "Point"
         },
         "properties": {
          "description": "We're carrying out planned work in your area. For our engineers to carry it out safely they need to turn the power off. We're doing this work as it's essential to provide reliable electricity supplies to your area. We're sorry for any inconvenience caused and thank you for your patience.",
          "dno": "ukpn",
          "estimated_restored_time": "2021-04-09T15:00:00",
          "incident_id": "INCD-227259-Z",
          "incident_url": "https://www.ukpowernetworks.co.uk/power-cut/map?incidentid=INCD-227259-Z",
          "postcodes_impacted": [
           "PE194DH",
           "PE195DH",
           "PE195DQ"
          ],
          "received_time": "2021-04-09T10:44:00"
         },
         "type": "Feature"
        },
        {
         "geometry": {
          "coordinates": [
           0.1735433280473478,
           51.42745611386678
          ],
          "type": "Point"
         },
         "properties": {
          "description": "Our contractors Avidety Ltd are replacing and upgrading electricity poles due to them decaying. Along with replacing and upgrading some overhead electricity cables with improved insulated cables. This will improve the reliability of the electricity network and will reduce the risk of you having an unplanned power cut which is why it is important to complete this work during the Coronavirus pandemic. You may see our contractors completing preparation works prior to the outage to allow for a shorter interruption on the day of the planned power cut. This work is taking place outside numbers 48 to 76 Joydens Wood Road. The government has given exemptions to certain industries and activities, this outage falls into this category.",
          "dno": "ukpn",
          "estimated_restored_time": "2021-04-09T15:30:00",
          "incident_id": "INCD-52338-V",
          "incident_url": "https://www.ukpowernetworks.co.uk/power-cut/map?incidentid=INCD-52338-V",
          "postcodes_impacted": [
           "DA52HT",
           "DA52JA"
          ],
          "received_time": "2021-04-09T09:30:00"
         },
         "type": "Feature"
        },
        {
         "geometry": {
          "coordinates": [
           0.4534829901366792,
           51.19412807740878
          ],
          "type": "Point"
         },
         "properties": {
          "description": "We have identified that there are trees close to our high voltage overhead electricity cables that need trimming. To enable us to work close to the high voltage overhead electricity cables and cut the trees safely our engineers will need to temporarily switch off your power. This work needs to take place for safety reasons, along with reducing the risk of you having an unplanned power cut by stopping these trees from potentially causing damaged to the overhead electricity network. This is why it is important to complete this work during the Coronavirus pandemic. This work is taking place off Collier Street. The government has given exemptions to certain industries and activities, this outage falls into this category. We are adhering to government guidelines to keep our customers and colleagues safe. We are sorry for any inconvenience caused by this work and thank you for your patience.",
          "dno": "ukpn",
          "estimated_restored_time": "2021-04-09T15:30:00",
          "incident_id": "INCD-51529-V",
          "incident_url": "https://www.ukpowernetworks.co.uk/power-cut/map?incidentid=INCD-51529-V",
          "postcodes_impacted": [
           "TN129QA",
           "TN129RG",
           "TN129RJ",
           "TN129RL",
           "TN129RN",
           "TN129RP",
           "TN129RR"
          ],
          "received_time": "2021-04-09T09:40:00"
         },
         "type": "Feature"
        },
        {
         "geometry": {
          "coordinates": [
           0.1717105831884139,
           51.82967698609019
          ],
          "type": "Point"
         },
         "properties": {
          "description": "We're carrying out planned work in your area. For our engineers to carry it out safely they need to turn the power off. We're doing this work as it's essential to provide reliable electricity supplies to your area. We're sorry for any inconvenience caused and thank you for your patience.",
          "dno": "ukpn",
          "estimated_restored_time": "2021-04-09T14:30:00",
          "incident_id": "INCD-227918-Z",
          "incident_url": "https://www.ukpowernetworks.co.uk/power-cut/map?incidentid=INCD-227918-Z",
          "postcodes_impacted": [
           "CM227QS",
           "CM227QT",
           "CM227QU"
          ],
          "received_time": "2021-04-09T10:30:00"
         },
         "type": "Feature"
        },
        {
         "geometry": {
          "coordinates": [
           0.2562645401168818,
           52.602955292728794
          ],
          "type": "Point"
         },
         "properties": {
          "description": "We're carrying out planned work in your area. For our engineers to carry it out safely they need to turn the power off. We're doing this work as it's essential to provide reliable electricity supplies to your area. We're sorry for any inconvenience caused and thank you for your patience.",
          "dno": "ukpn",
          "estimated_restored_time": "2021-04-09T15:00:00",
          "incident_id": "INCD-221608-Z",
          "incident_url": "https://www.ukpowernetworks.co.uk/power-cut/map?incidentid=INCD-221608-Z",
          "postcodes_impacted": [
           "PE148QA",
           "PE148QD",
           "PE148RY",
           "PE148RZ",
           "PE148SA"
          ],
          "received_time": "2021-04-09T09:18:00"
         },
         "type": "Feature"
        },
        {
         "geometry": {
          "coordinates": [
           0.4809798671520068,
           52.039798670666094
          ],
          "type": "Point"
         },
         "properties": {
          "description": "We're carrying out planned work in your area. For our engineers to carry it out safely they need to turn the power off. We're doing this work as it's essential to provide reliable electricity supplies to your area. We're sorry for any inconvenience caused and thank you for your patience.",
          "dno": "ukpn",
          "estimated_restored_time": "2021-04-09T15:00:00",
          "incident_id": "INCD-42719-C",
          "incident_url": "https://www.ukpowernetworks.co.uk/power-cut/map?incidentid=INCD-42719-C",
          "postcodes_impacted": [
           "CO94BP",
           "CO94BX"
          ],
          "received_time": "2021-04-09T09:27:00"
         },
         "type": "Feature"
        },
        {
         "geometry": {
          "coordinates": [
           0.5554311991614564,
           51.41330859931416
          ],
          "type": "Point"
         },
         "properties": {
          "description": "We're carrying out planned work in your area. For our engineers to carry it out safely they need to turn the power off. We're doing this work as it's essential to provide reliable electricity supplies to your area. We're sorry for any inconvenience caused and thank you for your patience.",
          "dno": "ukpn",
          "estimated_restored_time": "2021-04-09T15:00:00",
          "incident_id": "INCD-51220-V",
          "incident_url": "https://www.ukpowernetworks.co.uk/power-cut/map?incidentid=INCD-51220-V",
          "postcodes_impacted": [
           "ME38PT",
           "ME39BH",
           "ME39BJ",
           "ME39BQ",
           "ME39LR",
           "ME39LS",
           "ME39LT",
           "ME65FN"
          ],
          "received_time": "2021-04-09T08:08:00"
         },
         "type": "Feature"
        },
        {
         "geometry": {
          "coordinates": [
           0.20505470109204724,
           51.70958067557451
          ],
          "type": "Point"
         },
         "properties": {
          "description": "We're carrying out planned work in your area. For our engineers to carry it out safely they need to turn the power off. We're doing this work as it's essential to provide reliable electricity supplies to your area. We're sorry for any inconvenience caused and thank you for your patience.",
          "dno": "ukpn",
          "estimated_restored_time": "2021-04-09T09:00:00",
          "incident_id": "INCD-229210-Z",
          "incident_url": "https://www.ukpowernetworks.co.uk/power-cut/map?incidentid=INCD-229210-Z",
          "postcodes_impacted": [
           "CM59FN",
           "CM59LF",
           "CM59LG",
           "CM59LP",
           "CM59LQ",
           "CM59LW"
          ],
          "received_time": "2021-04-09T08:00:00"
         },
         "type": "Feature"
        },
        {
         "geometry": {
          "coordinates": [
           1.0488719353450682,
           51.247505916980685
          ],
          "type": "Point"
         },
         "properties": {
          "description": "Our contractors Avidety Ltd are replacing and upgrading some overhead electricity cables with improved insulated cables. This will improve the reliability of our electricity network and reduce the risk of you having an unplanned power cut. This is why it is important to complete this work during the Coronavirus pandemic. You may see our contractors completing preparation works prior to the outage to allow for a shorter interruption on the day. Due to safety reasons our contractors need to complete a safety check with your internal equipment checking a plug and a socket on separate circuits to enable the power to be turned on and off. As the checks are manual we aim to turn the power off at 09:30 and back on at 15:30, however please allow extra time for the checks to be completed. Access will only be required before and after the planned power cut. Please ensure access to the meter is clear.This work is taking place outside numbers 1 to 4 Upper Horton Farm Cottages, New House Lane.",
          "dno": "ukpn",
          "estimated_restored_time": "2021-04-09T15:30:00",
          "incident_id": "INCD-52085-V",
          "incident_url": "https://www.ukpowernetworks.co.uk/power-cut/map?incidentid=INCD-52085-V",
          "postcodes_impacted": [
           "CT47BN"
          ],
          "received_time": "2021-04-09T09:40:00"
         },
         "type": "Feature"
        },
        {
         "geometry": {
          "coordinates": [
           1.2484518032047203,
           52.47550798294085
          ],
          "type": "Point"
         },
         "properties": {
          "description": "We're carrying out planned work in your area. For our engineers to carry it out safely they need to turn the power off. We're doing this work as it's essential to provide reliable electricity supplies to your area. We're sorry for any inconvenience caused and thank you for your patience.",
          "dno": "ukpn",
          "estimated_restored_time": "2021-04-09T13:30:00",
          "incident_id": "INCD-6434-O",
          "incident_url": "https://www.ukpowernetworks.co.uk/power-cut/map?incidentid=INCD-6434-O",
          "postcodes_impacted": [
           "NR152AN",
           "NR152RR"
          ],
          "received_time": "2021-04-09T09:31:00"
         },
         "type": "Feature"
        },
        {
         "geometry": {
          "coordinates": [
           0.9540082868337114,
           52.105907470929594
          ],
          "type": "Point"
         },
         "properties": {
          "description": "We're carrying out planned work in your area. For our engineers to carry it out safely they need to turn the power off. We're doing this work as it's essential to provide reliable electricity supplies to your area. We're sorry for any inconvenience caused and thank you for your patience.",
          "dno": "ukpn",
          "estimated_restored_time": "2021-04-09T15:00:00",
          "incident_id": "INCD-227251-Z",
          "incident_url": "https://www.ukpowernetworks.co.uk/power-cut/map?incidentid=INCD-227251-Z",
          "postcodes_impacted": [
           "IP77AR",
           "IP77BP",
           "IP77BS",
           "IP77BW"
          ],
          "received_time": "2021-04-09T09:04:00"
         },
         "type": "Feature"
        },
        {
         "geometry": {
          "coordinates": [
           1.30098298848762,
           52.75161748394528
          ],
          "type": "Point"
         },
         "properties": {
          "description": "We're carrying out planned work in your area. For our engineers to carry it out safely they need to turn the power off. We're doing this work as it's essential to provide reliable electricity supplies to your area. We're sorry for any inconvenience caused and thank you for your patience.",
          "dno": "ukpn",
          "estimated_restored_time": "2021-04-09T15:00:00",
          "incident_id": "INCD-223545-Z",
          "incident_url": "https://www.ukpowernetworks.co.uk/power-cut/map?incidentid=INCD-223545-Z",
          "postcodes_impacted": [
           "NR105AB",
           "NR105EH",
           "NR105HF",
           "NR105HG"
          ],
          "received_time": "2021-04-09T08:38:00"
         },
         "type": "Feature"
        },
        {
         "geometry": {
          "coordinates": [
           1.1037007003398895,
           52.36614626440513
          ],
          "type": "Point"
         },
         "properties": {
          "description": "We're carrying out planned work in your area. For our engineers to carry it out safely they need to turn the power off. We're doing this work as it's essential to provide reliable electricity supplies to your area. We're sorry for any inconvenience caused and thank you for your patience.",
          "dno": "ukpn",
          "estimated_restored_time": "2021-04-09T15:00:00",
          "incident_id": "INCD-227033-Z",
          "incident_url": "https://www.ukpowernetworks.co.uk/power-cut/map?incidentid=INCD-227033-Z",
          "postcodes_impacted": [
           "IP221AB",
           "IP221AD",
           "IP221AG"
          ],
          "received_time": "2021-04-09T09:25:00"
         },
         "type": "Feature"
        },
        {
         "geometry": {
          "coordinates": [
           0.23510861859300672,
           51.124304233936705
          ],
          "type": "Point"
         },
         "properties": {
          "description": "The reason for this work is we are replacing an overhead transformer with a new piece of equipment, called a substation on the electricity network. This equipment controls and delivers the electricity into your area. These are essential works that will improve the reliability of the electricity network, ensure our network can uphold the amount of electricity in your area and will also reduce the risk of you having an unplanned power cut which is why it is important to complete this work during the Coronavirus pandemic. This work is taking place in the vicinity of Adamswell Scout Camp. The government has given exemptions to certain industries and activities, this outage falls into this category.",
          "dno": "ukpn",
          "estimated_restored_time": "2021-04-09T17:45:00",
          "incident_id": "INCD-53079-V",
          "incident_url": "https://www.ukpowernetworks.co.uk/power-cut/map?incidentid=INCD-53079-V",
          "postcodes_impacted": [
           "TN39JH",
           "TN39JJ",
           "TN39JL",
           "TN39LU",
           "TN48NA",
           "TN48ND",
           "TN48NE",
           "TN48NG",
           "TN48NH"
          ],
          "received_time": "2021-04-09T08:00:00"
         },
         "type": "Feature"
        },
        {
         "geometry": {
          "coordinates": [
           0.0448610396204959,
           51.6926861368934
          ],
          "type": "Point"
         },
         "properties": {
          "description": "We're carrying out planned work in your area. For our engineers to carry it out safely they need to turn the power off. We're doing this work as it's essential to provide reliable electricity supplies to your area. We're sorry for any inconvenience caused and thank you for your patience.",
          "dno": "ukpn",
          "estimated_restored_time": "2021-04-09T06:45:00",
          "incident_id": "INCD-229185-Z",
          "incident_url": "https://www.ukpowernetworks.co.uk/power-cut/map?incidentid=INCD-229185-Z",
          "postcodes_impacted": [
           "EN93SL"
          ],
          "received_time": "2021-04-09T06:30:00"
         },
         "type": "Feature"
        },
        {
         "geometry": {
          "coordinates": [
           0.4123918761330808,
           50.99710029888838
          ],
          "type": "Point"
         },
         "properties": {
          "description": "Our contractors Avidety Ltd are replacing and upgrading electricity poles due to them coming to the end of their serviceable lives. This will improve the reliability of the electricity network and will reduce the risk of you having an unplanned power cut which is why it is important to complete this work during the Coronavirus pandemic. You may see our contractors completing preparation works prior to the outage to allow for a shorter interruption on the day of the planned power cut. This work is taking place in and around Fontridge Lane. The government has given exemptions to certain industries and activities, this outage falls into this category.",
          "dno": "ukpn",
          "estimated_restored_time": "2021-04-09T18:00:00",
          "incident_id": "INCD-52888-V",
          "incident_url": "https://www.ukpowernetworks.co.uk/power-cut/map?incidentid=INCD-52888-V",
          "postcodes_impacted": [
           "TN196EB",
           "TN197AE",
           "TN197AF",
           "TN197BA",
           "TN197BD",
           "TN197BE",
           "TN197BG",
           "TN197DD",
           "TN197DE",
           "TN197DG",
           "TN197DH"
          ],
          "received_time": "2021-04-09T08:00:00"
         },
         "type": "Feature"
        },
        {
         "geometry": {
          "coordinates": [
           -0.8623652307692308,
           51.422013846153845
          ],
          "type": "Point"
         },
         "properties": {
          "description": "We’re sorry for the loss of supply. We currently have a fault affecting the areas listed. We are working hard to get the power back on as quickly as we can. If you need more information, please call us on 105 or send us a message on <a href=\"http://m.me/ssencommunity/\">Facebook</a> or Twitter (<a href=\"https://twitter.com/ssencommunity\">@ssencommunity</a>) and quote reference 'HB4722'",
          "dno": "ssen",
          "estimated_restored_time": null,
          "incident_id": "HB4722",
          "incident_url": "https://www.ssen.co.uk/Powertrack/",
          "postcodes_impacted": [
           "RG41 1HR",
           "RG41 1HS",
           "RG41 1HT",
           "RG41 1HU",
           "RG41 1HX",
           "RG41 1LE",
           "RG41 1LH",
           "RG41 1LJ",
           "RG41 1LL",
           "RG41 3HG",
           "RG41 3HH",
           "RG41 3HL",
           "RG41 5AA"
          ],
          "received_time": "2021-04-09 17:06:00"
         },
         "type": "Feature"
        },
        {
         "geometry": {
          "coordinates": [
           -1.8790035000000003,
           50.7661132
          ],
          "type": "Point"
         },
         "properties": {
          "description": "We’re sorry for the loss of supply. We currently have a fault affecting the areas listed. Our engineers are on site working hard to get the power back on as quickly as they can. If you need more information, please call us on 105 or send us a message on <a href=\"http://m.me/ssencommunity/\">Facebook</a> or Twitter (<a href=\"https://twitter.com/ssencommunity\">@ssencommunity</a>) and quote reference 'HB4682'",
          "dno": "ssen",
          "estimated_restored_time": "2021-04-10 00:00:00",
          "incident_id": "HB4682",
          "incident_url": "https://www.ssen.co.uk/Powertrack/",
          "postcodes_impacted": [
           "BH10 5BP",
           "BH10 5BS",
           "BH10 5BT",
           "BH10 5BU",
           "BH10 5FD",
           "BH10 5FE",
           "BH10 5FG",
           "BH10 5FH",
           "BH10 5FJ",
           "BH24 3FD"
          ],
          "received_time": "2021-04-09 15:27:00"
         },
         "type": "Feature"
        },
        {
         "geometry": {
          "coordinates": [
           -2.197704,
           50.64228466666666
          ],
          "type": "Point"
         },
         "properties": {
          "description": "We’re sorry for the loss of supply. We currently have a fault affecting the areas listed. Our engineers are on site working hard to get the power back on as quickly as they can. If you need more information, please call us on 105 or send us a message on <a href=\"http://m.me/ssencommunity/\">Facebook</a> or Twitter (<a href=\"https://twitter.com/ssencommunity\">@ssencommunity</a>) and quote reference 'HB4643'",
          "dno": "ssen",
          "estimated_restored_time": "2021-04-09 21:00:00",
          "incident_id": "HB4643",
          "incident_url": "https://www.ssen.co.uk/Powertrack/",
          "postcodes_impacted": [
           "BH20 5QJ",
           "BH20 5QT",
           "BH20 5QW"
          ],
          "received_time": "2021-04-09 13:41:00"
         },
         "type": "Feature"
        },
        {
         "geometry": {
          "coordinates": [
           -1.5370623333333333,
           50.757216666666665
          ],
          "type": "Point"
         },
         "properties": {
          "description": "We’re sorry for the loss of supply. We currently have a fault affecting the areas listed. Our engineers are on site working hard to get the power back on as quickly as they can. If you need more information, please call us on 105 or send us a message on <a href=\"http://m.me/ssencommunity/\">Facebook</a> or Twitter (<a href=\"https://twitter.com/ssencommunity\">@ssencommunity</a>) and quote reference 'HB4557'",
          "dno": "ssen",
          "estimated_restored_time": "2021-04-09 18:00:00",
          "incident_id": "HB4557",
          "incident_url": "https://www.ssen.co.uk/Powertrack/",
          "postcodes_impacted": [
           "SO41 3RU",
           "SO41 3SE",
           "SO41 9ZG"
          ],
          "received_time": "2021-04-09 11:22:00"
         },
         "type": "Feature"
        },
        {
         "geometry": {
          "coordinates": [
           -1.002583,
           51.627208
          ],
          "type": "Point"
         },
         "properties": {
          "description": "We’re sorry for the loss of supply. We currently have a fault affecting the areas listed. Our engineers are on site working hard to get the power back on as quickly as they can. If you need more information, please call us on 105 or send us a message on <a href=\"http://m.me/ssencommunity/\">Facebook</a> or Twitter (<a href=\"https://twitter.com/ssencommunity\">@ssencommunity</a>) and quote reference 'HB4515'",
          "dno": "ssen",
          "estimated_restored_time": "2021-04-09 19:00:00",
          "incident_id": "HB4515",
          "incident_url": "https://www.ssen.co.uk/Powertrack/",
          "postcodes_impacted": [
           "OX49 5EP"
          ],
          "received_time": "2021-04-09 08:26:00"
         },
         "type": "Feature"
        },
        {
         "geometry": {
          "coordinates": [
           -0.849437625,
           51.609358125
          ],
          "type": "Point"
         },
         "properties": {
          "description": "We’re sorry for the loss of supply. We currently have a fault affecting the areas listed. Our engineers are on site working hard to get the power back on as quickly as they can. If you need more information, please call us on 105 or send us a message on <a href=\"http://m.me/ssencommunity/\">Facebook</a> or Twitter (<a href=\"https://twitter.com/ssencommunity\">@ssencommunity</a>) and quote reference 'HB4362'",
          "dno": "ssen",
          "estimated_restored_time": "2021-04-09 19:00:00",
          "incident_id": "HB4362",
          "incident_url": "https://www.ssen.co.uk/Powertrack/",
          "postcodes_impacted": [
           "HP14 3HX",
           "RG9 6NY",
           "RG9 6PB",
           "RG9 6PG",
           "RG9 6PU",
           "RG9 6PX",
           "RG9 6PY",
           "RG9 6RB"
          ],
          "received_time": "2021-04-09 01:37:00"
         },
         "type": "Feature"
        },
        {
         "geometry": {
          "coordinates": [
           -3.6552655,
           50.608481499999996
          ],
          "type": "Point"
         },
         "properties": {
          "description": "In Progress",
          "dno": "wpd",
          "estimated_restored_time": "2021-04-09 21:30:00",
          "incident_id": "INCD-125327-B",
          "incident_url": "https://powercuts.westernpower.co.uk/incident/INCD-125327-B",
          "postcodes_impacted": [
           "TQ13 9PR",
           "TQ13 9PU"
          ],
          "received_time": "2021-04-09 16:08:00"
         },
         "type": "Feature"
        },
        {
         "geometry": {
          "coordinates": [
           -4.177645666666667,
           50.396049000000005
          ],
          "type": "Point"
         },
         "properties": {
          "description": "In Progress",
          "dno": "wpd",
          "estimated_restored_time": "2021-04-09 18:30:00",
          "incident_id": "INCD-125326-B",
          "incident_url": "https://powercuts.westernpower.co.uk/incident/INCD-125326-B",
          "postcodes_impacted": [
           "PL2 2EH",
           "PL5 1EY",
           "PL2 2EB",
           "PL2 2ED",
           "PL5 1BA",
           "PL2 2EL"
          ],
          "received_time": "2021-04-09 16:04:00"
         },
         "type": "Feature"
        },
        {
         "geometry": {
          "coordinates": [
           -2.754586,
           50.731443
          ],
          "type": "Point"
         },
         "properties": {
          "description": "In Progress",
          "dno": "wpd",
          "estimated_restored_time": "2021-04-09 22:00:00",
          "incident_id": "INCD-74833-T",
          "incident_url": "https://powercuts.westernpower.co.uk/incident/INCD-74833-T",
          "postcodes_impacted": [
           "DT6 3RN"
          ],
          "received_time": "2021-04-09 09:10:00"
         },
         "type": "Feature"
        },
        {
         "geometry": {
          "coordinates": [
           -3.2908160000000004,
           51.12750140000001
          ],
          "type": "Point"
         },
         "properties": {
          "description": "In Progress",
          "dno": "wpd",
          "estimated_restored_time": "2021-04-09 20:00:00",
          "incident_id": "INCD-74821-T",
          "incident_url": "https://powercuts.westernpower.co.uk/incident/INCD-74821-T",
          "postcodes_impacted": [
           "TA4 3TL",
           "TA4 3SZ",
           "TA4 3TA",
           "TA4 3TU",
           "TA4 3TQ"
          ],
          "received_time": "2021-04-09 07:53:00"
         },
         "type": "Feature"
        },
        {
         "geometry": {
          "coordinates": [
           -2.771776,
           51.345248
          ],
          "type": "Point"
         },
         "properties": {
          "description": "In Progress",
          "dno": "wpd",
          "estimated_restored_time": "2021-04-09 20:30:00",
          "incident_id": "INCD-37157-C",
          "incident_url": "https://powercuts.westernpower.co.uk/incident/INCD-37157-C",
          "postcodes_impacted": [
           "BS40 5HJ"
          ],
          "received_time": "2021-04-09 09:41:00"
         },
         "type": "Feature"
        },
        {
         "geometry": {
          "coordinates": [
           -3.3467655,
           51.609058499999996
          ],
          "type": "Point"
         },
         "properties": {
          "description": "In Progress",
          "dno": "wpd",
          "estimated_restored_time": "2021-04-09 19:00:00",
          "incident_id": "INCD-1525-g",
          "incident_url": "https://powercuts.westernpower.co.uk/incident/INCD-1525-g",
          "postcodes_impacted": [
           "CF37 2EU",
           "CF37 2EW",
           "CF37 2EN",
           "CF37 2EY"
          ],
          "received_time": "2021-04-09 13:27:00"
         },
         "type": "Feature"
        },
        {
         "geometry": {
          "coordinates": [
           -3.684865333333333,
           51.52961366666667
          ],
          "type": "Point"
         },
         "properties": {
          "description": "In Progress",
          "dno": "wpd",
          "estimated_restored_time": "2021-04-09 18:30:00",
          "incident_id": "INCD-1543-g",
          "incident_url": "https://powercuts.westernpower.co.uk/incident/INCD-1543-g",
          "postcodes_impacted": [
           "CF33 6NG",
           "CF33 6NH",
           "CF33 6NL"
          ],
          "received_time": "2021-04-09 15:34:00"
         },
         "type": "Feature"
        },
        {
         "geometry": {
          "coordinates": [
           -4.637313,
           51.76204775
          ],
          "type": "Point"
         },
         "properties": {
          "description": "In Progress",
          "dno": "wpd",
          "estimated_restored_time": "2021-04-09 19:00:00",
          "incident_id": "INCD-1503-g",
          "incident_url": "https://powercuts.westernpower.co.uk/incident/INCD-1503-g",
          "postcodes_impacted": [
           "SA67 8QA",
           "SA67 8QP",
           "SA67 8QE",
           "SA67 8BP",
           "SA67 8QD"
          ],
          "received_time": "2021-04-09 10:54:00"
         },
         "type": "Feature"
        },
        {
         "geometry": {
          "coordinates": [
           -2.287484111111111,
           53.05434833333333
          ],
          "type": "Point"
         },
         "properties": {
          "description": "In Progress",
          "dno": "wpd",
          "estimated_restored_time": "2021-04-09 18:00:00",
          "incident_id": "INCD-416183-E",
          "incident_url": "https://powercuts.westernpower.co.uk/incident/INCD-416183-E",
          "postcodes_impacted": [
           "ST7 8PL",
           "ST7 8RB",
           "ST7 8PN",
           "ST7 8QP",
           "ST7 8PP",
           "ST7 8NN",
           "ST7 8PW",
           "ST7 8NW",
           "ST7 8PS"
          ],
          "received_time": "2021-04-09 15:01:00"
         },
         "type": "Feature"
        },
        {
         "geometry": {
          "coordinates": [
           -2.0461865,
           51.8559485
          ],
          "type": "Point"
         },
         "properties": {
          "description": "In Progress",
          "dno": "wpd",
          "estimated_restored_time": "2021-04-09 19:30:00",
          "incident_id": "INCD-416170-E",
          "incident_url": "https://powercuts.westernpower.co.uk/incident/INCD-416170-E",
          "postcodes_impacted": [
           "GL53 9NE",
           "GL53 9NG",
           "GL53 9NF",
           "GL53 9RE"
          ],
          "received_time": "2021-04-09 12:06:00"
         },
         "type": "Feature"
        },
        {
         "geometry": {
          "coordinates": [
           -2.243553,
           52.119705
          ],
          "type": "Point"
         },
         "properties": {
          "description": "In Progress",
          "dno": "wpd",
          "estimated_restored_time": "2021-04-09 22:00:00",
          "incident_id": "INCD-357515-G",
          "incident_url": "https://powercuts.westernpower.co.uk/incident/INCD-357515-G",
          "postcodes_impacted": [
           "WR13 6PD"
          ],
          "received_time": "2021-04-09 13:32:00"
         },
         "type": "Feature"
        },
        {
         "geometry": {
          "coordinates": [
           -2.3760515,
           51.619536999999994
          ],
          "type": "Point"
         },
         "properties": {
          "description": "In Progress",
          "dno": "wpd",
          "estimated_restored_time": "2021-04-09 22:30:00",
          "incident_id": "INCD-357528-G",
          "incident_url": "https://powercuts.westernpower.co.uk/incident/INCD-357528-G",
          "postcodes_impacted": [
           "GL12 8RF",
           "GL12 8JU"
          ],
          "received_time": "2021-04-09 14:24:00"
         },
         "type": "Feature"
        },
        {
         "geometry": {
          "coordinates": [
           -2.349656,
           52.470931
          ],
          "type": "Point"
         },
         "properties": {
          "description": "In Progress",
          "dno": "wpd",
          "estimated_restored_time": "2021-04-09 19:30:00",
          "incident_id": "INCD-357536-G",
          "incident_url": "https://powercuts.westernpower.co.uk/incident/INCD-357536-G",
          "postcodes_impacted": [
           "WV15 6HE"
          ],
          "received_time": "2021-04-09 16:28:00"
         },
         "type": "Feature"
        },
        {
         "geometry": {
          "coordinates": [
           -2.849952583499711,
           53.41715669862518
          ],
          "type": "Point"
         },
         "properties": {
          "description": "We are aware of a fault in your area. If you require more information please call us on: \nCentral and Southern Scotland:  0800 092 9290 . \n Cheshire, Merseyside, North Wales and North Shropshire: 0800 001 5400.",
          "dno": "sp",
          "estimated_restored_time": "",
          "incident_id": "INCD-1807490-i",
          "incident_url": "https://www.spenergynetworks.co.uk/pages/power_cuts_map.aspx?incRef=INCD-1807490-i",
          "postcodes_impacted": [
           "L362QJ"
          ],
          "received_time": "2021-04-09 15:52"
         },
         "type": "Feature"
        },
        {
         "geometry": {
          "coordinates": [
           -3.7233340731744997,
           53.293725052020754
          ],
          "type": "Point"
         },
         "properties": {
          "description": "We are aware of a fault in your area. If you require more information please call us on: \nCentral and Southern Scotland:  0800 092 9290 . \n Cheshire, Merseyside, North Wales and North Shropshire: 0800 001 5400.",
          "dno": "sp",
          "estimated_restored_time": "",
          "incident_id": "INCD-371344-r",
          "incident_url": "https://www.spenergynetworks.co.uk/pages/power_cuts_map.aspx?incRef=INCD-371344-r",
          "postcodes_impacted": [
           "LL295RU",
           "LL297RU",
           "LL297SA",
           "LL298DN",
           "LL298DU",
           "LL298DW",
           "LL298EL",
           "LL298EP"
          ],
          "received_time": "2021-04-09 14:42"
         },
         "type": "Feature"
        },
        {
         "geometry": {
          "coordinates": [
           -2.875720892775785,
           53.435653732975545
          ],
          "type": "Point"
         },
         "properties": {
          "description": "There is a power cut in the L28 postcode area of Liverpool affecting properties in Barons Hey and the surrounding area. Due to further investigations required on site we now expect to have supplies restored by 6:30pm.We will update this message if this information changes. We apologise for the inconvenience and thank you for your patience. This message was updated at 4:15pm on the 9th April 2021.",
          "dno": "sp",
          "estimated_restored_time": "2021-04-09 17:30",
          "incident_id": "INCD-1807436-i",
          "incident_url": "https://www.spenergynetworks.co.uk/pages/power_cuts_map.aspx?incRef=INCD-1807436-i",
          "postcodes_impacted": [
           "L280QA",
           "L280QB",
           "L280QF",
           "L280QG",
           "L280QQ",
           "L288AF"
          ],
          "received_time": "2021-04-09 13:44"
         },
         "type": "Feature"
        },
        {
         "geometry": {
          "coordinates": [
           -3.9634929761597646,
           55.73780698928163
          ],
          "type": "Point"
         },
         "properties": {
          "description": "This is a message for customers in the ML9 postcode area of Larkhall. It is necessary for our engineers to carry out a shutdown at 6:45pm to safely complete repairs on a underground cable fault from earlier and this may affect the supply to your property. We will work to get your power back on as quickly and as safely as possible by 8:00pm. We will update this message if this information changes. We apologise for the inconvenience and thank you for your patience. This message was updated at 6:08pm on Friday, 09 April 2021",
          "dno": "sp",
          "estimated_restored_time": "2021-04-09 19:00",
          "incident_id": "INCD-562129-s",
          "incident_url": "https://www.spenergynetworks.co.uk/pages/power_cuts_map.aspx?incRef=INCD-562129-s",
          "postcodes_impacted": [
           "ML92JF",
           "ML92JG"
          ],
          "received_time": "2021-04-09 07:51"
         },
         "type": "Feature"
        },
        {
         "geometry": {
          "coordinates": [
           -3.0795558810695742,
           53.39840781665065
          ],
          "type": "Point"
         },
         "properties": {
          "description": "There is an unplanned power cut affecting the CH43 postcode area of Prenton, affecting properties in St Oswald Avenue, Stoneridge Court and surrounding streets. It will be necessary for our engineers to carry out an emergency shutdown at 6:00PM due to emergency repairs required to the underground cable network. Our team will be carrying out repair work safely on the underground cable network and this may affect the supply to your property. We will work to get your power back on as quickly and as safely as possible, and we expect the power to be restored by 8:30PM. We will update this message if this information changes. We apologise for the inconvenience and thank you for your patience. This message was updated at 5:01PM on 9th April 2021.",
          "dno": "sp",
          "estimated_restored_time": "2021-04-09 19:30",
          "incident_id": "INCD-370816-r",
          "incident_url": "https://www.spenergynetworks.co.uk/pages/power_cuts_map.aspx?incRef=INCD-370816-r",
          "postcodes_impacted": [
           "CH427NH",
           "CH437NA",
           "CH437ND",
           "CH437NH",
           "CH437NJ",
           "CH437NL",
           "CH437NN",
           "CH437NP",
           "CH437NQ",
           "CH437NW",
           "CH437QL",
           "CH437QS",
           "CH437QW",
           "CH437TE",
           "CH437TF",
           "CH437TG",
           "CH437TT",
           "CH437TW",
           "CH437UA",
           "CH437XS",
           "CH437XT",
           "CH437XU",
           "CH437XX",
           "CH437XY",
           "CH437YB",
           "CH437YS",
           "CH437ZE",
           "CH437ZF",
           "CH437ZH",
           "CH437ZL",
           "CH437ZQ",
           "CH437ZS",
           "CH437ZT",
           "CH437ZW"
          ],
          "received_time": "2021-04-07 13:03"
         },
         "type": "Feature"
        },
        {
         "geometry": {
          "coordinates": [
           -1.55139,
           53.7645162
          ],
          "type": "Point"
         },
         "properties": {
          "description": "U/G Service repair In Progress",
          "dno": "np",
          "estimated_restored_time": "2021-04-09 18:00",
          "incident_id": "INCD-15045-B",
          "incident_url": "https://www.northernpowergrid.com/power-cuts",
          "postcodes_impacted": {
           "LS11 5SB": {
            "class": "models.MapDataLocation",
            "lat": 53.7662,
            "lng": -1.55323
           },
           "LS11 5SE": {
            "class": "models.MapDataLocation",
            "lat": 53.7634,
            "lng": -1.55113
           },
           "LS11 5SS": {
            "class": "models.MapDataLocation",
            "lat": 53.7647,
            "lng": -1.54896
           },
           "LS11 5UH": {
            "class": "models.MapDataLocation",
            "lat": 53.7637,
            "lng": -1.55257
           },
           "LS11 5XA": {
            "class": "models.MapDataLocation",
            "lat": 53.7638,
            "lng": -1.55063
           }
          },
          "received_time": "2021-04-09 08:46"
         },
         "type": "Feature"
        },
        {
         "geometry": {
          "coordinates": [
           -1.245475,
           53.426116
          ],
          "type": "Point"
         },
         "properties": {
          "description": "O/H EHV Repair In Progress",
          "dno": "np",
          "estimated_restored_time": "",
          "incident_id": "INCD-15063-B",
          "incident_url": "https://www.northernpowergrid.com/power-cuts",
          "postcodes_impacted": {
           "S66 8RY": {
            "class": "models.MapDataLocation",
            "lat": 53.4262,
            "lng": -1.24574
           }
          },
          "received_time": "2021-04-09 14:57"
         },
         "type": "Feature"
        },
        {
         "geometry": {
          "coordinates": [
           -1.5046082000000003,
           53.409274200000006
          ],
          "type": "Point"
         },
         "properties": {
          "description": "Safety Interruption Awaiting",
          "dno": "np",
          "estimated_restored_time": "2021-04-09 17:15",
          "incident_id": "INCD-15064-B",
          "incident_url": "https://www.northernpowergrid.com/power-cuts",
          "postcodes_impacted": {
           "S6 2AA": {
            "class": "models.MapDataLocation",
            "lat": 53.4098,
            "lng": -1.49967
           },
           "S6 4FL": {
            "class": "models.MapDataLocation",
            "lat": 53.4089,
            "lng": -1.50523
           },
           "S6 4FN": {
            "class": "models.MapDataLocation",
            "lat": 53.4088,
            "lng": -1.5075
           },
           "S6 4GA": {
            "class": "models.MapDataLocation",
            "lat": 53.4093,
            "lng": -1.50646
           },
           "S6 4HE": {
            "class": "models.MapDataLocation",
            "lat": 53.4095,
            "lng": -1.50431
           }
          },
          "received_time": "2021-04-09 16:35"
         },
         "type": "Feature"
        },
        {
         "geometry": {
          "coordinates": [
           -1.4109423749999999,
           53.801725125000004
          ],
          "type": "Point"
         },
         "properties": {
          "description": "Damaged EHV U/G In Progress",
          "dno": "np",
          "estimated_restored_time": "",
          "incident_id": "INCD-167229-A",
          "incident_url": "https://www.northernpowergrid.com/power-cuts",
          "postcodes_impacted": {
           "LS15 8AB": {
            "class": "models.MapDataLocation",
            "lat": 53.8048,
            "lng": -1.41077
           },
           "LS15 8AD": {
            "class": "models.MapDataLocation",
            "lat": 53.804,
            "lng": -1.42138
           },
           "LS15 8AE": {
            "class": "models.MapDataLocation",
            "lat": 53.8056,
            "lng": -1.42527
           },
           "LS15 8AJ": {
            "class": "models.MapDataLocation",
            "lat": 53.8073,
            "lng": -1.43811
           },
           "LS25 1AS": {
            "class": "models.MapDataLocation",
            "lat": 53.7946,
            "lng": -1.40015
           },
           "LS25 1NF": {
            "class": "models.MapDataLocation",
            "lat": 53.7973,
            "lng": -1.40888
           },
           "LS25 1NG": {
            "class": "models.MapDataLocation",
            "lat": 53.7984,
            "lng": -1.39455
           },
           "LS25 2DQ": {
            "class": "models.MapDataLocation",
            "lat": 53.7997,
            "lng": -1.39461
           }
          },
          "received_time": "2021-03-29 16:46"
         },
         "type": "Feature"
        },
        {
         "geometry": {
          "coordinates": [
           -1.061855,
           54.013288
          ],
          "type": "Point"
         },
         "properties": {
          "description": "Unknown P1 Awaiting",
          "dno": "np",
          "estimated_restored_time": "",
          "incident_id": "INCD-168880-A",
          "incident_url": "https://www.northernpowergrid.com/power-cuts",
          "postcodes_impacted": {
           "YO32 2NB": {
            "class": "models.MapDataLocation",
            "lat": 54.0133,
            "lng": -1.06187
           }
          },
          "received_time": "2021-04-05 14:08"
         },
         "type": "Feature"
        },
        {
         "geometry": {
          "coordinates": [
           -1.9161044,
           54.947522400000004
          ],
          "type": "Point"
         },
         "properties": {
          "description": "U/G Service repair In Progress",
          "dno": "np",
          "estimated_restored_time": "2021-04-09 17:30",
          "incident_id": "INCD-170058-A",
          "incident_url": "https://www.northernpowergrid.com/power-cuts",
          "postcodes_impacted": {
           "NE43 7AD": {
            "class": "models.MapDataLocation",
            "lat": 54.9492,
            "lng": -1.9259
           },
           "NE43 7HG": {
            "class": "models.MapDataLocation",
            "lat": 54.9464,
            "lng": -1.92055
           },
           "NE43 7HH": {
            "class": "models.MapDataLocation",
            "lat": 54.9464,
            "lng": -1.91607
           },
           "NE43 7ND": {
            "class": "models.MapDataLocation",
            "lat": 54.9464,
            "lng": -1.91456
           },
           "NE43 7NG": {
            "class": "models.MapDataLocation",
            "lat": 54.9491,
            "lng": -1.91206
           },
           "NE43 7NH": {
            "class": "models.MapDataLocation",
            "lat": 54.9468,
            "lng": -1.91664
           },
           "NE43 7NJ": {
            "class": "models.MapDataLocation",
            "lat": 54.9472,
            "lng": -1.91514
           },
           "NE43 7NL": {
            "class": "models.MapDataLocation",
            "lat": 54.9482,
            "lng": -1.91339
           },
           "NE43 7NN": {
            "class": "models.MapDataLocation",
            "lat": 54.9488,
            "lng": -1.91045
           },
           "NE43 7NQ": {
            "class": "models.MapDataLocation",
            "lat": 54.9468,
            "lng": -1.91624
           }
          },
          "received_time": "2021-04-09 06:11"
         },
         "type": "Feature"
        },
        {
         "geometry": {
          "coordinates": [
           -1.2978340000000002,
           53.59334116666667
          ],
          "type": "Point"
         },
         "properties": {
          "description": "O/H Service Repair In Progress",
          "dno": "np",
          "estimated_restored_time": "2021-04-09 21:00",
          "incident_id": "INCD-170163-A",
          "incident_url": "https://www.northernpowergrid.com/power-cuts",
          "postcodes_impacted": {
           "WF9 2AE": {
            "class": "models.MapDataLocation",
            "lat": 53.5943,
            "lng": -1.29819
           },
           "WF9 2AF": {
            "class": "models.MapDataLocation",
            "lat": 53.5932,
            "lng": -1.29727
           },
           "WF9 2AG": {
            "class": "models.MapDataLocation",
            "lat": 53.5927,
            "lng": -1.29793
           },
           "WF9 2AH": {
            "class": "models.MapDataLocation",
            "lat": 53.5929,
            "lng": -1.29868
           },
           "WF9 2AJ": {
            "class": "models.MapDataLocation",
            "lat": 53.5933,
            "lng": -1.29836
           },
           "WF9 2AL": {
            "class": "models.MapDataLocation",
            "lat": 53.5938,
            "lng": -1.2977
           }
          },
          "received_time": "2021-04-09 11:02"
         },
         "type": "Feature"
        },
        {
         "geometry": {
          "coordinates": [
           -1.496667,
           53.404031
          ],
          "type": "Point"
         },
         "properties": {
          "description": "U/G Service repair In Progress",
          "dno": "np",
          "estimated_restored_time": "2021-04-09 16:00",
          "incident_id": "INCD-170167-A",
          "incident_url": "https://www.northernpowergrid.com/power-cuts",
          "postcodes_impacted": {
           "S6 2BS": {
            "class": "models.MapDataLocation",
            "lat": 53.404,
            "lng": -1.49679
           }
          },
          "received_time": "2021-04-09 11:11"
         },
         "type": "Feature"
        },
        {
         "geometry": {
          "coordinates": [
           -1.0658594285714287,
           53.50682471428571
          ],
          "type": "Point"
         },
         "properties": {
          "description": "Damaged service U/G In Progress",
          "dno": "np",
          "estimated_restored_time": "2021-04-09 17:00",
          "incident_id": "INCD-170187-A",
          "incident_url": "https://www.northernpowergrid.com/power-cuts",
          "postcodes_impacted": {
           "DN4 6QT": {
            "class": "models.MapDataLocation",
            "lat": 53.5079,
            "lng": -1.06409
           },
           "DN4 6QU": {
            "class": "models.MapDataLocation",
            "lat": 53.5072,
            "lng": -1.06651
           },
           "DN4 6QX": {
            "class": "models.MapDataLocation",
            "lat": 53.5068,
            "lng": -1.06587
           },
           "DN4 6RH": {
            "class": "models.MapDataLocation",
            "lat": 53.5063,
            "lng": -1.06741
           },
           "DN4 6RL": {
            "class": "models.MapDataLocation",
            "lat": 53.5066,
            "lng": -1.06558
           },
           "DN4 6RN": {
            "class": "models.MapDataLocation",
            "lat": 53.5072,
            "lng": -1.06455
           },
           "DN4 6UQ": {
            "class": "models.MapDataLocation",
            "lat": 53.5053,
            "lng": -1.06679
           }
          },
          "received_time": "2021-04-09 11:45"
         },
         "type": "Feature"
        },
        {
         "geometry": {
          "coordinates": [
           -1.689722,
           53.978341241379304
          ],
          "type": "Point"
         },
         "properties": {
          "description": "O/H HV Mains Repair Awaiting",
          "dno": "np",
          "estimated_restored_time": "2021-04-09 19:00",
          "incident_id": "INCD-170225-A",
          "incident_url": "https://www.northernpowergrid.com/power-cuts",
          "postcodes_impacted": {
           "HG3 1RP": {
            "class": "models.MapDataLocation",
            "lat": 53.9839,
            "lng": -1.70882
           },
           "HG3 1SB": {
            "class": "models.MapDataLocation",
            "lat": 53.9802,
            "lng": -1.68479
           },
           "HG3 1SD": {
            "class": "models.MapDataLocation",
            "lat": 53.9983,
            "lng": -1.69231
           },
           "HG3 1SF": {
            "class": "models.MapDataLocation",
            "lat": 53.9852,
            "lng": -1.59153
           },
           "HG3 1SJ": {
            "class": "models.MapDataLocation",
            "lat": 53.9879,
            "lng": -1.67637
           },
           "HG3 1SL": {
            "class": "models.MapDataLocation",
            "lat": 53.9873,
            "lng": -1.67848
           },
           "HG3 1SN": {
            "class": "models.MapDataLocation",
            "lat": 53.9927,
            "lng": -1.68105
           },
           "HG3 1SP": {
            "class": "models.MapDataLocation",
            "lat": 53.9975,
            "lng": -1.70313
           },
           "HG3 1SR": {
            "class": "models.MapDataLocation",
            "lat": 53.9906,
            "lng": -1.70738
           },
           "HG3 1SS": {
            "class": "models.MapDataLocation",
            "lat": 53.9851,
            "lng": -1.71106
           },
           "HG3 1SU": {
            "class": "models.MapDataLocation",
            "lat": 53.9828,
            "lng": -1.7045
           },
           "HG3 1SW": {
            "class": "models.MapDataLocation",
            "lat": 53.9949,
            "lng": -1.70156
           },
           "HG3 1SY": {
            "class": "models.MapDataLocation",
            "lat": 53.9858,
            "lng": -1.69701
           },
           "HG3 1SZ": {
            "class": "models.MapDataLocation",
            "lat": 53.983,
            "lng": -1.68385
           },
           "HG3 1TA": {
            "class": "models.MapDataLocation",
            "lat": 53.9789,
            "lng": -1.67345
           },
           "HG3 1TB": {
            "class": "models.MapDataLocation",
            "lat": 53.9742,
            "lng": -1.68688
           },
           "HG3 1TD": {
            "class": "models.MapDataLocation",
            "lat": 53.9738,
            "lng": -1.68599
           },
           "HG3 1TE": {
            "class": "models.MapDataLocation",
            "lat": 53.9735,
            "lng": -1.68476
           },
           "HG3 1TF": {
            "class": "models.MapDataLocation",
            "lat": 53.9734,
            "lng": -1.68417
           },
           "HG3 2RL": {
            "class": "models.MapDataLocation",
            "lat": 54.0033,
            "lng": -1.6974
           },
           "LS21 2NA": {
            "class": "models.MapDataLocation",
            "lat": 53.9427,
            "lng": -1.7062
           },
           "LS21 2PQ": {
            "class": "models.MapDataLocation",
            "lat": 54.0058,
            "lng": -1.74344
           },
           "LS21 2QS": {
            "class": "models.MapDataLocation",
            "lat": 53.949,
            "lng": -1.67095
           },
           "LS21 2QT": {
            "class": "models.MapDataLocation",
            "lat": 53.9533,
            "lng": -1.66908
           },
           "LS21 2QU": {
            "class": "models.MapDataLocation",
            "lat": 53.9629,
            "lng": -1.68763
           },
           "LS21 2QX": {
            "class": "models.MapDataLocation",
            "lat": 53.9667,
            "lng": -1.69471
           },
           "LS21 2QY": {
            "class": "models.MapDataLocation",
            "lat": 53.9626,
            "lng": -1.69942
           },
           "LS21 2QZ": {
            "class": "models.MapDataLocation",
            "lat": 53.9493,
            "lng": -1.6844
           },
           "LS21 2RA": {
            "class": "models.MapDataLocation",
            "lat": 53.9505,
            "lng": -1.68699
           }
          },
          "received_time": "2021-04-09 13:09"
         },
         "type": "Feature"
        },
        {
         "geometry": {
          "coordinates": [
           -1.67109,
           53.71158
          ],
          "type": "Point"
         },
         "properties": {
          "description": "Unknown P2 Awaiting",
          "dno": "np",
          "estimated_restored_time": "",
          "incident_id": "INCD-170226-A",
          "incident_url": "https://www.northernpowergrid.com/power-cuts",
          "postcodes_impacted": {
           "WF16 9EH": {
            "class": "models.MapDataLocation",
            "lat": 53.7116,
            "lng": -1.67113
           }
          },
          "received_time": "2021-04-09 13:13"
         },
         "type": "Feature"
        },
        {
         "geometry": {
          "coordinates": [
           -1.531859,
           53.843244
          ],
          "type": "Point"
         },
         "properties": {
          "description": "Damage Other In Progress",
          "dno": "np",
          "estimated_restored_time": "",
          "incident_id": "INCD-170228-A",
          "incident_url": "https://www.northernpowergrid.com/power-cuts",
          "postcodes_impacted": {
           "LS17 6RB": {
            "class": "models.MapDataLocation",
            "lat": 53.8433,
            "lng": -1.53186
           }
          },
          "received_time": "2021-04-09 13:15"
         },
         "type": "Feature"
        },
        {
         "geometry": {
          "coordinates": [
           -1.43578,
           54.918907
          ],
          "type": "Point"
         },
         "properties": {
          "description": "Damaged service U/G In Progress",
          "dno": "np",
          "estimated_restored_time": "2021-04-09 19:00",
          "incident_id": "INCD-170238-A",
          "incident_url": "https://www.northernpowergrid.com/power-cuts",
          "postcodes_impacted": {
           "SR5 3AH": {
            "class": "models.MapDataLocation",
            "lat": 54.9189,
            "lng": -1.43581
           }
          },
          "received_time": "2021-04-09 13:42"
         },
         "type": "Feature"
        },
        {
         "geometry": {
          "coordinates": [
           -0.331291,
           53.74039533333334
          ],
          "type": "Point"
         },
         "properties": {
          "description": "LV Restoration In Progress",
          "dno": "np",
          "estimated_restored_time": "2021-04-09 18:00",
          "incident_id": "INCD-170256-A",
          "incident_url": "https://www.northernpowergrid.com/power-cuts",
          "postcodes_impacted": {
           "HU1 1JJ": {
            "class": "models.MapDataLocation",
            "lat": 53.7441,
            "lng": -0.326561
           },
           "HU1 1UU": {
            "class": "models.MapDataLocation",
            "lat": 53.7389,
            "lng": -0.333119
           },
           "HU1 1XE": {
            "class": "models.MapDataLocation",
            "lat": 53.7384,
            "lng": -0.334337
           }
          },
          "received_time": "2021-04-09 14:17"
         },
         "type": "Feature"
        },
        {
         "geometry": {
          "coordinates": [
           -1.828406,
           53.735334
          ],
          "type": "Point"
         },
         "properties": {
          "description": "Damaged LV U/G In Progress",
          "dno": "np",
          "estimated_restored_time": "2021-04-09 21:15",
          "incident_id": "INCD-170265-A",
          "incident_url": "https://www.northernpowergrid.com/power-cuts",
          "postcodes_impacted": {
           "HX3 7HG": {
            "class": "models.MapDataLocation",
            "lat": 53.7353,
            "lng": -1.82844
           }
          },
          "received_time": "2021-04-09 14:11"
         },
         "type": "Feature"
        },
        {
         "geometry": {
          "coordinates": [
           -0.158767,
           53.90469
          ],
          "type": "Point"
         },
         "properties": {
          "description": "Unknown P2 In Progress",
          "dno": "np",
          "estimated_restored_time": "2021-04-09 18:30",
          "incident_id": "INCD-170280-A",
          "incident_url": "https://www.northernpowergrid.com/power-cuts",
          "postcodes_impacted": {
           "HU18 1TL": {
            "class": "models.MapDataLocation",
            "lat": 53.9047,
            "lng": -0.158804
           }
          },
          "received_time": "2021-04-09 15:25"
         },
         "type": "Feature"
        },
        {
         "geometry": {
          "coordinates": [
           -1.939472,
           53.675586
          ],
          "type": "Point"
         },
         "properties": {
          "description": "Unknown P2 In Progress",
          "dno": "np",
          "estimated_restored_time": "",
          "incident_id": "INCD-170284-A",
          "incident_url": "https://www.northernpowergrid.com/power-cuts",
          "postcodes_impacted": {
           "HX6 4BN": {
            "class": "models.MapDataLocation",
            "lat": 53.6757,
            "lng": -1.93911
           }
          },
          "received_time": "2021-04-09 15:34"
         },
         "type": "Feature"
        },
        {
         "geometry": {
          "coordinates": [
           -1.520252,
           53.816253
          ],
          "type": "Point"
         },
         "properties": {
          "description": "Unknown P1 In Progress",
          "dno": "np",
          "estimated_restored_time": "2021-04-09 18:45",
          "incident_id": "INCD-170285-A",
          "incident_url": "https://www.northernpowergrid.com/power-cuts",
          "postcodes_impacted": {
           "LS8 4JZ": {
            "class": "models.MapDataLocation",
            "lat": 53.8162,
            "lng": -1.52025
           }
          },
          "received_time": "2021-04-09 15:37"
         },
         "type": "Feature"
        },
        {
         "geometry": {
          "coordinates": [
           -1.092477,
           53.529483
          ],
          "type": "Point"
         },
         "properties": {
          "description": "Unknown P1 Awaiting",
          "dno": "np",
          "estimated_restored_time": "2021-04-09 19:00",
          "incident_id": "INCD-170293-A",
          "incident_url": "https://www.northernpowergrid.com/power-cuts",
          "postcodes_impacted": {
           "DN2 6JN": {
            "class": "models.MapDataLocation",
            "lat": 53.5295,
            "lng": -1.09248
           }
          },
          "received_time": "2021-04-09 15:58"
         },
         "type": "Feature"
        },
        {
         "geometry": {
          "coordinates": [
           -1.250787,
           53.395318
          ],
          "type": "Point"
         },
         "properties": {
          "description": "Unknown P1 In Progress",
          "dno": "np",
          "estimated_restored_time": "2021-04-09 19:00",
          "incident_id": "INCD-170294-A",
          "incident_url": "https://www.northernpowergrid.com/power-cuts",
          "postcodes_impacted": {
           "S66 9LX": {
            "class": "models.MapDataLocation",
            "lat": 53.3953,
            "lng": -1.25077
           }
          },
          "received_time": "2021-04-09 15:59"
         },
         "type": "Feature"
        },
        {
         "geometry": {
          "coordinates": [
           -1.6436,
           53.670725
          ],
          "type": "Point"
         },
         "properties": {
          "description": "U/G Service repair In Progress",
          "dno": "np",
          "estimated_restored_time": "2021-04-09 19:15",
          "incident_id": "INCD-170295-A",
          "incident_url": "https://www.northernpowergrid.com/power-cuts",
          "postcodes_impacted": {
           "WF12 9PQ": {
            "class": "models.MapDataLocation",
            "lat": 53.6707,
            "lng": -1.6436
           }
          },
          "received_time": "2021-04-09 16:01"
         },
         "type": "Feature"
        },
        {
         "geometry": {
          "coordinates": [
           -1.1434538333333333,
           53.517997333333334
          ],
          "type": "Point"
         },
         "properties": {
          "description": "Unknown P2 Awaiting",
          "dno": "np",
          "estimated_restored_time": "2021-04-09 19:15",
          "incident_id": "INCD-170298-A",
          "incident_url": "https://www.northernpowergrid.com/power-cuts",
          "postcodes_impacted": {
           "DN4 0AL": {
            "class": "models.MapDataLocation",
            "lat": 53.5182,
            "lng": -1.14157
           },
           "DN4 0AS": {
            "class": "models.MapDataLocation",
            "lat": 53.5187,
            "lng": -1.14381
           },
           "DN4 0AT": {
            "class": "models.MapDataLocation",
            "lat": 53.5183,
            "lng": -1.14279
           },
           "DN4 0AU": {
            "class": "models.MapDataLocation",
            "lat": 53.5182,
            "lng": -1.14308
           },
           "DN4 0AX": {
            "class": "models.MapDataLocation",
            "lat": 53.518,
            "lng": -1.14344
           },
           "DN4 0BJ": {
            "class": "models.MapDataLocation",
            "lat": 53.5168,
            "lng": -1.14573
           }
          },
          "received_time": "2021-04-09 16:06"
         },
         "type": "Feature"
        },
        {
         "geometry": {
          "coordinates": [
           -1.601497,
           53.472453
          ],
          "type": "Point"
         },
         "properties": {
          "description": "Unknown P2 In Progress",
          "dno": "np",
          "estimated_restored_time": "2021-04-09 19:15",
          "incident_id": "INCD-170301-A",
          "incident_url": "https://www.northernpowergrid.com/power-cuts",
          "postcodes_impacted": {
           "S36 1GJ": {
            "class": "models.MapDataLocation",
            "lat": 53.4725,
            "lng": -1.60151
           }
          },
          "received_time": "2021-04-09 16:15"
         },
         "type": "Feature"
        },
        {
         "geometry": {
          "coordinates": [
           -1.9643971410256416,
           53.85355326923076
          ],
          "type": "Point"
         },
         "properties": {
          "description": "Damaged HV O/H Awaiting",
          "dno": "np",
          "estimated_restored_time": "2021-04-09 21:00",
          "incident_id": "INCD-170307-A",
          "incident_url": "https://www.northernpowergrid.com/power-cuts",
          "postcodes_impacted": {
           "BD1 2SH": {
            "class": "models.MapDataLocation",
            "lat": 53.7942,
            "lng": -1.75665
           },
           "BD20 8HY": {
            "class": "models.MapDataLocation",
            "lat": 53.9184,
            "lng": -2.05085
           },
           "BD22 0EZ": {
            "class": "models.MapDataLocation",
            "lat": 53.8266,
            "lng": -1.97812
           },
           "BD22 0HA": {
            "class": "models.MapDataLocation",
            "lat": 53.8296,
            "lng": -1.9865
           },
           "BD22 0HT": {
            "class": "models.MapDataLocation",
            "lat": 53.8339,
            "lng": -2.00452
           },
           "BD22 0HY": {
            "class": "models.MapDataLocation",
            "lat": 53.8361,
            "lng": -1.99174
           },
           "BD22 0HZ": {
            "class": "models.MapDataLocation",
            "lat": 53.8367,
            "lng": -1.9937
           },
           "BD22 0JA": {
            "class": "models.MapDataLocation",
            "lat": 53.838,
            "lng": -1.98471
           },
           "BD22 0JB": {
            "class": "models.MapDataLocation",
            "lat": 53.8362,
            "lng": -1.98261
           },
           "BD22 0JD": {
            "class": "models.MapDataLocation",
            "lat": 53.839,
            "lng": -1.97919
           },
           "BD22 0JE": {
            "class": "models.MapDataLocation",
            "lat": 53.8401,
            "lng": -1.9894
           },
           "BD22 0JL": {
            "class": "models.MapDataLocation",
            "lat": 53.8396,
            "lng": -2.02944
           },
           "BD22 0NE": {
            "class": "models.MapDataLocation",
            "lat": 53.8668,
            "lng": -1.94887
           },
           "BD22 0PA": {
            "class": "models.MapDataLocation",
            "lat": 53.8594,
            "lng": -1.95038
           },
           "BD22 0PB": {
            "class": "models.MapDataLocation",
            "lat": 53.861,
            "lng": -1.95829
           },
           "BD22 0PD": {
            "class": "models.MapDataLocation",
            "lat": 53.8616,
            "lng": -1.95785
           },
           "BD22 0PE": {
            "class": "models.MapDataLocation",
            "lat": 53.8626,
            "lng": -1.95812
           },
           "BD22 0PF": {
            "class": "models.MapDataLocation",
            "lat": 53.8615,
            "lng": -1.95651
           },
           "BD22 0PG": {
            "class": "models.MapDataLocation",
            "lat": 53.8654,
            "lng": -1.95322
           },
           "BD22 0PH": {
            "class": "models.MapDataLocation",
            "lat": 53.8643,
            "lng": -1.95397
           },
           "BD22 0PJ": {
            "class": "models.MapDataLocation",
            "lat": 53.8645,
            "lng": -1.95421
           },
           "BD22 0PL": {
            "class": "models.MapDataLocation",
            "lat": 53.8625,
            "lng": -1.95109
           },
           "BD22 0PN": {
            "class": "models.MapDataLocation",
            "lat": 53.8657,
            "lng": -1.95254
           },
           "BD22 0PP": {
            "class": "models.MapDataLocation",
            "lat": 53.8665,
            "lng": -1.94984
           },
           "BD22 0PQ": {
            "class": "models.MapDataLocation",
            "lat": 53.8634,
            "lng": -1.95684
           },
           "BD22 0PR": {
            "class": "models.MapDataLocation",
            "lat": 53.8664,
            "lng": -1.94901
           },
           "BD22 0PS": {
            "class": "models.MapDataLocation",
            "lat": 53.8675,
            "lng": -1.9478
           },
           "BD22 0PT": {
            "class": "models.MapDataLocation",
            "lat": 53.8678,
            "lng": -1.94811
           },
           "BD22 0PU": {
            "class": "models.MapDataLocation",
            "lat": 53.8703,
            "lng": -1.94966
           },
           "BD22 0PW": {
            "class": "models.MapDataLocation",
            "lat": 53.8664,
            "lng": -1.95159
           },
           "BD22 0PX": {
            "class": "models.MapDataLocation",
            "lat": 53.8654,
            "lng": -1.96289
           },
           "BD22 0PY": {
            "class": "models.MapDataLocation",
            "lat": 53.8725,
            "lng": -1.97306
           },
           "BD22 0PZ": {
            "class": "models.MapDataLocation",
            "lat": 53.8626,
            "lng": -1.96183
           },
           "BD22 0QA": {
            "class": "models.MapDataLocation",
            "lat": 53.8612,
            "lng": -1.97219
           },
           "BD22 0QB": {
            "class": "models.MapDataLocation",
            "lat": 53.8635,
            "lng": -1.96768
           },
           "BD22 0QD": {
            "class": "models.MapDataLocation",
            "lat": 53.8646,
            "lng": -1.9862
           },
           "BD22 0QE": {
            "class": "models.MapDataLocation",
            "lat": 53.8629,
            "lng": -1.99821
           },
           "BD22 0QF": {
            "class": "models.MapDataLocation",
            "lat": 53.8616,
            "lng": -1.95684
           },
           "BD22 0QG": {
            "class": "models.MapDataLocation",
            "lat": 53.8618,
            "lng": -1.95666
           },
           "BD22 0QH": {
            "class": "models.MapDataLocation",
            "lat": 53.8585,
            "lng": -1.99045
           },
           "BD22 0QJ": {
            "class": "models.MapDataLocation",
            "lat": 53.8571,
            "lng": -1.9821
           },
           "BD22 0QL": {
            "class": "models.MapDataLocation",
            "lat": 53.8555,
            "lng": -1.97582
           },
           "BD22 0QN": {
            "class": "models.MapDataLocation",
            "lat": 53.8512,
            "lng": -1.98758
           },
           "BD22 0QP": {
            "class": "models.MapDataLocation",
            "lat": 53.8528,
            "lng": -1.96994
           },
           "BD22 0QQ": {
            "class": "models.MapDataLocation",
            "lat": 53.8559,
            "lng": -2.00586
           },
           "BD22 0QR": {
            "class": "models.MapDataLocation",
            "lat": 53.8457,
            "lng": -1.97651
           },
           "BD22 0QS": {
            "class": "models.MapDataLocation",
            "lat": 53.8462,
            "lng": -1.97121
           },
           "BD22 0QT": {
            "class": "models.MapDataLocation",
            "lat": 53.8549,
            "lng": -1.97039
           },
           "BD22 0QU": {
            "class": "models.MapDataLocation",
            "lat": 53.8544,
            "lng": -1.96319
           },
           "BD22 0QW": {
            "class": "models.MapDataLocation",
            "lat": 53.8544,
            "lng": -1.96331
           },
           "BD22 0QX": {
            "class": "models.MapDataLocation",
            "lat": 53.8565,
            "lng": -1.95708
           },
           "BD22 0QY": {
            "class": "models.MapDataLocation",
            "lat": 53.8577,
            "lng": -1.95834
           },
           "BD22 0QZ": {
            "class": "models.MapDataLocation",
            "lat": 53.8551,
            "lng": -1.95577
           },
           "BD22 0RA": {
            "class": "models.MapDataLocation",
            "lat": 53.8892,
            "lng": -2.06712
           },
           "BD22 0RB": {
            "class": "models.MapDataLocation",
            "lat": 53.8515,
            "lng": -1.9572
           },
           "BD22 0RF": {
            "class": "models.MapDataLocation",
            "lat": 53.8486,
            "lng": -1.96056
           },
           "BD22 0RH": {
            "class": "models.MapDataLocation",
            "lat": 53.8505,
            "lng": -1.96468
           },
           "BD22 0RJ": {
            "class": "models.MapDataLocation",
            "lat": 53.8489,
            "lng": -1.96163
           },
           "BD22 0RP": {
            "class": "models.MapDataLocation",
            "lat": 53.8398,
            "lng": -1.97355
           },
           "BD22 0RQ": {
            "class": "models.MapDataLocation",
            "lat": 53.8509,
            "lng": -1.95846
           },
           "BD22 0RR": {
            "class": "models.MapDataLocation",
            "lat": 53.8381,
            "lng": -1.97372
           },
           "BD22 0RS": {
            "class": "models.MapDataLocation",
            "lat": 53.8409,
            "lng": -1.97582
           },
           "BD22 0RT": {
            "class": "models.MapDataLocation",
            "lat": 53.8397,
            "lng": -1.97633
           },
           "BD22 0RU": {
            "class": "models.MapDataLocation",
            "lat": 53.8411,
            "lng": -1.97814
           },
           "BD22 0RW": {
            "class": "models.MapDataLocation",
            "lat": 53.8415,
            "lng": -1.97021
           },
           "BD22 0RX": {
            "class": "models.MapDataLocation",
            "lat": 53.8411,
            "lng": -1.98449
           },
           "BD22 0RY": {
            "class": "models.MapDataLocation",
            "lat": 53.8431,
            "lng": -1.97575
           },
           "BD22 0RZ": {
            "class": "models.MapDataLocation",
            "lat": 53.8461,
            "lng": -1.96402
           },
           "BD22 0SB": {
            "class": "models.MapDataLocation",
            "lat": 53.8656,
            "lng": -1.95313
           },
           "BD22 0TD": {
            "class": "models.MapDataLocation",
            "lat": 53.8377,
            "lng": -1.94283
           },
           "BD22 6EA": {
            "class": "models.MapDataLocation",
            "lat": 53.8629,
            "lng": -1.91989
           },
           "BD22 6PG": {
            "class": "models.MapDataLocation",
            "lat": 53.8706,
            "lng": -1.93458
           },
           "BD22 6PJ": {
            "class": "models.MapDataLocation",
            "lat": 53.8705,
            "lng": -1.93357
           },
           "BD22 7EU": {
            "class": "models.MapDataLocation",
            "lat": 53.8488,
            "lng": -1.94644
           },
           "BD22 7JD": {
            "class": "models.MapDataLocation",
            "lat": 53.8477,
            "lng": -1.953
           },
           "BD22 7PB": {
            "class": "models.MapDataLocation",
            "lat": 53.846,
            "lng": -1.95327
           },
           "BD22 7PY": {
            "class": "models.MapDataLocation",
            "lat": 53.8432,
            "lng": -1.95765
           },
           "BD22 7SA": {
            "class": "models.MapDataLocation",
            "lat": 53.8385,
            "lng": -1.96068
           }
          },
          "received_time": "2021-04-09 16:17"
         },
         "type": "Feature"
        },
        {
         "geometry": {
          "coordinates": [
           -1.463451,
           54.019085
          ],
          "type": "Point"
         },
         "properties": {
          "description": "Unknown P1 In Progress",
          "dno": "np",
          "estimated_restored_time": "",
          "incident_id": "INCD-170312-A",
          "incident_url": "https://www.northernpowergrid.com/power-cuts",
          "postcodes_impacted": {
           "HG5 0LZ": {
            "class": "models.MapDataLocation",
            "lat": 54.0191,
            "lng": -1.46347
           }
          },
          "received_time": "2021-04-09 16:54"
         },
         "type": "Feature"
        },
        {
         "geometry": {
          "coordinates": [
           -1.428229,
           54.925522
          ],
          "type": "Point"
         },
         "properties": {
          "description": "Unknown P2 Awaiting",
          "dno": "np",
          "estimated_restored_time": "2021-04-09 20:15",
          "incident_id": "INCD-170319-A",
          "incident_url": "https://www.northernpowergrid.com/power-cuts",
          "postcodes_impacted": {
           "SR5 5NL": {
            "class": "models.MapDataLocation",
            "lat": 54.9255,
            "lng": -1.42818
           }
          },
          "received_time": "2021-04-09 17:10"
         },
         "type": "Feature"
        },
        {
         "geometry": {
          "coordinates": [
           -1.760576,
           54.63828
          ],
          "type": "Point"
         },
         "properties": {
          "description": "Unknown P2 Awaiting",
          "dno": "np",
          "estimated_restored_time": "2021-04-09 20:15",
          "incident_id": "INCD-170320-A",
          "incident_url": "https://www.northernpowergrid.com/power-cuts",
          "postcodes_impacted": {
           "DL14 0NB": {
            "class": "models.MapDataLocation",
            "lat": 54.6383,
            "lng": -1.76061
           }
          },
          "received_time": "2021-04-09 17:11"
         },
         "type": "Feature"
        },
        {
         "geometry": {
          "coordinates": [
           -1.742347888888889,
           54.95636988888889
          ],
          "type": "Point"
         },
         "properties": {
          "description": "We need to temporarily turn the power off to carry out power upgrades in the area. The scheduled work has now been completed",
          "dno": "np",
          "estimated_restored_time": "2021-04-09 13:00",
          "incident_id": "PPC039123",
          "incident_url": "https://www.northernpowergrid.com/power-cuts",
          "postcodes_impacted": {
           "NE21 4SY": {
            "class": "models.MapDataLocation",
            "lat": 54.9594,
            "lng": -1.74275
           },
           "NE21 4SZ": {
            "class": "models.MapDataLocation",
            "lat": 54.9586,
            "lng": -1.74094
           },
           "NE21 4TA": {
            "class": "models.MapDataLocation",
            "lat": 54.9577,
            "lng": -1.74058
           },
           "NE21 6DZ": {
            "class": "models.MapDataLocation",
            "lat": 54.9561,
            "lng": -1.73382
           },
           "NE21 6JJ": {
            "class": "models.MapDataLocation",
            "lat": 54.9549,
            "lng": -1.74264
           },
           "NE21 6JL": {
            "class": "models.MapDataLocation",
            "lat": 54.9554,
            "lng": -1.74139
           },
           "NE21 6JN": {
            "class": "models.MapDataLocation",
            "lat": 54.955,
            "lng": -1.74665
           },
           "NE21 6JR": {
            "class": "models.MapDataLocation",
            "lat": 54.9543,
            "lng": -1.74083
           },
           "NE21 6JW": {
            "class": "models.MapDataLocation",
            "lat": 54.9562,
            "lng": -1.75156
           }
          },
          "received_time": "2021-04-09 09:00"
         },
         "type": "Feature"
        },
        {
         "geometry": {
          "coordinates": [
           -0.42100866666666664,
           53.52336033333333
          ],
          "type": "Point"
         },
         "properties": {
          "description": "We need to temporarily turn the power off to undertake vegetation management in the area. The scheduled work has now been completed",
          "dno": "np",
          "estimated_restored_time": "2021-04-09 13:00",
          "incident_id": "PPC039174",
          "incident_url": "https://www.northernpowergrid.com/power-cuts",
          "postcodes_impacted": {
           "LN7 6JY": {
            "class": "models.MapDataLocation",
            "lat": 53.5228,
            "lng": -0.419666
           },
           "LN7 6JZ": {
            "class": "models.MapDataLocation",
            "lat": 53.5237,
            "lng": -0.42138
           },
           "LN7 6LQ": {
            "class": "models.MapDataLocation",
            "lat": 53.5236,
            "lng": -0.422199
           }
          },
          "received_time": "2021-04-09 08:00"
         },
         "type": "Feature"
        },
        {
         "geometry": {
          "coordinates": [
           -0.9410763333333333,
           54.32728233333333
          ],
          "type": "Point"
         },
         "properties": {
          "description": "We need to temporarily turn the power off to carry out maintenance on our network in the area. The scheduled work has now been completed",
          "dno": "np",
          "estimated_restored_time": "2021-04-09 10:00",
          "incident_id": "PPC039180",
          "incident_url": "https://www.northernpowergrid.com/power-cuts",
          "postcodes_impacted": {
           "YO62 6UN": {
            "class": "models.MapDataLocation",
            "lat": 54.3246,
            "lng": -0.925091
           },
           "YO62 7XH": {
            "class": "models.MapDataLocation",
            "lat": 54.3354,
            "lng": -0.953371
           },
           "YO62 7XJ": {
            "class": "models.MapDataLocation",
            "lat": 54.3245,
            "lng": -0.94825
           }
          },
          "received_time": "2021-04-09 09:30"
         },
         "type": "Feature"
        },
        {
         "geometry": {
          "coordinates": [
           -0.955343,
           54.30004
          ],
          "type": "Point"
         },
         "properties": {
          "description": "We need to temporarily turn the power off to carry out maintenance on our network in the area. The scheduled work has now been completed",
          "dno": "np",
          "estimated_restored_time": "2021-04-09 11:00",
          "incident_id": "PPC039181",
          "incident_url": "https://www.northernpowergrid.com/power-cuts",
          "postcodes_impacted": {
           "YO62 7HX": {
            "class": "models.MapDataLocation",
            "lat": 54.3013,
            "lng": -0.952977
           }
          },
          "received_time": "2021-04-09 10:30"
         },
         "type": "Feature"
        },
        {
         "geometry": {
          "coordinates": [
           -1.749965,
           54.612673
          ],
          "type": "Point"
         },
         "properties": {
          "description": "We need to temporarily turn the power off to undertake vegetation management in the area. The scheduled work has now been completed",
          "dno": "np",
          "estimated_restored_time": "2021-04-09 10:30",
          "incident_id": "PPC039351",
          "incident_url": "https://www.northernpowergrid.com/power-cuts",
          "postcodes_impacted": {
           "DL14 9NW": {
            "class": "models.MapDataLocation",
            "lat": 54.6127,
            "lng": -1.74999
           }
          },
          "received_time": "2021-04-09 08:00"
         },
         "type": "Feature"
        },
        {
         "geometry": {
          "coordinates": [
           -2.0572915,
           55.145398
          ],
          "type": "Point"
         },
         "properties": {
          "description": "We need to temporarily turn the power off to carry out replacement of poles that support our overhead power lines in the area. In Progress",
          "dno": "np",
          "estimated_restored_time": "2021-04-16 15:00",
          "incident_id": "PPC039370",
          "incident_url": "https://www.northernpowergrid.com/power-cuts",
          "postcodes_impacted": {
           "NE48 2RJ": {
            "class": "models.MapDataLocation",
            "lat": 55.1631,
            "lng": -2.18123
           },
           "NE61 4AE": {
            "class": "models.MapDataLocation",
            "lat": 55.1278,
            "lng": -1.93382
           }
          },
          "received_time": "2021-04-09 08:00"
         },
         "type": "Feature"
        },
        {
         "geometry": {
          "coordinates": [
           -1.7050999166666665,
           54.83020033333332
          ],
          "type": "Point"
         },
         "properties": {
          "description": "We need to temporarily turn the power off to carry out replacement of poles that support our overhead power lines in the area. The scheduled work has now been completed",
          "dno": "np",
          "estimated_restored_time": "2021-04-09 15:00",
          "incident_id": "PPC039545",
          "incident_url": "https://www.northernpowergrid.com/power-cuts",
          "postcodes_impacted": {
           "DH7 0AB": {
            "class": "models.MapDataLocation",
            "lat": 54.828,
            "lng": -1.70789
           },
           "DH7 0BE": {
            "class": "models.MapDataLocation",
            "lat": 54.8309,
            "lng": -1.70283
           },
           "DH7 0BP": {
            "class": "models.MapDataLocation",
            "lat": 54.8302,
            "lng": -1.70595
           },
           "DH7 0BW": {
            "class": "models.MapDataLocation",
            "lat": 54.8303,
            "lng": -1.70582
           },
           "DH7 0DA": {
            "class": "models.MapDataLocation",
            "lat": 54.83,
            "lng": -1.70505
           },
           "DH7 0DB": {
            "class": "models.MapDataLocation",
            "lat": 54.8293,
            "lng": -1.70363
           },
           "DH7 0DD": {
            "class": "models.MapDataLocation",
            "lat": 54.8316,
            "lng": -1.70454
           },
           "DH7 0DE": {
            "class": "models.MapDataLocation",
            "lat": 54.8306,
            "lng": -1.70542
           },
           "DH7 0DL": {
            "class": "models.MapDataLocation",
            "lat": 54.8264,
            "lng": -1.71245
           },
           "DH7 0DP": {
            "class": "models.MapDataLocation",
            "lat": 54.832,
            "lng": -1.70159
           },
           "DH7 0EA": {
            "class": "models.MapDataLocation",
            "lat": 54.8307,
            "lng": -1.70439
           },
           "DH7 0EQ": {
            "class": "models.MapDataLocation",
            "lat": 54.8328,
            "lng": -1.70149
           }
          },
          "received_time": "2021-04-09 09:00"
         },
         "type": "Feature"
        },
        {
         "geometry": {
          "coordinates": [
           -0.489816,
           53.548350666666664
          ],
          "type": "Point"
         },
         "properties": {
          "description": "We need to temporarily turn the power off to undertake vegetation management in the area. The scheduled work has now been completed",
          "dno": "np",
          "estimated_restored_time": "2021-04-09 13:00",
          "incident_id": "PPC039560",
          "incident_url": "https://www.northernpowergrid.com/power-cuts",
          "postcodes_impacted": {
           "DN20 8NA": {
            "class": "models.MapDataLocation",
            "lat": 53.549,
            "lng": -0.497721
           },
           "DN20 9EY": {
            "class": "models.MapDataLocation",
            "lat": 53.548,
            "lng": -0.480793
           },
           "DN20 9HW": {
            "class": "models.MapDataLocation",
            "lat": 53.5481,
            "lng": -0.490945
           }
          },
          "received_time": "2021-04-09 08:00"
         },
         "type": "Feature"
        },
        {
         "geometry": {
          "coordinates": [
           -2.1493645,
           54.003866
          ],
          "type": "Point"
         },
         "properties": {
          "description": "We need to temporarily turn the power off to undertake vegetation management in the area. The scheduled work has now been completed",
          "dno": "np",
          "estimated_restored_time": "2021-04-09 14:30",
          "incident_id": "PPC039568",
          "incident_url": "https://www.northernpowergrid.com/power-cuts",
          "postcodes_impacted": {
           "BD23 4DT": {
            "class": "models.MapDataLocation",
            "lat": 54.0057,
            "lng": -2.15277
           },
           "BD23 4DU": {
            "class": "models.MapDataLocation",
            "lat": 54.002,
            "lng": -2.14596
           }
          },
          "received_time": "2021-04-09 08:00"
         },
         "type": "Feature"
        },
        {
         "geometry": {
          "coordinates": [
           -1.771655375,
           54.972390250000004
          ],
          "type": "Point"
         },
         "properties": {
          "description": "We need to temporarily turn the power off to carry out replacement work on our overhead power lines in the area. The scheduled work has now been completed",
          "dno": "np",
          "estimated_restored_time": "2021-04-09 12:30",
          "incident_id": "PPC039725",
          "incident_url": "https://www.northernpowergrid.com/power-cuts",
          "postcodes_impacted": {
           "NE40 3AA": {
            "class": "models.MapDataLocation",
            "lat": 54.9727,
            "lng": -1.77236
           },
           "NE40 3AJ": {
            "class": "models.MapDataLocation",
            "lat": 54.9727,
            "lng": -1.77118
           },
           "NE40 3AN": {
            "class": "models.MapDataLocation",
            "lat": 54.9736,
            "lng": -1.7705
           },
           "NE40 3AQ": {
            "class": "models.MapDataLocation",
            "lat": 54.9721,
            "lng": -1.77168
           },
           "NE40 3AR": {
            "class": "models.MapDataLocation",
            "lat": 54.9711,
            "lng": -1.77417
           },
           "NE40 3AT": {
            "class": "models.MapDataLocation",
            "lat": 54.9715,
            "lng": -1.77429
           },
           "NE40 3AW": {
            "class": "models.MapDataLocation",
            "lat": 54.9729,
            "lng": -1.77177
           },
           "NE40 3BT": {
            "class": "models.MapDataLocation",
            "lat": 54.9725,
            "lng": -1.76669
           }
          },
          "received_time": "2021-04-09 08:30"
         },
         "type": "Feature"
        },
        {
         "geometry": {
          "coordinates": [
           -1.6117693333333332,
           54.801897999999994
          ],
          "type": "Point"
         },
         "properties": {
          "description": "We need to temporarily turn the power off to connect a new customer in the area. The scheduled work has now been completed",
          "dno": "np",
          "estimated_restored_time": "2021-04-09 12:30",
          "incident_id": "PPC039749",
          "incident_url": "https://www.northernpowergrid.com/power-cuts",
          "postcodes_impacted": {
           "DH1 5RD": {
            "class": "models.MapDataLocation",
            "lat": 54.8011,
            "lng": -1.61093
           },
           "DH1 5RH": {
            "class": "models.MapDataLocation",
            "lat": 54.8027,
            "lng": -1.61063
           },
           "DH1 5RQ": {
            "class": "models.MapDataLocation",
            "lat": 54.8021,
            "lng": -1.6124
           }
          },
          "received_time": "2021-04-09 08:30"
         },
         "type": "Feature"
        },
        {
         "geometry": {
          "coordinates": [
           -1.794438375,
           53.75785825
          ],
          "type": "Point"
         },
         "properties": {
          "description": "We need to temporarily turn the power off to carry out a permanent repair in the area. The scheduled work has now been completed",
          "dno": "np",
          "estimated_restored_time": "2021-04-09 13:00",
          "incident_id": "PPC039763",
          "incident_url": "https://www.northernpowergrid.com/power-cuts",
          "postcodes_impacted": {
           "BD6 2PZ": {
            "class": "models.MapDataLocation",
            "lat": 53.756,
            "lng": -1.78804
           },
           "BD6 2QG": {
            "class": "models.MapDataLocation",
            "lat": 53.7571,
            "lng": -1.78951
           },
           "BD6 2QL": {
            "class": "models.MapDataLocation",
            "lat": 53.7571,
            "lng": -1.79096
           },
           "BD6 2RE": {
            "class": "models.MapDataLocation",
            "lat": 53.7564,
            "lng": -1.79759
           },
           "BD6 2RH": {
            "class": "models.MapDataLocation",
            "lat": 53.7563,
            "lng": -1.79824
           },
           "BD6 2RL": {
            "class": "models.MapDataLocation",
            "lat": 53.7563,
            "lng": -1.79824
           },
           "BD6 2SB": {
            "class": "models.MapDataLocation",
            "lat": 53.7549,
            "lng": -1.7892
           },
           "BD6 3EW": {
            "class": "models.MapDataLocation",
            "lat": 53.7687,
            "lng": -1.80334
           }
          },
          "received_time": "2021-04-09 09:00"
         },
         "type": "Feature"
        },
        {
         "geometry": {
          "coordinates": [
           -1.605714,
           53.962257
          ],
          "type": "Point"
         },
         "properties": {
          "description": "We need to temporarily turn the power off to connect a new customer in the area. The scheduled work has now been completed",
          "dno": "np",
          "estimated_restored_time": "2021-04-09 14:00",
          "incident_id": "PPC039771",
          "incident_url": "https://www.northernpowergrid.com/power-cuts",
          "postcodes_impacted": {
           "HG3 1QU": {
            "class": "models.MapDataLocation",
            "lat": 53.9623,
            "lng": -1.60567
           }
          },
          "received_time": "2021-04-09 08:00"
         },
         "type": "Feature"
        },
        {
         "geometry": {
          "coordinates": [
           -1.6286264,
           53.708773799999996
          ],
          "type": "Point"
         },
         "properties": {
          "description": "We need to temporarily turn the power off to carry out a permanent repair in the area. The scheduled work has now been completed",
          "dno": "np",
          "estimated_restored_time": "2021-04-09 13:00",
          "incident_id": "PPC039814",
          "incident_url": "https://www.northernpowergrid.com/power-cuts",
          "postcodes_impacted": {
           "WF17 5AY": {
            "class": "models.MapDataLocation",
            "lat": 53.709,
            "lng": -1.63158
           },
           "WF17 5PT": {
            "class": "models.MapDataLocation",
            "lat": 53.7093,
            "lng": -1.62903
           },
           "WF17 5PU": {
            "class": "models.MapDataLocation",
            "lat": 53.7093,
            "lng": -1.62802
           },
           "WF17 5QA": {
            "class": "models.MapDataLocation",
            "lat": 53.7084,
            "lng": -1.62747
           },
           "WF17 6HY": {
            "class": "models.MapDataLocation",
            "lat": 53.7079,
            "lng": -1.62697
           }
          },
          "received_time": "2021-04-09 09:00"
         },
         "type": "Feature"
        },
        {
         "geometry": {
          "coordinates": [
           -1.5727946666666668,
           53.79574866666667
          ],
          "type": "Point"
         },
         "properties": {
          "description": "We need to temporarily turn the power off to carry out a permanent repair in the area. The scheduled work has now been completed",
          "dno": "np",
          "estimated_restored_time": "2021-04-09 14:00",
          "incident_id": "PPC039816",
          "incident_url": "https://www.northernpowergrid.com/power-cuts",
          "postcodes_impacted": {
           "LS12 1YL": {
            "class": "models.MapDataLocation",
            "lat": 53.7956,
            "lng": -1.57288
           },
           "LS12 1YN": {
            "class": "models.MapDataLocation",
            "lat": 53.7961,
            "lng": -1.57252
           },
           "LS12 2UB": {
            "class": "models.MapDataLocation",
            "lat": 53.7955,
            "lng": -1.57297
           }
          },
          "received_time": "2021-04-09 10:00"
         },
         "type": "Feature"
        },
        {
         "geometry": {
          "coordinates": [
           -1.8418359999999998,
           53.851959
          ],
          "type": "Point"
         },
         "properties": {
          "description": "We need to temporarily turn the power off to carry out a permanent repair in the area. The scheduled work has now been completed",
          "dno": "np",
          "estimated_restored_time": "2021-04-09 13:00",
          "incident_id": "PPC039818",
          "incident_url": "https://www.northernpowergrid.com/power-cuts",
          "postcodes_impacted": {
           "BD16 2RD": {
            "class": "models.MapDataLocation",
            "lat": 53.8519,
            "lng": -1.84021
           },
           "BD16 2RH": {
            "class": "models.MapDataLocation",
            "lat": 53.8516,
            "lng": -1.8417
           },
           "BD16 2RJ": {
            "class": "models.MapDataLocation",
            "lat": 53.8523,
            "lng": -1.84246
           },
           "BD16 2RL": {
            "class": "models.MapDataLocation",
            "lat": 53.852,
            "lng": -1.84306
           }
          },
          "received_time": "2021-04-09 09:00"
         },
         "type": "Feature"
        },
        {
         "geometry": {
          "coordinates": [
           -1.0595995,
           53.782326000000005
          ],
          "type": "Point"
         },
         "properties": {
          "description": "We need to temporarily turn the power off to carry out a permanent repair in the area. The scheduled work has now been completed",
          "dno": "np",
          "estimated_restored_time": "2021-04-09 13:00",
          "incident_id": "PPC039821",
          "incident_url": "https://www.northernpowergrid.com/power-cuts",
          "postcodes_impacted": {
           "YO8 8BJ": {
            "class": "models.MapDataLocation",
            "lat": 53.7823,
            "lng": -1.06122
           },
           "YO8 8BL": {
            "class": "models.MapDataLocation",
            "lat": 53.7829,
            "lng": -1.06028
           },
           "YO8 8BN": {
            "class": "models.MapDataLocation",
            "lat": 53.7821,
            "lng": -1.05951
           },
           "YO8 8BW": {
            "class": "models.MapDataLocation",
            "lat": 53.7822,
            "lng": -1.05721
           }
          },
          "received_time": "2021-04-09 08:30"
         },
         "type": "Feature"
        },
        {
         "geometry": {
          "coordinates": [
           -1.619974,
           53.591376
          ],
          "type": "Point"
         },
         "properties": {
          "description": "We need to temporarily turn the power off to carry out power upgrades in the area. In Progress",
          "dno": "np",
          "estimated_restored_time": "2021-04-11 18:00",
          "incident_id": "PPC039826",
          "incident_url": "https://www.northernpowergrid.com/power-cuts",
          "postcodes_impacted": {
           "HD8 9HH": {
            "class": "models.MapDataLocation",
            "lat": 53.5916,
            "lng": -1.61966
           }
          },
          "received_time": "2021-04-09 16:00"
         },
         "type": "Feature"
        },
        {
         "geometry": {
          "coordinates": [
           -2.166383785714286,
           53.262580642857145
          ],
          "type": "Point"
         },
         "properties": {
          "description": "The power cut in your area has been caused by an unexpected incident with the underground cable that provides electricity to your property.",
          "dno": "enw",
          "estimated_restored_time": "2021-04-09 21:48",
          "incident_id": "10644987",
          "incident_url": "https://www.enwl.co.uk/power-cuts/power-cuts-power-cuts-live-power-cut-information-fault-list/fault-list",
          "postcodes_impacted": [
           "SK10 3JR",
           "SK10 3JS",
           "SK10 3JU",
           "SK10 3JW",
           "SK10 3JZ",
           "SK10 3LQ",
           "SK10 3NG",
           "SK10 3NH",
           "SK10 3NL",
           "SK10 3NN",
           "SK10 3NQ",
           "SK10 3NY",
           "SK10 3PT",
           "SK10 3PW"
          ],
          "received_time": "2021-04-09 15:44"
         },
         "type": "Feature"
        }
       ],
       "type": "FeatureCollection"
      },
      "text/plain": [
       "<IPython.core.display.JSON object>"
      ]
     },
     "execution_count": 23,
     "metadata": {
      "application/json": {
       "expanded": false,
       "root": "root"
      }
     },
     "output_type": "execute_result"
    }
   ],
   "source": [
    "outages_geojson = json.loads(gdf_outages.to_json(drop_id=True))\n",
    "\n",
    "JSON(outages_geojson)"
   ]
  },
  {
   "cell_type": "code",
   "execution_count": null,
   "id": "supreme-bottle",
   "metadata": {},
   "outputs": [],
   "source": []
  },
  {
   "cell_type": "code",
   "execution_count": 24,
   "id": "julian-institute",
   "metadata": {},
   "outputs": [],
   "source": [
    "rendered_map_js = Template(open('../templates/map_js.j2').read()).render(\n",
    "    zoom=5,\n",
    "    center=[53.96, -3.22],\n",
    "    geojson_features=str(outages_geojson).replace('None', 'null')\n",
    ")\n",
    "\n",
    "with open('../docs/map.js', 'w', encoding='utf8') as fp:\n",
    "    fp.write(rendered_map_js)"
   ]
  },
  {
   "cell_type": "code",
   "execution_count": null,
   "id": "wanted-tractor",
   "metadata": {},
   "outputs": [],
   "source": []
  },
  {
   "cell_type": "code",
   "execution_count": 25,
   "id": "provincial-warehouse",
   "metadata": {},
   "outputs": [
    {
     "data": {
      "text/html": [
       "<div>\n",
       "<style scoped>\n",
       "    .dataframe tbody tr th:only-of-type {\n",
       "        vertical-align: middle;\n",
       "    }\n",
       "\n",
       "    .dataframe tbody tr th {\n",
       "        vertical-align: top;\n",
       "    }\n",
       "\n",
       "    .dataframe thead th {\n",
       "        text-align: right;\n",
       "    }\n",
       "</style>\n",
       "<table border=\"1\" class=\"dataframe\">\n",
       "  <thead>\n",
       "    <tr style=\"text-align: right;\">\n",
       "      <th></th>\n",
       "      <th>Incident</th>\n",
       "      <th>Received Time</th>\n",
       "      <th>Estimated Restored Time</th>\n",
       "      <th>Postcodes Impacted</th>\n",
       "      <th>Operator</th>\n",
       "      <th>Description</th>\n",
       "    </tr>\n",
       "  </thead>\n",
       "  <tbody>\n",
       "    <tr>\n",
       "      <th>85</th>\n",
       "      <td>&lt;a href=\"https://www.northernpowergrid.com/pow...</td>\n",
       "      <td>2021-04-09 17:11</td>\n",
       "      <td>2021-04-09 20:15</td>\n",
       "      <td>DL14 0NB</td>\n",
       "      <td>NP</td>\n",
       "      <td>Unknown P2 Awaiting</td>\n",
       "    </tr>\n",
       "    <tr>\n",
       "      <th>84</th>\n",
       "      <td>&lt;a href=\"https://www.northernpowergrid.com/pow...</td>\n",
       "      <td>2021-04-09 17:10</td>\n",
       "      <td>2021-04-09 20:15</td>\n",
       "      <td>SR5 5NL</td>\n",
       "      <td>NP</td>\n",
       "      <td>Unknown P2 Awaiting</td>\n",
       "    </tr>\n",
       "    <tr>\n",
       "      <th>35</th>\n",
       "      <td>&lt;a href=\"https://www.ssen.co.uk/Powertrack/\" t...</td>\n",
       "      <td>2021-04-09 17:06</td>\n",
       "      <td>Unknown</td>\n",
       "      <td>RG41 1HR, RG41 1HS, RG41 1HT, RG41 1HU, RG41 1...</td>\n",
       "      <td>SSEN</td>\n",
       "      <td>We’re sorry for the loss of supply. We current...</td>\n",
       "    </tr>\n",
       "  </tbody>\n",
       "</table>\n",
       "</div>"
      ],
      "text/plain": [
       "                                             Incident     Received Time  \\\n",
       "85  <a href=\"https://www.northernpowergrid.com/pow...  2021-04-09 17:11   \n",
       "84  <a href=\"https://www.northernpowergrid.com/pow...  2021-04-09 17:10   \n",
       "35  <a href=\"https://www.ssen.co.uk/Powertrack/\" t...  2021-04-09 17:06   \n",
       "\n",
       "   Estimated Restored Time                                 Postcodes Impacted  \\\n",
       "85        2021-04-09 20:15                                           DL14 0NB   \n",
       "84        2021-04-09 20:15                                            SR5 5NL   \n",
       "35                 Unknown  RG41 1HR, RG41 1HS, RG41 1HT, RG41 1HU, RG41 1...   \n",
       "\n",
       "   Operator                                        Description  \n",
       "85       NP                                Unknown P2 Awaiting  \n",
       "84       NP                                Unknown P2 Awaiting  \n",
       "35     SSEN  We’re sorry for the loss of supply. We current...  "
      ]
     },
     "execution_count": 25,
     "metadata": {},
     "output_type": "execute_result"
    }
   ],
   "source": [
    "df_outages_clean = pd.DataFrame()\n",
    "\n",
    "df_outages_clean['Incident'] = df_outages.agg(lambda x: f\"<a href=\\\"{x['incident_url']}\\\" target=\\\"_blank\\\">{x['incident_id']}</a>\", axis=1)\n",
    "df_outages_clean['Received Time'] = pd.to_datetime(df_outages['received_time']).dt.strftime('%Y-%m-%d %H:%M').fillna('Unknown')\n",
    "df_outages_clean['Estimated Restored Time'] = pd.to_datetime(df_outages['estimated_restored_time']).dt.strftime('%Y-%m-%d %H:%M').fillna('Unknown')\n",
    "df_outages_clean['Postcodes Impacted'] = df_outages['postcodes_impacted'].str.join(', ')\n",
    "df_outages_clean['Operator'] = df_outages['dno'].str.upper()\n",
    "df_outages_clean['Description'] = df_outages['description'].str.replace('\\n', '<br>')\n",
    "\n",
    "df_outages_clean = df_outages_clean.sort_values('Received Time', ascending=False)\n",
    "\n",
    "df_outages_clean.head(3)"
   ]
  },
  {
   "cell_type": "code",
   "execution_count": null,
   "id": "caring-dietary",
   "metadata": {},
   "outputs": [],
   "source": []
  },
  {
   "cell_type": "code",
   "execution_count": 29,
   "id": "sapphire-cocktail",
   "metadata": {},
   "outputs": [],
   "source": [
    "df_outages_clean.assign(Incident=df_outages['incident_id']).to_csv('../docs/data/outages.csv', index=False)"
   ]
  },
  {
   "cell_type": "code",
   "execution_count": null,
   "id": "round-fraud",
   "metadata": {},
   "outputs": [],
   "source": []
  },
  {
   "cell_type": "code",
   "execution_count": 30,
   "id": "ambient-denver",
   "metadata": {},
   "outputs": [],
   "source": [
    "rendered_index_md = Template(open('../templates/index_md.j2').read()).render(\n",
    "    map_width='600px',\n",
    "    map_height='500px',\n",
    "    md_table=df_outages_clean.to_markdown(index=False)\n",
    ")\n",
    "\n",
    "with open('../docs/index.md', 'w', encoding='utf8') as fp:\n",
    "    fp.write(rendered_index_md)"
   ]
  },
  {
   "cell_type": "code",
   "execution_count": null,
   "id": "linear-batch",
   "metadata": {},
   "outputs": [],
   "source": []
  },
  {
   "cell_type": "code",
   "execution_count": null,
   "id": "persistent-diamond",
   "metadata": {},
   "outputs": [],
   "source": []
  },
  {
   "cell_type": "code",
   "execution_count": null,
   "id": "electric-substance",
   "metadata": {},
   "outputs": [],
   "source": []
  },
  {
   "cell_type": "code",
   "execution_count": null,
   "id": "artistic-selection",
   "metadata": {},
   "outputs": [],
   "source": []
  }
 ],
 "metadata": {
  "kernelspec": {
   "display_name": "outage",
   "language": "python",
   "name": "outage"
  },
  "language_info": {
   "codemirror_mode": {
    "name": "ipython",
    "version": 3
   },
   "file_extension": ".py",
   "mimetype": "text/x-python",
   "name": "python",
   "nbconvert_exporter": "python",
   "pygments_lexer": "ipython3",
   "version": "3.7.10"
  }
 },
 "nbformat": 4,
 "nbformat_minor": 5
}

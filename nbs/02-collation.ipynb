{
 "cells": [
  {
   "cell_type": "code",
   "execution_count": 1,
   "id": "latest-dayton",
   "metadata": {},
   "outputs": [],
   "source": [
    "# default_exp collation"
   ]
  },
  {
   "cell_type": "markdown",
   "id": "abstract-cruise",
   "metadata": {},
   "source": [
    "# Outage Data Collation\n",
    "\n",
    "<br>\n",
    "\n",
    "### Imports"
   ]
  },
  {
   "cell_type": "code",
   "execution_count": 2,
   "id": "given-motivation",
   "metadata": {},
   "outputs": [],
   "source": [
    "import json\n",
    "import pandas as pd\n",
    "\n",
    "from outage import retrieval\n",
    "\n",
    "from ipypb import track\n",
    "from IPython.display import JSON"
   ]
  },
  {
   "cell_type": "code",
   "execution_count": null,
   "id": "average-runner",
   "metadata": {},
   "outputs": [],
   "source": []
  },
  {
   "cell_type": "code",
   "execution_count": 3,
   "id": "greater-opportunity",
   "metadata": {},
   "outputs": [
    {
     "data": {
      "text/html": [
       "<div><span class=\"Text-label\" style=\"display:inline-block; overflow:hidden; white-space:nowrap; text-overflow:ellipsis; min-width:15ex; max-width:15ex; vertical-align:middle; text-align:right\">DNOs</span>\n",
       "<progress style=\"width:45ex\" max=\"3\" value=\"3\" class=\"Progress-main\"/></progress>\n",
       "<span class=\"Progress-label\"><strong>100%</strong></span>\n",
       "<span class=\"Iteration-label\">3/3</span>\n",
       "<span class=\"Time-label\">[00:37<00:02, 12.33s/it]</span></div>"
      ],
      "text/plain": [
       "\u001b[A\u001b[2K\r",
       "           DNOs [█████████████████████████████████████████████] 3/3 [00:37<00:02, 12.33s/it]\u001b[B"
      ]
     },
     "metadata": {},
     "output_type": "display_data"
    },
    {
     "data": {
      "text/html": [
       "<div><span class=\"Text-label\" style=\"display:inline-block; overflow:hidden; white-space:nowrap; text-overflow:ellipsis; min-width:15ex; max-width:15ex; vertical-align:middle; text-align:right\">Multiple Ids</span>\n",
       "<progress style=\"width:45ex\" max=\"16\" value=\"16\" class=\"Progress-main\"/></progress>\n",
       "<span class=\"Progress-label\"><strong>100%</strong></span>\n",
       "<span class=\"Iteration-label\">16/16</span>\n",
       "<span class=\"Time-label\">[00:04<00:00, 0.25s/it]</span></div>"
      ],
      "text/plain": [
       "\u001b[A\u001b[2K\r",
       "   Multiple Ids [█████████████████████████████████████████████] 16/16 [00:04<00:00, 0.25s/it]"
      ]
     },
     "metadata": {},
     "output_type": "display_data"
    },
    {
     "data": {
      "text/html": [
       "<div><span class=\"Text-label\" style=\"display:inline-block; overflow:hidden; white-space:nowrap; text-overflow:ellipsis; min-width:15ex; max-width:15ex; vertical-align:middle; text-align:right\">Details</span>\n",
       "<progress style=\"width:45ex\" max=\"122\" value=\"122\" class=\"Progress-main\"/></progress>\n",
       "<span class=\"Progress-label\"><strong>100%</strong></span>\n",
       "<span class=\"Iteration-label\">122/122</span>\n",
       "<span class=\"Time-label\">[00:30<00:00, 0.25s/it]</span></div>"
      ],
      "text/plain": [
       "\u001b[A\u001b[2K\r",
       "        Details [█████████████████████████████████████████████] 122/122 [00:30<00:00, 0.25s/it]"
      ]
     },
     "metadata": {},
     "output_type": "display_data"
    },
    {
     "name": "stderr",
     "output_type": "stream",
     "text": [
      "C:\\Users\\Ayrto\\anaconda3\\envs\\outage\\lib\\site-packages\\urllib3\\connectionpool.py:1020: InsecureRequestWarning: Unverified HTTPS request is being made to host 'www.ssen.co.uk'. Adding certificate verification is strongly advised. See: https://urllib3.readthedocs.io/en/latest/advanced-usage.html#ssl-warnings\n",
      "  InsecureRequestWarning,\n"
     ]
    },
    {
     "data": {
      "text/html": [
       "<div><span class=\"Text-label\" style=\"display:inline-block; overflow:hidden; white-space:nowrap; text-overflow:ellipsis; min-width:0; max-width:15ex; vertical-align:middle; text-align:right\"></span>\n",
       "<progress style=\"width:60ex\" max=\"26\" value=\"26\" class=\"Progress-main\"/></progress>\n",
       "<span class=\"Progress-label\"><strong>100%</strong></span>\n",
       "<span class=\"Iteration-label\">26/26</span>\n",
       "<span class=\"Time-label\">[00:00<00:00, 0.00s/it]</span></div>"
      ],
      "text/plain": [
       "\u001b[A\u001b[2K\r",
       " [████████████████████████████████████████████████████████████] 26/26 [00:00<00:00, 0.00s/it]"
      ]
     },
     "metadata": {},
     "output_type": "display_data"
    },
    {
     "data": {
      "application/json": [
       {
        "ssen": {
         "197773": {
          "description": "We're sorry for the loss of supply. The reason you're currently without power is a planned outage in the areas listed. We have turned off your electricity supply to allow us to safely carry out essential work to our electrical equipment. By doing this, it'll help us to improve the reliability of our service to you for the future. If you have any questions or require more information, please call us on 105 or send us a message on <a href=\"http://m.me/ssencommunity/\">Facebook</a> or Twitter (<a href=\"https://twitter.com/ssencommunity\">@ssencommunity</a>) with reference  '197773'. You will have received a letter from us confirming your power will be interrupted with specific information relating to your property. If you did not receive this letter, you can assume your power will not be interrupted.",
          "estimated_arrival_time": null,
          "estimated_restored_time": "2021-03-24 16:00:00",
          "postcodes_impacted": [
           "GU24 8SJ",
           "GU25 4NA",
           "GU25 4ND"
          ],
          "received_time": "2021-03-24 08:00:00"
         },
         "197795": {
          "description": "We're sorry for the loss of supply. The reason you're currently without power is a planned outage in the areas listed. We have turned off your electricity supply to allow us to safely carry out essential work to our electrical equipment. By doing this, it'll help us to improve the reliability of our service to you for the future. If you have any questions or require more information, please call us on 105 or send us a message on <a href=\"http://m.me/ssencommunity/\">Facebook</a> or Twitter (<a href=\"https://twitter.com/ssencommunity\">@ssencommunity</a>) with reference  '197795'. You will have received a letter from us confirming your power will be interrupted with specific information relating to your property. If you did not receive this letter, you can assume your power will not be interrupted.",
          "estimated_arrival_time": null,
          "estimated_restored_time": "2021-03-24 16:00:00",
          "postcodes_impacted": [
           "GL54 2HQ",
           "GL54 2NB",
           "GL54 2ND",
           "GL54 2NE"
          ],
          "received_time": "2021-03-24 08:30:00"
         },
         "197796": {
          "description": "We're sorry for the loss of supply. The reason you're currently without power is a planned outage in the areas listed. We have turned off your electricity supply to allow us to safely carry out essential work to our electrical equipment. By doing this, it'll help us to improve the reliability of our service to you for the future. If you have any questions or require more information, please call us on 105 or send us a message on <a href=\"http://m.me/ssencommunity/\">Facebook</a> or Twitter (<a href=\"https://twitter.com/ssencommunity\">@ssencommunity</a>) with reference  '197796'. You will have received a letter from us confirming your power will be interrupted with specific information relating to your property. If you did not receive this letter, you can assume your power will not be interrupted.",
          "estimated_arrival_time": null,
          "estimated_restored_time": "2021-03-25 11:00:00",
          "postcodes_impacted": [
           "GL54 2LN",
           "GL54 2NA",
           "GL54 2NB",
           "GL54 2ND"
          ],
          "received_time": "2021-03-23 10:00:00"
         },
         "197808": {
          "description": "We're sorry for the loss of supply. The reason you're currently without power is a planned outage in the areas listed. We have turned off your electricity supply to allow us to safely carry out essential work to our electrical equipment. By doing this, it'll help us to improve the reliability of our service to you for the future. If you have any questions or require more information, please call us on 105 or send us a message on <a href=\"http://m.me/ssencommunity/\">Facebook</a> or Twitter (<a href=\"https://twitter.com/ssencommunity\">@ssencommunity</a>) with reference  '197808'. You will have received a letter from us confirming your power will be interrupted with specific information relating to your property. If you did not receive this letter, you can assume your power will not be interrupted.",
          "estimated_arrival_time": null,
          "estimated_restored_time": "2021-03-24 15:00:00",
          "postcodes_impacted": [
           "AB13 0HS",
           "AB13 0HX",
           "AB15 9EB",
           "AB15 9EJ",
           "AB15 9EL"
          ],
          "received_time": "2021-03-24 09:00:00"
         },
         "197849": {
          "description": "We're sorry for the loss of supply. The reason you're currently without power is a planned outage in the areas listed. We have turned off your electricity supply to allow us to safely carry out essential work to our electrical equipment. By doing this, it'll help us to improve the reliability of our service to you for the future. If you have any questions or require more information, please call us on 105 or send us a message on <a href=\"http://m.me/ssencommunity/\">Facebook</a> or Twitter (<a href=\"https://twitter.com/ssencommunity\">@ssencommunity</a>) with reference  '197849'. You will have received a letter from us confirming your power will be interrupted with specific information relating to your property. If you did not receive this letter, you can assume your power will not be interrupted.",
          "estimated_arrival_time": null,
          "estimated_restored_time": "2021-03-24 15:00:00",
          "postcodes_impacted": [
           "AB45 2XT",
           "AB45 2XX"
          ],
          "received_time": "2021-03-24 09:00:00"
         },
         "197872": {
          "description": "We're sorry for the loss of supply. The reason you're currently without power is a planned outage in the areas listed. We have turned off your electricity supply to allow us to safely carry out essential work to our electrical equipment. By doing this, it'll help us to improve the reliability of our service to you for the future. If you have any questions or require more information, please call us on 105 or send us a message on <a href=\"http://m.me/ssencommunity/\">Facebook</a> or Twitter (<a href=\"https://twitter.com/ssencommunity\">@ssencommunity</a>) with reference  '197872'. You will have received a letter from us confirming your power will be interrupted with specific information relating to your property. If you did not receive this letter, you can assume your power will not be interrupted.",
          "estimated_arrival_time": null,
          "estimated_restored_time": "2021-03-24 14:30:00",
          "postcodes_impacted": [
           "PA37 1QX",
           "PA37 1QZ",
           "PA37 1RA",
           "PA37 1RD",
           "PA37 1RE",
           "PA37 1RG",
           "PA37 1RX",
           "PA37 1TD"
          ],
          "received_time": "2021-03-24 09:30:00"
         },
         "197972": {
          "description": "We're sorry for the loss of supply. The reason you're currently without power is a planned outage in the areas listed. We have turned off your electricity supply to allow us to safely carry out essential work to our electrical equipment. By doing this, it'll help us to improve the reliability of our service to you for the future. If you have any questions or require more information, please call us on 105 or send us a message on <a href=\"http://m.me/ssencommunity/\">Facebook</a> or Twitter (<a href=\"https://twitter.com/ssencommunity\">@ssencommunity</a>) with reference  '197972'. You will have received a letter from us confirming your power will be interrupted with specific information relating to your property. If you did not receive this letter, you can assume your power will not be interrupted.",
          "estimated_arrival_time": null,
          "estimated_restored_time": "2021-03-24 16:00:00",
          "postcodes_impacted": [
           "SO32 1DR",
           "SO32 2BH",
           "SO32 2LD",
           "SO32 2LE",
           "SO32 2LN",
           "SO32 2LQ",
           "SO32 2LR"
          ],
          "received_time": "2021-03-24 09:00:00"
         },
         "198059": {
          "description": "We're sorry for the loss of supply. The reason you're currently without power is a planned outage in the areas listed. We have turned off your electricity supply to allow us to safely carry out essential work to our electrical equipment. By doing this, it'll help us to improve the reliability of our service to you for the future. If you have any questions or require more information, please call us on 105 or send us a message on <a href=\"http://m.me/ssencommunity/\">Facebook</a> or Twitter (<a href=\"https://twitter.com/ssencommunity\">@ssencommunity</a>) with reference  '198059'. You will have received a letter from us confirming your power will be interrupted with specific information relating to your property. If you did not receive this letter, you can assume your power will not be interrupted.",
          "estimated_arrival_time": null,
          "estimated_restored_time": "2021-03-24 17:00:00",
          "postcodes_impacted": [
           "SO24 0BT",
           "SO24 0BU",
           "SO24 0DS",
           "SO24 0DU"
          ],
          "received_time": "2021-03-24 08:30:00"
         },
         "198266": {
          "description": "We're sorry for the loss of supply. The reason you're currently without power is a planned outage in the areas listed. We have turned off your electricity supply to allow us to safely carry out essential work to our electrical equipment. By doing this, it'll help us to improve the reliability of our service to you for the future. If you have any questions or require more information, please call us on 105 or send us a message on <a href=\"http://m.me/ssencommunity/\">Facebook</a> or Twitter (<a href=\"https://twitter.com/ssencommunity\">@ssencommunity</a>) with reference  '198266'. You will have received a letter from us confirming your power will be interrupted with specific information relating to your property. If you did not receive this letter, you can assume your power will not be interrupted.",
          "estimated_arrival_time": null,
          "estimated_restored_time": "2021-03-24 15:00:00",
          "postcodes_impacted": [
           "KW1 4HG",
           "KW12 6XJ",
           "KW12 6YW",
           "KW14 7QZ"
          ],
          "received_time": "2021-03-24 09:00:00"
         },
         "198388": {
          "description": "We're sorry for the loss of supply. The reason you're currently without power is a planned outage in the areas listed. We have turned off your electricity supply to allow us to safely carry out essential work to our electrical equipment. By doing this, it'll help us to improve the reliability of our service to you for the future. If you have any questions or require more information, please call us on 105 or send us a message on <a href=\"http://m.me/ssencommunity/\">Facebook</a> or Twitter (<a href=\"https://twitter.com/ssencommunity\">@ssencommunity</a>) with reference  '198388'. You will have received a letter from us confirming your power will be interrupted with specific information relating to your property. If you did not receive this letter, you can assume your power will not be interrupted.",
          "estimated_arrival_time": null,
          "estimated_restored_time": "2021-03-24 16:00:00",
          "postcodes_impacted": [
           "RG25 2EF",
           "RG25 2EH",
           "RG25 2ET",
           "RG25 2EZ"
          ],
          "received_time": "2021-03-24 09:00:00"
         },
         "198691": {
          "description": "We're sorry for the loss of supply. The reason you're currently without power is a planned outage in the areas listed. We have turned off your electricity supply to allow us to safely carry out essential work to our electrical equipment. By doing this, it'll help us to improve the reliability of our service to you for the future. If you have any questions or require more information, please call us on 105 or send us a message on <a href=\"http://m.me/ssencommunity/\">Facebook</a> or Twitter (<a href=\"https://twitter.com/ssencommunity\">@ssencommunity</a>) with reference  '198691'. You will have received a letter from us confirming your power will be interrupted with specific information relating to your property. If you did not receive this letter, you can assume your power will not be interrupted.",
          "estimated_arrival_time": null,
          "estimated_restored_time": "2021-03-24 14:30:00",
          "postcodes_impacted": [
           "KW17 2AA"
          ],
          "received_time": "2021-03-24 13:30:00"
         },
         "198741": {
          "description": "We're sorry for the loss of supply. The reason you're currently without power is a planned outage in the areas listed. We have turned off your electricity supply to allow us to safely carry out essential work to our electrical equipment. By doing this, it'll help us to improve the reliability of our service to you for the future. If you have any questions or require more information, please call us on 105 or send us a message on <a href=\"http://m.me/ssencommunity/\">Facebook</a> or Twitter (<a href=\"https://twitter.com/ssencommunity\">@ssencommunity</a>) with reference  '198741'. You will have received a letter from us confirming your power will be interrupted with specific information relating to your property. If you did not receive this letter, you can assume your power will not be interrupted.",
          "estimated_arrival_time": null,
          "estimated_restored_time": "2021-03-24 15:30:00",
          "postcodes_impacted": [
           "IV30 8RS"
          ],
          "received_time": "2021-03-24 09:00:00"
         },
         "HA5277": {
          "description": "We’re sorry for the loss of supply. We currently have a fault affecting the areas listed. Our engineers are on site working hard to get the power back on as quickly as they can. If you need more information, please call us on 105 or send us a message on <a href=\"http://m.me/ssencommunity/\">Facebook</a> or Twitter (<a href=\"https://twitter.com/ssencommunity\">@ssencommunity</a>) and quote reference 'HA5277'",
          "estimated_arrival_time": null,
          "estimated_restored_time": "2021-03-24 15:00:00",
          "postcodes_impacted": [
           "GU25 4AZ",
           "GU25 4BJ",
           "GU25 4BQ",
           "GU25 4DQ",
           "GU25 4DT",
           "GU25 4DY",
           "GU25 4SR",
           "GU25 4SW",
           "KT16 0EF"
          ],
          "received_time": "2021-03-24 10:27:00"
         },
         "HA6130": {
          "description": "We’re sorry for the loss of supply. We currently have a fault affecting the areas listed. Our engineers are on site working hard to get the power back on as quickly as they can. If you need more information, please call us on 105 or send us a message on <a href=\"http://m.me/ssencommunity/\">Facebook</a> or Twitter (<a href=\"https://twitter.com/ssencommunity\">@ssencommunity</a>) and quote reference 'HA6130'",
          "estimated_arrival_time": null,
          "estimated_restored_time": "2021-03-24 15:10:00",
          "postcodes_impacted": [
           "UB7 0DE",
           "UB7 0DH",
           "UB7 0DJ",
           "UB7 0DL",
           "UB7 0DQ",
           "UB7 0EP"
          ],
          "received_time": "2021-03-24 10:20:00"
         },
         "HA6428": {
          "description": "We’re sorry for the loss of supply. We currently have a fault affecting the areas listed. Our engineers are on site working hard to get the power back on as quickly as they can. If you need more information, please call us on 105 or send us a message on <a href=\"http://m.me/ssencommunity/\">Facebook</a> or Twitter (<a href=\"https://twitter.com/ssencommunity\">@ssencommunity</a>) and quote reference 'HA6428'",
          "estimated_arrival_time": null,
          "estimated_restored_time": "2021-03-24 15:30:00",
          "postcodes_impacted": [
           "AB51 5AE",
           "AB51 5AQ",
           "AB51 5BR",
           "AB51 5BS",
           "AB51 5DE",
           "AB51 5DH",
           "AB52 6US"
          ],
          "received_time": "2021-03-24 08:46:00"
         },
         "HA6528": {
          "description": "We’re sorry for the loss of supply. We currently have a fault affecting the areas listed. Our engineers are on site working hard to get the power back on as quickly as they can. If you need more information, please call us on 105 or send us a message on <a href=\"http://m.me/ssencommunity/\">Facebook</a> or Twitter (<a href=\"https://twitter.com/ssencommunity\">@ssencommunity</a>) and quote reference 'HA6528'",
          "estimated_arrival_time": null,
          "estimated_restored_time": "2021-03-24 16:00:00",
          "postcodes_impacted": [
           "HS7 5AD",
           "HS7 5LA",
           "HS7 5LS",
           "HS7 5LW",
           "HS7 5NG"
          ],
          "received_time": "2021-03-24 10:53:00"
         },
         "HA6542": {
          "description": "We’re sorry for the loss of supply. We currently have a fault affecting the areas listed. Our engineers are on site working hard to get the power back on as quickly as they can. If you need more information, please call us on 105 or send us a message on <a href=\"http://m.me/ssencommunity/\">Facebook</a> or Twitter (<a href=\"https://twitter.com/ssencommunity\">@ssencommunity</a>) and quote reference 'HA6542'",
          "estimated_arrival_time": null,
          "estimated_restored_time": "2021-03-24 16:50:00",
          "postcodes_impacted": [
           "RG20 7BB",
           "RG20 7BD",
           "RG20 7BJ",
           "RG20 7BL",
           "RG20 7BN",
           "RG20 7BP",
           "RG20 7BU",
           "RG20 7BW",
           "RG20 7DH"
          ],
          "received_time": "2021-03-24 14:00:00"
         },
         "HA6589": {
          "description": "We’re sorry for the loss of supply. We currently have a fault affecting the areas listed. Our engineers are on site working hard to get the power back on as quickly as they can. If you need more information, please call us on 105 or send us a message on <a href=\"http://m.me/ssencommunity/\">Facebook</a> or Twitter (<a href=\"https://twitter.com/ssencommunity\">@ssencommunity</a>) and quote reference 'HA6589'",
          "estimated_arrival_time": null,
          "estimated_restored_time": "2021-03-24 17:00:00",
          "postcodes_impacted": [
           "OX44 9DD",
           "OX44 9JL"
          ],
          "received_time": "2021-03-24 09:34:00"
         },
         "HA6594": {
          "description": "We’re sorry for the loss of supply. We currently have a fault affecting the areas listed. Our engineers are on site working hard to get the power back on as quickly as they can. If you need more information, please call us on 105 or send us a message on <a href=\"http://m.me/ssencommunity/\">Facebook</a> or Twitter (<a href=\"https://twitter.com/ssencommunity\">@ssencommunity</a>) and quote reference 'HA6594'",
          "estimated_arrival_time": "2021-03-24 15:15:00",
          "estimated_restored_time": "2021-03-24 15:10:00",
          "postcodes_impacted": [
           "SO45 5AQ",
           "SO45 5TA",
           "SO45 5TB"
          ],
          "received_time": "2021-03-24 11:54:00"
         },
         "HA6614": {
          "description": "We’re sorry for the loss of supply. We currently have a fault affecting the areas listed. Our engineers are on site working hard to get the power back on as quickly as they can. If you need more information, please call us on 105 or send us a message on <a href=\"http://m.me/ssencommunity/\">Facebook</a> or Twitter (<a href=\"https://twitter.com/ssencommunity\">@ssencommunity</a>) and quote reference 'HA6614'",
          "estimated_arrival_time": null,
          "estimated_restored_time": "2021-03-24 16:00:00",
          "postcodes_impacted": [
           "AB21 0RS",
           "AB41 6RX",
           "AB41 6RY",
           "AB41 6SA",
           "AB41 6SL",
           "AB41 6SN",
           "AB41 6SP"
          ],
          "received_time": "2021-03-24 12:00:00"
         },
         "HA6629": {
          "description": "We’re sorry for the loss of supply. We currently have a fault affecting the areas listed. Our engineers are on site working hard to get the power back on as quickly as they can. If you need more information, please call us on 105 or send us a message on <a href=\"http://m.me/ssencommunity/\">Facebook</a> or Twitter (<a href=\"https://twitter.com/ssencommunity\">@ssencommunity</a>) and quote reference 'HA6629'",
          "estimated_arrival_time": "2021-03-24 13:15:00",
          "estimated_restored_time": "2021-03-24 16:00:00",
          "postcodes_impacted": [
           "RG21 3EG",
           "RG21 3EL"
          ],
          "received_time": "2021-03-24 12:12:00"
         },
         "HA6647": {
          "description": "We’re sorry for the loss of supply. We currently have a fault affecting the areas listed. Our engineers are on site working hard to get the power back on as quickly as they can. If you need more information, please call us on 105 or send us a message on <a href=\"http://m.me/ssencommunity/\">Facebook</a> or Twitter (<a href=\"https://twitter.com/ssencommunity\">@ssencommunity</a>) and quote reference 'HA6647'",
          "estimated_arrival_time": null,
          "estimated_restored_time": "2021-03-24 16:00:00",
          "postcodes_impacted": [
           "SO24 0QB",
           "SO24 0QD",
           "SO24 0QE",
           "SO24 0QF",
           "SO24 0QG"
          ],
          "received_time": "2021-03-24 12:26:00"
         },
         "HA6699": {
          "description": "We’re sorry for the loss of supply. We currently have a fault affecting the areas listed. Our engineers are on site working hard to get the power back on as quickly as they can. If you need more information, please call us on 105 or send us a message on <a href=\"http://m.me/ssencommunity/\">Facebook</a> or Twitter (<a href=\"https://twitter.com/ssencommunity\">@ssencommunity</a>) and quote reference 'HA6699'",
          "estimated_arrival_time": "2021-03-24 15:15:00",
          "estimated_restored_time": "2021-03-24 16:30:00",
          "postcodes_impacted": [
           "AB33 8AE",
           "AB33 8AH",
           "AB33 8QB",
           "AB33 8QD"
          ],
          "received_time": "2021-03-24 13:26:00"
         },
         "HA6700": {
          "description": "We’re sorry for the loss of supply. We currently have a fault affecting the areas listed. Our engineers are on site working hard to get the power back on as quickly as they can. If you need more information, please call us on 105 or send us a message on <a href=\"http://m.me/ssencommunity/\">Facebook</a> or Twitter (<a href=\"https://twitter.com/ssencommunity\">@ssencommunity</a>) and quote reference 'HA6700'",
          "estimated_arrival_time": null,
          "estimated_restored_time": "2021-03-24 17:00:00",
          "postcodes_impacted": [
           "OX12 7HN",
           "OX2 8HA",
           "OX2 8HD",
           "OX2 8HE",
           "OX5 2PU",
           "OX5 2SB",
           "OX5 2SD",
           "OX5 2SG",
           "OX5 2SU",
           "OX5 2SX",
           "OX5 2SY",
           "OX5 2SZ",
           "OX5 2TA",
           "OX5 2TB",
           "OX5 2TD",
           "OX5 2TF"
          ],
          "received_time": "2021-03-24 11:30:00"
         },
         "HA6705": {
          "description": "We’re sorry for the loss of supply. We currently have a fault affecting the areas listed. Our engineers are on site working hard to get the power back on as quickly as they can. If you need more information, please call us on 105 or send us a message on <a href=\"http://m.me/ssencommunity/\">Facebook</a> or Twitter (<a href=\"https://twitter.com/ssencommunity\">@ssencommunity</a>) and quote reference 'HA6705'",
          "estimated_arrival_time": null,
          "estimated_restored_time": "2021-03-24 16:30:00",
          "postcodes_impacted": [
           "AB39 3BP",
           "AB39 3NP",
           "AB39 3TJ",
           "AB39 3TL",
           "AB39 3TN",
           "AB39 3TP",
           "AB39 3TQ",
           "AB39 3TR",
           "AB39 3TU",
           "AB39 3TX",
           "AB39 3TY"
          ],
          "received_time": "2021-03-24 13:32:00"
         },
         "HA6723": {
          "description": "We’re sorry for the loss of supply. We currently have a fault affecting the areas listed. Our engineers are on site working hard to get the power back on as quickly as they can. If you need more information, please call us on 105 or send us a message on <a href=\"http://m.me/ssencommunity/\">Facebook</a> or Twitter (<a href=\"https://twitter.com/ssencommunity\">@ssencommunity</a>) and quote reference 'HA6723'",
          "estimated_arrival_time": null,
          "estimated_restored_time": "2021-03-24 16:00:00",
          "postcodes_impacted": [
           "SO32 3LL"
          ],
          "received_time": "2021-03-24 10:22:00"
         }
        },
        "ukpn": {
         "INCD-175468-Z": {
          "description": "We were investigating a high voltage overhead electricity line fault which caused a power cut in the local area.",
          "estimated_restored_time": "2020-08-13T00:00:00",
          "incident_active": false,
          "planned_time": null,
          "postcodes_impacted": [
           "HP12SD",
           "HP12SE",
           "HP12SF",
           "HP12SG",
           "HP12SQ",
           "HP13BN",
           "HP13DA",
           "HP13DB",
           "HP13DD",
           "HP13DE",
           "HP13DG",
           "HP13DQ",
           "HP41NW",
           "HP41PP",
           "HP42FW",
           "HP42NF",
           "HP42NL",
           "HP42NS",
           "HP42QF",
           "HP42RF",
           "HP42RS",
           "HP42RT",
           "HP42RX",
           "HP42RY",
           "HP42SN"
          ],
          "received_time": "2020-08-12T16:09:48",
          "restored_time": "2021-03-24T07:04:09.497"
         },
         "INCD-221124-Z": {
          "description": "We&#39;re carrying out planned work in your area. For our engineers to carry it out safely they need to turn the power off. We&#39;re doing this work as it&#39;s essential to provide reliable electricity supplies to your area. We&#39;re sorry for any inconvenience caused and thank you for your patience.",
          "estimated_restored_time": "2021-03-24T15:00:00",
          "incident_active": false,
          "planned_time": "2021-03-24T09:00:00",
          "postcodes_impacted": [
           "SS129LA"
          ],
          "received_time": "2021-03-24T09:01:00",
          "restored_time": null
         },
         "INCD-221975-Z": {
          "description": "An underground electricity cable faulted on our high voltage network, causing an area wide power cut.",
          "estimated_restored_time": "2021-03-01T08:00:00",
          "incident_active": false,
          "planned_time": null,
          "postcodes_impacted": [
           "HP55HX",
           "HP55JG",
           "HP65AD",
           "HP65AE",
           "HP65AF",
           "HP65AG",
           "HP65AH",
           "HP65AL",
           "HP65AN",
           "HP65AQ",
           "HP65AR",
           "HP65AU",
           "HP65AW",
           "HP65BD",
           "HP65BT",
           "HP65BW",
           "HP65BX",
           "HP65DF",
           "HP65DP",
           "HP65DR",
           "HP65DU",
           "HP65EE",
           "HP65EF",
           "HP65EG",
           "HP65EJ",
           "HP65EL",
           "HP65EN",
           "HP65EQ",
           "HP65ES",
           "HP65EU",
           "HP65EW",
           "HP65EX",
           "HP65FE",
           "HP65FG",
           "HP65HG",
           "HP65HH",
           "HP65HL",
           "HP65HN",
           "HP65HP",
           "HP65HQ",
           "HP65HS",
           "HP65HW",
           "HP65HX",
           "HP65HY",
           "HP65HZ",
           "HP65JE",
           "HP65JG",
           "HP65JH",
           "HP65JJ",
           "HP65JL",
           "HP65JN",
           "HP65JP",
           "HP65JR",
           "HP65JS",
           "HP65JU",
           "HP65JW",
           "HP65LU",
           "HP65LX",
           "HP65NE",
           "HP65TA",
           "HP65UL",
           "HP66AA",
           "HP66AD",
           "HP66AF",
           "HP66AG",
           "HP66AJ",
           "HP66AL",
           "HP66AN",
           "HP66AQ",
           "HP66AR",
           "HP66AS",
           "HP66BB",
           "HP66BD",
           "HP66BE",
           "HP66BL",
           "HP66BW",
           "HP66DJ",
           "HP66DL",
           "HP66DP",
           "HP66DR",
           "HP66DS",
           "HP66DW",
           "HP66DZ",
           "HP66ED",
           "HP66EE",
           "HP66EF",
           "HP66EH",
           "HP66EJ",
           "HP66EP",
           "HP66EQ",
           "HP66ER",
           "HP66ES",
           "HP66FD",
           "HP66FW",
           "HP66FY",
           "HP66HB",
           "HP66HE",
           "HP66HF",
           "HP66HG",
           "HP66HH",
           "HP66HJ",
           "HP66HL",
           "HP66HQ",
           "HP66HW",
           "HP66LA",
           "HP66LB",
           "HP66LE",
           "HP66NW",
           "HP66NZ",
           "UK"
          ],
          "received_time": "2021-03-01T05:00:56",
          "restored_time": "2021-03-24T10:20:50.21"
         },
         "INCD-221991-Z": {
          "description": "We're carrying out planned work in your area. For our engineers to carry it out safely they need to turn the power off. We're doing this work as it's essential to provide reliable electricity supplies to your area. We're sorry for any inconvenience caused and thank you for your patience.",
          "estimated_restored_time": "2021-03-24T15:00:00",
          "incident_active": false,
          "planned_time": "2021-03-24T09:00:00",
          "postcodes_impacted": [
           "CM164DH",
           "CM165HH",
           "CM165HS",
           "CM166PL",
           "CM166TN",
           "EN93TH",
           "UK"
          ],
          "received_time": "2021-03-24T09:01:00",
          "restored_time": null
         },
         "INCD-222006-Z": {
          "description": "We're carrying out planned work in your area. For our engineers to carry it out safely they need to turn the power off. We're doing this work as it's essential to provide reliable electricity supplies to your area. We're sorry for any inconvenience caused and thank you for your patience.",
          "estimated_restored_time": "2021-03-24T10:00:00",
          "incident_active": false,
          "planned_time": "2021-03-24T09:00:00",
          "postcodes_impacted": [
           "CO92PB",
           "CO92PD",
           "CO92QA",
           "CO92QB",
           "CO92QD",
           "CO92SQ"
          ],
          "received_time": "2021-03-24T09:00:00",
          "restored_time": "2021-03-24T10:16:18.197"
         },
         "INCD-222446-Z": {
          "description": "Due to a faulty piece of network equipment we had to turn off your power.",
          "estimated_restored_time": "2021-03-03T14:00:00",
          "incident_active": false,
          "planned_time": null,
          "postcodes_impacted": [
           "NR231FA",
           "SG11HS",
           "SG11JY",
           "SG11LJ",
           "SG11LR",
           "SG11LS",
           "SG11LT",
           "SG11LU",
           "SG11LX",
           "SG11LY",
           "SG11NA",
           "SG11NB",
           "SG11ND",
           "SG11NL",
           "SG11NN",
           "SG11NP",
           "SG11NR",
           "SG11NS",
           "SG11NU",
           "SG11PE",
           "SG11PG",
           "SG11PH",
           "SG11PJ",
           "SG11PL",
           "SG11PQ",
           "SG11PR",
           "SG11PZ",
           "SG11QA",
           "SG11QS",
           "SG11QT",
           "SG11QU",
           "SG11QX",
           "SG11QY",
           "SG11QZ",
           "SG11RA",
           "SG11RB",
           "SG11RD",
           "SG11RE",
           "SG11RH",
           "SG11RJ",
           "SG11RR",
           "SG11UE",
           "SG11UG",
           "SG11UH",
           "SG11UL",
           "SG11UU",
           "SG11WZ",
           "SG15AA",
           "SG15AB",
           "SG15AD",
           "SG15AE",
           "SG15AF",
           "SG15AG",
           "SG15AH",
           "SG15AJ",
           "SG15AL",
           "SG15AN",
           "SG15AP",
           "SG15AQ",
           "SG15AR",
           "SG15AS",
           "SG15AW",
           "SG15BS",
           "SG15BU",
           "SG15DA",
           "SG15DB",
           "SG15DD",
           "SG15DE",
           "SG15DF",
           "SG15DG",
           "SG15DH",
           "SG15DJ",
           "SG15DL",
           "SG15DN",
           "SG15DP",
           "SG15DQ",
           "SG15DR",
           "SG15DS",
           "SG15DT",
           "SG15DW",
           "SG15ES",
           "SG15ET",
           "SG15EU",
           "SG15EX",
           "SG15HA",
           "SG15HB",
           "SG15HD",
           "SG15HE",
           "SG15HF",
           "SG15HH",
           "SG15HJ",
           "SG15HN",
           "SG15HR",
           "SG15QH",
           "SG15QU",
           "SG20AB",
           "SG20AD",
           "SG20AE",
           "SG20AG",
           "SG20AH",
           "SG20AJ",
           "SG20AL",
           "SG20AN",
           "SG20AP",
           "SG20AQ",
           "SG20AR",
           "SG20AS",
           "SG20AT",
           "SG20AU",
           "SG20AW",
           "SG20AZ",
           "SG20BA",
           "SG20BB",
           "SG20BD",
           "SG20BE",
           "SG20BG",
           "SG20BH",
           "SG20BJ",
           "SG20BN",
           "SG20BP",
           "SG20BU",
           "SG20BX",
           "SG20BY",
           "SG20BZ",
           "SG20DA",
           "SG20DB",
           "SG20DD",
           "SG20DE",
           "SG20DF",
           "SG20DG",
           "SG20LT",
           "SG20LU",
           "SG20LX",
           "SG20PZ",
           "SG28BL"
          ],
          "received_time": "2021-03-03T11:51:49",
          "restored_time": "2021-03-24T08:48:22.553"
         },
         "INCD-223379-Z": {
          "description": "A fault occurred on an underground electricity cable affecting the local area.",
          "estimated_restored_time": null,
          "incident_active": false,
          "planned_time": null,
          "postcodes_impacted": [
           "SS25FB",
           "SS25NJ",
           "SS25QF",
           "SS25QL",
           "SS25QN"
          ],
          "received_time": "2021-03-08T14:37:18",
          "restored_time": "2021-03-24T05:07:49.957"
         },
         "INCD-224602-Z": {
          "description": "We were investigating an electricity cable that was damaged, causing a power cut in the local area.",
          "estimated_restored_time": null,
          "incident_active": false,
          "planned_time": null,
          "postcodes_impacted": [
           "EN93AA",
           "EN93AB",
           "EN93AD"
          ],
          "received_time": "2021-03-12T13:15:01",
          "restored_time": "2021-03-24T11:37:21.9"
         },
         "INCD-224624-Z": {
          "description": "A fault occurred on an underground electricity cable affecting the local area.",
          "estimated_restored_time": "2021-03-12T20:00:00",
          "incident_active": false,
          "planned_time": null,
          "postcodes_impacted": [
           "N200BJ",
           "N200BP",
           "N200DG",
           "N200TX",
           "N200TZ",
           "N200UA",
           "N200UT",
           "N200UU"
          ],
          "received_time": "2021-03-12T13:58:00",
          "restored_time": "2021-03-24T07:23:17.643"
         },
         "INCD-224761-Z": {
          "description": "An underground electricity cable faulted on our high voltage network, causing an area wide power cut.",
          "estimated_restored_time": "2021-03-13T09:30:00",
          "incident_active": false,
          "planned_time": null,
          "postcodes_impacted": [
           "RM154YA",
           "RM161RG",
           "RM161RQ",
           "RM191AT",
           "RM191SD",
           "RM191SR",
           "RM191TB",
           "RM191TH",
           "RM191TL",
           "RM191TP",
           "RM191TR",
           "RM191TS",
           "RM191TT",
           "RM191TU",
           "RM203AQ",
           "RM203AT",
           "RM203BA",
           "RM203FZ",
           "RM203JQ",
           "RM203JT",
           "RM203LG",
           "RM203LH",
           "RM203NL"
          ],
          "received_time": "2021-03-13T07:16:00",
          "restored_time": "2021-03-24T07:00:57.143"
         },
         "INCD-225793-Z": {
          "description": "A fault occurred on an underground electricity cable affecting the local area.",
          "estimated_restored_time": "2021-03-18T16:30:00",
          "incident_active": false,
          "planned_time": null,
          "postcodes_impacted": [
           "RM107DL",
           "RM107UA",
           "RM107UB",
           "RM107UP",
           "RM107UR",
           "RM107UU",
           "RM107XA",
           "RM107XJ",
           "RM107XT",
           "RM108TX"
          ],
          "received_time": "2021-03-18T08:54:00",
          "restored_time": "2021-03-24T09:46:49.67"
         },
         "INCD-225839-Z": {
          "description": "We were investigating an electricity cable that was damaged, causing a power cut in the local area.",
          "estimated_restored_time": null,
          "incident_active": false,
          "planned_time": null,
          "postcodes_impacted": [
           "CM11PA",
           "CM11PE",
           "CM11SL"
          ],
          "received_time": "2021-03-19T13:42:45",
          "restored_time": "2021-03-24T13:35:42.293"
         },
         "INCD-226194-Z": {
          "description": "A fault occurred on an underground electricity cable affecting the local area.",
          "estimated_restored_time": null,
          "incident_active": false,
          "planned_time": null,
          "postcodes_impacted": [
           "HA99BT",
           "HA99RL"
          ],
          "received_time": "2021-03-19T18:33:00",
          "restored_time": "2021-03-24T10:32:43.643"
         },
         "INCD-226675-Z": {
          "description": "A fault occurred on an underground electricity cable affecting the local area.",
          "estimated_restored_time": null,
          "incident_active": false,
          "planned_time": null,
          "postcodes_impacted": [
           "CB61PH",
           "CB62DD",
           "CB62DE",
           "CB62DF"
          ],
          "received_time": "2021-03-23T01:47:00",
          "restored_time": "2021-03-24T06:20:29.92"
         },
         "INCD-226695-Z": {
          "description": "We were investigating an electricity cable that was damaged, causing a power cut in the local area.",
          "estimated_restored_time": null,
          "incident_active": false,
          "planned_time": null,
          "postcodes_impacted": [
           "LU54DW",
           "LU54ET",
           "LU54EX",
           "LU61GA",
           "LU61JF"
          ],
          "received_time": "2021-03-23T20:28:00",
          "restored_time": "2021-03-24T11:08:43.27"
         },
         "INCD-226814-Z": {
          "description": "A fault occurred on an underground electricity cable affecting the local area.",
          "estimated_restored_time": null,
          "incident_active": false,
          "planned_time": null,
          "postcodes_impacted": [
           "MK453PB",
           "MK453PL",
           "MK453PY"
          ],
          "received_time": "2021-03-23T13:23:00",
          "restored_time": "2021-03-24T13:49:23.99"
         },
         "INCD-226845-Z": {
          "description": "A fault occurred on an underground electricity cable affecting the local area.",
          "estimated_restored_time": "2021-03-24T02:30:00",
          "incident_active": false,
          "planned_time": null,
          "postcodes_impacted": [
           "SS25FB",
           "SS25NJ",
           "SS25PX",
           "SS25QF",
           "SS25QL",
           "SS25QN"
          ],
          "received_time": "2021-03-23T14:55:00",
          "restored_time": "2021-03-24T02:55:00"
         },
         "INCD-226850-Z": {
          "description": "A fault occurred on a piece of our electrical equipment which controls the power to your home.",
          "estimated_restored_time": null,
          "incident_active": false,
          "planned_time": null,
          "postcodes_impacted": [
           "EN13ED",
           "EN13EF",
           "EN13EG",
           "EN26BN",
           "EN26LE"
          ],
          "received_time": "2021-03-23T14:39:00",
          "restored_time": "2021-03-24T09:20:01.697"
         },
         "INCD-226903-Z": {
          "description": "A fault occurred on an underground electricity cable affecting the local area.",
          "estimated_restored_time": "2021-03-24T18:00:00",
          "incident_active": false,
          "planned_time": null,
          "postcodes_impacted": [
           "MK420TY",
           "MK420TZ",
           "MK420UY",
           "MK420UZ"
          ],
          "received_time": "2021-03-23T19:19:00",
          "restored_time": null
         },
         "INCD-226909-Z": {
          "description": "A fault occurred on an underground electricity cable affecting the local area.",
          "estimated_restored_time": null,
          "incident_active": false,
          "planned_time": null,
          "postcodes_impacted": [
           "N80BS",
           "N80AT",
           "N80BA",
           "N80BD",
           "N80BL",
           "N80BP",
           "N80BT",
           "N80BU",
           "N80ND"
          ],
          "received_time": "2021-03-23T19:30:00",
          "restored_time": null
         },
         "INCD-226928-Z": {
          "description": "A fault occurred on an underground electricity cable affecting the local area.",
          "estimated_restored_time": "2021-03-24T18:00:00",
          "incident_active": false,
          "planned_time": null,
          "postcodes_impacted": [
           "PE303BJ",
           "PE303EB",
           "PE303EE",
           "PE303EA"
          ],
          "received_time": "2021-03-24T01:53:00",
          "restored_time": null
         },
         "INCD-226932-Z": {
          "description": "A fault occurred on a piece of our electrical equipment which controls the power to your home.",
          "estimated_restored_time": "2021-03-24T11:30:00",
          "incident_active": false,
          "planned_time": null,
          "postcodes_impacted": [
           "HP24JL",
           "HP24JN"
          ],
          "received_time": "2021-03-24T07:34:53",
          "restored_time": "2021-03-24T10:34:19.86"
         },
         "INCD-226943-Z": {
          "description": "We had to turn off power in your area so our engineers could safely carry out emergency repairs to the network.",
          "estimated_restored_time": null,
          "incident_active": false,
          "planned_time": null,
          "postcodes_impacted": [
           "SS94AP",
           "SS94AE",
           "SS94AJ",
           "SS94AL",
           "SS94AR"
          ],
          "received_time": "2021-03-24T09:30:00",
          "restored_time": null
         },
         "INCD-226954-Z": {
          "description": "We had to turn off power in your area so our engineers could safely carry out emergency repairs to the network.",
          "estimated_restored_time": null,
          "incident_active": false,
          "planned_time": null,
          "postcodes_impacted": [
           "LU72NA",
           "LU79EA",
           "LU79EB",
           "LU79ED",
           "LU79EE",
           "LU79GW",
           "LU79WG"
          ],
          "received_time": "2021-03-24T09:21:13",
          "restored_time": "2021-03-24T09:39:29.733"
         },
         "INCD-226958-Z": {
          "description": "A fault occurred on a piece of our electrical equipment which controls the power to your home.",
          "estimated_restored_time": "2021-03-24T13:00:00",
          "incident_active": false,
          "planned_time": null,
          "postcodes_impacted": [
           "NR303NG",
           "NR303NN",
           "NR303NQ"
          ],
          "received_time": "2021-03-24T09:32:00",
          "restored_time": "2021-03-24T12:42:55.88"
         },
         "INCD-226959-Z": {
          "description": "We had to turn off power in your area so our engineers could safely carry out emergency repairs to the network.",
          "estimated_restored_time": "2021-03-24T11:00:00",
          "incident_active": false,
          "planned_time": null,
          "postcodes_impacted": [
           "NR147PH"
          ],
          "received_time": "2021-03-24T10:00:00",
          "restored_time": "2021-03-24T11:27:02.683"
         },
         "INCD-226968-Z": {
          "description": "A fault occurred on a piece of our electrical equipment which controls the power to your home.",
          "estimated_restored_time": "2021-03-24T13:00:00",
          "incident_active": false,
          "planned_time": null,
          "postcodes_impacted": [
           "IP332DG",
           "IP332DH",
           "IP332DP",
           "IP332DQ",
           "IP332DR",
           "IP332EE"
          ],
          "received_time": "2021-03-24T10:08:00",
          "restored_time": "2021-03-24T12:31:37.05"
         },
         "INCD-226975-Z": {
          "description": "We had to turn off power in your area so our engineers could safely carry out emergency repairs to the network.",
          "estimated_restored_time": "2021-03-24T15:00:00",
          "incident_active": false,
          "planned_time": null,
          "postcodes_impacted": [
           "HA99RL",
           "HA99BT"
          ],
          "received_time": "2021-03-24T10:28:27",
          "restored_time": null
         },
         "INCD-227011-Z": {
          "description": "A fault occurred on a piece of our electrical equipment which controls the power to your home.",
          "estimated_restored_time": "2021-03-24T16:00:00",
          "incident_active": false,
          "planned_time": null,
          "postcodes_impacted": [
           "HP160PU",
           "HP160PY",
           "HP169BS",
           "HP169BT",
           "HP169BW",
           "HP169EB",
           "HP169ED",
           "HP169EE",
           "HP169ER",
           "HP169HA",
           "HP169HG"
          ],
          "received_time": "2021-03-24T11:45:49",
          "restored_time": null
         },
         "INCD-227015-Z": {
          "description": "We had to turn off power in your area so our engineers could safely carry out emergency repairs to the network.",
          "estimated_restored_time": "2021-03-24T15:00:00",
          "incident_active": false,
          "planned_time": null,
          "postcodes_impacted": [
           "CO92HL",
           "CO85DJ",
           "CO92HJ",
           "CO92HP",
           "CO92HS",
           "CO92HT",
           "CO92HZ",
           "CO92SF",
           "CO92SR",
           "CO92SS"
          ],
          "received_time": "2021-03-24T12:30:00",
          "restored_time": null
         },
         "INCD-227029-Z": {
          "description": "",
          "estimated_restored_time": null,
          "incident_active": false,
          "planned_time": null,
          "postcodes_impacted": [
           "IP332DG",
           "IP332DH",
           "IP332DP",
           "IP332DQ",
           "IP332DR",
           "IP332EE"
          ],
          "received_time": "2021-03-24T12:33:50",
          "restored_time": "2021-03-24T12:39:30.99"
         },
         "INCD-227032-Z": {
          "description": "We had to turn off power in your area so our engineers could safely carry out emergency repairs to the network.",
          "estimated_restored_time": null,
          "incident_active": false,
          "planned_time": null,
          "postcodes_impacted": [
           "NR205LX",
           "NR205LY",
           "NR205LZ",
           "NR205NA",
           "IP121PD",
           "N205BG",
           "NR146NN",
           "NR191DF",
           "NR191QF",
           "NR203FG",
           "NR204AH",
           "NR204AL",
           "NR204GS",
           "NR204HY",
           "NR204QJ",
           "NR204QL",
           "NR204QN",
           "NR204QP",
           "NR204QR",
           "NR204QS",
           "NR204QT",
           "NR204QU",
           "NR204QW",
           "NR204RU",
           "NR204RY",
           "NR204SS",
           "NR204ST",
           "NR204TG",
           "NR205AD",
           "NR205AH",
           "NR205AJ",
           "NR205AP",
           "NR205AQ",
           "NR205AR",
           "NR205AS",
           "NR205AW",
           "NR205AX",
           "NR205AY",
           "NR205AZ",
           "NR205BA",
           "NR205BB",
           "NR205BD",
           "NR205BE",
           "NR205BG",
           "NR205BH",
           "NR205BJ",
           "NR205BL",
           "NR205BN",
           "NR205BP",
           "NR205BS",
           "NR205BT",
           "NR205BU",
           "NR205BW",
           "NR205BX",
           "NR205BY",
           "NR205BZ",
           "NR205DA",
           "NR205DB",
           "NR205DD",
           "NR205DE",
           "NR205DF",
           "NR205DG",
           "NR205DH",
           "NR205DQ",
           "NR205EP",
           "NR205EW",
           "NR205FA",
           "NR205JX",
           "NR205LD",
           "NR205LE",
           "NR205LF",
           "NR205LH",
           "NR205LJ",
           "NR205LS",
           "NR205LT",
           "NR205LU",
           "NR205NB",
           "NR205ND",
           "NR205NE",
           "NR205NF",
           "NR205NG",
           "NR205NH",
           "NR205NJ",
           "NR205NL",
           "NR205NN",
           "NR205NP",
           "NR205NQ",
           "NR205NS",
           "NR205NT",
           "NR205NU",
           "NR205NW",
           "NR205NX",
           "NR205NY",
           "NR205NZ",
           "NR205PA",
           "NR205PH",
           "NR205PJ",
           "NR205PL",
           "NR205PN",
           "NR205PP",
           "NR205PQ",
           "NR205PR",
           "NR205PS",
           "NR205PT",
           "NR205PU",
           "NR205QP",
           "NR205QR",
           "NR205RA",
           "NR205RB",
           "NR205RD",
           "NR205RE",
           "NR205RF",
           "NR205RG",
           "NR205RH",
           "NR205RJ",
           "NR205RL",
           "NR205RN",
           "NR205RP",
           "NR205RQ",
           "NR205RT",
           "NR205RU",
           "NR205RW",
           "NR205RX",
           "NR205RY",
           "NR205RZ",
           "NR205SA",
           "NR205SB",
           "NR205SD",
           "NR205SE",
           "NR205SF",
           "NR205SG",
           "NR205SJ",
           "NR205SL",
           "NR205SN",
           "NR205SQ",
           "NR205SU",
           "NR205SW",
           "NR205TJ",
           "NR205TN",
           "NR205TR",
           "NR205TS",
           "NR205TW",
           "NR205TX",
           "NR205TY",
           "NR205UA",
           "NR205UB",
           "NR210DQ",
           "NR210NG",
           "NR217NB",
           "NR242NH",
           "NR242NN",
           "NR245NE",
           "NR95PQ",
           "PE318EH",
           "SG127SJ",
           "UK"
          ],
          "received_time": "2021-03-24T13:30:00",
          "restored_time": null
         },
         "INCD-227034-Z": {
          "description": "We had to turn off power in your area so our engineers could safely carry out emergency repairs to the network.",
          "estimated_restored_time": "2021-03-24T15:30:00",
          "incident_active": false,
          "planned_time": null,
          "postcodes_impacted": [
           "CB62DD",
           "CB62DE",
           "CB62DF"
          ],
          "received_time": "2021-03-24T12:53:00",
          "restored_time": null
         },
         "INCD-227037-Z": {
          "description": "We had to turn off power in your area so our engineers could safely carry out emergency repairs to the network.",
          "estimated_restored_time": "2021-03-24T14:00:00",
          "incident_active": false,
          "planned_time": null,
          "postcodes_impacted": [
           "EN54NP",
           "EN54NR",
           "EN54NT",
           "EN54NX",
           "EN54NY",
           "EN54NZ"
          ],
          "received_time": "2021-03-24T13:21:00",
          "restored_time": "2021-03-24T14:08:33.56"
         },
         "INCD-245902-G": {
          "description": "A piece of network equipment had a fault on our high voltage electricity network, causing an area wide power cut.",
          "estimated_restored_time": "2021-02-26T01:00:00",
          "incident_active": false,
          "planned_time": null,
          "postcodes_impacted": [
           "RH110BP",
           "RH110HH",
           "RH110HQ",
           "RH110JE",
           "RH110NA",
           "RH110NB",
           "RH110ND",
           "RH110NF"
          ],
          "received_time": "2021-02-25T20:10:28",
          "restored_time": "2021-03-24T07:07:28.1"
         },
         "INCD-246135-G": {
          "description": "An underground electricity cable faulted on our high voltage network, causing an area wide power cut.",
          "estimated_restored_time": "2021-03-03T17:30:00",
          "incident_active": false,
          "planned_time": null,
          "postcodes_impacted": [
           "RH15DF",
           "RH15DG",
           "RH15DZ",
           "RH15HN",
           "RH15JN",
           "RH15JP",
           "RH15JQ",
           "RH15JR",
           "RH15JS",
           "RH15JT",
           "RH15JU",
           "RH15JW",
           "RH15QL",
           "RH15RA",
           "RH15RG"
          ],
          "received_time": "2021-03-03T14:18:37",
          "restored_time": "2021-03-24T09:59:10.69"
         },
         "INCD-246502-G": {
          "description": "An underground electricity cable faulted on our high voltage network, causing an area wide power cut.",
          "estimated_restored_time": "2021-03-10T19:30:00",
          "incident_active": false,
          "planned_time": null,
          "postcodes_impacted": [
           "BN84LX",
           "CT12SW",
           "DA130RN",
           "DA130SY",
           "DA130SZ",
           "DA130TE",
           "DA130TF",
           "TN147BG",
           "TN147JP",
           "TN156TD",
           "TN157AA",
           "TN157AB",
           "TN157AD",
           "TN157AE",
           "TN157AH",
           "TN157AJ",
           "TN157AL",
           "TN157AN",
           "TN157AP",
           "TN157AR",
           "TN157AS",
           "TN157AT",
           "TN157AU",
           "TN157AW",
           "TN157AX",
           "TN157AY",
           "TN157AZ",
           "TN157BA",
           "TN157BB",
           "TN157BD",
           "TN157BE",
           "TN157BG",
           "TN157BH",
           "TN157BJ",
           "TN157BL",
           "TN157BN",
           "TN157BP",
           "TN157BS",
           "TN157BT",
           "TN157BU",
           "TN157BW",
           "TN157BX",
           "TN157BY",
           "TN157DA",
           "TN157DB",
           "TN157DD",
           "TN157DE",
           "TN157DF",
           "TN157DG",
           "TN157DH",
           "TN157DJ",
           "TN157DL",
           "TN157DN",
           "TN157DP",
           "TN157DQ",
           "TN157DR",
           "TN157DS",
           "TN157DT",
           "TN157EA",
           "TN157EB",
           "TN157EG",
           "TN157EJ",
           "TN157EL",
           "TN157ES",
           "TN157ET",
           "TN157EU",
           "TN157EX",
           "TN157EY",
           "TN157JH",
           "TN157JJ",
           "TN157JL",
           "TN157JN",
           "TN157JP",
           "TN157JR",
           "TN157JS",
           "TN157JT",
           "TN157JU",
           "TN157JW",
           "TN157LB",
           "TN157LD",
           "TN157LE",
           "TN157LH",
           "TN157LJ",
           "TN157LL",
           "TN157LN",
           "TN157LP",
           "TN157LR",
           "TN157LS",
           "TN157LT",
           "TN157LU",
           "TN157LX",
           "TN157NN",
           "TN157NR",
           "TN157NS",
           "TN157NT",
           "TN157NU",
           "TN157NW",
           "TN157NX",
           "TN157NY",
           "TN157NZ",
           "TN157PA",
           "TN157PB",
           "TN157PD",
           "TN157PE",
           "TN157PG",
           "TN157PH",
           "TN157PJ",
           "TN157PL",
           "TN157PP",
           "TN157PR",
           "TN157PS",
           "TN157PT",
           "TN157PU",
           "TN157PW",
           "TN157PX",
           "TN157PY",
           "TN157QA",
           "TN157QB",
           "TN157QD",
           "TN157QE",
           "TN157QZ",
           "TN157RA",
           "TN157RE",
           "TN157RF",
           "TN157RG",
           "TN157RH",
           "TN157RJ",
           "TN157RR",
           "TN159AL",
           "UMS"
          ],
          "received_time": "2021-03-10T15:38:21",
          "restored_time": "2021-03-24T13:47:26.86"
         },
         "INCD-247066-G": {
          "description": "An underground electricity cable faulted on our high voltage network, causing an area wide power cut.",
          "estimated_restored_time": "2021-03-20T17:00:00",
          "incident_active": false,
          "planned_time": null,
          "postcodes_impacted": [
           "BN69EE",
           "GU14RD",
           "GU215FG",
           "TN131BF",
           "TN61EX",
           "TN61EZ",
           "TN61JZ",
           "TN62AA",
           "TN62AB",
           "TN62AD",
           "TN62AE",
           "TN62AF",
           "TN62AG",
           "TN62AH",
           "TN62AJ",
           "TN62AL",
           "TN62AN",
           "TN62AP",
           "TN62AQ",
           "TN62AR",
           "TN62AS",
           "TN62AT",
           "TN62AU",
           "TN62AX",
           "TN62AY",
           "TN62AZ",
           "TN62BA",
           "TN62BB",
           "TN62BD",
           "TN62BE",
           "TN62BF",
           "TN62BG",
           "TN62BH",
           "TN62BJ",
           "TN62BL",
           "TN62BN",
           "TN62BP",
           "TN62BQ",
           "TN62BS",
           "TN62BT",
           "TN62BU",
           "TN62BX",
           "TN62DA",
           "TN62DB",
           "TN62DD",
           "TN62DE",
           "TN62DF",
           "TN62DG",
           "TN62DH",
           "TN62DJ",
           "TN62DN",
           "TN62DP",
           "TN62DR",
           "TN62DW",
           "TN62DX",
           "TN62DY",
           "TN62DZ",
           "TN62EA",
           "TN62FE",
           "TN62FH",
           "TN62GS",
           "TN62HG",
           "TN62HH",
           "TN62HJ",
           "TN62HL",
           "TN62JF",
           "TN62NH",
           "TN62NY",
           "TN62NZ",
           "TN62QL",
           "TN62QN",
           "TN62QP",
           "TN62QS",
           "TN62QT",
           "TN62QU",
           "TN62QW",
           "TN62QX",
           "TN62QZ",
           "TN62RG",
           "TN62RH",
           "TN62RN",
           "TN62RP",
           "TN62RQ",
           "TN62RR",
           "TN62RT",
           "TN62RX",
           "TN62RY",
           "TN62RZ",
           "TN62SA",
           "TN62SB",
           "TN62SD",
           "TN62SE",
           "TN62SF",
           "TN62SG",
           "TN62SH",
           "TN62SL",
           "TN62SN",
           "TN62SP",
           "TN62SR",
           "TN62SS",
           "TN62ST",
           "TN62SU",
           "TN62SW",
           "TN62SX",
           "TN62SY",
           "TN62SZ",
           "TN62TA",
           "TN62TB",
           "TN62TD",
           "TN62TE",
           "TN62TG",
           "TN62TH",
           "TN62TJ",
           "TN62TL",
           "TN62TN",
           "TN62TQ",
           "TN62TW",
           "TN62TY",
           "TN62XA",
           "TN62XB",
           "TN62XD",
           "TN62XE",
           "TN62XF",
           "TN62XJ",
           "TN62XL",
           "TN62XN",
           "TN62XU",
           "TN62YA",
           "TN62YB",
           "TN62YD",
           "TN62YE",
           "TN63HF",
           "TN63HG",
           "TN63HR"
          ],
          "received_time": "2021-03-20T13:50:16",
          "restored_time": "2021-03-24T06:52:47.097"
         },
         "INCD-247074-G": {
          "description": "We were investigating an overhead electricity equipment fault which caused a power cut in the local area.",
          "estimated_restored_time": "2021-03-20T22:30:00",
          "incident_active": false,
          "planned_time": null,
          "postcodes_impacted": [
           "CT188DH",
           "CT188DL",
           "CT188DP",
           "CT188DQ",
           "CT188DS",
           "CT188DU",
           "CT188DW",
           "CT188ET",
           "KT146BD",
           "TN256DF",
           "TN256DG",
           "TN256DH",
           "TN256DJ",
           "TN256DL",
           "TN256DN",
           "TN256DR",
           "TN256UA"
          ],
          "received_time": "2021-03-20T18:39:00",
          "restored_time": "2021-03-24T07:46:06.44"
         },
         "INCD-247193-G": {
          "description": "An underground electricity cable faulted on our high voltage network, causing an area wide power cut.",
          "estimated_restored_time": "2021-03-23T19:00:00",
          "incident_active": false,
          "planned_time": null,
          "postcodes_impacted": [
           "ME207GB",
           "ME207GQ",
           "ME207JG",
           "ME207JH",
           "ME207JL",
           "ME207JN",
           "ME207JQ",
           "ME207JR",
           "ME207JT",
           "ME207JU",
           "ME207JX",
           "ME207JY",
           "ME207LR",
           "ME207LS",
           "ME207QS"
          ],
          "received_time": "2021-03-23T15:55:23",
          "restored_time": "2021-03-24T11:49:46.4"
         },
         "INCD-247211-G": {
          "description": "A fault occurred on an underground electricity cable affecting the local area.",
          "estimated_restored_time": null,
          "incident_active": false,
          "planned_time": null,
          "postcodes_impacted": [
           "KT199EX",
           "KT199EY",
           "KT199HF"
          ],
          "received_time": "2021-03-24T09:28:45",
          "restored_time": "2021-03-24T09:32:08.197"
         },
         "INCD-247216-G": {
          "description": "We are carrying out essential work on the electricity network in your area.",
          "estimated_restored_time": null,
          "incident_active": false,
          "planned_time": null,
          "postcodes_impacted": [
           "CT32NP"
          ],
          "received_time": "2021-03-24T09:59:05",
          "restored_time": null
         },
         "INCD-247224-G": {
          "description": "A fault occurred on an underground electricity cable affecting the local area.",
          "estimated_restored_time": "2021-03-24T15:00:00",
          "incident_active": false,
          "planned_time": null,
          "postcodes_impacted": [
           "ME50PS",
           "ME50PT",
           "ME50SD",
           "ME50SJ",
           "ME50UF",
           "ME50UQ"
          ],
          "received_time": "2021-03-24T11:32:38",
          "restored_time": null
         },
         "INCD-247231-G": {
          "description": "We had to turn off power in your area so our engineers could safely carry out emergency repairs to the network.",
          "estimated_restored_time": "2021-03-24T16:30:00",
          "incident_active": false,
          "planned_time": null,
          "postcodes_impacted": [
           "ME97RL",
           "ME97RN",
           "ME97RJ",
           "ME97RP",
           "ME98BB",
           "ME98BG",
           "ME98BH"
          ],
          "received_time": "2021-03-24T13:15:00",
          "restored_time": null
         },
         "INCD-258386-J": {
          "description": "A fault occurred on an underground electricity cable affecting the local area.",
          "estimated_restored_time": "2021-03-24T17:00:00",
          "incident_active": false,
          "planned_time": null,
          "postcodes_impacted": [
           "SW61TR",
           "W149NF",
           "W149PJ",
           "W149PL",
           "W149UF",
           "W149UG",
           "W149UQ",
           "W149UU",
           "W149UX",
           "W149UZ"
          ],
          "received_time": "2021-03-22T00:22:00",
          "restored_time": "2021-03-24T13:49:37.193"
         },
         "INCD-258418-J": {
          "description": "We were investigating an electricity cable that was damaged, causing a power cut in the local area.",
          "estimated_restored_time": "2021-03-24T14:00:00",
          "incident_active": false,
          "planned_time": null,
          "postcodes_impacted": [
           "SM44HJ",
           "SM44HS",
           "SM44HU",
           "SM44HX"
          ],
          "received_time": "2021-03-24T12:05:00",
          "restored_time": "2021-03-24T13:35:51.147"
         },
         "INCD-258457-J": {
          "description": "A fault occurred on an underground electricity cable affecting the local area.",
          "estimated_restored_time": null,
          "incident_active": false,
          "planned_time": null,
          "postcodes_impacted": [
           "N193DA",
           "N193EH",
           "N193EQ",
           "N193JH",
           "N194AA"
          ],
          "received_time": "2021-03-22T15:05:22",
          "restored_time": "2021-03-24T10:28:41.32"
         },
         "INCD-258513-J": {
          "description": "A fault occurred on an underground electricity cable affecting the local area.",
          "estimated_restored_time": null,
          "incident_active": false,
          "planned_time": null,
          "postcodes_impacted": [
           "W111DF",
           "W111DG",
           "W111DP",
           "W111EJ",
           "W111EL",
           "W111EN",
           "W111EP",
           "W111ET",
           "W111HA",
           "W111HH",
           "W111QJ",
           "W111QL",
           "W111QU"
          ],
          "received_time": "2021-03-23T09:08:57",
          "restored_time": "2021-03-24T07:57:31.57"
         },
         "INCD-258539-J": {
          "description": "We were investigating an electricity cable that was damaged, causing a power cut in the local area.",
          "estimated_restored_time": null,
          "incident_active": false,
          "planned_time": null,
          "postcodes_impacted": [
           "E114QT",
           "E114QX",
           "E114QY"
          ],
          "received_time": "2021-03-24T12:13:00",
          "restored_time": "2021-03-24T13:08:07.387"
         },
         "INCD-258542-J": {
          "description": "A fault occurred on an underground electricity cable affecting the local area.",
          "estimated_restored_time": null,
          "incident_active": false,
          "planned_time": null,
          "postcodes_impacted": [
           "WC1N1DR",
           "WC1N2JF",
           "WC1N2JX",
           "WC1N2JZ",
           "WC1N2LA",
           "WC1N2LD",
           "WC1N2LE",
           "WC1N2LG",
           "WC1N2LQ",
           "WC1X8TU",
           "WC1X8TX",
           "WC1X8TZ"
          ],
          "received_time": "2021-03-23T14:44:00",
          "restored_time": "2021-03-24T05:21:49.113"
         },
         "INCD-258551-J": {
          "description": "We were investigating an electricity cable that was damaged, causing a power cut in the local area.",
          "estimated_restored_time": "2021-03-24T13:30:00",
          "incident_active": false,
          "planned_time": null,
          "postcodes_impacted": [
           "EC4M7BU",
           "EC4M7BY",
           "EC4M7DA",
           "EC4M7DX"
          ],
          "received_time": "2021-03-23T16:09:40",
          "restored_time": "2021-03-24T13:41:51.283"
         },
         "INCD-258554-J": {
          "description": "We were investigating an electricity cable that was damaged, causing a power cut in the local area.",
          "estimated_restored_time": "2021-03-24T12:30:00",
          "incident_active": false,
          "planned_time": null,
          "postcodes_impacted": [
           "SE135AF",
           "SE135AG",
           "SE135AQ",
           "SE135JQ",
           "SE136JX",
           "SE137EJ",
           "SE137PA",
           "SE137PB",
           "SE137PD",
           "SE137PQ",
           "SE137PY",
           "SE137PZ"
          ],
          "received_time": "2021-03-23T16:44:46",
          "restored_time": "2021-03-24T12:36:38.05"
         },
         "INCD-258561-J": {
          "description": "We had to turn off power in your area so our engineers could safely carry out emergency repairs to the network.",
          "estimated_restored_time": "2021-03-23T22:00:00",
          "incident_active": false,
          "planned_time": null,
          "postcodes_impacted": [
           "SE220HU",
           "SE220JB",
           "SE220LU",
           "SE229QA"
          ],
          "received_time": "2021-03-23T18:05:00",
          "restored_time": "2021-03-24T12:55:19.14"
         },
         "INCD-258577-J": {
          "description": "We were investigating an electricity cable that was damaged, causing a power cut in the local area.",
          "estimated_restored_time": null,
          "incident_active": false,
          "planned_time": null,
          "postcodes_impacted": [
           "SE163QG",
           "SW1V1RP",
           "SW1V4BJ",
           "SW1V4BU",
           "SW1V4DJ",
           "SW1V4DP",
           "SW1V4EP",
           "SW1V4ER",
           "SW1V4JF",
           "SW1V4PP",
           "SW1V4QJ"
          ],
          "received_time": "2021-03-24T02:47:31",
          "restored_time": "2021-03-24T04:44:28.987"
         },
         "INCD-258579-J": {
          "description": "A fault occurred on a piece of our electrical equipment which controls the power to your home.",
          "estimated_restored_time": null,
          "incident_active": false,
          "planned_time": null,
          "postcodes_impacted": [
           "W104LE",
           "W104LL",
           "W104LS",
           "W104UX",
           "W104UY"
          ],
          "received_time": "2021-03-24T03:15:00",
          "restored_time": "2021-03-24T05:50:16.807"
         },
         "INCD-258582-J": {
          "description": "A fault occurred on a piece of our electrical equipment which controls the power to your home.",
          "estimated_restored_time": "2021-03-24T09:30:00",
          "incident_active": false,
          "planned_time": null,
          "postcodes_impacted": [
           "SW111EG",
           "SW111EQ",
           "SW111HB",
           "SW111HD",
           "SW111HF",
           "SW111QG"
          ],
          "received_time": "2021-03-24T06:02:00",
          "restored_time": "2021-03-24T07:53:39.643"
         },
         "INCD-258599-J": {
          "description": "An underground electricity cable faulted on our high voltage network, causing an area wide power cut.",
          "estimated_restored_time": "2021-03-24T14:00:00",
          "incident_active": false,
          "planned_time": null,
          "postcodes_impacted": [
           "EC3V3LA",
           "EC3V9AA",
           "EC3V9JU",
           "EC4N5AD",
           "EC4N5AF",
           "EC4N5AG",
           "EC4N5AT",
           "EC4N6AB",
           "EC4N6AS",
           "EC4N6EU",
           "EC4N6HL",
           "EC4N6HT",
           "EC4N7AR",
           "EC4N7BA",
           "EC4N8AD",
           "EC4N8BJ",
           "EC4R0AN",
           "EC4R0DP",
           "EC4R0DR",
           "EC4R9AB",
           "EC4R9AT",
           "EC4R9AW",
           "EC4R9AY",
           "WC26NU"
          ],
          "received_time": "2021-03-24T09:49:00",
          "restored_time": null
         },
         "INCD-258603-J": {
          "description": "A fault occurred on an underground electricity cable affecting the local area.",
          "estimated_restored_time": "2021-03-24T15:00:00",
          "incident_active": false,
          "planned_time": null,
          "postcodes_impacted": [
           "E151AJ"
          ],
          "received_time": "2021-03-24T10:27:00",
          "restored_time": null
         },
         "INCD-258610-J": {
          "description": "A fault occurred on a piece of our electrical equipment which controls the power to your home.",
          "estimated_restored_time": "2021-03-24T16:30:00",
          "incident_active": false,
          "planned_time": null,
          "postcodes_impacted": [
           "W1D7AP",
           "W1D7AZ",
           "W1D7BA",
           "W1D7BB",
           "W1D7LN",
           "W1D7LW",
           "W1F9UG",
           "W1V7HG"
          ],
          "received_time": "2021-03-24T11:19:00",
          "restored_time": "2021-03-24T12:35:12.763"
         },
         "INCD-258618-J": {
          "description": "A fault occurred on a piece of our electrical equipment which controls the power to your home.",
          "estimated_restored_time": null,
          "incident_active": false,
          "planned_time": null,
          "postcodes_impacted": [
           "SE220HU",
           "SE220JB",
           "SE220LU",
           "SE229QA"
          ],
          "received_time": "2021-03-24T12:07:00",
          "restored_time": "2021-03-24T13:26:35.667"
         },
         "INCD-258626-J": {
          "description": "Due to a faulty piece of underground network equipment we had to turn off your power.",
          "estimated_restored_time": null,
          "incident_active": false,
          "planned_time": null,
          "postcodes_impacted": [
           "W92EG",
           "W92EQ",
           "W92NS",
           "W92NT"
          ],
          "received_time": "2021-03-24T13:34:19",
          "restored_time": null
         },
         "INCD-43427-C": {
          "description": "A fault occurred on an underground electricity cable affecting the local area.",
          "estimated_restored_time": null,
          "incident_active": false,
          "planned_time": null,
          "postcodes_impacted": [
           "CM08BG",
           "CM08HA",
           "CM08HB",
           "CM08HH",
           "CM08HJ",
           "CM08HQ",
           "CM08HT",
           "CM08HW",
           "CM08RP"
          ],
          "received_time": "2021-03-20T11:18:00",
          "restored_time": "2021-03-24T12:29:22.48"
         },
         "INCD-43535-C": {
          "description": "A problem on the electricity network caused power to go on and off in the area.",
          "estimated_restored_time": null,
          "incident_active": false,
          "planned_time": null,
          "postcodes_impacted": [
           "EN64BG",
           "EN64BH",
           "EN64BJ",
           "EN64BQ"
          ],
          "received_time": "2021-03-23T12:04:58",
          "restored_time": "2021-03-24T09:25:39.973"
         },
         "INCD-43549-C": {
          "description": "A fault occurred on a piece of our electrical equipment which controls the power to your home.",
          "estimated_restored_time": "2021-03-24T07:00:00",
          "incident_active": false,
          "planned_time": null,
          "postcodes_impacted": [
           "EN26AF",
           "EN26AJ",
           "EN26AN",
           "EN26AQ",
           "EN26EE",
           "EN26PD"
          ],
          "received_time": "2021-03-24T04:26:00",
          "restored_time": "2021-03-24T06:43:01.177"
         },
         "INCD-47144-V": {
          "description": "We are replacing some overhead electricity cables with improved insulated cables whilst raising the height of the overhead line to statutory height for safety. These works will improve the reliability of our electricty network and help to reduce the risk of you having an unplanned cut. This is why it is important to complete this work during the Coronavirus pandemic. You may see us in the area carrying out preparation work prior to the planned power cut to allow for a shorter interruption on the day. This work is taking place in Bell Lane.",
          "estimated_restored_time": "2021-03-24T14:00:00",
          "incident_active": false,
          "planned_time": "2021-03-24T09:30:00",
          "postcodes_impacted": [
           "RH123QH",
           "RH123QJ"
          ],
          "received_time": "2021-03-24T09:32:00",
          "restored_time": "2021-03-24T13:01:18.007"
         },
         "INCD-50428-V": {
          "description": "The reason for this work is we are upgrading a piece of electrical equipment called a transformer on our electricity network. This equipment controls and delivers the electricity into your area. These are essential works that will improve the reliability of our electricity network, ensure our network can uphold the amount of electricity in your area and will also reduce the risk of you having an unplanned power cut. This is why it is important to complete this work during the Coronavirus pandemic. This work is taking place on Outwood Lane.",
          "estimated_restored_time": "2021-03-24T14:30:00",
          "incident_active": false,
          "planned_time": "2021-03-24T09:30:00",
          "postcodes_impacted": [
           "RH14NH",
           "RH14NJ",
           "RH14NL",
           "RH15PD",
           "RH15PL",
           "RH15PA",
           "RH15PE",
           "RH15PF"
          ],
          "received_time": "2021-03-23T12:35:41",
          "restored_time": null
         },
         "INCD-51163-V": {
          "description": "Our contractors Avidety Ltd are replacing and upgrading electricity poles due to them decaying. They will also be replacing and upgrading some overhead electricity cables with improved insulated cables. This will improve the reliability of our electricity network and will reduce the risk of you having an unplanned power cut. This is why it is important to complete this work during the Coronavirus pandemic. You may see our contractors erecting the new electricity poles prior to the outage to allow for a shorter interruption on the day. Please note a temporary road closure will be in place to carry out our works safely. This work is taking place on Kings Bank Lane.",
          "estimated_restored_time": "2021-03-24T15:30:00",
          "incident_active": false,
          "planned_time": "2021-03-24T09:30:00",
          "postcodes_impacted": [
           "TN316RU"
          ],
          "received_time": "2021-03-24T09:30:00",
          "restored_time": null
         },
         "INCD-51291-V": {
          "description": "We're carrying out planned work in your area. For our engineers to carry it out safely they need to turn the power off. We're doing this work as it's essential to provide reliable electricity supplies to your area. We're sorry for any inconvenience caused and thank you for your patience.",
          "estimated_restored_time": "2021-03-24T15:30:00",
          "incident_active": false,
          "planned_time": "2021-03-24T09:30:00",
          "postcodes_impacted": [
           "TN354JA"
          ],
          "received_time": "2021-03-24T09:30:00",
          "restored_time": null
         },
         "INCD-51304-V": {
          "description": "A fault occurred on an underground electricity cable affecting the local area.",
          "estimated_restored_time": null,
          "incident_active": false,
          "planned_time": null,
          "postcodes_impacted": [
           "TN147LR",
           "TN147LG",
           "TN147LH"
          ],
          "received_time": "2021-03-22T11:59:00",
          "restored_time": null
         },
         "INCD-51378-V": {
          "description": "We're carrying out planned work in your area. For our engineers to carry it out safely they need to turn the power off. We're doing this work as it's essential to provide reliable electricity supplies to your area. We're sorry for any inconvenience caused and thank you for your patience.",
          "estimated_restored_time": "2021-03-24T15:00:00",
          "incident_active": false,
          "planned_time": "2021-03-24T09:00:00",
          "postcodes_impacted": [
           "CT32BZ",
           "CT32DA",
           "CT32NP"
          ],
          "received_time": "2021-03-15T14:53:30",
          "restored_time": null
         },
         "INCD-51493-V": {
          "description": "We&#39;re carrying out planned work in your area. For our engineers to carry it out safely they need to turn the power off. We&#39;re doing this work as it&#39;s essential to provide reliable electricity supplies to your area. We&#39;re sorry for any inconvenience caused and thank you for your patience.",
          "estimated_restored_time": "2021-03-24T14:00:00",
          "incident_active": false,
          "planned_time": "2021-03-24T09:30:00",
          "postcodes_impacted": [
           "CT154BP",
           "CT154DD"
          ],
          "received_time": "2021-03-24T09:40:00",
          "restored_time": "2021-03-24T14:03:14.87"
         },
         "INCD-52505-V": {
          "description": "A fault occurred on an underground electricity cable affecting the local area.",
          "estimated_restored_time": null,
          "incident_active": false,
          "planned_time": null,
          "postcodes_impacted": [
           "BN237RG",
           "BN238AJ",
           "TN316JB"
          ],
          "received_time": "2021-03-17T09:49:00",
          "restored_time": "2021-03-24T08:02:37.773"
         },
         "INCD-52514-V": {
          "description": "A fault occurred on an underground electricity cable affecting the local area.",
          "estimated_restored_time": null,
          "incident_active": false,
          "planned_time": null,
          "postcodes_impacted": [
           "TN147LR",
           "TN147LS",
           "TN147LT",
           "TN147NT",
           "TN147NU",
           "TN147PH",
           "TN147PJ"
          ],
          "received_time": "2021-03-18T12:36:00",
          "restored_time": null
         },
         "INCD-52704-V": {
          "description": "A fault occurred on an underground electricity cable affecting the local area.",
          "estimated_restored_time": null,
          "incident_active": false,
          "planned_time": null,
          "postcodes_impacted": [
           "CT27HU",
           "CT27JF",
           "CT27JG",
           "CT27JL",
           "CT27JQ",
           "CT27PL",
           "CT27PW",
           "CT27UR"
          ],
          "received_time": "2021-03-19T07:17:00",
          "restored_time": "2021-03-24T03:34:29.567"
         },
         "INCD-53056-V": {
          "description": "A fault occurred on an underground electricity cable affecting the local area.",
          "estimated_restored_time": "2021-03-24T16:00:00",
          "incident_active": false,
          "planned_time": null,
          "postcodes_impacted": [
           "CT101PH",
           "CT101NL",
           "CT101NR",
           "CT101NT",
           "CT101PG",
           "CT101QD",
           "CT101QG",
           "CT101QQ",
           "CT101RU",
           "CT101SS"
          ],
          "received_time": "2021-03-23T19:15:00",
          "restored_time": null
         },
         "INCD-53064-V": {
          "description": "A fault occurred on an underground electricity cable affecting the local area.",
          "estimated_restored_time": "2021-03-24T16:00:00",
          "incident_active": false,
          "planned_time": null,
          "postcodes_impacted": [
           "ME207LD",
           "ME207QU",
           "ME207HR",
           "ME207LA",
           "ME207LB",
           "ME207LE",
           "ME207LG",
           "ME207LH",
           "ME207QY",
           "ME207QZ",
           "ME207RE",
           "ME207TR"
          ],
          "received_time": "2021-03-23T23:46:00",
          "restored_time": null
         },
         "INCD-53065-V": {
          "description": "A fault occurred on a piece of our electrical equipment which controls the power to your home.",
          "estimated_restored_time": "2021-03-24T06:30:00",
          "incident_active": false,
          "planned_time": null,
          "postcodes_impacted": [
           "ME185AF",
           "ME185AG",
           "ME185AH",
           "ME185AJ",
           "ME185AL",
           "ME185AN",
           "ME185AQ",
           "ME185BU",
           "ME185BY"
          ],
          "received_time": "2021-03-24T01:17:00",
          "restored_time": "2021-03-24T03:45:49.19"
         },
         "INCD-53068-V": {
          "description": "A fault occurred on a piece of our electrical equipment which controls the power to your home.",
          "estimated_restored_time": "2021-03-24T11:00:00",
          "incident_active": false,
          "planned_time": null,
          "postcodes_impacted": [
           "KT199EX",
           "KT199EY",
           "KT199HF"
          ],
          "received_time": "2021-03-24T06:13:00",
          "restored_time": "2021-03-24T11:37:03.46"
         },
         "INCD-53069-V": {
          "description": "An underground electricity cable faulted on our high voltage network, causing an area wide power cut.",
          "estimated_restored_time": "2021-03-24T12:00:00",
          "incident_active": false,
          "planned_time": null,
          "postcodes_impacted": [
           "RH43JZ",
           "RH43LD",
           "RH43LE",
           "RH43LF",
           "RH43LG",
           "RH43LL",
           "RH43LQ"
          ],
          "received_time": "2021-03-24T06:40:42",
          "restored_time": "2021-03-24T11:18:13.57"
         },
         "INCD-53072-V": {
          "description": "A fault occurred on a piece of our electrical equipment which controls the power to your home.",
          "estimated_restored_time": "2021-03-24T12:30:00",
          "incident_active": false,
          "planned_time": null,
          "postcodes_impacted": [
           "ME141PD",
           "ME141PP",
           "ME141PS",
           "ME141QD"
          ],
          "received_time": "2021-03-24T08:14:00",
          "restored_time": "2021-03-24T12:00:13.76"
         },
         "INCD-53087-V": {
          "description": "We were investigating an overhead electricity line fault which caused a power cut in the local area.",
          "estimated_restored_time": "2021-03-24T17:30:00",
          "incident_active": false,
          "planned_time": null,
          "postcodes_impacted": [
           "BN69RS",
           "BN69RR",
           "BN69RW",
           "BN69RZ",
           "BN69SB"
          ],
          "received_time": "2021-03-24T10:09:00",
          "restored_time": null
         },
         "INCD-5880-O": {
          "description": "We're carrying out planned work in your area. For our engineers to carry it out safely they need to turn the power off. We're doing this work as it's essential to provide reliable electricity supplies to your area. We're sorry for any inconvenience caused and thank you for your patience.",
          "estimated_restored_time": "2021-03-24T14:00:00",
          "incident_active": false,
          "planned_time": "2021-03-24T09:00:00",
          "postcodes_impacted": [
           "IP223TG",
           "IP223TH",
           "IP223TJ",
           "IP225TG",
           "IP225TH",
           "IP225TJ",
           "IP225TQ"
          ],
          "received_time": "2021-03-24T09:05:00",
          "restored_time": "2021-03-24T12:04:18.507"
         },
         "INCD-6091-O": {
          "description": "We're carrying out planned work in your area. For our engineers to carry it out safely they need to turn the power off. We're doing this work as it's essential to provide reliable electricity supplies to your area. We're sorry for any inconvenience caused and thank you for your patience.",
          "estimated_restored_time": "2021-03-24T15:00:00",
          "incident_active": false,
          "planned_time": "2021-03-24T09:00:00",
          "postcodes_impacted": [
           "CO94JT",
           "CO94JX"
          ],
          "received_time": "2021-03-24T09:41:00",
          "restored_time": null
         },
         "INCD-6142-O": {
          "description": "We're carrying out planned work in your area. For our engineers to carry it out safely they need to turn the power off. We're doing this work as it's essential to provide reliable electricity supplies to your area. We're sorry for any inconvenience caused and thank you for your patience.",
          "estimated_restored_time": "2021-03-24T11:00:00",
          "incident_active": false,
          "planned_time": "2021-03-24T09:00:00",
          "postcodes_impacted": [
           "CB88QS"
          ],
          "received_time": "2021-03-24T09:23:00",
          "restored_time": "2021-03-24T12:07:39.737"
         },
         "INCD-6344-O": {
          "description": "We're carrying out planned work in your area. For our engineers to carry it out safely they need to turn the power off. We're doing this work as it's essential to provide reliable electricity supplies to your area. We're sorry for any inconvenience caused and thank you for your patience.",
          "estimated_restored_time": "2021-03-24T11:00:00",
          "incident_active": false,
          "planned_time": "2021-03-24T08:00:00",
          "postcodes_impacted": [
           "SG142PZ",
           "SG142QA",
           "SG142QB",
           "SG142QE",
           "SG142QF",
           "SG143NN",
           "SG143NS",
           "SG143NW"
          ],
          "received_time": "2021-03-24T08:42:00",
          "restored_time": "2021-03-24T11:42:56.917"
         },
         "INCD-6383-O": {
          "description": "We're carrying out planned work in your area. For our engineers to carry it out safely they need to turn the power off. We're doing this work as it's essential to provide reliable electricity supplies to your area. We're sorry for any inconvenience caused and thank you for your patience.",
          "estimated_restored_time": "2021-03-24T11:00:00",
          "incident_active": false,
          "planned_time": "2021-03-24T10:00:00",
          "postcodes_impacted": [
           "SG87EN",
           "SG87EP",
           "SG87HB",
           "SG87HD",
           "SG87LL",
           "SG89EY",
           "SG89GH",
           "SG89JE"
          ],
          "received_time": "2021-03-24T10:00:00",
          "restored_time": "2021-03-24T11:10:07.607"
         },
         "INCD-6516-O": {
          "description": "We're carrying out planned work in your area. For our engineers to carry it out safely they need to turn the power off. We're doing this work as it's essential to provide reliable electricity supplies to your area. We're sorry for any inconvenience caused and thank you for your patience.",
          "estimated_restored_time": "2021-03-24T15:00:00",
          "incident_active": false,
          "planned_time": "2021-03-24T14:00:00",
          "postcodes_impacted": [
           "PE148DD",
           "PE148DE",
           "PE148DW"
          ],
          "received_time": "2021-03-24T14:00:00",
          "restored_time": null
         },
         "INCD-6538-O": {
          "description": "We're carrying out planned work in your area. For our engineers to carry it out safely they need to turn the power off. We're doing this work as it's essential to provide reliable electricity supplies to your area. We're sorry for any inconvenience caused and thank you for your patience.",
          "estimated_restored_time": "2021-03-24T16:00:00",
          "incident_active": false,
          "planned_time": "2021-03-24T08:30:00",
          "postcodes_impacted": [
           "SS178PY",
           "RM163EL",
           "RM163HU",
           "RM163HX",
           "SS178PT",
           "SS178PU",
           "SS178PX"
          ],
          "received_time": "2021-03-24T08:41:00",
          "restored_time": null
         },
         "INCD-6549-O": {
          "description": "We&#39;re carrying out planned work in your area. For our engineers to carry it out safely they need to turn the power off. We&#39;re doing this work as it&#39;s essential to provide reliable electricity supplies to your area. We&#39;re sorry for any inconvenience caused and thank you for your patience.",
          "estimated_restored_time": "2021-03-24T16:00:00",
          "incident_active": false,
          "planned_time": "2021-03-24T10:00:00",
          "postcodes_impacted": [
           "CO79JL"
          ],
          "received_time": "2021-03-24T10:26:00",
          "restored_time": "2021-03-24T13:42:05.47"
         }
        },
        "wpd": {
         "INCD-150923-H": {
          "description": "In Progress",
          "estimated_restored_time": "2021-03-24 15:00:00",
          "incident_active": true,
          "postcodes_impacted": [
           "CV2 5EB",
           "CV2 5DH",
           "CV2 5NL"
          ],
          "received_time": "2021-03-23 19:12:00"
         },
         "INCD-150936-H": {
          "description": "In Progress",
          "estimated_restored_time": null,
          "incident_active": true,
          "postcodes_impacted": [
           "NN7 2EU"
          ],
          "received_time": "2021-03-24 08:04:00"
         },
         "INCD-150957-H": {
          "description": "In Progress",
          "estimated_restored_time": "2021-03-24 16:00:00",
          "incident_active": true,
          "postcodes_impacted": [
           "LE9 1UP",
           "LE9 1UN",
           "LE9 1UR"
          ],
          "received_time": "2021-03-24 10:48:00"
         },
         "INCD-292-g": {
          "description": "In Progress",
          "estimated_restored_time": "2021-03-24 16:00:00",
          "incident_active": true,
          "postcodes_impacted": [
           "CF5 5AF",
           "CF5 5AH",
           "CF5 5AG",
           "CF5 5AJ",
           "CF5 5AQ"
          ],
          "received_time": "2021-03-24 12:26:00"
         },
         "INCD-356152-G": {
          "description": "In Progress",
          "estimated_restored_time": "2021-03-24 15:00:00",
          "incident_active": true,
          "postcodes_impacted": [
           "ST5 7JF"
          ],
          "received_time": "2021-03-24 05:26:00"
         },
         "INCD-36872-C": {
          "description": "In Progress",
          "estimated_restored_time": "2021-03-24 16:00:00",
          "incident_active": true,
          "postcodes_impacted": [
           "BA5 2PJ",
           "BA5 2PG",
           "BA5 2PT"
          ],
          "received_time": "2021-03-24 11:31:00"
         },
         "INCD-36877-C": {
          "description": "In Progress",
          "estimated_restored_time": "2021-03-24 15:30:00",
          "incident_active": true,
          "postcodes_impacted": [
           "BS31 1QG",
           "BS31 1RW",
           "BS31 1QE",
           "BS31 1QQ",
           "BS31 1RS",
           "BS31 1RN",
           "BS31 1RR"
          ],
          "received_time": "2021-03-24 12:10:00"
         },
         "INCD-415415-E": {
          "description": "In Progress",
          "estimated_restored_time": "2021-03-24 16:30:00",
          "incident_active": true,
          "postcodes_impacted": [
           "SY5 7LW",
           "SY5 7LN",
           "SY5 7LY",
           "SY5 7LL",
           "SY5 7LP",
           "SY5 7LT",
           "SY5 7BH",
           "SY5 7EX",
           "SY5 7ND",
           "SY5 7LR",
           "SY5 8BN",
           "SY5 0LN"
          ],
          "received_time": "2021-03-24 12:21:00"
         },
         "INCD-415419-E": {
          "description": "In Progress",
          "estimated_restored_time": null,
          "incident_active": true,
          "postcodes_impacted": [
           "ST13 7AU",
           "ST13 7AP"
          ],
          "received_time": "2021-03-24 13:35:00"
         },
         "INCD-42700-D": {
          "description": "In Progress",
          "estimated_restored_time": null,
          "incident_active": true,
          "postcodes_impacted": [
           "CV2 4AH"
          ],
          "received_time": "2021-03-22 10:37:00"
         },
         "INCD-47947-Y": {
          "description": "In Progress",
          "estimated_restored_time": "2021-03-24 16:00:00",
          "incident_active": true,
          "postcodes_impacted": [
           "TQ2 5EG",
           "TQ2 5EL"
          ],
          "received_time": "2021-03-24 13:12:00"
         },
         "INCD-54212-c": {
          "description": "In Progress",
          "estimated_restored_time": "2021-03-24 15:00:00",
          "incident_active": false,
          "postcodes_impacted": [
           "CF14 3PP",
           "CF14 3PR",
           "CF14 3LX",
           "CF14 3PW",
           "CF14 3QB",
           "CF14 3QY"
          ],
          "received_time": "2021-03-16 11:40:00"
         }
        }
       }
      ],
      "text/plain": [
       "<IPython.core.display.JSON object>"
      ]
     },
     "execution_count": 3,
     "metadata": {
      "application/json": {
       "expanded": false,
       "root": "root"
      }
     },
     "output_type": "execute_result"
    }
   ],
   "source": [
    "dnos = ['ukpn', 'ssen', 'wpd']\n",
    "cleaned_incidents_info = dict()\n",
    "\n",
    "for dno in track(dnos, label='DNOs'):\n",
    "    raw_dno_incidents_info, cleaned_dno_incidents_info = getattr(retrieval, f'get_{dno}_incidents_info')()\n",
    "    cleaned_incidents_info[dno] = cleaned_dno_incidents_info\n",
    "    retrieval.save_json_data(raw_dno_incidents_info, f'{dno}_incidents_info')\n",
    "\n",
    "JSON([cleaned_incidents_info])"
   ]
  },
  {
   "cell_type": "code",
   "execution_count": null,
   "id": "quiet-configuration",
   "metadata": {},
   "outputs": [],
   "source": []
  },
  {
   "cell_type": "code",
   "execution_count": null,
   "id": "completed-revolution",
   "metadata": {},
   "outputs": [],
   "source": []
  },
  {
   "cell_type": "code",
   "execution_count": null,
   "id": "drawn-coordination",
   "metadata": {},
   "outputs": [],
   "source": []
  },
  {
   "cell_type": "code",
   "execution_count": 4,
   "id": "wrong-classic",
   "metadata": {},
   "outputs": [],
   "source": [
    "# incident_active (if known)\n",
    "# logged/start time\n",
    "# estimated time of fix\n",
    "# postcodes impacted\n",
    "# description"
   ]
  },
  {
   "cell_type": "code",
   "execution_count": null,
   "id": "expanded-physiology",
   "metadata": {},
   "outputs": [],
   "source": []
  },
  {
   "cell_type": "code",
   "execution_count": null,
   "id": "incorporated-parish",
   "metadata": {},
   "outputs": [],
   "source": []
  },
  {
   "cell_type": "code",
   "execution_count": null,
   "id": "handled-reward",
   "metadata": {},
   "outputs": [],
   "source": []
  }
 ],
 "metadata": {
  "kernelspec": {
   "display_name": "outage",
   "language": "python",
   "name": "outage"
  },
  "language_info": {
   "codemirror_mode": {
    "name": "ipython",
    "version": 3
   },
   "file_extension": ".py",
   "mimetype": "text/x-python",
   "name": "python",
   "nbconvert_exporter": "python",
   "pygments_lexer": "ipython3",
   "version": "3.7.10"
  }
 },
 "nbformat": 4,
 "nbformat_minor": 5
}

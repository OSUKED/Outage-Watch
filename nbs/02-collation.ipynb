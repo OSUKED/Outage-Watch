{
 "cells": [
  {
   "cell_type": "code",
   "execution_count": 1,
   "id": "micro-scratch",
   "metadata": {},
   "outputs": [],
   "source": [
    "# default_exp collation"
   ]
  },
  {
   "cell_type": "markdown",
   "id": "informative-tomato",
   "metadata": {},
   "source": [
    "# Outage Data Collation\n",
    "\n",
    "<br>\n",
    "\n",
    "### Imports"
   ]
  },
  {
   "cell_type": "code",
   "execution_count": 2,
   "id": "found-clinton",
   "metadata": {},
   "outputs": [],
   "source": [
    "#exports\n",
    "import json\n",
    "import numpy as np\n",
    "import pandas as pd\n",
    "import geopandas as gpd\n",
    "\n",
    "from outage import retrieval\n",
    "\n",
    "import os\n",
    "import requests\n",
    "from warnings import warn\n",
    "from jinja2 import Template\n",
    "\n",
    "from ipypb import track"
   ]
  },
  {
   "cell_type": "code",
   "execution_count": 3,
   "id": "aad749ac-282b-4089-ad26-b203c6d949df",
   "metadata": {},
   "outputs": [],
   "source": [
    "import matplotlib.pyplot as plt\n",
    "\n",
    "from IPython.display import JSON"
   ]
  },
  {
   "cell_type": "code",
   "execution_count": null,
   "id": "significant-objective",
   "metadata": {},
   "outputs": [],
   "source": []
  },
  {
   "cell_type": "code",
   "execution_count": 3,
   "id": "cellular-burden",
   "metadata": {},
   "outputs": [],
   "source": [
    "#exports\n",
    "def collate_cleaned_incidents_info(dnos=['ukpn', 'ssen', 'wpd', 'sp', 'np', 'enw']):\n",
    "    cleaned_incidents_info = dict()\n",
    "\n",
    "    for dno in track(dnos, label='DNOs'):\n",
    "        raw_dno_incidents_info, cleaned_dno_incidents_info = getattr(retrieval, f'get_{dno}_incidents_info')()\n",
    "        cleaned_incidents_info[dno] = cleaned_dno_incidents_info\n",
    "        retrieval.save_json_data(raw_dno_incidents_info, f'{dno}_incidents_info')\n",
    "        \n",
    "    return cleaned_incidents_info"
   ]
  },
  {
   "cell_type": "code",
   "execution_count": 4,
   "id": "burning-release",
   "metadata": {},
   "outputs": [
    {
     "data": {
      "text/html": [
       "<div><span class=\"Text-label\" style=\"display:inline-block; overflow:hidden; white-space:nowrap; text-overflow:ellipsis; min-width:15ex; max-width:15ex; vertical-align:middle; text-align:right\">DNOs</span>\n",
       "<progress style=\"width:45ex\" max=\"6\" value=\"6\" class=\"Progress-main\"/></progress>\n",
       "<span class=\"Progress-label\"><strong>100%</strong></span>\n",
       "<span class=\"Iteration-label\">6/6</span>\n",
       "<span class=\"Time-label\">[00:24<00:00, 4.06s/it]</span></div>"
      ],
      "text/plain": [
       "\u001b[A\u001b[2K\r",
       "           DNOs [█████████████████████████████████████████████] 6/6 [00:24<00:00, 4.06s/it]\u001b[B"
      ]
     },
     "metadata": {},
     "output_type": "display_data"
    },
    {
     "data": {
      "text/html": [
       "<div><span class=\"Text-label\" style=\"display:inline-block; overflow:hidden; white-space:nowrap; text-overflow:ellipsis; min-width:15ex; max-width:15ex; vertical-align:middle; text-align:right\">Multiple Ids</span>\n",
       "<progress style=\"width:45ex\" max=\"6\" value=\"6\" class=\"Progress-main\"/></progress>\n",
       "<span class=\"Progress-label\"><strong>100%</strong></span>\n",
       "<span class=\"Iteration-label\">6/6</span>\n",
       "<span class=\"Time-label\">[00:01<00:00, 0.24s/it]</span></div>"
      ],
      "text/plain": [
       "\u001b[A\u001b[2K\r",
       "   Multiple Ids [█████████████████████████████████████████████] 6/6 [00:01<00:00, 0.24s/it]"
      ]
     },
     "metadata": {},
     "output_type": "display_data"
    },
    {
     "data": {
      "text/html": [
       "<div><span class=\"Text-label\" style=\"display:inline-block; overflow:hidden; white-space:nowrap; text-overflow:ellipsis; min-width:15ex; max-width:15ex; vertical-align:middle; text-align:right\">Details</span>\n",
       "<progress style=\"width:45ex\" max=\"68\" value=\"68\" class=\"Progress-main\"/></progress>\n",
       "<span class=\"Progress-label\"><strong>100%</strong></span>\n",
       "<span class=\"Iteration-label\">68/68</span>\n",
       "<span class=\"Time-label\">[00:16<00:00, 0.23s/it]</span></div>"
      ],
      "text/plain": [
       "\u001b[A\u001b[2K\r",
       "        Details [█████████████████████████████████████████████] 68/68 [00:16<00:00, 0.23s/it]"
      ]
     },
     "metadata": {},
     "output_type": "display_data"
    },
    {
     "name": "stderr",
     "output_type": "stream",
     "text": [
      "C:\\Users\\Ayrto\\anaconda3\\envs\\outage\\lib\\site-packages\\urllib3\\connectionpool.py:1020: InsecureRequestWarning: Unverified HTTPS request is being made to host 'www.ssen.co.uk'. Adding certificate verification is strongly advised. See: https://urllib3.readthedocs.io/en/latest/advanced-usage.html#ssl-warnings\n",
      "  InsecureRequestWarning,\n"
     ]
    },
    {
     "data": {
      "text/html": [
       "<div><span class=\"Text-label\" style=\"display:inline-block; overflow:hidden; white-space:nowrap; text-overflow:ellipsis; min-width:0; max-width:15ex; vertical-align:middle; text-align:right\"></span>\n",
       "<progress style=\"width:60ex\" max=\"8\" value=\"8\" class=\"Progress-main\"/></progress>\n",
       "<span class=\"Progress-label\"><strong>100%</strong></span>\n",
       "<span class=\"Iteration-label\">8/8</span>\n",
       "<span class=\"Time-label\">[00:00<00:00, 0.00s/it]</span></div>"
      ],
      "text/plain": [
       "\u001b[A\u001b[2K\r",
       " [████████████████████████████████████████████████████████████] 8/8 [00:00<00:00, 0.00s/it]"
      ]
     },
     "metadata": {},
     "output_type": "display_data"
    },
    {
     "name": "stderr",
     "output_type": "stream",
     "text": [
      "c:\\users\\ayrto\\desktop\\side projects\\outage-watch\\outage\\retrieval.py:237: GuessedAtParserWarning: No parser was explicitly specified, so I'm using the best available HTML parser for this system (\"lxml\"). This usually isn't a problem, but if you run this code on another system, or in a different virtual environment, it may use a different parser and behave differently.\n",
      "\n",
      "The code that caused this warning is on line 237 of the file c:\\users\\ayrto\\desktop\\side projects\\outage-watch\\outage\\retrieval.py. To get rid of this warning, pass the additional argument 'features=\"lxml\"' to the BeautifulSoup constructor.\n",
      "\n",
      "  soup = bs(r.text)\n"
     ]
    },
    {
     "data": {
      "application/json": [
       {
        "enw": {
         "10640783": {
          "description": "We carry out planned power cuts to improve the reliability of your electricity supply and so our engineers can safely work on the cables that provide electricity to your property.",
          "estimated_restored_time": "",
          "incident_active": false,
          "incident_url": "https://www.enwl.co.uk/power-cuts/power-cuts-power-cuts-live-power-cut-information-fault-list/fault-list",
          "postcodes_impacted": [
           "SK23 6ES"
          ],
          "received_time": "2021-04-16 00:00"
         },
         "10642292": {
          "description": "We carry out planned power cuts to improve the reliability of your electricity supply and so our engineers can safely work on the cables that provide electricity to your property.",
          "estimated_restored_time": "",
          "incident_active": false,
          "incident_url": "https://www.enwl.co.uk/power-cuts/power-cuts-power-cuts-live-power-cut-information-fault-list/fault-list",
          "postcodes_impacted": [
           "SK23 0QU",
           "SK12 6QU"
          ],
          "received_time": "2021-04-14 00:00"
         },
         "10642295": {
          "description": "We carry out planned power cuts to improve the reliability of your electricity supply and so our engineers can safely work on the cables that provide electricity to your property.",
          "estimated_restored_time": "",
          "incident_active": false,
          "incident_url": "https://www.enwl.co.uk/power-cuts/power-cuts-power-cuts-live-power-cut-information-fault-list/fault-list",
          "postcodes_impacted": [
           "SK22 4AA",
           "SK22 3PB",
           "SK22 3JB",
           "SK22 3JA",
           "SK22 3EB",
           "SK22 3EA",
           "SK22 3DZ",
           "SK22 3DY",
           "SK22 3DX",
           "SK22 3DW",
           "SK22 3DU",
           "SK22 3DT",
           "SK22 3DS",
           "SK22 3DR",
           "SK22 3DP",
           "SK22 3DN",
           "SK22 3DD",
           "SK22 3DA",
           "SK22 3BZ",
           "SK22 3BY",
           "SK22 3BW",
           "SK22 3BR",
           "SK22 3BP",
           "SK22 3BL",
           "SK22 3BG",
           "SK22 1BJ",
           "SK12 3JB",
           "SK12 3EA",
           "SK12 3DW",
           "SK12 3DT",
           "SK12 3DR",
           "SK12 3DP",
           "SK12 3BW"
          ],
          "received_time": "2021-04-15 00:00"
         },
         "10642554": {
          "description": "We carry out planned power cuts to improve the reliability of your electricity supply and so our engineers can safely work on the cables that provide electricity to your property.",
          "estimated_restored_time": "",
          "incident_active": false,
          "incident_url": "https://www.enwl.co.uk/power-cuts/power-cuts-power-cuts-live-power-cut-information-fault-list/fault-list",
          "postcodes_impacted": [
           "SK56 6QG",
           "SK5 6UX",
           "SK5 6TA",
           "SK5 6SZ",
           "SK5 6SW",
           "SK5 6SU",
           "SK5 6SP",
           "SK5 6SN",
           "SK5 6SL",
           "SK5 6SD",
           "SK5 6SB",
           "SK5 6QW",
           "SK5 6QQ",
           "SK5 6QP",
           "SK5 6QL",
           "SK5 6QJ",
           "SK5 6QH",
           "SK5 6QG",
           "SK5 6QF",
           "SK5 6QE",
           "SK5 6QD",
           "SK5 6QB",
           "SK5 6QA",
           "M34 2HT",
           "M34 2HS",
           "M34 2HR",
           "M34 2HQ",
           "M34 2HG"
          ],
          "received_time": "2021-04-12 00:00"
         },
         "10643120": {
          "description": "We carry out planned power cuts to improve the reliability of your electricity supply and so our engineers can safely work on the cables that provide electricity to your property.",
          "estimated_restored_time": "",
          "incident_active": false,
          "incident_url": "https://www.enwl.co.uk/power-cuts/power-cuts-power-cuts-live-power-cut-information-fault-list/fault-list",
          "postcodes_impacted": [
           "WA15 8RW",
           "WA15 8RN",
           "WA15 8RL",
           "WA15 8QE",
           "WA15 8QD",
           "WA15 8PY",
           "WA15 8PU",
           "WA15 8NP",
           "WA15 8NA",
           "WA15 8LZ",
           "WA15 8LY",
           "WA15 8LX",
           "WA15 8LU",
           "WA15 8LT",
           "WA15 8LS",
           "WA15 8LR",
           "WA15 8LQ",
           "WA15 8LH",
           "WA15 8JZ",
           "WA15 8JY",
           "WA15 8JX",
           "WA15 8JT",
           "WA15 8JS",
           "WA15 8DU"
          ],
          "received_time": "2021-04-14 00:00"
         },
         "10644061": {
          "description": "We carry out planned power cuts to improve the reliability of your electricity supply and so our engineers can safely work on the cables that provide electricity to your property.",
          "estimated_restored_time": "",
          "incident_active": false,
          "incident_url": "https://www.enwl.co.uk/power-cuts/power-cuts-power-cuts-live-power-cut-information-fault-list/fault-list",
          "postcodes_impacted": [
           "SK10 5AH"
          ],
          "received_time": "2021-04-13 00:00"
         },
         "10644287": {
          "description": "We carry out planned power cuts to improve the reliability of your electricity supply and so our engineers can safely work on the cables that provide electricity to your property.",
          "estimated_restored_time": "",
          "incident_active": false,
          "incident_url": "https://www.enwl.co.uk/power-cuts/power-cuts-power-cuts-live-power-cut-information-fault-list/fault-list",
          "postcodes_impacted": [
           "SK5 6JZ",
           "SK5 6JJ",
           "SK5 6JH",
           "SK5 6JF"
          ],
          "received_time": "2021-04-14 00:00"
         },
         "10644987": {
          "description": "The power cut in your area has been caused by an unexpected incident with the underground cable that provides electricity to your property.",
          "estimated_restored_time": "2021-04-10 20:30",
          "incident_active": true,
          "incident_url": "https://www.enwl.co.uk/power-cuts/power-cuts-power-cuts-live-power-cut-information-fault-list/fault-list",
          "postcodes_impacted": [
           "SK10 3JR",
           "SK10 3JS",
           "SK10 3JU",
           "SK10 3JW",
           "SK10 3JZ",
           "SK10 3LQ",
           "SK10 3NG",
           "SK10 3NH",
           "SK10 3NL",
           "SK10 3NN",
           "SK10 3NQ",
           "SK10 3NY",
           "SK10 3PT",
           "SK10 3PW"
          ],
          "received_time": "2021-04-09 15:44"
         },
         "10644997": {
          "description": "Good news! The electricity in your area has been restored. The power cut was caused by a third party damaging our underground cable that provides your supply.",
          "estimated_restored_time": "2021-04-10 12:09",
          "incident_active": false,
          "incident_url": "https://www.enwl.co.uk/power-cuts/power-cuts-power-cuts-live-power-cut-information-fault-list/fault-list",
          "postcodes_impacted": [
           "M6 7JQ",
           "M6 7JT",
           "M6 7JU",
           "M6 7JX",
           "M6 7JY"
          ],
          "received_time": "2021-04-10 12:09"
         },
         "10645025": {
          "description": "The power cut in your area has been caused by an unexpected incident with the underground cable that provides electricity to your property.",
          "estimated_restored_time": "2021-04-10 19:00",
          "incident_active": true,
          "incident_url": "https://www.enwl.co.uk/power-cuts/power-cuts-power-cuts-live-power-cut-information-fault-list/fault-list",
          "postcodes_impacted": [
           "SK13 1BE",
           "SK13 1BN",
           "SK13 1BR",
           "SK13 1BS",
           "SK13 1BU",
           "SK13 1BW",
           "SK13 1BX",
           "SK13 1BY",
           "SK13 1GB",
           "SK13 1HJ",
           "SK13 1HN",
           "SK13 1HW",
           "SK13 1PQ",
           "SK13 1QJ",
           "SK13 1QN",
           "SK13 3GA",
           "SK14 7QN"
          ],
          "received_time": "2021-04-09 21:02"
         },
         "10645030": {
          "description": "",
          "estimated_restored_time": "2021-04-10 10:54",
          "incident_active": false,
          "incident_url": "https://www.enwl.co.uk/power-cuts/power-cuts-power-cuts-live-power-cut-information-fault-list/fault-list",
          "postcodes_impacted": [
           "OL11 2EF",
           "OL11 2EG"
          ],
          "received_time": "2021-04-10 10:54"
         },
         "10645041": {
          "description": "Good news! The power cut in your area caused by an unexpected incident on our high voltage cable has now been resolved.",
          "estimated_restored_time": "2021-04-10 11:28",
          "incident_active": false,
          "incident_url": "https://www.enwl.co.uk/power-cuts/power-cuts-power-cuts-live-power-cut-information-fault-list/fault-list",
          "postcodes_impacted": [
           "SK6 5AR",
           "SK6 5DA",
           "SK6 5DD",
           "SK6 5LL",
           "SK6 5LN",
           "SK6 5LW",
           "SK6 5AS"
          ],
          "received_time": "2021-04-10 11:28"
         },
         "10645080": {
          "description": "Good news! The power cut in your area caused by an unexpected incident on our high voltage cable has now been resolved.",
          "estimated_restored_time": "2021-04-10 14:16",
          "incident_active": false,
          "incident_url": "https://www.enwl.co.uk/power-cuts/power-cuts-power-cuts-live-power-cut-information-fault-list/fault-list",
          "postcodes_impacted": [
           "SK3 0HP",
           "SK3 0HZ",
           "SK3 0JF",
           "SK3 0JS",
           "SK3 0LP",
           "SK3 0JA",
           "SK4 2HG",
           "SK4 2JZ",
           "SK4 2HD",
           "SK4 2JW",
           "M14 5BB",
           "M14 5ES",
           "SK4 1EB",
           "SK4 2BD",
           "SK4 2BE",
           "SK4 3HB",
           "SK4 2EA",
           "SK4 2EB",
           "SK4 2ED",
           "SK4 2EE",
           "SK4 3JG",
           "SK4 3JQ",
           "SK4 2AA",
           "SK4 4DP",
           "SK4 4DS",
           "SK4 2AB",
           "SK4 2AD",
           "SK3 0EN",
           "SK3 0ER",
           "SK3 0EY",
           "SK4 2JU",
           "SK3 0HR",
           "SK3 0LD",
           "SK3 0LE",
           "SK3 0LF",
           "SK3 0LG",
           "SK3 0LQ",
           "SK3 0LR",
           "SK3 0LS",
           "SK3 0LT",
           "SK3 0LU",
           "SK1 1AA",
           "SK1 3RU",
           "SK3 0EJ",
           "SK3 0EU",
           "SK4 1AA",
           "SK4 1AF",
           "OL6 6NE",
           "SK1 1AN",
           "SK1 3TZ",
           "SK23 9RE",
           "SK23 9SS",
           "SK4 1AP",
           "SK4 1AQ",
           "SK4 1AR",
           "SK4 1AW",
           "SK4 1BS",
           "SK6 6BD",
           "SK3 0HL",
           "SK3 0HN",
           "SK1 0DN",
           "SK3 0HW",
           "SK3 0AN",
           "SK3 0BG",
           "SK3 0BJ",
           "SK3 0BN",
           "SK3 0BQ",
           "SK3 0BY",
           "SK3 0DF",
           "SK3 0DH",
           "SK3 0AF",
           "SK3 0DJ",
           "SK3 0DL",
           "SK3 0DN",
           "SK3 0DT",
           "SK3 0DY",
           "SK3 0EA",
           "SK3 0EE",
           "SK3 0ET",
           "SK3 0EX",
           "SK3 0DE",
           "SK3 0DU",
           "SK3 0EQ",
           "SK3 1AS",
           "SK4 2BA",
           "SK4 2BB",
           "SK4 2HH",
           "SK4 2HJ",
           "SK4 2HR",
           "SK4 2HS",
           "SK4 2JD",
           "SK4 2JE",
           "SK4 2AJ",
           "SK4 2JG",
           "SK4 2JH",
           "SK4 2JL",
           "SK4 2JQ",
           "SK4 2LH",
           "SK4 2AW",
           "SK4 2BH",
           "SK3 0JD",
           "SK3 0BS",
           "SK3 0BX",
           "SK3 0DA",
           "SK3 0HY",
           "SK3 0JE",
           "SK3 0JG",
           "SK3 0JH",
           "SK3 0JJ",
           "SK3 0JL",
           "SK3 0JN",
           "SK3 0JP",
           "SK3 0JQ",
           "SK3 0JR",
           "SK3 0JU",
           "SK3 0JW",
           "SK3 0TS",
           "SK3 0TY",
           "SK3 0TZ",
           "SK3 0UA",
           "SK3 0UB",
           "SK3 0UF",
           "SK3 0UG",
           "SK3 0UH",
           "SK3 0UJ",
           "SK3 0UL",
           "SK3 0UN",
           "SK3 0UQ",
           "SK3 0UW",
           "SK3 0WD",
           "SK3 9NY",
           "SK3 0LX",
           "SK3 0NE",
           "SK3 0NF",
           "SK3 0NG",
           "SK3 0NH",
           "SK3 0NJ",
           "SK3 0NL",
           "SK3 0NN",
           "SK3 0NQ",
           "SK3 0JB",
           "SK3 0NS",
           "SK3 0AG",
           "SK6 3NE",
           "SK4 3LW",
           "SK4 3LY",
           "SK4 3LZ",
           "SK4 2HL",
           "SK4 2HN",
           "SK4 2HT",
           "SK4 2HU",
           "SK4 2HW",
           "SK4 2AE",
           "SK4 2AF",
           "SK4 2AG",
           "SK4 2AX",
           "SK4 2AY",
           "SK4 2AH",
           "SK4 2AL",
           "SK4 2AN",
           "SK4 2AP",
           "SK4 2AQ",
           "SK4 2AU",
           "SK4 2AZ",
           "SK3 0UP",
           "SK3 0UD",
           "SK3 0AS",
           "SK3 0BD",
           "SK3 0BR",
           "SK3 0BT",
           "SK3 0HX",
           "SK3 9PX",
           "SK3 0BZ",
           "SK3 0AT",
           "SK3 0BH"
          ],
          "received_time": "2021-04-10 14:16"
         },
         "10645093": {
          "description": "The power cut in your area has been caused by an unexpected incident with the underground cable that provides electricity to your property.",
          "estimated_restored_time": "2021-04-10 22:18",
          "incident_active": true,
          "incident_url": "https://www.enwl.co.uk/power-cuts/power-cuts-power-cuts-live-power-cut-information-fault-list/fault-list",
          "postcodes_impacted": [
           "M19 1GH",
           "M19 1GJ",
           "M19 1GP",
           "M19 1JS",
           "M19 1JX",
           "M19 1PL",
           "M19 1QH",
           "M19 1QJ",
           "M19 1QL",
           "M19 1QP",
           "M19 1RD",
           "M19 1RE",
           "M19 1RG",
           "M19 1RQ",
           "M19 1SX",
           "M19 1SY",
           "M31 4DE"
          ],
          "received_time": "2021-04-10 16:18"
         },
         "10645131": {
          "description": "The power cut in your area has been caused by an unexpected incident with the underground cable that provides electricity to your property.",
          "estimated_restored_time": "2021-04-11 00:02",
          "incident_active": true,
          "incident_url": "https://www.enwl.co.uk/power-cuts/power-cuts-power-cuts-live-power-cut-information-fault-list/fault-list",
          "postcodes_impacted": [
           "M18 7DY",
           "M18 7ED",
           "M18 7NF",
           "M18 7NH",
           "M18 7NL",
           "M18 7NN",
           "M18 7NP",
           "M18 7NS",
           "M18 7NW",
           "M18 7NX",
           "M18 7PY",
           "M18 7SD",
           "M18 7WE",
           "M18 7WN",
           "M18 7WP",
           "M18 7WR",
           "M18 7WW",
           "SK5 6PD"
          ],
          "received_time": "2021-04-10 17:57"
         },
         "40802689": {
          "description": "We carry out planned power cuts to improve the reliability of your electricity supply and so our engineers can safely work on the cables that provide electricity to your property.",
          "estimated_restored_time": "",
          "incident_active": false,
          "incident_url": "https://www.enwl.co.uk/power-cuts/power-cuts-power-cuts-live-power-cut-information-fault-list/fault-list",
          "postcodes_impacted": [
           "WA3 6WU",
           "WA3 6DE",
           "WA3 6BU",
           "WA3 6"
          ],
          "received_time": "2021-04-11 00:00"
         },
         "40803203": {
          "description": "We carry out planned power cuts to improve the reliability of your electricity supply and so our engineers can safely work on the cables that provide electricity to your property.",
          "estimated_restored_time": "",
          "incident_active": false,
          "incident_url": "https://www.enwl.co.uk/power-cuts/power-cuts-power-cuts-live-power-cut-information-fault-list/fault-list",
          "postcodes_impacted": [
           "PR6 7YA",
           "PR6 7PP",
           "PR6 7EA",
           "PR6 7DZ",
           "PR6 7DS",
           "PR5 2SP",
           "PR25 5LX"
          ],
          "received_time": "2021-04-14 00:00"
         },
         "40804007": {
          "description": "We carry out planned power cuts to improve the reliability of your electricity supply and so our engineers can safely work on the cables that provide electricity to your property.",
          "estimated_restored_time": "",
          "incident_active": false,
          "incident_url": "https://www.enwl.co.uk/power-cuts/power-cuts-power-cuts-live-power-cut-information-fault-list/fault-list",
          "postcodes_impacted": [
           "PR3 5AX",
           "PR3 5AU",
           "PR3 5AR",
           "PR3 5AQ",
           "PR3 2JS"
          ],
          "received_time": "2021-04-14 00:00"
         },
         "40805028": {
          "description": "We carry out planned power cuts to improve the reliability of your electricity supply and so our engineers can safely work on the cables that provide electricity to your property.",
          "estimated_restored_time": "",
          "incident_active": false,
          "incident_url": "https://www.enwl.co.uk/power-cuts/power-cuts-power-cuts-live-power-cut-information-fault-list/fault-list",
          "postcodes_impacted": [
           "PR9 8BB"
          ],
          "received_time": "2021-04-13 00:00"
         },
         "40805030": {
          "description": "We carry out planned power cuts to improve the reliability of your electricity supply and so our engineers can safely work on the cables that provide electricity to your property.",
          "estimated_restored_time": "",
          "incident_active": false,
          "incident_url": "https://www.enwl.co.uk/power-cuts/power-cuts-power-cuts-live-power-cut-information-fault-list/fault-list",
          "postcodes_impacted": [
           "PR4 5ZD",
           "PR4 5LH",
           "PR4 5LE",
           "PR4 5JY",
           "PR4 5JP",
           "PR4 5JN",
           "PR4 5JL",
           "PR4 5JH",
           "PR4",
           "PR1 8LE"
          ],
          "received_time": "2021-04-15 00:00"
         },
         "40807825": {
          "description": "We carry out planned power cuts to improve the reliability of your electricity supply and so our engineers can safely work on the cables that provide electricity to your property.",
          "estimated_restored_time": "",
          "incident_active": false,
          "incident_url": "https://www.enwl.co.uk/power-cuts/power-cuts-power-cuts-live-power-cut-information-fault-list/fault-list",
          "postcodes_impacted": [
           "BB4 5EY",
           "BB4 5EU",
           "BB4 5ES",
           "BB4 5ER",
           "BB4 5ED",
           "BB4 4PU",
           "BB4 4PB",
           "BB4"
          ],
          "received_time": "2021-04-11 00:00"
         },
         "40808471": {
          "description": "Good news! The power cut in your area caused by an unexpected incident on our high voltage cable has now been resolved.",
          "estimated_restored_time": "2021-04-10 14:55",
          "incident_active": false,
          "incident_url": "https://www.enwl.co.uk/power-cuts/power-cuts-power-cuts-live-power-cut-information-fault-list/fault-list",
          "postcodes_impacted": [
           "PR3 4JJ"
          ],
          "received_time": "2021-04-10 14:55"
         },
         "40809081": {
          "description": "Good news! The electricity in your area has been restored. The power cut was caused by an unexpected incident on our underground cable that provides your supply.",
          "estimated_restored_time": "2021-04-09 18:40",
          "incident_active": false,
          "incident_url": "https://www.enwl.co.uk/power-cuts/power-cuts-power-cuts-live-power-cut-information-fault-list/fault-list",
          "postcodes_impacted": [
           "OL10 2SX"
          ],
          "received_time": "2021-04-09 18:40"
         },
         "40809099": {
          "description": "Good news! The electricity in your area has been restored. The power cut was caused by an unexpected incident on our underground cable that provides your supply.",
          "estimated_restored_time": "2021-04-09 22:57",
          "incident_active": false,
          "incident_url": "https://www.enwl.co.uk/power-cuts/power-cuts-power-cuts-live-power-cut-information-fault-list/fault-list",
          "postcodes_impacted": [
           "BB5 4LP",
           "BB5 4LZ",
           "BB5 4NA",
           "BB5 4NB",
           "BB5 4ND",
           "BB5 4NE",
           "BB5 4NF",
           "BB5 4NG",
           "BB5 4NH",
           "BB5 4NQ",
           "BB5 4QT"
          ],
          "received_time": "2021-04-09 22:57"
         },
         "40809146": {
          "description": "Good news! The electricity in your area has been restored. The power cut was caused by an unexpected incident on our underground cable that provides your supply.",
          "estimated_restored_time": "2021-04-09 21:15",
          "incident_active": false,
          "incident_url": "https://www.enwl.co.uk/power-cuts/power-cuts-power-cuts-live-power-cut-information-fault-list/fault-list",
          "postcodes_impacted": [
           "BB12 7DX",
           "BB12 7EN",
           "BB12 7EP",
           "BB12 7EQ",
           "BB12 7ER",
           "BB12 7EW",
           "BB12 7EX",
           "BB12 7HD",
           "BB12 8RL",
           "BB12 8TG",
           "BB12 8TQ"
          ],
          "received_time": "2021-04-09 21:15"
         },
         "40809165": {
          "description": "Good news! The electricity in your area has been restored. The power cut was caused by a third party damaging our underground cable that provides your supply.",
          "estimated_restored_time": "2021-04-10 03:22",
          "incident_active": false,
          "incident_url": "https://www.enwl.co.uk/power-cuts/power-cuts-power-cuts-live-power-cut-information-fault-list/fault-list",
          "postcodes_impacted": [
           "M27 0PT",
           "M27 0PU",
           "M27 9PG",
           "M27 9PS",
           "M27 9PT",
           "M27 9PX",
           "M27 9PY",
           "M27 9PZ",
           "M27 9SH",
           "M27 9SJ",
           "M27 9UW"
          ],
          "received_time": "2021-04-10 03:22"
         },
         "40809168": {
          "description": "Good news! The electricity in your area has been restored. The power cut was caused by an unexpected incident on our underground cable that provides your supply.",
          "estimated_restored_time": "2021-04-10 01:30",
          "incident_active": false,
          "incident_url": "https://www.enwl.co.uk/power-cuts/power-cuts-power-cuts-live-power-cut-information-fault-list/fault-list",
          "postcodes_impacted": [
           "BL7 9BG",
           "BL7 9BQ",
           "BL7 9JJ",
           "BL7 9JL",
           "BL7 9LS",
           "BL7 9LT",
           "BL7 9LU",
           "BL7 9LX"
          ],
          "received_time": "2021-04-10 01:30"
         },
         "40809192": {
          "description": "We carry out planned power cuts to improve the reliability of your electricity supply and so our engineers can safely work on the cables that provide electricity to your property.",
          "estimated_restored_time": "",
          "incident_active": false,
          "incident_url": "https://www.enwl.co.uk/power-cuts/power-cuts-power-cuts-live-power-cut-information-fault-list/fault-list",
          "postcodes_impacted": [
           "PR5 4RX",
           "PR5 4RU",
           "PR5 4RT",
           "PR5 4RS",
           "PR5 4RR",
           "PR5 4RP",
           "PR5 4RN",
           "PR5 4RH",
           "PR5 4RE"
          ],
          "received_time": "2021-04-15 00:00"
         },
         "40809197": {
          "description": "Good news! The electricity in your area has been restored. The power cut was caused by an unexpected incident on our underground cable that provides your supply.",
          "estimated_restored_time": "2021-04-10 14:49",
          "incident_active": false,
          "incident_url": "https://www.enwl.co.uk/power-cuts/power-cuts-power-cuts-live-power-cut-information-fault-list/fault-list",
          "postcodes_impacted": [
           "PR7 1LP",
           "PR7 2DG",
           "PR7 2DN",
           "PR7 2DP",
           "PR7 2DQ",
           "PR7 2DR",
           "PR7 2DW",
           "PR7 2EB",
           "PR7 2HE",
           "PR7 2HF",
           "PR7 2HL",
           "PR7 2PE",
           "PR7 2PF",
           "PR7 2PU",
           "PR7 2PY",
           "PR7 2PZ",
           "PR7 2QW"
          ],
          "received_time": "2021-04-10 14:49"
         },
         "40809212": {
          "description": "Good news! The electricity in your area has been restored. The power cut was caused by a third party damaging our underground cable that provides your supply.",
          "estimated_restored_time": "2021-04-09 18:36",
          "incident_active": false,
          "incident_url": "https://www.enwl.co.uk/power-cuts/power-cuts-power-cuts-live-power-cut-information-fault-list/fault-list",
          "postcodes_impacted": [
           "WN6 0RL",
           "WN6 0SS",
           "WN6 0ST",
           "WN6 0TA",
           "WN6 0TB",
           "WN6 0YJ"
          ],
          "received_time": "2021-04-09 18:36"
         },
         "40809217": {
          "description": "We carry out planned power cuts to improve the reliability of your electricity supply and so our engineers can safely work on the cables that provide electricity to your property.",
          "estimated_restored_time": "",
          "incident_active": false,
          "incident_url": "https://www.enwl.co.uk/power-cuts/power-cuts-power-cuts-live-power-cut-information-fault-list/fault-list",
          "postcodes_impacted": [
           "BL8 4SA",
           "BL8 4LT",
           "BL8 4LP",
           "BL8 4BR",
           "BL0 9FS"
          ],
          "received_time": "2021-04-16 00:00"
         },
         "40809242": {
          "description": "Good news! The electricity in your area has been restored. The power cut was caused by a third party damaging our underground cable that provides your supply.",
          "estimated_restored_time": "2021-04-10 01:18",
          "incident_active": false,
          "incident_url": "https://www.enwl.co.uk/power-cuts/power-cuts-power-cuts-live-power-cut-information-fault-list/fault-list",
          "postcodes_impacted": [
           "BL1 7BY",
           "BL1 7BZ",
           "BL1 7DA",
           "BL1 7DB"
          ],
          "received_time": "2021-04-10 01:18"
         },
         "40809248": {
          "description": "Good news! The electricity in your area has been restored. The power cut was caused by an unexpected incident on our underground cable that provides your supply.",
          "estimated_restored_time": "2021-04-10 13:23",
          "incident_active": false,
          "incident_url": "https://www.enwl.co.uk/power-cuts/power-cuts-power-cuts-live-power-cut-information-fault-list/fault-list",
          "postcodes_impacted": [
           "BB1 2AP",
           "BB1 2AW",
           "BB1 2BX",
           "BB1 2DA",
           "BB1 3NN"
          ],
          "received_time": "2021-04-10 13:23"
         },
         "40809252": {
          "description": "Good news! The electricity in your area has been restored. The power cut was caused by a third party damaging our underground cable that provides your supply.",
          "estimated_restored_time": "2021-04-09 20:05",
          "incident_active": false,
          "incident_url": "https://www.enwl.co.uk/power-cuts/power-cuts-power-cuts-live-power-cut-information-fault-list/fault-list",
          "postcodes_impacted": [
           "M28 1EY",
           "M28 1EZ",
           "M28 1FG",
           "M28 1FQ",
           "M28 1FX",
           "M28 1FY",
           "M28 1FZ",
           "M28 1GA",
           "M28 1GB",
           "M28 1HA",
           "M28 1HB",
           "M28 1HD",
           "M28 1HH",
           "M28 1LD",
           "M28 1LE",
           "M28 1LF",
           "M28 1LL",
           "M28 1LW",
           "M28 1NA",
           "M28 1NE",
           "M28 1NF",
           "M28 1NG",
           "M28 1NH",
           "M28 1NN",
           "M28 1PB",
           "M28 1YB",
           "M28 1YP",
           "M28 1YY"
          ],
          "received_time": "2021-04-09 20:05"
         },
         "40809269": {
          "description": "Good news! The electricity in your area has been restored. The power cut was caused by an unexpected incident on our underground cable that provides your supply.",
          "estimated_restored_time": "2021-04-10 16:02",
          "incident_active": false,
          "incident_url": "https://www.enwl.co.uk/power-cuts/power-cuts-power-cuts-live-power-cut-information-fault-list/fault-list",
          "postcodes_impacted": [
           "PR4 3JJ"
          ],
          "received_time": "2021-04-10 16:02"
         },
         "40809289": {
          "description": "",
          "estimated_restored_time": "2021-04-10 05:50",
          "incident_active": false,
          "incident_url": "https://www.enwl.co.uk/power-cuts/power-cuts-power-cuts-live-power-cut-information-fault-list/fault-list",
          "postcodes_impacted": [
           "M29 7AD",
           "M29 7BF",
           "M29 7DY",
           "M29 7GQ"
          ],
          "received_time": "2021-04-10 05:50"
         },
         "40809293": {
          "description": "Good news! The power cut in your area caused by an unexpected incident on our high voltage cable has now been resolved.",
          "estimated_restored_time": "2021-04-10 09:01",
          "incident_active": false,
          "incident_url": "https://www.enwl.co.uk/power-cuts/power-cuts-power-cuts-live-power-cut-information-fault-list/fault-list",
          "postcodes_impacted": [
           "PR6 9LL",
           "PR6 9LZ",
           "PR6 9HH",
           "PR6 9HJ",
           "PR6 9HS",
           "PR6 9HT",
           "PR6 9HU",
           "PR6 9LX",
           "PR6 9NA"
          ],
          "received_time": "2021-04-10 09:01"
         },
         "40809295": {
          "description": "",
          "estimated_restored_time": "2021-04-10 11:39",
          "incident_active": false,
          "incident_url": "https://www.enwl.co.uk/power-cuts/power-cuts-power-cuts-live-power-cut-information-fault-list/fault-list",
          "postcodes_impacted": [
           "M29 7AD",
           "M29 7BF",
           "M29 7DY",
           "M29 7GQ"
          ],
          "received_time": "2021-04-10 11:39"
         },
         "40809316": {
          "description": "The power cut in your area has been caused by an unexpected incident with the underground cable that provides electricity to your property.",
          "estimated_restored_time": "2021-04-10 22:00",
          "incident_active": true,
          "incident_url": "https://www.enwl.co.uk/power-cuts/power-cuts-power-cuts-live-power-cut-information-fault-list/fault-list",
          "postcodes_impacted": [
           "BB3 2RG",
           "BB3 2RH",
           "BB3 2RJ",
           "BB3 2RL",
           "BB3 2RN",
           "BB3 3HY"
          ],
          "received_time": "2021-04-10 18:06"
         },
         "40809319": {
          "description": "Good news! The electricity in your area has been restored. The power cut was caused by an unexpected incident on our underground cable that provides your supply.",
          "estimated_restored_time": "2021-04-10 12:29",
          "incident_active": false,
          "incident_url": "https://www.enwl.co.uk/power-cuts/power-cuts-power-cuts-live-power-cut-information-fault-list/fault-list",
          "postcodes_impacted": [
           "BL9 8AB",
           "BL9 8AJ",
           "BL9 8AL",
           "BL9 8AP",
           "BL9 8AW",
           "BL9 8JJ"
          ],
          "received_time": "2021-04-10 12:29"
         },
         "40809328": {
          "description": "",
          "estimated_restored_time": "2021-04-10 13:03",
          "incident_active": false,
          "incident_url": "https://www.enwl.co.uk/power-cuts/power-cuts-power-cuts-live-power-cut-information-fault-list/fault-list",
          "postcodes_impacted": [
           "BB12 0ED",
           "BB12 0EF"
          ],
          "received_time": "2021-04-10 13:03"
         },
         "60504539": {
          "description": "We carry out planned power cuts to improve the reliability of your electricity supply and so our engineers can safely work on the cables that provide electricity to your property.",
          "estimated_restored_time": "",
          "incident_active": false,
          "incident_url": "https://www.enwl.co.uk/power-cuts/power-cuts-power-cuts-live-power-cut-information-fault-list/fault-list",
          "postcodes_impacted": [
           "LA8 8BL"
          ],
          "received_time": "2021-04-14 00:00"
         },
         "60504540": {
          "description": "We carry out planned power cuts to improve the reliability of your electricity supply and so our engineers can safely work on the cables that provide electricity to your property.",
          "estimated_restored_time": "",
          "incident_active": false,
          "incident_url": "https://www.enwl.co.uk/power-cuts/power-cuts-power-cuts-live-power-cut-information-fault-list/fault-list",
          "postcodes_impacted": [
           "CA13 9YN",
           "CA13 9YL",
           "CA13 9YE"
          ],
          "received_time": "2021-04-15 00:00"
         },
         "60504755": {
          "description": "We carry out planned power cuts to improve the reliability of your electricity supply and so our engineers can safely work on the cables that provide electricity to your property.",
          "estimated_restored_time": "",
          "incident_active": false,
          "incident_url": "https://www.enwl.co.uk/power-cuts/power-cuts-power-cuts-live-power-cut-information-fault-list/fault-list",
          "postcodes_impacted": [
           "BD23 4LT",
           "BD23 4LS",
           "BD23 4LQ",
           "BD23 4LN",
           "BD23 4LE",
           "BD23 4LD",
           "BD23 4LB",
           "BD23 4LA"
          ],
          "received_time": "2021-04-15 00:00"
         },
         "60504879": {
          "description": "We carry out planned power cuts to improve the reliability of your electricity supply and so our engineers can safely work on the cables that provide electricity to your property.",
          "estimated_restored_time": "",
          "incident_active": false,
          "incident_url": "https://www.enwl.co.uk/power-cuts/power-cuts-power-cuts-live-power-cut-information-fault-list/fault-list",
          "postcodes_impacted": [
           "CA7 0NW",
           "CA7 0NQ",
           "CA7 0NP",
           "CA7 0NN"
          ],
          "received_time": "2021-04-16 00:00"
         },
         "60505036": {
          "description": "We carry out planned power cuts to improve the reliability of your electricity supply and so our engineers can safely work on the cables that provide electricity to your property.",
          "estimated_restored_time": "",
          "incident_active": false,
          "incident_url": "https://www.enwl.co.uk/power-cuts/power-cuts-power-cuts-live-power-cut-information-fault-list/fault-list",
          "postcodes_impacted": [
           "CA10 3HU",
           "CA10 3HB"
          ],
          "received_time": "2021-04-14 00:00"
         },
         "60505285": {
          "description": "We carry out planned power cuts to improve the reliability of your electricity supply and so our engineers can safely work on the cables that provide electricity to your property.",
          "estimated_restored_time": "",
          "incident_active": false,
          "incident_url": "https://www.enwl.co.uk/power-cuts/power-cuts-power-cuts-live-power-cut-information-fault-list/fault-list",
          "postcodes_impacted": [
           "CA16 6RU",
           "CA16 6RT",
           "CA16 6RF",
           "CA16 6RE",
           "CA16 6RA"
          ],
          "received_time": "2021-04-12 00:00"
         },
         "60505288": {
          "description": "We carry out planned power cuts to improve the reliability of your electricity supply and so our engineers can safely work on the cables that provide electricity to your property.",
          "estimated_restored_time": "",
          "incident_active": false,
          "incident_url": "https://www.enwl.co.uk/power-cuts/power-cuts-power-cuts-live-power-cut-information-fault-list/fault-list",
          "postcodes_impacted": [
           "LA6 2QF",
           "LA6 2NS",
           "LA6 2NP",
           "LA6 2DQ",
           "LA6 2DG"
          ],
          "received_time": "2021-04-14 00:00"
         },
         "60506703": {
          "description": "We carry out planned power cuts to improve the reliability of your electricity supply and so our engineers can safely work on the cables that provide electricity to your property.",
          "estimated_restored_time": "",
          "incident_active": false,
          "incident_url": "https://www.enwl.co.uk/power-cuts/power-cuts-power-cuts-live-power-cut-information-fault-list/fault-list",
          "postcodes_impacted": [
           "LA2 8PU",
           "LA2 8PS"
          ],
          "received_time": "2021-04-13 00:00"
         },
         "60506713": {
          "description": "We carry out planned power cuts to improve the reliability of your electricity supply and so our engineers can safely work on the cables that provide electricity to your property.",
          "estimated_restored_time": "",
          "incident_active": false,
          "incident_url": "https://www.enwl.co.uk/power-cuts/power-cuts-power-cuts-live-power-cut-information-fault-list/fault-list",
          "postcodes_impacted": [
           "CA5 7JW",
           "CA5 7JQ",
           "CA5 7JL",
           "CA5 7JJ",
           "CA5 7JH"
          ],
          "received_time": "2021-04-14 00:00"
         },
         "60507287": {
          "description": "We carry out planned power cuts to improve the reliability of your electricity supply and so our engineers can safely work on the cables that provide electricity to your property.",
          "estimated_restored_time": "",
          "incident_active": false,
          "incident_url": "https://www.enwl.co.uk/power-cuts/power-cuts-power-cuts-live-power-cut-information-fault-list/fault-list",
          "postcodes_impacted": [
           "LA8 8DN",
           "LA8 8BW",
           "LA8 8BP"
          ],
          "received_time": "2021-04-15 00:00"
         },
         "60507571": {
          "description": "Good news! The power cut in your area caused by an unexpected incident on our high voltage cable has now been resolved.",
          "estimated_restored_time": "2021-04-10 11:44",
          "incident_active": false,
          "incident_url": "https://www.enwl.co.uk/power-cuts/power-cuts-power-cuts-live-power-cut-information-fault-list/fault-list",
          "postcodes_impacted": [
           "CA7 1HH",
           "CA5 1HH",
           "CA7 1HL",
           "CA5 1",
           "CA7 1HJ",
           "CA5 1HQ",
           "CA7 1HQ"
          ],
          "received_time": "2021-04-10 11:44"
         },
         "60507637": {
          "description": "We carry out planned power cuts to improve the reliability of your electricity supply and so our engineers can safely work on the cables that provide electricity to your property.",
          "estimated_restored_time": "",
          "incident_active": false,
          "incident_url": "https://www.enwl.co.uk/power-cuts/power-cuts-power-cuts-live-power-cut-information-fault-list/fault-list",
          "postcodes_impacted": [
           "CA15 8RX"
          ],
          "received_time": "2021-04-10 00:00"
         },
         "60508133": {
          "description": "",
          "estimated_restored_time": "2021-04-10 04:28",
          "incident_active": false,
          "incident_url": "https://www.enwl.co.uk/power-cuts/power-cuts-power-cuts-live-power-cut-information-fault-list/fault-list",
          "postcodes_impacted": [
           "LA14 1RH",
           "LA14 1RP",
           "LA14 1RT",
           "LA14 1RW",
           "LA14 1XA",
           "LA14 1XE",
           "LA14 2LF",
           "LA14 2LG",
           "LA14 2LN",
           "LA14 2LP",
           "LA14 2LW",
           "LA14 2ND",
           "LA14 2NJ",
           "LA14 2NN",
           "LA14 2NR",
           "LA14 2NT",
           "LA14 2NU",
           "LA14 2NX",
           "LA14 2PA",
           "LA14 4BQ"
          ],
          "received_time": "2021-04-10 04:28"
         }
        },
        "np": {
         "INCD-167229-A": {
          "description": "Damaged EHV U/G In Progress",
          "estimated_restored_time": "",
          "incident_active": true,
          "incident_url": "https://www.northernpowergrid.com/power-cuts",
          "postcodes_impacted": {
           "LS15 8AB": {
            "class": "models.MapDataLocation",
            "lat": 53.8048,
            "lng": -1.41077
           },
           "LS15 8AD": {
            "class": "models.MapDataLocation",
            "lat": 53.804,
            "lng": -1.42138
           },
           "LS15 8AE": {
            "class": "models.MapDataLocation",
            "lat": 53.8056,
            "lng": -1.42527
           },
           "LS15 8AJ": {
            "class": "models.MapDataLocation",
            "lat": 53.8073,
            "lng": -1.43811
           },
           "LS25 1AS": {
            "class": "models.MapDataLocation",
            "lat": 53.7946,
            "lng": -1.40015
           },
           "LS25 1NF": {
            "class": "models.MapDataLocation",
            "lat": 53.7973,
            "lng": -1.40888
           },
           "LS25 1NG": {
            "class": "models.MapDataLocation",
            "lat": 53.7984,
            "lng": -1.39455
           },
           "LS25 2DQ": {
            "class": "models.MapDataLocation",
            "lat": 53.7997,
            "lng": -1.39461
           }
          },
          "received_time": "2021-03-29 16:46"
         },
         "INCD-168880-A": {
          "description": "Unknown P1 Awaiting",
          "estimated_restored_time": "",
          "incident_active": true,
          "incident_url": "https://www.northernpowergrid.com/power-cuts",
          "postcodes_impacted": {
           "YO32 2NB": {
            "class": "models.MapDataLocation",
            "lat": 54.0133,
            "lng": -1.06187
           }
          },
          "received_time": "2021-04-05 14:08"
         },
         "INCD-170226-A": {
          "description": "Unknown P2 Awaiting",
          "estimated_restored_time": "",
          "incident_active": true,
          "incident_url": "https://www.northernpowergrid.com/power-cuts",
          "postcodes_impacted": {
           "WF16 9EH": {
            "class": "models.MapDataLocation",
            "lat": 53.7116,
            "lng": -1.67113
           }
          },
          "received_time": "2021-04-09 13:13"
         },
         "INCD-170320-A": {
          "description": "U/G Service repair In Progress",
          "estimated_restored_time": "",
          "incident_active": true,
          "incident_url": "https://www.northernpowergrid.com/power-cuts",
          "postcodes_impacted": {
           "DL14 0NB": {
            "class": "models.MapDataLocation",
            "lat": 54.6383,
            "lng": -1.76061
           }
          },
          "received_time": "2021-04-09 17:11"
         },
         "INCD-170449-A": {
          "description": "U/G LV Mains Repair (Other) In Progress",
          "estimated_restored_time": "2021-04-10 21:30",
          "incident_active": true,
          "incident_url": "https://www.northernpowergrid.com/power-cuts",
          "postcodes_impacted": {
           "YO15 2JE": {
            "class": "models.MapDataLocation",
            "lat": 54.089,
            "lng": -0.183265
           }
          },
          "received_time": "2021-04-10 11:05"
         },
         "INCD-170465-A": {
          "description": "U/G Service repair In Progress",
          "estimated_restored_time": "2021-04-10 20:00",
          "incident_active": true,
          "incident_url": "https://www.northernpowergrid.com/power-cuts",
          "postcodes_impacted": {
           "BD4 7QP": {
            "class": "models.MapDataLocation",
            "lat": 53.7787,
            "lng": -1.731
           }
          },
          "received_time": "2021-04-10 12:33"
         },
         "INCD-170466-A": {
          "description": "U/G Service repair In Progress",
          "estimated_restored_time": "2021-04-10 18:00",
          "incident_active": true,
          "incident_url": "https://www.northernpowergrid.com/power-cuts",
          "postcodes_impacted": {
           "YO2 3BH": {
            "class": "models.MapDataLocation",
            "lat": 53.9546,
            "lng": -1.12678
           },
           "YO24 3BJ": {
            "class": "models.MapDataLocation",
            "lat": 53.9553,
            "lng": -1.12523
           },
           "YO24 3BL": {
            "class": "models.MapDataLocation",
            "lat": 53.9554,
            "lng": -1.12405
           },
           "YO24 3BN": {
            "class": "models.MapDataLocation",
            "lat": 53.9551,
            "lng": -1.12485
           },
           "YO24 3BU": {
            "class": "models.MapDataLocation",
            "lat": 53.9536,
            "lng": -1.13118
           },
           "YO24 3DB": {
            "class": "models.MapDataLocation",
            "lat": 53.9544,
            "lng": -1.12433
           },
           "YO24 4NG": {
            "class": "models.MapDataLocation",
            "lat": 53.9548,
            "lng": -1.12303
           },
           "YO24 4NQ": {
            "class": "models.MapDataLocation",
            "lat": 53.9546,
            "lng": -1.12291
           }
          },
          "received_time": "2021-04-10 12:34"
         },
         "INCD-170469-A": {
          "description": "Unknown P1 Awaiting",
          "estimated_restored_time": "",
          "incident_active": true,
          "incident_url": "https://www.northernpowergrid.com/power-cuts",
          "postcodes_impacted": {
           "S74 9LD": {
            "class": "models.MapDataLocation",
            "lat": 53.4993,
            "lng": -1.43539
           }
          },
          "received_time": "2021-04-10 12:52"
         },
         "INCD-170470-A": {
          "description": "U/G Service repair In Progress",
          "estimated_restored_time": "2021-04-10 18:30",
          "incident_active": true,
          "incident_url": "https://www.northernpowergrid.com/power-cuts",
          "postcodes_impacted": {
           "S25 2PG": {
            "class": "models.MapDataLocation",
            "lat": 53.3664,
            "lng": -1.19967
           }
          },
          "received_time": "2021-04-10 12:48"
         },
         "INCD-170483-A": {
          "description": "U/G Service repair In Progress",
          "estimated_restored_time": "",
          "incident_active": true,
          "incident_url": "https://www.northernpowergrid.com/power-cuts",
          "postcodes_impacted": {
           "S61 1BJ": {
            "class": "models.MapDataLocation",
            "lat": 53.4288,
            "lng": -1.3777
           }
          },
          "received_time": "2021-04-10 15:07"
         },
         "INCD-170484-A": {
          "description": "U/G Service repair In Progress",
          "estimated_restored_time": "",
          "incident_active": true,
          "incident_url": "https://www.northernpowergrid.com/power-cuts",
          "postcodes_impacted": {
           "S36 1GA": {
            "class": "models.MapDataLocation",
            "lat": 53.4814,
            "lng": -1.60556
           }
          },
          "received_time": "2021-04-10 15:09"
         },
         "INCD-170489-A": {
          "description": "U/G LV Mains Repair (Other) In Progress",
          "estimated_restored_time": "2021-04-10 23:00",
          "incident_active": true,
          "incident_url": "https://www.northernpowergrid.com/power-cuts",
          "postcodes_impacted": {
           "HU17 0EG": {
            "class": "models.MapDataLocation",
            "lat": 53.841,
            "lng": -0.41982
           },
           "HU17 0NR": {
            "class": "models.MapDataLocation",
            "lat": 53.839,
            "lng": -0.422694
           },
           "HU17 0NU": {
            "class": "models.MapDataLocation",
            "lat": 53.8385,
            "lng": -0.418654
           },
           "HU17 0NY": {
            "class": "models.MapDataLocation",
            "lat": 53.8387,
            "lng": -0.416775
           },
           "HU17 0NZ": {
            "class": "models.MapDataLocation",
            "lat": 53.839,
            "lng": -0.416737
           },
           "HU17 0PA": {
            "class": "models.MapDataLocation",
            "lat": 53.8383,
            "lng": -0.417432
           },
           "HU17 0QP": {
            "class": "models.MapDataLocation",
            "lat": 53.8407,
            "lng": -0.414681
           },
           "HU17 0QT": {
            "class": "models.MapDataLocation",
            "lat": 53.8401,
            "lng": -0.417484
           },
           "HU17 0QY": {
            "class": "models.MapDataLocation",
            "lat": 53.8402,
            "lng": -0.41628
           },
           "HU17 0SY": {
            "class": "models.MapDataLocation",
            "lat": 53.8337,
            "lng": -0.416766
           },
           "HU17 0TU": {
            "class": "models.MapDataLocation",
            "lat": 53.8386,
            "lng": -0.416962
           }
          },
          "received_time": "2021-04-10 15:08"
         },
         "INCD-170492-A": {
          "description": "Unknown P2 In Progress",
          "estimated_restored_time": "2021-04-10 19:00",
          "incident_active": true,
          "incident_url": "https://www.northernpowergrid.com/power-cuts",
          "postcodes_impacted": {
           "LS10 4QS": {
            "class": "models.MapDataLocation",
            "lat": 53.7588,
            "lng": -1.51634
           }
          },
          "received_time": "2021-04-10 15:46"
         },
         "INCD-170493-A": {
          "description": "Unknown P2 In Progress",
          "estimated_restored_time": "2021-04-10 19:00",
          "incident_active": true,
          "incident_url": "https://www.northernpowergrid.com/power-cuts",
          "postcodes_impacted": {
           "HD1 3AY": {
            "class": "models.MapDataLocation",
            "lat": 53.639,
            "lng": -1.78072
           }
          },
          "received_time": "2021-04-10 15:48"
         },
         "INCD-170494-A": {
          "description": "O/H HV Mains Repair In Progress",
          "estimated_restored_time": "2021-04-10 19:00",
          "incident_active": true,
          "incident_url": "https://www.northernpowergrid.com/power-cuts",
          "postcodes_impacted": {
           "DN14 7XT": {
            "class": "models.MapDataLocation",
            "lat": 53.7185,
            "lng": -0.721506
           },
           "DN14 7XU": {
            "class": "models.MapDataLocation",
            "lat": 53.7159,
            "lng": -0.711704
           },
           "DN14 7XX": {
            "class": "models.MapDataLocation",
            "lat": 53.722,
            "lng": -0.739587
           },
           "DN14 7XY": {
            "class": "models.MapDataLocation",
            "lat": 53.7082,
            "lng": -0.758741
           },
           "DN14 7YN": {
            "class": "models.MapDataLocation",
            "lat": 53.7099,
            "lng": -0.718993
           },
           "DN14 7YP": {
            "class": "models.MapDataLocation",
            "lat": 53.7081,
            "lng": -0.73323
           },
           "DN14 7YR": {
            "class": "models.MapDataLocation",
            "lat": 53.7064,
            "lng": -0.694059
           },
           "DN14 7YS": {
            "class": "models.MapDataLocation",
            "lat": 53.7129,
            "lng": -0.696265
           },
           "DN14 7YT": {
            "class": "models.MapDataLocation",
            "lat": 53.712,
            "lng": -0.692658
           },
           "DN14 7YW": {
            "class": "models.MapDataLocation",
            "lat": 53.7075,
            "lng": -0.724977
           },
           "DN14 8QH": {
            "class": "models.MapDataLocation",
            "lat": 53.6975,
            "lng": -0.969501
           },
           "HU15 2TB": {
            "class": "models.MapDataLocation",
            "lat": 53.7419,
            "lng": -0.731212
           },
           "HU15 2TE": {
            "class": "models.MapDataLocation",
            "lat": 53.744,
            "lng": -0.732301
           }
          },
          "received_time": "2021-04-10 15:15"
         },
         "INCD-170495-A": {
          "description": "Unknown P2 In Progress",
          "estimated_restored_time": "2021-04-10 19:00",
          "incident_active": true,
          "incident_url": "https://www.northernpowergrid.com/power-cuts",
          "postcodes_impacted": {
           "TS23 3QF": {
            "class": "models.MapDataLocation",
            "lat": 54.6211,
            "lng": -1.28147
           }
          },
          "received_time": "2021-04-10 15:56"
         },
         "INCD-170498-A": {
          "description": "Unknown P1 In Progress",
          "estimated_restored_time": "",
          "incident_active": true,
          "incident_url": "https://www.northernpowergrid.com/power-cuts",
          "postcodes_impacted": {
           "NE68 7YT": {
            "class": "models.MapDataLocation",
            "lat": 55.5784,
            "lng": -1.65729
           }
          },
          "received_time": "2021-04-10 16:23"
         },
         "INCD-170499-A": {
          "description": "Unknown P2 In Progress",
          "estimated_restored_time": "2021-04-10 19:30",
          "incident_active": true,
          "incident_url": "https://www.northernpowergrid.com/power-cuts",
          "postcodes_impacted": {
           "SR7 9BP": {
            "class": "models.MapDataLocation",
            "lat": 54.8153,
            "lng": -1.38623
           }
          },
          "received_time": "2021-04-10 16:23"
         },
         "INCD-170503-A": {
          "description": "Unknown P2 In Progress",
          "estimated_restored_time": "2021-04-10 20:15",
          "incident_active": true,
          "incident_url": "https://www.northernpowergrid.com/power-cuts",
          "postcodes_impacted": {
           "NE64 6HN": {
            "class": "models.MapDataLocation",
            "lat": 55.1856,
            "lng": -1.51458
           }
          },
          "received_time": "2021-04-10 17:02"
         },
         "INCD-170504-A": {
          "description": "Unknown P2 In Progress",
          "estimated_restored_time": "2021-04-10 20:15",
          "incident_active": true,
          "incident_url": "https://www.northernpowergrid.com/power-cuts",
          "postcodes_impacted": {
           "S61 3NR": {
            "class": "models.MapDataLocation",
            "lat": 53.4421,
            "lng": -1.40258
           }
          },
          "received_time": "2021-04-10 17:08"
         },
         "INCD-170505-A": {
          "description": "Unknown P1 Awaiting",
          "estimated_restored_time": "",
          "incident_active": true,
          "incident_url": "https://www.northernpowergrid.com/power-cuts",
          "postcodes_impacted": {
           "DL3 6AD": {
            "class": "models.MapDataLocation",
            "lat": 54.5316,
            "lng": -1.55595
           }
          },
          "received_time": "2021-04-10 17:13"
         },
         "INCD-170506-A": {
          "description": "Unknown P2 Awaiting",
          "estimated_restored_time": "2021-04-10 20:30",
          "incident_active": true,
          "incident_url": "https://www.northernpowergrid.com/power-cuts",
          "postcodes_impacted": {
           "DL5 5PN": {
            "class": "models.MapDataLocation",
            "lat": 54.6191,
            "lng": -1.56382
           }
          },
          "received_time": "2021-04-10 17:18"
         },
         "PPC039562": {
          "description": "We need to temporarily turn the power off to carry out replacement of poles that support our overhead power lines in the area. In Progress",
          "estimated_restored_time": "2021-04-15 15:00",
          "incident_active": true,
          "incident_url": "https://www.northernpowergrid.com/power-cuts",
          "postcodes_impacted": {
           "HX3 6AQ": {
            "class": "models.MapDataLocation",
            "lat": 53.7264,
            "lng": -1.84893
           },
           "HX3 8PL": {
            "class": "models.MapDataLocation",
            "lat": 53.7238,
            "lng": -1.82165
           },
           "HX3 9NJ": {
            "class": "models.MapDataLocation",
            "lat": 53.716,
            "lng": -1.84235
           },
           "HX3 9NR": {
            "class": "models.MapDataLocation",
            "lat": 53.7171,
            "lng": -1.84163
           },
           "HX3 9NS": {
            "class": "models.MapDataLocation",
            "lat": 53.7172,
            "lng": -1.84239
           },
           "HX3 9NT": {
            "class": "models.MapDataLocation",
            "lat": 53.7177,
            "lng": -1.84201
           },
           "HX3 9NU": {
            "class": "models.MapDataLocation",
            "lat": 53.7178,
            "lng": -1.84134
           },
           "HX3 9NW": {
            "class": "models.MapDataLocation",
            "lat": 53.718,
            "lng": -1.84354
           },
           "HX3 9NX": {
            "class": "models.MapDataLocation",
            "lat": 53.7183,
            "lng": -1.84214
           },
           "HX3 9PA": {
            "class": "models.MapDataLocation",
            "lat": 53.7162,
            "lng": -1.84158
           },
           "HX3 9TW": {
            "class": "models.MapDataLocation",
            "lat": 53.7243,
            "lng": -1.85738
           },
           "HX3 9UD": {
            "class": "models.MapDataLocation",
            "lat": 53.7225,
            "lng": -1.84222
           },
           "HX3 9UE": {
            "class": "models.MapDataLocation",
            "lat": 53.7199,
            "lng": -1.83632
           },
           "HX3 9UF": {
            "class": "models.MapDataLocation",
            "lat": 53.7185,
            "lng": -1.83487
           }
          },
          "received_time": "2021-04-10 08:00"
         },
         "PPC039563": {
          "description": "We need to temporarily turn the power off to carry out maintenance on our network in the area. The scheduled work has now been completed",
          "estimated_restored_time": "2021-04-10 12:30",
          "incident_active": true,
          "incident_url": "https://www.northernpowergrid.com/power-cuts",
          "postcodes_impacted": {
           "WF1 4QY": {
            "class": "models.MapDataLocation",
            "lat": 53.6872,
            "lng": -1.48102
           }
          },
          "received_time": "2021-04-10 08:30"
         },
         "PPC039565": {
          "description": "We need to temporarily turn the power off to carry out replacement of poles that support our overhead power lines in the area. In Progress",
          "estimated_restored_time": "2021-04-15 15:00",
          "incident_active": true,
          "incident_url": "https://www.northernpowergrid.com/power-cuts",
          "postcodes_impacted": {
           "HX3 9SX": {
            "class": "models.MapDataLocation",
            "lat": 53.7066,
            "lng": -1.80109
           },
           "HX3 9SZ": {
            "class": "models.MapDataLocation",
            "lat": 53.7072,
            "lng": -1.80637
           },
           "HX3 9TA": {
            "class": "models.MapDataLocation",
            "lat": 53.7101,
            "lng": -1.80913
           },
           "HX3 9TD": {
            "class": "models.MapDataLocation",
            "lat": 53.7087,
            "lng": -1.81952
           },
           "HX3 9TE": {
            "class": "models.MapDataLocation",
            "lat": 53.7113,
            "lng": -1.81743
           },
           "HX3 9TF": {
            "class": "models.MapDataLocation",
            "lat": 53.7177,
            "lng": -1.82668
           },
           "HX3 9TQ": {
            "class": "models.MapDataLocation",
            "lat": 53.7108,
            "lng": -1.81972
           }
          },
          "received_time": "2021-04-10 08:00"
         },
         "PPC039580": {
          "description": "We need to temporarily turn the power off to connect a new customer in the area. The scheduled work has now been completed",
          "estimated_restored_time": "2021-04-10 12:00",
          "incident_active": true,
          "incident_url": "https://www.northernpowergrid.com/power-cuts",
          "postcodes_impacted": {
           "BD23 5JR": {
            "class": "models.MapDataLocation",
            "lat": 54.2289,
            "lng": -2.20105
           },
           "BD23 5JS": {
            "class": "models.MapDataLocation",
            "lat": 54.2379,
            "lng": -2.23523
           },
           "BD23 5JT": {
            "class": "models.MapDataLocation",
            "lat": 54.2348,
            "lng": -2.27131
           }
          },
          "received_time": "2021-04-10 09:00"
         },
         "PPC039633": {
          "description": "We need to temporarily turn the power off to undertake vegetation management in the area. The scheduled work has now been completed",
          "estimated_restored_time": "2021-04-10 15:00",
          "incident_active": true,
          "incident_url": "https://www.northernpowergrid.com/power-cuts",
          "postcodes_impacted": {
           "S62 7RX": {
            "class": "models.MapDataLocation",
            "lat": 53.4751,
            "lng": -1.36728
           }
          },
          "received_time": "2021-04-10 08:00"
         }
        },
        "sp": {
         "INCD-1807490-i": {
          "description": "There was a fault in your area which has now been resolved.  If you are still without power. please call us on: \nCentral and Southern Scotland: 0800 092 9290 . \n Cheshire, Merseyside, North Wales and North Shropshire: 0800 001 5400.",
          "estimated_restored_time": "",
          "incident_active": false,
          "incident_url": "https://www.spenergynetworks.co.uk/pages/power_cuts_map.aspx?incRef=INCD-1807490-i",
          "postcodes_impacted": [
           "L362QJ"
          ],
          "received_time": "2021-04-09 15:52"
         },
         "INCD-1807520-i": {
          "description": "There was a fault in your area which has now been resolved.  If you are still without power. please call us on: \nCentral and Southern Scotland: 0800 092 9290 . \n Cheshire, Merseyside, North Wales and North Shropshire: 0800 001 5400.",
          "estimated_restored_time": "",
          "incident_active": false,
          "incident_url": "https://www.spenergynetworks.co.uk/pages/power_cuts_map.aspx?incRef=INCD-1807520-i",
          "postcodes_impacted": [
           "CH23BN",
           "CH23EL",
           "CH23EN",
           "CH23EP",
           "CH23ES",
           "CH23EW",
           "CH23FB",
           "CH23LF"
          ],
          "received_time": "2021-04-09 18:40"
         },
         "INCD-1807544-i": {
          "description": "There was a fault in your area which has now been resolved.  If you are still without power. please call us on: \nCentral and Southern Scotland: 0800 092 9290 . \n Cheshire, Merseyside, North Wales and North Shropshire: 0800 001 5400.",
          "estimated_restored_time": "",
          "incident_active": false,
          "incident_url": "https://www.spenergynetworks.co.uk/pages/power_cuts_map.aspx?incRef=INCD-1807544-i",
          "postcodes_impacted": [
           "L220LW",
           "L220NH",
           "L220NL",
           "L220NU",
           "L229QB",
           "L229QX"
          ],
          "received_time": "2021-04-09 20:47"
         },
         "INCD-1807562-i": {
          "description": "There was a fault in your area which has now been resolved.  If you are still without power. please call us on: \nCentral and Southern Scotland: 0800 092 9290 . \n Cheshire, Merseyside, North Wales and North Shropshire: 0800 001 5400.",
          "estimated_restored_time": "",
          "incident_active": false,
          "incident_url": "https://www.spenergynetworks.co.uk/pages/power_cuts_map.aspx?incRef=INCD-1807562-i",
          "postcodes_impacted": [
           "EH451AA",
           "EH458FF",
           "EH458QX",
           "EH458QY",
           "EH458QZ",
           "EH458RA",
           "EH458RB",
           "EH461AA",
           "EH461AZ",
           "EH467",
           "EH467AZ",
           "EH467BA",
           "EH467BB",
           "EH467BD",
           "EH467BG",
           "EH467BN",
           "EH467BQ",
           "EH477BD",
           "EH487BG",
           "FK94NX"
          ],
          "received_time": "2021-04-09 23:06"
         },
         "INCD-1807568-i": {
          "description": "There was a fault in your area which has now been resolved.  If you are still without power. please call us on: \nCentral and Southern Scotland: 0800 092 9290 . \n Cheshire, Merseyside, North Wales and North Shropshire: 0800 001 5400.",
          "estimated_restored_time": "",
          "incident_active": false,
          "incident_url": "https://www.spenergynetworks.co.uk/pages/power_cuts_map.aspx?incRef=INCD-1807568-i",
          "postcodes_impacted": [
           "LL120AA",
           "LL120AR",
           "LL120AW",
           "LL120GB",
           "LL120HE",
           "LL120HS",
           "LL120HT",
           "LL120HU",
           "LL120HY",
           "LL120LA",
           "LL120LB",
           "LL120LD",
           "LL120LE",
           "LL120LF",
           "LL12LA",
           "LL138JL"
          ],
          "received_time": "2021-04-10 00:08"
         },
         "INCD-1807586-i": {
          "description": "There was a fault in your area which has now been resolved.  If you are still without power. please call us on: \nCentral and Southern Scotland: 0800 092 9290 . \n Cheshire, Merseyside, North Wales and North Shropshire: 0800 001 5400.",
          "estimated_restored_time": "",
          "incident_active": false,
          "incident_url": "https://www.spenergynetworks.co.uk/pages/power_cuts_map.aspx?incRef=INCD-1807586-i",
          "postcodes_impacted": [
           "CW30JB",
           "CW57AA",
           "CW57PG",
           "CW57PH",
           "CW57PL",
           "CW57PQ"
          ],
          "received_time": "2021-04-10 09:04"
         },
         "INCD-1807604-i": {
          "description": "There was a fault in your area which has now been resolved.  If you are still without power. please call us on: \nCentral and Southern Scotland: 0800 092 9290 . \n Cheshire, Merseyside, North Wales and North Shropshire: 0800 001 5400.",
          "estimated_restored_time": "",
          "incident_active": false,
          "incident_url": "https://www.spenergynetworks.co.uk/pages/power_cuts_map.aspx?incRef=INCD-1807604-i",
          "postcodes_impacted": [
           "SY245HY",
           "SY245HZ",
           "SY245NS"
          ],
          "received_time": "2021-04-10 11:05"
         },
         "INCD-1807616-i": {
          "description": "There was a fault in your area which has now been resolved.  If you are still without power. please call us on: \nCentral and Southern Scotland: 0800 092 9290 . \n Cheshire, Merseyside, North Wales and North Shropshire: 0800 001 5400.",
          "estimated_restored_time": "",
          "incident_active": false,
          "incident_url": "https://www.spenergynetworks.co.uk/pages/power_cuts_map.aspx?incRef=INCD-1807616-i",
          "postcodes_impacted": [
           "LL653RD"
          ],
          "received_time": "2021-04-10 11:21"
         },
         "INCD-1807646-i": {
          "description": "There was a fault in your area which has now been resolved.  If you are still without power. please call us on: \nCentral and Southern Scotland: 0800 092 9290 . \n Cheshire, Merseyside, North Wales and North Shropshire: 0800 001 5400.",
          "estimated_restored_time": "",
          "incident_active": false,
          "incident_url": "https://www.spenergynetworks.co.uk/pages/power_cuts_map.aspx?incRef=INCD-1807646-i",
          "postcodes_impacted": [
           "LL653PU",
           "LL653RD",
           "LL653RE",
           "LL653RF",
           "LL653RG"
          ],
          "received_time": "2021-04-10 13:02"
         },
         "INCD-1807664-i": {
          "description": "There was a fault in your area which has now been resolved.  If you are still without power. please call us on: \nCentral and Southern Scotland: 0800 092 9290 . \n Cheshire, Merseyside, North Wales and North Shropshire: 0800 001 5400.",
          "estimated_restored_time": "",
          "incident_active": false,
          "incident_url": "https://www.spenergynetworks.co.uk/pages/power_cuts_map.aspx?incRef=INCD-1807664-i",
          "postcodes_impacted": [
           "ML110RE",
           "ML110RH",
           "ML110RN",
           "ML110RQ",
           "ML110SB",
           "ML119PD",
           "ML119XX"
          ],
          "received_time": "2021-04-10 16:09"
         },
         "INCD-1807676-i": {
          "description": "There is a power cut affecting the  SY17 postcode area of Caersws, affecting properties in Llanwnog and surrounding areas. We had no advance warning of this and only became aware of it at 5:39PM. Our engineers have arrived on site and confirmed the power cut has been caused by a fault on the electrical cable network. Our team will work to get your power back on as quickly and as safely as possible. We expect the power to be restored by 7:45PM. We will update this message if this information changes. We apologise for the inconvenience and thank you for your patience. This message was updated at 6:25PM on 10th April 2021.",
          "estimated_restored_time": "2021-04-10 18:39",
          "incident_active": true,
          "incident_url": "https://www.spenergynetworks.co.uk/pages/power_cuts_map.aspx?incRef=INCD-1807676-i",
          "postcodes_impacted": [
           "SY175JD",
           "SY175JE",
           "SY175JF",
           "SY175JG",
           "SY175JH",
           "SY175JQ",
           "SY175LX",
           "SY175ND",
           "SY175NE",
           "SY175NJ",
           "SY175NL",
           "SY175NN",
           "SY175NP",
           "SY175NQ",
           "SY175NR",
           "SY175NS",
           "SY175NW",
           "SY175PD",
           "SY215NJ"
          ],
          "received_time": "2021-04-10 17:39"
         },
         "INCD-370816-r": {
          "description": "There was a fault in your area which has now been resolved.  If you are still without power. please call us on: \nCentral and Southern Scotland: 0800 092 9290 . \n Cheshire, Merseyside, North Wales and North Shropshire: 0800 001 5400.",
          "estimated_restored_time": "",
          "incident_active": false,
          "incident_url": "https://www.spenergynetworks.co.uk/pages/power_cuts_map.aspx?incRef=INCD-370816-r",
          "postcodes_impacted": [
           "CH437ZH",
           "CH437ZQ"
          ],
          "received_time": "2021-04-07 13:03"
         },
         "INCD-371344-r": {
          "description": "There was a fault in your area which has now been resolved.  If you are still without power. please call us on: \nCentral and Southern Scotland: 0800 092 9290 . \n Cheshire, Merseyside, North Wales and North Shropshire: 0800 001 5400.",
          "estimated_restored_time": "",
          "incident_active": false,
          "incident_url": "https://www.spenergynetworks.co.uk/pages/power_cuts_map.aspx?incRef=INCD-371344-r",
          "postcodes_impacted": [
           "LL295RU",
           "LL297RU",
           "LL297SA",
           "LL298DN",
           "LL298DU",
           "LL298DW",
           "LL298EL",
           "LL298EP"
          ],
          "received_time": "2021-04-09 14:42"
         },
         "INCD-371368-r": {
          "description": "We are aware of a fault in your area. If you require more information please call us on: \nCentral and Southern Scotland:  0800 092 9290 . \n Cheshire, Merseyside, North Wales and North Shropshire: 0800 001 5400.",
          "estimated_restored_time": "2021-04-10 18:30",
          "incident_active": true,
          "incident_url": "https://www.spenergynetworks.co.uk/pages/power_cuts_map.aspx?incRef=INCD-371368-r",
          "postcodes_impacted": [
           "SY120AN",
           "SY120DG",
           "SY120EJ",
           "SY120FE"
          ],
          "received_time": "2021-04-09 16:06"
         },
         "INCD-371386-r": {
          "description": "There was a fault in your area which has now been resolved.  If you are still without power. please call us on: \nCentral and Southern Scotland: 0800 092 9290 . \n Cheshire, Merseyside, North Wales and North Shropshire: 0800 001 5400.",
          "estimated_restored_time": "",
          "incident_active": false,
          "incident_url": "https://www.spenergynetworks.co.uk/pages/power_cuts_map.aspx?incRef=INCD-371386-r",
          "postcodes_impacted": [
           "SY11",
           "SY114JU",
           "SY114LE",
           "SY114LF",
           "SY114QE"
          ],
          "received_time": "2021-04-09 16:39"
         },
         "INCD-371446-r": {
          "description": "There was a fault in your area which has now been resolved.  If you are still without power. please call us on: \nCentral and Southern Scotland: 0800 092 9290 . \n Cheshire, Merseyside, North Wales and North Shropshire: 0800 001 5400.",
          "estimated_restored_time": "",
          "incident_active": false,
          "incident_url": "https://www.spenergynetworks.co.uk/pages/power_cuts_map.aspx?incRef=INCD-371446-r",
          "postcodes_impacted": [
           "L208RQ"
          ],
          "received_time": "2021-04-10 10:39"
         },
         "INCD-493337-k": {
          "description": "There was a planned outage in your area which is now complete.  If you are still without power. please call us on: \nCentral and Southern Scotland: 0800 092 9290 . \n Cheshire, Merseyside, North Wales and North Shropshire: 0800 001 5400.",
          "estimated_restored_time": "",
          "incident_active": false,
          "incident_url": "https://www.spenergynetworks.co.uk/pages/power_cuts_map.aspx?incRef=INCD-493337-k",
          "postcodes_impacted": [
           "ML43JB",
           "ML43JG",
           "ML43LP",
           "ML43LQ",
           "ML43LT",
           "ML43LU",
           "ML43LW",
           "ML43NQ"
          ],
          "received_time": "2021-03-29 14:51"
         },
         "INCD-495983-k": {
          "description": "There was a fault in your area which has now been resolved.  If you are still without power. please call us on: \nCentral and Southern Scotland: 0800 092 9290 . \n Cheshire, Merseyside, North Wales and North Shropshire: 0800 001 5400.",
          "estimated_restored_time": "",
          "incident_active": false,
          "incident_url": "https://www.spenergynetworks.co.uk/pages/power_cuts_map.aspx?incRef=INCD-495983-k",
          "postcodes_impacted": [
           "PA12UJ"
          ],
          "received_time": "2021-04-10 07:58"
         },
         "INCD-496007-k": {
          "description": "There was a fault in your area which has now been resolved.  If you are still without power. please call us on: \nCentral and Southern Scotland: 0800 092 9290 . \n Cheshire, Merseyside, North Wales and North Shropshire: 0800 001 5400.",
          "estimated_restored_time": "",
          "incident_active": false,
          "incident_url": "https://www.spenergynetworks.co.uk/pages/power_cuts_map.aspx?incRef=INCD-496007-k",
          "postcodes_impacted": [
           "WA58TB"
          ],
          "received_time": "2021-04-10 09:43"
         },
         "INCD-496019-k": {
          "description": "There was a fault in your area which has now been resolved.  If you are still without power. please call us on: \nCentral and Southern Scotland: 0800 092 9290 . \n Cheshire, Merseyside, North Wales and North Shropshire: 0800 001 5400.",
          "estimated_restored_time": "",
          "incident_active": false,
          "incident_url": "https://www.spenergynetworks.co.uk/pages/power_cuts_map.aspx?incRef=INCD-496019-k",
          "postcodes_impacted": [
           "KA29DQ",
           "KA29EY",
           "KA29EZ"
          ],
          "received_time": "2021-04-10 11:37"
         },
         "INCD-502287-f": {
          "description": "There was a fault in your area which has now been resolved.  If you are still without power. please call us on: \nCentral and Southern Scotland: 0800 092 9290 . \n Cheshire, Merseyside, North Wales and North Shropshire: 0800 001 5400.",
          "estimated_restored_time": "",
          "incident_active": false,
          "incident_url": "https://www.spenergynetworks.co.uk/pages/power_cuts_map.aspx?incRef=INCD-502287-f",
          "postcodes_impacted": [
           "FK77LT"
          ],
          "received_time": "2021-04-02 08:32"
         },
         "INCD-503781-f": {
          "description": "There was a fault in your area which has now been resolved.  If you are still without power. please call us on: \nCentral and Southern Scotland: 0800 092 9290 . \n Cheshire, Merseyside, North Wales and North Shropshire: 0800 001 5400.",
          "estimated_restored_time": "",
          "incident_active": false,
          "incident_url": "https://www.spenergynetworks.co.uk/pages/power_cuts_map.aspx?incRef=INCD-503781-f",
          "postcodes_impacted": [
           "ML54BX"
          ],
          "received_time": "2021-04-09 15:30"
         },
         "INCD-503805-f": {
          "description": "There was a fault in your area which has now been resolved.  If you are still without power. please call us on: \nCentral and Southern Scotland: 0800 092 9290 . \n Cheshire, Merseyside, North Wales and North Shropshire: 0800 001 5400.",
          "estimated_restored_time": "",
          "incident_active": false,
          "incident_url": "https://www.spenergynetworks.co.uk/pages/power_cuts_map.aspx?incRef=INCD-503805-f",
          "postcodes_impacted": [
           "G427NG",
           "G428SL",
           "G428SP",
           "G428SR",
           "G428SS",
           "G428SW",
           "G428XX"
          ],
          "received_time": "2021-04-09 22:53"
         },
         "INCD-503817-f": {
          "description": "There was a fault in your area which has now been resolved.  If you are still without power. please call us on: \nCentral and Southern Scotland: 0800 092 9290 . \n Cheshire, Merseyside, North Wales and North Shropshire: 0800 001 5400.",
          "estimated_restored_time": "",
          "incident_active": false,
          "incident_url": "https://www.spenergynetworks.co.uk/pages/power_cuts_map.aspx?incRef=INCD-503817-f",
          "postcodes_impacted": [
           "PA151EL",
           "PA151EZ",
           "PA151HA",
           "PA151HB",
           "PA151HD",
           "PA151HE",
           "PA151HG",
           "PA151HH",
           "PA154RN",
           "PA154RW"
          ],
          "received_time": "2021-04-09 23:24"
         },
         "INCD-503829-f": {
          "description": "There was a fault in your area which has now been resolved.  If you are still without power. please call us on: \nCentral and Southern Scotland: 0800 092 9290 . \n Cheshire, Merseyside, North Wales and North Shropshire: 0800 001 5400.",
          "estimated_restored_time": "",
          "incident_active": false,
          "incident_url": "https://www.spenergynetworks.co.uk/pages/power_cuts_map.aspx?incRef=INCD-503829-f",
          "postcodes_impacted": [
           "KA181SH",
           "KA183AA",
           "KA183AB",
           "KA183AD",
           "KA183AF",
           "KA183AG",
           "KA183DB",
           "KA183EG"
          ],
          "received_time": "2021-04-10 00:35"
         },
         "INCD-503841-f": {
          "description": "There was a fault in your area which has now been resolved.  If you are still without power. please call us on: \nCentral and Southern Scotland: 0800 092 9290 . \n Cheshire, Merseyside, North Wales and North Shropshire: 0800 001 5400.",
          "estimated_restored_time": "",
          "incident_active": false,
          "incident_url": "https://www.spenergynetworks.co.uk/pages/power_cuts_map.aspx?incRef=INCD-503841-f",
          "postcodes_impacted": [
           "KY62RP",
           "KY62RW"
          ],
          "received_time": "2021-04-10 07:00"
         },
         "INCD-503847-f": {
          "description": "There was a fault in your area which has now been resolved.  If you are still without power. please call us on: \nCentral and Southern Scotland: 0800 092 9290 . \n Cheshire, Merseyside, North Wales and North Shropshire: 0800 001 5400.",
          "estimated_restored_time": "",
          "incident_active": false,
          "incident_url": "https://www.spenergynetworks.co.uk/pages/power_cuts_map.aspx?incRef=INCD-503847-f",
          "postcodes_impacted": [
           "ML42AT",
           "ML42AU",
           "ML42UA",
           "ML42UN"
          ],
          "received_time": "2021-04-10 07:08"
         },
         "INCD-503853-f": {
          "description": "There was a fault in your area which has now been resolved.  If you are still without power. please call us on: \nCentral and Southern Scotland: 0800 092 9290 . \n Cheshire, Merseyside, North Wales and North Shropshire: 0800 001 5400.",
          "estimated_restored_time": "",
          "incident_active": false,
          "incident_url": "https://www.spenergynetworks.co.uk/pages/power_cuts_map.aspx?incRef=INCD-503853-f",
          "postcodes_impacted": [
           "DG86SP"
          ],
          "received_time": "2021-04-10 07:36"
         },
         "INCD-503877-f": {
          "description": "There was a fault in your area which has now been resolved.  If you are still without power. please call us on: \nCentral and Southern Scotland: 0800 092 9290 . \n Cheshire, Merseyside, North Wales and North Shropshire: 0800 001 5400.",
          "estimated_restored_time": "",
          "incident_active": false,
          "incident_url": "https://www.spenergynetworks.co.uk/pages/power_cuts_map.aspx?incRef=INCD-503877-f",
          "postcodes_impacted": [
           "TD152PB"
          ],
          "received_time": "2021-04-10 09:41"
         },
         "INCD-503925-f": {
          "description": "There was a fault in your area which has now been resolved.  If you are still without power. please call us on: \nCentral and Southern Scotland: 0800 092 9290 . \n Cheshire, Merseyside, North Wales and North Shropshire: 0800 001 5400.",
          "estimated_restored_time": "",
          "incident_active": false,
          "incident_url": "https://www.spenergynetworks.co.uk/pages/power_cuts_map.aspx?incRef=INCD-503925-f",
          "postcodes_impacted": [
           "EH51BA",
           "EH51BF",
           "EH51FD"
          ],
          "received_time": "2021-04-10 12:47"
         },
         "INCD-562129-s": {
          "description": "There was a fault in your area which has now been resolved.  If you are still without power. please call us on: \nCentral and Southern Scotland: 0800 092 9290 . \n Cheshire, Merseyside, North Wales and North Shropshire: 0800 001 5400.",
          "estimated_restored_time": "",
          "incident_active": false,
          "incident_url": "https://www.spenergynetworks.co.uk/pages/power_cuts_map.aspx?incRef=INCD-562129-s",
          "postcodes_impacted": [
           "ML92JF",
           "ML92JG"
          ],
          "received_time": "2021-04-09 07:51"
         },
         "INCD-562387-s": {
          "description": "There was a fault in your area which has now been resolved.  If you are still without power. please call us on: \nCentral and Southern Scotland: 0800 092 9290 . \n Cheshire, Merseyside, North Wales and North Shropshire: 0800 001 5400.",
          "estimated_restored_time": "",
          "incident_active": false,
          "incident_url": "https://www.spenergynetworks.co.uk/pages/power_cuts_map.aspx?incRef=INCD-562387-s",
          "postcodes_impacted": [
           "G22",
           "G22HG",
           "G22HQ",
           "G22JJ",
           "G22LB",
           "G22LD",
           "G22NR"
          ],
          "received_time": "2021-04-09 14:27"
         },
         "INCD-562573-s": {
          "description": "Monitoring systems on our network have alerted us to an unexpected fault affecting a number of customers over a wide area. We apologise for the inconvenience caused, our emergency response teams have been notified and we expect your supply to be restored by 02:00",
          "estimated_restored_time": "2021-04-10 21:00",
          "incident_active": true,
          "incident_url": "https://www.spenergynetworks.co.uk/pages/power_cuts_map.aspx?incRef=INCD-562573-s",
          "postcodes_impacted": [
           "ML1",
           "ML110RN",
           "ML110WW",
           "ML110XX"
          ],
          "received_time": "2021-04-10 15:03"
         }
        },
        "ssen": {
         "HB4914": {
          "description": "We’re sorry for the loss of supply. We currently have a fault affecting the areas listed. Our engineers are on site working hard to get the power back on as quickly as they can. If you need more information, please call us on 105 or send us a message on <a href=\"http://m.me/ssencommunity/\">Facebook</a> or Twitter (<a href=\"https://twitter.com/ssencommunity\">@ssencommunity</a>) and quote reference 'HB4914'",
          "estimated_arrival_time": null,
          "estimated_restored_time": "2021-04-10 20:00:00",
          "incident_active": true,
          "incident_url": "https://www.ssen.co.uk/Powertrack/",
          "postcodes_impacted": [
           "RG8 7GB",
           "RG8 7JH",
           "RG8 7JQ",
           "RG8 7JW",
           "RG8 7LP",
           "RG8 7LY",
           "RG8 7NB",
           "RG8 7ND",
           "RG8 7NE",
           "RG8 7NG",
           "RG8 7NH",
           "RG8 7NJ",
           "RG8 7NL",
           "RG8 7NQ"
          ],
          "received_time": "2021-04-10 10:05:00"
         },
         "HB4987": {
          "description": "We’re sorry for the loss of supply. We currently have a fault affecting the areas listed. Our engineers are on site working hard to get the power back on as quickly as they can. If you need more information, please call us on 105 or send us a message on <a href=\"http://m.me/ssencommunity/\">Facebook</a> or Twitter (<a href=\"https://twitter.com/ssencommunity\">@ssencommunity</a>) and quote reference 'HB4987'",
          "estimated_arrival_time": "2021-04-10 14:00:00",
          "estimated_restored_time": "2021-04-11 01:30:00",
          "incident_active": true,
          "incident_url": "https://www.ssen.co.uk/Powertrack/",
          "postcodes_impacted": [
           "PO9 6DD",
           "PO9 6DP",
           "PO9 6DR",
           "PO9 6DS",
           "PO9 6DT",
           "PO9 6DU",
           "PO9 6DX"
          ],
          "received_time": "2021-04-10 13:54:00"
         },
         "HB5034": {
          "description": "We’re sorry for the loss of supply. We currently have a fault affecting the areas listed. Our engineers are on site working hard to get the power back on as quickly as they can. If you need more information, please call us on 105 or send us a message on <a href=\"http://m.me/ssencommunity/\">Facebook</a> or Twitter (<a href=\"https://twitter.com/ssencommunity\">@ssencommunity</a>) and quote reference 'HB5034'",
          "estimated_arrival_time": null,
          "estimated_restored_time": "2021-04-10 22:59:00",
          "incident_active": true,
          "incident_url": "https://www.ssen.co.uk/Powertrack/",
          "postcodes_impacted": [
           "BH12 4DH",
           "BH12 4DJ",
           "BH12 4DN"
          ],
          "received_time": "2021-04-10 14:48:00"
         },
         "HB5037": {
          "description": "We’re sorry for the loss of supply. We currently have a fault affecting the areas listed. Our engineers are on site working hard to get the power back on as quickly as they can. If you need more information, please call us on 105 or send us a message on <a href=\"http://m.me/ssencommunity/\">Facebook</a> or Twitter (<a href=\"https://twitter.com/ssencommunity\">@ssencommunity</a>) and quote reference 'HB5037'",
          "estimated_arrival_time": null,
          "estimated_restored_time": "2021-04-10 18:00:00",
          "incident_active": true,
          "incident_url": "https://www.ssen.co.uk/Powertrack/",
          "postcodes_impacted": [
           "RG14 2DZ",
           "RG14 2JD",
           "RG14 2JE",
           "RG14 2JF",
           "RG14 2JG",
           "RG14 2JP",
           "RG14 2JQ",
           "RG14 2JR",
           "RG14 2JS",
           "RG14 2JT",
           "RG14 2JU",
           "RG14 2JX",
           "RG14 2JY",
           "RG14 2JZ",
           "RG14 2LA",
           "RG14 2LB",
           "RG14 2LD",
           "RG14 2LG",
           "RG14 2LQ",
           "RG14 3AA",
           "RG14 3AB",
           "RG14 3AD",
           "RG14 3AE",
           "RG14 3AG",
           "RG14 3AQ",
           "RG14 3AY",
           "RG14 3BA",
           "RG14 3BB",
           "RG14 3BE",
           "RG14 3BG"
          ],
          "received_time": "2021-04-10 15:00:00"
         },
         "HB5045": {
          "description": "We’re sorry for the loss of supply. We currently have a fault affecting the areas listed. Our engineers are on site working hard to get the power back on as quickly as they can. If you need more information, please call us on 105 or send us a message on <a href=\"http://m.me/ssencommunity/\">Facebook</a> or Twitter (<a href=\"https://twitter.com/ssencommunity\">@ssencommunity</a>) and quote reference 'HB5045'",
          "estimated_arrival_time": null,
          "estimated_restored_time": "2021-04-10 17:30:00",
          "incident_active": true,
          "incident_url": "https://www.ssen.co.uk/Powertrack/",
          "postcodes_impacted": [
           "OX39 4SF",
           "OX39 4SG",
           "OX39 4SQ",
           "OX49 5SD"
          ],
          "received_time": "2021-04-10 14:08:00"
         },
         "HB5049": {
          "description": "We’re sorry for the loss of supply. We currently have a fault affecting the areas listed. Our engineers are on site working hard to get the power back on as quickly as they can. If you need more information, please call us on 105 or send us a message on <a href=\"http://m.me/ssencommunity/\">Facebook</a> or Twitter (<a href=\"https://twitter.com/ssencommunity\">@ssencommunity</a>) and quote reference 'HB5049'",
          "estimated_arrival_time": null,
          "estimated_restored_time": "2021-04-11 02:00:00",
          "incident_active": true,
          "incident_url": "https://www.ssen.co.uk/Powertrack/",
          "postcodes_impacted": [
           "SN1 3EY",
           "SN1 3FL",
           "SN1 3HF",
           "SN1 3HG",
           "SN1 3RT"
          ],
          "received_time": "2021-04-10 15:31:00"
         },
         "HB5055": {
          "description": "We’re sorry for the loss of supply. We currently have a fault affecting the areas listed. Our engineers are on site working hard to get the power back on as quickly as they can. If you need more information, please call us on 105 or send us a message on <a href=\"http://m.me/ssencommunity/\">Facebook</a> or Twitter (<a href=\"https://twitter.com/ssencommunity\">@ssencommunity</a>) and quote reference 'HB5055'",
          "estimated_arrival_time": "2021-04-10 18:00:00",
          "estimated_restored_time": "2021-04-10 19:00:00",
          "incident_active": true,
          "incident_url": "https://www.ssen.co.uk/Powertrack/",
          "postcodes_impacted": [
           "RG10 0LP",
           "RG10 0LQ",
           "RG10 0LW"
          ],
          "received_time": "2021-04-10 15:52:00"
         },
         "HB5076": {
          "description": "We’re sorry for the loss of supply. We currently have a fault affecting the areas listed. Our engineers are on site working hard to get the power back on as quickly as they can. If you need more information, please call us on 105 or send us a message on <a href=\"http://m.me/ssencommunity/\">Facebook</a> or Twitter (<a href=\"https://twitter.com/ssencommunity\">@ssencommunity</a>) and quote reference 'HB5076'",
          "estimated_arrival_time": "2021-04-10 17:45:00",
          "estimated_restored_time": "2021-04-10 20:00:00",
          "incident_active": true,
          "incident_url": "https://www.ssen.co.uk/Powertrack/",
          "postcodes_impacted": [
           "BA13 3BD",
           "BA13 3DN"
          ],
          "received_time": "2021-04-10 16:59:00"
         }
        },
        "ukpn": {
         "INCD-160671-Z": {
          "description": "A fault occurred on an underground electricity cable affecting the local area.",
          "estimated_restored_time": null,
          "incident_active": false,
          "incident_url": "https://www.ukpowernetworks.co.uk/power-cut/map?incidentid=INCD-160671-Z",
          "planned_time": null,
          "postcodes_impacted": [
           "WD31AB",
           "WD31AQ",
           "WD31AY",
           "WD31FZ",
           "WD31QA",
           "WD31QP"
          ],
          "received_time": "2020-05-29T09:00:00",
          "restored_time": "2021-04-10T12:32:51.467"
         },
         "INCD-227053-Z": {
          "description": "We're carrying out planned work in your area. For our engineers to carry it out safely they need to turn the power off. We're doing this work as it's essential to provide reliable electricity supplies to your area. We're sorry for any inconvenience caused and thank you for your patience.",
          "estimated_restored_time": "2021-04-10T15:00:00",
          "incident_active": true,
          "incident_url": "https://www.ukpowernetworks.co.uk/power-cut/map?incidentid=INCD-227053-Z",
          "planned_time": "2021-04-10T09:00:00",
          "postcodes_impacted": [
           "CB97UU"
          ],
          "received_time": "2021-04-10T09:03:00",
          "restored_time": "2021-04-10T11:24:54.75"
         },
         "INCD-227450-Z": {
          "description": "We're carrying out planned work in your area. For our engineers to carry it out safely they need to turn the power off. We're doing this work as it's essential to provide reliable electricity supplies to your area. We're sorry for any inconvenience caused and thank you for your patience.",
          "estimated_restored_time": "2021-04-10T11:00:00",
          "incident_active": true,
          "incident_url": "https://www.ukpowernetworks.co.uk/power-cut/map?incidentid=INCD-227450-Z",
          "planned_time": "2021-04-10T09:00:00",
          "postcodes_impacted": [
           "SG120HQ",
           "SG142PS",
           "SG142QR",
           "SG142RD"
          ],
          "received_time": "2021-04-10T09:21:00",
          "restored_time": "2021-04-10T11:54:05.273"
         },
         "INCD-229762-Z": {
          "description": "A fault occurred on an underground electricity cable affecting the local area.",
          "estimated_restored_time": "2021-04-08T18:00:00",
          "incident_active": false,
          "incident_url": "https://www.ukpowernetworks.co.uk/power-cut/map?incidentid=INCD-229762-Z",
          "planned_time": null,
          "postcodes_impacted": [
           "NR12JT",
           "NR12PN",
           "NR12PW",
           "NR12PY"
          ],
          "received_time": "2021-04-08T15:14:00",
          "restored_time": "2021-04-10T11:38:24.4"
         },
         "INCD-230057-Z": {
          "description": "A fault occurred on an underground electricity cable affecting the local area.",
          "estimated_restored_time": null,
          "incident_active": true,
          "incident_url": "https://www.ukpowernetworks.co.uk/power-cut/map?incidentid=INCD-230057-Z",
          "planned_time": null,
          "postcodes_impacted": [
           "HA80AD",
           "HA80ED",
           "HA80FD",
           "HA80FE",
           "HA80FH",
           "HA89BA",
           "HA89BE"
          ],
          "received_time": "2021-04-10T02:52:00",
          "restored_time": null
         },
         "INCD-230065-Z": {
          "description": "An underground electricity cable faulted on our high voltage network, causing an area wide power cut.",
          "estimated_restored_time": null,
          "incident_active": false,
          "incident_url": "https://www.ukpowernetworks.co.uk/power-cut/map?incidentid=INCD-230065-Z",
          "planned_time": null,
          "postcodes_impacted": [
           "N182QX",
           "N183AJ",
           "N183BB",
           "N183BH",
           "N183BP",
           "N183BZ",
           "N183DJ",
           "N183HA",
           "N183HR",
           "N183JR",
           "N183LP",
           "N183PP",
           "N183QT",
           "N183SB",
           "N90BD",
           "N99WG",
           "N99WH",
           "N99WJ",
           "N99WU"
          ],
          "received_time": "2021-04-10T01:31:28",
          "restored_time": "2021-04-10T09:47:06.433"
         },
         "INCD-230069-Z": {
          "description": "A fault occurred on an underground electricity cable affecting the local area.",
          "estimated_restored_time": null,
          "incident_active": true,
          "incident_url": "https://www.ukpowernetworks.co.uk/power-cut/map?incidentid=INCD-230069-Z",
          "planned_time": null,
          "postcodes_impacted": [
           "EN13ED",
           "EN13EF",
           "EN13EG",
           "EN26BN",
           "EN26LE"
          ],
          "received_time": "2021-04-10T02:58:38",
          "restored_time": null
         },
         "INCD-230071-Z": {
          "description": "A fault occurred on a piece of our electrical equipment which controls the power to your home.",
          "estimated_restored_time": "2021-04-10T09:00:00",
          "incident_active": false,
          "incident_url": "https://www.ukpowernetworks.co.uk/power-cut/map?incidentid=INCD-230071-Z",
          "planned_time": null,
          "postcodes_impacted": [
           "HA54HR",
           "HA54HS",
           "HA54JN",
           "HA54JR",
           "HA54JS",
           "HA54LD",
           "HA54LJ",
           "HA54LP",
           "HA54LU",
           "HA54QA",
           "HA54QB",
           "HA54QD",
           "HA54RF"
          ],
          "received_time": "2021-04-10T05:25:00",
          "restored_time": "2021-04-10T07:56:32.53"
         },
         "INCD-230073-Z": {
          "description": "We were investigating a high voltage overhead electricity line fault which caused a power cut in the local area.",
          "estimated_restored_time": "2021-04-10T08:00:00",
          "incident_active": false,
          "incident_url": "https://www.ukpowernetworks.co.uk/power-cut/map?incidentid=INCD-230073-Z",
          "planned_time": null,
          "postcodes_impacted": [
           "CO168HJ",
           "CO168HL",
           "CO70AB",
           "CO70AG",
           "CO70AJ",
           "CO70AQ",
           "CO70AR",
           "CO70BH",
           "CO70EG",
           "CO70EH",
           "CO70EJ",
           "CO70EL",
           "CO70EN",
           "CO70EP",
           "CO70EQ",
           "CO70ER",
           "CO70ES",
           "CO70ET",
           "CO70EU",
           "CO70EX",
           "CO70EY",
           "CO70EZ",
           "CO70FJ",
           "CO70FR",
           "CO70GY",
           "CO70HA",
           "CO70HB",
           "CO70HD",
           "CO70HE",
           "CO70HF",
           "CO70HG",
           "CO70HP",
           "CO70HT",
           "CO70HX",
           "CO70HY",
           "CO70LP",
           "CO70LR",
           "CO70LS",
           "CO70LT",
           "CO70LU",
           "CO70LX",
           "CO70LZ",
           "CO70NA",
           "CO70NB",
           "CO70ND",
           "CO70NE",
           "CO70NG",
           "CO70NH",
           "CO70NJ",
           "CO70NL",
           "CO70NN",
           "CO70NP",
           "CO70NQ",
           "CO70NR",
           "CO70NS",
           "CO70NT",
           "CO70NU",
           "CO70NW",
           "CO70NX",
           "CO70NY",
           "CO70NZ",
           "CO70PA",
           "CO70PB",
           "CO70PD",
           "CO70PH",
           "CO70PJ",
           "CO70PL",
           "CO70PP",
           "CO70PU",
           "CO70PW",
           "CO70PX",
           "CO70PZ",
           "CO70QA",
           "CO70QB",
           "CO70SH",
           "CO70SJ",
           "CO70SL",
           "CO70SP",
           "CO70SR",
           "CO70SS",
           "CO70ST",
           "CO70SU",
           "CO70SX",
           "CO70SY",
           "CO70SZ",
           "CO70TA",
           "CO70TB",
           "CO70UL",
           "CO78HB",
           "CO78HD",
           "CO78RE",
           "CO78RF",
           "CO78RG",
           "CO78RH",
           "CO78RJ",
           "CO78RL",
           "CO78RN",
           "CO78RQ"
          ],
          "received_time": "2021-04-10T05:47:13",
          "restored_time": "2021-04-10T06:31:06.443"
         },
         "INCD-230077-Z": {
          "description": "A fault occurred on a piece of our electrical equipment which controls the power to your home.",
          "estimated_restored_time": null,
          "incident_active": false,
          "incident_url": "https://www.ukpowernetworks.co.uk/power-cut/map?incidentid=INCD-230077-Z",
          "planned_time": null,
          "postcodes_impacted": [
           "WD188JG",
           "WD188QU",
           "WD188SA",
           "WD188TF"
          ],
          "received_time": "2021-04-10T06:59:00",
          "restored_time": "2021-04-10T09:57:49.597"
         },
         "INCD-230079-Z": {
          "description": "A fault occurred on an underground electricity cable affecting the local area.",
          "estimated_restored_time": "2021-04-10T19:30:00",
          "incident_active": true,
          "incident_url": "https://www.ukpowernetworks.co.uk/power-cut/map?incidentid=INCD-230079-Z",
          "planned_time": null,
          "postcodes_impacted": [
           "IP92HZ",
           "IP92EH",
           "IP92HY",
           "IP92JA",
           "IP92JQ",
           "IP92LE"
          ],
          "received_time": "2021-04-10T07:49:00",
          "restored_time": null
         },
         "INCD-230080-Z": {
          "description": "We had to turn off power in your area so our engineers could safely carry out emergency repairs to the network.",
          "estimated_restored_time": null,
          "incident_active": false,
          "incident_url": "https://www.ukpowernetworks.co.uk/power-cut/map?incidentid=INCD-230080-Z",
          "planned_time": null,
          "postcodes_impacted": [
           "EN48AP",
           "EN48AR",
           "EN48AS",
           "EN48AX",
           "EN48AZ",
           "EN48BD",
           "EN48BZ",
           "EN48FG",
           "EN48RA",
           "EN48RQ",
           "EN48RW",
           "EN51FG",
           "EN51LP",
           "EN51PB",
           "EN51QN",
           "EN51QW"
          ],
          "received_time": "2021-04-10T08:05:00",
          "restored_time": "2021-04-10T13:38:26.463"
         },
         "INCD-230081-Z": {
          "description": "We had to turn off power in your area so our engineers could safely carry out emergency repairs to the network.",
          "estimated_restored_time": "2021-04-10T12:30:00",
          "incident_active": false,
          "incident_url": "https://www.ukpowernetworks.co.uk/power-cut/map?incidentid=INCD-230081-Z",
          "planned_time": null,
          "postcodes_impacted": [
           "SS72EH",
           "SS72EQ",
           "SS72ER",
           "SS72ES",
           "SS72EW",
           "SS72HF",
           "SS72HJ",
           "SS72HL",
           "SS72HN",
           "SS72HP",
           "SS72HR",
           "SS72HS",
           "SS72HT",
           "SS72HW",
           "SS72JD",
           "SS72JJ",
           "SS72JL",
           "SS72JN",
           "SS72JP"
          ],
          "received_time": "2021-04-10T08:19:00",
          "restored_time": "2021-04-10T12:22:08.493"
         },
         "INCD-230082-Z": {
          "description": "A fault occurred on an underground electricity cable affecting the local area.",
          "estimated_restored_time": null,
          "incident_active": true,
          "incident_url": "https://www.ukpowernetworks.co.uk/power-cut/map?incidentid=INCD-230082-Z",
          "planned_time": null,
          "postcodes_impacted": [
           "HA11TX",
           "HA11TY",
           "HA11TZ",
           "HA11UA",
           "HA11UJ",
           "HA11UL",
           "HA11UU",
           "HA11XS",
           "HA11XX"
          ],
          "received_time": "2021-04-10T08:29:33",
          "restored_time": null
         },
         "INCD-230091-Z": {
          "description": "Our engineers had to redirect power due to a fault on the electricity network.",
          "estimated_restored_time": "2021-04-10T12:00:00",
          "incident_active": false,
          "incident_url": "https://www.ukpowernetworks.co.uk/power-cut/map?incidentid=INCD-230091-Z",
          "planned_time": null,
          "postcodes_impacted": [
           "IP28TJ",
           "IP300ET",
           "IP300HY",
           "IP309HX",
           "IP309HY",
           "IP309HZ",
           "IP309JB",
           "IP309JD",
           "IP309JE",
           "IP309JF",
           "IP309JG",
           "IP309JJ",
           "IP309JL",
           "IP309JQ",
           "IP309LR",
           "IP309LS",
           "IP309LT",
           "IP309LU",
           "IP309LX",
           "IP309LZ",
           "IP309ND",
           "IP309NG",
           "IP309NH",
           "IP309NQ",
           "IP312QU",
           "IP313QW",
           "IP313QX",
           "IP313QY",
           "IP313QZ",
           "IP313RA",
           "IP313TA",
           "IP313TN",
           "IP313TS",
           "IP32",
           "IP322TT",
           "IP327AA",
           "IP327AR",
           "IP327BX",
           "IP327EA",
           "IP327ES",
           "IP327EU",
           "IP327EX",
           "IP327EY",
           "IP327GJ",
           "IP327GL",
           "IP327GY",
           "IP327JT",
           "IP327JU",
           "IP327JW",
           "IP327JY",
           "IP327LZ",
           "IP327NL",
           "IP327NN",
           "IP327PE",
           "IP327PF",
           "IP327PG",
           "IP327PH",
           "IP327PL",
           "IP327PN",
           "IP327PP",
           "IP327PQ",
           "IP327PR",
           "IP327PS",
           "IP327PT",
           "IP327PZ",
           "IP327QA",
           "IP327QB",
           "IP327YB",
           "IP327YL"
          ],
          "received_time": "2021-04-10T09:43:57",
          "restored_time": "2021-04-10T11:13:35.673"
         },
         "INCD-230100-Z": {
          "description": "A fault occurred on a piece of our electrical equipment which controls the power to your home.",
          "estimated_restored_time": null,
          "incident_active": false,
          "incident_url": "https://www.ukpowernetworks.co.uk/power-cut/map?incidentid=INCD-230100-Z",
          "planned_time": null,
          "postcodes_impacted": [
           "NR70AD",
           "NR70RJ",
           "NR70RL",
           "NR70SA",
           "NR70SB",
           "NR70SE",
           "NR70SF",
           "NR70SG",
           "NR70SH",
           "NR70SQ",
           "NR70UP"
          ],
          "received_time": "2021-04-10T10:46:00",
          "restored_time": "2021-04-10T13:21:31.593"
         },
         "INCD-230102-Z": {
          "description": "A fault occurred on an underground electricity cable affecting the local area.",
          "estimated_restored_time": "2021-04-10T19:00:00",
          "incident_active": true,
          "incident_url": "https://www.ukpowernetworks.co.uk/power-cut/map?incidentid=INCD-230102-Z",
          "planned_time": null,
          "postcodes_impacted": [
           "SS11HJ",
           "SS07PA",
           "SS07PB",
           "SS11EN",
           "SS11EP",
           "SS11EW",
           "SS11HH",
           "SS11QA",
           "SS11QB",
           "SS11QD"
          ],
          "received_time": "2021-04-10T10:58:00",
          "restored_time": null
         },
         "INCD-230103-Z": {
          "description": "A fault occurred on a piece of our electrical equipment which controls the power to your home.",
          "estimated_restored_time": "2021-04-10T13:30:00",
          "incident_active": false,
          "incident_url": "https://www.ukpowernetworks.co.uk/power-cut/map?incidentid=INCD-230103-Z",
          "planned_time": null,
          "postcodes_impacted": [
           "RM112ND",
           "RM112NT",
           "RM112NU",
           "RM112NY",
           "RM112NZ"
          ],
          "received_time": "2021-04-10T11:07:00",
          "restored_time": "2021-04-10T11:56:32.597"
         },
         "INCD-230113-Z": {
          "description": "A fault occurred on a piece of our electrical equipment which controls the power to your home.",
          "estimated_restored_time": "2021-04-10T17:00:00",
          "incident_active": false,
          "incident_url": "https://www.ukpowernetworks.co.uk/power-cut/map?incidentid=INCD-230113-Z",
          "planned_time": null,
          "postcodes_impacted": [
           "HP25AH",
           "HP25AQ",
           "HP25DD",
           "HP25PS",
           "HP25SJ",
           "HP25SL",
           "HP25SN",
           "HP25SW",
           "HP25XE",
           "HP25XF",
           "HP25XR"
          ],
          "received_time": "2021-04-10T13:09:00",
          "restored_time": "2021-04-10T15:01:09.347"
         },
         "INCD-230133-Z": {
          "description": "A fault occurred on a piece of our electrical equipment which controls the power to your home.",
          "estimated_restored_time": "2021-04-10T18:00:00",
          "incident_active": false,
          "incident_url": "https://www.ukpowernetworks.co.uk/power-cut/map?incidentid=INCD-230133-Z",
          "planned_time": null,
          "postcodes_impacted": [
           "CM59LF",
           "CM59LG",
           "CM59LP",
           "CM59LQ"
          ],
          "received_time": "2021-04-10T15:44:00",
          "restored_time": "2021-04-10T16:28:02.233"
         },
         "INCD-230148-Z": {
          "description": "A fault occurred on a piece of our electrical equipment which controls the power to your home.",
          "estimated_restored_time": null,
          "incident_active": true,
          "incident_url": "https://www.ukpowernetworks.co.uk/power-cut/map?incidentid=INCD-230148-Z",
          "planned_time": null,
          "postcodes_impacted": [
           "MK453AQ",
           "MK453JU",
           "MK453LA",
           "MK453LB",
           "MK453LD",
           "MK453FF",
           "MK453FH",
           "MK453LE",
           "MK453LF",
           "MK453LH",
           "MK453LJ",
           "MK453LL",
           "MK453NR"
          ],
          "received_time": "2021-04-10T18:09:35",
          "restored_time": null
         },
         "INCD-242922-G": {
          "description": "We were investigating an overhead electricity equipment fault which caused a power cut in the local area.",
          "estimated_restored_time": null,
          "incident_active": false,
          "incident_url": "https://www.ukpowernetworks.co.uk/power-cut/map?incidentid=INCD-242922-G",
          "planned_time": null,
          "postcodes_impacted": [
           "BN271RY",
           "TN330RG",
           "TN339HB",
           "TN339HD",
           "TN339HE",
           "TN339HG",
           "TN339HH",
           "TN339HJ",
           "TN339HL",
           "TN339HN",
           "TN339HQ",
           "TN354NN",
           "TN394QR"
          ],
          "received_time": "2021-01-12T21:22:26",
          "restored_time": "2021-04-10T06:38:42.547"
         },
         "INCD-247691-G": {
          "description": "We had to turn off power in your area so our engineers could safely carry out emergency repairs to the network.",
          "estimated_restored_time": null,
          "incident_active": true,
          "incident_url": "https://www.ukpowernetworks.co.uk/power-cut/map?incidentid=INCD-247691-G",
          "planned_time": null,
          "postcodes_impacted": [
           "BN11YE",
           "UMS",
           "BN11UA",
           "BN11YA",
           "BN14AB",
           "BN14AD",
           "BN14AE",
           "BN14AF",
           "BN14AG"
          ],
          "received_time": "2021-04-04T02:05:00",
          "restored_time": null
         },
         "INCD-247784-G": {
          "description": "We had to turn off power in your area so our engineers could safely carry out emergency repairs to the network.",
          "estimated_restored_time": "2021-04-10T18:30:00",
          "incident_active": false,
          "incident_url": "https://www.ukpowernetworks.co.uk/power-cut/map?incidentid=INCD-247784-G",
          "planned_time": null,
          "postcodes_impacted": [
           "RH76NZ",
           "RH76PA"
          ],
          "received_time": "2021-04-09T07:10:00",
          "restored_time": "2021-04-10T16:25:00"
         },
         "INCD-247961-G": {
          "description": "A fault occurred on an underground electricity cable affecting the local area.",
          "estimated_restored_time": null,
          "incident_active": true,
          "incident_url": "https://www.ukpowernetworks.co.uk/power-cut/map?incidentid=INCD-247961-G",
          "planned_time": null,
          "postcodes_impacted": [
           "TN74ET"
          ],
          "received_time": "2021-04-10T00:20:00",
          "restored_time": null
         },
         "INCD-247963-G": {
          "description": "A fault occurred on an underground electricity cable affecting the local area.",
          "estimated_restored_time": "2021-04-10T18:00:00",
          "incident_active": false,
          "incident_url": "https://www.ukpowernetworks.co.uk/power-cut/map?incidentid=INCD-247963-G",
          "planned_time": null,
          "postcodes_impacted": [
           "CT101NL",
           "CT101NN",
           "CT101NP",
           "CT101NQ",
           "CT101NR",
           "CT101NW"
          ],
          "received_time": "2021-04-10T01:26:00",
          "restored_time": "2021-04-10T16:12:36.083"
         },
         "INCD-247966-G": {
          "description": "A fault occurred on a piece of our electrical equipment which controls the power to your home.",
          "estimated_restored_time": "2021-04-10T13:30:00",
          "incident_active": false,
          "incident_url": "https://www.ukpowernetworks.co.uk/power-cut/map?incidentid=INCD-247966-G",
          "planned_time": null,
          "postcodes_impacted": [
           "CR01LD",
           "CR91ED",
           "CR92NS"
          ],
          "received_time": "2021-04-10T08:36:00",
          "restored_time": "2021-04-10T12:35:53.69"
         },
         "INCD-247968-G": {
          "description": "An underground electricity cable faulted on our high voltage network, causing an area wide power cut.",
          "estimated_restored_time": "2021-04-10T13:00:00",
          "incident_active": false,
          "incident_url": "https://www.ukpowernetworks.co.uk/power-cut/map?incidentid=INCD-247968-G",
          "planned_time": null,
          "postcodes_impacted": [
           "BN126NX",
           "BN126NZ",
           "BN133NT",
           "BN133NX",
           "BN133PP",
           "BN133PR",
           "BN133PS",
           "BN133PT",
           "BN133PU",
           "BN133PX",
           "BN133PY",
           "BN133PZ",
           "BN133QL",
           "BN133QZ",
           "BN133RD",
           "BN133RE",
           "BN133RS",
           "BN133RT",
           "BN133RU",
           "BN133RW",
           "BN133RX",
           "BN133RY",
           "BN133RZ",
           "BN133SA",
           "BN133SL",
           "BN133SN",
           "BN133SP",
           "BN133SR",
           "BN133SS",
           "BN133ST",
           "BN133SU",
           "BN133SW",
           "BN133TB"
          ],
          "received_time": "2021-04-10T09:58:32",
          "restored_time": "2021-04-10T11:10:37.04"
         },
         "INCD-247973-G": {
          "description": "We were investigating a high voltage overhead electricity line fault which caused a power cut in the local area.",
          "estimated_restored_time": "2021-04-10T17:00:00",
          "incident_active": false,
          "incident_url": "https://www.ukpowernetworks.co.uk/power-cut/map?incidentid=INCD-247973-G",
          "planned_time": null,
          "postcodes_impacted": [
           "TN290NH",
           "TN299AF",
           "TN299AH",
           "TN299AJ",
           "TN299AL",
           "TN299AN",
           "TN299AR",
           "TN299AS",
           "TN299AT",
           "TN299AU",
           "TN299AW",
           "TN299AX",
           "TN299AY",
           "TN299AZ",
           "TN299BA",
           "TN299BB",
           "TN299BH",
           "TN299BJ",
           "TN299BL",
           "TN299BN",
           "TN299BP",
           "TN299BS",
           "TN299BT",
           "TN299BW",
           "TN299DB",
           "TN299DD",
           "TN299DF",
           "TN299DG",
           "TN299DH",
           "TN299DJ",
           "TN299DN",
           "TN299DP",
           "TN299DQ",
           "TN299DR",
           "TN299DS",
           "TN299DT",
           "TN299DU",
           "TN299DW",
           "TN299DX",
           "TN299DY",
           "TN299DZ",
           "TN299EA",
           "TN299EB",
           "TN299ED",
           "TN299EE",
           "TN299EF",
           "TN299EG",
           "TN299EH",
           "TN299EJ",
           "TN299EL",
           "TN299EN",
           "TN299EP",
           "TN299EQ",
           "TN299ER",
           "TN299EW",
           "TN299HN",
           "TN299HR",
           "TN299HX",
           "TN299HY",
           "TN299JB",
           "TN299JN",
           "TN299JP",
           "TN299JT",
           "TN299JU",
           "TN299JW",
           "TN299JX",
           "TN299JY",
           "TN299JZ",
           "TN299LA",
           "TN299LB",
           "TN299LD",
           "TN299LE",
           "TN299LF",
           "TN299LG",
           "TN299LH",
           "TN299LJ",
           "TN299LL",
           "TN299LN",
           "TN299LP",
           "TN299LQ",
           "TN299LS",
           "TN299LT",
           "TN299LW",
           "TN299LX",
           "TN299LY",
           "TN299LZ",
           "TN299NE",
           "TN299PU",
           "TN299PY",
           "TN299PZ",
           "TN299QA",
           "TN299QB",
           "TN299QG",
           "TN299QQ",
           "TN299SF",
           "TN299SX",
           "TN299UT",
           "TN299UU"
          ],
          "received_time": "2021-04-10T11:02:11",
          "restored_time": "2021-04-10T15:55:39.4"
         },
         "INCD-247974-G": {
          "description": "An underground electricity cable faulted on our high voltage network, causing an area wide power cut.",
          "estimated_restored_time": "2021-04-10T22:00:00",
          "incident_active": true,
          "incident_url": "https://www.ukpowernetworks.co.uk/power-cut/map?incidentid=INCD-247974-G",
          "planned_time": null,
          "postcodes_impacted": [
           "RH110NR",
           "RH11ONR",
           "TN127AU",
           "TN316HA",
           "TN316HB",
           "TN33",
           "TN330FJ",
           "TN330GR",
           "TN330PB",
           "TN330PE",
           "TN330PF",
           "TN330PG",
           "TN330PH",
           "TN330PJ",
           "TN330PL",
           "TN330PN",
           "TN330PP",
           "TN330PQ",
           "TN330PR",
           "TN330PS",
           "TN330PT",
           "TN330PU",
           "TN330PW",
           "TN330PX",
           "TN330PY",
           "TN330PZ",
           "TN330QA",
           "TN330QB",
           "TN330QD",
           "TN330QE",
           "TN330QF",
           "TN330QG",
           "TN330QJ",
           "TN330QL",
           "TN330QN",
           "TN330QP",
           "TN330QQ",
           "TN330QR",
           "TN330QS",
           "TN330QT",
           "TN330QU",
           "TN330QW",
           "TN330QX",
           "TN330QY",
           "TN330QZ",
           "TN330RD",
           "TN330RE",
           "TN330RF",
           "TN330RH",
           "TN330RJ",
           "TN330RL",
           "TN330RN",
           "TN330RP",
           "TN330RQ",
           "TN330RR",
           "TN330RS",
           "TN330RT",
           "TN330RU",
           "TN330RX",
           "TN330RY",
           "TN330RZ",
           "TN330SA",
           "TN330SB",
           "TN330SD",
           "TN330SE",
           "TN330SF",
           "TN330SG",
           "TN330SU",
           "TN330YE",
           "TN34",
           "TN342FB",
           "TN342FT",
           "TN342FU",
           "TN342LZ",
           "TN342QX",
           "TN342QZ",
           "TN342RA",
           "TN342RB",
           "TN342RD",
           "TN342RE",
           "TN342RF",
           "TN342RG",
           "TN342RH",
           "TN342RJ",
           "TN342RL",
           "TN342RN",
           "TN342RP",
           "TN342RQ",
           "TN342RR",
           "TN342RS",
           "TN342RT",
           "TN342RU",
           "TN342RW",
           "TN342RX",
           "TN342RY",
           "TN342SA",
           "TN342SB",
           "TN342SE",
           "TN342SF",
           "TN342SW",
           "TN342TR",
           "TN354PN",
           "TN354QA",
           "TN354QB",
           "TN354QQ",
           "TN354QZ",
           "TN354RA",
           "TN354RB",
           "TN354RD",
           "TN354RE",
           "TN354RF",
           "TN354RG",
           "TN354RH",
           "TN354RJ",
           "TN354RL",
           "TN354RN",
           "TN354RP",
           "TN354RQ",
           "TN354RR",
           "TN354RS",
           "TN354RT",
           "TN354RU",
           "TN354RX",
           "TN354SB",
           "TN354SD",
           "TN354SE",
           "TN354SG",
           "TN354SH",
           "TN354SJ",
           "TN354SL",
           "TN354SN",
           "TN354SU",
           "TN354SW",
           "TN377NA",
           "TN377NB",
           "TN377ND",
           "TN377NE",
           "TN377NG",
           "TN377PN",
           "TN377PT",
           "TN377PW",
           "TN386AE"
          ],
          "received_time": "2021-04-10T11:05:03",
          "restored_time": null
         },
         "INCD-247976-G": {
          "description": "We were investigating a high voltage overhead electricity line fault which caused a power cut in the local area.",
          "estimated_restored_time": "2021-04-10T23:00:00",
          "incident_active": true,
          "incident_url": "https://www.ukpowernetworks.co.uk/power-cut/map?incidentid=INCD-247976-G",
          "planned_time": null,
          "postcodes_impacted": [
           "TN330LH",
           "TN339PP",
           "TN339PR",
           "RH194HG",
           "TN33",
           "TN330FD",
           "TN330GF",
           "TN330HA",
           "TN330HH",
           "TN330HJ",
           "TN330HL",
           "TN330HN",
           "TN330HS",
           "TN330HU",
           "TN330HW",
           "TN330JG",
           "TN330JH",
           "TN330JL",
           "TN330JN",
           "TN330JQ",
           "TN330JW",
           "TN330LA",
           "TN330LB",
           "TN330LD",
           "TN330LE",
           "TN330LG",
           "TN330LL",
           "TN330LP",
           "TN330LQ",
           "TN330LR",
           "TN330LS",
           "TN330LT",
           "TN330LU",
           "TN330LZ",
           "TN330NA",
           "TN330PU",
           "TN330RB",
           "TN330RE",
           "TN330TY",
           "TN339LJ",
           "TN339LL",
           "TN339LN",
           "TN339LP",
           "TN339LR",
           "TN339LS",
           "TN339LT",
           "TN339LX",
           "TN339PU",
           "TN339PX",
           "TN339PY",
           "TN339PZ",
           "TN339QA",
           "TN339QB",
           "TN339QD",
           "TN339QF",
           "TN339QG",
           "TN339QH",
           "TN339QS",
           "TN339QT",
           "TN339QU",
           "TN33OSR"
          ],
          "received_time": "2021-04-10T12:02:34",
          "restored_time": null
         },
         "INCD-247978-G": {
          "description": "An underground electricity cable faulted on our high voltage network, causing an area wide power cut.",
          "estimated_restored_time": "2021-04-10T17:00:00",
          "incident_active": false,
          "incident_url": "https://www.ukpowernetworks.co.uk/power-cut/map?incidentid=INCD-247978-G",
          "planned_time": null,
          "postcodes_impacted": [
           "BR26AA",
           "BR26AB",
           "BR26AD",
           "BR26AE",
           "BR26AG",
           "BR26DA",
           "BR26DB",
           "BR26DD",
           "BR26DE",
           "BR26DF",
           "BR26DG",
           "BR26DH",
           "BR26DJ",
           "BR26DL",
           "BR26DN",
           "BR26DP",
           "BR26DQ",
           "BR26DR",
           "BR26DS",
           "BR26DT",
           "BR26DU",
           "BR26DW",
           "BR26HL",
           "BR26HP",
           "BR26HR",
           "BR26HS",
           "BR26HT",
           "BR26HU",
           "BR26HZ",
           "BR67GZ",
           "BR67HH",
           "BR67JB",
           "BR67JD",
           "BR67JE",
           "CR69PH",
           "CR69PL",
           "CR69PN",
           "CR69PP",
           "CR69PQ",
           "CR69PW",
           "CR69QF",
           "CR85UR",
           "DA110GF",
           "TN163BN",
           "TN163BS",
           "TN163BT",
           "TN163BU",
           "TN163BW",
           "TN163BX",
           "TN163DD",
           "TN163DE",
           "TN163DG",
           "TN163DH",
           "TN163DJ",
           "TN163DL",
           "TN163DP",
           "TN163DR",
           "TN163DU",
           "TN163EA",
           "TN163EB",
           "TN163EE",
           "TN163EG",
           "TN163EH",
           "TN163EL",
           "TN163EN",
           "TN163ER",
           "TN163ES",
           "TN163EW",
           "TN163GA",
           "TN163GB",
           "TN163GD",
           "TN163GF",
           "TN163GG",
           "TN163GH",
           "TN163GJ",
           "TN163GL",
           "TN163LW",
           "TN163UT",
           "TN163XB",
           "TN163XD",
           "TN163XE",
           "TN163XF",
           "TN163XG",
           "TN163XH",
           "TN163XJ",
           "TN163XL",
           "TN163XN",
           "TN163YN"
          ],
          "received_time": "2021-04-10T12:29:59",
          "restored_time": "2021-04-10T16:25:21.82"
         },
         "INCD-247987-G": {
          "description": "We were investigating a high voltage overhead electricity line fault which caused a power cut in the local area.",
          "estimated_restored_time": "2021-04-10T22:00:00",
          "incident_active": true,
          "incident_url": "https://www.ukpowernetworks.co.uk/power-cut/map?incidentid=INCD-247987-G",
          "planned_time": null,
          "postcodes_impacted": [
           "TN330PH",
           "TN330PJ",
           "TN330PL",
           "TN330PN",
           "TN330SU"
          ],
          "received_time": "2021-04-10T15:24:54",
          "restored_time": null
         },
         "INCD-247989-G": {
          "description": "A fault occurred on a piece of our electrical equipment which controls the power to your home.",
          "estimated_restored_time": "2021-04-10T21:00:00",
          "incident_active": true,
          "incident_url": "https://www.ukpowernetworks.co.uk/power-cut/map?incidentid=INCD-247989-G",
          "planned_time": null,
          "postcodes_impacted": [
           "ME173JA",
           "ME173LW"
          ],
          "received_time": "2021-04-10T16:53:33",
          "restored_time": null
         },
         "INCD-247991-G": {
          "description": "We had to turn off power in your area so our engineers could safely carry out emergency repairs to the network.",
          "estimated_restored_time": null,
          "incident_active": false,
          "incident_url": "https://www.ukpowernetworks.co.uk/power-cut/map?incidentid=INCD-247991-G",
          "planned_time": null,
          "postcodes_impacted": [
           "RH76NZ",
           "RH76PA"
          ],
          "received_time": "2021-04-10T17:12:11",
          "restored_time": "2021-04-10T17:20:08.153"
         },
         "INCD-247992-G": {
          "description": "We were investigating a high voltage overhead electricity line fault which caused a power cut in the local area.",
          "estimated_restored_time": null,
          "incident_active": true,
          "incident_url": "https://www.ukpowernetworks.co.uk/power-cut/map?incidentid=INCD-247992-G",
          "planned_time": null,
          "postcodes_impacted": [
           "GU4",
           "ME171BQ",
           "ME173AD",
           "ME173AE",
           "ME173AF",
           "ME173AG",
           "ME173AH",
           "ME173AJ",
           "ME173AL",
           "ME173AP",
           "ME173AR",
           "ME173AW",
           "ME173BD",
           "ME173BE",
           "ME173BG",
           "ME173BH",
           "ME173BJ",
           "ME173BL",
           "ME173BN",
           "ME173BP",
           "ME173BQ",
           "ME173BS",
           "ME173BW",
           "ME173DN",
           "ME173HH",
           "ME173HN",
           "ME173HR",
           "ME173HS",
           "ME173HT",
           "ME173HU",
           "ME173HX",
           "ME173JA",
           "ME173LN",
           "ME173LP",
           "ME173LQ",
           "ME173LR",
           "ME173LS",
           "ME173LW",
           "ME173QA",
           "ME173QS",
           "ME173QY",
           "ME173RD",
           "ME173RE",
           "ME173RF",
           "ME173RP",
           "ME173RR",
           "ME173RS",
           "ME173RT",
           "ME173RU",
           "ME173RX",
           "ME173RY",
           "ME173RZ",
           "ME173SA",
           "ME173SB",
           "ME173SD",
           "ME173SE",
           "ME173SG",
           "ME173SX",
           "SM12NP",
           "KT168HT",
           "ME173AB",
           "ME173AS",
           "ME173AU",
           "ME173AX",
           "ME173AY",
           "ME173AZ",
           "ME173BA",
           "ME173BB",
           "ME173BT",
           "ME173BX",
           "ME173BY",
           "ME173DA",
           "ME173DB",
           "ME173EB",
           "ME173ED",
           "ME173EE",
           "ME173EG",
           "ME173EH",
           "ME173EL",
           "ME173EN",
           "ME173EW",
           "ME173EZ",
           "ME173FP",
           "ME173FS",
           "ME173FT",
           "ME173GS",
           "ME173HB",
           "ME173NW",
           "ME173RA",
           "ME173RB",
           "ME173RG",
           "ME173RQ",
           "ME185JL"
          ],
          "received_time": "2021-04-10T17:54:49",
          "restored_time": null
         },
         "INCD-259669-J": {
          "description": "A fault occurred on an underground electricity cable affecting the local area.",
          "estimated_restored_time": "2021-04-10T11:00:00",
          "incident_active": false,
          "incident_url": "https://www.ukpowernetworks.co.uk/power-cut/map?incidentid=INCD-259669-J",
          "planned_time": null,
          "postcodes_impacted": [
           "NW24NS",
           "NW24QN",
           "NW24QP"
          ],
          "received_time": "2021-04-09T22:39:00",
          "restored_time": "2021-04-10T15:19:14.69"
         },
         "INCD-259678-J": {
          "description": "A fault occurred on an underground electricity cable affecting the local area.",
          "estimated_restored_time": null,
          "incident_active": false,
          "incident_url": "https://www.ukpowernetworks.co.uk/power-cut/map?incidentid=INCD-259678-J",
          "planned_time": null,
          "postcodes_impacted": [
           "NW24NH",
           "NW24NL",
           "NW24NP",
           "NW24QL",
           "NW24QN",
           "NW24QR",
           "NW24QS"
          ],
          "received_time": "2021-04-10T03:03:33",
          "restored_time": "2021-04-10T07:46:16.033"
         },
         "INCD-259680-J": {
          "description": "An underground electricity cable faulted on our high voltage network, causing an area wide power cut.",
          "estimated_restored_time": "2021-04-10T07:00:00",
          "incident_active": false,
          "incident_url": "https://www.ukpowernetworks.co.uk/power-cut/map?incidentid=INCD-259680-J",
          "planned_time": null,
          "postcodes_impacted": [
           "E147GL",
           "EC1",
           "EC1A2AL",
           "EC1A2DH",
           "EC1A2DP",
           "EC1A2DQ",
           "EC1A2EJ",
           "EC1A4EJ",
           "EC1A4EU",
           "EC1A4HR",
           "EC1A4HU",
           "EC1A4HY",
           "EC1A7AB",
           "EC1A7BE",
           "EC1A7BT",
           "EC1A7BX",
           "EC1A7DS",
           "EC1A7HD",
           "EC1A7HT",
           "EC1A7HU",
           "EC1A7HZ",
           "EC1A7JA",
           "EC1A7JD",
           "EC1A7JN",
           "EC1A7JQ",
           "EC1A7LD",
           "EC1A7LS",
           "EC1A7NQ",
           "EC1A7NT",
           "EC1A7PH",
           "EC1A9BU",
           "EC1A9BW",
           "EC1A9DE",
           "EC1A9DL",
           "EC1A9DS",
           "EC1A9DY",
           "EC1A9EJ",
           "EC1A9ET",
           "EC1A9HQ",
           "EC1A9HX",
           "EC1A9HY",
           "EC1A9HZ",
           "EC1A9JR",
           "EC1A9LA",
           "EC1A9LJ",
           "EC1A9LQ",
           "EC1A9LS",
           "EC1A9LY",
           "EC1N2QL",
           "EC4A4LL",
           "EC4M7EH",
           "EC4V5EQ",
           "SW198AQ",
           "W1R9LE"
          ],
          "received_time": "2021-04-10T04:41:00",
          "restored_time": "2021-04-10T07:55:37.073"
         },
         "INCD-259682-J": {
          "description": "A fault occurred on a piece of our electrical equipment which controls the power to your home.",
          "estimated_restored_time": null,
          "incident_active": false,
          "incident_url": "https://www.ukpowernetworks.co.uk/power-cut/map?incidentid=INCD-259682-J",
          "planned_time": null,
          "postcodes_impacted": [
           "DA158JU",
           "DA158JX",
           "DA158LA",
           "DA158LS",
           "DA158PG",
           "DA158PH",
           "DA158PL",
           "DA158PQ",
           "DA158PW"
          ],
          "received_time": "2021-04-10T05:59:00",
          "restored_time": "2021-04-10T09:56:33.14"
         },
         "INCD-259687-J": {
          "description": "Due to a faulty piece of network equipment we had to turn off your power.",
          "estimated_restored_time": null,
          "incident_active": false,
          "incident_url": "https://www.ukpowernetworks.co.uk/power-cut/map?incidentid=INCD-259687-J",
          "planned_time": null,
          "postcodes_impacted": [
           "SW196DA",
           "SW196DB",
           "SW196DD",
           "SW196DE",
           "SW196DF",
           "SW196HA",
           "SW196HQ",
           "SW196PX",
           "SW196PY"
          ],
          "received_time": "2021-04-10T07:58:23",
          "restored_time": "2021-04-10T09:54:40.267"
         },
         "INCD-259690-J": {
          "description": "We had to turn off power in your area so our engineers could safely carry out emergency repairs to the network.",
          "estimated_restored_time": "2021-04-10T12:30:00",
          "incident_active": false,
          "incident_url": "https://www.ukpowernetworks.co.uk/power-cut/map?incidentid=INCD-259690-J",
          "planned_time": null,
          "postcodes_impacted": [
           "SW62BS",
           "SW62LA",
           "SW62LB",
           "SW62LE",
           "SW62LF",
           "SW62LG",
           "SW62LJ",
           "SW62LQ",
           "SW62PS"
          ],
          "received_time": "2021-04-10T09:20:00",
          "restored_time": "2021-04-10T11:55:53.623"
         },
         "INCD-259692-J": {
          "description": "A fault occurred on a piece of our electrical equipment which controls the power to your home.",
          "estimated_restored_time": "2021-04-10T13:30:00",
          "incident_active": false,
          "incident_url": "https://www.ukpowernetworks.co.uk/power-cut/map?incidentid=INCD-259692-J",
          "planned_time": null,
          "postcodes_impacted": [
           "SE17EQ",
           "SE17LL",
           "SE17LN",
           "SE17LW"
          ],
          "received_time": "2021-04-10T09:28:00",
          "restored_time": "2021-04-10T11:35:11.88"
         },
         "INCD-259693-J": {
          "description": "A fault occurred on a piece of our electrical equipment which controls the power to your home.",
          "estimated_restored_time": "2021-04-10T13:00:00",
          "incident_active": false,
          "incident_url": "https://www.ukpowernetworks.co.uk/power-cut/map?incidentid=INCD-259693-J",
          "planned_time": null,
          "postcodes_impacted": [
           "E12EL",
           "E12HH",
           "E13AA",
           "E13AB",
           "E13AZ",
           "E13BB",
           "E13BD"
          ],
          "received_time": "2021-04-10T10:06:00",
          "restored_time": "2021-04-10T13:42:39.437"
         },
         "INCD-259704-J": {
          "description": "A fault occurred on an underground electricity cable affecting the local area.",
          "estimated_restored_time": null,
          "incident_active": true,
          "incident_url": "https://www.ukpowernetworks.co.uk/power-cut/map?incidentid=INCD-259704-J",
          "planned_time": null,
          "postcodes_impacted": [
           "SW1Y4LR",
           "SW1Y6HB",
           "SW1Y6HD"
          ],
          "received_time": "2021-04-10T13:09:05",
          "restored_time": null
         },
         "INCD-259709-J": {
          "description": "We were investigating an electricity cable that was damaged, causing a power cut in the local area.",
          "estimated_restored_time": "2021-04-10T18:00:00",
          "incident_active": false,
          "incident_url": "https://www.ukpowernetworks.co.uk/power-cut/map?incidentid=INCD-259709-J",
          "planned_time": null,
          "postcodes_impacted": [
           "NW66LA",
           "NW66LB",
           "NW66NP",
           "NW66NR"
          ],
          "received_time": "2021-04-10T13:53:00",
          "restored_time": "2021-04-10T17:32:21.083"
         },
         "INCD-259713-J": {
          "description": "A fault occurred on a piece of our electrical equipment which controls the power to your home.",
          "estimated_restored_time": "2021-04-10T19:00:00",
          "incident_active": true,
          "incident_url": "https://www.ukpowernetworks.co.uk/power-cut/map?incidentid=INCD-259713-J",
          "planned_time": null,
          "postcodes_impacted": [
           "SW98JN",
           "SW98JW",
           "SW98JP",
           "SW98LB",
           "SW98LD",
           "SW98LQ"
          ],
          "received_time": "2021-04-10T15:22:00",
          "restored_time": null
         },
         "INCD-44085-C": {
          "description": "A fault occurred on an underground electricity cable affecting the local area.",
          "estimated_restored_time": "2021-04-10T22:00:00",
          "incident_active": true,
          "incident_url": "https://www.ukpowernetworks.co.uk/power-cut/map?incidentid=INCD-44085-C",
          "planned_time": null,
          "postcodes_impacted": [
           "MK439DA",
           "MK439DB",
           "MK439JT"
          ],
          "received_time": "2021-04-10T14:11:00",
          "restored_time": null
         },
         "INCD-53501-V": {
          "description": "A piece of network equipment had a fault on our high voltage electricity network, causing an area wide power cut.",
          "estimated_restored_time": "2021-03-29T22:30:00",
          "incident_active": false,
          "incident_url": "https://www.ukpowernetworks.co.uk/power-cut/map?incidentid=INCD-53501-V",
          "planned_time": null,
          "postcodes_impacted": [
           "TW181HR",
           "TW182SD",
           "TW182SE",
           "TW182SF",
           "TW182SG",
           "TW182SL",
           "TW182SQ",
           "TW182SY"
          ],
          "received_time": "2021-03-29T18:55:08",
          "restored_time": "2021-04-10T10:10:07.05"
         },
         "INCD-54055-V": {
          "description": "A fault occurred on an underground electricity cable affecting the local area.",
          "estimated_restored_time": null,
          "incident_active": true,
          "incident_url": "https://www.ukpowernetworks.co.uk/power-cut/map?incidentid=INCD-54055-V",
          "planned_time": null,
          "postcodes_impacted": [
           "GU14SQ",
           "GU14RY",
           "GU14SG",
           "GU14SJ",
           "GU14SS",
           "GU14YN"
          ],
          "received_time": "2021-04-08T09:30:00",
          "restored_time": null
         },
         "INCD-54191-V": {
          "description": "A fault occurred on an underground electricity cable affecting the local area.",
          "estimated_restored_time": "2021-04-10T20:00:00",
          "incident_active": true,
          "incident_url": "https://www.ukpowernetworks.co.uk/power-cut/map?incidentid=INCD-54191-V",
          "planned_time": null,
          "postcodes_impacted": [
           "BN246BH",
           "BN246BJ",
           "BN246JD",
           "BN246JE",
           "BN246JF",
           "BN246JG",
           "BN246JQ",
           "BN246HR",
           "BN246JH",
           "BN246JL"
          ],
          "received_time": "2021-04-10T10:48:00",
          "restored_time": null
         },
         "INCD-54195-V": {
          "description": "We were investigating a high voltage overhead electricity line fault which caused a power cut in the local area.",
          "estimated_restored_time": "2021-04-10T15:00:00",
          "incident_active": false,
          "incident_url": "https://www.ukpowernetworks.co.uk/power-cut/map?incidentid=INCD-54195-V",
          "planned_time": null,
          "postcodes_impacted": [
           "TN120DL",
           "TN172DT",
           "TN172DU",
           "TN172DX",
           "TN172EA",
           "TN172EB",
           "TN172ED",
           "TN172EE",
           "TN172EH",
           "TN179BT"
          ],
          "received_time": "2021-04-10T12:11:56",
          "restored_time": "2021-04-10T14:25:05.293"
         },
         "INCD-54207-V": {
          "description": "A fault occurred on a piece of our electrical equipment which controls the power to your home.",
          "estimated_restored_time": "2021-04-10T22:00:00",
          "incident_active": true,
          "incident_url": "https://www.ukpowernetworks.co.uk/power-cut/map?incidentid=INCD-54207-V",
          "planned_time": null,
          "postcodes_impacted": [
           "BN435LD",
           "BN436RG",
           "BN436RH",
           "BN436RS"
          ],
          "received_time": "2021-04-10T17:52:33",
          "restored_time": null
         },
         "INCD-59779-N": {
          "description": "We had to turn off power in your area so our engineers could safely carry out emergency repairs to the network.",
          "estimated_restored_time": null,
          "incident_active": false,
          "incident_url": "https://www.ukpowernetworks.co.uk/power-cut/map?incidentid=INCD-59779-N",
          "planned_time": null,
          "postcodes_impacted": [
           "BR33AT",
           "BR33AX",
           "BR33BS",
           "BR33FW",
           "BR33FX",
           "BR33GD",
           "BR33GE",
           "BR33GF",
           "BR33GJ",
           "BR33GP",
           "BR33GQ",
           "BR33GR",
           "BR33GU",
           "BR33GX",
           "BR33XW"
          ],
          "received_time": "2021-04-09T09:34:05",
          "restored_time": "2021-04-10T06:47:03.117"
         }
        },
        "wpd": {
         "INCD-152255-H": {
          "description": "In Progress",
          "estimated_restored_time": "2021-04-10 23:00:00",
          "incident_active": true,
          "incident_url": "https://powercuts.westernpower.co.uk/incident/INCD-152255-H",
          "postcodes_impacted": [
           "DN22 6PS",
           "DN22 6PR"
          ],
          "received_time": "2021-04-10 00:42:00"
         },
         "INCD-152276-H": {
          "description": "In Progress",
          "estimated_restored_time": "2021-04-10 20:00:00",
          "incident_active": true,
          "incident_url": "https://powercuts.westernpower.co.uk/incident/INCD-152276-H",
          "postcodes_impacted": [
           "MK44 1HJ",
           "MK44 1HQ",
           "MK44 1JH"
          ],
          "received_time": "2021-04-10 12:38:00"
         },
         "INCD-416195-E": {
          "description": "In Progress",
          "estimated_restored_time": "2021-04-10 19:30:00",
          "incident_active": true,
          "incident_url": "https://powercuts.westernpower.co.uk/incident/INCD-416195-E",
          "postcodes_impacted": [
           "B65 0BQ"
          ],
          "received_time": "2021-04-09 22:08:00"
         },
         "INCD-416215-E": {
          "description": "In Progress",
          "estimated_restored_time": "2021-04-10 22:00:00",
          "incident_active": true,
          "incident_url": "https://powercuts.westernpower.co.uk/incident/INCD-416215-E",
          "postcodes_impacted": [
           "B71 2NH",
           "B71 2NN",
           "B71 2NL",
           "B71 2NJ",
           "B71 2PA",
           "B71 2PF"
          ],
          "received_time": "2021-04-10 10:32:00"
         },
         "INCD-43861-D": {
          "description": "In Progress",
          "estimated_restored_time": "2021-04-10 19:00:00",
          "incident_active": true,
          "incident_url": "https://powercuts.westernpower.co.uk/incident/INCD-43861-D",
          "postcodes_impacted": [
           "NG4 3FT",
           "NG4 3FF",
           "NG4 3FD",
           "NG4 3FG",
           "NG4 3FH",
           "NG4 3FL",
           "NG4 3FN",
           "NG4 3FU",
           "NG4 3FX",
           "NG4 2FH",
           "NG4 3FJ"
          ],
          "received_time": "2021-04-10 16:00:00"
         },
         "INCD-43863-D": {
          "description": "In Progress",
          "estimated_restored_time": "2021-04-10 20:00:00",
          "incident_active": true,
          "incident_url": "https://powercuts.westernpower.co.uk/incident/INCD-43863-D",
          "postcodes_impacted": [
           "CV7 8EN",
           "CV7 8EP"
          ],
          "received_time": "2021-04-10 15:36:00"
         }
        }
       }
      ],
      "text/plain": [
       "<IPython.core.display.JSON object>"
      ]
     },
     "execution_count": 4,
     "metadata": {
      "application/json": {
       "expanded": false,
       "root": "root"
      }
     },
     "output_type": "execute_result"
    }
   ],
   "source": [
    "cleaned_incidents_info = collate_cleaned_incidents_info()\n",
    "\n",
    "JSON([cleaned_incidents_info])"
   ]
  },
  {
   "cell_type": "code",
   "execution_count": null,
   "id": "rocky-development",
   "metadata": {},
   "outputs": [],
   "source": []
  },
  {
   "cell_type": "code",
   "execution_count": 5,
   "id": "dominant-communication",
   "metadata": {},
   "outputs": [],
   "source": [
    "#exports\n",
    "def get_combined_outages_df(cleaned_incidents_info):\n",
    "    df_outages = pd.DataFrame()\n",
    "\n",
    "    for dno, dno_outages in cleaned_incidents_info.items():\n",
    "        df_dno_outages = pd.DataFrame(dno_outages).T.query('incident_active==True')\n",
    "\n",
    "        df_dno_outages['dno'] = dno\n",
    "        df_dno_outages = df_dno_outages[['received_time', 'estimated_restored_time', 'postcodes_impacted', 'description', 'dno', 'incident_url']]\n",
    "\n",
    "        df_dno_outages.index.name = 'incident_id'\n",
    "        df_dno_outages = df_dno_outages.reset_index()\n",
    "\n",
    "        df_outages = df_outages.append(df_dno_outages)\n",
    "\n",
    "    df_outages = df_outages.reset_index(drop=True)\n",
    "    \n",
    "    return df_outages"
   ]
  },
  {
   "cell_type": "code",
   "execution_count": 6,
   "id": "broken-march",
   "metadata": {},
   "outputs": [
    {
     "data": {
      "text/html": [
       "<div>\n",
       "<style scoped>\n",
       "    .dataframe tbody tr th:only-of-type {\n",
       "        vertical-align: middle;\n",
       "    }\n",
       "\n",
       "    .dataframe tbody tr th {\n",
       "        vertical-align: top;\n",
       "    }\n",
       "\n",
       "    .dataframe thead th {\n",
       "        text-align: right;\n",
       "    }\n",
       "</style>\n",
       "<table border=\"1\" class=\"dataframe\">\n",
       "  <thead>\n",
       "    <tr style=\"text-align: right;\">\n",
       "      <th></th>\n",
       "      <th>incident_id</th>\n",
       "      <th>received_time</th>\n",
       "      <th>estimated_restored_time</th>\n",
       "      <th>postcodes_impacted</th>\n",
       "      <th>description</th>\n",
       "      <th>dno</th>\n",
       "      <th>incident_url</th>\n",
       "    </tr>\n",
       "  </thead>\n",
       "  <tbody>\n",
       "    <tr>\n",
       "      <th>0</th>\n",
       "      <td>INCD-230057-Z</td>\n",
       "      <td>2021-04-10T02:52:00</td>\n",
       "      <td>None</td>\n",
       "      <td>[HA80AD, HA80ED, HA80FD, HA80FE, HA80FH, HA89B...</td>\n",
       "      <td>A fault occurred on an underground electricity...</td>\n",
       "      <td>ukpn</td>\n",
       "      <td>https://www.ukpowernetworks.co.uk/power-cut/ma...</td>\n",
       "    </tr>\n",
       "    <tr>\n",
       "      <th>1</th>\n",
       "      <td>INCD-247961-G</td>\n",
       "      <td>2021-04-10T00:20:00</td>\n",
       "      <td>None</td>\n",
       "      <td>[TN74ET]</td>\n",
       "      <td>A fault occurred on an underground electricity...</td>\n",
       "      <td>ukpn</td>\n",
       "      <td>https://www.ukpowernetworks.co.uk/power-cut/ma...</td>\n",
       "    </tr>\n",
       "    <tr>\n",
       "      <th>2</th>\n",
       "      <td>INCD-54055-V</td>\n",
       "      <td>2021-04-08T09:30:00</td>\n",
       "      <td>None</td>\n",
       "      <td>[GU14SQ, GU14RY, GU14SG, GU14SJ, GU14SS, GU14YN]</td>\n",
       "      <td>A fault occurred on an underground electricity...</td>\n",
       "      <td>ukpn</td>\n",
       "      <td>https://www.ukpowernetworks.co.uk/power-cut/ma...</td>\n",
       "    </tr>\n",
       "  </tbody>\n",
       "</table>\n",
       "</div>"
      ],
      "text/plain": [
       "     incident_id        received_time estimated_restored_time  \\\n",
       "0  INCD-230057-Z  2021-04-10T02:52:00                    None   \n",
       "1  INCD-247961-G  2021-04-10T00:20:00                    None   \n",
       "2   INCD-54055-V  2021-04-08T09:30:00                    None   \n",
       "\n",
       "                                  postcodes_impacted  \\\n",
       "0  [HA80AD, HA80ED, HA80FD, HA80FE, HA80FH, HA89B...   \n",
       "1                                           [TN74ET]   \n",
       "2   [GU14SQ, GU14RY, GU14SG, GU14SJ, GU14SS, GU14YN]   \n",
       "\n",
       "                                         description   dno  \\\n",
       "0  A fault occurred on an underground electricity...  ukpn   \n",
       "1  A fault occurred on an underground electricity...  ukpn   \n",
       "2  A fault occurred on an underground electricity...  ukpn   \n",
       "\n",
       "                                        incident_url  \n",
       "0  https://www.ukpowernetworks.co.uk/power-cut/ma...  \n",
       "1  https://www.ukpowernetworks.co.uk/power-cut/ma...  \n",
       "2  https://www.ukpowernetworks.co.uk/power-cut/ma...  "
      ]
     },
     "execution_count": 6,
     "metadata": {},
     "output_type": "execute_result"
    }
   ],
   "source": [
    "df_outages = get_combined_outages_df(cleaned_incidents_info)\n",
    "    \n",
    "df_outages.head(3)"
   ]
  },
  {
   "cell_type": "markdown",
   "id": "powerful-makeup",
   "metadata": {},
   "source": [
    "<br>\n",
    "\n",
    "### Locating Post Codes"
   ]
  },
  {
   "cell_type": "code",
   "execution_count": 7,
   "id": "controlled-fourth",
   "metadata": {},
   "outputs": [
    {
     "name": "stdout",
     "output_type": "stream",
     "text": [
      "Wall time: 6 s\n"
     ]
    },
    {
     "data": {
      "text/html": [
       "<div>\n",
       "<style scoped>\n",
       "    .dataframe tbody tr th:only-of-type {\n",
       "        vertical-align: middle;\n",
       "    }\n",
       "\n",
       "    .dataframe tbody tr th {\n",
       "        vertical-align: top;\n",
       "    }\n",
       "\n",
       "    .dataframe thead th {\n",
       "        text-align: right;\n",
       "    }\n",
       "</style>\n",
       "<table border=\"1\" class=\"dataframe\">\n",
       "  <thead>\n",
       "    <tr style=\"text-align: right;\">\n",
       "      <th></th>\n",
       "      <th>longitude</th>\n",
       "      <th>latitude</th>\n",
       "    </tr>\n",
       "    <tr>\n",
       "      <th>postcode</th>\n",
       "      <th></th>\n",
       "      <th></th>\n",
       "    </tr>\n",
       "  </thead>\n",
       "  <tbody>\n",
       "    <tr>\n",
       "      <th>AB101AB</th>\n",
       "      <td>-2.096916</td>\n",
       "      <td>57.149606</td>\n",
       "    </tr>\n",
       "    <tr>\n",
       "      <th>AB101AF</th>\n",
       "      <td>-2.097806</td>\n",
       "      <td>57.148707</td>\n",
       "    </tr>\n",
       "    <tr>\n",
       "      <th>AB101AG</th>\n",
       "      <td>-2.096997</td>\n",
       "      <td>57.149067</td>\n",
       "    </tr>\n",
       "    <tr>\n",
       "      <th>AB101AH</th>\n",
       "      <td>-2.094664</td>\n",
       "      <td>57.148080</td>\n",
       "    </tr>\n",
       "    <tr>\n",
       "      <th>AB101AL</th>\n",
       "      <td>-2.095909</td>\n",
       "      <td>57.150074</td>\n",
       "    </tr>\n",
       "  </tbody>\n",
       "</table>\n",
       "</div>"
      ],
      "text/plain": [
       "          longitude   latitude\n",
       "postcode                      \n",
       "AB101AB   -2.096916  57.149606\n",
       "AB101AF   -2.097806  57.148707\n",
       "AB101AG   -2.096997  57.149067\n",
       "AB101AH   -2.094664  57.148080\n",
       "AB101AL   -2.095909  57.150074"
      ]
     },
     "execution_count": 7,
     "metadata": {},
     "output_type": "execute_result"
    }
   ],
   "source": [
    "%%time\n",
    "\n",
    "df_postcodes = pd.read_csv('../data/postcodes.csv', index_col='postcode')\n",
    "df_postcodes.index = df_postcodes.index.str.replace(' ', '')\n",
    "\n",
    "df_postcodes.head()"
   ]
  },
  {
   "cell_type": "markdown",
   "id": "statistical-disclosure",
   "metadata": {},
   "source": [
    "<br>\n",
    "\n",
    "Although most are, some post-codes aren't included in our database"
   ]
  },
  {
   "cell_type": "code",
   "execution_count": 8,
   "id": "gothic-panel",
   "metadata": {},
   "outputs": [],
   "source": [
    "#exports\n",
    "check_postcode_is_in_df = lambda postcode, df: postcode in df.index"
   ]
  },
  {
   "cell_type": "code",
   "execution_count": 9,
   "id": "thorough-clinic",
   "metadata": {},
   "outputs": [
    {
     "data": {
      "text/plain": [
       "(False, True)"
      ]
     },
     "execution_count": 9,
     "metadata": {},
     "output_type": "execute_result"
    }
   ],
   "source": [
    "(check_postcode_is_in_df('W1M1HE', df_postcodes), \n",
    " check_postcode_is_in_df('HP41FD', df_postcodes))"
   ]
  },
  {
   "cell_type": "code",
   "execution_count": null,
   "id": "commercial-joseph",
   "metadata": {},
   "outputs": [],
   "source": []
  },
  {
   "cell_type": "code",
   "execution_count": 10,
   "id": "yellow-essex",
   "metadata": {},
   "outputs": [],
   "source": [
    "#exports\n",
    "def get_postcode_location_df(df_postcodes, postcode):\n",
    "    postcode_is_in_df = check_postcode_is_in_df(postcode, df_postcodes)\n",
    "    \n",
    "    if postcode_is_in_df:\n",
    "        location = df_postcodes.loc[postcode]\n",
    "\n",
    "        longitude = location['longitude']\n",
    "        latitude = location['latitude']\n",
    "        \n",
    "    else:\n",
    "        longitude, latitude = None, None\n",
    "\n",
    "    return longitude, latitude"
   ]
  },
  {
   "cell_type": "code",
   "execution_count": 11,
   "id": "collaborative-binding",
   "metadata": {},
   "outputs": [
    {
     "data": {
      "text/plain": [
       "(-0.5676534391043929, 51.76118688537669)"
      ]
     },
     "execution_count": 11,
     "metadata": {},
     "output_type": "execute_result"
    }
   ],
   "source": [
    "longitude, latitude = get_postcode_location_df(df_postcodes, 'HP41FD')\n",
    "\n",
    "longitude, latitude"
   ]
  },
  {
   "cell_type": "code",
   "execution_count": null,
   "id": "recent-tamil",
   "metadata": {},
   "outputs": [],
   "source": []
  },
  {
   "cell_type": "code",
   "execution_count": 12,
   "id": "missing-cooperative",
   "metadata": {},
   "outputs": [],
   "source": [
    "#exports\n",
    "get_postcode_url = lambda postcode: f'http://api.getthedata.com/postcode/{postcode}'"
   ]
  },
  {
   "cell_type": "code",
   "execution_count": 13,
   "id": "quality-colombia",
   "metadata": {},
   "outputs": [
    {
     "data": {
      "application/json": {
       "copyright": [
        "Contains OS data (c) Crown copyright and database right 2021",
        "Contains Royal Mail data (c) Royal Mail copyright and database right 2021",
        "Contains National Statistics data (c) Crown copyright and database right 2021"
       ],
       "data": {
        "country": "England",
        "easting": 528092,
        "incode": "1HE",
        "latitude": "51.519146",
        "longitude": "-0.155234",
        "northing": 181638,
        "outcode": "W1M",
        "positional_quality_indicator": 1,
        "postcode": "W1M 1HE",
        "postcode_area": "W",
        "postcode_district": "W1M",
        "postcode_fixed_width_eight": "W1M  1HE",
        "postcode_fixed_width_seven": "W1M 1HE",
        "postcode_no_space": "W1M1HE",
        "postcode_sector": "W1M 1",
        "status": "terminated",
        "usertype": "small"
       },
       "input": "W1M1HE",
       "match_type": "unit_postcode",
       "status": "match"
      },
      "text/plain": [
       "<IPython.core.display.JSON object>"
      ]
     },
     "execution_count": 13,
     "metadata": {
      "application/json": {
       "expanded": false,
       "root": "root"
      }
     },
     "output_type": "execute_result"
    }
   ],
   "source": [
    "postcode = 'W1M1HE'\n",
    "\n",
    "postcode_url = get_postcode_url(postcode)\n",
    "r_json = requests.get(postcode_url).json()\n",
    "\n",
    "JSON(r_json)"
   ]
  },
  {
   "cell_type": "code",
   "execution_count": null,
   "id": "coastal-ocean",
   "metadata": {},
   "outputs": [],
   "source": []
  },
  {
   "cell_type": "code",
   "execution_count": 14,
   "id": "about-ghana",
   "metadata": {},
   "outputs": [],
   "source": [
    "#exports\n",
    "def get_postcode_location_api(postcode):\n",
    "    longitude, latitude = None, None\n",
    "    \n",
    "    postcode_url = get_postcode_url(postcode)\n",
    "    r_json = requests.get(postcode_url).json()\n",
    "\n",
    "    if r_json['status'] == 'match':\n",
    "        data_keys = r_json['data'].keys()\n",
    "        \n",
    "        if 'longitude' in data_keys and 'latitude' in data_keys:\n",
    "            longitude = float(r_json['data']['longitude'])\n",
    "            latitude = float(r_json['data']['latitude'])\n",
    "\n",
    "    return longitude, latitude"
   ]
  },
  {
   "cell_type": "code",
   "execution_count": 15,
   "id": "banner-diameter",
   "metadata": {},
   "outputs": [
    {
     "data": {
      "text/plain": [
       "(-0.155234, 51.519146)"
      ]
     },
     "execution_count": 15,
     "metadata": {},
     "output_type": "execute_result"
    }
   ],
   "source": [
    "longitude, latitude = get_postcode_location_api(postcode)\n",
    "\n",
    "longitude, latitude"
   ]
  },
  {
   "cell_type": "code",
   "execution_count": null,
   "id": "located-running",
   "metadata": {},
   "outputs": [],
   "source": []
  },
  {
   "cell_type": "code",
   "execution_count": 16,
   "id": "super-layout",
   "metadata": {},
   "outputs": [],
   "source": [
    "#exports\n",
    "class PostCodeLocator:\n",
    "    def __init__(self, postcodes_fp: str='../data/postcodes.csv'):\n",
    "        # Loading Post Codes DataFrame\n",
    "        df_postcodes = pd.read_csv(postcodes_fp, index_col='postcode')\n",
    "        df_postcodes.index = df_postcodes.index.str.replace(' ', '')\n",
    "        \n",
    "        self.df_postcodes = df_postcodes\n",
    "        \n",
    "    def get_postcode_location(self, postcode):\n",
    "        postcode_is_in_df = check_postcode_is_in_df(postcode, self.df_postcodes)\n",
    "\n",
    "        if postcode_is_in_df:\n",
    "            longitude, latitude = get_postcode_location_df(self.df_postcodes, postcode)\n",
    "            \n",
    "        else:\n",
    "            longitude, latitude = get_postcode_location_api(postcode)\n",
    "            \n",
    "        if longitude is None or latitude is None:\n",
    "            warn(f'The longitude and latitude of {postcode} could not be determined')\n",
    "            \n",
    "        return longitude, latitude"
   ]
  },
  {
   "cell_type": "code",
   "execution_count": 17,
   "id": "buried-language",
   "metadata": {},
   "outputs": [
    {
     "name": "stdout",
     "output_type": "stream",
     "text": [
      "Wall time: 5.92 s\n"
     ]
    }
   ],
   "source": [
    "%%time\n",
    "\n",
    "pcl = PostCodeLocator()"
   ]
  },
  {
   "cell_type": "code",
   "execution_count": null,
   "id": "complimentary-winner",
   "metadata": {},
   "outputs": [],
   "source": []
  },
  {
   "cell_type": "code",
   "execution_count": 18,
   "id": "demographic-photograph",
   "metadata": {},
   "outputs": [
    {
     "name": "stdout",
     "output_type": "stream",
     "text": [
      "Wall time: 1.68 s\n"
     ]
    },
    {
     "data": {
      "text/plain": [
       "(-0.5676534391043929, 51.76118688537669)"
      ]
     },
     "execution_count": 18,
     "metadata": {},
     "output_type": "execute_result"
    }
   ],
   "source": [
    "%%time\n",
    "\n",
    "postcode = 'HP41FD'\n",
    "\n",
    "pcl.get_postcode_location(postcode)"
   ]
  },
  {
   "cell_type": "code",
   "execution_count": null,
   "id": "constant-rachel",
   "metadata": {},
   "outputs": [],
   "source": []
  },
  {
   "cell_type": "code",
   "execution_count": 19,
   "id": "finnish-capacity",
   "metadata": {},
   "outputs": [
    {
     "name": "stdout",
     "output_type": "stream",
     "text": [
      "Wall time: 62.3 ms\n"
     ]
    },
    {
     "data": {
      "text/plain": [
       "(-0.155234, 51.519146)"
      ]
     },
     "execution_count": 19,
     "metadata": {},
     "output_type": "execute_result"
    }
   ],
   "source": [
    "%%time\n",
    "\n",
    "postcode = 'W1M1HE'\n",
    "\n",
    "pcl.get_postcode_location(postcode)"
   ]
  },
  {
   "cell_type": "markdown",
   "id": "parallel-compression",
   "metadata": {},
   "source": [
    "<br>\n",
    "\n",
    "### Creating Outages Leaflet Map"
   ]
  },
  {
   "cell_type": "code",
   "execution_count": 20,
   "id": "amino-seattle",
   "metadata": {},
   "outputs": [],
   "source": [
    "#exports\n",
    "def add_outage_longitudes_latitudes(df_outages, postcodes_fp: str='../data/postcodes.csv', null_threshold=1):\n",
    "    pcl = PostCodeLocator(postcodes_fp)\n",
    "        \n",
    "    s_incident_longitudes = pd.Series(index=df_outages.index, dtype='float64')\n",
    "    s_incident_latitudes = pd.Series(index=df_outages.index, dtype='float64')\n",
    "\n",
    "    for outage_idx, s_outage in track(df_outages.iterrows(), total=df_outages.shape[0]):\n",
    "        incident_longitudes = []\n",
    "        incident_latitudes = []\n",
    "\n",
    "        for postcode_impacted in s_outage['postcodes_impacted']:\n",
    "            longitude, latitude = pcl.get_postcode_location(postcode_impacted)\n",
    "\n",
    "            incident_longitudes += [longitude]\n",
    "            incident_latitudes += [latitude]\n",
    "\n",
    "        s_incident_longitudes.loc[outage_idx] = pd.Series(incident_longitudes).mean()\n",
    "        s_incident_latitudes.loc[outage_idx] = pd.Series(incident_latitudes).mean()\n",
    "        \n",
    "    df_outages = (df_outages\n",
    "                  .assign(longitude=s_incident_longitudes)\n",
    "                  .assign(latitude=s_incident_latitudes)\n",
    "                 )\n",
    "    \n",
    "    idxs_to_keep = (df_outages.isnull().sum(axis=1)<=null_threshold).replace(False, np.nan).dropna().index\n",
    "    df_outages = df_outages.loc[idxs_to_keep]\n",
    "    \n",
    "    return df_outages"
   ]
  },
  {
   "cell_type": "code",
   "execution_count": 21,
   "id": "laden-patch",
   "metadata": {},
   "outputs": [
    {
     "data": {
      "text/html": [
       "<div><span class=\"Text-label\" style=\"display:inline-block; overflow:hidden; white-space:nowrap; text-overflow:ellipsis; min-width:0; max-width:15ex; vertical-align:middle; text-align:right\"></span>\n",
       "<progress style=\"width:60ex\" max=\"70\" value=\"70\" class=\"Progress-main\"/></progress>\n",
       "<span class=\"Progress-label\"><strong>100%</strong></span>\n",
       "<span class=\"Iteration-label\">70/70</span>\n",
       "<span class=\"Time-label\">[00:14<00:01, 0.20s/it]</span></div>"
      ],
      "text/plain": [
       "\u001b[A\u001b[2K\r",
       " [████████████████████████████████████████████████████████████] 70/70 [00:14<00:01, 0.20s/it]\u001b[B"
      ]
     },
     "metadata": {},
     "output_type": "display_data"
    },
    {
     "name": "stderr",
     "output_type": "stream",
     "text": [
      "C:\\Users\\Ayrto\\anaconda3\\envs\\outage\\lib\\site-packages\\ipykernel_launcher.py:20: UserWarning: The longitude and latitude of UMS could not be determined\n",
      "C:\\Users\\Ayrto\\anaconda3\\envs\\outage\\lib\\site-packages\\ipykernel_launcher.py:20: UserWarning: The longitude and latitude of RH11ONR could not be determined\n",
      "C:\\Users\\Ayrto\\anaconda3\\envs\\outage\\lib\\site-packages\\ipykernel_launcher.py:20: UserWarning: The longitude and latitude of TN33 could not be determined\n",
      "C:\\Users\\Ayrto\\anaconda3\\envs\\outage\\lib\\site-packages\\ipykernel_launcher.py:20: UserWarning: The longitude and latitude of TN34 could not be determined\n",
      "C:\\Users\\Ayrto\\anaconda3\\envs\\outage\\lib\\site-packages\\ipykernel_launcher.py:20: UserWarning: The longitude and latitude of TN386AE could not be determined\n",
      "C:\\Users\\Ayrto\\anaconda3\\envs\\outage\\lib\\site-packages\\ipykernel_launcher.py:20: UserWarning: The longitude and latitude of GU4 could not be determined\n",
      "C:\\Users\\Ayrto\\anaconda3\\envs\\outage\\lib\\site-packages\\ipykernel_launcher.py:20: UserWarning: The longitude and latitude of TN33OSR could not be determined\n",
      "C:\\Users\\Ayrto\\anaconda3\\envs\\outage\\lib\\site-packages\\ipykernel_launcher.py:20: UserWarning: The longitude and latitude of SY215NJ could not be determined\n",
      "C:\\Users\\Ayrto\\anaconda3\\envs\\outage\\lib\\site-packages\\ipykernel_launcher.py:20: UserWarning: The longitude and latitude of ML1 could not be determined\n",
      "C:\\Users\\Ayrto\\anaconda3\\envs\\outage\\lib\\site-packages\\ipykernel_launcher.py:20: UserWarning: The longitude and latitude of ML110WW could not be determined\n",
      "C:\\Users\\Ayrto\\anaconda3\\envs\\outage\\lib\\site-packages\\ipykernel_launcher.py:20: UserWarning: The longitude and latitude of ML110XX could not be determined\n",
      "C:\\Users\\Ayrto\\anaconda3\\envs\\outage\\lib\\site-packages\\ipykernel_launcher.py:20: UserWarning: The longitude and latitude of SK13 3GA could not be determined\n"
     ]
    },
    {
     "data": {
      "text/html": [
       "<div>\n",
       "<style scoped>\n",
       "    .dataframe tbody tr th:only-of-type {\n",
       "        vertical-align: middle;\n",
       "    }\n",
       "\n",
       "    .dataframe tbody tr th {\n",
       "        vertical-align: top;\n",
       "    }\n",
       "\n",
       "    .dataframe thead th {\n",
       "        text-align: right;\n",
       "    }\n",
       "</style>\n",
       "<table border=\"1\" class=\"dataframe\">\n",
       "  <thead>\n",
       "    <tr style=\"text-align: right;\">\n",
       "      <th></th>\n",
       "      <th>incident_id</th>\n",
       "      <th>received_time</th>\n",
       "      <th>estimated_restored_time</th>\n",
       "      <th>postcodes_impacted</th>\n",
       "      <th>description</th>\n",
       "      <th>dno</th>\n",
       "      <th>incident_url</th>\n",
       "      <th>longitude</th>\n",
       "      <th>latitude</th>\n",
       "    </tr>\n",
       "  </thead>\n",
       "  <tbody>\n",
       "    <tr>\n",
       "      <th>0</th>\n",
       "      <td>INCD-230057-Z</td>\n",
       "      <td>2021-04-10T02:52:00</td>\n",
       "      <td>None</td>\n",
       "      <td>[HA80AD, HA80ED, HA80FD, HA80FE, HA80FH, HA89B...</td>\n",
       "      <td>A fault occurred on an underground electricity...</td>\n",
       "      <td>ukpn</td>\n",
       "      <td>https://www.ukpowernetworks.co.uk/power-cut/ma...</td>\n",
       "      <td>-0.272263</td>\n",
       "      <td>51.606113</td>\n",
       "    </tr>\n",
       "    <tr>\n",
       "      <th>1</th>\n",
       "      <td>INCD-247961-G</td>\n",
       "      <td>2021-04-10T00:20:00</td>\n",
       "      <td>None</td>\n",
       "      <td>[TN74ET]</td>\n",
       "      <td>A fault occurred on an underground electricity...</td>\n",
       "      <td>ukpn</td>\n",
       "      <td>https://www.ukpowernetworks.co.uk/power-cut/ma...</td>\n",
       "      <td>0.089125</td>\n",
       "      <td>51.080242</td>\n",
       "    </tr>\n",
       "    <tr>\n",
       "      <th>2</th>\n",
       "      <td>INCD-54055-V</td>\n",
       "      <td>2021-04-08T09:30:00</td>\n",
       "      <td>None</td>\n",
       "      <td>[GU14SQ, GU14RY, GU14SG, GU14SJ, GU14SS, GU14YN]</td>\n",
       "      <td>A fault occurred on an underground electricity...</td>\n",
       "      <td>ukpn</td>\n",
       "      <td>https://www.ukpowernetworks.co.uk/power-cut/ma...</td>\n",
       "      <td>-0.577513</td>\n",
       "      <td>51.237269</td>\n",
       "    </tr>\n",
       "  </tbody>\n",
       "</table>\n",
       "</div>"
      ],
      "text/plain": [
       "     incident_id        received_time estimated_restored_time  \\\n",
       "0  INCD-230057-Z  2021-04-10T02:52:00                    None   \n",
       "1  INCD-247961-G  2021-04-10T00:20:00                    None   \n",
       "2   INCD-54055-V  2021-04-08T09:30:00                    None   \n",
       "\n",
       "                                  postcodes_impacted  \\\n",
       "0  [HA80AD, HA80ED, HA80FD, HA80FE, HA80FH, HA89B...   \n",
       "1                                           [TN74ET]   \n",
       "2   [GU14SQ, GU14RY, GU14SG, GU14SJ, GU14SS, GU14YN]   \n",
       "\n",
       "                                         description   dno  \\\n",
       "0  A fault occurred on an underground electricity...  ukpn   \n",
       "1  A fault occurred on an underground electricity...  ukpn   \n",
       "2  A fault occurred on an underground electricity...  ukpn   \n",
       "\n",
       "                                        incident_url  longitude   latitude  \n",
       "0  https://www.ukpowernetworks.co.uk/power-cut/ma...  -0.272263  51.606113  \n",
       "1  https://www.ukpowernetworks.co.uk/power-cut/ma...   0.089125  51.080242  \n",
       "2  https://www.ukpowernetworks.co.uk/power-cut/ma...  -0.577513  51.237269  "
      ]
     },
     "execution_count": 21,
     "metadata": {},
     "output_type": "execute_result"
    }
   ],
   "source": [
    "df_outages = add_outage_longitudes_latitudes(df_outages)\n",
    "\n",
    "df_outages.head(3)"
   ]
  },
  {
   "cell_type": "code",
   "execution_count": null,
   "id": "champion-network",
   "metadata": {},
   "outputs": [],
   "source": []
  },
  {
   "cell_type": "code",
   "execution_count": 22,
   "id": "undefined-training",
   "metadata": {},
   "outputs": [],
   "source": [
    "#exports\n",
    "construct_outages_gdf = lambda df_outages: gpd.GeoDataFrame(\n",
    "    data=df_outages.drop(columns=['longitude', 'latitude']), \n",
    "    geometry=gpd.points_from_xy(df_outages['longitude'], df_outages['latitude']),\n",
    "    crs='EPSG:4326'\n",
    ")"
   ]
  },
  {
   "cell_type": "code",
   "execution_count": 23,
   "id": "crazy-prescription",
   "metadata": {},
   "outputs": [
    {
     "data": {
      "text/plain": [
       "<AxesSubplot:>"
      ]
     },
     "execution_count": 23,
     "metadata": {},
     "output_type": "execute_result"
    },
    {
     "data": {
      "image/png": "[encoded data removed]",
      "text/plain": [
       "<Figure size 432x288 with 1 Axes>"
      ]
     },
     "metadata": {
      "needs_background": "light"
     },
     "output_type": "display_data"
    }
   ],
   "source": [
    "gdf_outages = construct_outages_gdf(df_outages)\n",
    "\n",
    "gdf_outages.plot()"
   ]
  },
  {
   "cell_type": "code",
   "execution_count": null,
   "id": "possible-stomach",
   "metadata": {},
   "outputs": [],
   "source": []
  },
  {
   "cell_type": "code",
   "execution_count": 24,
   "id": "bright-swift",
   "metadata": {},
   "outputs": [],
   "source": [
    "#exports\n",
    "def generate_map_js(gdf_outages, js_template_fp='templates/map_js.j2', js_docs_fp='docs/map.js'):\n",
    "    outages_geojson = json.loads(gdf_outages.to_json(drop_id=True))\n",
    "\n",
    "    rendered_map_js = Template(open(js_template_fp).read()).render(\n",
    "        zoom=5,\n",
    "        center=[53.96, -3.22],\n",
    "        geojson_features=str(outages_geojson).replace('None', 'null')\n",
    "    )\n",
    "\n",
    "    with open(js_docs_fp, 'w', encoding='utf8') as fp:\n",
    "        fp.write(rendered_map_js)\n",
    "        \n",
    "    return"
   ]
  },
  {
   "cell_type": "code",
   "execution_count": 25,
   "id": "specified-situation",
   "metadata": {},
   "outputs": [],
   "source": [
    "generate_map_js(gdf_outages, '../templates/map_js.j2', '../docs/map.js')"
   ]
  },
  {
   "cell_type": "code",
   "execution_count": null,
   "id": "motivated-graduation",
   "metadata": {},
   "outputs": [],
   "source": []
  },
  {
   "cell_type": "code",
   "execution_count": 26,
   "id": "young-proposition",
   "metadata": {},
   "outputs": [],
   "source": [
    "#exports\n",
    "def clean_outages_df(df_outages):\n",
    "    df_outages_clean = pd.DataFrame()\n",
    "\n",
    "    df_outages_clean['Incident'] = df_outages.agg(lambda x: f\"<a href=\\\"{x['incident_url']}\\\" target=\\\"_blank\\\">{x['incident_id']}</a>\", axis=1)\n",
    "    df_outages_clean['Received Time'] = pd.to_datetime(df_outages['received_time']).dt.strftime('%Y-%m-%d %H:%M').fillna('Unknown')\n",
    "    df_outages_clean['Estimated Restored Time'] = pd.to_datetime(df_outages['estimated_restored_time']).dt.strftime('%Y-%m-%d %H:%M').fillna('Unknown')\n",
    "    df_outages_clean['Postcodes Impacted'] = df_outages['postcodes_impacted'].str.join(', ')\n",
    "    df_outages_clean['Operator'] = df_outages['dno'].str.upper()\n",
    "    df_outages_clean['Description'] = df_outages['description'].str.replace('\\n', '<br>')\n",
    "\n",
    "    df_outages_clean = df_outages_clean.sort_values('Received Time', ascending=False)\n",
    "    \n",
    "    return df_outages_clean"
   ]
  },
  {
   "cell_type": "code",
   "execution_count": 27,
   "id": "valued-maximum",
   "metadata": {},
   "outputs": [
    {
     "data": {
      "text/html": [
       "<div>\n",
       "<style scoped>\n",
       "    .dataframe tbody tr th:only-of-type {\n",
       "        vertical-align: middle;\n",
       "    }\n",
       "\n",
       "    .dataframe tbody tr th {\n",
       "        vertical-align: top;\n",
       "    }\n",
       "\n",
       "    .dataframe thead th {\n",
       "        text-align: right;\n",
       "    }\n",
       "</style>\n",
       "<table border=\"1\" class=\"dataframe\">\n",
       "  <thead>\n",
       "    <tr style=\"text-align: right;\">\n",
       "      <th></th>\n",
       "      <th>Incident</th>\n",
       "      <th>Received Time</th>\n",
       "      <th>Estimated Restored Time</th>\n",
       "      <th>Postcodes Impacted</th>\n",
       "      <th>Operator</th>\n",
       "      <th>Description</th>\n",
       "    </tr>\n",
       "  </thead>\n",
       "  <tbody>\n",
       "    <tr>\n",
       "      <th>15</th>\n",
       "      <td>&lt;a href=\"https://www.ukpowernetworks.co.uk/pow...</td>\n",
       "      <td>2021-04-10 18:09</td>\n",
       "      <td>Unknown</td>\n",
       "      <td>MK453AQ, MK453JU, MK453LA, MK453LB, MK453LD, M...</td>\n",
       "      <td>UKPN</td>\n",
       "      <td>A fault occurred on a piece of our electrical ...</td>\n",
       "    </tr>\n",
       "    <tr>\n",
       "      <th>65</th>\n",
       "      <td>&lt;a href=\"https://www.enwl.co.uk/power-cuts/pow...</td>\n",
       "      <td>2021-04-10 18:06</td>\n",
       "      <td>2021-04-10 22:00</td>\n",
       "      <td>BB3 2RG, BB3 2RH, BB3 2RJ, BB3 2RL, BB3 2RN, B...</td>\n",
       "      <td>ENW</td>\n",
       "      <td>The power cut in your area has been caused by ...</td>\n",
       "    </tr>\n",
       "    <tr>\n",
       "      <th>66</th>\n",
       "      <td>&lt;a href=\"https://www.enwl.co.uk/power-cuts/pow...</td>\n",
       "      <td>2021-04-10 17:57</td>\n",
       "      <td>2021-04-11 00:02</td>\n",
       "      <td>M18 7DY, M18 7ED, M18 7NF, M18 7NH, M18 7NL, M...</td>\n",
       "      <td>ENW</td>\n",
       "      <td>The power cut in your area has been caused by ...</td>\n",
       "    </tr>\n",
       "  </tbody>\n",
       "</table>\n",
       "</div>"
      ],
      "text/plain": [
       "                                             Incident     Received Time  \\\n",
       "15  <a href=\"https://www.ukpowernetworks.co.uk/pow...  2021-04-10 18:09   \n",
       "65  <a href=\"https://www.enwl.co.uk/power-cuts/pow...  2021-04-10 18:06   \n",
       "66  <a href=\"https://www.enwl.co.uk/power-cuts/pow...  2021-04-10 17:57   \n",
       "\n",
       "   Estimated Restored Time                                 Postcodes Impacted  \\\n",
       "15                 Unknown  MK453AQ, MK453JU, MK453LA, MK453LB, MK453LD, M...   \n",
       "65        2021-04-10 22:00  BB3 2RG, BB3 2RH, BB3 2RJ, BB3 2RL, BB3 2RN, B...   \n",
       "66        2021-04-11 00:02  M18 7DY, M18 7ED, M18 7NF, M18 7NH, M18 7NL, M...   \n",
       "\n",
       "   Operator                                        Description  \n",
       "15     UKPN  A fault occurred on a piece of our electrical ...  \n",
       "65      ENW  The power cut in your area has been caused by ...  \n",
       "66      ENW  The power cut in your area has been caused by ...  "
      ]
     },
     "execution_count": 27,
     "metadata": {},
     "output_type": "execute_result"
    }
   ],
   "source": [
    "df_outages_clean = clean_outages_df(df_outages)\n",
    "\n",
    "df_outages_clean.head(3)"
   ]
  },
  {
   "cell_type": "code",
   "execution_count": null,
   "id": "spoken-supervisor",
   "metadata": {},
   "outputs": [],
   "source": []
  },
  {
   "cell_type": "code",
   "execution_count": 28,
   "id": "spoken-glance",
   "metadata": {},
   "outputs": [],
   "source": [
    "df_outages_clean.assign(Incident=df_outages['incident_id']).to_csv('../docs/data/outages.csv', index=False)"
   ]
  },
  {
   "cell_type": "code",
   "execution_count": null,
   "id": "excellent-butler",
   "metadata": {},
   "outputs": [],
   "source": []
  },
  {
   "cell_type": "code",
   "execution_count": 41,
   "id": "impressed-spelling",
   "metadata": {},
   "outputs": [],
   "source": [
    "#exports\n",
    "def generate_index_md(df_outages_clean, md_template_fp='templates/index_md.j2', docs_md_fp='docs/index.md'):\n",
    "    rendered_index_md = Template(open(md_template_fp).read()).render(\n",
    "        map_width='600px',\n",
    "        map_height='500px',\n",
    "        md_table=df_outages_clean.to_markdown(index=False)\n",
    "    )\n",
    "\n",
    "    with open(docs_md_fp, 'w', encoding='utf8') as fp:\n",
    "        fp.write(rendered_index_md)\n",
    "        \n",
    "    return"
   ]
  },
  {
   "cell_type": "code",
   "execution_count": 42,
   "id": "twelve-treaty",
   "metadata": {},
   "outputs": [],
   "source": [
    "generate_index_md(df_outages_clean, md_template_fp='../templates/index_md.j2', docs_md_fp='../docs/index.md')"
   ]
  },
  {
   "cell_type": "code",
   "execution_count": null,
   "id": "official-singing",
   "metadata": {},
   "outputs": [],
   "source": []
  },
  {
   "cell_type": "code",
   "execution_count": 5,
   "id": "compliant-making",
   "metadata": {},
   "outputs": [
    {
     "name": "stdout",
     "output_type": "stream",
     "text": [
      "Converted 01-retrieval.ipynb.\n",
      "Converted 02-collation.ipynb.\n",
      "Converted 03-deployment.ipynb.\n"
     ]
    }
   ],
   "source": [
    "#hide\n",
    "from nbdev.export import *\n",
    "notebook2script()"
   ]
  }
 ],
 "metadata": {
  "kernelspec": {
   "display_name": "outage",
   "language": "python",
   "name": "outage"
  },
  "language_info": {
   "codemirror_mode": {
    "name": "ipython",
    "version": 3
   },
   "file_extension": ".py",
   "mimetype": "text/x-python",
   "name": "python",
   "nbconvert_exporter": "python",
   "pygments_lexer": "ipython3",
   "version": "3.7.10"
  }
 },
 "nbformat": 4,
 "nbformat_minor": 5
}

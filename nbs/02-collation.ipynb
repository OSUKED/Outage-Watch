{
 "cells": [
  {
   "cell_type": "code",
   "execution_count": 1,
   "id": "awful-translator",
   "metadata": {},
   "outputs": [],
   "source": [
    "# default_exp collation"
   ]
  },
  {
   "cell_type": "markdown",
   "id": "intensive-collins",
   "metadata": {},
   "source": [
    "# Outage Data Collation\n",
    "\n",
    "<br>\n",
    "\n",
    "### Imports"
   ]
  },
  {
   "cell_type": "code",
   "execution_count": 13,
   "id": "victorian-venice",
   "metadata": {},
   "outputs": [],
   "source": [
    "import json\n",
    "import pandas as pd\n",
    "import geopandas as gpd\n",
    "\n",
    "from outage import retrieval\n",
    "\n",
    "import os\n",
    "from ipypb import track\n",
    "from IPython.display import JSON"
   ]
  },
  {
   "cell_type": "code",
   "execution_count": null,
   "id": "fixed-influence",
   "metadata": {},
   "outputs": [],
   "source": []
  },
  {
   "cell_type": "code",
   "execution_count": 2,
   "id": "built-japan",
   "metadata": {},
   "outputs": [],
   "source": [
    "#exports\n",
    "def collate_cleaned_incidents_info(dnos=['ukpn', 'ssen', 'wpd']):\n",
    "    cleaned_incidents_info = dict()\n",
    "\n",
    "    for dno in track(dnos, label='DNOs'):\n",
    "        raw_dno_incidents_info, cleaned_dno_incidents_info = getattr(retrieval, f'get_{dno}_incidents_info')()\n",
    "        cleaned_incidents_info[dno] = cleaned_dno_incidents_info\n",
    "        retrieval.save_json_data(raw_dno_incidents_info, f'{dno}_incidents_info')\n",
    "        \n",
    "    return cleaned_incidents_info"
   ]
  },
  {
   "cell_type": "code",
   "execution_count": 3,
   "id": "broken-health",
   "metadata": {},
   "outputs": [
    {
     "data": {
      "text/html": [
       "<div><span class=\"Text-label\" style=\"display:inline-block; overflow:hidden; white-space:nowrap; text-overflow:ellipsis; min-width:15ex; max-width:15ex; vertical-align:middle; text-align:right\">DNOs</span>\n",
       "<progress style=\"width:45ex\" max=\"3\" value=\"3\" class=\"Progress-main\"/></progress>\n",
       "<span class=\"Progress-label\"><strong>100%</strong></span>\n",
       "<span class=\"Iteration-label\">3/3</span>\n",
       "<span class=\"Time-label\">[00:23<00:02, 7.59s/it]</span></div>"
      ],
      "text/plain": [
       "\u001b[A\u001b[2K\r",
       "           DNOs [█████████████████████████████████████████████] 3/3 [00:23<00:02, 7.59s/it]\u001b[B"
      ]
     },
     "metadata": {},
     "output_type": "display_data"
    },
    {
     "data": {
      "text/html": [
       "<div><span class=\"Text-label\" style=\"display:inline-block; overflow:hidden; white-space:nowrap; text-overflow:ellipsis; min-width:15ex; max-width:15ex; vertical-align:middle; text-align:right\">Multiple Ids</span>\n",
       "<progress style=\"width:45ex\" max=\"8\" value=\"8\" class=\"Progress-main\"/></progress>\n",
       "<span class=\"Progress-label\"><strong>100%</strong></span>\n",
       "<span class=\"Iteration-label\">8/8</span>\n",
       "<span class=\"Time-label\">[00:02<00:00, 0.25s/it]</span></div>"
      ],
      "text/plain": [
       "\u001b[A\u001b[2K\r",
       "   Multiple Ids [█████████████████████████████████████████████] 8/8 [00:02<00:00, 0.25s/it]"
      ]
     },
     "metadata": {},
     "output_type": "display_data"
    },
    {
     "data": {
      "text/html": [
       "<div><span class=\"Text-label\" style=\"display:inline-block; overflow:hidden; white-space:nowrap; text-overflow:ellipsis; min-width:15ex; max-width:15ex; vertical-align:middle; text-align:right\">Details</span>\n",
       "<progress style=\"width:45ex\" max=\"75\" value=\"75\" class=\"Progress-main\"/></progress>\n",
       "<span class=\"Progress-label\"><strong>100%</strong></span>\n",
       "<span class=\"Iteration-label\">75/75</span>\n",
       "<span class=\"Time-label\">[00:18<00:00, 0.24s/it]</span></div>"
      ],
      "text/plain": [
       "\u001b[A\u001b[2K\r",
       "        Details [█████████████████████████████████████████████] 75/75 [00:18<00:00, 0.24s/it]"
      ]
     },
     "metadata": {},
     "output_type": "display_data"
    },
    {
     "name": "stderr",
     "output_type": "stream",
     "text": [
      "C:\\Users\\Ayrto\\anaconda3\\envs\\outage\\lib\\site-packages\\urllib3\\connectionpool.py:1020: InsecureRequestWarning: Unverified HTTPS request is being made to host 'www.ssen.co.uk'. Adding certificate verification is strongly advised. See: https://urllib3.readthedocs.io/en/latest/advanced-usage.html#ssl-warnings\n",
      "  InsecureRequestWarning,\n"
     ]
    },
    {
     "data": {
      "text/html": [
       "<div><span class=\"Text-label\" style=\"display:inline-block; overflow:hidden; white-space:nowrap; text-overflow:ellipsis; min-width:0; max-width:15ex; vertical-align:middle; text-align:right\"></span>\n",
       "<progress style=\"width:60ex\" max=\"9\" value=\"9\" class=\"Progress-main\"/></progress>\n",
       "<span class=\"Progress-label\"><strong>100%</strong></span>\n",
       "<span class=\"Iteration-label\">9/9</span>\n",
       "<span class=\"Time-label\">[00:00<00:00, 0.00s/it]</span></div>"
      ],
      "text/plain": [
       "\u001b[A\u001b[2K\r",
       " [████████████████████████████████████████████████████████████] 9/9 [00:00<00:00, 0.00s/it]"
      ]
     },
     "metadata": {},
     "output_type": "display_data"
    },
    {
     "data": {
      "application/json": [
       {
        "ssen": {
         "HB1468": {
          "description": "We’re sorry for the loss of supply. We currently have a fault affecting the areas listed. Our engineers are on site working hard to get the power back on as quickly as they can. If you need more information, please call us on 105 or send us a message on <a href=\"http://m.me/ssencommunity/\">Facebook</a> or Twitter (<a href=\"https://twitter.com/ssencommunity\">@ssencommunity</a>) and quote reference 'HB1468'",
          "estimated_arrival_time": null,
          "estimated_restored_time": "2021-04-03 18:00:00",
          "postcodes_impacted": [
           "BA22 8NR",
           "BA22 8NT",
           "BA22 8NU",
           "BA22 8NY"
          ],
          "received_time": "2021-04-03 06:55:00"
         },
         "HB1521": {
          "description": "We’re sorry for the loss of supply. We currently have a fault affecting the areas listed. Our engineers are on site working hard to get the power back on as quickly as they can. If you need more information, please call us on 105 or send us a message on <a href=\"http://m.me/ssencommunity/\">Facebook</a> or Twitter (<a href=\"https://twitter.com/ssencommunity\">@ssencommunity</a>) and quote reference 'HB1521'",
          "estimated_arrival_time": "2021-04-03 11:15:00",
          "estimated_restored_time": "2021-04-03 20:00:00",
          "postcodes_impacted": [
           "DT1",
           "DT2 0HT",
           "DT2 0HX",
           "DT8 3NT",
           "DT8 3NU",
           "DT8 3NZ",
           "DT8 3PE"
          ],
          "received_time": "2021-04-03 10:26:00"
         },
         "HB1533": {
          "description": "We’re sorry for the loss of supply. We currently have a fault affecting the areas listed. Our engineers are on site working hard to get the power back on as quickly as they can. If you need more information, please call us on 105 or send us a message on <a href=\"http://m.me/ssencommunity/\">Facebook</a> or Twitter (<a href=\"https://twitter.com/ssencommunity\">@ssencommunity</a>) and quote reference 'HB1533'",
          "estimated_arrival_time": null,
          "estimated_restored_time": "2021-04-03 19:00:00",
          "postcodes_impacted": [
           "UB3 2RF",
           "UB4",
           "UB4 8FF",
           "UB4 8FG",
           "UB4 8HP",
           "UB4 8HR",
           "UB4 8HS",
           "UB4 8HT",
           "UB4 8JA",
           "UB4 8JS",
           "UB4 8JU",
           "UB4 8JW",
           "UB4 8JX",
           "UB4 8LT",
           "UB4 8LU",
           "UB4 8QX"
          ],
          "received_time": "2021-04-03 11:11:00"
         },
         "HB1551": {
          "description": "We’re sorry for the loss of supply. We currently have a fault affecting the areas listed. Our engineers are on site working hard to get the power back on as quickly as they can. If you need more information, please call us on 105 or send us a message on <a href=\"http://m.me/ssencommunity/\">Facebook</a> or Twitter (<a href=\"https://twitter.com/ssencommunity\">@ssencommunity</a>) and quote reference 'HB1551'",
          "estimated_arrival_time": null,
          "estimated_restored_time": "2021-04-03 22:00:00",
          "postcodes_impacted": [
           "SO51 0GD",
           "SO51 0GE",
           "SO51 0GY",
           "SO51 0ZN"
          ],
          "received_time": "2021-04-03 11:29:00"
         },
         "HB1582": {
          "description": "We’re sorry for the loss of supply. We currently have a fault affecting the areas listed. Our engineers are on site working hard to get the power back on as quickly as they can. If you need more information, please call us on 105 or send us a message on <a href=\"http://m.me/ssencommunity/\">Facebook</a> or Twitter (<a href=\"https://twitter.com/ssencommunity\">@ssencommunity</a>) and quote reference 'HB1582'",
          "estimated_arrival_time": null,
          "estimated_restored_time": "2021-04-03 17:00:00",
          "postcodes_impacted": [
           "FK16 6AA",
           "FK17",
           "FK17 8AG",
           "FK17 8AY",
           "FK17 8BD",
           "FK17 8BF",
           "FK17 8BG",
           "FK17 8BH",
           "FK17 8BJ",
           "FK17 8BN",
           "FK17 8BP",
           "FK17 8BS",
           "FK17 8BT",
           "FK17 8BU",
           "FK17 8BW",
           "FK17 8BY",
           "FK17 8BZ",
           "FK17 8DA",
           "FK17 8DD",
           "FK17 8DE",
           "FK17 8DF",
           "FK17 8DG",
           "FK17 8DH",
           "FK17 8DJ",
           "FK17 8DL",
           "FK17 8DP",
           "FK17 8DQ",
           "FK17 8DR",
           "FK17 8DS",
           "FK17 8DW",
           "FK17 8EH",
           "FK17 8EN",
           "FK17 8EP",
           "FK17 8ER",
           "FK17 8ES",
           "FK17 8ET",
           "FK17 8EU",
           "FK17 8EY",
           "FK17 8EZ",
           "FK17 8HD",
           "FK17 8HE",
           "FK17 8HJ",
           "FK17 8HN",
           "FK17 8JD",
           "FK17 8JE",
           "FK17 8JF",
           "FK17 8JH",
           "FK17 8JP",
           "FK17 8JW",
           "FK17 8LD",
           "FK17 8LE",
           "FK17 8LP",
           "FK17 8LR",
           "FK17 8LX",
           "FK17 8LY",
           "FK17 8LZ"
          ],
          "received_time": "2021-04-03 14:12:00"
         },
         "HB1583": {
          "description": "We’re sorry for the loss of supply. We currently have a fault affecting the areas listed. Our engineers are on site working hard to get the power back on as quickly as they can. If you need more information, please call us on 105 or send us a message on <a href=\"http://m.me/ssencommunity/\">Facebook</a> or Twitter (<a href=\"https://twitter.com/ssencommunity\">@ssencommunity</a>) and quote reference 'HB1583'",
          "estimated_arrival_time": "2021-04-03 14:40:00",
          "estimated_restored_time": "2021-04-03 17:30:00",
          "postcodes_impacted": [
           "GU10 1EY",
           "GU10 4AG",
           "GU10 4JN",
           "GU10 4JW",
           "GU10 4JX",
           "GU10 4ND",
           "GU10 4NF",
           "GU10 4NZ",
           "GU10 4PD",
           "GU10 4PE",
           "GU10 4PF",
           "GU10 4PG",
           "GU10 4PH",
           "GU10 4PJ",
           "GU10 4PL",
           "GU10 4PN",
           "GU10 4PP",
           "GU10 4PQ",
           "GU10 4PR",
           "GU10 4PS",
           "GU10 4PT",
           "GU10 4PU",
           "GU10 4PW",
           "GU10 4PX",
           "GU10 4PY",
           "GU10 4PZ",
           "GU10 4QA",
           "GU10 4QB",
           "GU10 4QD",
           "GU10 4QE",
           "GU10 4QG",
           "GU10 4QH",
           "GU10 4QJ",
           "GU10 4QL",
           "GU10 4QN",
           "GU10 4QP",
           "GU10 4QQ",
           "GU10 4QR",
           "GU10 4QS",
           "GU10 4QT",
           "GU10 4QW",
           "GU10 4QX",
           "GU10 4QY",
           "GU10 4QZ",
           "GU10 4SL",
           "GU10 5EJ",
           "GU9 8AE",
           "GU9 8AU",
           "GU9 8EY",
           "GU9 8PT",
           "GU9 8PY",
           "GU9 8PZ",
           "GU9 8QA",
           "GU9 8QB",
           "GU9 8QD",
           "GU9 8QE",
           "GU9 8QF",
           "GU9 8QG",
           "GU9 8QL",
           "GU9 8QP",
           "GU9 8QR",
           "GU9 8QT",
           "GU9 8RG",
           "GU9 8RH",
           "GU9 8RJ",
           "GU9 8RQ",
           "GU9 8RS",
           "GU9 8SU",
           "GU9 8TB",
           "GU9 8TF",
           "GU9 8TH",
           "GU9 8TJ",
           "GU9 8TL",
           "GU9 8TN",
           "GU9 8TP",
           "GU9 8TQ",
           "GU9 8TR",
           "GU9 8TT",
           "GU9 8TW",
           "GU9 8TX",
           "GU9 8TY",
           "GU9 8TZ",
           "GU9 8UA",
           "GU9 8UB",
           "GU9 8UD",
           "GU9 8UE",
           "GU9 8UF",
           "GU9 8UG",
           "GU9 8UH",
           "GU9 8UL",
           "GU9 8UN",
           "GU9 8UP",
           "GU9 8UQ",
           "GU9 8UR",
           "GU9 8US",
           "GU9 8UT",
           "GU9 8UW",
           "GU9 8UY",
           "GU9 8WE",
           "GU9 8WF",
           "RG27 8HX"
          ],
          "received_time": "2021-04-03 14:14:00"
         },
         "HB1590": {
          "description": "We’re sorry for the loss of supply. We currently have a fault affecting the areas listed. Our engineers are on site working hard to get the power back on as quickly as they can. If you need more information, please call us on 105 or send us a message on <a href=\"http://m.me/ssencommunity/\">Facebook</a> or Twitter (<a href=\"https://twitter.com/ssencommunity\">@ssencommunity</a>) and quote reference 'HB1590'",
          "estimated_arrival_time": null,
          "estimated_restored_time": "2021-04-03 17:30:00",
          "postcodes_impacted": [
           "HS8 5SD",
           "HS9 5YA",
           "HS9 5YB"
          ],
          "received_time": "2021-04-03 14:21:00"
         },
         "HB1594": {
          "description": "We’re sorry for the loss of supply. We currently have a fault affecting the areas listed. Our engineers are on site working hard to get the power back on as quickly as they can. If you need more information, please call us on 105 or send us a message on <a href=\"http://m.me/ssencommunity/\">Facebook</a> or Twitter (<a href=\"https://twitter.com/ssencommunity\">@ssencommunity</a>) and quote reference 'HB1594'",
          "estimated_arrival_time": "2021-04-03 16:00:00",
          "estimated_restored_time": "2021-04-03 19:00:00",
          "postcodes_impacted": [
           "W13 9TJ",
           "W13 9TP",
           "W13 9TS",
           "W13 9TY",
           "W13 9TZ",
           "W13 9UG",
           "W13 9UQ",
           "W13 9UT",
           "W13 9UY",
           "W13 9UZ",
           "W13 9XP"
          ],
          "received_time": "2021-04-03 14:38:00"
         },
         "HB1656": {
          "description": "We’re sorry for the loss of supply. We currently have a fault affecting the areas listed. Our engineers are on site working hard to get the power back on as quickly as they can. If you need more information, please call us on 105 or send us a message on <a href=\"http://m.me/ssencommunity/\">Facebook</a> or Twitter (<a href=\"https://twitter.com/ssencommunity\">@ssencommunity</a>) and quote reference 'HB1656'",
          "estimated_arrival_time": "2021-04-03 16:30:00",
          "estimated_restored_time": "2021-04-03 19:00:00",
          "postcodes_impacted": [
           "RG21 3QJ",
           "RG21 3QR",
           "RG21 3QS",
           "RG21 3QU",
           "RG21 3QX"
          ],
          "received_time": "2021-04-03 15:53:00"
         }
        },
        "ukpn": {
         "INCD-228175-Z": {
          "description": "A fault occurred on an underground electricity cable affecting the local area.",
          "estimated_restored_time": null,
          "incident_active": false,
          "planned_time": null,
          "postcodes_impacted": [
           "PE305NP",
           "PE305PA",
           "PE305PB",
           "PE305PE",
           "PE305PF",
           "PE305PG",
           "PE305PH",
           "PE305PJ",
           "PE305PP",
           "PE305PQ",
           "PE305QX"
          ],
          "received_time": "2021-03-30T13:56:00",
          "restored_time": "2021-04-03T11:08:06.96"
         },
         "INCD-228750-Z": {
          "description": "An underground electricity cable faulted on our high voltage network, causing an area wide power cut.",
          "estimated_restored_time": null,
          "incident_active": false,
          "planned_time": null,
          "postcodes_impacted": [
           "RM154QE",
           "RM155JZ",
           "RM163BG",
           "RM139BP",
           "RM154AA",
           "RM154AB",
           "RM154AD",
           "RM154AF",
           "RM154AH",
           "RM154AX",
           "RM154BA",
           "RM154BB",
           "RM154BE",
           "RM154BH",
           "RM154BJ",
           "RM154BL",
           "RM154BP",
           "RM154BS",
           "RM154BT",
           "RM154BU",
           "RM154BX",
           "RM154BY",
           "RM154DH",
           "RM154DJ",
           "RM154DL",
           "RM154DQ",
           "RM154EJ",
           "RM154EL",
           "RM154EU",
           "RM154HB",
           "RM154PP",
           "RM154PR",
           "RM154PX",
           "RM154QR",
           "RM154QX",
           "RM154RA",
           "RM154RB",
           "RM154RD",
           "RM154RH",
           "RM154RJ",
           "RM154RS",
           "RM154RT",
           "RM154SA",
           "RM154SD",
           "RM154SH",
           "RM154SJ",
           "RM154SL",
           "RM154SP",
           "RM154SR",
           "RM154SS",
           "RM154SW",
           "RM154SX",
           "RM154SY",
           "RM154SZ",
           "RM154TA",
           "RM154TH",
           "RM154TJ",
           "RM154TL",
           "RM154TR",
           "RM154TS",
           "RM154TT",
           "RM154TU",
           "RM154TX",
           "RM154UA",
           "RM154UB",
           "RM154UD",
           "RM154UE",
           "RM155BA",
           "RM155BB",
           "RM155BN",
           "RM155BS",
           "RM155BT",
           "RM155BU",
           "RM155BW",
           "RM155BY",
           "RM155BZ",
           "RM155DA",
           "RM155DB",
           "RM155DD",
           "RM155DE",
           "RM155DF",
           "RM155DH",
           "RM155DJ",
           "RM155DN",
           "RM155DQ",
           "RM155DW",
           "RM155HJ",
           "RM155HN",
           "RM155HR",
           "RM155HS",
           "RM155HT",
           "RM155HU",
           "RM155HW",
           "RM155HX",
           "RM155HY",
           "RM155HZ",
           "RM155JG",
           "RM155JN",
           "RM155JQ",
           "RM155JR",
           "RM155JS",
           "RM155JT",
           "RM155JU",
           "RM155JW",
           "RM155JX",
           "RM155JY",
           "RM155LA",
           "RM155LT",
           "RM155LU",
           "RM155LX",
           "RM155NB",
           "RM155ND",
           "RM155NE",
           "RM155NF",
           "RM155NG",
           "RM155NH",
           "RM155NJ",
           "RM155NL",
           "RM155NN",
           "RM155NP",
           "RM155NQ",
           "RM155NW",
           "RM155PA",
           "RM155PD",
           "RM155PH",
           "RM155PJ",
           "RM155PL",
           "RM155PN",
           "RM155PP",
           "RM155PS",
           "RM155PT",
           "RM155PU",
           "RM155PW",
           "RM155PX",
           "RM155PY",
           "RM155PZ",
           "RM155QA",
           "RM155QB",
           "RM155QE",
           "RM155QQ",
           "RM155QS",
           "RM155QT",
           "RM155QU",
           "RM155QX",
           "RM155QZ",
           "RM155RA",
           "RM155RB",
           "RM155RD",
           "RM155RE",
           "RM155RF",
           "RM155RG",
           "RM155RH",
           "RM155RJ",
           "RM155RL",
           "RM155RN",
           "RM155RP",
           "RM155RQ",
           "RM155RT",
           "RM155RW",
           "RM155XD",
           "RM155XE",
           "RM156AH",
           "RM156AS",
           "RM156AT",
           "RM156AU",
           "RM156AX",
           "RM156AZ",
           "RM156BA",
           "RM156BB",
           "RM156BD",
           "RM156RL"
          ],
          "received_time": "2021-04-02T08:37:34",
          "restored_time": null
         },
         "INCD-228776-Z": {
          "description": "We were investigating an electricity cable that was damaged, causing a power cut in the local area.",
          "estimated_restored_time": "2021-04-03T20:00:00",
          "incident_active": false,
          "planned_time": null,
          "postcodes_impacted": [
           "SG111JH",
           "SG111JQ",
           "SG111JE",
           "SG111JF"
          ],
          "received_time": "2021-04-02T12:05:00",
          "restored_time": null
         },
         "INCD-228784-Z": {
          "description": "A fault occurred on an underground electricity cable affecting the local area.",
          "estimated_restored_time": null,
          "incident_active": false,
          "planned_time": null,
          "postcodes_impacted": [
           "CM144AD",
           "CM144AL",
           "CM144AP",
           "CM144AR",
           "CM144AS",
           "CM144AX",
           "CM144AZ",
           "CM144BG",
           "CM144ED",
           "CM144EH",
           "CM144EP",
           "CM144FU",
           "CM144LU",
           "CM144PQ",
           "CM144RE",
           "CM144RR",
           "CM144RX",
           "CM144RZ",
           "CM144SA",
           "CM144SN",
           "CM144SP",
           "CM144SR",
           "CM144SS",
           "CM144SU",
           "CM144SX"
          ],
          "received_time": "2021-04-02T12:41:00",
          "restored_time": "2021-04-03T16:30:18.62"
         },
         "INCD-228831-Z": {
          "description": "A fault occurred on an underground electricity cable affecting the local area.",
          "estimated_restored_time": null,
          "incident_active": false,
          "planned_time": null,
          "postcodes_impacted": [
           "N170QT",
           "N170XJ",
           "N170RT"
          ],
          "received_time": "2021-04-03T00:05:00",
          "restored_time": null
         },
         "INCD-228840-Z": {
          "description": "An underground electricity cable faulted on our high voltage network, causing an area wide power cut.",
          "estimated_restored_time": null,
          "incident_active": false,
          "planned_time": null,
          "postcodes_impacted": [
           "LU49UG",
           "LU49UH",
           "LU49UJ",
           "LU49UL",
           "LU49UN",
           "LU49UT",
           "LU5",
           "LU55BJ",
           "LU56AL",
           "LU56AN",
           "LU56AR",
           "LU56AS",
           "LU56AY",
           "LU56AZ",
           "LU56BA",
           "LU56BB",
           "LU56BD",
           "LU56BU",
           "LU56BX",
           "LU56BY",
           "LU56BZ",
           "LU56DA",
           "LU56DB",
           "LU56DD",
           "LU56DE",
           "LU56DF",
           "LU56DG",
           "LU56DH",
           "LU56DJ",
           "LU56DL",
           "LU56DP",
           "LU56DQ",
           "LU56DR",
           "LU56DS",
           "LU56DT",
           "LU56DU",
           "LU56DX",
           "LU56DY",
           "LU56DZ",
           "LU56EA",
           "LU56EB",
           "LU56ED",
           "LU56EE",
           "LU56EF",
           "LU56EG",
           "LU56EH",
           "LU56EJ",
           "LU56EL",
           "LU56EN",
           "LU56EP",
           "LU56EQ",
           "LU56ER",
           "LU56ET",
           "LU56EU",
           "LU56EW",
           "LU56EX",
           "LU56EY",
           "LU56EZ",
           "LU56FB",
           "LU56FD",
           "LU56FE",
           "LU56FJ",
           "LU56GT",
           "LU56HA",
           "LU56HB",
           "LU56HD",
           "LU56HE",
           "LU56HF",
           "LU56HP",
           "LU56HQ",
           "LU56HS",
           "LU56HT",
           "LU56HU",
           "LU56JA",
           "LU56JB",
           "LU56JD",
           "LU56JL",
           "LU56JN",
           "LU56QB",
           "LU56QE",
           "LU56QF",
           "LU56QP",
           "LU56RD",
           "LU63AX",
           "LU79QA",
           "LU79QB",
           "LU79QD",
           "LU79QF",
           "LU79QG",
           "LU79QH",
           "LU79QJ",
           "LU79QN",
           "LU79QQ",
           "LU79QR"
          ],
          "received_time": "2021-04-03T02:39:52",
          "restored_time": "2021-04-03T08:14:31.593"
         },
         "INCD-228842-Z": {
          "description": "A fault occurred on a piece of our electrical equipment which controls the power to your home.",
          "estimated_restored_time": "2021-04-03T06:30:00",
          "incident_active": false,
          "planned_time": null,
          "postcodes_impacted": [
           "HA37NT",
           "HA37NU",
           "HA37QF",
           "HA37RE"
          ],
          "received_time": "2021-04-03T03:41:00",
          "restored_time": "2021-04-03T06:14:02.39"
         },
         "INCD-228843-Z": {
          "description": "A fault occurred on a piece of our electrical equipment which controls the power to your home.",
          "estimated_restored_time": "2021-04-03T06:00:00",
          "incident_active": false,
          "planned_time": null,
          "postcodes_impacted": [
           "N177QH",
           "N177QJ",
           "N177QL",
           "N177QP",
           "N177QR"
          ],
          "received_time": "2021-04-03T04:08:00",
          "restored_time": "2021-04-03T05:21:42.553"
         },
         "INCD-228844-Z": {
          "description": "A fault occurred on a piece of our electrical equipment which controls the power to your home.",
          "estimated_restored_time": "2021-04-03T11:00:00",
          "incident_active": false,
          "planned_time": null,
          "postcodes_impacted": [
           "HA40DF",
           "HA40DR",
           "HA40DS",
           "HA40ET"
          ],
          "received_time": "2021-04-03T05:22:00",
          "restored_time": "2021-04-03T09:06:36.37"
         },
         "INCD-228847-Z": {
          "description": "A fault occurred on a piece of our electrical equipment which controls the power to your home.",
          "estimated_restored_time": "2021-04-03T10:00:00",
          "incident_active": false,
          "planned_time": null,
          "postcodes_impacted": [
           "IP145NS"
          ],
          "received_time": "2021-04-03T06:21:00",
          "restored_time": "2021-04-03T08:47:51.97"
         },
         "INCD-228848-Z": {
          "description": "A fault occurred on a piece of our electrical equipment which controls the power to your home.",
          "estimated_restored_time": "2021-04-03T11:00:00",
          "incident_active": false,
          "planned_time": null,
          "postcodes_impacted": [
           "PE73RB",
           "PE73RE"
          ],
          "received_time": "2021-04-03T07:17:00",
          "restored_time": "2021-04-03T09:02:09.77"
         },
         "INCD-228849-Z": {
          "description": "A fault occurred on an underground electricity cable affecting the local area.",
          "estimated_restored_time": "2021-04-03T20:00:00",
          "incident_active": false,
          "planned_time": null,
          "postcodes_impacted": [
           "RM79JR",
           "RM79HX",
           "RM79JJ",
           "RM79JL",
           "RM79JP"
          ],
          "received_time": "2021-04-03T07:21:00",
          "restored_time": null
         },
         "INCD-228850-Z": {
          "description": "A fault occurred on a piece of our electrical equipment which controls the power to your home.",
          "estimated_restored_time": "2021-04-03T11:30:00",
          "incident_active": false,
          "planned_time": null,
          "postcodes_impacted": [
           "RM141AQ",
           "RM141BP",
           "RM141BS",
           "RM141BT",
           "RM141BU"
          ],
          "received_time": "2021-04-03T07:41:00",
          "restored_time": "2021-04-03T09:22:16.643"
         },
         "INCD-228855-Z": {
          "description": "Due to a faulty piece of underground network equipment we had to turn off your power.",
          "estimated_restored_time": "2021-04-03T16:00:00",
          "incident_active": false,
          "planned_time": null,
          "postcodes_impacted": [
           "SS177SN"
          ],
          "received_time": "2021-04-03T08:18:00",
          "restored_time": "2021-04-03T13:32:25.033"
         },
         "INCD-228856-Z": {
          "description": "A fault occurred on a piece of our electrical equipment which controls the power to your home.",
          "estimated_restored_time": "2021-04-03T14:30:00",
          "incident_active": false,
          "planned_time": null,
          "postcodes_impacted": [
           "CM40DB",
           "CM40DD",
           "CM40DE",
           "CM40DH",
           "CM40DL",
           "CM40DQ",
           "MK402PN"
          ],
          "received_time": "2021-04-03T08:30:00",
          "restored_time": "2021-04-03T13:42:16.193"
         },
         "INCD-228857-Z": {
          "description": "A fault occurred on a piece of our electrical equipment which controls the power to your home.",
          "estimated_restored_time": "2021-04-03T13:30:00",
          "incident_active": false,
          "planned_time": null,
          "postcodes_impacted": [
           "EN28HJ",
           "EN28JB",
           "EN28NG",
           "EN28NH"
          ],
          "received_time": "2021-04-03T08:51:00",
          "restored_time": "2021-04-03T12:08:39.457"
         },
         "INCD-228860-Z": {
          "description": "A fault occurred on a piece of our electrical equipment which controls the power to your home.",
          "estimated_restored_time": null,
          "incident_active": false,
          "planned_time": null,
          "postcodes_impacted": [
           "N177QH",
           "N177QJ",
           "N177QL",
           "N177QP",
           "N177QR"
          ],
          "received_time": "2021-04-03T09:32:00",
          "restored_time": "2021-04-03T11:47:50.95"
         },
         "INCD-228863-Z": {
          "description": "A fault occurred on an underground electricity cable affecting the local area.",
          "estimated_restored_time": "2021-04-03T16:30:00",
          "incident_active": false,
          "planned_time": null,
          "postcodes_impacted": [
           "WD231LE"
          ],
          "received_time": "2021-04-03T09:42:00",
          "restored_time": "2021-04-03T16:11:24.983"
         },
         "INCD-228881-Z": {
          "description": "A fault occurred on a piece of our electrical equipment which controls the power to your home.",
          "estimated_restored_time": "2021-04-03T19:30:00",
          "incident_active": false,
          "planned_time": null,
          "postcodes_impacted": [
           "WD11ET",
           "WD11EY",
           "WD171ER",
           "WD171ET",
           "WD171JU",
           "WD171UE",
           "WD171UT",
           "WD24AA"
          ],
          "received_time": "2021-04-03T10:42:00",
          "restored_time": null
         },
         "INCD-228885-Z": {
          "description": "We were investigating an electricity cable that was damaged, causing a power cut in the local area.",
          "estimated_restored_time": "2021-04-03T17:00:00",
          "incident_active": false,
          "planned_time": null,
          "postcodes_impacted": [
           "NR148AZ",
           "NR148BB",
           "NR148BE",
           "NR148EF"
          ],
          "received_time": "2021-04-03T12:03:00",
          "restored_time": "2021-04-03T14:26:42.993"
         },
         "INCD-228887-Z": {
          "description": "A fault occurred on a piece of our electrical equipment which controls the power to your home.",
          "estimated_restored_time": "2021-04-03T14:30:00",
          "incident_active": false,
          "planned_time": null,
          "postcodes_impacted": [
           "MK401LA",
           "MK401LD",
           "MK401LY",
           "MK401NH",
           "MK401NN",
           "MK402NN",
           "MK402PN",
           "MK402SR",
           "MK402TJ"
          ],
          "received_time": "2021-04-03T11:26:00",
          "restored_time": "2021-04-03T13:12:53.97"
         },
         "INCD-228891-Z": {
          "description": "A fault occurred on a piece of our electrical equipment which controls the power to your home.",
          "estimated_restored_time": null,
          "incident_active": false,
          "planned_time": null,
          "postcodes_impacted": [
           "CM144AP",
           "CM144AZ",
           "CM144ED",
           "CM144RX"
          ],
          "received_time": "2021-04-03T11:28:00",
          "restored_time": "2021-04-03T13:33:02.18"
         },
         "INCD-228894-Z": {
          "description": "A fault occurred on a piece of our electrical equipment which controls the power to your home.",
          "estimated_restored_time": "2021-04-03T17:00:00",
          "incident_active": false,
          "planned_time": null,
          "postcodes_impacted": [
           "NR348AX",
           "NR348RA",
           "NR348RL"
          ],
          "received_time": "2021-04-03T12:59:00",
          "restored_time": "2021-04-03T15:09:57.417"
         },
         "INCD-228917-Z": {
          "description": "An underground electricity cable faulted on our high voltage network, causing an area wide power cut.",
          "estimated_restored_time": "2021-04-03T23:00:00",
          "incident_active": false,
          "planned_time": null,
          "postcodes_impacted": [
           "MK430AA",
           "MK430AB",
           "MK430AS",
           "MK430AT",
           "MK430AU",
           "MK430AX",
           "MK430BA",
           "MK430BD",
           "MK430FP",
           "MK430HQ",
           "MK430HW",
           "MK430JD",
           "MK430JG",
           "MK430JH",
           "MK430JJ",
           "MK430JQ",
           "MK430AJ",
           "MK430BL",
           "MK430BN",
           "MK430BP",
           "MK430BW",
           "MK430EX",
           "MK430EZ",
           "MK430HA",
           "MK430HB",
           "MK430HD",
           "MK430HF",
           "MK430HH",
           "MK430HJ",
           "MK430HL",
           "MK430HN",
           "MK430HP",
           "MK430JR",
           "MK430LJ",
           "MK430LN",
           "MK430LP",
           "MK430LR",
           "MK430LW",
           "MK430LX",
           "MK430NG",
           "MK430QF",
           "MK430QG",
           "MK430QH",
           "MK430QJ",
           "MK430QQ",
           "MK430RF",
           "MK439EA",
           "MK439EH",
           "MK439EJ"
          ],
          "received_time": "2021-04-03T14:55:24",
          "restored_time": null
         },
         "INCD-228920-Z": {
          "description": "A fault occurred on a piece of our electrical equipment which controls the power to your home.",
          "estimated_restored_time": "2021-04-03T18:30:00",
          "incident_active": false,
          "planned_time": null,
          "postcodes_impacted": [
           "CO45DP",
           "CO45JE",
           "CO45JQ",
           "CO45LN",
           "CO45LP",
           "CO45LW",
           "CO45US",
           "CO45LA",
           "CO45LS",
           "CO45LT",
           "CO45LU",
           "CO45LX",
           "CO45LY",
           "CO45YA",
           "UK"
          ],
          "received_time": "2021-04-03T15:14:00",
          "restored_time": null
         },
         "INCD-228924-Z": {
          "description": "An underground electricity cable faulted on our high voltage network, causing an area wide power cut.",
          "estimated_restored_time": "2021-04-03T17:30:00",
          "incident_active": false,
          "planned_time": null,
          "postcodes_impacted": [
           "IP223HY",
           "IP224AY",
           "IP224GT"
          ],
          "received_time": "2021-04-03T15:18:27",
          "restored_time": "2021-04-03T16:42:40.467"
         },
         "INCD-228926-Z": {
          "description": "An underground electricity cable faulted on our high voltage network, causing an area wide power cut.",
          "estimated_restored_time": "2021-04-03T18:30:00",
          "incident_active": false,
          "planned_time": null,
          "postcodes_impacted": [
           "EN62ED",
           "EN62EE",
           "EN62EF",
           "EN62EG",
           "EN62EH",
           "EN62EL",
           "EN62EN",
           "EN62EP",
           "EN62EQ",
           "EN62EW",
           "EN62LN",
           "EN62LP",
           "EN62LU",
           "EN62LW",
           "EN62LX",
           "EN62LY",
           "EN62LZ",
           "EN62NA",
           "EN62NB",
           "EN62ND",
           "EN62NE",
           "EN62NF",
           "EN62NG",
           "EN62NH",
           "EN62NJ",
           "EN62NL",
           "EN62NN",
           "EN62NQ",
           "EN62NW",
           "SG138LU"
          ],
          "received_time": "2021-04-03T15:31:09",
          "restored_time": "2021-04-03T16:19:22.667"
         },
         "INCD-228929-Z": {
          "description": "A fault occurred on a piece of our electrical equipment which controls the power to your home.",
          "estimated_restored_time": "2021-04-03T19:00:00",
          "incident_active": false,
          "planned_time": null,
          "postcodes_impacted": [
           "CM112JF",
           "CM112JG",
           "CM112JQ"
          ],
          "received_time": "2021-04-03T16:05:49",
          "restored_time": null
         },
         "INCD-244225-G": {
          "description": "An underground electricity cable faulted on our high voltage network, causing an area wide power cut.",
          "estimated_restored_time": "2021-02-01T22:00:00",
          "incident_active": false,
          "planned_time": null,
          "postcodes_impacted": [
           "RH130JZ",
           "RH130LA",
           "RH130LB",
           "RH137JQ",
           "RH139AD",
           "RH139AJ",
           "RH139AT",
           "RH139AU"
          ],
          "received_time": "2021-02-01T15:01:11",
          "restored_time": "2021-04-03T07:08:40.047"
         },
         "INCD-247546-G": {
          "description": "An underground electricity cable faulted on our high voltage network, causing an area wide power cut.",
          "estimated_restored_time": "2021-03-31T11:30:00",
          "incident_active": false,
          "planned_time": null,
          "postcodes_impacted": [
           "BN14QF",
           "BN17LA",
           "BN19JS",
           "BN19PU",
           "BN22XZ",
           "BN24BA",
           "BN24BB",
           "BN24FA",
           "BN24FB",
           "BN24FD",
           "BN24FE",
           "BN24FF",
           "BN24FG",
           "BN24FH",
           "BN24FZ",
           "BN24GA",
           "BN24GB",
           "BN24GD",
           "BN24GE",
           "BN24GF",
           "BN24GG",
           "BN24HA",
           "BN24HB",
           "BN24HD",
           "BN24HJ",
           "BN24HL",
           "BN24JB",
           "BN24JD",
           "BN24JE",
           "BN24JF",
           "BN24JG",
           "BN24JH",
           "BN24JJ",
           "BN24JL",
           "BN24JN",
           "BN24JP",
           "BN24JQ",
           "BN24JR",
           "BN24JS",
           "BN24JT",
           "BN24JW",
           "BN24JZ",
           "BN24LA",
           "BN24LB",
           "BN24LD",
           "BN24LE",
           "BN24LF",
           "BN24LG",
           "BN24LH",
           "BN24LJ",
           "BN24LL",
           "BN24LN",
           "BN24LP",
           "BN24LQ",
           "BN24LR",
           "BN24LS",
           "BN24LT",
           "BN24LU",
           "BN24LW",
           "BN24LX",
           "BN24LY",
           "BN24LZ",
           "BN24NP",
           "BN24NQ",
           "BN24PB",
           "BN24PW",
           "BN24PX",
           "BN24PZ",
           "BN24QA",
           "BN24QF",
           "BN24QJ",
           "BN24QN",
           "BN24RA",
           "BN24RB",
           "BN24RD",
           "BN24RE",
           "BN24RF",
           "BN24RG",
           "BN24RH",
           "BN24RJ",
           "BN24RL",
           "BN24RN",
           "BN24RP",
           "BN24RQ",
           "BN24RR",
           "BN24RS",
           "BN24RT",
           "BN24RU",
           "BN24RW",
           "BN24RX",
           "BN24RY",
           "BN24RZ",
           "BN24SA",
           "BN24SB",
           "BN24SE",
           "BN24TA",
           "BN24TB",
           "BN24TD",
           "BN24TF",
           "BN24TG",
           "BN24TH",
           "BN24TJ",
           "BN24TL",
           "BN24TN",
           "BN24TP",
           "BN24TQ",
           "BN24TR",
           "BN26AF",
           "BN26BJ",
           "BN26BL",
           "BN26BN",
           "BN26BP",
           "BN26DB",
           "BN26DD",
           "BN26DE",
           "BN26DF",
           "BN26DG",
           "BN26DH",
           "BN26DJ",
           "BN26DL",
           "BN26DN",
           "BN26DP",
           "BN26DQ",
           "BN26DR",
           "BN26DS",
           "BN26DT",
           "UMS"
          ],
          "received_time": "2021-03-31T08:39:07",
          "restored_time": "2021-04-03T07:29:39.577"
         },
         "INCD-247650-G": {
          "description": "A fault occurred on an underground electricity cable affecting the local area.",
          "estimated_restored_time": null,
          "incident_active": false,
          "planned_time": null,
          "postcodes_impacted": [
           "BN253UF",
           "BN253JY",
           "BN253LH",
           "BN253TZ",
           "BN253UA",
           "BN253UB",
           "BN253UE"
          ],
          "received_time": "2021-04-02T17:55:00",
          "restored_time": null
         },
         "INCD-247665-G": {
          "description": "Our engineers had to redirect power due to a fault on the electricity network.",
          "estimated_restored_time": "2021-04-03T11:30:00",
          "incident_active": false,
          "planned_time": null,
          "postcodes_impacted": [
           "RH175QQ",
           "RH175RX",
           "RH175RY"
          ],
          "received_time": "2021-04-03T07:20:56",
          "restored_time": "2021-04-03T12:16:08.413"
         },
         "INCD-247666-G": {
          "description": "A fault occurred on an underground electricity cable affecting the local area.",
          "estimated_restored_time": "2021-04-03T17:00:00",
          "incident_active": false,
          "planned_time": null,
          "postcodes_impacted": [
           "CT202PA",
           "CT202NH",
           "CT202NJ",
           "CT202NL",
           "CT202NN",
           "CT202NW",
           "CT202PB",
           "CT202PG",
           "CT202PH",
           "CT202PJ",
           "CT202PQ"
          ],
          "received_time": "2021-04-03T03:24:00",
          "restored_time": null
         },
         "INCD-247667-G": {
          "description": "A fault occurred on an underground electricity cable affecting the local area.",
          "estimated_restored_time": "2021-04-03T18:00:00",
          "incident_active": false,
          "planned_time": null,
          "postcodes_impacted": [
           "TN355AZ",
           "TN355BQ",
           "TN355AX",
           "TN355AY",
           "TN355FD",
           "TN355LR"
          ],
          "received_time": "2021-04-03T06:35:00",
          "restored_time": null
         },
         "INCD-247670-G": {
          "description": "We had to turn off power in your area so our engineers could safely carry out emergency repairs to the network.",
          "estimated_restored_time": "2021-04-03T13:30:00",
          "incident_active": false,
          "planned_time": null,
          "postcodes_impacted": [
           "RH130JZ",
           "RH130LA",
           "RH130LB",
           "RH137JQ",
           "RH139AD",
           "RH139AJ",
           "RH139AT",
           "RH139AU"
          ],
          "received_time": "2021-04-03T09:28:54",
          "restored_time": "2021-04-03T12:56:43.227"
         },
         "INCD-247672-G": {
          "description": "Our engineers had to redirect power due to a fault on the electricity network.",
          "estimated_restored_time": null,
          "incident_active": false,
          "planned_time": null,
          "postcodes_impacted": [
           "RH130LA",
           "RH137JQ",
           "RH139AD",
           "RH139AJ",
           "RH139AT",
           "RH139AU"
          ],
          "received_time": "2021-04-03T12:16:46",
          "restored_time": "2021-04-03T12:57:05.447"
         },
         "INCD-247673-G": {
          "description": "We had to turn off power in your area so our engineers could safely carry out emergency repairs to the network.",
          "estimated_restored_time": "2021-04-03T15:00:00",
          "incident_active": false,
          "planned_time": null,
          "postcodes_impacted": [
           "DA130BT"
          ],
          "received_time": "2021-04-03T10:40:00",
          "restored_time": "2021-04-03T11:40:04.237"
         },
         "INCD-247674-G": {
          "description": "We had to turn off power in your area so our engineers could safely carry out emergency repairs to the network.",
          "estimated_restored_time": "2021-04-03T12:30:00",
          "incident_active": false,
          "planned_time": null,
          "postcodes_impacted": [
           "DA124LP",
           "DA124PL",
           "DA124PN",
           "DA124PP",
           "DA124PS",
           "DA124RP",
           "DA124RR"
          ],
          "received_time": "2021-04-03T11:14:00",
          "restored_time": "2021-04-03T12:18:48.293"
         },
         "INCD-247678-G": {
          "description": "We had to turn off power in your area so our engineers could safely carry out emergency repairs to the network.",
          "estimated_restored_time": "2021-04-03T19:00:00",
          "incident_active": false,
          "planned_time": null,
          "postcodes_impacted": [
           "RH117SD",
           "RH117SE",
           "RH117SL",
           "RH117SN"
          ],
          "received_time": "2021-04-03T17:00:00",
          "restored_time": null
         },
         "INCD-259202-J": {
          "description": "We were investigating an electricity cable that was damaged, causing a power cut in the local area.",
          "estimated_restored_time": null,
          "incident_active": false,
          "planned_time": null,
          "postcodes_impacted": [
           "W1M1HE",
           "W1M1DH",
           "W1M1HB",
           "W1M1HJ",
           "W1U5AH",
           "W1U6QJ",
           "W1U6QL",
           "W1U7AJ",
           "W1U7AL",
           "W1U7BY",
           "W1U7JA",
           "W1U7JF",
           "W1U7NE",
           "W1U7NF",
           "W1U7NN",
           "W1U7NP",
           "W1U7NR",
           "W1U7NS",
           "W1U7NT",
           "W1U7NU",
           "W1U7NW",
           "W1U7NX",
           "W1U7NY",
           "W1U7NZ",
           "W1U7PB",
           "W1U7PD",
           "W1U7PE",
           "W1U7PF",
           "W1U7PG",
           "W1U7PJ",
           "W1U7PN",
           "W1U7PP",
           "W1U7PQ",
           "W1U7PW",
           "W1U7RT"
          ],
          "received_time": "2021-04-02T15:00:00",
          "restored_time": null
         },
         "INCD-259260-J": {
          "description": "A fault occurred on an underground electricity cable affecting the local area.",
          "estimated_restored_time": null,
          "incident_active": false,
          "planned_time": null,
          "postcodes_impacted": [
           "N168QW",
           "N169AA",
           "N169AF",
           "N169AJ",
           "N169AL",
           "N169AR",
           "N169AS",
           "N169EX",
           "N169LD"
          ],
          "received_time": "2021-04-01T22:12:00",
          "restored_time": "2021-04-03T05:34:55.107"
         },
         "INCD-259290-J": {
          "description": "A fault occurred on an underground electricity cable affecting the local area.",
          "estimated_restored_time": null,
          "incident_active": false,
          "planned_time": null,
          "postcodes_impacted": [
           "EC4N7BB",
           "EC4N7HE",
           "SW75LP"
          ],
          "received_time": "2021-04-03T08:15:00",
          "restored_time": "2021-04-03T13:54:13.19"
         },
         "INCD-259314-J": {
          "description": "A fault occurred on an underground electricity cable affecting the local area.",
          "estimated_restored_time": null,
          "incident_active": false,
          "planned_time": null,
          "postcodes_impacted": [
           "NW109AA",
           "NW109AB",
           "NW109AD",
           "NW109DX",
           "NW109DY"
          ],
          "received_time": "2021-04-03T01:46:00",
          "restored_time": "2021-04-03T07:49:49.837"
         },
         "INCD-259318-J": {
          "description": "A fault occurred on a piece of our electrical equipment which controls the power to your home.",
          "estimated_restored_time": "2021-04-03T19:30:00",
          "incident_active": false,
          "planned_time": null,
          "postcodes_impacted": [
           "SM44SG",
           "SW209NG",
           "SW209NQ"
          ],
          "received_time": "2021-04-03T15:29:00",
          "restored_time": "2021-04-03T16:36:39.86"
         },
         "INCD-47314-V": {
          "description": "",
          "estimated_restored_time": null,
          "incident_active": false,
          "planned_time": null,
          "postcodes_impacted": [
           "CT20DR",
           "CT34AP",
           "CT34AR"
          ],
          "received_time": "2021-01-10T21:11:25",
          "restored_time": "2021-04-03T11:05:20.063"
         },
         "INCD-53778-V": {
          "description": "A fault occurred on a piece of our electrical equipment which controls the power to your home.",
          "estimated_restored_time": null,
          "incident_active": false,
          "planned_time": null,
          "postcodes_impacted": [
           "CT34AG",
           "CT34AH",
           "CT34AN",
           "CT34AP",
           "CT34AQ"
          ],
          "received_time": "2021-04-02T22:33:00",
          "restored_time": "2021-04-03T10:26:59.927"
         },
         "INCD-53795-V": {
          "description": "A fault occurred on a piece of our electrical equipment which controls the power to your home.",
          "estimated_restored_time": null,
          "incident_active": false,
          "planned_time": null,
          "postcodes_impacted": [
           "CT20DR",
           "CT34AP",
           "CT34AR"
          ],
          "received_time": "2021-04-03T12:31:00",
          "restored_time": "2021-04-03T15:15:34.103"
         },
         "INCD-59668-N": {
          "description": "A fault occurred on an underground electricity cable affecting the local area.",
          "estimated_restored_time": "2021-04-03T15:00:00",
          "incident_active": false,
          "planned_time": null,
          "postcodes_impacted": [
           "IG45BN",
           "IG45BP",
           "IG45BS",
           "IG45BT",
           "IG45DB"
          ],
          "received_time": "2021-04-03T07:01:00",
          "restored_time": "2021-04-03T15:32:13.1"
         },
         "INCD-59669-N": {
          "description": "A fault occurred on a piece of our electrical equipment which controls the power to your home.",
          "estimated_restored_time": "2021-04-03T14:30:00",
          "incident_active": false,
          "planned_time": null,
          "postcodes_impacted": [
           "SW184EY",
           "SW184EZ",
           "SW184HP",
           "SW184HW"
          ],
          "received_time": "2021-04-03T07:31:00",
          "restored_time": "2021-04-03T11:02:24.293"
         },
         "INCD-59672-N": {
          "description": "A fault occurred on a piece of our electrical equipment which controls the power to your home.",
          "estimated_restored_time": null,
          "incident_active": false,
          "planned_time": null,
          "postcodes_impacted": [
           "E49JD"
          ],
          "received_time": "2021-04-03T09:41:00",
          "restored_time": "2021-04-03T11:43:26.837"
         },
         "INCD-59681-N": {
          "description": "A fault occurred on a piece of our electrical equipment which controls the power to your home.",
          "estimated_restored_time": "2021-04-03T14:30:00",
          "incident_active": false,
          "planned_time": null,
          "postcodes_impacted": [
           "SE11YH",
           "SE11YL",
           "SE11YN",
           "SE11YQ",
           "SE11YW",
           "SE11YZ",
           "SE13PT",
           "SE13RU",
           "SE13RY",
           "SE13SA",
           "SE13SS",
           "SE13YB",
           "SE13YD",
           "SE14PH",
           "SE53RY"
          ],
          "received_time": "2021-04-03T12:01:00",
          "restored_time": "2021-04-03T13:07:12.533"
         },
         "INCD-59682-N": {
          "description": "A fault occurred on a piece of our electrical equipment which controls the power to your home.",
          "estimated_restored_time": "2021-04-03T14:30:00",
          "incident_active": false,
          "planned_time": null,
          "postcodes_impacted": [
           "IG45AN",
           "IG45BH",
           "IG45BJ",
           "IG45BL",
           "IG45BN",
           "IG45BP",
           "IG45BS",
           "IG45DB",
           "IG45DF",
           "IG45DG",
           "IG45JD"
          ],
          "received_time": "2021-04-03T11:22:00",
          "restored_time": "2021-04-03T12:43:31.843"
         },
         "INCD-59683-N": {
          "description": "A fault occurred on a piece of our electrical equipment which controls the power to your home.",
          "estimated_restored_time": "2021-04-03T16:00:00",
          "incident_active": false,
          "planned_time": null,
          "postcodes_impacted": [
           "KT36LX",
           "KT36NB",
           "KT36NE",
           "KT36NF"
          ],
          "received_time": "2021-04-03T12:12:00",
          "restored_time": "2021-04-03T17:00:03.567"
         },
         "INCD-59687-N": {
          "description": "A fault occurred on a piece of our electrical equipment which controls the power to your home.",
          "estimated_restored_time": "2021-04-03T17:00:00",
          "incident_active": false,
          "planned_time": null,
          "postcodes_impacted": [
           "E14AE",
           "E14AU",
           "E14AX",
           "E14AY",
           "E14AZ",
           "E14HT"
          ],
          "received_time": "2021-04-03T13:45:00",
          "restored_time": "2021-04-03T15:19:17.303"
         },
         "INCD-59692-N": {
          "description": "A fault occurred on a piece of our electrical equipment which controls the power to your home.",
          "estimated_restored_time": "2021-04-03T20:00:00",
          "incident_active": false,
          "planned_time": null,
          "postcodes_impacted": [
           "SE264SZ",
           "SE264TB",
           "SE264TD",
           "SE265EX",
           "SE264SL",
           "SE265QW",
           "SE265UA",
           "SW36PS"
          ],
          "received_time": "2021-04-03T16:18:59",
          "restored_time": null
         }
        },
        "wpd": {
         "INCD-1088-g": {
          "description": "Awaiting",
          "estimated_restored_time": "2021-04-03 17:30:00",
          "incident_active": true,
          "postcodes_impacted": [
           "NP13 1EN",
           "NP13 1EL",
           "NP13 1EW",
           "NP13 1EG",
           "NP13 1AR",
           "NP13 1AS",
           "NP13 1HE",
           "NP13 1EP",
           "NP13 1BL",
           "NP13 1HF",
           "NP13 1BB",
           "NP13 1ET",
           "NP13 1AE",
           "NP13 1BT",
           "NP13 1AA",
           "NP13 1AG",
           "NP13 1BS",
           "NP13 1BE",
           "NP13 1EQ",
           "NP13 1DJ",
           "NP13 1BR",
           "NP13 1BP",
           "NP13 1HH",
           "NP13 1BD",
           "NP13 1HD",
           "NP13 1AD",
           "NP13 1HB",
           "NP13 1DX",
           "NP13 1HG",
           "NP13 1EE",
           "NP13 1XR",
           "NP13 1DQ",
           "NP13 2RB",
           "NP13 1DD",
           "NP13 1AH",
           "NP13 1BN",
           "NP13 1BW"
          ],
          "received_time": "2021-04-03 15:42:00"
         },
         "INCD-125012-B": {
          "description": "In Progress",
          "estimated_restored_time": "2021-04-03 20:00:00",
          "incident_active": true,
          "postcodes_impacted": [
           "TQ12 2BG",
           "TQ12 2BA",
           "TQ12 2AU",
           "TQ12 2BS"
          ],
          "received_time": "2021-04-03 10:30:00"
         },
         "INCD-125024-B": {
          "description": "In Progress",
          "estimated_restored_time": "2021-04-03 23:00:00",
          "incident_active": true,
          "postcodes_impacted": [
           "BS31 1XJ",
           "BS31 1XF",
           "BS31 1XG",
           "BS31 1XL",
           "BS31 1XN",
           "BS31 1XW",
           "BS31 1XD"
          ],
          "received_time": "2021-04-03 15:13:00"
         },
         "INCD-151717-H": {
          "description": "In Progress",
          "estimated_restored_time": "2021-04-03 17:00:00",
          "incident_active": true,
          "postcodes_impacted": [
           "NG2 6JN"
          ],
          "received_time": "2021-04-03 06:07:00"
         },
         "INCD-151724-H": {
          "description": "In Progress",
          "estimated_restored_time": "2021-04-03 18:30:00",
          "incident_active": true,
          "postcodes_impacted": [
           "LE7 7EQ"
          ],
          "received_time": "2021-04-03 10:29:00"
         },
         "INCD-357022-G": {
          "description": "In Progress",
          "estimated_restored_time": null,
          "incident_active": true,
          "postcodes_impacted": [
           "B30 2NT"
          ],
          "received_time": "2021-04-03 07:52:00"
         },
         "INCD-357035-G": {
          "description": "In Progress",
          "estimated_restored_time": "2021-04-03 18:30:00",
          "incident_active": true,
          "postcodes_impacted": [
           "DY4 9ND",
           "DY4 9PZ"
          ],
          "received_time": "2021-04-03 12:50:00"
         },
         "INCD-357039-G": {
          "description": "In Progress",
          "estimated_restored_time": "2021-04-03 20:00:00",
          "incident_active": true,
          "postcodes_impacted": [
           "WS9 8BS",
           "WS9 8BU",
           "WS9 8BT",
           "WS9 8ER",
           "WS9 8EX",
           "WS4 1QY"
          ],
          "received_time": "2021-04-03 14:04:00"
         },
         "INCD-43536-D": {
          "description": "In Progress",
          "estimated_restored_time": "2021-04-03 20:30:00",
          "incident_active": true,
          "postcodes_impacted": [
           "CV2 3HS"
          ],
          "received_time": "2021-04-03 11:39:00"
         },
         "INCD-43539-D": {
          "description": "Awaiting",
          "estimated_restored_time": "2021-04-03 15:23:00",
          "incident_active": false,
          "postcodes_impacted": [
           "CV32 5YX"
          ],
          "received_time": "2021-04-03 12:36:00"
         }
        }
       }
      ],
      "text/plain": [
       "<IPython.core.display.JSON object>"
      ]
     },
     "execution_count": 3,
     "metadata": {
      "application/json": {
       "expanded": false,
       "root": "root"
      }
     },
     "output_type": "execute_result"
    }
   ],
   "source": [
    "cleaned_incidents_info = collate_cleaned_incidents_info()\n",
    "\n",
    "JSON([cleaned_incidents_info])"
   ]
  },
  {
   "cell_type": "code",
   "execution_count": null,
   "id": "equipped-eagle",
   "metadata": {},
   "outputs": [],
   "source": []
  },
  {
   "cell_type": "code",
   "execution_count": 31,
   "id": "liquid-australian",
   "metadata": {},
   "outputs": [
    {
     "name": "stdout",
     "output_type": "stream",
     "text": [
      "Wall time: 1min 50s\n"
     ]
    },
    {
     "data": {
      "text/plain": [
       "<AxesSubplot:>"
      ]
     },
     "execution_count": 31,
     "metadata": {},
     "output_type": "execute_result"
    },
    {
     "data": {
      "image/png": "[encoded data removed]",
      "text/plain": [
       "<Figure size 432x288 with 1 Axes>"
      ]
     },
     "metadata": {
      "needs_background": "light"
     },
     "output_type": "display_data"
    }
   ],
   "source": [
    "%%time\n",
    "\n",
    "spatial_data_dir = '../data/spatial'\n",
    "\n",
    "df_postcodes = pd.concat((pd.read_csv(f'{spatial_data_dir}/{f}', header=None) for f in os.listdir(spatial_data_dir) if '.csv' in f)).reset_index(drop=True)\n",
    "df_postcodes = df_postcodes[[0, 2, 3]].rename(columns={0: 'postcode', 2: 'northing', 3: 'easting'})\n",
    "gdf_postcodes = gpd.GeoDataFrame(df_postcodes[['postcode']], geometry=gpd.points_from_xy(df_postcodes['northing'], df_postcodes['easting']), crs='epsg:27700').to_crs('epsg:4326')\n",
    "\n",
    "gdf_postcodes.sample(int(1e4)).plot(markersize=1)"
   ]
  },
  {
   "cell_type": "code",
   "execution_count": 42,
   "id": "quiet-swaziland",
   "metadata": {},
   "outputs": [],
   "source": [
    "gdf_postcodes['latitude'] = gdf_postcodes['geometry'].y\n",
    "gdf_postcodes['longitude'] = gdf_postcodes['geometry'].x"
   ]
  },
  {
   "cell_type": "code",
   "execution_count": 43,
   "id": "systematic-crest",
   "metadata": {},
   "outputs": [
    {
     "data": {
      "text/html": [
       "<div>\n",
       "<style scoped>\n",
       "    .dataframe tbody tr th:only-of-type {\n",
       "        vertical-align: middle;\n",
       "    }\n",
       "\n",
       "    .dataframe tbody tr th {\n",
       "        vertical-align: top;\n",
       "    }\n",
       "\n",
       "    .dataframe thead th {\n",
       "        text-align: right;\n",
       "    }\n",
       "</style>\n",
       "<table border=\"1\" class=\"dataframe\">\n",
       "  <thead>\n",
       "    <tr style=\"text-align: right;\">\n",
       "      <th></th>\n",
       "      <th>postcode</th>\n",
       "      <th>geometry</th>\n",
       "      <th>latitude</th>\n",
       "      <th>longitude</th>\n",
       "    </tr>\n",
       "  </thead>\n",
       "  <tbody>\n",
       "    <tr>\n",
       "      <th>0</th>\n",
       "      <td>AB101AB</td>\n",
       "      <td>POINT (-2.09692 57.14961)</td>\n",
       "      <td>57.149606</td>\n",
       "      <td>-2.096916</td>\n",
       "    </tr>\n",
       "    <tr>\n",
       "      <th>1</th>\n",
       "      <td>AB101AF</td>\n",
       "      <td>POINT (-2.09781 57.14871)</td>\n",
       "      <td>57.148707</td>\n",
       "      <td>-2.097806</td>\n",
       "    </tr>\n",
       "    <tr>\n",
       "      <th>2</th>\n",
       "      <td>AB101AG</td>\n",
       "      <td>POINT (-2.09700 57.14907)</td>\n",
       "      <td>57.149067</td>\n",
       "      <td>-2.096997</td>\n",
       "    </tr>\n",
       "    <tr>\n",
       "      <th>3</th>\n",
       "      <td>AB101AH</td>\n",
       "      <td>POINT (-2.09466 57.14808)</td>\n",
       "      <td>57.148080</td>\n",
       "      <td>-2.094664</td>\n",
       "    </tr>\n",
       "    <tr>\n",
       "      <th>4</th>\n",
       "      <td>AB101AL</td>\n",
       "      <td>POINT (-2.09591 57.15007)</td>\n",
       "      <td>57.150074</td>\n",
       "      <td>-2.095909</td>\n",
       "    </tr>\n",
       "  </tbody>\n",
       "</table>\n",
       "</div>"
      ],
      "text/plain": [
       "  postcode                   geometry   latitude  longitude\n",
       "0  AB101AB  POINT (-2.09692 57.14961)  57.149606  -2.096916\n",
       "1  AB101AF  POINT (-2.09781 57.14871)  57.148707  -2.097806\n",
       "2  AB101AG  POINT (-2.09700 57.14907)  57.149067  -2.096997\n",
       "3  AB101AH  POINT (-2.09466 57.14808)  57.148080  -2.094664\n",
       "4  AB101AL  POINT (-2.09591 57.15007)  57.150074  -2.095909"
      ]
     },
     "execution_count": 43,
     "metadata": {},
     "output_type": "execute_result"
    }
   ],
   "source": [
    "gdf_postcodes.head()"
   ]
  },
  {
   "cell_type": "code",
   "execution_count": 44,
   "id": "ruled-homework",
   "metadata": {},
   "outputs": [],
   "source": [
    "gdf_postcodes[['postcode', 'longitude', 'latitude']].to_csv('../data/postcodes.csv')"
   ]
  },
  {
   "cell_type": "code",
   "execution_count": 33,
   "id": "opponent-supervision",
   "metadata": {},
   "outputs": [
    {
     "name": "stdout",
     "output_type": "stream",
     "text": [
      "Wall time: 1min 25s\n"
     ]
    }
   ],
   "source": [
    "%%time\n",
    "\n",
    "gdf_postcodes = gpd.read_file('../data/postcodes.shp')"
   ]
  },
  {
   "cell_type": "code",
   "execution_count": null,
   "id": "flexible-tissue",
   "metadata": {},
   "outputs": [],
   "source": [
    "df_postcodes[['postcode', 'longitude', 'latitude']].to_csv('../data/postcodes.csv', index=F)"
   ]
  },
  {
   "cell_type": "code",
   "execution_count": 45,
   "id": "standard-exclusion",
   "metadata": {},
   "outputs": [
    {
     "data": {
      "text/html": [
       "<div>\n",
       "<style scoped>\n",
       "    .dataframe tbody tr th:only-of-type {\n",
       "        vertical-align: middle;\n",
       "    }\n",
       "\n",
       "    .dataframe tbody tr th {\n",
       "        vertical-align: top;\n",
       "    }\n",
       "\n",
       "    .dataframe thead th {\n",
       "        text-align: right;\n",
       "    }\n",
       "</style>\n",
       "<table border=\"1\" class=\"dataframe\">\n",
       "  <thead>\n",
       "    <tr style=\"text-align: right;\">\n",
       "      <th></th>\n",
       "      <th>Unnamed: 0</th>\n",
       "      <th>postcode</th>\n",
       "      <th>longitude</th>\n",
       "      <th>latitude</th>\n",
       "    </tr>\n",
       "  </thead>\n",
       "  <tbody>\n",
       "    <tr>\n",
       "      <th>0</th>\n",
       "      <td>0</td>\n",
       "      <td>AB101AB</td>\n",
       "      <td>-2.096916</td>\n",
       "      <td>57.149606</td>\n",
       "    </tr>\n",
       "    <tr>\n",
       "      <th>1</th>\n",
       "      <td>1</td>\n",
       "      <td>AB101AF</td>\n",
       "      <td>-2.097806</td>\n",
       "      <td>57.148707</td>\n",
       "    </tr>\n",
       "    <tr>\n",
       "      <th>2</th>\n",
       "      <td>2</td>\n",
       "      <td>AB101AG</td>\n",
       "      <td>-2.096997</td>\n",
       "      <td>57.149067</td>\n",
       "    </tr>\n",
       "    <tr>\n",
       "      <th>3</th>\n",
       "      <td>3</td>\n",
       "      <td>AB101AH</td>\n",
       "      <td>-2.094664</td>\n",
       "      <td>57.148080</td>\n",
       "    </tr>\n",
       "    <tr>\n",
       "      <th>4</th>\n",
       "      <td>4</td>\n",
       "      <td>AB101AL</td>\n",
       "      <td>-2.095909</td>\n",
       "      <td>57.150074</td>\n",
       "    </tr>\n",
       "    <tr>\n",
       "      <th>...</th>\n",
       "      <td>...</td>\n",
       "      <td>...</td>\n",
       "      <td>...</td>\n",
       "      <td>...</td>\n",
       "    </tr>\n",
       "    <tr>\n",
       "      <th>1714208</th>\n",
       "      <td>1714208</td>\n",
       "      <td>ZE3 9JU</td>\n",
       "      <td>-1.307206</td>\n",
       "      <td>59.889544</td>\n",
       "    </tr>\n",
       "    <tr>\n",
       "      <th>1714209</th>\n",
       "      <td>1714209</td>\n",
       "      <td>ZE3 9JW</td>\n",
       "      <td>-1.305697</td>\n",
       "      <td>59.873651</td>\n",
       "    </tr>\n",
       "    <tr>\n",
       "      <th>1714210</th>\n",
       "      <td>1714210</td>\n",
       "      <td>ZE3 9JX</td>\n",
       "      <td>-1.307502</td>\n",
       "      <td>59.875286</td>\n",
       "    </tr>\n",
       "    <tr>\n",
       "      <th>1714211</th>\n",
       "      <td>1714211</td>\n",
       "      <td>ZE3 9JY</td>\n",
       "      <td>-1.313847</td>\n",
       "      <td>59.891572</td>\n",
       "    </tr>\n",
       "    <tr>\n",
       "      <th>1714212</th>\n",
       "      <td>1714212</td>\n",
       "      <td>ZE3 9JZ</td>\n",
       "      <td>-1.310899</td>\n",
       "      <td>59.892392</td>\n",
       "    </tr>\n",
       "  </tbody>\n",
       "</table>\n",
       "<p>1714213 rows × 4 columns</p>\n",
       "</div>"
      ],
      "text/plain": [
       "         Unnamed: 0 postcode  longitude   latitude\n",
       "0                 0  AB101AB  -2.096916  57.149606\n",
       "1                 1  AB101AF  -2.097806  57.148707\n",
       "2                 2  AB101AG  -2.096997  57.149067\n",
       "3                 3  AB101AH  -2.094664  57.148080\n",
       "4                 4  AB101AL  -2.095909  57.150074\n",
       "...             ...      ...        ...        ...\n",
       "1714208     1714208  ZE3 9JU  -1.307206  59.889544\n",
       "1714209     1714209  ZE3 9JW  -1.305697  59.873651\n",
       "1714210     1714210  ZE3 9JX  -1.307502  59.875286\n",
       "1714211     1714211  ZE3 9JY  -1.313847  59.891572\n",
       "1714212     1714212  ZE3 9JZ  -1.310899  59.892392\n",
       "\n",
       "[1714213 rows x 4 columns]"
      ]
     },
     "execution_count": 45,
     "metadata": {},
     "output_type": "execute_result"
    }
   ],
   "source": [
    "df_postcodes = pd.read_csv('../data/postcodes.csv')\n",
    "\n",
    "df_postcodes"
   ]
  },
  {
   "cell_type": "code",
   "execution_count": 4,
   "id": "american-wheel",
   "metadata": {},
   "outputs": [],
   "source": [
    "# incident_active (if known)\n",
    "# logged/start time\n",
    "# estimated time of fix\n",
    "# postcodes impacted\n",
    "# description"
   ]
  },
  {
   "cell_type": "code",
   "execution_count": null,
   "id": "humanitarian-oriental",
   "metadata": {},
   "outputs": [],
   "source": []
  },
  {
   "cell_type": "code",
   "execution_count": null,
   "id": "harmful-testament",
   "metadata": {},
   "outputs": [],
   "source": []
  },
  {
   "cell_type": "code",
   "execution_count": null,
   "id": "unlimited-nirvana",
   "metadata": {},
   "outputs": [],
   "source": []
  }
 ],
 "metadata": {
  "kernelspec": {
   "display_name": "outage",
   "language": "python",
   "name": "outage"
  },
  "language_info": {
   "codemirror_mode": {
    "name": "ipython",
    "version": 3
   },
   "file_extension": ".py",
   "mimetype": "text/x-python",
   "name": "python",
   "nbconvert_exporter": "python",
   "pygments_lexer": "ipython3",
   "version": "3.7.10"
  }
 },
 "nbformat": 4,
 "nbformat_minor": 5
}

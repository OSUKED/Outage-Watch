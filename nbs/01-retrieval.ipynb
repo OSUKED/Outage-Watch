{
 "cells": [
  {
   "cell_type": "code",
   "execution_count": 1,
   "id": "criminal-anthony",
   "metadata": {},
   "outputs": [],
   "source": [
    "# default_exp retrieval"
   ]
  },
  {
   "cell_type": "markdown",
   "id": "later-arrival",
   "metadata": {},
   "source": [
    "# Outage Data Retrieval\n",
    "\n",
    "<br>\n",
    "\n",
    "### Imports"
   ]
  },
  {
   "cell_type": "code",
   "execution_count": 95,
   "id": "elder-habitat",
   "metadata": {},
   "outputs": [],
   "source": [
    "#exports\n",
    "import json\n",
    "import pandas as pd\n",
    "\n",
    "import html\n",
    "import requests\n",
    "from bs4 import BeautifulSoup as bs\n",
    "from warnings import warn\n",
    "\n",
    "from ipypb import track"
   ]
  },
  {
   "cell_type": "code",
   "execution_count": 90,
   "id": "civilian-relief",
   "metadata": {},
   "outputs": [],
   "source": [
    "from IPython.display import JSON"
   ]
  },
  {
   "cell_type": "markdown",
   "id": "complex-filing",
   "metadata": {},
   "source": [
    "<br>\n",
    "\n",
    "### UK Power Networks\n",
    "\n",
    "https://www.ukpowernetworks.co.uk/power-cut/map"
   ]
  },
  {
   "cell_type": "code",
   "execution_count": 3,
   "id": "yellow-database",
   "metadata": {},
   "outputs": [
    {
     "data": {
      "application/json": {
       "Incidents": [
        {
         "PanelContentUrl": "/power-cut/map/unplanned?incidentId=INCD-53064-V",
         "PostcodeData": [],
         "PostcodesRemaining": [],
         "PowerCutType": "Unplanned",
         "ServiceDown": false
        },
        {
         "PanelContentUrl": "/power-cut/map/unplanned?incidentId=INCD-247216-G",
         "PostcodeData": [],
         "PostcodesRemaining": [],
         "PowerCutType": "Unplanned",
         "ServiceDown": false
        },
        {
         "PanelContentUrl": "/power-cut/map/unplanned?incidentId=INCD-226958-Z",
         "PostcodeData": [
          {
           "Center": {
            "lat": 52.59373,
            "lng": 1.72742
           },
           "Postcode": "NR30 3"
          }
         ],
         "PostcodesRemaining": [],
         "PowerCutType": "Unplanned",
         "ServiceDown": false
        },
        {
         "PanelContentUrl": "/power-cut/map/unplanned?incidentId=INCD-226909-Z",
         "PostcodeData": [
          {
           "Center": {
            "lat": 51.58704,
            "lng": -0.10634
           },
           "Postcode": "N8 0"
          }
         ],
         "PostcodesRemaining": [],
         "PowerCutType": "Unplanned",
         "ServiceDown": false
        },
        {
         "PanelContentUrl": "/power-cut/map/unplanned?incidentId=INCD-226943-Z",
         "PostcodeData": [
          {
           "Center": {
            "lat": 51.56103,
            "lng": 0.64863
           },
           "Postcode": "SS9 4"
          }
         ],
         "PostcodesRemaining": [],
         "PowerCutType": "Unplanned",
         "ServiceDown": false
        },
        {
         "PanelContentUrl": "/power-cut/map/unplanned?incidentId=INCD-258599-J",
         "PostcodeData": [
          {
           "Center": {
            "lat": 51.51259,
            "lng": -0.08678
           },
           "Postcode": "EC3V 9"
          },
          {
           "Center": {
            "lat": 51.51235,
            "lng": -0.08979
           },
           "Postcode": "EC4N 8"
          },
          {
           "Center": {
            "lat": 51.51357,
            "lng": -0.08687
           },
           "Postcode": "EC3V 3"
          },
          {
           "Center": {
            "lat": 51.51166,
            "lng": -0.08943
           },
           "Postcode": "EC4N 5"
          },
          {
           "Center": {
            "lat": 51.51165,
            "lng": -0.09081
           },
           "Postcode": "EC4N 6"
          },
          {
           "Center": {
            "lat": 51.51181,
            "lng": -0.08759
           },
           "Postcode": "EC4N 7"
          },
          {
           "Center": {
            "lat": 51.51065,
            "lng": -0.08883
           },
           "Postcode": "EC4R 0"
          },
          {
           "Center": {
            "lat": 51.5102,
            "lng": -0.08728
           },
           "Postcode": "EC4R 9"
          }
         ],
         "PostcodesRemaining": [],
         "PowerCutType": "Unplanned",
         "ServiceDown": false
        },
        {
         "PanelContentUrl": "/power-cut/map/unplanned?incidentId=INCD-258554-J",
         "PostcodeData": [
          {
           "Center": {
            "lat": 51.46288,
            "lng": -0.01692
           },
           "Postcode": "SE13 7"
          },
          {
           "Center": {
            "lat": 51.45868,
            "lng": -0.00139
           },
           "Postcode": "SE13 5"
          },
          {
           "Center": {
            "lat": 51.45272,
            "lng": -0.00795
           },
           "Postcode": "SE13 6"
          }
         ],
         "PostcodesRemaining": [],
         "PowerCutType": "Unplanned",
         "ServiceDown": false
        },
        {
         "PanelContentUrl": "/power-cut/map/unplanned?incidentId=INCD-53056-V",
         "PostcodeData": [
          {
           "Center": {
            "lat": 51.35833,
            "lng": 1.43773
           },
           "Postcode": "CT10 1"
          }
         ],
         "PostcodesRemaining": [],
         "PowerCutType": "Unplanned",
         "ServiceDown": false
        },
        {
         "PanelContentUrl": "/power-cut/map/unplanned?incidentId=INCD-227015-Z",
         "PostcodeData": [
          {
           "Center": {
            "lat": 51.97358,
            "lng": 0.76602
           },
           "Postcode": "CO8 5"
          }
         ],
         "PostcodesRemaining": [],
         "PowerCutType": "Unplanned",
         "ServiceDown": false
        },
        {
         "PanelContentUrl": "/power-cut/map/unplanned?incidentId=INCD-52514-V",
         "PostcodeData": [],
         "PostcodesRemaining": [],
         "PowerCutType": "Unplanned",
         "ServiceDown": false
        },
        {
         "PanelContentUrl": "/power-cut/map/unplanned?incidentId=INCD-51304-V",
         "PostcodeData": [],
         "PostcodesRemaining": [],
         "PowerCutType": "Unplanned",
         "ServiceDown": false
        },
        {
         "PanelContentUrl": "/power-cut/map/unplanned?incidentId=INCD-226975-Z",
         "PostcodeData": [],
         "PostcodesRemaining": [],
         "PowerCutType": "Unplanned",
         "ServiceDown": false
        },
        {
         "PanelContentUrl": "/power-cut/map/unplanned?incidentId=INCD-226814-Z",
         "PostcodeData": [
          {
           "Center": {
            "lat": 52.07039,
            "lng": -0.44093
           },
           "Postcode": "MK45 3"
          }
         ],
         "PostcodesRemaining": [],
         "PowerCutType": "Unplanned",
         "ServiceDown": false
        },
        {
         "PanelContentUrl": "/power-cut/map/unplanned?incidentId=INCD-258551-J",
         "PostcodeData": [
          {
           "Center": {
            "lat": 51.51499,
            "lng": -0.10162
           },
           "Postcode": "EC4M 7"
          }
         ],
         "PostcodesRemaining": [],
         "PowerCutType": "Unplanned",
         "ServiceDown": false
        },
        {
         "PanelContentUrl": "/power-cut/map/unplanned?incidentId=INCD-226968-Z",
         "PostcodeData": [
          {
           "Center": {
            "lat": 52.23306,
            "lng": 0.71261
           },
           "Postcode": "IP33 2"
          }
         ],
         "PostcodesRemaining": [],
         "PowerCutType": "Unplanned",
         "ServiceDown": false
        },
        {
         "PanelContentUrl": "/power-cut/map/unplanned?incidentId=INCD-57916-N",
         "PostcodeData": [
          {
           "Center": {
            "lat": 51.52972,
            "lng": -0.15329
           },
           "Postcode": "NW1 4"
          },
          {
           "Center": {
            "lat": 51.52014,
            "lng": -0.16716
           },
           "Postcode": "NW1 5"
          }
         ],
         "PostcodesRemaining": [],
         "PowerCutType": "Unplanned",
         "ServiceDown": false
        },
        {
         "PanelContentUrl": "/power-cut/map/unplanned?incidentId=INCD-258418-J",
         "PostcodeData": [
          {
           "Center": {
            "lat": 51.39232,
            "lng": -0.21661
           },
           "Postcode": "SM4 4"
          }
         ],
         "PostcodesRemaining": [],
         "PowerCutType": "Unplanned",
         "ServiceDown": false
        },
        {
         "PanelContentUrl": "/power-cut/map/unplanned?incidentId=INCD-258539-J",
         "PostcodeData": [
          {
           "Center": {
            "lat": 51.56088,
            "lng": 0.00247
           },
           "Postcode": "E11 4"
          }
         ],
         "PostcodesRemaining": [],
         "PowerCutType": "Unplanned",
         "ServiceDown": false
        },
        {
         "PanelContentUrl": "/power-cut/map/unplanned?incidentId=INCD-226928-Z",
         "PostcodeData": [
          {
           "Center": {
            "lat": 52.79358,
            "lng": 0.42546
           },
           "Postcode": "PE30 3"
          }
         ],
         "PostcodesRemaining": [],
         "PowerCutType": "Unplanned",
         "ServiceDown": false
        },
        {
         "PanelContentUrl": "/power-cut/map/unplanned?incidentId=INCD-53087-V",
         "PostcodeData": [],
         "PostcodesRemaining": [],
         "PowerCutType": "Unplanned",
         "ServiceDown": false
        },
        {
         "PanelContentUrl": "/power-cut/map/unplanned?incidentId=INCD-258618-J",
         "PostcodeData": [],
         "PostcodesRemaining": [],
         "PowerCutType": "Unplanned",
         "ServiceDown": false
        },
        {
         "PanelContentUrl": "/power-cut/map/unplanned?incidentId=INCD-226903-Z",
         "PostcodeData": [
          {
           "Center": {
            "lat": 52.11577,
            "lng": -0.43949
           },
           "Postcode": "MK42 0"
          }
         ],
         "PostcodesRemaining": [],
         "PowerCutType": "Unplanned",
         "ServiceDown": false
        },
        {
         "PanelContentUrl": "/power-cut/map/unplanned?incidentId=INCD-247224-G",
         "PostcodeData": [
          {
           "Center": {
            "lat": 51.35585,
            "lng": 0.52679
           },
           "Postcode": "ME5 0"
          }
         ],
         "PostcodesRemaining": [],
         "PowerCutType": "Unplanned",
         "ServiceDown": false
        },
        {
         "PanelContentUrl": "/power-cut/map/unplanned?incidentId=INCD-258610-J",
         "PostcodeData": [
          {
           "Center": {
            "lat": 51.51101,
            "lng": -0.13395
           },
           "Postcode": "W1D 7"
          },
          {
           "Center": {
            "lat": 51.51204,
            "lng": -0.13702
           },
           "Postcode": "W1F 9"
          }
         ],
         "PostcodesRemaining": [],
         "PowerCutType": "Unplanned",
         "ServiceDown": false
        },
        {
         "PanelContentUrl": "/power-cut/map/unplanned?incidentId=INCD-227011-Z",
         "PostcodeData": [
          {
           "Center": {
            "lat": 51.69289,
            "lng": -0.70663
           },
           "Postcode": "HP16 0"
          },
          {
           "Center": {
            "lat": 51.71867,
            "lng": -0.72872
           },
           "Postcode": "HP16 9"
          }
         ],
         "PostcodesRemaining": [],
         "PowerCutType": "Unplanned",
         "ServiceDown": false
        },
        {
         "PanelContentUrl": "/power-cut/map/power-back-on?incidentId=INCD-53069-V",
         "PostcodeData": [
          {
           "Center": {
            "lat": 51.2194,
            "lng": -0.36226
           },
           "Postcode": "RH4 3"
          }
         ],
         "PostcodesRemaining": [],
         "PowerCutType": "Restored",
         "ServiceDown": false
        },
        {
         "PanelContentUrl": "/power-cut/map/power-back-on?incidentId=INCD-224761-Z",
         "PostcodeData": [
          {
           "Center": {
            "lat": 51.50407,
            "lng": 0.24673
           },
           "Postcode": "RM15 4"
          },
          {
           "Center": {
            "lat": 51.4838,
            "lng": 0.25035
           },
           "Postcode": "RM19 1"
          },
          {
           "Center": {
            "lat": 51.47472,
            "lng": 0.27548
           },
           "Postcode": "RM20 3"
          }
         ],
         "PostcodesRemaining": [],
         "PowerCutType": "Restored",
         "ServiceDown": false
        },
        {
         "PanelContentUrl": "/power-cut/map/power-back-on?incidentId=INCD-222446-Z",
         "PostcodeData": [
          {
           "Center": {
            "lat": 52.94161,
            "lng": 0.8567
           },
           "Postcode": "NR23 1"
          },
          {
           "Center": {
            "lat": 51.89877,
            "lng": -0.19424
           },
           "Postcode": "SG1 1"
          },
          {
           "Center": {
            "lat": 51.91491,
            "lng": -0.18158
           },
           "Postcode": "SG1 5"
          },
          {
           "Center": {
            "lat": 51.90811,
            "lng": -0.17029
           },
           "Postcode": "SG2 0"
          },
          {
           "Center": {
            "lat": 51.87886,
            "lng": -0.175
           },
           "Postcode": "SG2 8"
          }
         ],
         "PostcodesRemaining": [],
         "PowerCutType": "Restored",
         "ServiceDown": false
        },
        {
         "PanelContentUrl": "/power-cut/map/power-back-on?incidentId=INCD-246135-G",
         "PostcodeData": [],
         "PostcodesRemaining": [],
         "PowerCutType": "Restored",
         "ServiceDown": false
        },
        {
         "PanelContentUrl": "/power-cut/map/power-back-on?incidentId=INCD-221975-Z",
         "PostcodeData": [
          {
           "Center": {
            "lat": 51.68733,
            "lng": -0.63312
           },
           "Postcode": "HP6 5"
          },
          {
           "Center": {
            "lat": 51.67644,
            "lng": -0.57594
           },
           "Postcode": "HP6 6"
          }
         ],
         "PostcodesRemaining": [],
         "PowerCutType": "Restored",
         "ServiceDown": false
        },
        {
         "PanelContentUrl": "/power-cut/map/power-back-on?incidentId=INCD-247193-G",
         "PostcodeData": [],
         "PostcodesRemaining": [],
         "PowerCutType": "Restored",
         "ServiceDown": false
        },
        {
         "PanelContentUrl": "/power-cut/map/power-back-on?incidentId=INCD-247066-G",
         "PostcodeData": [
          {
           "Center": {
            "lat": 51.24006,
            "lng": -0.57531
           },
           "Postcode": "GU1 4"
          },
          {
           "Center": {
            "lat": 51.33373,
            "lng": -0.53669
           },
           "Postcode": "GU21 5"
          },
          {
           "Center": {
            "lat": 51.25938,
            "lng": 0.1899
           },
           "Postcode": "TN13 1"
          },
          {
           "Center": {
            "lat": 51.06717,
            "lng": 0.14151
           },
           "Postcode": "TN6 1"
          },
          {
           "Center": {
            "lat": 51.05936,
            "lng": 0.17767
           },
           "Postcode": "TN6 2"
          },
          {
           "Center": {
            "lat": 51.04194,
            "lng": 0.21052
           },
           "Postcode": "TN6 3"
          }
         ],
         "PostcodesRemaining": [],
         "PowerCutType": "Restored",
         "ServiceDown": false
        },
        {
         "PanelContentUrl": "/power-cut/map/power-back-on?incidentId=INCD-247074-G",
         "PostcodeData": [
          {
           "Center": {
            "lat": 51.12211,
            "lng": 1.10701
           },
           "Postcode": "CT18 8"
          },
          {
           "Center": {
            "lat": 51.33689,
            "lng": -0.50004
           },
           "Postcode": "KT14 6"
          },
          {
           "Center": {
            "lat": 51.11747,
            "lng": 0.99645
           },
           "Postcode": "TN25 6"
          }
         ],
         "PostcodesRemaining": [],
         "PowerCutType": "Restored",
         "ServiceDown": false
        },
        {
         "PanelContentUrl": "/power-cut/map/power-back-on?incidentId=INCD-226954-Z",
         "PostcodeData": [
          {
           "Center": {
            "lat": 51.9179,
            "lng": -0.68235
           },
           "Postcode": "LU7 2"
          },
          {
           "Center": {
            "lat": 51.89739,
            "lng": -0.61273
           },
           "Postcode": "LU7 9"
          }
         ],
         "PostcodesRemaining": [],
         "PowerCutType": "Restored",
         "ServiceDown": false
        },
        {
         "PanelContentUrl": "/power-cut/map/power-back-on?incidentId=INCD-245902-G",
         "PostcodeData": [
          {
           "Center": {
            "lat": 51.13006,
            "lng": -0.22262
           },
           "Postcode": "RH11 0"
          }
         ],
         "PostcodesRemaining": [],
         "PowerCutType": "Restored",
         "ServiceDown": false
        },
        {
         "PanelContentUrl": "/power-cut/map/power-back-on?incidentId=INCD-175468-Z",
         "PostcodeData": [
          {
           "Center": {
            "lat": 51.7484,
            "lng": -0.51895
           },
           "Postcode": "HP1 2"
          },
          {
           "Center": {
            "lat": 51.78215,
            "lng": -0.50785
           },
           "Postcode": "HP1 3"
          },
          {
           "Center": {
            "lat": 51.80644,
            "lng": -0.56441
           },
           "Postcode": "HP4 1"
          },
          {
           "Center": {
            "lat": 51.7582,
            "lng": -0.54618
           },
           "Postcode": "HP4 2"
          }
         ],
         "PostcodesRemaining": [],
         "PowerCutType": "Restored",
         "ServiceDown": false
        },
        {
         "PanelContentUrl": "/power-cut/map/power-back-on?incidentId=INCD-258574-J",
         "PostcodeData": [
          {
           "Center": {
            "lat": 51.48631,
            "lng": 0.0926
           },
           "Postcode": "SE18 1"
          },
          {
           "Center": {
            "lat": 51.47658,
            "lng": 0.0902
           },
           "Postcode": "SE18 2"
          },
          {
           "Center": {
            "lat": 51.48349,
            "lng": 0.11787
           },
           "Postcode": "SE2 0"
          },
          {
           "Center": {
            "lat": 51.49493,
            "lng": 0.11659
           },
           "Postcode": "SE2 9"
          }
         ],
         "PostcodesRemaining": [],
         "PowerCutType": "Restored",
         "ServiceDown": false
        },
        {
         "PanelContentUrl": "/power-cut/map/power-back-on?incidentId=INCD-43549-C",
         "PostcodeData": [],
         "PostcodesRemaining": [],
         "PowerCutType": "Restored",
         "ServiceDown": false
        },
        {
         "PanelContentUrl": "/power-cut/map/power-back-on?incidentId=INCD-258582-J",
         "PostcodeData": [
          {
           "Center": {
            "lat": 51.46098,
            "lng": -0.16886
           },
           "Postcode": "SW11 1"
          }
         ],
         "PostcodesRemaining": [],
         "PowerCutType": "Restored",
         "ServiceDown": false
        },
        {
         "PanelContentUrl": "/power-cut/map/power-back-on?incidentId=INCD-226932-Z",
         "PostcodeData": [
          {
           "Center": {
            "lat": 51.75358,
            "lng": -0.43464
           },
           "Postcode": "HP2 4"
          }
         ],
         "PostcodesRemaining": [],
         "PowerCutType": "Restored",
         "ServiceDown": false
        },
        {
         "PanelContentUrl": "/power-cut/map/power-back-on?incidentId=INCD-226845-Z",
         "PostcodeData": [],
         "PostcodesRemaining": [],
         "PowerCutType": "Restored",
         "ServiceDown": false
        },
        {
         "PanelContentUrl": "/power-cut/map/power-back-on?incidentId=INCD-226695-Z",
         "PostcodeData": [
          {
           "Center": {
            "lat": 51.88709,
            "lng": -0.50271
           },
           "Postcode": "LU5 4"
          },
          {
           "Center": {
            "lat": 51.88686,
            "lng": -0.5561
           },
           "Postcode": "LU6 1"
          }
         ],
         "PostcodesRemaining": [],
         "PowerCutType": "Restored",
         "ServiceDown": false
        },
        {
         "PanelContentUrl": "/power-cut/map/power-back-on?incidentId=INCD-52704-V",
         "PostcodeData": [
          {
           "Center": {
            "lat": 51.29443,
            "lng": 1.0766
           },
           "Postcode": "CT2 7"
          }
         ],
         "PostcodesRemaining": [],
         "PowerCutType": "Restored",
         "ServiceDown": false
        },
        {
         "PanelContentUrl": "/power-cut/map/power-back-on?incidentId=INCD-52505-V",
         "PostcodeData": [
          {
           "Center": {
            "lat": 50.80088,
            "lng": 0.31235
           },
           "Postcode": "BN23 7"
          },
          {
           "Center": {
            "lat": 50.80882,
            "lng": 0.29784
           },
           "Postcode": "BN23 8"
          }
         ],
         "PostcodesRemaining": [],
         "PowerCutType": "Restored",
         "ServiceDown": false
        },
        {
         "PanelContentUrl": "/power-cut/map/power-back-on?incidentId=INCD-258577-J",
         "PostcodeData": [
          {
           "Center": {
            "lat": 51.48968,
            "lng": -0.06182
           },
           "Postcode": "SE16 3"
          },
          {
           "Center": {
            "lat": 51.49345,
            "lng": -0.1426
           },
           "Postcode": "SW1V 1"
          },
          {
           "Center": {
            "lat": 51.48904,
            "lng": -0.14491
           },
           "Postcode": "SW1V 4"
          }
         ],
         "PostcodesRemaining": [],
         "PowerCutType": "Restored",
         "ServiceDown": false
        },
        {
         "PanelContentUrl": "/power-cut/map/power-back-on?incidentId=INCD-226959-Z",
         "PostcodeData": [
          {
           "Center": {
            "lat": 52.58289,
            "lng": 1.39689
           },
           "Postcode": "NR14 7"
          }
         ],
         "PostcodesRemaining": [],
         "PowerCutType": "Restored",
         "ServiceDown": false
        },
        {
         "PanelContentUrl": "/power-cut/map/power-back-on?incidentId=INCD-258579-J",
         "PostcodeData": [
          {
           "Center": {
            "lat": 51.52957,
            "lng": -0.21058
           },
           "Postcode": "W10 4"
          }
         ],
         "PostcodesRemaining": [],
         "PowerCutType": "Restored",
         "ServiceDown": false
        },
        {
         "PanelContentUrl": "/power-cut/map/power-back-on?incidentId=INCD-226675-Z",
         "PostcodeData": [
          {
           "Center": {
            "lat": 52.47529,
            "lng": 0.29871
           },
           "Postcode": "CB6 1"
          },
          {
           "Center": {
            "lat": 52.42205,
            "lng": 0.17094
           },
           "Postcode": "CB6 2"
          }
         ],
         "PostcodesRemaining": [],
         "PowerCutType": "Restored",
         "ServiceDown": false
        },
        {
         "PanelContentUrl": "/power-cut/map/power-back-on?incidentId=INCD-223379-Z",
         "PostcodeData": [],
         "PostcodesRemaining": [],
         "PowerCutType": "Restored",
         "ServiceDown": false
        },
        {
         "PanelContentUrl": "/power-cut/map/power-back-on?incidentId=INCD-226916-Z",
         "PostcodeData": [
          {
           "Center": {
            "lat": 52.20564,
            "lng": 0.12936
           },
           "Postcode": "CB1 1"
          },
          {
           "Center": {
            "lat": 52.20433,
            "lng": 0.12097
           },
           "Postcode": "CB2 3"
          }
         ],
         "PostcodesRemaining": [],
         "PowerCutType": "Restored",
         "ServiceDown": false
        },
        {
         "PanelContentUrl": "/power-cut/map/power-back-on?incidentId=INCD-224624-Z",
         "PostcodeData": [
          {
           "Center": {
            "lat": 51.62537,
            "lng": -0.16537
           },
           "Postcode": "N20 0"
          }
         ],
         "PostcodesRemaining": [],
         "PowerCutType": "Restored",
         "ServiceDown": false
        },
        {
         "PanelContentUrl": "/power-cut/map/power-back-on?incidentId=INCD-226194-Z",
         "PostcodeData": [],
         "PostcodesRemaining": [],
         "PowerCutType": "Restored",
         "ServiceDown": false
        },
        {
         "PanelContentUrl": "/power-cut/map/power-back-on?incidentId=INCD-224602-Z",
         "PostcodeData": [],
         "PostcodesRemaining": [],
         "PowerCutType": "Restored",
         "ServiceDown": false
        },
        {
         "PanelContentUrl": "/power-cut/map/power-back-on?incidentId=INCD-258457-J",
         "PostcodeData": [
          {
           "Center": {
            "lat": 51.56927,
            "lng": -0.12898
           },
           "Postcode": "N19 3"
          },
          {
           "Center": {
            "lat": 51.56052,
            "lng": -0.12833
           },
           "Postcode": "N19 4"
          }
         ],
         "PostcodesRemaining": [],
         "PowerCutType": "Restored",
         "ServiceDown": false
        },
        {
         "PanelContentUrl": "/power-cut/map/power-back-on?incidentId=INCD-53072-V",
         "PostcodeData": [
          {
           "Center": {
            "lat": 51.27615,
            "lng": 0.52323
           },
           "Postcode": "ME14 1"
          }
         ],
         "PostcodesRemaining": [],
         "PowerCutType": "Restored",
         "ServiceDown": false
        },
        {
         "PanelContentUrl": "/power-cut/map/power-back-on?incidentId=INCD-53065-V",
         "PostcodeData": [
          {
           "Center": {
            "lat": 51.25451,
            "lng": 0.39148
           },
           "Postcode": "ME18 5"
          }
         ],
         "PostcodesRemaining": [],
         "PowerCutType": "Restored",
         "ServiceDown": false
        },
        {
         "PanelContentUrl": "/power-cut/map/power-back-on?incidentId=INCD-53068-V",
         "PostcodeData": [],
         "PostcodesRemaining": [],
         "PowerCutType": "Restored",
         "ServiceDown": false
        },
        {
         "PanelContentUrl": "/power-cut/map/power-back-on?incidentId=INCD-247211-G",
         "PostcodeData": [],
         "PostcodesRemaining": [],
         "PowerCutType": "Restored",
         "ServiceDown": false
        },
        {
         "PanelContentUrl": "/power-cut/map/power-back-on?incidentId=INCD-258542-J",
         "PostcodeData": [
          {
           "Center": {
            "lat": 51.52417,
            "lng": -0.12275
           },
           "Postcode": "WC1N 1"
          },
          {
           "Center": {
            "lat": 51.52533,
            "lng": -0.11917
           },
           "Postcode": "WC1N 2"
          },
          {
           "Center": {
            "lat": 51.52477,
            "lng": -0.11626
           },
           "Postcode": "WC1X 8"
          }
         ],
         "PostcodesRemaining": [],
         "PowerCutType": "Restored",
         "ServiceDown": false
        },
        {
         "PanelContentUrl": "/power-cut/map/power-back-on?incidentId=INCD-258561-J",
         "PostcodeData": [],
         "PostcodesRemaining": [],
         "PowerCutType": "Restored",
         "ServiceDown": false
        },
        {
         "PanelContentUrl": "/power-cut/map/power-back-on?incidentId=INCD-226850-Z",
         "PostcodeData": [
          {
           "Center": {
            "lat": 51.65744,
            "lng": -0.06813
           },
           "Postcode": "EN1 3"
          }
         ],
         "PostcodesRemaining": [],
         "PowerCutType": "Restored",
         "ServiceDown": false
        },
        {
         "PanelContentUrl": "/power-cut/map/power-back-on?incidentId=INCD-225793-Z",
         "PostcodeData": [
          {
           "Center": {
            "lat": 51.55425,
            "lng": 0.16065
           },
           "Postcode": "RM10 7"
          },
          {
           "Center": {
            "lat": 51.54396,
            "lng": 0.16402
           },
           "Postcode": "RM10 8"
          }
         ],
         "PostcodesRemaining": [],
         "PowerCutType": "Restored",
         "ServiceDown": false
        },
        {
         "PanelContentUrl": "/power-cut/map/power-back-on?incidentId=INCD-258513-J",
         "PostcodeData": [
          {
           "Center": {
            "lat": 51.5135,
            "lng": -0.21627
           },
           "Postcode": "W11 1"
          }
         ],
         "PostcodesRemaining": [],
         "PowerCutType": "Restored",
         "ServiceDown": false
        },
        {
         "PanelContentUrl": "/power-cut/map/power-back-on?incidentId=INCD-43535-C",
         "PostcodeData": [
          {
           "Center": {
            "lat": 51.70834,
            "lng": -0.13592
           },
           "Postcode": "EN6 4"
          }
         ],
         "PostcodesRemaining": [],
         "PowerCutType": "Restored",
         "ServiceDown": false
        },
        {
         "PanelContentUrl": "/power-cut/map/planned-work?incidentId=INCD-221991-Z",
         "PostcodeData": [
          {
           "Center": {
            "lat": 51.69081,
            "lng": 0.10096
           },
           "Postcode": "CM16 4"
          },
          {
           "Center": {
            "lat": 51.69388,
            "lng": 0.08056
           },
           "Postcode": "CM16 5"
          },
          {
           "Center": {
            "lat": 51.72184,
            "lng": 0.1282
           },
           "Postcode": "CM16 6"
          }
         ],
         "PostcodesRemaining": [],
         "PowerCutType": "Planned",
         "ServiceDown": false
        },
        {
         "PanelContentUrl": "/power-cut/map/planned-work?incidentId=INCD-51378-V",
         "PostcodeData": [],
         "PostcodesRemaining": [],
         "PowerCutType": "Planned",
         "ServiceDown": false
        },
        {
         "PanelContentUrl": "/power-cut/map/planned-work?incidentId=INCD-6549-O",
         "PostcodeData": [
          {
           "Center": {
            "lat": 51.86507,
            "lng": 0.96232
           },
           "Postcode": "CO7 9"
          }
         ],
         "PostcodesRemaining": [],
         "PowerCutType": "Planned",
         "ServiceDown": false
        },
        {
         "PanelContentUrl": "/power-cut/map/planned-work?incidentId=INCD-51163-V",
         "PostcodeData": [],
         "PostcodesRemaining": [],
         "PowerCutType": "Planned",
         "ServiceDown": false
        },
        {
         "PanelContentUrl": "/power-cut/map/planned-work?incidentId=INCD-50428-V",
         "PostcodeData": [
          {
           "Center": {
            "lat": 51.23826,
            "lng": -0.11123
           },
           "Postcode": "RH1 4"
          }
         ],
         "PostcodesRemaining": [],
         "PowerCutType": "Planned",
         "ServiceDown": false
        },
        {
         "PanelContentUrl": "/power-cut/map/planned-work?incidentId=INCD-222006-Z",
         "PostcodeData": [],
         "PostcodesRemaining": [],
         "PowerCutType": "Planned",
         "ServiceDown": false
        },
        {
         "PanelContentUrl": "/power-cut/map/planned-work?incidentId=INCD-51493-V",
         "PostcodeData": [
          {
           "Center": {
            "lat": 51.21487,
            "lng": 1.24818
           },
           "Postcode": "CT15 4"
          }
         ],
         "PostcodesRemaining": [],
         "PowerCutType": "Planned",
         "ServiceDown": false
        },
        {
         "PanelContentUrl": "/power-cut/map/planned-work?incidentId=INCD-221124-Z",
         "PostcodeData": [
          {
           "Center": {
            "lat": 51.59399,
            "lng": 0.5353
           },
           "Postcode": "SS12 9"
          }
         ],
         "PostcodesRemaining": [],
         "PowerCutType": "Planned",
         "ServiceDown": false
        },
        {
         "PanelContentUrl": "/power-cut/map/planned-work?incidentId=INCD-51291-V",
         "PostcodeData": [
          {
           "Center": {
            "lat": 50.90041,
            "lng": 0.62094
           },
           "Postcode": "TN35 4"
          }
         ],
         "PostcodesRemaining": [],
         "PowerCutType": "Planned",
         "ServiceDown": false
        },
        {
         "PanelContentUrl": "/power-cut/map/planned-work?incidentId=INCD-5880-O",
         "PostcodeData": [
          {
           "Center": {
            "lat": 52.41296,
            "lng": 1.13864
           },
           "Postcode": "IP22 5"
          }
         ],
         "PostcodesRemaining": [],
         "PowerCutType": "Planned",
         "ServiceDown": false
        },
        {
         "PanelContentUrl": "/power-cut/map/planned-work?incidentId=INCD-6538-O",
         "PostcodeData": [
          {
           "Center": {
            "lat": 51.52863,
            "lng": 0.41127
           },
           "Postcode": "SS17 8"
          },
          {
           "Center": {
            "lat": 51.51386,
            "lng": 0.36306
           },
           "Postcode": "RM16 3"
          }
         ],
         "PostcodesRemaining": [],
         "PowerCutType": "Planned",
         "ServiceDown": false
        },
        {
         "PanelContentUrl": "/power-cut/map/planned-work?incidentId=INCD-47144-V",
         "PostcodeData": [
          {
           "Center": {
            "lat": 51.09507,
            "lng": -0.40714
           },
           "Postcode": "RH12 3"
          }
         ],
         "PostcodesRemaining": [],
         "PowerCutType": "Planned",
         "ServiceDown": false
        },
        {
         "PanelContentUrl": "/power-cut/map/planned-work?incidentId=INCD-6344-O",
         "PostcodeData": [
          {
           "Center": {
            "lat": 51.8124,
            "lng": -0.12413
           },
           "Postcode": "SG14 2"
          },
          {
           "Center": {
            "lat": 51.84942,
            "lng": -0.10437
           },
           "Postcode": "SG14 3"
          }
         ],
         "PostcodesRemaining": [],
         "PowerCutType": "Planned",
         "ServiceDown": false
        },
        {
         "PanelContentUrl": "/power-cut/map/planned-work?incidentId=INCD-6142-O",
         "PostcodeData": [
          {
           "Center": {
            "lat": 52.2071,
            "lng": 0.52259
           },
           "Postcode": "CB8 8"
          }
         ],
         "PostcodesRemaining": [],
         "PowerCutType": "Planned",
         "ServiceDown": false
        },
        {
         "PanelContentUrl": "/power-cut/map/planned-work?incidentId=INCD-6383-O",
         "PostcodeData": [
          {
           "Center": {
            "lat": 52.07328,
            "lng": 0.06754
           },
           "Postcode": "SG8 7"
          },
          {
           "Center": {
            "lat": 52.02751,
            "lng": -0.05145
           },
           "Postcode": "SG8 9"
          }
         ],
         "PostcodesRemaining": [],
         "PowerCutType": "Planned",
         "ServiceDown": false
        },
        {
         "PanelContentUrl": "/power-cut/map/planned-work?incidentId=INCD-6091-O",
         "PostcodeData": [
          {
           "Center": {
            "lat": 52.02063,
            "lng": 0.52622
           },
           "Postcode": "CO9 4"
          }
         ],
         "PostcodesRemaining": [],
         "PowerCutType": "Planned",
         "ServiceDown": false
        },
        {
         "PanelContentUrl": "/power-cut/map/planned-work?incidentId=INCD-6516-O",
         "PostcodeData": [
          {
           "Center": {
            "lat": 52.64091,
            "lng": 0.25905
           },
           "Postcode": "PE14 8"
          }
         ],
         "PostcodesRemaining": [],
         "PowerCutType": "Planned",
         "ServiceDown": false
        },
        {
         "IncidentsCount": 2,
         "PanelContentUrl": "/power-cut/map/multiple?postcodeSector=ME20 7",
         "PostcodeData": [
          {
           "Center": {
            "lat": 51.31432,
            "lng": 0.49166
           },
           "Postcode": "ME20 7"
          }
         ],
         "PostcodesRemaining": [],
         "PowerCutType": "Multiple",
         "ServiceDown": false
        },
        {
         "IncidentsCount": 2,
         "PanelContentUrl": "/power-cut/map/multiple?postcodeSector=CT3 2",
         "PostcodeData": [
          {
           "Center": {
            "lat": 51.29339,
            "lng": 1.28172
           },
           "Postcode": "CT3 2"
          }
         ],
         "PostcodesRemaining": [],
         "PowerCutType": "Multiple",
         "ServiceDown": false
        },
        {
         "IncidentsCount": 2,
         "PanelContentUrl": "/power-cut/map/multiple?postcodeSector=CO9 2",
         "PostcodeData": [
          {
           "Center": {
            "lat": 51.97199,
            "lng": 0.66224
           },
           "Postcode": "CO9 2"
          }
         ],
         "PostcodesRemaining": [],
         "PowerCutType": "Multiple",
         "ServiceDown": false
        },
        {
         "IncidentsCount": 2,
         "PanelContentUrl": "/power-cut/map/multiple?postcodeSector=TN14 7",
         "PostcodeData": [
          {
           "Center": {
            "lat": 51.32711,
            "lng": 0.13323
           },
           "Postcode": "TN14 7"
          }
         ],
         "PostcodesRemaining": [],
         "PowerCutType": "Multiple",
         "ServiceDown": false
        },
        {
         "IncidentsCount": 2,
         "PanelContentUrl": "/power-cut/map/multiple?postcodeSector=HA9 9",
         "PostcodeData": [
          {
           "Center": {
            "lat": 51.56906,
            "lng": -0.2785
           },
           "Postcode": "HA9 9"
          }
         ],
         "PostcodesRemaining": [],
         "PowerCutType": "Multiple",
         "ServiceDown": false
        },
        {
         "IncidentsCount": 2,
         "PanelContentUrl": "/power-cut/map/multiple?postcodeSector=BN6 9",
         "PostcodeData": [
          {
           "Center": {
            "lat": 50.93321,
            "lng": -0.18324
           },
           "Postcode": "BN6 9"
          }
         ],
         "PostcodesRemaining": [],
         "PowerCutType": "Multiple",
         "ServiceDown": false
        },
        {
         "IncidentsCount": 2,
         "PanelContentUrl": "/power-cut/map/multiple?postcodeSector=SE22 0",
         "PostcodeData": [
          {
           "Center": {
            "lat": 51.45182,
            "lng": -0.06377
           },
           "Postcode": "SE22 0"
          }
         ],
         "PostcodesRemaining": [],
         "PowerCutType": "Multiple",
         "ServiceDown": false
        },
        {
         "IncidentsCount": 2,
         "PanelContentUrl": "/power-cut/map/multiple?postcodeSector=SE22 9",
         "PostcodeData": [
          {
           "Center": {
            "lat": 51.45718,
            "lng": -0.07161
           },
           "Postcode": "SE22 9"
          }
         ],
         "PostcodesRemaining": [],
         "PowerCutType": "Multiple",
         "ServiceDown": false
        },
        {
         "IncidentsCount": 2,
         "PanelContentUrl": "/power-cut/map/multiple?postcodeSector=RH1 5",
         "PostcodeData": [
          {
           "Center": {
            "lat": 51.20533,
            "lng": -0.13426
           },
           "Postcode": "RH1 5"
          }
         ],
         "PostcodesRemaining": [],
         "PowerCutType": "Multiple",
         "ServiceDown": false
        },
        {
         "IncidentsCount": 2,
         "PanelContentUrl": "/power-cut/map/multiple?postcodeSector=EN2 6",
         "PostcodeData": [
          {
           "Center": {
            "lat": 51.65137,
            "lng": -0.08576
           },
           "Postcode": "EN2 6"
          }
         ],
         "PostcodesRemaining": [],
         "PowerCutType": "Multiple",
         "ServiceDown": false
        },
        {
         "IncidentsCount": 2,
         "PanelContentUrl": "/power-cut/map/multiple?postcodeSector=SS2 5",
         "PostcodeData": [
          {
           "Center": {
            "lat": 51.55496,
            "lng": 0.71608
           },
           "Postcode": "SS2 5"
          }
         ],
         "PostcodesRemaining": [],
         "PowerCutType": "Multiple",
         "ServiceDown": false
        },
        {
         "IncidentsCount": 2,
         "PanelContentUrl": "/power-cut/map/multiple?postcodeSector=TN31 6",
         "PostcodeData": [
          {
           "Center": {
            "lat": 50.96766,
            "lng": 0.63563
           },
           "Postcode": "TN31 6"
          }
         ],
         "PostcodesRemaining": [],
         "PowerCutType": "Multiple",
         "ServiceDown": false
        },
        {
         "IncidentsCount": 2,
         "PanelContentUrl": "/power-cut/map/multiple?postcodeSector=EN9 3",
         "PostcodeData": [
          {
           "Center": {
            "lat": 51.68305,
            "lng": 0.03325
           },
           "Postcode": "EN9 3"
          }
         ],
         "PostcodesRemaining": [],
         "PowerCutType": "Multiple",
         "ServiceDown": false
        },
        {
         "IncidentsCount": 2,
         "PanelContentUrl": "/power-cut/map/multiple?postcodeSector=KT19 9",
         "PostcodeData": [
          {
           "Center": {
            "lat": 51.35668,
            "lng": -0.27117
           },
           "Postcode": "KT19 9"
          }
         ],
         "PostcodesRemaining": [],
         "PowerCutType": "Multiple",
         "ServiceDown": false
        }
       ],
       "IsCached": false,
       "PollingInterval": 5000,
       "ServiceDown": false,
       "TwitterFeeds": []
      },
      "text/plain": [
       "<IPython.core.display.JSON object>"
      ]
     },
     "execution_count": 3,
     "metadata": {
      "application/json": {
       "expanded": false,
       "root": "root"
      }
     },
     "output_type": "execute_result"
    }
   ],
   "source": [
    "incidents_url = 'https://www.ukpowernetworks.co.uk/Incidents/GetIncidents'\n",
    "\n",
    "r_json = requests.get(incidents_url).json()\n",
    "\n",
    "JSON(r_json)"
   ]
  },
  {
   "cell_type": "markdown",
   "id": "refined-static",
   "metadata": {},
   "source": [
    "<br>\n",
    "\n",
    "We'll now extract the incident ids as we can use them to generate the url for the JSON endpoint with the incident data. Items where the `PowerCutType` is set to `Multiple` have been purposefully removed, this is because they don't include an incident id (but we'll handle them next)."
   ]
  },
  {
   "cell_type": "code",
   "execution_count": 4,
   "id": "announced-postage",
   "metadata": {},
   "outputs": [],
   "source": [
    "#exports\n",
    "extract_single_incident_ids = lambda r_json: [\n",
    "    incident['PanelContentUrl'].split('incidentId=')[1] \n",
    "    for incident \n",
    "    in r_json['Incidents'] \n",
    "    if incident['PowerCutType'] != 'Multiple'\n",
    "]"
   ]
  },
  {
   "cell_type": "code",
   "execution_count": 5,
   "id": "delayed-northwest",
   "metadata": {},
   "outputs": [
    {
     "data": {
      "application/json": [
       [
        "INCD-53064-V",
        "INCD-247216-G",
        "INCD-226958-Z",
        "INCD-226909-Z",
        "INCD-226943-Z",
        "INCD-258599-J",
        "INCD-258554-J",
        "INCD-53056-V",
        "INCD-227015-Z",
        "INCD-52514-V",
        "INCD-51304-V",
        "INCD-226975-Z",
        "INCD-226814-Z",
        "INCD-258551-J",
        "INCD-226968-Z",
        "INCD-57916-N",
        "INCD-258418-J",
        "INCD-258539-J",
        "INCD-226928-Z",
        "INCD-53087-V",
        "INCD-258618-J",
        "INCD-226903-Z",
        "INCD-247224-G",
        "INCD-258610-J",
        "INCD-227011-Z",
        "INCD-53069-V",
        "INCD-224761-Z",
        "INCD-222446-Z",
        "INCD-246135-G",
        "INCD-221975-Z",
        "INCD-247193-G",
        "INCD-247066-G",
        "INCD-247074-G",
        "INCD-226954-Z",
        "INCD-245902-G",
        "INCD-175468-Z",
        "INCD-258574-J",
        "INCD-43549-C",
        "INCD-258582-J",
        "INCD-226932-Z",
        "INCD-226845-Z",
        "INCD-226695-Z",
        "INCD-52704-V",
        "INCD-52505-V",
        "INCD-258577-J",
        "INCD-226959-Z",
        "INCD-258579-J",
        "INCD-226675-Z",
        "INCD-223379-Z",
        "INCD-226916-Z",
        "INCD-224624-Z",
        "INCD-226194-Z",
        "INCD-224602-Z",
        "INCD-258457-J",
        "INCD-53072-V",
        "INCD-53065-V",
        "INCD-53068-V",
        "INCD-247211-G",
        "INCD-258542-J",
        "INCD-258561-J",
        "INCD-226850-Z",
        "INCD-225793-Z",
        "INCD-258513-J",
        "INCD-43535-C",
        "INCD-221991-Z",
        "INCD-51378-V",
        "INCD-6549-O",
        "INCD-51163-V",
        "INCD-50428-V",
        "INCD-222006-Z",
        "INCD-51493-V",
        "INCD-221124-Z",
        "INCD-51291-V",
        "INCD-5880-O",
        "INCD-6538-O",
        "INCD-47144-V",
        "INCD-6344-O",
        "INCD-6142-O",
        "INCD-6383-O",
        "INCD-6091-O",
        "INCD-6516-O"
       ]
      ],
      "text/plain": [
       "<IPython.core.display.JSON object>"
      ]
     },
     "execution_count": 5,
     "metadata": {
      "application/json": {
       "expanded": false,
       "root": "root"
      }
     },
     "output_type": "execute_result"
    }
   ],
   "source": [
    "single_incident_ids = extract_single_incident_ids(r_json)\n",
    "\n",
    "JSON([single_incident_ids])"
   ]
  },
  {
   "cell_type": "markdown",
   "id": "parental-tradition",
   "metadata": {},
   "source": [
    "<br>\n",
    "\n",
    "For the `Multiple` items we'll extract the url for the incidents metadata, which includes the ids within them."
   ]
  },
  {
   "cell_type": "code",
   "execution_count": 6,
   "id": "sensitive-calgary",
   "metadata": {},
   "outputs": [],
   "source": [
    "#exports\n",
    "extract_multiple_incident_urls = lambda r_json: [\n",
    "    f\"https://www.ukpowernetworks.co.uk{incident['PanelContentUrl']}\"\n",
    "    for incident \n",
    "    in r_json['Incidents'] \n",
    "    if incident['PowerCutType'] == 'Multiple'\n",
    "]"
   ]
  },
  {
   "cell_type": "code",
   "execution_count": 7,
   "id": "limiting-lancaster",
   "metadata": {},
   "outputs": [
    {
     "data": {
      "application/json": [
       [
        "https://www.ukpowernetworks.co.uk/power-cut/map/multiple?postcodeSector=ME20 7",
        "https://www.ukpowernetworks.co.uk/power-cut/map/multiple?postcodeSector=CT3 2",
        "https://www.ukpowernetworks.co.uk/power-cut/map/multiple?postcodeSector=CO9 2",
        "https://www.ukpowernetworks.co.uk/power-cut/map/multiple?postcodeSector=TN14 7",
        "https://www.ukpowernetworks.co.uk/power-cut/map/multiple?postcodeSector=HA9 9",
        "https://www.ukpowernetworks.co.uk/power-cut/map/multiple?postcodeSector=BN6 9",
        "https://www.ukpowernetworks.co.uk/power-cut/map/multiple?postcodeSector=SE22 0",
        "https://www.ukpowernetworks.co.uk/power-cut/map/multiple?postcodeSector=SE22 9",
        "https://www.ukpowernetworks.co.uk/power-cut/map/multiple?postcodeSector=RH1 5",
        "https://www.ukpowernetworks.co.uk/power-cut/map/multiple?postcodeSector=EN2 6",
        "https://www.ukpowernetworks.co.uk/power-cut/map/multiple?postcodeSector=SS2 5",
        "https://www.ukpowernetworks.co.uk/power-cut/map/multiple?postcodeSector=TN31 6",
        "https://www.ukpowernetworks.co.uk/power-cut/map/multiple?postcodeSector=EN9 3",
        "https://www.ukpowernetworks.co.uk/power-cut/map/multiple?postcodeSector=KT19 9"
       ]
      ],
      "text/plain": [
       "<IPython.core.display.JSON object>"
      ]
     },
     "execution_count": 7,
     "metadata": {
      "application/json": {
       "expanded": false,
       "root": "root"
      }
     },
     "output_type": "execute_result"
    }
   ],
   "source": [
    "multiple_incident_urls = extract_multiple_incident_urls(r_json)\n",
    "\n",
    "JSON([multiple_incident_urls])"
   ]
  },
  {
   "cell_type": "code",
   "execution_count": null,
   "id": "thrown-connection",
   "metadata": {},
   "outputs": [],
   "source": []
  },
  {
   "cell_type": "code",
   "execution_count": 8,
   "id": "electric-gothic",
   "metadata": {},
   "outputs": [],
   "source": [
    "#exports\n",
    "def extract_multiple_incident_ids(multiple_incident_urls):\n",
    "    incident_ids = []\n",
    "\n",
    "    for multiple_incident_url in track(multiple_incident_urls, label='Multiple Ids'):\n",
    "        r = requests.get(multiple_incident_url)\n",
    "        soup = bs(r.text, features='lxml')\n",
    "\n",
    "        incident_ids += [\n",
    "            link['data-url'].split('incidentId=')[1] \n",
    "            for link \n",
    "            in soup.find('div', {'class': 'multiple-incidents--wrapper mb-4'}).findAll('a')\n",
    "        ]\n",
    "        \n",
    "    return incident_ids"
   ]
  },
  {
   "cell_type": "code",
   "execution_count": 9,
   "id": "optional-chair",
   "metadata": {},
   "outputs": [
    {
     "data": {
      "text/html": [
       "<div><span class=\"Text-label\" style=\"display:inline-block; overflow:hidden; white-space:nowrap; text-overflow:ellipsis; min-width:15ex; max-width:15ex; vertical-align:middle; text-align:right\">Multiple Ids</span>\n",
       "<progress style=\"width:45ex\" max=\"14\" value=\"14\" class=\"Progress-main\"/></progress>\n",
       "<span class=\"Progress-label\"><strong>100%</strong></span>\n",
       "<span class=\"Iteration-label\">14/14</span>\n",
       "<span class=\"Time-label\">[00:03<00:00, 0.25s/it]</span></div>"
      ],
      "text/plain": [
       "\u001b[A\u001b[2K\r",
       "   Multiple Ids [█████████████████████████████████████████████] 14/14 [00:03<00:00, 0.25s/it]"
      ]
     },
     "metadata": {},
     "output_type": "display_data"
    },
    {
     "data": {
      "text/plain": [
       "['INCD-53064-V',\n",
       " 'INCD-247193-G',\n",
       " 'INCD-247216-G',\n",
       " 'INCD-51378-V',\n",
       " 'INCD-227015-Z']"
      ]
     },
     "execution_count": 9,
     "metadata": {},
     "output_type": "execute_result"
    }
   ],
   "source": [
    "multiple_incident_ids = extract_multiple_incident_ids(multiple_incident_urls)\n",
    "\n",
    "multiple_incident_ids[:5]"
   ]
  },
  {
   "cell_type": "code",
   "execution_count": null,
   "id": "peaceful-soccer",
   "metadata": {},
   "outputs": [],
   "source": []
  },
  {
   "cell_type": "code",
   "execution_count": 10,
   "id": "considered-feature",
   "metadata": {},
   "outputs": [],
   "source": [
    "#exports\n",
    "get_incident_detail_url = lambda incident_id: f'https://www.ukpowernetworks.co.uk/Incidents/getincidentdetails?incidentid={incident_id}'"
   ]
  },
  {
   "cell_type": "code",
   "execution_count": 36,
   "id": "juvenile-folder",
   "metadata": {},
   "outputs": [
    {
     "data": {
      "application/json": {
       "FullPostcodeData": [
        "ME207GB",
        "ME207GQ",
        "ME207JG",
        "ME207JH",
        "ME207JL",
        "ME207JN",
        "ME207JQ",
        "ME207JR",
        "ME207JT",
        "ME207JU",
        "ME207JX",
        "ME207JY",
        "ME207LR",
        "ME207LS",
        "ME207QS"
       ],
       "IncidentCategoryCustomerFriendlyDescription": "An underground electricity cable faulted on our high voltage network, causing an area wide power cut.",
       "IncidentReference": "INCD-247193-G",
       "IncidentTypeTBCEstimatedFriendlyDescription": "18:30 - 19:30",
       "PanelContentUrl": "/power-cut/map/power-back-on?incidentId=INCD-247193-G",
       "PinLatitude": null,
       "PinLongitude": null,
       "PostcodeData": [
        {
         "Center": {
          "lat": 51.31432,
          "lng": 0.49166
         },
         "Coordinates": [
          {
           "lat": 51.31687,
           "lng": 0.4589
          },
          {
           "lat": 51.31897,
           "lng": 0.46362
          },
          {
           "lat": 51.31838,
           "lng": 0.46616
          },
          {
           "lat": 51.31887,
           "lng": 0.46666
          },
          {
           "lat": 51.32331,
           "lng": 0.47077
          },
          {
           "lat": 51.32405,
           "lng": 0.47127
          },
          {
           "lat": 51.32554,
           "lng": 0.47215
          },
          {
           "lat": 51.32503,
           "lng": 0.47515
          },
          {
           "lat": 51.32403,
           "lng": 0.4792
          },
          {
           "lat": 51.32376,
           "lng": 0.48097
          },
          {
           "lat": 51.32355,
           "lng": 0.48126
          },
          {
           "lat": 51.32258,
           "lng": 0.48313
          },
          {
           "lat": 51.32155,
           "lng": 0.48638
          },
          {
           "lat": 51.32594,
           "lng": 0.49292
          },
          {
           "lat": 51.32612,
           "lng": 0.49346
          },
          {
           "lat": 51.32818,
           "lng": 0.4944
          },
          {
           "lat": 51.32819,
           "lng": 0.4951
          },
          {
           "lat": 51.33109,
           "lng": 0.50243
          },
          {
           "lat": 51.33105,
           "lng": 0.50283
          },
          {
           "lat": 51.33093,
           "lng": 0.50347
          },
          {
           "lat": 51.33086,
           "lng": 0.50371
          },
          {
           "lat": 51.32853,
           "lng": 0.50549
          },
          {
           "lat": 51.32854,
           "lng": 0.50569
          },
          {
           "lat": 51.327,
           "lng": 0.51049
          },
          {
           "lat": 51.32606,
           "lng": 0.50888
          },
          {
           "lat": 51.32473,
           "lng": 0.5074
          },
          {
           "lat": 51.32251,
           "lng": 0.50888
          },
          {
           "lat": 51.32166,
           "lng": 0.50721
          },
          {
           "lat": 51.31948,
           "lng": 0.50788
          },
          {
           "lat": 51.31873,
           "lng": 0.51073
          },
          {
           "lat": 51.3222,
           "lng": 0.51269
          },
          {
           "lat": 51.32385,
           "lng": 0.51854
          },
          {
           "lat": 51.31549,
           "lng": 0.52711
          },
          {
           "lat": 51.3146,
           "lng": 0.52876
          },
          {
           "lat": 51.31405,
           "lng": 0.52861
          },
          {
           "lat": 51.31262,
           "lng": 0.52556
          },
          {
           "lat": 51.31134,
           "lng": 0.50866
          },
          {
           "lat": 51.30828,
           "lng": 0.50869
          },
          {
           "lat": 51.30736,
           "lng": 0.50831
          },
          {
           "lat": 51.30503,
           "lng": 0.50457
          },
          {
           "lat": 51.30432,
           "lng": 0.50462
          },
          {
           "lat": 51.30211,
           "lng": 0.50133
          },
          {
           "lat": 51.29794,
           "lng": 0.50016
          },
          {
           "lat": 51.29785,
           "lng": 0.49875
          },
          {
           "lat": 51.29761,
           "lng": 0.49726
          },
          {
           "lat": 51.29979,
           "lng": 0.49517
          },
          {
           "lat": 51.29995,
           "lng": 0.49352
          },
          {
           "lat": 51.30009,
           "lng": 0.49196
          },
          {
           "lat": 51.30016,
           "lng": 0.49122
          },
          {
           "lat": 51.30035,
           "lng": 0.48918
          },
          {
           "lat": 51.30077,
           "lng": 0.48475
          },
          {
           "lat": 51.30106,
           "lng": 0.48403
          },
          {
           "lat": 51.30124,
           "lng": 0.48359
          },
          {
           "lat": 51.30245,
           "lng": 0.48062
          },
          {
           "lat": 51.3031,
           "lng": 0.47901
          },
          {
           "lat": 51.30346,
           "lng": 0.47813
          },
          {
           "lat": 51.30361,
           "lng": 0.47775
          },
          {
           "lat": 51.30412,
           "lng": 0.47651
          },
          {
           "lat": 51.30453,
           "lng": 0.47434
          },
          {
           "lat": 51.30567,
           "lng": 0.46825
          },
          {
           "lat": 51.30655,
           "lng": 0.46358
          },
          {
           "lat": 51.31136,
           "lng": 0.4614
          },
          {
           "lat": 51.31687,
           "lng": 0.4589
          }
         ],
         "Postcode": "ME20 7"
        }
       ],
       "PostcodesRemaining": [
        "ME20 7"
       ],
       "PowerCutType": "Restored",
       "Scope": null,
       "ServiceDown": false,
       "ServiceDownUrl": null,
       "Steps": [
        {
         "Active": false,
         "Date": "2021-03-23T15:55:23",
         "Message": "<p>We became aware of this power cut at 15:55. We’re sorry for any disruption this may have caused you. We didn’t know in advance there would be a power cut, but now that we know, our teams will do everything they can to get your power back quickly. Engineers in our control room have switched some customers power back on in your area. To get everyone’s power back on we may need to attend to investigate and make repairs. We’ll continue to update you until everyone’s power is back on.</p>",
         "Name": "We are restoring customers automatically"
        },
        {
         "Active": false,
         "Date": "2021-03-24T12:32:33",
         "Message": "<p>We have engineers on their way. As this is affecting your area, they will not need to attend your property. Rest assured once they arrive, they&rsquo;ll work as quickly as is safely possible to get your power back on.</p>",
         "Name": "Engineers on their way"
        },
        {
         "Active": false,
         "Date": "2021-03-24T12:32:36",
         "Message": "<p>Engineers are now on site, carrying out investigations into the fault. Once they have completed their assessment, they will carry out repairs.</p>",
         "Name": "Engineers investigating and fixing"
        },
        {
         "Active": true,
         "Date": "2021-03-24T11:49:46.4",
         "Message": "<p>All power in the area should be back on. We’re really sorry for any disruption this caused.</p>",
         "Name": "Power restored"
        }
       ],
       "UKPNIncident": {
        "AffectedCustomers": [],
        "CreationDateTime": "2021-03-23T15:55:30",
        "CustomersOffSupply": 0,
        "CustomersOnSupply": 268,
        "EstimatedRestorationDate": "2021-03-23T19:00:00",
        "IncidentCategory": "61",
        "IncidentId": "G0003c599INCD",
        "IncidentPriority": 10,
        "IncidentReference": "INCD-247193-G",
        "IncidentType": 3,
        "IncidentTypeName": "Restored",
        "Latitude": 0,
        "Logs": [],
        "Longitude": 0,
        "NoCallsReported": 0,
        "NoCustomerAffected": 0,
        "NoPlannedCustomers": 0,
        "PlannedDate": null,
        "PlannedIncidentReason": "",
        "PostCodesAffected": [
         "ME20 7"
        ],
        "PostCodesPlanned": [
         "ME207GB",
         "ME207GQ",
         "ME207JG",
         "ME207JH",
         "ME207JL",
         "ME207JN",
         "ME207JQ",
         "ME207JR",
         "ME207JT",
         "ME207JU",
         "ME207JX",
         "ME207JY",
         "ME207LR",
         "ME207LS",
         "ME207QS"
        ],
        "PostCodesRestored": [
         "ME207GB",
         "ME207GQ",
         "ME207JG",
         "ME207JH",
         "ME207JL",
         "ME207JN",
         "ME207JQ",
         "ME207JR",
         "ME207JT",
         "ME207JU",
         "ME207JX",
         "ME207JY",
         "ME207LR",
         "ME207LS",
         "ME207QS"
        ],
        "ReceivedDate": "2021-03-23T15:55:23",
        "Resource": {
         "ArrivalDate": "2021-03-24T12:32:36",
         "DispatchedDate": "2021-03-24T12:32:33",
         "EstimatedTimeOfArrival": "0001-01-01T00:00:00",
         "Id": null,
         "Name": "PHIL",
         "StatusId": 6
        },
        "RestoredDateTime": "2021-03-24T11:49:46.4",
        "Scope": null,
        "StatusId": 5,
        "Timestamp": "2021:03:24:12:33:03:70"
       }
      },
      "text/plain": [
       "<IPython.core.display.JSON object>"
      ]
     },
     "execution_count": 36,
     "metadata": {
      "application/json": {
       "expanded": false,
       "root": "root"
      }
     },
     "output_type": "execute_result"
    }
   ],
   "source": [
    "incident_id = multiple_incident_ids[1]\n",
    "\n",
    "incident_detail_url = get_incident_detail_url(incident_id)\n",
    "r_json = requests.get(incident_detail_url).json()\n",
    "\n",
    "JSON(r_json)"
   ]
  },
  {
   "cell_type": "code",
   "execution_count": null,
   "id": "genetic-sheffield",
   "metadata": {},
   "outputs": [],
   "source": []
  },
  {
   "cell_type": "code",
   "execution_count": 37,
   "id": "varied-fourth",
   "metadata": {},
   "outputs": [],
   "source": [
    "#exports\n",
    "def extract_relevant_info(r_json):\n",
    "    incident_info = {\n",
    "        'incident_active': r_json['ServiceDown'],\n",
    "        'restored_time': r_json['UKPNIncident']['RestoredDateTime'],\n",
    "        'estimated_restored_time': r_json['UKPNIncident']['EstimatedRestorationDate'],\n",
    "        'planned_time': r_json['UKPNIncident']['PlannedDate'],\n",
    "        'received_time': r_json['UKPNIncident']['ReceivedDate'],\n",
    "        'postcodes_impacted': r_json['FullPostcodeData'],\n",
    "        'description': r_json['IncidentCategoryCustomerFriendlyDescription']\n",
    "    }\n",
    "    \n",
    "    return incident_info"
   ]
  },
  {
   "cell_type": "code",
   "execution_count": 38,
   "id": "northern-standard",
   "metadata": {},
   "outputs": [
    {
     "data": {
      "application/json": {
       "description": "An underground electricity cable faulted on our high voltage network, causing an area wide power cut.",
       "estimated_restored_time": "2021-03-23T19:00:00",
       "incident_active": false,
       "planned_time": null,
       "postcodes_impacted": [
        "ME207GB",
        "ME207GQ",
        "ME207JG",
        "ME207JH",
        "ME207JL",
        "ME207JN",
        "ME207JQ",
        "ME207JR",
        "ME207JT",
        "ME207JU",
        "ME207JX",
        "ME207JY",
        "ME207LR",
        "ME207LS",
        "ME207QS"
       ],
       "received_time": "2021-03-23T15:55:23",
       "restored_time": "2021-03-24T11:49:46.4"
      },
      "text/plain": [
       "<IPython.core.display.JSON object>"
      ]
     },
     "execution_count": 38,
     "metadata": {
      "application/json": {
       "expanded": false,
       "root": "root"
      }
     },
     "output_type": "execute_result"
    }
   ],
   "source": [
    "incident_info = extract_relevant_info(r_json)\n",
    "\n",
    "JSON(incident_info)"
   ]
  },
  {
   "cell_type": "code",
   "execution_count": null,
   "id": "adaptive-leeds",
   "metadata": {},
   "outputs": [],
   "source": []
  },
  {
   "cell_type": "code",
   "execution_count": 39,
   "id": "missing-lightning",
   "metadata": {},
   "outputs": [],
   "source": [
    "#exports\n",
    "def get_ukpn_incidents_info(incidents_url='https://www.ukpowernetworks.co.uk/Incidents/GetIncidents'):\n",
    "    r_json = requests.get(incidents_url).json()\n",
    "\n",
    "    incident_ids = (\n",
    "        extract_single_incident_ids(r_json) + \n",
    "        extract_multiple_incident_ids(extract_multiple_incident_urls(r_json))\n",
    "    )\n",
    "    \n",
    "    raw_incidents_info = dict()\n",
    "    cleaned_incidents_info = dict()\n",
    "\n",
    "    for incident_id in track(incident_ids, label='Details'):\n",
    "        try:\n",
    "            incident_detail_url = get_incident_detail_url(incident_id)\n",
    "            r_json = requests.get(incident_detail_url).json()\n",
    "\n",
    "            raw_incidents_info[incident_id] = r_json\n",
    "            cleaned_incidents_info[incident_id] = extract_relevant_info(r_json)\n",
    "        except:\n",
    "            warn(f'Failed to retrieve incident details for: {incident_id}')\n",
    "        \n",
    "    return raw_incidents_info, cleaned_incidents_info"
   ]
  },
  {
   "cell_type": "code",
   "execution_count": 40,
   "id": "divided-maker",
   "metadata": {},
   "outputs": [
    {
     "data": {
      "text/html": [
       "<div><span class=\"Text-label\" style=\"display:inline-block; overflow:hidden; white-space:nowrap; text-overflow:ellipsis; min-width:15ex; max-width:15ex; vertical-align:middle; text-align:right\">Multiple Ids</span>\n",
       "<progress style=\"width:45ex\" max=\"14\" value=\"14\" class=\"Progress-main\"/></progress>\n",
       "<span class=\"Progress-label\"><strong>100%</strong></span>\n",
       "<span class=\"Iteration-label\">14/14</span>\n",
       "<span class=\"Time-label\">[00:03<00:00, 0.23s/it]</span></div>"
      ],
      "text/plain": [
       "\u001b[A\u001b[2K\r",
       "   Multiple Ids [█████████████████████████████████████████████] 14/14 [00:03<00:00, 0.23s/it]"
      ]
     },
     "metadata": {},
     "output_type": "display_data"
    },
    {
     "data": {
      "text/html": [
       "<div><span class=\"Text-label\" style=\"display:inline-block; overflow:hidden; white-space:nowrap; text-overflow:ellipsis; min-width:15ex; max-width:15ex; vertical-align:middle; text-align:right\">Details</span>\n",
       "<progress style=\"width:45ex\" max=\"110\" value=\"110\" class=\"Progress-main\"/></progress>\n",
       "<span class=\"Progress-label\"><strong>100%</strong></span>\n",
       "<span class=\"Iteration-label\">110/110</span>\n",
       "<span class=\"Time-label\">[00:27<00:00, 0.24s/it]</span></div>"
      ],
      "text/plain": [
       "\u001b[A\u001b[2K\r",
       "        Details [█████████████████████████████████████████████] 110/110 [00:27<00:00, 0.24s/it]"
      ]
     },
     "metadata": {},
     "output_type": "display_data"
    },
    {
     "data": {
      "application/json": [
       {
        "INCD-175468-Z": {
         "description": "We were investigating a high voltage overhead electricity line fault which caused a power cut in the local area.",
         "estimated_restored_time": "2020-08-13T00:00:00",
         "incident_active": false,
         "planned_time": null,
         "postcodes_impacted": [
          "HP12SD",
          "HP12SE",
          "HP12SF",
          "HP12SG",
          "HP12SQ",
          "HP13BN",
          "HP13DA",
          "HP13DB",
          "HP13DD",
          "HP13DE",
          "HP13DG",
          "HP13DQ",
          "HP41NW",
          "HP41PP",
          "HP42FW",
          "HP42NF",
          "HP42NL",
          "HP42NS",
          "HP42QF",
          "HP42RF",
          "HP42RS",
          "HP42RT",
          "HP42RX",
          "HP42RY",
          "HP42SN"
         ],
         "received_time": "2020-08-12T16:09:48",
         "restored_time": "2021-03-24T07:04:09.497"
        },
        "INCD-221124-Z": {
         "description": "We're carrying out planned work in your area. For our engineers to carry it out safely they need to turn the power off. We're doing this work as it's essential to provide reliable electricity supplies to your area. We're sorry for any inconvenience caused and thank you for your patience.",
         "estimated_restored_time": "2021-03-24T15:00:00",
         "incident_active": false,
         "planned_time": "2021-03-24T09:00:00",
         "postcodes_impacted": [
          "SS129LA"
         ],
         "received_time": "2021-03-24T09:01:00",
         "restored_time": null
        },
        "INCD-221975-Z": {
         "description": "An underground electricity cable faulted on our high voltage network, causing an area wide power cut.",
         "estimated_restored_time": "2021-03-01T08:00:00",
         "incident_active": false,
         "planned_time": null,
         "postcodes_impacted": [
          "HP55HX",
          "HP55JG",
          "HP65AD",
          "HP65AE",
          "HP65AF",
          "HP65AG",
          "HP65AH",
          "HP65AL",
          "HP65AN",
          "HP65AQ",
          "HP65AR",
          "HP65AU",
          "HP65AW",
          "HP65BD",
          "HP65BT",
          "HP65BW",
          "HP65BX",
          "HP65DF",
          "HP65DP",
          "HP65DR",
          "HP65DU",
          "HP65EE",
          "HP65EF",
          "HP65EG",
          "HP65EJ",
          "HP65EL",
          "HP65EN",
          "HP65EQ",
          "HP65ES",
          "HP65EU",
          "HP65EW",
          "HP65EX",
          "HP65FE",
          "HP65FG",
          "HP65HG",
          "HP65HH",
          "HP65HL",
          "HP65HN",
          "HP65HP",
          "HP65HQ",
          "HP65HS",
          "HP65HW",
          "HP65HX",
          "HP65HY",
          "HP65HZ",
          "HP65JE",
          "HP65JG",
          "HP65JH",
          "HP65JJ",
          "HP65JL",
          "HP65JN",
          "HP65JP",
          "HP65JR",
          "HP65JS",
          "HP65JU",
          "HP65JW",
          "HP65LU",
          "HP65LX",
          "HP65NE",
          "HP65TA",
          "HP65UL",
          "HP66AA",
          "HP66AD",
          "HP66AF",
          "HP66AG",
          "HP66AJ",
          "HP66AL",
          "HP66AN",
          "HP66AQ",
          "HP66AR",
          "HP66AS",
          "HP66BB",
          "HP66BD",
          "HP66BE",
          "HP66BL",
          "HP66BW",
          "HP66DJ",
          "HP66DL",
          "HP66DP",
          "HP66DR",
          "HP66DS",
          "HP66DW",
          "HP66DZ",
          "HP66ED",
          "HP66EE",
          "HP66EF",
          "HP66EH",
          "HP66EJ",
          "HP66EP",
          "HP66EQ",
          "HP66ER",
          "HP66ES",
          "HP66FD",
          "HP66FW",
          "HP66FY",
          "HP66HB",
          "HP66HE",
          "HP66HF",
          "HP66HG",
          "HP66HH",
          "HP66HJ",
          "HP66HL",
          "HP66HQ",
          "HP66HW",
          "HP66LA",
          "HP66LB",
          "HP66LE",
          "HP66NW",
          "HP66NZ",
          "UK"
         ],
         "received_time": "2021-03-01T05:00:56",
         "restored_time": "2021-03-24T10:20:50.21"
        },
        "INCD-221991-Z": {
         "description": "We're carrying out planned work in your area. For our engineers to carry it out safely they need to turn the power off. We're doing this work as it's essential to provide reliable electricity supplies to your area. We're sorry for any inconvenience caused and thank you for your patience.",
         "estimated_restored_time": "2021-03-24T15:00:00",
         "incident_active": false,
         "planned_time": "2021-03-24T09:00:00",
         "postcodes_impacted": [
          "CM164DH",
          "CM165HH",
          "CM165HS",
          "CM166PL",
          "CM166TN",
          "EN93TH",
          "UK"
         ],
         "received_time": "2021-03-24T09:01:00",
         "restored_time": null
        },
        "INCD-222006-Z": {
         "description": "We're carrying out planned work in your area. For our engineers to carry it out safely they need to turn the power off. We're doing this work as it's essential to provide reliable electricity supplies to your area. We're sorry for any inconvenience caused and thank you for your patience.",
         "estimated_restored_time": "2021-03-24T10:00:00",
         "incident_active": false,
         "planned_time": "2021-03-24T09:00:00",
         "postcodes_impacted": [
          "CO92PB",
          "CO92PD",
          "CO92QA",
          "CO92QB",
          "CO92QD",
          "CO92SQ"
         ],
         "received_time": "2021-03-24T09:00:00",
         "restored_time": "2021-03-24T10:16:18.197"
        },
        "INCD-222446-Z": {
         "description": "Due to a faulty piece of network equipment we had to turn off your power.",
         "estimated_restored_time": "2021-03-03T14:00:00",
         "incident_active": false,
         "planned_time": null,
         "postcodes_impacted": [
          "NR231FA",
          "SG11HS",
          "SG11JY",
          "SG11LJ",
          "SG11LR",
          "SG11LS",
          "SG11LT",
          "SG11LU",
          "SG11LX",
          "SG11LY",
          "SG11NA",
          "SG11NB",
          "SG11ND",
          "SG11NL",
          "SG11NN",
          "SG11NP",
          "SG11NR",
          "SG11NS",
          "SG11NU",
          "SG11PE",
          "SG11PG",
          "SG11PH",
          "SG11PJ",
          "SG11PL",
          "SG11PQ",
          "SG11PR",
          "SG11PZ",
          "SG11QA",
          "SG11QS",
          "SG11QT",
          "SG11QU",
          "SG11QX",
          "SG11QY",
          "SG11QZ",
          "SG11RA",
          "SG11RB",
          "SG11RD",
          "SG11RE",
          "SG11RH",
          "SG11RJ",
          "SG11RR",
          "SG11UE",
          "SG11UG",
          "SG11UH",
          "SG11UL",
          "SG11UU",
          "SG11WZ",
          "SG15AA",
          "SG15AB",
          "SG15AD",
          "SG15AE",
          "SG15AF",
          "SG15AG",
          "SG15AH",
          "SG15AJ",
          "SG15AL",
          "SG15AN",
          "SG15AP",
          "SG15AQ",
          "SG15AR",
          "SG15AS",
          "SG15AW",
          "SG15BS",
          "SG15BU",
          "SG15DA",
          "SG15DB",
          "SG15DD",
          "SG15DE",
          "SG15DF",
          "SG15DG",
          "SG15DH",
          "SG15DJ",
          "SG15DL",
          "SG15DN",
          "SG15DP",
          "SG15DQ",
          "SG15DR",
          "SG15DS",
          "SG15DT",
          "SG15DW",
          "SG15ES",
          "SG15ET",
          "SG15EU",
          "SG15EX",
          "SG15HA",
          "SG15HB",
          "SG15HD",
          "SG15HE",
          "SG15HF",
          "SG15HH",
          "SG15HJ",
          "SG15HN",
          "SG15HR",
          "SG15QH",
          "SG15QU",
          "SG20AB",
          "SG20AD",
          "SG20AE",
          "SG20AG",
          "SG20AH",
          "SG20AJ",
          "SG20AL",
          "SG20AN",
          "SG20AP",
          "SG20AQ",
          "SG20AR",
          "SG20AS",
          "SG20AT",
          "SG20AU",
          "SG20AW",
          "SG20AZ",
          "SG20BA",
          "SG20BB",
          "SG20BD",
          "SG20BE",
          "SG20BG",
          "SG20BH",
          "SG20BJ",
          "SG20BN",
          "SG20BP",
          "SG20BU",
          "SG20BX",
          "SG20BY",
          "SG20BZ",
          "SG20DA",
          "SG20DB",
          "SG20DD",
          "SG20DE",
          "SG20DF",
          "SG20DG",
          "SG20LT",
          "SG20LU",
          "SG20LX",
          "SG20PZ",
          "SG28BL"
         ],
         "received_time": "2021-03-03T11:51:49",
         "restored_time": "2021-03-24T08:48:22.553"
        },
        "INCD-223379-Z": {
         "description": "A fault occurred on an underground electricity cable affecting the local area.",
         "estimated_restored_time": null,
         "incident_active": false,
         "planned_time": null,
         "postcodes_impacted": [
          "SS25FB",
          "SS25NJ",
          "SS25QF",
          "SS25QL",
          "SS25QN"
         ],
         "received_time": "2021-03-08T14:37:18",
         "restored_time": "2021-03-24T05:07:49.957"
        },
        "INCD-224602-Z": {
         "description": "We were investigating an electricity cable that was damaged, causing a power cut in the local area.",
         "estimated_restored_time": null,
         "incident_active": false,
         "planned_time": null,
         "postcodes_impacted": [
          "EN93AA",
          "EN93AB",
          "EN93AD"
         ],
         "received_time": "2021-03-12T13:15:01",
         "restored_time": "2021-03-24T11:37:21.9"
        },
        "INCD-224624-Z": {
         "description": "A fault occurred on an underground electricity cable affecting the local area.",
         "estimated_restored_time": "2021-03-12T20:00:00",
         "incident_active": false,
         "planned_time": null,
         "postcodes_impacted": [
          "N200BJ",
          "N200BP",
          "N200DG",
          "N200TX",
          "N200TZ",
          "N200UA",
          "N200UT",
          "N200UU"
         ],
         "received_time": "2021-03-12T13:58:00",
         "restored_time": "2021-03-24T07:23:17.643"
        },
        "INCD-224761-Z": {
         "description": "An underground electricity cable faulted on our high voltage network, causing an area wide power cut.",
         "estimated_restored_time": "2021-03-13T09:30:00",
         "incident_active": false,
         "planned_time": null,
         "postcodes_impacted": [
          "RM154YA",
          "RM161RG",
          "RM161RQ",
          "RM191AT",
          "RM191SD",
          "RM191SR",
          "RM191TB",
          "RM191TH",
          "RM191TL",
          "RM191TP",
          "RM191TR",
          "RM191TS",
          "RM191TT",
          "RM191TU",
          "RM203AQ",
          "RM203AT",
          "RM203BA",
          "RM203FZ",
          "RM203JQ",
          "RM203JT",
          "RM203LG",
          "RM203LH",
          "RM203NL"
         ],
         "received_time": "2021-03-13T07:16:00",
         "restored_time": "2021-03-24T07:00:57.143"
        },
        "INCD-225793-Z": {
         "description": "A fault occurred on an underground electricity cable affecting the local area.",
         "estimated_restored_time": "2021-03-18T16:30:00",
         "incident_active": false,
         "planned_time": null,
         "postcodes_impacted": [
          "RM107DL",
          "RM107UA",
          "RM107UB",
          "RM107UP",
          "RM107UR",
          "RM107UU",
          "RM107XA",
          "RM107XJ",
          "RM107XT",
          "RM108TX"
         ],
         "received_time": "2021-03-18T08:54:00",
         "restored_time": "2021-03-24T09:46:49.67"
        },
        "INCD-226194-Z": {
         "description": "A fault occurred on an underground electricity cable affecting the local area.",
         "estimated_restored_time": null,
         "incident_active": false,
         "planned_time": null,
         "postcodes_impacted": [
          "HA99BT",
          "HA99RL"
         ],
         "received_time": "2021-03-19T18:33:00",
         "restored_time": "2021-03-24T10:32:43.643"
        },
        "INCD-226675-Z": {
         "description": "A fault occurred on an underground electricity cable affecting the local area.",
         "estimated_restored_time": null,
         "incident_active": false,
         "planned_time": null,
         "postcodes_impacted": [
          "CB61PH",
          "CB62DD",
          "CB62DE",
          "CB62DF"
         ],
         "received_time": "2021-03-23T01:47:00",
         "restored_time": "2021-03-24T06:20:29.92"
        },
        "INCD-226695-Z": {
         "description": "We were investigating an electricity cable that was damaged, causing a power cut in the local area.",
         "estimated_restored_time": null,
         "incident_active": false,
         "planned_time": null,
         "postcodes_impacted": [
          "LU54DW",
          "LU54ET",
          "LU54EX",
          "LU61GA",
          "LU61JF"
         ],
         "received_time": "2021-03-23T20:28:00",
         "restored_time": "2021-03-24T11:08:43.27"
        },
        "INCD-226814-Z": {
         "description": "A fault occurred on an underground electricity cable affecting the local area.",
         "estimated_restored_time": null,
         "incident_active": false,
         "planned_time": null,
         "postcodes_impacted": [
          "MK453PB",
          "MK453PL",
          "MK453PY"
         ],
         "received_time": "2021-03-23T13:23:00",
         "restored_time": null
        },
        "INCD-226845-Z": {
         "description": "A fault occurred on an underground electricity cable affecting the local area.",
         "estimated_restored_time": "2021-03-24T02:30:00",
         "incident_active": false,
         "planned_time": null,
         "postcodes_impacted": [
          "SS25FB",
          "SS25NJ",
          "SS25PX",
          "SS25QF",
          "SS25QL",
          "SS25QN"
         ],
         "received_time": "2021-03-23T14:55:00",
         "restored_time": "2021-03-24T02:55:00"
        },
        "INCD-226850-Z": {
         "description": "A fault occurred on a piece of our electrical equipment which controls the power to your home.",
         "estimated_restored_time": null,
         "incident_active": false,
         "planned_time": null,
         "postcodes_impacted": [
          "EN13ED",
          "EN13EF",
          "EN13EG",
          "EN26BN",
          "EN26LE"
         ],
         "received_time": "2021-03-23T14:39:00",
         "restored_time": "2021-03-24T09:20:01.697"
        },
        "INCD-226903-Z": {
         "description": "A fault occurred on an underground electricity cable affecting the local area.",
         "estimated_restored_time": "2021-03-24T18:00:00",
         "incident_active": false,
         "planned_time": null,
         "postcodes_impacted": [
          "MK420TY",
          "MK420TZ",
          "MK420UY",
          "MK420UZ"
         ],
         "received_time": "2021-03-23T19:19:00",
         "restored_time": null
        },
        "INCD-226909-Z": {
         "description": "A fault occurred on an underground electricity cable affecting the local area.",
         "estimated_restored_time": "2021-03-24T13:15:00",
         "incident_active": false,
         "planned_time": null,
         "postcodes_impacted": [
          "N80AT",
          "N80BD",
          "N80BL",
          "N80BP",
          "N80BS",
          "N80BT",
          "N80BA",
          "N80BU",
          "N80ND"
         ],
         "received_time": "2021-03-23T19:30:00",
         "restored_time": null
        },
        "INCD-226916-Z": {
         "description": "A fault occurred on a piece of our electrical equipment which controls the power to your home.",
         "estimated_restored_time": null,
         "incident_active": false,
         "planned_time": null,
         "postcodes_impacted": [
          "CB11PA",
          "CB23HG",
          "CB23HH"
         ],
         "received_time": "2021-03-23T22:59:00",
         "restored_time": "2021-03-24T01:38:47.933"
        },
        "INCD-226928-Z": {
         "description": "A fault occurred on an underground electricity cable affecting the local area.",
         "estimated_restored_time": "2021-03-24T18:00:00",
         "incident_active": false,
         "planned_time": null,
         "postcodes_impacted": [
          "PE303BJ",
          "PE303EB",
          "PE303EE",
          "PE303EA"
         ],
         "received_time": "2021-03-24T01:53:00",
         "restored_time": null
        },
        "INCD-226932-Z": {
         "description": "A fault occurred on a piece of our electrical equipment which controls the power to your home.",
         "estimated_restored_time": "2021-03-24T11:30:00",
         "incident_active": false,
         "planned_time": null,
         "postcodes_impacted": [
          "HP24JL",
          "HP24JN"
         ],
         "received_time": "2021-03-24T07:34:53",
         "restored_time": "2021-03-24T10:34:19.86"
        },
        "INCD-226943-Z": {
         "description": "We had to turn off power in your area so our engineers could safely carry out emergency repairs to the network.",
         "estimated_restored_time": "2021-03-24T14:00:00",
         "incident_active": false,
         "planned_time": null,
         "postcodes_impacted": [
          "SS94AP",
          "SS94AE",
          "SS94AJ",
          "SS94AL",
          "SS94AR"
         ],
         "received_time": "2021-03-24T09:30:00",
         "restored_time": null
        },
        "INCD-226954-Z": {
         "description": "We had to turn off power in your area so our engineers could safely carry out emergency repairs to the network.",
         "estimated_restored_time": null,
         "incident_active": false,
         "planned_time": null,
         "postcodes_impacted": [
          "LU72NA",
          "LU79EA",
          "LU79EB",
          "LU79ED",
          "LU79EE",
          "LU79GW",
          "LU79WG"
         ],
         "received_time": "2021-03-24T09:21:13",
         "restored_time": "2021-03-24T09:39:29.733"
        },
        "INCD-226958-Z": {
         "description": "A fault occurred on a piece of our electrical equipment which controls the power to your home.",
         "estimated_restored_time": "2021-03-24T13:00:00",
         "incident_active": false,
         "planned_time": null,
         "postcodes_impacted": [
          "NR303NG",
          "NR303NN",
          "NR303NQ"
         ],
         "received_time": "2021-03-24T09:32:00",
         "restored_time": null
        },
        "INCD-226959-Z": {
         "description": "We had to turn off power in your area so our engineers could safely carry out emergency repairs to the network.",
         "estimated_restored_time": "2021-03-24T11:00:00",
         "incident_active": false,
         "planned_time": null,
         "postcodes_impacted": [
          "NR147PH"
         ],
         "received_time": "2021-03-24T10:00:00",
         "restored_time": "2021-03-24T11:27:02.683"
        },
        "INCD-226968-Z": {
         "description": "A fault occurred on a piece of our electrical equipment which controls the power to your home.",
         "estimated_restored_time": "2021-03-24T13:00:00",
         "incident_active": false,
         "planned_time": null,
         "postcodes_impacted": [
          "IP332DG",
          "IP332DH",
          "IP332DP",
          "IP332DQ",
          "IP332DR",
          "IP332EE"
         ],
         "received_time": "2021-03-24T10:08:00",
         "restored_time": "2021-03-24T12:31:37.05"
        },
        "INCD-226975-Z": {
         "description": "We had to turn off power in your area so our engineers could safely carry out emergency repairs to the network.",
         "estimated_restored_time": "2021-03-24T15:00:00",
         "incident_active": false,
         "planned_time": null,
         "postcodes_impacted": [
          "HA99RL",
          "HA99BT"
         ],
         "received_time": "2021-03-24T10:28:27",
         "restored_time": null
        },
        "INCD-227011-Z": {
         "description": "A fault occurred on a piece of our electrical equipment which controls the power to your home.",
         "estimated_restored_time": null,
         "incident_active": false,
         "planned_time": null,
         "postcodes_impacted": [
          "HP160PU",
          "HP160PY",
          "HP169BS",
          "HP169BT",
          "HP169BW",
          "HP169EB",
          "HP169ED",
          "HP169EE",
          "HP169ER",
          "HP169HA",
          "HP169HG"
         ],
         "received_time": "2021-03-24T11:45:49",
         "restored_time": null
        },
        "INCD-227015-Z": {
         "description": "We had to turn off power in your area so our engineers could safely carry out emergency repairs to the network.",
         "estimated_restored_time": null,
         "incident_active": false,
         "planned_time": null,
         "postcodes_impacted": [
          "CO92HL",
          "CO85DJ",
          "CO92HJ",
          "CO92HP",
          "CO92HS",
          "CO92HT",
          "CO92HZ",
          "CO92SF",
          "CO92SR",
          "CO92SS"
         ],
         "received_time": "2021-03-24T12:04:40",
         "restored_time": null
        },
        "INCD-245902-G": {
         "description": "A piece of network equipment had a fault on our high voltage electricity network, causing an area wide power cut.",
         "estimated_restored_time": "2021-02-26T01:00:00",
         "incident_active": false,
         "planned_time": null,
         "postcodes_impacted": [
          "RH110BP",
          "RH110HH",
          "RH110HQ",
          "RH110JE",
          "RH110NA",
          "RH110NB",
          "RH110ND",
          "RH110NF"
         ],
         "received_time": "2021-02-25T20:10:28",
         "restored_time": "2021-03-24T07:07:28.1"
        },
        "INCD-246135-G": {
         "description": "An underground electricity cable faulted on our high voltage network, causing an area wide power cut.",
         "estimated_restored_time": "2021-03-03T17:30:00",
         "incident_active": false,
         "planned_time": null,
         "postcodes_impacted": [
          "RH15DF",
          "RH15DG",
          "RH15DZ",
          "RH15HN",
          "RH15JN",
          "RH15JP",
          "RH15JQ",
          "RH15JR",
          "RH15JS",
          "RH15JT",
          "RH15JU",
          "RH15JW",
          "RH15QL",
          "RH15RA",
          "RH15RG"
         ],
         "received_time": "2021-03-03T14:18:37",
         "restored_time": "2021-03-24T09:59:10.69"
        },
        "INCD-247066-G": {
         "description": "An underground electricity cable faulted on our high voltage network, causing an area wide power cut.",
         "estimated_restored_time": "2021-03-20T17:00:00",
         "incident_active": false,
         "planned_time": null,
         "postcodes_impacted": [
          "BN69EE",
          "GU14RD",
          "GU215FG",
          "TN131BF",
          "TN61EX",
          "TN61EZ",
          "TN61JZ",
          "TN62AA",
          "TN62AB",
          "TN62AD",
          "TN62AE",
          "TN62AF",
          "TN62AG",
          "TN62AH",
          "TN62AJ",
          "TN62AL",
          "TN62AN",
          "TN62AP",
          "TN62AQ",
          "TN62AR",
          "TN62AS",
          "TN62AT",
          "TN62AU",
          "TN62AX",
          "TN62AY",
          "TN62AZ",
          "TN62BA",
          "TN62BB",
          "TN62BD",
          "TN62BE",
          "TN62BF",
          "TN62BG",
          "TN62BH",
          "TN62BJ",
          "TN62BL",
          "TN62BN",
          "TN62BP",
          "TN62BQ",
          "TN62BS",
          "TN62BT",
          "TN62BU",
          "TN62BX",
          "TN62DA",
          "TN62DB",
          "TN62DD",
          "TN62DE",
          "TN62DF",
          "TN62DG",
          "TN62DH",
          "TN62DJ",
          "TN62DN",
          "TN62DP",
          "TN62DR",
          "TN62DW",
          "TN62DX",
          "TN62DY",
          "TN62DZ",
          "TN62EA",
          "TN62FE",
          "TN62FH",
          "TN62GS",
          "TN62HG",
          "TN62HH",
          "TN62HJ",
          "TN62HL",
          "TN62JF",
          "TN62NH",
          "TN62NY",
          "TN62NZ",
          "TN62QL",
          "TN62QN",
          "TN62QP",
          "TN62QS",
          "TN62QT",
          "TN62QU",
          "TN62QW",
          "TN62QX",
          "TN62QZ",
          "TN62RG",
          "TN62RH",
          "TN62RN",
          "TN62RP",
          "TN62RQ",
          "TN62RR",
          "TN62RT",
          "TN62RX",
          "TN62RY",
          "TN62RZ",
          "TN62SA",
          "TN62SB",
          "TN62SD",
          "TN62SE",
          "TN62SF",
          "TN62SG",
          "TN62SH",
          "TN62SL",
          "TN62SN",
          "TN62SP",
          "TN62SR",
          "TN62SS",
          "TN62ST",
          "TN62SU",
          "TN62SW",
          "TN62SX",
          "TN62SY",
          "TN62SZ",
          "TN62TA",
          "TN62TB",
          "TN62TD",
          "TN62TE",
          "TN62TG",
          "TN62TH",
          "TN62TJ",
          "TN62TL",
          "TN62TN",
          "TN62TQ",
          "TN62TW",
          "TN62TY",
          "TN62XA",
          "TN62XB",
          "TN62XD",
          "TN62XE",
          "TN62XF",
          "TN62XJ",
          "TN62XL",
          "TN62XN",
          "TN62XU",
          "TN62YA",
          "TN62YB",
          "TN62YD",
          "TN62YE",
          "TN63HF",
          "TN63HG",
          "TN63HR"
         ],
         "received_time": "2021-03-20T13:50:16",
         "restored_time": "2021-03-24T06:52:47.097"
        },
        "INCD-247074-G": {
         "description": "We were investigating an overhead electricity equipment fault which caused a power cut in the local area.",
         "estimated_restored_time": "2021-03-20T22:30:00",
         "incident_active": false,
         "planned_time": null,
         "postcodes_impacted": [
          "CT188DH",
          "CT188DL",
          "CT188DP",
          "CT188DQ",
          "CT188DS",
          "CT188DU",
          "CT188DW",
          "CT188ET",
          "KT146BD",
          "TN256DF",
          "TN256DG",
          "TN256DH",
          "TN256DJ",
          "TN256DL",
          "TN256DN",
          "TN256DR",
          "TN256UA"
         ],
         "received_time": "2021-03-20T18:39:00",
         "restored_time": "2021-03-24T07:46:06.44"
        },
        "INCD-247193-G": {
         "description": "An underground electricity cable faulted on our high voltage network, causing an area wide power cut.",
         "estimated_restored_time": "2021-03-23T19:00:00",
         "incident_active": false,
         "planned_time": null,
         "postcodes_impacted": [
          "ME207GB",
          "ME207GQ",
          "ME207JG",
          "ME207JH",
          "ME207JL",
          "ME207JN",
          "ME207JQ",
          "ME207JR",
          "ME207JT",
          "ME207JU",
          "ME207JX",
          "ME207JY",
          "ME207LR",
          "ME207LS",
          "ME207QS"
         ],
         "received_time": "2021-03-23T15:55:23",
         "restored_time": "2021-03-24T11:49:46.4"
        },
        "INCD-247211-G": {
         "description": "A fault occurred on an underground electricity cable affecting the local area.",
         "estimated_restored_time": null,
         "incident_active": false,
         "planned_time": null,
         "postcodes_impacted": [
          "KT199EX",
          "KT199EY",
          "KT199HF"
         ],
         "received_time": "2021-03-24T09:28:45",
         "restored_time": "2021-03-24T09:32:08.197"
        },
        "INCD-247216-G": {
         "description": "We are carrying out essential work on the electricity network in your area.",
         "estimated_restored_time": null,
         "incident_active": false,
         "planned_time": null,
         "postcodes_impacted": [
          "CT32NP"
         ],
         "received_time": "2021-03-24T09:59:05",
         "restored_time": null
        },
        "INCD-247224-G": {
         "description": "A fault occurred on an underground electricity cable affecting the local area.",
         "estimated_restored_time": "2021-03-24T15:00:00",
         "incident_active": false,
         "planned_time": null,
         "postcodes_impacted": [
          "ME50PS",
          "ME50PT",
          "ME50SD",
          "ME50SJ",
          "ME50UF",
          "ME50UQ"
         ],
         "received_time": "2021-03-24T11:32:38",
         "restored_time": null
        },
        "INCD-258418-J": {
         "description": "We were investigating an electricity cable that was damaged, causing a power cut in the local area.",
         "estimated_restored_time": "2021-03-24T14:00:00",
         "incident_active": false,
         "planned_time": null,
         "postcodes_impacted": [
          "SM44HX",
          "SM44HJ",
          "SM44HS",
          "SM44HU"
         ],
         "received_time": "2021-03-24T12:05:00",
         "restored_time": null
        },
        "INCD-258457-J": {
         "description": "A fault occurred on an underground electricity cable affecting the local area.",
         "estimated_restored_time": null,
         "incident_active": false,
         "planned_time": null,
         "postcodes_impacted": [
          "N193DA",
          "N193EH",
          "N193EQ",
          "N193JH",
          "N194AA"
         ],
         "received_time": "2021-03-22T15:05:22",
         "restored_time": "2021-03-24T10:28:41.32"
        },
        "INCD-258513-J": {
         "description": "A fault occurred on an underground electricity cable affecting the local area.",
         "estimated_restored_time": null,
         "incident_active": false,
         "planned_time": null,
         "postcodes_impacted": [
          "W111DF",
          "W111DG",
          "W111DP",
          "W111EJ",
          "W111EL",
          "W111EN",
          "W111EP",
          "W111ET",
          "W111HA",
          "W111HH",
          "W111QJ",
          "W111QL",
          "W111QU"
         ],
         "received_time": "2021-03-23T09:08:57",
         "restored_time": "2021-03-24T07:57:31.57"
        },
        "INCD-258539-J": {
         "description": "We were investigating an electricity cable that was damaged, causing a power cut in the local area.",
         "estimated_restored_time": null,
         "incident_active": false,
         "planned_time": null,
         "postcodes_impacted": [
          "E114QX",
          "E114QT",
          "E114QY"
         ],
         "received_time": "2021-03-24T12:13:00",
         "restored_time": null
        },
        "INCD-258542-J": {
         "description": "A fault occurred on an underground electricity cable affecting the local area.",
         "estimated_restored_time": null,
         "incident_active": false,
         "planned_time": null,
         "postcodes_impacted": [
          "WC1N1DR",
          "WC1N2JF",
          "WC1N2JX",
          "WC1N2JZ",
          "WC1N2LA",
          "WC1N2LD",
          "WC1N2LE",
          "WC1N2LG",
          "WC1N2LQ",
          "WC1X8TU",
          "WC1X8TX",
          "WC1X8TZ"
         ],
         "received_time": "2021-03-23T14:44:00",
         "restored_time": "2021-03-24T05:21:49.113"
        },
        "INCD-258551-J": {
         "description": "We were investigating an electricity cable that was damaged, causing a power cut in the local area.",
         "estimated_restored_time": "2021-03-24T13:30:00",
         "incident_active": false,
         "planned_time": null,
         "postcodes_impacted": [
          "EC4M7BU",
          "EC4M7BY",
          "EC4M7DA",
          "EC4M7DX"
         ],
         "received_time": "2021-03-23T16:09:40",
         "restored_time": null
        },
        "INCD-258554-J": {
         "description": "We were investigating an electricity cable that was damaged, causing a power cut in the local area.",
         "estimated_restored_time": "2021-03-24T12:30:00",
         "incident_active": false,
         "planned_time": null,
         "postcodes_impacted": [
          "SE135AF",
          "SE135AG",
          "SE135AQ",
          "SE135JQ",
          "SE136JX",
          "SE137EJ",
          "SE137PA",
          "SE137PB",
          "SE137PD",
          "SE137PQ",
          "SE137PY",
          "SE137PZ"
         ],
         "received_time": "2021-03-23T16:44:46",
         "restored_time": "2021-03-24T12:36:38.05"
        },
        "INCD-258561-J": {
         "description": "We had to turn off power in your area so our engineers could safely carry out emergency repairs to the network.",
         "estimated_restored_time": "2021-03-23T22:00:00",
         "incident_active": false,
         "planned_time": null,
         "postcodes_impacted": [
          "SE220HU",
          "SE220JB",
          "SE220LU",
          "SE229QA"
         ],
         "received_time": "2021-03-23T18:05:00",
         "restored_time": "2021-03-24T08:10:23.573"
        },
        "INCD-258574-J": {
         "description": "An underground electricity cable faulted on our high voltage network, causing an area wide power cut.",
         "estimated_restored_time": null,
         "incident_active": false,
         "planned_time": null,
         "postcodes_impacted": [
          "SE181BB",
          "SE181BJ",
          "SE181BL",
          "SE181BQ",
          "SE181EH",
          "SE181EJ",
          "SE181EL",
          "SE181EQ",
          "SE181HU",
          "SE181JH",
          "SE181JR",
          "SE181LH",
          "SE181LJ",
          "SE181LL",
          "SE181LN",
          "SE181LQ",
          "SE181LW",
          "SE181NU",
          "SE181NY",
          "SE181NZ",
          "SE181PA",
          "SE181PB",
          "SE181PD",
          "SE181PE",
          "SE181PF",
          "SE181PG",
          "SE181PH",
          "SE181PJ",
          "SE181PL",
          "SE181PN",
          "SE181SL",
          "SE182AA",
          "SE182AN",
          "SE182AR",
          "SE182AS",
          "SE182AT",
          "SE182AU",
          "SE182AW",
          "SE182AY",
          "SE182AZ",
          "SE182BA",
          "SE182BB",
          "SE182BE",
          "SE182BF",
          "SE182BG",
          "SE182BH",
          "SE182BN",
          "SE182BS",
          "SE182BT",
          "SE2",
          "SE20BN",
          "SE20BT",
          "SE20EP",
          "SE20ER",
          "SE20HB",
          "SE20HD",
          "SE20HE",
          "SE20HF",
          "SE20HG",
          "SE20HY",
          "SE20JB",
          "SE20JD",
          "SE20JE",
          "SE20LT",
          "SE20LX",
          "SE20LZ",
          "SE20NA",
          "SE20NB",
          "SE20NF",
          "SE20NG",
          "SE20NH",
          "SE20NS",
          "SE20NT",
          "SE20NU",
          "SE20NX",
          "SE20NY",
          "SE20NZ",
          "SE20PA",
          "SE20PB",
          "SE20PD",
          "SE20PE",
          "SE20PF",
          "SE20RG",
          "SE20RH",
          "SE20RJ",
          "SE20RW",
          "SE20SR",
          "SE20TD",
          "SE20XL",
          "SE20XN",
          "SE20XP",
          "SE20XR",
          "SE20XS",
          "SE20XT",
          "SE20XU",
          "SE20XW",
          "SE20XX",
          "SE20XY",
          "SE20XZ",
          "SE20YA",
          "SE20YB",
          "SE29DN",
          "SE29DX",
          "SE29DZ",
          "SE29ED",
          "SE29EE",
          "SE29EF",
          "SE29EG",
          "SE29EH",
          "SE29EJ",
          "SE29EL",
          "SE29EN",
          "SE29EP",
          "SE29EQ",
          "SE29ER",
          "SE29EU",
          "SE29EW",
          "SE29EX",
          "SE29EY",
          "SE29HJ",
          "SE29HL",
          "SE29HN",
          "SE29HP",
          "SE29HS",
          "SE29HT",
          "SE29HU",
          "SE29HW",
          "SE29HX",
          "SE29NG",
          "SE29NH",
          "SE29NJ",
          "SE29NL",
          "SE29NP",
          "SE29NQ",
          "SE29NR",
          "SE29NS",
          "SE29NT",
          "SE29NU",
          "SE29NW",
          "SE29NX",
          "SE29QA",
          "SE29QB",
          "SE29QE",
          "SE29RE",
          "SE29RF",
          "SE29RG",
          "SE29RH",
          "SE29RJ",
          "SE29RN",
          "SE29RR",
          "SE29SG",
          "UK"
         ],
         "received_time": "2021-03-24T01:08:48",
         "restored_time": "2021-03-24T01:25:08.37"
        },
        "INCD-258577-J": {
         "description": "We were investigating an electricity cable that was damaged, causing a power cut in the local area.",
         "estimated_restored_time": null,
         "incident_active": false,
         "planned_time": null,
         "postcodes_impacted": [
          "SE163QG",
          "SW1V1RP",
          "SW1V4BJ",
          "SW1V4BU",
          "SW1V4DJ",
          "SW1V4DP",
          "SW1V4EP",
          "SW1V4ER",
          "SW1V4JF",
          "SW1V4PP",
          "SW1V4QJ"
         ],
         "received_time": "2021-03-24T02:47:31",
         "restored_time": "2021-03-24T04:44:28.987"
        },
        "INCD-258579-J": {
         "description": "A fault occurred on a piece of our electrical equipment which controls the power to your home.",
         "estimated_restored_time": null,
         "incident_active": false,
         "planned_time": null,
         "postcodes_impacted": [
          "W104LE",
          "W104LL",
          "W104LS",
          "W104UX",
          "W104UY"
         ],
         "received_time": "2021-03-24T03:15:00",
         "restored_time": "2021-03-24T05:50:16.807"
        },
        "INCD-258582-J": {
         "description": "A fault occurred on a piece of our electrical equipment which controls the power to your home.",
         "estimated_restored_time": "2021-03-24T09:30:00",
         "incident_active": false,
         "planned_time": null,
         "postcodes_impacted": [
          "SW111EG",
          "SW111EQ",
          "SW111HB",
          "SW111HD",
          "SW111HF",
          "SW111QG"
         ],
         "received_time": "2021-03-24T06:02:00",
         "restored_time": "2021-03-24T07:53:39.643"
        },
        "INCD-258599-J": {
         "description": "An underground electricity cable faulted on our high voltage network, causing an area wide power cut.",
         "estimated_restored_time": "2021-03-24T14:00:00",
         "incident_active": false,
         "planned_time": null,
         "postcodes_impacted": [
          "EC3V3LA",
          "EC3V9AA",
          "EC3V9JU",
          "EC4N5AD",
          "EC4N5AF",
          "EC4N5AG",
          "EC4N5AT",
          "EC4N6AB",
          "EC4N6AS",
          "EC4N6EU",
          "EC4N6HL",
          "EC4N6HT",
          "EC4N7AR",
          "EC4N7BA",
          "EC4N8AD",
          "EC4N8BJ",
          "EC4R0AN",
          "EC4R0DP",
          "EC4R0DR",
          "EC4R9AB",
          "EC4R9AT",
          "EC4R9AW",
          "EC4R9AY",
          "WC26NU"
         ],
         "received_time": "2021-03-24T09:49:00",
         "restored_time": null
        },
        "INCD-258610-J": {
         "description": "A fault occurred on a piece of our electrical equipment which controls the power to your home.",
         "estimated_restored_time": "2021-03-24T16:30:00",
         "incident_active": false,
         "planned_time": null,
         "postcodes_impacted": [
          "W1D7AP",
          "W1D7AZ",
          "W1D7BA",
          "W1D7BB",
          "W1D7LN",
          "W1D7LW",
          "W1F9UG",
          "W1V7HG"
         ],
         "received_time": "2021-03-24T11:19:00",
         "restored_time": "2021-03-24T12:35:12.763"
        },
        "INCD-258618-J": {
         "description": "A fault occurred on a piece of our electrical equipment which controls the power to your home.",
         "estimated_restored_time": null,
         "incident_active": false,
         "planned_time": null,
         "postcodes_impacted": [
          "SE220HU",
          "SE220JB",
          "SE220LU",
          "SE229QA"
         ],
         "received_time": "2021-03-24T12:07:00",
         "restored_time": "2021-03-24T12:28:31.9"
        },
        "INCD-43427-C": {
         "description": "A fault occurred on an underground electricity cable affecting the local area.",
         "estimated_restored_time": null,
         "incident_active": false,
         "planned_time": null,
         "postcodes_impacted": [
          "CM08BG",
          "CM08HA",
          "CM08HB",
          "CM08HH",
          "CM08HJ",
          "CM08HQ",
          "CM08HT",
          "CM08HW",
          "CM08RP"
         ],
         "received_time": "2021-03-20T11:18:00",
         "restored_time": "2021-03-24T12:29:22.4790297+00:00"
        },
        "INCD-43535-C": {
         "description": "A problem on the electricity network caused power to go on and off in the area.",
         "estimated_restored_time": null,
         "incident_active": false,
         "planned_time": null,
         "postcodes_impacted": [
          "EN64BG",
          "EN64BH",
          "EN64BJ",
          "EN64BQ"
         ],
         "received_time": "2021-03-23T12:04:58",
         "restored_time": "2021-03-24T09:25:39.973"
        },
        "INCD-43549-C": {
         "description": "A fault occurred on a piece of our electrical equipment which controls the power to your home.",
         "estimated_restored_time": "2021-03-24T07:00:00",
         "incident_active": false,
         "planned_time": null,
         "postcodes_impacted": [
          "EN26AF",
          "EN26AJ",
          "EN26AN",
          "EN26AQ",
          "EN26EE",
          "EN26PD"
         ],
         "received_time": "2021-03-24T04:26:00",
         "restored_time": "2021-03-24T06:43:01.177"
        },
        "INCD-47144-V": {
         "description": "We are replacing some overhead electricity cables with improved insulated cables whilst raising the height of the overhead line to statutory height for safety. These works will improve the reliability of our electricty network and help to reduce the risk of you having an unplanned cut. This is why it is important to complete this work during the Coronavirus pandemic. You may see us in the area carrying out preparation work prior to the planned power cut to allow for a shorter interruption on the day. This work is taking place in Bell Lane.",
         "estimated_restored_time": "2021-03-24T14:00:00",
         "incident_active": false,
         "planned_time": "2021-03-24T09:30:00",
         "postcodes_impacted": [
          "RH123QH",
          "RH123QJ"
         ],
         "received_time": "2021-03-24T09:32:00",
         "restored_time": null
        },
        "INCD-50428-V": {
         "description": "The reason for this work is we are upgrading a piece of electrical equipment called a transformer on our electricity network. This equipment controls and delivers the electricity into your area. These are essential works that will improve the reliability of our electricity network, ensure our network can uphold the amount of electricity in your area and will also reduce the risk of you having an unplanned power cut. This is why it is important to complete this work during the Coronavirus pandemic. This work is taking place on Outwood Lane.",
         "estimated_restored_time": "2021-03-24T14:30:00",
         "incident_active": false,
         "planned_time": "2021-03-24T09:30:00",
         "postcodes_impacted": [
          "RH14NH",
          "RH14NJ",
          "RH14NL",
          "RH15PD",
          "RH15PL",
          "RH15PA",
          "RH15PE",
          "RH15PF"
         ],
         "received_time": "2021-03-23T12:35:41",
         "restored_time": null
        },
        "INCD-51163-V": {
         "description": "Our contractors Avidety Ltd are replacing and upgrading electricity poles due to them decaying. They will also be replacing and upgrading some overhead electricity cables with improved insulated cables. This will improve the reliability of our electricity network and will reduce the risk of you having an unplanned power cut. This is why it is important to complete this work during the Coronavirus pandemic. You may see our contractors erecting the new electricity poles prior to the outage to allow for a shorter interruption on the day. Please note a temporary road closure will be in place to carry out our works safely. This work is taking place on Kings Bank Lane.",
         "estimated_restored_time": "2021-03-24T15:30:00",
         "incident_active": false,
         "planned_time": "2021-03-24T09:30:00",
         "postcodes_impacted": [
          "TN316RU"
         ],
         "received_time": "2021-03-24T09:30:00",
         "restored_time": null
        },
        "INCD-51291-V": {
         "description": "We're carrying out planned work in your area. For our engineers to carry it out safely they need to turn the power off. We're doing this work as it's essential to provide reliable electricity supplies to your area. We're sorry for any inconvenience caused and thank you for your patience.",
         "estimated_restored_time": "2021-03-24T15:30:00",
         "incident_active": false,
         "planned_time": "2021-03-24T09:30:00",
         "postcodes_impacted": [
          "TN354JA"
         ],
         "received_time": "2021-03-24T09:30:00",
         "restored_time": null
        },
        "INCD-51304-V": {
         "description": "A fault occurred on an underground electricity cable affecting the local area.",
         "estimated_restored_time": null,
         "incident_active": false,
         "planned_time": null,
         "postcodes_impacted": [
          "TN147LR",
          "TN147LG",
          "TN147LH"
         ],
         "received_time": "2021-03-22T11:59:00",
         "restored_time": null
        },
        "INCD-51378-V": {
         "description": "We&#39;re carrying out planned work in your area. For our engineers to carry it out safely they need to turn the power off. We&#39;re doing this work as it&#39;s essential to provide reliable electricity supplies to your area. We&#39;re sorry for any inconvenience caused and thank you for your patience.",
         "estimated_restored_time": "2021-03-24T15:00:00",
         "incident_active": false,
         "planned_time": "2021-03-24T09:00:00",
         "postcodes_impacted": [
          "CT32BZ",
          "CT32DA",
          "CT32NP"
         ],
         "received_time": "2021-03-15T14:53:30",
         "restored_time": null
        },
        "INCD-51493-V": {
         "description": "We're carrying out planned work in your area. For our engineers to carry it out safely they need to turn the power off. We're doing this work as it's essential to provide reliable electricity supplies to your area. We're sorry for any inconvenience caused and thank you for your patience.",
         "estimated_restored_time": "2021-03-24T14:00:00",
         "incident_active": false,
         "planned_time": "2021-03-24T09:30:00",
         "postcodes_impacted": [
          "CT154BP",
          "CT154DD"
         ],
         "received_time": "2021-03-24T09:40:00",
         "restored_time": null
        },
        "INCD-52505-V": {
         "description": "A fault occurred on an underground electricity cable affecting the local area.",
         "estimated_restored_time": null,
         "incident_active": false,
         "planned_time": null,
         "postcodes_impacted": [
          "BN237RG",
          "BN238AJ",
          "TN316JB"
         ],
         "received_time": "2021-03-17T09:49:00",
         "restored_time": "2021-03-24T08:02:37.773"
        },
        "INCD-52514-V": {
         "description": "A fault occurred on an underground electricity cable affecting the local area.",
         "estimated_restored_time": null,
         "incident_active": false,
         "planned_time": null,
         "postcodes_impacted": [
          "TN147LR",
          "TN147LS",
          "TN147LT",
          "TN147NT",
          "TN147NU",
          "TN147PH",
          "TN147PJ"
         ],
         "received_time": "2021-03-18T12:36:00",
         "restored_time": null
        },
        "INCD-52704-V": {
         "description": "A fault occurred on an underground electricity cable affecting the local area.",
         "estimated_restored_time": null,
         "incident_active": false,
         "planned_time": null,
         "postcodes_impacted": [
          "CT27HU",
          "CT27JF",
          "CT27JG",
          "CT27JL",
          "CT27JQ",
          "CT27PL",
          "CT27PW",
          "CT27UR"
         ],
         "received_time": "2021-03-19T07:17:00",
         "restored_time": "2021-03-24T03:34:29.567"
        },
        "INCD-53056-V": {
         "description": "A fault occurred on an underground electricity cable affecting the local area.",
         "estimated_restored_time": "2021-03-24T16:00:00",
         "incident_active": false,
         "planned_time": null,
         "postcodes_impacted": [
          "CT101PH",
          "CT101NL",
          "CT101NR",
          "CT101NT",
          "CT101PG",
          "CT101QD",
          "CT101QG",
          "CT101QQ",
          "CT101RU",
          "CT101SS"
         ],
         "received_time": "2021-03-23T19:15:00",
         "restored_time": null
        },
        "INCD-53064-V": {
         "description": "A fault occurred on an underground electricity cable affecting the local area.",
         "estimated_restored_time": "2021-03-24T16:00:00",
         "incident_active": false,
         "planned_time": null,
         "postcodes_impacted": [
          "ME207LD",
          "ME207QU",
          "ME207HR",
          "ME207LA",
          "ME207LB",
          "ME207LE",
          "ME207LG",
          "ME207LH",
          "ME207QY",
          "ME207QZ",
          "ME207RE",
          "ME207TR"
         ],
         "received_time": "2021-03-23T23:46:00",
         "restored_time": null
        },
        "INCD-53065-V": {
         "description": "A fault occurred on a piece of our electrical equipment which controls the power to your home.",
         "estimated_restored_time": "2021-03-24T06:30:00",
         "incident_active": false,
         "planned_time": null,
         "postcodes_impacted": [
          "ME185AF",
          "ME185AG",
          "ME185AH",
          "ME185AJ",
          "ME185AL",
          "ME185AN",
          "ME185AQ",
          "ME185BU",
          "ME185BY"
         ],
         "received_time": "2021-03-24T01:17:00",
         "restored_time": "2021-03-24T03:45:49.19"
        },
        "INCD-53068-V": {
         "description": "A fault occurred on a piece of our electrical equipment which controls the power to your home.",
         "estimated_restored_time": "2021-03-24T11:00:00",
         "incident_active": false,
         "planned_time": null,
         "postcodes_impacted": [
          "KT199EX",
          "KT199EY",
          "KT199HF"
         ],
         "received_time": "2021-03-24T06:13:00",
         "restored_time": "2021-03-24T11:37:03.46"
        },
        "INCD-53069-V": {
         "description": "An underground electricity cable faulted on our high voltage network, causing an area wide power cut.",
         "estimated_restored_time": "2021-03-24T12:00:00",
         "incident_active": false,
         "planned_time": null,
         "postcodes_impacted": [
          "RH43JZ",
          "RH43LD",
          "RH43LE",
          "RH43LF",
          "RH43LG",
          "RH43LL",
          "RH43LQ"
         ],
         "received_time": "2021-03-24T06:40:42",
         "restored_time": "2021-03-24T11:18:13.57"
        },
        "INCD-53072-V": {
         "description": "A fault occurred on a piece of our electrical equipment which controls the power to your home.",
         "estimated_restored_time": "2021-03-24T12:30:00",
         "incident_active": false,
         "planned_time": null,
         "postcodes_impacted": [
          "ME141PD",
          "ME141PP",
          "ME141PS",
          "ME141QD"
         ],
         "received_time": "2021-03-24T08:14:00",
         "restored_time": "2021-03-24T12:00:13.76"
        },
        "INCD-53087-V": {
         "description": "We were investigating an overhead electricity line fault which caused a power cut in the local area.",
         "estimated_restored_time": "2021-03-24T14:00:00",
         "incident_active": false,
         "planned_time": null,
         "postcodes_impacted": [
          "BN69RS",
          "BN69RR",
          "BN69RW",
          "BN69RZ",
          "BN69SB"
         ],
         "received_time": "2021-03-24T10:09:00",
         "restored_time": null
        },
        "INCD-57916-N": {
         "description": "A fault occurred on an underground electricity cable affecting the local area.",
         "estimated_restored_time": null,
         "incident_active": false,
         "planned_time": null,
         "postcodes_impacted": [
          "NW14QP",
          "NW15LF",
          "NW15LL"
         ],
         "received_time": "2021-01-22T12:14:57",
         "restored_time": null
        },
        "INCD-5880-O": {
         "description": "We're carrying out planned work in your area. For our engineers to carry it out safely they need to turn the power off. We're doing this work as it's essential to provide reliable electricity supplies to your area. We're sorry for any inconvenience caused and thank you for your patience.",
         "estimated_restored_time": "2021-03-24T14:00:00",
         "incident_active": false,
         "planned_time": "2021-03-24T09:00:00",
         "postcodes_impacted": [
          "IP223TG",
          "IP223TH",
          "IP223TJ",
          "IP225TG",
          "IP225TH",
          "IP225TJ",
          "IP225TQ"
         ],
         "received_time": "2021-03-24T09:05:00",
         "restored_time": "2021-03-24T12:04:18.507"
        },
        "INCD-6091-O": {
         "description": "We're carrying out planned work in your area. For our engineers to carry it out safely they need to turn the power off. We're doing this work as it's essential to provide reliable electricity supplies to your area. We're sorry for any inconvenience caused and thank you for your patience.",
         "estimated_restored_time": "2021-03-24T15:00:00",
         "incident_active": false,
         "planned_time": "2021-03-24T09:00:00",
         "postcodes_impacted": [
          "CO94JT",
          "CO94JX"
         ],
         "received_time": "2021-03-24T09:41:00",
         "restored_time": null
        },
        "INCD-6142-O": {
         "description": "We're carrying out planned work in your area. For our engineers to carry it out safely they need to turn the power off. We're doing this work as it's essential to provide reliable electricity supplies to your area. We're sorry for any inconvenience caused and thank you for your patience.",
         "estimated_restored_time": "2021-03-24T11:00:00",
         "incident_active": false,
         "planned_time": "2021-03-24T09:00:00",
         "postcodes_impacted": [
          "CB88QS"
         ],
         "received_time": "2021-03-24T09:23:00",
         "restored_time": "2021-03-24T12:07:39.737"
        },
        "INCD-6344-O": {
         "description": "We&#39;re carrying out planned work in your area. For our engineers to carry it out safely they need to turn the power off. We&#39;re doing this work as it&#39;s essential to provide reliable electricity supplies to your area. We&#39;re sorry for any inconvenience caused and thank you for your patience.",
         "estimated_restored_time": "2021-03-24T11:00:00",
         "incident_active": false,
         "planned_time": "2021-03-24T08:00:00",
         "postcodes_impacted": [
          "SG142PZ",
          "SG142QA",
          "SG142QB",
          "SG142QE",
          "SG142QF",
          "SG143NN",
          "SG143NS",
          "SG143NW"
         ],
         "received_time": "2021-03-24T08:42:00",
         "restored_time": "2021-03-24T11:42:56.917"
        },
        "INCD-6383-O": {
         "description": "We're carrying out planned work in your area. For our engineers to carry it out safely they need to turn the power off. We're doing this work as it's essential to provide reliable electricity supplies to your area. We're sorry for any inconvenience caused and thank you for your patience.",
         "estimated_restored_time": "2021-03-24T11:00:00",
         "incident_active": false,
         "planned_time": "2021-03-24T10:00:00",
         "postcodes_impacted": [
          "SG87EN",
          "SG87EP",
          "SG87HB",
          "SG87HD",
          "SG87LL",
          "SG89EY",
          "SG89GH",
          "SG89JE"
         ],
         "received_time": "2021-03-24T10:00:00",
         "restored_time": "2021-03-24T11:10:07.607"
        },
        "INCD-6516-O": {
         "description": "We're carrying out planned work in your area. For our engineers to carry it out safely they need to turn the power off. We're doing this work as it's essential to provide reliable electricity supplies to your area. We're sorry for any inconvenience caused and thank you for your patience.",
         "estimated_restored_time": "2021-03-24T15:00:00",
         "incident_active": false,
         "planned_time": "2021-03-24T14:00:00",
         "postcodes_impacted": [
          "PE148DD",
          "PE148DE",
          "PE148DW"
         ],
         "received_time": "2021-03-24T14:00:00",
         "restored_time": null
        },
        "INCD-6538-O": {
         "description": "We're carrying out planned work in your area. For our engineers to carry it out safely they need to turn the power off. We're doing this work as it's essential to provide reliable electricity supplies to your area. We're sorry for any inconvenience caused and thank you for your patience.",
         "estimated_restored_time": "2021-03-24T16:00:00",
         "incident_active": false,
         "planned_time": "2021-03-24T08:30:00",
         "postcodes_impacted": [
          "SS178PY",
          "RM163EL",
          "RM163HU",
          "RM163HX",
          "SS178PT",
          "SS178PU",
          "SS178PX"
         ],
         "received_time": "2021-03-24T08:41:00",
         "restored_time": null
        },
        "INCD-6549-O": {
         "description": "We're carrying out planned work in your area. For our engineers to carry it out safely they need to turn the power off. We're doing this work as it's essential to provide reliable electricity supplies to your area. We're sorry for any inconvenience caused and thank you for your patience.",
         "estimated_restored_time": "2021-03-24T16:00:00",
         "incident_active": false,
         "planned_time": "2021-03-24T10:00:00",
         "postcodes_impacted": [
          "CO79JL"
         ],
         "received_time": "2021-03-24T10:26:00",
         "restored_time": null
        }
       }
      ],
      "text/plain": [
       "<IPython.core.display.JSON object>"
      ]
     },
     "execution_count": 40,
     "metadata": {
      "application/json": {
       "expanded": false,
       "root": "root"
      }
     },
     "output_type": "execute_result"
    }
   ],
   "source": [
    "raw_incidents_info, cleaned_incidents_info = get_ukpn_incidents_info()\n",
    "\n",
    "JSON([cleaned_incidents_info])"
   ]
  },
  {
   "cell_type": "code",
   "execution_count": null,
   "id": "rural-minute",
   "metadata": {},
   "outputs": [],
   "source": []
  },
  {
   "cell_type": "code",
   "execution_count": 41,
   "id": "binary-passing",
   "metadata": {},
   "outputs": [],
   "source": [
    "#exports\n",
    "def save_json_data(data, filename, data_dir='../data/raw'):\n",
    "    with open(f'{data_dir}/{filename}.json', 'w') as fp:\n",
    "        json.dump(data, fp)"
   ]
  },
  {
   "cell_type": "code",
   "execution_count": 42,
   "id": "operational-spelling",
   "metadata": {},
   "outputs": [],
   "source": [
    "save_json_data(raw_incidents_info, 'ukpn_incidents_info')"
   ]
  },
  {
   "cell_type": "markdown",
   "id": "vital-republic",
   "metadata": {},
   "source": [
    "<br>\n",
    "\n",
    "### Scottish & Southern Electricity Networks\n",
    "\n",
    "https://www.ssen.co.uk/Powertrack/\n",
    "\n",
    "N.b. we occasionaly get date values of: `Date(-62135596800000)`. This occurs when no date can be found so we will set these to `None`."
   ]
  },
  {
   "cell_type": "code",
   "execution_count": 45,
   "id": "affiliated-current",
   "metadata": {},
   "outputs": [
    {
     "name": "stderr",
     "output_type": "stream",
     "text": [
      "C:\\Users\\Ayrto\\anaconda3\\envs\\outage\\lib\\site-packages\\urllib3\\connectionpool.py:1020: InsecureRequestWarning: Unverified HTTPS request is being made to host 'www.ssen.co.uk'. Adding certificate verification is strongly advised. See: https://urllib3.readthedocs.io/en/latest/advanced-usage.html#ssl-warnings\n",
      "  InsecureRequestWarning,\n"
     ]
    },
    {
     "data": {
      "application/json": {
       "Faults": [
        {
         "AffectedAreas": [
          "AB21 0QT",
          "AB21 0QX",
          "AB21 0RS",
          "AB41 6QB",
          "AB41 6RT",
          "AB41 6RU",
          "AB41 6RX",
          "AB41 6RY",
          "AB41 6SA",
          "AB41 6SL",
          "AB41 6SN",
          "AB41 6SP",
          "AB41 6SS",
          "AB41 6ST",
          "AB41 6TA",
          "AB41 6TB",
          "AB41 7PQ",
          "AB41 7PW",
          "AB41 7RA",
          "AB41 7RQ",
          "AB41 7RR",
          "AB41 7RS",
          "AB41 7RT",
          "AB41 7RU",
          "AB41 7RW",
          "AB41 7RZ"
         ],
         "DepotCode": "24",
         "EstimatedArrivalOnSiteUtc": "/Date(-62135596800000)/",
         "EstimatedFaultUpdateTimeUtc": "/Date(-62135596800000)/",
         "EstimatedRestorationTimeUtc": "/Date(1616598000000)/",
         "FaultType": "HV",
         "IsDepot": false,
         "Location": {
          "DisplayText": "57.320516216180927, -2.1978542891718811",
          "Latitude": 57.32051621618093,
          "Longitude": -2.197854289171881
         },
         "LoggedAtUtc": "/Date(1616588400000)/",
         "Message": "We’re sorry for the loss of supply. We currently have a fault affecting the areas listed. Our engineers are on site working hard to get the power back on as quickly as they can. If you need more information, please call us on 105 or send us a message on <a href=\"http://m.me/ssencommunity/\">Facebook</a> or Twitter (<a href=\"https://twitter.com/ssencommunity\">@ssencommunity</a>) and quote reference 'HA6614'",
         "Reference": "HA6614",
         "Title": "AB41 Area"
        },
        {
         "AffectedAreas": [
          "PA70 6HQ"
         ],
         "DepotCode": "57",
         "EstimatedArrivalOnSiteUtc": "/Date(-62135596800000)/",
         "EstimatedFaultUpdateTimeUtc": "/Date(-62135596800000)/",
         "EstimatedRestorationTimeUtc": "/Date(1616596200000)/",
         "FaultType": "HV",
         "IsDepot": false,
         "Location": {
          "DisplayText": "56.394119939380033, -6.0190120306744337",
          "Latitude": 56.39411993938003,
          "Longitude": -6.019012030674434
         },
         "LoggedAtUtc": "/Date(1616587620000)/",
         "Message": "We’re sorry for the loss of supply. We currently have a fault affecting the areas listed. Our engineers are on site working hard to get the power back on as quickly as they can. If you need more information, please call us on 105 or send us a message on <a href=\"http://m.me/ssencommunity/\">Facebook</a> or Twitter (<a href=\"https://twitter.com/ssencommunity\">@ssencommunity</a>) and quote reference 'HA6618'",
         "Reference": "HA6618",
         "Title": "PA70 Area"
        },
        {
         "AffectedAreas": [
          "GL56 0SP",
          "GL56 0SS",
          "OX7 5FQ",
          "OX7 5NG",
          "OX7 5PT",
          "OX7 5YH",
          "OX7 5YN",
          "OX7 5YQ",
          "OX7 6FF",
          "OX7 6GE",
          "OX7 6NA",
          "OX7 6NB",
          "OX7 6ND",
          "OX7 6NE",
          "OX7 6NG",
          "OX7 6NJ",
          "OX7 6NL",
          "OX7 6NN",
          "OX7 6NP",
          "OX7 6NS",
          "OX7 6NT",
          "OX7 6NU",
          "OX7 6NW",
          "OX7 6PD",
          "OX7 6PQ",
          "OX7 6PW",
          "OX7 6QS",
          "OX7 6QT",
          "OX7 6RE",
          "OX7 6RY",
          "OX7 6ST",
          "OX7 6TA",
          "OX7 6TB",
          "OX7 6TE",
          "OX7 6TF",
          "OX7 6TH",
          "OX7 6TR",
          "OX7 6TT",
          "OX7 6TU",
          "OX7 6TX",
          "OX7 6TY",
          "OX7 6TZ",
          "OX7 6UD",
          "OX7 6UH",
          "OX7 6UL",
          "OX7 6UQ",
          "OX7 6WP",
          "OX7 6XX",
          "OX7 6XY",
          "OX7 6XZ",
          "OX7 6YA",
          "OX7 6YB",
          "OX7 6YD",
          "OX7 6YE",
          "OX7 6YF",
          "OX7 6YH",
          "OX7 6YJ",
          "OX7 6YL",
          "OX7 6YN",
          "OX7 6YP",
          "OX7 6YQ",
          "OX7 6YR",
          "OX7 6YS",
          "OX7 6YT",
          "OX7 6YU",
          "OX7 6YX",
          "OX7 6YZ"
         ],
         "DepotCode": "42",
         "EstimatedArrivalOnSiteUtc": "/Date(-62135596800000)/",
         "EstimatedFaultUpdateTimeUtc": "/Date(-62135596800000)/",
         "EstimatedRestorationTimeUtc": "/Date(1616598000000)/",
         "FaultType": "HV",
         "IsDepot": false,
         "Location": {
          "DisplayText": "51.921002098823053, -1.6055268345053642",
          "Latitude": 51.92100209882305,
          "Longitude": -1.6055268345053642
         },
         "LoggedAtUtc": "/Date(1616587320000)/",
         "Message": "We’re sorry for the loss of supply. We currently have a fault affecting the areas listed. Our engineers are on site working hard to get the power back on as quickly as they can. If you need more information, please call us on 105 or send us a message on <a href=\"http://m.me/ssencommunity/\">Facebook</a> or Twitter (<a href=\"https://twitter.com/ssencommunity\">@ssencommunity</a>) and quote reference 'HA6596'",
         "Reference": "HA6596",
         "Title": "OX7 Area"
        },
        {
         "AffectedAreas": [
          "KW15 1AN"
         ],
         "DepotCode": "48",
         "EstimatedArrivalOnSiteUtc": "/Date(-62135596800000)/",
         "EstimatedFaultUpdateTimeUtc": "/Date(-62135596800000)/",
         "EstimatedRestorationTimeUtc": "/Date(1616590800000)/",
         "FaultType": "PSI",
         "IsDepot": false,
         "Location": {
          "DisplayText": "58.981592487452836, -2.9641525909046988",
          "Latitude": 58.981592487452836,
          "Longitude": -2.964152590904699
         },
         "LoggedAtUtc": "/Date(1616587200000)/",
         "Message": "We're sorry for the loss of supply. The reason you're currently without power is a planned outage in the areas listed. We have turned off your electricity supply to allow us to safely carry out essential work to our electrical equipment. By doing this, it'll help us to improve the reliability of our service to you for the future. If you have any questions or require more information, please call us on 105 or send us a message on <a href=\"http://m.me/ssencommunity/\">Facebook</a> or Twitter (<a href=\"https://twitter.com/ssencommunity\">@ssencommunity</a>) with reference  '198688'. You will have received a letter from us confirming your power will be interrupted with specific information relating to your property. If you did not receive this letter, you can assume your power will not be interrupted.",
         "Reference": "198688",
         "Title": "KW15 Area"
        },
        {
         "AffectedAreas": [
          "SO45 5AQ",
          "SO45 5TA",
          "SO45 5TB"
         ],
         "DepotCode": "40",
         "EstimatedArrivalOnSiteUtc": "/Date(1616592600000)/",
         "EstimatedFaultUpdateTimeUtc": "/Date(-62135596800000)/",
         "EstimatedRestorationTimeUtc": "/Date(1616598600000)/",
         "FaultType": "LV",
         "IsDepot": false,
         "Location": {
          "DisplayText": "50.870139900681622, -1.4172900223651124",
          "Latitude": 50.87013990068162,
          "Longitude": -1.4172900223651124
         },
         "LoggedAtUtc": "/Date(1616586840000)/",
         "Message": "We’re sorry for the loss of supply. We currently have a fault affecting the areas listed. Our engineers are on site working hard to get the power back on as quickly as they can. If you need more information, please call us on 105 or send us a message on <a href=\"http://m.me/ssencommunity/\">Facebook</a> or Twitter (<a href=\"https://twitter.com/ssencommunity\">@ssencommunity</a>) and quote reference 'HA6594'",
         "Reference": "HA6594",
         "Title": "SO45 Area"
        },
        {
         "AffectedAreas": [
          "OX2 8HD"
         ],
         "DepotCode": "42",
         "EstimatedArrivalOnSiteUtc": "/Date(1616587200000)/",
         "EstimatedFaultUpdateTimeUtc": "/Date(-62135596800000)/",
         "EstimatedRestorationTimeUtc": "/Date(1616598000000)/",
         "FaultType": "LV",
         "IsDepot": false,
         "Location": {
          "DisplayText": "51.808196586796868, -1.2611191991217006",
          "Latitude": 51.80819658679687,
          "Longitude": -1.2611191991217006
         },
         "LoggedAtUtc": "/Date(1616585400000)/",
         "Message": "We’re sorry for the loss of supply. We currently have a fault affecting the areas listed. Our engineers are on site working hard to get the power back on as quickly as they can. If you need more information, please call us on 105 or send us a message on <a href=\"http://m.me/ssencommunity/\">Facebook</a> or Twitter (<a href=\"https://twitter.com/ssencommunity\">@ssencommunity</a>) and quote reference 'HA6598'",
         "Reference": "HA6598",
         "Title": "OX2 Area"
        },
        {
         "AffectedAreas": [
          "PH6 2JJ"
         ],
         "DepotCode": "70",
         "EstimatedArrivalOnSiteUtc": "/Date(-62135596800000)/",
         "EstimatedFaultUpdateTimeUtc": "/Date(-62135596800000)/",
         "EstimatedRestorationTimeUtc": "/Date(1616592600000)/",
         "FaultType": "HV",
         "IsDepot": false,
         "Location": {
          "DisplayText": "56.323305631500823, -4.0777308410575959",
          "Latitude": 56.32330563150082,
          "Longitude": -4.077730841057596
         },
         "LoggedAtUtc": "/Date(1616584440000)/",
         "Message": "We’re sorry for the loss of supply. We currently have a fault affecting the areas listed. Our engineers are on site working hard to get the power back on as quickly as they can. If you need more information, please call us on 105 or send us a message on <a href=\"http://m.me/ssencommunity/\">Facebook</a> or Twitter (<a href=\"https://twitter.com/ssencommunity\">@ssencommunity</a>) and quote reference 'HA6509'",
         "Reference": "HA6509",
         "Title": "PH6 Area"
        },
        {
         "AffectedAreas": [
          "G63 9LL"
         ],
         "DepotCode": "70",
         "EstimatedArrivalOnSiteUtc": "/Date(-62135596800000)/",
         "EstimatedFaultUpdateTimeUtc": "/Date(-62135596800000)/",
         "EstimatedRestorationTimeUtc": "/Date(1616594400000)/",
         "FaultType": "PSI",
         "IsDepot": false,
         "Location": {
          "DisplayText": "56.017085619479907, -4.3897110209325234",
          "Latitude": 56.01708561947991,
          "Longitude": -4.389711020932523
         },
         "LoggedAtUtc": "/Date(1616583600000)/",
         "Message": "We're sorry for the loss of supply. The reason you're currently without power is a planned outage in the areas listed. We have turned off your electricity supply to allow us to safely carry out essential work to our electrical equipment. By doing this, it'll help us to improve the reliability of our service to you for the future. If you have any questions or require more information, please call us on 105 or send us a message on <a href=\"http://m.me/ssencommunity/\">Facebook</a> or Twitter (<a href=\"https://twitter.com/ssencommunity\">@ssencommunity</a>) with reference  '198759'. You will have received a letter from us confirming your power will be interrupted with specific information relating to your property. If you did not receive this letter, you can assume your power will not be interrupted.",
         "Reference": "198759",
         "Title": "G63 Area"
        },
        {
         "AffectedAreas": [
          "HS7 5AD",
          "HS7 5LA",
          "HS7 5LS",
          "HS7 5LW",
          "HS7 5NG"
         ],
         "DepotCode": "52",
         "EstimatedArrivalOnSiteUtc": "/Date(-62135596800000)/",
         "EstimatedFaultUpdateTimeUtc": "/Date(-62135596800000)/",
         "EstimatedRestorationTimeUtc": "/Date(1616601600000)/",
         "FaultType": "LV",
         "IsDepot": false,
         "Location": {
          "DisplayText": "57.472434619845167, -7.3790471493089873",
          "Latitude": 57.47243461984517,
          "Longitude": -7.379047149308987
         },
         "LoggedAtUtc": "/Date(1616583180000)/",
         "Message": "We’re sorry for the loss of supply. We currently have a fault affecting the areas listed. Our engineers are on site working hard to get the power back on as quickly as they can. If you need more information, please call us on 105 or send us a message on <a href=\"http://m.me/ssencommunity/\">Facebook</a> or Twitter (<a href=\"https://twitter.com/ssencommunity\">@ssencommunity</a>) and quote reference 'HA6528'",
         "Reference": "HA6528",
         "Title": "HS7 Area"
        },
        {
         "AffectedAreas": [
          "GU25 4AZ",
          "GU25 4BJ",
          "GU25 4BQ",
          "GU25 4DQ",
          "GU25 4DT",
          "GU25 4DY",
          "GU25 4SR",
          "GU25 4SW",
          "KT16 0EF"
         ],
         "DepotCode": "32",
         "EstimatedArrivalOnSiteUtc": "/Date(-62135596800000)/",
         "EstimatedFaultUpdateTimeUtc": "/Date(-62135596800000)/",
         "EstimatedRestorationTimeUtc": "/Date(1616598000000)/",
         "FaultType": "LV",
         "IsDepot": false,
         "Location": {
          "DisplayText": "51.399185703007461, -0.560775192642796",
          "Latitude": 51.39918570300746,
          "Longitude": -0.560775192642796
         },
         "LoggedAtUtc": "/Date(1616581620000)/",
         "Message": "We’re sorry for the loss of supply. We currently have a fault affecting the areas listed. Our engineers are on site working hard to get the power back on as quickly as they can. If you need more information, please call us on 105 or send us a message on <a href=\"http://m.me/ssencommunity/\">Facebook</a> or Twitter (<a href=\"https://twitter.com/ssencommunity\">@ssencommunity</a>) and quote reference 'HA5277'",
         "Reference": "HA5277",
         "Title": "GU25 Area"
        },
        {
         "AffectedAreas": [
          "UB7 0DE",
          "UB7 0DH",
          "UB7 0DJ",
          "UB7 0DL",
          "UB7 0DQ",
          "UB7 0EP"
         ],
         "DepotCode": "36",
         "EstimatedArrivalOnSiteUtc": "/Date(-62135596800000)/",
         "EstimatedFaultUpdateTimeUtc": "/Date(-62135596800000)/",
         "EstimatedRestorationTimeUtc": "/Date(1616598600000)/",
         "FaultType": "LV",
         "IsDepot": false,
         "Location": {
          "DisplayText": "51.482524634548092, -0.47188704761798156",
          "Latitude": 51.48252463454809,
          "Longitude": -0.47188704761798156
         },
         "LoggedAtUtc": "/Date(1616581200000)/",
         "Message": "We’re sorry for the loss of supply. We currently have a fault affecting the areas listed. Our engineers are on site working hard to get the power back on as quickly as they can. If you need more information, please call us on 105 or send us a message on <a href=\"http://m.me/ssencommunity/\">Facebook</a> or Twitter (<a href=\"https://twitter.com/ssencommunity\">@ssencommunity</a>) and quote reference 'HA6130'",
         "Reference": "HA6130",
         "Title": "UB7 Area"
        },
        {
         "AffectedAreas": [
          "HS3 3AL"
         ],
         "DepotCode": "52",
         "EstimatedArrivalOnSiteUtc": "/Date(-62135596800000)/",
         "EstimatedFaultUpdateTimeUtc": "/Date(-62135596800000)/",
         "EstimatedRestorationTimeUtc": "/Date(1616594400000)/",
         "FaultType": "PSI",
         "IsDepot": false,
         "Location": {
          "DisplayText": "57.933236099554485, -6.8469493046631813",
          "Latitude": 57.933236099554485,
          "Longitude": -6.846949304663181
         },
         "LoggedAtUtc": "/Date(1616580000000)/",
         "Message": "We're sorry for the loss of supply. The reason you're currently without power is a planned outage in the areas listed. We have turned off your electricity supply to allow us to safely carry out essential work to our electrical equipment. By doing this, it'll help us to improve the reliability of our service to you for the future. If you have any questions or require more information, please call us on 105 or send us a message on <a href=\"http://m.me/ssencommunity/\">Facebook</a> or Twitter (<a href=\"https://twitter.com/ssencommunity\">@ssencommunity</a>) with reference  '197923'. You will have received a letter from us confirming your power will be interrupted with specific information relating to your property. If you did not receive this letter, you can assume your power will not be interrupted.",
         "Reference": "197923",
         "Title": "HS3 Area"
        },
        {
         "AffectedAreas": [
          "OX44 9DD",
          "OX44 9JL"
         ],
         "DepotCode": "42",
         "EstimatedArrivalOnSiteUtc": "/Date(-62135596800000)/",
         "EstimatedFaultUpdateTimeUtc": "/Date(-62135596800000)/",
         "EstimatedRestorationTimeUtc": "/Date(1616605200000)/",
         "FaultType": "HV",
         "IsDepot": false,
         "Location": {
          "DisplayText": "51.715927132714363, -1.1504856701437096",
          "Latitude": 51.71592713271436,
          "Longitude": -1.1504856701437096
         },
         "LoggedAtUtc": "/Date(1616578440000)/",
         "Message": "We’re sorry for the loss of supply. We currently have a fault affecting the areas listed. Our engineers are on site working hard to get the power back on as quickly as they can. If you need more information, please call us on 105 or send us a message on <a href=\"http://m.me/ssencommunity/\">Facebook</a> or Twitter (<a href=\"https://twitter.com/ssencommunity\">@ssencommunity</a>) and quote reference 'HA6589'",
         "Reference": "HA6589",
         "Title": "OX44 Area"
        },
        {
         "AffectedAreas": [
          "PA37 1QX",
          "PA37 1QZ",
          "PA37 1RA",
          "PA37 1RD",
          "PA37 1RE",
          "PA37 1RG",
          "PA37 1RX",
          "PA37 1TD"
         ],
         "DepotCode": "57",
         "EstimatedArrivalOnSiteUtc": "/Date(-62135596800000)/",
         "EstimatedFaultUpdateTimeUtc": "/Date(-62135596800000)/",
         "EstimatedRestorationTimeUtc": "/Date(1616596200000)/",
         "FaultType": "PSI",
         "IsDepot": false,
         "Location": {
          "DisplayText": "56.467234073548283, -5.3558289040756195",
          "Latitude": 56.46723407354828,
          "Longitude": -5.3558289040756195
         },
         "LoggedAtUtc": "/Date(1616578200000)/",
         "Message": "We're sorry for the loss of supply. The reason you're currently without power is a planned outage in the areas listed. We have turned off your electricity supply to allow us to safely carry out essential work to our electrical equipment. By doing this, it'll help us to improve the reliability of our service to you for the future. If you have any questions or require more information, please call us on 105 or send us a message on <a href=\"http://m.me/ssencommunity/\">Facebook</a> or Twitter (<a href=\"https://twitter.com/ssencommunity\">@ssencommunity</a>) with reference  '197872'. You will have received a letter from us confirming your power will be interrupted with specific information relating to your property. If you did not receive this letter, you can assume your power will not be interrupted.",
         "Reference": "197872",
         "Title": "PA37 Area"
        },
        {
         "AffectedAreas": [
          "PA31",
          "PA31 8RR",
          "PA31 8RU",
          "PA31 8RX",
          "PA31 8RY",
          "PA31 8SE",
          "PA31 8UG",
          "PA31 8UR",
          "PA31 8WR"
         ],
         "DepotCode": "57",
         "EstimatedArrivalOnSiteUtc": "/Date(-62135596800000)/",
         "EstimatedFaultUpdateTimeUtc": "/Date(-62135596800000)/",
         "EstimatedRestorationTimeUtc": "/Date(1616592600000)/",
         "FaultType": "HV",
         "IsDepot": false,
         "Location": {
          "DisplayText": "56.019192923111106, -5.3921095778087613",
          "Latitude": 56.019192923111106,
          "Longitude": -5.392109577808761
         },
         "LoggedAtUtc": "/Date(1616578020000)/",
         "Message": "We’re sorry for the loss of supply. We currently have a fault affecting the areas listed. Our engineers are on site working hard to get the power back on as quickly as they can. If you need more information, please call us on 105 or send us a message on <a href=\"http://m.me/ssencommunity/\">Facebook</a> or Twitter (<a href=\"https://twitter.com/ssencommunity\">@ssencommunity</a>) and quote reference 'HA6453'",
         "Reference": "HA6453",
         "Title": "PA31 Area"
        },
        {
         "AffectedAreas": [
          "SO32 1DR",
          "SO32 2BH",
          "SO32 2LD",
          "SO32 2LE",
          "SO32 2LN",
          "SO32 2LQ",
          "SO32 2LR"
         ],
         "DepotCode": "40",
         "EstimatedArrivalOnSiteUtc": "/Date(-62135596800000)/",
         "EstimatedFaultUpdateTimeUtc": "/Date(-62135596800000)/",
         "EstimatedRestorationTimeUtc": "/Date(1616601600000)/",
         "FaultType": "PSI",
         "IsDepot": false,
         "Location": {
          "DisplayText": "50.936270444980437, -1.2119292870548546",
          "Latitude": 50.93627044498044,
          "Longitude": -1.2119292870548546
         },
         "LoggedAtUtc": "/Date(1616576400000)/",
         "Message": "We're sorry for the loss of supply. The reason you're currently without power is a planned outage in the areas listed. We have turned off your electricity supply to allow us to safely carry out essential work to our electrical equipment. By doing this, it'll help us to improve the reliability of our service to you for the future. If you have any questions or require more information, please call us on 105 or send us a message on <a href=\"http://m.me/ssencommunity/\">Facebook</a> or Twitter (<a href=\"https://twitter.com/ssencommunity\">@ssencommunity</a>) with reference  '197972'. You will have received a letter from us confirming your power will be interrupted with specific information relating to your property. If you did not receive this letter, you can assume your power will not be interrupted.",
         "Reference": "197972",
         "Title": "SO32 Area"
        },
        {
         "AffectedAreas": [
          "AB13 0HS",
          "AB13 0HX",
          "AB15 9EB",
          "AB15 9EJ",
          "AB15 9EL"
         ],
         "DepotCode": "24",
         "EstimatedArrivalOnSiteUtc": "/Date(-62135596800000)/",
         "EstimatedFaultUpdateTimeUtc": "/Date(-62135596800000)/",
         "EstimatedRestorationTimeUtc": "/Date(1616598000000)/",
         "FaultType": "PSI",
         "IsDepot": false,
         "Location": {
          "DisplayText": "57.1137432774117, -2.2164971115660341",
          "Latitude": 57.1137432774117,
          "Longitude": -2.216497111566034
         },
         "LoggedAtUtc": "/Date(1616576400000)/",
         "Message": "We're sorry for the loss of supply. The reason you're currently without power is a planned outage in the areas listed. We have turned off your electricity supply to allow us to safely carry out essential work to our electrical equipment. By doing this, it'll help us to improve the reliability of our service to you for the future. If you have any questions or require more information, please call us on 105 or send us a message on <a href=\"http://m.me/ssencommunity/\">Facebook</a> or Twitter (<a href=\"https://twitter.com/ssencommunity\">@ssencommunity</a>) with reference  '197808'. You will have received a letter from us confirming your power will be interrupted with specific information relating to your property. If you did not receive this letter, you can assume your power will not be interrupted.",
         "Reference": "197808",
         "Title": "AB15 Area"
        },
        {
         "AffectedAreas": [
          "KW1 4HG",
          "KW12 6XJ",
          "KW12 6YW",
          "KW14 7QZ"
         ],
         "DepotCode": "41",
         "EstimatedArrivalOnSiteUtc": "/Date(-62135596800000)/",
         "EstimatedFaultUpdateTimeUtc": "/Date(-62135596800000)/",
         "EstimatedRestorationTimeUtc": "/Date(1616598000000)/",
         "FaultType": "PSI",
         "IsDepot": false,
         "Location": {
          "DisplayText": "58.491985787547627, -3.4783505992290831",
          "Latitude": 58.49198578754763,
          "Longitude": -3.478350599229083
         },
         "LoggedAtUtc": "/Date(1616576400000)/",
         "Message": "We're sorry for the loss of supply. The reason you're currently without power is a planned outage in the areas listed. We have turned off your electricity supply to allow us to safely carry out essential work to our electrical equipment. By doing this, it'll help us to improve the reliability of our service to you for the future. If you have any questions or require more information, please call us on 105 or send us a message on <a href=\"http://m.me/ssencommunity/\">Facebook</a> or Twitter (<a href=\"https://twitter.com/ssencommunity\">@ssencommunity</a>) with reference  '198266'. You will have received a letter from us confirming your power will be interrupted with specific information relating to your property. If you did not receive this letter, you can assume your power will not be interrupted.",
         "Reference": "198266",
         "Title": "KW12 Area"
        },
        {
         "AffectedAreas": [
          "RG25 2EF",
          "RG25 2EH",
          "RG25 2ET",
          "RG25 2EZ"
         ],
         "DepotCode": "44",
         "EstimatedArrivalOnSiteUtc": "/Date(-62135596800000)/",
         "EstimatedFaultUpdateTimeUtc": "/Date(-62135596800000)/",
         "EstimatedRestorationTimeUtc": "/Date(1616601600000)/",
         "FaultType": "PSI",
         "IsDepot": false,
         "Location": {
          "DisplayText": "51.170647940854025, -1.1320759524432269",
          "Latitude": 51.170647940854025,
          "Longitude": -1.132075952443227
         },
         "LoggedAtUtc": "/Date(1616576400000)/",
         "Message": "We're sorry for the loss of supply. The reason you're currently without power is a planned outage in the areas listed. We have turned off your electricity supply to allow us to safely carry out essential work to our electrical equipment. By doing this, it'll help us to improve the reliability of our service to you for the future. If you have any questions or require more information, please call us on 105 or send us a message on <a href=\"http://m.me/ssencommunity/\">Facebook</a> or Twitter (<a href=\"https://twitter.com/ssencommunity\">@ssencommunity</a>) with reference  '198388'. You will have received a letter from us confirming your power will be interrupted with specific information relating to your property. If you did not receive this letter, you can assume your power will not be interrupted.",
         "Reference": "198388",
         "Title": "RG25 Area"
        },
        {
         "AffectedAreas": [
          "AB45 2XT",
          "AB45 2XX"
         ],
         "DepotCode": "24",
         "EstimatedArrivalOnSiteUtc": "/Date(-62135596800000)/",
         "EstimatedFaultUpdateTimeUtc": "/Date(-62135596800000)/",
         "EstimatedRestorationTimeUtc": "/Date(1616598000000)/",
         "FaultType": "PSI",
         "IsDepot": false,
         "Location": {
          "DisplayText": "57.671615696843936, -2.6897377192936638",
          "Latitude": 57.671615696843936,
          "Longitude": -2.689737719293664
         },
         "LoggedAtUtc": "/Date(1616576400000)/",
         "Message": "We're sorry for the loss of supply. The reason you're currently without power is a planned outage in the areas listed. We have turned off your electricity supply to allow us to safely carry out essential work to our electrical equipment. By doing this, it'll help us to improve the reliability of our service to you for the future. If you have any questions or require more information, please call us on 105 or send us a message on <a href=\"http://m.me/ssencommunity/\">Facebook</a> or Twitter (<a href=\"https://twitter.com/ssencommunity\">@ssencommunity</a>) with reference  '197849'. You will have received a letter from us confirming your power will be interrupted with specific information relating to your property. If you did not receive this letter, you can assume your power will not be interrupted.",
         "Reference": "197849",
         "Title": "AB45 Area"
        },
        {
         "AffectedAreas": [
          "KA27 8PE"
         ],
         "DepotCode": "57",
         "EstimatedArrivalOnSiteUtc": "/Date(-62135596800000)/",
         "EstimatedFaultUpdateTimeUtc": "/Date(-62135596800000)/",
         "EstimatedRestorationTimeUtc": "/Date(1616594400000)/",
         "FaultType": "PSI",
         "IsDepot": false,
         "Location": {
          "DisplayText": "55.468223812684322, -5.2757778418867209",
          "Latitude": 55.46822381268432,
          "Longitude": -5.275777841886721
         },
         "LoggedAtUtc": "/Date(1616576400000)/",
         "Message": "We're sorry for the loss of supply. The reason you're currently without power is a planned outage in the areas listed. We have turned off your electricity supply to allow us to safely carry out essential work to our electrical equipment. By doing this, it'll help us to improve the reliability of our service to you for the future. If you have any questions or require more information, please call us on 105 or send us a message on <a href=\"http://m.me/ssencommunity/\">Facebook</a> or Twitter (<a href=\"https://twitter.com/ssencommunity\">@ssencommunity</a>) with reference  '197970'. You will have received a letter from us confirming your power will be interrupted with specific information relating to your property. If you did not receive this letter, you can assume your power will not be interrupted.",
         "Reference": "197970",
         "Title": "KA27 Area"
        },
        {
         "AffectedAreas": [
          "KY4 0JA"
         ],
         "DepotCode": "70",
         "EstimatedArrivalOnSiteUtc": "/Date(-62135596800000)/",
         "EstimatedFaultUpdateTimeUtc": "/Date(-62135596800000)/",
         "EstimatedRestorationTimeUtc": "/Date(1616590800000)/",
         "FaultType": "PSI",
         "IsDepot": false,
         "Location": {
          "DisplayText": "56.162244637780553, -3.39973403361067",
          "Latitude": 56.16224463778055,
          "Longitude": -3.39973403361067
         },
         "LoggedAtUtc": "/Date(1616576400000)/",
         "Message": "We're sorry for the loss of supply. The reason you're currently without power is a planned outage in the areas listed. We have turned off your electricity supply to allow us to safely carry out essential work to our electrical equipment. By doing this, it'll help us to improve the reliability of our service to you for the future. If you have any questions or require more information, please call us on 105 or send us a message on <a href=\"http://m.me/ssencommunity/\">Facebook</a> or Twitter (<a href=\"https://twitter.com/ssencommunity\">@ssencommunity</a>) with reference  '198057'. You will have received a letter from us confirming your power will be interrupted with specific information relating to your property. If you did not receive this letter, you can assume your power will not be interrupted.",
         "Reference": "198057",
         "Title": "KY4 Area"
        },
        {
         "AffectedAreas": [
          "IV30 8RS"
         ],
         "DepotCode": "24",
         "EstimatedArrivalOnSiteUtc": "/Date(-62135596800000)/",
         "EstimatedFaultUpdateTimeUtc": "/Date(-62135596800000)/",
         "EstimatedRestorationTimeUtc": "/Date(1616599800000)/",
         "FaultType": "PSI",
         "IsDepot": false,
         "Location": {
          "DisplayText": "57.633073910621334, -3.328711954900863",
          "Latitude": 57.633073910621334,
          "Longitude": -3.328711954900863
         },
         "LoggedAtUtc": "/Date(1616576400000)/",
         "Message": "We're sorry for the loss of supply. The reason you're currently without power is a planned outage in the areas listed. We have turned off your electricity supply to allow us to safely carry out essential work to our electrical equipment. By doing this, it'll help us to improve the reliability of our service to you for the future. If you have any questions or require more information, please call us on 105 or send us a message on <a href=\"http://m.me/ssencommunity/\">Facebook</a> or Twitter (<a href=\"https://twitter.com/ssencommunity\">@ssencommunity</a>) with reference  '198741'. You will have received a letter from us confirming your power will be interrupted with specific information relating to your property. If you did not receive this letter, you can assume your power will not be interrupted.",
         "Reference": "198741",
         "Title": "IV30 Area"
        },
        {
         "AffectedAreas": [
          "GL54 2HQ",
          "GL54 2NB",
          "GL54 2ND",
          "GL54 2NE"
         ],
         "DepotCode": "42",
         "EstimatedArrivalOnSiteUtc": "/Date(-62135596800000)/",
         "EstimatedFaultUpdateTimeUtc": "/Date(-62135596800000)/",
         "EstimatedRestorationTimeUtc": "/Date(1616601600000)/",
         "FaultType": "PSI",
         "IsDepot": false,
         "Location": {
          "DisplayText": "51.88222653581424, -1.7267395864208659",
          "Latitude": 51.88222653581424,
          "Longitude": -1.726739586420866
         },
         "LoggedAtUtc": "/Date(1616574600000)/",
         "Message": "We're sorry for the loss of supply. The reason you're currently without power is a planned outage in the areas listed. We have turned off your electricity supply to allow us to safely carry out essential work to our electrical equipment. By doing this, it'll help us to improve the reliability of our service to you for the future. If you have any questions or require more information, please call us on 105 or send us a message on <a href=\"http://m.me/ssencommunity/\">Facebook</a> or Twitter (<a href=\"https://twitter.com/ssencommunity\">@ssencommunity</a>) with reference  '197795'. You will have received a letter from us confirming your power will be interrupted with specific information relating to your property. If you did not receive this letter, you can assume your power will not be interrupted.",
         "Reference": "197795",
         "Title": "GL54 Area"
        },
        {
         "AffectedAreas": [
          "SO24 0BT",
          "SO24 0BU",
          "SO24 0DS",
          "SO24 0DU"
         ],
         "DepotCode": "44",
         "EstimatedArrivalOnSiteUtc": "/Date(-62135596800000)/",
         "EstimatedFaultUpdateTimeUtc": "/Date(-62135596800000)/",
         "EstimatedRestorationTimeUtc": "/Date(1616605200000)/",
         "FaultType": "PSI",
         "IsDepot": false,
         "Location": {
          "DisplayText": "51.084892462773936, -1.08422510367185",
          "Latitude": 51.08489246277394,
          "Longitude": -1.08422510367185
         },
         "LoggedAtUtc": "/Date(1616574600000)/",
         "Message": "We're sorry for the loss of supply. The reason you're currently without power is a planned outage in the areas listed. We have turned off your electricity supply to allow us to safely carry out essential work to our electrical equipment. By doing this, it'll help us to improve the reliability of our service to you for the future. If you have any questions or require more information, please call us on 105 or send us a message on <a href=\"http://m.me/ssencommunity/\">Facebook</a> or Twitter (<a href=\"https://twitter.com/ssencommunity\">@ssencommunity</a>) with reference  '198059'. You will have received a letter from us confirming your power will be interrupted with specific information relating to your property. If you did not receive this letter, you can assume your power will not be interrupted.",
         "Reference": "198059",
         "Title": "SO24 Area"
        },
        {
         "AffectedAreas": [
          "GU24 8SJ",
          "GU25 4NA",
          "GU25 4ND"
         ],
         "DepotCode": "53",
         "EstimatedArrivalOnSiteUtc": "/Date(-62135596800000)/",
         "EstimatedFaultUpdateTimeUtc": "/Date(-62135596800000)/",
         "EstimatedRestorationTimeUtc": "/Date(1616601600000)/",
         "FaultType": "PSI",
         "IsDepot": false,
         "Location": {
          "DisplayText": "51.376256074119517, -0.60922563929882823",
          "Latitude": 51.37625607411952,
          "Longitude": -0.6092256392988282
         },
         "LoggedAtUtc": "/Date(1616572800000)/",
         "Message": "We're sorry for the loss of supply. The reason you're currently without power is a planned outage in the areas listed. We have turned off your electricity supply to allow us to safely carry out essential work to our electrical equipment. By doing this, it'll help us to improve the reliability of our service to you for the future. If you have any questions or require more information, please call us on 105 or send us a message on <a href=\"http://m.me/ssencommunity/\">Facebook</a> or Twitter (<a href=\"https://twitter.com/ssencommunity\">@ssencommunity</a>) with reference  '197773'. You will have received a letter from us confirming your power will be interrupted with specific information relating to your property. If you did not receive this letter, you can assume your power will not be interrupted.",
         "Reference": "197773",
         "Title": "GU24 & GU25 Areas"
        },
        {
         "AffectedAreas": [
          "PO1 1QA",
          "PO11 0AA",
          "PO11 0LE",
          "PO11 0LF",
          "PO11 0LH",
          "PO11 0LJ",
          "PO11 0LL",
          "PO11 0LR",
          "PO11 0LS",
          "PO11 0LT",
          "PO11 0LU",
          "PO11 0LX",
          "PO11 0LY",
          "PO11 0LZ",
          "PO11 0NA",
          "PO11 0NJ",
          "PO11 0NN",
          "PO11 0NR",
          "PO11 0NS",
          "PO11 0NT",
          "PO11 0NX",
          "PO11 0NY",
          "PO11 0NZ",
          "PO11 0PA",
          "PO11 0PB",
          "PO11 0PD",
          "PO11 0PE",
          "PO11 0PG",
          "PO11 0PH",
          "PO11 0PJ",
          "PO11 0PL",
          "PO11 0PN",
          "PO11 0PQ",
          "PO11 0PR",
          "PO11 0PS",
          "PO11 0PT",
          "PO11 0PX",
          "PO11 0PY",
          "PO11 0PZ",
          "PO11 0QE",
          "PO11 0QG",
          "PO11 0QQ",
          "PO11 9PD",
          "PO11 9PE",
          "PO11 9PG",
          "PO11 9PL",
          "PO11 9PQ"
         ],
         "DepotCode": "33",
         "EstimatedArrivalOnSiteUtc": "/Date(-62135596800000)/",
         "EstimatedFaultUpdateTimeUtc": "/Date(-62135596800000)/",
         "EstimatedRestorationTimeUtc": "/Date(1616590800000)/",
         "FaultType": "HV",
         "IsDepot": false,
         "Location": {
          "DisplayText": "50.806640207234864, -0.97654790972223859",
          "Latitude": 50.806640207234864,
          "Longitude": -0.9765479097222386
         },
         "LoggedAtUtc": "/Date(1616559780000)/",
         "Message": "We’re sorry for the loss of supply. We currently have a fault affecting the areas listed. Our engineers are on site working hard to get the power back on as quickly as they can. If you need more information, please call us on 105 or send us a message on <a href=\"http://m.me/ssencommunity/\">Facebook</a> or Twitter (<a href=\"https://twitter.com/ssencommunity\">@ssencommunity</a>) and quote reference 'HA6367'",
         "Reference": "HA6367",
         "Title": "PO11 Area"
        },
        {
         "AffectedAreas": [
          "GL54 2LN",
          "GL54 2NA",
          "GL54 2NB",
          "GL54 2ND"
         ],
         "DepotCode": "42",
         "EstimatedArrivalOnSiteUtc": "/Date(-62135596800000)/",
         "EstimatedFaultUpdateTimeUtc": "/Date(-62135596800000)/",
         "EstimatedRestorationTimeUtc": "/Date(1616670000000)/",
         "FaultType": "PSI",
         "IsDepot": false,
         "Location": {
          "DisplayText": "51.870024327591686, -1.722238375286941",
          "Latitude": 51.870024327591686,
          "Longitude": -1.722238375286941
         },
         "LoggedAtUtc": "/Date(1616493600000)/",
         "Message": "We're sorry for the loss of supply. The reason you're currently without power is a planned outage in the areas listed. We have turned off your electricity supply to allow us to safely carry out essential work to our electrical equipment. By doing this, it'll help us to improve the reliability of our service to you for the future. If you have any questions or require more information, please call us on 105 or send us a message on <a href=\"http://m.me/ssencommunity/\">Facebook</a> or Twitter (<a href=\"https://twitter.com/ssencommunity\">@ssencommunity</a>) with reference  '197796'. You will have received a letter from us confirming your power will be interrupted with specific information relating to your property. If you did not receive this letter, you can assume your power will not be interrupted.",
         "Reference": "197796",
         "Title": "GL54 Area"
        }
       ],
       "Message": "28 reported faults",
       "TimestampUtc": "/Date(1616589322000)/",
       "Uri": "http://api.sse.com/powerdistribution/network/v3/api/faults/"
      },
      "text/plain": [
       "<IPython.core.display.JSON object>"
      ]
     },
     "execution_count": 45,
     "metadata": {
      "application/json": {
       "expanded": false,
       "root": "root"
      }
     },
     "output_type": "execute_result"
    }
   ],
   "source": [
    "url = 'https://www.ssen.co.uk/Sse_Components/Views/Controls/FormControls/PowerTrackHandler.ashx'\n",
    "\n",
    "r_json = requests.get(url, verify=False).json()\n",
    "\n",
    "JSON(r_json)"
   ]
  },
  {
   "cell_type": "code",
   "execution_count": null,
   "id": "copyrighted-centre",
   "metadata": {},
   "outputs": [],
   "source": []
  },
  {
   "cell_type": "code",
   "execution_count": 47,
   "id": "resident-liquid",
   "metadata": {},
   "outputs": [],
   "source": [
    "#exports\n",
    "def clean_ssen_incident_info(incident):\n",
    "    ssen_relevant_dates_name_mapping = { \n",
    "        'LoggedAtUtc': 'received_time',\n",
    "        'EstimatedArrivalOnSiteUtc': 'estimated_arrival_time',\n",
    "        'EstimatedRestorationTimeUtc': 'estimated_restored_time'\n",
    "     }\n",
    "\n",
    "    cleaned_incident_info = dict()\n",
    "\n",
    "    for old_dt_name, new_dt_name in ssen_relevant_dates_name_mapping.items():\n",
    "        dt_str = incident[old_dt_name].split('(')[1].split(')')[0]\n",
    "\n",
    "        if dt_str != '-62135596800000':\n",
    "            dt = pd.to_datetime(int(dt_str)*1e6).strftime('%Y-%m-%d %H:%M:%S')\n",
    "        else:\n",
    "            dt = None\n",
    "\n",
    "        cleaned_incident_info[new_dt_name] = dt\n",
    "\n",
    "    cleaned_incident_info['postcodes_impacted'] = incident['AffectedAreas']\n",
    "    cleaned_incident_info['description'] = incident['Message']\n",
    "    \n",
    "    return cleaned_incident_info"
   ]
  },
  {
   "cell_type": "code",
   "execution_count": 48,
   "id": "changed-solution",
   "metadata": {},
   "outputs": [
    {
     "data": {
      "application/json": {
       "description": "We’re sorry for the loss of supply. We currently have a fault affecting the areas listed. Our engineers are on site working hard to get the power back on as quickly as they can. If you need more information, please call us on 105 or send us a message on <a href=\"http://m.me/ssencommunity/\">Facebook</a> or Twitter (<a href=\"https://twitter.com/ssencommunity\">@ssencommunity</a>) and quote reference 'HA6614'",
       "estimated_arrival_time": null,
       "estimated_restored_time": "2021-03-24 15:00:00",
       "postcodes_impacted": [
        "AB21 0QT",
        "AB21 0QX",
        "AB21 0RS",
        "AB41 6QB",
        "AB41 6RT",
        "AB41 6RU",
        "AB41 6RX",
        "AB41 6RY",
        "AB41 6SA",
        "AB41 6SL",
        "AB41 6SN",
        "AB41 6SP",
        "AB41 6SS",
        "AB41 6ST",
        "AB41 6TA",
        "AB41 6TB",
        "AB41 7PQ",
        "AB41 7PW",
        "AB41 7RA",
        "AB41 7RQ",
        "AB41 7RR",
        "AB41 7RS",
        "AB41 7RT",
        "AB41 7RU",
        "AB41 7RW",
        "AB41 7RZ"
       ],
       "received_time": "2021-03-24 12:20:00"
      },
      "text/plain": [
       "<IPython.core.display.JSON object>"
      ]
     },
     "execution_count": 48,
     "metadata": {
      "application/json": {
       "expanded": false,
       "root": "root"
      }
     },
     "output_type": "execute_result"
    }
   ],
   "source": [
    "incident = r_json['Faults'][0]\n",
    "\n",
    "cleaned_incident_info = clean_ssen_incident_info(incident)\n",
    "    \n",
    "JSON(cleaned_incident_info)"
   ]
  },
  {
   "cell_type": "code",
   "execution_count": null,
   "id": "operational-disco",
   "metadata": {},
   "outputs": [],
   "source": []
  },
  {
   "cell_type": "code",
   "execution_count": 49,
   "id": "mathematical-samba",
   "metadata": {},
   "outputs": [],
   "source": [
    "#exports\n",
    "def get_ssen_incidents_info(incidents_url='https://www.ssen.co.uk/Sse_Components/Views/Controls/FormControls/PowerTrackHandler.ashx'):\n",
    "    raw_incidents_info = requests.get(incidents_url, verify=False).json()\n",
    "    cleaned_incidents_info = dict()\n",
    "\n",
    "    for incident in track(raw_incidents_info['Faults']):\n",
    "        incident_ref = incident['Reference']\n",
    "        cleaned_incidents_info[incident_ref] = clean_ssen_incident_info(incident)\n",
    "        \n",
    "    return raw_incidents_info, cleaned_incidents_info"
   ]
  },
  {
   "cell_type": "code",
   "execution_count": 50,
   "id": "figured-arthritis",
   "metadata": {},
   "outputs": [
    {
     "name": "stderr",
     "output_type": "stream",
     "text": [
      "C:\\Users\\Ayrto\\anaconda3\\envs\\outage\\lib\\site-packages\\urllib3\\connectionpool.py:1020: InsecureRequestWarning: Unverified HTTPS request is being made to host 'www.ssen.co.uk'. Adding certificate verification is strongly advised. See: https://urllib3.readthedocs.io/en/latest/advanced-usage.html#ssl-warnings\n",
      "  InsecureRequestWarning,\n"
     ]
    },
    {
     "data": {
      "text/html": [
       "<div><span class=\"Text-label\" style=\"display:inline-block; overflow:hidden; white-space:nowrap; text-overflow:ellipsis; min-width:0; max-width:15ex; vertical-align:middle; text-align:right\"></span>\n",
       "<progress style=\"width:60ex\" max=\"28\" value=\"28\" class=\"Progress-main\"/></progress>\n",
       "<span class=\"Progress-label\"><strong>100%</strong></span>\n",
       "<span class=\"Iteration-label\">28/28</span>\n",
       "<span class=\"Time-label\">[00:00<00:00, 0.00s/it]</span></div>"
      ],
      "text/plain": [
       "\u001b[A\u001b[2K\r",
       " [████████████████████████████████████████████████████████████] 28/28 [00:00<00:00, 0.00s/it]"
      ]
     },
     "metadata": {},
     "output_type": "display_data"
    },
    {
     "data": {
      "application/json": [
       {
        "197773": {
         "description": "We're sorry for the loss of supply. The reason you're currently without power is a planned outage in the areas listed. We have turned off your electricity supply to allow us to safely carry out essential work to our electrical equipment. By doing this, it'll help us to improve the reliability of our service to you for the future. If you have any questions or require more information, please call us on 105 or send us a message on <a href=\"http://m.me/ssencommunity/\">Facebook</a> or Twitter (<a href=\"https://twitter.com/ssencommunity\">@ssencommunity</a>) with reference  '197773'. You will have received a letter from us confirming your power will be interrupted with specific information relating to your property. If you did not receive this letter, you can assume your power will not be interrupted.",
         "estimated_arrival_time": null,
         "estimated_restored_time": "2021-03-24 16:00:00",
         "postcodes_impacted": [
          "GU24 8SJ",
          "GU25 4NA",
          "GU25 4ND"
         ],
         "received_time": "2021-03-24 08:00:00"
        },
        "197795": {
         "description": "We're sorry for the loss of supply. The reason you're currently without power is a planned outage in the areas listed. We have turned off your electricity supply to allow us to safely carry out essential work to our electrical equipment. By doing this, it'll help us to improve the reliability of our service to you for the future. If you have any questions or require more information, please call us on 105 or send us a message on <a href=\"http://m.me/ssencommunity/\">Facebook</a> or Twitter (<a href=\"https://twitter.com/ssencommunity\">@ssencommunity</a>) with reference  '197795'. You will have received a letter from us confirming your power will be interrupted with specific information relating to your property. If you did not receive this letter, you can assume your power will not be interrupted.",
         "estimated_arrival_time": null,
         "estimated_restored_time": "2021-03-24 16:00:00",
         "postcodes_impacted": [
          "GL54 2HQ",
          "GL54 2NB",
          "GL54 2ND",
          "GL54 2NE"
         ],
         "received_time": "2021-03-24 08:30:00"
        },
        "197796": {
         "description": "We're sorry for the loss of supply. The reason you're currently without power is a planned outage in the areas listed. We have turned off your electricity supply to allow us to safely carry out essential work to our electrical equipment. By doing this, it'll help us to improve the reliability of our service to you for the future. If you have any questions or require more information, please call us on 105 or send us a message on <a href=\"http://m.me/ssencommunity/\">Facebook</a> or Twitter (<a href=\"https://twitter.com/ssencommunity\">@ssencommunity</a>) with reference  '197796'. You will have received a letter from us confirming your power will be interrupted with specific information relating to your property. If you did not receive this letter, you can assume your power will not be interrupted.",
         "estimated_arrival_time": null,
         "estimated_restored_time": "2021-03-25 11:00:00",
         "postcodes_impacted": [
          "GL54 2LN",
          "GL54 2NA",
          "GL54 2NB",
          "GL54 2ND"
         ],
         "received_time": "2021-03-23 10:00:00"
        },
        "197808": {
         "description": "We're sorry for the loss of supply. The reason you're currently without power is a planned outage in the areas listed. We have turned off your electricity supply to allow us to safely carry out essential work to our electrical equipment. By doing this, it'll help us to improve the reliability of our service to you for the future. If you have any questions or require more information, please call us on 105 or send us a message on <a href=\"http://m.me/ssencommunity/\">Facebook</a> or Twitter (<a href=\"https://twitter.com/ssencommunity\">@ssencommunity</a>) with reference  '197808'. You will have received a letter from us confirming your power will be interrupted with specific information relating to your property. If you did not receive this letter, you can assume your power will not be interrupted.",
         "estimated_arrival_time": null,
         "estimated_restored_time": "2021-03-24 15:00:00",
         "postcodes_impacted": [
          "AB13 0HS",
          "AB13 0HX",
          "AB15 9EB",
          "AB15 9EJ",
          "AB15 9EL"
         ],
         "received_time": "2021-03-24 09:00:00"
        },
        "197849": {
         "description": "We're sorry for the loss of supply. The reason you're currently without power is a planned outage in the areas listed. We have turned off your electricity supply to allow us to safely carry out essential work to our electrical equipment. By doing this, it'll help us to improve the reliability of our service to you for the future. If you have any questions or require more information, please call us on 105 or send us a message on <a href=\"http://m.me/ssencommunity/\">Facebook</a> or Twitter (<a href=\"https://twitter.com/ssencommunity\">@ssencommunity</a>) with reference  '197849'. You will have received a letter from us confirming your power will be interrupted with specific information relating to your property. If you did not receive this letter, you can assume your power will not be interrupted.",
         "estimated_arrival_time": null,
         "estimated_restored_time": "2021-03-24 15:00:00",
         "postcodes_impacted": [
          "AB45 2XT",
          "AB45 2XX"
         ],
         "received_time": "2021-03-24 09:00:00"
        },
        "197872": {
         "description": "We're sorry for the loss of supply. The reason you're currently without power is a planned outage in the areas listed. We have turned off your electricity supply to allow us to safely carry out essential work to our electrical equipment. By doing this, it'll help us to improve the reliability of our service to you for the future. If you have any questions or require more information, please call us on 105 or send us a message on <a href=\"http://m.me/ssencommunity/\">Facebook</a> or Twitter (<a href=\"https://twitter.com/ssencommunity\">@ssencommunity</a>) with reference  '197872'. You will have received a letter from us confirming your power will be interrupted with specific information relating to your property. If you did not receive this letter, you can assume your power will not be interrupted.",
         "estimated_arrival_time": null,
         "estimated_restored_time": "2021-03-24 14:30:00",
         "postcodes_impacted": [
          "PA37 1QX",
          "PA37 1QZ",
          "PA37 1RA",
          "PA37 1RD",
          "PA37 1RE",
          "PA37 1RG",
          "PA37 1RX",
          "PA37 1TD"
         ],
         "received_time": "2021-03-24 09:30:00"
        },
        "197923": {
         "description": "We're sorry for the loss of supply. The reason you're currently without power is a planned outage in the areas listed. We have turned off your electricity supply to allow us to safely carry out essential work to our electrical equipment. By doing this, it'll help us to improve the reliability of our service to you for the future. If you have any questions or require more information, please call us on 105 or send us a message on <a href=\"http://m.me/ssencommunity/\">Facebook</a> or Twitter (<a href=\"https://twitter.com/ssencommunity\">@ssencommunity</a>) with reference  '197923'. You will have received a letter from us confirming your power will be interrupted with specific information relating to your property. If you did not receive this letter, you can assume your power will not be interrupted.",
         "estimated_arrival_time": null,
         "estimated_restored_time": "2021-03-24 14:00:00",
         "postcodes_impacted": [
          "HS3 3AL"
         ],
         "received_time": "2021-03-24 10:00:00"
        },
        "197970": {
         "description": "We're sorry for the loss of supply. The reason you're currently without power is a planned outage in the areas listed. We have turned off your electricity supply to allow us to safely carry out essential work to our electrical equipment. By doing this, it'll help us to improve the reliability of our service to you for the future. If you have any questions or require more information, please call us on 105 or send us a message on <a href=\"http://m.me/ssencommunity/\">Facebook</a> or Twitter (<a href=\"https://twitter.com/ssencommunity\">@ssencommunity</a>) with reference  '197970'. You will have received a letter from us confirming your power will be interrupted with specific information relating to your property. If you did not receive this letter, you can assume your power will not be interrupted.",
         "estimated_arrival_time": null,
         "estimated_restored_time": "2021-03-24 14:00:00",
         "postcodes_impacted": [
          "KA27 8PE"
         ],
         "received_time": "2021-03-24 09:00:00"
        },
        "197972": {
         "description": "We're sorry for the loss of supply. The reason you're currently without power is a planned outage in the areas listed. We have turned off your electricity supply to allow us to safely carry out essential work to our electrical equipment. By doing this, it'll help us to improve the reliability of our service to you for the future. If you have any questions or require more information, please call us on 105 or send us a message on <a href=\"http://m.me/ssencommunity/\">Facebook</a> or Twitter (<a href=\"https://twitter.com/ssencommunity\">@ssencommunity</a>) with reference  '197972'. You will have received a letter from us confirming your power will be interrupted with specific information relating to your property. If you did not receive this letter, you can assume your power will not be interrupted.",
         "estimated_arrival_time": null,
         "estimated_restored_time": "2021-03-24 16:00:00",
         "postcodes_impacted": [
          "SO32 1DR",
          "SO32 2BH",
          "SO32 2LD",
          "SO32 2LE",
          "SO32 2LN",
          "SO32 2LQ",
          "SO32 2LR"
         ],
         "received_time": "2021-03-24 09:00:00"
        },
        "198057": {
         "description": "We're sorry for the loss of supply. The reason you're currently without power is a planned outage in the areas listed. We have turned off your electricity supply to allow us to safely carry out essential work to our electrical equipment. By doing this, it'll help us to improve the reliability of our service to you for the future. If you have any questions or require more information, please call us on 105 or send us a message on <a href=\"http://m.me/ssencommunity/\">Facebook</a> or Twitter (<a href=\"https://twitter.com/ssencommunity\">@ssencommunity</a>) with reference  '198057'. You will have received a letter from us confirming your power will be interrupted with specific information relating to your property. If you did not receive this letter, you can assume your power will not be interrupted.",
         "estimated_arrival_time": null,
         "estimated_restored_time": "2021-03-24 13:00:00",
         "postcodes_impacted": [
          "KY4 0JA"
         ],
         "received_time": "2021-03-24 09:00:00"
        },
        "198059": {
         "description": "We're sorry for the loss of supply. The reason you're currently without power is a planned outage in the areas listed. We have turned off your electricity supply to allow us to safely carry out essential work to our electrical equipment. By doing this, it'll help us to improve the reliability of our service to you for the future. If you have any questions or require more information, please call us on 105 or send us a message on <a href=\"http://m.me/ssencommunity/\">Facebook</a> or Twitter (<a href=\"https://twitter.com/ssencommunity\">@ssencommunity</a>) with reference  '198059'. You will have received a letter from us confirming your power will be interrupted with specific information relating to your property. If you did not receive this letter, you can assume your power will not be interrupted.",
         "estimated_arrival_time": null,
         "estimated_restored_time": "2021-03-24 17:00:00",
         "postcodes_impacted": [
          "SO24 0BT",
          "SO24 0BU",
          "SO24 0DS",
          "SO24 0DU"
         ],
         "received_time": "2021-03-24 08:30:00"
        },
        "198266": {
         "description": "We're sorry for the loss of supply. The reason you're currently without power is a planned outage in the areas listed. We have turned off your electricity supply to allow us to safely carry out essential work to our electrical equipment. By doing this, it'll help us to improve the reliability of our service to you for the future. If you have any questions or require more information, please call us on 105 or send us a message on <a href=\"http://m.me/ssencommunity/\">Facebook</a> or Twitter (<a href=\"https://twitter.com/ssencommunity\">@ssencommunity</a>) with reference  '198266'. You will have received a letter from us confirming your power will be interrupted with specific information relating to your property. If you did not receive this letter, you can assume your power will not be interrupted.",
         "estimated_arrival_time": null,
         "estimated_restored_time": "2021-03-24 15:00:00",
         "postcodes_impacted": [
          "KW1 4HG",
          "KW12 6XJ",
          "KW12 6YW",
          "KW14 7QZ"
         ],
         "received_time": "2021-03-24 09:00:00"
        },
        "198388": {
         "description": "We're sorry for the loss of supply. The reason you're currently without power is a planned outage in the areas listed. We have turned off your electricity supply to allow us to safely carry out essential work to our electrical equipment. By doing this, it'll help us to improve the reliability of our service to you for the future. If you have any questions or require more information, please call us on 105 or send us a message on <a href=\"http://m.me/ssencommunity/\">Facebook</a> or Twitter (<a href=\"https://twitter.com/ssencommunity\">@ssencommunity</a>) with reference  '198388'. You will have received a letter from us confirming your power will be interrupted with specific information relating to your property. If you did not receive this letter, you can assume your power will not be interrupted.",
         "estimated_arrival_time": null,
         "estimated_restored_time": "2021-03-24 16:00:00",
         "postcodes_impacted": [
          "RG25 2EF",
          "RG25 2EH",
          "RG25 2ET",
          "RG25 2EZ"
         ],
         "received_time": "2021-03-24 09:00:00"
        },
        "198688": {
         "description": "We're sorry for the loss of supply. The reason you're currently without power is a planned outage in the areas listed. We have turned off your electricity supply to allow us to safely carry out essential work to our electrical equipment. By doing this, it'll help us to improve the reliability of our service to you for the future. If you have any questions or require more information, please call us on 105 or send us a message on <a href=\"http://m.me/ssencommunity/\">Facebook</a> or Twitter (<a href=\"https://twitter.com/ssencommunity\">@ssencommunity</a>) with reference  '198688'. You will have received a letter from us confirming your power will be interrupted with specific information relating to your property. If you did not receive this letter, you can assume your power will not be interrupted.",
         "estimated_arrival_time": null,
         "estimated_restored_time": "2021-03-24 13:00:00",
         "postcodes_impacted": [
          "KW15 1AN"
         ],
         "received_time": "2021-03-24 12:00:00"
        },
        "198741": {
         "description": "We're sorry for the loss of supply. The reason you're currently without power is a planned outage in the areas listed. We have turned off your electricity supply to allow us to safely carry out essential work to our electrical equipment. By doing this, it'll help us to improve the reliability of our service to you for the future. If you have any questions or require more information, please call us on 105 or send us a message on <a href=\"http://m.me/ssencommunity/\">Facebook</a> or Twitter (<a href=\"https://twitter.com/ssencommunity\">@ssencommunity</a>) with reference  '198741'. You will have received a letter from us confirming your power will be interrupted with specific information relating to your property. If you did not receive this letter, you can assume your power will not be interrupted.",
         "estimated_arrival_time": null,
         "estimated_restored_time": "2021-03-24 15:30:00",
         "postcodes_impacted": [
          "IV30 8RS"
         ],
         "received_time": "2021-03-24 09:00:00"
        },
        "198759": {
         "description": "We're sorry for the loss of supply. The reason you're currently without power is a planned outage in the areas listed. We have turned off your electricity supply to allow us to safely carry out essential work to our electrical equipment. By doing this, it'll help us to improve the reliability of our service to you for the future. If you have any questions or require more information, please call us on 105 or send us a message on <a href=\"http://m.me/ssencommunity/\">Facebook</a> or Twitter (<a href=\"https://twitter.com/ssencommunity\">@ssencommunity</a>) with reference  '198759'. You will have received a letter from us confirming your power will be interrupted with specific information relating to your property. If you did not receive this letter, you can assume your power will not be interrupted.",
         "estimated_arrival_time": null,
         "estimated_restored_time": "2021-03-24 14:00:00",
         "postcodes_impacted": [
          "G63 9LL"
         ],
         "received_time": "2021-03-24 11:00:00"
        },
        "HA5277": {
         "description": "We’re sorry for the loss of supply. We currently have a fault affecting the areas listed. Our engineers are on site working hard to get the power back on as quickly as they can. If you need more information, please call us on 105 or send us a message on <a href=\"http://m.me/ssencommunity/\">Facebook</a> or Twitter (<a href=\"https://twitter.com/ssencommunity\">@ssencommunity</a>) and quote reference 'HA5277'",
         "estimated_arrival_time": null,
         "estimated_restored_time": "2021-03-24 15:00:00",
         "postcodes_impacted": [
          "GU25 4AZ",
          "GU25 4BJ",
          "GU25 4BQ",
          "GU25 4DQ",
          "GU25 4DT",
          "GU25 4DY",
          "GU25 4SR",
          "GU25 4SW",
          "KT16 0EF"
         ],
         "received_time": "2021-03-24 10:27:00"
        },
        "HA6130": {
         "description": "We’re sorry for the loss of supply. We currently have a fault affecting the areas listed. Our engineers are on site working hard to get the power back on as quickly as they can. If you need more information, please call us on 105 or send us a message on <a href=\"http://m.me/ssencommunity/\">Facebook</a> or Twitter (<a href=\"https://twitter.com/ssencommunity\">@ssencommunity</a>) and quote reference 'HA6130'",
         "estimated_arrival_time": null,
         "estimated_restored_time": "2021-03-24 15:10:00",
         "postcodes_impacted": [
          "UB7 0DE",
          "UB7 0DH",
          "UB7 0DJ",
          "UB7 0DL",
          "UB7 0DQ",
          "UB7 0EP"
         ],
         "received_time": "2021-03-24 10:20:00"
        },
        "HA6367": {
         "description": "We’re sorry for the loss of supply. We currently have a fault affecting the areas listed. Our engineers are on site working hard to get the power back on as quickly as they can. If you need more information, please call us on 105 or send us a message on <a href=\"http://m.me/ssencommunity/\">Facebook</a> or Twitter (<a href=\"https://twitter.com/ssencommunity\">@ssencommunity</a>) and quote reference 'HA6367'",
         "estimated_arrival_time": null,
         "estimated_restored_time": "2021-03-24 13:00:00",
         "postcodes_impacted": [
          "PO1 1QA",
          "PO11 0AA",
          "PO11 0LE",
          "PO11 0LF",
          "PO11 0LH",
          "PO11 0LJ",
          "PO11 0LL",
          "PO11 0LR",
          "PO11 0LS",
          "PO11 0LT",
          "PO11 0LU",
          "PO11 0LX",
          "PO11 0LY",
          "PO11 0LZ",
          "PO11 0NA",
          "PO11 0NJ",
          "PO11 0NN",
          "PO11 0NR",
          "PO11 0NS",
          "PO11 0NT",
          "PO11 0NX",
          "PO11 0NY",
          "PO11 0NZ",
          "PO11 0PA",
          "PO11 0PB",
          "PO11 0PD",
          "PO11 0PE",
          "PO11 0PG",
          "PO11 0PH",
          "PO11 0PJ",
          "PO11 0PL",
          "PO11 0PN",
          "PO11 0PQ",
          "PO11 0PR",
          "PO11 0PS",
          "PO11 0PT",
          "PO11 0PX",
          "PO11 0PY",
          "PO11 0PZ",
          "PO11 0QE",
          "PO11 0QG",
          "PO11 0QQ",
          "PO11 9PD",
          "PO11 9PE",
          "PO11 9PG",
          "PO11 9PL",
          "PO11 9PQ"
         ],
         "received_time": "2021-03-24 04:23:00"
        },
        "HA6453": {
         "description": "We’re sorry for the loss of supply. We currently have a fault affecting the areas listed. Our engineers are on site working hard to get the power back on as quickly as they can. If you need more information, please call us on 105 or send us a message on <a href=\"http://m.me/ssencommunity/\">Facebook</a> or Twitter (<a href=\"https://twitter.com/ssencommunity\">@ssencommunity</a>) and quote reference 'HA6453'",
         "estimated_arrival_time": null,
         "estimated_restored_time": "2021-03-24 13:30:00",
         "postcodes_impacted": [
          "PA31",
          "PA31 8RR",
          "PA31 8RU",
          "PA31 8RX",
          "PA31 8RY",
          "PA31 8SE",
          "PA31 8UG",
          "PA31 8UR",
          "PA31 8WR"
         ],
         "received_time": "2021-03-24 09:27:00"
        },
        "HA6509": {
         "description": "We’re sorry for the loss of supply. We currently have a fault affecting the areas listed. Our engineers are on site working hard to get the power back on as quickly as they can. If you need more information, please call us on 105 or send us a message on <a href=\"http://m.me/ssencommunity/\">Facebook</a> or Twitter (<a href=\"https://twitter.com/ssencommunity\">@ssencommunity</a>) and quote reference 'HA6509'",
         "estimated_arrival_time": null,
         "estimated_restored_time": "2021-03-24 13:30:00",
         "postcodes_impacted": [
          "PH6 2JJ"
         ],
         "received_time": "2021-03-24 11:14:00"
        },
        "HA6528": {
         "description": "We’re sorry for the loss of supply. We currently have a fault affecting the areas listed. Our engineers are on site working hard to get the power back on as quickly as they can. If you need more information, please call us on 105 or send us a message on <a href=\"http://m.me/ssencommunity/\">Facebook</a> or Twitter (<a href=\"https://twitter.com/ssencommunity\">@ssencommunity</a>) and quote reference 'HA6528'",
         "estimated_arrival_time": null,
         "estimated_restored_time": "2021-03-24 16:00:00",
         "postcodes_impacted": [
          "HS7 5AD",
          "HS7 5LA",
          "HS7 5LS",
          "HS7 5LW",
          "HS7 5NG"
         ],
         "received_time": "2021-03-24 10:53:00"
        },
        "HA6589": {
         "description": "We’re sorry for the loss of supply. We currently have a fault affecting the areas listed. Our engineers are on site working hard to get the power back on as quickly as they can. If you need more information, please call us on 105 or send us a message on <a href=\"http://m.me/ssencommunity/\">Facebook</a> or Twitter (<a href=\"https://twitter.com/ssencommunity\">@ssencommunity</a>) and quote reference 'HA6589'",
         "estimated_arrival_time": null,
         "estimated_restored_time": "2021-03-24 17:00:00",
         "postcodes_impacted": [
          "OX44 9DD",
          "OX44 9JL"
         ],
         "received_time": "2021-03-24 09:34:00"
        },
        "HA6594": {
         "description": "We’re sorry for the loss of supply. We currently have a fault affecting the areas listed. Our engineers are on site working hard to get the power back on as quickly as they can. If you need more information, please call us on 105 or send us a message on <a href=\"http://m.me/ssencommunity/\">Facebook</a> or Twitter (<a href=\"https://twitter.com/ssencommunity\">@ssencommunity</a>) and quote reference 'HA6594'",
         "estimated_arrival_time": "2021-03-24 13:30:00",
         "estimated_restored_time": "2021-03-24 15:10:00",
         "postcodes_impacted": [
          "SO45 5AQ",
          "SO45 5TA",
          "SO45 5TB"
         ],
         "received_time": "2021-03-24 11:54:00"
        },
        "HA6596": {
         "description": "We’re sorry for the loss of supply. We currently have a fault affecting the areas listed. Our engineers are on site working hard to get the power back on as quickly as they can. If you need more information, please call us on 105 or send us a message on <a href=\"http://m.me/ssencommunity/\">Facebook</a> or Twitter (<a href=\"https://twitter.com/ssencommunity\">@ssencommunity</a>) and quote reference 'HA6596'",
         "estimated_arrival_time": null,
         "estimated_restored_time": "2021-03-24 15:00:00",
         "postcodes_impacted": [
          "GL56 0SP",
          "GL56 0SS",
          "OX7 5FQ",
          "OX7 5NG",
          "OX7 5PT",
          "OX7 5YH",
          "OX7 5YN",
          "OX7 5YQ",
          "OX7 6FF",
          "OX7 6GE",
          "OX7 6NA",
          "OX7 6NB",
          "OX7 6ND",
          "OX7 6NE",
          "OX7 6NG",
          "OX7 6NJ",
          "OX7 6NL",
          "OX7 6NN",
          "OX7 6NP",
          "OX7 6NS",
          "OX7 6NT",
          "OX7 6NU",
          "OX7 6NW",
          "OX7 6PD",
          "OX7 6PQ",
          "OX7 6PW",
          "OX7 6QS",
          "OX7 6QT",
          "OX7 6RE",
          "OX7 6RY",
          "OX7 6ST",
          "OX7 6TA",
          "OX7 6TB",
          "OX7 6TE",
          "OX7 6TF",
          "OX7 6TH",
          "OX7 6TR",
          "OX7 6TT",
          "OX7 6TU",
          "OX7 6TX",
          "OX7 6TY",
          "OX7 6TZ",
          "OX7 6UD",
          "OX7 6UH",
          "OX7 6UL",
          "OX7 6UQ",
          "OX7 6WP",
          "OX7 6XX",
          "OX7 6XY",
          "OX7 6XZ",
          "OX7 6YA",
          "OX7 6YB",
          "OX7 6YD",
          "OX7 6YE",
          "OX7 6YF",
          "OX7 6YH",
          "OX7 6YJ",
          "OX7 6YL",
          "OX7 6YN",
          "OX7 6YP",
          "OX7 6YQ",
          "OX7 6YR",
          "OX7 6YS",
          "OX7 6YT",
          "OX7 6YU",
          "OX7 6YX",
          "OX7 6YZ"
         ],
         "received_time": "2021-03-24 12:02:00"
        },
        "HA6598": {
         "description": "We’re sorry for the loss of supply. We currently have a fault affecting the areas listed. Our engineers are on site working hard to get the power back on as quickly as they can. If you need more information, please call us on 105 or send us a message on <a href=\"http://m.me/ssencommunity/\">Facebook</a> or Twitter (<a href=\"https://twitter.com/ssencommunity\">@ssencommunity</a>) and quote reference 'HA6598'",
         "estimated_arrival_time": "2021-03-24 12:00:00",
         "estimated_restored_time": "2021-03-24 15:00:00",
         "postcodes_impacted": [
          "OX2 8HD"
         ],
         "received_time": "2021-03-24 11:30:00"
        },
        "HA6614": {
         "description": "We’re sorry for the loss of supply. We currently have a fault affecting the areas listed. Our engineers are on site working hard to get the power back on as quickly as they can. If you need more information, please call us on 105 or send us a message on <a href=\"http://m.me/ssencommunity/\">Facebook</a> or Twitter (<a href=\"https://twitter.com/ssencommunity\">@ssencommunity</a>) and quote reference 'HA6614'",
         "estimated_arrival_time": null,
         "estimated_restored_time": "2021-03-24 15:00:00",
         "postcodes_impacted": [
          "AB21 0QT",
          "AB21 0QX",
          "AB21 0RS",
          "AB41 6QB",
          "AB41 6RT",
          "AB41 6RU",
          "AB41 6RX",
          "AB41 6RY",
          "AB41 6SA",
          "AB41 6SL",
          "AB41 6SN",
          "AB41 6SP",
          "AB41 6SS",
          "AB41 6ST",
          "AB41 6TA",
          "AB41 6TB",
          "AB41 7PQ",
          "AB41 7PW",
          "AB41 7RA",
          "AB41 7RQ",
          "AB41 7RR",
          "AB41 7RS",
          "AB41 7RT",
          "AB41 7RU",
          "AB41 7RW",
          "AB41 7RZ"
         ],
         "received_time": "2021-03-24 12:20:00"
        },
        "HA6618": {
         "description": "We’re sorry for the loss of supply. We currently have a fault affecting the areas listed. Our engineers are on site working hard to get the power back on as quickly as they can. If you need more information, please call us on 105 or send us a message on <a href=\"http://m.me/ssencommunity/\">Facebook</a> or Twitter (<a href=\"https://twitter.com/ssencommunity\">@ssencommunity</a>) and quote reference 'HA6618'",
         "estimated_arrival_time": null,
         "estimated_restored_time": "2021-03-24 14:30:00",
         "postcodes_impacted": [
          "PA70 6HQ"
         ],
         "received_time": "2021-03-24 12:07:00"
        }
       }
      ],
      "text/plain": [
       "<IPython.core.display.JSON object>"
      ]
     },
     "execution_count": 50,
     "metadata": {
      "application/json": {
       "expanded": false,
       "root": "root"
      }
     },
     "output_type": "execute_result"
    }
   ],
   "source": [
    "raw_incidents_info, cleaned_incidents_info = get_ssen_incidents_info()\n",
    "\n",
    "JSON([cleaned_incidents_info])"
   ]
  },
  {
   "cell_type": "code",
   "execution_count": null,
   "id": "combined-surfing",
   "metadata": {},
   "outputs": [],
   "source": []
  },
  {
   "cell_type": "code",
   "execution_count": 51,
   "id": "statutory-hebrew",
   "metadata": {
    "tags": []
   },
   "outputs": [],
   "source": [
    "save_json_data(raw_incidents_info, 'ssen_incidents_info')"
   ]
  },
  {
   "cell_type": "markdown",
   "id": "bizarre-investigation",
   "metadata": {},
   "source": [
    "<br>\n",
    "\n",
    "### Western Power Distribution\n",
    "\n",
    "https://powercuts.westernpower.co.uk/"
   ]
  },
  {
   "cell_type": "code",
   "execution_count": 73,
   "id": "dirty-arizona",
   "metadata": {},
   "outputs": [],
   "source": [
    "#exports\n",
    "def get_wpd_incident_feed(url='https://powercuts.westernpower.co.uk'):\n",
    "    r = requests.get(url)\n",
    "\n",
    "    raw_incidents_info = json.loads(html.unescape(r.text.split('data-ng-init=\"init(')[1].split(')\"></div><div id=\"powercuts\"')[0]))\n",
    "    feed = json.loads(raw_incidents_info['feed'])\n",
    "    \n",
    "    return feed"
   ]
  },
  {
   "cell_type": "code",
   "execution_count": 74,
   "id": "ceramic-oasis",
   "metadata": {},
   "outputs": [
    {
     "data": {
      "application/json": {
       "incidents": [
        {
         "id": "INCD-36872-C",
         "loc": [
          51.2093,
          -2.651383
         ]
        },
        {
         "id": "INCD-124495-B",
         "loc": [
          50.19824,
          -4.978426
         ]
        },
        {
         "id": "INCD-36877-C",
         "loc": [
          51.40693,
          -2.489687
         ]
        },
        {
         "id": "INCD-36871-C",
         "loc": [
          51.47747,
          -2.514071
         ]
        },
        {
         "id": "INCD-47947-Y",
         "loc": [
          50.46091,
          -3.526192
         ]
        },
        {
         "id": "INCD-54212-c",
         "loc": [
          51.50059,
          -3.183854
         ]
        },
        {
         "id": "INCD-292-g",
         "loc": [
          51.482,
          -3.231615
         ]
        },
        {
         "id": "INCD-356152-G",
         "loc": [
          53.03986,
          -2.248786
         ]
        },
        {
         "id": "INCD-415415-E",
         "loc": [
          52.57838,
          -2.766443
         ]
        },
        {
         "id": "INCD-42700-D",
         "loc": [
          52.41087,
          -1.473083
         ]
        },
        {
         "id": "INCD-150936-H",
         "loc": [
          52.15173,
          -0.8904554
         ]
        },
        {
         "id": "INCD-150923-H",
         "loc": [
          52.4057,
          -1.455652
         ]
        },
        {
         "id": "INCD-150957-H",
         "loc": [
          52.55236,
          -1.191344
         ]
        }
       ],
       "lastUpdated": 1616592180000
      },
      "text/plain": [
       "<IPython.core.display.JSON object>"
      ]
     },
     "execution_count": 74,
     "metadata": {
      "application/json": {
       "expanded": false,
       "root": "root"
      }
     },
     "output_type": "execute_result"
    }
   ],
   "source": [
    "feed = get_wpd_incident_feed()\n",
    "\n",
    "JSON(feed)"
   ]
  },
  {
   "cell_type": "code",
   "execution_count": null,
   "id": "attempted-tonight",
   "metadata": {},
   "outputs": [],
   "source": []
  },
  {
   "cell_type": "code",
   "execution_count": 53,
   "id": "reduced-mountain",
   "metadata": {
    "tags": []
   },
   "outputs": [
    {
     "data": {
      "text/plain": [
       "['INCD-36877-C',\n",
       " 'INCD-74461-T',\n",
       " 'INCD-124506-B',\n",
       " 'INCD-124495-B',\n",
       " 'INCD-124505-B']"
      ]
     },
     "execution_count": 53,
     "metadata": {},
     "output_type": "execute_result"
    }
   ],
   "source": [
    "incident_ids = [incident['id'] for incident in feed['incidents']]\n",
    "\n",
    "incident_ids[:5]"
   ]
  },
  {
   "cell_type": "code",
   "execution_count": null,
   "id": "meaningful-render",
   "metadata": {},
   "outputs": [],
   "source": []
  },
  {
   "cell_type": "code",
   "execution_count": 54,
   "id": "announced-partner",
   "metadata": {},
   "outputs": [],
   "source": [
    "#exports\n",
    "wpd_incident_id_to_url = lambda incident_id: f'https://powercuts.westernpower.co.uk/__powercuts/getIncidentById?incidentId={incident_id}'"
   ]
  },
  {
   "cell_type": "code",
   "execution_count": 58,
   "id": "organic-blank",
   "metadata": {},
   "outputs": [
    {
     "data": {
      "application/json": {
       "areas": [
        "BS31",
        "BS4"
       ],
       "confirmedOff": 0,
       "etr": 1616599800000,
       "id": "INCD-36877-C",
       "lastUpdated": 1616589480000,
       "planned": false,
       "postcodes": [
        "BS31 1QG",
        "BS31 1QE",
        "BS31 1QL",
        "BS31 1RW",
        "BS31 1QQ",
        "BS31 1RS",
        "BS31 1RN",
        "BS4 2NN",
        "BS31 1RR"
       ],
       "predictedOff": 59,
       "priorityOff": 20,
       "region": "South West",
       "restored": 0,
       "startTime": 1616587800000,
       "status": "Awaiting",
       "totalOff": 59,
       "voltage": "LV"
      },
      "text/plain": [
       "<IPython.core.display.JSON object>"
      ]
     },
     "execution_count": 58,
     "metadata": {
      "application/json": {
       "expanded": false,
       "root": "root"
      }
     },
     "output_type": "execute_result"
    }
   ],
   "source": [
    "incident_id = incident_ids[0]\n",
    "\n",
    "incident_url = wpd_incident_id_to_url(incident_id)\n",
    "r_json = requests.get(incident_url).json()\n",
    "\n",
    "JSON(r_json)"
   ]
  },
  {
   "cell_type": "code",
   "execution_count": null,
   "id": "palestinian-swing",
   "metadata": {},
   "outputs": [],
   "source": []
  },
  {
   "cell_type": "code",
   "execution_count": 81,
   "id": "suspended-default",
   "metadata": {},
   "outputs": [],
   "source": [
    "#exports\n",
    "def clean_wpd_incident_info(incident):\n",
    "    wpd_relevant_dates_name_mapping = { \n",
    "        'startTime': 'received_time',\n",
    "        'etr': 'estimated_restored_time'\n",
    "     }\n",
    "\n",
    "    cleaned_incident_info = dict()\n",
    "\n",
    "    for old_dt_name, new_dt_name in wpd_relevant_dates_name_mapping.items():\n",
    "        if incident[old_dt_name] is not None:\n",
    "            cleaned_incident_info[new_dt_name] = pd.to_datetime(incident[old_dt_name]*1e6).strftime('%Y-%m-%d %H:%M:%S')\n",
    "        else:\n",
    "            cleaned_incident_info[new_dt_name] = None\n",
    "\n",
    "    cleaned_incident_info['postcodes_impacted'] = incident['postcodes']\n",
    "    cleaned_incident_info['description'] = incident['status']\n",
    "    cleaned_incident_info['incident_active'] = bool(1 - incident['restored'])\n",
    "    \n",
    "    return cleaned_incident_info"
   ]
  },
  {
   "cell_type": "code",
   "execution_count": 72,
   "id": "terminal-lighter",
   "metadata": {},
   "outputs": [
    {
     "data": {
      "text/plain": [
       "{'received_time': '2021-03-24 12:10:00',\n",
       " 'estimated_restored_time': '2021-03-24 15:30:00',\n",
       " 'postcodes_impacted': ['BS31 1QG',\n",
       "  'BS31 1QE',\n",
       "  'BS31 1QL',\n",
       "  'BS31 1RW',\n",
       "  'BS31 1QQ',\n",
       "  'BS31 1RS',\n",
       "  'BS31 1RN',\n",
       "  'BS4 2NN',\n",
       "  'BS31 1RR'],\n",
       " 'description': 'Awaiting',\n",
       " 'incident_active': True}"
      ]
     },
     "execution_count": 72,
     "metadata": {},
     "output_type": "execute_result"
    }
   ],
   "source": [
    "clean_wpd_incident_info(r_json)"
   ]
  },
  {
   "cell_type": "code",
   "execution_count": null,
   "id": "opening-december",
   "metadata": {},
   "outputs": [],
   "source": []
  },
  {
   "cell_type": "code",
   "execution_count": 79,
   "id": "exclusive-billy",
   "metadata": {},
   "outputs": [],
   "source": [
    "#exports\n",
    "def get_wpd_incidents_info(incidents_url='https://powercuts.westernpower.co.uk'):\n",
    "    cleaned_incidents_info = dict()\n",
    "    \n",
    "    raw_incidents_info = get_wpd_incident_feed(incidents_url)\n",
    "    incident_ids = [incident['id'] for incident in raw_incidents_info['incidents']]\n",
    "\n",
    "    for incident_id in incident_ids:\n",
    "        incident_url = wpd_incident_id_to_url(incident_id)\n",
    "        r_json = requests.get(incident_url).json()\n",
    "        cleaned_incidents_info[incident_id] = clean_wpd_incident_info(r_json)\n",
    "        \n",
    "    return raw_incidents_info, cleaned_incidents_info"
   ]
  },
  {
   "cell_type": "code",
   "execution_count": 82,
   "id": "simple-whole",
   "metadata": {},
   "outputs": [
    {
     "data": {
      "application/json": {
       "INCD-124495-B": {
        "description": "In Progress",
        "estimated_restored_time": "2021-03-24 17:00:00",
        "incident_active": true,
        "postcodes_impacted": [
         "TR2 5EF"
        ],
        "received_time": "2021-03-24 06:24:00"
       },
       "INCD-150923-H": {
        "description": "In Progress",
        "estimated_restored_time": "2021-03-24 15:00:00",
        "incident_active": true,
        "postcodes_impacted": [
         "CV2 5EB",
         "CV2 5DH",
         "CV2 5NL"
        ],
        "received_time": "2021-03-23 19:12:00"
       },
       "INCD-150936-H": {
        "description": "In Progress",
        "estimated_restored_time": null,
        "incident_active": true,
        "postcodes_impacted": [
         "NN7 2EU"
        ],
        "received_time": "2021-03-24 08:04:00"
       },
       "INCD-150957-H": {
        "description": "In Progress",
        "estimated_restored_time": "2021-03-24 16:00:00",
        "incident_active": true,
        "postcodes_impacted": [
         "LE9 1UP",
         "LE9 1UN",
         "LE9 1UR"
        ],
        "received_time": "2021-03-24 10:48:00"
       },
       "INCD-292-g": {
        "description": "In Progress",
        "estimated_restored_time": "2021-03-24 16:00:00",
        "incident_active": true,
        "postcodes_impacted": [
         "CF5 5AF",
         "CF5 5AH",
         "CF5 5AG",
         "CF5 5AJ",
         "CF5 5AQ"
        ],
        "received_time": "2021-03-24 12:26:00"
       },
       "INCD-356152-G": {
        "description": "In Progress",
        "estimated_restored_time": "2021-03-24 15:00:00",
        "incident_active": true,
        "postcodes_impacted": [
         "ST5 7JF"
        ],
        "received_time": "2021-03-24 05:26:00"
       },
       "INCD-36871-C": {
        "description": "In Progress",
        "estimated_restored_time": "2021-03-24 14:00:00",
        "incident_active": true,
        "postcodes_impacted": [
         "BS16 4JG",
         "BS16 4JF"
        ],
        "received_time": "2021-03-24 11:16:00"
       },
       "INCD-36872-C": {
        "description": "In Progress",
        "estimated_restored_time": "2021-03-24 16:00:00",
        "incident_active": true,
        "postcodes_impacted": [
         "BA5 2PJ",
         "BA5 2PG",
         "BA5 2PT"
        ],
        "received_time": "2021-03-24 11:31:00"
       },
       "INCD-36877-C": {
        "description": "In Progress",
        "estimated_restored_time": "2021-03-24 15:30:00",
        "incident_active": true,
        "postcodes_impacted": [
         "BS31 1QG",
         "BS31 1QE",
         "BS31 1QL",
         "BS31 1RW",
         "BS31 1QQ",
         "BS31 1RS",
         "BS31 1RN",
         "BS4 2NN",
         "BS31 1RR"
        ],
        "received_time": "2021-03-24 12:10:00"
       },
       "INCD-415415-E": {
        "description": "In Progress",
        "estimated_restored_time": "2021-03-24 16:30:00",
        "incident_active": true,
        "postcodes_impacted": [
         "SY5 7LW",
         "SY5 7LN",
         "SY5 7LY",
         "SY5 7LL",
         "SY5 7LP",
         "SY5 7LT",
         "SY5 7BH",
         "SY5 7EX",
         "SY5 7ND",
         "SY5 7LR",
         "SY5 8BN",
         "SY5 0LN"
        ],
        "received_time": "2021-03-24 12:21:00"
       },
       "INCD-42700-D": {
        "description": "In Progress",
        "estimated_restored_time": null,
        "incident_active": true,
        "postcodes_impacted": [
         "CV2 4AH"
        ],
        "received_time": "2021-03-22 10:37:00"
       },
       "INCD-47947-Y": {
        "description": "In Progress",
        "estimated_restored_time": "2021-03-24 16:00:00",
        "incident_active": true,
        "postcodes_impacted": [
         "TQ2 5EG",
         "TQ2 5EL"
        ],
        "received_time": "2021-03-24 13:12:00"
       },
       "INCD-54212-c": {
        "description": "In Progress",
        "estimated_restored_time": "2021-03-24 15:00:00",
        "incident_active": true,
        "postcodes_impacted": [
         "CF14 3PP",
         "CF14 3PR",
         "CF14 3LX",
         "CF14 3PW",
         "CF14 3QB",
         "CF14 3QY"
        ],
        "received_time": "2021-03-16 11:40:00"
       }
      },
      "text/plain": [
       "<IPython.core.display.JSON object>"
      ]
     },
     "execution_count": 82,
     "metadata": {
      "application/json": {
       "expanded": false,
       "root": "root"
      }
     },
     "output_type": "execute_result"
    }
   ],
   "source": [
    "raw_incidents_info, cleaned_incidents_info = get_wpd_incidents_info()\n",
    "\n",
    "JSON(cleaned_incidents_info)"
   ]
  },
  {
   "cell_type": "code",
   "execution_count": null,
   "id": "diagnostic-lottery",
   "metadata": {},
   "outputs": [],
   "source": []
  },
  {
   "cell_type": "code",
   "execution_count": 85,
   "id": "approved-friend",
   "metadata": {},
   "outputs": [],
   "source": [
    "save_json_data(raw_incidents_info, 'wpd_incidents_info')"
   ]
  },
  {
   "cell_type": "markdown",
   "id": "aggregate-warning",
   "metadata": {},
   "source": [
    "<br>\n",
    "\n",
    "### Scottish Power Energy Networks\n",
    "\n",
    "https://www.spenergynetworks.co.uk/pages/power_cuts_list.aspx"
   ]
  },
  {
   "cell_type": "code",
   "execution_count": null,
   "id": "mexican-people",
   "metadata": {},
   "outputs": [],
   "source": []
  },
  {
   "cell_type": "code",
   "execution_count": null,
   "id": "conventional-humidity",
   "metadata": {},
   "outputs": [],
   "source": []
  },
  {
   "cell_type": "code",
   "execution_count": null,
   "id": "comprehensive-cleanup",
   "metadata": {},
   "outputs": [],
   "source": []
  },
  {
   "cell_type": "code",
   "execution_count": null,
   "id": "adult-financing",
   "metadata": {},
   "outputs": [],
   "source": []
  },
  {
   "cell_type": "markdown",
   "id": "turkish-liberia",
   "metadata": {},
   "source": [
    "<br>\n",
    "\n",
    "### Northern Power Grid\n",
    "\n",
    "https://www.northernpowergrid.com/power-cuts"
   ]
  },
  {
   "cell_type": "code",
   "execution_count": 68,
   "id": "surrounded-citation",
   "metadata": {},
   "outputs": [],
   "source": [
    "url = 'https://www.northernpowergrid.com/power-cuts'\n",
    "\n",
    "r = requests.get(url)\n",
    "soup = bs(r.text)\n",
    "\n",
    "soup.find('div', attrs={'role': 'table'})"
   ]
  },
  {
   "cell_type": "code",
   "execution_count": null,
   "id": "boolean-skiing",
   "metadata": {},
   "outputs": [],
   "source": []
  },
  {
   "cell_type": "code",
   "execution_count": 98,
   "id": "driving-demonstration",
   "metadata": {},
   "outputs": [
    {
     "data": {
      "application/json": {
       "lastModified": 1616256304000,
       "powercuts": {
        "INCD-163983-A": {
         "areacode": 15,
         "category": "U/G Service repair",
         "categoryWebText": "The power cut affecting your property has been caused by an unexpected problem with the electricity cable that serves your area",
         "class": "models.MapDataPowercutIncno",
         "contact": "YMW/D U/G, SPOC YMW/D U/G",
         "customerStageSequence": 4,
         "elapsed": "02d 04:06",
         "estimatedTimeTillResolution": null,
         "group": "MAJOR REPAIRS",
         "hoursSinceLogged": 52,
         "latestStageSequenceHistory": 1616074259000,
         "latestStageSequenceStatus": 2,
         "location": "YO26 5EN, 58, JUTE ROAD, YORK",
         "logged": 1616068740000,
         "natureOfOutage": "Single Premise",
         "networkObject": "SEVERUS HILL",
         "numberOfCalls": 1,
         "postcodes": {
          "YO26 5EN": {
           "class": "models.MapDataLocation",
           "lat": 53.9617,
           "lng": -1.13375
          }
         },
         "prefix": null,
         "priority": 1,
         "reference": "INCD-163983-A",
         "region": "Yorkshire Moors & Wolds NE / York 1",
         "resourceAllocationDelay": 0,
         "stageSequence": 2,
         "stageSequenceMessage": "Our team are working hard to restore your power as quickly as possible",
         "startnumber": 0,
         "status": "Awaiting",
         "totalConfirmedOff": 0,
         "totalPredictedOff": 1,
         "totalResourceAssigned": 1,
         "totalResourceDispatched": 0,
         "totalResourceOnsite": 0,
         "totalRestored": 0,
         "totalSensitiveAffected": 0,
         "type": "SP"
        },
        "INCD-164034-A": {
         "areacode": 23,
         "category": "Damaged HV U/G",
         "categoryWebText": "The power cut affecting your property has been caused by someone damaging the cables or equipment that serve your area",
         "class": "models.MapDataPowercutIncno",
         "contact": "THORNES, TOM",
         "customerStageSequence": 4,
         "elapsed": "02d 02:25",
         "estimatedTimeTillResolution": null,
         "group": "HV / EHV TEMPS",
         "hoursSinceLogged": 50,
         "latestStageSequenceHistory": 1616085309000,
         "latestStageSequenceStatus": 3,
         "location": "LS10 1LY, 79A, CLARENCE ROAD, LEEDS",
         "logged": 1616074800000,
         "natureOfOutage": "Single Premise",
         "networkObject": "ARMOURIES DRIVE",
         "numberOfCalls": 1,
         "postcodes": {
          "LS10 1LY": {
           "class": "models.MapDataLocation",
           "lat": 53.7896,
           "lng": -1.52962
          }
         },
         "prefix": null,
         "priority": 1,
         "reference": "INCD-164034-A",
         "region": "West Yorkshire / Leeds North 1",
         "resourceAllocationDelay": 0,
         "stageSequence": 3,
         "stageSequenceMessage": "Our team are working hard to restore your power as quickly as possible",
         "startnumber": 0,
         "status": "In Progress",
         "totalConfirmedOff": 0,
         "totalPredictedOff": 1,
         "totalResourceAssigned": 0,
         "totalResourceDispatched": 1,
         "totalResourceOnsite": 0,
         "totalRestored": 0,
         "totalSensitiveAffected": 0,
         "type": "SP"
        },
        "INCD-164197-A": {
         "areacode": 23,
         "category": "DNO Energisation check",
         "categoryWebText": "",
         "class": "models.MapDataPowercutIncno",
         "contact": "CRC, PENSHAW",
         "customerStageSequence": 4,
         "elapsed": "01d 13:07",
         "estimatedTimeTillResolution": null,
         "group": "CRC",
         "hoursSinceLogged": 37,
         "latestStageSequenceHistory": 1616153714000,
         "latestStageSequenceStatus": 2,
         "location": "S8  0PP, 331, WOODSEATS ROAD, SHEFFIELD",
         "logged": 1616122680000,
         "natureOfOutage": "Single Premise",
         "networkObject": "SAXON ROAD",
         "numberOfCalls": 1,
         "postcodes": {
          "S8 0PP": {
           "class": "models.MapDataLocation",
           "lat": 53.3463,
           "lng": -1.4812
          }
         },
         "prefix": null,
         "priority": 3,
         "reference": "INCD-164197-A",
         "region": "South Yorkshire / Sheffield 1",
         "resourceAllocationDelay": 0,
         "stageSequence": 2,
         "stageSequenceMessage": "Our team are working hard to restore your power as quickly as possible",
         "startnumber": 0,
         "status": "Awaiting",
         "totalConfirmedOff": 0,
         "totalPredictedOff": 1,
         "totalResourceAssigned": 1,
         "totalResourceDispatched": 0,
         "totalResourceOnsite": 0,
         "totalRestored": 0,
         "totalSensitiveAffected": 0,
         "type": "SP"
        },
        "INCD-164296-A": {
         "areacode": 23,
         "category": "O/H HV Mains Repair",
         "categoryWebText": "The power cut affecting your property has been caused by an unexpected problem with the cables or equipment that serve your area",
         "class": "models.MapDataPowercutIncno",
         "contact": "CONTROL CENTRE, CONTROL CENTRE",
         "customerStageSequence": 3,
         "elapsed": "01d 05:19",
         "estimatedTimeTillResolution": null,
         "group": "HV / EHV TEMPS",
         "hoursSinceLogged": 29,
         "latestStageSequenceHistory": 1616172610000,
         "latestStageSequenceStatus": 2,
         "location": "S71 5EN, 437, DONCASTER ROAD, BARNSLEY",
         "logged": 1616150760000,
         "natureOfOutage": "Single Premise",
         "networkObject": "STAIRFOOT",
         "numberOfCalls": 1,
         "postcodes": {
          "S71 5EN": {
           "class": "models.MapDataLocation",
           "lat": 53.546,
           "lng": -1.41972
          }
         },
         "prefix": null,
         "priority": 1,
         "reference": "INCD-164296-A",
         "region": "South Yorkshire / Barnsley 2",
         "resourceAllocationDelay": 0,
         "stageSequence": 2,
         "stageSequenceMessage": "Our team are working hard to restore your power as quickly as possible",
         "startnumber": 0,
         "status": "Awaiting",
         "totalConfirmedOff": 0,
         "totalPredictedOff": 1,
         "totalResourceAssigned": 1,
         "totalResourceDispatched": 0,
         "totalResourceOnsite": 0,
         "totalRestored": 0,
         "totalSensitiveAffected": 0,
         "type": "SP"
        },
        "INCD-164333-A": {
         "areacode": 23,
         "category": "Unknown P1",
         "categoryWebText": "The power cut affecting your property has been caused by an unexpected problem with the cables or equipment that serve your area",
         "class": "models.MapDataPowercutIncno",
         "contact": "MARKWELL, DALE",
         "customerStageSequence": 3,
         "elapsed": "01d 03:57",
         "estimatedTimeTillResolution": null,
         "group": "MAJOR REPAIRS",
         "hoursSinceLogged": 27,
         "latestStageSequenceHistory": 1616189705000,
         "latestStageSequenceStatus": 2,
         "location": "HU15 2RX, NORTH AMERICA COTTAGE, CANAL SIDE WEST, NEWPORT, BROUGH",
         "logged": 1616155680000,
         "natureOfOutage": "Single Premise",
         "networkObject": "HOLME UPON SPALDING MOOR",
         "numberOfCalls": 1,
         "postcodes": {
          "HU15 2RX": {
           "class": "models.MapDataLocation",
           "lat": 53.776,
           "lng": -0.710868
          }
         },
         "prefix": null,
         "priority": 4,
         "reference": "INCD-164333-A",
         "region": "Humber Estuary / Hull 1",
         "resourceAllocationDelay": 0,
         "stageSequence": 2,
         "stageSequenceMessage": "Our team are working hard to restore your power as quickly as possible",
         "startnumber": 0,
         "status": "Awaiting",
         "totalConfirmedOff": 0,
         "totalPredictedOff": 1,
         "totalResourceAssigned": 1,
         "totalResourceDispatched": 0,
         "totalResourceOnsite": 0,
         "totalRestored": 0,
         "totalSensitiveAffected": 0,
         "type": "SP"
        },
        "INCD-164371-A": {
         "areacode": 23,
         "category": "O/H HV Mains Repair",
         "categoryWebText": "The power cut affecting your property has been caused by an unexpected problem with the cables or equipment that serve your area",
         "class": "models.MapDataPowercutIncno",
         "contact": "",
         "customerStageSequence": 5,
         "elapsed": "01d 02:07",
         "estimatedTimeTillResolution": null,
         "group": "HV / EHV TEMPS",
         "hoursSinceLogged": 26,
         "latestStageSequenceHistory": 1616169910000,
         "latestStageSequenceStatus": 1,
         "location": "DN7 6HL, TUDWORTH ROAD MOTORWAY RESPONDER SS",
         "logged": 1616162280000,
         "natureOfOutage": "Large Area Fault",
         "networkObject": "4031872-ASSET",
         "numberOfCalls": 1,
         "postcodes": {
          "DN7 6HD": {
           "class": "models.MapDataLocation",
           "lat": 53.5812,
           "lng": -0.968584
          },
          "DN7 6HE": {
           "class": "models.MapDataLocation",
           "lat": 53.5803,
           "lng": -0.967519
          },
          "DN7 6HF": {
           "class": "models.MapDataLocation",
           "lat": 53.5812,
           "lng": -0.966078
          },
          "DN7 6HG": {
           "class": "models.MapDataLocation",
           "lat": 53.5832,
           "lng": -0.966633
          },
          "DN7 6HL": {
           "class": "models.MapDataLocation",
           "lat": 53.5883,
           "lng": -0.962868
          },
          "DN7 6HQ": {
           "class": "models.MapDataLocation",
           "lat": 53.5871,
           "lng": -0.964286
          }
         },
         "prefix": null,
         "priority": 1,
         "reference": "INCD-164371-A",
         "region": "South Yorkshire / Doncaster 1",
         "resourceAllocationDelay": 0,
         "stageSequence": 1,
         "stageSequenceMessage": "Our team are working hard to restore your power as quickly as possible",
         "startnumber": 0,
         "status": "Awaiting",
         "totalConfirmedOff": 0,
         "totalPredictedOff": 39,
         "totalResourceAssigned": 0,
         "totalResourceDispatched": 0,
         "totalResourceOnsite": 0,
         "totalRestored": 0,
         "totalSensitiveAffected": 9,
         "type": "HV_N"
        },
        "INCD-164502-A": {
         "areacode": 23,
         "category": "U/G LV Mains Repair (Other)",
         "categoryWebText": "The power cut affecting your property has been caused by an unexpected problem with the electricity cable that serves your area",
         "class": "models.MapDataPowercutIncno",
         "contact": "MURPHYS, CIVILS",
         "customerStageSequence": 7,
         "elapsed": "00d 10:20",
         "estimatedTimeTillResolution": 1616261400000,
         "group": "RESTORATION",
         "hoursSinceLogged": 10,
         "latestStageSequenceHistory": 1616236505000,
         "latestStageSequenceStatus": 7,
         "location": "DN36 5QG, STANHOLME LANE NEAR CHURCH LANE, NORTH THORESBY",
         "logged": 1616219100000,
         "natureOfOutage": "Localised Fault",
         "networkObject": "4061491",
         "numberOfCalls": 7,
         "postcodes": {
          "DN36 5QG": {
           "class": "models.MapDataLocation",
           "lat": 53.4691,
           "lng": -0.057146
          }
         },
         "prefix": null,
         "priority": 3,
         "reference": "INCD-164502-A",
         "region": "North Lincolnshire / Grimsby 2",
         "resourceAllocationDelay": 0,
         "stageSequence": 7,
         "stageSequenceMessage": "We are currently working hard to restore your power however we are unable to provide an accurate restoration time. Please call us on 105 if you have any specific questions.",
         "startnumber": 0,
         "status": "In Progress",
         "totalConfirmedOff": 1,
         "totalPredictedOff": 0,
         "totalResourceAssigned": 0,
         "totalResourceDispatched": 0,
         "totalResourceOnsite": 2,
         "totalRestored": 0,
         "totalSensitiveAffected": 1,
         "type": "LV"
        },
        "INCD-164507-A": {
         "areacode": 23,
         "category": "U/G LV Mains Repair (Other)",
         "categoryWebText": "The power cut affecting your property has been caused by an unexpected problem with the electricity cable that serves your area",
         "class": "models.MapDataPowercutIncno",
         "contact": "LEAMING, MICHAEL",
         "customerStageSequence": 4,
         "elapsed": "00d 10:19",
         "estimatedTimeTillResolution": 1616257800000,
         "group": "RESTORATION",
         "hoursSinceLogged": 10,
         "latestStageSequenceHistory": 1616231706000,
         "latestStageSequenceStatus": 4,
         "location": "YO15 3BL, O/S 30 NELSON STREET, BRIDLINGTON",
         "logged": 1616219160000,
         "natureOfOutage": "Localised Fault",
         "networkObject": "4047239",
         "numberOfCalls": 3,
         "postcodes": {
          "YO15 3BL": {
           "class": "models.MapDataLocation",
           "lat": 54.082,
           "lng": -0.194836
          }
         },
         "prefix": null,
         "priority": 1,
         "reference": "INCD-164507-A",
         "region": "Yorkshire Moors & Wolds YK / Hull 2",
         "resourceAllocationDelay": 0,
         "stageSequence": 4,
         "stageSequenceMessage": "Our team are working hard to restore your power as quickly as possible",
         "startnumber": 0,
         "status": "In Progress",
         "totalConfirmedOff": 8,
         "totalPredictedOff": 0,
         "totalResourceAssigned": 0,
         "totalResourceDispatched": 2,
         "totalResourceOnsite": 1,
         "totalRestored": 0,
         "totalSensitiveAffected": 2,
         "type": "LV"
        },
        "INCD-164523-A": {
         "areacode": 15,
         "category": "LV Restoration",
         "categoryWebText": "The power cut affecting your property has been caused by an unexpected problem with the cables or equipment that serve your area",
         "class": "models.MapDataPowercutIncno",
         "contact": "WILCOCKSON, ROBERT",
         "customerStageSequence": 4,
         "elapsed": "00d 07:31",
         "estimatedTimeTillResolution": 1616270400000,
         "group": "RESTORATION",
         "hoursSinceLogged": 7,
         "latestStageSequenceHistory": 1616244905000,
         "latestStageSequenceStatus": 4,
         "location": "DL5 6YS, AYCLIFFE 10 SS, Transformer LV",
         "logged": 1616229240000,
         "natureOfOutage": "Localised Fault",
         "networkObject": "64879",
         "numberOfCalls": 1,
         "postcodes": {
          "DL5 6DX": {
           "class": "models.MapDataLocation",
           "lat": 54.6068,
           "lng": -1.56386
          },
          "DL5 6YS": {
           "class": "models.MapDataLocation",
           "lat": 54.6069,
           "lng": -1.56474
          }
         },
         "prefix": null,
         "priority": 1,
         "reference": "INCD-164523-A",
         "region": "Teesside / Durham 3",
         "resourceAllocationDelay": 0,
         "stageSequence": 4,
         "stageSequenceMessage": "Our team are working hard to restore your power as quickly as possible",
         "startnumber": 0,
         "status": "In Progress",
         "totalConfirmedOff": 4,
         "totalPredictedOff": 0,
         "totalResourceAssigned": 1,
         "totalResourceDispatched": 2,
         "totalResourceOnsite": 1,
         "totalRestored": 0,
         "totalSensitiveAffected": 0,
         "type": "LV"
        },
        "INCD-164539-A": {
         "areacode": 23,
         "category": "U/G Service repair",
         "categoryWebText": "The power cut affecting your property has been caused by an unexpected problem with the electricity cable that serves your area",
         "class": "models.MapDataPowercutIncno",
         "contact": "HEAD, STUART",
         "customerStageSequence": 4,
         "elapsed": "00d 06:09",
         "estimatedTimeTillResolution": null,
         "group": "RESTORATION",
         "hoursSinceLogged": 6,
         "latestStageSequenceHistory": 1616253305000,
         "latestStageSequenceStatus": 4,
         "location": "HU15 2EH, 14, CHURCH STREET, SOUTH CAVE, BROUGH",
         "logged": 1616234160000,
         "natureOfOutage": "Single Premise",
         "networkObject": "SKILLINGS LANE",
         "numberOfCalls": 1,
         "postcodes": {
          "HU15 2EH": {
           "class": "models.MapDataLocation",
           "lat": 53.7687,
           "lng": -0.601424
          }
         },
         "prefix": null,
         "priority": 1,
         "reference": "INCD-164539-A",
         "region": "Humber Estuary / Hull 1",
         "resourceAllocationDelay": 0,
         "stageSequence": 4,
         "stageSequenceMessage": "Our team are working hard to restore your power as quickly as possible",
         "startnumber": 0,
         "status": "In Progress",
         "totalConfirmedOff": 1,
         "totalPredictedOff": 0,
         "totalResourceAssigned": 0,
         "totalResourceDispatched": 0,
         "totalResourceOnsite": 1,
         "totalRestored": 0,
         "totalSensitiveAffected": 0,
         "type": "SP"
        },
        "INCD-164549-A": {
         "areacode": 23,
         "category": "U/G LV Mains Repair (Other)",
         "categoryWebText": "The power cut affecting your property has been caused by an unexpected problem with the electricity cable that serves your area",
         "class": "models.MapDataPowercutIncno",
         "contact": "LONSDALE, STEVE",
         "customerStageSequence": 4,
         "elapsed": "00d 05:27",
         "estimatedTimeTillResolution": 1616270400000,
         "group": "RESTORATION",
         "hoursSinceLogged": 5,
         "latestStageSequenceHistory": 1616239811000,
         "latestStageSequenceStatus": 4,
         "location": "HU8 7AU, CHAPMAN SS, Transformer LV",
         "logged": 1616236680000,
         "natureOfOutage": "Localised Fault",
         "networkObject": "4046907",
         "numberOfCalls": 6,
         "postcodes": {
          "HU8 7BH": {
           "class": "models.MapDataLocation",
           "lat": 53.7544,
           "lng": -0.325497
          },
          "HU8 8AE": {
           "class": "models.MapDataLocation",
           "lat": 53.7548,
           "lng": -0.326576
          }
         },
         "prefix": null,
         "priority": 3,
         "reference": "INCD-164549-A",
         "region": "Humber Estuary / Hull 1",
         "resourceAllocationDelay": 0,
         "stageSequence": 4,
         "stageSequenceMessage": "Our team are working hard to restore your power as quickly as possible",
         "startnumber": 0,
         "status": "In Progress",
         "totalConfirmedOff": 8,
         "totalPredictedOff": 0,
         "totalResourceAssigned": 1,
         "totalResourceDispatched": 1,
         "totalResourceOnsite": 1,
         "totalRestored": 0,
         "totalSensitiveAffected": 0,
         "type": "LV"
        },
        "INCD-164581-A": {
         "areacode": 23,
         "category": "U/G Service repair",
         "categoryWebText": "The power cut affecting your property has been caused by an unexpected problem with the electricity cable that serves your area",
         "class": "models.MapDataPowercutIncno",
         "contact": "WHITEHEAD, JOHN",
         "customerStageSequence": 4,
         "elapsed": "00d 03:47",
         "estimatedTimeTillResolution": 1616270400000,
         "group": "RESTORATION",
         "hoursSinceLogged": 3,
         "latestStageSequenceHistory": 1616254811000,
         "latestStageSequenceStatus": 4,
         "location": "S12 4RB, 36, SILKSTONE CRESCENT, SHEFFIELD",
         "logged": 1616242680000,
         "natureOfOutage": "Single Premise",
         "networkObject": "HACKENTHORPE",
         "numberOfCalls": 1,
         "postcodes": {
          "S12 4RB": {
           "class": "models.MapDataLocation",
           "lat": 53.3491,
           "lng": -1.39934
          }
         },
         "prefix": null,
         "priority": 4,
         "reference": "INCD-164581-A",
         "region": "South Yorkshire / Sheffield 1",
         "resourceAllocationDelay": 0,
         "stageSequence": 4,
         "stageSequenceMessage": "Our team are working hard to restore your power as quickly as possible",
         "startnumber": 0,
         "status": "In Progress",
         "totalConfirmedOff": 1,
         "totalPredictedOff": 0,
         "totalResourceAssigned": 0,
         "totalResourceDispatched": 1,
         "totalResourceOnsite": 1,
         "totalRestored": 0,
         "totalSensitiveAffected": 0,
         "type": "SP"
        },
        "INCD-164591-A": {
         "areacode": 23,
         "category": "Unknown P1",
         "categoryWebText": "The power cut affecting your property has been caused by an unexpected problem with the cables or equipment that serve your area",
         "class": "models.MapDataPowercutIncno",
         "contact": "CRC, PENSHAW",
         "customerStageSequence": 4,
         "elapsed": "00d 03:29",
         "estimatedTimeTillResolution": null,
         "group": "CRC",
         "hoursSinceLogged": 3,
         "latestStageSequenceHistory": 1616253305000,
         "latestStageSequenceStatus": 2,
         "location": "DN14 5SG, 33, PERCY STREET, GOOLE",
         "logged": 1616243760000,
         "natureOfOutage": "Single Premise",
         "networkObject": "RAWCLIFFE",
         "numberOfCalls": 1,
         "postcodes": {
          "DN14 5SG": {
           "class": "models.MapDataLocation",
           "lat": 53.6939,
           "lng": -0.872856
          }
         },
         "prefix": null,
         "priority": 8,
         "reference": "INCD-164591-A",
         "region": "Humber Estuary / Hull 1",
         "resourceAllocationDelay": 0,
         "stageSequence": 2,
         "stageSequenceMessage": "Our team are working hard to restore your power as quickly as possible",
         "startnumber": 0,
         "status": "Awaiting",
         "totalConfirmedOff": 0,
         "totalPredictedOff": 1,
         "totalResourceAssigned": 1,
         "totalResourceDispatched": 0,
         "totalResourceOnsite": 0,
         "totalRestored": 0,
         "totalSensitiveAffected": 0,
         "type": "SP"
        },
        "INCD-164592-A": {
         "areacode": 23,
         "category": "U/G Service repair",
         "categoryWebText": "The power cut affecting your property has been caused by an unexpected problem with the electricity cable that serves your area",
         "class": "models.MapDataPowercutIncno",
         "contact": "ELLERBY, DAVID",
         "customerStageSequence": 4,
         "elapsed": "00d 03:25",
         "estimatedTimeTillResolution": null,
         "group": "RESTORATION",
         "hoursSinceLogged": 3,
         "latestStageSequenceHistory": 1616254211000,
         "latestStageSequenceStatus": 2,
         "location": "HU6 9JD, 15 14TH, 14TH AVENUE, HULL",
         "logged": 1616244000000,
         "natureOfOutage": "Single Premise",
         "networkObject": "FIRST AVENUE",
         "numberOfCalls": 1,
         "postcodes": {
          "HU6 9JD": {
           "class": "models.MapDataLocation",
           "lat": 53.7844,
           "lng": -0.374075
          }
         },
         "prefix": null,
         "priority": 4,
         "reference": "INCD-164592-A",
         "region": "Humber Estuary / Hull 1",
         "resourceAllocationDelay": 0,
         "stageSequence": 2,
         "stageSequenceMessage": "Our team are working hard to restore your power as quickly as possible",
         "startnumber": 0,
         "status": "In Progress",
         "totalConfirmedOff": 1,
         "totalPredictedOff": 0,
         "totalResourceAssigned": 1,
         "totalResourceDispatched": 0,
         "totalResourceOnsite": 0,
         "totalRestored": 0,
         "totalSensitiveAffected": 0,
         "type": "SP"
        },
        "INCD-164596-A": {
         "areacode": 23,
         "category": "Unknown P2",
         "categoryWebText": "The power cut affecting your property has been caused by an unexpected problem with the cables or equipment that serve your area",
         "class": "models.MapDataPowercutIncno",
         "contact": "LANGFORD, JOE",
         "customerStageSequence": 4,
         "elapsed": "00d 03:56",
         "estimatedTimeTillResolution": 1616256900000,
         "group": "RESTORATION",
         "hoursSinceLogged": 3,
         "latestStageSequenceHistory": 1616251505000,
         "latestStageSequenceStatus": 3,
         "location": "HD9 1JH, MOORCROFT 2536 SS, Transformer LV",
         "logged": 1616242140000,
         "natureOfOutage": "Localised Fault",
         "networkObject": "4070814",
         "numberOfCalls": 2,
         "postcodes": {
          "HD7 7LF": {
           "class": "models.MapDataLocation",
           "lat": 53.5788,
           "lng": -1.76028
          },
          "HD9 1LE": {
           "class": "models.MapDataLocation",
           "lat": 53.5782,
           "lng": -1.76066
          },
          "HD9 1LS": {
           "class": "models.MapDataLocation",
           "lat": 53.5775,
           "lng": -1.76598
          },
          "HD9 7LF": {
           "class": "models.MapDataLocation",
           "lat": 53.5788,
           "lng": -1.76028
          },
          "HD9 7LG": {
           "class": "models.MapDataLocation",
           "lat": 53.5789,
           "lng": -1.75972
          },
          "HD9 7LZ": {
           "class": "models.MapDataLocation",
           "lat": 53.5831,
           "lng": -1.76471
          },
          "HD9 7NN": {
           "class": "models.MapDataLocation",
           "lat": 53.5798,
           "lng": -1.76181
          },
          "HD9 7NW": {
           "class": "models.MapDataLocation",
           "lat": 53.5794,
           "lng": -1.76122
          }
         },
         "prefix": null,
         "priority": 4,
         "reference": "INCD-164596-A",
         "region": "West Yorkshire / Leeds South 1",
         "resourceAllocationDelay": 0,
         "stageSequence": 3,
         "stageSequenceMessage": "Our team are working hard to restore your power as quickly as possible",
         "startnumber": 0,
         "status": "In Progress",
         "totalConfirmedOff": 0,
         "totalPredictedOff": 50,
         "totalResourceAssigned": 0,
         "totalResourceDispatched": 1,
         "totalResourceOnsite": 0,
         "totalRestored": 0,
         "totalSensitiveAffected": 9,
         "type": "LV"
        },
        "INCD-164598-A": {
         "areacode": 23,
         "category": "U/G LV Mains Repair (Other)",
         "categoryWebText": "The power cut affecting your property has been caused by an unexpected problem with the electricity cable that serves your area",
         "class": "models.MapDataPowercutIncno",
         "contact": "DENNISON, MARTIN",
         "customerStageSequence": 7,
         "elapsed": "00d 02:48",
         "estimatedTimeTillResolution": 1616257800000,
         "group": "RESTORATION",
         "hoursSinceLogged": 2,
         "latestStageSequenceHistory": 1616251811000,
         "latestStageSequenceStatus": 7,
         "location": "LS14 1DY, RED HALL WAY SS, Transformer LV",
         "logged": 1616246220000,
         "natureOfOutage": "Localised Fault",
         "networkObject": "4043801",
         "numberOfCalls": 9,
         "postcodes": {
          "LS14 1DZ": {
           "class": "models.MapDataLocation",
           "lat": 53.8384,
           "lng": -1.46525
          },
          "LS14 1ED": {
           "class": "models.MapDataLocation",
           "lat": 53.8379,
           "lng": -1.4656
          },
          "LS14 1EE": {
           "class": "models.MapDataLocation",
           "lat": 53.8382,
           "lng": -1.46583
          },
          "LS14 1EF": {
           "class": "models.MapDataLocation",
           "lat": 53.8379,
           "lng": -1.46645
          },
          "LS14 1EQ": {
           "class": "models.MapDataLocation",
           "lat": 53.8372,
           "lng": -1.4654
          }
         },
         "prefix": null,
         "priority": 3,
         "reference": "INCD-164598-A",
         "region": "West Yorkshire / Leeds North 1",
         "resourceAllocationDelay": 0,
         "stageSequence": 7,
         "stageSequenceMessage": "We are currently working hard to restore your power however we are unable to provide an accurate restoration time. Please call us on 105 if you have any specific questions.",
         "startnumber": 0,
         "status": "In Progress",
         "totalConfirmedOff": 23,
         "totalPredictedOff": 24,
         "totalResourceAssigned": 0,
         "totalResourceDispatched": 1,
         "totalResourceOnsite": 0,
         "totalRestored": 0,
         "totalSensitiveAffected": 9,
         "type": "LV"
        },
        "INCD-164605-A": {
         "areacode": 23,
         "category": "LV Restoration",
         "categoryWebText": "The power cut affecting your property has been caused by an unexpected problem with the cables or equipment that serve your area",
         "class": "models.MapDataPowercutIncno",
         "contact": "MARTYN, PAUL",
         "customerStageSequence": 3,
         "elapsed": "00d 02:35",
         "estimatedTimeTillResolution": 1616266800000,
         "group": "RESTORATION",
         "hoursSinceLogged": 2,
         "latestStageSequenceHistory": 1616256011000,
         "latestStageSequenceStatus": 3,
         "location": "S36 6BS, ST JOHNS SCHOOL SS, Transformer LV",
         "logged": 1616247000000,
         "natureOfOutage": "Localised Fault",
         "networkObject": "4071993",
         "numberOfCalls": 9,
         "postcodes": {
          "S36 6BR": {
           "class": "models.MapDataLocation",
           "lat": 53.5236,
           "lng": -1.6307
          },
          "S36 6BS": {
           "class": "models.MapDataLocation",
           "lat": 53.5233,
           "lng": -1.63123
          },
          "S36 6DP": {
           "class": "models.MapDataLocation",
           "lat": 53.5241,
           "lng": -1.63172
          },
          "S36 6EP": {
           "class": "models.MapDataLocation",
           "lat": 53.5226,
           "lng": -1.62891
          }
         },
         "prefix": null,
         "priority": 3,
         "reference": "INCD-164605-A",
         "region": "West Yorkshire / Leeds South 1",
         "resourceAllocationDelay": 0,
         "stageSequence": 3,
         "stageSequenceMessage": "Our team are working hard to restore your power as quickly as possible",
         "startnumber": 0,
         "status": "In Progress",
         "totalConfirmedOff": 0,
         "totalPredictedOff": 47,
         "totalResourceAssigned": 0,
         "totalResourceDispatched": 2,
         "totalResourceOnsite": 0,
         "totalRestored": 0,
         "totalSensitiveAffected": 9,
         "type": "LV"
        },
        "INCD-164611-A": {
         "areacode": 23,
         "category": "Unknown P1",
         "categoryWebText": "The power cut affecting your property has been caused by an unexpected problem with the cables or equipment that serve your area",
         "class": "models.MapDataPowercutIncno",
         "contact": "LAIRD, MICHAEL",
         "customerStageSequence": 3,
         "elapsed": "00d 01:16",
         "estimatedTimeTillResolution": null,
         "group": "RESTORATION",
         "hoursSinceLogged": 1,
         "latestStageSequenceHistory": 1616256305000,
         "latestStageSequenceStatus": 3,
         "location": "LS11 8EU, 4, WAINCLIFFE CRESCENT, LEEDS",
         "logged": 1616251740000,
         "natureOfOutage": "Single Premise",
         "networkObject": "BEESTON ROYDS 33/11",
         "numberOfCalls": 1,
         "postcodes": {
          "LS11 8EU": {
           "class": "models.MapDataLocation",
           "lat": 53.7667,
           "lng": -1.56569
          }
         },
         "prefix": null,
         "priority": 8,
         "reference": "INCD-164611-A",
         "region": "West Yorkshire / Leeds North 1",
         "resourceAllocationDelay": 0,
         "stageSequence": 3,
         "stageSequenceMessage": "Our team are working hard to restore your power as quickly as possible",
         "startnumber": 0,
         "status": "In Progress",
         "totalConfirmedOff": 0,
         "totalPredictedOff": 1,
         "totalResourceAssigned": 0,
         "totalResourceDispatched": 1,
         "totalResourceOnsite": 0,
         "totalRestored": 0,
         "totalSensitiveAffected": 0,
         "type": "SP"
        },
        "INCD-164613-A": {
         "areacode": 23,
         "category": "DNO Energisation check",
         "categoryWebText": "",
         "class": "models.MapDataPowercutIncno",
         "contact": "JOYNSON, CHRIS",
         "customerStageSequence": 3,
         "elapsed": "00d 01:05",
         "estimatedTimeTillResolution": null,
         "group": "RESTORATION",
         "hoursSinceLogged": 1,
         "latestStageSequenceHistory": 1616254211000,
         "latestStageSequenceStatus": 3,
         "location": "WF17 7LP, 9, PICKLESFIELD, BATLEY",
         "logged": 1616252400000,
         "natureOfOutage": "Single Premise",
         "networkObject": "BATLEY",
         "numberOfCalls": 1,
         "postcodes": {
          "WF17 7LP": {
           "class": "models.MapDataLocation",
           "lat": 53.7018,
           "lng": -1.64041
          }
         },
         "prefix": null,
         "priority": 3,
         "reference": "INCD-164613-A",
         "region": "West Yorkshire / Leeds South 1",
         "resourceAllocationDelay": 0,
         "stageSequence": 3,
         "stageSequenceMessage": "Our team are working hard to restore your power as quickly as possible",
         "startnumber": 0,
         "status": "In Progress",
         "totalConfirmedOff": 0,
         "totalPredictedOff": 1,
         "totalResourceAssigned": 0,
         "totalResourceDispatched": 1,
         "totalResourceOnsite": 0,
         "totalRestored": 0,
         "totalSensitiveAffected": 0,
         "type": "SP"
        },
        "INCD-164614-A": {
         "areacode": 23,
         "category": "Unknown P2",
         "categoryWebText": "The power cut affecting your property has been caused by an unexpected problem with the cables or equipment that serve your area",
         "class": "models.MapDataPowercutIncno",
         "contact": "HIBBERT, THOMAS",
         "customerStageSequence": 3,
         "elapsed": "00d 00:56",
         "estimatedTimeTillResolution": 1616264100000,
         "group": "RESTORATION",
         "hoursSinceLogged": 0,
         "latestStageSequenceHistory": 1616254505000,
         "latestStageSequenceStatus": 3,
         "location": "DN19 7NQ, EAST MARSH FARM, EAST MARSH ROAD, GOXHILL, BARROW-UPON-HUMBER",
         "logged": 1616252940000,
         "natureOfOutage": "Single Premise",
         "networkObject": "BARROW",
         "numberOfCalls": 1,
         "postcodes": {
          "DN19 7NQ": {
           "class": "models.MapDataLocation",
           "lat": 53.6994,
           "lng": -0.292509
          }
         },
         "prefix": null,
         "priority": 4,
         "reference": "INCD-164614-A",
         "region": "Humber Estuary / Scunthorpe 1",
         "resourceAllocationDelay": 0,
         "stageSequence": 3,
         "stageSequenceMessage": "Our team are working hard to restore your power as quickly as possible",
         "startnumber": 0,
         "status": "In Progress",
         "totalConfirmedOff": 0,
         "totalPredictedOff": 1,
         "totalResourceAssigned": 0,
         "totalResourceDispatched": 1,
         "totalResourceOnsite": 0,
         "totalRestored": 0,
         "totalSensitiveAffected": 0,
         "type": "SP"
        },
        "INCD-164618-A": {
         "areacode": 23,
         "category": "Unknown P2",
         "categoryWebText": "The power cut affecting your property has been caused by an unexpected problem with the cables or equipment that serve your area",
         "class": "models.MapDataPowercutIncno",
         "contact": "",
         "customerStageSequence": 1,
         "elapsed": "00d 00:33",
         "estimatedTimeTillResolution": 1616265900000,
         "group": "RESTORATION",
         "hoursSinceLogged": 0,
         "latestStageSequenceHistory": 1616254505000,
         "latestStageSequenceStatus": 1,
         "location": "BD20 8PE, CASA DEL TORO, WOODSIDE LANE, CONONLEY, KEIGHLEY",
         "logged": 1616254320000,
         "natureOfOutage": "Single Premise",
         "networkObject": "SKIPTON",
         "numberOfCalls": 1,
         "postcodes": {
          "BD20 8PE": {
           "class": "models.MapDataLocation",
           "lat": 53.9295,
           "lng": -2.02386
          }
         },
         "prefix": null,
         "priority": 4,
         "reference": "INCD-164618-A",
         "region": "Yorkshire Dales YK / Keighley 1",
         "resourceAllocationDelay": 0,
         "stageSequence": 1,
         "stageSequenceMessage": "Our team are working hard to restore your power as quickly as possible",
         "startnumber": 0,
         "status": "Awaiting",
         "totalConfirmedOff": 0,
         "totalPredictedOff": 1,
         "totalResourceAssigned": 0,
         "totalResourceDispatched": 0,
         "totalResourceOnsite": 0,
         "totalRestored": 0,
         "totalSensitiveAffected": 0,
         "type": "SP"
        },
        "INCD-164623-A": {
         "areacode": 15,
         "category": "Unknown P2",
         "categoryWebText": "The power cut affecting your property has been caused by an unexpected problem with the cables or equipment that serve your area",
         "class": "models.MapDataPowercutIncno",
         "contact": "",
         "customerStageSequence": 1,
         "elapsed": "00d 00:23",
         "estimatedTimeTillResolution": 1616265900000,
         "group": "RESTORATION",
         "hoursSinceLogged": 0,
         "latestStageSequenceHistory": 1616255105000,
         "latestStageSequenceStatus": 1,
         "location": "NE9 7RE, BEECHGROVE SPRINGWELL SS, Transformer LV",
         "logged": 1616254920000,
         "natureOfOutage": "Localised Fault",
         "networkObject": "61274",
         "numberOfCalls": 15,
         "postcodes": {
          "NE9 7RD": {
           "class": "models.MapDataLocation",
           "lat": 54.9174,
           "lng": -1.55424
          },
          "NE9 7RE": {
           "class": "models.MapDataLocation",
           "lat": 54.9175,
           "lng": -1.55386
          },
          "NE9 7SB": {
           "class": "models.MapDataLocation",
           "lat": 54.917,
           "lng": -1.55153
          },
          "NE9 7SD": {
           "class": "models.MapDataLocation",
           "lat": 54.9169,
           "lng": -1.55194
          },
          "NE9 7SE": {
           "class": "models.MapDataLocation",
           "lat": 54.9165,
           "lng": -1.55225
          },
          "NE9 7SH": {
           "class": "models.MapDataLocation",
           "lat": 54.917,
           "lng": -1.55109
          },
          "NE9 7SZ": {
           "class": "models.MapDataLocation",
           "lat": 54.9158,
           "lng": -1.5531
          },
          "NE9 7UF": {
           "class": "models.MapDataLocation",
           "lat": 54.9162,
           "lng": -1.55179
          },
          "NE9 7UQ": {
           "class": "models.MapDataLocation",
           "lat": 54.9153,
           "lng": -1.55325
          }
         },
         "prefix": null,
         "priority": 4,
         "reference": "INCD-164623-A",
         "region": "Tyne and Wear / Gateshead 1",
         "resourceAllocationDelay": 0,
         "stageSequence": 1,
         "stageSequenceMessage": "Our team are working hard to restore your power as quickly as possible",
         "startnumber": 0,
         "status": "Awaiting",
         "totalConfirmedOff": 0,
         "totalPredictedOff": 54,
         "totalResourceAssigned": 0,
         "totalResourceDispatched": 0,
         "totalResourceOnsite": 0,
         "totalRestored": 0,
         "totalSensitiveAffected": 6,
         "type": "LV"
        },
        "INCD-164624-A": {
         "areacode": 15,
         "category": "Unknown P2",
         "categoryWebText": "The power cut affecting your property has been caused by an unexpected problem with the cables or equipment that serve your area",
         "class": "models.MapDataPowercutIncno",
         "contact": "MCNALLY, KEVIN",
         "customerStageSequence": 3,
         "elapsed": "00d 00:18",
         "estimatedTimeTillResolution": 1616266800000,
         "group": "RESTORATION",
         "hoursSinceLogged": 0,
         "latestStageSequenceHistory": 1616256305000,
         "latestStageSequenceStatus": 3,
         "location": "TS10 3JW, 5, CAROLINE MEWS, REDCAR",
         "logged": 1616255220000,
         "natureOfOutage": "Single Premise",
         "networkObject": "REDCAR",
         "numberOfCalls": 1,
         "postcodes": {
          "TS10 3JW": {
           "class": "models.MapDataLocation",
           "lat": 54.6157,
           "lng": -1.06325
          }
         },
         "prefix": null,
         "priority": 4,
         "reference": "INCD-164624-A",
         "region": "Teesside / Middlesbrough 1",
         "resourceAllocationDelay": 0,
         "stageSequence": 3,
         "stageSequenceMessage": "Our team are working hard to restore your power as quickly as possible",
         "startnumber": 0,
         "status": "In Progress",
         "totalConfirmedOff": 0,
         "totalPredictedOff": 1,
         "totalResourceAssigned": 0,
         "totalResourceDispatched": 1,
         "totalResourceOnsite": 0,
         "totalRestored": 0,
         "totalSensitiveAffected": 0,
         "type": "SP"
        },
        "INCD-69883-C": {
         "areacode": 23,
         "category": "O/H HV Mains Repair",
         "categoryWebText": "The power cut affecting your property has been caused by an unexpected problem with the cables or equipment that serve your area",
         "class": "models.MapDataPowercutIncno",
         "contact": "",
         "customerStageSequence": 4,
         "elapsed": "23d 02:53",
         "estimatedTimeTillResolution": null,
         "group": "HV / EHV TEMPS",
         "hoursSinceLogged": 554,
         "latestStageSequenceHistory": 1614273008000,
         "latestStageSequenceStatus": 1,
         "location": "S6  1ES, BIRLEY HALL FARM, THE BUNGALOW, EDGE LANE, SHEFFIELD",
         "logged": 1614258720000,
         "natureOfOutage": "Single Premise",
         "networkObject": "CLAYWHEELS LANE",
         "numberOfCalls": 1,
         "postcodes": {
          "S6 1ES": {
           "class": "models.MapDataLocation",
           "lat": 53.4313,
           "lng": -1.50428
          }
         },
         "prefix": null,
         "priority": 1,
         "reference": "INCD-69883-C",
         "region": "South Yorkshire / Sheffield 1",
         "resourceAllocationDelay": 0,
         "stageSequence": 1,
         "stageSequenceMessage": "Our team are working hard to restore your power as quickly as possible",
         "startnumber": 0,
         "status": "Awaiting",
         "totalConfirmedOff": 0,
         "totalPredictedOff": 1,
         "totalResourceAssigned": 0,
         "totalResourceDispatched": 0,
         "totalResourceOnsite": 0,
         "totalRestored": 0,
         "totalSensitiveAffected": 0,
         "type": "SP"
        },
        "PPC038690": {
         "areacode": 15,
         "category": "We need to temporarily turn the power off to carry out maintenance on our network in the area.",
         "categoryWebText": "",
         "class": "models.MapDataPowercutIncno",
         "contact": "Jason Brand",
         "customerStageSequence": 5,
         "elapsed": "0d 7:35",
         "estimatedTimeTillResolution": 1616246100000,
         "group": "RESTORATION",
         "hoursSinceLogged": 7,
         "latestStageSequenceHistory": 1616250011000,
         "latestStageSequenceStatus": 5,
         "location": "Tara Pak S/s",
         "logged": 1616229000000,
         "natureOfOutage": "Planned Work on System",
         "networkObject": "TARA PAK",
         "numberOfCalls": 0,
         "postcodes": {
          "NE12 5RF": {
           "class": "models.MapDataLocation",
           "lat": 55.0437,
           "lng": -1.58403
          },
          "NE12 5UJ": {
           "class": "models.MapDataLocation",
           "lat": 55.0413,
           "lng": -1.58313
          },
          "NE12 5US": {
           "class": "models.MapDataLocation",
           "lat": 55.042,
           "lng": -1.58458
          },
          "NE12 6RF": {
           "class": "models.MapDataLocation",
           "lat": 55.0418,
           "lng": -1.58372
          }
         },
         "prefix": null,
         "priority": 8,
         "reference": "PPC038690",
         "region": "Tara Pak S/s",
         "resourceAllocationDelay": 0,
         "stageSequence": 5,
         "stageSequenceMessage": "",
         "startnumber": 0,
         "status": "The scheduled work has now been completed",
         "totalConfirmedOff": 5,
         "totalPredictedOff": 0,
         "totalResourceAssigned": 0,
         "totalResourceDispatched": 0,
         "totalResourceOnsite": 0,
         "totalRestored": 0,
         "totalSensitiveAffected": 0,
         "type": "LV"
        },
        "PPC039523": {
         "areacode": 23,
         "category": "We need to temporarily turn the power off to carry out maintenance on our network in the area.",
         "categoryWebText": "",
         "class": "models.MapDataPowercutIncno",
         "contact": "Richard Heaton",
         "customerStageSequence": 5,
         "elapsed": "0d 7:5",
         "estimatedTimeTillResolution": 1616256000000,
         "group": "RESTORATION",
         "hoursSinceLogged": 7,
         "latestStageSequenceHistory": 1616256011000,
         "latestStageSequenceStatus": 5,
         "location": "EEL FARM DRAX S/S",
         "logged": 1616230800000,
         "natureOfOutage": "Planned Work on System",
         "networkObject": "EEL FARM 7357",
         "numberOfCalls": 0,
         "postcodes": {
          "DN14 9NH": {
           "class": "models.MapDataLocation",
           "lat": 53.6989,
           "lng": -0.983961
          },
          "YO8 8PG": {
           "class": "models.MapDataLocation",
           "lat": 53.7141,
           "lng": -0.961336
          },
          "YO8 8PJ": {
           "class": "models.MapDataLocation",
           "lat": 53.7306,
           "lng": -0.994673
          },
          "YO8 8PL": {
           "class": "models.MapDataLocation",
           "lat": 53.7259,
           "lng": -0.984842
          },
          "YO8 8PN": {
           "class": "models.MapDataLocation",
           "lat": 53.7237,
           "lng": -0.986879
          },
          "YO8 8PS": {
           "class": "models.MapDataLocation",
           "lat": 53.7142,
           "lng": -0.951939
          },
          "YO8 8PW": {
           "class": "models.MapDataLocation",
           "lat": 53.7311,
           "lng": -0.956675
          }
         },
         "prefix": null,
         "priority": 8,
         "reference": "PPC039523",
         "region": "EEL FARM DRAX S/S",
         "resourceAllocationDelay": 0,
         "stageSequence": 5,
         "stageSequenceMessage": "",
         "startnumber": 0,
         "status": "The scheduled work has now been completed",
         "totalConfirmedOff": 15,
         "totalPredictedOff": 0,
         "totalResourceAssigned": 0,
         "totalResourceDispatched": 0,
         "totalResourceOnsite": 0,
         "totalRestored": 0,
         "totalSensitiveAffected": 0,
         "type": "LV"
        }
       }
      },
      "text/plain": [
       "<IPython.core.display.JSON object>"
      ]
     },
     "execution_count": 98,
     "metadata": {
      "application/json": {
       "expanded": false,
       "root": "root"
      }
     },
     "output_type": "execute_result"
    }
   ],
   "source": [
    "def _(main_url='https://www.northernpowergrid.com/power-cuts', data_url='https://www.northernpowergrid.com/powercutsgetallbyincno'):\n",
    "    session = requests.Session()\n",
    "\n",
    "    r = session.get(main_url)\n",
    "\n",
    "    data = {\n",
    "        'method': 'incno',\n",
    "        'typeFilters': '',\n",
    "        'timeFilters': '',\n",
    "        'postcodeFilter': '',\n",
    "        'categoryFilters': 'Service Cutout Change,Asset repairs by Troublecall,Metering,Emergency Disconnection,Emergency Disconnection (Charge),Cat A,Cat B,Cat C',\n",
    "        'authenticityToken': session.cookies['PLAY_SESSION'].split('AT=')[-1].replace('\"', '')\n",
    "    }\n",
    "\n",
    "    r = session.post(url, data=data)\n",
    "\n",
    "    data = json.loads(r.json()['data'])\n",
    "    \n",
    "    return data\n",
    "\n",
    "data = _()\n",
    "\n",
    "JSON(data)"
   ]
  },
  {
   "cell_type": "code",
   "execution_count": null,
   "id": "secret-content",
   "metadata": {},
   "outputs": [],
   "source": []
  },
  {
   "cell_type": "markdown",
   "id": "interested-mineral",
   "metadata": {},
   "source": [
    "<br>\n",
    "\n",
    "### Electricity North West\n",
    "\n",
    "https://www.enwl.co.uk/power-cuts/"
   ]
  },
  {
   "cell_type": "code",
   "execution_count": null,
   "id": "distributed-directive",
   "metadata": {},
   "outputs": [],
   "source": [
    "# need to handle page size and number\n",
    "'https://www.enwl.co.uk/power-outages/search?pageSize=10&postcodeOrReferenceNumber=&pageNumber=2&includeCurrent=true&includeResolved=true&includeTodaysPlanned=true&includeFuturePlanned=true&includeCancelledPlanned=true'"
   ]
  },
  {
   "cell_type": "code",
   "execution_count": null,
   "id": "confidential-prior",
   "metadata": {},
   "outputs": [],
   "source": []
  },
  {
   "cell_type": "code",
   "execution_count": null,
   "id": "beautiful-essex",
   "metadata": {},
   "outputs": [],
   "source": []
  },
  {
   "cell_type": "code",
   "execution_count": null,
   "id": "brave-milton",
   "metadata": {},
   "outputs": [],
   "source": [
    "# incident_active (if known)\n",
    "# logged/start time\n",
    "# estimated time of fix\n",
    "# postcodes impacted\n",
    "# description"
   ]
  },
  {
   "cell_type": "code",
   "execution_count": 96,
   "id": "norman-latin",
   "metadata": {},
   "outputs": [
    {
     "name": "stdout",
     "output_type": "stream",
     "text": [
      "Converted 01-retrieval.ipynb.\n",
      "Converted 02-collation.ipynb.\n"
     ]
    }
   ],
   "source": [
    "#hide\n",
    "from nbdev.export import *\n",
    "notebook2script()"
   ]
  }
 ],
 "metadata": {
  "kernelspec": {
   "display_name": "outage",
   "language": "python",
   "name": "outage"
  },
  "language_info": {
   "codemirror_mode": {
    "name": "ipython",
    "version": 3
   },
   "file_extension": ".py",
   "mimetype": "text/x-python",
   "name": "python",
   "nbconvert_exporter": "python",
   "pygments_lexer": "ipython3",
   "version": "3.7.10"
  }
 },
 "nbformat": 4,
 "nbformat_minor": 5
}

{
 "cells": [
  {
   "cell_type": "code",
   "execution_count": 1,
   "id": "younger-console",
   "metadata": {},
   "outputs": [],
   "source": [
    "# default_exp retrieval"
   ]
  },
  {
   "cell_type": "markdown",
   "id": "subtle-interview",
   "metadata": {},
   "source": [
    "# Outage Data Retrieval\n",
    "\n",
    "<br>\n",
    "\n",
    "### Imports"
   ]
  },
  {
   "cell_type": "code",
   "execution_count": 2,
   "id": "capital-joseph",
   "metadata": {},
   "outputs": [],
   "source": [
    "#exports\n",
    "import json\n",
    "import pandas as pd\n",
    "\n",
    "import html\n",
    "import requests\n",
    "from bs4 import BeautifulSoup as bs\n",
    "from warnings import warn\n",
    "\n",
    "from ipypb import track"
   ]
  },
  {
   "cell_type": "code",
   "execution_count": 3,
   "id": "altered-wales",
   "metadata": {},
   "outputs": [],
   "source": [
    "from IPython.display import JSON, HTML"
   ]
  },
  {
   "cell_type": "markdown",
   "id": "abroad-candy",
   "metadata": {},
   "source": [
    "<br>\n",
    "\n",
    "### UK Power Networks\n",
    "\n",
    "https://www.ukpowernetworks.co.uk/power-cut/map"
   ]
  },
  {
   "cell_type": "code",
   "execution_count": 4,
   "id": "knowing-hometown",
   "metadata": {},
   "outputs": [
    {
     "data": {
      "application/json": {
       "Incidents": [
        {
         "PanelContentUrl": "/power-cut/map/unplanned?incidentId=INCD-247691-G",
         "PostcodeData": [
          {
           "Center": {
            "lat": 50.8224,
            "lng": -0.14015
           },
           "Postcode": "BN1 1"
          }
         ],
         "PostcodesRemaining": [],
         "PowerCutType": "Unplanned",
         "ServiceDown": false
        },
        {
         "PanelContentUrl": "/power-cut/map/unplanned?incidentId=INCD-54055-V",
         "PostcodeData": [
          {
           "Center": {
            "lat": 51.24006,
            "lng": -0.57531
           },
           "Postcode": "GU1 4"
          }
         ],
         "PostcodesRemaining": [],
         "PowerCutType": "Unplanned",
         "ServiceDown": false
        },
        {
         "PanelContentUrl": "/power-cut/map/unplanned?incidentId=INCD-259614-J",
         "PostcodeData": [
          {
           "Center": {
            "lat": 51.5443,
            "lng": -0.18569
           },
           "Postcode": "NW6 3"
          }
         ],
         "PostcodesRemaining": [],
         "PowerCutType": "Unplanned",
         "ServiceDown": false
        },
        {
         "PanelContentUrl": "/power-cut/map/unplanned?incidentId=INCD-229829-Z",
         "PostcodeData": [
          {
           "Center": {
            "lat": 51.76088,
            "lng": 0.04634
           },
           "Postcode": "CM19 5"
          }
         ],
         "PostcodesRemaining": [],
         "PowerCutType": "Unplanned",
         "ServiceDown": false
        },
        {
         "PanelContentUrl": "/power-cut/map/unplanned?incidentId=INCD-229862-Z",
         "PostcodeData": [],
         "PostcodesRemaining": [],
         "PowerCutType": "Unplanned",
         "ServiceDown": false
        },
        {
         "PanelContentUrl": "/power-cut/map/unplanned?incidentId=INCD-259632-J",
         "PostcodeData": [
          {
           "Center": {
            "lat": 51.54073,
            "lng": -0.12942
           },
           "Postcode": "N1 0"
          }
         ],
         "PostcodesRemaining": [],
         "PowerCutType": "Unplanned",
         "ServiceDown": false
        },
        {
         "PanelContentUrl": "/power-cut/map/unplanned?incidentId=INCD-247911-G",
         "PostcodeData": [],
         "PostcodesRemaining": [],
         "PowerCutType": "Unplanned",
         "ServiceDown": false
        },
        {
         "PanelContentUrl": "/power-cut/map/unplanned?incidentId=INCD-229833-Z",
         "PostcodeData": [
          {
           "Center": {
            "lat": 52.65372,
            "lng": 0.95906
           },
           "Postcode": "NR19 1"
          },
          {
           "Center": {
            "lat": 52.68513,
            "lng": 0.87173
           },
           "Postcode": "NR19 2"
          }
         ],
         "PostcodesRemaining": [],
         "PowerCutType": "Unplanned",
         "ServiceDown": false
        },
        {
         "PanelContentUrl": "/power-cut/map/unplanned?incidentId=INCD-54137-V",
         "PostcodeData": [],
         "PostcodesRemaining": [],
         "PowerCutType": "Unplanned",
         "ServiceDown": false
        },
        {
         "PanelContentUrl": "/power-cut/map/unplanned?incidentId=INCD-229910-Z",
         "PostcodeData": [
          {
           "Center": {
            "lat": 51.51408,
            "lng": 0.27805
           },
           "Postcode": "RM15 5"
          }
         ],
         "PostcodesRemaining": [],
         "PowerCutType": "Unplanned",
         "ServiceDown": false
        },
        {
         "PanelContentUrl": "/power-cut/map/unplanned?incidentId=INCD-227793-Z",
         "PostcodeData": [
          {
           "Center": {
            "lat": 51.8656,
            "lng": -0.36636
           },
           "Postcode": "LU2 9"
          }
         ],
         "PostcodesRemaining": [],
         "PowerCutType": "Unplanned",
         "ServiceDown": false
        },
        {
         "PanelContentUrl": "/power-cut/map/unplanned?incidentId=INCD-229831-Z",
         "PostcodeData": [
          {
           "Center": {
            "lat": 51.55611,
            "lng": -0.3163
           },
           "Postcode": "HA0 2"
          }
         ],
         "PostcodesRemaining": [],
         "PowerCutType": "Unplanned",
         "ServiceDown": false
        },
        {
         "PanelContentUrl": "/power-cut/map/unplanned?incidentId=INCD-54166-V",
         "PostcodeData": [
          {
           "Center": {
            "lat": 51.14358,
            "lng": 1.30077
           },
           "Postcode": "CT16 2"
          },
          {
           "Center": {
            "lat": 51.13606,
            "lng": 1.28365
           },
           "Postcode": "CT17 0"
          }
         ],
         "PostcodesRemaining": [],
         "PowerCutType": "Unplanned",
         "ServiceDown": false
        },
        {
         "PanelContentUrl": "/power-cut/map/unplanned?incidentId=INCD-59775-N",
         "PostcodeData": [
          {
           "Center": {
            "lat": 51.42377,
            "lng": -0.04311
           },
           "Postcode": "SE26 5"
          }
         ],
         "PostcodesRemaining": [],
         "PowerCutType": "Unplanned",
         "ServiceDown": false
        },
        {
         "PanelContentUrl": "/power-cut/map/unplanned?incidentId=INCD-247923-G",
         "PostcodeData": [
          {
           "Center": {
            "lat": 51.08096,
            "lng": 1.13469
           },
           "Postcode": "CT20 3"
          }
         ],
         "PostcodesRemaining": [],
         "PowerCutType": "Unplanned",
         "ServiceDown": false
        },
        {
         "PanelContentUrl": "/power-cut/map/power-back-on?incidentId=INCD-259202-J",
         "PostcodeData": [
          {
           "Center": {
            "lat": 51.5216,
            "lng": -0.15373
           },
           "Postcode": "W1U 5"
          },
          {
           "Center": {
            "lat": 51.52055,
            "lng": -0.15765
           },
           "Postcode": "W1U 6"
          },
          {
           "Center": {
            "lat": 51.51863,
            "lng": -0.15499
           },
           "Postcode": "W1U 7"
          }
         ],
         "PostcodesRemaining": [],
         "PowerCutType": "Restored",
         "ServiceDown": false
        },
        {
         "PanelContentUrl": "/power-cut/map/power-back-on?incidentId=INCD-229698-Z",
         "PostcodeData": [
          {
           "Center": {
            "lat": 51.66585,
            "lng": -0.15802
           },
           "Postcode": "EN4 0"
          },
          {
           "Center": {
            "lat": 51.65236,
            "lng": -0.16204
           },
           "Postcode": "EN4 9"
          }
         ],
         "PostcodesRemaining": [],
         "PowerCutType": "Restored",
         "ServiceDown": false
        },
        {
         "PanelContentUrl": "/power-cut/map/power-back-on?incidentId=INCD-221858-Z",
         "PostcodeData": [
          {
           "Center": {
            "lat": 52.03865,
            "lng": 1.14839
           },
           "Postcode": "IP2 8"
          }
         ],
         "PostcodesRemaining": [],
         "PowerCutType": "Restored",
         "ServiceDown": false
        },
        {
         "PanelContentUrl": "/power-cut/map/power-back-on?incidentId=INCD-229836-Z",
         "PostcodeData": [
          {
           "Center": {
            "lat": 52.04863,
            "lng": 0.72591
           },
           "Postcode": "CO10 1"
          }
         ],
         "PostcodesRemaining": [],
         "PowerCutType": "Restored",
         "ServiceDown": false
        },
        {
         "PanelContentUrl": "/power-cut/map/power-back-on?incidentId=INCD-229450-Z",
         "PostcodeData": [
          {
           "Center": {
            "lat": 51.56103,
            "lng": 0.64863
           },
           "Postcode": "SS9 4"
          },
          {
           "Center": {
            "lat": 51.57344,
            "lng": 0.65352
           },
           "Postcode": "SS9 5"
          }
         ],
         "PostcodesRemaining": [],
         "PowerCutType": "Restored",
         "ServiceDown": false
        },
        {
         "PanelContentUrl": "/power-cut/map/power-back-on?incidentId=INCD-317017-U",
         "PostcodeData": [
          {
           "Center": {
            "lat": 51.41638,
            "lng": -0.48598
           },
           "Postcode": "TW18 1"
          },
          {
           "Center": {
            "lat": 51.42143,
            "lng": -0.5016
           },
           "Postcode": "TW18 2"
          }
         ],
         "PostcodesRemaining": [],
         "PowerCutType": "Restored",
         "ServiceDown": false
        },
        {
         "PanelContentUrl": "/power-cut/map/power-back-on?incidentId=INCD-44056-C",
         "PostcodeData": [
          {
           "Center": {
            "lat": 52.63019,
            "lng": 1.29777
           },
           "Postcode": "NR2 4"
          }
         ],
         "PostcodesRemaining": [],
         "PowerCutType": "Restored",
         "ServiceDown": false
        },
        {
         "PanelContentUrl": "/power-cut/map/power-back-on?incidentId=INCD-229840-Z",
         "PostcodeData": [
          {
           "Center": {
            "lat": 51.75851,
            "lng": -0.02933
           },
           "Postcode": "EN11 8"
          }
         ],
         "PostcodesRemaining": [],
         "PowerCutType": "Restored",
         "ServiceDown": false
        },
        {
         "PanelContentUrl": "/power-cut/map/power-back-on?incidentId=INCD-239464-G",
         "PostcodeData": [
          {
           "Center": {
            "lat": 51.40415,
            "lng": -0.30237
           },
           "Postcode": "KT1 2"
          }
         ],
         "PostcodesRemaining": [],
         "PowerCutType": "Restored",
         "ServiceDown": false
        },
        {
         "PanelContentUrl": "/power-cut/map/power-back-on?incidentId=INCD-259629-J",
         "PostcodeData": [
          {
           "Center": {
            "lat": 51.59195,
            "lng": 0.03243
           },
           "Postcode": "E18 1"
          },
          {
           "Center": {
            "lat": 51.59209,
            "lng": 0.01788
           },
           "Postcode": "E18 2"
          }
         ],
         "PostcodesRemaining": [],
         "PowerCutType": "Restored",
         "ServiceDown": false
        },
        {
         "PanelContentUrl": "/power-cut/map/power-back-on?incidentId=INCD-259626-J",
         "PostcodeData": [
          {
           "Center": {
            "lat": 51.53283,
            "lng": -0.1156
           },
           "Postcode": "N1 9"
          }
         ],
         "PostcodesRemaining": [],
         "PowerCutType": "Restored",
         "ServiceDown": false
        },
        {
         "PanelContentUrl": "/power-cut/map/power-back-on?incidentId=INCD-259628-J",
         "PostcodeData": [
          {
           "Center": {
            "lat": 51.53346,
            "lng": -0.16468
           },
           "Postcode": "NW8 7"
          }
         ],
         "PostcodesRemaining": [],
         "PowerCutType": "Restored",
         "ServiceDown": false
        },
        {
         "PanelContentUrl": "/power-cut/map/power-back-on?incidentId=INCD-228507-Z",
         "PostcodeData": [
          {
           "Center": {
            "lat": 51.53515,
            "lng": 0.72765
           },
           "Postcode": "SS1 2"
          }
         ],
         "PostcodesRemaining": [],
         "PowerCutType": "Restored",
         "ServiceDown": false
        },
        {
         "PanelContentUrl": "/power-cut/map/power-back-on?incidentId=INCD-259415-J",
         "PostcodeData": [
          {
           "Center": {
            "lat": 51.54543,
            "lng": -0.17836
           },
           "Postcode": "NW3 6"
          }
         ],
         "PostcodesRemaining": [],
         "PowerCutType": "Restored",
         "ServiceDown": false
        },
        {
         "PanelContentUrl": "/power-cut/map/power-back-on?incidentId=INCD-259482-J",
         "PostcodeData": [
          {
           "Center": {
            "lat": 51.5215,
            "lng": 0.02671
           },
           "Postcode": "E13 8"
          }
         ],
         "PostcodesRemaining": [],
         "PowerCutType": "Restored",
         "ServiceDown": false
        },
        {
         "PanelContentUrl": "/power-cut/map/power-back-on?incidentId=INCD-59742-N",
         "PostcodeData": [
          {
           "Center": {
            "lat": 51.52496,
            "lng": 0.11036
           },
           "Postcode": "IG11 0"
          }
         ],
         "PostcodesRemaining": [],
         "PowerCutType": "Restored",
         "ServiceDown": false
        },
        {
         "PanelContentUrl": "/power-cut/map/power-back-on?incidentId=INCD-229812-Z",
         "PostcodeData": [
          {
           "Center": {
            "lat": 51.80153,
            "lng": -0.22797
           },
           "Postcode": "AL8 7"
          }
         ],
         "PostcodesRemaining": [],
         "PowerCutType": "Restored",
         "ServiceDown": false
        },
        {
         "PanelContentUrl": "/power-cut/map/power-back-on?incidentId=INCD-227747-Z",
         "PostcodeData": [
          {
           "Center": {
            "lat": 52.34001,
            "lng": 0.34545
           },
           "Postcode": "CB7 5"
          }
         ],
         "PostcodesRemaining": [],
         "PowerCutType": "Restored",
         "ServiceDown": false
        },
        {
         "PanelContentUrl": "/power-cut/map/power-back-on?incidentId=INCD-53400-V",
         "PostcodeData": [
          {
           "Center": {
            "lat": 51.43532,
            "lng": 0.37698
           },
           "Postcode": "DA12 1"
          },
          {
           "Center": {
            "lat": 51.36475,
            "lng": 0.43499
           },
           "Postcode": "ME2 1"
          }
         ],
         "PostcodesRemaining": [],
         "PowerCutType": "Restored",
         "ServiceDown": false
        },
        {
         "PanelContentUrl": "/power-cut/map/power-back-on?incidentId=INCD-247902-G",
         "PostcodeData": [
          {
           "Center": {
            "lat": 51.44544,
            "lng": 0.27664
           },
           "Postcode": "DA9 9"
          },
          {
           "Center": {
            "lat": 51.30977,
            "lng": 0.38477
           },
           "Postcode": "ME19 5"
          },
          {
           "Center": {
            "lat": 51.01824,
            "lng": -0.10615
           },
           "Postcode": "RH16 1"
          },
          {
           "Center": {
            "lat": 51.12624,
            "lng": -0.0343
           },
           "Postcode": "RH19 1"
          },
          {
           "Center": {
            "lat": 51.1288,
            "lng": 0.02898
           },
           "Postcode": "RH19 3"
          },
          {
           "Center": {
            "lat": 51.08781,
            "lng": -0.03675
           },
           "Postcode": "RH19 4"
          },
          {
           "Center": {
            "lat": 51.36464,
            "lng": -0.18442
           },
           "Postcode": "SM1 4"
          }
         ],
         "PostcodesRemaining": [],
         "PowerCutType": "Restored",
         "ServiceDown": false
        },
        {
         "PanelContentUrl": "/power-cut/map/power-back-on?incidentId=INCD-229839-Z",
         "PostcodeData": [
          {
           "Center": {
            "lat": 51.64565,
            "lng": -0.42901
           },
           "Postcode": "WD18 8"
          }
         ],
         "PostcodesRemaining": [],
         "PowerCutType": "Restored",
         "ServiceDown": false
        },
        {
         "PanelContentUrl": "/power-cut/map/power-back-on?incidentId=INCD-228998-Z",
         "PostcodeData": [
          {
           "Center": {
            "lat": 51.6078,
            "lng": -0.1692
           },
           "Postcode": "N12 0"
          },
          {
           "Center": {
            "lat": 51.57807,
            "lng": -0.07157
           },
           "Postcode": "N15 6"
          },
          {
           "Center": {
            "lat": 51.60502,
            "lng": -0.11588
           },
           "Postcode": "N22 8"
          },
          {
           "Center": {
            "lat": 51.59437,
            "lng": -0.1722
           },
           "Postcode": "N2 8"
          },
          {
           "Center": {
            "lat": 51.59501,
            "lng": -0.16276
           },
           "Postcode": "N2 9"
          }
         ],
         "PostcodesRemaining": [],
         "PowerCutType": "Restored",
         "ServiceDown": false
        },
        {
         "PanelContentUrl": "/power-cut/map/power-back-on?incidentId=INCD-246135-G",
         "PostcodeData": [],
         "PostcodesRemaining": [],
         "PowerCutType": "Restored",
         "ServiceDown": false
        },
        {
         "PanelContentUrl": "/power-cut/map/power-back-on?incidentId=INCD-247546-G",
         "PostcodeData": [
          {
           "Center": {
            "lat": 50.84775,
            "lng": -0.12728
           },
           "Postcode": "BN1 7"
          },
          {
           "Center": {
            "lat": 50.87283,
            "lng": -0.09774
           },
           "Postcode": "BN1 9"
          },
          {
           "Center": {
            "lat": 50.84518,
            "lng": -0.10177
           },
           "Postcode": "BN2 4"
          },
          {
           "Center": {
            "lat": 50.83675,
            "lng": -0.06399
           },
           "Postcode": "BN2 6"
          }
         ],
         "PostcodesRemaining": [],
         "PowerCutType": "Restored",
         "ServiceDown": false
        },
        {
         "PanelContentUrl": "/power-cut/map/power-back-on?incidentId=INCD-229191-Z",
         "PostcodeData": [
          {
           "Center": {
            "lat": 52.21675,
            "lng": -0.26223
           },
           "Postcode": "PE19 2"
          },
          {
           "Center": {
            "lat": 52.22654,
            "lng": -0.20288
           },
           "Postcode": "PE19 6"
          },
          {
           "Center": {
            "lat": 52.23373,
            "lng": -0.28169
           },
           "Postcode": "PE19 7"
          },
          {
           "Center": {
            "lat": 52.2171,
            "lng": -0.29807
           },
           "Postcode": "PE19 8"
          },
          {
           "Center": {
            "lat": 51.60122,
            "lng": 0.21936
           },
           "Postcode": "RM3 8"
          }
         ],
         "PostcodesRemaining": [],
         "PowerCutType": "Restored",
         "ServiceDown": false
        },
        {
         "PanelContentUrl": "/power-cut/map/power-back-on?incidentId=INCD-243592-G",
         "PostcodeData": [
          {
           "Center": {
            "lat": 50.7985,
            "lng": 0.03729
           },
           "Postcode": "BN9 9"
          }
         ],
         "PostcodesRemaining": [],
         "PowerCutType": "Restored",
         "ServiceDown": false
        },
        {
         "PanelContentUrl": "/power-cut/map/power-back-on?incidentId=INCD-229908-Z",
         "PostcodeData": [
          {
           "Center": {
            "lat": 51.94285,
            "lng": 0.91642
           },
           "Postcode": "CO4 5"
          }
         ],
         "PostcodesRemaining": [],
         "PowerCutType": "Restored",
         "ServiceDown": false
        },
        {
         "PanelContentUrl": "/power-cut/map/power-back-on?incidentId=INCD-228675-Z",
         "PostcodeData": [],
         "PostcodesRemaining": [],
         "PowerCutType": "Restored",
         "ServiceDown": false
        },
        {
         "PanelContentUrl": "/power-cut/map/power-back-on?incidentId=INCD-54022-V",
         "PostcodeData": [
          {
           "Center": {
            "lat": 51.23658,
            "lng": -0.60277
           },
           "Postcode": "GU2 7"
          },
          {
           "Center": {
            "lat": 51.26686,
            "lng": -0.61624
           },
           "Postcode": "GU3 3"
          }
         ],
         "PostcodesRemaining": [],
         "PowerCutType": "Restored",
         "ServiceDown": false
        },
        {
         "PanelContentUrl": "/power-cut/map/power-back-on?incidentId=INCD-229873-Z",
         "PostcodeData": [],
         "PostcodesRemaining": [],
         "PowerCutType": "Restored",
         "ServiceDown": false
        },
        {
         "PanelContentUrl": "/power-cut/map/power-back-on?incidentId=INCD-229914-Z",
         "PostcodeData": [
          {
           "Center": {
            "lat": 51.58177,
            "lng": -0.36516
           },
           "Postcode": "HA2 7"
          },
          {
           "Center": {
            "lat": 51.58782,
            "lng": -0.37347
           },
           "Postcode": "HA5 5"
          }
         ],
         "PostcodesRemaining": [],
         "PowerCutType": "Restored",
         "ServiceDown": false
        },
        {
         "PanelContentUrl": "/power-cut/map/power-back-on?incidentId=INCD-247495-G",
         "PostcodeData": [
          {
           "Center": {
            "lat": 51.35028,
            "lng": 0.12956
           },
           "Postcode": "BR6 7"
          },
          {
           "Center": {
            "lat": 51.32711,
            "lng": 0.13323
           },
           "Postcode": "TN14 7"
          },
          {
           "Center": {
            "lat": 51.32907,
            "lng": 0.31238
           },
           "Postcode": "TN15 7"
          }
         ],
         "PostcodesRemaining": [],
         "PowerCutType": "Restored",
         "ServiceDown": false
        },
        {
         "PanelContentUrl": "/power-cut/map/power-back-on?incidentId=INCD-247917-G",
         "PostcodeData": [
          {
           "Center": {
            "lat": 51.31748,
            "lng": -0.51537
           },
           "Postcode": "GU22 8"
          },
          {
           "Center": {
            "lat": 51.33689,
            "lng": -0.50004
           },
           "Postcode": "KT14 6"
          }
         ],
         "PostcodesRemaining": [],
         "PowerCutType": "Restored",
         "ServiceDown": false
        },
        {
         "PanelContentUrl": "/power-cut/map/planned-work?incidentId=INCD-221608-Z",
         "PostcodeData": [
          {
           "Center": {
            "lat": 52.64091,
            "lng": 0.25905
           },
           "Postcode": "PE14 8"
          }
         ],
         "PostcodesRemaining": [],
         "PowerCutType": "Planned",
         "ServiceDown": false
        },
        {
         "PanelContentUrl": "/power-cut/map/planned-work?incidentId=INCD-51529-V",
         "PostcodeData": [
          {
           "Center": {
            "lat": 51.18096,
            "lng": 0.48663
           },
           "Postcode": "TN12 9"
          }
         ],
         "PostcodesRemaining": [],
         "PowerCutType": "Planned",
         "ServiceDown": false
        },
        {
         "PanelContentUrl": "/power-cut/map/planned-work?incidentId=INCD-227013-Z",
         "PostcodeData": [],
         "PostcodesRemaining": [],
         "PowerCutType": "Planned",
         "ServiceDown": false
        },
        {
         "PanelContentUrl": "/power-cut/map/planned-work?incidentId=INCD-42719-C",
         "PostcodeData": [],
         "PostcodesRemaining": [],
         "PowerCutType": "Planned",
         "ServiceDown": false
        },
        {
         "PanelContentUrl": "/power-cut/map/planned-work?incidentId=INCD-52338-V",
         "PostcodeData": [
          {
           "Center": {
            "lat": 51.43304,
            "lng": 0.16362
           },
           "Postcode": "DA5 2"
          }
         ],
         "PostcodesRemaining": [],
         "PowerCutType": "Planned",
         "ServiceDown": false
        },
        {
         "PanelContentUrl": "/power-cut/map/planned-work?incidentId=INCD-6198-O",
         "PostcodeData": [],
         "PostcodesRemaining": [],
         "PowerCutType": "Planned",
         "ServiceDown": false
        },
        {
         "PanelContentUrl": "/power-cut/map/planned-work?incidentId=INCD-6434-O",
         "PostcodeData": [
          {
           "Center": {
            "lat": 52.47447,
            "lng": 1.23728
           },
           "Postcode": "NR15 2"
          }
         ],
         "PostcodesRemaining": [],
         "PowerCutType": "Planned",
         "ServiceDown": false
        },
        {
         "PanelContentUrl": "/power-cut/map/planned-work?incidentId=INCD-227251-Z",
         "PostcodeData": [
          {
           "Center": {
            "lat": 52.11658,
            "lng": 0.90291
           },
           "Postcode": "IP7 7"
          }
         ],
         "PostcodesRemaining": [],
         "PowerCutType": "Planned",
         "ServiceDown": false
        },
        {
         "PanelContentUrl": "/power-cut/map/planned-work?incidentId=INCD-52097-V",
         "PostcodeData": [
          {
           "Center": {
            "lat": 51.12723,
            "lng": -0.50312
           },
           "Postcode": "GU6 8"
          }
         ],
         "PostcodesRemaining": [],
         "PowerCutType": "Planned",
         "ServiceDown": false
        },
        {
         "PanelContentUrl": "/power-cut/map/planned-work?incidentId=INCD-51220-V",
         "PostcodeData": [
          {
           "Center": {
            "lat": 51.32972,
            "lng": 0.4354
           },
           "Postcode": "ME6 5"
          }
         ],
         "PostcodesRemaining": [],
         "PowerCutType": "Planned",
         "ServiceDown": false
        },
        {
         "PanelContentUrl": "/power-cut/map/planned-work?incidentId=INCD-227035-Z",
         "PostcodeData": [
          {
           "Center": {
            "lat": 52.38249,
            "lng": 1.10858
           },
           "Postcode": "IP22 4"
          }
         ],
         "PostcodesRemaining": [],
         "PowerCutType": "Planned",
         "ServiceDown": false
        },
        {
         "PanelContentUrl": "/power-cut/map/planned-work?incidentId=INCD-52085-V",
         "PostcodeData": [
          {
           "Center": {
            "lat": 51.2395,
            "lng": 1.01018
           },
           "Postcode": "CT4 7"
          }
         ],
         "PostcodesRemaining": [],
         "PowerCutType": "Planned",
         "ServiceDown": false
        },
        {
         "PanelContentUrl": "/power-cut/map/planned-work?incidentId=INCD-52888-V",
         "PostcodeData": [],
         "PostcodesRemaining": [],
         "PowerCutType": "Planned",
         "ServiceDown": false
        },
        {
         "PanelContentUrl": "/power-cut/map/planned-work?incidentId=INCD-229210-Z",
         "PostcodeData": [
          {
           "Center": {
            "lat": 51.69802,
            "lng": 0.2338
           },
           "Postcode": "CM5 9"
          }
         ],
         "PostcodesRemaining": [],
         "PowerCutType": "Planned",
         "ServiceDown": false
        },
        {
         "PanelContentUrl": "/power-cut/map/planned-work?incidentId=INCD-227918-Z",
         "PostcodeData": [
          {
           "Center": {
            "lat": 51.829,
            "lng": 0.21795
           },
           "Postcode": "CM22 7"
          }
         ],
         "PostcodesRemaining": [],
         "PowerCutType": "Planned",
         "ServiceDown": false
        },
        {
         "PanelContentUrl": "/power-cut/map/planned-work?incidentId=INCD-227033-Z",
         "PostcodeData": [],
         "PostcodesRemaining": [],
         "PowerCutType": "Planned",
         "ServiceDown": false
        },
        {
         "PanelContentUrl": "/power-cut/map/planned-work?incidentId=INCD-227259-Z",
         "PostcodeData": [],
         "PostcodesRemaining": [],
         "PowerCutType": "Planned",
         "ServiceDown": false
        },
        {
         "PanelContentUrl": "/power-cut/map/planned-work?incidentId=INCD-229185-Z",
         "PostcodeData": [
          {
           "Center": {
            "lat": 51.68305,
            "lng": 0.03325
           },
           "Postcode": "EN9 3"
          }
         ],
         "PostcodesRemaining": [],
         "PowerCutType": "Planned",
         "ServiceDown": false
        },
        {
         "PanelContentUrl": "/power-cut/map/planned-work?incidentId=INCD-223545-Z",
         "PostcodeData": [],
         "PostcodesRemaining": [],
         "PowerCutType": "Planned",
         "ServiceDown": false
        },
        {
         "PanelContentUrl": "/power-cut/map/planned-work?incidentId=INCD-52429-V",
         "PostcodeData": [],
         "PostcodesRemaining": [],
         "PowerCutType": "Planned",
         "ServiceDown": false
        },
        {
         "PanelContentUrl": "/power-cut/map/planned-work?incidentId=INCD-53079-V",
         "PostcodeData": [
          {
           "Center": {
            "lat": 51.10425,
            "lng": 0.23266
           },
           "Postcode": "TN3 9"
          },
          {
           "Center": {
            "lat": 51.13134,
            "lng": 0.24115
           },
           "Postcode": "TN4 8"
          }
         ],
         "PostcodesRemaining": [],
         "PowerCutType": "Planned",
         "ServiceDown": false
        },
        {
         "IncidentsCount": 2,
         "PanelContentUrl": "/power-cut/map/multiple?postcodeSector=BN1 4",
         "PostcodeData": [
          {
           "Center": {
            "lat": 50.83175,
            "lng": -0.13787
           },
           "Postcode": "BN1 4"
          }
         ],
         "PostcodesRemaining": [],
         "PowerCutType": "Multiple",
         "ServiceDown": false
        },
        {
         "IncidentsCount": 2,
         "PanelContentUrl": "/power-cut/map/multiple?postcodeSector=NR10 5",
         "PostcodeData": [
          {
           "Center": {
            "lat": 52.76164,
            "lng": 1.29981
           },
           "Postcode": "NR10 5"
          }
         ],
         "PostcodesRemaining": [],
         "PowerCutType": "Multiple",
         "ServiceDown": false
        },
        {
         "IncidentsCount": 2,
         "PanelContentUrl": "/power-cut/map/multiple?postcodeSector=RH1 5",
         "PostcodeData": [
          {
           "Center": {
            "lat": 51.20533,
            "lng": -0.13426
           },
           "Postcode": "RH1 5"
          }
         ],
         "PostcodesRemaining": [],
         "PowerCutType": "Multiple",
         "ServiceDown": false
        },
        {
         "IncidentsCount": 2,
         "PanelContentUrl": "/power-cut/map/multiple?postcodeSector=ME3 9",
         "PostcodeData": [
          {
           "Center": {
            "lat": 51.44237,
            "lng": 0.61427
           },
           "Postcode": "ME3 9"
          }
         ],
         "PostcodesRemaining": [],
         "PowerCutType": "Multiple",
         "ServiceDown": false
        },
        {
         "IncidentsCount": 2,
         "PanelContentUrl": "/power-cut/map/multiple?postcodeSector=NR2 3",
         "PostcodeData": [
          {
           "Center": {
            "lat": 52.62903,
            "lng": 1.2693
           },
           "Postcode": "NR2 3"
          }
         ],
         "PostcodesRemaining": [],
         "PowerCutType": "Multiple",
         "ServiceDown": false
        },
        {
         "IncidentsCount": 2,
         "PanelContentUrl": "/power-cut/map/multiple?postcodeSector=ME3 8",
         "PostcodeData": [
          {
           "Center": {
            "lat": 51.45014,
            "lng": 0.55263
           },
           "Postcode": "ME3 8"
          }
         ],
         "PostcodesRemaining": [],
         "PowerCutType": "Multiple",
         "ServiceDown": false
        },
        {
         "IncidentsCount": 2,
         "PanelContentUrl": "/power-cut/map/multiple?postcodeSector=PE19 5",
         "PostcodeData": [
          {
           "Center": {
            "lat": 52.27288,
            "lng": -0.30114
           },
           "Postcode": "PE19 5"
          }
         ],
         "PostcodesRemaining": [],
         "PowerCutType": "Multiple",
         "ServiceDown": false
        },
        {
         "IncidentsCount": 4,
         "PanelContentUrl": "/power-cut/map/multiple?postcodeSector=IP22 1",
         "PostcodeData": [
          {
           "Center": {
            "lat": 52.34615,
            "lng": 1.01022
           },
           "Postcode": "IP22 1"
          }
         ],
         "PostcodesRemaining": [],
         "PowerCutType": "Multiple",
         "ServiceDown": false
        },
        {
         "IncidentsCount": 2,
         "PanelContentUrl": "/power-cut/map/multiple?postcodeSector=CO9 4",
         "PostcodeData": [
          {
           "Center": {
            "lat": 52.02063,
            "lng": 0.52622
           },
           "Postcode": "CO9 4"
          }
         ],
         "PostcodesRemaining": [],
         "PowerCutType": "Multiple",
         "ServiceDown": false
        },
        {
         "IncidentsCount": 2,
         "PanelContentUrl": "/power-cut/map/multiple?postcodeSector=TN19 7",
         "PostcodeData": [
          {
           "Center": {
            "lat": 51.00453,
            "lng": 0.40763
           },
           "Postcode": "TN19 7"
          }
         ],
         "PostcodesRemaining": [],
         "PowerCutType": "Multiple",
         "ServiceDown": false
        }
       ],
       "IsCached": false,
       "PollingInterval": 5000,
       "ServiceDown": false,
       "TwitterFeeds": []
      },
      "text/plain": [
       "<IPython.core.display.JSON object>"
      ]
     },
     "execution_count": 4,
     "metadata": {
      "application/json": {
       "expanded": false,
       "root": "root"
      }
     },
     "output_type": "execute_result"
    }
   ],
   "source": [
    "incidents_url = 'https://www.ukpowernetworks.co.uk/Incidents/GetIncidents'\n",
    "\n",
    "r_json = requests.get(incidents_url).json()\n",
    "\n",
    "JSON(r_json)"
   ]
  },
  {
   "cell_type": "markdown",
   "id": "underlying-portuguese",
   "metadata": {},
   "source": [
    "<br>\n",
    "\n",
    "We'll now extract the incident ids as we can use them to generate the url for the JSON endpoint with the incident data. Items where the `PowerCutType` is set to `Multiple` have been purposefully removed, this is because they don't include an incident id (but we'll handle them next)."
   ]
  },
  {
   "cell_type": "code",
   "execution_count": 5,
   "id": "utility-civilization",
   "metadata": {},
   "outputs": [],
   "source": [
    "#exports\n",
    "extract_ukpn_single_incident_ids = lambda r_json: [\n",
    "    incident['PanelContentUrl'].split('incidentId=')[1] \n",
    "    for incident \n",
    "    in r_json['Incidents'] \n",
    "    if incident['PowerCutType'] != 'Multiple'\n",
    "]"
   ]
  },
  {
   "cell_type": "code",
   "execution_count": 6,
   "id": "becoming-reason",
   "metadata": {},
   "outputs": [
    {
     "data": {
      "application/json": [
       [
        "INCD-247691-G",
        "INCD-54055-V",
        "INCD-259614-J",
        "INCD-229829-Z",
        "INCD-229862-Z",
        "INCD-259632-J",
        "INCD-247911-G",
        "INCD-229833-Z",
        "INCD-54137-V",
        "INCD-229910-Z",
        "INCD-227793-Z",
        "INCD-229831-Z",
        "INCD-54166-V",
        "INCD-59775-N",
        "INCD-247923-G",
        "INCD-259202-J",
        "INCD-229698-Z",
        "INCD-221858-Z",
        "INCD-229836-Z",
        "INCD-229450-Z",
        "INCD-317017-U",
        "INCD-44056-C",
        "INCD-229840-Z",
        "INCD-239464-G",
        "INCD-259629-J",
        "INCD-259626-J",
        "INCD-259628-J",
        "INCD-228507-Z",
        "INCD-259415-J",
        "INCD-259482-J",
        "INCD-59742-N",
        "INCD-229812-Z",
        "INCD-227747-Z",
        "INCD-53400-V",
        "INCD-247902-G",
        "INCD-229839-Z",
        "INCD-228998-Z",
        "INCD-246135-G",
        "INCD-247546-G",
        "INCD-229191-Z",
        "INCD-243592-G",
        "INCD-229908-Z",
        "INCD-228675-Z",
        "INCD-54022-V",
        "INCD-229873-Z",
        "INCD-229914-Z",
        "INCD-247495-G",
        "INCD-247917-G",
        "INCD-221608-Z",
        "INCD-51529-V",
        "INCD-227013-Z",
        "INCD-42719-C",
        "INCD-52338-V",
        "INCD-6198-O",
        "INCD-6434-O",
        "INCD-227251-Z",
        "INCD-52097-V",
        "INCD-51220-V",
        "INCD-227035-Z",
        "INCD-52085-V",
        "INCD-52888-V",
        "INCD-229210-Z",
        "INCD-227918-Z",
        "INCD-227033-Z",
        "INCD-227259-Z",
        "INCD-229185-Z",
        "INCD-223545-Z",
        "INCD-52429-V",
        "INCD-53079-V"
       ]
      ],
      "text/plain": [
       "<IPython.core.display.JSON object>"
      ]
     },
     "execution_count": 6,
     "metadata": {
      "application/json": {
       "expanded": false,
       "root": "root"
      }
     },
     "output_type": "execute_result"
    }
   ],
   "source": [
    "single_incident_ids = extract_ukpn_single_incident_ids(r_json)\n",
    "\n",
    "JSON([single_incident_ids])"
   ]
  },
  {
   "cell_type": "markdown",
   "id": "copyrighted-midwest",
   "metadata": {},
   "source": [
    "<br>\n",
    "\n",
    "For the `Multiple` items we'll extract the url for the incidents metadata, which includes the ids within them."
   ]
  },
  {
   "cell_type": "code",
   "execution_count": 7,
   "id": "breathing-closer",
   "metadata": {},
   "outputs": [],
   "source": [
    "#exports\n",
    "extract_ukpn_multiple_incident_urls = lambda r_json: [\n",
    "    f\"https://www.ukpowernetworks.co.uk{incident['PanelContentUrl']}\"\n",
    "    for incident \n",
    "    in r_json['Incidents'] \n",
    "    if incident['PowerCutType'] == 'Multiple'\n",
    "]"
   ]
  },
  {
   "cell_type": "code",
   "execution_count": 8,
   "id": "sealed-darwin",
   "metadata": {},
   "outputs": [
    {
     "data": {
      "application/json": [
       [
        "https://www.ukpowernetworks.co.uk/power-cut/map/multiple?postcodeSector=BN1 4",
        "https://www.ukpowernetworks.co.uk/power-cut/map/multiple?postcodeSector=NR10 5",
        "https://www.ukpowernetworks.co.uk/power-cut/map/multiple?postcodeSector=RH1 5",
        "https://www.ukpowernetworks.co.uk/power-cut/map/multiple?postcodeSector=ME3 9",
        "https://www.ukpowernetworks.co.uk/power-cut/map/multiple?postcodeSector=NR2 3",
        "https://www.ukpowernetworks.co.uk/power-cut/map/multiple?postcodeSector=ME3 8",
        "https://www.ukpowernetworks.co.uk/power-cut/map/multiple?postcodeSector=PE19 5",
        "https://www.ukpowernetworks.co.uk/power-cut/map/multiple?postcodeSector=IP22 1",
        "https://www.ukpowernetworks.co.uk/power-cut/map/multiple?postcodeSector=CO9 4",
        "https://www.ukpowernetworks.co.uk/power-cut/map/multiple?postcodeSector=TN19 7"
       ]
      ],
      "text/plain": [
       "<IPython.core.display.JSON object>"
      ]
     },
     "execution_count": 8,
     "metadata": {
      "application/json": {
       "expanded": false,
       "root": "root"
      }
     },
     "output_type": "execute_result"
    }
   ],
   "source": [
    "multiple_incident_urls = extract_ukpn_multiple_incident_urls(r_json)\n",
    "\n",
    "JSON([multiple_incident_urls])"
   ]
  },
  {
   "cell_type": "code",
   "execution_count": null,
   "id": "prime-repeat",
   "metadata": {},
   "outputs": [],
   "source": []
  },
  {
   "cell_type": "code",
   "execution_count": 9,
   "id": "revolutionary-instrument",
   "metadata": {},
   "outputs": [],
   "source": [
    "#exports\n",
    "def extract_ukpn_multiple_incident_ids(multiple_incident_urls):\n",
    "    incident_ids = []\n",
    "\n",
    "    for multiple_incident_url in track(multiple_incident_urls, label='Multiple Ids'):\n",
    "        r = requests.get(multiple_incident_url)\n",
    "        soup = bs(r.text, features='lxml')\n",
    "\n",
    "        incident_ids += [\n",
    "            link['data-url'].split('incidentId=')[1] \n",
    "            for link \n",
    "            in soup.find('div', {'class': 'multiple-incidents--wrapper mb-4'}).findAll('a')\n",
    "        ]\n",
    "        \n",
    "    return incident_ids"
   ]
  },
  {
   "cell_type": "code",
   "execution_count": 10,
   "id": "mysterious-paragraph",
   "metadata": {},
   "outputs": [
    {
     "data": {
      "text/html": [
       "<div><span class=\"Text-label\" style=\"display:inline-block; overflow:hidden; white-space:nowrap; text-overflow:ellipsis; min-width:15ex; max-width:15ex; vertical-align:middle; text-align:right\">Multiple Ids</span>\n",
       "<progress style=\"width:45ex\" max=\"10\" value=\"10\" class=\"Progress-main\"/></progress>\n",
       "<span class=\"Progress-label\"><strong>100%</strong></span>\n",
       "<span class=\"Iteration-label\">10/10</span>\n",
       "<span class=\"Time-label\">[00:03<00:00, 0.28s/it]</span></div>"
      ],
      "text/plain": [
       "\u001b[A\u001b[2K\r",
       "   Multiple Ids [█████████████████████████████████████████████] 10/10 [00:03<00:00, 0.28s/it]"
      ]
     },
     "metadata": {},
     "output_type": "display_data"
    },
    {
     "data": {
      "text/plain": [
       "['INCD-247691-G',\n",
       " 'INCD-247546-G',\n",
       " 'INCD-229862-Z',\n",
       " 'INCD-223545-Z',\n",
       " 'INCD-247911-G']"
      ]
     },
     "execution_count": 10,
     "metadata": {},
     "output_type": "execute_result"
    }
   ],
   "source": [
    "multiple_incident_ids = extract_ukpn_multiple_incident_ids(multiple_incident_urls)\n",
    "\n",
    "multiple_incident_ids[:5]"
   ]
  },
  {
   "cell_type": "code",
   "execution_count": null,
   "id": "assured-responsibility",
   "metadata": {},
   "outputs": [],
   "source": []
  },
  {
   "cell_type": "code",
   "execution_count": 11,
   "id": "advanced-boards",
   "metadata": {},
   "outputs": [],
   "source": [
    "#exports\n",
    "get_ukpn_incident_detail_url = lambda incident_id: f'https://www.ukpowernetworks.co.uk/Incidents/getincidentdetails?incidentid={incident_id}'"
   ]
  },
  {
   "cell_type": "code",
   "execution_count": 12,
   "id": "choice-raise",
   "metadata": {},
   "outputs": [
    {
     "data": {
      "application/json": {
       "FullPostcodeData": [
        "BN14QF",
        "BN17LA",
        "BN19JS",
        "BN19PU",
        "BN22XZ",
        "BN24BA",
        "BN24BB",
        "BN24FA",
        "BN24FB",
        "BN24FD",
        "BN24FE",
        "BN24FF",
        "BN24FG",
        "BN24FH",
        "BN24FZ",
        "BN24GA",
        "BN24GB",
        "BN24GD",
        "BN24GE",
        "BN24GF",
        "BN24GG",
        "BN24HA",
        "BN24HB",
        "BN24HD",
        "BN24HJ",
        "BN24HL",
        "BN24JB",
        "BN24JD",
        "BN24JE",
        "BN24JF",
        "BN24JG",
        "BN24JH",
        "BN24JJ",
        "BN24JL",
        "BN24JN",
        "BN24JP",
        "BN24JQ",
        "BN24JR",
        "BN24JS",
        "BN24JT",
        "BN24JW",
        "BN24JZ",
        "BN24LA",
        "BN24LB",
        "BN24LD",
        "BN24LE",
        "BN24LF",
        "BN24LG",
        "BN24LH",
        "BN24LJ",
        "BN24LL",
        "BN24LN",
        "BN24LP",
        "BN24LQ",
        "BN24LR",
        "BN24LS",
        "BN24LT",
        "BN24LU",
        "BN24LW",
        "BN24LX",
        "BN24LY",
        "BN24LZ",
        "BN24NP",
        "BN24NQ",
        "BN24PB",
        "BN24PW",
        "BN24PX",
        "BN24PZ",
        "BN24QA",
        "BN24QF",
        "BN24QJ",
        "BN24QN",
        "BN24RA",
        "BN24RB",
        "BN24RD",
        "BN24RE",
        "BN24RF",
        "BN24RG",
        "BN24RH",
        "BN24RJ",
        "BN24RL",
        "BN24RN",
        "BN24RP",
        "BN24RQ",
        "BN24RR",
        "BN24RS",
        "BN24RT",
        "BN24RU",
        "BN24RW",
        "BN24RX",
        "BN24RY",
        "BN24RZ",
        "BN24SA",
        "BN24SB",
        "BN24SE",
        "BN24TA",
        "BN24TB",
        "BN24TD",
        "BN24TF",
        "BN24TG",
        "BN24TH",
        "BN24TJ",
        "BN24TL",
        "BN24TN",
        "BN24TP",
        "BN24TQ",
        "BN24TR",
        "BN26AF",
        "BN26BJ",
        "BN26BL",
        "BN26BN",
        "BN26BP",
        "BN26DB",
        "BN26DD",
        "BN26DE",
        "BN26DF",
        "BN26DG",
        "BN26DH",
        "BN26DJ",
        "BN26DL",
        "BN26DN",
        "BN26DP",
        "BN26DQ",
        "BN26DR",
        "BN26DS",
        "BN26DT",
        "UMS"
       ],
       "IncidentCategoryCustomerFriendlyDescription": "An underground electricity cable faulted on our high voltage network, causing an area wide power cut.",
       "IncidentReference": "INCD-247546-G",
       "IncidentTypeTBCEstimatedFriendlyDescription": "11:00 - 12:00",
       "PanelContentUrl": "/power-cut/map/power-back-on?incidentId=INCD-247546-G",
       "PinLatitude": null,
       "PinLongitude": null,
       "PostcodeData": [
        {
         "Center": {
          "lat": 50.83175,
          "lng": -0.13787
         },
         "Coordinates": [
          {
           "lat": 50.83384,
           "lng": -0.14388
          },
          {
           "lat": 50.8343,
           "lng": -0.14388
          },
          {
           "lat": 50.83472,
           "lng": -0.14301
          },
          {
           "lat": 50.8353,
           "lng": -0.14262
          },
          {
           "lat": 50.8353,
           "lng": -0.14253
          },
          {
           "lat": 50.8355,
           "lng": -0.14119
          },
          {
           "lat": 50.83572,
           "lng": -0.1411
          },
          {
           "lat": 50.83586,
           "lng": -0.14063
          },
          {
           "lat": 50.83627,
           "lng": -0.14043
          },
          {
           "lat": 50.83638,
           "lng": -0.14047
          },
          {
           "lat": 50.8366,
           "lng": -0.14034
          },
          {
           "lat": 50.8369,
           "lng": -0.13976
          },
          {
           "lat": 50.8369,
           "lng": -0.13975
          },
          {
           "lat": 50.83631,
           "lng": -0.13896
          },
          {
           "lat": 50.83635,
           "lng": -0.13825
          },
          {
           "lat": 50.83667,
           "lng": -0.13787
          },
          {
           "lat": 50.83669,
           "lng": -0.13779
          },
          {
           "lat": 50.83666,
           "lng": -0.13754
          },
          {
           "lat": 50.8369,
           "lng": -0.13612
          },
          {
           "lat": 50.83695,
           "lng": -0.13605
          },
          {
           "lat": 50.8368,
           "lng": -0.13519
          },
          {
           "lat": 50.83721,
           "lng": -0.13441
          },
          {
           "lat": 50.8373,
           "lng": -0.13388
          },
          {
           "lat": 50.83709,
           "lng": -0.13321
          },
          {
           "lat": 50.83668,
           "lng": -0.13347
          },
          {
           "lat": 50.8361,
           "lng": -0.13303
          },
          {
           "lat": 50.83579,
           "lng": -0.13334
          },
          {
           "lat": 50.83575,
           "lng": -0.13342
          },
          {
           "lat": 50.83544,
           "lng": -0.13363
          },
          {
           "lat": 50.83537,
           "lng": -0.13351
          },
          {
           "lat": 50.83473,
           "lng": -0.13346
          },
          {
           "lat": 50.83448,
           "lng": -0.13409
          },
          {
           "lat": 50.83426,
           "lng": -0.13416
          },
          {
           "lat": 50.83412,
           "lng": -0.13424
          },
          {
           "lat": 50.83376,
           "lng": -0.13396
          },
          {
           "lat": 50.83365,
           "lng": -0.13397
          },
          {
           "lat": 50.83362,
           "lng": -0.13394
          },
          {
           "lat": 50.83352,
           "lng": -0.1339
          },
          {
           "lat": 50.8329,
           "lng": -0.13422
          },
          {
           "lat": 50.83279,
           "lng": -0.13414
          },
          {
           "lat": 50.83279,
           "lng": -0.13414
          },
          {
           "lat": 50.8324,
           "lng": -0.13355
          },
          {
           "lat": 50.83193,
           "lng": -0.13412
          },
          {
           "lat": 50.83098,
           "lng": -0.13285
          },
          {
           "lat": 50.83077,
           "lng": -0.1333
          },
          {
           "lat": 50.8301,
           "lng": -0.13361
          },
          {
           "lat": 50.82989,
           "lng": -0.13382
          },
          {
           "lat": 50.82972,
           "lng": -0.13406
          },
          {
           "lat": 50.82969,
           "lng": -0.13408
          },
          {
           "lat": 50.82922,
           "lng": -0.13419
          },
          {
           "lat": 50.82893,
           "lng": -0.13489
          },
          {
           "lat": 50.82835,
           "lng": -0.13502
          },
          {
           "lat": 50.82834,
           "lng": -0.13503
          },
          {
           "lat": 50.82801,
           "lng": -0.13516
          },
          {
           "lat": 50.82739,
           "lng": -0.13477
          },
          {
           "lat": 50.82732,
           "lng": -0.13467
          },
          {
           "lat": 50.82713,
           "lng": -0.13469
          },
          {
           "lat": 50.8269,
           "lng": -0.13483
          },
          {
           "lat": 50.82688,
           "lng": -0.13488
          },
          {
           "lat": 50.82644,
           "lng": -0.13525
          },
          {
           "lat": 50.82605,
           "lng": -0.13534
          },
          {
           "lat": 50.82584,
           "lng": -0.13563
          },
          {
           "lat": 50.82567,
           "lng": -0.13564
          },
          {
           "lat": 50.82554,
           "lng": -0.13584
          },
          {
           "lat": 50.82578,
           "lng": -0.13688
          },
          {
           "lat": 50.82578,
           "lng": -0.13691
          },
          {
           "lat": 50.82578,
           "lng": -0.13727
          },
          {
           "lat": 50.82577,
           "lng": -0.13732
          },
          {
           "lat": 50.82591,
           "lng": -0.13774
          },
          {
           "lat": 50.82592,
           "lng": -0.13797
          },
          {
           "lat": 50.82585,
           "lng": -0.13825
          },
          {
           "lat": 50.8257,
           "lng": -0.13852
          },
          {
           "lat": 50.82559,
           "lng": -0.13884
          },
          {
           "lat": 50.82561,
           "lng": -0.13901
          },
          {
           "lat": 50.82579,
           "lng": -0.13918
          },
          {
           "lat": 50.82599,
           "lng": -0.13955
          },
          {
           "lat": 50.82606,
           "lng": -0.13995
          },
          {
           "lat": 50.82606,
           "lng": -0.13996
          },
          {
           "lat": 50.82623,
           "lng": -0.14039
          },
          {
           "lat": 50.82659,
           "lng": -0.14052
          },
          {
           "lat": 50.82646,
           "lng": -0.14102
          },
          {
           "lat": 50.8262,
           "lng": -0.14144
          },
          {
           "lat": 50.82641,
           "lng": -0.14151
          },
          {
           "lat": 50.82661,
           "lng": -0.14175
          },
          {
           "lat": 50.8269,
           "lng": -0.14154
          },
          {
           "lat": 50.82689,
           "lng": -0.14124
          },
          {
           "lat": 50.82716,
           "lng": -0.14049
          },
          {
           "lat": 50.8272,
           "lng": -0.14049
          },
          {
           "lat": 50.82746,
           "lng": -0.14086
          },
          {
           "lat": 50.82752,
           "lng": -0.14104
          },
          {
           "lat": 50.82811,
           "lng": -0.14107
          },
          {
           "lat": 50.82797,
           "lng": -0.14047
          },
          {
           "lat": 50.828,
           "lng": -0.14041
          },
          {
           "lat": 50.82833,
           "lng": -0.14016
          },
          {
           "lat": 50.82847,
           "lng": -0.14029
          },
          {
           "lat": 50.82862,
           "lng": -0.14073
          },
          {
           "lat": 50.82869,
           "lng": -0.14141
          },
          {
           "lat": 50.82869,
           "lng": -0.14142
          },
          {
           "lat": 50.82874,
           "lng": -0.14142
          },
          {
           "lat": 50.82956,
           "lng": -0.14067
          },
          {
           "lat": 50.83036,
           "lng": -0.14057
          },
          {
           "lat": 50.83051,
           "lng": -0.14078
          },
          {
           "lat": 50.83055,
           "lng": -0.14096
          },
          {
           "lat": 50.83098,
           "lng": -0.14187
          },
          {
           "lat": 50.8311,
           "lng": -0.1419
          },
          {
           "lat": 50.83208,
           "lng": -0.14267
          },
          {
           "lat": 50.83222,
           "lng": -0.14276
          },
          {
           "lat": 50.83242,
           "lng": -0.14267
          },
          {
           "lat": 50.8331,
           "lng": -0.14268
          },
          {
           "lat": 50.83384,
           "lng": -0.14388
          }
         ],
         "Postcode": "BN1 4"
        },
        {
         "Center": {
          "lat": 50.84775,
          "lng": -0.12728
         },
         "Coordinates": [
          {
           "lat": 50.84852,
           "lng": -0.11808
          },
          {
           "lat": 50.8479,
           "lng": -0.11843
          },
          {
           "lat": 50.84758,
           "lng": -0.11912
          },
          {
           "lat": 50.84704,
           "lng": -0.11913
          },
          {
           "lat": 50.84551,
           "lng": -0.11976
          },
          {
           "lat": 50.8455,
           "lng": -0.11978
          },
          {
           "lat": 50.84481,
           "lng": -0.1202
          },
          {
           "lat": 50.84443,
           "lng": -0.12018
          },
          {
           "lat": 50.8438,
           "lng": -0.12214
          },
          {
           "lat": 50.84318,
           "lng": -0.12236
          },
          {
           "lat": 50.84288,
           "lng": -0.12354
          },
          {
           "lat": 50.84256,
           "lng": -0.12364
          },
          {
           "lat": 50.84167,
           "lng": -0.12319
          },
          {
           "lat": 50.84134,
           "lng": -0.12429
          },
          {
           "lat": 50.84124,
           "lng": -0.12517
          },
          {
           "lat": 50.84118,
           "lng": -0.12517
          },
          {
           "lat": 50.83981,
           "lng": -0.12556
          },
          {
           "lat": 50.83966,
           "lng": -0.12571
          },
          {
           "lat": 50.83967,
           "lng": -0.12592
          },
          {
           "lat": 50.83932,
           "lng": -0.12672
          },
          {
           "lat": 50.83916,
           "lng": -0.12745
          },
          {
           "lat": 50.83824,
           "lng": -0.1283
          },
          {
           "lat": 50.83854,
           "lng": -0.12938
          },
          {
           "lat": 50.83809,
           "lng": -0.1309
          },
          {
           "lat": 50.83801,
           "lng": -0.13097
          },
          {
           "lat": 50.83785,
           "lng": -0.13205
          },
          {
           "lat": 50.83857,
           "lng": -0.13321
          },
          {
           "lat": 50.83863,
           "lng": -0.13381
          },
          {
           "lat": 50.83956,
           "lng": -0.13418
          },
          {
           "lat": 50.83969,
           "lng": -0.1341
          },
          {
           "lat": 50.83981,
           "lng": -0.13417
          },
          {
           "lat": 50.83992,
           "lng": -0.13417
          },
          {
           "lat": 50.8409,
           "lng": -0.1328
          },
          {
           "lat": 50.84102,
           "lng": -0.13299
          },
          {
           "lat": 50.84106,
           "lng": -0.13313
          },
          {
           "lat": 50.84237,
           "lng": -0.1329
          },
          {
           "lat": 50.84239,
           "lng": -0.13297
          },
          {
           "lat": 50.84241,
           "lng": -0.13298
          },
          {
           "lat": 50.84293,
           "lng": -0.1329
          },
          {
           "lat": 50.84338,
           "lng": -0.1343
          },
          {
           "lat": 50.8433,
           "lng": -0.13471
          },
          {
           "lat": 50.84386,
           "lng": -0.13512
          },
          {
           "lat": 50.8441,
           "lng": -0.13479
          },
          {
           "lat": 50.84432,
           "lng": -0.13413
          },
          {
           "lat": 50.84451,
           "lng": -0.13418
          },
          {
           "lat": 50.84492,
           "lng": -0.13473
          },
          {
           "lat": 50.84555,
           "lng": -0.13463
          },
          {
           "lat": 50.84556,
           "lng": -0.13464
          },
          {
           "lat": 50.84565,
           "lng": -0.13508
          },
          {
           "lat": 50.84621,
           "lng": -0.13507
          },
          {
           "lat": 50.84671,
           "lng": -0.1346
          },
          {
           "lat": 50.84687,
           "lng": -0.13456
          },
          {
           "lat": 50.84727,
           "lng": -0.13539
          },
          {
           "lat": 50.84748,
           "lng": -0.13539
          },
          {
           "lat": 50.84831,
           "lng": -0.13413
          },
          {
           "lat": 50.84859,
           "lng": -0.1342
          },
          {
           "lat": 50.84939,
           "lng": -0.13485
          },
          {
           "lat": 50.85039,
           "lng": -0.13346
          },
          {
           "lat": 50.85097,
           "lng": -0.13288
          },
          {
           "lat": 50.85177,
           "lng": -0.13454
          },
          {
           "lat": 50.85287,
           "lng": -0.13467
          },
          {
           "lat": 50.85417,
           "lng": -0.13229
          },
          {
           "lat": 50.85415,
           "lng": -0.13101
          },
          {
           "lat": 50.85559,
           "lng": -0.12979
          },
          {
           "lat": 50.85648,
           "lng": -0.1272
          },
          {
           "lat": 50.8555,
           "lng": -0.11993
          },
          {
           "lat": 50.85543,
           "lng": -0.11972
          },
          {
           "lat": 50.85279,
           "lng": -0.12118
          },
          {
           "lat": 50.85123,
           "lng": -0.11926
          },
          {
           "lat": 50.84852,
           "lng": -0.11808
          }
         ],
         "Postcode": "BN1 7"
        },
        {
         "Center": {
          "lat": 50.87283,
          "lng": -0.09774
         },
         "Coordinates": [
          {
           "lat": 50.88588,
           "lng": -0.0651
          },
          {
           "lat": 50.87581,
           "lng": -0.07883
          },
          {
           "lat": 50.874,
           "lng": -0.08094
          },
          {
           "lat": 50.8736,
           "lng": -0.08073
          },
          {
           "lat": 50.86862,
           "lng": -0.07253
          },
          {
           "lat": 50.86761,
           "lng": -0.06992
          },
          {
           "lat": 50.86373,
           "lng": -0.06937
          },
          {
           "lat": 50.85294,
           "lng": -0.063
          },
          {
           "lat": 50.85203,
           "lng": -0.06873
          },
          {
           "lat": 50.85133,
           "lng": -0.07055
          },
          {
           "lat": 50.85065,
           "lng": -0.07295
          },
          {
           "lat": 50.8499,
           "lng": -0.07618
          },
          {
           "lat": 50.85078,
           "lng": -0.08711
          },
          {
           "lat": 50.8508,
           "lng": -0.0872
          },
          {
           "lat": 50.85447,
           "lng": -0.08948
          },
          {
           "lat": 50.85592,
           "lng": -0.09367
          },
          {
           "lat": 50.86134,
           "lng": -0.09788
          },
          {
           "lat": 50.86091,
           "lng": -0.0982
          },
          {
           "lat": 50.85985,
           "lng": -0.09928
          },
          {
           "lat": 50.85771,
           "lng": -0.09926
          },
          {
           "lat": 50.85595,
           "lng": -0.09888
          },
          {
           "lat": 50.85595,
           "lng": -0.1
          },
          {
           "lat": 50.85586,
           "lng": -0.10065
          },
          {
           "lat": 50.85587,
           "lng": -0.10145
          },
          {
           "lat": 50.85483,
           "lng": -0.10268
          },
          {
           "lat": 50.85499,
           "lng": -0.10306
          },
          {
           "lat": 50.85501,
           "lng": -0.10314
          },
          {
           "lat": 50.85482,
           "lng": -0.10407
          },
          {
           "lat": 50.85389,
           "lng": -0.10547
          },
          {
           "lat": 50.85403,
           "lng": -0.106
          },
          {
           "lat": 50.85296,
           "lng": -0.10729
          },
          {
           "lat": 50.85316,
           "lng": -0.10912
          },
          {
           "lat": 50.85228,
           "lng": -0.10907
          },
          {
           "lat": 50.85175,
           "lng": -0.11109
          },
          {
           "lat": 50.85207,
           "lng": -0.11281
          },
          {
           "lat": 50.85111,
           "lng": -0.11287
          },
          {
           "lat": 50.851,
           "lng": -0.11291
          },
          {
           "lat": 50.84995,
           "lng": -0.11445
          },
          {
           "lat": 50.84988,
           "lng": -0.11482
          },
          {
           "lat": 50.84931,
           "lng": -0.11494
          },
          {
           "lat": 50.84862,
           "lng": -0.11593
          },
          {
           "lat": 50.84842,
           "lng": -0.11674
          },
          {
           "lat": 50.84852,
           "lng": -0.11808
          },
          {
           "lat": 50.85123,
           "lng": -0.11926
          },
          {
           "lat": 50.85279,
           "lng": -0.12118
          },
          {
           "lat": 50.85543,
           "lng": -0.11972
          },
          {
           "lat": 50.85584,
           "lng": -0.11852
          },
          {
           "lat": 50.85877,
           "lng": -0.11768
          },
          {
           "lat": 50.86032,
           "lng": -0.1186
          },
          {
           "lat": 50.86156,
           "lng": -0.1196
          },
          {
           "lat": 50.86367,
           "lng": -0.11941
          },
          {
           "lat": 50.86378,
           "lng": -0.11933
          },
          {
           "lat": 50.86588,
           "lng": -0.11991
          },
          {
           "lat": 50.86649,
           "lng": -0.11953
          },
          {
           "lat": 50.86966,
           "lng": -0.11925
          },
          {
           "lat": 50.87013,
           "lng": -0.12087
          },
          {
           "lat": 50.8712,
           "lng": -0.12402
          },
          {
           "lat": 50.87258,
           "lng": -0.1252
          },
          {
           "lat": 50.87678,
           "lng": -0.12828
          },
          {
           "lat": 50.87883,
           "lng": -0.12685
          },
          {
           "lat": 50.88251,
           "lng": -0.12143
          },
          {
           "lat": 50.89554,
           "lng": -0.12549
          },
          {
           "lat": 50.8974,
           "lng": -0.10633
          },
          {
           "lat": 50.89547,
           "lng": -0.09761
          },
          {
           "lat": 50.8897,
           "lng": -0.09319
          },
          {
           "lat": 50.88588,
           "lng": -0.0651
          }
         ],
         "Postcode": "BN1 9"
        },
        {
         "Center": {
          "lat": 50.84518,
          "lng": -0.10177
         },
         "Coordinates": [
          {
           "lat": 50.83401,
           "lng": -0.09719
          },
          {
           "lat": 50.83414,
           "lng": -0.09821
          },
          {
           "lat": 50.83473,
           "lng": -0.09966
          },
          {
           "lat": 50.83794,
           "lng": -0.10213
          },
          {
           "lat": 50.83782,
           "lng": -0.10318
          },
          {
           "lat": 50.83759,
           "lng": -0.10407
          },
          {
           "lat": 50.8376,
           "lng": -0.10543
          },
          {
           "lat": 50.83721,
           "lng": -0.10805
          },
          {
           "lat": 50.83697,
           "lng": -0.10891
          },
          {
           "lat": 50.83682,
           "lng": -0.10899
          },
          {
           "lat": 50.83502,
           "lng": -0.10909
          },
          {
           "lat": 50.83442,
           "lng": -0.10979
          },
          {
           "lat": 50.83474,
           "lng": -0.11442
          },
          {
           "lat": 50.8352,
           "lng": -0.1152
          },
          {
           "lat": 50.83544,
           "lng": -0.11755
          },
          {
           "lat": 50.83613,
           "lng": -0.11855
          },
          {
           "lat": 50.83622,
           "lng": -0.11927
          },
          {
           "lat": 50.83648,
           "lng": -0.1199
          },
          {
           "lat": 50.83754,
           "lng": -0.12047
          },
          {
           "lat": 50.838,
           "lng": -0.12126
          },
          {
           "lat": 50.83721,
           "lng": -0.12188
          },
          {
           "lat": 50.83754,
           "lng": -0.12246
          },
          {
           "lat": 50.83809,
           "lng": -0.1226
          },
          {
           "lat": 50.8376,
           "lng": -0.12343
          },
          {
           "lat": 50.83775,
           "lng": -0.12395
          },
          {
           "lat": 50.83836,
           "lng": -0.12434
          },
          {
           "lat": 50.83745,
           "lng": -0.12559
          },
          {
           "lat": 50.83729,
           "lng": -0.12564
          },
          {
           "lat": 50.83772,
           "lng": -0.12788
          },
          {
           "lat": 50.83764,
           "lng": -0.12793
          },
          {
           "lat": 50.83735,
           "lng": -0.12851
          },
          {
           "lat": 50.83747,
           "lng": -0.13061
          },
          {
           "lat": 50.83801,
           "lng": -0.13097
          },
          {
           "lat": 50.83809,
           "lng": -0.1309
          },
          {
           "lat": 50.83854,
           "lng": -0.12938
          },
          {
           "lat": 50.83824,
           "lng": -0.1283
          },
          {
           "lat": 50.83916,
           "lng": -0.12745
          },
          {
           "lat": 50.83932,
           "lng": -0.12672
          },
          {
           "lat": 50.83967,
           "lng": -0.12592
          },
          {
           "lat": 50.83966,
           "lng": -0.12571
          },
          {
           "lat": 50.83981,
           "lng": -0.12556
          },
          {
           "lat": 50.84118,
           "lng": -0.12517
          },
          {
           "lat": 50.84124,
           "lng": -0.12517
          },
          {
           "lat": 50.84134,
           "lng": -0.12429
          },
          {
           "lat": 50.84167,
           "lng": -0.12319
          },
          {
           "lat": 50.84256,
           "lng": -0.12364
          },
          {
           "lat": 50.84288,
           "lng": -0.12354
          },
          {
           "lat": 50.84318,
           "lng": -0.12236
          },
          {
           "lat": 50.8438,
           "lng": -0.12214
          },
          {
           "lat": 50.84443,
           "lng": -0.12018
          },
          {
           "lat": 50.84481,
           "lng": -0.1202
          },
          {
           "lat": 50.8455,
           "lng": -0.11978
          },
          {
           "lat": 50.84551,
           "lng": -0.11976
          },
          {
           "lat": 50.84704,
           "lng": -0.11913
          },
          {
           "lat": 50.84758,
           "lng": -0.11912
          },
          {
           "lat": 50.8479,
           "lng": -0.11843
          },
          {
           "lat": 50.84852,
           "lng": -0.11808
          },
          {
           "lat": 50.84842,
           "lng": -0.11674
          },
          {
           "lat": 50.84862,
           "lng": -0.11593
          },
          {
           "lat": 50.84931,
           "lng": -0.11494
          },
          {
           "lat": 50.84988,
           "lng": -0.11482
          },
          {
           "lat": 50.84995,
           "lng": -0.11445
          },
          {
           "lat": 50.851,
           "lng": -0.11291
          },
          {
           "lat": 50.85111,
           "lng": -0.11287
          },
          {
           "lat": 50.85207,
           "lng": -0.11281
          },
          {
           "lat": 50.85175,
           "lng": -0.11109
          },
          {
           "lat": 50.85228,
           "lng": -0.10907
          },
          {
           "lat": 50.85316,
           "lng": -0.10912
          },
          {
           "lat": 50.85296,
           "lng": -0.10729
          },
          {
           "lat": 50.85403,
           "lng": -0.106
          },
          {
           "lat": 50.85389,
           "lng": -0.10547
          },
          {
           "lat": 50.85482,
           "lng": -0.10407
          },
          {
           "lat": 50.85501,
           "lng": -0.10314
          },
          {
           "lat": 50.85499,
           "lng": -0.10306
          },
          {
           "lat": 50.85483,
           "lng": -0.10268
          },
          {
           "lat": 50.85587,
           "lng": -0.10145
          },
          {
           "lat": 50.85586,
           "lng": -0.10065
          },
          {
           "lat": 50.85595,
           "lng": -0.1
          },
          {
           "lat": 50.85595,
           "lng": -0.09888
          },
          {
           "lat": 50.85771,
           "lng": -0.09926
          },
          {
           "lat": 50.85985,
           "lng": -0.09928
          },
          {
           "lat": 50.86091,
           "lng": -0.0982
          },
          {
           "lat": 50.86134,
           "lng": -0.09788
          },
          {
           "lat": 50.85592,
           "lng": -0.09367
          },
          {
           "lat": 50.85447,
           "lng": -0.08948
          },
          {
           "lat": 50.8508,
           "lng": -0.0872
          },
          {
           "lat": 50.85078,
           "lng": -0.08711
          },
          {
           "lat": 50.8499,
           "lng": -0.07618
          },
          {
           "lat": 50.84573,
           "lng": -0.07891
          },
          {
           "lat": 50.84141,
           "lng": -0.08583
          },
          {
           "lat": 50.84103,
           "lng": -0.08612
          },
          {
           "lat": 50.83908,
           "lng": -0.08654
          },
          {
           "lat": 50.83826,
           "lng": -0.08946
          },
          {
           "lat": 50.83823,
           "lng": -0.09058
          },
          {
           "lat": 50.83813,
           "lng": -0.0918
          },
          {
           "lat": 50.83814,
           "lng": -0.09201
          },
          {
           "lat": 50.8375,
           "lng": -0.09447
          },
          {
           "lat": 50.83495,
           "lng": -0.09622
          },
          {
           "lat": 50.83401,
           "lng": -0.09719
          }
         ],
         "Postcode": "BN2 4"
        },
        {
         "Center": {
          "lat": 50.83675,
          "lng": -0.06399
         },
         "Coordinates": [
          {
           "lat": 50.85294,
           "lng": -0.063
          },
          {
           "lat": 50.85239,
           "lng": -0.0563
          },
          {
           "lat": 50.85092,
           "lng": -0.05242
          },
          {
           "lat": 50.85008,
           "lng": -0.04899
          },
          {
           "lat": 50.84892,
           "lng": -0.04732
          },
          {
           "lat": 50.8439,
           "lng": -0.03974
          },
          {
           "lat": 50.84389,
           "lng": -0.03973
          },
          {
           "lat": 50.8393,
           "lng": -0.03305
          },
          {
           "lat": 50.83873,
           "lng": -0.03258
          },
          {
           "lat": 50.83568,
           "lng": -0.02984
          },
          {
           "lat": 50.83226,
           "lng": -0.03913
          },
          {
           "lat": 50.82627,
           "lng": -0.05055
          },
          {
           "lat": 50.82426,
           "lng": -0.05315
          },
          {
           "lat": 50.82132,
           "lng": -0.05599
          },
          {
           "lat": 50.82116,
           "lng": -0.05608
          },
          {
           "lat": 50.82077,
           "lng": -0.06242
          },
          {
           "lat": 50.82069,
           "lng": -0.06289
          },
          {
           "lat": 50.82082,
           "lng": -0.0644
          },
          {
           "lat": 50.82353,
           "lng": -0.06864
          },
          {
           "lat": 50.82449,
           "lng": -0.0696
          },
          {
           "lat": 50.82487,
           "lng": -0.07051
          },
          {
           "lat": 50.82471,
           "lng": -0.08156
          },
          {
           "lat": 50.82476,
           "lng": -0.08178
          },
          {
           "lat": 50.82553,
           "lng": -0.08477
          },
          {
           "lat": 50.82532,
           "lng": -0.08537
          },
          {
           "lat": 50.82657,
           "lng": -0.09044
          },
          {
           "lat": 50.8294,
           "lng": -0.09372
          },
          {
           "lat": 50.83173,
           "lng": -0.09524
          },
          {
           "lat": 50.83401,
           "lng": -0.09719
          },
          {
           "lat": 50.83495,
           "lng": -0.09622
          },
          {
           "lat": 50.8375,
           "lng": -0.09447
          },
          {
           "lat": 50.83814,
           "lng": -0.09201
          },
          {
           "lat": 50.83813,
           "lng": -0.0918
          },
          {
           "lat": 50.83823,
           "lng": -0.09058
          },
          {
           "lat": 50.83826,
           "lng": -0.08946
          },
          {
           "lat": 50.83908,
           "lng": -0.08654
          },
          {
           "lat": 50.84103,
           "lng": -0.08612
          },
          {
           "lat": 50.84141,
           "lng": -0.08583
          },
          {
           "lat": 50.84573,
           "lng": -0.07891
          },
          {
           "lat": 50.8499,
           "lng": -0.07618
          },
          {
           "lat": 50.85065,
           "lng": -0.07295
          },
          {
           "lat": 50.85133,
           "lng": -0.07055
          },
          {
           "lat": 50.85203,
           "lng": -0.06873
          },
          {
           "lat": 50.85294,
           "lng": -0.063
          }
         ],
         "Postcode": "BN2 6"
        }
       ],
       "PostcodesRemaining": [
        "BN1 4",
        "BN1 7",
        "BN1 9",
        "BN2 2",
        "BN2 4",
        "BN2 6"
       ],
       "PowerCutType": "Restored",
       "Scope": null,
       "ServiceDown": false,
       "ServiceDownUrl": null,
       "Steps": [
        {
         "Active": false,
         "Date": "2021-03-31T08:39:07",
         "Message": "<p>We became aware of this power cut at 08:39. We’re sorry for any disruption this may have caused you. We didn’t know in advance there would be a power cut, but now that we know, our teams will do everything they can to get your power back quickly. Engineers in our control room have switched some customers power back on in your area. To get everyone’s power back on we may need to attend to investigate and make repairs. We’ll continue to update you until everyone’s power is back on.</p>",
         "Name": "We are restoring customers automatically"
        },
        {
         "Active": false,
         "Date": "2021-04-09T07:18:09",
         "Message": "<p>We have engineers on their way. As this is affecting your area, they will not need to attend your property. Rest assured once they arrive, they&rsquo;ll work as quickly as is safely possible to get your power back on.</p>",
         "Name": "Engineers on their way"
        },
        {
         "Active": false,
         "Date": "2021-04-09T09:54:18",
         "Message": "<p>Engineers are now on site, carrying out investigations into the fault. Once they have completed their assessment, they will carry out repairs.</p>",
         "Name": "Engineers investigating and fixing"
        },
        {
         "Active": true,
         "Date": "2021-04-09T07:17:56.487",
         "Message": "<p>All power in the area should be back on. We’re really sorry for any disruption this caused.</p>",
         "Name": "Power restored"
        }
       ],
       "UKPNIncident": {
        "AffectedCustomers": [],
        "CreationDateTime": "2021-03-31T08:40:04",
        "CustomersOffSupply": 0,
        "CustomersOnSupply": 3085,
        "EstimatedRestorationDate": "2021-03-31T11:30:00",
        "IncidentCategory": "61",
        "IncidentId": "G0003c6faINCD",
        "IncidentPriority": 501,
        "IncidentReference": "INCD-247546-G",
        "IncidentType": 3,
        "IncidentTypeName": "Restored",
        "Latitude": 0,
        "Logs": [],
        "Longitude": 0,
        "NoCallsReported": 3,
        "NoCustomerAffected": 0,
        "NoPlannedCustomers": 0,
        "PlannedDate": null,
        "PlannedIncidentReason": "We're carrying out planned work in your area. For our engineers to carry it out safely they need to turn the power off. We're doing this work as it's essential to provide reliable electricity supplies to your area. We're sorry for any inconvenience caused and thank you for your patience.",
        "PostCodesAffected": [
         "BN1 4",
         "BN1 7",
         "BN1 9",
         "BN2 2",
         "BN2 4",
         "BN2 6"
        ],
        "PostCodesPlanned": [
         "BN14QF",
         "BN17LA",
         "BN19JS",
         "BN19PU",
         "BN22XZ",
         "BN24BA",
         "BN24BB",
         "BN24FA",
         "BN24FB",
         "BN24FD",
         "BN24FE",
         "BN24FF",
         "BN24FG",
         "BN24FH",
         "BN24FZ",
         "BN24GA",
         "BN24GB",
         "BN24GD",
         "BN24GE",
         "BN24GF",
         "BN24GG",
         "BN24HA",
         "BN24HB",
         "BN24HD",
         "BN24HJ",
         "BN24HL",
         "BN24JB",
         "BN24JD",
         "BN24JE",
         "BN24JF",
         "BN24JG",
         "BN24JH",
         "BN24JJ",
         "BN24JL",
         "BN24JN",
         "BN24JP",
         "BN24JQ",
         "BN24JR",
         "BN24JS",
         "BN24JT",
         "BN24JW",
         "BN24JZ",
         "BN24LA",
         "BN24LB",
         "BN24LD",
         "BN24LE",
         "BN24LF",
         "BN24LG",
         "BN24LH",
         "BN24LJ",
         "BN24LL",
         "BN24LN",
         "BN24LP",
         "BN24LQ",
         "BN24LR",
         "BN24LS",
         "BN24LT",
         "BN24LU",
         "BN24LW",
         "BN24LX",
         "BN24LY",
         "BN24LZ",
         "BN24NP",
         "BN24NQ",
         "BN24PB",
         "BN24PW",
         "BN24PX",
         "BN24PZ",
         "BN24QA",
         "BN24QF",
         "BN24QJ",
         "BN24QN",
         "BN24RA",
         "BN24RB",
         "BN24RD",
         "BN24RE",
         "BN24RF",
         "BN24RG",
         "BN24RH",
         "BN24RJ",
         "BN24RL",
         "BN24RN",
         "BN24RP",
         "BN24RQ",
         "BN24RR",
         "BN24RS",
         "BN24RT",
         "BN24RU",
         "BN24RW",
         "BN24RX",
         "BN24RY",
         "BN24RZ",
         "BN24SA",
         "BN24SB",
         "BN24SE",
         "BN24TA",
         "BN24TB",
         "BN24TD",
         "BN24TF",
         "BN24TG",
         "BN24TH",
         "BN24TJ",
         "BN24TL",
         "BN24TN",
         "BN24TP",
         "BN24TQ",
         "BN24TR",
         "BN26AF",
         "BN26BJ",
         "BN26BL",
         "BN26BN",
         "BN26BP",
         "BN26DB",
         "BN26DD",
         "BN26DE",
         "BN26DF",
         "BN26DG",
         "BN26DH",
         "BN26DJ",
         "BN26DL",
         "BN26DN",
         "BN26DP",
         "BN26DQ",
         "BN26DR",
         "BN26DS",
         "BN26DT",
         "UMS"
        ],
        "PostCodesRestored": [
         "BN14QF",
         "BN17LA",
         "BN19JS",
         "BN19PU",
         "BN22XZ",
         "BN24BA",
         "BN24BB",
         "BN24FA",
         "BN24FB",
         "BN24FD",
         "BN24FE",
         "BN24FF",
         "BN24FG",
         "BN24FH",
         "BN24FZ",
         "BN24GA",
         "BN24GB",
         "BN24GD",
         "BN24GE",
         "BN24GF",
         "BN24GG",
         "BN24HA",
         "BN24HB",
         "BN24HD",
         "BN24HJ",
         "BN24HL",
         "BN24JB",
         "BN24JD",
         "BN24JE",
         "BN24JF",
         "BN24JG",
         "BN24JH",
         "BN24JJ",
         "BN24JL",
         "BN24JN",
         "BN24JP",
         "BN24JQ",
         "BN24JR",
         "BN24JS",
         "BN24JT",
         "BN24JW",
         "BN24JZ",
         "BN24LA",
         "BN24LB",
         "BN24LD",
         "BN24LE",
         "BN24LF",
         "BN24LG",
         "BN24LH",
         "BN24LJ",
         "BN24LL",
         "BN24LN",
         "BN24LP",
         "BN24LQ",
         "BN24LR",
         "BN24LS",
         "BN24LT",
         "BN24LU",
         "BN24LW",
         "BN24LX",
         "BN24LY",
         "BN24LZ",
         "BN24NP",
         "BN24NQ",
         "BN24PB",
         "BN24PW",
         "BN24PX",
         "BN24PZ",
         "BN24QA",
         "BN24QF",
         "BN24QJ",
         "BN24QN",
         "BN24RA",
         "BN24RB",
         "BN24RD",
         "BN24RE",
         "BN24RF",
         "BN24RG",
         "BN24RH",
         "BN24RJ",
         "BN24RL",
         "BN24RN",
         "BN24RP",
         "BN24RQ",
         "BN24RR",
         "BN24RS",
         "BN24RT",
         "BN24RU",
         "BN24RW",
         "BN24RX",
         "BN24RY",
         "BN24RZ",
         "BN24SA",
         "BN24SB",
         "BN24SE",
         "BN24TA",
         "BN24TB",
         "BN24TD",
         "BN24TF",
         "BN24TG",
         "BN24TH",
         "BN24TJ",
         "BN24TL",
         "BN24TN",
         "BN24TP",
         "BN24TQ",
         "BN24TR",
         "BN26AF",
         "BN26BJ",
         "BN26BL",
         "BN26BN",
         "BN26BP",
         "BN26DB",
         "BN26DD",
         "BN26DE",
         "BN26DF",
         "BN26DG",
         "BN26DH",
         "BN26DJ",
         "BN26DL",
         "BN26DN",
         "BN26DP",
         "BN26DQ",
         "BN26DR",
         "BN26DS",
         "BN26DT",
         "UMS"
        ],
        "ReceivedDate": "2021-03-31T08:39:07",
        "Resource": {
         "ArrivalDate": "2021-04-09T09:54:18",
         "DispatchedDate": "2021-04-09T07:18:09",
         "EstimatedTimeOfArrival": "0001-01-01T00:00:00",
         "Id": null,
         "Name": "KEVIN",
         "StatusId": 6
        },
        "RestoredDateTime": "2021-04-09T07:17:56.487",
        "Scope": null,
        "StatusId": 5,
        "Timestamp": "2021:04:09:11:44:59:93"
       }
      },
      "text/plain": [
       "<IPython.core.display.JSON object>"
      ]
     },
     "execution_count": 12,
     "metadata": {
      "application/json": {
       "expanded": false,
       "root": "root"
      }
     },
     "output_type": "execute_result"
    }
   ],
   "source": [
    "incident_id = multiple_incident_ids[1]\n",
    "\n",
    "incident_detail_url = get_ukpn_incident_detail_url(incident_id)\n",
    "r_json = requests.get(incident_detail_url).json()\n",
    "\n",
    "JSON(r_json)"
   ]
  },
  {
   "cell_type": "code",
   "execution_count": null,
   "id": "sixth-trader",
   "metadata": {},
   "outputs": [],
   "source": []
  },
  {
   "cell_type": "code",
   "execution_count": 13,
   "id": "about-contents",
   "metadata": {},
   "outputs": [],
   "source": [
    "#exports\n",
    "def is_ukpn_incident_active(r_json):\n",
    "    if r_json['PowerCutType'] == 'Restored':\n",
    "        return False\n",
    "    else:\n",
    "        return True\n",
    "    \n",
    "def extract_ukpn_relevant_info(r_json):\n",
    "    incident_info = {\n",
    "        'incident_active': is_ukpn_incident_active(r_json),\n",
    "        'restored_time': r_json['UKPNIncident']['RestoredDateTime'],\n",
    "        'estimated_restored_time': r_json['UKPNIncident']['EstimatedRestorationDate'],\n",
    "        'planned_time': r_json['UKPNIncident']['PlannedDate'],\n",
    "        'received_time': r_json['UKPNIncident']['ReceivedDate'],\n",
    "        'postcodes_impacted': r_json['FullPostcodeData'],\n",
    "        'description': r_json['IncidentCategoryCustomerFriendlyDescription'],\n",
    "        'incident_url': f\"https://www.ukpowernetworks.co.uk/power-cut/map?incidentid={r_json['IncidentReference']}\"\n",
    "    }\n",
    "    \n",
    "    return incident_info"
   ]
  },
  {
   "cell_type": "code",
   "execution_count": 14,
   "id": "imposed-regulation",
   "metadata": {},
   "outputs": [
    {
     "data": {
      "application/json": {
       "description": "An underground electricity cable faulted on our high voltage network, causing an area wide power cut.",
       "estimated_restored_time": "2021-03-31T11:30:00",
       "incident_active": false,
       "incident_url": "https://www.ukpowernetworks.co.uk/power-cut/map?incidentid=INCD-247546-G",
       "planned_time": null,
       "postcodes_impacted": [
        "BN14QF",
        "BN17LA",
        "BN19JS",
        "BN19PU",
        "BN22XZ",
        "BN24BA",
        "BN24BB",
        "BN24FA",
        "BN24FB",
        "BN24FD",
        "BN24FE",
        "BN24FF",
        "BN24FG",
        "BN24FH",
        "BN24FZ",
        "BN24GA",
        "BN24GB",
        "BN24GD",
        "BN24GE",
        "BN24GF",
        "BN24GG",
        "BN24HA",
        "BN24HB",
        "BN24HD",
        "BN24HJ",
        "BN24HL",
        "BN24JB",
        "BN24JD",
        "BN24JE",
        "BN24JF",
        "BN24JG",
        "BN24JH",
        "BN24JJ",
        "BN24JL",
        "BN24JN",
        "BN24JP",
        "BN24JQ",
        "BN24JR",
        "BN24JS",
        "BN24JT",
        "BN24JW",
        "BN24JZ",
        "BN24LA",
        "BN24LB",
        "BN24LD",
        "BN24LE",
        "BN24LF",
        "BN24LG",
        "BN24LH",
        "BN24LJ",
        "BN24LL",
        "BN24LN",
        "BN24LP",
        "BN24LQ",
        "BN24LR",
        "BN24LS",
        "BN24LT",
        "BN24LU",
        "BN24LW",
        "BN24LX",
        "BN24LY",
        "BN24LZ",
        "BN24NP",
        "BN24NQ",
        "BN24PB",
        "BN24PW",
        "BN24PX",
        "BN24PZ",
        "BN24QA",
        "BN24QF",
        "BN24QJ",
        "BN24QN",
        "BN24RA",
        "BN24RB",
        "BN24RD",
        "BN24RE",
        "BN24RF",
        "BN24RG",
        "BN24RH",
        "BN24RJ",
        "BN24RL",
        "BN24RN",
        "BN24RP",
        "BN24RQ",
        "BN24RR",
        "BN24RS",
        "BN24RT",
        "BN24RU",
        "BN24RW",
        "BN24RX",
        "BN24RY",
        "BN24RZ",
        "BN24SA",
        "BN24SB",
        "BN24SE",
        "BN24TA",
        "BN24TB",
        "BN24TD",
        "BN24TF",
        "BN24TG",
        "BN24TH",
        "BN24TJ",
        "BN24TL",
        "BN24TN",
        "BN24TP",
        "BN24TQ",
        "BN24TR",
        "BN26AF",
        "BN26BJ",
        "BN26BL",
        "BN26BN",
        "BN26BP",
        "BN26DB",
        "BN26DD",
        "BN26DE",
        "BN26DF",
        "BN26DG",
        "BN26DH",
        "BN26DJ",
        "BN26DL",
        "BN26DN",
        "BN26DP",
        "BN26DQ",
        "BN26DR",
        "BN26DS",
        "BN26DT",
        "UMS"
       ],
       "received_time": "2021-03-31T08:39:07",
       "restored_time": "2021-04-09T07:17:56.487"
      },
      "text/plain": [
       "<IPython.core.display.JSON object>"
      ]
     },
     "execution_count": 14,
     "metadata": {
      "application/json": {
       "expanded": false,
       "root": "root"
      }
     },
     "output_type": "execute_result"
    }
   ],
   "source": [
    "incident_info = extract_ukpn_relevant_info(r_json)\n",
    "\n",
    "JSON(incident_info)"
   ]
  },
  {
   "cell_type": "code",
   "execution_count": null,
   "id": "swiss-interaction",
   "metadata": {},
   "outputs": [],
   "source": []
  },
  {
   "cell_type": "code",
   "execution_count": 21,
   "id": "independent-painting",
   "metadata": {},
   "outputs": [],
   "source": [
    "#exports\n",
    "def get_ukpn_incidents_info(incidents_url='https://www.ukpowernetworks.co.uk/Incidents/GetIncidents'):\n",
    "    r_json = requests.get(incidents_url).json()\n",
    "\n",
    "    incident_ids = (\n",
    "        extract_ukpn_single_incident_ids(r_json) + \n",
    "        extract_ukpn_multiple_incident_ids(extract_ukpn_multiple_incident_urls(r_json))\n",
    "    )\n",
    "    \n",
    "    raw_incidents_info = dict()\n",
    "    cleaned_incidents_info = dict()\n",
    "\n",
    "    for incident_id in track(incident_ids, label='Details'):\n",
    "        try:\n",
    "            incident_detail_url = get_ukpn_incident_detail_url(incident_id)\n",
    "            r_json = requests.get(incident_detail_url).json()\n",
    "\n",
    "            raw_incidents_info[incident_id] = r_json\n",
    "            cleaned_incidents_info[incident_id] = extract_ukpn_relevant_info(r_json)\n",
    "        except:\n",
    "            warn(f'Failed to retrieve incident details for: {incident_id}')\n",
    "        \n",
    "    return raw_incidents_info, cleaned_incidents_info"
   ]
  },
  {
   "cell_type": "code",
   "execution_count": 22,
   "id": "abroad-contract",
   "metadata": {},
   "outputs": [
    {
     "data": {
      "text/html": [
       "<div><span class=\"Text-label\" style=\"display:inline-block; overflow:hidden; white-space:nowrap; text-overflow:ellipsis; min-width:15ex; max-width:15ex; vertical-align:middle; text-align:right\">Multiple Ids</span>\n",
       "<progress style=\"width:45ex\" max=\"10\" value=\"10\" class=\"Progress-main\"/></progress>\n",
       "<span class=\"Progress-label\"><strong>100%</strong></span>\n",
       "<span class=\"Iteration-label\">10/10</span>\n",
       "<span class=\"Time-label\">[00:03<00:00, 0.28s/it]</span></div>"
      ],
      "text/plain": [
       "\u001b[A\u001b[2K\r",
       "   Multiple Ids [█████████████████████████████████████████████] 10/10 [00:03<00:00, 0.28s/it]"
      ]
     },
     "metadata": {},
     "output_type": "display_data"
    },
    {
     "data": {
      "text/html": [
       "<div><span class=\"Text-label\" style=\"display:inline-block; overflow:hidden; white-space:nowrap; text-overflow:ellipsis; min-width:15ex; max-width:15ex; vertical-align:middle; text-align:right\">Details</span>\n",
       "<progress style=\"width:45ex\" max=\"91\" value=\"91\" class=\"Progress-main\"/></progress>\n",
       "<span class=\"Progress-label\"><strong>100%</strong></span>\n",
       "<span class=\"Iteration-label\">91/91</span>\n",
       "<span class=\"Time-label\">[00:23<00:00, 0.25s/it]</span></div>"
      ],
      "text/plain": [
       "\u001b[A\u001b[2K\r",
       "        Details [█████████████████████████████████████████████] 91/91 [00:23<00:00, 0.25s/it]"
      ]
     },
     "metadata": {},
     "output_type": "display_data"
    },
    {
     "data": {
      "application/json": [
       {
        "INCD-221608-Z": {
         "description": "We're carrying out planned work in your area. For our engineers to carry it out safely they need to turn the power off. We're doing this work as it's essential to provide reliable electricity supplies to your area. We're sorry for any inconvenience caused and thank you for your patience.",
         "estimated_restored_time": "2021-04-09T15:00:00",
         "incident_active": true,
         "incident_url": "https://www.ukpowernetworks.co.uk/power-cut/map?incidentid=INCD-221608-Z",
         "planned_time": "2021-04-09T09:00:00",
         "postcodes_impacted": [
          "PE148QA",
          "PE148QD",
          "PE148RY",
          "PE148RZ",
          "PE148SA"
         ],
         "received_time": "2021-04-09T09:18:00",
         "restored_time": null
        },
        "INCD-221858-Z": {
         "description": "A fault occurred on an underground electricity cable affecting the local area.",
         "estimated_restored_time": null,
         "incident_active": false,
         "incident_url": "https://www.ukpowernetworks.co.uk/power-cut/map?incidentid=INCD-221858-Z",
         "planned_time": null,
         "postcodes_impacted": [
          "IP28AA",
          "IP28AD",
          "IP28AH",
          "IP28AP",
          "IP28AR",
          "IP28AS",
          "IP28AT",
          "IP28AU",
          "IP28AW",
          "IP28AX",
          "IP28AY",
          "IP28AZ",
          "IP28BA",
          "IP28BB",
          "IP28BD",
          "IP28BE",
          "IP28BG",
          "IP28BH",
          "IP28BQ",
          "IP28BX",
          "IP28BZ",
          "IP28DB",
          "IP28DD",
          "IP28EH",
          "IP28EJ",
          "IP28EN",
          "IP28EQ",
          "IP28FL"
         ],
         "received_time": "2021-02-28T00:03:00",
         "restored_time": "2021-04-09T10:15:50.14"
        },
        "INCD-223545-Z": {
         "description": "We're carrying out planned work in your area. For our engineers to carry it out safely they need to turn the power off. We're doing this work as it's essential to provide reliable electricity supplies to your area. We're sorry for any inconvenience caused and thank you for your patience.",
         "estimated_restored_time": "2021-04-09T15:00:00",
         "incident_active": true,
         "incident_url": "https://www.ukpowernetworks.co.uk/power-cut/map?incidentid=INCD-223545-Z",
         "planned_time": "2021-04-09T08:30:00",
         "postcodes_impacted": [
          "NR105HF",
          "NR105AB",
          "NR105EH",
          "NR105HG"
         ],
         "received_time": "2021-04-09T08:38:00",
         "restored_time": null
        },
        "INCD-227013-Z": {
         "description": "We're carrying out planned work in your area. For our engineers to carry it out safely they need to turn the power off. We're doing this work as it's essential to provide reliable electricity supplies to your area. We're sorry for any inconvenience caused and thank you for your patience.",
         "estimated_restored_time": "2021-04-09T15:00:00",
         "incident_active": true,
         "incident_url": "https://www.ukpowernetworks.co.uk/power-cut/map?incidentid=INCD-227013-Z",
         "planned_time": "2021-04-09T09:00:00",
         "postcodes_impacted": [
          "IP221AG",
          "IP221AL",
          "IP221AX"
         ],
         "received_time": "2021-04-09T09:06:00",
         "restored_time": null
        },
        "INCD-227033-Z": {
         "description": "We're carrying out planned work in your area. For our engineers to carry it out safely they need to turn the power off. We're doing this work as it's essential to provide reliable electricity supplies to your area. We're sorry for any inconvenience caused and thank you for your patience.",
         "estimated_restored_time": "2021-04-09T15:00:00",
         "incident_active": true,
         "incident_url": "https://www.ukpowernetworks.co.uk/power-cut/map?incidentid=INCD-227033-Z",
         "planned_time": "2021-04-09T09:00:00",
         "postcodes_impacted": [
          "IP221AB",
          "IP221AD",
          "IP221AG"
         ],
         "received_time": "2021-04-09T09:25:00",
         "restored_time": null
        },
        "INCD-227035-Z": {
         "description": "We're carrying out planned work in your area. For our engineers to carry it out safely they need to turn the power off. We're doing this work as it's essential to provide reliable electricity supplies to your area. We're sorry for any inconvenience caused and thank you for your patience.",
         "estimated_restored_time": "2021-04-09T13:00:00",
         "incident_active": true,
         "incident_url": "https://www.ukpowernetworks.co.uk/power-cut/map?incidentid=INCD-227035-Z",
         "planned_time": "2021-04-09T10:00:00",
         "postcodes_impacted": [
          "IP221AG",
          "IP221AH",
          "IP221AN",
          "IP221AP",
          "IP221AQ",
          "IP221AS",
          "IP221AU",
          "IP221AW",
          "IP221TD",
          "IP221TH",
          "IP221TQ",
          "IP224AW"
         ],
         "received_time": "2021-04-09T10:41:00",
         "restored_time": null
        },
        "INCD-227251-Z": {
         "description": "We're carrying out planned work in your area. For our engineers to carry it out safely they need to turn the power off. We're doing this work as it's essential to provide reliable electricity supplies to your area. We're sorry for any inconvenience caused and thank you for your patience.",
         "estimated_restored_time": "2021-04-09T15:00:00",
         "incident_active": true,
         "incident_url": "https://www.ukpowernetworks.co.uk/power-cut/map?incidentid=INCD-227251-Z",
         "planned_time": "2021-04-09T09:00:00",
         "postcodes_impacted": [
          "IP77AR",
          "IP77BP",
          "IP77BS",
          "IP77BW"
         ],
         "received_time": "2021-04-09T09:04:00",
         "restored_time": null
        },
        "INCD-227259-Z": {
         "description": "We're carrying out planned work in your area. For our engineers to carry it out safely they need to turn the power off. We're doing this work as it's essential to provide reliable electricity supplies to your area. We're sorry for any inconvenience caused and thank you for your patience.",
         "estimated_restored_time": "2021-04-09T15:00:00",
         "incident_active": true,
         "incident_url": "https://www.ukpowernetworks.co.uk/power-cut/map?incidentid=INCD-227259-Z",
         "planned_time": "2021-04-09T10:00:00",
         "postcodes_impacted": [
          "PE194DH",
          "PE195DH",
          "PE195DQ"
         ],
         "received_time": "2021-04-09T10:44:00",
         "restored_time": null
        },
        "INCD-227747-Z": {
         "description": "A fault occurred on an underground electricity cable affecting the local area.",
         "estimated_restored_time": null,
         "incident_active": false,
         "incident_url": "https://www.ukpowernetworks.co.uk/power-cut/map?incidentid=INCD-227747-Z",
         "planned_time": null,
         "postcodes_impacted": [
          "CB75AN",
          "CB75HP"
         ],
         "received_time": "2021-03-28T11:13:00",
         "restored_time": "2021-04-09T05:45:56.043"
        },
        "INCD-227793-Z": {
         "description": "A fault occurred on an underground electricity cable affecting the local area.",
         "estimated_restored_time": null,
         "incident_active": true,
         "incident_url": "https://www.ukpowernetworks.co.uk/power-cut/map?incidentid=INCD-227793-Z",
         "planned_time": null,
         "postcodes_impacted": [
          "LU",
          "LU29HB",
          "LU29HE",
          "LU29HF",
          "LU29HH",
          "LU29JD",
          "LU29JE",
          "LU29JF",
          "LU29LB",
          "LU29NL",
          "LU29NY",
          "LU29PD",
          "LU29PF"
         ],
         "received_time": "2021-03-28T18:05:00",
         "restored_time": null
        },
        "INCD-227918-Z": {
         "description": "We're carrying out planned work in your area. For our engineers to carry it out safely they need to turn the power off. We're doing this work as it's essential to provide reliable electricity supplies to your area. We're sorry for any inconvenience caused and thank you for your patience.",
         "estimated_restored_time": "2021-04-09T14:30:00",
         "incident_active": true,
         "incident_url": "https://www.ukpowernetworks.co.uk/power-cut/map?incidentid=INCD-227918-Z",
         "planned_time": "2021-04-09T10:30:00",
         "postcodes_impacted": [
          "CM227QS",
          "CM227QT",
          "CM227QU"
         ],
         "received_time": "2021-04-09T10:30:00",
         "restored_time": null
        },
        "INCD-228507-Z": {
         "description": "A fault occurred on an underground electricity cable affecting the local area.",
         "estimated_restored_time": null,
         "incident_active": false,
         "incident_url": "https://www.ukpowernetworks.co.uk/power-cut/map?incidentid=INCD-228507-Z",
         "planned_time": null,
         "postcodes_impacted": [
          "SS12TS"
         ],
         "received_time": "2021-03-31T23:00:00",
         "restored_time": "2021-04-09T06:56:18.06"
        },
        "INCD-228675-Z": {
         "description": "A fault occurred on an underground electricity cable affecting the local area.",
         "estimated_restored_time": null,
         "incident_active": false,
         "incident_url": "https://www.ukpowernetworks.co.uk/power-cut/map?incidentid=INCD-228675-Z",
         "planned_time": null,
         "postcodes_impacted": [
          "NR23AZ"
         ],
         "received_time": "2021-04-01T15:48:00",
         "restored_time": "2021-04-09T09:15:42.947"
        },
        "INCD-228998-Z": {
         "description": "An underground electricity cable faulted on our high voltage network, causing an area wide power cut.",
         "estimated_restored_time": "2021-04-04T15:30:00",
         "incident_active": false,
         "incident_url": "https://www.ukpowernetworks.co.uk/power-cut/map?incidentid=INCD-228998-Z",
         "planned_time": null,
         "postcodes_impacted": [
          "N120GL",
          "N120PA",
          "N120PB",
          "N120PG",
          "N120PH",
          "N120PJ",
          "N120PS",
          "N120PT",
          "N120PU",
          "N120PX",
          "N120PY",
          "N120QA",
          "N120QB",
          "N120QF",
          "N120QQ",
          "N156JN",
          "N2",
          "N224JW",
          "N228JW",
          "N28AG",
          "N28AJ",
          "N28AN",
          "N28AS",
          "N28AT",
          "N28BD",
          "N28BL",
          "N28BW",
          "N28BY",
          "N28DA",
          "N28DB",
          "N28DD",
          "N28DE",
          "N28DF",
          "N28DG",
          "N28DJ",
          "N28DQ",
          "N28EH",
          "N28EJ",
          "N28ET",
          "N28EU",
          "N28EW",
          "N28EX",
          "N28EY",
          "N28EZ",
          "N28GR",
          "N28GS",
          "N28HB",
          "N28HD",
          "N28HE",
          "N28HG",
          "N28HH",
          "N28HL",
          "N28HN",
          "N28HP",
          "N28HR",
          "N28HS",
          "N28LA",
          "N28LB",
          "N28LD",
          "N28LE",
          "N28LG",
          "N28LH",
          "N28LR",
          "N28NA",
          "N28NB",
          "N28ND",
          "N29AA",
          "N29AB",
          "N29AD",
          "N29AE",
          "N29AG",
          "N29AH",
          "N29AJ",
          "N29AL",
          "N29AN",
          "N29AS",
          "N29AZ",
          "N29BA",
          "N29BW",
          "N29DA",
          "N29DB",
          "N29DF",
          "N29DU",
          "N29DX",
          "N29DY",
          "N29DZ",
          "N29EA",
          "N29ED",
          "N29EJ",
          "N29FE",
          "N29FF",
          "N29FG",
          "N29FH",
          "N29PT",
          "N29RA",
          "N29RB",
          "N29RD",
          "N29RE",
          "N29RF",
          "N29RG",
          "N29RQ"
         ],
         "received_time": "2021-04-04T12:31:47",
         "restored_time": "2021-04-09T07:13:12.517"
        },
        "INCD-229185-Z": {
         "description": "We're carrying out planned work in your area. For our engineers to carry it out safely they need to turn the power off. We're doing this work as it's essential to provide reliable electricity supplies to your area. We're sorry for any inconvenience caused and thank you for your patience.",
         "estimated_restored_time": "2021-04-09T06:45:00",
         "incident_active": true,
         "incident_url": "https://www.ukpowernetworks.co.uk/power-cut/map?incidentid=INCD-229185-Z",
         "planned_time": "2021-04-09T06:30:00",
         "postcodes_impacted": [
          "EN93SL"
         ],
         "received_time": "2021-04-09T06:30:00",
         "restored_time": null
        },
        "INCD-229191-Z": {
         "description": "We were investigating a high voltage overhead electricity line fault which caused a power cut in the local area.",
         "estimated_restored_time": "2021-04-06T12:00:00",
         "incident_active": false,
         "incident_url": "https://www.ukpowernetworks.co.uk/power-cut/map?incidentid=INCD-229191-Z",
         "planned_time": null,
         "postcodes_impacted": [
          "PE192RD",
          "PE192SJ",
          "PE193BH",
          "PE193BQ",
          "PE193BT",
          "PE193ET",
          "PE193JH",
          "PE193JP",
          "PE193PX",
          "PE193TP",
          "PE193TT",
          "PE195XT",
          "PE196WA",
          "PE196WL",
          "PE196YH",
          "PE196YQ",
          "PE196YT",
          "PE197BH",
          "PE197BJ",
          "PE197DX",
          "PE198BB",
          "PE198BG",
          "PE198BT",
          "PE198BU",
          "PE198DD",
          "PE198DF",
          "PE198DG",
          "PE198DH",
          "PE198DJ",
          "PE198DL",
          "PE198DN",
          "PE198DP",
          "PE198DQ",
          "PE198DR",
          "PE198DS",
          "PE198DT",
          "PE198DU",
          "PE198DW",
          "PE198EJ",
          "PE198EL",
          "PE198ES",
          "PE198ET",
          "PE198EX",
          "PE198FQ",
          "PE198FT",
          "PE198GE",
          "PE198GH",
          "PE198GN",
          "PE198GP",
          "PE198GQ",
          "PE198GR",
          "PE198GU",
          "PE198GY",
          "PE198HS",
          "PE198HZ",
          "PE198JF",
          "PE198JH",
          "PE198JJ",
          "PE198JP",
          "PE198JQ",
          "PE198JR",
          "PE198JS",
          "PE198JW",
          "PE198LA",
          "PE198LB",
          "PE198NH",
          "PE198NJ",
          "PE198NL",
          "PE198NN",
          "PE198PA",
          "PE198PB",
          "PE198PE",
          "PE198PH",
          "PE198PJ",
          "PE198PL",
          "PE198PN",
          "PE198PP",
          "PE198PQ",
          "PE198PR",
          "PE198PS",
          "PE198PT",
          "PE198PU",
          "PE198PW",
          "PE198PX",
          "PE198PY",
          "PE198PZ",
          "PE198QB",
          "PE198QD",
          "PE198QE",
          "PE198QF",
          "PE198QG",
          "PE198QH",
          "PE198QJ",
          "PE198QL",
          "PE198TA",
          "PE198TB",
          "PE198TD",
          "PE198TP",
          "PE198TR",
          "PE198TS",
          "PE198TT",
          "PE198TY",
          "PE198YE",
          "RM38TS"
         ],
         "received_time": "2021-04-06T09:59:01",
         "restored_time": "2021-04-09T07:19:40.367"
        },
        "INCD-229210-Z": {
         "description": "We're carrying out planned work in your area. For our engineers to carry it out safely they need to turn the power off. We're doing this work as it's essential to provide reliable electricity supplies to your area. We're sorry for any inconvenience caused and thank you for your patience.",
         "estimated_restored_time": "2021-04-09T09:00:00",
         "incident_active": true,
         "incident_url": "https://www.ukpowernetworks.co.uk/power-cut/map?incidentid=INCD-229210-Z",
         "planned_time": "2021-04-09T08:00:00",
         "postcodes_impacted": [
          "CM59FN",
          "CM59LF",
          "CM59LG",
          "CM59LP",
          "CM59LQ",
          "CM59LW"
         ],
         "received_time": "2021-04-09T08:00:00",
         "restored_time": "2021-04-09T09:37:30.903"
        },
        "INCD-229450-Z": {
         "description": "We were investigating a high voltage electricity cable that was damaged, causing a power cut in the local area.",
         "estimated_restored_time": "2021-04-07T13:30:00",
         "incident_active": false,
         "incident_url": "https://www.ukpowernetworks.co.uk/power-cut/map?incidentid=INCD-229450-Z",
         "planned_time": null,
         "postcodes_impacted": [
          "SS94RP",
          "SS94RS",
          "SS94RU",
          "SS94RY",
          "SS94RZ",
          "SS94SN",
          "SS94SW",
          "SS94UT",
          "SS94XX",
          "SS95FA",
          "SS95JA",
          "SS95JL",
          "SS95JU",
          "SS95JX",
          "SS95LE",
          "SS95LF",
          "SS95LP",
          "SS95LQ",
          "SS95LY",
          "SS95PR",
          "UK"
         ],
         "received_time": "2021-04-07T10:19:00",
         "restored_time": "2021-04-09T06:41:50.377"
        },
        "INCD-229698-Z": {
         "description": "A fault occurred on an underground electricity cable affecting the local area.",
         "estimated_restored_time": null,
         "incident_active": false,
         "incident_url": "https://www.ukpowernetworks.co.uk/power-cut/map?incidentid=INCD-229698-Z",
         "planned_time": null,
         "postcodes_impacted": [
          "EN40BU",
          "EN40BX",
          "EN40DZ",
          "EN49JQ"
         ],
         "received_time": "2021-04-08T11:54:00",
         "restored_time": "2021-04-09T04:03:45.49"
        },
        "INCD-229812-Z": {
         "description": "An underground electricity cable faulted on our high voltage network, causing an area wide power cut.",
         "estimated_restored_time": null,
         "incident_active": false,
         "incident_url": "https://www.ukpowernetworks.co.uk/power-cut/map?incidentid=INCD-229812-Z",
         "planned_time": null,
         "postcodes_impacted": [
          "AL87AT",
          "AL87DU",
          "AL87EA",
          "AL87EB",
          "AL87ED",
          "AL87EE",
          "AL87EF",
          "AL87EG",
          "AL87EH",
          "AL87EJ",
          "AL87EL",
          "AL87EN",
          "AL87EP",
          "AL87EQ",
          "AL87EW",
          "AL87HD",
          "AL87HE",
          "AL87HG",
          "AL87HH",
          "AL87HJ",
          "AL87HL",
          "AL87HN",
          "AL87HP",
          "AL87HQ",
          "AL87HR",
          "AL87HW",
          "AL87HZ",
          "AL87JA",
          "AL87JB",
          "AL87JD",
          "AL87LT",
          "AL87LU",
          "AL87LX",
          "AL87LY",
          "AL87LZ",
          "AL87NA",
          "AL87NB",
          "AL87ND",
          "AL87NF",
          "AL87NG",
          "AL87NH",
          "AL87NJ",
          "AL87NL",
          "AL87NN",
          "AL87NQ",
          "AL87NR",
          "AL87NS",
          "AL87NW",
          "AL87NX",
          "AL87QG",
          "AL87QH",
          "AL87QJ",
          "AL87QL",
          "AL87QN",
          "AL87QP",
          "AL87QR",
          "AL87QS",
          "AL87QT",
          "AL87QU",
          "AL87QW",
          "AL87QX",
          "AL87QY",
          "AL87QZ",
          "AL87RA",
          "AL87RB",
          "AL87RH",
          "AL87RJ",
          "AL87RL",
          "AL87RQ",
          "AL87SU",
          "AL87UA"
         ],
         "received_time": "2021-04-08T18:47:21",
         "restored_time": "2021-04-09T11:52:22.733"
        },
        "INCD-229829-Z": {
         "description": "Due to a faulty piece of underground network equipment we had to turn off your power.",
         "estimated_restored_time": "2021-04-09T20:00:00",
         "incident_active": true,
         "incident_url": "https://www.ukpowernetworks.co.uk/power-cut/map?incidentid=INCD-229829-Z",
         "planned_time": null,
         "postcodes_impacted": [
          "CM195JN",
          "CM195JP",
          "CM195JW",
          "CM195JR",
          "CM195JU",
          "CM195JY",
          "CM195JZ"
         ],
         "received_time": "2021-04-09T02:37:00",
         "restored_time": null
        },
        "INCD-229831-Z": {
         "description": "A fault occurred on an underground electricity cable affecting the local area.",
         "estimated_restored_time": "2021-04-09T15:30:00",
         "incident_active": true,
         "incident_url": "https://www.ukpowernetworks.co.uk/power-cut/map?incidentid=INCD-229831-Z",
         "planned_time": null,
         "postcodes_impacted": [
          "HA02SB",
          "HA02SE",
          "HA02SL",
          "HA02SW",
          "HA02QG",
          "HA02RZ",
          "HA02SA",
          "HA02SF"
         ],
         "received_time": "2021-04-09T05:50:00",
         "restored_time": null
        },
        "INCD-229833-Z": {
         "description": "A fault occurred on an underground electricity cable affecting the local area.",
         "estimated_restored_time": "2021-04-09T15:30:00",
         "incident_active": true,
         "incident_url": "https://www.ukpowernetworks.co.uk/power-cut/map?incidentid=INCD-229833-Z",
         "planned_time": null,
         "postcodes_impacted": [
          "NR191EA",
          "NR192AP",
          "NR191BX"
         ],
         "received_time": "2021-04-09T09:18:00",
         "restored_time": null
        },
        "INCD-229836-Z": {
         "description": "A fault occurred on a piece of our electrical equipment which controls the power to your home.",
         "estimated_restored_time": "2021-04-09T10:30:00",
         "incident_active": false,
         "incident_url": "https://www.ukpowernetworks.co.uk/power-cut/map?incidentid=INCD-229836-Z",
         "planned_time": null,
         "postcodes_impacted": [
          "CO101JS",
          "CO101LS"
         ],
         "received_time": "2021-04-09T07:27:00",
         "restored_time": "2021-04-09T09:39:46.63"
        },
        "INCD-229839-Z": {
         "description": "A fault occurred on a piece of our electrical equipment which controls the power to your home.",
         "estimated_restored_time": null,
         "incident_active": false,
         "incident_url": "https://www.ukpowernetworks.co.uk/power-cut/map?incidentid=INCD-229839-Z",
         "planned_time": null,
         "postcodes_impacted": [
          "WD188JG",
          "WD188QU",
          "WD188TF"
         ],
         "received_time": "2021-04-09T07:59:00",
         "restored_time": "2021-04-09T08:59:01.377"
        },
        "INCD-229840-Z": {
         "description": "A fault occurred on a piece of our electrical equipment which controls the power to your home.",
         "estimated_restored_time": null,
         "incident_active": false,
         "incident_url": "https://www.ukpowernetworks.co.uk/power-cut/map?incidentid=INCD-229840-Z",
         "planned_time": null,
         "postcodes_impacted": [
          "EN118ER"
         ],
         "received_time": "2021-04-09T08:01:00",
         "restored_time": "2021-04-09T11:36:09.447"
        },
        "INCD-229862-Z": {
         "description": "We were investigating an overhead electricity line fault which caused a power cut in the local area.",
         "estimated_restored_time": "2021-04-09T14:00:00",
         "incident_active": true,
         "incident_url": "https://www.ukpowernetworks.co.uk/power-cut/map?incidentid=INCD-229862-Z",
         "planned_time": null,
         "postcodes_impacted": [
          "NR105QW"
         ],
         "received_time": "2021-04-09T10:43:00",
         "restored_time": null
        },
        "INCD-229873-Z": {
         "description": "We are carrying out essential work on the electricity network in your area.",
         "estimated_restored_time": null,
         "incident_active": false,
         "incident_url": "https://www.ukpowernetworks.co.uk/power-cut/map?incidentid=INCD-229873-Z",
         "planned_time": null,
         "postcodes_impacted": [
          "IP221AG",
          "IP221AJ",
          "IP221AL",
          "IP221AN",
          "IP221AS",
          "IP221AX",
          "IP221FJ",
          "IP221PF"
         ],
         "received_time": "2021-04-09T09:06:00",
         "restored_time": "2021-04-09T12:18:04.043"
        },
        "INCD-229908-Z": {
         "description": "We had to turn off power in your area so our engineers could safely carry out emergency repairs to the network.",
         "estimated_restored_time": null,
         "incident_active": false,
         "incident_url": "https://www.ukpowernetworks.co.uk/power-cut/map?incidentid=INCD-229908-Z",
         "planned_time": null,
         "postcodes_impacted": [
          "CO45AA",
          "CO45AB",
          "CO45AD",
          "CO45BT",
          "CO45BU",
          "CO46DT"
         ],
         "received_time": "2021-04-09T12:07:00",
         "restored_time": "2021-04-09T12:23:00"
        },
        "INCD-229910-Z": {
         "description": "We were investigating an electricity cable that was damaged, causing a power cut in the local area.",
         "estimated_restored_time": "2021-04-09T16:30:00",
         "incident_active": true,
         "incident_url": "https://www.ukpowernetworks.co.uk/power-cut/map?incidentid=INCD-229910-Z",
         "planned_time": null,
         "postcodes_impacted": [
          "RM155DL",
          "RM155DX",
          "RM155DZ",
          "RM155EJ",
          "RM155ET",
          "RM155FU"
         ],
         "received_time": "2021-04-09T12:07:11",
         "restored_time": null
        },
        "INCD-229914-Z": {
         "description": "We had to turn off power in your area so our engineers could safely carry out emergency repairs to the network.",
         "estimated_restored_time": "2021-04-09T13:30:00",
         "incident_active": false,
         "incident_url": "https://www.ukpowernetworks.co.uk/power-cut/map?incidentid=INCD-229914-Z",
         "planned_time": null,
         "postcodes_impacted": [
          "HA27AA",
          "HA27HU",
          "HA27LR",
          "HA27LS",
          "HA27LT",
          "HA27LU",
          "HA27NT",
          "HA55DS",
          "HA55DT"
         ],
         "received_time": "2021-04-09T12:17:00",
         "restored_time": "2021-04-09T12:31:00"
        },
        "INCD-239464-G": {
         "description": "A fault occurred on an underground electricity cable affecting the local area.",
         "estimated_restored_time": null,
         "incident_active": false,
         "incident_url": "https://www.ukpowernetworks.co.uk/power-cut/map?incidentid=INCD-239464-G",
         "planned_time": null,
         "postcodes_impacted": [
          "KT12RB",
          "KT12RD",
          "KT12UJ",
          "KT12UR"
         ],
         "received_time": "2020-11-20T12:41:00",
         "restored_time": "2021-04-09T07:10:42.37"
        },
        "INCD-243592-G": {
         "description": "A piece of network equipment had a fault on our high voltage electricity network, causing an area wide power cut.",
         "estimated_restored_time": "2021-01-24T11:30:00",
         "incident_active": false,
         "incident_url": "https://www.ukpowernetworks.co.uk/power-cut/map?incidentid=INCD-243592-G",
         "planned_time": null,
         "postcodes_impacted": [
          "BN99SG",
          "BN99SN",
          "BN99SP",
          "BN99SW",
          "BN99TB"
         ],
         "received_time": "2021-01-24T06:43:38",
         "restored_time": "2021-04-09T07:33:31.383"
        },
        "INCD-246135-G": {
         "description": "An underground electricity cable faulted on our high voltage network, causing an area wide power cut.",
         "estimated_restored_time": "2021-03-03T17:30:00",
         "incident_active": false,
         "incident_url": "https://www.ukpowernetworks.co.uk/power-cut/map?incidentid=INCD-246135-G",
         "planned_time": null,
         "postcodes_impacted": [
          "RH15DF",
          "RH15DG",
          "RH15DZ",
          "RH15HN",
          "RH15JN",
          "RH15JP",
          "RH15JQ",
          "RH15JR",
          "RH15JS",
          "RH15JT",
          "RH15JU",
          "RH15JW",
          "RH15QL",
          "RH15RA",
          "RH15RG"
         ],
         "received_time": "2021-03-03T14:18:37",
         "restored_time": "2021-04-09T06:50:57.353"
        },
        "INCD-247495-G": {
         "description": "Due to a faulty piece of high voltage network equipment we had to turn off your power.",
         "estimated_restored_time": "2021-03-30T17:30:00",
         "incident_active": false,
         "incident_url": "https://www.ukpowernetworks.co.uk/power-cut/map?incidentid=INCD-247495-G",
         "planned_time": null,
         "postcodes_impacted": [
          "BR67NS",
          "BR67SH",
          "BR67SJ",
          "TN147HH",
          "TN147HJ",
          "TN147HL",
          "TN147HN",
          "TN147HP",
          "TN147HW",
          "TN157SH"
         ],
         "received_time": "2021-03-30T13:58:05",
         "restored_time": "2021-04-09T07:01:21.29"
        },
        "INCD-247546-G": {
         "description": "An underground electricity cable faulted on our high voltage network, causing an area wide power cut.",
         "estimated_restored_time": "2021-03-31T11:30:00",
         "incident_active": false,
         "incident_url": "https://www.ukpowernetworks.co.uk/power-cut/map?incidentid=INCD-247546-G",
         "planned_time": null,
         "postcodes_impacted": [
          "BN14QF",
          "BN17LA",
          "BN19JS",
          "BN19PU",
          "BN22XZ",
          "BN24BA",
          "BN24BB",
          "BN24FA",
          "BN24FB",
          "BN24FD",
          "BN24FE",
          "BN24FF",
          "BN24FG",
          "BN24FH",
          "BN24FZ",
          "BN24GA",
          "BN24GB",
          "BN24GD",
          "BN24GE",
          "BN24GF",
          "BN24GG",
          "BN24HA",
          "BN24HB",
          "BN24HD",
          "BN24HJ",
          "BN24HL",
          "BN24JB",
          "BN24JD",
          "BN24JE",
          "BN24JF",
          "BN24JG",
          "BN24JH",
          "BN24JJ",
          "BN24JL",
          "BN24JN",
          "BN24JP",
          "BN24JQ",
          "BN24JR",
          "BN24JS",
          "BN24JT",
          "BN24JW",
          "BN24JZ",
          "BN24LA",
          "BN24LB",
          "BN24LD",
          "BN24LE",
          "BN24LF",
          "BN24LG",
          "BN24LH",
          "BN24LJ",
          "BN24LL",
          "BN24LN",
          "BN24LP",
          "BN24LQ",
          "BN24LR",
          "BN24LS",
          "BN24LT",
          "BN24LU",
          "BN24LW",
          "BN24LX",
          "BN24LY",
          "BN24LZ",
          "BN24NP",
          "BN24NQ",
          "BN24PB",
          "BN24PW",
          "BN24PX",
          "BN24PZ",
          "BN24QA",
          "BN24QF",
          "BN24QJ",
          "BN24QN",
          "BN24RA",
          "BN24RB",
          "BN24RD",
          "BN24RE",
          "BN24RF",
          "BN24RG",
          "BN24RH",
          "BN24RJ",
          "BN24RL",
          "BN24RN",
          "BN24RP",
          "BN24RQ",
          "BN24RR",
          "BN24RS",
          "BN24RT",
          "BN24RU",
          "BN24RW",
          "BN24RX",
          "BN24RY",
          "BN24RZ",
          "BN24SA",
          "BN24SB",
          "BN24SE",
          "BN24TA",
          "BN24TB",
          "BN24TD",
          "BN24TF",
          "BN24TG",
          "BN24TH",
          "BN24TJ",
          "BN24TL",
          "BN24TN",
          "BN24TP",
          "BN24TQ",
          "BN24TR",
          "BN26AF",
          "BN26BJ",
          "BN26BL",
          "BN26BN",
          "BN26BP",
          "BN26DB",
          "BN26DD",
          "BN26DE",
          "BN26DF",
          "BN26DG",
          "BN26DH",
          "BN26DJ",
          "BN26DL",
          "BN26DN",
          "BN26DP",
          "BN26DQ",
          "BN26DR",
          "BN26DS",
          "BN26DT",
          "UMS"
         ],
         "received_time": "2021-03-31T08:39:07",
         "restored_time": "2021-04-09T07:17:56.487"
        },
        "INCD-247691-G": {
         "description": "We had to turn off power in your area so our engineers could safely carry out emergency repairs to the network.",
         "estimated_restored_time": null,
         "incident_active": true,
         "incident_url": "https://www.ukpowernetworks.co.uk/power-cut/map?incidentid=INCD-247691-G",
         "planned_time": null,
         "postcodes_impacted": [
          "BN11YE",
          "UMS",
          "BN11UA",
          "BN11YA",
          "BN14AB",
          "BN14AD",
          "BN14AE",
          "BN14AF",
          "BN14AG"
         ],
         "received_time": "2021-04-04T02:05:00",
         "restored_time": null
        },
        "INCD-247902-G": {
         "description": "An underground electricity cable faulted on our high voltage network, causing an area wide power cut.",
         "estimated_restored_time": "2021-04-09T06:00:00",
         "incident_active": false,
         "incident_url": "https://www.ukpowernetworks.co.uk/power-cut/map?incidentid=INCD-247902-G",
         "planned_time": null,
         "postcodes_impacted": [
          "DA99UH",
          "ME195FJ",
          "RH161QL",
          "RH191AA",
          "RH191AB",
          "RH191AD",
          "RH191AF",
          "RH191AG",
          "RH191AJ",
          "RH191AL",
          "RH191AP",
          "RH191AQ",
          "RH191AS",
          "RH191AW",
          "RH191BD",
          "RH191BE",
          "RH191BG",
          "RH191BP",
          "RH191BU",
          "RH191DL",
          "RH191EN",
          "RH191EP",
          "RH191EQ",
          "RH191ES",
          "RH191ET",
          "RH191EY",
          "RH191FG",
          "RH191HZ",
          "RH191JD",
          "RH191JF",
          "RH191JG",
          "RH191JJ",
          "RH191JL",
          "RH191JN",
          "RH191JP",
          "RH191JQ",
          "RH191JR",
          "RH191JS",
          "RH191JT",
          "RH191JU",
          "RH191JW",
          "RH191JX",
          "RH191JY",
          "RH191JZ",
          "RH191LY",
          "RH191NL",
          "RH191NP",
          "RH191NR",
          "RH191NS",
          "RH191NT",
          "RH191NU",
          "RH191NX",
          "RH191QP",
          "RH191QT",
          "RH191RP",
          "RH191RQ",
          "RH191RS",
          "RH191SR",
          "RH191TS",
          "RH191TX",
          "RH191UA",
          "RH191UD",
          "RH191UZ",
          "RH191XG",
          "RH193AA",
          "RH193AB",
          "RH193AD",
          "RH193AF",
          "RH193AG",
          "RH193AW",
          "RH193AZ",
          "RH193BB",
          "RH193BD",
          "RH193BE",
          "RH193BF",
          "RH193BG",
          "RH193BH",
          "RH193BJ",
          "RH193BL",
          "RH193BN",
          "RH193BP",
          "RH193BS",
          "RH193BT",
          "RH193BW",
          "RH193BX",
          "RH193BZ",
          "RH193DH",
          "RH193DJ",
          "RH193DL",
          "RH193SN",
          "RH194AA",
          "RH194BF",
          "RH194BJ",
          "RH194BL",
          "RH194BN",
          "RH194BP",
          "RH194BS",
          "RH194BT",
          "RH194BU",
          "RH194BW",
          "RH194BX",
          "RH194BY",
          "RH194BZ",
          "RH194DA",
          "RH194DB",
          "RH194DG",
          "RH194DH",
          "RH194DJ",
          "RH194DQ",
          "RH194DW",
          "RH194EB",
          "RH194ED",
          "RH194EE",
          "RH194EF",
          "RH194EG",
          "RH194EH",
          "RH194EJ",
          "RH194EL",
          "RH194EN",
          "RH194EP",
          "RH194EQ",
          "RH194ES",
          "RH194EY",
          "RH194EZ",
          "RH194SR",
          "RH194SX",
          "RH194YZ",
          "SM14QT"
         ],
         "received_time": "2021-04-09T04:10:21",
         "restored_time": "2021-04-09T05:37:42.003"
        },
        "INCD-247911-G": {
         "description": "We had to turn off power in your area so our engineers could safely carry out emergency repairs to the network.",
         "estimated_restored_time": "2021-04-09T13:30:00",
         "incident_active": true,
         "incident_url": "https://www.ukpowernetworks.co.uk/power-cut/map?incidentid=INCD-247911-G",
         "planned_time": null,
         "postcodes_impacted": [
          "RH15QL",
          "RH15RG"
         ],
         "received_time": "2021-04-09T11:37:32",
         "restored_time": null
        },
        "INCD-247917-G": {
         "description": "A fault occurred on an underground electricity cable affecting the local area.",
         "estimated_restored_time": null,
         "incident_active": false,
         "incident_url": "https://www.ukpowernetworks.co.uk/power-cut/map?incidentid=INCD-247917-G",
         "planned_time": null,
         "postcodes_impacted": [
          "GU228UP",
          "KT146EF",
          "KT146EH",
          "KT146EY",
          "KT146LD",
          "KT146LG",
          "KT146LN",
          "KT146LR",
          "KT146LT",
          "KT146LW",
          "KT146NB",
          "KT146NG",
          "KT146NH",
          "KT146NU",
          "KT146NY",
          "KT146QS",
          "KT146QT",
          "KT146QX",
          "KT146QY",
          "KT146RD",
          "KT146RE",
          "KT146SD",
          "KT146SH"
         ],
         "received_time": "2021-04-09T11:48:17",
         "restored_time": "2021-04-09T11:51:31.577"
        },
        "INCD-247923-G": {
         "description": "A fault occurred on a piece of our electrical equipment which controls the power to your home.",
         "estimated_restored_time": null,
         "incident_active": true,
         "incident_url": "https://www.ukpowernetworks.co.uk/power-cut/map?incidentid=INCD-247923-G",
         "planned_time": null,
         "postcodes_impacted": [
          "CT203EG",
          "CT203EH",
          "CT203EJ",
          "CT203EL",
          "CT203EQ",
          "CT203JR",
          "CT203JS",
          "CT203JT",
          "CT203JU",
          "CT203JX",
          "CT203JY",
          "CT203JZ",
          "CT203LA",
          "CT203LG",
          "CT203LH",
          "CT203LJ",
          "CT203LL",
          "CT203LQ"
         ],
         "received_time": "2021-04-09T12:44:02",
         "restored_time": null
        },
        "INCD-259202-J": {
         "description": "We were investigating an electricity cable that was damaged, causing a power cut in the local area.",
         "estimated_restored_time": null,
         "incident_active": false,
         "incident_url": "https://www.ukpowernetworks.co.uk/power-cut/map?incidentid=INCD-259202-J",
         "planned_time": null,
         "postcodes_impacted": [
          "W1M1DH",
          "W1M1HB",
          "W1M1HE",
          "W1M1HJ",
          "W1U5AH",
          "W1U6QJ",
          "W1U6QL",
          "W1U7AJ",
          "W1U7AL",
          "W1U7BY",
          "W1U7JA",
          "W1U7JF",
          "W1U7NE",
          "W1U7NF",
          "W1U7NN",
          "W1U7NP",
          "W1U7NR",
          "W1U7NS",
          "W1U7NT",
          "W1U7NU",
          "W1U7NW",
          "W1U7NX",
          "W1U7NY",
          "W1U7NZ",
          "W1U7PB",
          "W1U7PD",
          "W1U7PE",
          "W1U7PF",
          "W1U7PG",
          "W1U7PJ",
          "W1U7PN",
          "W1U7PP",
          "W1U7PQ",
          "W1U7PW",
          "W1U7RT"
         ],
         "received_time": "2021-04-02T15:00:00",
         "restored_time": "2021-04-09T08:33:48.74"
        },
        "INCD-259415-J": {
         "description": "A fault occurred on an underground electricity cable affecting the local area.",
         "estimated_restored_time": "2021-04-06T20:30:00",
         "incident_active": false,
         "incident_url": "https://www.ukpowernetworks.co.uk/power-cut/map?incidentid=INCD-259415-J",
         "planned_time": null,
         "postcodes_impacted": [
          "NW36RA",
          "NW36UU",
          "NW36UX",
          "NW36XA",
          "NW36XB",
          "NW36XD",
          "NW36XU"
         ],
         "received_time": "2021-04-06T15:36:00",
         "restored_time": "2021-04-09T10:08:11.067"
        },
        "INCD-259482-J": {
         "description": "Due to a faulty piece of underground network equipment we had to turn off your power.",
         "estimated_restored_time": null,
         "incident_active": false,
         "incident_url": "https://www.ukpowernetworks.co.uk/power-cut/map?incidentid=INCD-259482-J",
         "planned_time": null,
         "postcodes_impacted": [
          "E138AD",
          "E138AF",
          "E138AG",
          "E138AP",
          "E138AR",
          "E138AS",
          "E138AT",
          "E138AW",
          "E138AY",
          "E138AZ",
          "E138BB"
         ],
         "received_time": "2021-04-07T13:34:54",
         "restored_time": "2021-04-09T09:01:42.617"
        },
        "INCD-259614-J": {
         "description": "A fault occurred on an underground electricity cable affecting the local area.",
         "estimated_restored_time": null,
         "incident_active": true,
         "incident_url": "https://www.ukpowernetworks.co.uk/power-cut/map?incidentid=INCD-259614-J",
         "planned_time": null,
         "postcodes_impacted": [
          "NW63QT",
          "NW63QR",
          "NW63QS"
         ],
         "received_time": "2021-04-08T20:29:00",
         "restored_time": null
        },
        "INCD-259626-J": {
         "description": "A fault occurred on a piece of our electrical equipment which controls the power to your home.",
         "estimated_restored_time": "2021-04-09T07:00:00",
         "incident_active": false,
         "incident_url": "https://www.ukpowernetworks.co.uk/power-cut/map?incidentid=INCD-259626-J",
         "planned_time": null,
         "postcodes_impacted": [
          "N19EB",
          "N19ED",
          "N19EG",
          "N19GB",
          "N19SD"
         ],
         "received_time": "2021-04-09T03:58:00",
         "restored_time": "2021-04-09T05:47:13.827"
        },
        "INCD-259628-J": {
         "description": "A fault occurred on a piece of our electrical equipment which controls the power to your home.",
         "estimated_restored_time": "2021-04-09T09:30:00",
         "incident_active": false,
         "incident_url": "https://www.ukpowernetworks.co.uk/power-cut/map?incidentid=INCD-259628-J",
         "planned_time": null,
         "postcodes_impacted": [
          "NW87AB",
          "NW87DX",
          "NW87DY",
          "NW87SH"
         ],
         "received_time": "2021-04-09T03:18:00",
         "restored_time": "2021-04-09T08:40:16.79"
        },
        "INCD-259629-J": {
         "description": "A fault occurred on a piece of our electrical equipment which controls the power to your home.",
         "estimated_restored_time": null,
         "incident_active": false,
         "incident_url": "https://www.ukpowernetworks.co.uk/power-cut/map?incidentid=INCD-259629-J",
         "planned_time": null,
         "postcodes_impacted": [
          "E181AB",
          "E181AG",
          "E181AN",
          "E182AB"
         ],
         "received_time": "2021-04-09T06:21:00",
         "restored_time": "2021-04-09T08:51:52.677"
        },
        "INCD-259632-J": {
         "description": "We had to turn off power in your area so our engineers could safely carry out emergency repairs to the network.",
         "estimated_restored_time": "2021-04-09T15:00:00",
         "incident_active": true,
         "incident_url": "https://www.ukpowernetworks.co.uk/power-cut/map?incidentid=INCD-259632-J",
         "planned_time": null,
         "postcodes_impacted": [
          "N10XU",
          "N10DG",
          "N10EF",
          "N10EG",
          "N10EH",
          "N10EQ",
          "N10EY",
          "N10FH",
          "N10FJ",
          "N10HB",
          "N10HD",
          "N10HX",
          "N10JA",
          "N10JB",
          "N10PY",
          "N10RG",
          "N10RH",
          "N10RJ",
          "N10RT",
          "N10XT",
          "N10XX",
          "N10XY",
          "N10XZ"
         ],
         "received_time": "2021-04-09T11:00:00",
         "restored_time": null
        },
        "INCD-317017-U": {
         "description": "A piece of network equipment had a fault on our high voltage electricity network, causing an area wide power cut.",
         "estimated_restored_time": null,
         "incident_active": false,
         "incident_url": "https://www.ukpowernetworks.co.uk/power-cut/map?incidentid=INCD-317017-U",
         "planned_time": null,
         "postcodes_impacted": [
          "TW181HR",
          "TW182SD",
          "TW182SE",
          "TW182SF",
          "TW182SG",
          "TW182SL",
          "TW182SQ",
          "TW182SY"
         ],
         "received_time": "2021-04-09T01:46:00",
         "restored_time": "2021-04-09T07:13:20.407"
        },
        "INCD-42719-C": {
         "description": "We're carrying out planned work in your area. For our engineers to carry it out safely they need to turn the power off. We're doing this work as it's essential to provide reliable electricity supplies to your area. We're sorry for any inconvenience caused and thank you for your patience.",
         "estimated_restored_time": "2021-04-09T15:00:00",
         "incident_active": true,
         "incident_url": "https://www.ukpowernetworks.co.uk/power-cut/map?incidentid=INCD-42719-C",
         "planned_time": "2021-04-09T09:00:00",
         "postcodes_impacted": [
          "CO94BP",
          "CO94BX"
         ],
         "received_time": "2021-04-09T09:27:00",
         "restored_time": null
        },
        "INCD-44056-C": {
         "description": "We had to turn off power in your area so our engineers could safely carry out emergency repairs to the network.",
         "estimated_restored_time": "2021-04-09T09:30:00",
         "incident_active": false,
         "incident_url": "https://www.ukpowernetworks.co.uk/power-cut/map?incidentid=INCD-44056-C",
         "planned_time": null,
         "postcodes_impacted": [
          "NR23AD",
          "NR23AT",
          "NR23AU",
          "NR23AY",
          "NR23AZ",
          "NR23BA",
          "NR24BS",
          "NR24BW"
         ],
         "received_time": "2021-04-09T08:30:00",
         "restored_time": "2021-04-09T09:12:51.89"
        },
        "INCD-51220-V": {
         "description": "We're carrying out planned work in your area. For our engineers to carry it out safely they need to turn the power off. We're doing this work as it's essential to provide reliable electricity supplies to your area. We're sorry for any inconvenience caused and thank you for your patience.",
         "estimated_restored_time": "2021-04-09T15:00:00",
         "incident_active": true,
         "incident_url": "https://www.ukpowernetworks.co.uk/power-cut/map?incidentid=INCD-51220-V",
         "planned_time": "2021-04-09T08:00:00",
         "postcodes_impacted": [
          "ME38PT",
          "ME39BH",
          "ME39BJ",
          "ME39BQ",
          "ME39LR",
          "ME39LS",
          "ME39LT",
          "ME65FN"
         ],
         "received_time": "2021-04-09T08:08:00",
         "restored_time": null
        },
        "INCD-51529-V": {
         "description": "We have identified that there are trees close to our high voltage overhead electricity cables that need trimming. To enable us to work close to the high voltage overhead electricity cables and cut the trees safely our engineers will need to temporarily switch off your power. This work needs to take place for safety reasons, along with reducing the risk of you having an unplanned power cut by stopping these trees from potentially causing damaged to the overhead electricity network. This is why it is important to complete this work during the Coronavirus pandemic. This work is taking place off Collier Street. The government has given exemptions to certain industries and activities, this outage falls into this category. We are adhering to government guidelines to keep our customers and colleagues safe. We are sorry for any inconvenience caused by this work and thank you for your patience.",
         "estimated_restored_time": "2021-04-09T15:30:00",
         "incident_active": true,
         "incident_url": "https://www.ukpowernetworks.co.uk/power-cut/map?incidentid=INCD-51529-V",
         "planned_time": "2021-04-09T09:30:00",
         "postcodes_impacted": [
          "TN129QA",
          "TN129RG",
          "TN129RJ",
          "TN129RL",
          "TN129RN",
          "TN129RP",
          "TN129RR"
         ],
         "received_time": "2021-04-09T09:40:00",
         "restored_time": null
        },
        "INCD-52085-V": {
         "description": "Our contractors Avidety Ltd are replacing and upgrading some overhead electricity cables with improved insulated cables. This will improve the reliability of our electricity network and reduce the risk of you having an unplanned power cut. This is why it is important to complete this work during the Coronavirus pandemic. You may see our contractors completing preparation works prior to the outage to allow for a shorter interruption on the day. Due to safety reasons our contractors need to complete a safety check with your internal equipment checking a plug and a socket on separate circuits to enable the power to be turned on and off. As the checks are manual we aim to turn the power off at 09:30 and back on at 15:30, however please allow extra time for the checks to be completed. Access will only be required before and after the planned power cut. Please ensure access to the meter is clear.This work is taking place outside numbers 1 to 4 Upper Horton Farm Cottages, New House Lane.",
         "estimated_restored_time": "2021-04-09T15:30:00",
         "incident_active": true,
         "incident_url": "https://www.ukpowernetworks.co.uk/power-cut/map?incidentid=INCD-52085-V",
         "planned_time": "2021-04-09T09:30:00",
         "postcodes_impacted": [
          "CT47BN"
         ],
         "received_time": "2021-04-09T09:40:00",
         "restored_time": null
        },
        "INCD-52097-V": {
         "description": "Our contractors Avidety Ltd are replacing and upgrading an electricity pole due to it decaying. They will also be replacing and upgrading some overhead electricity cables with improved insulated cables. This will improve the reliability of our electricity network and reduce the risk of you having an unplanned power cut. This is why it is important to complete this work during the Coronavirus pandemic. You may see our contractors erecting the new electricity pole prior to the outage to allow for a shorter interruption. This work is taking place along Rowly Drive. The government has given exemptions to certain industries and activities, this outage falls into this category. We are sorry for any inconvenience caused by this work.",
         "estimated_restored_time": "2021-04-09T15:30:00",
         "incident_active": true,
         "incident_url": "https://www.ukpowernetworks.co.uk/power-cut/map?incidentid=INCD-52097-V",
         "planned_time": "2021-04-09T09:30:00",
         "postcodes_impacted": [
          "GU68PJ",
          "GU68PN"
         ],
         "received_time": "2021-04-09T09:50:00",
         "restored_time": null
        },
        "INCD-52338-V": {
         "description": "Our contractors Avidety Ltd are replacing and upgrading electricity poles due to them decaying. Along with replacing and upgrading some overhead electricity cables with improved insulated cables. This will improve the reliability of the electricity network and will reduce the risk of you having an unplanned power cut which is why it is important to complete this work during the Coronavirus pandemic. You may see our contractors completing preparation works prior to the outage to allow for a shorter interruption on the day of the planned power cut. This work is taking place outside numbers 48 to 76 Joydens Wood Road. The government has given exemptions to certain industries and activities, this outage falls into this category.",
         "estimated_restored_time": "2021-04-09T15:30:00",
         "incident_active": true,
         "incident_url": "https://www.ukpowernetworks.co.uk/power-cut/map?incidentid=INCD-52338-V",
         "planned_time": "2021-04-09T09:30:00",
         "postcodes_impacted": [
          "DA52HT",
          "DA52JA"
         ],
         "received_time": "2021-04-09T09:30:00",
         "restored_time": null
        },
        "INCD-52429-V": {
         "description": "Our contractors Avidety Ltd are replacing and upgrading electricity poles due to them coming to the end of their serviceable lives. This will improve the reliability of the electricity network and will reduce the risk of you having an unplanned power cut which is why it is important to complete this work during the Coronavirus pandemic. You may see our contractors completing preparation works prior to the outage to allow for a shorter interruption on the day of the planned power cut. This work is taking place in and around Fontridge Lane. The government has given exemptions to certain industries and activities, this outage falls into this category.",
         "estimated_restored_time": "2021-04-09T17:30:00",
         "incident_active": true,
         "incident_url": "https://www.ukpowernetworks.co.uk/power-cut/map?incidentid=INCD-52429-V",
         "planned_time": "2021-04-09T08:00:00",
         "postcodes_impacted": [
          "TN197AE",
          "TN197DD"
         ],
         "received_time": "2021-04-06T08:00:00",
         "restored_time": null
        },
        "INCD-52888-V": {
         "description": "Our contractors Avidety Ltd are replacing and upgrading electricity poles due to them coming to the end of their serviceable lives. This will improve the reliability of the electricity network and will reduce the risk of you having an unplanned power cut which is why it is important to complete this work during the Coronavirus pandemic. You may see our contractors completing preparation works prior to the outage to allow for a shorter interruption on the day of the planned power cut. This work is taking place in and around Fontridge Lane. The government has given exemptions to certain industries and activities, this outage falls into this category.",
         "estimated_restored_time": "2021-04-09T18:00:00",
         "incident_active": true,
         "incident_url": "https://www.ukpowernetworks.co.uk/power-cut/map?incidentid=INCD-52888-V",
         "planned_time": "2021-04-09T08:00:00",
         "postcodes_impacted": [
          "TN196EB",
          "TN197AE",
          "TN197AF",
          "TN197DD",
          "TN197DE",
          "TN197DG",
          "TN197DH",
          "TN197BA",
          "TN197BD",
          "TN197BE",
          "TN197BG"
         ],
         "received_time": "2021-04-09T08:00:00",
         "restored_time": null
        },
        "INCD-53079-V": {
         "description": "The reason for this work is we are replacing an overhead transformer with a new piece of equipment, called a substation on the electricity network. This equipment controls and delivers the electricity into your area. These are essential works that will improve the reliability of the electricity network, ensure our network can uphold the amount of electricity in your area and will also reduce the risk of you having an unplanned power cut which is why it is important to complete this work during the Coronavirus pandemic. This work is taking place in the vicinity of Adamswell Scout Camp. The government has given exemptions to certain industries and activities, this outage falls into this category.",
         "estimated_restored_time": "2021-04-09T17:45:00",
         "incident_active": true,
         "incident_url": "https://www.ukpowernetworks.co.uk/power-cut/map?incidentid=INCD-53079-V",
         "planned_time": "2021-04-09T08:00:00",
         "postcodes_impacted": [
          "TN39JH",
          "TN39JJ",
          "TN39JL",
          "TN39LU",
          "TN48NA",
          "TN48ND",
          "TN48NE",
          "TN48NG",
          "TN48NH"
         ],
         "received_time": "2021-04-09T08:00:00",
         "restored_time": null
        },
        "INCD-53400-V": {
         "description": "A fault occurred on an underground electricity cable affecting the local area.",
         "estimated_restored_time": "2021-03-29T11:30:00",
         "incident_active": false,
         "incident_url": "https://www.ukpowernetworks.co.uk/power-cut/map?incidentid=INCD-53400-V",
         "planned_time": null,
         "postcodes_impacted": [
          "DA121LR",
          "ME21HT",
          "ME38SF",
          "ME38SL",
          "ME38SN",
          "ME38SS"
         ],
         "received_time": "2021-03-28T11:13:00",
         "restored_time": "2021-04-09T08:51:23.63"
        },
        "INCD-54022-V": {
         "description": "A fault occurred on an underground electricity cable affecting the local area.",
         "estimated_restored_time": null,
         "incident_active": false,
         "incident_url": "https://www.ukpowernetworks.co.uk/power-cut/map?incidentid=INCD-54022-V",
         "planned_time": null,
         "postcodes_impacted": [
          "GU27YP",
          "GU33AD",
          "GU33AE",
          "GU33AR"
         ],
         "received_time": "2021-04-07T15:55:00",
         "restored_time": "2021-04-09T08:26:19.673"
        },
        "INCD-54055-V": {
         "description": "A fault occurred on an underground electricity cable affecting the local area.",
         "estimated_restored_time": null,
         "incident_active": true,
         "incident_url": "https://www.ukpowernetworks.co.uk/power-cut/map?incidentid=INCD-54055-V",
         "planned_time": null,
         "postcodes_impacted": [
          "GU14SQ",
          "GU14RY",
          "GU14SG",
          "GU14SJ",
          "GU14SS",
          "GU14YN"
         ],
         "received_time": "2021-04-08T09:30:00",
         "restored_time": null
        },
        "INCD-54137-V": {
         "description": "We are carrying out essential work on the electricity network in your area.",
         "estimated_restored_time": "2021-04-09T15:00:00",
         "incident_active": true,
         "incident_url": "https://www.ukpowernetworks.co.uk/power-cut/map?incidentid=INCD-54137-V",
         "planned_time": null,
         "postcodes_impacted": [
          "ME39LR",
          "ME39LS"
         ],
         "received_time": "2021-04-09T08:08:00",
         "restored_time": null
        },
        "INCD-54166-V": {
         "description": "A fault occurred on a piece of our electrical equipment which controls the power to your home.",
         "estimated_restored_time": null,
         "incident_active": true,
         "incident_url": "https://www.ukpowernetworks.co.uk/power-cut/map?incidentid=INCD-54166-V",
         "planned_time": null,
         "postcodes_impacted": [
          "CT162LF",
          "CT162LG",
          "CT162LH",
          "CT162LL",
          "CT162LQ",
          "CT162QX",
          "CT162ZZ",
          "CT170ST"
         ],
         "received_time": "2021-04-09T12:53:15",
         "restored_time": null
        },
        "INCD-59742-N": {
         "description": "A fault occurred on an underground electricity cable affecting the local area.",
         "estimated_restored_time": "2021-04-09T05:00:00",
         "incident_active": false,
         "incident_url": "https://www.ukpowernetworks.co.uk/power-cut/map?incidentid=INCD-59742-N",
         "planned_time": null,
         "postcodes_impacted": [
          "IG110NZ",
          "IG110QG"
         ],
         "received_time": "2021-04-08T11:24:00",
         "restored_time": "2021-04-09T04:51:45.13"
        },
        "INCD-59775-N": {
         "description": "A fault occurred on an underground electricity cable affecting the local area.",
         "estimated_restored_time": "2021-04-09T16:30:00",
         "incident_active": true,
         "incident_url": "https://www.ukpowernetworks.co.uk/power-cut/map?incidentid=INCD-59775-N",
         "planned_time": null,
         "postcodes_impacted": [
          "SE265TJ",
          "SE265BA",
          "SE265TB",
          "SE265TW"
         ],
         "received_time": "2021-04-09T09:04:00",
         "restored_time": null
        },
        "INCD-6198-O": {
         "description": "We're carrying out planned work in your area. For our engineers to carry it out safely they need to turn the power off. We're doing this work as it's essential to provide reliable electricity supplies to your area. We're sorry for any inconvenience caused and thank you for your patience.",
         "estimated_restored_time": "2021-04-09T14:00:00",
         "incident_active": true,
         "incident_url": "https://www.ukpowernetworks.co.uk/power-cut/map?incidentid=INCD-6198-O",
         "planned_time": "2021-04-09T09:00:00",
         "postcodes_impacted": [
          "CO94EA"
         ],
         "received_time": "2021-04-09T09:14:00",
         "restored_time": null
        },
        "INCD-6434-O": {
         "description": "We're carrying out planned work in your area. For our engineers to carry it out safely they need to turn the power off. We're doing this work as it's essential to provide reliable electricity supplies to your area. We're sorry for any inconvenience caused and thank you for your patience.",
         "estimated_restored_time": "2021-04-09T13:30:00",
         "incident_active": true,
         "incident_url": "https://www.ukpowernetworks.co.uk/power-cut/map?incidentid=INCD-6434-O",
         "planned_time": "2021-04-09T09:30:00",
         "postcodes_impacted": [
          "NR152AN",
          "NR152RR"
         ],
         "received_time": "2021-04-09T09:31:00",
         "restored_time": "2021-04-09T12:16:33.54"
        }
       }
      ],
      "text/plain": [
       "<IPython.core.display.JSON object>"
      ]
     },
     "execution_count": 22,
     "metadata": {
      "application/json": {
       "expanded": false,
       "root": "root"
      }
     },
     "output_type": "execute_result"
    }
   ],
   "source": [
    "raw_incidents_info, cleaned_incidents_info = get_ukpn_incidents_info()\n",
    "\n",
    "JSON([cleaned_incidents_info])"
   ]
  },
  {
   "cell_type": "code",
   "execution_count": null,
   "id": "listed-cartridge",
   "metadata": {},
   "outputs": [],
   "source": []
  },
  {
   "cell_type": "code",
   "execution_count": 23,
   "id": "saved-liabilities",
   "metadata": {},
   "outputs": [],
   "source": [
    "#exports\n",
    "def save_json_data(data, filename, data_dir='../data/raw'):\n",
    "    with open(f'{data_dir}/{filename}.json', 'w') as fp:\n",
    "        json.dump(data, fp)"
   ]
  },
  {
   "cell_type": "code",
   "execution_count": 24,
   "id": "joint-composite",
   "metadata": {},
   "outputs": [],
   "source": [
    "save_json_data(raw_incidents_info, 'ukpn_incidents_info')"
   ]
  },
  {
   "cell_type": "markdown",
   "id": "caring-vulnerability",
   "metadata": {},
   "source": [
    "<br>\n",
    "\n",
    "### Scottish & Southern Electricity Networks\n",
    "\n",
    "https://www.ssen.co.uk/Powertrack/\n",
    "\n",
    "N.b. we occasionaly get date values of: `Date(-62135596800000)`. This occurs when no date can be found so we will set these to `None`."
   ]
  },
  {
   "cell_type": "code",
   "execution_count": 25,
   "id": "sitting-engagement",
   "metadata": {},
   "outputs": [
    {
     "name": "stderr",
     "output_type": "stream",
     "text": [
      "C:\\Users\\Ayrto\\anaconda3\\envs\\outage\\lib\\site-packages\\urllib3\\connectionpool.py:1020: InsecureRequestWarning: Unverified HTTPS request is being made to host 'www.ssen.co.uk'. Adding certificate verification is strongly advised. See: https://urllib3.readthedocs.io/en/latest/advanced-usage.html#ssl-warnings\n",
      "  InsecureRequestWarning,\n"
     ]
    },
    {
     "data": {
      "application/json": {
       "Faults": [
        {
         "AffectedAreas": [
          "SO41 3RU",
          "SO41 3SE",
          "SO41 9ZG"
         ],
         "DepotCode": "40",
         "EstimatedArrivalOnSiteUtc": "/Date(1617970500000)/",
         "EstimatedFaultUpdateTimeUtc": "/Date(-62135596800000)/",
         "EstimatedRestorationTimeUtc": "/Date(1617980400000)/",
         "FaultType": "LV",
         "IsDepot": false,
         "Location": {
          "DisplayText": "50.757370669938169, -1.5372963004434963",
          "Latitude": 50.75737066993817,
          "Longitude": -1.5372963004434963
         },
         "LoggedAtUtc": "/Date(1617967320000)/",
         "Message": "We’re sorry for the loss of supply. We currently have a fault affecting the areas listed. Our engineers are on site working hard to get the power back on as quickly as they can. If you need more information, please call us on 105 or send us a message on <a href=\"http://m.me/ssencommunity/\">Facebook</a> or Twitter (<a href=\"https://twitter.com/ssencommunity\">@ssencommunity</a>) and quote reference 'HB4557'",
         "Reference": "HB4557",
         "Title": "SO41 Area"
        },
        {
         "AffectedAreas": [
          "BA11 2BA",
          "BA11 2BG",
          "BA11 2BQ"
         ],
         "DepotCode": "38",
         "EstimatedArrivalOnSiteUtc": "/Date(1617967800000)/",
         "EstimatedFaultUpdateTimeUtc": "/Date(-62135596800000)/",
         "EstimatedRestorationTimeUtc": "/Date(1617976800000)/",
         "FaultType": "LV",
         "IsDepot": false,
         "Location": {
          "DisplayText": "51.232990176150437, -2.30715666502925",
          "Latitude": 51.23299017615044,
          "Longitude": -2.30715666502925
         },
         "LoggedAtUtc": "/Date(1617965880000)/",
         "Message": "We’re sorry for the loss of supply. We currently have a fault affecting the areas listed. Our engineers are on site working hard to get the power back on as quickly as they can. If you need more information, please call us on 105 or send us a message on <a href=\"http://m.me/ssencommunity/\">Facebook</a> or Twitter (<a href=\"https://twitter.com/ssencommunity\">@ssencommunity</a>) and quote reference 'HB4541'",
         "Reference": "HB4541",
         "Title": "BA11 Area"
        },
        {
         "AffectedAreas": [
          "OX14 3BN",
          "OX14 4JW",
          "OX14 4LY",
          "OX14 4LZ",
          "OX14 4NA",
          "OX14 4NP",
          "OX14 4QH"
         ],
         "DepotCode": "43",
         "EstimatedArrivalOnSiteUtc": "/Date(1617967800000)/",
         "EstimatedFaultUpdateTimeUtc": "/Date(-62135596800000)/",
         "EstimatedRestorationTimeUtc": "/Date(1617975000000)/",
         "FaultType": "LV",
         "IsDepot": false,
         "Location": {
          "DisplayText": "51.649578720774478, -1.2693224848307587",
          "Latitude": 51.64957872077448,
          "Longitude": -1.2693224848307587
         },
         "LoggedAtUtc": "/Date(1617963660000)/",
         "Message": "We’re sorry for the loss of supply. We currently have a fault affecting the areas listed. Our engineers are on site working hard to get the power back on as quickly as they can. If you need more information, please call us on 105 or send us a message on <a href=\"http://m.me/ssencommunity/\">Facebook</a> or Twitter (<a href=\"https://twitter.com/ssencommunity\">@ssencommunity</a>) and quote reference 'HB4529'",
         "Reference": "HB4529",
         "Title": "OX14 Area"
        },
        {
         "AffectedAreas": [
          "IV54 8YN",
          "IV54 8YU",
          "IV54 8YX"
         ],
         "DepotCode": "41",
         "EstimatedArrivalOnSiteUtc": "/Date(-62135596800000)/",
         "EstimatedFaultUpdateTimeUtc": "/Date(-62135596800000)/",
         "EstimatedRestorationTimeUtc": "/Date(1617976800000)/",
         "FaultType": "HV",
         "IsDepot": false,
         "Location": {
          "DisplayText": "57.440843875993309, -5.396484162017174",
          "Latitude": 57.44084387599331,
          "Longitude": -5.396484162017174
         },
         "LoggedAtUtc": "/Date(1617961500000)/",
         "Message": "We’re sorry for the loss of supply. We currently have a fault affecting the areas listed. Our engineers are on site working hard to get the power back on as quickly as they can. If you need more information, please call us on 105 or send us a message on <a href=\"http://m.me/ssencommunity/\">Facebook</a> or Twitter (<a href=\"https://twitter.com/ssencommunity\">@ssencommunity</a>) and quote reference 'HB4497'",
         "Reference": "HB4497",
         "Title": "IV54 Area"
        },
        {
         "AffectedAreas": [
          "SO32 2BX",
          "SO32 2SZ",
          "SO32 2UA"
         ],
         "DepotCode": "40",
         "EstimatedArrivalOnSiteUtc": "/Date(-62135596800000)/",
         "EstimatedFaultUpdateTimeUtc": "/Date(-62135596800000)/",
         "EstimatedRestorationTimeUtc": "/Date(1617973200000)/",
         "FaultType": "PSI",
         "IsDepot": false,
         "Location": {
          "DisplayText": "50.934647796785939, -1.283923071911369",
          "Latitude": 50.93464779678594,
          "Longitude": -1.283923071911369
         },
         "LoggedAtUtc": "/Date(1617958800000)/",
         "Message": "We're sorry for the loss of supply. The reason you're currently without power is a planned outage in the areas listed. We have turned off your electricity supply to allow us to safely carry out essential work to our electrical equipment. By doing this, it'll help us to improve the reliability of our service to you for the future. If you have any questions or require more information, please call us on 105 or send us a message on <a href=\"http://m.me/ssencommunity/\">Facebook</a> or Twitter (<a href=\"https://twitter.com/ssencommunity\">@ssencommunity</a>) with reference  '198770'. You will have received a letter from us confirming your power will be interrupted with specific information relating to your property. If you did not receive this letter, you can assume your power will not be interrupted.",
         "Reference": "198770",
         "Title": "SO32 Area"
        },
        {
         "AffectedAreas": [
          "PO10 8DD"
         ],
         "DepotCode": "44",
         "EstimatedArrivalOnSiteUtc": "/Date(-62135596800000)/",
         "EstimatedFaultUpdateTimeUtc": "/Date(-62135596800000)/",
         "EstimatedRestorationTimeUtc": "/Date(1617980400000)/",
         "FaultType": "PSI",
         "IsDepot": false,
         "Location": {
          "DisplayText": "50.835669492205014, -0.91876782442871618",
          "Latitude": 50.835669492205014,
          "Longitude": -0.9187678244287162
         },
         "LoggedAtUtc": "/Date(1617958800000)/",
         "Message": "We're sorry for the loss of supply. The reason you're currently without power is a planned outage in the areas listed. We have turned off your electricity supply to allow us to safely carry out essential work to our electrical equipment. By doing this, it'll help us to improve the reliability of our service to you for the future. If you have any questions or require more information, please call us on 105 or send us a message on <a href=\"http://m.me/ssencommunity/\">Facebook</a> or Twitter (<a href=\"https://twitter.com/ssencommunity\">@ssencommunity</a>) with reference  '198548'. You will have received a letter from us confirming your power will be interrupted with specific information relating to your property. If you did not receive this letter, you can assume your power will not be interrupted.",
         "Reference": "198548",
         "Title": "PO10 Area"
        },
        {
         "AffectedAreas": [
          "OX13 6NA",
          "OX27 7SH",
          "OX27 7SJ",
          "OX27 7SP"
         ],
         "DepotCode": "42",
         "EstimatedArrivalOnSiteUtc": "/Date(-62135596800000)/",
         "EstimatedFaultUpdateTimeUtc": "/Date(-62135596800000)/",
         "EstimatedRestorationTimeUtc": "/Date(1617971400000)/",
         "FaultType": "PSI",
         "IsDepot": false,
         "Location": {
          "DisplayText": "51.970447235829269, -1.1897754247159464",
          "Latitude": 51.97044723582927,
          "Longitude": -1.1897754247159464
         },
         "LoggedAtUtc": "/Date(1617957000000)/",
         "Message": "We're sorry for the loss of supply. The reason you're currently without power is a planned outage in the areas listed. We have turned off your electricity supply to allow us to safely carry out essential work to our electrical equipment. By doing this, it'll help us to improve the reliability of our service to you for the future. If you have any questions or require more information, please call us on 105 or send us a message on <a href=\"http://m.me/ssencommunity/\">Facebook</a> or Twitter (<a href=\"https://twitter.com/ssencommunity\">@ssencommunity</a>) with reference  '198695'. You will have received a letter from us confirming your power will be interrupted with specific information relating to your property. If you did not receive this letter, you can assume your power will not be interrupted.",
         "Reference": "198695",
         "Title": "OX27 Area"
        },
        {
         "AffectedAreas": [
          "SL6 3JP"
         ],
         "DepotCode": "49",
         "EstimatedArrivalOnSiteUtc": "/Date(-62135596800000)/",
         "EstimatedFaultUpdateTimeUtc": "/Date(-62135596800000)/",
         "EstimatedRestorationTimeUtc": "/Date(1617973200000)/",
         "FaultType": "PSI",
         "IsDepot": false,
         "Location": {
          "DisplayText": "51.476854163734927, -0.7610373969547356",
          "Latitude": 51.47685416373493,
          "Longitude": -0.7610373969547356
         },
         "LoggedAtUtc": "/Date(1617957000000)/",
         "Message": "We're sorry for the loss of supply. The reason you're currently without power is a planned outage in the areas listed. We have turned off your electricity supply to allow us to safely carry out essential work to our electrical equipment. By doing this, it'll help us to improve the reliability of our service to you for the future. If you have any questions or require more information, please call us on 105 or send us a message on <a href=\"http://m.me/ssencommunity/\">Facebook</a> or Twitter (<a href=\"https://twitter.com/ssencommunity\">@ssencommunity</a>) with reference  '198786'. You will have received a letter from us confirming your power will be interrupted with specific information relating to your property. If you did not receive this letter, you can assume your power will not be interrupted.",
         "Reference": "198786",
         "Title": "SL6 Area"
        },
        {
         "AffectedAreas": [
          "OX49 5EP"
         ],
         "DepotCode": "47",
         "EstimatedArrivalOnSiteUtc": "/Date(-62135596800000)/",
         "EstimatedFaultUpdateTimeUtc": "/Date(-62135596800000)/",
         "EstimatedRestorationTimeUtc": "/Date(1617980400000)/",
         "FaultType": "HV",
         "IsDepot": false,
         "Location": {
          "DisplayText": "51.6297941627527, -1.0045989192814451",
          "Latitude": 51.6297941627527,
          "Longitude": -1.004598919281445
         },
         "LoggedAtUtc": "/Date(1617956760000)/",
         "Message": "We’re sorry for the loss of supply. We currently have a fault affecting the areas listed. Our engineers are on site working hard to get the power back on as quickly as they can. If you need more information, please call us on 105 or send us a message on <a href=\"http://m.me/ssencommunity/\">Facebook</a> or Twitter (<a href=\"https://twitter.com/ssencommunity\">@ssencommunity</a>) and quote reference 'HB4515'",
         "Reference": "HB4515",
         "Title": "OX49 Area"
        },
        {
         "AffectedAreas": [
          "AB42 5EJ",
          "AB42 5LR"
         ],
         "DepotCode": "24",
         "EstimatedArrivalOnSiteUtc": "/Date(-62135596800000)/",
         "EstimatedFaultUpdateTimeUtc": "/Date(-62135596800000)/",
         "EstimatedRestorationTimeUtc": "/Date(1617976800000)/",
         "FaultType": "PSI",
         "IsDepot": false,
         "Location": {
          "DisplayText": "57.524244765133083, -1.9958782833113093",
          "Latitude": 57.52424476513308,
          "Longitude": -1.9958782833113093
         },
         "LoggedAtUtc": "/Date(1617955200000)/",
         "Message": "We're sorry for the loss of supply. The reason you're currently without power is a planned outage in the areas listed. We have turned off your electricity supply to allow us to safely carry out essential work to our electrical equipment. By doing this, it'll help us to improve the reliability of our service to you for the future. If you have any questions or require more information, please call us on 105 or send us a message on <a href=\"http://m.me/ssencommunity/\">Facebook</a> or Twitter (<a href=\"https://twitter.com/ssencommunity\">@ssencommunity</a>) with reference  '198833'. You will have received a letter from us confirming your power will be interrupted with specific information relating to your property. If you did not receive this letter, you can assume your power will not be interrupted.",
         "Reference": "198833",
         "Title": "AB42 Area"
        },
        {
         "AffectedAreas": [
          "OX27 9AA"
         ],
         "DepotCode": "42",
         "EstimatedArrivalOnSiteUtc": "/Date(-62135596800000)/",
         "EstimatedFaultUpdateTimeUtc": "/Date(-62135596800000)/",
         "EstimatedRestorationTimeUtc": "/Date(1617976800000)/",
         "FaultType": "PSI",
         "IsDepot": false,
         "Location": {
          "DisplayText": "51.931460253229147, -1.1169707680691532",
          "Latitude": 51.93146025322915,
          "Longitude": -1.1169707680691532
         },
         "LoggedAtUtc": "/Date(1617955200000)/",
         "Message": "We're sorry for the loss of supply. The reason you're currently without power is a planned outage in the areas listed. We have turned off your electricity supply to allow us to safely carry out essential work to our electrical equipment. By doing this, it'll help us to improve the reliability of our service to you for the future. If you have any questions or require more information, please call us on 105 or send us a message on <a href=\"http://m.me/ssencommunity/\">Facebook</a> or Twitter (<a href=\"https://twitter.com/ssencommunity\">@ssencommunity</a>) with reference  '198349'. You will have received a letter from us confirming your power will be interrupted with specific information relating to your property. If you did not receive this letter, you can assume your power will not be interrupted.",
         "Reference": "198349",
         "Title": "OX27 Area"
        },
        {
         "AffectedAreas": [
          "PH2 6RA",
          "PH2 6RB",
          "PH2 6RG",
          "PH2 6RJ",
          "PH2 6RQ"
         ],
         "DepotCode": "70",
         "EstimatedArrivalOnSiteUtc": "/Date(-62135596800000)/",
         "EstimatedFaultUpdateTimeUtc": "/Date(-62135596800000)/",
         "EstimatedRestorationTimeUtc": "/Date(1617982200000)/",
         "FaultType": "PSI",
         "IsDepot": false,
         "Location": {
          "DisplayText": "56.423229199669557, -3.3982995378604164",
          "Latitude": 56.42322919966956,
          "Longitude": -3.3982995378604164
         },
         "LoggedAtUtc": "/Date(1617955200000)/",
         "Message": "We're sorry for the loss of supply. The reason you're currently without power is a planned outage in the areas listed. We have turned off your electricity supply to allow us to safely carry out essential work to our electrical equipment. By doing this, it'll help us to improve the reliability of our service to you for the future. If you have any questions or require more information, please call us on 105 or send us a message on <a href=\"http://m.me/ssencommunity/\">Facebook</a> or Twitter (<a href=\"https://twitter.com/ssencommunity\">@ssencommunity</a>) with reference  '198651'. You will have received a letter from us confirming your power will be interrupted with specific information relating to your property. If you did not receive this letter, you can assume your power will not be interrupted.",
         "Reference": "198651",
         "Title": "PH2 Area"
        },
        {
         "AffectedAreas": [
          "HP14 4BP",
          "HP14 4BU",
          "HP14 4BX",
          "HP14 4BY",
          "HP14 4BZ",
          "HP14 4EQ"
         ],
         "DepotCode": "49",
         "EstimatedArrivalOnSiteUtc": "/Date(-62135596800000)/",
         "EstimatedFaultUpdateTimeUtc": "/Date(-62135596800000)/",
         "EstimatedRestorationTimeUtc": "/Date(1617980400000)/",
         "FaultType": "PSI",
         "IsDepot": false,
         "Location": {
          "DisplayText": "51.6561625553252, -0.84415039006796988",
          "Latitude": 51.6561625553252,
          "Longitude": -0.8441503900679699
         },
         "LoggedAtUtc": "/Date(1617955200000)/",
         "Message": "We're sorry for the loss of supply. The reason you're currently without power is a planned outage in the areas listed. We have turned off your electricity supply to allow us to safely carry out essential work to our electrical equipment. By doing this, it'll help us to improve the reliability of our service to you for the future. If you have any questions or require more information, please call us on 105 or send us a message on <a href=\"http://m.me/ssencommunity/\">Facebook</a> or Twitter (<a href=\"https://twitter.com/ssencommunity\">@ssencommunity</a>) with reference  '198851'. You will have received a letter from us confirming your power will be interrupted with specific information relating to your property. If you did not receive this letter, you can assume your power will not be interrupted.",
         "Reference": "198851",
         "Title": "HP14 Area"
        },
        {
         "AffectedAreas": [
          "KY13 9HB"
         ],
         "DepotCode": "70",
         "EstimatedArrivalOnSiteUtc": "/Date(-62135596800000)/",
         "EstimatedFaultUpdateTimeUtc": "/Date(-62135596800000)/",
         "EstimatedRestorationTimeUtc": "/Date(1617978600000)/",
         "FaultType": "PSI",
         "IsDepot": false,
         "Location": {
          "DisplayText": "56.222000922404355, -3.3713660119619178",
          "Latitude": 56.222000922404355,
          "Longitude": -3.3713660119619178
         },
         "LoggedAtUtc": "/Date(1617955200000)/",
         "Message": "We're sorry for the loss of supply. The reason you're currently without power is a planned outage in the areas listed. We have turned off your electricity supply to allow us to safely carry out essential work to our electrical equipment. By doing this, it'll help us to improve the reliability of our service to you for the future. If you have any questions or require more information, please call us on 105 or send us a message on <a href=\"http://m.me/ssencommunity/\">Facebook</a> or Twitter (<a href=\"https://twitter.com/ssencommunity\">@ssencommunity</a>) with reference  '198486'. You will have received a letter from us confirming your power will be interrupted with specific information relating to your property. If you did not receive this letter, you can assume your power will not be interrupted.",
         "Reference": "198486",
         "Title": "KY13 Area"
        },
        {
         "AffectedAreas": [
          "GU16 6DH",
          "GU16 6HE",
          "GU16 6HG",
          "GU16 6LN",
          "GU16 6LP",
          "GU16 6LR",
          "GU16 6LS",
          "GU16 6LU",
          "GU16 6LW",
          "GU16 6LX",
          "GU16 6LZ"
         ],
         "DepotCode": "29",
         "EstimatedArrivalOnSiteUtc": "/Date(-62135596800000)/",
         "EstimatedFaultUpdateTimeUtc": "/Date(-62135596800000)/",
         "EstimatedRestorationTimeUtc": "/Date(1617978600000)/",
         "FaultType": "PSI",
         "IsDepot": false,
         "Location": {
          "DisplayText": "51.302734374571116, -0.73110168061160252",
          "Latitude": 51.302734374571116,
          "Longitude": -0.7311016806116025
         },
         "LoggedAtUtc": "/Date(1617953400000)/",
         "Message": "We're sorry for the loss of supply. The reason you're currently without power is a planned outage in the areas listed. We have turned off your electricity supply to allow us to safely carry out essential work to our electrical equipment. By doing this, it'll help us to improve the reliability of our service to you for the future. If you have any questions or require more information, please call us on 105 or send us a message on <a href=\"http://m.me/ssencommunity/\">Facebook</a> or Twitter (<a href=\"https://twitter.com/ssencommunity\">@ssencommunity</a>) with reference  '198608'. You will have received a letter from us confirming your power will be interrupted with specific information relating to your property. If you did not receive this letter, you can assume your power will not be interrupted.",
         "Reference": "198608",
         "Title": "GU16 Area"
        },
        {
         "AffectedAreas": [
          "SO50 7DQ",
          "SO50 7DU",
          "SO50 7FJ",
          "SO50 7PA",
          "SO50 7PB",
          "SO50 7PF"
         ],
         "DepotCode": "40",
         "EstimatedArrivalOnSiteUtc": "/Date(-62135596800000)/",
         "EstimatedFaultUpdateTimeUtc": "/Date(-62135596800000)/",
         "EstimatedRestorationTimeUtc": "/Date(1617985800000)/",
         "FaultType": "LV",
         "IsDepot": false,
         "Location": {
          "DisplayText": "50.949827392613052, -1.2972992192882331",
          "Latitude": 50.94982739261305,
          "Longitude": -1.297299219288233
         },
         "LoggedAtUtc": "/Date(1617942960000)/",
         "Message": "We’re sorry for the loss of supply. We currently have a fault affecting the areas listed. Our engineers are on site working hard to get the power back on as quickly as they can. If you need more information, please call us on 105 or send us a message on <a href=\"http://m.me/ssencommunity/\">Facebook</a> or Twitter (<a href=\"https://twitter.com/ssencommunity\">@ssencommunity</a>) and quote reference 'HB4396'",
         "Reference": "HB4396",
         "Title": "SO50 Area"
        },
        {
         "AffectedAreas": [
          "IV3",
          "IV3 5LB",
          "IV3 5LD",
          "IV3 5LE",
          "IV3 5LG",
          "IV3 5LH",
          "IV3 5LP",
          "IV3 5LQ",
          "IV3 5LR",
          "IV3 8HW"
         ],
         "DepotCode": "41",
         "EstimatedArrivalOnSiteUtc": "/Date(1617935400000)/",
         "EstimatedFaultUpdateTimeUtc": "/Date(-62135596800000)/",
         "EstimatedRestorationTimeUtc": "/Date(-62135596800000)/",
         "FaultType": "LV",
         "IsDepot": false,
         "Location": {
          "DisplayText": "57.480372789947261, -4.2419424333695845",
          "Latitude": 57.48037278994726,
          "Longitude": -4.2419424333695845
         },
         "LoggedAtUtc": "/Date(1617932880000)/",
         "Message": "We’re sorry for the loss of supply. We currently have a fault affecting the areas listed. Our engineers are on their way to site to get the power back on as quickly as they can. please call us on 105 or send us a message on <a href=\"http://m.me/ssencommunity/\">Facebook</a> or Twitter (<a href=\"https://twitter.com/ssencommunity\">@ssencommunity</a>) and quote reference 'HB4370'",
         "Reference": "HB4370",
         "Title": "IV3 Area"
        }
       ],
       "Message": "17 reported faults",
       "TimestampUtc": "/Date(1617969613000)/",
       "Uri": "http://api.sse.com/powerdistribution/network/v3/api/faults/"
      },
      "text/plain": [
       "<IPython.core.display.JSON object>"
      ]
     },
     "execution_count": 25,
     "metadata": {
      "application/json": {
       "expanded": false,
       "root": "root"
      }
     },
     "output_type": "execute_result"
    }
   ],
   "source": [
    "url = 'https://www.ssen.co.uk/Sse_Components/Views/Controls/FormControls/PowerTrackHandler.ashx'\n",
    "\n",
    "r_json = requests.get(url, verify=False).json()\n",
    "\n",
    "JSON(r_json)"
   ]
  },
  {
   "cell_type": "code",
   "execution_count": null,
   "id": "integrated-insight",
   "metadata": {},
   "outputs": [],
   "source": []
  },
  {
   "cell_type": "code",
   "execution_count": 26,
   "id": "electric-reducing",
   "metadata": {},
   "outputs": [],
   "source": [
    "#exports\n",
    "def clean_ssen_incident_info(incident):\n",
    "    ssen_relevant_dates_name_mapping = { \n",
    "        'LoggedAtUtc': 'received_time',\n",
    "        'EstimatedArrivalOnSiteUtc': 'estimated_arrival_time',\n",
    "        'EstimatedRestorationTimeUtc': 'estimated_restored_time'\n",
    "     }\n",
    "\n",
    "    cleaned_incident_info = dict()\n",
    "\n",
    "    for old_dt_name, new_dt_name in ssen_relevant_dates_name_mapping.items():\n",
    "        dt_str = incident[old_dt_name].split('(')[1].split(')')[0]\n",
    "\n",
    "        if dt_str != '-62135596800000':\n",
    "            try:\n",
    "                dt = pd.to_datetime(int(dt_str)*1e6).strftime('%Y-%m-%d %H:%M:%S')\n",
    "            except:\n",
    "                warn(f'{dt_str} could not be parsed to a date')\n",
    "                dt = None\n",
    "        else:\n",
    "            dt = None\n",
    "\n",
    "        cleaned_incident_info[new_dt_name] = dt\n",
    "\n",
    "    cleaned_incident_info['postcodes_impacted'] = incident['AffectedAreas']\n",
    "    cleaned_incident_info['description'] = incident['Message']\n",
    "    cleaned_incident_info['incident_active'] = True\n",
    "    cleaned_incident_info['incident_url'] = 'https://www.ssen.co.uk/Powertrack/'\n",
    "    \n",
    "    return cleaned_incident_info"
   ]
  },
  {
   "cell_type": "code",
   "execution_count": null,
   "id": "nuclear-translation",
   "metadata": {},
   "outputs": [],
   "source": []
  },
  {
   "cell_type": "code",
   "execution_count": 27,
   "id": "controlling-contents",
   "metadata": {},
   "outputs": [
    {
     "data": {
      "application/json": {
       "description": "We’re sorry for the loss of supply. We currently have a fault affecting the areas listed. Our engineers are on site working hard to get the power back on as quickly as they can. If you need more information, please call us on 105 or send us a message on <a href=\"http://m.me/ssencommunity/\">Facebook</a> or Twitter (<a href=\"https://twitter.com/ssencommunity\">@ssencommunity</a>) and quote reference 'HB4557'",
       "estimated_arrival_time": "2021-04-09 12:15:00",
       "estimated_restored_time": "2021-04-09 15:00:00",
       "incident_active": true,
       "incident_url": "https://www.ssen.co.uk/Powertrack/",
       "postcodes_impacted": [
        "SO41 3RU",
        "SO41 3SE",
        "SO41 9ZG"
       ],
       "received_time": "2021-04-09 11:22:00"
      },
      "text/plain": [
       "<IPython.core.display.JSON object>"
      ]
     },
     "execution_count": 27,
     "metadata": {
      "application/json": {
       "expanded": false,
       "root": "root"
      }
     },
     "output_type": "execute_result"
    }
   ],
   "source": [
    "incident = r_json['Faults'][0]\n",
    "\n",
    "cleaned_incident_info = clean_ssen_incident_info(incident)\n",
    "    \n",
    "JSON(cleaned_incident_info)"
   ]
  },
  {
   "cell_type": "code",
   "execution_count": null,
   "id": "respective-mills",
   "metadata": {},
   "outputs": [],
   "source": []
  },
  {
   "cell_type": "code",
   "execution_count": 28,
   "id": "dedicated-intake",
   "metadata": {},
   "outputs": [],
   "source": [
    "#exports\n",
    "def get_ssen_incidents_info(incidents_url='https://www.ssen.co.uk/Sse_Components/Views/Controls/FormControls/PowerTrackHandler.ashx'):\n",
    "    raw_incidents_info = requests.get(incidents_url, verify=False).json()\n",
    "    cleaned_incidents_info = dict()\n",
    "\n",
    "    for incident in track(raw_incidents_info['Faults']):\n",
    "        incident_ref = incident['Reference']\n",
    "        cleaned_incidents_info[incident_ref] = clean_ssen_incident_info(incident)\n",
    "        \n",
    "    return raw_incidents_info, cleaned_incidents_info"
   ]
  },
  {
   "cell_type": "code",
   "execution_count": 29,
   "id": "clinical-fourth",
   "metadata": {},
   "outputs": [
    {
     "name": "stderr",
     "output_type": "stream",
     "text": [
      "C:\\Users\\Ayrto\\anaconda3\\envs\\outage\\lib\\site-packages\\urllib3\\connectionpool.py:1020: InsecureRequestWarning: Unverified HTTPS request is being made to host 'www.ssen.co.uk'. Adding certificate verification is strongly advised. See: https://urllib3.readthedocs.io/en/latest/advanced-usage.html#ssl-warnings\n",
      "  InsecureRequestWarning,\n"
     ]
    },
    {
     "data": {
      "text/html": [
       "<div><span class=\"Text-label\" style=\"display:inline-block; overflow:hidden; white-space:nowrap; text-overflow:ellipsis; min-width:0; max-width:15ex; vertical-align:middle; text-align:right\"></span>\n",
       "<progress style=\"width:60ex\" max=\"17\" value=\"17\" class=\"Progress-main\"/></progress>\n",
       "<span class=\"Progress-label\"><strong>100%</strong></span>\n",
       "<span class=\"Iteration-label\">17/17</span>\n",
       "<span class=\"Time-label\">[00:00<00:00, 0.00s/it]</span></div>"
      ],
      "text/plain": [
       "\u001b[A\u001b[2K\r",
       " [████████████████████████████████████████████████████████████] 17/17 [00:00<00:00, 0.00s/it]"
      ]
     },
     "metadata": {},
     "output_type": "display_data"
    },
    {
     "data": {
      "application/json": [
       {
        "198349": {
         "description": "We're sorry for the loss of supply. The reason you're currently without power is a planned outage in the areas listed. We have turned off your electricity supply to allow us to safely carry out essential work to our electrical equipment. By doing this, it'll help us to improve the reliability of our service to you for the future. If you have any questions or require more information, please call us on 105 or send us a message on <a href=\"http://m.me/ssencommunity/\">Facebook</a> or Twitter (<a href=\"https://twitter.com/ssencommunity\">@ssencommunity</a>) with reference  '198349'. You will have received a letter from us confirming your power will be interrupted with specific information relating to your property. If you did not receive this letter, you can assume your power will not be interrupted.",
         "estimated_arrival_time": null,
         "estimated_restored_time": "2021-04-09 14:00:00",
         "incident_active": true,
         "incident_url": "https://www.ssen.co.uk/Powertrack/",
         "postcodes_impacted": [
          "OX27 9AA"
         ],
         "received_time": "2021-04-09 08:00:00"
        },
        "198486": {
         "description": "We're sorry for the loss of supply. The reason you're currently without power is a planned outage in the areas listed. We have turned off your electricity supply to allow us to safely carry out essential work to our electrical equipment. By doing this, it'll help us to improve the reliability of our service to you for the future. If you have any questions or require more information, please call us on 105 or send us a message on <a href=\"http://m.me/ssencommunity/\">Facebook</a> or Twitter (<a href=\"https://twitter.com/ssencommunity\">@ssencommunity</a>) with reference  '198486'. You will have received a letter from us confirming your power will be interrupted with specific information relating to your property. If you did not receive this letter, you can assume your power will not be interrupted.",
         "estimated_arrival_time": null,
         "estimated_restored_time": "2021-04-09 14:30:00",
         "incident_active": true,
         "incident_url": "https://www.ssen.co.uk/Powertrack/",
         "postcodes_impacted": [
          "KY13 9HB"
         ],
         "received_time": "2021-04-09 08:00:00"
        },
        "198548": {
         "description": "We're sorry for the loss of supply. The reason you're currently without power is a planned outage in the areas listed. We have turned off your electricity supply to allow us to safely carry out essential work to our electrical equipment. By doing this, it'll help us to improve the reliability of our service to you for the future. If you have any questions or require more information, please call us on 105 or send us a message on <a href=\"http://m.me/ssencommunity/\">Facebook</a> or Twitter (<a href=\"https://twitter.com/ssencommunity\">@ssencommunity</a>) with reference  '198548'. You will have received a letter from us confirming your power will be interrupted with specific information relating to your property. If you did not receive this letter, you can assume your power will not be interrupted.",
         "estimated_arrival_time": null,
         "estimated_restored_time": "2021-04-09 15:00:00",
         "incident_active": true,
         "incident_url": "https://www.ssen.co.uk/Powertrack/",
         "postcodes_impacted": [
          "PO10 8DD"
         ],
         "received_time": "2021-04-09 09:00:00"
        },
        "198608": {
         "description": "We're sorry for the loss of supply. The reason you're currently without power is a planned outage in the areas listed. We have turned off your electricity supply to allow us to safely carry out essential work to our electrical equipment. By doing this, it'll help us to improve the reliability of our service to you for the future. If you have any questions or require more information, please call us on 105 or send us a message on <a href=\"http://m.me/ssencommunity/\">Facebook</a> or Twitter (<a href=\"https://twitter.com/ssencommunity\">@ssencommunity</a>) with reference  '198608'. You will have received a letter from us confirming your power will be interrupted with specific information relating to your property. If you did not receive this letter, you can assume your power will not be interrupted.",
         "estimated_arrival_time": null,
         "estimated_restored_time": "2021-04-09 14:30:00",
         "incident_active": true,
         "incident_url": "https://www.ssen.co.uk/Powertrack/",
         "postcodes_impacted": [
          "GU16 6DH",
          "GU16 6HE",
          "GU16 6HG",
          "GU16 6LN",
          "GU16 6LP",
          "GU16 6LR",
          "GU16 6LS",
          "GU16 6LU",
          "GU16 6LW",
          "GU16 6LX",
          "GU16 6LZ"
         ],
         "received_time": "2021-04-09 07:30:00"
        },
        "198651": {
         "description": "We're sorry for the loss of supply. The reason you're currently without power is a planned outage in the areas listed. We have turned off your electricity supply to allow us to safely carry out essential work to our electrical equipment. By doing this, it'll help us to improve the reliability of our service to you for the future. If you have any questions or require more information, please call us on 105 or send us a message on <a href=\"http://m.me/ssencommunity/\">Facebook</a> or Twitter (<a href=\"https://twitter.com/ssencommunity\">@ssencommunity</a>) with reference  '198651'. You will have received a letter from us confirming your power will be interrupted with specific information relating to your property. If you did not receive this letter, you can assume your power will not be interrupted.",
         "estimated_arrival_time": null,
         "estimated_restored_time": "2021-04-09 15:30:00",
         "incident_active": true,
         "incident_url": "https://www.ssen.co.uk/Powertrack/",
         "postcodes_impacted": [
          "PH2 6RA",
          "PH2 6RB",
          "PH2 6RG",
          "PH2 6RJ",
          "PH2 6RQ"
         ],
         "received_time": "2021-04-09 08:00:00"
        },
        "198695": {
         "description": "We're sorry for the loss of supply. The reason you're currently without power is a planned outage in the areas listed. We have turned off your electricity supply to allow us to safely carry out essential work to our electrical equipment. By doing this, it'll help us to improve the reliability of our service to you for the future. If you have any questions or require more information, please call us on 105 or send us a message on <a href=\"http://m.me/ssencommunity/\">Facebook</a> or Twitter (<a href=\"https://twitter.com/ssencommunity\">@ssencommunity</a>) with reference  '198695'. You will have received a letter from us confirming your power will be interrupted with specific information relating to your property. If you did not receive this letter, you can assume your power will not be interrupted.",
         "estimated_arrival_time": null,
         "estimated_restored_time": "2021-04-09 12:30:00",
         "incident_active": true,
         "incident_url": "https://www.ssen.co.uk/Powertrack/",
         "postcodes_impacted": [
          "OX13 6NA",
          "OX27 7SH",
          "OX27 7SJ",
          "OX27 7SP"
         ],
         "received_time": "2021-04-09 08:30:00"
        },
        "198770": {
         "description": "We're sorry for the loss of supply. The reason you're currently without power is a planned outage in the areas listed. We have turned off your electricity supply to allow us to safely carry out essential work to our electrical equipment. By doing this, it'll help us to improve the reliability of our service to you for the future. If you have any questions or require more information, please call us on 105 or send us a message on <a href=\"http://m.me/ssencommunity/\">Facebook</a> or Twitter (<a href=\"https://twitter.com/ssencommunity\">@ssencommunity</a>) with reference  '198770'. You will have received a letter from us confirming your power will be interrupted with specific information relating to your property. If you did not receive this letter, you can assume your power will not be interrupted.",
         "estimated_arrival_time": null,
         "estimated_restored_time": "2021-04-09 13:00:00",
         "incident_active": true,
         "incident_url": "https://www.ssen.co.uk/Powertrack/",
         "postcodes_impacted": [
          "SO32 2BX",
          "SO32 2SZ",
          "SO32 2UA"
         ],
         "received_time": "2021-04-09 09:00:00"
        },
        "198786": {
         "description": "We're sorry for the loss of supply. The reason you're currently without power is a planned outage in the areas listed. We have turned off your electricity supply to allow us to safely carry out essential work to our electrical equipment. By doing this, it'll help us to improve the reliability of our service to you for the future. If you have any questions or require more information, please call us on 105 or send us a message on <a href=\"http://m.me/ssencommunity/\">Facebook</a> or Twitter (<a href=\"https://twitter.com/ssencommunity\">@ssencommunity</a>) with reference  '198786'. You will have received a letter from us confirming your power will be interrupted with specific information relating to your property. If you did not receive this letter, you can assume your power will not be interrupted.",
         "estimated_arrival_time": null,
         "estimated_restored_time": "2021-04-09 13:00:00",
         "incident_active": true,
         "incident_url": "https://www.ssen.co.uk/Powertrack/",
         "postcodes_impacted": [
          "SL6 3JP"
         ],
         "received_time": "2021-04-09 08:30:00"
        },
        "198833": {
         "description": "We're sorry for the loss of supply. The reason you're currently without power is a planned outage in the areas listed. We have turned off your electricity supply to allow us to safely carry out essential work to our electrical equipment. By doing this, it'll help us to improve the reliability of our service to you for the future. If you have any questions or require more information, please call us on 105 or send us a message on <a href=\"http://m.me/ssencommunity/\">Facebook</a> or Twitter (<a href=\"https://twitter.com/ssencommunity\">@ssencommunity</a>) with reference  '198833'. You will have received a letter from us confirming your power will be interrupted with specific information relating to your property. If you did not receive this letter, you can assume your power will not be interrupted.",
         "estimated_arrival_time": null,
         "estimated_restored_time": "2021-04-09 14:00:00",
         "incident_active": true,
         "incident_url": "https://www.ssen.co.uk/Powertrack/",
         "postcodes_impacted": [
          "AB42 5EJ",
          "AB42 5LR"
         ],
         "received_time": "2021-04-09 08:00:00"
        },
        "198851": {
         "description": "We're sorry for the loss of supply. The reason you're currently without power is a planned outage in the areas listed. We have turned off your electricity supply to allow us to safely carry out essential work to our electrical equipment. By doing this, it'll help us to improve the reliability of our service to you for the future. If you have any questions or require more information, please call us on 105 or send us a message on <a href=\"http://m.me/ssencommunity/\">Facebook</a> or Twitter (<a href=\"https://twitter.com/ssencommunity\">@ssencommunity</a>) with reference  '198851'. You will have received a letter from us confirming your power will be interrupted with specific information relating to your property. If you did not receive this letter, you can assume your power will not be interrupted.",
         "estimated_arrival_time": null,
         "estimated_restored_time": "2021-04-09 15:00:00",
         "incident_active": true,
         "incident_url": "https://www.ssen.co.uk/Powertrack/",
         "postcodes_impacted": [
          "HP14 4BP",
          "HP14 4BU",
          "HP14 4BX",
          "HP14 4BY",
          "HP14 4BZ",
          "HP14 4EQ"
         ],
         "received_time": "2021-04-09 08:00:00"
        },
        "HB4370": {
         "description": "We’re sorry for the loss of supply. We currently have a fault affecting the areas listed. Our engineers are on their way to site to get the power back on as quickly as they can. please call us on 105 or send us a message on <a href=\"http://m.me/ssencommunity/\">Facebook</a> or Twitter (<a href=\"https://twitter.com/ssencommunity\">@ssencommunity</a>) and quote reference 'HB4370'",
         "estimated_arrival_time": "2021-04-09 02:30:00",
         "estimated_restored_time": null,
         "incident_active": true,
         "incident_url": "https://www.ssen.co.uk/Powertrack/",
         "postcodes_impacted": [
          "IV3",
          "IV3 5LB",
          "IV3 5LD",
          "IV3 5LE",
          "IV3 5LG",
          "IV3 5LH",
          "IV3 5LP",
          "IV3 5LQ",
          "IV3 5LR",
          "IV3 8HW"
         ],
         "received_time": "2021-04-09 01:48:00"
        },
        "HB4396": {
         "description": "We’re sorry for the loss of supply. We currently have a fault affecting the areas listed. Our engineers are on site working hard to get the power back on as quickly as they can. If you need more information, please call us on 105 or send us a message on <a href=\"http://m.me/ssencommunity/\">Facebook</a> or Twitter (<a href=\"https://twitter.com/ssencommunity\">@ssencommunity</a>) and quote reference 'HB4396'",
         "estimated_arrival_time": null,
         "estimated_restored_time": "2021-04-09 16:30:00",
         "incident_active": true,
         "incident_url": "https://www.ssen.co.uk/Powertrack/",
         "postcodes_impacted": [
          "SO50 7DQ",
          "SO50 7DU",
          "SO50 7FJ",
          "SO50 7PA",
          "SO50 7PB",
          "SO50 7PF"
         ],
         "received_time": "2021-04-09 04:36:00"
        },
        "HB4497": {
         "description": "We’re sorry for the loss of supply. We currently have a fault affecting the areas listed. Our engineers are on site working hard to get the power back on as quickly as they can. If you need more information, please call us on 105 or send us a message on <a href=\"http://m.me/ssencommunity/\">Facebook</a> or Twitter (<a href=\"https://twitter.com/ssencommunity\">@ssencommunity</a>) and quote reference 'HB4497'",
         "estimated_arrival_time": null,
         "estimated_restored_time": "2021-04-09 14:00:00",
         "incident_active": true,
         "incident_url": "https://www.ssen.co.uk/Powertrack/",
         "postcodes_impacted": [
          "IV54 8YN",
          "IV54 8YU",
          "IV54 8YX"
         ],
         "received_time": "2021-04-09 09:45:00"
        },
        "HB4515": {
         "description": "We’re sorry for the loss of supply. We currently have a fault affecting the areas listed. Our engineers are on site working hard to get the power back on as quickly as they can. If you need more information, please call us on 105 or send us a message on <a href=\"http://m.me/ssencommunity/\">Facebook</a> or Twitter (<a href=\"https://twitter.com/ssencommunity\">@ssencommunity</a>) and quote reference 'HB4515'",
         "estimated_arrival_time": null,
         "estimated_restored_time": "2021-04-09 15:00:00",
         "incident_active": true,
         "incident_url": "https://www.ssen.co.uk/Powertrack/",
         "postcodes_impacted": [
          "OX49 5EP"
         ],
         "received_time": "2021-04-09 08:26:00"
        },
        "HB4529": {
         "description": "We’re sorry for the loss of supply. We currently have a fault affecting the areas listed. Our engineers are on site working hard to get the power back on as quickly as they can. If you need more information, please call us on 105 or send us a message on <a href=\"http://m.me/ssencommunity/\">Facebook</a> or Twitter (<a href=\"https://twitter.com/ssencommunity\">@ssencommunity</a>) and quote reference 'HB4529'",
         "estimated_arrival_time": "2021-04-09 11:30:00",
         "estimated_restored_time": "2021-04-09 13:30:00",
         "incident_active": true,
         "incident_url": "https://www.ssen.co.uk/Powertrack/",
         "postcodes_impacted": [
          "OX14 3BN",
          "OX14 4JW",
          "OX14 4LY",
          "OX14 4LZ",
          "OX14 4NA",
          "OX14 4NP",
          "OX14 4QH"
         ],
         "received_time": "2021-04-09 10:21:00"
        },
        "HB4541": {
         "description": "We’re sorry for the loss of supply. We currently have a fault affecting the areas listed. Our engineers are on site working hard to get the power back on as quickly as they can. If you need more information, please call us on 105 or send us a message on <a href=\"http://m.me/ssencommunity/\">Facebook</a> or Twitter (<a href=\"https://twitter.com/ssencommunity\">@ssencommunity</a>) and quote reference 'HB4541'",
         "estimated_arrival_time": "2021-04-09 11:30:00",
         "estimated_restored_time": "2021-04-09 14:00:00",
         "incident_active": true,
         "incident_url": "https://www.ssen.co.uk/Powertrack/",
         "postcodes_impacted": [
          "BA11 2BA",
          "BA11 2BG",
          "BA11 2BQ"
         ],
         "received_time": "2021-04-09 10:58:00"
        },
        "HB4557": {
         "description": "We’re sorry for the loss of supply. We currently have a fault affecting the areas listed. Our engineers are on site working hard to get the power back on as quickly as they can. If you need more information, please call us on 105 or send us a message on <a href=\"http://m.me/ssencommunity/\">Facebook</a> or Twitter (<a href=\"https://twitter.com/ssencommunity\">@ssencommunity</a>) and quote reference 'HB4557'",
         "estimated_arrival_time": "2021-04-09 12:15:00",
         "estimated_restored_time": "2021-04-09 15:00:00",
         "incident_active": true,
         "incident_url": "https://www.ssen.co.uk/Powertrack/",
         "postcodes_impacted": [
          "SO41 3RU",
          "SO41 3SE",
          "SO41 9ZG"
         ],
         "received_time": "2021-04-09 11:22:00"
        }
       }
      ],
      "text/plain": [
       "<IPython.core.display.JSON object>"
      ]
     },
     "execution_count": 29,
     "metadata": {
      "application/json": {
       "expanded": false,
       "root": "root"
      }
     },
     "output_type": "execute_result"
    }
   ],
   "source": [
    "raw_incidents_info, cleaned_incidents_info = get_ssen_incidents_info()\n",
    "\n",
    "JSON([cleaned_incidents_info])"
   ]
  },
  {
   "cell_type": "code",
   "execution_count": null,
   "id": "destroyed-crack",
   "metadata": {},
   "outputs": [],
   "source": []
  },
  {
   "cell_type": "code",
   "execution_count": 30,
   "id": "bearing-identification",
   "metadata": {
    "tags": []
   },
   "outputs": [],
   "source": [
    "save_json_data(raw_incidents_info, 'ssen_incidents_info')"
   ]
  },
  {
   "cell_type": "markdown",
   "id": "technical-medicare",
   "metadata": {},
   "source": [
    "<br>\n",
    "\n",
    "### Western Power Distribution\n",
    "\n",
    "https://powercuts.westernpower.co.uk/"
   ]
  },
  {
   "cell_type": "code",
   "execution_count": 31,
   "id": "wooden-doctor",
   "metadata": {},
   "outputs": [],
   "source": [
    "#exports\n",
    "def get_wpd_incident_feed(url='https://powercuts.westernpower.co.uk'):\n",
    "    r = requests.get(url)\n",
    "\n",
    "    raw_incidents_info = json.loads(html.unescape(r.text.split('data-ng-init=\"init(')[1].split(')\"></div><div id=\"powercuts\"')[0]))\n",
    "    feed = json.loads(raw_incidents_info['feed'])\n",
    "    \n",
    "    return feed"
   ]
  },
  {
   "cell_type": "code",
   "execution_count": 32,
   "id": "pleased-queue",
   "metadata": {},
   "outputs": [
    {
     "data": {
      "application/json": {
       "incidents": [
        {
         "id": "INCD-125316-B",
         "loc": [
          51.22132,
          -3.848773
         ]
        },
        {
         "id": "INCD-37157-C",
         "loc": [
          51.34758,
          -2.771629
         ]
        },
        {
         "id": "INCD-125315-B",
         "loc": [
          51.24875,
          -2.432427
         ]
        },
        {
         "id": "INCD-48349-Y",
         "loc": [
          50.35153,
          -4.71603
         ]
        },
        {
         "id": "INCD-74821-T",
         "loc": [
          51.12732,
          -3.291966
         ]
        },
        {
         "id": "INCD-48354-Y",
         "loc": [
          50.41768,
          -3.579389
         ]
        },
        {
         "id": "INCD-1503-g",
         "loc": [
          51.761,
          -4.637687
         ]
        },
        {
         "id": "INCD-357496-G",
         "loc": [
          52.21255,
          -2.228767
         ]
        },
        {
         "id": "INCD-416124-E",
         "loc": [
          52.40317,
          -1.949364
         ]
        },
        {
         "id": "INCD-357472-G",
         "loc": [
          51.86326,
          -2.229298
         ]
        },
        {
         "id": "INCD-152203-H",
         "loc": [
          52.91804,
          -1.238791
         ]
        },
        {
         "id": "INCD-152066-H",
         "loc": [
          52.92544,
          -1.48437
         ]
        }
       ],
       "lastUpdated": 1617969180000
      },
      "text/plain": [
       "<IPython.core.display.JSON object>"
      ]
     },
     "execution_count": 32,
     "metadata": {
      "application/json": {
       "expanded": false,
       "root": "root"
      }
     },
     "output_type": "execute_result"
    }
   ],
   "source": [
    "feed = get_wpd_incident_feed()\n",
    "\n",
    "JSON(feed)"
   ]
  },
  {
   "cell_type": "code",
   "execution_count": null,
   "id": "desirable-generation",
   "metadata": {},
   "outputs": [],
   "source": []
  },
  {
   "cell_type": "code",
   "execution_count": 33,
   "id": "excellent-patio",
   "metadata": {
    "tags": []
   },
   "outputs": [
    {
     "data": {
      "text/plain": [
       "['INCD-125316-B',\n",
       " 'INCD-37157-C',\n",
       " 'INCD-125315-B',\n",
       " 'INCD-48349-Y',\n",
       " 'INCD-74821-T']"
      ]
     },
     "execution_count": 33,
     "metadata": {},
     "output_type": "execute_result"
    }
   ],
   "source": [
    "incident_ids = [incident['id'] for incident in feed['incidents']]\n",
    "\n",
    "incident_ids[:5]"
   ]
  },
  {
   "cell_type": "code",
   "execution_count": null,
   "id": "composite-wagon",
   "metadata": {},
   "outputs": [],
   "source": []
  },
  {
   "cell_type": "code",
   "execution_count": 34,
   "id": "approved-lincoln",
   "metadata": {},
   "outputs": [],
   "source": [
    "#exports\n",
    "wpd_incident_id_to_url = lambda incident_id: f'https://powercuts.westernpower.co.uk/__powercuts/getIncidentById?incidentId={incident_id}'"
   ]
  },
  {
   "cell_type": "code",
   "execution_count": 35,
   "id": "suitable-priority",
   "metadata": {},
   "outputs": [
    {
     "data": {
      "application/json": {
       "areas": [
        "EX31"
       ],
       "confirmedOff": 2,
       "etr": 1617996600000,
       "id": "INCD-125316-B",
       "lastUpdated": 1617969180000,
       "planned": false,
       "postcodes": [
        "EX31 4QN",
        "EX31 4RA"
       ],
       "predictedOff": 0,
       "priorityOff": 0,
       "region": "South West",
       "restored": 240,
       "startTime": 1617961620000,
       "status": "In Progress",
       "totalOff": 2,
       "voltage": "HV"
      },
      "text/plain": [
       "<IPython.core.display.JSON object>"
      ]
     },
     "execution_count": 35,
     "metadata": {
      "application/json": {
       "expanded": false,
       "root": "root"
      }
     },
     "output_type": "execute_result"
    }
   ],
   "source": [
    "incident_id = incident_ids[0]\n",
    "\n",
    "incident_url = wpd_incident_id_to_url(incident_id)\n",
    "r_json = requests.get(incident_url).json()\n",
    "\n",
    "JSON(r_json)"
   ]
  },
  {
   "cell_type": "code",
   "execution_count": null,
   "id": "rolled-vatican",
   "metadata": {},
   "outputs": [],
   "source": []
  },
  {
   "cell_type": "code",
   "execution_count": 36,
   "id": "catholic-basics",
   "metadata": {},
   "outputs": [],
   "source": [
    "#exports\n",
    "def clean_wpd_incident_info(incident):\n",
    "    wpd_relevant_dates_name_mapping = { \n",
    "        'startTime': 'received_time',\n",
    "        'etr': 'estimated_restored_time'\n",
    "     }\n",
    "\n",
    "    cleaned_incident_info = dict()\n",
    "\n",
    "    for old_dt_name, new_dt_name in wpd_relevant_dates_name_mapping.items():\n",
    "        if incident[old_dt_name] is not None:\n",
    "            cleaned_incident_info[new_dt_name] = pd.to_datetime(incident[old_dt_name]*1e6).strftime('%Y-%m-%d %H:%M:%S')\n",
    "        else:\n",
    "            cleaned_incident_info[new_dt_name] = None\n",
    "\n",
    "    cleaned_incident_info['postcodes_impacted'] = incident['postcodes']\n",
    "    cleaned_incident_info['description'] = incident['status']\n",
    "    cleaned_incident_info['incident_active'] = bool(1 - incident['restored'])\n",
    "    cleaned_incident_info['incident_url'] = f\"https://powercuts.westernpower.co.uk/incident/{incident['id']}\"\n",
    "    \n",
    "    return cleaned_incident_info"
   ]
  },
  {
   "cell_type": "code",
   "execution_count": 37,
   "id": "assured-round",
   "metadata": {},
   "outputs": [
    {
     "data": {
      "application/json": {
       "description": "In Progress",
       "estimated_restored_time": "2021-04-09 19:30:00",
       "incident_active": true,
       "incident_url": "https://powercuts.westernpower.co.uk/incident/INCD-125316-B",
       "postcodes_impacted": [
        "EX31 4QN",
        "EX31 4RA"
       ],
       "received_time": "2021-04-09 09:47:00"
      },
      "text/plain": [
       "<IPython.core.display.JSON object>"
      ]
     },
     "execution_count": 37,
     "metadata": {
      "application/json": {
       "expanded": false,
       "root": "root"
      }
     },
     "output_type": "execute_result"
    }
   ],
   "source": [
    "JSON(clean_wpd_incident_info(r_json))"
   ]
  },
  {
   "cell_type": "code",
   "execution_count": null,
   "id": "german-classics",
   "metadata": {},
   "outputs": [],
   "source": []
  },
  {
   "cell_type": "code",
   "execution_count": 38,
   "id": "animated-champion",
   "metadata": {},
   "outputs": [],
   "source": [
    "#exports\n",
    "def get_wpd_incidents_info(incidents_url='https://powercuts.westernpower.co.uk'):\n",
    "    cleaned_incidents_info = dict()\n",
    "    \n",
    "    raw_incidents_info = get_wpd_incident_feed(incidents_url)\n",
    "    incident_ids = [incident['id'] for incident in raw_incidents_info['incidents']]\n",
    "\n",
    "    for incident_id in incident_ids:\n",
    "        incident_url = wpd_incident_id_to_url(incident_id)\n",
    "        r_json = requests.get(incident_url).json()\n",
    "        cleaned_incidents_info[incident_id] = clean_wpd_incident_info(r_json)\n",
    "        \n",
    "    return raw_incidents_info, cleaned_incidents_info"
   ]
  },
  {
   "cell_type": "code",
   "execution_count": 39,
   "id": "posted-guidance",
   "metadata": {},
   "outputs": [
    {
     "data": {
      "application/json": {
       "INCD-125315-B": {
        "description": "In Progress",
        "estimated_restored_time": "2021-04-09 13:30:00",
        "incident_active": true,
        "incident_url": "https://powercuts.westernpower.co.uk/incident/INCD-125315-B",
        "postcodes_impacted": [
         "BA3 5QE",
         "BA3 5LY",
         "BA3 5LX"
        ],
        "received_time": "2021-04-09 09:40:00"
       },
       "INCD-125316-B": {
        "description": "In Progress",
        "estimated_restored_time": "2021-04-09 19:30:00",
        "incident_active": true,
        "incident_url": "https://powercuts.westernpower.co.uk/incident/INCD-125316-B",
        "postcodes_impacted": [
         "EX31 4QN",
         "EX31 4RA"
        ],
        "received_time": "2021-04-09 09:47:00"
       },
       "INCD-1503-g": {
        "description": "In Progress",
        "estimated_restored_time": "2021-04-09 13:30:00",
        "incident_active": true,
        "incident_url": "https://powercuts.westernpower.co.uk/incident/INCD-1503-g",
        "postcodes_impacted": [
         "SA67 8QA",
         "SA67 8QP",
         "SA67 8QE",
         "SA67 8BP",
         "SA67 8QD"
        ],
        "received_time": "2021-04-09 10:54:00"
       },
       "INCD-152066-H": {
        "description": "In Progress",
        "estimated_restored_time": "2021-04-09 14:00:00",
        "incident_active": true,
        "incident_url": "https://powercuts.westernpower.co.uk/incident/INCD-152066-H",
        "postcodes_impacted": [
         "DE1 3PB",
         "DE1 3PF"
        ],
        "received_time": "2021-04-08 06:18:00"
       },
       "INCD-152203-H": {
        "description": "In Progress",
        "estimated_restored_time": "2021-04-09 15:00:00",
        "incident_active": true,
        "incident_url": "https://powercuts.westernpower.co.uk/incident/INCD-152203-H",
        "postcodes_impacted": [
         "NG9 5EU"
        ],
        "received_time": "2021-04-09 06:27:00"
       },
       "INCD-357472-G": {
        "description": "In Progress",
        "estimated_restored_time": "2021-04-09 15:00:00",
        "incident_active": true,
        "incident_url": "https://powercuts.westernpower.co.uk/incident/INCD-357472-G",
        "postcodes_impacted": [
         "GL1 3QA",
         "GL1 3PZ"
        ],
        "received_time": "2021-04-09 08:13:00"
       },
       "INCD-357496-G": {
        "description": "In Progress",
        "estimated_restored_time": "2021-04-09 14:00:00",
        "incident_active": true,
        "incident_url": "https://powercuts.westernpower.co.uk/incident/INCD-357496-G",
        "postcodes_impacted": [
         "WR3 7DS",
         "WR3 7DY",
         "WR3 7DX",
         "WR3 7DT",
         "WR3 7BU"
        ],
        "received_time": "2021-04-09 10:41:00"
       },
       "INCD-37157-C": {
        "description": "In Progress",
        "estimated_restored_time": "2021-04-09 16:30:00",
        "incident_active": true,
        "incident_url": "https://powercuts.westernpower.co.uk/incident/INCD-37157-C",
        "postcodes_impacted": [
         "BS40 5HJ"
        ],
        "received_time": "2021-04-09 09:41:00"
       },
       "INCD-416124-E": {
        "description": "In Progress",
        "estimated_restored_time": "2021-04-09 15:00:00",
        "incident_active": true,
        "incident_url": "https://powercuts.westernpower.co.uk/incident/INCD-416124-E",
        "postcodes_impacted": [
         "B38 8XU"
        ],
        "received_time": "2021-04-09 08:03:00"
       },
       "INCD-48349-Y": {
        "description": "In Progress",
        "estimated_restored_time": null,
        "incident_active": true,
        "incident_url": "https://powercuts.westernpower.co.uk/incident/INCD-48349-Y",
        "postcodes_impacted": [
         "PL24 2LR",
         "PL24 2HX",
         "PL24 2RD"
        ],
        "received_time": "2021-04-08 13:22:00"
       },
       "INCD-48354-Y": {
        "description": "In Progress",
        "estimated_restored_time": "2021-04-09 14:30:00",
        "incident_active": true,
        "incident_url": "https://powercuts.westernpower.co.uk/incident/INCD-48354-Y",
        "postcodes_impacted": [
         "TQ4 7RJ"
        ],
        "received_time": "2021-04-09 08:11:00"
       },
       "INCD-74821-T": {
        "description": "In Progress",
        "estimated_restored_time": "2021-04-09 20:00:00",
        "incident_active": true,
        "incident_url": "https://powercuts.westernpower.co.uk/incident/INCD-74821-T",
        "postcodes_impacted": [
         "TA4 3TL",
         "TA4 3SZ",
         "TA4 3TA",
         "TA4 3TQ",
         "TA4 3TU",
         "TA4 3TX"
        ],
        "received_time": "2021-04-09 07:53:00"
       }
      },
      "text/plain": [
       "<IPython.core.display.JSON object>"
      ]
     },
     "execution_count": 39,
     "metadata": {
      "application/json": {
       "expanded": false,
       "root": "root"
      }
     },
     "output_type": "execute_result"
    }
   ],
   "source": [
    "raw_incidents_info, cleaned_incidents_info = get_wpd_incidents_info()\n",
    "\n",
    "JSON(cleaned_incidents_info)"
   ]
  },
  {
   "cell_type": "code",
   "execution_count": null,
   "id": "stuffed-canal",
   "metadata": {},
   "outputs": [],
   "source": []
  },
  {
   "cell_type": "code",
   "execution_count": 40,
   "id": "dying-operations",
   "metadata": {},
   "outputs": [],
   "source": [
    "save_json_data(raw_incidents_info, 'wpd_incidents_info')"
   ]
  },
  {
   "cell_type": "markdown",
   "id": "precise-jewelry",
   "metadata": {},
   "source": [
    "<br>\n",
    "\n",
    "### Scottish Power Energy Networks\n",
    "\n",
    "https://www.spenergynetworks.co.uk/pages/power_cuts_list.aspx"
   ]
  },
  {
   "cell_type": "code",
   "execution_count": 48,
   "id": "expected-privacy",
   "metadata": {},
   "outputs": [],
   "source": [
    "#exports\n",
    "get_raw_sp_incidents_info = lambda sp_map_url='https://www.spenergynetworks.co.uk/pages/power_cuts_map.aspx': json.loads(requests.get(sp_map_url).text.split('arrPowercutsPostcodes:')[1].split('strPagePathListView')[0].replace(',\\r\\n', '').strip())"
   ]
  },
  {
   "cell_type": "code",
   "execution_count": 41,
   "id": "fatty-bracelet",
   "metadata": {},
   "outputs": [
    {
     "data": {
      "application/json": [
       [
        {
         "CREATION_DATE": "2021-04-09T12:11:45",
         "EST_REST_DATE": "2021-04-09T15:00:00+01:00",
         "HISTORIC_FLAG": null,
         "HISTORIC_TIMESTAMP": null,
         "INCIDENT_REF": "INCD-562333-s",
         "INC_TYPE_ID": "LV",
         "LOOK_UP_DESCRIPTION": "Awaiting",
         "MAIN_MESSAGE": "We are aware of a fault in your area. If you require more information please call us on: \nCentral and Southern Scotland:  0800 092 9290 . \n Cheshire, Merseyside, North Wales and North Shropshire: 0800 001 5400.",
         "PLANNED_FLAG": "N",
         "POSTCODES": [
          "DG11TA"
         ],
         "TRANSCRIPT": "We are aware of a fault in your area. If you require more information please call us on: \nCentral and Southern Scotland:  0800 092 9290 . \n Cheshire, Merseyside, North Wales and North Shropshire: 0800 001 5400."
        },
        {
         "CREATION_DATE": "2021-04-09T11:57:43",
         "EST_REST_DATE": null,
         "HISTORIC_FLAG": 1,
         "HISTORIC_TIMESTAMP": "2021-04-09T12:19:07.683",
         "INCIDENT_REF": "INCD-1807358-i",
         "INC_TYPE_ID": "LV",
         "LOOK_UP_DESCRIPTION": "Awaiting",
         "MAIN_MESSAGE": "There was a fault in your area which has now been resolved.  If you are still without power. please call us on: \nCentral and Southern Scotland: 0800 092 9290 . \n Cheshire, Merseyside, North Wales and North Shropshire: 0800 001 5400.",
         "PLANNED_FLAG": "N",
         "POSTCODES": [
          "WA95GZ"
         ],
         "TRANSCRIPT": "There was a fault in your area which has now been resolved.  If you are still without power. please call us on: \nCentral and Southern Scotland: 0800 092 9290 . \n Cheshire, Merseyside, North Wales and North Shropshire: 0800 001 5400."
        },
        {
         "CREATION_DATE": "2021-04-09T11:10:55",
         "EST_REST_DATE": null,
         "HISTORIC_FLAG": 1,
         "HISTORIC_TIMESTAMP": "2021-04-09T12:22:42.183",
         "INCIDENT_REF": "INCD-503685-f",
         "INC_TYPE_ID": "LV",
         "LOOK_UP_DESCRIPTION": "Awaiting",
         "MAIN_MESSAGE": "There was a fault in your area which has now been resolved.  If you are still without power. please call us on: \nCentral and Southern Scotland: 0800 092 9290 . \n Cheshire, Merseyside, North Wales and North Shropshire: 0800 001 5400.",
         "PLANNED_FLAG": "N",
         "POSTCODES": [
          "EH12EP",
          "EH24EH"
         ],
         "TRANSCRIPT": "There was a fault in your area which has now been resolved.  If you are still without power. please call us on: \nCentral and Southern Scotland: 0800 092 9290 . \n Cheshire, Merseyside, North Wales and North Shropshire: 0800 001 5400."
        },
        {
         "CREATION_DATE": "2021-04-09T11:04:22",
         "EST_REST_DATE": "2021-04-09T14:04:22+01:00",
         "HISTORIC_FLAG": null,
         "HISTORIC_TIMESTAMP": null,
         "INCIDENT_REF": "INCD-562273-s",
         "INC_TYPE_ID": "LV",
         "LOOK_UP_DESCRIPTION": "Awaiting",
         "MAIN_MESSAGE": "There is a power cut in the DG4 postcode area Sanquhar. We had no advance warning of this and only became aware of it at 11:01am. Our engineers have arrived on site and are investigating the cause of the fault.  Our team will work to get your power back on as quickly and as safely as possible by 2:15pm. We will update this message if this information changes. We apologise for the inconvenience and thank you for your patience. This message was updated at 12:47pm on  Friday, 09 April 2021",
         "PLANNED_FLAG": "N",
         "POSTCODES": [
          "DG46BJ",
          "DG46BS",
          "DG46BT",
          "DG46BW",
          "DG46BX",
          "DG46BY",
          "DG46BZ",
          "DG46DE",
          "DG46DF",
          "DG46EN",
          "DG46WW"
         ],
         "TRANSCRIPT": "There is a power cut in the DG4 postcode area Sanquhar. We had no advance warning of this and only became aware of it at 11:01am. Our engineers have arrived on site and are investigating the cause of the fault.  Our team will work to get your power back on as quickly and as safely as possible by 2:15pm. We will update this message if this information changes. We apologise for the inconvenience and thank you for your patience. This message was updated at 12:47pm on  Friday, 09 April 2021"
        },
        {
         "CREATION_DATE": "2021-04-09T10:59:04",
         "EST_REST_DATE": null,
         "HISTORIC_FLAG": null,
         "HISTORIC_TIMESTAMP": null,
         "INCIDENT_REF": "INCD-371218-r",
         "INC_TYPE_ID": "LV",
         "LOOK_UP_DESCRIPTION": "Awaiting",
         "MAIN_MESSAGE": "We are aware of a fault in your area. If you require more information please call us on: \nCentral and Southern Scotland:  0800 092 9290 . \n Cheshire, Merseyside, North Wales and North Shropshire: 0800 001 5400.",
         "PLANNED_FLAG": "N",
         "POSTCODES": [
          "L113BN",
          "L113DE",
          "L113DG",
          "L113DL",
          "L113DP",
          "L113DW",
          "L115AJ",
          "WA85BW",
          "WA89AL",
          "WA89AN",
          "WA89BN",
          "WA89BP"
         ],
         "TRANSCRIPT": "We are aware of a fault in your area. If you require more information please call us on: \nCentral and Southern Scotland:  0800 092 9290 . \n Cheshire, Merseyside, North Wales and North Shropshire: 0800 001 5400."
        },
        {
         "CREATION_DATE": "2021-04-09T10:27:53",
         "EST_REST_DATE": "2021-04-09T17:45:00+01:00",
         "HISTORIC_FLAG": null,
         "HISTORIC_TIMESTAMP": null,
         "INCIDENT_REF": "INCD-503661-f",
         "INC_TYPE_ID": "LV",
         "LOOK_UP_DESCRIPTION": "Awaiting",
         "MAIN_MESSAGE": "We are aware of a fault in your area. If you require more information please call us on: \nCentral and Southern Scotland:  0800 092 9290 . \n Cheshire, Merseyside, North Wales and North Shropshire: 0800 001 5400.",
         "PLANNED_FLAG": "N",
         "POSTCODES": [
          "G37AW",
          "G37DS",
          "G37HU",
          "G37JR",
          "G37NG",
          "G37PJ",
          "G37PR",
          "G37RB"
         ],
         "TRANSCRIPT": "We are aware of a fault in your area. If you require more information please call us on: \nCentral and Southern Scotland:  0800 092 9290 . \n Cheshire, Merseyside, North Wales and North Shropshire: 0800 001 5400."
        },
        {
         "CREATION_DATE": "2021-04-09T10:25:30",
         "EST_REST_DATE": null,
         "HISTORIC_FLAG": null,
         "HISTORIC_TIMESTAMP": null,
         "INCIDENT_REF": "INCD-1807310-i",
         "INC_TYPE_ID": "LV",
         "LOOK_UP_DESCRIPTION": "In Progress",
         "MAIN_MESSAGE": "We are aware of a fault in your area. If you require more information please call us on: \nCentral and Southern Scotland:  0800 092 9290 . \n Cheshire, Merseyside, North Wales and North Shropshire: 0800 001 5400.",
         "PLANNED_FLAG": "N",
         "POSTCODES": [
          "SY108QY"
         ],
         "TRANSCRIPT": "We are aware of a fault in your area. If you require more information please call us on: \nCentral and Southern Scotland:  0800 092 9290 . \n Cheshire, Merseyside, North Wales and North Shropshire: 0800 001 5400."
        },
        {
         "CREATION_DATE": "2021-04-09T09:46:12",
         "EST_REST_DATE": "2021-04-09T13:02:33+01:00",
         "HISTORIC_FLAG": null,
         "HISTORIC_TIMESTAMP": null,
         "INCIDENT_REF": "INCD-503649-f",
         "INC_TYPE_ID": "LV",
         "LOOK_UP_DESCRIPTION": "Awaiting",
         "MAIN_MESSAGE": "We are aware of a fault in your area. If you require more information please call us on: \nCentral and Southern Scotland:  0800 092 9290 . \n Cheshire, Merseyside, North Wales and North Shropshire: 0800 001 5400.",
         "PLANNED_FLAG": "N",
         "POSTCODES": [
          "G831AA",
          "G838",
          "G838QN",
          "G838QX",
          "G838SE",
          "G838SJ",
          "G838SN",
          "G838SR",
          "G838SS"
         ],
         "TRANSCRIPT": "We are aware of a fault in your area. If you require more information please call us on: \nCentral and Southern Scotland:  0800 092 9290 . \n Cheshire, Merseyside, North Wales and North Shropshire: 0800 001 5400."
        },
        {
         "CREATION_DATE": "2021-04-09T09:10:02",
         "EST_REST_DATE": null,
         "HISTORIC_FLAG": 1,
         "HISTORIC_TIMESTAMP": "2021-04-09T09:15:42.373",
         "INCIDENT_REF": "INCD-371158-r",
         "INC_TYPE_ID": "LV",
         "LOOK_UP_DESCRIPTION": "Awaiting",
         "MAIN_MESSAGE": "There was a fault in your area which has now been resolved.  If you are still without power. please call us on: \nCentral and Southern Scotland: 0800 092 9290 . \n Cheshire, Merseyside, North Wales and North Shropshire: 0800 001 5400.",
         "PLANNED_FLAG": "N",
         "POSTCODES": [
          "CH428PQ",
          "CH429LF",
          "L428PG"
         ],
         "TRANSCRIPT": "There was a fault in your area which has now been resolved.  If you are still without power. please call us on: \nCentral and Southern Scotland: 0800 092 9290 . \n Cheshire, Merseyside, North Wales and North Shropshire: 0800 001 5400."
        },
        {
         "CREATION_DATE": "2021-04-09T09:07:09",
         "EST_REST_DATE": "2021-04-09T16:00:00+01:00",
         "HISTORIC_FLAG": null,
         "HISTORIC_TIMESTAMP": null,
         "INCIDENT_REF": "INCD-562171-s",
         "INC_TYPE_ID": "LV",
         "LOOK_UP_DESCRIPTION": "Awaiting",
         "MAIN_MESSAGE": "This is a message for customers in the DD6 postcode area of Newport-On-Tay. It has been necessary for our engineers to carry out an emergency shutdown at 9.10am to repair an underground cable fault on Old Kirk Road this may affect the supply to your property. We will work to get your power back on as quickly and as safely as possible by 4pm. We will update this message if this information changes. We apologise for the inconvenience and thank you for your patience. This message was updated at 9.17am on Friday 9th April 2021.",
         "PLANNED_FLAG": "N",
         "POSTCODES": [
          "DD68JD",
          "DD68JE",
          "DD68JF",
          "DD68JG",
          "DD68JH"
         ],
         "TRANSCRIPT": "This is a message for customers in the DD6 postcode area of Newport-On-Tay. It has been necessary for our engineers to carry out an emergency shutdown at 9.10am to repair an underground cable fault on Old Kirk Road this may affect the supply to your property. We will work to get your power back on as quickly and as safely as possible by 4pm. We will update this message if this information changes. We apologise for the inconvenience and thank you for your patience. This message was updated at 9.17am on Friday 9th April 2021."
        },
        {
         "CREATION_DATE": "2021-04-09T09:02:06",
         "EST_REST_DATE": null,
         "HISTORIC_FLAG": 1,
         "HISTORIC_TIMESTAMP": "2021-04-09T12:01:47.927",
         "INCIDENT_REF": "INCD-1807256-i",
         "INC_TYPE_ID": "HV_N",
         "LOOK_UP_DESCRIPTION": "Awaiting",
         "MAIN_MESSAGE": "There was a fault in your area which has now been resolved.  If you are still without power. please call us on: \nCentral and Southern Scotland: 0800 092 9290 . \n Cheshire, Merseyside, North Wales and North Shropshire: 0800 001 5400.",
         "PLANNED_FLAG": "N",
         "POSTCODES": [
          "LL207UL",
          "LL207UP",
          "LL207UR",
          "LL207UY",
          "LL207YA",
          "LL207YB",
          "LL207YD",
          "LL207YE",
          "LL207YL",
          "LL207YN",
          "LL207YP",
          "LL207YW",
          "LL208EG"
         ],
         "TRANSCRIPT": "There was a fault in your area which has now been resolved.  If you are still without power. please call us on: \nCentral and Southern Scotland: 0800 092 9290 . \n Cheshire, Merseyside, North Wales and North Shropshire: 0800 001 5400."
        },
        {
         "CREATION_DATE": "2021-04-09T08:50:36",
         "EST_REST_DATE": null,
         "HISTORIC_FLAG": 1,
         "HISTORIC_TIMESTAMP": "2021-04-09T12:03:34.48",
         "INCIDENT_REF": "INCD-562147-s",
         "INC_TYPE_ID": "LV",
         "LOOK_UP_DESCRIPTION": "Awaiting",
         "MAIN_MESSAGE": "There was a fault in your area which has now been resolved.  If you are still without power. please call us on: \nCentral and Southern Scotland: 0800 092 9290 . \n Cheshire, Merseyside, North Wales and North Shropshire: 0800 001 5400.",
         "PLANNED_FLAG": "N",
         "POSTCODES": [
          "G750QN"
         ],
         "TRANSCRIPT": "There was a fault in your area which has now been resolved.  If you are still without power. please call us on: \nCentral and Southern Scotland: 0800 092 9290 . \n Cheshire, Merseyside, North Wales and North Shropshire: 0800 001 5400."
        },
        {
         "CREATION_DATE": "2021-04-09T08:47:56",
         "EST_REST_DATE": null,
         "HISTORIC_FLAG": 1,
         "HISTORIC_TIMESTAMP": "2021-04-09T12:01:47.927",
         "INCIDENT_REF": "INCD-1807250-i",
         "INC_TYPE_ID": "LV",
         "LOOK_UP_DESCRIPTION": "Awaiting",
         "MAIN_MESSAGE": "There was a fault in your area which has now been resolved.  If you are still without power. please call us on: \nCentral and Southern Scotland: 0800 092 9290 . \n Cheshire, Merseyside, North Wales and North Shropshire: 0800 001 5400.",
         "PLANNED_FLAG": "N",
         "POSTCODES": [
          "*******",
          "LL595DB",
          "LL595EP",
          "LL595EY"
         ],
         "TRANSCRIPT": "There was a fault in your area which has now been resolved.  If you are still without power. please call us on: \nCentral and Southern Scotland: 0800 092 9290 . \n Cheshire, Merseyside, North Wales and North Shropshire: 0800 001 5400."
        },
        {
         "CREATION_DATE": "2021-04-09T08:45:02",
         "EST_REST_DATE": null,
         "HISTORIC_FLAG": 1,
         "HISTORIC_TIMESTAMP": "2021-04-09T11:01:48.85",
         "INCIDENT_REF": "INCD-503625-f",
         "INC_TYPE_ID": "LV",
         "LOOK_UP_DESCRIPTION": "Awaiting",
         "MAIN_MESSAGE": "There was a fault in your area which has now been resolved.  If you are still without power. please call us on: \nCentral and Southern Scotland: 0800 092 9290 . \n Cheshire, Merseyside, North Wales and North Shropshire: 0800 001 5400.",
         "PLANNED_FLAG": "N",
         "POSTCODES": [
          "KA215AJ",
          "KA215AL",
          "KA215AZ"
         ],
         "TRANSCRIPT": "There was a fault in your area which has now been resolved.  If you are still without power. please call us on: \nCentral and Southern Scotland: 0800 092 9290 . \n Cheshire, Merseyside, North Wales and North Shropshire: 0800 001 5400."
        },
        {
         "CREATION_DATE": "2021-04-09T08:39:25",
         "EST_REST_DATE": null,
         "HISTORIC_FLAG": 1,
         "HISTORIC_TIMESTAMP": "2021-04-09T10:05:18.737",
         "INCIDENT_REF": "INCD-1807244-i",
         "INC_TYPE_ID": "LV",
         "LOOK_UP_DESCRIPTION": "Awaiting",
         "MAIN_MESSAGE": "There was a fault in your area which has now been resolved.  If you are still without power. please call us on: \nCentral and Southern Scotland: 0800 092 9290 . \n Cheshire, Merseyside, North Wales and North Shropshire: 0800 001 5400.",
         "PLANNED_FLAG": "N",
         "POSTCODES": [
          "LL139SG"
         ],
         "TRANSCRIPT": "There was a fault in your area which has now been resolved.  If you are still without power. please call us on: \nCentral and Southern Scotland: 0800 092 9290 . \n Cheshire, Merseyside, North Wales and North Shropshire: 0800 001 5400."
        },
        {
         "CREATION_DATE": "2021-04-09T08:26:04",
         "EST_REST_DATE": "2021-04-09T11:21:00+01:00",
         "HISTORIC_FLAG": null,
         "HISTORIC_TIMESTAMP": null,
         "INCIDENT_REF": "INCD-562141-s",
         "INC_TYPE_ID": "LV",
         "LOOK_UP_DESCRIPTION": "Awaiting",
         "MAIN_MESSAGE": "We are aware of a fault in your area. If you require more information please call us on: \nCentral and Southern Scotland:  0800 092 9290 . \n Cheshire, Merseyside, North Wales and North Shropshire: 0800 001 5400.",
         "PLANNED_FLAG": "N",
         "POSTCODES": [
          "KY48AJ",
          "KY48AP",
          "KY48AU",
          "KY48BE",
          "KY48BG",
          "KY48BQ",
          "KY48BS",
          "KY48BU",
          "KY48DA"
         ],
         "TRANSCRIPT": "We are aware of a fault in your area. If you require more information please call us on: \nCentral and Southern Scotland:  0800 092 9290 . \n Cheshire, Merseyside, North Wales and North Shropshire: 0800 001 5400."
        },
        {
         "CREATION_DATE": "2021-04-09T08:08:01",
         "EST_REST_DATE": null,
         "HISTORIC_FLAG": 1,
         "HISTORIC_TIMESTAMP": "2021-04-09T12:44:54.767",
         "INCIDENT_REF": "INCD-562135-s",
         "INC_TYPE_ID": "HV_S",
         "LOOK_UP_DESCRIPTION": "Awaiting",
         "MAIN_MESSAGE": "There was a fault in your area which has now been resolved.  If you are still without power. please call us on: \nCentral and Southern Scotland: 0800 092 9290 . \n Cheshire, Merseyside, North Wales and North Shropshire: 0800 001 5400.",
         "PLANNED_FLAG": "N",
         "POSTCODES": [
          "DG112RN"
         ],
         "TRANSCRIPT": "There was a fault in your area which has now been resolved.  If you are still without power. please call us on: \nCentral and Southern Scotland: 0800 092 9290 . \n Cheshire, Merseyside, North Wales and North Shropshire: 0800 001 5400."
        },
        {
         "CREATION_DATE": "2021-04-09T07:56:41",
         "EST_REST_DATE": "2021-04-09T10:56:41+01:00",
         "HISTORIC_FLAG": null,
         "HISTORIC_TIMESTAMP": null,
         "INCIDENT_REF": "INCD-503619-f",
         "INC_TYPE_ID": "LV",
         "LOOK_UP_DESCRIPTION": "Awaiting",
         "MAIN_MESSAGE": "We are aware of a fault in your area. If you require more information please call us on: \nCentral and Southern Scotland:  0800 092 9290 . \n Cheshire, Merseyside, North Wales and North Shropshire: 0800 001 5400.",
         "PLANNED_FLAG": "N",
         "POSTCODES": [
          "PA32BE"
         ],
         "TRANSCRIPT": "We are aware of a fault in your area. If you require more information please call us on: \nCentral and Southern Scotland:  0800 092 9290 . \n Cheshire, Merseyside, North Wales and North Shropshire: 0800 001 5400."
        },
        {
         "CREATION_DATE": "2021-04-09T07:51:37",
         "EST_REST_DATE": null,
         "HISTORIC_FLAG": 1,
         "HISTORIC_TIMESTAMP": "2021-04-09T08:38:32.55",
         "INCIDENT_REF": "INCD-562129-s",
         "INC_TYPE_ID": "LV",
         "LOOK_UP_DESCRIPTION": "Awaiting",
         "MAIN_MESSAGE": "There was a fault in your area which has now been resolved.  If you are still without power. please call us on: \nCentral and Southern Scotland: 0800 092 9290 . \n Cheshire, Merseyside, North Wales and North Shropshire: 0800 001 5400.",
         "PLANNED_FLAG": "N",
         "POSTCODES": [
          "ML92JF",
          "ML92JG",
          "ML92JQ"
         ],
         "TRANSCRIPT": "There was a fault in your area which has now been resolved.  If you are still without power. please call us on: \nCentral and Southern Scotland: 0800 092 9290 . \n Cheshire, Merseyside, North Wales and North Shropshire: 0800 001 5400."
        },
        {
         "CREATION_DATE": "2021-04-09T06:29:04",
         "EST_REST_DATE": null,
         "HISTORIC_FLAG": 1,
         "HISTORIC_TIMESTAMP": "2021-04-09T06:32:59.423",
         "INCIDENT_REF": "INCD-503613-f",
         "INC_TYPE_ID": "LV",
         "LOOK_UP_DESCRIPTION": "Awaiting",
         "MAIN_MESSAGE": "There was a fault in your area which has now been resolved.  If you are still without power. please call us on: \nCentral and Southern Scotland: 0800 092 9290 . \n Cheshire, Merseyside, North Wales and North Shropshire: 0800 001 5400.",
         "PLANNED_FLAG": "N",
         "POSTCODES": [
          "G466UE",
          "G466XW",
          "G467NE",
          "G467NR",
          "G467NS",
          "G467NT",
          "G467PQ"
         ],
         "TRANSCRIPT": "There was a fault in your area which has now been resolved.  If you are still without power. please call us on: \nCentral and Southern Scotland: 0800 092 9290 . \n Cheshire, Merseyside, North Wales and North Shropshire: 0800 001 5400."
        },
        {
         "CREATION_DATE": "2021-04-09T06:20:13",
         "EST_REST_DATE": null,
         "HISTORIC_FLAG": 1,
         "HISTORIC_TIMESTAMP": "2021-04-09T08:19:36.487",
         "INCIDENT_REF": "INCD-562111-s",
         "INC_TYPE_ID": "LV",
         "LOOK_UP_DESCRIPTION": "Awaiting",
         "MAIN_MESSAGE": "There was a fault in your area which has now been resolved.  If you are still without power. please call us on: \nCentral and Southern Scotland: 0800 092 9290 . \n Cheshire, Merseyside, North Wales and North Shropshire: 0800 001 5400.",
         "PLANNED_FLAG": "N",
         "POSTCODES": [
          "TD46ES",
          "TD46ET"
         ],
         "TRANSCRIPT": "There was a fault in your area which has now been resolved.  If you are still without power. please call us on: \nCentral and Southern Scotland: 0800 092 9290 . \n Cheshire, Merseyside, North Wales and North Shropshire: 0800 001 5400."
        },
        {
         "CREATION_DATE": "2021-04-09T06:19:56",
         "EST_REST_DATE": null,
         "HISTORIC_FLAG": 1,
         "HISTORIC_TIMESTAMP": "2021-04-09T08:01:52.22",
         "INCIDENT_REF": "INCD-1807232-i",
         "INC_TYPE_ID": "HV_N",
         "LOOK_UP_DESCRIPTION": "Awaiting",
         "MAIN_MESSAGE": "There was a fault in your area which has now been resolved.  If you are still without power. please call us on: \nCentral and Southern Scotland: 0800 092 9290 . \n Cheshire, Merseyside, North Wales and North Shropshire: 0800 001 5400.",
         "PLANNED_FLAG": "N",
         "POSTCODES": [
          "DG13PX",
          "L35",
          "ST71LY",
          "ST71NE",
          "ST71NG",
          "ST71NN",
          "ST71NQ",
          "ST72AX",
          "ST73AB",
          "ST73AD",
          "ST73AE",
          "ST73AF",
          "ST73AG",
          "ST73AJ",
          "ST73AL",
          "ST73AN",
          "ST73AP",
          "ST73AQ",
          "ST73AS",
          "ST73AT",
          "ST73AU",
          "ST73AW",
          "ST73AX",
          "ST73AY",
          "ST73AZ",
          "ST73BA",
          "ST73BB",
          "ST73BD",
          "ST73BG",
          "ST73BH",
          "ST73BJ",
          "ST73BL",
          "ST73BN",
          "ST73BQ",
          "ST73BT",
          "ST73BU",
          "ST73BX",
          "ST73BY",
          "ST73DA",
          "ST73DB",
          "ST73DD",
          "ST73DE",
          "ST73DL",
          "ST73EH",
          "ST73ET",
          "ST73FA",
          "ST73HA",
          "ST73HB",
          "ST73JZ",
          "ST73LB",
          "ST73LE",
          "ST73LF",
          "ST73LG",
          "ST73LH",
          "ST73ND",
          "ST73NG",
          "ST73NH",
          "ST73NJ",
          "ST73NL",
          "ST73NN",
          "ST73NP",
          "ST73NQ",
          "ST73NR",
          "ST73NS",
          "ST73NT",
          "ST73NU",
          "ST73NW",
          "ST73NX",
          "ST73NY",
          "ST73NZ",
          "ST73PA",
          "ST73PB",
          "ST73PD",
          "ST73PE",
          "ST73PF",
          "ST73PX",
          "ST73PY",
          "ST73UX",
          "ST74HA",
          "ST74NP",
          "ST74NR",
          "ST74NS",
          "ST74NT",
          "ST74NU",
          "ST74NW",
          "ST74NX",
          "ST74NY",
          "ST74NZ",
          "ST74PA",
          "ST74PB",
          "ST74PD",
          "ST74PE",
          "ST74PF"
         ],
         "TRANSCRIPT": "There was a fault in your area which has now been resolved.  If you are still without power. please call us on: \nCentral and Southern Scotland: 0800 092 9290 . \n Cheshire, Merseyside, North Wales and North Shropshire: 0800 001 5400."
        },
        {
         "CREATION_DATE": "2021-04-09T06:16:45",
         "EST_REST_DATE": null,
         "HISTORIC_FLAG": 1,
         "HISTORIC_TIMESTAMP": "2021-04-09T12:20:54.37",
         "INCIDENT_REF": "INCD-371140-r",
         "INC_TYPE_ID": "LV",
         "LOOK_UP_DESCRIPTION": "Awaiting",
         "MAIN_MESSAGE": "There was a fault in your area which has now been resolved.  If you are still without power. please call us on: \nCentral and Southern Scotland: 0800 092 9290 . \n Cheshire, Merseyside, North Wales and North Shropshire: 0800 001 5400.",
         "PLANNED_FLAG": "N",
         "POSTCODES": [
          "CH419DL",
          "CH419DN",
          "CH419DP",
          "CH419DR",
          "CH419DS",
          "CH419DT",
          "CH419DW",
          "CH419DY",
          "CH419EH",
          "CH419EQ",
          "CH419ER",
          "CH419HU",
          "CH638RB"
         ],
         "TRANSCRIPT": "There was a fault in your area which has now been resolved.  If you are still without power. please call us on: \nCentral and Southern Scotland: 0800 092 9290 . \n Cheshire, Merseyside, North Wales and North Shropshire: 0800 001 5400."
        },
        {
         "CREATION_DATE": "2021-04-09T05:22:38",
         "EST_REST_DATE": null,
         "HISTORIC_FLAG": 1,
         "HISTORIC_TIMESTAMP": "2021-04-09T09:44:52.997",
         "INCIDENT_REF": "INCD-562105-s",
         "INC_TYPE_ID": "LV",
         "LOOK_UP_DESCRIPTION": "Awaiting",
         "MAIN_MESSAGE": "There was a fault in your area which has now been resolved.  If you are still without power. please call us on: \nCentral and Southern Scotland: 0800 092 9290 . \n Cheshire, Merseyside, North Wales and North Shropshire: 0800 001 5400.",
         "PLANNED_FLAG": "N",
         "POSTCODES": [
          "G466UE",
          "G466XW",
          "G467NE",
          "G467NR",
          "G467NS",
          "G467NT",
          "G467PQ"
         ],
         "TRANSCRIPT": "There was a fault in your area which has now been resolved.  If you are still without power. please call us on: \nCentral and Southern Scotland: 0800 092 9290 . \n Cheshire, Merseyside, North Wales and North Shropshire: 0800 001 5400."
        },
        {
         "CREATION_DATE": "2021-04-09T05:15:33",
         "EST_REST_DATE": "2021-04-12T09:00:00+01:00",
         "HISTORIC_FLAG": null,
         "HISTORIC_TIMESTAMP": null,
         "INCIDENT_REF": "INCD-1807196-i",
         "INC_TYPE_ID": "HV_N",
         "LOOK_UP_DESCRIPTION": "Awaiting",
         "MAIN_MESSAGE": "We are aware of a fault in your area. If you require more information please call us on: \nCentral and Southern Scotland: 0800 092 9290 . \n Cheshire, Merseyside, North Wales and North Shropshire: 0800 001 5400.",
         "PLANNED_FLAG": "N",
         "POSTCODES": [
          "LL350RT",
          "SY231JG",
          "SY233PL",
          "SY235LA",
          "SY24",
          "SY245BA",
          "SY245HP",
          "SY245HT",
          "SY245HU",
          "SY245HW",
          "SY245HX",
          "SY245HY",
          "SY245HZ",
          "SY245JA",
          "SY245JB",
          "SY245JD",
          "SY245JE",
          "SY245JF",
          "SY245JG",
          "SY245JH",
          "SY245JP",
          "SY245JQ",
          "SY245JR",
          "SY245JS",
          "SY245JT",
          "SY245JU",
          "SY245JX",
          "SY245JY",
          "SY245JZ",
          "SY245LA",
          "SY245LB",
          "SY245LD",
          "SY245LE",
          "SY245LH",
          "SY245LJ",
          "SY245LL",
          "SY245LN",
          "SY245LP",
          "SY245LR",
          "SY245LT",
          "SY245LU",
          "SY245LW",
          "SY245NA",
          "SY245ND",
          "SY245NG",
          "SY245NH",
          "SY245NJ",
          "SY245NL",
          "SY245NN",
          "SY245NP",
          "SY245NQ",
          "SY245NR",
          "SY245NS",
          "SY245NW",
          "SY245NZ"
         ],
         "TRANSCRIPT": "We are aware of a fault in your area. If you require more information please call us on: \nCentral and Southern Scotland: 0800 092 9290 . \n Cheshire, Merseyside, North Wales and North Shropshire: 0800 001 5400."
        },
        {
         "CREATION_DATE": "2021-04-08T20:20:58",
         "EST_REST_DATE": null,
         "HISTORIC_FLAG": 1,
         "HISTORIC_TIMESTAMP": "2021-04-08T22:46:36.257",
         "INCIDENT_REF": "INCD-503589-f",
         "INC_TYPE_ID": "LV",
         "LOOK_UP_DESCRIPTION": "Awaiting",
         "MAIN_MESSAGE": "There was a fault in your area which has now been resolved.  If you are still without power. please call us on: \nCentral and Southern Scotland: 0800 092 9290 . \n Cheshire, Merseyside, North Wales and North Shropshire: 0800 001 5400.",
         "PLANNED_FLAG": "N",
         "POSTCODES": [
          "ML55AH",
          "ML55AJ",
          "ML55AL",
          "ML55AN",
          "ML55EU",
          "ML55NS",
          "ML55NW",
          "ML55QD",
          "ML55QU"
         ],
         "TRANSCRIPT": "There was a fault in your area which has now been resolved.  If you are still without power. please call us on: \nCentral and Southern Scotland: 0800 092 9290 . \n Cheshire, Merseyside, North Wales and North Shropshire: 0800 001 5400."
        },
        {
         "CREATION_DATE": "2021-04-08T19:53:12",
         "EST_REST_DATE": null,
         "HISTORIC_FLAG": 1,
         "HISTORIC_TIMESTAMP": "2021-04-08T20:20:18.187",
         "INCIDENT_REF": "INCD-503583-f",
         "INC_TYPE_ID": "LV",
         "LOOK_UP_DESCRIPTION": "Awaiting",
         "MAIN_MESSAGE": "There was a fault in your area which has now been resolved.  If you are still without power. please call us on: \nCentral and Southern Scotland: 0800 092 9290 . \n Cheshire, Merseyside, North Wales and North Shropshire: 0800 001 5400.",
         "PLANNED_FLAG": "N",
         "POSTCODES": [
          "ML55AH",
          "ML55AJ",
          "ML55AL",
          "ML55AN",
          "ML55EU",
          "ML55NS",
          "ML55NW",
          "ML55QD",
          "ML55QU"
         ],
         "TRANSCRIPT": "There was a fault in your area which has now been resolved.  If you are still without power. please call us on: \nCentral and Southern Scotland: 0800 092 9290 . \n Cheshire, Merseyside, North Wales and North Shropshire: 0800 001 5400."
        },
        {
         "CREATION_DATE": "2021-04-08T19:17:05",
         "EST_REST_DATE": null,
         "HISTORIC_FLAG": 1,
         "HISTORIC_TIMESTAMP": "2021-04-08T22:03:47.523",
         "INCIDENT_REF": "INCD-503577-f",
         "INC_TYPE_ID": "LV",
         "LOOK_UP_DESCRIPTION": "In Progress",
         "MAIN_MESSAGE": "There was a fault in your area which has now been resolved.  If you are still without power. please call us on: \nCentral and Southern Scotland: 0800 092 9290 . \n Cheshire, Merseyside, North Wales and North Shropshire: 0800 001 5400.",
         "PLANNED_FLAG": "N",
         "POSTCODES": [
          "DG88HP"
         ],
         "TRANSCRIPT": "There was a fault in your area which has now been resolved.  If you are still without power. please call us on: \nCentral and Southern Scotland: 0800 092 9290 . \n Cheshire, Merseyside, North Wales and North Shropshire: 0800 001 5400."
        },
        {
         "CREATION_DATE": "2021-04-08T19:11:38",
         "EST_REST_DATE": null,
         "HISTORIC_FLAG": 1,
         "HISTORIC_TIMESTAMP": "2021-04-08T19:22:26.653",
         "INCIDENT_REF": "INCD-1807166-i",
         "INC_TYPE_ID": "HV_N",
         "LOOK_UP_DESCRIPTION": "Awaiting",
         "MAIN_MESSAGE": "There was a fault in your area which has now been resolved.  If you are still without power. please call us on: \nCentral and Southern Scotland: 0800 092 9290 . \n Cheshire, Merseyside, North Wales and North Shropshire: 0800 001 5400.",
         "PLANNED_FLAG": "N",
         "POSTCODES": [
          "EH165JP",
          "EH411AA",
          "EH411GR",
          "EH412RF",
          "EH42",
          "EH421AA",
          "EH421AD",
          "EH421BB",
          "EH421BF",
          "EH421BX",
          "EH421DG",
          "EH421DH",
          "EH421DQ",
          "EH421DT",
          "EH421DU",
          "EH421DY",
          "EH421DZ",
          "EH421ED",
          "EH421EE",
          "EH421EH",
          "EH421EL",
          "EH421EN",
          "EH421EP",
          "EH421ER",
          "EH421ES",
          "EH421EW",
          "EH421EX",
          "EH421EY",
          "EH421FT",
          "EH421FZ",
          "EH421G",
          "EH421GA",
          "EH421GB",
          "EH421GD",
          "EH421GE",
          "EH421GF",
          "EH421GG",
          "EH421GH",
          "EH421GJ",
          "EH421GL",
          "EH421GN",
          "EH421GP",
          "EH421GQ",
          "EH421GR",
          "EH421GS",
          "EH421GT",
          "EH421GU",
          "EH421GW",
          "EH421GY",
          "EH421GZ",
          "EH421HA",
          "EH421HB",
          "EH421HD",
          "EH421HE",
          "EH421HF",
          "EH421HG",
          "EH421HJ",
          "EH421HX",
          "EH421HZ",
          "EH421JA",
          "EH421JB",
          "EH421JD",
          "EH421JE",
          "EH421JF",
          "EH421JG",
          "EH421JH",
          "EH421JP",
          "EH421JR",
          "EH421JS",
          "EH421JU",
          "EH421JX",
          "EH421JY",
          "EH421JZ",
          "EH421LA",
          "EH421LB",
          "EH421LD",
          "EH421LE",
          "EH421LF",
          "EH421LG",
          "EH421LJ",
          "EH421LL",
          "EH421LN",
          "EH421LP",
          "EH421LQ",
          "EH421LR",
          "EH421LS",
          "EH421LT",
          "EH421LU",
          "EH421LW",
          "EH421LX",
          "EH421LY",
          "EH421LZ",
          "EH421NA",
          "EH421NB",
          "EH421ND",
          "EH421NE",
          "EH421NF",
          "EH421PZ",
          "EH421QF",
          "EH421QG",
          "EH421QJ",
          "EH421QL",
          "EH421QN",
          "EH421QW",
          "EH421QZ",
          "EH421RA",
          "EH421RB",
          "EH421RD",
          "EH421RP",
          "EH421RR",
          "EH421RS",
          "EH421RT",
          "EH421RU",
          "EH421RX",
          "EH421SS",
          "EH421TN",
          "EH421UJ",
          "EH421UX",
          "EH421UZ",
          "EH421WG",
          "EH421WW",
          "EH421XB",
          "EH421YA",
          "EH421YB",
          "EH421YD",
          "EH421YE",
          "EH421YF",
          "EH421YG",
          "EH421YH",
          "EH421YQ",
          "EH421YR",
          "EH421YS"
         ],
         "TRANSCRIPT": "There was a fault in your area which has now been resolved.  If you are still without power. please call us on: \nCentral and Southern Scotland: 0800 092 9290 . \n Cheshire, Merseyside, North Wales and North Shropshire: 0800 001 5400."
        },
        {
         "CREATION_DATE": "2021-04-08T18:35:40",
         "EST_REST_DATE": null,
         "HISTORIC_FLAG": 1,
         "HISTORIC_TIMESTAMP": "2021-04-08T18:44:42.127",
         "INCIDENT_REF": "INCD-1807160-i",
         "INC_TYPE_ID": "HV_N",
         "LOOK_UP_DESCRIPTION": "Awaiting",
         "MAIN_MESSAGE": "There was a fault in your area which has now been resolved.  If you are still without power. please call us on: \nCentral and Southern Scotland: 0800 092 9290 . \n Cheshire, Merseyside, North Wales and North Shropshire: 0800 001 5400.",
         "PLANNED_FLAG": "N",
         "POSTCODES": [
          "DG29FP",
          "G411EJ",
          "G51",
          "G511AA",
          "G514DP",
          "G514DU",
          "G514EN",
          "G514GX",
          "G514GZ",
          "G514HA",
          "G514HB",
          "G514HG",
          "G514HH",
          "G514HJ",
          "G514HL",
          "G514HN",
          "G514HW",
          "G514JJ",
          "G514JL",
          "G514TF",
          "G514UL",
          "G516SD",
          "G52",
          "G522AJ",
          "G522AL",
          "G522AN",
          "G522BJ",
          "G522BS",
          "G522BT",
          "G522BX",
          "G522BY",
          "G522BZ",
          "G522DA",
          "G522DB",
          "G522DD",
          "G522DE",
          "G522DF",
          "G522DG",
          "G522DH",
          "G522DJ",
          "G522DU",
          "G522DZ",
          "G522EA",
          "G522ED",
          "G522EE",
          "G522EJ",
          "G522EL",
          "G522EN",
          "G522EP",
          "G522EY",
          "G522EZ",
          "G522HJ",
          "G522HL",
          "G522HN",
          "G522HW",
          "G522HX",
          "G522HZ",
          "G522LX",
          "G522NE",
          "G522NF",
          "G522PE",
          "G522PF",
          "G522QF",
          "G522QG",
          "G522RH",
          "G522RJ",
          "G522RQ",
          "G522RX",
          "G522RY",
          "G522RZ",
          "G522SA",
          "G522SB",
          "G522SZ",
          "G522TA",
          "G523JG",
          "G523JH",
          "G523JL",
          "G523JP",
          "G523JQ",
          "G523JW",
          "G523LN",
          "G523LP",
          "G523LR",
          "G523LS",
          "G523LT",
          "G523LW",
          "G523PD",
          "G523PF",
          "G523PH",
          "G523PQ",
          "G523PT",
          "G523PU",
          "G523PX",
          "G523PY",
          "G523PZ",
          "G523QA",
          "G523QB",
          "G523SH",
          "G523SQ",
          "G524AA",
          "G524AB",
          "G524AD",
          "G524AE",
          "G524AF",
          "G524AJ",
          "G524AL",
          "G524AN",
          "G524AP",
          "G524AR",
          "G524AS",
          "G524AT",
          "G524AU",
          "G524AW",
          "G524AX",
          "G524AY",
          "G524AZ",
          "G524BA",
          "G524BB",
          "G524BD",
          "G524BE",
          "G524BS",
          "G524BT",
          "G524BU",
          "G524BX",
          "G524BY",
          "G524BZ",
          "G524DA",
          "G524DB",
          "G524DD",
          "G524DE",
          "G524DF",
          "G524DG",
          "G524DH",
          "G524DJ",
          "G524DN",
          "G524DQ",
          "G524EB",
          "G524ED",
          "G524EE",
          "G524EF",
          "G524EG",
          "G524EH",
          "G524EJ",
          "G524EN",
          "G524EQ",
          "G524FB",
          "G524FD",
          "G524FE",
          "G524FF",
          "G524FP",
          "G524HH",
          "G524HJ",
          "G524HL",
          "G524HN",
          "G524HP",
          "G524HR",
          "G524HS",
          "G524HT",
          "G524HU",
          "G524HW",
          "G524HX",
          "G524HY",
          "G524PH",
          "G524VV",
          "G53",
          "G531AA",
          "G536JB",
          "G536JE",
          "G536JF",
          "G536JG",
          "G536JJ",
          "G536JL",
          "G536JP",
          "G536JQ",
          "G536JS",
          "G536LP",
          "G536NL",
          "G536RA",
          "G536RB",
          "G536RE",
          "G536RU",
          "G536RX",
          "G536RY",
          "G536RZ",
          "G536SA",
          "G536SD",
          "G536SE",
          "G536SF",
          "G536SG",
          "G536SH",
          "G536SJ",
          "G536SL",
          "G536SQ",
          "G536SR",
          "G536SZ",
          "G536TD",
          "G537AG",
          "G537BE",
          "G537DY",
          "G537EA",
          "G537EB",
          "G537EH",
          "G537EJ",
          "G537FA",
          "G537FB",
          "G537FD",
          "G537FE",
          "G537FF",
          "G537FG",
          "G537FH",
          "G537FJ",
          "G537FL",
          "G537FN",
          "G537FP",
          "G537FQ",
          "G537FR",
          "G537FS",
          "G537FT",
          "G537FU",
          "G537FW",
          "G537FX",
          "G537GA",
          "G537GG",
          "G537LB",
          "G537LD",
          "G537LE",
          "G537LF",
          "G537LQ",
          "G537NP",
          "G537NR",
          "G537PQ",
          "G537TE",
          "G537UQ",
          "PA13",
          "PA13AA",
          "PA13AB",
          "PA13AD",
          "PA13AE",
          "PA13AJ",
          "PA13AL",
          "PA13AN",
          "PA13AP",
          "PA13AR",
          "PA13AS",
          "PA13AT",
          "PA13AU",
          "PA13AW",
          "PA13AX",
          "PA13BA",
          "PA13BB",
          "PA13BG",
          "PA13BH",
          "PA13BJ",
          "PA13BL",
          "PA13BN",
          "PA13BP",
          "PA13BQ",
          "PA13BS",
          "PA13BW",
          "PA13DA",
          "PA13DB",
          "PA13DD",
          "PA13DH",
          "PA13DL",
          "PA13DN",
          "PA13DP",
          "PA13DS",
          "PA13DT",
          "PA13DU",
          "PA13DX",
          "PA13DY",
          "PA13DZ",
          "PA13EA",
          "PA13EB",
          "PA13ED",
          "PA13EE",
          "PA13EF",
          "PA13EG",
          "PA13EQ",
          "PA13ER",
          "PA13ES",
          "PA13ET",
          "PA13EU",
          "PA13EX",
          "PA13EY",
          "PA13HA",
          "PA13HB",
          "PA13HD",
          "PA13HE",
          "PA13HF",
          "PA13HG",
          "PA13HH",
          "PA13HJ",
          "PA13HL",
          "PA13HQ",
          "PA13JL",
          "PA13JN",
          "PA13JP",
          "PA13JW"
         ],
         "TRANSCRIPT": "There was a fault in your area which has now been resolved.  If you are still without power. please call us on: \nCentral and Southern Scotland: 0800 092 9290 . \n Cheshire, Merseyside, North Wales and North Shropshire: 0800 001 5400."
        },
        {
         "CREATION_DATE": "2021-04-08T18:35:38",
         "EST_REST_DATE": null,
         "HISTORIC_FLAG": 1,
         "HISTORIC_TIMESTAMP": "2021-04-08T18:42:58.61",
         "INCIDENT_REF": "INCD-1807154-i",
         "INC_TYPE_ID": "HV_N",
         "LOOK_UP_DESCRIPTION": "Awaiting",
         "MAIN_MESSAGE": "There was a fault in your area which has now been resolved.  If you are still without power. please call us on: \nCentral and Southern Scotland: 0800 092 9290 . \n Cheshire, Merseyside, North Wales and North Shropshire: 0800 001 5400.",
         "PLANNED_FLAG": "N",
         "POSTCODES": [
          "G50PQ",
          "G626BW",
          "G727DW",
          "G776SJ",
          "G78",
          "G781",
          "G781AA",
          "G781AD",
          "G781AE",
          "G781AG",
          "G781AH",
          "G781AJ",
          "G781AL",
          "G781AQ",
          "G781AW",
          "G781AX",
          "G781AY",
          "G781AZ",
          "G781BA",
          "G781BB",
          "G781BD",
          "G781BH",
          "G781BP",
          "G781BQ",
          "G781BS",
          "G781BT",
          "G781BU",
          "G781BW",
          "G781BX",
          "G781DD",
          "G781DE",
          "G781DF",
          "G781DG",
          "G781DH",
          "G781DJ",
          "G781DN",
          "G781DP",
          "G781DQ",
          "G781DR",
          "G781DS",
          "G781DT",
          "G781DU",
          "G781DW",
          "G781DX",
          "G781DY",
          "G781EA",
          "G781EH",
          "G781EL",
          "G781EP",
          "G781EQ",
          "G781ES",
          "G781ET",
          "G781EU",
          "G781EW",
          "G781GA",
          "G781GB",
          "G781GD",
          "G781GE",
          "G781GF",
          "G781GG",
          "G781HA",
          "G781HB",
          "G781HD",
          "G781HF",
          "G781HH",
          "G781HJ",
          "G781HL",
          "G781HN",
          "G781HP",
          "G781HQ",
          "G781HR",
          "G781HS",
          "G781HT",
          "G781HU",
          "G781HW",
          "G781HX",
          "G781HY",
          "G781HZ",
          "G781JA",
          "G781JB",
          "G781JD",
          "G781JE",
          "G781JF",
          "G781JG",
          "G781JH",
          "G781JL",
          "G781JN",
          "G781JP",
          "G781JQ",
          "G781JR",
          "G781JS",
          "G781JT",
          "G781JU",
          "G781JX",
          "G781JY",
          "G781JZ",
          "G781LD",
          "G781LE",
          "G781LG",
          "G781LH",
          "G781LJ",
          "G781LL",
          "G781LN",
          "G781LP",
          "G781LR",
          "G781LS",
          "G781LT",
          "G781LU",
          "G781LW",
          "G781LX",
          "G781LZ",
          "G781NB",
          "G781ND",
          "G781NH",
          "G781NJ",
          "G781NL",
          "G781NN",
          "G781NP",
          "G781NQ",
          "G781NR",
          "G781NS",
          "G781NT",
          "G781NU",
          "G781NW",
          "G781NX",
          "G781NY",
          "G781NZ",
          "G781OO",
          "G781PA",
          "G781PB",
          "G781PD",
          "G781PE",
          "G781PF",
          "G781PG",
          "G781PH",
          "G781PJ",
          "G781PL",
          "G781PN",
          "G781PQ",
          "G781PR",
          "G781PS",
          "G781PT",
          "G781PW",
          "G781QA",
          "G781QB",
          "G781QJ",
          "G781QP",
          "G781QQ",
          "G781QW",
          "G781QX",
          "G781QY",
          "G781RB",
          "G781RE",
          "G781RF",
          "G781RG",
          "G781RX",
          "G781SB",
          "G781SP",
          "G781SS",
          "G781SU",
          "G781SX",
          "G781TA",
          "G781TB",
          "G781TG",
          "G781TJ",
          "G781TL",
          "G781TN",
          "G781TS",
          "G781TT",
          "G781TW",
          "G781TY",
          "G781TZ",
          "G781UA",
          "G781UL",
          "G781UT",
          "G781UU",
          "G781UX",
          "G781UY",
          "G781UZ",
          "G781WW",
          "G782AB",
          "G782AD",
          "G782AE",
          "G782AF",
          "G782AG",
          "G782BH",
          "G782BL",
          "G782BN",
          "G782BP",
          "G782EZ",
          "G782HA",
          "G782HB",
          "G782HF",
          "G782HQ",
          "G782LH",
          "G782LZ",
          "G782NA",
          "G782NB",
          "G782ND",
          "G782NG",
          "G782NH",
          "G782NJ",
          "G782NQ",
          "G782NZ",
          "G782PA",
          "G782PB",
          "G782PD",
          "G782PE",
          "G782PF",
          "G782QB",
          "G782QF",
          "G782QP",
          "G782RS",
          "G782SQ",
          "G782TH",
          "G782TJ",
          "G783AB",
          "G783AE",
          "G783AG",
          "G783EA",
          "G783HB",
          "G783JU",
          "G783LT",
          "G783LU",
          "G783LX",
          "G783LY",
          "G783NA",
          "G783ND",
          "G783NE",
          "G783NG",
          "G783PT",
          "G783XX",
          "ML36LR",
          "PA13PD",
          "PA13PF",
          "PA13WW"
         ],
         "TRANSCRIPT": "There was a fault in your area which has now been resolved.  If you are still without power. please call us on: \nCentral and Southern Scotland: 0800 092 9290 . \n Cheshire, Merseyside, North Wales and North Shropshire: 0800 001 5400."
        },
        {
         "CREATION_DATE": "2021-04-08T18:15:11",
         "EST_REST_DATE": null,
         "HISTORIC_FLAG": 1,
         "HISTORIC_TIMESTAMP": "2021-04-09T04:03:32.737",
         "INCIDENT_REF": "INCD-503541-f",
         "INC_TYPE_ID": "HV_N",
         "LOOK_UP_DESCRIPTION": "Awaiting",
         "MAIN_MESSAGE": "There was a fault in your area which has now been resolved.  If you are still without power. please call us on: \nCentral and Southern Scotland: 0800 092 9290 . \n Cheshire, Merseyside, North Wales and North Shropshire: 0800 001 5400.",
         "PLANNED_FLAG": "N",
         "POSTCODES": [
          "G728YF",
          "G728YH",
          "G728YQ",
          "G729UE",
          "G743XY"
         ],
         "TRANSCRIPT": "There was a fault in your area which has now been resolved.  If you are still without power. please call us on: \nCentral and Southern Scotland: 0800 092 9290 . \n Cheshire, Merseyside, North Wales and North Shropshire: 0800 001 5400."
        },
        {
         "CREATION_DATE": "2021-04-08T18:05:20",
         "EST_REST_DATE": null,
         "HISTORIC_FLAG": 1,
         "HISTORIC_TIMESTAMP": "2021-04-08T18:24:19.443",
         "INCIDENT_REF": "INCD-1807142-i",
         "INC_TYPE_ID": "HV_N",
         "LOOK_UP_DESCRIPTION": "Awaiting",
         "MAIN_MESSAGE": "There was a fault in your area which has now been resolved.  If you are still without power. please call us on: \nCentral and Southern Scotland: 0800 092 9290 . \n Cheshire, Merseyside, North Wales and North Shropshire: 0800 001 5400.",
         "PLANNED_FLAG": "N",
         "POSTCODES": [
          "TD58NS",
          "TD58NT",
          "TD60EY",
          "TD60RH",
          "TD69EU",
          "TD86TX",
          "TD86TY",
          "TD86TZ",
          "TD86UJ",
          "TD86XH"
         ],
         "TRANSCRIPT": "There was a fault in your area which has now been resolved.  If you are still without power. please call us on: \nCentral and Southern Scotland: 0800 092 9290 . \n Cheshire, Merseyside, North Wales and North Shropshire: 0800 001 5400."
        },
        {
         "CREATION_DATE": "2021-04-08T17:27:46",
         "EST_REST_DATE": null,
         "HISTORIC_FLAG": 1,
         "HISTORIC_TIMESTAMP": "2021-04-08T22:29:26.667",
         "INCIDENT_REF": "INCD-1807118-i",
         "INC_TYPE_ID": "HV_N",
         "LOOK_UP_DESCRIPTION": "Awaiting",
         "MAIN_MESSAGE": "There was a fault in your area which has now been resolved.  If you are still without power. please call us on: \nCentral and Southern Scotland: 0800 092 9290 . \n Cheshire, Merseyside, North Wales and North Shropshire: 0800 001 5400.",
         "PLANNED_FLAG": "N",
         "POSTCODES": [
          "L12SJ",
          "L12SP",
          "L12TR",
          "L14AZ",
          "L14BB",
          "L14BL",
          "L14DL",
          "L14DR",
          "L14HF",
          "L14JF",
          "L14JQ",
          "L14JS",
          "L15EL",
          "L17AX",
          "L17AY",
          "L17BT",
          "L19AA",
          "L19AD",
          "L19AF",
          "L19AJ",
          "L19AL",
          "L19AR",
          "L19AS",
          "L19AW",
          "L19AX",
          "L19BB",
          "L19BG",
          "L19BP",
          "L19BQ",
          "L19BW",
          "L19BZ",
          "L19DA",
          "L19DF",
          "L19DN",
          "L19DS",
          "L19DT",
          "L19DU",
          "L19DW",
          "L19DY",
          "L19DZ",
          "L19EA",
          "L19EH",
          "L19EN",
          "L19ER",
          "L19EW",
          "L19EX",
          "L19HB",
          "L19HD",
          "L19HE",
          "L19HF",
          "L19HT",
          "L19JD",
          "L19JF",
          "L77BP",
          "L77DN",
          "L77DP",
          "L77DX",
          "L77EA",
          "L77EB",
          "L81NN",
          "L87JZ",
          "L87NE",
          "L87NH",
          "L87NL",
          "L87NN",
          "L87NP",
          "L87PB",
          "L87PE",
          "L87PH",
          "L87PJ",
          "L87PQ",
          "L87PU",
          "L87PY",
          "L87PZ",
          "L87TA"
         ],
         "TRANSCRIPT": "There was a fault in your area which has now been resolved.  If you are still without power. please call us on: \nCentral and Southern Scotland: 0800 092 9290 . \n Cheshire, Merseyside, North Wales and North Shropshire: 0800 001 5400."
        },
        {
         "CREATION_DATE": "2021-04-08T17:26:00",
         "EST_REST_DATE": null,
         "HISTORIC_FLAG": 1,
         "HISTORIC_TIMESTAMP": "2021-04-08T18:41:14.683",
         "INCIDENT_REF": "INCD-562021-s",
         "INC_TYPE_ID": "LV",
         "LOOK_UP_DESCRIPTION": "Awaiting",
         "MAIN_MESSAGE": "There was a fault in your area which has now been resolved.  If you are still without power. please call us on: \nCentral and Southern Scotland: 0800 092 9290 . \n Cheshire, Merseyside, North Wales and North Shropshire: 0800 001 5400.",
         "PLANNED_FLAG": "N",
         "POSTCODES": [
          "G411JA",
          "G511LE",
          "G511LF"
         ],
         "TRANSCRIPT": "There was a fault in your area which has now been resolved.  If you are still without power. please call us on: \nCentral and Southern Scotland: 0800 092 9290 . \n Cheshire, Merseyside, North Wales and North Shropshire: 0800 001 5400."
        },
        {
         "CREATION_DATE": "2021-04-08T17:25:50",
         "EST_REST_DATE": null,
         "HISTORIC_FLAG": 1,
         "HISTORIC_TIMESTAMP": "2021-04-09T03:36:22.133",
         "INCIDENT_REF": "INCD-503511-f",
         "INC_TYPE_ID": "LV",
         "LOOK_UP_DESCRIPTION": "Awaiting",
         "MAIN_MESSAGE": "There was a fault in your area which has now been resolved.  If you are still without power. please call us on: \nCentral and Southern Scotland: 0800 092 9290 . \n Cheshire, Merseyside, North Wales and North Shropshire: 0800 001 5400.",
         "PLANNED_FLAG": "N",
         "POSTCODES": [
          "FK11DD",
          "FK11LZ",
          "FK11NB",
          "FK11NH",
          "FK11NU"
         ],
         "TRANSCRIPT": "There was a fault in your area which has now been resolved.  If you are still without power. please call us on: \nCentral and Southern Scotland: 0800 092 9290 . \n Cheshire, Merseyside, North Wales and North Shropshire: 0800 001 5400."
        },
        {
         "CREATION_DATE": "2021-04-08T17:05:34",
         "EST_REST_DATE": null,
         "HISTORIC_FLAG": 1,
         "HISTORIC_TIMESTAMP": "2021-04-08T18:39:30.587",
         "INCIDENT_REF": "INCD-503499-f",
         "INC_TYPE_ID": "HV_S",
         "LOOK_UP_DESCRIPTION": "Awaiting",
         "MAIN_MESSAGE": "There was a fault in your area which has now been resolved.  If you are still without power. please call us on: \nCentral and Southern Scotland: 0800 092 9290 . \n Cheshire, Merseyside, North Wales and North Shropshire: 0800 001 5400.",
         "PLANNED_FLAG": "N",
         "POSTCODES": [
          "DG112RN"
         ],
         "TRANSCRIPT": "There was a fault in your area which has now been resolved.  If you are still without power. please call us on: \nCentral and Southern Scotland: 0800 092 9290 . \n Cheshire, Merseyside, North Wales and North Shropshire: 0800 001 5400."
        },
        {
         "CREATION_DATE": "2021-04-08T15:34:52",
         "EST_REST_DATE": null,
         "HISTORIC_FLAG": 1,
         "HISTORIC_TIMESTAMP": "2021-04-08T15:55:39.193",
         "INCIDENT_REF": "INCD-371068-r",
         "INC_TYPE_ID": "LV",
         "LOOK_UP_DESCRIPTION": "Awaiting",
         "MAIN_MESSAGE": "There was a fault in your area which has now been resolved.  If you are still without power. please call us on: \nCentral and Southern Scotland: 0800 092 9290 . \n Cheshire, Merseyside, North Wales and North Shropshire: 0800 001 5400.",
         "PLANNED_FLAG": "N",
         "POSTCODES": [
          "CH76TA"
         ],
         "TRANSCRIPT": "There was a fault in your area which has now been resolved.  If you are still without power. please call us on: \nCentral and Southern Scotland: 0800 092 9290 . \n Cheshire, Merseyside, North Wales and North Shropshire: 0800 001 5400."
        },
        {
         "CREATION_DATE": "2021-04-08T15:34:36",
         "EST_REST_DATE": null,
         "HISTORIC_FLAG": 1,
         "HISTORIC_TIMESTAMP": "2021-04-08T19:18:57.993",
         "INCIDENT_REF": "INCD-503469-f",
         "INC_TYPE_ID": "LV",
         "LOOK_UP_DESCRIPTION": "In Progress",
         "MAIN_MESSAGE": "There was a fault in your area which has now been resolved.  If you are still without power. please call us on: \nCentral and Southern Scotland: 0800 092 9290 . \n Cheshire, Merseyside, North Wales and North Shropshire: 0800 001 5400.",
         "PLANNED_FLAG": "N",
         "POSTCODES": [
          "G33",
          "G336AA",
          "G336BD",
          "G336EY",
          "G336EZ",
          "G336HA",
          "G336HD",
          "G336HE",
          "G336HF",
          "G336HG",
          "G336HH",
          "G336HN",
          "G336HQ",
          "G336HY",
          "G336JF",
          "G336LS"
         ],
         "TRANSCRIPT": "There was a fault in your area which has now been resolved.  If you are still without power. please call us on: \nCentral and Southern Scotland: 0800 092 9290 . \n Cheshire, Merseyside, North Wales and North Shropshire: 0800 001 5400."
        },
        {
         "CREATION_DATE": "2021-04-08T15:30:47",
         "EST_REST_DATE": null,
         "HISTORIC_FLAG": 1,
         "HISTORIC_TIMESTAMP": "2021-04-08T17:05:27.247",
         "INCIDENT_REF": "INCD-503457-f",
         "INC_TYPE_ID": "LV",
         "LOOK_UP_DESCRIPTION": "Awaiting",
         "MAIN_MESSAGE": "There was a fault in your area which has now been resolved.  If you are still without power. please call us on: \nCentral and Southern Scotland: 0800 092 9290 . \n Cheshire, Merseyside, North Wales and North Shropshire: 0800 001 5400.",
         "PLANNED_FLAG": "N",
         "POSTCODES": [
          "KY157UT"
         ],
         "TRANSCRIPT": "There was a fault in your area which has now been resolved.  If you are still without power. please call us on: \nCentral and Southern Scotland: 0800 092 9290 . \n Cheshire, Merseyside, North Wales and North Shropshire: 0800 001 5400."
        },
        {
         "CREATION_DATE": "2021-04-08T15:18:58",
         "EST_REST_DATE": null,
         "HISTORIC_FLAG": 1,
         "HISTORIC_TIMESTAMP": "2021-04-08T16:33:25.823",
         "INCIDENT_REF": "INCD-503487-f",
         "INC_TYPE_ID": "LV",
         "LOOK_UP_DESCRIPTION": "In Progress",
         "MAIN_MESSAGE": "There was a fault in your area which has now been resolved.  If you are still without power. please call us on: \nCentral and Southern Scotland: 0800 092 9290 . \n Cheshire, Merseyside, North Wales and North Shropshire: 0800 001 5400.",
         "PLANNED_FLAG": "N",
         "POSTCODES": [
          "DG20HS",
          "DG20JE"
         ],
         "TRANSCRIPT": "There was a fault in your area which has now been resolved.  If you are still without power. please call us on: \nCentral and Southern Scotland: 0800 092 9290 . \n Cheshire, Merseyside, North Wales and North Shropshire: 0800 001 5400."
        },
        {
         "CREATION_DATE": "2021-04-08T15:18:05",
         "EST_REST_DATE": null,
         "HISTORIC_FLAG": 1,
         "HISTORIC_TIMESTAMP": "2021-04-09T00:01:48.12",
         "INCIDENT_REF": "INCD-561979-s",
         "INC_TYPE_ID": "LV",
         "LOOK_UP_DESCRIPTION": "In Progress",
         "MAIN_MESSAGE": "There was a fault in your area which has now been resolved.  If you are still without power. please call us on: \nCentral and Southern Scotland: 0800 092 9290 . \n Cheshire, Merseyside, North Wales and North Shropshire: 0800 001 5400.",
         "PLANNED_FLAG": "N",
         "POSTCODES": [
          "G314XR",
          "G314XS",
          "G314XT",
          "G314XU",
          "G314XX",
          "G328TH"
         ],
         "TRANSCRIPT": "There was a fault in your area which has now been resolved.  If you are still without power. please call us on: \nCentral and Southern Scotland: 0800 092 9290 . \n Cheshire, Merseyside, North Wales and North Shropshire: 0800 001 5400."
        },
        {
         "CREATION_DATE": "2021-04-08T14:15:27",
         "EST_REST_DATE": null,
         "HISTORIC_FLAG": 1,
         "HISTORIC_TIMESTAMP": "2021-04-08T22:41:22.503",
         "INCIDENT_REF": "INCD-1807028-i",
         "INC_TYPE_ID": "LV",
         "LOOK_UP_DESCRIPTION": "In Progress",
         "MAIN_MESSAGE": "There was a fault in your area which has now been resolved.  If you are still without power. please call us on: \nCentral and Southern Scotland: 0800 092 9290 . \n Cheshire, Merseyside, North Wales and North Shropshire: 0800 001 5400.",
         "PLANNED_FLAG": "N",
         "POSTCODES": [
          "CH448BT",
          "CH448BY",
          "CH448BZ",
          "CH448DA",
          "CH448DB",
          "CH448DD",
          "CH448DY"
         ],
         "TRANSCRIPT": "There was a fault in your area which has now been resolved.  If you are still without power. please call us on: \nCentral and Southern Scotland: 0800 092 9290 . \n Cheshire, Merseyside, North Wales and North Shropshire: 0800 001 5400."
        },
        {
         "CREATION_DATE": "2021-04-08T14:05:49",
         "EST_REST_DATE": null,
         "HISTORIC_FLAG": 1,
         "HISTORIC_TIMESTAMP": "2021-04-08T14:09:10.87",
         "INCIDENT_REF": "INCD-561961-s",
         "INC_TYPE_ID": "HV_N",
         "LOOK_UP_DESCRIPTION": "Awaiting",
         "MAIN_MESSAGE": "There was a fault in your area which has now been resolved.  If you are still without power. please call us on: \nCentral and Southern Scotland: 0800 092 9290 . \n Cheshire, Merseyside, North Wales and North Shropshire: 0800 001 5400.",
         "PLANNED_FLAG": "N",
         "POSTCODES": [
          "G768QP",
          "G768SY",
          "G768SZ"
         ],
         "TRANSCRIPT": "There was a fault in your area which has now been resolved.  If you are still without power. please call us on: \nCentral and Southern Scotland: 0800 092 9290 . \n Cheshire, Merseyside, North Wales and North Shropshire: 0800 001 5400."
        },
        {
         "CREATION_DATE": "2021-04-08T14:04:22",
         "EST_REST_DATE": null,
         "HISTORIC_FLAG": 1,
         "HISTORIC_TIMESTAMP": "2021-04-08T15:05:19.93",
         "INCIDENT_REF": "INCD-561955-s",
         "INC_TYPE_ID": "LV",
         "LOOK_UP_DESCRIPTION": "Awaiting",
         "MAIN_MESSAGE": "There was a fault in your area which has now been resolved.  If you are still without power. please call us on: \nCentral and Southern Scotland: 0800 092 9290 . \n Cheshire, Merseyside, North Wales and North Shropshire: 0800 001 5400.",
         "PLANNED_FLAG": "N",
         "POSTCODES": [
          "EH21AA",
          "EH21BT",
          "EH21EL",
          "EH21EN",
          "EH21EW",
          "EH22HN",
          "EH22HT",
          "EH24AS"
         ],
         "TRANSCRIPT": "There was a fault in your area which has now been resolved.  If you are still without power. please call us on: \nCentral and Southern Scotland: 0800 092 9290 . \n Cheshire, Merseyside, North Wales and North Shropshire: 0800 001 5400."
        },
        {
         "CREATION_DATE": "2021-04-08T13:45:16",
         "EST_REST_DATE": null,
         "HISTORIC_FLAG": 1,
         "HISTORIC_TIMESTAMP": "2021-04-09T10:24:17.95",
         "INCIDENT_REF": "INCD-1807004-i",
         "INC_TYPE_ID": "LV",
         "LOOK_UP_DESCRIPTION": "In Progress",
         "MAIN_MESSAGE": "There was a fault in your area which has now been resolved.  If you are still without power. please call us on: \nCentral and Southern Scotland: 0800 092 9290 . \n Cheshire, Merseyside, North Wales and North Shropshire: 0800 001 5400.",
         "PLANNED_FLAG": "N",
         "POSTCODES": [
          "LL572DX",
          "LL572UJ",
          "LL572YD",
          "LL574SB",
          "LL574SG",
          "LL574SH",
          "LL574SN",
          "LL574SY",
          "LL574TA",
          "LL574TJ"
         ],
         "TRANSCRIPT": "There was a fault in your area which has now been resolved.  If you are still without power. please call us on: \nCentral and Southern Scotland: 0800 092 9290 . \n Cheshire, Merseyside, North Wales and North Shropshire: 0800 001 5400."
        },
        {
         "CREATION_DATE": "2021-04-08T13:27:46",
         "EST_REST_DATE": null,
         "HISTORIC_FLAG": 1,
         "HISTORIC_TIMESTAMP": "2021-04-08T18:31:02.607",
         "INCIDENT_REF": "INCD-561931-s",
         "INC_TYPE_ID": "LV",
         "LOOK_UP_DESCRIPTION": "In Progress",
         "MAIN_MESSAGE": "There was a fault in your area which has now been resolved.  If you are still without power. please call us on: \nCentral and Southern Scotland: 0800 092 9290 . \n Cheshire, Merseyside, North Wales and North Shropshire: 0800 001 5400.",
         "PLANNED_FLAG": "N",
         "POSTCODES": [
          "EH496NL",
          "EH496NN",
          "EH496NP",
          "EH496NS",
          "EH496PD"
         ],
         "TRANSCRIPT": "There was a fault in your area which has now been resolved.  If you are still without power. please call us on: \nCentral and Southern Scotland: 0800 092 9290 . \n Cheshire, Merseyside, North Wales and North Shropshire: 0800 001 5400."
        },
        {
         "CREATION_DATE": "2021-04-08T12:34:28",
         "EST_REST_DATE": null,
         "HISTORIC_FLAG": 1,
         "HISTORIC_TIMESTAMP": "2021-04-08T13:35:25.183",
         "INCIDENT_REF": "INCD-561853-s",
         "INC_TYPE_ID": "LV",
         "LOOK_UP_DESCRIPTION": "Awaiting",
         "MAIN_MESSAGE": "There was a fault in your area which has now been resolved.  If you are still without power. please call us on: \nCentral and Southern Scotland: 0800 092 9290 . \n Cheshire, Merseyside, North Wales and North Shropshire: 0800 001 5400.",
         "PLANNED_FLAG": "N",
         "POSTCODES": [
          "KA215RD"
         ],
         "TRANSCRIPT": "There was a fault in your area which has now been resolved.  If you are still without power. please call us on: \nCentral and Southern Scotland: 0800 092 9290 . \n Cheshire, Merseyside, North Wales and North Shropshire: 0800 001 5400."
        },
        {
         "CREATION_DATE": "2021-04-08T12:23:56",
         "EST_REST_DATE": null,
         "HISTORIC_FLAG": 1,
         "HISTORIC_TIMESTAMP": "2021-04-08T14:12:42.197",
         "INCIDENT_REF": "INCD-561835-s",
         "INC_TYPE_ID": "LV",
         "LOOK_UP_DESCRIPTION": "Awaiting",
         "MAIN_MESSAGE": "There was a fault in your area which has now been resolved.  If you are still without power. please call us on: \nCentral and Southern Scotland: 0800 092 9290 . \n Cheshire, Merseyside, North Wales and North Shropshire: 0800 001 5400.",
         "PLANNED_FLAG": "N",
         "POSTCODES": [
          "KY40ET"
         ],
         "TRANSCRIPT": "There was a fault in your area which has now been resolved.  If you are still without power. please call us on: \nCentral and Southern Scotland: 0800 092 9290 . \n Cheshire, Merseyside, North Wales and North Shropshire: 0800 001 5400."
        },
        {
         "CREATION_DATE": "2021-04-08T12:03:09",
         "EST_REST_DATE": null,
         "HISTORIC_FLAG": 1,
         "HISTORIC_TIMESTAMP": "2021-04-08T15:12:22.843",
         "INCIDENT_REF": "INCD-1806974-i",
         "INC_TYPE_ID": "HV_S",
         "LOOK_UP_DESCRIPTION": "Awaiting",
         "MAIN_MESSAGE": "There was a fault in your area which has now been resolved.  If you are still without power. please call us on: \nCentral and Southern Scotland: 0800 092 9290 . \n Cheshire, Merseyside, North Wales and North Shropshire: 0800 001 5400.",
         "PLANNED_FLAG": "N",
         "POSTCODES": [
          "LL728NA"
         ],
         "TRANSCRIPT": "There was a fault in your area which has now been resolved.  If you are still without power. please call us on: \nCentral and Southern Scotland: 0800 092 9290 . \n Cheshire, Merseyside, North Wales and North Shropshire: 0800 001 5400."
        },
        {
         "CREATION_DATE": "2021-04-08T11:59:54",
         "EST_REST_DATE": null,
         "HISTORIC_FLAG": 1,
         "HISTORIC_TIMESTAMP": "2021-04-08T23:46:34.077",
         "INCIDENT_REF": "INCD-561805-s",
         "INC_TYPE_ID": "LV",
         "LOOK_UP_DESCRIPTION": "Awaiting",
         "MAIN_MESSAGE": "There was a fault in your area which has now been resolved.  If you are still without power. please call us on: \nCentral and Southern Scotland: 0800 092 9290 . \n Cheshire, Merseyside, North Wales and North Shropshire: 0800 001 5400.",
         "PLANNED_FLAG": "N",
         "POSTCODES": [
          "EH147EP",
          "EH147HE",
          "EH147HF",
          "EH147HG",
          "EH147HJ",
          "EH147HQ",
          "EH147HU",
          "EH147HX"
         ],
         "TRANSCRIPT": "There was a fault in your area which has now been resolved.  If you are still without power. please call us on: \nCentral and Southern Scotland: 0800 092 9290 . \n Cheshire, Merseyside, North Wales and North Shropshire: 0800 001 5400."
        },
        {
         "CREATION_DATE": "2021-04-08T11:08:59",
         "EST_REST_DATE": null,
         "HISTORIC_FLAG": 1,
         "HISTORIC_TIMESTAMP": "2021-04-08T19:32:37.487",
         "INCIDENT_REF": "INCD-1806920-i",
         "INC_TYPE_ID": "LV",
         "LOOK_UP_DESCRIPTION": "Awaiting",
         "MAIN_MESSAGE": "There was a fault in your area which has now been resolved.  If you are still without power. please call us on: \nCentral and Southern Scotland: 0800 092 9290 . \n Cheshire, Merseyside, North Wales and North Shropshire: 0800 001 5400.",
         "PLANNED_FLAG": "N",
         "POSTCODES": [
          "CW55AS",
          "CW55BA",
          "CW55BZ",
          "CW55DB",
          "CW55RJ",
          "CW55ST",
          "CW55XQ",
          "SY109BX"
         ],
         "TRANSCRIPT": "There was a fault in your area which has now been resolved.  If you are still without power. please call us on: \nCentral and Southern Scotland: 0800 092 9290 . \n Cheshire, Merseyside, North Wales and North Shropshire: 0800 001 5400."
        },
        {
         "CREATION_DATE": "2021-04-08T10:20:39",
         "EST_REST_DATE": null,
         "HISTORIC_FLAG": 1,
         "HISTORIC_TIMESTAMP": "2021-04-08T15:36:41.967",
         "INCIDENT_REF": "INCD-503409-f",
         "INC_TYPE_ID": "HV_N",
         "LOOK_UP_DESCRIPTION": "Awaiting",
         "MAIN_MESSAGE": "There was a fault in your area which has now been resolved.  If you are still without power. please call us on: \nCentral and Southern Scotland: 0800 092 9290 . \n Cheshire, Merseyside, North Wales and North Shropshire: 0800 001 5400.",
         "PLANNED_FLAG": "N",
         "POSTCODES": [
          "G720TN",
          "G720TW",
          "G720WW",
          "G721AA"
         ],
         "TRANSCRIPT": "There was a fault in your area which has now been resolved.  If you are still without power. please call us on: \nCentral and Southern Scotland: 0800 092 9290 . \n Cheshire, Merseyside, North Wales and North Shropshire: 0800 001 5400."
        },
        {
         "CREATION_DATE": "2021-04-08T09:07:57",
         "EST_REST_DATE": null,
         "HISTORIC_FLAG": 1,
         "HISTORIC_TIMESTAMP": "2021-04-08T14:02:04.74",
         "INCIDENT_REF": "INCD-561715-s",
         "INC_TYPE_ID": "LV",
         "LOOK_UP_DESCRIPTION": "Awaiting",
         "MAIN_MESSAGE": "There was a fault in your area which has now been resolved.  If you are still without power. please call us on: \nCentral and Southern Scotland: 0800 092 9290 . \n Cheshire, Merseyside, North Wales and North Shropshire: 0800 001 5400.",
         "PLANNED_FLAG": "N",
         "POSTCODES": [
          "KA260QT"
         ],
         "TRANSCRIPT": "There was a fault in your area which has now been resolved.  If you are still without power. please call us on: \nCentral and Southern Scotland: 0800 092 9290 . \n Cheshire, Merseyside, North Wales and North Shropshire: 0800 001 5400."
        },
        {
         "CREATION_DATE": "2021-04-08T08:58:29",
         "EST_REST_DATE": null,
         "HISTORIC_FLAG": 1,
         "HISTORIC_TIMESTAMP": "2021-04-08T20:48:23.203",
         "INCIDENT_REF": "INCD-370924-r",
         "INC_TYPE_ID": "LV",
         "LOOK_UP_DESCRIPTION": "Awaiting",
         "MAIN_MESSAGE": "There was a fault in your area which has now been resolved.  If you are still without power. please call us on: \nCentral and Southern Scotland: 0800 092 9290 . \n Cheshire, Merseyside, North Wales and North Shropshire: 0800 001 5400.",
         "PLANNED_FLAG": "N",
         "POSTCODES": [
          "WA7",
          "WA71DF",
          "WA71DG",
          "WA71DS",
          "WA71LD",
          "WA71LG",
          "WA71LJ",
          "WA71LL",
          "WA71LR",
          "WA71LX",
          "WA71NA",
          "WA71ND",
          "WA71NE",
          "WA71X"
         ],
         "TRANSCRIPT": "There was a fault in your area which has now been resolved.  If you are still without power. please call us on: \nCentral and Southern Scotland: 0800 092 9290 . \n Cheshire, Merseyside, North Wales and North Shropshire: 0800 001 5400."
        },
        {
         "CREATION_DATE": "2021-04-08T06:43:14",
         "EST_REST_DATE": null,
         "HISTORIC_FLAG": 1,
         "HISTORIC_TIMESTAMP": "2021-04-09T12:26:12.66",
         "INCIDENT_REF": "INCD-1806776-i",
         "INC_TYPE_ID": "LV",
         "LOOK_UP_DESCRIPTION": "In Progress",
         "MAIN_MESSAGE": "There was a fault in your area which has now been resolved.  If you are still without power. please call us on: \nCentral and Southern Scotland: 0800 092 9290 . \n Cheshire, Merseyside, North Wales and North Shropshire: 0800 001 5400.",
         "PLANNED_FLAG": "N",
         "POSTCODES": [
          "*******",
          "WA55RT",
          "WA57TN",
          "WA59RA",
          "WA59RB",
          "WA59RD",
          "WA59RJ",
          "WA59RN",
          "WA59RR",
          "WA59RS",
          "WA59RT",
          "WA59RU",
          "WA59RZ"
         ],
         "TRANSCRIPT": "There was a fault in your area which has now been resolved.  If you are still without power. please call us on: \nCentral and Southern Scotland: 0800 092 9290 . \n Cheshire, Merseyside, North Wales and North Shropshire: 0800 001 5400."
        },
        {
         "CREATION_DATE": "2021-04-07T22:04:02",
         "EST_REST_DATE": null,
         "HISTORIC_FLAG": 1,
         "HISTORIC_TIMESTAMP": "2021-04-09T01:46:30.573",
         "INCIDENT_REF": "INCD-1806746-i",
         "INC_TYPE_ID": "LV",
         "LOOK_UP_DESCRIPTION": "In Progress",
         "MAIN_MESSAGE": "There was a fault in your area which has now been resolved.  If you are still without power. please call us on: \nCentral and Southern Scotland: 0800 092 9290 . \n Cheshire, Merseyside, North Wales and North Shropshire: 0800 001 5400.",
         "PLANNED_FLAG": "N",
         "POSTCODES": [
          "L114SR",
          "L114TA",
          "L114TE",
          "L114UE"
         ],
         "TRANSCRIPT": "There was a fault in your area which has now been resolved.  If you are still without power. please call us on: \nCentral and Southern Scotland: 0800 092 9290 . \n Cheshire, Merseyside, North Wales and North Shropshire: 0800 001 5400."
        },
        {
         "CREATION_DATE": "2021-04-07T19:35:31",
         "EST_REST_DATE": null,
         "HISTORIC_FLAG": 1,
         "HISTORIC_TIMESTAMP": "2021-04-08T19:18:57.993",
         "INCIDENT_REF": "INCD-503355-f",
         "INC_TYPE_ID": "LV",
         "LOOK_UP_DESCRIPTION": "In Progress",
         "MAIN_MESSAGE": "There was a fault in your area which has now been resolved.  If you are still without power. please call us on: \nCentral and Southern Scotland: 0800 092 9290 . \n Cheshire, Merseyside, North Wales and North Shropshire: 0800 001 5400.",
         "PLANNED_FLAG": "N",
         "POSTCODES": [
          "FK38BP",
          "FK38BQ",
          "FK38BS",
          "FK38DA",
          "FK38JR",
          "FK38JS",
          "FK38LG",
          "FK38LQ"
         ],
         "TRANSCRIPT": "There was a fault in your area which has now been resolved.  If you are still without power. please call us on: \nCentral and Southern Scotland: 0800 092 9290 . \n Cheshire, Merseyside, North Wales and North Shropshire: 0800 001 5400."
        },
        {
         "CREATION_DATE": "2021-04-07T19:24:12",
         "EST_REST_DATE": null,
         "HISTORIC_FLAG": 1,
         "HISTORIC_TIMESTAMP": "2021-04-08T13:04:10.263",
         "INCIDENT_REF": "INCD-561595-s",
         "INC_TYPE_ID": "LV",
         "LOOK_UP_DESCRIPTION": "In Progress",
         "MAIN_MESSAGE": "There was a fault in your area which has now been resolved.  If you are still without power. please call us on: \nCentral and Southern Scotland: 0800 092 9290 . \n Cheshire, Merseyside, North Wales and North Shropshire: 0800 001 5400.",
         "PLANNED_FLAG": "N",
         "POSTCODES": [
          "G840NA"
         ],
         "TRANSCRIPT": "There was a fault in your area which has now been resolved.  If you are still without power. please call us on: \nCentral and Southern Scotland: 0800 092 9290 . \n Cheshire, Merseyside, North Wales and North Shropshire: 0800 001 5400."
        },
        {
         "CREATION_DATE": "2021-04-07T11:29:07",
         "EST_REST_DATE": null,
         "HISTORIC_FLAG": 1,
         "HISTORIC_TIMESTAMP": "2021-04-09T01:48:14.553",
         "INCIDENT_REF": "INCD-495359-k",
         "INC_TYPE_ID": "LV",
         "LOOK_UP_DESCRIPTION": "In Progress",
         "MAIN_MESSAGE": "There was a fault in your area which has now been resolved.  If you are still without power. please call us on: \nCentral and Southern Scotland: 0800 092 9290 . \n Cheshire, Merseyside, North Wales and North Shropshire: 0800 001 5400.",
         "PLANNED_FLAG": "N",
         "POSTCODES": [
          "PA11BA",
          "PA11BL",
          "PA11BN",
          "PA11BP",
          "PA11XX",
          "PA32AD",
          "PA32AG",
          "PA32AL",
          "PA32AP",
          "PA34BT"
         ],
         "TRANSCRIPT": "There was a fault in your area which has now been resolved.  If you are still without power. please call us on: \nCentral and Southern Scotland: 0800 092 9290 . \n Cheshire, Merseyside, North Wales and North Shropshire: 0800 001 5400."
        },
        {
         "CREATION_DATE": "2021-04-07T08:29:15",
         "EST_REST_DATE": null,
         "HISTORIC_FLAG": 1,
         "HISTORIC_TIMESTAMP": "2021-04-08T14:03:50.373",
         "INCIDENT_REF": "INCD-370666-r",
         "INC_TYPE_ID": "LV",
         "LOOK_UP_DESCRIPTION": "In Progress",
         "MAIN_MESSAGE": "There was a fault in your area which has now been resolved.  If you are still without power. please call us on: \nCentral and Southern Scotland: 0800 092 9290 . \n Cheshire, Merseyside, North Wales and North Shropshire: 0800 001 5400.",
         "PLANNED_FLAG": "N",
         "POSTCODES": [
          "CW84JP",
          "CW84JX",
          "CW84NG",
          "CW84NH",
          "CW84NL",
          "CW84NN",
          "CW84NP",
          "CW84NR",
          "CW84NW",
          "CW84UP",
          "CW84UR"
         ],
         "TRANSCRIPT": "There was a fault in your area which has now been resolved.  If you are still without power. please call us on: \nCentral and Southern Scotland: 0800 092 9290 . \n Cheshire, Merseyside, North Wales and North Shropshire: 0800 001 5400."
        },
        {
         "CREATION_DATE": "2021-04-06T14:11:05",
         "EST_REST_DATE": null,
         "HISTORIC_FLAG": 1,
         "HISTORIC_TIMESTAMP": "2021-04-08T15:38:28.473",
         "INCIDENT_REF": "INCD-503157-f",
         "INC_TYPE_ID": "LV",
         "LOOK_UP_DESCRIPTION": "In Progress",
         "MAIN_MESSAGE": "There was a fault in your area which has now been resolved.  If you are still without power. please call us on: \nCentral and Southern Scotland: 0800 092 9290 . \n Cheshire, Merseyside, North Wales and North Shropshire: 0800 001 5400.",
         "PLANNED_FLAG": "N",
         "POSTCODES": [
          "EH470BB",
          "EH470BD",
          "EH470BE",
          "EH470BG",
          "EH470DA",
          "EH470DD",
          "EH470DE",
          "EH470DF",
          "EH470DG",
          "EH470DH",
          "EH470EZ"
         ],
         "TRANSCRIPT": "There was a fault in your area which has now been resolved.  If you are still without power. please call us on: \nCentral and Southern Scotland: 0800 092 9290 . \n Cheshire, Merseyside, North Wales and North Shropshire: 0800 001 5400."
        },
        {
         "CREATION_DATE": "2021-04-06T11:25:38",
         "EST_REST_DATE": null,
         "HISTORIC_FLAG": 1,
         "HISTORIC_TIMESTAMP": "2021-04-08T15:47:05.003",
         "INCIDENT_REF": "INCD-503043-f",
         "INC_TYPE_ID": "LV",
         "LOOK_UP_DESCRIPTION": "In Progress",
         "MAIN_MESSAGE": "There was a fault in your area which has now been resolved.  If you are still without power. please call us on: \nCentral and Southern Scotland: 0800 092 9290 . \n Cheshire, Merseyside, North Wales and North Shropshire: 0800 001 5400.",
         "PLANNED_FLAG": "N",
         "POSTCODES": [
          "DD68HL",
          "DD68JJ",
          "DD68JL",
          "DD68JN"
         ],
         "TRANSCRIPT": "There was a fault in your area which has now been resolved.  If you are still without power. please call us on: \nCentral and Southern Scotland: 0800 092 9290 . \n Cheshire, Merseyside, North Wales and North Shropshire: 0800 001 5400."
        },
        {
         "CREATION_DATE": "2021-04-06T09:55:07",
         "EST_REST_DATE": null,
         "HISTORIC_FLAG": 1,
         "HISTORIC_TIMESTAMP": "2021-04-08T15:08:51.613",
         "INCIDENT_REF": "INCD-502935-f",
         "INC_TYPE_ID": "HV_N",
         "LOOK_UP_DESCRIPTION": "In Progress",
         "MAIN_MESSAGE": "There was a fault in your area which has now been resolved.  If you are still without power. please call us on: \nCentral and Southern Scotland: 0800 092 9290 . \n Cheshire, Merseyside, North Wales and North Shropshire: 0800 001 5400.",
         "PLANNED_FLAG": "N",
         "POSTCODES": [
          "EH558PU"
         ],
         "TRANSCRIPT": "There was a fault in your area which has now been resolved.  If you are still without power. please call us on: \nCentral and Southern Scotland: 0800 092 9290 . \n Cheshire, Merseyside, North Wales and North Shropshire: 0800 001 5400."
        },
        {
         "CREATION_DATE": "2021-04-02T15:27:50",
         "EST_REST_DATE": null,
         "HISTORIC_FLAG": 1,
         "HISTORIC_TIMESTAMP": "2021-04-09T12:22:42.183",
         "INCIDENT_REF": "INCD-560455-s",
         "INC_TYPE_ID": "LV",
         "LOOK_UP_DESCRIPTION": "In Progress",
         "MAIN_MESSAGE": "There was a fault in your area which has now been resolved.  If you are still without power. please call us on: \nCentral and Southern Scotland: 0800 092 9290 . \n Cheshire, Merseyside, North Wales and North Shropshire: 0800 001 5400.",
         "PLANNED_FLAG": "N",
         "POSTCODES": [
          "G744PS",
          "G744QX",
          "G744QZ",
          "G744XR",
          "G744ZA"
         ],
         "TRANSCRIPT": "There was a fault in your area which has now been resolved.  If you are still without power. please call us on: \nCentral and Southern Scotland: 0800 092 9290 . \n Cheshire, Merseyside, North Wales and North Shropshire: 0800 001 5400."
        },
        {
         "CREATION_DATE": "2021-04-02T13:59:35",
         "EST_REST_DATE": null,
         "HISTORIC_FLAG": 1,
         "HISTORIC_TIMESTAMP": "2021-04-09T11:14:26.18",
         "INCIDENT_REF": "INCD-494663-k",
         "INC_TYPE_ID": "HV_N",
         "LOOK_UP_DESCRIPTION": "In Progress",
         "MAIN_MESSAGE": "There was a fault in your area which has now been resolved.  If you are still without power. please call us on: \nCentral and Southern Scotland: 0800 092 9290 . \n Cheshire, Merseyside, North Wales and North Shropshire: 0800 001 5400.",
         "PLANNED_FLAG": "N",
         "POSTCODES": [
          "TD98RZ",
          "TD98SA"
         ],
         "TRANSCRIPT": "There was a fault in your area which has now been resolved.  If you are still without power. please call us on: \nCentral and Southern Scotland: 0800 092 9290 . \n Cheshire, Merseyside, North Wales and North Shropshire: 0800 001 5400."
        },
        {
         "CREATION_DATE": "2021-03-30T10:58:28",
         "EST_REST_DATE": null,
         "HISTORIC_FLAG": 1,
         "HISTORIC_TIMESTAMP": "2021-04-09T12:15:36.603",
         "INCIDENT_REF": "INCD-493487-k",
         "INC_TYPE_ID": "HV_N",
         "LOOK_UP_DESCRIPTION": "In Progress",
         "MAIN_MESSAGE": "There was a planned outage in your area which is now complete.  If you are still without power. please call us on: \nCentral and Southern Scotland: 0800 092 9290 . \n Cheshire, Merseyside, North Wales and North Shropshire: 0800 001 5400.",
         "PLANNED_FLAG": "Y",
         "POSTCODES": [
          "DG11TA"
         ],
         "TRANSCRIPT": "There was a planned outage in your area which is now complete.  If you are still without power. please call us on: \nCentral and Southern Scotland: 0800 092 9290 . \n Cheshire, Merseyside, North Wales and North Shropshire: 0800 001 5400."
        },
        {
         "CREATION_DATE": "2021-03-29T12:56:34",
         "EST_REST_DATE": "2021-04-09T14:00:00+01:00",
         "HISTORIC_FLAG": null,
         "HISTORIC_TIMESTAMP": null,
         "INCIDENT_REF": "INCD-493283-k",
         "INC_TYPE_ID": "HV_N",
         "LOOK_UP_DESCRIPTION": "In Progress",
         "MAIN_MESSAGE": "The electricity supply to your premises may currently be affected by planned work.  You should have received a letter explaining this.  We hope to be able to restore your supplies by 09-APR-2021 14:00.  Please accept our sincere apologies for any inconvenience this is causing.",
         "PLANNED_FLAG": "Y",
         "POSTCODES": [
          "EH312AA",
          "EH320PZ",
          "EH320QA",
          "EH320QB",
          "EH39",
          "EH395AL"
         ],
         "TRANSCRIPT": "The electricity supply to your premises may currently be affected by planned work.  You should have received a letter explaining this.  We hope to be able to restore your supplies by 09-APR-2021 14:00.  Please accept our sincere apologies for any inconvenience this is causing."
        },
        {
         "CREATION_DATE": "2021-03-29T12:35:06",
         "EST_REST_DATE": null,
         "HISTORIC_FLAG": 1,
         "HISTORIC_TIMESTAMP": "2021-04-09T10:43:12.703",
         "INCIDENT_REF": "INCD-493265-k",
         "INC_TYPE_ID": "HV_N",
         "LOOK_UP_DESCRIPTION": "In Progress",
         "MAIN_MESSAGE": "There was a planned outage in your area which is now complete.  If you are still without power. please call us on: \nCentral and Southern Scotland: 0800 092 9290 . \n Cheshire, Merseyside, North Wales and North Shropshire: 0800 001 5400.",
         "PLANNED_FLAG": "Y",
         "POSTCODES": [
          "KA20AL",
          "KA20AP",
          "KA20BH",
          "KA20BJ",
          "KA20BL",
          "KA20BN",
          "KA20BT",
          "KA20BW"
         ],
         "TRANSCRIPT": "There was a planned outage in your area which is now complete.  If you are still without power. please call us on: \nCentral and Southern Scotland: 0800 092 9290 . \n Cheshire, Merseyside, North Wales and North Shropshire: 0800 001 5400."
        },
        {
         "CREATION_DATE": "2021-03-29T11:16:45",
         "EST_REST_DATE": "2021-04-09T16:00:00+01:00",
         "HISTORIC_FLAG": null,
         "HISTORIC_TIMESTAMP": null,
         "INCIDENT_REF": "INCD-493187-k",
         "INC_TYPE_ID": "LV",
         "LOOK_UP_DESCRIPTION": "In Progress",
         "MAIN_MESSAGE": "The electricity supply to your premises may currently be affected by planned work.  You should have received a letter explaining this.  We hope to be able to restore your supplies by 09-APR-2021 16:00.  Please accept our sincere apologies for any inconvenience this is causing.",
         "PLANNED_FLAG": "Y",
         "POSTCODES": [
          "EH278BB"
         ],
         "TRANSCRIPT": "The electricity supply to your premises may currently be affected by planned work.  You should have received a letter explaining this.  We hope to be able to restore your supplies by 09-APR-2021 16:00.  Please accept our sincere apologies for any inconvenience this is causing."
        },
        {
         "CREATION_DATE": "2021-03-29T09:18:58",
         "EST_REST_DATE": null,
         "HISTORIC_FLAG": 1,
         "HISTORIC_TIMESTAMP": "2021-04-09T12:34:41.76",
         "INCIDENT_REF": "INCD-493109-k",
         "INC_TYPE_ID": "HV_N",
         "LOOK_UP_DESCRIPTION": "In Progress",
         "MAIN_MESSAGE": "There was a planned outage in your area which is now complete.  If you are still without power. please call us on: \nCentral and Southern Scotland: 0800 092 9290 . \n Cheshire, Merseyside, North Wales and North Shropshire: 0800 001 5400.",
         "PLANNED_FLAG": "Y",
         "POSTCODES": [
          "LL240EU"
         ],
         "TRANSCRIPT": "There was a planned outage in your area which is now complete.  If you are still without power. please call us on: \nCentral and Southern Scotland: 0800 092 9290 . \n Cheshire, Merseyside, North Wales and North Shropshire: 0800 001 5400."
        },
        {
         "CREATION_DATE": "2021-03-29T09:14:36",
         "EST_REST_DATE": null,
         "HISTORIC_FLAG": 1,
         "HISTORIC_TIMESTAMP": "2021-04-08T14:48:59.667",
         "INCIDENT_REF": "INCD-493103-k",
         "INC_TYPE_ID": "HV_N",
         "LOOK_UP_DESCRIPTION": "In Progress",
         "MAIN_MESSAGE": "There was a planned outage in your area which is now complete.  If you are still without power. please call us on: \nCentral and Southern Scotland: 0800 092 9290 . \n Cheshire, Merseyside, North Wales and North Shropshire: 0800 001 5400.",
         "PLANNED_FLAG": "Y",
         "POSTCODES": [
          "SY175AS",
          "SY175AT"
         ],
         "TRANSCRIPT": "There was a planned outage in your area which is now complete.  If you are still without power. please call us on: \nCentral and Southern Scotland: 0800 092 9290 . \n Cheshire, Merseyside, North Wales and North Shropshire: 0800 001 5400."
        },
        {
         "CREATION_DATE": "2021-03-28T16:57:16",
         "EST_REST_DATE": "2021-04-09T16:30:00+01:00",
         "HISTORIC_FLAG": null,
         "HISTORIC_TIMESTAMP": null,
         "INCIDENT_REF": "INCD-492989-k",
         "INC_TYPE_ID": "HV_N",
         "LOOK_UP_DESCRIPTION": "In Progress",
         "MAIN_MESSAGE": "The electricity supply to your premises may currently be affected by planned work.  You should have received a letter explaining this.  We hope to be able to restore your supplies by 09-APR-2021 16:30.  Please accept our sincere apologies for any inconvenience this is causing.",
         "PLANNED_FLAG": "Y",
         "POSTCODES": [
          "EH320PH"
         ],
         "TRANSCRIPT": "The electricity supply to your premises may currently be affected by planned work.  You should have received a letter explaining this.  We hope to be able to restore your supplies by 09-APR-2021 16:30.  Please accept our sincere apologies for any inconvenience this is causing."
        },
        {
         "CREATION_DATE": "2021-03-28T16:23:29",
         "EST_REST_DATE": "2021-04-09T16:00:00+01:00",
         "HISTORIC_FLAG": null,
         "HISTORIC_TIMESTAMP": null,
         "INCIDENT_REF": "INCD-492959-k",
         "INC_TYPE_ID": "LV",
         "LOOK_UP_DESCRIPTION": "In Progress",
         "MAIN_MESSAGE": "The electricity supply to your premises may currently be affected by planned work.  You should have received a letter explaining this.  We hope to be able to restore your supplies by 09-APR-2021 16:00.  Please accept our sincere apologies for any inconvenience this is causing.",
         "PLANNED_FLAG": "Y",
         "POSTCODES": [
          "KA13BQ",
          "KA34BQ"
         ],
         "TRANSCRIPT": "The electricity supply to your premises may currently be affected by planned work.  You should have received a letter explaining this.  We hope to be able to restore your supplies by 09-APR-2021 16:00.  Please accept our sincere apologies for any inconvenience this is causing."
        },
        {
         "CREATION_DATE": "2021-03-28T14:48:55",
         "EST_REST_DATE": "2021-04-09T14:30:00+01:00",
         "HISTORIC_FLAG": null,
         "HISTORIC_TIMESTAMP": null,
         "INCIDENT_REF": "INCD-492917-k",
         "INC_TYPE_ID": "HV_N",
         "LOOK_UP_DESCRIPTION": "In Progress",
         "MAIN_MESSAGE": "The electricity supply to your premises may currently be affected by planned work.  You should have received a letter explaining this.  We hope to be able to restore your supplies by 09-APR-2021 14:30.  Please accept our sincere apologies for any inconvenience this is causing.",
         "PLANNED_FLAG": "Y",
         "POSTCODES": [
          "DG165EY"
         ],
         "TRANSCRIPT": "The electricity supply to your premises may currently be affected by planned work.  You should have received a letter explaining this.  We hope to be able to restore your supplies by 09-APR-2021 14:30.  Please accept our sincere apologies for any inconvenience this is causing."
        },
        {
         "CREATION_DATE": "2021-03-28T14:09:19",
         "EST_REST_DATE": "2021-04-09T16:00:00+01:00",
         "HISTORIC_FLAG": null,
         "HISTORIC_TIMESTAMP": null,
         "INCIDENT_REF": "INCD-492911-k",
         "INC_TYPE_ID": "HV_N",
         "LOOK_UP_DESCRIPTION": "In Progress",
         "MAIN_MESSAGE": "Monitoring systems on our network have alerted us to an unexpected fault affecting a number of customers over a wide area. We apologise for the inconvenience caused, our emergency response teams have been notified and we expect your supply to be restored by 13:45",
         "PLANNED_FLAG": "Y",
         "POSTCODES": [
          "DG140RS",
          "DG140RT",
          "DG140RU"
         ],
         "TRANSCRIPT": "Monitoring systems on our network have alerted us to an unexpected fault affecting a number of customers over a wide area. We apologise for the inconvenience caused, our emergency response teams have been notified and we expect your supply to be restored by 13:45"
        },
        {
         "CREATION_DATE": "2021-03-28T13:06:12",
         "EST_REST_DATE": "2021-04-09T16:00:00+01:00",
         "HISTORIC_FLAG": null,
         "HISTORIC_TIMESTAMP": null,
         "INCIDENT_REF": "INCD-492905-k",
         "INC_TYPE_ID": "LV",
         "LOOK_UP_DESCRIPTION": "In Progress",
         "MAIN_MESSAGE": "The electricity supply to your premises may currently be affected by planned work.  You should have received a letter explaining this.  We hope to be able to restore your supplies by 09-APR-2021 16:00.  Please accept our sincere apologies for any inconvenience this is causing.",
         "PLANNED_FLAG": "Y",
         "POSTCODES": [
          "TD106UW"
         ],
         "TRANSCRIPT": "The electricity supply to your premises may currently be affected by planned work.  You should have received a letter explaining this.  We hope to be able to restore your supplies by 09-APR-2021 16:00.  Please accept our sincere apologies for any inconvenience this is causing."
        },
        {
         "CREATION_DATE": "2021-03-26T16:29:48",
         "EST_REST_DATE": null,
         "HISTORIC_FLAG": 1,
         "HISTORIC_TIMESTAMP": "2021-04-08T17:35:26.76",
         "INCIDENT_REF": "INCD-492713-k",
         "INC_TYPE_ID": "HV_N",
         "LOOK_UP_DESCRIPTION": "In Progress",
         "MAIN_MESSAGE": "There was a planned outage in your area which is now complete.  If you are still without power. please call us on: \nCentral and Southern Scotland: 0800 092 9290 . \n Cheshire, Merseyside, North Wales and North Shropshire: 0800 001 5400.",
         "PLANNED_FLAG": "Y",
         "POSTCODES": [
          "DG111EP",
          "DG111HD",
          "DG111HF",
          "DG111HG",
          "DG111HN",
          "DG111HW"
         ],
         "TRANSCRIPT": "There was a planned outage in your area which is now complete.  If you are still without power. please call us on: \nCentral and Southern Scotland: 0800 092 9290 . \n Cheshire, Merseyside, North Wales and North Shropshire: 0800 001 5400."
        },
        {
         "CREATION_DATE": "2021-03-26T15:50:52",
         "EST_REST_DATE": "2021-04-09T16:30:00+01:00",
         "HISTORIC_FLAG": null,
         "HISTORIC_TIMESTAMP": null,
         "INCIDENT_REF": "INCD-492701-k",
         "INC_TYPE_ID": "HV_N",
         "LOOK_UP_DESCRIPTION": "In Progress",
         "MAIN_MESSAGE": "The electricity supply to your premises may currently be affected by planned work.  You should have received a letter explaining this.  We hope to be able to restore your supplies by 09-APR-2021 16:30.  Please accept our sincere apologies for any inconvenience this is causing.",
         "PLANNED_FLAG": "Y",
         "POSTCODES": [
          "FK12JL",
          "FK12JW"
         ],
         "TRANSCRIPT": "The electricity supply to your premises may currently be affected by planned work.  You should have received a letter explaining this.  We hope to be able to restore your supplies by 09-APR-2021 16:30.  Please accept our sincere apologies for any inconvenience this is causing."
        },
        {
         "CREATION_DATE": "2021-03-26T12:08:56",
         "EST_REST_DATE": null,
         "HISTORIC_FLAG": 1,
         "HISTORIC_TIMESTAMP": "2021-04-09T12:39:41.963",
         "INCIDENT_REF": "INCD-492545-k",
         "INC_TYPE_ID": "LV",
         "LOOK_UP_DESCRIPTION": "In Progress",
         "MAIN_MESSAGE": "There was a planned outage in your area which is now complete.  If you are still without power. please call us on: \nCentral and Southern Scotland: 0800 092 9290 . \n Cheshire, Merseyside, North Wales and North Shropshire: 0800 001 5400.",
         "PLANNED_FLAG": "Y",
         "POSTCODES": [
          "KA36DU"
         ],
         "TRANSCRIPT": "There was a planned outage in your area which is now complete.  If you are still without power. please call us on: \nCentral and Southern Scotland: 0800 092 9290 . \n Cheshire, Merseyside, North Wales and North Shropshire: 0800 001 5400."
        },
        {
         "CREATION_DATE": "2021-03-26T11:25:40",
         "EST_REST_DATE": null,
         "HISTORIC_FLAG": 1,
         "HISTORIC_TIMESTAMP": "2021-04-09T10:08:48.89",
         "INCIDENT_REF": "INCD-492539-k",
         "INC_TYPE_ID": "HV_N",
         "LOOK_UP_DESCRIPTION": "In Progress",
         "MAIN_MESSAGE": "There was a planned outage in your area which is now complete.  If you are still without power. please call us on: \nCentral and Southern Scotland: 0800 092 9290 . \n Cheshire, Merseyside, North Wales and North Shropshire: 0800 001 5400.",
         "PLANNED_FLAG": "Y",
         "POSTCODES": [
          "KA151HH",
          "KA151HP",
          "KA151HQ",
          "KA151HT"
         ],
         "TRANSCRIPT": "There was a planned outage in your area which is now complete.  If you are still without power. please call us on: \nCentral and Southern Scotland: 0800 092 9290 . \n Cheshire, Merseyside, North Wales and North Shropshire: 0800 001 5400."
        },
        {
         "CREATION_DATE": "2021-03-26T10:32:09",
         "EST_REST_DATE": null,
         "HISTORIC_FLAG": 1,
         "HISTORIC_TIMESTAMP": "2021-04-09T12:29:28.143",
         "INCIDENT_REF": "INCD-492503-k",
         "INC_TYPE_ID": "HV_N",
         "LOOK_UP_DESCRIPTION": "In Progress",
         "MAIN_MESSAGE": "There was a planned outage in your area which is now complete.  If you are still without power. please call us on: \nCentral and Southern Scotland: 0800 092 9290 . \n Cheshire, Merseyside, North Wales and North Shropshire: 0800 001 5400.",
         "PLANNED_FLAG": "Y",
         "POSTCODES": [
          "KA20BY",
          "KA20DF",
          "KA20DH",
          "KA20DJ",
          "KA20DX",
          "KA20HL"
         ],
         "TRANSCRIPT": "There was a planned outage in your area which is now complete.  If you are still without power. please call us on: \nCentral and Southern Scotland: 0800 092 9290 . \n Cheshire, Merseyside, North Wales and North Shropshire: 0800 001 5400."
        },
        {
         "CREATION_DATE": "2021-03-26T10:18:35",
         "EST_REST_DATE": null,
         "HISTORIC_FLAG": 1,
         "HISTORIC_TIMESTAMP": "2021-04-09T11:21:15.65",
         "INCIDENT_REF": "INCD-492485-k",
         "INC_TYPE_ID": "HV_N",
         "LOOK_UP_DESCRIPTION": "In Progress",
         "MAIN_MESSAGE": "There was a planned outage in your area which is now complete.  If you are still without power. please call us on: \nCentral and Southern Scotland: 0800 092 9290 . \n Cheshire, Merseyside, North Wales and North Shropshire: 0800 001 5400.",
         "PLANNED_FLAG": "Y",
         "POSTCODES": [
          "EH497LY",
          "EH497ND"
         ],
         "TRANSCRIPT": "There was a planned outage in your area which is now complete.  If you are still without power. please call us on: \nCentral and Southern Scotland: 0800 092 9290 . \n Cheshire, Merseyside, North Wales and North Shropshire: 0800 001 5400."
        },
        {
         "CREATION_DATE": "2021-03-26T09:44:33",
         "EST_REST_DATE": "2021-04-09T15:00:00+01:00",
         "HISTORIC_FLAG": null,
         "HISTORIC_TIMESTAMP": null,
         "INCIDENT_REF": "INCD-492467-k",
         "INC_TYPE_ID": "HV_N",
         "LOOK_UP_DESCRIPTION": "In Progress",
         "MAIN_MESSAGE": "The electricity supply to your premises may currently be affected by planned work.  You should have received a letter explaining this.  We hope to be able to restore your supplies by 09-APR-2021 15:00.  Please accept our sincere apologies for any inconvenience this is causing.",
         "PLANNED_FLAG": "Y",
         "POSTCODES": [
          "KA20DW",
          "KA20EE",
          "KA32LY",
          "KA32PF"
         ],
         "TRANSCRIPT": "The electricity supply to your premises may currently be affected by planned work.  You should have received a letter explaining this.  We hope to be able to restore your supplies by 09-APR-2021 15:00.  Please accept our sincere apologies for any inconvenience this is causing."
        },
        {
         "CREATION_DATE": "2021-03-26T08:29:05",
         "EST_REST_DATE": null,
         "HISTORIC_FLAG": 1,
         "HISTORIC_TIMESTAMP": "2021-04-08T16:10:40.7",
         "INCIDENT_REF": "INCD-492425-k",
         "INC_TYPE_ID": "HV_N",
         "LOOK_UP_DESCRIPTION": "In Progress",
         "MAIN_MESSAGE": "There was a planned outage in your area which is now complete.  If you are still without power. please call us on: \nCentral and Southern Scotland: 0800 092 9290 . \n Cheshire, Merseyside, North Wales and North Shropshire: 0800 001 5400.",
         "PLANNED_FLAG": "Y",
         "POSTCODES": [
          "KY157",
          "KY157UT",
          "KY157UZ"
         ],
         "TRANSCRIPT": "There was a planned outage in your area which is now complete.  If you are still without power. please call us on: \nCentral and Southern Scotland: 0800 092 9290 . \n Cheshire, Merseyside, North Wales and North Shropshire: 0800 001 5400."
        },
        {
         "CREATION_DATE": "2021-03-25T13:55:49",
         "EST_REST_DATE": null,
         "HISTORIC_FLAG": 1,
         "HISTORIC_TIMESTAMP": "2021-04-08T18:05:19.71",
         "INCIDENT_REF": "INCD-500919-f",
         "INC_TYPE_ID": "HV_N",
         "LOOK_UP_DESCRIPTION": "In Progress",
         "MAIN_MESSAGE": "There was a planned outage in your area which is now complete.  If you are still without power. please call us on: \nCentral and Southern Scotland: 0800 092 9290 . \n Cheshire, Merseyside, North Wales and North Shropshire: 0800 001 5400.",
         "PLANNED_FLAG": "Y",
         "POSTCODES": [
          "TD106UN",
          "TD113HY",
          "TD57QT"
         ],
         "TRANSCRIPT": "There was a planned outage in your area which is now complete.  If you are still without power. please call us on: \nCentral and Southern Scotland: 0800 092 9290 . \n Cheshire, Merseyside, North Wales and North Shropshire: 0800 001 5400."
        },
        {
         "CREATION_DATE": "2021-03-25T13:37:30",
         "EST_REST_DATE": null,
         "HISTORIC_FLAG": 1,
         "HISTORIC_TIMESTAMP": "2021-04-08T17:14:29.917",
         "INCIDENT_REF": "INCD-492377-k",
         "INC_TYPE_ID": "HV_N",
         "LOOK_UP_DESCRIPTION": "In Progress",
         "MAIN_MESSAGE": "There was a planned outage in your area which is now complete.  If you are still without power. please call us on: \nCentral and Southern Scotland: 0800 092 9290 . \n Cheshire, Merseyside, North Wales and North Shropshire: 0800 001 5400.",
         "PLANNED_FLAG": "Y",
         "POSTCODES": [
          "TD113GA",
          "TD113SG",
          "TD113TX"
         ],
         "TRANSCRIPT": "There was a planned outage in your area which is now complete.  If you are still without power. please call us on: \nCentral and Southern Scotland: 0800 092 9290 . \n Cheshire, Merseyside, North Wales and North Shropshire: 0800 001 5400."
        },
        {
         "CREATION_DATE": "2021-03-25T12:31:24",
         "EST_REST_DATE": null,
         "HISTORIC_FLAG": 1,
         "HISTORIC_TIMESTAMP": "2021-04-08T16:52:32.937",
         "INCIDENT_REF": "INCD-492359-k",
         "INC_TYPE_ID": "HV_N",
         "LOOK_UP_DESCRIPTION": "In Progress",
         "MAIN_MESSAGE": "There was a planned outage in your area which is now complete.  If you are still without power. please call us on: \nCentral and Southern Scotland: 0800 092 9290 . \n Cheshire, Merseyside, North Wales and North Shropshire: 0800 001 5400.",
         "PLANNED_FLAG": "Y",
         "POSTCODES": [
          "DG140RA",
          "DG140RD",
          "DG140RE",
          "DG140RN",
          "DG140RP",
          "DG140RR",
          "DG140RS",
          "DG140RW",
          "DG140XA"
         ],
         "TRANSCRIPT": "There was a planned outage in your area which is now complete.  If you are still without power. please call us on: \nCentral and Southern Scotland: 0800 092 9290 . \n Cheshire, Merseyside, North Wales and North Shropshire: 0800 001 5400."
        },
        {
         "CREATION_DATE": "2021-03-25T11:32:05",
         "EST_REST_DATE": null,
         "HISTORIC_FLAG": 1,
         "HISTORIC_TIMESTAMP": "2021-04-08T16:33:25.823",
         "INCIDENT_REF": "INCD-492353-k",
         "INC_TYPE_ID": "HV_N",
         "LOOK_UP_DESCRIPTION": "In Progress",
         "MAIN_MESSAGE": "There was a planned outage in your area which is now complete.  If you are still without power. please call us on: \nCentral and Southern Scotland: 0800 092 9290 . \n Cheshire, Merseyside, North Wales and North Shropshire: 0800 001 5400.",
         "PLANNED_FLAG": "Y",
         "POSTCODES": [
          "KA67QE"
         ],
         "TRANSCRIPT": "There was a planned outage in your area which is now complete.  If you are still without power. please call us on: \nCentral and Southern Scotland: 0800 092 9290 . \n Cheshire, Merseyside, North Wales and North Shropshire: 0800 001 5400."
        },
        {
         "CREATION_DATE": "2021-03-25T10:06:40",
         "EST_REST_DATE": null,
         "HISTORIC_FLAG": 1,
         "HISTORIC_TIMESTAMP": "2021-04-08T14:31:37.113",
         "INCIDENT_REF": "INCD-492347-k",
         "INC_TYPE_ID": "HV_N",
         "LOOK_UP_DESCRIPTION": "In Progress",
         "MAIN_MESSAGE": "There was a planned outage in your area which is now complete.  If you are still without power. please call us on: \nCentral and Southern Scotland: 0800 092 9290 . \n Cheshire, Merseyside, North Wales and North Shropshire: 0800 001 5400.",
         "PLANNED_FLAG": "Y",
         "POSTCODES": [
          "EH414QA"
         ],
         "TRANSCRIPT": "There was a planned outage in your area which is now complete.  If you are still without power. please call us on: \nCentral and Southern Scotland: 0800 092 9290 . \n Cheshire, Merseyside, North Wales and North Shropshire: 0800 001 5400."
        },
        {
         "CREATION_DATE": "2021-03-25T09:15:27",
         "EST_REST_DATE": "2021-04-09T16:30:00+01:00",
         "HISTORIC_FLAG": null,
         "HISTORIC_TIMESTAMP": null,
         "INCIDENT_REF": "INCD-492311-k",
         "INC_TYPE_ID": "HV_N",
         "LOOK_UP_DESCRIPTION": "In Progress",
         "MAIN_MESSAGE": "The electricity supply to your premises may currently be affected by planned work.  You should have received a letter explaining this.  We hope to be able to restore your supplies by 09-APR-2021 16:30.  Please accept our sincere apologies for any inconvenience this is causing.",
         "PLANNED_FLAG": "Y",
         "POSTCODES": [
          "SY44AE",
          "SY44AN",
          "SY44AP",
          "SY44AW",
          "SY44BA"
         ],
         "TRANSCRIPT": "The electricity supply to your premises may currently be affected by planned work.  You should have received a letter explaining this.  We hope to be able to restore your supplies by 09-APR-2021 16:30.  Please accept our sincere apologies for any inconvenience this is causing."
        },
        {
         "CREATION_DATE": "2021-03-22T11:25:42",
         "EST_REST_DATE": null,
         "HISTORIC_FLAG": 1,
         "HISTORIC_TIMESTAMP": "2021-04-09T11:45:15.75",
         "INCIDENT_REF": "INCD-491837-k",
         "INC_TYPE_ID": "HV_N",
         "LOOK_UP_DESCRIPTION": "In Progress",
         "MAIN_MESSAGE": "There was a planned outage in your area which is now complete.  If you are still without power. please call us on: \nCentral and Southern Scotland: 0800 092 9290 . \n Cheshire, Merseyside, North Wales and North Shropshire: 0800 001 5400.",
         "PLANNED_FLAG": "Y",
         "POSTCODES": [
          "CH39LF",
          "CH39LG",
          "CH39LH",
          "CH39LJ",
          "CH39LL",
          "CH39LQ",
          "H39LL"
         ],
         "TRANSCRIPT": "There was a planned outage in your area which is now complete.  If you are still without power. please call us on: \nCentral and Southern Scotland: 0800 092 9290 . \n Cheshire, Merseyside, North Wales and North Shropshire: 0800 001 5400."
        },
        {
         "CREATION_DATE": "2021-03-18T13:26:06",
         "EST_REST_DATE": null,
         "HISTORIC_FLAG": 1,
         "HISTORIC_TIMESTAMP": "2021-04-08T16:24:47.557",
         "INCIDENT_REF": "INCD-366880-r",
         "INC_TYPE_ID": "HV_N",
         "LOOK_UP_DESCRIPTION": "In Progress",
         "MAIN_MESSAGE": "There was a planned outage in your area which is now complete.  If you are still without power. please call us on: \nCentral and Southern Scotland: 0800 092 9290 . \n Cheshire, Merseyside, North Wales and North Shropshire: 0800 001 5400.",
         "PLANNED_FLAG": "Y",
         "POSTCODES": [
          "CW73NX",
          "CW73PA"
         ],
         "TRANSCRIPT": "There was a planned outage in your area which is now complete.  If you are still without power. please call us on: \nCentral and Southern Scotland: 0800 092 9290 . \n Cheshire, Merseyside, North Wales and North Shropshire: 0800 001 5400."
        },
        {
         "CREATION_DATE": "2021-03-16T15:24:01",
         "EST_REST_DATE": "2021-04-09T14:00:00+01:00",
         "HISTORIC_FLAG": null,
         "HISTORIC_TIMESTAMP": null,
         "INCIDENT_REF": "INCD-491153-k",
         "INC_TYPE_ID": "LV",
         "LOOK_UP_DESCRIPTION": "In Progress",
         "MAIN_MESSAGE": "The electricity supply to your premises may currently be affected by planned work.  You should have received a letter explaining this.  We hope to be able to restore your supplies by 09-APR-2021 14:00.  Please accept our sincere apologies for any inconvenience this is causing.",
         "PLANNED_FLAG": "Y",
         "POSTCODES": [
          "LL228DU",
          "LL228DX",
          "LL228DY",
          "LL228EB"
         ],
         "TRANSCRIPT": "The electricity supply to your premises may currently be affected by planned work.  You should have received a letter explaining this.  We hope to be able to restore your supplies by 09-APR-2021 14:00.  Please accept our sincere apologies for any inconvenience this is causing."
        },
        {
         "CREATION_DATE": "2021-03-16T12:07:31",
         "EST_REST_DATE": null,
         "HISTORIC_FLAG": 1,
         "HISTORIC_TIMESTAMP": "2021-04-09T12:43:10.807",
         "INCIDENT_REF": "INCD-491093-k",
         "INC_TYPE_ID": "LV",
         "LOOK_UP_DESCRIPTION": "In Progress",
         "MAIN_MESSAGE": "There was a planned outage in your area which is now complete.  If you are still without power. please call us on: \nCentral and Southern Scotland: 0800 092 9290 . \n Cheshire, Merseyside, North Wales and North Shropshire: 0800 001 5400.",
         "PLANNED_FLAG": "Y",
         "POSTCODES": [
          "LL219SF"
         ],
         "TRANSCRIPT": "There was a planned outage in your area which is now complete.  If you are still without power. please call us on: \nCentral and Southern Scotland: 0800 092 9290 . \n Cheshire, Merseyside, North Wales and North Shropshire: 0800 001 5400."
        },
        {
         "CREATION_DATE": "2021-03-15T14:17:43",
         "EST_REST_DATE": null,
         "HISTORIC_FLAG": 1,
         "HISTORIC_TIMESTAMP": "2021-04-09T12:39:41.963",
         "INCIDENT_REF": "INCD-490883-k",
         "INC_TYPE_ID": "HV_N",
         "LOOK_UP_DESCRIPTION": "In Progress",
         "MAIN_MESSAGE": "There was a planned outage in your area which is now complete.  If you are still without power. please call us on: \nCentral and Southern Scotland: 0800 092 9290 . \n Cheshire, Merseyside, North Wales and North Shropshire: 0800 001 5400.",
         "PLANNED_FLAG": "Y",
         "POSTCODES": [
          "LL185UB",
          "LL185UE"
         ],
         "TRANSCRIPT": "There was a planned outage in your area which is now complete.  If you are still without power. please call us on: \nCentral and Southern Scotland: 0800 092 9290 . \n Cheshire, Merseyside, North Wales and North Shropshire: 0800 001 5400."
        },
        {
         "CREATION_DATE": "2021-03-15T11:42:04",
         "EST_REST_DATE": null,
         "HISTORIC_FLAG": 1,
         "HISTORIC_TIMESTAMP": "2021-04-08T16:07:09.71",
         "INCIDENT_REF": "INCD-490775-k",
         "INC_TYPE_ID": "HV_N",
         "LOOK_UP_DESCRIPTION": "In Progress",
         "MAIN_MESSAGE": "There was a planned outage in your area which is now complete.  If you are still without power. please call us on: \nCentral and Southern Scotland: 0800 092 9290 . \n Cheshire, Merseyside, North Wales and North Shropshire: 0800 001 5400.",
         "PLANNED_FLAG": "Y",
         "POSTCODES": [
          "SY163HX",
          "SY163JB",
          "SY163JN",
          "SY163JS",
          "SY163JW"
         ],
         "TRANSCRIPT": "There was a planned outage in your area which is now complete.  If you are still without power. please call us on: \nCentral and Southern Scotland: 0800 092 9290 . \n Cheshire, Merseyside, North Wales and North Shropshire: 0800 001 5400."
        },
        {
         "CREATION_DATE": "2021-03-11T15:21:01",
         "EST_REST_DATE": "2021-04-09T16:00:00+01:00",
         "HISTORIC_FLAG": null,
         "HISTORIC_TIMESTAMP": null,
         "INCIDENT_REF": "INCD-490277-k",
         "INC_TYPE_ID": "LV",
         "LOOK_UP_DESCRIPTION": "In Progress",
         "MAIN_MESSAGE": "The electricity supply to your premises may currently be affected by planned work.  You should have received a letter explaining this.  We hope to be able to restore your supplies by 09-APR-2021 16:00.  Please accept our sincere apologies for any inconvenience this is causing.",
         "PLANNED_FLAG": "Y",
         "POSTCODES": [
          "CW47LP",
          "CW47LW"
         ],
         "TRANSCRIPT": "The electricity supply to your premises may currently be affected by planned work.  You should have received a letter explaining this.  We hope to be able to restore your supplies by 09-APR-2021 16:00.  Please accept our sincere apologies for any inconvenience this is causing."
        },
        {
         "CREATION_DATE": "2021-03-11T12:29:39",
         "EST_REST_DATE": null,
         "HISTORIC_FLAG": 1,
         "HISTORIC_TIMESTAMP": "2021-04-08T16:28:21.927",
         "INCIDENT_REF": "INCD-490145-k",
         "INC_TYPE_ID": "LV",
         "LOOK_UP_DESCRIPTION": "In Progress",
         "MAIN_MESSAGE": "There was a planned outage in your area which is now complete.  If you are still without power. please call us on: \nCentral and Southern Scotland: 0800 092 9290 . \n Cheshire, Merseyside, North Wales and North Shropshire: 0800 001 5400.",
         "PLANNED_FLAG": "Y",
         "POSTCODES": [
          "LL553HL"
         ],
         "TRANSCRIPT": "There was a planned outage in your area which is now complete.  If you are still without power. please call us on: \nCentral and Southern Scotland: 0800 092 9290 . \n Cheshire, Merseyside, North Wales and North Shropshire: 0800 001 5400."
        },
        {
         "CREATION_DATE": "2021-03-11T10:11:38",
         "EST_REST_DATE": null,
         "HISTORIC_FLAG": 1,
         "HISTORIC_TIMESTAMP": "2021-04-09T12:51:40.947",
         "INCIDENT_REF": "INCD-490019-k",
         "INC_TYPE_ID": "HV_N",
         "LOOK_UP_DESCRIPTION": "In Progress",
         "MAIN_MESSAGE": "There was a planned outage in your area which is now complete.  If you are still without power. please call us on: \nCentral and Southern Scotland: 0800 092 9290 . \n Cheshire, Merseyside, North Wales and North Shropshire: 0800 001 5400.",
         "PLANNED_FLAG": "Y",
         "POSTCODES": [
          "SY4",
          "SY44BA",
          "SY44BD"
         ],
         "TRANSCRIPT": "There was a planned outage in your area which is now complete.  If you are still without power. please call us on: \nCentral and Southern Scotland: 0800 092 9290 . \n Cheshire, Merseyside, North Wales and North Shropshire: 0800 001 5400."
        },
        {
         "CREATION_DATE": "2021-03-11T10:00:22",
         "EST_REST_DATE": null,
         "HISTORIC_FLAG": 1,
         "HISTORIC_TIMESTAMP": "2021-04-09T12:43:10.807",
         "INCIDENT_REF": "INCD-490001-k",
         "INC_TYPE_ID": "HV_N",
         "LOOK_UP_DESCRIPTION": "In Progress",
         "MAIN_MESSAGE": "There was a planned outage in your area which is now complete.  If you are still without power. please call us on: \nCentral and Southern Scotland: 0800 092 9290 . \n Cheshire, Merseyside, North Wales and North Shropshire: 0800 001 5400.",
         "PLANNED_FLAG": "Y",
         "POSTCODES": [
          "LL653EY"
         ],
         "TRANSCRIPT": "There was a planned outage in your area which is now complete.  If you are still without power. please call us on: \nCentral and Southern Scotland: 0800 092 9290 . \n Cheshire, Merseyside, North Wales and North Shropshire: 0800 001 5400."
        },
        {
         "CREATION_DATE": "2021-03-10T15:21:25",
         "EST_REST_DATE": "2021-04-09T16:00:00+01:00",
         "HISTORIC_FLAG": null,
         "HISTORIC_TIMESTAMP": null,
         "INCIDENT_REF": "INCD-489899-k",
         "INC_TYPE_ID": "LV",
         "LOOK_UP_DESCRIPTION": "In Progress",
         "MAIN_MESSAGE": "The electricity supply to your premises may currently be affected by planned work.  You should have received a letter explaining this.  We hope to be able to restore your supplies by 09-APR-2021 16:00.  Please accept our sincere apologies for any inconvenience this is causing.",
         "PLANNED_FLAG": "Y",
         "POSTCODES": [
          "L175AN"
         ],
         "TRANSCRIPT": "The electricity supply to your premises may currently be affected by planned work.  You should have received a letter explaining this.  We hope to be able to restore your supplies by 09-APR-2021 16:00.  Please accept our sincere apologies for any inconvenience this is causing."
        },
        {
         "CREATION_DATE": "2021-03-10T14:07:53",
         "EST_REST_DATE": null,
         "HISTORIC_FLAG": 1,
         "HISTORIC_TIMESTAMP": "2021-04-09T10:01:47.653",
         "INCIDENT_REF": "INCD-489833-k",
         "INC_TYPE_ID": "HV_N",
         "LOOK_UP_DESCRIPTION": "In Progress",
         "MAIN_MESSAGE": "There was a planned outage in your area which is now complete.  If you are still without power. please call us on: \nCentral and Southern Scotland: 0800 092 9290 . \n Cheshire, Merseyside, North Wales and North Shropshire: 0800 001 5400.",
         "PLANNED_FLAG": "Y",
         "POSTCODES": [
          "WA61AA",
          "WA66LH",
          "WA66LJ",
          "WA66NL",
          "WA66NY",
          "WA66NZ",
          "WA68JN",
          "WA68LR",
          "WA68ND",
          "WA68NE",
          "WA68NF"
         ],
         "TRANSCRIPT": "There was a planned outage in your area which is now complete.  If you are still without power. please call us on: \nCentral and Southern Scotland: 0800 092 9290 . \n Cheshire, Merseyside, North Wales and North Shropshire: 0800 001 5400."
        },
        {
         "CREATION_DATE": "2021-03-10T13:59:08",
         "EST_REST_DATE": null,
         "HISTORIC_FLAG": 1,
         "HISTORIC_TIMESTAMP": "2021-04-09T11:43:31.94",
         "INCIDENT_REF": "INCD-489821-k",
         "INC_TYPE_ID": "HV_N",
         "LOOK_UP_DESCRIPTION": "In Progress",
         "MAIN_MESSAGE": "There was a planned outage in your area which is now complete.  If you are still without power. please call us on: \nCentral and Southern Scotland: 0800 092 9290 . \n Cheshire, Merseyside, North Wales and North Shropshire: 0800 001 5400.",
         "PLANNED_FLAG": "Y",
         "POSTCODES": [
          "CW82TF",
          "CW82TG",
          "CW82TQ",
          "WA68JS",
          "WA68LJ",
          "WA68LL",
          "WA68LN",
          "WA68LR",
          "WA68LW"
         ],
         "TRANSCRIPT": "There was a planned outage in your area which is now complete.  If you are still without power. please call us on: \nCentral and Southern Scotland: 0800 092 9290 . \n Cheshire, Merseyside, North Wales and North Shropshire: 0800 001 5400."
        },
        {
         "CREATION_DATE": "2021-03-10T12:38:44",
         "EST_REST_DATE": null,
         "HISTORIC_FLAG": 1,
         "HISTORIC_TIMESTAMP": "2021-04-08T13:50:54.33",
         "INCIDENT_REF": "INCD-489761-k",
         "INC_TYPE_ID": "HV_N",
         "LOOK_UP_DESCRIPTION": "In Progress",
         "MAIN_MESSAGE": "There was a planned outage in your area which is now complete.  If you are still without power. please call us on: \nCentral and Southern Scotland: 0800 092 9290 . \n Cheshire, Merseyside, North Wales and North Shropshire: 0800 001 5400.",
         "PLANNED_FLAG": "Y",
         "POSTCODES": [
          "LL186BT",
          "LL186HS",
          "LL186HT"
         ],
         "TRANSCRIPT": "There was a planned outage in your area which is now complete.  If you are still without power. please call us on: \nCentral and Southern Scotland: 0800 092 9290 . \n Cheshire, Merseyside, North Wales and North Shropshire: 0800 001 5400."
        },
        {
         "CREATION_DATE": "2021-03-10T11:37:04",
         "EST_REST_DATE": "2021-04-09T14:30:00+01:00",
         "HISTORIC_FLAG": null,
         "HISTORIC_TIMESTAMP": null,
         "INCIDENT_REF": "INCD-489743-k",
         "INC_TYPE_ID": "HV_N",
         "LOOK_UP_DESCRIPTION": "In Progress",
         "MAIN_MESSAGE": "The electricity supply to your premises may currently be affected by planned work.  You should have received a letter explaining this.  We hope to be able to restore your supplies by 09-APR-2021 14:30.  Please accept our sincere apologies for any inconvenience this is causing.",
         "PLANNED_FLAG": "Y",
         "POSTCODES": [
          "SY164NH"
         ],
         "TRANSCRIPT": "The electricity supply to your premises may currently be affected by planned work.  You should have received a letter explaining this.  We hope to be able to restore your supplies by 09-APR-2021 14:30.  Please accept our sincere apologies for any inconvenience this is causing."
        },
        {
         "CREATION_DATE": "2021-03-10T11:24:51",
         "EST_REST_DATE": "2021-04-09T16:00:00+01:00",
         "HISTORIC_FLAG": null,
         "HISTORIC_TIMESTAMP": null,
         "INCIDENT_REF": "INCD-489731-k",
         "INC_TYPE_ID": "HV_N",
         "LOOK_UP_DESCRIPTION": "In Progress",
         "MAIN_MESSAGE": "The electricity supply to your premises may currently be affected by planned work.  You should have received a letter explaining this.  We hope to be able to restore your supplies by 09-APR-2021 16:00.  Please accept our sincere apologies for any inconvenience this is causing.",
         "PLANNED_FLAG": "Y",
         "POSTCODES": [
          "SY226TB",
          "SY226TD",
          "SY226TJ"
         ],
         "TRANSCRIPT": "The electricity supply to your premises may currently be affected by planned work.  You should have received a letter explaining this.  We hope to be able to restore your supplies by 09-APR-2021 16:00.  Please accept our sincere apologies for any inconvenience this is causing."
        },
        {
         "CREATION_DATE": "2021-03-10T11:07:41",
         "EST_REST_DATE": "2021-04-09T17:00:00+01:00",
         "HISTORIC_FLAG": null,
         "HISTORIC_TIMESTAMP": null,
         "INCIDENT_REF": "INCD-489725-k",
         "INC_TYPE_ID": "HV_N",
         "LOOK_UP_DESCRIPTION": "In Progress",
         "MAIN_MESSAGE": "The electricity supply to your premises may currently be affected by planned work.  You should have received a letter explaining this.  We hope to be able to restore your supplies by 09-APR-2021 17:00.  Please accept our sincere apologies for any inconvenience this is causing.",
         "PLANNED_FLAG": "Y",
         "POSTCODES": [
          "LL595BT",
          "LL595BY"
         ],
         "TRANSCRIPT": "The electricity supply to your premises may currently be affected by planned work.  You should have received a letter explaining this.  We hope to be able to restore your supplies by 09-APR-2021 17:00.  Please accept our sincere apologies for any inconvenience this is causing."
        },
        {
         "CREATION_DATE": "2021-03-10T10:44:11",
         "EST_REST_DATE": "2021-04-09T14:30:00+01:00",
         "HISTORIC_FLAG": null,
         "HISTORIC_TIMESTAMP": null,
         "INCIDENT_REF": "INCD-489707-k",
         "INC_TYPE_ID": "HV_N",
         "LOOK_UP_DESCRIPTION": "In Progress",
         "MAIN_MESSAGE": "The electricity supply to your premises may currently be affected by planned work.  You should have received a letter explaining this.  We hope to be able to restore your supplies by 09-APR-2021 14:30.  Please accept our sincere apologies for any inconvenience this is causing.",
         "PLANNED_FLAG": "Y",
         "POSTCODES": [
          "CW5",
          "CW58NP",
          "CW58PE",
          "CW58PF",
          "CW58PY",
          "CW58QA",
          "CW58QB",
          "CW58QD"
         ],
         "TRANSCRIPT": "The electricity supply to your premises may currently be affected by planned work.  You should have received a letter explaining this.  We hope to be able to restore your supplies by 09-APR-2021 14:30.  Please accept our sincere apologies for any inconvenience this is causing."
        },
        {
         "CREATION_DATE": "2021-03-09T12:59:09",
         "EST_REST_DATE": null,
         "HISTORIC_FLAG": 1,
         "HISTORIC_TIMESTAMP": "2021-04-09T11:35:05.087",
         "INCIDENT_REF": "INCD-489533-k",
         "INC_TYPE_ID": "HV_N",
         "LOOK_UP_DESCRIPTION": "In Progress",
         "MAIN_MESSAGE": "There was a planned outage in your area which is now complete.  If you are still without power. please call us on: \nCentral and Southern Scotland: 0800 092 9290 . \n Cheshire, Merseyside, North Wales and North Shropshire: 0800 001 5400.",
         "PLANNED_FLAG": "Y",
         "POSTCODES": [
          "CH87AU",
          "CH88LS"
         ],
         "TRANSCRIPT": "There was a planned outage in your area which is now complete.  If you are still without power. please call us on: \nCentral and Southern Scotland: 0800 092 9290 . \n Cheshire, Merseyside, North Wales and North Shropshire: 0800 001 5400."
        },
        {
         "CREATION_DATE": "2021-03-09T12:55:02",
         "EST_REST_DATE": null,
         "HISTORIC_FLAG": 1,
         "HISTORIC_TIMESTAMP": "2021-04-08T13:59:28.233",
         "INCIDENT_REF": "INCD-489527-k",
         "INC_TYPE_ID": "HV_N",
         "LOOK_UP_DESCRIPTION": "In Progress",
         "MAIN_MESSAGE": "There was a planned outage in your area which is now complete.  If you are still without power. please call us on: \nCentral and Southern Scotland: 0800 092 9290 . \n Cheshire, Merseyside, North Wales and North Shropshire: 0800 001 5400.",
         "PLANNED_FLAG": "Y",
         "POSTCODES": [
          "SY109HZ",
          "SY109JH",
          "SY109JJ",
          "SY109JL",
          "SY109JQ",
          "SY109LR"
         ],
         "TRANSCRIPT": "There was a planned outage in your area which is now complete.  If you are still without power. please call us on: \nCentral and Southern Scotland: 0800 092 9290 . \n Cheshire, Merseyside, North Wales and North Shropshire: 0800 001 5400."
        },
        {
         "CREATION_DATE": "2021-03-09T12:45:22",
         "EST_REST_DATE": "2021-04-09T15:00:00+01:00",
         "HISTORIC_FLAG": null,
         "HISTORIC_TIMESTAMP": null,
         "INCIDENT_REF": "INCD-489509-k",
         "INC_TYPE_ID": "HV_N",
         "LOOK_UP_DESCRIPTION": "In Progress",
         "MAIN_MESSAGE": "The electricity supply to your premises may currently be affected by planned work.  You should have received a letter explaining this.  We hope to be able to restore your supplies by 09-APR-2021 15:00.  Please accept our sincere apologies for any inconvenience this is causing.",
         "PLANNED_FLAG": "Y",
         "POSTCODES": [
          "CW82FJ",
          "CW82RJ",
          "CW82RL",
          "CW82RR",
          "CW82TL",
          "CW82TN",
          "CW82TR",
          "CW82TU",
          "CW82TW",
          "WA61NH",
          "WA68NF",
          "WA68NG",
          "WA68NH",
          "WA68NJ",
          "WA68NL",
          "WA68NY",
          "WA68NZ",
          "WA68PA",
          "WA68PD",
          "WA68PF",
          "WA68PH",
          "WA68PJ"
         ],
         "TRANSCRIPT": "The electricity supply to your premises may currently be affected by planned work.  You should have received a letter explaining this.  We hope to be able to restore your supplies by 09-APR-2021 15:00.  Please accept our sincere apologies for any inconvenience this is causing."
        },
        {
         "CREATION_DATE": "2021-03-08T11:59:48",
         "EST_REST_DATE": null,
         "HISTORIC_FLAG": 1,
         "HISTORIC_TIMESTAMP": "2021-04-08T15:01:47.4",
         "INCIDENT_REF": "INCD-489263-k",
         "INC_TYPE_ID": "HV_N",
         "LOOK_UP_DESCRIPTION": "In Progress",
         "MAIN_MESSAGE": "There was a planned outage in your area which is now complete.  If you are still without power. please call us on: \nCentral and Southern Scotland: 0800 092 9290 . \n Cheshire, Merseyside, North Wales and North Shropshire: 0800 001 5400.",
         "PLANNED_FLAG": "Y",
         "POSTCODES": [
          "LL414PY"
         ],
         "TRANSCRIPT": "There was a planned outage in your area which is now complete.  If you are still without power. please call us on: \nCentral and Southern Scotland: 0800 092 9290 . \n Cheshire, Merseyside, North Wales and North Shropshire: 0800 001 5400."
        },
        {
         "CREATION_DATE": "2021-03-03T16:05:50",
         "EST_REST_DATE": null,
         "HISTORIC_FLAG": 1,
         "HISTORIC_TIMESTAMP": "2021-04-08T15:19:13.647",
         "INCIDENT_REF": "INCD-488765-k",
         "INC_TYPE_ID": "HV_N",
         "LOOK_UP_DESCRIPTION": "In Progress",
         "MAIN_MESSAGE": "There was a planned outage in your area which is now complete.  If you are still without power. please call us on: \nCentral and Southern Scotland: 0800 092 9290 . \n Cheshire, Merseyside, North Wales and North Shropshire: 0800 001 5400.",
         "PLANNED_FLAG": "Y",
         "POSTCODES": [
          "LL164NW",
          "LL164RP",
          "LL164RR",
          "LL164RS",
          "LL164SD",
          "LL164SE"
         ],
         "TRANSCRIPT": "There was a planned outage in your area which is now complete.  If you are still without power. please call us on: \nCentral and Southern Scotland: 0800 092 9290 . \n Cheshire, Merseyside, North Wales and North Shropshire: 0800 001 5400."
        },
        {
         "CREATION_DATE": "2021-03-03T15:42:41",
         "EST_REST_DATE": null,
         "HISTORIC_FLAG": 1,
         "HISTORIC_TIMESTAMP": "2021-04-08T15:05:19.93",
         "INCIDENT_REF": "INCD-488759-k",
         "INC_TYPE_ID": "HV_N",
         "LOOK_UP_DESCRIPTION": "In Progress",
         "MAIN_MESSAGE": "There was a planned outage in your area which is now complete.  If you are still without power. please call us on: \nCentral and Southern Scotland: 0800 092 9290 . \n Cheshire, Merseyside, North Wales and North Shropshire: 0800 001 5400.",
         "PLANNED_FLAG": "Y",
         "POSTCODES": [
          "CW83PX",
          "CW83PY",
          "CW83PZ",
          "CW83QE",
          "CW83QF",
          "CW83QG",
          "CW83RA"
         ],
         "TRANSCRIPT": "There was a planned outage in your area which is now complete.  If you are still without power. please call us on: \nCentral and Southern Scotland: 0800 092 9290 . \n Cheshire, Merseyside, North Wales and North Shropshire: 0800 001 5400."
        },
        {
         "CREATION_DATE": "2021-03-03T15:33:27",
         "EST_REST_DATE": null,
         "HISTORIC_FLAG": 1,
         "HISTORIC_TIMESTAMP": "2021-04-08T14:26:34.88",
         "INCIDENT_REF": "INCD-488747-k",
         "INC_TYPE_ID": "HV_N",
         "LOOK_UP_DESCRIPTION": "In Progress",
         "MAIN_MESSAGE": "There was a planned outage in your area which is now complete.  If you are still without power. please call us on: \nCentral and Southern Scotland: 0800 092 9290 . \n Cheshire, Merseyside, North Wales and North Shropshire: 0800 001 5400.",
         "PLANNED_FLAG": "Y",
         "POSTCODES": [
          "SY109HH",
          "SY109HL",
          "SY109JD"
         ],
         "TRANSCRIPT": "There was a planned outage in your area which is now complete.  If you are still without power. please call us on: \nCentral and Southern Scotland: 0800 092 9290 . \n Cheshire, Merseyside, North Wales and North Shropshire: 0800 001 5400."
        },
        {
         "CREATION_DATE": "2021-03-03T15:22:01",
         "EST_REST_DATE": null,
         "HISTORIC_FLAG": 1,
         "HISTORIC_TIMESTAMP": "2021-04-08T15:45:17.623",
         "INCIDENT_REF": "INCD-488741-k",
         "INC_TYPE_ID": "HV_N",
         "LOOK_UP_DESCRIPTION": "In Progress",
         "MAIN_MESSAGE": "There was a planned outage in your area which is now complete.  If you are still without power. please call us on: \nCentral and Southern Scotland: 0800 092 9290 . \n Cheshire, Merseyside, North Wales and North Shropshire: 0800 001 5400.",
         "PLANNED_FLAG": "Y",
         "POSTCODES": [
          "L393BG",
          "L398RA"
         ],
         "TRANSCRIPT": "There was a planned outage in your area which is now complete.  If you are still without power. please call us on: \nCentral and Southern Scotland: 0800 092 9290 . \n Cheshire, Merseyside, North Wales and North Shropshire: 0800 001 5400."
        },
        {
         "CREATION_DATE": "2021-02-17T10:28:37",
         "EST_REST_DATE": null,
         "HISTORIC_FLAG": 1,
         "HISTORIC_TIMESTAMP": "2021-04-08T15:26:20.273",
         "INCIDENT_REF": "INCD-485501-k",
         "INC_TYPE_ID": "HV_N",
         "LOOK_UP_DESCRIPTION": "In Progress",
         "MAIN_MESSAGE": "There was a planned outage in your area which is now complete.  If you are still without power. please call us on: \nCentral and Southern Scotland: 0800 092 9290 . \n Cheshire, Merseyside, North Wales and North Shropshire: 0800 001 5400.",
         "PLANNED_FLAG": "Y",
         "POSTCODES": [
          "LL285UE",
          "LL285UH"
         ],
         "TRANSCRIPT": "There was a planned outage in your area which is now complete.  If you are still without power. please call us on: \nCentral and Southern Scotland: 0800 092 9290 . \n Cheshire, Merseyside, North Wales and North Shropshire: 0800 001 5400."
        }
       ]
      ],
      "text/plain": [
       "<IPython.core.display.JSON object>"
      ]
     },
     "execution_count": 41,
     "metadata": {
      "application/json": {
       "expanded": false,
       "root": "root"
      }
     },
     "output_type": "execute_result"
    }
   ],
   "source": [
    "incidents_info = get_raw_sp_incidents_info()\n",
    "\n",
    "JSON([incidents_info])"
   ]
  },
  {
   "cell_type": "code",
   "execution_count": null,
   "id": "organizational-latest",
   "metadata": {},
   "outputs": [],
   "source": []
  },
  {
   "cell_type": "code",
   "execution_count": 42,
   "id": "mighty-receptor",
   "metadata": {},
   "outputs": [],
   "source": [
    "#exports\n",
    "def clean_sp_incident_info(incident_info):\n",
    "    def clean_dt(dt):\n",
    "        if dt is None:\n",
    "            return ''\n",
    "        else:\n",
    "            return pd.to_datetime(dt, utc=True).strftime('%Y-%m-%d %H:%M')\n",
    "    \n",
    "    cleaned_incident_info = dict()\n",
    "\n",
    "    cleaned_incident_info['received_time'] = clean_dt(incident_info['CREATION_DATE'])\n",
    "    cleaned_incident_info['estimated_restored_time'] = clean_dt(incident_info['EST_REST_DATE'])\n",
    "    cleaned_incident_info['postcodes_impacted'] = incident_info['POSTCODES']\n",
    "    cleaned_incident_info['description'] = incident_info['MAIN_MESSAGE']\n",
    "    cleaned_incident_info['incident_active'] = incident_info['HISTORIC_FLAG'] is None\n",
    "    cleaned_incident_info['incident_url'] = f\"https://www.spenergynetworks.co.uk/pages/power_cuts_map.aspx?incRef={incident_info['INCIDENT_REF']}\"\n",
    "    \n",
    "    return cleaned_incident_info"
   ]
  },
  {
   "cell_type": "code",
   "execution_count": 43,
   "id": "consolidated-lotus",
   "metadata": {},
   "outputs": [
    {
     "data": {
      "text/plain": [
       "{'received_time': '2021-04-09 12:11',\n",
       " 'estimated_restored_time': '2021-04-09 14:00',\n",
       " 'postcodes_impacted': ['DG11TA'],\n",
       " 'description': 'We are aware of a fault in your area. If you require more information please call us on: \\nCentral and Southern Scotland:  0800 092 9290 . \\n Cheshire, Merseyside, North Wales and North Shropshire: 0800 001 5400.',\n",
       " 'incident_active': True,\n",
       " 'incident_url': 'https://www.spenergynetworks.co.uk/pages/power_cuts_map.aspx?incRef=INCD-562333-s'}"
      ]
     },
     "execution_count": 43,
     "metadata": {},
     "output_type": "execute_result"
    }
   ],
   "source": [
    "clean_sp_incident_info(incidents_info[0])"
   ]
  },
  {
   "cell_type": "code",
   "execution_count": null,
   "id": "available-monkey",
   "metadata": {},
   "outputs": [],
   "source": []
  },
  {
   "cell_type": "code",
   "execution_count": 50,
   "id": "earlier-joining",
   "metadata": {},
   "outputs": [],
   "source": [
    "#exports\n",
    "def get_sp_incidents_info(sp_map_url='https://www.spenergynetworks.co.uk/pages/power_cuts_map.aspx'):\n",
    "    cleaned_incidents_info = dict()\n",
    "    \n",
    "    raw_incidents_info = get_raw_sp_incidents_info(sp_map_url)\n",
    "\n",
    "    for incident_info in raw_incidents_info:\n",
    "        incident_id = incident_info['INCIDENT_REF']\n",
    "        cleaned_incidents_info[incident_id] = clean_sp_incident_info(incident_info)\n",
    "        \n",
    "    return raw_incidents_info, cleaned_incidents_info"
   ]
  },
  {
   "cell_type": "code",
   "execution_count": 45,
   "id": "bridal-triumph",
   "metadata": {},
   "outputs": [
    {
     "data": {
      "application/json": [
       {
        "INCD-1806746-i": {
         "description": "There was a fault in your area which has now been resolved.  If you are still without power. please call us on: \nCentral and Southern Scotland: 0800 092 9290 . \n Cheshire, Merseyside, North Wales and North Shropshire: 0800 001 5400.",
         "estimated_restored_time": "",
         "incident_active": false,
         "incident_url": "https://www.spenergynetworks.co.uk/pages/power_cuts_map.aspx?incRef=INCD-1806746-i",
         "postcodes_impacted": [
          "L114SR",
          "L114TA",
          "L114TE",
          "L114UE"
         ],
         "received_time": "2021-04-07 22:04"
        },
        "INCD-1806776-i": {
         "description": "There was a fault in your area which has now been resolved.  If you are still without power. please call us on: \nCentral and Southern Scotland: 0800 092 9290 . \n Cheshire, Merseyside, North Wales and North Shropshire: 0800 001 5400.",
         "estimated_restored_time": "",
         "incident_active": false,
         "incident_url": "https://www.spenergynetworks.co.uk/pages/power_cuts_map.aspx?incRef=INCD-1806776-i",
         "postcodes_impacted": [
          "*******",
          "WA55RT",
          "WA57TN",
          "WA59RA",
          "WA59RB",
          "WA59RD",
          "WA59RJ",
          "WA59RN",
          "WA59RR",
          "WA59RS",
          "WA59RT",
          "WA59RU",
          "WA59RZ"
         ],
         "received_time": "2021-04-08 06:43"
        },
        "INCD-1806920-i": {
         "description": "There was a fault in your area which has now been resolved.  If you are still without power. please call us on: \nCentral and Southern Scotland: 0800 092 9290 . \n Cheshire, Merseyside, North Wales and North Shropshire: 0800 001 5400.",
         "estimated_restored_time": "",
         "incident_active": false,
         "incident_url": "https://www.spenergynetworks.co.uk/pages/power_cuts_map.aspx?incRef=INCD-1806920-i",
         "postcodes_impacted": [
          "CW55AS",
          "CW55BA",
          "CW55BZ",
          "CW55DB",
          "CW55RJ",
          "CW55ST",
          "CW55XQ",
          "SY109BX"
         ],
         "received_time": "2021-04-08 11:08"
        },
        "INCD-1806974-i": {
         "description": "There was a fault in your area which has now been resolved.  If you are still without power. please call us on: \nCentral and Southern Scotland: 0800 092 9290 . \n Cheshire, Merseyside, North Wales and North Shropshire: 0800 001 5400.",
         "estimated_restored_time": "",
         "incident_active": false,
         "incident_url": "https://www.spenergynetworks.co.uk/pages/power_cuts_map.aspx?incRef=INCD-1806974-i",
         "postcodes_impacted": [
          "LL728NA"
         ],
         "received_time": "2021-04-08 12:03"
        },
        "INCD-1807004-i": {
         "description": "There was a fault in your area which has now been resolved.  If you are still without power. please call us on: \nCentral and Southern Scotland: 0800 092 9290 . \n Cheshire, Merseyside, North Wales and North Shropshire: 0800 001 5400.",
         "estimated_restored_time": "",
         "incident_active": false,
         "incident_url": "https://www.spenergynetworks.co.uk/pages/power_cuts_map.aspx?incRef=INCD-1807004-i",
         "postcodes_impacted": [
          "LL572DX",
          "LL572UJ",
          "LL572YD",
          "LL574SB",
          "LL574SG",
          "LL574SH",
          "LL574SN",
          "LL574SY",
          "LL574TA",
          "LL574TJ"
         ],
         "received_time": "2021-04-08 13:45"
        },
        "INCD-1807028-i": {
         "description": "There was a fault in your area which has now been resolved.  If you are still without power. please call us on: \nCentral and Southern Scotland: 0800 092 9290 . \n Cheshire, Merseyside, North Wales and North Shropshire: 0800 001 5400.",
         "estimated_restored_time": "",
         "incident_active": false,
         "incident_url": "https://www.spenergynetworks.co.uk/pages/power_cuts_map.aspx?incRef=INCD-1807028-i",
         "postcodes_impacted": [
          "CH448BT",
          "CH448BY",
          "CH448BZ",
          "CH448DA",
          "CH448DB",
          "CH448DD",
          "CH448DY"
         ],
         "received_time": "2021-04-08 14:15"
        },
        "INCD-1807118-i": {
         "description": "There was a fault in your area which has now been resolved.  If you are still without power. please call us on: \nCentral and Southern Scotland: 0800 092 9290 . \n Cheshire, Merseyside, North Wales and North Shropshire: 0800 001 5400.",
         "estimated_restored_time": "",
         "incident_active": false,
         "incident_url": "https://www.spenergynetworks.co.uk/pages/power_cuts_map.aspx?incRef=INCD-1807118-i",
         "postcodes_impacted": [
          "L12SJ",
          "L12SP",
          "L12TR",
          "L14AZ",
          "L14BB",
          "L14BL",
          "L14DL",
          "L14DR",
          "L14HF",
          "L14JF",
          "L14JQ",
          "L14JS",
          "L15EL",
          "L17AX",
          "L17AY",
          "L17BT",
          "L19AA",
          "L19AD",
          "L19AF",
          "L19AJ",
          "L19AL",
          "L19AR",
          "L19AS",
          "L19AW",
          "L19AX",
          "L19BB",
          "L19BG",
          "L19BP",
          "L19BQ",
          "L19BW",
          "L19BZ",
          "L19DA",
          "L19DF",
          "L19DN",
          "L19DS",
          "L19DT",
          "L19DU",
          "L19DW",
          "L19DY",
          "L19DZ",
          "L19EA",
          "L19EH",
          "L19EN",
          "L19ER",
          "L19EW",
          "L19EX",
          "L19HB",
          "L19HD",
          "L19HE",
          "L19HF",
          "L19HT",
          "L19JD",
          "L19JF",
          "L77BP",
          "L77DN",
          "L77DP",
          "L77DX",
          "L77EA",
          "L77EB",
          "L81NN",
          "L87JZ",
          "L87NE",
          "L87NH",
          "L87NL",
          "L87NN",
          "L87NP",
          "L87PB",
          "L87PE",
          "L87PH",
          "L87PJ",
          "L87PQ",
          "L87PU",
          "L87PY",
          "L87PZ",
          "L87TA"
         ],
         "received_time": "2021-04-08 17:27"
        },
        "INCD-1807142-i": {
         "description": "There was a fault in your area which has now been resolved.  If you are still without power. please call us on: \nCentral and Southern Scotland: 0800 092 9290 . \n Cheshire, Merseyside, North Wales and North Shropshire: 0800 001 5400.",
         "estimated_restored_time": "",
         "incident_active": false,
         "incident_url": "https://www.spenergynetworks.co.uk/pages/power_cuts_map.aspx?incRef=INCD-1807142-i",
         "postcodes_impacted": [
          "TD58NS",
          "TD58NT",
          "TD60EY",
          "TD60RH",
          "TD69EU",
          "TD86TX",
          "TD86TY",
          "TD86TZ",
          "TD86UJ",
          "TD86XH"
         ],
         "received_time": "2021-04-08 18:05"
        },
        "INCD-1807154-i": {
         "description": "There was a fault in your area which has now been resolved.  If you are still without power. please call us on: \nCentral and Southern Scotland: 0800 092 9290 . \n Cheshire, Merseyside, North Wales and North Shropshire: 0800 001 5400.",
         "estimated_restored_time": "",
         "incident_active": false,
         "incident_url": "https://www.spenergynetworks.co.uk/pages/power_cuts_map.aspx?incRef=INCD-1807154-i",
         "postcodes_impacted": [
          "G50PQ",
          "G626BW",
          "G727DW",
          "G776SJ",
          "G78",
          "G781",
          "G781AA",
          "G781AD",
          "G781AE",
          "G781AG",
          "G781AH",
          "G781AJ",
          "G781AL",
          "G781AQ",
          "G781AW",
          "G781AX",
          "G781AY",
          "G781AZ",
          "G781BA",
          "G781BB",
          "G781BD",
          "G781BH",
          "G781BP",
          "G781BQ",
          "G781BS",
          "G781BT",
          "G781BU",
          "G781BW",
          "G781BX",
          "G781DD",
          "G781DE",
          "G781DF",
          "G781DG",
          "G781DH",
          "G781DJ",
          "G781DN",
          "G781DP",
          "G781DQ",
          "G781DR",
          "G781DS",
          "G781DT",
          "G781DU",
          "G781DW",
          "G781DX",
          "G781DY",
          "G781EA",
          "G781EH",
          "G781EL",
          "G781EP",
          "G781EQ",
          "G781ES",
          "G781ET",
          "G781EU",
          "G781EW",
          "G781GA",
          "G781GB",
          "G781GD",
          "G781GE",
          "G781GF",
          "G781GG",
          "G781HA",
          "G781HB",
          "G781HD",
          "G781HF",
          "G781HH",
          "G781HJ",
          "G781HL",
          "G781HN",
          "G781HP",
          "G781HQ",
          "G781HR",
          "G781HS",
          "G781HT",
          "G781HU",
          "G781HW",
          "G781HX",
          "G781HY",
          "G781HZ",
          "G781JA",
          "G781JB",
          "G781JD",
          "G781JE",
          "G781JF",
          "G781JG",
          "G781JH",
          "G781JL",
          "G781JN",
          "G781JP",
          "G781JQ",
          "G781JR",
          "G781JS",
          "G781JT",
          "G781JU",
          "G781JX",
          "G781JY",
          "G781JZ",
          "G781LD",
          "G781LE",
          "G781LG",
          "G781LH",
          "G781LJ",
          "G781LL",
          "G781LN",
          "G781LP",
          "G781LR",
          "G781LS",
          "G781LT",
          "G781LU",
          "G781LW",
          "G781LX",
          "G781LZ",
          "G781NB",
          "G781ND",
          "G781NH",
          "G781NJ",
          "G781NL",
          "G781NN",
          "G781NP",
          "G781NQ",
          "G781NR",
          "G781NS",
          "G781NT",
          "G781NU",
          "G781NW",
          "G781NX",
          "G781NY",
          "G781NZ",
          "G781OO",
          "G781PA",
          "G781PB",
          "G781PD",
          "G781PE",
          "G781PF",
          "G781PG",
          "G781PH",
          "G781PJ",
          "G781PL",
          "G781PN",
          "G781PQ",
          "G781PR",
          "G781PS",
          "G781PT",
          "G781PW",
          "G781QA",
          "G781QB",
          "G781QJ",
          "G781QP",
          "G781QQ",
          "G781QW",
          "G781QX",
          "G781QY",
          "G781RB",
          "G781RE",
          "G781RF",
          "G781RG",
          "G781RX",
          "G781SB",
          "G781SP",
          "G781SS",
          "G781SU",
          "G781SX",
          "G781TA",
          "G781TB",
          "G781TG",
          "G781TJ",
          "G781TL",
          "G781TN",
          "G781TS",
          "G781TT",
          "G781TW",
          "G781TY",
          "G781TZ",
          "G781UA",
          "G781UL",
          "G781UT",
          "G781UU",
          "G781UX",
          "G781UY",
          "G781UZ",
          "G781WW",
          "G782AB",
          "G782AD",
          "G782AE",
          "G782AF",
          "G782AG",
          "G782BH",
          "G782BL",
          "G782BN",
          "G782BP",
          "G782EZ",
          "G782HA",
          "G782HB",
          "G782HF",
          "G782HQ",
          "G782LH",
          "G782LZ",
          "G782NA",
          "G782NB",
          "G782ND",
          "G782NG",
          "G782NH",
          "G782NJ",
          "G782NQ",
          "G782NZ",
          "G782PA",
          "G782PB",
          "G782PD",
          "G782PE",
          "G782PF",
          "G782QB",
          "G782QF",
          "G782QP",
          "G782RS",
          "G782SQ",
          "G782TH",
          "G782TJ",
          "G783AB",
          "G783AE",
          "G783AG",
          "G783EA",
          "G783HB",
          "G783JU",
          "G783LT",
          "G783LU",
          "G783LX",
          "G783LY",
          "G783NA",
          "G783ND",
          "G783NE",
          "G783NG",
          "G783PT",
          "G783XX",
          "ML36LR",
          "PA13PD",
          "PA13PF",
          "PA13WW"
         ],
         "received_time": "2021-04-08 18:35"
        },
        "INCD-1807160-i": {
         "description": "There was a fault in your area which has now been resolved.  If you are still without power. please call us on: \nCentral and Southern Scotland: 0800 092 9290 . \n Cheshire, Merseyside, North Wales and North Shropshire: 0800 001 5400.",
         "estimated_restored_time": "",
         "incident_active": false,
         "incident_url": "https://www.spenergynetworks.co.uk/pages/power_cuts_map.aspx?incRef=INCD-1807160-i",
         "postcodes_impacted": [
          "DG29FP",
          "G411EJ",
          "G51",
          "G511AA",
          "G514DP",
          "G514DU",
          "G514EN",
          "G514GX",
          "G514GZ",
          "G514HA",
          "G514HB",
          "G514HG",
          "G514HH",
          "G514HJ",
          "G514HL",
          "G514HN",
          "G514HW",
          "G514JJ",
          "G514JL",
          "G514TF",
          "G514UL",
          "G516SD",
          "G52",
          "G522AJ",
          "G522AL",
          "G522AN",
          "G522BJ",
          "G522BS",
          "G522BT",
          "G522BX",
          "G522BY",
          "G522BZ",
          "G522DA",
          "G522DB",
          "G522DD",
          "G522DE",
          "G522DF",
          "G522DG",
          "G522DH",
          "G522DJ",
          "G522DU",
          "G522DZ",
          "G522EA",
          "G522ED",
          "G522EE",
          "G522EJ",
          "G522EL",
          "G522EN",
          "G522EP",
          "G522EY",
          "G522EZ",
          "G522HJ",
          "G522HL",
          "G522HN",
          "G522HW",
          "G522HX",
          "G522HZ",
          "G522LX",
          "G522NE",
          "G522NF",
          "G522PE",
          "G522PF",
          "G522QF",
          "G522QG",
          "G522RH",
          "G522RJ",
          "G522RQ",
          "G522RX",
          "G522RY",
          "G522RZ",
          "G522SA",
          "G522SB",
          "G522SZ",
          "G522TA",
          "G523JG",
          "G523JH",
          "G523JL",
          "G523JP",
          "G523JQ",
          "G523JW",
          "G523LN",
          "G523LP",
          "G523LR",
          "G523LS",
          "G523LT",
          "G523LW",
          "G523PD",
          "G523PF",
          "G523PH",
          "G523PQ",
          "G523PT",
          "G523PU",
          "G523PX",
          "G523PY",
          "G523PZ",
          "G523QA",
          "G523QB",
          "G523SH",
          "G523SQ",
          "G524AA",
          "G524AB",
          "G524AD",
          "G524AE",
          "G524AF",
          "G524AJ",
          "G524AL",
          "G524AN",
          "G524AP",
          "G524AR",
          "G524AS",
          "G524AT",
          "G524AU",
          "G524AW",
          "G524AX",
          "G524AY",
          "G524AZ",
          "G524BA",
          "G524BB",
          "G524BD",
          "G524BE",
          "G524BS",
          "G524BT",
          "G524BU",
          "G524BX",
          "G524BY",
          "G524BZ",
          "G524DA",
          "G524DB",
          "G524DD",
          "G524DE",
          "G524DF",
          "G524DG",
          "G524DH",
          "G524DJ",
          "G524DN",
          "G524DQ",
          "G524EB",
          "G524ED",
          "G524EE",
          "G524EF",
          "G524EG",
          "G524EH",
          "G524EJ",
          "G524EN",
          "G524EQ",
          "G524FB",
          "G524FD",
          "G524FE",
          "G524FF",
          "G524FP",
          "G524HH",
          "G524HJ",
          "G524HL",
          "G524HN",
          "G524HP",
          "G524HR",
          "G524HS",
          "G524HT",
          "G524HU",
          "G524HW",
          "G524HX",
          "G524HY",
          "G524PH",
          "G524VV",
          "G53",
          "G531AA",
          "G536JB",
          "G536JE",
          "G536JF",
          "G536JG",
          "G536JJ",
          "G536JL",
          "G536JP",
          "G536JQ",
          "G536JS",
          "G536LP",
          "G536NL",
          "G536RA",
          "G536RB",
          "G536RE",
          "G536RU",
          "G536RX",
          "G536RY",
          "G536RZ",
          "G536SA",
          "G536SD",
          "G536SE",
          "G536SF",
          "G536SG",
          "G536SH",
          "G536SJ",
          "G536SL",
          "G536SQ",
          "G536SR",
          "G536SZ",
          "G536TD",
          "G537AG",
          "G537BE",
          "G537DY",
          "G537EA",
          "G537EB",
          "G537EH",
          "G537EJ",
          "G537FA",
          "G537FB",
          "G537FD",
          "G537FE",
          "G537FF",
          "G537FG",
          "G537FH",
          "G537FJ",
          "G537FL",
          "G537FN",
          "G537FP",
          "G537FQ",
          "G537FR",
          "G537FS",
          "G537FT",
          "G537FU",
          "G537FW",
          "G537FX",
          "G537GA",
          "G537GG",
          "G537LB",
          "G537LD",
          "G537LE",
          "G537LF",
          "G537LQ",
          "G537NP",
          "G537NR",
          "G537PQ",
          "G537TE",
          "G537UQ",
          "PA13",
          "PA13AA",
          "PA13AB",
          "PA13AD",
          "PA13AE",
          "PA13AJ",
          "PA13AL",
          "PA13AN",
          "PA13AP",
          "PA13AR",
          "PA13AS",
          "PA13AT",
          "PA13AU",
          "PA13AW",
          "PA13AX",
          "PA13BA",
          "PA13BB",
          "PA13BG",
          "PA13BH",
          "PA13BJ",
          "PA13BL",
          "PA13BN",
          "PA13BP",
          "PA13BQ",
          "PA13BS",
          "PA13BW",
          "PA13DA",
          "PA13DB",
          "PA13DD",
          "PA13DH",
          "PA13DL",
          "PA13DN",
          "PA13DP",
          "PA13DS",
          "PA13DT",
          "PA13DU",
          "PA13DX",
          "PA13DY",
          "PA13DZ",
          "PA13EA",
          "PA13EB",
          "PA13ED",
          "PA13EE",
          "PA13EF",
          "PA13EG",
          "PA13EQ",
          "PA13ER",
          "PA13ES",
          "PA13ET",
          "PA13EU",
          "PA13EX",
          "PA13EY",
          "PA13HA",
          "PA13HB",
          "PA13HD",
          "PA13HE",
          "PA13HF",
          "PA13HG",
          "PA13HH",
          "PA13HJ",
          "PA13HL",
          "PA13HQ",
          "PA13JL",
          "PA13JN",
          "PA13JP",
          "PA13JW"
         ],
         "received_time": "2021-04-08 18:35"
        },
        "INCD-1807166-i": {
         "description": "There was a fault in your area which has now been resolved.  If you are still without power. please call us on: \nCentral and Southern Scotland: 0800 092 9290 . \n Cheshire, Merseyside, North Wales and North Shropshire: 0800 001 5400.",
         "estimated_restored_time": "",
         "incident_active": false,
         "incident_url": "https://www.spenergynetworks.co.uk/pages/power_cuts_map.aspx?incRef=INCD-1807166-i",
         "postcodes_impacted": [
          "EH165JP",
          "EH411AA",
          "EH411GR",
          "EH412RF",
          "EH42",
          "EH421AA",
          "EH421AD",
          "EH421BB",
          "EH421BF",
          "EH421BX",
          "EH421DG",
          "EH421DH",
          "EH421DQ",
          "EH421DT",
          "EH421DU",
          "EH421DY",
          "EH421DZ",
          "EH421ED",
          "EH421EE",
          "EH421EH",
          "EH421EL",
          "EH421EN",
          "EH421EP",
          "EH421ER",
          "EH421ES",
          "EH421EW",
          "EH421EX",
          "EH421EY",
          "EH421FT",
          "EH421FZ",
          "EH421G",
          "EH421GA",
          "EH421GB",
          "EH421GD",
          "EH421GE",
          "EH421GF",
          "EH421GG",
          "EH421GH",
          "EH421GJ",
          "EH421GL",
          "EH421GN",
          "EH421GP",
          "EH421GQ",
          "EH421GR",
          "EH421GS",
          "EH421GT",
          "EH421GU",
          "EH421GW",
          "EH421GY",
          "EH421GZ",
          "EH421HA",
          "EH421HB",
          "EH421HD",
          "EH421HE",
          "EH421HF",
          "EH421HG",
          "EH421HJ",
          "EH421HX",
          "EH421HZ",
          "EH421JA",
          "EH421JB",
          "EH421JD",
          "EH421JE",
          "EH421JF",
          "EH421JG",
          "EH421JH",
          "EH421JP",
          "EH421JR",
          "EH421JS",
          "EH421JU",
          "EH421JX",
          "EH421JY",
          "EH421JZ",
          "EH421LA",
          "EH421LB",
          "EH421LD",
          "EH421LE",
          "EH421LF",
          "EH421LG",
          "EH421LJ",
          "EH421LL",
          "EH421LN",
          "EH421LP",
          "EH421LQ",
          "EH421LR",
          "EH421LS",
          "EH421LT",
          "EH421LU",
          "EH421LW",
          "EH421LX",
          "EH421LY",
          "EH421LZ",
          "EH421NA",
          "EH421NB",
          "EH421ND",
          "EH421NE",
          "EH421NF",
          "EH421PZ",
          "EH421QF",
          "EH421QG",
          "EH421QJ",
          "EH421QL",
          "EH421QN",
          "EH421QW",
          "EH421QZ",
          "EH421RA",
          "EH421RB",
          "EH421RD",
          "EH421RP",
          "EH421RR",
          "EH421RS",
          "EH421RT",
          "EH421RU",
          "EH421RX",
          "EH421SS",
          "EH421TN",
          "EH421UJ",
          "EH421UX",
          "EH421UZ",
          "EH421WG",
          "EH421WW",
          "EH421XB",
          "EH421YA",
          "EH421YB",
          "EH421YD",
          "EH421YE",
          "EH421YF",
          "EH421YG",
          "EH421YH",
          "EH421YQ",
          "EH421YR",
          "EH421YS"
         ],
         "received_time": "2021-04-08 19:11"
        },
        "INCD-1807196-i": {
         "description": "We are aware of a fault in your area. If you require more information please call us on: \nCentral and Southern Scotland: 0800 092 9290 . \n Cheshire, Merseyside, North Wales and North Shropshire: 0800 001 5400.",
         "estimated_restored_time": "2021-04-12 08:00",
         "incident_active": true,
         "incident_url": "https://www.spenergynetworks.co.uk/pages/power_cuts_map.aspx?incRef=INCD-1807196-i",
         "postcodes_impacted": [
          "LL350RT",
          "SY231JG",
          "SY233PL",
          "SY235LA",
          "SY24",
          "SY245BA",
          "SY245HP",
          "SY245HT",
          "SY245HU",
          "SY245HW",
          "SY245HX",
          "SY245HY",
          "SY245HZ",
          "SY245JA",
          "SY245JB",
          "SY245JD",
          "SY245JE",
          "SY245JF",
          "SY245JG",
          "SY245JH",
          "SY245JP",
          "SY245JQ",
          "SY245JR",
          "SY245JS",
          "SY245JT",
          "SY245JU",
          "SY245JX",
          "SY245JY",
          "SY245JZ",
          "SY245LA",
          "SY245LB",
          "SY245LD",
          "SY245LE",
          "SY245LH",
          "SY245LJ",
          "SY245LL",
          "SY245LN",
          "SY245LP",
          "SY245LR",
          "SY245LT",
          "SY245LU",
          "SY245LW",
          "SY245NA",
          "SY245ND",
          "SY245NG",
          "SY245NH",
          "SY245NJ",
          "SY245NL",
          "SY245NN",
          "SY245NP",
          "SY245NQ",
          "SY245NR",
          "SY245NS",
          "SY245NW",
          "SY245NZ"
         ],
         "received_time": "2021-04-09 05:15"
        },
        "INCD-1807232-i": {
         "description": "There was a fault in your area which has now been resolved.  If you are still without power. please call us on: \nCentral and Southern Scotland: 0800 092 9290 . \n Cheshire, Merseyside, North Wales and North Shropshire: 0800 001 5400.",
         "estimated_restored_time": "",
         "incident_active": false,
         "incident_url": "https://www.spenergynetworks.co.uk/pages/power_cuts_map.aspx?incRef=INCD-1807232-i",
         "postcodes_impacted": [
          "DG13PX",
          "L35",
          "ST71LY",
          "ST71NE",
          "ST71NG",
          "ST71NN",
          "ST71NQ",
          "ST72AX",
          "ST73AB",
          "ST73AD",
          "ST73AE",
          "ST73AF",
          "ST73AG",
          "ST73AJ",
          "ST73AL",
          "ST73AN",
          "ST73AP",
          "ST73AQ",
          "ST73AS",
          "ST73AT",
          "ST73AU",
          "ST73AW",
          "ST73AX",
          "ST73AY",
          "ST73AZ",
          "ST73BA",
          "ST73BB",
          "ST73BD",
          "ST73BG",
          "ST73BH",
          "ST73BJ",
          "ST73BL",
          "ST73BN",
          "ST73BQ",
          "ST73BT",
          "ST73BU",
          "ST73BX",
          "ST73BY",
          "ST73DA",
          "ST73DB",
          "ST73DD",
          "ST73DE",
          "ST73DL",
          "ST73EH",
          "ST73ET",
          "ST73FA",
          "ST73HA",
          "ST73HB",
          "ST73JZ",
          "ST73LB",
          "ST73LE",
          "ST73LF",
          "ST73LG",
          "ST73LH",
          "ST73ND",
          "ST73NG",
          "ST73NH",
          "ST73NJ",
          "ST73NL",
          "ST73NN",
          "ST73NP",
          "ST73NQ",
          "ST73NR",
          "ST73NS",
          "ST73NT",
          "ST73NU",
          "ST73NW",
          "ST73NX",
          "ST73NY",
          "ST73NZ",
          "ST73PA",
          "ST73PB",
          "ST73PD",
          "ST73PE",
          "ST73PF",
          "ST73PX",
          "ST73PY",
          "ST73UX",
          "ST74HA",
          "ST74NP",
          "ST74NR",
          "ST74NS",
          "ST74NT",
          "ST74NU",
          "ST74NW",
          "ST74NX",
          "ST74NY",
          "ST74NZ",
          "ST74PA",
          "ST74PB",
          "ST74PD",
          "ST74PE",
          "ST74PF"
         ],
         "received_time": "2021-04-09 06:19"
        },
        "INCD-1807244-i": {
         "description": "There was a fault in your area which has now been resolved.  If you are still without power. please call us on: \nCentral and Southern Scotland: 0800 092 9290 . \n Cheshire, Merseyside, North Wales and North Shropshire: 0800 001 5400.",
         "estimated_restored_time": "",
         "incident_active": false,
         "incident_url": "https://www.spenergynetworks.co.uk/pages/power_cuts_map.aspx?incRef=INCD-1807244-i",
         "postcodes_impacted": [
          "LL139SG"
         ],
         "received_time": "2021-04-09 08:39"
        },
        "INCD-1807250-i": {
         "description": "There was a fault in your area which has now been resolved.  If you are still without power. please call us on: \nCentral and Southern Scotland: 0800 092 9290 . \n Cheshire, Merseyside, North Wales and North Shropshire: 0800 001 5400.",
         "estimated_restored_time": "",
         "incident_active": false,
         "incident_url": "https://www.spenergynetworks.co.uk/pages/power_cuts_map.aspx?incRef=INCD-1807250-i",
         "postcodes_impacted": [
          "*******",
          "LL595DB",
          "LL595EP",
          "LL595EY"
         ],
         "received_time": "2021-04-09 08:47"
        },
        "INCD-1807256-i": {
         "description": "There was a fault in your area which has now been resolved.  If you are still without power. please call us on: \nCentral and Southern Scotland: 0800 092 9290 . \n Cheshire, Merseyside, North Wales and North Shropshire: 0800 001 5400.",
         "estimated_restored_time": "",
         "incident_active": false,
         "incident_url": "https://www.spenergynetworks.co.uk/pages/power_cuts_map.aspx?incRef=INCD-1807256-i",
         "postcodes_impacted": [
          "LL207UL",
          "LL207UP",
          "LL207UR",
          "LL207UY",
          "LL207YA",
          "LL207YB",
          "LL207YD",
          "LL207YE",
          "LL207YL",
          "LL207YN",
          "LL207YP",
          "LL207YW",
          "LL208EG"
         ],
         "received_time": "2021-04-09 09:02"
        },
        "INCD-1807310-i": {
         "description": "We are aware of a fault in your area. If you require more information please call us on: \nCentral and Southern Scotland:  0800 092 9290 . \n Cheshire, Merseyside, North Wales and North Shropshire: 0800 001 5400.",
         "estimated_restored_time": "",
         "incident_active": true,
         "incident_url": "https://www.spenergynetworks.co.uk/pages/power_cuts_map.aspx?incRef=INCD-1807310-i",
         "postcodes_impacted": [
          "SY108QY"
         ],
         "received_time": "2021-04-09 10:25"
        },
        "INCD-1807358-i": {
         "description": "There was a fault in your area which has now been resolved.  If you are still without power. please call us on: \nCentral and Southern Scotland: 0800 092 9290 . \n Cheshire, Merseyside, North Wales and North Shropshire: 0800 001 5400.",
         "estimated_restored_time": "",
         "incident_active": false,
         "incident_url": "https://www.spenergynetworks.co.uk/pages/power_cuts_map.aspx?incRef=INCD-1807358-i",
         "postcodes_impacted": [
          "WA95GZ"
         ],
         "received_time": "2021-04-09 11:57"
        },
        "INCD-366880-r": {
         "description": "There was a planned outage in your area which is now complete.  If you are still without power. please call us on: \nCentral and Southern Scotland: 0800 092 9290 . \n Cheshire, Merseyside, North Wales and North Shropshire: 0800 001 5400.",
         "estimated_restored_time": "",
         "incident_active": false,
         "incident_url": "https://www.spenergynetworks.co.uk/pages/power_cuts_map.aspx?incRef=INCD-366880-r",
         "postcodes_impacted": [
          "CW73NX",
          "CW73PA"
         ],
         "received_time": "2021-03-18 13:26"
        },
        "INCD-370666-r": {
         "description": "There was a fault in your area which has now been resolved.  If you are still without power. please call us on: \nCentral and Southern Scotland: 0800 092 9290 . \n Cheshire, Merseyside, North Wales and North Shropshire: 0800 001 5400.",
         "estimated_restored_time": "",
         "incident_active": false,
         "incident_url": "https://www.spenergynetworks.co.uk/pages/power_cuts_map.aspx?incRef=INCD-370666-r",
         "postcodes_impacted": [
          "CW84JP",
          "CW84JX",
          "CW84NG",
          "CW84NH",
          "CW84NL",
          "CW84NN",
          "CW84NP",
          "CW84NR",
          "CW84NW",
          "CW84UP",
          "CW84UR"
         ],
         "received_time": "2021-04-07 08:29"
        },
        "INCD-370924-r": {
         "description": "There was a fault in your area which has now been resolved.  If you are still without power. please call us on: \nCentral and Southern Scotland: 0800 092 9290 . \n Cheshire, Merseyside, North Wales and North Shropshire: 0800 001 5400.",
         "estimated_restored_time": "",
         "incident_active": false,
         "incident_url": "https://www.spenergynetworks.co.uk/pages/power_cuts_map.aspx?incRef=INCD-370924-r",
         "postcodes_impacted": [
          "WA7",
          "WA71DF",
          "WA71DG",
          "WA71DS",
          "WA71LD",
          "WA71LG",
          "WA71LJ",
          "WA71LL",
          "WA71LR",
          "WA71LX",
          "WA71NA",
          "WA71ND",
          "WA71NE",
          "WA71X"
         ],
         "received_time": "2021-04-08 08:58"
        },
        "INCD-371068-r": {
         "description": "There was a fault in your area which has now been resolved.  If you are still without power. please call us on: \nCentral and Southern Scotland: 0800 092 9290 . \n Cheshire, Merseyside, North Wales and North Shropshire: 0800 001 5400.",
         "estimated_restored_time": "",
         "incident_active": false,
         "incident_url": "https://www.spenergynetworks.co.uk/pages/power_cuts_map.aspx?incRef=INCD-371068-r",
         "postcodes_impacted": [
          "CH76TA"
         ],
         "received_time": "2021-04-08 15:34"
        },
        "INCD-371140-r": {
         "description": "There was a fault in your area which has now been resolved.  If you are still without power. please call us on: \nCentral and Southern Scotland: 0800 092 9290 . \n Cheshire, Merseyside, North Wales and North Shropshire: 0800 001 5400.",
         "estimated_restored_time": "",
         "incident_active": false,
         "incident_url": "https://www.spenergynetworks.co.uk/pages/power_cuts_map.aspx?incRef=INCD-371140-r",
         "postcodes_impacted": [
          "CH419DL",
          "CH419DN",
          "CH419DP",
          "CH419DR",
          "CH419DS",
          "CH419DT",
          "CH419DW",
          "CH419DY",
          "CH419EH",
          "CH419EQ",
          "CH419ER",
          "CH419HU",
          "CH638RB"
         ],
         "received_time": "2021-04-09 06:16"
        },
        "INCD-371158-r": {
         "description": "There was a fault in your area which has now been resolved.  If you are still without power. please call us on: \nCentral and Southern Scotland: 0800 092 9290 . \n Cheshire, Merseyside, North Wales and North Shropshire: 0800 001 5400.",
         "estimated_restored_time": "",
         "incident_active": false,
         "incident_url": "https://www.spenergynetworks.co.uk/pages/power_cuts_map.aspx?incRef=INCD-371158-r",
         "postcodes_impacted": [
          "CH428PQ",
          "CH429LF",
          "L428PG"
         ],
         "received_time": "2021-04-09 09:10"
        },
        "INCD-371218-r": {
         "description": "We are aware of a fault in your area. If you require more information please call us on: \nCentral and Southern Scotland:  0800 092 9290 . \n Cheshire, Merseyside, North Wales and North Shropshire: 0800 001 5400.",
         "estimated_restored_time": "",
         "incident_active": true,
         "incident_url": "https://www.spenergynetworks.co.uk/pages/power_cuts_map.aspx?incRef=INCD-371218-r",
         "postcodes_impacted": [
          "L113BN",
          "L113DE",
          "L113DG",
          "L113DL",
          "L113DP",
          "L113DW",
          "L115AJ",
          "WA85BW",
          "WA89AL",
          "WA89AN",
          "WA89BN",
          "WA89BP"
         ],
         "received_time": "2021-04-09 10:59"
        },
        "INCD-485501-k": {
         "description": "There was a planned outage in your area which is now complete.  If you are still without power. please call us on: \nCentral and Southern Scotland: 0800 092 9290 . \n Cheshire, Merseyside, North Wales and North Shropshire: 0800 001 5400.",
         "estimated_restored_time": "",
         "incident_active": false,
         "incident_url": "https://www.spenergynetworks.co.uk/pages/power_cuts_map.aspx?incRef=INCD-485501-k",
         "postcodes_impacted": [
          "LL285UE",
          "LL285UH"
         ],
         "received_time": "2021-02-17 10:28"
        },
        "INCD-488741-k": {
         "description": "There was a planned outage in your area which is now complete.  If you are still without power. please call us on: \nCentral and Southern Scotland: 0800 092 9290 . \n Cheshire, Merseyside, North Wales and North Shropshire: 0800 001 5400.",
         "estimated_restored_time": "",
         "incident_active": false,
         "incident_url": "https://www.spenergynetworks.co.uk/pages/power_cuts_map.aspx?incRef=INCD-488741-k",
         "postcodes_impacted": [
          "L393BG",
          "L398RA"
         ],
         "received_time": "2021-03-03 15:22"
        },
        "INCD-488747-k": {
         "description": "There was a planned outage in your area which is now complete.  If you are still without power. please call us on: \nCentral and Southern Scotland: 0800 092 9290 . \n Cheshire, Merseyside, North Wales and North Shropshire: 0800 001 5400.",
         "estimated_restored_time": "",
         "incident_active": false,
         "incident_url": "https://www.spenergynetworks.co.uk/pages/power_cuts_map.aspx?incRef=INCD-488747-k",
         "postcodes_impacted": [
          "SY109HH",
          "SY109HL",
          "SY109JD"
         ],
         "received_time": "2021-03-03 15:33"
        },
        "INCD-488759-k": {
         "description": "There was a planned outage in your area which is now complete.  If you are still without power. please call us on: \nCentral and Southern Scotland: 0800 092 9290 . \n Cheshire, Merseyside, North Wales and North Shropshire: 0800 001 5400.",
         "estimated_restored_time": "",
         "incident_active": false,
         "incident_url": "https://www.spenergynetworks.co.uk/pages/power_cuts_map.aspx?incRef=INCD-488759-k",
         "postcodes_impacted": [
          "CW83PX",
          "CW83PY",
          "CW83PZ",
          "CW83QE",
          "CW83QF",
          "CW83QG",
          "CW83RA"
         ],
         "received_time": "2021-03-03 15:42"
        },
        "INCD-488765-k": {
         "description": "There was a planned outage in your area which is now complete.  If you are still without power. please call us on: \nCentral and Southern Scotland: 0800 092 9290 . \n Cheshire, Merseyside, North Wales and North Shropshire: 0800 001 5400.",
         "estimated_restored_time": "",
         "incident_active": false,
         "incident_url": "https://www.spenergynetworks.co.uk/pages/power_cuts_map.aspx?incRef=INCD-488765-k",
         "postcodes_impacted": [
          "LL164NW",
          "LL164RP",
          "LL164RR",
          "LL164RS",
          "LL164SD",
          "LL164SE"
         ],
         "received_time": "2021-03-03 16:05"
        },
        "INCD-489263-k": {
         "description": "There was a planned outage in your area which is now complete.  If you are still without power. please call us on: \nCentral and Southern Scotland: 0800 092 9290 . \n Cheshire, Merseyside, North Wales and North Shropshire: 0800 001 5400.",
         "estimated_restored_time": "",
         "incident_active": false,
         "incident_url": "https://www.spenergynetworks.co.uk/pages/power_cuts_map.aspx?incRef=INCD-489263-k",
         "postcodes_impacted": [
          "LL414PY"
         ],
         "received_time": "2021-03-08 11:59"
        },
        "INCD-489509-k": {
         "description": "The electricity supply to your premises may currently be affected by planned work.  You should have received a letter explaining this.  We hope to be able to restore your supplies by 09-APR-2021 15:00.  Please accept our sincere apologies for any inconvenience this is causing.",
         "estimated_restored_time": "2021-04-09 14:00",
         "incident_active": true,
         "incident_url": "https://www.spenergynetworks.co.uk/pages/power_cuts_map.aspx?incRef=INCD-489509-k",
         "postcodes_impacted": [
          "CW82FJ",
          "CW82RJ",
          "CW82RL",
          "CW82RR",
          "CW82TL",
          "CW82TN",
          "CW82TR",
          "CW82TU",
          "CW82TW",
          "WA61NH",
          "WA68NF",
          "WA68NG",
          "WA68NH",
          "WA68NJ",
          "WA68NL",
          "WA68NY",
          "WA68NZ",
          "WA68PA",
          "WA68PD",
          "WA68PF",
          "WA68PH",
          "WA68PJ"
         ],
         "received_time": "2021-03-09 12:45"
        },
        "INCD-489527-k": {
         "description": "There was a planned outage in your area which is now complete.  If you are still without power. please call us on: \nCentral and Southern Scotland: 0800 092 9290 . \n Cheshire, Merseyside, North Wales and North Shropshire: 0800 001 5400.",
         "estimated_restored_time": "",
         "incident_active": false,
         "incident_url": "https://www.spenergynetworks.co.uk/pages/power_cuts_map.aspx?incRef=INCD-489527-k",
         "postcodes_impacted": [
          "SY109HZ",
          "SY109JH",
          "SY109JJ",
          "SY109JL",
          "SY109JQ",
          "SY109LR"
         ],
         "received_time": "2021-03-09 12:55"
        },
        "INCD-489533-k": {
         "description": "There was a planned outage in your area which is now complete.  If you are still without power. please call us on: \nCentral and Southern Scotland: 0800 092 9290 . \n Cheshire, Merseyside, North Wales and North Shropshire: 0800 001 5400.",
         "estimated_restored_time": "",
         "incident_active": false,
         "incident_url": "https://www.spenergynetworks.co.uk/pages/power_cuts_map.aspx?incRef=INCD-489533-k",
         "postcodes_impacted": [
          "CH87AU",
          "CH88LS"
         ],
         "received_time": "2021-03-09 12:59"
        },
        "INCD-489707-k": {
         "description": "The electricity supply to your premises may currently be affected by planned work.  You should have received a letter explaining this.  We hope to be able to restore your supplies by 09-APR-2021 14:30.  Please accept our sincere apologies for any inconvenience this is causing.",
         "estimated_restored_time": "2021-04-09 13:30",
         "incident_active": true,
         "incident_url": "https://www.spenergynetworks.co.uk/pages/power_cuts_map.aspx?incRef=INCD-489707-k",
         "postcodes_impacted": [
          "CW5",
          "CW58NP",
          "CW58PE",
          "CW58PF",
          "CW58PY",
          "CW58QA",
          "CW58QB",
          "CW58QD"
         ],
         "received_time": "2021-03-10 10:44"
        },
        "INCD-489725-k": {
         "description": "The electricity supply to your premises may currently be affected by planned work.  You should have received a letter explaining this.  We hope to be able to restore your supplies by 09-APR-2021 17:00.  Please accept our sincere apologies for any inconvenience this is causing.",
         "estimated_restored_time": "2021-04-09 16:00",
         "incident_active": true,
         "incident_url": "https://www.spenergynetworks.co.uk/pages/power_cuts_map.aspx?incRef=INCD-489725-k",
         "postcodes_impacted": [
          "LL595BT",
          "LL595BY"
         ],
         "received_time": "2021-03-10 11:07"
        },
        "INCD-489731-k": {
         "description": "The electricity supply to your premises may currently be affected by planned work.  You should have received a letter explaining this.  We hope to be able to restore your supplies by 09-APR-2021 16:00.  Please accept our sincere apologies for any inconvenience this is causing.",
         "estimated_restored_time": "2021-04-09 15:00",
         "incident_active": true,
         "incident_url": "https://www.spenergynetworks.co.uk/pages/power_cuts_map.aspx?incRef=INCD-489731-k",
         "postcodes_impacted": [
          "SY226TB",
          "SY226TD",
          "SY226TJ"
         ],
         "received_time": "2021-03-10 11:24"
        },
        "INCD-489743-k": {
         "description": "The electricity supply to your premises may currently be affected by planned work.  You should have received a letter explaining this.  We hope to be able to restore your supplies by 09-APR-2021 14:30.  Please accept our sincere apologies for any inconvenience this is causing.",
         "estimated_restored_time": "2021-04-09 13:30",
         "incident_active": true,
         "incident_url": "https://www.spenergynetworks.co.uk/pages/power_cuts_map.aspx?incRef=INCD-489743-k",
         "postcodes_impacted": [
          "SY164NH"
         ],
         "received_time": "2021-03-10 11:37"
        },
        "INCD-489761-k": {
         "description": "There was a planned outage in your area which is now complete.  If you are still without power. please call us on: \nCentral and Southern Scotland: 0800 092 9290 . \n Cheshire, Merseyside, North Wales and North Shropshire: 0800 001 5400.",
         "estimated_restored_time": "",
         "incident_active": false,
         "incident_url": "https://www.spenergynetworks.co.uk/pages/power_cuts_map.aspx?incRef=INCD-489761-k",
         "postcodes_impacted": [
          "LL186BT",
          "LL186HS",
          "LL186HT"
         ],
         "received_time": "2021-03-10 12:38"
        },
        "INCD-489821-k": {
         "description": "There was a planned outage in your area which is now complete.  If you are still without power. please call us on: \nCentral and Southern Scotland: 0800 092 9290 . \n Cheshire, Merseyside, North Wales and North Shropshire: 0800 001 5400.",
         "estimated_restored_time": "",
         "incident_active": false,
         "incident_url": "https://www.spenergynetworks.co.uk/pages/power_cuts_map.aspx?incRef=INCD-489821-k",
         "postcodes_impacted": [
          "CW82TF",
          "CW82TG",
          "CW82TQ",
          "WA68JS",
          "WA68LJ",
          "WA68LL",
          "WA68LN",
          "WA68LR",
          "WA68LW"
         ],
         "received_time": "2021-03-10 13:59"
        },
        "INCD-489833-k": {
         "description": "There was a planned outage in your area which is now complete.  If you are still without power. please call us on: \nCentral and Southern Scotland: 0800 092 9290 . \n Cheshire, Merseyside, North Wales and North Shropshire: 0800 001 5400.",
         "estimated_restored_time": "",
         "incident_active": false,
         "incident_url": "https://www.spenergynetworks.co.uk/pages/power_cuts_map.aspx?incRef=INCD-489833-k",
         "postcodes_impacted": [
          "WA61AA",
          "WA66LH",
          "WA66LJ",
          "WA66NL",
          "WA66NY",
          "WA66NZ",
          "WA68JN",
          "WA68LR",
          "WA68ND",
          "WA68NE",
          "WA68NF"
         ],
         "received_time": "2021-03-10 14:07"
        },
        "INCD-489899-k": {
         "description": "The electricity supply to your premises may currently be affected by planned work.  You should have received a letter explaining this.  We hope to be able to restore your supplies by 09-APR-2021 16:00.  Please accept our sincere apologies for any inconvenience this is causing.",
         "estimated_restored_time": "2021-04-09 15:00",
         "incident_active": true,
         "incident_url": "https://www.spenergynetworks.co.uk/pages/power_cuts_map.aspx?incRef=INCD-489899-k",
         "postcodes_impacted": [
          "L175AN"
         ],
         "received_time": "2021-03-10 15:21"
        },
        "INCD-490001-k": {
         "description": "There was a planned outage in your area which is now complete.  If you are still without power. please call us on: \nCentral and Southern Scotland: 0800 092 9290 . \n Cheshire, Merseyside, North Wales and North Shropshire: 0800 001 5400.",
         "estimated_restored_time": "",
         "incident_active": false,
         "incident_url": "https://www.spenergynetworks.co.uk/pages/power_cuts_map.aspx?incRef=INCD-490001-k",
         "postcodes_impacted": [
          "LL653EY"
         ],
         "received_time": "2021-03-11 10:00"
        },
        "INCD-490019-k": {
         "description": "There was a planned outage in your area which is now complete.  If you are still without power. please call us on: \nCentral and Southern Scotland: 0800 092 9290 . \n Cheshire, Merseyside, North Wales and North Shropshire: 0800 001 5400.",
         "estimated_restored_time": "",
         "incident_active": false,
         "incident_url": "https://www.spenergynetworks.co.uk/pages/power_cuts_map.aspx?incRef=INCD-490019-k",
         "postcodes_impacted": [
          "SY4",
          "SY44BA",
          "SY44BD"
         ],
         "received_time": "2021-03-11 10:11"
        },
        "INCD-490145-k": {
         "description": "There was a planned outage in your area which is now complete.  If you are still without power. please call us on: \nCentral and Southern Scotland: 0800 092 9290 . \n Cheshire, Merseyside, North Wales and North Shropshire: 0800 001 5400.",
         "estimated_restored_time": "",
         "incident_active": false,
         "incident_url": "https://www.spenergynetworks.co.uk/pages/power_cuts_map.aspx?incRef=INCD-490145-k",
         "postcodes_impacted": [
          "LL553HL"
         ],
         "received_time": "2021-03-11 12:29"
        },
        "INCD-490277-k": {
         "description": "The electricity supply to your premises may currently be affected by planned work.  You should have received a letter explaining this.  We hope to be able to restore your supplies by 09-APR-2021 16:00.  Please accept our sincere apologies for any inconvenience this is causing.",
         "estimated_restored_time": "2021-04-09 15:00",
         "incident_active": true,
         "incident_url": "https://www.spenergynetworks.co.uk/pages/power_cuts_map.aspx?incRef=INCD-490277-k",
         "postcodes_impacted": [
          "CW47LP",
          "CW47LW"
         ],
         "received_time": "2021-03-11 15:21"
        },
        "INCD-490775-k": {
         "description": "There was a planned outage in your area which is now complete.  If you are still without power. please call us on: \nCentral and Southern Scotland: 0800 092 9290 . \n Cheshire, Merseyside, North Wales and North Shropshire: 0800 001 5400.",
         "estimated_restored_time": "",
         "incident_active": false,
         "incident_url": "https://www.spenergynetworks.co.uk/pages/power_cuts_map.aspx?incRef=INCD-490775-k",
         "postcodes_impacted": [
          "SY163HX",
          "SY163JB",
          "SY163JN",
          "SY163JS",
          "SY163JW"
         ],
         "received_time": "2021-03-15 11:42"
        },
        "INCD-490883-k": {
         "description": "There was a planned outage in your area which is now complete.  If you are still without power. please call us on: \nCentral and Southern Scotland: 0800 092 9290 . \n Cheshire, Merseyside, North Wales and North Shropshire: 0800 001 5400.",
         "estimated_restored_time": "",
         "incident_active": false,
         "incident_url": "https://www.spenergynetworks.co.uk/pages/power_cuts_map.aspx?incRef=INCD-490883-k",
         "postcodes_impacted": [
          "LL185UB",
          "LL185UE"
         ],
         "received_time": "2021-03-15 14:17"
        },
        "INCD-491093-k": {
         "description": "There was a planned outage in your area which is now complete.  If you are still without power. please call us on: \nCentral and Southern Scotland: 0800 092 9290 . \n Cheshire, Merseyside, North Wales and North Shropshire: 0800 001 5400.",
         "estimated_restored_time": "",
         "incident_active": false,
         "incident_url": "https://www.spenergynetworks.co.uk/pages/power_cuts_map.aspx?incRef=INCD-491093-k",
         "postcodes_impacted": [
          "LL219SF"
         ],
         "received_time": "2021-03-16 12:07"
        },
        "INCD-491153-k": {
         "description": "The electricity supply to your premises may currently be affected by planned work.  You should have received a letter explaining this.  We hope to be able to restore your supplies by 09-APR-2021 14:00.  Please accept our sincere apologies for any inconvenience this is causing.",
         "estimated_restored_time": "2021-04-09 13:00",
         "incident_active": true,
         "incident_url": "https://www.spenergynetworks.co.uk/pages/power_cuts_map.aspx?incRef=INCD-491153-k",
         "postcodes_impacted": [
          "LL228DU",
          "LL228DX",
          "LL228DY",
          "LL228EB"
         ],
         "received_time": "2021-03-16 15:24"
        },
        "INCD-491837-k": {
         "description": "There was a planned outage in your area which is now complete.  If you are still without power. please call us on: \nCentral and Southern Scotland: 0800 092 9290 . \n Cheshire, Merseyside, North Wales and North Shropshire: 0800 001 5400.",
         "estimated_restored_time": "",
         "incident_active": false,
         "incident_url": "https://www.spenergynetworks.co.uk/pages/power_cuts_map.aspx?incRef=INCD-491837-k",
         "postcodes_impacted": [
          "CH39LF",
          "CH39LG",
          "CH39LH",
          "CH39LJ",
          "CH39LL",
          "CH39LQ",
          "H39LL"
         ],
         "received_time": "2021-03-22 11:25"
        },
        "INCD-492311-k": {
         "description": "The electricity supply to your premises may currently be affected by planned work.  You should have received a letter explaining this.  We hope to be able to restore your supplies by 09-APR-2021 16:30.  Please accept our sincere apologies for any inconvenience this is causing.",
         "estimated_restored_time": "2021-04-09 15:30",
         "incident_active": true,
         "incident_url": "https://www.spenergynetworks.co.uk/pages/power_cuts_map.aspx?incRef=INCD-492311-k",
         "postcodes_impacted": [
          "SY44AE",
          "SY44AN",
          "SY44AP",
          "SY44AW",
          "SY44BA"
         ],
         "received_time": "2021-03-25 09:15"
        },
        "INCD-492347-k": {
         "description": "There was a planned outage in your area which is now complete.  If you are still without power. please call us on: \nCentral and Southern Scotland: 0800 092 9290 . \n Cheshire, Merseyside, North Wales and North Shropshire: 0800 001 5400.",
         "estimated_restored_time": "",
         "incident_active": false,
         "incident_url": "https://www.spenergynetworks.co.uk/pages/power_cuts_map.aspx?incRef=INCD-492347-k",
         "postcodes_impacted": [
          "EH414QA"
         ],
         "received_time": "2021-03-25 10:06"
        },
        "INCD-492353-k": {
         "description": "There was a planned outage in your area which is now complete.  If you are still without power. please call us on: \nCentral and Southern Scotland: 0800 092 9290 . \n Cheshire, Merseyside, North Wales and North Shropshire: 0800 001 5400.",
         "estimated_restored_time": "",
         "incident_active": false,
         "incident_url": "https://www.spenergynetworks.co.uk/pages/power_cuts_map.aspx?incRef=INCD-492353-k",
         "postcodes_impacted": [
          "KA67QE"
         ],
         "received_time": "2021-03-25 11:32"
        },
        "INCD-492359-k": {
         "description": "There was a planned outage in your area which is now complete.  If you are still without power. please call us on: \nCentral and Southern Scotland: 0800 092 9290 . \n Cheshire, Merseyside, North Wales and North Shropshire: 0800 001 5400.",
         "estimated_restored_time": "",
         "incident_active": false,
         "incident_url": "https://www.spenergynetworks.co.uk/pages/power_cuts_map.aspx?incRef=INCD-492359-k",
         "postcodes_impacted": [
          "DG140RA",
          "DG140RD",
          "DG140RE",
          "DG140RN",
          "DG140RP",
          "DG140RR",
          "DG140RS",
          "DG140RW",
          "DG140XA"
         ],
         "received_time": "2021-03-25 12:31"
        },
        "INCD-492377-k": {
         "description": "There was a planned outage in your area which is now complete.  If you are still without power. please call us on: \nCentral and Southern Scotland: 0800 092 9290 . \n Cheshire, Merseyside, North Wales and North Shropshire: 0800 001 5400.",
         "estimated_restored_time": "",
         "incident_active": false,
         "incident_url": "https://www.spenergynetworks.co.uk/pages/power_cuts_map.aspx?incRef=INCD-492377-k",
         "postcodes_impacted": [
          "TD113GA",
          "TD113SG",
          "TD113TX"
         ],
         "received_time": "2021-03-25 13:37"
        },
        "INCD-492425-k": {
         "description": "There was a planned outage in your area which is now complete.  If you are still without power. please call us on: \nCentral and Southern Scotland: 0800 092 9290 . \n Cheshire, Merseyside, North Wales and North Shropshire: 0800 001 5400.",
         "estimated_restored_time": "",
         "incident_active": false,
         "incident_url": "https://www.spenergynetworks.co.uk/pages/power_cuts_map.aspx?incRef=INCD-492425-k",
         "postcodes_impacted": [
          "KY157",
          "KY157UT",
          "KY157UZ"
         ],
         "received_time": "2021-03-26 08:29"
        },
        "INCD-492467-k": {
         "description": "The electricity supply to your premises may currently be affected by planned work.  You should have received a letter explaining this.  We hope to be able to restore your supplies by 09-APR-2021 15:00.  Please accept our sincere apologies for any inconvenience this is causing.",
         "estimated_restored_time": "2021-04-09 14:00",
         "incident_active": true,
         "incident_url": "https://www.spenergynetworks.co.uk/pages/power_cuts_map.aspx?incRef=INCD-492467-k",
         "postcodes_impacted": [
          "KA20DW",
          "KA20EE",
          "KA32LY",
          "KA32PF"
         ],
         "received_time": "2021-03-26 09:44"
        },
        "INCD-492485-k": {
         "description": "There was a planned outage in your area which is now complete.  If you are still without power. please call us on: \nCentral and Southern Scotland: 0800 092 9290 . \n Cheshire, Merseyside, North Wales and North Shropshire: 0800 001 5400.",
         "estimated_restored_time": "",
         "incident_active": false,
         "incident_url": "https://www.spenergynetworks.co.uk/pages/power_cuts_map.aspx?incRef=INCD-492485-k",
         "postcodes_impacted": [
          "EH497LY",
          "EH497ND"
         ],
         "received_time": "2021-03-26 10:18"
        },
        "INCD-492503-k": {
         "description": "There was a planned outage in your area which is now complete.  If you are still without power. please call us on: \nCentral and Southern Scotland: 0800 092 9290 . \n Cheshire, Merseyside, North Wales and North Shropshire: 0800 001 5400.",
         "estimated_restored_time": "",
         "incident_active": false,
         "incident_url": "https://www.spenergynetworks.co.uk/pages/power_cuts_map.aspx?incRef=INCD-492503-k",
         "postcodes_impacted": [
          "KA20BY",
          "KA20DF",
          "KA20DH",
          "KA20DJ",
          "KA20DX",
          "KA20HL"
         ],
         "received_time": "2021-03-26 10:32"
        },
        "INCD-492539-k": {
         "description": "There was a planned outage in your area which is now complete.  If you are still without power. please call us on: \nCentral and Southern Scotland: 0800 092 9290 . \n Cheshire, Merseyside, North Wales and North Shropshire: 0800 001 5400.",
         "estimated_restored_time": "",
         "incident_active": false,
         "incident_url": "https://www.spenergynetworks.co.uk/pages/power_cuts_map.aspx?incRef=INCD-492539-k",
         "postcodes_impacted": [
          "KA151HH",
          "KA151HP",
          "KA151HQ",
          "KA151HT"
         ],
         "received_time": "2021-03-26 11:25"
        },
        "INCD-492545-k": {
         "description": "There was a planned outage in your area which is now complete.  If you are still without power. please call us on: \nCentral and Southern Scotland: 0800 092 9290 . \n Cheshire, Merseyside, North Wales and North Shropshire: 0800 001 5400.",
         "estimated_restored_time": "",
         "incident_active": false,
         "incident_url": "https://www.spenergynetworks.co.uk/pages/power_cuts_map.aspx?incRef=INCD-492545-k",
         "postcodes_impacted": [
          "KA36DU"
         ],
         "received_time": "2021-03-26 12:08"
        },
        "INCD-492701-k": {
         "description": "The electricity supply to your premises may currently be affected by planned work.  You should have received a letter explaining this.  We hope to be able to restore your supplies by 09-APR-2021 16:30.  Please accept our sincere apologies for any inconvenience this is causing.",
         "estimated_restored_time": "2021-04-09 15:30",
         "incident_active": true,
         "incident_url": "https://www.spenergynetworks.co.uk/pages/power_cuts_map.aspx?incRef=INCD-492701-k",
         "postcodes_impacted": [
          "FK12JL",
          "FK12JW"
         ],
         "received_time": "2021-03-26 15:50"
        },
        "INCD-492713-k": {
         "description": "There was a planned outage in your area which is now complete.  If you are still without power. please call us on: \nCentral and Southern Scotland: 0800 092 9290 . \n Cheshire, Merseyside, North Wales and North Shropshire: 0800 001 5400.",
         "estimated_restored_time": "",
         "incident_active": false,
         "incident_url": "https://www.spenergynetworks.co.uk/pages/power_cuts_map.aspx?incRef=INCD-492713-k",
         "postcodes_impacted": [
          "DG111EP",
          "DG111HD",
          "DG111HF",
          "DG111HG",
          "DG111HN",
          "DG111HW"
         ],
         "received_time": "2021-03-26 16:29"
        },
        "INCD-492905-k": {
         "description": "The electricity supply to your premises may currently be affected by planned work.  You should have received a letter explaining this.  We hope to be able to restore your supplies by 09-APR-2021 16:00.  Please accept our sincere apologies for any inconvenience this is causing.",
         "estimated_restored_time": "2021-04-09 15:00",
         "incident_active": true,
         "incident_url": "https://www.spenergynetworks.co.uk/pages/power_cuts_map.aspx?incRef=INCD-492905-k",
         "postcodes_impacted": [
          "TD106UW"
         ],
         "received_time": "2021-03-28 13:06"
        },
        "INCD-492911-k": {
         "description": "Monitoring systems on our network have alerted us to an unexpected fault affecting a number of customers over a wide area. We apologise for the inconvenience caused, our emergency response teams have been notified and we expect your supply to be restored by 13:45",
         "estimated_restored_time": "2021-04-09 15:00",
         "incident_active": true,
         "incident_url": "https://www.spenergynetworks.co.uk/pages/power_cuts_map.aspx?incRef=INCD-492911-k",
         "postcodes_impacted": [
          "DG140RS",
          "DG140RT",
          "DG140RU"
         ],
         "received_time": "2021-03-28 14:09"
        },
        "INCD-492917-k": {
         "description": "The electricity supply to your premises may currently be affected by planned work.  You should have received a letter explaining this.  We hope to be able to restore your supplies by 09-APR-2021 14:30.  Please accept our sincere apologies for any inconvenience this is causing.",
         "estimated_restored_time": "2021-04-09 13:30",
         "incident_active": true,
         "incident_url": "https://www.spenergynetworks.co.uk/pages/power_cuts_map.aspx?incRef=INCD-492917-k",
         "postcodes_impacted": [
          "DG165EY"
         ],
         "received_time": "2021-03-28 14:48"
        },
        "INCD-492959-k": {
         "description": "The electricity supply to your premises may currently be affected by planned work.  You should have received a letter explaining this.  We hope to be able to restore your supplies by 09-APR-2021 16:00.  Please accept our sincere apologies for any inconvenience this is causing.",
         "estimated_restored_time": "2021-04-09 15:00",
         "incident_active": true,
         "incident_url": "https://www.spenergynetworks.co.uk/pages/power_cuts_map.aspx?incRef=INCD-492959-k",
         "postcodes_impacted": [
          "KA13BQ",
          "KA34BQ"
         ],
         "received_time": "2021-03-28 16:23"
        },
        "INCD-492989-k": {
         "description": "The electricity supply to your premises may currently be affected by planned work.  You should have received a letter explaining this.  We hope to be able to restore your supplies by 09-APR-2021 16:30.  Please accept our sincere apologies for any inconvenience this is causing.",
         "estimated_restored_time": "2021-04-09 15:30",
         "incident_active": true,
         "incident_url": "https://www.spenergynetworks.co.uk/pages/power_cuts_map.aspx?incRef=INCD-492989-k",
         "postcodes_impacted": [
          "EH320PH"
         ],
         "received_time": "2021-03-28 16:57"
        },
        "INCD-493103-k": {
         "description": "There was a planned outage in your area which is now complete.  If you are still without power. please call us on: \nCentral and Southern Scotland: 0800 092 9290 . \n Cheshire, Merseyside, North Wales and North Shropshire: 0800 001 5400.",
         "estimated_restored_time": "",
         "incident_active": false,
         "incident_url": "https://www.spenergynetworks.co.uk/pages/power_cuts_map.aspx?incRef=INCD-493103-k",
         "postcodes_impacted": [
          "SY175AS",
          "SY175AT"
         ],
         "received_time": "2021-03-29 09:14"
        },
        "INCD-493109-k": {
         "description": "There was a planned outage in your area which is now complete.  If you are still without power. please call us on: \nCentral and Southern Scotland: 0800 092 9290 . \n Cheshire, Merseyside, North Wales and North Shropshire: 0800 001 5400.",
         "estimated_restored_time": "",
         "incident_active": false,
         "incident_url": "https://www.spenergynetworks.co.uk/pages/power_cuts_map.aspx?incRef=INCD-493109-k",
         "postcodes_impacted": [
          "LL240EU"
         ],
         "received_time": "2021-03-29 09:18"
        },
        "INCD-493187-k": {
         "description": "The electricity supply to your premises may currently be affected by planned work.  You should have received a letter explaining this.  We hope to be able to restore your supplies by 09-APR-2021 16:00.  Please accept our sincere apologies for any inconvenience this is causing.",
         "estimated_restored_time": "2021-04-09 15:00",
         "incident_active": true,
         "incident_url": "https://www.spenergynetworks.co.uk/pages/power_cuts_map.aspx?incRef=INCD-493187-k",
         "postcodes_impacted": [
          "EH278BB"
         ],
         "received_time": "2021-03-29 11:16"
        },
        "INCD-493265-k": {
         "description": "There was a planned outage in your area which is now complete.  If you are still without power. please call us on: \nCentral and Southern Scotland: 0800 092 9290 . \n Cheshire, Merseyside, North Wales and North Shropshire: 0800 001 5400.",
         "estimated_restored_time": "",
         "incident_active": false,
         "incident_url": "https://www.spenergynetworks.co.uk/pages/power_cuts_map.aspx?incRef=INCD-493265-k",
         "postcodes_impacted": [
          "KA20AL",
          "KA20AP",
          "KA20BH",
          "KA20BJ",
          "KA20BL",
          "KA20BN",
          "KA20BT",
          "KA20BW"
         ],
         "received_time": "2021-03-29 12:35"
        },
        "INCD-493283-k": {
         "description": "The electricity supply to your premises may currently be affected by planned work.  You should have received a letter explaining this.  We hope to be able to restore your supplies by 09-APR-2021 14:00.  Please accept our sincere apologies for any inconvenience this is causing.",
         "estimated_restored_time": "2021-04-09 13:00",
         "incident_active": true,
         "incident_url": "https://www.spenergynetworks.co.uk/pages/power_cuts_map.aspx?incRef=INCD-493283-k",
         "postcodes_impacted": [
          "EH312AA",
          "EH320PZ",
          "EH320QA",
          "EH320QB",
          "EH39",
          "EH395AL"
         ],
         "received_time": "2021-03-29 12:56"
        },
        "INCD-493487-k": {
         "description": "There was a planned outage in your area which is now complete.  If you are still without power. please call us on: \nCentral and Southern Scotland: 0800 092 9290 . \n Cheshire, Merseyside, North Wales and North Shropshire: 0800 001 5400.",
         "estimated_restored_time": "",
         "incident_active": false,
         "incident_url": "https://www.spenergynetworks.co.uk/pages/power_cuts_map.aspx?incRef=INCD-493487-k",
         "postcodes_impacted": [
          "DG11TA"
         ],
         "received_time": "2021-03-30 10:58"
        },
        "INCD-494663-k": {
         "description": "There was a fault in your area which has now been resolved.  If you are still without power. please call us on: \nCentral and Southern Scotland: 0800 092 9290 . \n Cheshire, Merseyside, North Wales and North Shropshire: 0800 001 5400.",
         "estimated_restored_time": "",
         "incident_active": false,
         "incident_url": "https://www.spenergynetworks.co.uk/pages/power_cuts_map.aspx?incRef=INCD-494663-k",
         "postcodes_impacted": [
          "TD98RZ",
          "TD98SA"
         ],
         "received_time": "2021-04-02 13:59"
        },
        "INCD-495359-k": {
         "description": "There was a fault in your area which has now been resolved.  If you are still without power. please call us on: \nCentral and Southern Scotland: 0800 092 9290 . \n Cheshire, Merseyside, North Wales and North Shropshire: 0800 001 5400.",
         "estimated_restored_time": "",
         "incident_active": false,
         "incident_url": "https://www.spenergynetworks.co.uk/pages/power_cuts_map.aspx?incRef=INCD-495359-k",
         "postcodes_impacted": [
          "PA11BA",
          "PA11BL",
          "PA11BN",
          "PA11BP",
          "PA11XX",
          "PA32AD",
          "PA32AG",
          "PA32AL",
          "PA32AP",
          "PA34BT"
         ],
         "received_time": "2021-04-07 11:29"
        },
        "INCD-500919-f": {
         "description": "There was a planned outage in your area which is now complete.  If you are still without power. please call us on: \nCentral and Southern Scotland: 0800 092 9290 . \n Cheshire, Merseyside, North Wales and North Shropshire: 0800 001 5400.",
         "estimated_restored_time": "",
         "incident_active": false,
         "incident_url": "https://www.spenergynetworks.co.uk/pages/power_cuts_map.aspx?incRef=INCD-500919-f",
         "postcodes_impacted": [
          "TD106UN",
          "TD113HY",
          "TD57QT"
         ],
         "received_time": "2021-03-25 13:55"
        },
        "INCD-502935-f": {
         "description": "There was a fault in your area which has now been resolved.  If you are still without power. please call us on: \nCentral and Southern Scotland: 0800 092 9290 . \n Cheshire, Merseyside, North Wales and North Shropshire: 0800 001 5400.",
         "estimated_restored_time": "",
         "incident_active": false,
         "incident_url": "https://www.spenergynetworks.co.uk/pages/power_cuts_map.aspx?incRef=INCD-502935-f",
         "postcodes_impacted": [
          "EH558PU"
         ],
         "received_time": "2021-04-06 09:55"
        },
        "INCD-503043-f": {
         "description": "There was a fault in your area which has now been resolved.  If you are still without power. please call us on: \nCentral and Southern Scotland: 0800 092 9290 . \n Cheshire, Merseyside, North Wales and North Shropshire: 0800 001 5400.",
         "estimated_restored_time": "",
         "incident_active": false,
         "incident_url": "https://www.spenergynetworks.co.uk/pages/power_cuts_map.aspx?incRef=INCD-503043-f",
         "postcodes_impacted": [
          "DD68HL",
          "DD68JJ",
          "DD68JL",
          "DD68JN"
         ],
         "received_time": "2021-04-06 11:25"
        },
        "INCD-503157-f": {
         "description": "There was a fault in your area which has now been resolved.  If you are still without power. please call us on: \nCentral and Southern Scotland: 0800 092 9290 . \n Cheshire, Merseyside, North Wales and North Shropshire: 0800 001 5400.",
         "estimated_restored_time": "",
         "incident_active": false,
         "incident_url": "https://www.spenergynetworks.co.uk/pages/power_cuts_map.aspx?incRef=INCD-503157-f",
         "postcodes_impacted": [
          "EH470BB",
          "EH470BD",
          "EH470BE",
          "EH470BG",
          "EH470DA",
          "EH470DD",
          "EH470DE",
          "EH470DF",
          "EH470DG",
          "EH470DH",
          "EH470EZ"
         ],
         "received_time": "2021-04-06 14:11"
        },
        "INCD-503355-f": {
         "description": "There was a fault in your area which has now been resolved.  If you are still without power. please call us on: \nCentral and Southern Scotland: 0800 092 9290 . \n Cheshire, Merseyside, North Wales and North Shropshire: 0800 001 5400.",
         "estimated_restored_time": "",
         "incident_active": false,
         "incident_url": "https://www.spenergynetworks.co.uk/pages/power_cuts_map.aspx?incRef=INCD-503355-f",
         "postcodes_impacted": [
          "FK38BP",
          "FK38BQ",
          "FK38BS",
          "FK38DA",
          "FK38JR",
          "FK38JS",
          "FK38LG",
          "FK38LQ"
         ],
         "received_time": "2021-04-07 19:35"
        },
        "INCD-503409-f": {
         "description": "There was a fault in your area which has now been resolved.  If you are still without power. please call us on: \nCentral and Southern Scotland: 0800 092 9290 . \n Cheshire, Merseyside, North Wales and North Shropshire: 0800 001 5400.",
         "estimated_restored_time": "",
         "incident_active": false,
         "incident_url": "https://www.spenergynetworks.co.uk/pages/power_cuts_map.aspx?incRef=INCD-503409-f",
         "postcodes_impacted": [
          "G720TN",
          "G720TW",
          "G720WW",
          "G721AA"
         ],
         "received_time": "2021-04-08 10:20"
        },
        "INCD-503457-f": {
         "description": "There was a fault in your area which has now been resolved.  If you are still without power. please call us on: \nCentral and Southern Scotland: 0800 092 9290 . \n Cheshire, Merseyside, North Wales and North Shropshire: 0800 001 5400.",
         "estimated_restored_time": "",
         "incident_active": false,
         "incident_url": "https://www.spenergynetworks.co.uk/pages/power_cuts_map.aspx?incRef=INCD-503457-f",
         "postcodes_impacted": [
          "KY157UT"
         ],
         "received_time": "2021-04-08 15:30"
        },
        "INCD-503469-f": {
         "description": "There was a fault in your area which has now been resolved.  If you are still without power. please call us on: \nCentral and Southern Scotland: 0800 092 9290 . \n Cheshire, Merseyside, North Wales and North Shropshire: 0800 001 5400.",
         "estimated_restored_time": "",
         "incident_active": false,
         "incident_url": "https://www.spenergynetworks.co.uk/pages/power_cuts_map.aspx?incRef=INCD-503469-f",
         "postcodes_impacted": [
          "G33",
          "G336AA",
          "G336BD",
          "G336EY",
          "G336EZ",
          "G336HA",
          "G336HD",
          "G336HE",
          "G336HF",
          "G336HG",
          "G336HH",
          "G336HN",
          "G336HQ",
          "G336HY",
          "G336JF",
          "G336LS"
         ],
         "received_time": "2021-04-08 15:34"
        },
        "INCD-503487-f": {
         "description": "There was a fault in your area which has now been resolved.  If you are still without power. please call us on: \nCentral and Southern Scotland: 0800 092 9290 . \n Cheshire, Merseyside, North Wales and North Shropshire: 0800 001 5400.",
         "estimated_restored_time": "",
         "incident_active": false,
         "incident_url": "https://www.spenergynetworks.co.uk/pages/power_cuts_map.aspx?incRef=INCD-503487-f",
         "postcodes_impacted": [
          "DG20HS",
          "DG20JE"
         ],
         "received_time": "2021-04-08 15:18"
        },
        "INCD-503499-f": {
         "description": "There was a fault in your area which has now been resolved.  If you are still without power. please call us on: \nCentral and Southern Scotland: 0800 092 9290 . \n Cheshire, Merseyside, North Wales and North Shropshire: 0800 001 5400.",
         "estimated_restored_time": "",
         "incident_active": false,
         "incident_url": "https://www.spenergynetworks.co.uk/pages/power_cuts_map.aspx?incRef=INCD-503499-f",
         "postcodes_impacted": [
          "DG112RN"
         ],
         "received_time": "2021-04-08 17:05"
        },
        "INCD-503511-f": {
         "description": "There was a fault in your area which has now been resolved.  If you are still without power. please call us on: \nCentral and Southern Scotland: 0800 092 9290 . \n Cheshire, Merseyside, North Wales and North Shropshire: 0800 001 5400.",
         "estimated_restored_time": "",
         "incident_active": false,
         "incident_url": "https://www.spenergynetworks.co.uk/pages/power_cuts_map.aspx?incRef=INCD-503511-f",
         "postcodes_impacted": [
          "FK11DD",
          "FK11LZ",
          "FK11NB",
          "FK11NH",
          "FK11NU"
         ],
         "received_time": "2021-04-08 17:25"
        },
        "INCD-503541-f": {
         "description": "There was a fault in your area which has now been resolved.  If you are still without power. please call us on: \nCentral and Southern Scotland: 0800 092 9290 . \n Cheshire, Merseyside, North Wales and North Shropshire: 0800 001 5400.",
         "estimated_restored_time": "",
         "incident_active": false,
         "incident_url": "https://www.spenergynetworks.co.uk/pages/power_cuts_map.aspx?incRef=INCD-503541-f",
         "postcodes_impacted": [
          "G728YF",
          "G728YH",
          "G728YQ",
          "G729UE",
          "G743XY"
         ],
         "received_time": "2021-04-08 18:15"
        },
        "INCD-503577-f": {
         "description": "There was a fault in your area which has now been resolved.  If you are still without power. please call us on: \nCentral and Southern Scotland: 0800 092 9290 . \n Cheshire, Merseyside, North Wales and North Shropshire: 0800 001 5400.",
         "estimated_restored_time": "",
         "incident_active": false,
         "incident_url": "https://www.spenergynetworks.co.uk/pages/power_cuts_map.aspx?incRef=INCD-503577-f",
         "postcodes_impacted": [
          "DG88HP"
         ],
         "received_time": "2021-04-08 19:17"
        },
        "INCD-503583-f": {
         "description": "There was a fault in your area which has now been resolved.  If you are still without power. please call us on: \nCentral and Southern Scotland: 0800 092 9290 . \n Cheshire, Merseyside, North Wales and North Shropshire: 0800 001 5400.",
         "estimated_restored_time": "",
         "incident_active": false,
         "incident_url": "https://www.spenergynetworks.co.uk/pages/power_cuts_map.aspx?incRef=INCD-503583-f",
         "postcodes_impacted": [
          "ML55AH",
          "ML55AJ",
          "ML55AL",
          "ML55AN",
          "ML55EU",
          "ML55NS",
          "ML55NW",
          "ML55QD",
          "ML55QU"
         ],
         "received_time": "2021-04-08 19:53"
        },
        "INCD-503589-f": {
         "description": "There was a fault in your area which has now been resolved.  If you are still without power. please call us on: \nCentral and Southern Scotland: 0800 092 9290 . \n Cheshire, Merseyside, North Wales and North Shropshire: 0800 001 5400.",
         "estimated_restored_time": "",
         "incident_active": false,
         "incident_url": "https://www.spenergynetworks.co.uk/pages/power_cuts_map.aspx?incRef=INCD-503589-f",
         "postcodes_impacted": [
          "ML55AH",
          "ML55AJ",
          "ML55AL",
          "ML55AN",
          "ML55EU",
          "ML55NS",
          "ML55NW",
          "ML55QD",
          "ML55QU"
         ],
         "received_time": "2021-04-08 20:20"
        },
        "INCD-503613-f": {
         "description": "There was a fault in your area which has now been resolved.  If you are still without power. please call us on: \nCentral and Southern Scotland: 0800 092 9290 . \n Cheshire, Merseyside, North Wales and North Shropshire: 0800 001 5400.",
         "estimated_restored_time": "",
         "incident_active": false,
         "incident_url": "https://www.spenergynetworks.co.uk/pages/power_cuts_map.aspx?incRef=INCD-503613-f",
         "postcodes_impacted": [
          "G466UE",
          "G466XW",
          "G467NE",
          "G467NR",
          "G467NS",
          "G467NT",
          "G467PQ"
         ],
         "received_time": "2021-04-09 06:29"
        },
        "INCD-503619-f": {
         "description": "We are aware of a fault in your area. If you require more information please call us on: \nCentral and Southern Scotland:  0800 092 9290 . \n Cheshire, Merseyside, North Wales and North Shropshire: 0800 001 5400.",
         "estimated_restored_time": "2021-04-09 09:56",
         "incident_active": true,
         "incident_url": "https://www.spenergynetworks.co.uk/pages/power_cuts_map.aspx?incRef=INCD-503619-f",
         "postcodes_impacted": [
          "PA32BE"
         ],
         "received_time": "2021-04-09 07:56"
        },
        "INCD-503625-f": {
         "description": "There was a fault in your area which has now been resolved.  If you are still without power. please call us on: \nCentral and Southern Scotland: 0800 092 9290 . \n Cheshire, Merseyside, North Wales and North Shropshire: 0800 001 5400.",
         "estimated_restored_time": "",
         "incident_active": false,
         "incident_url": "https://www.spenergynetworks.co.uk/pages/power_cuts_map.aspx?incRef=INCD-503625-f",
         "postcodes_impacted": [
          "KA215AJ",
          "KA215AL",
          "KA215AZ"
         ],
         "received_time": "2021-04-09 08:45"
        },
        "INCD-503649-f": {
         "description": "We are aware of a fault in your area. If you require more information please call us on: \nCentral and Southern Scotland:  0800 092 9290 . \n Cheshire, Merseyside, North Wales and North Shropshire: 0800 001 5400.",
         "estimated_restored_time": "2021-04-09 12:02",
         "incident_active": true,
         "incident_url": "https://www.spenergynetworks.co.uk/pages/power_cuts_map.aspx?incRef=INCD-503649-f",
         "postcodes_impacted": [
          "G831AA",
          "G838",
          "G838QN",
          "G838QX",
          "G838SE",
          "G838SJ",
          "G838SN",
          "G838SR",
          "G838SS"
         ],
         "received_time": "2021-04-09 09:46"
        },
        "INCD-503661-f": {
         "description": "We are aware of a fault in your area. If you require more information please call us on: \nCentral and Southern Scotland:  0800 092 9290 . \n Cheshire, Merseyside, North Wales and North Shropshire: 0800 001 5400.",
         "estimated_restored_time": "2021-04-09 16:45",
         "incident_active": true,
         "incident_url": "https://www.spenergynetworks.co.uk/pages/power_cuts_map.aspx?incRef=INCD-503661-f",
         "postcodes_impacted": [
          "G37AW",
          "G37DS",
          "G37HU",
          "G37JR",
          "G37NG",
          "G37PJ",
          "G37PR",
          "G37RB"
         ],
         "received_time": "2021-04-09 10:27"
        },
        "INCD-503685-f": {
         "description": "There was a fault in your area which has now been resolved.  If you are still without power. please call us on: \nCentral and Southern Scotland: 0800 092 9290 . \n Cheshire, Merseyside, North Wales and North Shropshire: 0800 001 5400.",
         "estimated_restored_time": "",
         "incident_active": false,
         "incident_url": "https://www.spenergynetworks.co.uk/pages/power_cuts_map.aspx?incRef=INCD-503685-f",
         "postcodes_impacted": [
          "EH12EP",
          "EH24EH"
         ],
         "received_time": "2021-04-09 11:10"
        },
        "INCD-560455-s": {
         "description": "There was a fault in your area which has now been resolved.  If you are still without power. please call us on: \nCentral and Southern Scotland: 0800 092 9290 . \n Cheshire, Merseyside, North Wales and North Shropshire: 0800 001 5400.",
         "estimated_restored_time": "",
         "incident_active": false,
         "incident_url": "https://www.spenergynetworks.co.uk/pages/power_cuts_map.aspx?incRef=INCD-560455-s",
         "postcodes_impacted": [
          "G744PS",
          "G744QX",
          "G744QZ",
          "G744XR",
          "G744ZA"
         ],
         "received_time": "2021-04-02 15:27"
        },
        "INCD-561595-s": {
         "description": "There was a fault in your area which has now been resolved.  If you are still without power. please call us on: \nCentral and Southern Scotland: 0800 092 9290 . \n Cheshire, Merseyside, North Wales and North Shropshire: 0800 001 5400.",
         "estimated_restored_time": "",
         "incident_active": false,
         "incident_url": "https://www.spenergynetworks.co.uk/pages/power_cuts_map.aspx?incRef=INCD-561595-s",
         "postcodes_impacted": [
          "G840NA"
         ],
         "received_time": "2021-04-07 19:24"
        },
        "INCD-561715-s": {
         "description": "There was a fault in your area which has now been resolved.  If you are still without power. please call us on: \nCentral and Southern Scotland: 0800 092 9290 . \n Cheshire, Merseyside, North Wales and North Shropshire: 0800 001 5400.",
         "estimated_restored_time": "",
         "incident_active": false,
         "incident_url": "https://www.spenergynetworks.co.uk/pages/power_cuts_map.aspx?incRef=INCD-561715-s",
         "postcodes_impacted": [
          "KA260QT"
         ],
         "received_time": "2021-04-08 09:07"
        },
        "INCD-561805-s": {
         "description": "There was a fault in your area which has now been resolved.  If you are still without power. please call us on: \nCentral and Southern Scotland: 0800 092 9290 . \n Cheshire, Merseyside, North Wales and North Shropshire: 0800 001 5400.",
         "estimated_restored_time": "",
         "incident_active": false,
         "incident_url": "https://www.spenergynetworks.co.uk/pages/power_cuts_map.aspx?incRef=INCD-561805-s",
         "postcodes_impacted": [
          "EH147EP",
          "EH147HE",
          "EH147HF",
          "EH147HG",
          "EH147HJ",
          "EH147HQ",
          "EH147HU",
          "EH147HX"
         ],
         "received_time": "2021-04-08 11:59"
        },
        "INCD-561835-s": {
         "description": "There was a fault in your area which has now been resolved.  If you are still without power. please call us on: \nCentral and Southern Scotland: 0800 092 9290 . \n Cheshire, Merseyside, North Wales and North Shropshire: 0800 001 5400.",
         "estimated_restored_time": "",
         "incident_active": false,
         "incident_url": "https://www.spenergynetworks.co.uk/pages/power_cuts_map.aspx?incRef=INCD-561835-s",
         "postcodes_impacted": [
          "KY40ET"
         ],
         "received_time": "2021-04-08 12:23"
        },
        "INCD-561853-s": {
         "description": "There was a fault in your area which has now been resolved.  If you are still without power. please call us on: \nCentral and Southern Scotland: 0800 092 9290 . \n Cheshire, Merseyside, North Wales and North Shropshire: 0800 001 5400.",
         "estimated_restored_time": "",
         "incident_active": false,
         "incident_url": "https://www.spenergynetworks.co.uk/pages/power_cuts_map.aspx?incRef=INCD-561853-s",
         "postcodes_impacted": [
          "KA215RD"
         ],
         "received_time": "2021-04-08 12:34"
        },
        "INCD-561931-s": {
         "description": "There was a fault in your area which has now been resolved.  If you are still without power. please call us on: \nCentral and Southern Scotland: 0800 092 9290 . \n Cheshire, Merseyside, North Wales and North Shropshire: 0800 001 5400.",
         "estimated_restored_time": "",
         "incident_active": false,
         "incident_url": "https://www.spenergynetworks.co.uk/pages/power_cuts_map.aspx?incRef=INCD-561931-s",
         "postcodes_impacted": [
          "EH496NL",
          "EH496NN",
          "EH496NP",
          "EH496NS",
          "EH496PD"
         ],
         "received_time": "2021-04-08 13:27"
        },
        "INCD-561955-s": {
         "description": "There was a fault in your area which has now been resolved.  If you are still without power. please call us on: \nCentral and Southern Scotland: 0800 092 9290 . \n Cheshire, Merseyside, North Wales and North Shropshire: 0800 001 5400.",
         "estimated_restored_time": "",
         "incident_active": false,
         "incident_url": "https://www.spenergynetworks.co.uk/pages/power_cuts_map.aspx?incRef=INCD-561955-s",
         "postcodes_impacted": [
          "EH21AA",
          "EH21BT",
          "EH21EL",
          "EH21EN",
          "EH21EW",
          "EH22HN",
          "EH22HT",
          "EH24AS"
         ],
         "received_time": "2021-04-08 14:04"
        },
        "INCD-561961-s": {
         "description": "There was a fault in your area which has now been resolved.  If you are still without power. please call us on: \nCentral and Southern Scotland: 0800 092 9290 . \n Cheshire, Merseyside, North Wales and North Shropshire: 0800 001 5400.",
         "estimated_restored_time": "",
         "incident_active": false,
         "incident_url": "https://www.spenergynetworks.co.uk/pages/power_cuts_map.aspx?incRef=INCD-561961-s",
         "postcodes_impacted": [
          "G768QP",
          "G768SY",
          "G768SZ"
         ],
         "received_time": "2021-04-08 14:05"
        },
        "INCD-561979-s": {
         "description": "There was a fault in your area which has now been resolved.  If you are still without power. please call us on: \nCentral and Southern Scotland: 0800 092 9290 . \n Cheshire, Merseyside, North Wales and North Shropshire: 0800 001 5400.",
         "estimated_restored_time": "",
         "incident_active": false,
         "incident_url": "https://www.spenergynetworks.co.uk/pages/power_cuts_map.aspx?incRef=INCD-561979-s",
         "postcodes_impacted": [
          "G314XR",
          "G314XS",
          "G314XT",
          "G314XU",
          "G314XX",
          "G328TH"
         ],
         "received_time": "2021-04-08 15:18"
        },
        "INCD-562021-s": {
         "description": "There was a fault in your area which has now been resolved.  If you are still without power. please call us on: \nCentral and Southern Scotland: 0800 092 9290 . \n Cheshire, Merseyside, North Wales and North Shropshire: 0800 001 5400.",
         "estimated_restored_time": "",
         "incident_active": false,
         "incident_url": "https://www.spenergynetworks.co.uk/pages/power_cuts_map.aspx?incRef=INCD-562021-s",
         "postcodes_impacted": [
          "G411JA",
          "G511LE",
          "G511LF"
         ],
         "received_time": "2021-04-08 17:26"
        },
        "INCD-562105-s": {
         "description": "There was a fault in your area which has now been resolved.  If you are still without power. please call us on: \nCentral and Southern Scotland: 0800 092 9290 . \n Cheshire, Merseyside, North Wales and North Shropshire: 0800 001 5400.",
         "estimated_restored_time": "",
         "incident_active": false,
         "incident_url": "https://www.spenergynetworks.co.uk/pages/power_cuts_map.aspx?incRef=INCD-562105-s",
         "postcodes_impacted": [
          "G466UE",
          "G466XW",
          "G467NE",
          "G467NR",
          "G467NS",
          "G467NT",
          "G467PQ"
         ],
         "received_time": "2021-04-09 05:22"
        },
        "INCD-562111-s": {
         "description": "There was a fault in your area which has now been resolved.  If you are still without power. please call us on: \nCentral and Southern Scotland: 0800 092 9290 . \n Cheshire, Merseyside, North Wales and North Shropshire: 0800 001 5400.",
         "estimated_restored_time": "",
         "incident_active": false,
         "incident_url": "https://www.spenergynetworks.co.uk/pages/power_cuts_map.aspx?incRef=INCD-562111-s",
         "postcodes_impacted": [
          "TD46ES",
          "TD46ET"
         ],
         "received_time": "2021-04-09 06:20"
        },
        "INCD-562129-s": {
         "description": "There was a fault in your area which has now been resolved.  If you are still without power. please call us on: \nCentral and Southern Scotland: 0800 092 9290 . \n Cheshire, Merseyside, North Wales and North Shropshire: 0800 001 5400.",
         "estimated_restored_time": "",
         "incident_active": false,
         "incident_url": "https://www.spenergynetworks.co.uk/pages/power_cuts_map.aspx?incRef=INCD-562129-s",
         "postcodes_impacted": [
          "ML92JF",
          "ML92JG",
          "ML92JQ"
         ],
         "received_time": "2021-04-09 07:51"
        },
        "INCD-562135-s": {
         "description": "There was a fault in your area which has now been resolved.  If you are still without power. please call us on: \nCentral and Southern Scotland: 0800 092 9290 . \n Cheshire, Merseyside, North Wales and North Shropshire: 0800 001 5400.",
         "estimated_restored_time": "",
         "incident_active": false,
         "incident_url": "https://www.spenergynetworks.co.uk/pages/power_cuts_map.aspx?incRef=INCD-562135-s",
         "postcodes_impacted": [
          "DG112RN"
         ],
         "received_time": "2021-04-09 08:08"
        },
        "INCD-562141-s": {
         "description": "We are aware of a fault in your area. If you require more information please call us on: \nCentral and Southern Scotland:  0800 092 9290 . \n Cheshire, Merseyside, North Wales and North Shropshire: 0800 001 5400.",
         "estimated_restored_time": "2021-04-09 10:21",
         "incident_active": true,
         "incident_url": "https://www.spenergynetworks.co.uk/pages/power_cuts_map.aspx?incRef=INCD-562141-s",
         "postcodes_impacted": [
          "KY48AJ",
          "KY48AP",
          "KY48AU",
          "KY48BE",
          "KY48BG",
          "KY48BQ",
          "KY48BS",
          "KY48BU",
          "KY48DA"
         ],
         "received_time": "2021-04-09 08:26"
        },
        "INCD-562147-s": {
         "description": "There was a fault in your area which has now been resolved.  If you are still without power. please call us on: \nCentral and Southern Scotland: 0800 092 9290 . \n Cheshire, Merseyside, North Wales and North Shropshire: 0800 001 5400.",
         "estimated_restored_time": "",
         "incident_active": false,
         "incident_url": "https://www.spenergynetworks.co.uk/pages/power_cuts_map.aspx?incRef=INCD-562147-s",
         "postcodes_impacted": [
          "G750QN"
         ],
         "received_time": "2021-04-09 08:50"
        },
        "INCD-562171-s": {
         "description": "This is a message for customers in the DD6 postcode area of Newport-On-Tay. It has been necessary for our engineers to carry out an emergency shutdown at 9.10am to repair an underground cable fault on Old Kirk Road this may affect the supply to your property. We will work to get your power back on as quickly and as safely as possible by 4pm. We will update this message if this information changes. We apologise for the inconvenience and thank you for your patience. This message was updated at 9.17am on Friday 9th April 2021.",
         "estimated_restored_time": "2021-04-09 15:00",
         "incident_active": true,
         "incident_url": "https://www.spenergynetworks.co.uk/pages/power_cuts_map.aspx?incRef=INCD-562171-s",
         "postcodes_impacted": [
          "DD68JD",
          "DD68JE",
          "DD68JF",
          "DD68JG",
          "DD68JH"
         ],
         "received_time": "2021-04-09 09:07"
        },
        "INCD-562273-s": {
         "description": "There is a power cut in the DG4 postcode area Sanquhar. We had no advance warning of this and only became aware of it at 11:01am. Our engineers have arrived on site and are investigating the cause of the fault.  Our team will work to get your power back on as quickly and as safely as possible by 2:15pm. We will update this message if this information changes. We apologise for the inconvenience and thank you for your patience. This message was updated at 12:47pm on  Friday, 09 April 2021",
         "estimated_restored_time": "2021-04-09 13:04",
         "incident_active": true,
         "incident_url": "https://www.spenergynetworks.co.uk/pages/power_cuts_map.aspx?incRef=INCD-562273-s",
         "postcodes_impacted": [
          "DG46BJ",
          "DG46BS",
          "DG46BT",
          "DG46BW",
          "DG46BX",
          "DG46BY",
          "DG46BZ",
          "DG46DE",
          "DG46DF",
          "DG46EN",
          "DG46WW"
         ],
         "received_time": "2021-04-09 11:04"
        },
        "INCD-562333-s": {
         "description": "We are aware of a fault in your area. If you require more information please call us on: \nCentral and Southern Scotland:  0800 092 9290 . \n Cheshire, Merseyside, North Wales and North Shropshire: 0800 001 5400.",
         "estimated_restored_time": "2021-04-09 14:00",
         "incident_active": true,
         "incident_url": "https://www.spenergynetworks.co.uk/pages/power_cuts_map.aspx?incRef=INCD-562333-s",
         "postcodes_impacted": [
          "DG11TA"
         ],
         "received_time": "2021-04-09 12:11"
        }
       }
      ],
      "text/plain": [
       "<IPython.core.display.JSON object>"
      ]
     },
     "execution_count": 45,
     "metadata": {
      "application/json": {
       "expanded": false,
       "root": "root"
      }
     },
     "output_type": "execute_result"
    }
   ],
   "source": [
    "raw_incidents_info, cleaned_incidents_info = get_sp_incidents_info()\n",
    "\n",
    "JSON([cleaned_incidents_info])"
   ]
  },
  {
   "cell_type": "code",
   "execution_count": null,
   "id": "virtual-hearts",
   "metadata": {},
   "outputs": [],
   "source": []
  },
  {
   "cell_type": "code",
   "execution_count": 46,
   "id": "grave-livestock",
   "metadata": {},
   "outputs": [],
   "source": [
    "save_json_data(raw_incidents_info, 'sp_incidents_info')"
   ]
  },
  {
   "cell_type": "markdown",
   "id": "identified-solomon",
   "metadata": {},
   "source": [
    "<br>\n",
    "\n",
    "### Northern Power Grid\n",
    "\n",
    "https://www.northernpowergrid.com/power-cuts"
   ]
  },
  {
   "cell_type": "code",
   "execution_count": 74,
   "id": "documented-saint",
   "metadata": {},
   "outputs": [],
   "source": [
    "#exports\n",
    "def get_np_auth(np_main_url='https://www.northernpowergrid.com/power-cuts'):\n",
    "    s = requests.Session()\n",
    "\n",
    "    r = s.get(np_main_url)\n",
    "    soup = bs(r.text)\n",
    "\n",
    "    authenticity_token = soup.find('input', attrs={'name': 'authenticityToken'})['value']\n",
    "\n",
    "    return s, authenticity_token"
   ]
  },
  {
   "cell_type": "code",
   "execution_count": 75,
   "id": "renewable-worst",
   "metadata": {},
   "outputs": [
    {
     "data": {
      "text/plain": [
       "'4295ee091d274b4d1198182da20682a9718e2f80'"
      ]
     },
     "execution_count": 75,
     "metadata": {},
     "output_type": "execute_result"
    }
   ],
   "source": [
    "s, authenticity_token = get_np_auth()\n",
    "\n",
    "authenticity_token"
   ]
  },
  {
   "cell_type": "code",
   "execution_count": null,
   "id": "fantastic-session",
   "metadata": {},
   "outputs": [],
   "source": []
  },
  {
   "cell_type": "code",
   "execution_count": 76,
   "id": "naked-explosion",
   "metadata": {},
   "outputs": [],
   "source": [
    "#exports\n",
    "def get_np_r(\n",
    "    np_main_url='https://www.northernpowergrid.com/power-cuts', \n",
    "    np_incidents_url='https://www.northernpowergrid.com/powercutsgetallbyincno'\n",
    "):\n",
    "    s, authenticity_token = get_np_auth(np_main_url)\n",
    "    \n",
    "    data = {\n",
    "        'method': 'incno',\n",
    "        'categoryFilters': 'Service Cutout Change,Asset repairs by Troublecall,Metering,Emergency Disconnection,Emergency Disconnection (Charge),Cat A,Cat B,Cat C',\n",
    "        'authenticityToken': authenticity_token\n",
    "    }\n",
    "\n",
    "    r = s.post(np_incidents_url, data=data)\n",
    "\n",
    "    return r"
   ]
  },
  {
   "cell_type": "code",
   "execution_count": 77,
   "id": "cordless-father",
   "metadata": {},
   "outputs": [
    {
     "data": {
      "text/plain": [
       "<Response [200]>"
      ]
     },
     "execution_count": 77,
     "metadata": {},
     "output_type": "execute_result"
    }
   ],
   "source": [
    "r = get_np_r()\n",
    "\n",
    "r"
   ]
  },
  {
   "cell_type": "code",
   "execution_count": null,
   "id": "threatened-calgary",
   "metadata": {},
   "outputs": [],
   "source": []
  },
  {
   "cell_type": "code",
   "execution_count": 84,
   "id": "systematic-poland",
   "metadata": {},
   "outputs": [],
   "source": [
    "#exports\n",
    "get_np_raw_incidents_info = lambda r: json.loads(r.json()['data'])"
   ]
  },
  {
   "cell_type": "code",
   "execution_count": 85,
   "id": "significant-theme",
   "metadata": {},
   "outputs": [
    {
     "data": {
      "application/json": {
       "lastModified": 1617981009000,
       "powercuts": {
        "INCD-15045-B": {
         "areacode": 23,
         "category": "U/G LV Mains Repair (Other)",
         "categoryWebText": "The power cut affecting your property has been caused by an unexpected problem with the electricity cable that serves your area",
         "class": "models.MapDataPowercutIncno",
         "contact": "AIRTH, MARK",
         "customerStageSequence": 7,
         "elapsed": "00d 06:24",
         "estimatedTimeTillResolution": 1617991200000,
         "group": "RESTORATION",
         "hoursSinceLogged": 6,
         "latestStageSequenceHistory": 1617975010000,
         "latestStageSequenceStatus": 7,
         "location": "LS11 5XA, GRG DEVELOPMENTS, PINEWOOD HOUSE, WESTLAND ROAD, LEEDS",
         "logged": 1617957960000,
         "natureOfOutage": "Localised Fault",
         "networkObject": "4044913",
         "numberOfCalls": 2,
         "postcodes": {
          "LS11 5SB": {
           "class": "models.MapDataLocation",
           "lat": 53.7662,
           "lng": -1.55323
          },
          "LS11 5SE": {
           "class": "models.MapDataLocation",
           "lat": 53.7634,
           "lng": -1.55113
          },
          "LS11 5SS": {
           "class": "models.MapDataLocation",
           "lat": 53.7647,
           "lng": -1.54896
          },
          "LS11 5UH": {
           "class": "models.MapDataLocation",
           "lat": 53.7637,
           "lng": -1.55257
          },
          "LS11 5XA": {
           "class": "models.MapDataLocation",
           "lat": 53.7638,
           "lng": -1.55063
          }
         },
         "prefix": null,
         "priority": 3,
         "reference": "INCD-15045-B",
         "region": "West Yorkshire / Leeds North 1",
         "resourceAllocationDelay": 0,
         "stageSequence": 7,
         "stageSequenceMessage": "We are currently working hard to restore your power however we are unable to provide an accurate restoration time. Please call us on 105 if you have any specific questions.",
         "startnumber": 0,
         "status": "In Progress",
         "totalConfirmedOff": 1,
         "totalPredictedOff": 0,
         "totalResourceAssigned": 0,
         "totalResourceDispatched": 1,
         "totalResourceOnsite": 1,
         "totalRestored": 0,
         "totalSensitiveAffected": 0,
         "type": "LV"
        },
        "INCD-15063-B": {
         "areacode": 23,
         "category": "Unknown P2",
         "categoryWebText": "The power cut affecting your property has been caused by an unexpected problem with the cables or equipment that serve your area",
         "class": "models.MapDataPowercutIncno",
         "contact": "STEWART, ALI",
         "customerStageSequence": 2,
         "elapsed": "00d 00:13",
         "estimatedTimeTillResolution": 1617991200000,
         "group": "RESTORATION",
         "hoursSinceLogged": 0,
         "latestStageSequenceHistory": 1617981011000,
         "latestStageSequenceStatus": 2,
         "location": "S66 8RY, BENTLEY HOUSE, NORTHERN POWER GRID, LOWTON WAY, HELLABY, ROTHERHAM",
         "logged": 1617980220000,
         "natureOfOutage": "Single Premise",
         "networkObject": "NEW ORCHARD LANE",
         "numberOfCalls": 1,
         "postcodes": {
          "S66 8RY": {
           "class": "models.MapDataLocation",
           "lat": 53.4262,
           "lng": -1.24574
          }
         },
         "prefix": null,
         "priority": 4,
         "reference": "INCD-15063-B",
         "region": "South Yorkshire / Doncaster 1",
         "resourceAllocationDelay": 0,
         "stageSequence": 2,
         "stageSequenceMessage": "Our team are working hard to restore your power as quickly as possible",
         "startnumber": 0,
         "status": "Awaiting",
         "totalConfirmedOff": 0,
         "totalPredictedOff": 1,
         "totalResourceAssigned": 1,
         "totalResourceDispatched": 0,
         "totalResourceOnsite": 0,
         "totalRestored": 0,
         "totalSensitiveAffected": 0,
         "type": "SP"
        },
        "INCD-167229-A": {
         "areacode": 23,
         "category": "Damaged EHV U/G",
         "categoryWebText": "The power cut affecting your property has been caused by someone damaging the cables or equipment that serve your area",
         "class": "models.MapDataPowercutIncno",
         "contact": "BETTLES, TOM",
         "customerStageSequence": 4,
         "elapsed": "10d 22:24",
         "estimatedTimeTillResolution": null,
         "group": "HV / EHV TEMPS",
         "hoursSinceLogged": 262,
         "latestStageSequenceHistory": 1617051609000,
         "latestStageSequenceStatus": 4,
         "location": "LS25 1AS, WAKEFIELD ROAD GARFORTH, ARCB",
         "logged": 1617036360000,
         "natureOfOutage": "Large Area Fault",
         "networkObject": "4042877-ASSET",
         "numberOfCalls": 1,
         "postcodes": {
          "LS15 8AB": {
           "class": "models.MapDataLocation",
           "lat": 53.8048,
           "lng": -1.41077
          },
          "LS15 8AD": {
           "class": "models.MapDataLocation",
           "lat": 53.804,
           "lng": -1.42138
          },
          "LS15 8AE": {
           "class": "models.MapDataLocation",
           "lat": 53.8056,
           "lng": -1.42527
          },
          "LS15 8AJ": {
           "class": "models.MapDataLocation",
           "lat": 53.8073,
           "lng": -1.43811
          },
          "LS25 1AS": {
           "class": "models.MapDataLocation",
           "lat": 53.7946,
           "lng": -1.40015
          },
          "LS25 1NF": {
           "class": "models.MapDataLocation",
           "lat": 53.7973,
           "lng": -1.40888
          },
          "LS25 1NG": {
           "class": "models.MapDataLocation",
           "lat": 53.7984,
           "lng": -1.39455
          },
          "LS25 2DQ": {
           "class": "models.MapDataLocation",
           "lat": 53.7997,
           "lng": -1.39461
          }
         },
         "prefix": null,
         "priority": 1,
         "reference": "INCD-167229-A",
         "region": "West Yorkshire / Castleford 2",
         "resourceAllocationDelay": 0,
         "stageSequence": 4,
         "stageSequenceMessage": "Our team are working hard to restore your power as quickly as possible",
         "startnumber": 0,
         "status": "In Progress",
         "totalConfirmedOff": 0,
         "totalPredictedOff": 27,
         "totalResourceAssigned": 0,
         "totalResourceDispatched": 0,
         "totalResourceOnsite": 1,
         "totalRestored": 0,
         "totalSensitiveAffected": 1,
         "type": "HV_N"
        },
        "INCD-168423-A": {
         "areacode": 23,
         "category": "U/G HV Mains Repair",
         "categoryWebText": "The power cut affecting your property has been caused by an unexpected problem with the electricity cable that serves your area",
         "class": "models.MapDataPowercutIncno",
         "contact": "DYE, KEVIN",
         "customerStageSequence": 7,
         "elapsed": "06d 18:34",
         "estimatedTimeTillResolution": 1617724800000,
         "group": "RESTORATION",
         "hoursSinceLogged": 162,
         "latestStageSequenceHistory": 1617400505000,
         "latestStageSequenceStatus": 7,
         "location": "WF7 5DF, COMMONSIDE LANE SS, CB",
         "logged": 1617395760000,
         "natureOfOutage": "Large Area Fault",
         "networkObject": "4041417-ASSET",
         "numberOfCalls": 80,
         "postcodes": {
          "WF2 7BJ": {
           "class": "models.MapDataLocation",
           "lat": 53.6585,
           "lng": -1.51622
          },
          "WF6 1GX": {
           "class": "models.MapDataLocation",
           "lat": 53.6994,
           "lng": -1.38311
          },
          "WF6 1RS": {
           "class": "models.MapDataLocation",
           "lat": 53.7012,
           "lng": -1.38869
          },
          "WF6 1RT": {
           "class": "models.MapDataLocation",
           "lat": 53.7022,
           "lng": -1.38721
          },
          "WF6 1RU": {
           "class": "models.MapDataLocation",
           "lat": 53.7022,
           "lng": -1.3864
          },
          "WF6 1RW": {
           "class": "models.MapDataLocation",
           "lat": 53.7024,
           "lng": -1.39706
          },
          "WF6 1TL": {
           "class": "models.MapDataLocation",
           "lat": 53.7061,
           "lng": -1.39506
          },
          "WF6 1TN": {
           "class": "models.MapDataLocation",
           "lat": 53.7059,
           "lng": -1.3885
          },
          "WF6 1TW": {
           "class": "models.MapDataLocation",
           "lat": 53.7042,
           "lng": -1.39351
          },
          "WF7 6AJ": {
           "class": "models.MapDataLocation",
           "lat": 53.6903,
           "lng": -1.35564
          },
          "WF7 6BL": {
           "class": "models.MapDataLocation",
           "lat": 53.6937,
           "lng": -1.35628
          },
          "WF7 6HD": {
           "class": "models.MapDataLocation",
           "lat": 53.6843,
           "lng": -1.38835
          },
          "WF7 6HE": {
           "class": "models.MapDataLocation",
           "lat": 53.6839,
           "lng": -1.38273
          },
          "WF7 6HF": {
           "class": "models.MapDataLocation",
           "lat": 53.6847,
           "lng": -1.37642
          },
          "WF7 6HG": {
           "class": "models.MapDataLocation",
           "lat": 53.6896,
           "lng": -1.37771
          },
          "WF7 6HH": {
           "class": "models.MapDataLocation",
           "lat": 53.6909,
           "lng": -1.3758
          },
          "WF7 6HJ": {
           "class": "models.MapDataLocation",
           "lat": 53.6899,
           "lng": -1.37742
          },
          "WF7 6HL": {
           "class": "models.MapDataLocation",
           "lat": 53.6909,
           "lng": -1.37715
          },
          "WF7 6HN": {
           "class": "models.MapDataLocation",
           "lat": 53.6915,
           "lng": -1.37688
          },
          "WF7 6HP": {
           "class": "models.MapDataLocation",
           "lat": 53.6921,
           "lng": -1.37778
          },
          "WF7 6HQ": {
           "class": "models.MapDataLocation",
           "lat": 53.6899,
           "lng": -1.37621
          },
          "WF7 6HR": {
           "class": "models.MapDataLocation",
           "lat": 53.6926,
           "lng": -1.3775
          },
          "WF7 6HS": {
           "class": "models.MapDataLocation",
           "lat": 53.6929,
           "lng": -1.37595
          },
          "WF7 6HT": {
           "class": "models.MapDataLocation",
           "lat": 53.6936,
           "lng": -1.37341
          },
          "WF7 6HW": {
           "class": "models.MapDataLocation",
           "lat": 53.6905,
           "lng": -1.3779
          },
          "WF7 6JA": {
           "class": "models.MapDataLocation",
           "lat": 53.693,
           "lng": -1.37306
          },
          "WF7 6JB": {
           "class": "models.MapDataLocation",
           "lat": 53.6928,
           "lng": -1.37539
          },
          "WF7 6JD": {
           "class": "models.MapDataLocation",
           "lat": 53.693,
           "lng": -1.37465
          },
          "WF7 6JG": {
           "class": "models.MapDataLocation",
           "lat": 53.6821,
           "lng": -1.35676
          }
         },
         "prefix": null,
         "priority": 2,
         "reference": "INCD-168423-A",
         "region": "West Yorkshire / Barnsley 1",
         "resourceAllocationDelay": 0,
         "stageSequence": 7,
         "stageSequenceMessage": "We are currently working hard to restore your power however we are unable to provide an accurate restoration time. Please call us on 105 if you have any specific questions.",
         "startnumber": 0,
         "status": "In Progress",
         "totalConfirmedOff": 1,
         "totalPredictedOff": 0,
         "totalResourceAssigned": 0,
         "totalResourceDispatched": 0,
         "totalResourceOnsite": 1,
         "totalRestored": 0,
         "totalSensitiveAffected": 43,
         "type": "HV_N"
        },
        "INCD-168880-A": {
         "areacode": 15,
         "category": "Unknown P1",
         "categoryWebText": "The power cut affecting your property has been caused by an unexpected problem with the cables or equipment that serve your area",
         "class": "models.MapDataPowercutIncno",
         "contact": "UPDATE, REQ",
         "customerStageSequence": 4,
         "elapsed": "04d 01:02",
         "estimatedTimeTillResolution": null,
         "group": "MAJOR REPAIRS",
         "hoursSinceLogged": 97,
         "latestStageSequenceHistory": 1617688506000,
         "latestStageSequenceStatus": 2,
         "location": "YO32 2NB, LOCK HOUSE, LANDING LANE, HAXBY, YORK",
         "logged": 1617631680000,
         "natureOfOutage": "Single Premise",
         "networkObject": "HUNTINGTON NEW LANE",
         "numberOfCalls": 1,
         "postcodes": {
          "YO32 2NB": {
           "class": "models.MapDataLocation",
           "lat": 54.0133,
           "lng": -1.06187
          }
         },
         "prefix": null,
         "priority": 1,
         "reference": "INCD-168880-A",
         "region": "Yorkshire Moors & Wolds NE / York 1",
         "resourceAllocationDelay": 0,
         "stageSequence": 2,
         "stageSequenceMessage": "Our team are working hard to restore your power as quickly as possible",
         "startnumber": 0,
         "status": "Awaiting",
         "totalConfirmedOff": 0,
         "totalPredictedOff": 1,
         "totalResourceAssigned": 1,
         "totalResourceDispatched": 0,
         "totalResourceOnsite": 0,
         "totalRestored": 0,
         "totalSensitiveAffected": 0,
         "type": "SP"
        },
        "INCD-169997-A": {
         "areacode": 23,
         "category": "Safety Interruption",
         "categoryWebText": "We've had to switch off the power for safety purposes whilst our engineers work on the cables and equipment that serves your area. We appreciate your patience and understanding",
         "class": "models.MapDataPowercutIncno",
         "contact": "HAMILTON, GARY",
         "customerStageSequence": 4,
         "elapsed": "00d 20:38",
         "estimatedTimeTillResolution": 1617980400000,
         "group": "RESTORATION",
         "hoursSinceLogged": 20,
         "latestStageSequenceHistory": 1617971710000,
         "latestStageSequenceStatus": 4,
         "location": "YO16 4TD, O/S 44 MEADOW ROAD, BRIDLINGTON",
         "logged": 1617906720000,
         "natureOfOutage": "Localised Fault",
         "networkObject": "4047189",
         "numberOfCalls": 4,
         "postcodes": {
          "YO16 4TD": {
           "class": "models.MapDataLocation",
           "lat": 54.0817,
           "lng": -0.216055
          }
         },
         "prefix": null,
         "priority": 3,
         "reference": "INCD-169997-A",
         "region": "Yorkshire Moors & Wolds YK / Hull 2",
         "resourceAllocationDelay": 0,
         "stageSequence": 4,
         "stageSequenceMessage": "Our team are working hard to restore your power as quickly as possible",
         "startnumber": 0,
         "status": "In Progress",
         "totalConfirmedOff": 9,
         "totalPredictedOff": 0,
         "totalResourceAssigned": 1,
         "totalResourceDispatched": 0,
         "totalResourceOnsite": 1,
         "totalRestored": 0,
         "totalSensitiveAffected": 2,
         "type": "LV"
        },
        "INCD-170023-A": {
         "areacode": 15,
         "category": "Safety Interruption",
         "categoryWebText": "We've had to switch off the power for safety purposes whilst our engineers work on the cables and equipment that serves your area. We appreciate your patience and understanding",
         "class": "models.MapDataPowercutIncno",
         "contact": "CEREXHE, STEFAN",
         "customerStageSequence": 7,
         "elapsed": "00d 18:32",
         "estimatedTimeTillResolution": 1617987600000,
         "group": "RESTORATION",
         "hoursSinceLogged": 18,
         "latestStageSequenceHistory": 1617977710000,
         "latestStageSequenceStatus": 7,
         "location": "YO32 9PH, HUNTINGTON GREENACRES SS, Transformer LV",
         "logged": 1617914280000,
         "natureOfOutage": "Localised Fault",
         "networkObject": "65791",
         "numberOfCalls": 4,
         "postcodes": {
          "YO32 9LH": {
           "class": "models.MapDataLocation",
           "lat": 53.9903,
           "lng": -1.05923
          },
          "YO32 9NH": {
           "class": "models.MapDataLocation",
           "lat": 53.989,
           "lng": -1.05946
          },
          "YO32 9NL": {
           "class": "models.MapDataLocation",
           "lat": 53.9901,
           "lng": -1.05982
          },
          "YO32 9NN": {
           "class": "models.MapDataLocation",
           "lat": 53.9914,
           "lng": -1.05934
          },
          "YO32 9NP": {
           "class": "models.MapDataLocation",
           "lat": 53.9917,
           "lng": -1.0556
          },
          "YO32 9NR": {
           "class": "models.MapDataLocation",
           "lat": 53.9926,
           "lng": -1.05842
          },
          "YO32 9NW": {
           "class": "models.MapDataLocation",
           "lat": 53.992,
           "lng": -1.05883
          },
          "YO32 9PJ": {
           "class": "models.MapDataLocation",
           "lat": 53.9904,
           "lng": -1.06106
          },
          "YO32 9PL": {
           "class": "models.MapDataLocation",
           "lat": 53.9913,
           "lng": -1.06084
          },
          "YO32 9PN": {
           "class": "models.MapDataLocation",
           "lat": 53.9909,
           "lng": -1.06009
          }
         },
         "prefix": null,
         "priority": 4,
         "reference": "INCD-170023-A",
         "region": "Yorkshire Moors & Wolds NE / York 1",
         "resourceAllocationDelay": 0,
         "stageSequence": 7,
         "stageSequenceMessage": "We are currently working hard to restore your power however we are unable to provide an accurate restoration time. Please call us on 105 if you have any specific questions.",
         "startnumber": 0,
         "status": "In Progress",
         "totalConfirmedOff": 1,
         "totalPredictedOff": 0,
         "totalResourceAssigned": 0,
         "totalResourceDispatched": 0,
         "totalResourceOnsite": 3,
         "totalRestored": 0,
         "totalSensitiveAffected": 22,
         "type": "LV"
        },
        "INCD-170047-A": {
         "areacode": 23,
         "category": "O/H HV Mains Repair",
         "categoryWebText": "The power cut affecting your property has been caused by an unexpected problem with the cables or equipment that serve your area",
         "class": "models.MapDataPowercutIncno",
         "contact": "WADLOW, PAUL",
         "customerStageSequence": 7,
         "elapsed": "00d 11:33",
         "estimatedTimeTillResolution": 1617984000000,
         "group": "RESTORATION",
         "hoursSinceLogged": 11,
         "latestStageSequenceHistory": 1617975612000,
         "latestStageSequenceStatus": 7,
         "location": "YO14 0JY, HUNMANBY SS, CB",
         "logged": 1617939420000,
         "natureOfOutage": "Large Area Fault",
         "networkObject": "4041780-ASSET",
         "numberOfCalls": 15,
         "postcodes": {
          "YO11 3UA": {
           "class": "models.MapDataLocation",
           "lat": 54.2035,
           "lng": -0.406329
          },
          "YO11 3UB": {
           "class": "models.MapDataLocation",
           "lat": 54.2018,
           "lng": -0.406698
          },
          "YO11 3UD": {
           "class": "models.MapDataLocation",
           "lat": 54.2006,
           "lng": -0.420605
          },
          "YO11 3UE": {
           "class": "models.MapDataLocation",
           "lat": 54.2011,
           "lng": -0.402692
          },
          "YO11 3UF": {
           "class": "models.MapDataLocation",
           "lat": 54.201,
           "lng": -0.399602
          },
          "YO11 3UG": {
           "class": "models.MapDataLocation",
           "lat": 54.2001,
           "lng": -0.391818
          },
          "YO11 3UH": {
           "class": "models.MapDataLocation",
           "lat": 54.2024,
           "lng": -0.38386
          },
          "YO11 3UQ": {
           "class": "models.MapDataLocation",
           "lat": 54.2008,
           "lng": -0.377073
          },
          "YO12 4BY": {
           "class": "models.MapDataLocation",
           "lat": 54.1971,
           "lng": -0.443439
          },
          "YO12 4NH": {
           "class": "models.MapDataLocation",
           "lat": 54.2127,
           "lng": -0.435556
          },
          "YO12 4NN": {
           "class": "models.MapDataLocation",
           "lat": 54.2061,
           "lng": -0.433135
          },
          "YO12 4NP": {
           "class": "models.MapDataLocation",
           "lat": 54.1897,
           "lng": -0.480871
          },
          "YO12 4NR": {
           "class": "models.MapDataLocation",
           "lat": 54.1848,
           "lng": -0.486075
          },
          "YO12 4NS": {
           "class": "models.MapDataLocation",
           "lat": 54.1839,
           "lng": -0.486708
          },
          "YO12 4NT": {
           "class": "models.MapDataLocation",
           "lat": 54.1812,
           "lng": -0.480952
          },
          "YO12 4NU": {
           "class": "models.MapDataLocation",
           "lat": 54.187,
           "lng": -0.488173
          },
          "YO12 4NW": {
           "class": "models.MapDataLocation",
           "lat": 54.2012,
           "lng": -0.432434
          },
          "YO12 4NX": {
           "class": "models.MapDataLocation",
           "lat": 54.186,
           "lng": -0.488623
          },
          "YO12 4PA": {
           "class": "models.MapDataLocation",
           "lat": 54.1905,
           "lng": -0.495156
          },
          "YO12 4PB": {
           "class": "models.MapDataLocation",
           "lat": 54.1907,
           "lng": -0.494229
          },
          "YO12 4PD": {
           "class": "models.MapDataLocation",
           "lat": 54.1991,
           "lng": -0.502096
          },
          "YO12 4PE": {
           "class": "models.MapDataLocation",
           "lat": 54.1789,
           "lng": -0.500727
          },
          "YO12 4PF": {
           "class": "models.MapDataLocation",
           "lat": 54.1783,
           "lng": -0.516623
          },
          "YO12 4PG": {
           "class": "models.MapDataLocation",
           "lat": 54.1699,
           "lng": -0.474657
          },
          "YO12 4PH": {
           "class": "models.MapDataLocation",
           "lat": 54.1665,
           "lng": -0.499105
          },
          "YO12 4QD": {
           "class": "models.MapDataLocation",
           "lat": 54.2372,
           "lng": -0.44402
          },
          "YO12 4RX": {
           "class": "models.MapDataLocation",
           "lat": 54.1972,
           "lng": -0.445413
          },
          "YO12 4RY": {
           "class": "models.MapDataLocation",
           "lat": 54.198,
           "lng": -0.442638
          },
          "YO12 4RZ": {
           "class": "models.MapDataLocation",
           "lat": 54.1983,
           "lng": -0.440897
          },
          "YO12 4SA": {
           "class": "models.MapDataLocation",
           "lat": 54.1993,
           "lng": -0.437595
          },
          "YO12 4SB": {
           "class": "models.MapDataLocation",
           "lat": 54.1978,
           "lng": -0.440041
          },
          "YO12 4SD": {
           "class": "models.MapDataLocation",
           "lat": 54.1978,
           "lng": -0.443505
          },
          "YO12 4SE": {
           "class": "models.MapDataLocation",
           "lat": 54.1976,
           "lng": -0.444187
          },
          "YO12 4SF": {
           "class": "models.MapDataLocation",
           "lat": 54.1979,
           "lng": -0.448559
          },
          "YO12 4SG": {
           "class": "models.MapDataLocation",
           "lat": 54.1986,
           "lng": -0.450882
          },
          "YO12 4SH": {
           "class": "models.MapDataLocation",
           "lat": 54.1982,
           "lng": -0.455142
          },
          "YO12 4SL": {
           "class": "models.MapDataLocation",
           "lat": 54.1954,
           "lng": -0.45621
          },
          "YO12 4SN": {
           "class": "models.MapDataLocation",
           "lat": 54.1953,
           "lng": -0.456934
          },
          "YO12 4SP": {
           "class": "models.MapDataLocation",
           "lat": 54.1973,
           "lng": -0.476024
          },
          "YO12 4SQ": {
           "class": "models.MapDataLocation",
           "lat": 54.1977,
           "lng": -0.45188
          },
          "YO12 4SR": {
           "class": "models.MapDataLocation",
           "lat": 54.1986,
           "lng": -0.449287
          },
          "YO12 4SS": {
           "class": "models.MapDataLocation",
           "lat": 54.1982,
           "lng": -0.446112
          },
          "YO12 4ST": {
           "class": "models.MapDataLocation",
           "lat": 54.198,
           "lng": -0.445199
          },
          "YO12 4SU": {
           "class": "models.MapDataLocation",
           "lat": 54.1986,
           "lng": -0.44435
          },
          "YO12 4SW": {
           "class": "models.MapDataLocation",
           "lat": 54.1933,
           "lng": -0.474269
          },
          "YO12 4SX": {
           "class": "models.MapDataLocation",
           "lat": 54.1982,
           "lng": -0.440089
          },
          "YO12 4SY": {
           "class": "models.MapDataLocation",
           "lat": 54.1984,
           "lng": -0.440265
          },
          "YO12 4SZ": {
           "class": "models.MapDataLocation",
           "lat": 54.1975,
           "lng": -0.446077
          },
          "YO12 4TA": {
           "class": "models.MapDataLocation",
           "lat": 54.1973,
           "lng": -0.443662
          },
          "YO12 4TB": {
           "class": "models.MapDataLocation",
           "lat": 54.1981,
           "lng": -0.442637
          },
          "YO12 4TD": {
           "class": "models.MapDataLocation",
           "lat": 54.1832,
           "lng": -0.453723
          },
          "YO12 6LP": {
           "class": "models.MapDataLocation",
           "lat": 54.2891,
           "lng": -0.421444
          },
          "YO14 0EQ": {
           "class": "models.MapDataLocation",
           "lat": 54.2151,
           "lng": -0.313477
          },
          "YO14 0EU": {
           "class": "models.MapDataLocation",
           "lat": 54.1979,
           "lng": -0.321615
          },
          "YO14 0HJ": {
           "class": "models.MapDataLocation",
           "lat": 54.198,
           "lng": -0.295626
          },
          "YO14 0HX": {
           "class": "models.MapDataLocation",
           "lat": 54.2032,
           "lng": -0.346314
          },
          "YO14 0HY": {
           "class": "models.MapDataLocation",
           "lat": 54.2012,
           "lng": -0.354288
          },
          "YO14 0LE": {
           "class": "models.MapDataLocation",
           "lat": 54.1901,
           "lng": -0.350714
          },
          "YO14 9PD": {
           "class": "models.MapDataLocation",
           "lat": 54.2147,
           "lng": -0.34113
          },
          "YO17 8EP": {
           "class": "models.MapDataLocation",
           "lat": 54.152,
           "lng": -0.518956
          },
          "YO17 8EW": {
           "class": "models.MapDataLocation",
           "lat": 54.1781,
           "lng": -0.550094
          },
          "YO17 8HF": {
           "class": "models.MapDataLocation",
           "lat": 54.1297,
           "lng": -0.48608
          },
          "YO17 8PA": {
           "class": "models.MapDataLocation",
           "lat": 54.1828,
           "lng": -0.533196
          },
          "YO17 8PE": {
           "class": "models.MapDataLocation",
           "lat": 54.1852,
           "lng": -0.533645
          },
          "YO17 8PF": {
           "class": "models.MapDataLocation",
           "lat": 54.1805,
           "lng": -0.530396
          },
          "YO17 8PG": {
           "class": "models.MapDataLocation",
           "lat": 54.179,
           "lng": -0.532655
          },
          "YO17 8PH": {
           "class": "models.MapDataLocation",
           "lat": 54.1817,
           "lng": -0.531485
          },
          "YO17 8PJ": {
           "class": "models.MapDataLocation",
           "lat": 54.1811,
           "lng": -0.530495
          },
          "YO17 8PL": {
           "class": "models.MapDataLocation",
           "lat": 54.1821,
           "lng": -0.532178
          },
          "YO17 8PN": {
           "class": "models.MapDataLocation",
           "lat": 54.1809,
           "lng": -0.533385
          },
          "YO17 8PP": {
           "class": "models.MapDataLocation",
           "lat": 54.1835,
           "lng": -0.532159
          },
          "YO17 8PR": {
           "class": "models.MapDataLocation",
           "lat": 54.1853,
           "lng": -0.532553
          },
          "YO17 8PS": {
           "class": "models.MapDataLocation",
           "lat": 54.1909,
           "lng": -0.535254
          },
          "YO17 8PT": {
           "class": "models.MapDataLocation",
           "lat": 54.1772,
           "lng": -0.53405
          },
          "YO17 8PU": {
           "class": "models.MapDataLocation",
           "lat": 54.1816,
           "lng": -0.530081
          },
          "YO17 8PW": {
           "class": "models.MapDataLocation",
           "lat": 54.1835,
           "lng": -0.532665
          },
          "YO17 8PX": {
           "class": "models.MapDataLocation",
           "lat": 54.1783,
           "lng": -0.531301
          },
          "YO17 8QB": {
           "class": "models.MapDataLocation",
           "lat": 54.1776,
           "lng": -0.533441
          },
          "YO17 8QD": {
           "class": "models.MapDataLocation",
           "lat": 54.1778,
           "lng": -0.533709
          },
          "YO17 8QE": {
           "class": "models.MapDataLocation",
           "lat": 54.1778,
           "lng": -0.534795
          },
          "YO17 8QF": {
           "class": "models.MapDataLocation",
           "lat": 54.179,
           "lng": -0.536778
          },
          "YO17 8QG": {
           "class": "models.MapDataLocation",
           "lat": 54.177,
           "lng": -0.538748
          },
          "YO17 8QH": {
           "class": "models.MapDataLocation",
           "lat": 54.175,
           "lng": -0.537362
          },
          "YO17 8QJ": {
           "class": "models.MapDataLocation",
           "lat": 54.1615,
           "lng": -0.545098
          },
          "YO17 8QL": {
           "class": "models.MapDataLocation",
           "lat": 54.1736,
           "lng": -0.525799
          },
          "YO17 8QN": {
           "class": "models.MapDataLocation",
           "lat": 54.1768,
           "lng": -0.527307
          },
          "YO17 8QQ": {
           "class": "models.MapDataLocation",
           "lat": 54.1753,
           "lng": -0.532448
          },
          "YO17 8QW": {
           "class": "models.MapDataLocation",
           "lat": 54.1776,
           "lng": -0.531707
          },
          "YO17 8RU": {
           "class": "models.MapDataLocation",
           "lat": 54.1388,
           "lng": -0.560604
          },
          "YO17 8TL": {
           "class": "models.MapDataLocation",
           "lat": 54.1254,
           "lng": -0.574184
          },
          "YO4 2RJ": {
           "class": "models.MapDataLocation",
           "lat": 53.9003,
           "lng": -0.753099
          },
          "YO4 6RE": {
           "class": "models.MapDataLocation",
           "lat": 53.8382,
           "lng": -1.0813
          },
          "YO42 4TJ": {
           "class": "models.MapDataLocation",
           "lat": 53.8748,
           "lng": -0.929845
          }
         },
         "prefix": null,
         "priority": 2,
         "reference": "INCD-170047-A",
         "region": "Yorkshire Moors & Wolds YK / Hull 2",
         "resourceAllocationDelay": 0,
         "stageSequence": 7,
         "stageSequenceMessage": "We are currently working hard to restore your power however we are unable to provide an accurate restoration time. Please call us on 105 if you have any specific questions.",
         "startnumber": 0,
         "status": "In Progress",
         "totalConfirmedOff": 64,
         "totalPredictedOff": 0,
         "totalResourceAssigned": 0,
         "totalResourceDispatched": 0,
         "totalResourceOnsite": 1,
         "totalRestored": 0,
         "totalSensitiveAffected": 163,
         "type": "HV_N"
        },
        "INCD-170058-A": {
         "areacode": 15,
         "category": "U/G Service repair",
         "categoryWebText": "The power cut affecting your property has been caused by an unexpected problem with the electricity cable that serves your area",
         "class": "models.MapDataPowercutIncno",
         "contact": "MCINNES, TERENCE",
         "customerStageSequence": 5,
         "elapsed": "00d 08:59",
         "estimatedTimeTillResolution": 1617983100000,
         "group": "MAJOR REPAIRS",
         "hoursSinceLogged": 9,
         "latestStageSequenceHistory": 1617980711000,
         "latestStageSequenceStatus": 4,
         "location": "NE43 7NL++SERVICE STRAP DOWN++, 22, HALL FARM CLOSE, STOCKSFIELD",
         "logged": 1617948660000,
         "natureOfOutage": "Localised Fault",
         "networkObject": "61199",
         "numberOfCalls": 13,
         "postcodes": {
          "NE43 7AD": {
           "class": "models.MapDataLocation",
           "lat": 54.9492,
           "lng": -1.9259
          },
          "NE43 7HG": {
           "class": "models.MapDataLocation",
           "lat": 54.9464,
           "lng": -1.92055
          },
          "NE43 7HH": {
           "class": "models.MapDataLocation",
           "lat": 54.9464,
           "lng": -1.91607
          },
          "NE43 7ND": {
           "class": "models.MapDataLocation",
           "lat": 54.9464,
           "lng": -1.91456
          },
          "NE43 7NG": {
           "class": "models.MapDataLocation",
           "lat": 54.9491,
           "lng": -1.91206
          },
          "NE43 7NH": {
           "class": "models.MapDataLocation",
           "lat": 54.9468,
           "lng": -1.91664
          },
          "NE43 7NJ": {
           "class": "models.MapDataLocation",
           "lat": 54.9472,
           "lng": -1.91514
          },
          "NE43 7NL": {
           "class": "models.MapDataLocation",
           "lat": 54.9482,
           "lng": -1.91339
          },
          "NE43 7NN": {
           "class": "models.MapDataLocation",
           "lat": 54.9488,
           "lng": -1.91045
          },
          "NE43 7NQ": {
           "class": "models.MapDataLocation",
           "lat": 54.9468,
           "lng": -1.91624
          }
         },
         "prefix": null,
         "priority": 1,
         "reference": "INCD-170058-A",
         "region": "Northumberland & County Durham / Newcastle 1",
         "resourceAllocationDelay": 0,
         "stageSequence": 4,
         "stageSequenceMessage": "Our team are working hard to restore your power as quickly as possible",
         "startnumber": 0,
         "status": "In Progress",
         "totalConfirmedOff": 92,
         "totalPredictedOff": 0,
         "totalResourceAssigned": 0,
         "totalResourceDispatched": 3,
         "totalResourceOnsite": 1,
         "totalRestored": 0,
         "totalSensitiveAffected": 17,
         "type": "LV"
        },
        "INCD-170139-A": {
         "areacode": 23,
         "category": "Damaged HV U/G",
         "categoryWebText": "The power cut affecting your property has been caused by someone damaging the cables or equipment that serve your area",
         "class": "models.MapDataPowercutIncno",
         "contact": "HARRISON, NICK",
         "customerStageSequence": 3,
         "elapsed": "00d 05:20",
         "estimatedTimeTillResolution": null,
         "group": "RESTORATION",
         "hoursSinceLogged": 5,
         "latestStageSequenceHistory": 1617964210000,
         "latestStageSequenceStatus": 3,
         "location": "DN32 7AJ, DUNCOMBE STREET 1116 SS, Transformer LV",
         "logged": 1617961800000,
         "natureOfOutage": "Large Area Fault",
         "networkObject": "4047692",
         "numberOfCalls": 1,
         "postcodes": {
          "DN32 7AG": {
           "class": "models.MapDataLocation",
           "lat": 53.573,
           "lng": -0.073535
          },
          "DN32 7AJ": {
           "class": "models.MapDataLocation",
           "lat": 53.5708,
           "lng": -0.074117
          },
          "DN32 7AP": {
           "class": "models.MapDataLocation",
           "lat": 53.5704,
           "lng": -0.073589
          },
          "DN32 7AS": {
           "class": "models.MapDataLocation",
           "lat": 53.5695,
           "lng": -0.073963
          },
          "DN32 7AT": {
           "class": "models.MapDataLocation",
           "lat": 53.5695,
           "lng": -0.074417
          },
          "DN32 7BJ": {
           "class": "models.MapDataLocation",
           "lat": 53.5692,
           "lng": -0.073764
          },
          "DN32 7BL": {
           "class": "models.MapDataLocation",
           "lat": 53.5697,
           "lng": -0.075433
          },
          "DN32 7BN": {
           "class": "models.MapDataLocation",
           "lat": 53.5703,
           "lng": -0.075785
          },
          "DN32 7BP": {
           "class": "models.MapDataLocation",
           "lat": 53.5699,
           "lng": -0.07449
          },
          "DN32 7DE": {
           "class": "models.MapDataLocation",
           "lat": 53.5719,
           "lng": -0.075378
          },
          "DN32 7EG": {
           "class": "models.MapDataLocation",
           "lat": 53.5702,
           "lng": -0.072106
          },
          "DN32 7SE": {
           "class": "models.MapDataLocation",
           "lat": 53.5696,
           "lng": -0.073204
          },
          "DN32 7SF": {
           "class": "models.MapDataLocation",
           "lat": 53.5697,
           "lng": -0.073697
          },
          "DN32 7SG": {
           "class": "models.MapDataLocation",
           "lat": 53.5709,
           "lng": -0.074536
          },
          "DN32 7SQ": {
           "class": "models.MapDataLocation",
           "lat": 53.5709,
           "lng": -0.075138
          }
         },
         "prefix": null,
         "priority": 2,
         "reference": "INCD-170139-A",
         "region": "Humber Estuary / Grimsby 1",
         "resourceAllocationDelay": 0,
         "stageSequence": 3,
         "stageSequenceMessage": "Our team are working hard to restore your power as quickly as possible",
         "startnumber": 0,
         "status": "In Progress",
         "totalConfirmedOff": 0,
         "totalPredictedOff": 147,
         "totalResourceAssigned": 0,
         "totalResourceDispatched": 1,
         "totalResourceOnsite": 0,
         "totalRestored": 0,
         "totalSensitiveAffected": 21,
         "type": "HV_S"
        },
        "INCD-170163-A": {
         "areacode": 23,
         "category": "O/H Service Repair",
         "categoryWebText": "The power cut affecting your property has been caused by an unexpected problem with the cables or equipment that serve your area",
         "class": "models.MapDataPowercutIncno",
         "contact": "",
         "customerStageSequence": 4,
         "elapsed": "00d 04:08",
         "estimatedTimeTillResolution": null,
         "group": "RESTORATION",
         "hoursSinceLogged": 4,
         "latestStageSequenceHistory": 1617975910000,
         "latestStageSequenceStatus": 1,
         "location": "WF9 2AF, 8,9,10,11 SPRING TERRACE, SOUTH ELMSALL, PONTEFRACT",
         "logged": 1617966120000,
         "natureOfOutage": "Localised Fault",
         "networkObject": "4066350",
         "numberOfCalls": 1,
         "postcodes": {
          "WF9 2AE": {
           "class": "models.MapDataLocation",
           "lat": 53.5943,
           "lng": -1.29819
          },
          "WF9 2AF": {
           "class": "models.MapDataLocation",
           "lat": 53.5932,
           "lng": -1.29727
          },
          "WF9 2AG": {
           "class": "models.MapDataLocation",
           "lat": 53.5927,
           "lng": -1.29793
          },
          "WF9 2AH": {
           "class": "models.MapDataLocation",
           "lat": 53.5929,
           "lng": -1.29868
          },
          "WF9 2AJ": {
           "class": "models.MapDataLocation",
           "lat": 53.5933,
           "lng": -1.29836
          },
          "WF9 2AL": {
           "class": "models.MapDataLocation",
           "lat": 53.5938,
           "lng": -1.2977
          }
         },
         "prefix": null,
         "priority": 3,
         "reference": "INCD-170163-A",
         "region": "West Yorkshire / Barnsley 1",
         "resourceAllocationDelay": 0,
         "stageSequence": 1,
         "stageSequenceMessage": "Our team are working hard to restore your power as quickly as possible",
         "startnumber": 0,
         "status": "In Progress",
         "totalConfirmedOff": 4,
         "totalPredictedOff": 76,
         "totalResourceAssigned": 0,
         "totalResourceDispatched": 0,
         "totalResourceOnsite": 0,
         "totalRestored": 0,
         "totalSensitiveAffected": 8,
         "type": "LV"
        },
        "INCD-170167-A": {
         "areacode": 23,
         "category": "U/G Service repair",
         "categoryWebText": "The power cut affecting your property has been caused by an unexpected problem with the electricity cable that serves your area",
         "class": "models.MapDataPowercutIncno",
         "contact": "GOODALL, ANTONY",
         "customerStageSequence": 4,
         "elapsed": "00d 03:59",
         "estimatedTimeTillResolution": 1617984000000,
         "group": "RESTORATION",
         "hoursSinceLogged": 4,
         "latestStageSequenceHistory": 1617973215000,
         "latestStageSequenceStatus": 4,
         "location": "S6  2BS, 52, BRADFIELD ROAD, SHEFFIELD",
         "logged": 1617966660000,
         "natureOfOutage": "Single Premise",
         "networkObject": "STANNINGTON ROAD",
         "numberOfCalls": 1,
         "postcodes": {
          "S6 2BS": {
           "class": "models.MapDataLocation",
           "lat": 53.404,
           "lng": -1.49679
          }
         },
         "prefix": null,
         "priority": 3,
         "reference": "INCD-170167-A",
         "region": "South Yorkshire / Sheffield 1",
         "resourceAllocationDelay": 0,
         "stageSequence": 4,
         "stageSequenceMessage": "Our team are working hard to restore your power as quickly as possible",
         "startnumber": 0,
         "status": "In Progress",
         "totalConfirmedOff": 1,
         "totalPredictedOff": 0,
         "totalResourceAssigned": 0,
         "totalResourceDispatched": 0,
         "totalResourceOnsite": 1,
         "totalRestored": 0,
         "totalSensitiveAffected": 0,
         "type": "SP"
        },
        "INCD-170169-A": {
         "areacode": 23,
         "category": "O/H HV Mains Repair",
         "categoryWebText": "The power cut affecting your property has been caused by an unexpected problem with the cables or equipment that serve your area",
         "class": "models.MapDataPowercutIncno",
         "contact": "BROOKES, KEITH",
         "customerStageSequence": 3,
         "elapsed": "00d 03:55",
         "estimatedTimeTillResolution": 1617984000000,
         "group": "RESTORATION",
         "hoursSinceLogged": 3,
         "latestStageSequenceHistory": 1617969910000,
         "latestStageSequenceStatus": 3,
         "location": "YO8 6ED, LUND 6836",
         "logged": 1617966900000,
         "natureOfOutage": "Large Area Fault",
         "networkObject": "32030_301A",
         "numberOfCalls": 116,
         "postcodes": {
          "YO25 5NN": {
           "class": "models.MapDataLocation",
           "lat": 54.0021,
           "lng": -0.427
          },
          "YO4 2TS": {
           "class": "models.MapDataLocation",
           "lat": 53.9657,
           "lng": -0.761346
          },
          "YO42 4HX": {
           "class": "models.MapDataLocation",
           "lat": 53.9319,
           "lng": -0.839494
          },
          "YO8 0UZ": {
           "class": "models.MapDataLocation",
           "lat": 53.8126,
           "lng": -1.10803
          },
          "YO8 5HX": {
           "class": "models.MapDataLocation",
           "lat": 53.7895,
           "lng": -1.02198
          },
          "YO8 6DH": {
           "class": "models.MapDataLocation",
           "lat": 53.7974,
           "lng": -0.924665
          },
          "YO8 6ER": {
           "class": "models.MapDataLocation",
           "lat": 53.7731,
           "lng": -0.924891
          },
          "YO8 6LE": {
           "class": "models.MapDataLocation",
           "lat": 53.7833,
           "lng": -0.99393
          },
          "YO8 6NG": {
           "class": "models.MapDataLocation",
           "lat": 53.7773,
           "lng": -0.996986
          },
          "YO8 6NH": {
           "class": "models.MapDataLocation",
           "lat": 53.7767,
           "lng": -0.994011
          },
          "YO8 6NJ": {
           "class": "models.MapDataLocation",
           "lat": 53.7773,
           "lng": -0.993906
          },
          "YO8 6NL": {
           "class": "models.MapDataLocation",
           "lat": 53.7785,
           "lng": -0.996989
          },
          "YO8 6NN": {
           "class": "models.MapDataLocation",
           "lat": 53.7809,
           "lng": -0.996445
          },
          "YO8 6NP": {
           "class": "models.MapDataLocation",
           "lat": 53.7815,
           "lng": -0.992986
          },
          "YO8 6NQ": {
           "class": "models.MapDataLocation",
           "lat": 53.7776,
           "lng": -0.999788
          },
          "YO8 6NR": {
           "class": "models.MapDataLocation",
           "lat": 53.7825,
           "lng": -0.997166
          },
          "YO8 6NS": {
           "class": "models.MapDataLocation",
           "lat": 53.782,
           "lng": -0.993899
          },
          "YO8 6NT": {
           "class": "models.MapDataLocation",
           "lat": 53.7826,
           "lng": -0.992959
          },
          "YO8 6NU": {
           "class": "models.MapDataLocation",
           "lat": 53.7853,
           "lng": -0.994822
          },
          "YO8 6NW": {
           "class": "models.MapDataLocation",
           "lat": 53.7814,
           "lng": -0.996874
          },
          "YO8 6NX": {
           "class": "models.MapDataLocation",
           "lat": 53.7912,
           "lng": -0.992571
          },
          "YO8 6NZ": {
           "class": "models.MapDataLocation",
           "lat": 53.7828,
           "lng": -0.994092
          },
          "YO8 6PD": {
           "class": "models.MapDataLocation",
           "lat": 53.788,
           "lng": -1.01226
          },
          "YO8 6PE": {
           "class": "models.MapDataLocation",
           "lat": 53.7855,
           "lng": -1.00998
          },
          "YO8 6PF": {
           "class": "models.MapDataLocation",
           "lat": 53.781,
           "lng": -0.999751
          },
          "YO8 6PG": {
           "class": "models.MapDataLocation",
           "lat": 53.7813,
           "lng": -1.00061
          },
          "YO8 6PH": {
           "class": "models.MapDataLocation",
           "lat": 53.7755,
           "lng": -0.989304
          },
          "YO8 6PP": {
           "class": "models.MapDataLocation",
           "lat": 53.7817,
           "lng": -0.991828
          },
          "YO8 6PQ": {
           "class": "models.MapDataLocation",
           "lat": 53.778,
           "lng": -0.994148
          },
          "YO8 6PW": {
           "class": "models.MapDataLocation",
           "lat": 53.7781,
           "lng": -0.99548
          },
          "YO8 6QE": {
           "class": "models.MapDataLocation",
           "lat": 53.7688,
           "lng": -0.978709
          },
          "YO8 6QG": {
           "class": "models.MapDataLocation",
           "lat": 53.7729,
           "lng": -0.981039
          },
          "YO8 6RN": {
           "class": "models.MapDataLocation",
           "lat": 53.7838,
           "lng": -0.993675
          },
          "YO8 7NH": {
           "class": "models.MapDataLocation",
           "lat": 53.7768,
           "lng": -0.994222
          },
          "YO8 7NL": {
           "class": "models.MapDataLocation",
           "lat": 53.7792,
           "lng": -0.997046
          },
          "YO8 7NS": {
           "class": "models.MapDataLocation",
           "lat": 53.782,
           "lng": -0.993641
          },
          "YO8 7NX": {
           "class": "models.MapDataLocation",
           "lat": 53.792,
           "lng": -0.99914
          },
          "YO8 7PF": {
           "class": "models.MapDataLocation",
           "lat": 53.7848,
           "lng": -1.00563
          },
          "YO8 7PG": {
           "class": "models.MapDataLocation",
           "lat": 53.7811,
           "lng": -1.00291
          },
          "YO8 7QG": {
           "class": "models.MapDataLocation",
           "lat": 53.7731,
           "lng": -0.981669
          },
          "YO8 8QN": {
           "class": "models.MapDataLocation",
           "lat": 53.7182,
           "lng": -1.08735
          }
         },
         "prefix": null,
         "priority": 2,
         "reference": "INCD-170169-A",
         "region": "Yorkshire Moors & Wolds YK / Castleford 4",
         "resourceAllocationDelay": 0,
         "stageSequence": 3,
         "stageSequenceMessage": "Our team are working hard to restore your power as quickly as possible",
         "startnumber": 0,
         "status": "In Progress",
         "totalConfirmedOff": 474,
         "totalPredictedOff": 0,
         "totalResourceAssigned": 0,
         "totalResourceDispatched": 1,
         "totalResourceOnsite": 0,
         "totalRestored": 0,
         "totalSensitiveAffected": 67,
         "type": "HV_N"
        },
        "INCD-170187-A": {
         "areacode": 23,
         "category": "Damaged LV U/G",
         "categoryWebText": "The power cut affecting your property has been caused by someone damaging the cables or equipment that serve your area",
         "class": "models.MapDataPowercutIncno",
         "contact": "",
         "customerStageSequence": 4,
         "elapsed": "00d 03:25",
         "estimatedTimeTillResolution": 1617980400000,
         "group": "RESTORATION",
         "hoursSinceLogged": 3,
         "latestStageSequenceHistory": 1617980410000,
         "latestStageSequenceStatus": 1,
         "location": "DN3 3QF, ST PETERS SCHOOL 44111 SS, Transformer LV",
         "logged": 1617968700000,
         "natureOfOutage": "Localised Fault",
         "networkObject": "4074582",
         "numberOfCalls": 21,
         "postcodes": {
          "DN4 6QT": {
           "class": "models.MapDataLocation",
           "lat": 53.5079,
           "lng": -1.06409
          },
          "DN4 6QU": {
           "class": "models.MapDataLocation",
           "lat": 53.5072,
           "lng": -1.06651
          },
          "DN4 6QX": {
           "class": "models.MapDataLocation",
           "lat": 53.5068,
           "lng": -1.06587
          },
          "DN4 6RH": {
           "class": "models.MapDataLocation",
           "lat": 53.5063,
           "lng": -1.06741
          },
          "DN4 6RJ": {
           "class": "models.MapDataLocation",
           "lat": 53.5063,
           "lng": -1.06624
          },
          "DN4 6RL": {
           "class": "models.MapDataLocation",
           "lat": 53.5066,
           "lng": -1.06558
          },
          "DN4 6RN": {
           "class": "models.MapDataLocation",
           "lat": 53.5072,
           "lng": -1.06455
          },
          "DN4 6RY": {
           "class": "models.MapDataLocation",
           "lat": 53.5069,
           "lng": -1.06746
          },
          "DN4 6TN": {
           "class": "models.MapDataLocation",
           "lat": 53.5035,
           "lng": -1.06625
          },
          "DN4 6UQ": {
           "class": "models.MapDataLocation",
           "lat": 53.5053,
           "lng": -1.06679
          }
         },
         "prefix": null,
         "priority": 2,
         "reference": "INCD-170187-A",
         "region": "South Yorkshire / Doncaster 1",
         "resourceAllocationDelay": 0,
         "stageSequence": 1,
         "stageSequenceMessage": "Our team are working hard to restore your power as quickly as possible",
         "startnumber": 0,
         "status": "Awaiting",
         "totalConfirmedOff": 0,
         "totalPredictedOff": 94,
         "totalResourceAssigned": 0,
         "totalResourceDispatched": 0,
         "totalResourceOnsite": 0,
         "totalRestored": 0,
         "totalSensitiveAffected": 15,
         "type": "LV"
        },
        "INCD-170218-A": {
         "areacode": 23,
         "category": "Unknown P2",
         "categoryWebText": "The power cut affecting your property has been caused by an unexpected problem with the cables or equipment that serve your area",
         "class": "models.MapDataPowercutIncno",
         "contact": "MONAGHAN, MARK",
         "customerStageSequence": 3,
         "elapsed": "00d 02:04",
         "estimatedTimeTillResolution": null,
         "group": "RESTORATION",
         "hoursSinceLogged": 2,
         "latestStageSequenceHistory": 1617980410000,
         "latestStageSequenceStatus": 3,
         "location": "LS28 9HG, 158, KENT ROAD, PUDSEY",
         "logged": 1617973560000,
         "natureOfOutage": "Single Premise",
         "networkObject": "SWINNOW MOOR",
         "numberOfCalls": 1,
         "postcodes": {
          "LS28 9HG": {
           "class": "models.MapDataLocation",
           "lat": 53.7882,
           "lng": -1.6522
          }
         },
         "prefix": null,
         "priority": 4,
         "reference": "INCD-170218-A",
         "region": "West Yorkshire / Bradford 2",
         "resourceAllocationDelay": 0,
         "stageSequence": 3,
         "stageSequenceMessage": "Our team are working hard to restore your power as quickly as possible",
         "startnumber": 0,
         "status": "In Progress",
         "totalConfirmedOff": 0,
         "totalPredictedOff": 1,
         "totalResourceAssigned": 0,
         "totalResourceDispatched": 1,
         "totalResourceOnsite": 0,
         "totalRestored": 0,
         "totalSensitiveAffected": 0,
         "type": "SP"
        },
        "INCD-170225-A": {
         "areacode": 23,
         "category": "O/H HV Mains Repair",
         "categoryWebText": "The power cut affecting your property has been caused by an unexpected problem with the cables or equipment that serve your area",
         "class": "models.MapDataPowercutIncno",
         "contact": "",
         "customerStageSequence": 1,
         "elapsed": "00d 02:01",
         "estimatedTimeTillResolution": 1617994800000,
         "group": "RESTORATION",
         "hoursSinceLogged": 2,
         "latestStageSequenceHistory": 1617974110000,
         "latestStageSequenceStatus": 1,
         "location": "LS21 2QB, LINDLEY MOOR  1676, ARCB",
         "logged": 1617973740000,
         "natureOfOutage": "Large Area Fault",
         "networkObject": "4043235-ASSET",
         "numberOfCalls": 70,
         "postcodes": {
          "HG3 1RP": {
           "class": "models.MapDataLocation",
           "lat": 53.9839,
           "lng": -1.70882
          },
          "HG3 1SB": {
           "class": "models.MapDataLocation",
           "lat": 53.9802,
           "lng": -1.68479
          },
          "HG3 1SD": {
           "class": "models.MapDataLocation",
           "lat": 53.9983,
           "lng": -1.69231
          },
          "HG3 1SF": {
           "class": "models.MapDataLocation",
           "lat": 53.9852,
           "lng": -1.59153
          },
          "HG3 1SJ": {
           "class": "models.MapDataLocation",
           "lat": 53.9879,
           "lng": -1.67637
          },
          "HG3 1SL": {
           "class": "models.MapDataLocation",
           "lat": 53.9873,
           "lng": -1.67848
          },
          "HG3 1SN": {
           "class": "models.MapDataLocation",
           "lat": 53.9927,
           "lng": -1.68105
          },
          "HG3 1SP": {
           "class": "models.MapDataLocation",
           "lat": 53.9975,
           "lng": -1.70313
          },
          "HG3 1SR": {
           "class": "models.MapDataLocation",
           "lat": 53.9906,
           "lng": -1.70738
          },
          "HG3 1SS": {
           "class": "models.MapDataLocation",
           "lat": 53.9851,
           "lng": -1.71106
          },
          "HG3 1SU": {
           "class": "models.MapDataLocation",
           "lat": 53.9828,
           "lng": -1.7045
          },
          "HG3 1SW": {
           "class": "models.MapDataLocation",
           "lat": 53.9949,
           "lng": -1.70156
          },
          "HG3 1SY": {
           "class": "models.MapDataLocation",
           "lat": 53.9858,
           "lng": -1.69701
          },
          "HG3 1SZ": {
           "class": "models.MapDataLocation",
           "lat": 53.983,
           "lng": -1.68385
          },
          "HG3 1TA": {
           "class": "models.MapDataLocation",
           "lat": 53.9789,
           "lng": -1.67345
          },
          "HG3 1TB": {
           "class": "models.MapDataLocation",
           "lat": 53.9742,
           "lng": -1.68688
          },
          "HG3 1TD": {
           "class": "models.MapDataLocation",
           "lat": 53.9738,
           "lng": -1.68599
          },
          "HG3 1TE": {
           "class": "models.MapDataLocation",
           "lat": 53.9735,
           "lng": -1.68476
          },
          "HG3 1TF": {
           "class": "models.MapDataLocation",
           "lat": 53.9734,
           "lng": -1.68417
          },
          "HG3 2RL": {
           "class": "models.MapDataLocation",
           "lat": 54.0033,
           "lng": -1.6974
          },
          "LS21 2NA": {
           "class": "models.MapDataLocation",
           "lat": 53.9427,
           "lng": -1.7062
          },
          "LS21 2PQ": {
           "class": "models.MapDataLocation",
           "lat": 54.0058,
           "lng": -1.74344
          },
          "LS21 2QS": {
           "class": "models.MapDataLocation",
           "lat": 53.949,
           "lng": -1.67095
          },
          "LS21 2QT": {
           "class": "models.MapDataLocation",
           "lat": 53.9533,
           "lng": -1.66908
          },
          "LS21 2QU": {
           "class": "models.MapDataLocation",
           "lat": 53.9629,
           "lng": -1.68763
          },
          "LS21 2QX": {
           "class": "models.MapDataLocation",
           "lat": 53.9667,
           "lng": -1.69471
          },
          "LS21 2QY": {
           "class": "models.MapDataLocation",
           "lat": 53.9626,
           "lng": -1.69942
          },
          "LS21 2QZ": {
           "class": "models.MapDataLocation",
           "lat": 53.9493,
           "lng": -1.6844
          },
          "LS21 2RA": {
           "class": "models.MapDataLocation",
           "lat": 53.9505,
           "lng": -1.68699
          }
         },
         "prefix": null,
         "priority": 3,
         "reference": "INCD-170225-A",
         "region": "West Yorkshire / Bradford 2",
         "resourceAllocationDelay": 0,
         "stageSequence": 1,
         "stageSequenceMessage": "Our team are working hard to restore your power as quickly as possible",
         "startnumber": 0,
         "status": "Awaiting",
         "totalConfirmedOff": 179,
         "totalPredictedOff": 0,
         "totalResourceAssigned": 0,
         "totalResourceDispatched": 0,
         "totalResourceOnsite": 0,
         "totalRestored": 0,
         "totalSensitiveAffected": 12,
         "type": "HV_N"
        },
        "INCD-170226-A": {
         "areacode": 23,
         "category": "Unknown P2",
         "categoryWebText": "The power cut affecting your property has been caused by an unexpected problem with the cables or equipment that serve your area",
         "class": "models.MapDataPowercutIncno",
         "contact": "REQUIRED, JOINTER",
         "customerStageSequence": 4,
         "elapsed": "00d 01:57",
         "estimatedTimeTillResolution": null,
         "group": "MAJOR REPAIRS",
         "hoursSinceLogged": 1,
         "latestStageSequenceHistory": 1617979211000,
         "latestStageSequenceStatus": 2,
         "location": "WF16 9EH, 129, CEMETERY ROAD, HECKMONDWIKE",
         "logged": 1617973980000,
         "natureOfOutage": "Single Premise",
         "networkObject": "WHITE LEE",
         "numberOfCalls": 1,
         "postcodes": {
          "WF16 9EH": {
           "class": "models.MapDataLocation",
           "lat": 53.7116,
           "lng": -1.67113
          }
         },
         "prefix": null,
         "priority": 4,
         "reference": "INCD-170226-A",
         "region": "West Yorkshire / Leeds South 1",
         "resourceAllocationDelay": 0,
         "stageSequence": 2,
         "stageSequenceMessage": "Our team are working hard to restore your power as quickly as possible",
         "startnumber": 0,
         "status": "Awaiting",
         "totalConfirmedOff": 0,
         "totalPredictedOff": 1,
         "totalResourceAssigned": 1,
         "totalResourceDispatched": 0,
         "totalResourceOnsite": 0,
         "totalRestored": 0,
         "totalSensitiveAffected": 0,
         "type": "SP"
        },
        "INCD-170228-A": {
         "areacode": 23,
         "category": "Damage Other",
         "categoryWebText": "The power cut affecting your property has been caused by someone damaging the cables or equipment that serve your area",
         "class": "models.MapDataPowercutIncno",
         "contact": "SHIELDS, CRAIG",
         "customerStageSequence": 4,
         "elapsed": "00d 01:55",
         "estimatedTimeTillResolution": null,
         "group": "RESTORATION",
         "hoursSinceLogged": 1,
         "latestStageSequenceHistory": 1617979510000,
         "latestStageSequenceStatus": 4,
         "location": "LS17 6RB, 438, STREET LANE, LEEDS",
         "logged": 1617974100000,
         "natureOfOutage": "Single Premise",
         "networkObject": "FIR TREE LANE",
         "numberOfCalls": 1,
         "postcodes": {
          "LS17 6RB": {
           "class": "models.MapDataLocation",
           "lat": 53.8433,
           "lng": -1.53186
          }
         },
         "prefix": null,
         "priority": 2,
         "reference": "INCD-170228-A",
         "region": "West Yorkshire / Leeds North 1",
         "resourceAllocationDelay": 0,
         "stageSequence": 4,
         "stageSequenceMessage": "Our team are working hard to restore your power as quickly as possible",
         "startnumber": 0,
         "status": "In Progress",
         "totalConfirmedOff": 1,
         "totalPredictedOff": 0,
         "totalResourceAssigned": 1,
         "totalResourceDispatched": 0,
         "totalResourceOnsite": 1,
         "totalRestored": 0,
         "totalSensitiveAffected": 0,
         "type": "SP"
        },
        "INCD-170231-A": {
         "areacode": 23,
         "category": "Damage Other",
         "categoryWebText": "The power cut affecting your property has been caused by someone damaging the cables or equipment that serve your area",
         "class": "models.MapDataPowercutIncno",
         "contact": "BROOKS, LEON",
         "customerStageSequence": 5,
         "elapsed": "00d 01:46",
         "estimatedTimeTillResolution": 1617985800000,
         "group": "RESTORATION",
         "hoursSinceLogged": 1,
         "latestStageSequenceHistory": 1617980410000,
         "latestStageSequenceStatus": 5,
         "location": "DN4 6UD, 366, GOODISON BOULEVARD, DONCASTER",
         "logged": 1617974640000,
         "natureOfOutage": "Single Premise",
         "networkObject": "MARKHAM GATES",
         "numberOfCalls": 1,
         "postcodes": {
          "DN4 6UD": {
           "class": "models.MapDataLocation",
           "lat": 53.5069,
           "lng": -1.0625
          }
         },
         "prefix": null,
         "priority": 2,
         "reference": "INCD-170231-A",
         "region": "South Yorkshire / Doncaster 1",
         "resourceAllocationDelay": 0,
         "stageSequence": 5,
         "stageSequenceMessage": "Our team are working hard to restore your power as quickly as possible",
         "startnumber": 0,
         "status": "In Progress",
         "totalConfirmedOff": 0,
         "totalPredictedOff": 1,
         "totalResourceAssigned": 0,
         "totalResourceDispatched": 0,
         "totalResourceOnsite": 2,
         "totalRestored": 0,
         "totalSensitiveAffected": 0,
         "type": "SP"
        },
        "INCD-170238-A": {
         "areacode": 15,
         "category": "Damaged service U/G",
         "categoryWebText": "The power cut affecting your property has been caused by someone damaging the cables or equipment that serve your area",
         "class": "models.MapDataPowercutIncno",
         "contact": "TOWERS, SIMON",
         "customerStageSequence": 5,
         "elapsed": "00d 01:28",
         "estimatedTimeTillResolution": 1617994800000,
         "group": "RESTORATION",
         "hoursSinceLogged": 1,
         "latestStageSequenceHistory": 1617978310000,
         "latestStageSequenceStatus": 5,
         "location": "SR5 3AH, 3, DENE ROAD, SUNDERLAND",
         "logged": 1617975720000,
         "natureOfOutage": "Single Premise",
         "networkObject": "WEST SOUTHWICK",
         "numberOfCalls": 1,
         "postcodes": {
          "SR5 3AH": {
           "class": "models.MapDataLocation",
           "lat": 54.9189,
           "lng": -1.43581
          }
         },
         "prefix": null,
         "priority": 4,
         "reference": "INCD-170238-A",
         "region": "Tyne and Wear / Sunderland 1",
         "resourceAllocationDelay": 0,
         "stageSequence": 5,
         "stageSequenceMessage": "Our team are working hard to restore your power as quickly as possible",
         "startnumber": 0,
         "status": "In Progress",
         "totalConfirmedOff": 0,
         "totalPredictedOff": 1,
         "totalResourceAssigned": 0,
         "totalResourceDispatched": 1,
         "totalResourceOnsite": 2,
         "totalRestored": 0,
         "totalSensitiveAffected": 0,
         "type": "SP"
        },
        "INCD-170241-A": {
         "areacode": 23,
         "category": "Damaged service U/G",
         "categoryWebText": "The power cut affecting your property has been caused by someone damaging the cables or equipment that serve your area",
         "class": "models.MapDataPowercutIncno",
         "contact": "BARLOW, JAKE",
         "customerStageSequence": 4,
         "elapsed": "00d 01:18",
         "estimatedTimeTillResolution": 1617987600000,
         "group": "RESTORATION",
         "hoursSinceLogged": 1,
         "latestStageSequenceHistory": 1617980111000,
         "latestStageSequenceStatus": 4,
         "location": "WF12 8RQ, 3, PRINCESS ROAD, DEWSBURY",
         "logged": 1617976320000,
         "natureOfOutage": "Single Premise",
         "networkObject": "MILTON PLACE",
         "numberOfCalls": 1,
         "postcodes": {
          "WF12 8RQ": {
           "class": "models.MapDataLocation",
           "lat": 53.6875,
           "lng": -1.60255
          }
         },
         "prefix": null,
         "priority": 4,
         "reference": "INCD-170241-A",
         "region": "West Yorkshire / Leeds South 1",
         "resourceAllocationDelay": 0,
         "stageSequence": 4,
         "stageSequenceMessage": "Our team are working hard to restore your power as quickly as possible",
         "startnumber": 0,
         "status": "In Progress",
         "totalConfirmedOff": 0,
         "totalPredictedOff": 1,
         "totalResourceAssigned": 0,
         "totalResourceDispatched": 0,
         "totalResourceOnsite": 1,
         "totalRestored": 0,
         "totalSensitiveAffected": 0,
         "type": "SP"
        },
        "INCD-170243-A": {
         "areacode": 15,
         "category": "Unknown P1",
         "categoryWebText": "The power cut affecting your property has been caused by an unexpected problem with the cables or equipment that serve your area",
         "class": "models.MapDataPowercutIncno",
         "contact": "",
         "customerStageSequence": 4,
         "elapsed": "00d 01:13",
         "estimatedTimeTillResolution": null,
         "group": "RESTORATION",
         "hoursSinceLogged": 1,
         "latestStageSequenceHistory": 1617981011000,
         "latestStageSequenceStatus": 1,
         "location": "DL16 7SF, 39, CLYDE TERRACE, SPENNYMOOR",
         "logged": 1617976620000,
         "natureOfOutage": "Single Premise",
         "networkObject": "LOW SPENNYMOOR",
         "numberOfCalls": 1,
         "postcodes": {
          "DL16 7SF": {
           "class": "models.MapDataLocation",
           "lat": 54.6959,
           "lng": -1.60716
          }
         },
         "prefix": null,
         "priority": 1,
         "reference": "INCD-170243-A",
         "region": "Teesside / Durham 3",
         "resourceAllocationDelay": 0,
         "stageSequence": 1,
         "stageSequenceMessage": "Our team are working hard to restore your power as quickly as possible",
         "startnumber": 0,
         "status": "Awaiting",
         "totalConfirmedOff": 0,
         "totalPredictedOff": 1,
         "totalResourceAssigned": 0,
         "totalResourceDispatched": 0,
         "totalResourceOnsite": 0,
         "totalRestored": 0,
         "totalSensitiveAffected": 0,
         "type": "SP"
        },
        "INCD-170246-A": {
         "areacode": 23,
         "category": "Unknown P2",
         "categoryWebText": "The power cut affecting your property has been caused by an unexpected problem with the cables or equipment that serve your area",
         "class": "models.MapDataPowercutIncno",
         "contact": "SCARGILL, MARTIN",
         "customerStageSequence": 3,
         "elapsed": "00d 01:09",
         "estimatedTimeTillResolution": null,
         "group": "RESTORATION",
         "hoursSinceLogged": 1,
         "latestStageSequenceHistory": 1617978610000,
         "latestStageSequenceStatus": 3,
         "location": "BD2 1BJ, 64, BOLTON HALL ROAD, BRADFORD",
         "logged": 1617976860000,
         "natureOfOutage": "Single Premise",
         "networkObject": "GAISBY LANE",
         "numberOfCalls": 1,
         "postcodes": {
          "BD2 1BJ": {
           "class": "models.MapDataLocation",
           "lat": 53.8213,
           "lng": -1.75891
          }
         },
         "prefix": null,
         "priority": 4,
         "reference": "INCD-170246-A",
         "region": "West Yorkshire / Bradford 2",
         "resourceAllocationDelay": 0,
         "stageSequence": 3,
         "stageSequenceMessage": "Our team are working hard to restore your power as quickly as possible",
         "startnumber": 0,
         "status": "In Progress",
         "totalConfirmedOff": 0,
         "totalPredictedOff": 1,
         "totalResourceAssigned": 0,
         "totalResourceDispatched": 1,
         "totalResourceOnsite": 0,
         "totalRestored": 0,
         "totalSensitiveAffected": 1,
         "type": "SP"
        },
        "INCD-170256-A": {
         "areacode": 23,
         "category": "Unknown P2",
         "categoryWebText": "The power cut affecting your property has been caused by an unexpected problem with the cables or equipment that serve your area",
         "class": "models.MapDataPowercutIncno",
         "contact": "WATERS, JAMIE",
         "customerStageSequence": 4,
         "elapsed": "00d 00:53",
         "estimatedTimeTillResolution": 1617989400000,
         "group": "RESTORATION",
         "hoursSinceLogged": 0,
         "latestStageSequenceHistory": 1617980111000,
         "latestStageSequenceStatus": 4,
         "location": "HU1 1UZ, HENRY VERNONE COURT, LANDLORDS SUPPLY, PIER STREET, HULL",
         "logged": 1617977820000,
         "natureOfOutage": "Single Premise",
         "networkObject": "ALFRED GELDER STREET",
         "numberOfCalls": 1,
         "postcodes": {
          "HU1 1UZ": {
           "class": "models.MapDataLocation",
           "lat": 53.7382,
           "lng": -0.335135
          }
         },
         "prefix": null,
         "priority": 4,
         "reference": "INCD-170256-A",
         "region": "Humber Estuary / Hull 1",
         "resourceAllocationDelay": 0,
         "stageSequence": 4,
         "stageSequenceMessage": "Our team are working hard to restore your power as quickly as possible",
         "startnumber": 0,
         "status": "In Progress",
         "totalConfirmedOff": 0,
         "totalPredictedOff": 1,
         "totalResourceAssigned": 0,
         "totalResourceDispatched": 0,
         "totalResourceOnsite": 1,
         "totalRestored": 0,
         "totalSensitiveAffected": 0,
         "type": "SP"
        },
        "INCD-170257-A": {
         "areacode": 23,
         "category": "Unknown P2",
         "categoryWebText": "The power cut affecting your property has been caused by an unexpected problem with the cables or equipment that serve your area",
         "class": "models.MapDataPowercutIncno",
         "contact": "GILL, BOB",
         "customerStageSequence": 3,
         "elapsed": "00d 00:58",
         "estimatedTimeTillResolution": 1617989400000,
         "group": "RESTORATION",
         "hoursSinceLogged": 1,
         "latestStageSequenceHistory": 1617979211000,
         "latestStageSequenceStatus": 3,
         "location": "HX3 0TQ, COPLEY LANE B262 SS, Transformer LV",
         "logged": 1617977520000,
         "natureOfOutage": "Localised Fault",
         "networkObject": "4064836",
         "numberOfCalls": 8,
         "postcodes": {
          "HX3 0TJ": {
           "class": "models.MapDataLocation",
           "lat": 53.701,
           "lng": -1.8667
          },
          "HX3 0TU": {
           "class": "models.MapDataLocation",
           "lat": 53.6996,
           "lng": -1.86951
          },
          "HX3 0UA": {
           "class": "models.MapDataLocation",
           "lat": 53.7002,
           "lng": -1.8722
          },
          "HX3 0UT": {
           "class": "models.MapDataLocation",
           "lat": 53.7011,
           "lng": -1.87093
          },
          "HX3 0UU": {
           "class": "models.MapDataLocation",
           "lat": 53.7001,
           "lng": -1.86751
          }
         },
         "prefix": null,
         "priority": 4,
         "reference": "INCD-170257-A",
         "region": "West Yorkshire / Bradford 2",
         "resourceAllocationDelay": 0,
         "stageSequence": 3,
         "stageSequenceMessage": "Our team are working hard to restore your power as quickly as possible",
         "startnumber": 0,
         "status": "In Progress",
         "totalConfirmedOff": 0,
         "totalPredictedOff": 52,
         "totalResourceAssigned": 0,
         "totalResourceDispatched": 1,
         "totalResourceOnsite": 0,
         "totalRestored": 0,
         "totalSensitiveAffected": 6,
         "type": "LV"
        },
        "INCD-170260-A": {
         "areacode": 15,
         "category": "Unknown P1",
         "categoryWebText": "The power cut affecting your property has been caused by an unexpected problem with the cables or equipment that serve your area",
         "class": "models.MapDataPowercutIncno",
         "contact": "SINCLAIR, NEIL",
         "customerStageSequence": 4,
         "elapsed": "00d 00:45",
         "estimatedTimeTillResolution": null,
         "group": "RESTORATION",
         "hoursSinceLogged": 0,
         "latestStageSequenceHistory": 1617980410000,
         "latestStageSequenceStatus": 4,
         "location": "TS25 5QE, 184, OXFORD ROAD, HARTLEPOOL",
         "logged": 1617978300000,
         "natureOfOutage": "Single Premise",
         "networkObject": "BRENDA TRADING",
         "numberOfCalls": 1,
         "postcodes": {
          "TS25 5QE": {
           "class": "models.MapDataLocation",
           "lat": 54.674,
           "lng": -1.22599
          }
         },
         "prefix": null,
         "priority": 1,
         "reference": "INCD-170260-A",
         "region": "Teesside / Middlesbrough 1",
         "resourceAllocationDelay": 0,
         "stageSequence": 4,
         "stageSequenceMessage": "Our team are working hard to restore your power as quickly as possible",
         "startnumber": 0,
         "status": "In Progress",
         "totalConfirmedOff": 0,
         "totalPredictedOff": 1,
         "totalResourceAssigned": 0,
         "totalResourceDispatched": 0,
         "totalResourceOnsite": 1,
         "totalRestored": 0,
         "totalSensitiveAffected": 0,
         "type": "SP"
        },
        "INCD-170263-A": {
         "areacode": 15,
         "category": "Unknown P1",
         "categoryWebText": "The power cut affecting your property has been caused by an unexpected problem with the cables or equipment that serve your area",
         "class": "models.MapDataPowercutIncno",
         "contact": "MAY, MICHAEL",
         "customerStageSequence": 3,
         "elapsed": "00d 00:36",
         "estimatedTimeTillResolution": 1617990300000,
         "group": "RESTORATION",
         "hoursSinceLogged": 0,
         "latestStageSequenceHistory": 1617980111000,
         "latestStageSequenceStatus": 3,
         "location": "NE5 2YQ, 8, DAYSHIELD, NEWCASTLE UPON TYNE",
         "logged": 1617978840000,
         "natureOfOutage": "Single Premise",
         "networkObject": "WESTERHOPE",
         "numberOfCalls": 1,
         "postcodes": {
          "NE5 2YQ": {
           "class": "models.MapDataLocation",
           "lat": 54.9914,
           "lng": -1.69022
          }
         },
         "prefix": null,
         "priority": 1,
         "reference": "INCD-170263-A",
         "region": "Tyne and Wear / Newcastle 2",
         "resourceAllocationDelay": 0,
         "stageSequence": 3,
         "stageSequenceMessage": "Our team are working hard to restore your power as quickly as possible",
         "startnumber": 0,
         "status": "In Progress",
         "totalConfirmedOff": 0,
         "totalPredictedOff": 1,
         "totalResourceAssigned": 0,
         "totalResourceDispatched": 1,
         "totalResourceOnsite": 0,
         "totalRestored": 0,
         "totalSensitiveAffected": 0,
         "type": "SP"
        },
        "INCD-170264-A": {
         "areacode": 23,
         "category": "Unknown P2",
         "categoryWebText": "The power cut affecting your property has been caused by an unexpected problem with the cables or equipment that serve your area",
         "class": "models.MapDataPowercutIncno",
         "contact": "MORGAN, DAVID",
         "customerStageSequence": 4,
         "elapsed": "00d 00:33",
         "estimatedTimeTillResolution": 1617990300000,
         "group": "RESTORATION",
         "hoursSinceLogged": 0,
         "latestStageSequenceHistory": 1617981011000,
         "latestStageSequenceStatus": 4,
         "location": "LS15 8EP, 10, THE DRIVE, CROSSGATES, LEEDS",
         "logged": 1617979020000,
         "natureOfOutage": "Single Premise",
         "networkObject": "BARWICK",
         "numberOfCalls": 1,
         "postcodes": {
          "LS15 8EP": {
           "class": "models.MapDataLocation",
           "lat": 53.8088,
           "lng": -1.44632
          }
         },
         "prefix": null,
         "priority": 4,
         "reference": "INCD-170264-A",
         "region": "West Yorkshire / Leeds North 1",
         "resourceAllocationDelay": 0,
         "stageSequence": 4,
         "stageSequenceMessage": "Our team are working hard to restore your power as quickly as possible",
         "startnumber": 0,
         "status": "In Progress",
         "totalConfirmedOff": 0,
         "totalPredictedOff": 1,
         "totalResourceAssigned": 0,
         "totalResourceDispatched": 0,
         "totalResourceOnsite": 1,
         "totalRestored": 0,
         "totalSensitiveAffected": 0,
         "type": "SP"
        },
        "INCD-170265-A": {
         "areacode": 23,
         "category": "Damage Other",
         "categoryWebText": "The power cut affecting your property has been caused by someone damaging the cables or equipment that serve your area",
         "class": "models.MapDataPowercutIncno",
         "contact": "SUTCLIFFE, GARRY",
         "customerStageSequence": 3,
         "elapsed": "00d 00:59",
         "estimatedTimeTillResolution": 1617990300000,
         "group": "RESTORATION",
         "hoursSinceLogged": 1,
         "latestStageSequenceHistory": 1617981011000,
         "latestStageSequenceStatus": 3,
         "location": "HX3 7HG, 15 CHELSEA MANSIONS, HALIFAX",
         "logged": 1617977460000,
         "natureOfOutage": "Single Premise",
         "networkObject": "QUEENSBURY",
         "numberOfCalls": 2,
         "postcodes": {
          "HX3 7HG": {
           "class": "models.MapDataLocation",
           "lat": 53.7353,
           "lng": -1.82844
          }
         },
         "prefix": null,
         "priority": 2,
         "reference": "INCD-170265-A",
         "region": "West Yorkshire / Bradford 2",
         "resourceAllocationDelay": 0,
         "stageSequence": 3,
         "stageSequenceMessage": "Our team are working hard to restore your power as quickly as possible",
         "startnumber": 0,
         "status": "In Progress",
         "totalConfirmedOff": 0,
         "totalPredictedOff": 1,
         "totalResourceAssigned": 0,
         "totalResourceDispatched": 1,
         "totalResourceOnsite": 0,
         "totalRestored": 0,
         "totalSensitiveAffected": 0,
         "type": "SP"
        },
        "INCD-170275-A": {
         "areacode": 23,
         "category": "Unknown P2",
         "categoryWebText": "The power cut affecting your property has been caused by an unexpected problem with the cables or equipment that serve your area",
         "class": "models.MapDataPowercutIncno",
         "contact": "",
         "customerStageSequence": 1,
         "elapsed": "00d 00:03",
         "estimatedTimeTillResolution": 1617992100000,
         "group": "RESTORATION",
         "hoursSinceLogged": 0,
         "latestStageSequenceHistory": 1617981011000,
         "latestStageSequenceStatus": 1,
         "location": "S8  8FX, 386, BATEMOOR ROAD, SHEFFIELD",
         "logged": 1617980820000,
         "natureOfOutage": "Single Premise",
         "networkObject": "DRONFIELD",
         "numberOfCalls": 1,
         "postcodes": {
          "S8 8FX": {
           "class": "models.MapDataLocation",
           "lat": 53.3181,
           "lng": -1.4682
          }
         },
         "prefix": null,
         "priority": 4,
         "reference": "INCD-170275-A",
         "region": "South Yorkshire / Sheffield 1",
         "resourceAllocationDelay": 0,
         "stageSequence": 1,
         "stageSequenceMessage": "Our team are working hard to restore your power as quickly as possible",
         "startnumber": 0,
         "status": "Awaiting",
         "totalConfirmedOff": 0,
         "totalPredictedOff": 1,
         "totalResourceAssigned": 0,
         "totalResourceDispatched": 0,
         "totalResourceOnsite": 0,
         "totalRestored": 0,
         "totalSensitiveAffected": 0,
         "type": "SP"
        },
        "PPC039123": {
         "areacode": 15,
         "category": "We need to temporarily turn the power off to carry out power upgrades in the area.",
         "categoryWebText": "",
         "class": "models.MapDataPowercutIncno",
         "contact": "Chris Hogg",
         "customerStageSequence": 5,
         "elapsed": "0d 6:10",
         "estimatedTimeTillResolution": 1617973200000,
         "group": "RESTORATION",
         "hoursSinceLogged": 6,
         "latestStageSequenceHistory": 1617973215000,
         "latestStageSequenceStatus": 5,
         "location": "WINLATON WEST - GREENWELL HOUSE TD 11KV FEEDER",
         "logged": 1617958800000,
         "natureOfOutage": "Planned Work on System",
         "networkObject": "GREENWELL HOUSE",
         "numberOfCalls": 0,
         "postcodes": {
          "NE21 4SY": {
           "class": "models.MapDataLocation",
           "lat": 54.9594,
           "lng": -1.74275
          },
          "NE21 4SZ": {
           "class": "models.MapDataLocation",
           "lat": 54.9586,
           "lng": -1.74094
          },
          "NE21 4TA": {
           "class": "models.MapDataLocation",
           "lat": 54.9577,
           "lng": -1.74058
          },
          "NE21 6DZ": {
           "class": "models.MapDataLocation",
           "lat": 54.9561,
           "lng": -1.73382
          },
          "NE21 6JJ": {
           "class": "models.MapDataLocation",
           "lat": 54.9549,
           "lng": -1.74264
          },
          "NE21 6JL": {
           "class": "models.MapDataLocation",
           "lat": 54.9554,
           "lng": -1.74139
          },
          "NE21 6JN": {
           "class": "models.MapDataLocation",
           "lat": 54.955,
           "lng": -1.74665
          },
          "NE21 6JR": {
           "class": "models.MapDataLocation",
           "lat": 54.9543,
           "lng": -1.74083
          },
          "NE21 6JW": {
           "class": "models.MapDataLocation",
           "lat": 54.9562,
           "lng": -1.75156
          }
         },
         "prefix": null,
         "priority": 8,
         "reference": "PPC039123",
         "region": "WINLATON WEST - GREENWELL HOUSE TD 11KV FEEDER",
         "resourceAllocationDelay": 0,
         "stageSequence": 5,
         "stageSequenceMessage": "",
         "startnumber": 0,
         "status": "The scheduled work has now been completed",
         "totalConfirmedOff": 31,
         "totalPredictedOff": 0,
         "totalResourceAssigned": 0,
         "totalResourceDispatched": 0,
         "totalResourceOnsite": 0,
         "totalRestored": 0,
         "totalSensitiveAffected": 1,
         "type": "LV"
        },
        "PPC039174": {
         "areacode": 23,
         "category": "We need to temporarily turn the power off to undertake vegetation management in the area.",
         "categoryWebText": "",
         "class": "models.MapDataPowercutIncno",
         "contact": "Nigel Burton",
         "customerStageSequence": 5,
         "elapsed": "0d 7:10",
         "estimatedTimeTillResolution": 1617973200000,
         "group": "RESTORATION",
         "hoursSinceLogged": 7,
         "latestStageSequenceHistory": 1617973215000,
         "latestStageSequenceStatus": 5,
         "location": "Howsham Grain Drier 21078",
         "logged": 1617955200000,
         "natureOfOutage": "Planned Work on System",
         "networkObject": "HOWSHAM GRAIN DRIER 21078",
         "numberOfCalls": 0,
         "postcodes": {
          "LN7 6JY": {
           "class": "models.MapDataLocation",
           "lat": 53.5228,
           "lng": -0.419666
          },
          "LN7 6JZ": {
           "class": "models.MapDataLocation",
           "lat": 53.5237,
           "lng": -0.42138
          },
          "LN7 6LQ": {
           "class": "models.MapDataLocation",
           "lat": 53.5236,
           "lng": -0.422199
          }
         },
         "prefix": null,
         "priority": 8,
         "reference": "PPC039174",
         "region": "Howsham Grain Drier 21078",
         "resourceAllocationDelay": 0,
         "stageSequence": 5,
         "stageSequenceMessage": "",
         "startnumber": 0,
         "status": "The scheduled work has now been completed",
         "totalConfirmedOff": 20,
         "totalPredictedOff": 0,
         "totalResourceAssigned": 0,
         "totalResourceDispatched": 0,
         "totalResourceOnsite": 0,
         "totalRestored": 0,
         "totalSensitiveAffected": 1,
         "type": "LV"
        },
        "PPC039180": {
         "areacode": 15,
         "category": "We need to temporarily turn the power off to carry out maintenance on our network in the area.",
         "categoryWebText": "",
         "class": "models.MapDataPowercutIncno",
         "contact": "Dean Price",
         "customerStageSequence": 5,
         "elapsed": "0d 5:40",
         "estimatedTimeTillResolution": 1617962400000,
         "group": "RESTORATION",
         "hoursSinceLogged": 5,
         "latestStageSequenceHistory": 1617962421000,
         "latestStageSequenceStatus": 5,
         "location": "farndale hagg sw",
         "logged": 1617960600000,
         "natureOfOutage": "Planned Work on System",
         "networkObject": "FARNDALE HAGG",
         "numberOfCalls": 0,
         "postcodes": {
          "YO62 6UN": {
           "class": "models.MapDataLocation",
           "lat": 54.3246,
           "lng": -0.925091
          },
          "YO62 7XH": {
           "class": "models.MapDataLocation",
           "lat": 54.3354,
           "lng": -0.953371
          },
          "YO62 7XJ": {
           "class": "models.MapDataLocation",
           "lat": 54.3245,
           "lng": -0.94825
          }
         },
         "prefix": null,
         "priority": 8,
         "reference": "PPC039180",
         "region": "farndale hagg sw",
         "resourceAllocationDelay": 0,
         "stageSequence": 5,
         "stageSequenceMessage": "",
         "startnumber": 0,
         "status": "The scheduled work has now been completed",
         "totalConfirmedOff": 4,
         "totalPredictedOff": 0,
         "totalResourceAssigned": 0,
         "totalResourceDispatched": 0,
         "totalResourceOnsite": 0,
         "totalRestored": 0,
         "totalSensitiveAffected": 0,
         "type": "LV"
        },
        "PPC039181": {
         "areacode": 15,
         "category": "We need to temporarily turn the power off to carry out maintenance on our network in the area.",
         "categoryWebText": "",
         "class": "models.MapDataPowercutIncno",
         "contact": "Dean Price",
         "customerStageSequence": 5,
         "elapsed": "0d 4:40",
         "estimatedTimeTillResolution": 1617966000000,
         "group": "RESTORATION",
         "hoursSinceLogged": 4,
         "latestStageSequenceHistory": 1617966011000,
         "latestStageSequenceStatus": 5,
         "location": "farndale lowna sw",
         "logged": 1617964200000,
         "natureOfOutage": "Planned Work on System",
         "networkObject": "FARNDALE LOWNA",
         "numberOfCalls": 0,
         "postcodes": {
          "YO62 7HX": {
           "class": "models.MapDataLocation",
           "lat": 54.3013,
           "lng": -0.952977
          }
         },
         "prefix": null,
         "priority": 8,
         "reference": "PPC039181",
         "region": "farndale lowna sw",
         "resourceAllocationDelay": 0,
         "stageSequence": 5,
         "stageSequenceMessage": "",
         "startnumber": 0,
         "status": "The scheduled work has now been completed",
         "totalConfirmedOff": 1,
         "totalPredictedOff": 0,
         "totalResourceAssigned": 0,
         "totalResourceDispatched": 0,
         "totalResourceOnsite": 0,
         "totalRestored": 0,
         "totalSensitiveAffected": 0,
         "type": "LV"
        },
        "PPC039351": {
         "areacode": 15,
         "category": "We need to temporarily turn the power off to undertake vegetation management in the area.",
         "categoryWebText": "",
         "class": "models.MapDataPowercutIncno",
         "contact": "Pete Oughton",
         "customerStageSequence": 5,
         "elapsed": "0d 7:10",
         "estimatedTimeTillResolution": 1617964200000,
         "group": "RESTORATION",
         "hoursSinceLogged": 7,
         "latestStageSequenceHistory": 1617964210000,
         "latestStageSequenceStatus": 5,
         "location": "Hilton Moor Farm",
         "logged": 1617955200000,
         "natureOfOutage": "Planned Work on System",
         "networkObject": "HILTON MOOR FARM",
         "numberOfCalls": 0,
         "postcodes": {
          "DL14 9NW": {
           "class": "models.MapDataLocation",
           "lat": 54.6127,
           "lng": -1.74999
          }
         },
         "prefix": null,
         "priority": 8,
         "reference": "PPC039351",
         "region": "Hilton Moor Farm",
         "resourceAllocationDelay": 0,
         "stageSequence": 5,
         "stageSequenceMessage": "",
         "startnumber": 0,
         "status": "The scheduled work has now been completed",
         "totalConfirmedOff": 2,
         "totalPredictedOff": 0,
         "totalResourceAssigned": 0,
         "totalResourceDispatched": 0,
         "totalResourceOnsite": 0,
         "totalRestored": 0,
         "totalSensitiveAffected": 0,
         "type": "LV"
        },
        "PPC039370": {
         "areacode": 15,
         "category": "We need to temporarily turn the power off to carry out replacement of poles that support our overhead power lines in the area.",
         "categoryWebText": "",
         "class": "models.MapDataPowercutIncno",
         "contact": "Joe Martin",
         "customerStageSequence": 5,
         "elapsed": "0d 7:10",
         "estimatedTimeTillResolution": 1617965520000,
         "group": "RESTORATION",
         "hoursSinceLogged": 7,
         "latestStageSequenceHistory": 1617976810000,
         "latestStageSequenceStatus": 5,
         "location": "WOODBURN CRAGS",
         "logged": 1617955200000,
         "natureOfOutage": "Planned Work on System",
         "networkObject": "WOODBURN CRAGS",
         "numberOfCalls": 0,
         "postcodes": {
          "NE48 2RJ": {
           "class": "models.MapDataLocation",
           "lat": 55.1631,
           "lng": -2.18123
          },
          "NE61 4AE": {
           "class": "models.MapDataLocation",
           "lat": 55.1278,
           "lng": -1.93382
          }
         },
         "prefix": null,
         "priority": 8,
         "reference": "PPC039370",
         "region": "WOODBURN CRAGS",
         "resourceAllocationDelay": 0,
         "stageSequence": 5,
         "stageSequenceMessage": "",
         "startnumber": 0,
         "status": "The scheduled work has now been completed",
         "totalConfirmedOff": 4,
         "totalPredictedOff": 0,
         "totalResourceAssigned": 0,
         "totalResourceDispatched": 0,
         "totalResourceOnsite": 0,
         "totalRestored": 0,
         "totalSensitiveAffected": 1,
         "type": "LV"
        },
        "PPC039545": {
         "areacode": 15,
         "category": "We need to temporarily turn the power off to carry out replacement of poles that support our overhead power lines in the area.",
         "categoryWebText": "",
         "class": "models.MapDataPowercutIncno",
         "contact": "John Bramley",
         "customerStageSequence": 5,
         "elapsed": "0d 6:10",
         "estimatedTimeTillResolution": 1617980400000,
         "group": "RESTORATION",
         "hoursSinceLogged": 6,
         "latestStageSequenceHistory": 1617980410000,
         "latestStageSequenceStatus": 5,
         "location": "BURNHOPE NORTH S/S",
         "logged": 1617958800000,
         "natureOfOutage": "Planned Work on System",
         "networkObject": "BURNHOPE NORTH",
         "numberOfCalls": 0,
         "postcodes": {
          "DH7 0AB": {
           "class": "models.MapDataLocation",
           "lat": 54.828,
           "lng": -1.70789
          },
          "DH7 0BE": {
           "class": "models.MapDataLocation",
           "lat": 54.8309,
           "lng": -1.70283
          },
          "DH7 0BP": {
           "class": "models.MapDataLocation",
           "lat": 54.8302,
           "lng": -1.70595
          },
          "DH7 0BW": {
           "class": "models.MapDataLocation",
           "lat": 54.8303,
           "lng": -1.70582
          },
          "DH7 0DA": {
           "class": "models.MapDataLocation",
           "lat": 54.83,
           "lng": -1.70505
          },
          "DH7 0DB": {
           "class": "models.MapDataLocation",
           "lat": 54.8293,
           "lng": -1.70363
          },
          "DH7 0DD": {
           "class": "models.MapDataLocation",
           "lat": 54.8316,
           "lng": -1.70454
          },
          "DH7 0DE": {
           "class": "models.MapDataLocation",
           "lat": 54.8306,
           "lng": -1.70542
          },
          "DH7 0DL": {
           "class": "models.MapDataLocation",
           "lat": 54.8264,
           "lng": -1.71245
          },
          "DH7 0DP": {
           "class": "models.MapDataLocation",
           "lat": 54.832,
           "lng": -1.70159
          },
          "DH7 0EA": {
           "class": "models.MapDataLocation",
           "lat": 54.8307,
           "lng": -1.70439
          },
          "DH7 0EQ": {
           "class": "models.MapDataLocation",
           "lat": 54.8328,
           "lng": -1.70149
          }
         },
         "prefix": null,
         "priority": 8,
         "reference": "PPC039545",
         "region": "BURNHOPE NORTH S/S",
         "resourceAllocationDelay": 0,
         "stageSequence": 5,
         "stageSequenceMessage": "",
         "startnumber": 0,
         "status": "The scheduled work has now been completed",
         "totalConfirmedOff": 58,
         "totalPredictedOff": 0,
         "totalResourceAssigned": 0,
         "totalResourceDispatched": 0,
         "totalResourceOnsite": 0,
         "totalRestored": 0,
         "totalSensitiveAffected": 7,
         "type": "LV"
        },
        "PPC039560": {
         "areacode": 23,
         "category": "We need to temporarily turn the power off to undertake vegetation management in the area.",
         "categoryWebText": "",
         "class": "models.MapDataPowercutIncno",
         "contact": "Mick Holmes",
         "customerStageSequence": 5,
         "elapsed": "0d 7:10",
         "estimatedTimeTillResolution": 1617973200000,
         "group": "RESTORATION",
         "hoursSinceLogged": 7,
         "latestStageSequenceHistory": 1617973215000,
         "latestStageSequenceStatus": 5,
         "location": "Bentley Farm Spur 51210",
         "logged": 1617955200000,
         "natureOfOutage": "Planned Work on System",
         "networkObject": "CADNEY ROAD 20665",
         "numberOfCalls": 0,
         "postcodes": {
          "DN20 8NA": {
           "class": "models.MapDataLocation",
           "lat": 53.549,
           "lng": -0.497721
          },
          "DN20 9EY": {
           "class": "models.MapDataLocation",
           "lat": 53.548,
           "lng": -0.480793
          },
          "DN20 9HW": {
           "class": "models.MapDataLocation",
           "lat": 53.5481,
           "lng": -0.490945
          }
         },
         "prefix": null,
         "priority": 8,
         "reference": "PPC039560",
         "region": "Bentley Farm Spur 51210",
         "resourceAllocationDelay": 0,
         "stageSequence": 5,
         "stageSequenceMessage": "",
         "startnumber": 0,
         "status": "The scheduled work has now been completed",
         "totalConfirmedOff": 7,
         "totalPredictedOff": 0,
         "totalResourceAssigned": 0,
         "totalResourceDispatched": 0,
         "totalResourceOnsite": 0,
         "totalRestored": 0,
         "totalSensitiveAffected": 1,
         "type": "LV"
        },
        "PPC039568": {
         "areacode": 23,
         "category": "We need to temporarily turn the power off to undertake vegetation management in the area.",
         "categoryWebText": "",
         "class": "models.MapDataPowercutIncno",
         "contact": "Ian Johnson",
         "customerStageSequence": 5,
         "elapsed": "0d 7:10",
         "estimatedTimeTillResolution": 1617978600000,
         "group": "RESTORATION",
         "hoursSinceLogged": 7,
         "latestStageSequenceHistory": 1617978610000,
         "latestStageSequenceStatus": 5,
         "location": "Raven Flat Tee 1489",
         "logged": 1617955200000,
         "natureOfOutage": "Planned Work on System",
         "networkObject": "BONBER 2251",
         "numberOfCalls": 0,
         "postcodes": {
          "BD23 4DT": {
           "class": "models.MapDataLocation",
           "lat": 54.0057,
           "lng": -2.15277
          },
          "BD23 4DU": {
           "class": "models.MapDataLocation",
           "lat": 54.002,
           "lng": -2.14596
          }
         },
         "prefix": null,
         "priority": 8,
         "reference": "PPC039568",
         "region": "Raven Flat Tee 1489",
         "resourceAllocationDelay": 0,
         "stageSequence": 5,
         "stageSequenceMessage": "",
         "startnumber": 0,
         "status": "The scheduled work has now been completed",
         "totalConfirmedOff": 28,
         "totalPredictedOff": 0,
         "totalResourceAssigned": 0,
         "totalResourceDispatched": 0,
         "totalResourceOnsite": 0,
         "totalRestored": 0,
         "totalSensitiveAffected": 3,
         "type": "LV"
        },
        "PPC039725": {
         "areacode": 15,
         "category": "We need to temporarily turn the power off to carry out replacement work on our overhead power lines in the area.",
         "categoryWebText": "",
         "class": "models.MapDataPowercutIncno",
         "contact": "Gary Cassidy",
         "customerStageSequence": 5,
         "elapsed": "0d 6:40",
         "estimatedTimeTillResolution": 1617971400000,
         "group": "RESTORATION",
         "hoursSinceLogged": 6,
         "latestStageSequenceHistory": 1617971410000,
         "latestStageSequenceStatus": 5,
         "location": "RYTON",
         "logged": 1617957000000,
         "natureOfOutage": "Planned Work on System",
         "networkObject": "THORPE SCHOOLS",
         "numberOfCalls": 0,
         "postcodes": {
          "NE40 3AA": {
           "class": "models.MapDataLocation",
           "lat": 54.9727,
           "lng": -1.77236
          },
          "NE40 3AJ": {
           "class": "models.MapDataLocation",
           "lat": 54.9727,
           "lng": -1.77118
          },
          "NE40 3AN": {
           "class": "models.MapDataLocation",
           "lat": 54.9736,
           "lng": -1.7705
          },
          "NE40 3AQ": {
           "class": "models.MapDataLocation",
           "lat": 54.9721,
           "lng": -1.77168
          },
          "NE40 3AR": {
           "class": "models.MapDataLocation",
           "lat": 54.9711,
           "lng": -1.77417
          },
          "NE40 3AT": {
           "class": "models.MapDataLocation",
           "lat": 54.9715,
           "lng": -1.77429
          },
          "NE40 3AW": {
           "class": "models.MapDataLocation",
           "lat": 54.9729,
           "lng": -1.77177
          },
          "NE40 3BT": {
           "class": "models.MapDataLocation",
           "lat": 54.9725,
           "lng": -1.76669
          }
         },
         "prefix": null,
         "priority": 8,
         "reference": "PPC039725",
         "region": "RYTON",
         "resourceAllocationDelay": 0,
         "stageSequence": 5,
         "stageSequenceMessage": "",
         "startnumber": 0,
         "status": "The scheduled work has now been completed",
         "totalConfirmedOff": 13,
         "totalPredictedOff": 0,
         "totalResourceAssigned": 0,
         "totalResourceDispatched": 0,
         "totalResourceOnsite": 0,
         "totalRestored": 0,
         "totalSensitiveAffected": 0,
         "type": "LV"
        },
        "PPC039749": {
         "areacode": 15,
         "category": "We need to temporarily turn the power off to connect a new customer in the area.",
         "categoryWebText": "",
         "class": "models.MapDataPowercutIncno",
         "contact": "Sarah Marsden",
         "customerStageSequence": 7,
         "elapsed": "0d 6:40",
         "estimatedTimeTillResolution": 1617971400000,
         "group": "RESTORATION",
         "hoursSinceLogged": 6,
         "latestStageSequenceHistory": 1617971410000,
         "latestStageSequenceStatus": 5,
         "location": "Hartside Farm SS",
         "logged": 1617957000000,
         "natureOfOutage": "Planned Work on System",
         "networkObject": "HARTSIDE FARM",
         "numberOfCalls": 0,
         "postcodes": {
          "DH1 5RD": {
           "class": "models.MapDataLocation",
           "lat": 54.8011,
           "lng": -1.61093
          },
          "DH1 5RH": {
           "class": "models.MapDataLocation",
           "lat": 54.8027,
           "lng": -1.61063
          },
          "DH1 5RQ": {
           "class": "models.MapDataLocation",
           "lat": 54.8021,
           "lng": -1.6124
          }
         },
         "prefix": null,
         "priority": 8,
         "reference": "PPC039749",
         "region": "Hartside Farm SS",
         "resourceAllocationDelay": 0,
         "stageSequence": 5,
         "stageSequenceMessage": "",
         "startnumber": 0,
         "status": "The scheduled work has now been completed",
         "totalConfirmedOff": 10,
         "totalPredictedOff": 0,
         "totalResourceAssigned": 0,
         "totalResourceDispatched": 0,
         "totalResourceOnsite": 0,
         "totalRestored": 0,
         "totalSensitiveAffected": 2,
         "type": "LV"
        },
        "PPC039763": {
         "areacode": 23,
         "category": "We need to temporarily turn the power off to carry out a permanent repair in the area.",
         "categoryWebText": "",
         "class": "models.MapDataPowercutIncno",
         "contact": "Christopher Best",
         "customerStageSequence": 7,
         "elapsed": "0d 6:10",
         "estimatedTimeTillResolution": 1617973200000,
         "group": "RESTORATION",
         "hoursSinceLogged": 6,
         "latestStageSequenceHistory": 1617973215000,
         "latestStageSequenceStatus": 5,
         "location": "Royds Enterprise Park BD6 3EW",
         "logged": 1617958800000,
         "natureOfOutage": "Planned Work on System",
         "networkObject": "ROYDS ENTERPRISE PARK 45996",
         "numberOfCalls": 0,
         "postcodes": {
          "BD6 2PZ": {
           "class": "models.MapDataLocation",
           "lat": 53.756,
           "lng": -1.78804
          },
          "BD6 2QG": {
           "class": "models.MapDataLocation",
           "lat": 53.7571,
           "lng": -1.78951
          },
          "BD6 2QL": {
           "class": "models.MapDataLocation",
           "lat": 53.7571,
           "lng": -1.79096
          },
          "BD6 2RE": {
           "class": "models.MapDataLocation",
           "lat": 53.7564,
           "lng": -1.79759
          },
          "BD6 2RH": {
           "class": "models.MapDataLocation",
           "lat": 53.7563,
           "lng": -1.79824
          },
          "BD6 2RL": {
           "class": "models.MapDataLocation",
           "lat": 53.7563,
           "lng": -1.79824
          },
          "BD6 2SB": {
           "class": "models.MapDataLocation",
           "lat": 53.7549,
           "lng": -1.7892
          },
          "BD6 3EW": {
           "class": "models.MapDataLocation",
           "lat": 53.7687,
           "lng": -1.80334
          }
         },
         "prefix": null,
         "priority": 8,
         "reference": "PPC039763",
         "region": "Royds Enterprise Park BD6 3EW",
         "resourceAllocationDelay": 0,
         "stageSequence": 5,
         "stageSequenceMessage": "",
         "startnumber": 0,
         "status": "The scheduled work has now been completed",
         "totalConfirmedOff": 2,
         "totalPredictedOff": 0,
         "totalResourceAssigned": 0,
         "totalResourceDispatched": 0,
         "totalResourceOnsite": 0,
         "totalRestored": 0,
         "totalSensitiveAffected": 0,
         "type": "LV"
        },
        "PPC039771": {
         "areacode": 15,
         "category": "We need to temporarily turn the power off to connect a new customer in the area.",
         "categoryWebText": "",
         "class": "models.MapDataPowercutIncno",
         "contact": "Andy Paley-Strange",
         "customerStageSequence": 7,
         "elapsed": "0d 7:10",
         "estimatedTimeTillResolution": 1617976800000,
         "group": "RESTORATION",
         "hoursSinceLogged": 7,
         "latestStageSequenceHistory": 1617976810000,
         "latestStageSequenceStatus": 5,
         "location": "Shawfield Head s/s, LV network",
         "logged": 1617955200000,
         "natureOfOutage": "Planned Work on System",
         "networkObject": "SHAWFIELD HEAD",
         "numberOfCalls": 0,
         "postcodes": {
          "HG3 1QU": {
           "class": "models.MapDataLocation",
           "lat": 53.9623,
           "lng": -1.60567
          }
         },
         "prefix": null,
         "priority": 8,
         "reference": "PPC039771",
         "region": "Shawfield Head s/s, LV network",
         "resourceAllocationDelay": 0,
         "stageSequence": 5,
         "stageSequenceMessage": "",
         "startnumber": 0,
         "status": "The scheduled work has now been completed",
         "totalConfirmedOff": 8,
         "totalPredictedOff": 0,
         "totalResourceAssigned": 0,
         "totalResourceDispatched": 0,
         "totalResourceOnsite": 0,
         "totalRestored": 0,
         "totalSensitiveAffected": 1,
         "type": "LV"
        },
        "PPC039814": {
         "areacode": 23,
         "category": "We need to temporarily turn the power off to carry out a permanent repair in the area.",
         "categoryWebText": "",
         "class": "models.MapDataPowercutIncno",
         "contact": "Alister Seymour",
         "customerStageSequence": 5,
         "elapsed": "0d 6:10",
         "estimatedTimeTillResolution": 1617973200000,
         "group": "RESTORATION",
         "hoursSinceLogged": 6,
         "latestStageSequenceHistory": 1617973215000,
         "latestStageSequenceStatus": 5,
         "location": "Part of Way 3 fed from Knottingley Wells 5826 s/s",
         "logged": 1617958800000,
         "natureOfOutage": "Planned Work on System",
         "networkObject": "KNOTTINGLEY WELLS 5826",
         "numberOfCalls": 0,
         "postcodes": {
          "WF17 5AY": {
           "class": "models.MapDataLocation",
           "lat": 53.709,
           "lng": -1.63158
          },
          "WF17 5PT": {
           "class": "models.MapDataLocation",
           "lat": 53.7093,
           "lng": -1.62903
          },
          "WF17 5PU": {
           "class": "models.MapDataLocation",
           "lat": 53.7093,
           "lng": -1.62802
          },
          "WF17 5QA": {
           "class": "models.MapDataLocation",
           "lat": 53.7084,
           "lng": -1.62747
          },
          "WF17 6HY": {
           "class": "models.MapDataLocation",
           "lat": 53.7079,
           "lng": -1.62697
          }
         },
         "prefix": null,
         "priority": 8,
         "reference": "PPC039814",
         "region": "Part of Way 3 fed from Knottingley Wells 5826 s/s",
         "resourceAllocationDelay": 0,
         "stageSequence": 5,
         "stageSequenceMessage": "",
         "startnumber": 0,
         "status": "The scheduled work has now been completed",
         "totalConfirmedOff": 7,
         "totalPredictedOff": 0,
         "totalResourceAssigned": 0,
         "totalResourceDispatched": 0,
         "totalResourceOnsite": 0,
         "totalRestored": 0,
         "totalSensitiveAffected": 1,
         "type": "LV"
        },
        "PPC039816": {
         "areacode": 23,
         "category": "We need to temporarily turn the power off to carry out a permanent repair in the area.",
         "categoryWebText": "",
         "class": "models.MapDataPowercutIncno",
         "contact": "Steve Longfellow",
         "customerStageSequence": 5,
         "elapsed": "0d 5:10",
         "estimatedTimeTillResolution": 1617976800000,
         "group": "RESTORATION",
         "hoursSinceLogged": 5,
         "latestStageSequenceHistory": 1617976810000,
         "latestStageSequenceStatus": 5,
         "location": "4034 Hedley Chase LV\r\n\r\nCCt 1 Hedley Gardens",
         "logged": 1617962400000,
         "natureOfOutage": "Planned Work on System",
         "networkObject": "HEDLEY CHASE LV 4034",
         "numberOfCalls": 0,
         "postcodes": {
          "LS12 1YL": {
           "class": "models.MapDataLocation",
           "lat": 53.7956,
           "lng": -1.57288
          },
          "LS12 1YN": {
           "class": "models.MapDataLocation",
           "lat": 53.7961,
           "lng": -1.57252
          },
          "LS12 2UB": {
           "class": "models.MapDataLocation",
           "lat": 53.7955,
           "lng": -1.57297
          }
         },
         "prefix": null,
         "priority": 8,
         "reference": "PPC039816",
         "region": "4034 Hedley Chase LV\r\n\r\nCCt 1 Hedley Gardens",
         "resourceAllocationDelay": 0,
         "stageSequence": 5,
         "stageSequenceMessage": "",
         "startnumber": 0,
         "status": "The scheduled work has now been completed",
         "totalConfirmedOff": 24,
         "totalPredictedOff": 0,
         "totalResourceAssigned": 0,
         "totalResourceDispatched": 0,
         "totalResourceOnsite": 0,
         "totalRestored": 0,
         "totalSensitiveAffected": 5,
         "type": "LV"
        },
        "PPC039818": {
         "areacode": 23,
         "category": "We need to temporarily turn the power off to carry out a permanent repair in the area.",
         "categoryWebText": "",
         "class": "models.MapDataPowercutIncno",
         "contact": "Greg Daykin",
         "customerStageSequence": 5,
         "elapsed": "0d 6:10",
         "estimatedTimeTillResolution": 1617973200000,
         "group": "RESTORATION",
         "hoursSinceLogged": 6,
         "latestStageSequenceHistory": 1617973215000,
         "latestStageSequenceStatus": 5,
         "location": " Bell Bank View, W2",
         "logged": 1617958800000,
         "natureOfOutage": "Planned Work on System",
         "networkObject": "BELL BANK VIEW 857",
         "numberOfCalls": 0,
         "postcodes": {
          "BD16 2RD": {
           "class": "models.MapDataLocation",
           "lat": 53.8519,
           "lng": -1.84021
          },
          "BD16 2RH": {
           "class": "models.MapDataLocation",
           "lat": 53.8516,
           "lng": -1.8417
          },
          "BD16 2RJ": {
           "class": "models.MapDataLocation",
           "lat": 53.8523,
           "lng": -1.84246
          },
          "BD16 2RL": {
           "class": "models.MapDataLocation",
           "lat": 53.852,
           "lng": -1.84306
          }
         },
         "prefix": null,
         "priority": 8,
         "reference": "PPC039818",
         "region": " Bell Bank View, W2",
         "resourceAllocationDelay": 0,
         "stageSequence": 5,
         "stageSequenceMessage": "",
         "startnumber": 0,
         "status": "The scheduled work has now been completed",
         "totalConfirmedOff": 9,
         "totalPredictedOff": 0,
         "totalResourceAssigned": 0,
         "totalResourceDispatched": 0,
         "totalResourceOnsite": 0,
         "totalRestored": 0,
         "totalSensitiveAffected": 2,
         "type": "LV"
        },
        "PPC039821": {
         "areacode": 23,
         "category": "We need to temporarily turn the power off to carry out a permanent repair in the area.",
         "categoryWebText": "",
         "class": "models.MapDataPowercutIncno",
         "contact": "Paul Carbert",
         "customerStageSequence": 5,
         "elapsed": "0d 6:40",
         "estimatedTimeTillResolution": 1617973200000,
         "group": "RESTORATION",
         "hoursSinceLogged": 6,
         "latestStageSequenceHistory": 1617973215000,
         "latestStageSequenceStatus": 5,
         "location": "OUSEGATE SEWAGE WORKS WAY 4",
         "logged": 1617957000000,
         "natureOfOutage": "Planned Work on System",
         "networkObject": "OUSEGATE SEWAGE WORKS 779",
         "numberOfCalls": 0,
         "postcodes": {
          "YO8 8BJ": {
           "class": "models.MapDataLocation",
           "lat": 53.7823,
           "lng": -1.06122
          },
          "YO8 8BL": {
           "class": "models.MapDataLocation",
           "lat": 53.7829,
           "lng": -1.06028
          },
          "YO8 8BN": {
           "class": "models.MapDataLocation",
           "lat": 53.7821,
           "lng": -1.05951
          },
          "YO8 8BW": {
           "class": "models.MapDataLocation",
           "lat": 53.7822,
           "lng": -1.05721
          }
         },
         "prefix": null,
         "priority": 8,
         "reference": "PPC039821",
         "region": "OUSEGATE SEWAGE WORKS WAY 4",
         "resourceAllocationDelay": 0,
         "stageSequence": 5,
         "stageSequenceMessage": "",
         "startnumber": 0,
         "status": "The scheduled work has now been completed",
         "totalConfirmedOff": 35,
         "totalPredictedOff": 0,
         "totalResourceAssigned": 0,
         "totalResourceDispatched": 0,
         "totalResourceOnsite": 0,
         "totalRestored": 0,
         "totalSensitiveAffected": 3,
         "type": "LV"
        },
        "PPC039826": {
         "areacode": 23,
         "category": "We need to temporarily turn the power off to carry out power upgrades in the area.",
         "categoryWebText": "",
         "class": "models.MapDataPowercutIncno",
         "contact": "Haz Mistry",
         "customerStageSequence": 0,
         "elapsed": "0d 0:49",
         "estimatedTimeTillResolution": 1618164000000,
         "group": "RESTORATION",
         "hoursSinceLogged": 0,
         "latestStageSequenceHistory": 1617922809000,
         "latestStageSequenceStatus": 0,
         "location": "Spring Grove Mills substation (Phoenix Textiles HD8 9HH)",
         "logged": 1617984000000,
         "natureOfOutage": "Planned Work on System",
         "networkObject": "SPRING GROVE MILLS 2920",
         "numberOfCalls": 0,
         "postcodes": {
          "HD8 9HH": {
           "class": "models.MapDataLocation",
           "lat": 53.5916,
           "lng": -1.61966
          }
         },
         "prefix": null,
         "priority": 8,
         "reference": "PPC039826",
         "region": "Spring Grove Mills substation (Phoenix Textiles HD8 9HH)",
         "resourceAllocationDelay": 0,
         "stageSequence": 0,
         "stageSequenceMessage": "",
         "startnumber": 0,
         "status": "Work is scheduled to start",
         "totalConfirmedOff": 2,
         "totalPredictedOff": 0,
         "totalResourceAssigned": 0,
         "totalResourceDispatched": 0,
         "totalResourceOnsite": 0,
         "totalRestored": 0,
         "totalSensitiveAffected": 0,
         "type": "LV"
        }
       }
      },
      "text/plain": [
       "<IPython.core.display.JSON object>"
      ]
     },
     "execution_count": 85,
     "metadata": {
      "application/json": {
       "expanded": false,
       "root": "root"
      }
     },
     "output_type": "execute_result"
    }
   ],
   "source": [
    "raw_incidents_info = get_np_raw_incidents_info(r)\n",
    "\n",
    "JSON(raw_incidents_info)"
   ]
  },
  {
   "cell_type": "code",
   "execution_count": null,
   "id": "wireless-democracy",
   "metadata": {},
   "outputs": [],
   "source": []
  },
  {
   "cell_type": "code",
   "execution_count": 106,
   "id": "numerical-furniture",
   "metadata": {},
   "outputs": [],
   "source": [
    "#exports\n",
    "def clean_np_incident_info(incident_info):\n",
    "    def clean_dt(dt):\n",
    "        if dt is None:\n",
    "            return ''\n",
    "        else:\n",
    "            return pd.to_datetime(incident_info['logged'], unit='ms').strftime('%Y-%m-%d %H:%M')\n",
    "        \n",
    "    cleaned_incident_info = dict()\n",
    "\n",
    "    cleaned_incident_info['received_time'] = clean_dt(incident_info['logged'])\n",
    "    cleaned_incident_info['estimated_restored_time'] = clean_dt(incident_info['estimatedTimeTillResolution'])\n",
    "    cleaned_incident_info['postcodes_impacted'] = incident_info['postcodes']\n",
    "    cleaned_incident_info['description'] = f\"{incident_info['category']} {incident_info['status']}\"\n",
    "    cleaned_incident_info['incident_active'] = (incident_info['totalConfirmedOff'] + incident_info['totalPredictedOff']) > 0\n",
    "    cleaned_incident_info['incident_url'] = 'https://www.northernpowergrid.com/power-cuts'\n",
    "    \n",
    "    return cleaned_incident_info"
   ]
  },
  {
   "cell_type": "code",
   "execution_count": 107,
   "id": "criminal-vermont",
   "metadata": {},
   "outputs": [
    {
     "data": {
      "application/json": {
       "description": "We need to temporarily turn the power off to carry out a permanent repair in the area. The scheduled work has now been completed",
       "estimated_restored_time": "2021-04-09 09:00",
       "incident_active": true,
       "incident_url": "https://www.northernpowergrid.com/power-cuts",
       "postcodes_impacted": {
        "WF17 5AY": {
         "class": "models.MapDataLocation",
         "lat": 53.709,
         "lng": -1.63158
        },
        "WF17 5PT": {
         "class": "models.MapDataLocation",
         "lat": 53.7093,
         "lng": -1.62903
        },
        "WF17 5PU": {
         "class": "models.MapDataLocation",
         "lat": 53.7093,
         "lng": -1.62802
        },
        "WF17 5QA": {
         "class": "models.MapDataLocation",
         "lat": 53.7084,
         "lng": -1.62747
        },
        "WF17 6HY": {
         "class": "models.MapDataLocation",
         "lat": 53.7079,
         "lng": -1.62697
        }
       },
       "received_time": "2021-04-09 09:00"
      },
      "text/plain": [
       "<IPython.core.display.JSON object>"
      ]
     },
     "execution_count": 107,
     "metadata": {
      "application/json": {
       "expanded": false,
       "root": "root"
      }
     },
     "output_type": "execute_result"
    }
   ],
   "source": [
    "incident_info = raw_incidents_info['powercuts']['PPC039814']\n",
    "\n",
    "cleaned_incident_info = clean_np_incident_info(incident_info)\n",
    "\n",
    "JSON(cleaned_incident_info)"
   ]
  },
  {
   "cell_type": "code",
   "execution_count": null,
   "id": "supported-cannon",
   "metadata": {},
   "outputs": [],
   "source": []
  },
  {
   "cell_type": "code",
   "execution_count": 108,
   "id": "infinite-majority",
   "metadata": {},
   "outputs": [],
   "source": [
    "#exports\n",
    "def get_np_incidents_info(\n",
    "    np_main_url='https://www.northernpowergrid.com/power-cuts', \n",
    "    np_incidents_url='https://www.northernpowergrid.com/powercutsgetallbyincno'\n",
    "):\n",
    "    cleaned_incidents_info = dict()\n",
    "    \n",
    "    r = get_np_r(np_main_url, np_incidents_url)\n",
    "    raw_incidents_info = get_np_raw_incidents_info(r)\n",
    "\n",
    "    for incident_id, incident_info in raw_incidents_info['powercuts'].items():\n",
    "        cleaned_incidents_info[incident_id] = clean_np_incident_info(incident_info)\n",
    "        \n",
    "    return raw_incidents_info, cleaned_incidents_info"
   ]
  },
  {
   "cell_type": "code",
   "execution_count": 109,
   "id": "endangered-organ",
   "metadata": {},
   "outputs": [
    {
     "data": {
      "application/json": [
       {
        "INCD-15045-B": {
         "description": "U/G LV Mains Repair (Other) In Progress",
         "estimated_restored_time": "2021-04-09 08:46",
         "incident_active": true,
         "incident_url": "https://www.northernpowergrid.com/power-cuts",
         "postcodes_impacted": {
          "LS11 5SB": {
           "class": "models.MapDataLocation",
           "lat": 53.7662,
           "lng": -1.55323
          },
          "LS11 5SE": {
           "class": "models.MapDataLocation",
           "lat": 53.7634,
           "lng": -1.55113
          },
          "LS11 5SS": {
           "class": "models.MapDataLocation",
           "lat": 53.7647,
           "lng": -1.54896
          },
          "LS11 5UH": {
           "class": "models.MapDataLocation",
           "lat": 53.7637,
           "lng": -1.55257
          },
          "LS11 5XA": {
           "class": "models.MapDataLocation",
           "lat": 53.7638,
           "lng": -1.55063
          }
         },
         "received_time": "2021-04-09 08:46"
        },
        "INCD-15063-B": {
         "description": "Unknown P2 Awaiting",
         "estimated_restored_time": "2021-04-09 14:57",
         "incident_active": true,
         "incident_url": "https://www.northernpowergrid.com/power-cuts",
         "postcodes_impacted": {
          "S66 8RY": {
           "class": "models.MapDataLocation",
           "lat": 53.4262,
           "lng": -1.24574
          }
         },
         "received_time": "2021-04-09 14:57"
        },
        "INCD-167229-A": {
         "description": "Damaged EHV U/G In Progress",
         "estimated_restored_time": "",
         "incident_active": true,
         "incident_url": "https://www.northernpowergrid.com/power-cuts",
         "postcodes_impacted": {
          "LS15 8AB": {
           "class": "models.MapDataLocation",
           "lat": 53.8048,
           "lng": -1.41077
          },
          "LS15 8AD": {
           "class": "models.MapDataLocation",
           "lat": 53.804,
           "lng": -1.42138
          },
          "LS15 8AE": {
           "class": "models.MapDataLocation",
           "lat": 53.8056,
           "lng": -1.42527
          },
          "LS15 8AJ": {
           "class": "models.MapDataLocation",
           "lat": 53.8073,
           "lng": -1.43811
          },
          "LS25 1AS": {
           "class": "models.MapDataLocation",
           "lat": 53.7946,
           "lng": -1.40015
          },
          "LS25 1NF": {
           "class": "models.MapDataLocation",
           "lat": 53.7973,
           "lng": -1.40888
          },
          "LS25 1NG": {
           "class": "models.MapDataLocation",
           "lat": 53.7984,
           "lng": -1.39455
          },
          "LS25 2DQ": {
           "class": "models.MapDataLocation",
           "lat": 53.7997,
           "lng": -1.39461
          }
         },
         "received_time": "2021-03-29 16:46"
        },
        "INCD-168423-A": {
         "description": "U/G HV Mains Repair In Progress",
         "estimated_restored_time": "2021-04-02 20:36",
         "incident_active": true,
         "incident_url": "https://www.northernpowergrid.com/power-cuts",
         "postcodes_impacted": {
          "WF2 7BJ": {
           "class": "models.MapDataLocation",
           "lat": 53.6585,
           "lng": -1.51622
          },
          "WF6 1GX": {
           "class": "models.MapDataLocation",
           "lat": 53.6994,
           "lng": -1.38311
          },
          "WF6 1RS": {
           "class": "models.MapDataLocation",
           "lat": 53.7012,
           "lng": -1.38869
          },
          "WF6 1RT": {
           "class": "models.MapDataLocation",
           "lat": 53.7022,
           "lng": -1.38721
          },
          "WF6 1RU": {
           "class": "models.MapDataLocation",
           "lat": 53.7022,
           "lng": -1.3864
          },
          "WF6 1RW": {
           "class": "models.MapDataLocation",
           "lat": 53.7024,
           "lng": -1.39706
          },
          "WF6 1TL": {
           "class": "models.MapDataLocation",
           "lat": 53.7061,
           "lng": -1.39506
          },
          "WF6 1TN": {
           "class": "models.MapDataLocation",
           "lat": 53.7059,
           "lng": -1.3885
          },
          "WF6 1TW": {
           "class": "models.MapDataLocation",
           "lat": 53.7042,
           "lng": -1.39351
          },
          "WF7 6AJ": {
           "class": "models.MapDataLocation",
           "lat": 53.6903,
           "lng": -1.35564
          },
          "WF7 6BL": {
           "class": "models.MapDataLocation",
           "lat": 53.6937,
           "lng": -1.35628
          },
          "WF7 6HD": {
           "class": "models.MapDataLocation",
           "lat": 53.6843,
           "lng": -1.38835
          },
          "WF7 6HE": {
           "class": "models.MapDataLocation",
           "lat": 53.6839,
           "lng": -1.38273
          },
          "WF7 6HF": {
           "class": "models.MapDataLocation",
           "lat": 53.6847,
           "lng": -1.37642
          },
          "WF7 6HG": {
           "class": "models.MapDataLocation",
           "lat": 53.6896,
           "lng": -1.37771
          },
          "WF7 6HH": {
           "class": "models.MapDataLocation",
           "lat": 53.6909,
           "lng": -1.3758
          },
          "WF7 6HJ": {
           "class": "models.MapDataLocation",
           "lat": 53.6899,
           "lng": -1.37742
          },
          "WF7 6HL": {
           "class": "models.MapDataLocation",
           "lat": 53.6909,
           "lng": -1.37715
          },
          "WF7 6HN": {
           "class": "models.MapDataLocation",
           "lat": 53.6915,
           "lng": -1.37688
          },
          "WF7 6HP": {
           "class": "models.MapDataLocation",
           "lat": 53.6921,
           "lng": -1.37778
          },
          "WF7 6HQ": {
           "class": "models.MapDataLocation",
           "lat": 53.6899,
           "lng": -1.37621
          },
          "WF7 6HR": {
           "class": "models.MapDataLocation",
           "lat": 53.6926,
           "lng": -1.3775
          },
          "WF7 6HS": {
           "class": "models.MapDataLocation",
           "lat": 53.6929,
           "lng": -1.37595
          },
          "WF7 6HT": {
           "class": "models.MapDataLocation",
           "lat": 53.6936,
           "lng": -1.37341
          },
          "WF7 6HW": {
           "class": "models.MapDataLocation",
           "lat": 53.6905,
           "lng": -1.3779
          },
          "WF7 6JA": {
           "class": "models.MapDataLocation",
           "lat": 53.693,
           "lng": -1.37306
          },
          "WF7 6JB": {
           "class": "models.MapDataLocation",
           "lat": 53.6928,
           "lng": -1.37539
          },
          "WF7 6JD": {
           "class": "models.MapDataLocation",
           "lat": 53.693,
           "lng": -1.37465
          },
          "WF7 6JG": {
           "class": "models.MapDataLocation",
           "lat": 53.6821,
           "lng": -1.35676
          }
         },
         "received_time": "2021-04-02 20:36"
        },
        "INCD-168880-A": {
         "description": "Unknown P1 Awaiting",
         "estimated_restored_time": "",
         "incident_active": true,
         "incident_url": "https://www.northernpowergrid.com/power-cuts",
         "postcodes_impacted": {
          "YO32 2NB": {
           "class": "models.MapDataLocation",
           "lat": 54.0133,
           "lng": -1.06187
          }
         },
         "received_time": "2021-04-05 14:08"
        },
        "INCD-169997-A": {
         "description": "Safety Interruption In Progress",
         "estimated_restored_time": "2021-04-08 18:32",
         "incident_active": true,
         "incident_url": "https://www.northernpowergrid.com/power-cuts",
         "postcodes_impacted": {
          "YO16 4TD": {
           "class": "models.MapDataLocation",
           "lat": 54.0817,
           "lng": -0.216055
          }
         },
         "received_time": "2021-04-08 18:32"
        },
        "INCD-170023-A": {
         "description": "Safety Interruption In Progress",
         "estimated_restored_time": "2021-04-08 20:38",
         "incident_active": true,
         "incident_url": "https://www.northernpowergrid.com/power-cuts",
         "postcodes_impacted": {
          "YO32 9LH": {
           "class": "models.MapDataLocation",
           "lat": 53.9903,
           "lng": -1.05923
          },
          "YO32 9NH": {
           "class": "models.MapDataLocation",
           "lat": 53.989,
           "lng": -1.05946
          },
          "YO32 9NL": {
           "class": "models.MapDataLocation",
           "lat": 53.9901,
           "lng": -1.05982
          },
          "YO32 9NN": {
           "class": "models.MapDataLocation",
           "lat": 53.9914,
           "lng": -1.05934
          },
          "YO32 9NP": {
           "class": "models.MapDataLocation",
           "lat": 53.9917,
           "lng": -1.0556
          },
          "YO32 9NR": {
           "class": "models.MapDataLocation",
           "lat": 53.9926,
           "lng": -1.05842
          },
          "YO32 9NW": {
           "class": "models.MapDataLocation",
           "lat": 53.992,
           "lng": -1.05883
          },
          "YO32 9PJ": {
           "class": "models.MapDataLocation",
           "lat": 53.9904,
           "lng": -1.06106
          },
          "YO32 9PL": {
           "class": "models.MapDataLocation",
           "lat": 53.9913,
           "lng": -1.06084
          },
          "YO32 9PN": {
           "class": "models.MapDataLocation",
           "lat": 53.9909,
           "lng": -1.06009
          }
         },
         "received_time": "2021-04-08 20:38"
        },
        "INCD-170047-A": {
         "description": "O/H HV Mains Repair In Progress",
         "estimated_restored_time": "2021-04-09 03:37",
         "incident_active": true,
         "incident_url": "https://www.northernpowergrid.com/power-cuts",
         "postcodes_impacted": {
          "YO11 3UA": {
           "class": "models.MapDataLocation",
           "lat": 54.2035,
           "lng": -0.406329
          },
          "YO11 3UB": {
           "class": "models.MapDataLocation",
           "lat": 54.2018,
           "lng": -0.406698
          },
          "YO11 3UD": {
           "class": "models.MapDataLocation",
           "lat": 54.2006,
           "lng": -0.420605
          },
          "YO11 3UE": {
           "class": "models.MapDataLocation",
           "lat": 54.2011,
           "lng": -0.402692
          },
          "YO11 3UF": {
           "class": "models.MapDataLocation",
           "lat": 54.201,
           "lng": -0.399602
          },
          "YO11 3UG": {
           "class": "models.MapDataLocation",
           "lat": 54.2001,
           "lng": -0.391818
          },
          "YO11 3UH": {
           "class": "models.MapDataLocation",
           "lat": 54.2024,
           "lng": -0.38386
          },
          "YO11 3UQ": {
           "class": "models.MapDataLocation",
           "lat": 54.2008,
           "lng": -0.377073
          },
          "YO12 4BY": {
           "class": "models.MapDataLocation",
           "lat": 54.1971,
           "lng": -0.443439
          },
          "YO12 4NH": {
           "class": "models.MapDataLocation",
           "lat": 54.2127,
           "lng": -0.435556
          },
          "YO12 4NN": {
           "class": "models.MapDataLocation",
           "lat": 54.2061,
           "lng": -0.433135
          },
          "YO12 4NP": {
           "class": "models.MapDataLocation",
           "lat": 54.1897,
           "lng": -0.480871
          },
          "YO12 4NR": {
           "class": "models.MapDataLocation",
           "lat": 54.1848,
           "lng": -0.486075
          },
          "YO12 4NS": {
           "class": "models.MapDataLocation",
           "lat": 54.1839,
           "lng": -0.486708
          },
          "YO12 4NT": {
           "class": "models.MapDataLocation",
           "lat": 54.1812,
           "lng": -0.480952
          },
          "YO12 4NU": {
           "class": "models.MapDataLocation",
           "lat": 54.187,
           "lng": -0.488173
          },
          "YO12 4NW": {
           "class": "models.MapDataLocation",
           "lat": 54.2012,
           "lng": -0.432434
          },
          "YO12 4NX": {
           "class": "models.MapDataLocation",
           "lat": 54.186,
           "lng": -0.488623
          },
          "YO12 4PA": {
           "class": "models.MapDataLocation",
           "lat": 54.1905,
           "lng": -0.495156
          },
          "YO12 4PB": {
           "class": "models.MapDataLocation",
           "lat": 54.1907,
           "lng": -0.494229
          },
          "YO12 4PD": {
           "class": "models.MapDataLocation",
           "lat": 54.1991,
           "lng": -0.502096
          },
          "YO12 4PE": {
           "class": "models.MapDataLocation",
           "lat": 54.1789,
           "lng": -0.500727
          },
          "YO12 4PF": {
           "class": "models.MapDataLocation",
           "lat": 54.1783,
           "lng": -0.516623
          },
          "YO12 4PG": {
           "class": "models.MapDataLocation",
           "lat": 54.1699,
           "lng": -0.474657
          },
          "YO12 4PH": {
           "class": "models.MapDataLocation",
           "lat": 54.1665,
           "lng": -0.499105
          },
          "YO12 4QD": {
           "class": "models.MapDataLocation",
           "lat": 54.2372,
           "lng": -0.44402
          },
          "YO12 4RX": {
           "class": "models.MapDataLocation",
           "lat": 54.1972,
           "lng": -0.445413
          },
          "YO12 4RY": {
           "class": "models.MapDataLocation",
           "lat": 54.198,
           "lng": -0.442638
          },
          "YO12 4RZ": {
           "class": "models.MapDataLocation",
           "lat": 54.1983,
           "lng": -0.440897
          },
          "YO12 4SA": {
           "class": "models.MapDataLocation",
           "lat": 54.1993,
           "lng": -0.437595
          },
          "YO12 4SB": {
           "class": "models.MapDataLocation",
           "lat": 54.1978,
           "lng": -0.440041
          },
          "YO12 4SD": {
           "class": "models.MapDataLocation",
           "lat": 54.1978,
           "lng": -0.443505
          },
          "YO12 4SE": {
           "class": "models.MapDataLocation",
           "lat": 54.1976,
           "lng": -0.444187
          },
          "YO12 4SF": {
           "class": "models.MapDataLocation",
           "lat": 54.1979,
           "lng": -0.448559
          },
          "YO12 4SG": {
           "class": "models.MapDataLocation",
           "lat": 54.1986,
           "lng": -0.450882
          },
          "YO12 4SH": {
           "class": "models.MapDataLocation",
           "lat": 54.1982,
           "lng": -0.455142
          },
          "YO12 4SL": {
           "class": "models.MapDataLocation",
           "lat": 54.1954,
           "lng": -0.45621
          },
          "YO12 4SN": {
           "class": "models.MapDataLocation",
           "lat": 54.1953,
           "lng": -0.456934
          },
          "YO12 4SP": {
           "class": "models.MapDataLocation",
           "lat": 54.1973,
           "lng": -0.476024
          },
          "YO12 4SQ": {
           "class": "models.MapDataLocation",
           "lat": 54.1977,
           "lng": -0.45188
          },
          "YO12 4SR": {
           "class": "models.MapDataLocation",
           "lat": 54.1986,
           "lng": -0.449287
          },
          "YO12 4SS": {
           "class": "models.MapDataLocation",
           "lat": 54.1982,
           "lng": -0.446112
          },
          "YO12 4ST": {
           "class": "models.MapDataLocation",
           "lat": 54.198,
           "lng": -0.445199
          },
          "YO12 4SU": {
           "class": "models.MapDataLocation",
           "lat": 54.1986,
           "lng": -0.44435
          },
          "YO12 4SW": {
           "class": "models.MapDataLocation",
           "lat": 54.1933,
           "lng": -0.474269
          },
          "YO12 4SX": {
           "class": "models.MapDataLocation",
           "lat": 54.1982,
           "lng": -0.440089
          },
          "YO12 4SY": {
           "class": "models.MapDataLocation",
           "lat": 54.1984,
           "lng": -0.440265
          },
          "YO12 4SZ": {
           "class": "models.MapDataLocation",
           "lat": 54.1975,
           "lng": -0.446077
          },
          "YO12 4TA": {
           "class": "models.MapDataLocation",
           "lat": 54.1973,
           "lng": -0.443662
          },
          "YO12 4TB": {
           "class": "models.MapDataLocation",
           "lat": 54.1981,
           "lng": -0.442637
          },
          "YO12 4TD": {
           "class": "models.MapDataLocation",
           "lat": 54.1832,
           "lng": -0.453723
          },
          "YO12 6LP": {
           "class": "models.MapDataLocation",
           "lat": 54.2891,
           "lng": -0.421444
          },
          "YO14 0EQ": {
           "class": "models.MapDataLocation",
           "lat": 54.2151,
           "lng": -0.313477
          },
          "YO14 0EU": {
           "class": "models.MapDataLocation",
           "lat": 54.1979,
           "lng": -0.321615
          },
          "YO14 0HJ": {
           "class": "models.MapDataLocation",
           "lat": 54.198,
           "lng": -0.295626
          },
          "YO14 0HX": {
           "class": "models.MapDataLocation",
           "lat": 54.2032,
           "lng": -0.346314
          },
          "YO14 0HY": {
           "class": "models.MapDataLocation",
           "lat": 54.2012,
           "lng": -0.354288
          },
          "YO14 0LE": {
           "class": "models.MapDataLocation",
           "lat": 54.1901,
           "lng": -0.350714
          },
          "YO14 9PD": {
           "class": "models.MapDataLocation",
           "lat": 54.2147,
           "lng": -0.34113
          },
          "YO17 8EP": {
           "class": "models.MapDataLocation",
           "lat": 54.152,
           "lng": -0.518956
          },
          "YO17 8EW": {
           "class": "models.MapDataLocation",
           "lat": 54.1781,
           "lng": -0.550094
          },
          "YO17 8HF": {
           "class": "models.MapDataLocation",
           "lat": 54.1297,
           "lng": -0.48608
          },
          "YO17 8PA": {
           "class": "models.MapDataLocation",
           "lat": 54.1828,
           "lng": -0.533196
          },
          "YO17 8PE": {
           "class": "models.MapDataLocation",
           "lat": 54.1852,
           "lng": -0.533645
          },
          "YO17 8PF": {
           "class": "models.MapDataLocation",
           "lat": 54.1805,
           "lng": -0.530396
          },
          "YO17 8PG": {
           "class": "models.MapDataLocation",
           "lat": 54.179,
           "lng": -0.532655
          },
          "YO17 8PH": {
           "class": "models.MapDataLocation",
           "lat": 54.1817,
           "lng": -0.531485
          },
          "YO17 8PJ": {
           "class": "models.MapDataLocation",
           "lat": 54.1811,
           "lng": -0.530495
          },
          "YO17 8PL": {
           "class": "models.MapDataLocation",
           "lat": 54.1821,
           "lng": -0.532178
          },
          "YO17 8PN": {
           "class": "models.MapDataLocation",
           "lat": 54.1809,
           "lng": -0.533385
          },
          "YO17 8PP": {
           "class": "models.MapDataLocation",
           "lat": 54.1835,
           "lng": -0.532159
          },
          "YO17 8PR": {
           "class": "models.MapDataLocation",
           "lat": 54.1853,
           "lng": -0.532553
          },
          "YO17 8PS": {
           "class": "models.MapDataLocation",
           "lat": 54.1909,
           "lng": -0.535254
          },
          "YO17 8PT": {
           "class": "models.MapDataLocation",
           "lat": 54.1772,
           "lng": -0.53405
          },
          "YO17 8PU": {
           "class": "models.MapDataLocation",
           "lat": 54.1816,
           "lng": -0.530081
          },
          "YO17 8PW": {
           "class": "models.MapDataLocation",
           "lat": 54.1835,
           "lng": -0.532665
          },
          "YO17 8PX": {
           "class": "models.MapDataLocation",
           "lat": 54.1783,
           "lng": -0.531301
          },
          "YO17 8QB": {
           "class": "models.MapDataLocation",
           "lat": 54.1776,
           "lng": -0.533441
          },
          "YO17 8QD": {
           "class": "models.MapDataLocation",
           "lat": 54.1778,
           "lng": -0.533709
          },
          "YO17 8QE": {
           "class": "models.MapDataLocation",
           "lat": 54.1778,
           "lng": -0.534795
          },
          "YO17 8QF": {
           "class": "models.MapDataLocation",
           "lat": 54.179,
           "lng": -0.536778
          },
          "YO17 8QG": {
           "class": "models.MapDataLocation",
           "lat": 54.177,
           "lng": -0.538748
          },
          "YO17 8QH": {
           "class": "models.MapDataLocation",
           "lat": 54.175,
           "lng": -0.537362
          },
          "YO17 8QJ": {
           "class": "models.MapDataLocation",
           "lat": 54.1615,
           "lng": -0.545098
          },
          "YO17 8QL": {
           "class": "models.MapDataLocation",
           "lat": 54.1736,
           "lng": -0.525799
          },
          "YO17 8QN": {
           "class": "models.MapDataLocation",
           "lat": 54.1768,
           "lng": -0.527307
          },
          "YO17 8QQ": {
           "class": "models.MapDataLocation",
           "lat": 54.1753,
           "lng": -0.532448
          },
          "YO17 8QW": {
           "class": "models.MapDataLocation",
           "lat": 54.1776,
           "lng": -0.531707
          },
          "YO17 8RU": {
           "class": "models.MapDataLocation",
           "lat": 54.1388,
           "lng": -0.560604
          },
          "YO17 8TL": {
           "class": "models.MapDataLocation",
           "lat": 54.1254,
           "lng": -0.574184
          },
          "YO4 2RJ": {
           "class": "models.MapDataLocation",
           "lat": 53.9003,
           "lng": -0.753099
          },
          "YO4 6RE": {
           "class": "models.MapDataLocation",
           "lat": 53.8382,
           "lng": -1.0813
          },
          "YO42 4TJ": {
           "class": "models.MapDataLocation",
           "lat": 53.8748,
           "lng": -0.929845
          }
         },
         "received_time": "2021-04-09 03:37"
        },
        "INCD-170058-A": {
         "description": "U/G Service repair In Progress",
         "estimated_restored_time": "2021-04-09 06:11",
         "incident_active": true,
         "incident_url": "https://www.northernpowergrid.com/power-cuts",
         "postcodes_impacted": {
          "NE43 7AD": {
           "class": "models.MapDataLocation",
           "lat": 54.9492,
           "lng": -1.9259
          },
          "NE43 7HG": {
           "class": "models.MapDataLocation",
           "lat": 54.9464,
           "lng": -1.92055
          },
          "NE43 7HH": {
           "class": "models.MapDataLocation",
           "lat": 54.9464,
           "lng": -1.91607
          },
          "NE43 7ND": {
           "class": "models.MapDataLocation",
           "lat": 54.9464,
           "lng": -1.91456
          },
          "NE43 7NG": {
           "class": "models.MapDataLocation",
           "lat": 54.9491,
           "lng": -1.91206
          },
          "NE43 7NH": {
           "class": "models.MapDataLocation",
           "lat": 54.9468,
           "lng": -1.91664
          },
          "NE43 7NJ": {
           "class": "models.MapDataLocation",
           "lat": 54.9472,
           "lng": -1.91514
          },
          "NE43 7NL": {
           "class": "models.MapDataLocation",
           "lat": 54.9482,
           "lng": -1.91339
          },
          "NE43 7NN": {
           "class": "models.MapDataLocation",
           "lat": 54.9488,
           "lng": -1.91045
          },
          "NE43 7NQ": {
           "class": "models.MapDataLocation",
           "lat": 54.9468,
           "lng": -1.91624
          }
         },
         "received_time": "2021-04-09 06:11"
        },
        "INCD-170163-A": {
         "description": "O/H Service Repair In Progress",
         "estimated_restored_time": "2021-04-09 11:02",
         "incident_active": true,
         "incident_url": "https://www.northernpowergrid.com/power-cuts",
         "postcodes_impacted": {
          "WF9 2AE": {
           "class": "models.MapDataLocation",
           "lat": 53.5943,
           "lng": -1.29819
          },
          "WF9 2AF": {
           "class": "models.MapDataLocation",
           "lat": 53.5932,
           "lng": -1.29727
          },
          "WF9 2AG": {
           "class": "models.MapDataLocation",
           "lat": 53.5927,
           "lng": -1.29793
          },
          "WF9 2AH": {
           "class": "models.MapDataLocation",
           "lat": 53.5929,
           "lng": -1.29868
          },
          "WF9 2AJ": {
           "class": "models.MapDataLocation",
           "lat": 53.5933,
           "lng": -1.29836
          },
          "WF9 2AL": {
           "class": "models.MapDataLocation",
           "lat": 53.5938,
           "lng": -1.2977
          }
         },
         "received_time": "2021-04-09 11:02"
        },
        "INCD-170167-A": {
         "description": "U/G Service repair In Progress",
         "estimated_restored_time": "2021-04-09 11:11",
         "incident_active": true,
         "incident_url": "https://www.northernpowergrid.com/power-cuts",
         "postcodes_impacted": {
          "S6 2BS": {
           "class": "models.MapDataLocation",
           "lat": 53.404,
           "lng": -1.49679
          }
         },
         "received_time": "2021-04-09 11:11"
        },
        "INCD-170169-A": {
         "description": "O/H HV Mains Repair In Progress",
         "estimated_restored_time": "2021-04-09 11:15",
         "incident_active": true,
         "incident_url": "https://www.northernpowergrid.com/power-cuts",
         "postcodes_impacted": {
          "YO25 5NN": {
           "class": "models.MapDataLocation",
           "lat": 54.0021,
           "lng": -0.427
          },
          "YO4 2TS": {
           "class": "models.MapDataLocation",
           "lat": 53.9657,
           "lng": -0.761346
          },
          "YO42 4HX": {
           "class": "models.MapDataLocation",
           "lat": 53.9319,
           "lng": -0.839494
          },
          "YO8 0UZ": {
           "class": "models.MapDataLocation",
           "lat": 53.8126,
           "lng": -1.10803
          },
          "YO8 5HX": {
           "class": "models.MapDataLocation",
           "lat": 53.7895,
           "lng": -1.02198
          },
          "YO8 6DH": {
           "class": "models.MapDataLocation",
           "lat": 53.7974,
           "lng": -0.924665
          },
          "YO8 6ER": {
           "class": "models.MapDataLocation",
           "lat": 53.7731,
           "lng": -0.924891
          },
          "YO8 6LE": {
           "class": "models.MapDataLocation",
           "lat": 53.7833,
           "lng": -0.99393
          },
          "YO8 6NG": {
           "class": "models.MapDataLocation",
           "lat": 53.7773,
           "lng": -0.996986
          },
          "YO8 6NH": {
           "class": "models.MapDataLocation",
           "lat": 53.7767,
           "lng": -0.994011
          },
          "YO8 6NJ": {
           "class": "models.MapDataLocation",
           "lat": 53.7773,
           "lng": -0.993906
          },
          "YO8 6NL": {
           "class": "models.MapDataLocation",
           "lat": 53.7785,
           "lng": -0.996989
          },
          "YO8 6NN": {
           "class": "models.MapDataLocation",
           "lat": 53.7809,
           "lng": -0.996445
          },
          "YO8 6NP": {
           "class": "models.MapDataLocation",
           "lat": 53.7815,
           "lng": -0.992986
          },
          "YO8 6NQ": {
           "class": "models.MapDataLocation",
           "lat": 53.7776,
           "lng": -0.999788
          },
          "YO8 6NR": {
           "class": "models.MapDataLocation",
           "lat": 53.7825,
           "lng": -0.997166
          },
          "YO8 6NS": {
           "class": "models.MapDataLocation",
           "lat": 53.782,
           "lng": -0.993899
          },
          "YO8 6NT": {
           "class": "models.MapDataLocation",
           "lat": 53.7826,
           "lng": -0.992959
          },
          "YO8 6NU": {
           "class": "models.MapDataLocation",
           "lat": 53.7853,
           "lng": -0.994822
          },
          "YO8 6NW": {
           "class": "models.MapDataLocation",
           "lat": 53.7814,
           "lng": -0.996874
          },
          "YO8 6NX": {
           "class": "models.MapDataLocation",
           "lat": 53.7912,
           "lng": -0.992571
          },
          "YO8 6NZ": {
           "class": "models.MapDataLocation",
           "lat": 53.7828,
           "lng": -0.994092
          },
          "YO8 6PD": {
           "class": "models.MapDataLocation",
           "lat": 53.788,
           "lng": -1.01226
          },
          "YO8 6PE": {
           "class": "models.MapDataLocation",
           "lat": 53.7855,
           "lng": -1.00998
          },
          "YO8 6PF": {
           "class": "models.MapDataLocation",
           "lat": 53.781,
           "lng": -0.999751
          },
          "YO8 6PG": {
           "class": "models.MapDataLocation",
           "lat": 53.7813,
           "lng": -1.00061
          },
          "YO8 6PH": {
           "class": "models.MapDataLocation",
           "lat": 53.7755,
           "lng": -0.989304
          },
          "YO8 6PP": {
           "class": "models.MapDataLocation",
           "lat": 53.7817,
           "lng": -0.991828
          },
          "YO8 6PQ": {
           "class": "models.MapDataLocation",
           "lat": 53.778,
           "lng": -0.994148
          },
          "YO8 6PW": {
           "class": "models.MapDataLocation",
           "lat": 53.7781,
           "lng": -0.99548
          },
          "YO8 6QE": {
           "class": "models.MapDataLocation",
           "lat": 53.7688,
           "lng": -0.978709
          },
          "YO8 6QG": {
           "class": "models.MapDataLocation",
           "lat": 53.7729,
           "lng": -0.981039
          },
          "YO8 6RN": {
           "class": "models.MapDataLocation",
           "lat": 53.7838,
           "lng": -0.993675
          },
          "YO8 7NH": {
           "class": "models.MapDataLocation",
           "lat": 53.7768,
           "lng": -0.994222
          },
          "YO8 7NL": {
           "class": "models.MapDataLocation",
           "lat": 53.7792,
           "lng": -0.997046
          },
          "YO8 7NS": {
           "class": "models.MapDataLocation",
           "lat": 53.782,
           "lng": -0.993641
          },
          "YO8 7NX": {
           "class": "models.MapDataLocation",
           "lat": 53.792,
           "lng": -0.99914
          },
          "YO8 7PF": {
           "class": "models.MapDataLocation",
           "lat": 53.7848,
           "lng": -1.00563
          },
          "YO8 7PG": {
           "class": "models.MapDataLocation",
           "lat": 53.7811,
           "lng": -1.00291
          },
          "YO8 7QG": {
           "class": "models.MapDataLocation",
           "lat": 53.7731,
           "lng": -0.981669
          },
          "YO8 8QN": {
           "class": "models.MapDataLocation",
           "lat": 53.7182,
           "lng": -1.08735
          }
         },
         "received_time": "2021-04-09 11:15"
        },
        "INCD-170187-A": {
         "description": "Damaged LV U/G In Progress",
         "estimated_restored_time": "2021-04-09 11:45",
         "incident_active": true,
         "incident_url": "https://www.northernpowergrid.com/power-cuts",
         "postcodes_impacted": {
          "DN4 6QT": {
           "class": "models.MapDataLocation",
           "lat": 53.5079,
           "lng": -1.06409
          },
          "DN4 6QU": {
           "class": "models.MapDataLocation",
           "lat": 53.5072,
           "lng": -1.06651
          },
          "DN4 6QX": {
           "class": "models.MapDataLocation",
           "lat": 53.5068,
           "lng": -1.06587
          },
          "DN4 6RH": {
           "class": "models.MapDataLocation",
           "lat": 53.5063,
           "lng": -1.06741
          },
          "DN4 6RJ": {
           "class": "models.MapDataLocation",
           "lat": 53.5063,
           "lng": -1.06624
          },
          "DN4 6RL": {
           "class": "models.MapDataLocation",
           "lat": 53.5066,
           "lng": -1.06558
          },
          "DN4 6RN": {
           "class": "models.MapDataLocation",
           "lat": 53.5072,
           "lng": -1.06455
          },
          "DN4 6RY": {
           "class": "models.MapDataLocation",
           "lat": 53.5069,
           "lng": -1.06746
          },
          "DN4 6TN": {
           "class": "models.MapDataLocation",
           "lat": 53.5035,
           "lng": -1.06625
          },
          "DN4 6UQ": {
           "class": "models.MapDataLocation",
           "lat": 53.5053,
           "lng": -1.06679
          }
         },
         "received_time": "2021-04-09 11:45"
        },
        "INCD-170218-A": {
         "description": "Unknown P2 In Progress",
         "estimated_restored_time": "",
         "incident_active": true,
         "incident_url": "https://www.northernpowergrid.com/power-cuts",
         "postcodes_impacted": {
          "LS28 9HG": {
           "class": "models.MapDataLocation",
           "lat": 53.7882,
           "lng": -1.6522
          }
         },
         "received_time": "2021-04-09 13:06"
        },
        "INCD-170225-A": {
         "description": "O/H HV Mains Repair Awaiting",
         "estimated_restored_time": "2021-04-09 13:09",
         "incident_active": true,
         "incident_url": "https://www.northernpowergrid.com/power-cuts",
         "postcodes_impacted": {
          "HG3 1RP": {
           "class": "models.MapDataLocation",
           "lat": 53.9839,
           "lng": -1.70882
          },
          "HG3 1SB": {
           "class": "models.MapDataLocation",
           "lat": 53.9802,
           "lng": -1.68479
          },
          "HG3 1SD": {
           "class": "models.MapDataLocation",
           "lat": 53.9983,
           "lng": -1.69231
          },
          "HG3 1SF": {
           "class": "models.MapDataLocation",
           "lat": 53.9852,
           "lng": -1.59153
          },
          "HG3 1SJ": {
           "class": "models.MapDataLocation",
           "lat": 53.9879,
           "lng": -1.67637
          },
          "HG3 1SL": {
           "class": "models.MapDataLocation",
           "lat": 53.9873,
           "lng": -1.67848
          },
          "HG3 1SN": {
           "class": "models.MapDataLocation",
           "lat": 53.9927,
           "lng": -1.68105
          },
          "HG3 1SP": {
           "class": "models.MapDataLocation",
           "lat": 53.9975,
           "lng": -1.70313
          },
          "HG3 1SR": {
           "class": "models.MapDataLocation",
           "lat": 53.9906,
           "lng": -1.70738
          },
          "HG3 1SS": {
           "class": "models.MapDataLocation",
           "lat": 53.9851,
           "lng": -1.71106
          },
          "HG3 1SU": {
           "class": "models.MapDataLocation",
           "lat": 53.9828,
           "lng": -1.7045
          },
          "HG3 1SW": {
           "class": "models.MapDataLocation",
           "lat": 53.9949,
           "lng": -1.70156
          },
          "HG3 1SY": {
           "class": "models.MapDataLocation",
           "lat": 53.9858,
           "lng": -1.69701
          },
          "HG3 1SZ": {
           "class": "models.MapDataLocation",
           "lat": 53.983,
           "lng": -1.68385
          },
          "HG3 1TA": {
           "class": "models.MapDataLocation",
           "lat": 53.9789,
           "lng": -1.67345
          },
          "HG3 1TB": {
           "class": "models.MapDataLocation",
           "lat": 53.9742,
           "lng": -1.68688
          },
          "HG3 1TD": {
           "class": "models.MapDataLocation",
           "lat": 53.9738,
           "lng": -1.68599
          },
          "HG3 1TE": {
           "class": "models.MapDataLocation",
           "lat": 53.9735,
           "lng": -1.68476
          },
          "HG3 1TF": {
           "class": "models.MapDataLocation",
           "lat": 53.9734,
           "lng": -1.68417
          },
          "HG3 2RL": {
           "class": "models.MapDataLocation",
           "lat": 54.0033,
           "lng": -1.6974
          },
          "LS21 2NA": {
           "class": "models.MapDataLocation",
           "lat": 53.9427,
           "lng": -1.7062
          },
          "LS21 2PQ": {
           "class": "models.MapDataLocation",
           "lat": 54.0058,
           "lng": -1.74344
          },
          "LS21 2QS": {
           "class": "models.MapDataLocation",
           "lat": 53.949,
           "lng": -1.67095
          },
          "LS21 2QT": {
           "class": "models.MapDataLocation",
           "lat": 53.9533,
           "lng": -1.66908
          },
          "LS21 2QU": {
           "class": "models.MapDataLocation",
           "lat": 53.9629,
           "lng": -1.68763
          },
          "LS21 2QX": {
           "class": "models.MapDataLocation",
           "lat": 53.9667,
           "lng": -1.69471
          },
          "LS21 2QY": {
           "class": "models.MapDataLocation",
           "lat": 53.9626,
           "lng": -1.69942
          },
          "LS21 2QZ": {
           "class": "models.MapDataLocation",
           "lat": 53.9493,
           "lng": -1.6844
          },
          "LS21 2RA": {
           "class": "models.MapDataLocation",
           "lat": 53.9505,
           "lng": -1.68699
          }
         },
         "received_time": "2021-04-09 13:09"
        },
        "INCD-170226-A": {
         "description": "Unknown P2 Awaiting",
         "estimated_restored_time": "",
         "incident_active": true,
         "incident_url": "https://www.northernpowergrid.com/power-cuts",
         "postcodes_impacted": {
          "WF16 9EH": {
           "class": "models.MapDataLocation",
           "lat": 53.7116,
           "lng": -1.67113
          }
         },
         "received_time": "2021-04-09 13:13"
        },
        "INCD-170228-A": {
         "description": "Damage Other In Progress",
         "estimated_restored_time": "",
         "incident_active": true,
         "incident_url": "https://www.northernpowergrid.com/power-cuts",
         "postcodes_impacted": {
          "LS17 6RB": {
           "class": "models.MapDataLocation",
           "lat": 53.8433,
           "lng": -1.53186
          }
         },
         "received_time": "2021-04-09 13:15"
        },
        "INCD-170231-A": {
         "description": "Damage Other In Progress",
         "estimated_restored_time": "2021-04-09 13:24",
         "incident_active": true,
         "incident_url": "https://www.northernpowergrid.com/power-cuts",
         "postcodes_impacted": {
          "DN4 6UD": {
           "class": "models.MapDataLocation",
           "lat": 53.5069,
           "lng": -1.0625
          }
         },
         "received_time": "2021-04-09 13:24"
        },
        "INCD-170238-A": {
         "description": "Damaged service U/G In Progress",
         "estimated_restored_time": "2021-04-09 13:42",
         "incident_active": true,
         "incident_url": "https://www.northernpowergrid.com/power-cuts",
         "postcodes_impacted": {
          "SR5 3AH": {
           "class": "models.MapDataLocation",
           "lat": 54.9189,
           "lng": -1.43581
          }
         },
         "received_time": "2021-04-09 13:42"
        },
        "INCD-170241-A": {
         "description": "Damaged service U/G In Progress",
         "estimated_restored_time": "2021-04-09 13:52",
         "incident_active": true,
         "incident_url": "https://www.northernpowergrid.com/power-cuts",
         "postcodes_impacted": {
          "WF12 8RQ": {
           "class": "models.MapDataLocation",
           "lat": 53.6875,
           "lng": -1.60255
          }
         },
         "received_time": "2021-04-09 13:52"
        },
        "INCD-170246-A": {
         "description": "Unknown P2 In Progress",
         "estimated_restored_time": "",
         "incident_active": true,
         "incident_url": "https://www.northernpowergrid.com/power-cuts",
         "postcodes_impacted": {
          "BD2 1BJ": {
           "class": "models.MapDataLocation",
           "lat": 53.8213,
           "lng": -1.75891
          }
         },
         "received_time": "2021-04-09 14:01"
        },
        "INCD-170256-A": {
         "description": "Unknown P2 In Progress",
         "estimated_restored_time": "2021-04-09 14:17",
         "incident_active": true,
         "incident_url": "https://www.northernpowergrid.com/power-cuts",
         "postcodes_impacted": {
          "HU1 1UZ": {
           "class": "models.MapDataLocation",
           "lat": 53.7382,
           "lng": -0.335135
          }
         },
         "received_time": "2021-04-09 14:17"
        },
        "INCD-170257-A": {
         "description": "Unknown P2 In Progress",
         "estimated_restored_time": "2021-04-09 14:12",
         "incident_active": true,
         "incident_url": "https://www.northernpowergrid.com/power-cuts",
         "postcodes_impacted": {
          "HX3 0TJ": {
           "class": "models.MapDataLocation",
           "lat": 53.701,
           "lng": -1.8667
          },
          "HX3 0TU": {
           "class": "models.MapDataLocation",
           "lat": 53.6996,
           "lng": -1.86951
          },
          "HX3 0UA": {
           "class": "models.MapDataLocation",
           "lat": 53.7002,
           "lng": -1.8722
          },
          "HX3 0UT": {
           "class": "models.MapDataLocation",
           "lat": 53.7011,
           "lng": -1.87093
          },
          "HX3 0UU": {
           "class": "models.MapDataLocation",
           "lat": 53.7001,
           "lng": -1.86751
          }
         },
         "received_time": "2021-04-09 14:12"
        },
        "INCD-170260-A": {
         "description": "Unknown P1 In Progress",
         "estimated_restored_time": "",
         "incident_active": true,
         "incident_url": "https://www.northernpowergrid.com/power-cuts",
         "postcodes_impacted": {
          "TS25 5QE": {
           "class": "models.MapDataLocation",
           "lat": 54.674,
           "lng": -1.22599
          }
         },
         "received_time": "2021-04-09 14:25"
        },
        "INCD-170263-A": {
         "description": "Unknown P1 In Progress",
         "estimated_restored_time": "2021-04-09 14:34",
         "incident_active": true,
         "incident_url": "https://www.northernpowergrid.com/power-cuts",
         "postcodes_impacted": {
          "NE5 2YQ": {
           "class": "models.MapDataLocation",
           "lat": 54.9914,
           "lng": -1.69022
          }
         },
         "received_time": "2021-04-09 14:34"
        },
        "INCD-170265-A": {
         "description": "Damage Other In Progress",
         "estimated_restored_time": "2021-04-09 14:11",
         "incident_active": true,
         "incident_url": "https://www.northernpowergrid.com/power-cuts",
         "postcodes_impacted": {
          "HX3 7HG": {
           "class": "models.MapDataLocation",
           "lat": 53.7353,
           "lng": -1.82844
          }
         },
         "received_time": "2021-04-09 14:11"
        },
        "INCD-170279-A": {
         "description": "Unknown P2 Awaiting",
         "estimated_restored_time": "2021-04-09 15:07",
         "incident_active": true,
         "incident_url": "https://www.northernpowergrid.com/power-cuts",
         "postcodes_impacted": {
          "S8 8FJ": {
           "class": "models.MapDataLocation",
           "lat": 53.3191,
           "lng": -1.46707
          },
          "S8 8FN": {
           "class": "models.MapDataLocation",
           "lat": 53.319,
           "lng": -1.46644
          },
          "S8 8FX": {
           "class": "models.MapDataLocation",
           "lat": 53.3181,
           "lng": -1.4682
          }
         },
         "received_time": "2021-04-09 15:07"
        },
        "INCD-170280-A": {
         "description": "Unknown P2 Awaiting",
         "estimated_restored_time": "2021-04-09 15:25",
         "incident_active": true,
         "incident_url": "https://www.northernpowergrid.com/power-cuts",
         "postcodes_impacted": {
          "HU18 1TL": {
           "class": "models.MapDataLocation",
           "lat": 53.9047,
           "lng": -0.158804
          }
         },
         "received_time": "2021-04-09 15:25"
        },
        "INCD-170281-A": {
         "description": "Unknown P2 Awaiting",
         "estimated_restored_time": "2021-04-09 15:29",
         "incident_active": true,
         "incident_url": "https://www.northernpowergrid.com/power-cuts",
         "postcodes_impacted": {
          "WF14 0QP": {
           "class": "models.MapDataLocation",
           "lat": 53.6836,
           "lng": -1.67438
          }
         },
         "received_time": "2021-04-09 15:29"
        },
        "PPC039123": {
         "description": "We need to temporarily turn the power off to carry out power upgrades in the area. The scheduled work has now been completed",
         "estimated_restored_time": "2021-04-09 09:00",
         "incident_active": true,
         "incident_url": "https://www.northernpowergrid.com/power-cuts",
         "postcodes_impacted": {
          "NE21 4SY": {
           "class": "models.MapDataLocation",
           "lat": 54.9594,
           "lng": -1.74275
          },
          "NE21 4SZ": {
           "class": "models.MapDataLocation",
           "lat": 54.9586,
           "lng": -1.74094
          },
          "NE21 4TA": {
           "class": "models.MapDataLocation",
           "lat": 54.9577,
           "lng": -1.74058
          },
          "NE21 6DZ": {
           "class": "models.MapDataLocation",
           "lat": 54.9561,
           "lng": -1.73382
          },
          "NE21 6JJ": {
           "class": "models.MapDataLocation",
           "lat": 54.9549,
           "lng": -1.74264
          },
          "NE21 6JL": {
           "class": "models.MapDataLocation",
           "lat": 54.9554,
           "lng": -1.74139
          },
          "NE21 6JN": {
           "class": "models.MapDataLocation",
           "lat": 54.955,
           "lng": -1.74665
          },
          "NE21 6JR": {
           "class": "models.MapDataLocation",
           "lat": 54.9543,
           "lng": -1.74083
          },
          "NE21 6JW": {
           "class": "models.MapDataLocation",
           "lat": 54.9562,
           "lng": -1.75156
          }
         },
         "received_time": "2021-04-09 09:00"
        },
        "PPC039174": {
         "description": "We need to temporarily turn the power off to undertake vegetation management in the area. The scheduled work has now been completed",
         "estimated_restored_time": "2021-04-09 08:00",
         "incident_active": true,
         "incident_url": "https://www.northernpowergrid.com/power-cuts",
         "postcodes_impacted": {
          "LN7 6JY": {
           "class": "models.MapDataLocation",
           "lat": 53.5228,
           "lng": -0.419666
          },
          "LN7 6JZ": {
           "class": "models.MapDataLocation",
           "lat": 53.5237,
           "lng": -0.42138
          },
          "LN7 6LQ": {
           "class": "models.MapDataLocation",
           "lat": 53.5236,
           "lng": -0.422199
          }
         },
         "received_time": "2021-04-09 08:00"
        },
        "PPC039180": {
         "description": "We need to temporarily turn the power off to carry out maintenance on our network in the area. The scheduled work has now been completed",
         "estimated_restored_time": "2021-04-09 09:30",
         "incident_active": true,
         "incident_url": "https://www.northernpowergrid.com/power-cuts",
         "postcodes_impacted": {
          "YO62 6UN": {
           "class": "models.MapDataLocation",
           "lat": 54.3246,
           "lng": -0.925091
          },
          "YO62 7XH": {
           "class": "models.MapDataLocation",
           "lat": 54.3354,
           "lng": -0.953371
          },
          "YO62 7XJ": {
           "class": "models.MapDataLocation",
           "lat": 54.3245,
           "lng": -0.94825
          }
         },
         "received_time": "2021-04-09 09:30"
        },
        "PPC039181": {
         "description": "We need to temporarily turn the power off to carry out maintenance on our network in the area. The scheduled work has now been completed",
         "estimated_restored_time": "2021-04-09 10:30",
         "incident_active": true,
         "incident_url": "https://www.northernpowergrid.com/power-cuts",
         "postcodes_impacted": {
          "YO62 7HX": {
           "class": "models.MapDataLocation",
           "lat": 54.3013,
           "lng": -0.952977
          }
         },
         "received_time": "2021-04-09 10:30"
        },
        "PPC039351": {
         "description": "We need to temporarily turn the power off to undertake vegetation management in the area. The scheduled work has now been completed",
         "estimated_restored_time": "2021-04-09 08:00",
         "incident_active": true,
         "incident_url": "https://www.northernpowergrid.com/power-cuts",
         "postcodes_impacted": {
          "DL14 9NW": {
           "class": "models.MapDataLocation",
           "lat": 54.6127,
           "lng": -1.74999
          }
         },
         "received_time": "2021-04-09 08:00"
        },
        "PPC039370": {
         "description": "We need to temporarily turn the power off to carry out replacement of poles that support our overhead power lines in the area. The scheduled work has now been completed",
         "estimated_restored_time": "2021-04-09 08:00",
         "incident_active": true,
         "incident_url": "https://www.northernpowergrid.com/power-cuts",
         "postcodes_impacted": {
          "NE48 2RJ": {
           "class": "models.MapDataLocation",
           "lat": 55.1631,
           "lng": -2.18123
          },
          "NE61 4AE": {
           "class": "models.MapDataLocation",
           "lat": 55.1278,
           "lng": -1.93382
          }
         },
         "received_time": "2021-04-09 08:00"
        },
        "PPC039545": {
         "description": "We need to temporarily turn the power off to carry out replacement of poles that support our overhead power lines in the area. The scheduled work has now been completed",
         "estimated_restored_time": "2021-04-09 09:00",
         "incident_active": true,
         "incident_url": "https://www.northernpowergrid.com/power-cuts",
         "postcodes_impacted": {
          "DH7 0AB": {
           "class": "models.MapDataLocation",
           "lat": 54.828,
           "lng": -1.70789
          },
          "DH7 0BE": {
           "class": "models.MapDataLocation",
           "lat": 54.8309,
           "lng": -1.70283
          },
          "DH7 0BP": {
           "class": "models.MapDataLocation",
           "lat": 54.8302,
           "lng": -1.70595
          },
          "DH7 0BW": {
           "class": "models.MapDataLocation",
           "lat": 54.8303,
           "lng": -1.70582
          },
          "DH7 0DA": {
           "class": "models.MapDataLocation",
           "lat": 54.83,
           "lng": -1.70505
          },
          "DH7 0DB": {
           "class": "models.MapDataLocation",
           "lat": 54.8293,
           "lng": -1.70363
          },
          "DH7 0DD": {
           "class": "models.MapDataLocation",
           "lat": 54.8316,
           "lng": -1.70454
          },
          "DH7 0DE": {
           "class": "models.MapDataLocation",
           "lat": 54.8306,
           "lng": -1.70542
          },
          "DH7 0DL": {
           "class": "models.MapDataLocation",
           "lat": 54.8264,
           "lng": -1.71245
          },
          "DH7 0DP": {
           "class": "models.MapDataLocation",
           "lat": 54.832,
           "lng": -1.70159
          },
          "DH7 0EA": {
           "class": "models.MapDataLocation",
           "lat": 54.8307,
           "lng": -1.70439
          },
          "DH7 0EQ": {
           "class": "models.MapDataLocation",
           "lat": 54.8328,
           "lng": -1.70149
          }
         },
         "received_time": "2021-04-09 09:00"
        },
        "PPC039560": {
         "description": "We need to temporarily turn the power off to undertake vegetation management in the area. The scheduled work has now been completed",
         "estimated_restored_time": "2021-04-09 08:00",
         "incident_active": true,
         "incident_url": "https://www.northernpowergrid.com/power-cuts",
         "postcodes_impacted": {
          "DN20 8NA": {
           "class": "models.MapDataLocation",
           "lat": 53.549,
           "lng": -0.497721
          },
          "DN20 9EY": {
           "class": "models.MapDataLocation",
           "lat": 53.548,
           "lng": -0.480793
          },
          "DN20 9HW": {
           "class": "models.MapDataLocation",
           "lat": 53.5481,
           "lng": -0.490945
          }
         },
         "received_time": "2021-04-09 08:00"
        },
        "PPC039568": {
         "description": "We need to temporarily turn the power off to undertake vegetation management in the area. The scheduled work has now been completed",
         "estimated_restored_time": "2021-04-09 08:00",
         "incident_active": true,
         "incident_url": "https://www.northernpowergrid.com/power-cuts",
         "postcodes_impacted": {
          "BD23 4DT": {
           "class": "models.MapDataLocation",
           "lat": 54.0057,
           "lng": -2.15277
          },
          "BD23 4DU": {
           "class": "models.MapDataLocation",
           "lat": 54.002,
           "lng": -2.14596
          }
         },
         "received_time": "2021-04-09 08:00"
        },
        "PPC039725": {
         "description": "We need to temporarily turn the power off to carry out replacement work on our overhead power lines in the area. The scheduled work has now been completed",
         "estimated_restored_time": "2021-04-09 08:30",
         "incident_active": true,
         "incident_url": "https://www.northernpowergrid.com/power-cuts",
         "postcodes_impacted": {
          "NE40 3AA": {
           "class": "models.MapDataLocation",
           "lat": 54.9727,
           "lng": -1.77236
          },
          "NE40 3AJ": {
           "class": "models.MapDataLocation",
           "lat": 54.9727,
           "lng": -1.77118
          },
          "NE40 3AN": {
           "class": "models.MapDataLocation",
           "lat": 54.9736,
           "lng": -1.7705
          },
          "NE40 3AQ": {
           "class": "models.MapDataLocation",
           "lat": 54.9721,
           "lng": -1.77168
          },
          "NE40 3AR": {
           "class": "models.MapDataLocation",
           "lat": 54.9711,
           "lng": -1.77417
          },
          "NE40 3AT": {
           "class": "models.MapDataLocation",
           "lat": 54.9715,
           "lng": -1.77429
          },
          "NE40 3AW": {
           "class": "models.MapDataLocation",
           "lat": 54.9729,
           "lng": -1.77177
          },
          "NE40 3BT": {
           "class": "models.MapDataLocation",
           "lat": 54.9725,
           "lng": -1.76669
          }
         },
         "received_time": "2021-04-09 08:30"
        },
        "PPC039749": {
         "description": "We need to temporarily turn the power off to connect a new customer in the area. The scheduled work has now been completed",
         "estimated_restored_time": "2021-04-09 08:30",
         "incident_active": true,
         "incident_url": "https://www.northernpowergrid.com/power-cuts",
         "postcodes_impacted": {
          "DH1 5RD": {
           "class": "models.MapDataLocation",
           "lat": 54.8011,
           "lng": -1.61093
          },
          "DH1 5RH": {
           "class": "models.MapDataLocation",
           "lat": 54.8027,
           "lng": -1.61063
          },
          "DH1 5RQ": {
           "class": "models.MapDataLocation",
           "lat": 54.8021,
           "lng": -1.6124
          }
         },
         "received_time": "2021-04-09 08:30"
        },
        "PPC039763": {
         "description": "We need to temporarily turn the power off to carry out a permanent repair in the area. The scheduled work has now been completed",
         "estimated_restored_time": "2021-04-09 09:00",
         "incident_active": true,
         "incident_url": "https://www.northernpowergrid.com/power-cuts",
         "postcodes_impacted": {
          "BD6 2PZ": {
           "class": "models.MapDataLocation",
           "lat": 53.756,
           "lng": -1.78804
          },
          "BD6 2QG": {
           "class": "models.MapDataLocation",
           "lat": 53.7571,
           "lng": -1.78951
          },
          "BD6 2QL": {
           "class": "models.MapDataLocation",
           "lat": 53.7571,
           "lng": -1.79096
          },
          "BD6 2RE": {
           "class": "models.MapDataLocation",
           "lat": 53.7564,
           "lng": -1.79759
          },
          "BD6 2RH": {
           "class": "models.MapDataLocation",
           "lat": 53.7563,
           "lng": -1.79824
          },
          "BD6 2RL": {
           "class": "models.MapDataLocation",
           "lat": 53.7563,
           "lng": -1.79824
          },
          "BD6 2SB": {
           "class": "models.MapDataLocation",
           "lat": 53.7549,
           "lng": -1.7892
          },
          "BD6 3EW": {
           "class": "models.MapDataLocation",
           "lat": 53.7687,
           "lng": -1.80334
          }
         },
         "received_time": "2021-04-09 09:00"
        },
        "PPC039771": {
         "description": "We need to temporarily turn the power off to connect a new customer in the area. The scheduled work has now been completed",
         "estimated_restored_time": "2021-04-09 08:00",
         "incident_active": true,
         "incident_url": "https://www.northernpowergrid.com/power-cuts",
         "postcodes_impacted": {
          "HG3 1QU": {
           "class": "models.MapDataLocation",
           "lat": 53.9623,
           "lng": -1.60567
          }
         },
         "received_time": "2021-04-09 08:00"
        },
        "PPC039814": {
         "description": "We need to temporarily turn the power off to carry out a permanent repair in the area. The scheduled work has now been completed",
         "estimated_restored_time": "2021-04-09 09:00",
         "incident_active": true,
         "incident_url": "https://www.northernpowergrid.com/power-cuts",
         "postcodes_impacted": {
          "WF17 5AY": {
           "class": "models.MapDataLocation",
           "lat": 53.709,
           "lng": -1.63158
          },
          "WF17 5PT": {
           "class": "models.MapDataLocation",
           "lat": 53.7093,
           "lng": -1.62903
          },
          "WF17 5PU": {
           "class": "models.MapDataLocation",
           "lat": 53.7093,
           "lng": -1.62802
          },
          "WF17 5QA": {
           "class": "models.MapDataLocation",
           "lat": 53.7084,
           "lng": -1.62747
          },
          "WF17 6HY": {
           "class": "models.MapDataLocation",
           "lat": 53.7079,
           "lng": -1.62697
          }
         },
         "received_time": "2021-04-09 09:00"
        },
        "PPC039816": {
         "description": "We need to temporarily turn the power off to carry out a permanent repair in the area. The scheduled work has now been completed",
         "estimated_restored_time": "2021-04-09 10:00",
         "incident_active": true,
         "incident_url": "https://www.northernpowergrid.com/power-cuts",
         "postcodes_impacted": {
          "LS12 1YL": {
           "class": "models.MapDataLocation",
           "lat": 53.7956,
           "lng": -1.57288
          },
          "LS12 1YN": {
           "class": "models.MapDataLocation",
           "lat": 53.7961,
           "lng": -1.57252
          },
          "LS12 2UB": {
           "class": "models.MapDataLocation",
           "lat": 53.7955,
           "lng": -1.57297
          }
         },
         "received_time": "2021-04-09 10:00"
        },
        "PPC039818": {
         "description": "We need to temporarily turn the power off to carry out a permanent repair in the area. The scheduled work has now been completed",
         "estimated_restored_time": "2021-04-09 09:00",
         "incident_active": true,
         "incident_url": "https://www.northernpowergrid.com/power-cuts",
         "postcodes_impacted": {
          "BD16 2RD": {
           "class": "models.MapDataLocation",
           "lat": 53.8519,
           "lng": -1.84021
          },
          "BD16 2RH": {
           "class": "models.MapDataLocation",
           "lat": 53.8516,
           "lng": -1.8417
          },
          "BD16 2RJ": {
           "class": "models.MapDataLocation",
           "lat": 53.8523,
           "lng": -1.84246
          },
          "BD16 2RL": {
           "class": "models.MapDataLocation",
           "lat": 53.852,
           "lng": -1.84306
          }
         },
         "received_time": "2021-04-09 09:00"
        },
        "PPC039821": {
         "description": "We need to temporarily turn the power off to carry out a permanent repair in the area. The scheduled work has now been completed",
         "estimated_restored_time": "2021-04-09 08:30",
         "incident_active": true,
         "incident_url": "https://www.northernpowergrid.com/power-cuts",
         "postcodes_impacted": {
          "YO8 8BJ": {
           "class": "models.MapDataLocation",
           "lat": 53.7823,
           "lng": -1.06122
          },
          "YO8 8BL": {
           "class": "models.MapDataLocation",
           "lat": 53.7829,
           "lng": -1.06028
          },
          "YO8 8BN": {
           "class": "models.MapDataLocation",
           "lat": 53.7821,
           "lng": -1.05951
          },
          "YO8 8BW": {
           "class": "models.MapDataLocation",
           "lat": 53.7822,
           "lng": -1.05721
          }
         },
         "received_time": "2021-04-09 08:30"
        },
        "PPC039826": {
         "description": "We need to temporarily turn the power off to carry out power upgrades in the area. Work is scheduled to start",
         "estimated_restored_time": "2021-04-09 16:00",
         "incident_active": true,
         "incident_url": "https://www.northernpowergrid.com/power-cuts",
         "postcodes_impacted": {
          "HD8 9HH": {
           "class": "models.MapDataLocation",
           "lat": 53.5916,
           "lng": -1.61966
          }
         },
         "received_time": "2021-04-09 16:00"
        }
       }
      ],
      "text/plain": [
       "<IPython.core.display.JSON object>"
      ]
     },
     "execution_count": 109,
     "metadata": {
      "application/json": {
       "expanded": false,
       "root": "root"
      }
     },
     "output_type": "execute_result"
    }
   ],
   "source": [
    "raw_incidents_info, cleaned_incidents_info = get_np_incidents_info()\n",
    "\n",
    "JSON([cleaned_incidents_info])"
   ]
  },
  {
   "cell_type": "code",
   "execution_count": null,
   "id": "duplicate-seattle",
   "metadata": {},
   "outputs": [],
   "source": []
  },
  {
   "cell_type": "markdown",
   "id": "pharmaceutical-outline",
   "metadata": {},
   "source": [
    "<br>\n",
    "\n",
    "### Electricity North West\n",
    "\n",
    "https://www.enwl.co.uk/power-cuts/"
   ]
  },
  {
   "cell_type": "code",
   "execution_count": null,
   "id": "printable-reviewer",
   "metadata": {},
   "outputs": [],
   "source": [
    "# need to handle page size and number\n",
    "'https://www.enwl.co.uk/power-outages/search?pageSize=10&postcodeOrReferenceNumber=&pageNumber=2&includeCurrent=true&includeResolved=true&includeTodaysPlanned=true&includeFuturePlanned=true&includeCancelledPlanned=true'"
   ]
  },
  {
   "cell_type": "code",
   "execution_count": null,
   "id": "athletic-wildlife",
   "metadata": {},
   "outputs": [],
   "source": []
  },
  {
   "cell_type": "code",
   "execution_count": null,
   "id": "secret-finding",
   "metadata": {},
   "outputs": [],
   "source": []
  },
  {
   "cell_type": "code",
   "execution_count": null,
   "id": "helpful-olive",
   "metadata": {},
   "outputs": [],
   "source": [
    "# incident_active (if known)\n",
    "# logged/start time\n",
    "# estimated time of fix\n",
    "# postcodes impacted\n",
    "# description"
   ]
  },
  {
   "cell_type": "code",
   "execution_count": 110,
   "id": "mobile-specification",
   "metadata": {},
   "outputs": [
    {
     "name": "stdout",
     "output_type": "stream",
     "text": [
      "Converted 01-retrieval.ipynb.\n",
      "Converted 02-collation.ipynb.\n"
     ]
    }
   ],
   "source": [
    "#hide\n",
    "from nbdev.export import *\n",
    "notebook2script()"
   ]
  }
 ],
 "metadata": {
  "kernelspec": {
   "display_name": "outage",
   "language": "python",
   "name": "outage"
  },
  "language_info": {
   "codemirror_mode": {
    "name": "ipython",
    "version": 3
   },
   "file_extension": ".py",
   "mimetype": "text/x-python",
   "name": "python",
   "nbconvert_exporter": "python",
   "pygments_lexer": "ipython3",
   "version": "3.7.10"
  }
 },
 "nbformat": 4,
 "nbformat_minor": 5
}

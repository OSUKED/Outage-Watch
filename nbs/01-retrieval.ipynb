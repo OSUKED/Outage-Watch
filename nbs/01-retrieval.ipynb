{
 "cells": [
  {
   "cell_type": "code",
   "execution_count": 1,
   "id": "regional-alabama",
   "metadata": {},
   "outputs": [],
   "source": [
    "# default_exp retrieval"
   ]
  },
  {
   "cell_type": "markdown",
   "id": "meaningful-market",
   "metadata": {},
   "source": [
    "# Outage Data Retrieval\n",
    "\n",
    "<br>\n",
    "\n",
    "### Imports"
   ]
  },
  {
   "cell_type": "code",
   "execution_count": 2,
   "id": "southeast-muscle",
   "metadata": {},
   "outputs": [],
   "source": [
    "#exports\n",
    "import json\n",
    "import pandas as pd\n",
    "\n",
    "import html\n",
    "import requests\n",
    "from bs4 import BeautifulSoup as bs\n",
    "from warnings import warn\n",
    "\n",
    "from ipypb import track"
   ]
  },
  {
   "cell_type": "code",
   "execution_count": 3,
   "id": "capable-stake",
   "metadata": {},
   "outputs": [],
   "source": [
    "from IPython.display import JSON"
   ]
  },
  {
   "cell_type": "markdown",
   "id": "empty-suffering",
   "metadata": {},
   "source": [
    "<br>\n",
    "\n",
    "### UK Power Networks\n",
    "\n",
    "https://www.ukpowernetworks.co.uk/power-cut/map"
   ]
  },
  {
   "cell_type": "code",
   "execution_count": 4,
   "id": "annual-negotiation",
   "metadata": {},
   "outputs": [
    {
     "data": {
      "application/json": {
       "Incidents": [
        {
         "PanelContentUrl": "/power-cut/map/unplanned?incidentId=INCD-228214-Z",
         "PostcodeData": [
          {
           "Center": {
            "lat": 52.62808,
            "lng": 1.28971
           },
           "Postcode": "NR2 1"
          }
         ],
         "PostcodesRemaining": [],
         "PowerCutType": "Unplanned",
         "ServiceDown": false
        },
        {
         "PanelContentUrl": "/power-cut/map/unplanned?incidentId=INCD-53519-V",
         "PostcodeData": [
          {
           "Center": {
            "lat": 50.98689,
            "lng": -0.11458
           },
           "Postcode": "RH16 4"
          }
         ],
         "PostcodesRemaining": [],
         "PowerCutType": "Unplanned",
         "ServiceDown": false
        },
        {
         "PanelContentUrl": "/power-cut/map/unplanned?incidentId=INCD-228141-Z",
         "PostcodeData": [
          {
           "Center": {
            "lat": 51.72094,
            "lng": 0.0252
           },
           "Postcode": "EN9 2"
          },
          {
           "Center": {
            "lat": 51.64484,
            "lng": 0.17247
           },
           "Postcode": "RM4 1"
          }
         ],
         "PostcodesRemaining": [],
         "PowerCutType": "Unplanned",
         "ServiceDown": false
        },
        {
         "PanelContentUrl": "/power-cut/map/unplanned?incidentId=INCD-247497-G",
         "PostcodeData": [
          {
           "Center": {
            "lat": 50.84143,
            "lng": -0.18811
           },
           "Postcode": "BN3 7"
          },
          {
           "Center": {
            "lat": 50.85569,
            "lng": -0.19945
           },
           "Postcode": "BN3 8"
          },
          {
           "Center": {
            "lat": 50.85708,
            "lng": -0.22995
           },
           "Postcode": "BN41 2"
          }
         ],
         "PostcodesRemaining": [],
         "PowerCutType": "Unplanned",
         "ServiceDown": false
        },
        {
         "PanelContentUrl": "/power-cut/map/unplanned?incidentId=INCD-228255-Z",
         "PostcodeData": [
          {
           "Center": {
            "lat": 52.74456,
            "lng": 0.40091
           },
           "Postcode": "PE30 5"
          }
         ],
         "PostcodesRemaining": [],
         "PowerCutType": "Unplanned",
         "ServiceDown": false
        },
        {
         "PanelContentUrl": "/power-cut/map/unplanned?incidentId=INCD-247468-G",
         "PostcodeData": [
          {
           "Center": {
            "lat": 50.86388,
            "lng": 0.59189
           },
           "Postcode": "TN34 3"
          }
         ],
         "PostcodesRemaining": [],
         "PowerCutType": "Unplanned",
         "ServiceDown": false
        },
        {
         "PanelContentUrl": "/power-cut/map/unplanned?incidentId=INCD-247499-G",
         "PostcodeData": [],
         "PostcodesRemaining": [],
         "PowerCutType": "Unplanned",
         "ServiceDown": false
        },
        {
         "PanelContentUrl": "/power-cut/map/unplanned?incidentId=INCD-247486-G",
         "PostcodeData": [
          {
           "Center": {
            "lat": 50.92188,
            "lng": -0.26047
           },
           "Postcode": "BN5 9"
          }
         ],
         "PostcodesRemaining": [],
         "PowerCutType": "Unplanned",
         "ServiceDown": false
        },
        {
         "PanelContentUrl": "/power-cut/map/unplanned?incidentId=INCD-228258-Z",
         "PostcodeData": [
          {
           "Center": {
            "lat": 51.63449,
            "lng": 0.47365
           },
           "Postcode": "CM11 1"
          }
         ],
         "PostcodesRemaining": [],
         "PowerCutType": "Unplanned",
         "ServiceDown": false
        },
        {
         "PanelContentUrl": "/power-cut/map/unplanned?incidentId=INCD-228228-Z",
         "PostcodeData": [
          {
           "Center": {
            "lat": 51.65744,
            "lng": -0.06813
           },
           "Postcode": "EN1 3"
          },
          {
           "Center": {
            "lat": 51.65137,
            "lng": -0.08576
           },
           "Postcode": "EN2 6"
          }
         ],
         "PostcodesRemaining": [],
         "PowerCutType": "Unplanned",
         "ServiceDown": false
        },
        {
         "PanelContentUrl": "/power-cut/map/unplanned?incidentId=INCD-247522-G",
         "PostcodeData": [
          {
           "Center": {
            "lat": 50.93255,
            "lng": -0.40489
           },
           "Postcode": "RH20 3"
          }
         ],
         "PostcodesRemaining": [],
         "PowerCutType": "Unplanned",
         "ServiceDown": false
        },
        {
         "PanelContentUrl": "/power-cut/map/unplanned?incidentId=INCD-247525-G",
         "PostcodeData": [
          {
           "Center": {
            "lat": 51.41099,
            "lng": -0.31555
           },
           "Postcode": "KT1 4"
          },
          {
           "Center": {
            "lat": 51.43936,
            "lng": -0.31086
           },
           "Postcode": "TW10 7"
          },
          {
           "Center": {
            "lat": 51.36967,
            "lng": 1.17831
           },
           "Postcode": "CT6 6"
          },
          {
           "Center": {
            "lat": 51.42352,
            "lng": -0.29933
           },
           "Postcode": "KT2 5"
          },
          {
           "Center": {
            "lat": 51.4407,
            "lng": -0.33509
           },
           "Postcode": "TW1 4"
          }
         ],
         "PostcodesRemaining": [],
         "PowerCutType": "Unplanned",
         "ServiceDown": false
        },
        {
         "PanelContentUrl": "/power-cut/map/unplanned?incidentId=INCD-247513-G",
         "PostcodeData": [
          {
           "Center": {
            "lat": 51.11747,
            "lng": 0.99645
           },
           "Postcode": "TN25 6"
          },
          {
           "Center": {
            "lat": 51.3006,
            "lng": -0.55384
           },
           "Postcode": "GU22 9"
          },
          {
           "Center": {
            "lat": 51.30294,
            "lng": 0.44764
           },
           "Postcode": "ME20 6"
          },
          {
           "Center": {
            "lat": 51.12552,
            "lng": -0.1984
           },
           "Postcode": "RH11 7"
          },
          {
           "Center": {
            "lat": 50.97493,
            "lng": 0.09985
           },
           "Postcode": "TN22 1"
          },
          {
           "Center": {
            "lat": 51.16392,
            "lng": 0.96849
           },
           "Postcode": "TN25 5"
          },
          {
           "Center": {
            "lat": 51.08464,
            "lng": 0.92932
           },
           "Postcode": "TN25 7"
          },
          {
           "Center": {
            "lat": 51.05388,
            "lng": 0.84197
           },
           "Postcode": "TN26 2"
          },
          {
           "Center": {
            "lat": 51.10598,
            "lng": 0.75115
           },
           "Postcode": "TN26 3"
          },
          {
           "Center": {
            "lat": 51.19517,
            "lng": 0.77735
           },
           "Postcode": "TN27 0"
          }
         ],
         "PostcodesRemaining": [],
         "PowerCutType": "Unplanned",
         "ServiceDown": false
        },
        {
         "PanelContentUrl": "/power-cut/map/unplanned?incidentId=INCD-59603-N",
         "PostcodeData": [
          {
           "Center": {
            "lat": 51.44583,
            "lng": -0.17861
           },
           "Postcode": "SW18 3"
          }
         ],
         "PostcodesRemaining": [],
         "PowerCutType": "Unplanned",
         "ServiceDown": false
        },
        {
         "PanelContentUrl": "/power-cut/map/unplanned?incidentId=INCD-259047-J",
         "PostcodeData": [
          {
           "Center": {
            "lat": 51.51163,
            "lng": -0.06931
           },
           "Postcode": "E1 8"
          },
          {
           "Center": {
            "lat": 51.51283,
            "lng": -0.07519
           },
           "Postcode": "EC3N 1"
          }
         ],
         "PostcodesRemaining": [],
         "PowerCutType": "Unplanned",
         "ServiceDown": false
        },
        {
         "PanelContentUrl": "/power-cut/map/unplanned?incidentId=INCD-247526-G",
         "PostcodeData": [
          {
           "Center": {
            "lat": 50.77543,
            "lng": 0.26534
           },
           "Postcode": "BN21 1"
          },
          {
           "Center": {
            "lat": 50.78298,
            "lng": 0.2707
           },
           "Postcode": "BN21 2"
          },
          {
           "Center": {
            "lat": 50.76997,
            "lng": 0.28717
           },
           "Postcode": "BN21 3"
          }
         ],
         "PostcodesRemaining": [],
         "PowerCutType": "Unplanned",
         "ServiceDown": false
        },
        {
         "PanelContentUrl": "/power-cut/map/unplanned?incidentId=INCD-247506-G",
         "PostcodeData": [],
         "PostcodesRemaining": [],
         "PowerCutType": "Unplanned",
         "ServiceDown": false
        },
        {
         "PanelContentUrl": "/power-cut/map/unplanned?incidentId=INCD-316989-U",
         "PostcodeData": [
          {
           "Center": {
            "lat": 51.35259,
            "lng": 0.09893
           },
           "Postcode": "BR6 6"
          }
         ],
         "PostcodesRemaining": [],
         "PowerCutType": "Unplanned",
         "ServiceDown": false
        },
        {
         "PanelContentUrl": "/power-cut/map/unplanned?incidentId=INCD-247521-G",
         "PostcodeData": [],
         "PostcodesRemaining": [],
         "PowerCutType": "Unplanned",
         "ServiceDown": false
        },
        {
         "PanelContentUrl": "/power-cut/map/unplanned?incidentId=INCD-247491-G",
         "PostcodeData": [
          {
           "Center": {
            "lat": 51.17337,
            "lng": 0.11607
           },
           "Postcode": "TN8 7"
          },
          {
           "Center": {
            "lat": 51.19036,
            "lng": 0.19494
           },
           "Postcode": "TN11 8"
          },
          {
           "Center": {
            "lat": 51.17845,
            "lng": 0.06419
           },
           "Postcode": "TN8 5"
          },
          {
           "Center": {
            "lat": 51.21796,
            "lng": 0.06563
           },
           "Postcode": "TN8 6"
          }
         ],
         "PostcodesRemaining": [],
         "PowerCutType": "Unplanned",
         "ServiceDown": false
        },
        {
         "PanelContentUrl": "/power-cut/map/unplanned?incidentId=INCD-228158-Z",
         "PostcodeData": [
          {
           "Center": {
            "lat": 52.09559,
            "lng": 0.5694
           },
           "Postcode": "CO10 8"
          },
          {
           "Center": {
            "lat": 52.02063,
            "lng": 0.52622
           },
           "Postcode": "CO9 4"
          },
          {
           "Center": {
            "lat": 52.19778,
            "lng": 0.02815
           },
           "Postcode": "CB23 7"
          },
          {
           "Center": {
            "lat": 52.09023,
            "lng": 0.44958
           },
           "Postcode": "CB9 7"
          },
          {
           "Center": {
            "lat": 51.98828,
            "lng": 0.59388
           },
           "Postcode": "CO9 3"
          }
         ],
         "PostcodesRemaining": [],
         "PowerCutType": "Unplanned",
         "ServiceDown": false
        },
        {
         "PanelContentUrl": "/power-cut/map/unplanned?incidentId=INCD-228262-Z",
         "PostcodeData": [
          {
           "Center": {
            "lat": 51.73916,
            "lng": 0.47094
           },
           "Postcode": "CM1 1"
          }
         ],
         "PostcodesRemaining": [],
         "PowerCutType": "Unplanned",
         "ServiceDown": false
        },
        {
         "PanelContentUrl": "/power-cut/map/unplanned?incidentId=INCD-228240-Z",
         "PostcodeData": [
          {
           "Center": {
            "lat": 51.99754,
            "lng": -0.41959
           },
           "Postcode": "MK45 4"
          },
          {
           "Center": {
            "lat": 52.03705,
            "lng": -0.34724
           },
           "Postcode": "SG17 5"
          },
          {
           "Center": {
            "lat": 51.91821,
            "lng": -0.66224
           },
           "Postcode": "LU7 1"
          },
          {
           "Center": {
            "lat": 52.0339,
            "lng": -0.48682
           },
           "Postcode": "MK45 2"
          },
          {
           "Center": {
            "lat": 52.01188,
            "lng": -0.26247
           },
           "Postcode": "SG15 6"
          }
         ],
         "PostcodesRemaining": [],
         "PowerCutType": "Unplanned",
         "ServiceDown": false
        },
        {
         "PanelContentUrl": "/power-cut/map/unplanned?incidentId=INCD-59586-N",
         "PostcodeData": [],
         "PostcodesRemaining": [],
         "PowerCutType": "Unplanned",
         "ServiceDown": false
        },
        {
         "PanelContentUrl": "/power-cut/map/unplanned?incidentId=INCD-43682-C",
         "PostcodeData": [
          {
           "Center": {
            "lat": 51.57439,
            "lng": 0.26414
           },
           "Postcode": "RM14 1"
          }
         ],
         "PostcodesRemaining": [],
         "PowerCutType": "Unplanned",
         "ServiceDown": false
        },
        {
         "PanelContentUrl": "/power-cut/map/power-back-on?incidentId=INCD-228205-Z",
         "PostcodeData": [
          {
           "Center": {
            "lat": 51.76787,
            "lng": 0.77909
           },
           "Postcode": "CM9 8"
          }
         ],
         "PostcodesRemaining": [],
         "PowerCutType": "Restored",
         "ServiceDown": false
        },
        {
         "PanelContentUrl": "/power-cut/map/power-back-on?incidentId=INCD-247441-G",
         "PostcodeData": [
          {
           "Center": {
            "lat": 51.00193,
            "lng": 0.14924
           },
           "Postcode": "TN22 4"
          }
         ],
         "PostcodesRemaining": [],
         "PowerCutType": "Restored",
         "ServiceDown": false
        },
        {
         "PanelContentUrl": "/power-cut/map/power-back-on?incidentId=INCD-228095-Z",
         "PostcodeData": [],
         "PostcodesRemaining": [],
         "PowerCutType": "Restored",
         "ServiceDown": false
        },
        {
         "PanelContentUrl": "/power-cut/map/power-back-on?incidentId=INCD-247493-G",
         "PostcodeData": [],
         "PostcodesRemaining": [],
         "PowerCutType": "Restored",
         "ServiceDown": false
        },
        {
         "PanelContentUrl": "/power-cut/map/power-back-on?incidentId=INCD-247495-G",
         "PostcodeData": [
          {
           "Center": {
            "lat": 51.32711,
            "lng": 0.13323
           },
           "Postcode": "TN14 7"
          },
          {
           "Center": {
            "lat": 51.32907,
            "lng": 0.31238
           },
           "Postcode": "TN15 7"
          }
         ],
         "PostcodesRemaining": [],
         "PowerCutType": "Restored",
         "ServiceDown": false
        },
        {
         "PanelContentUrl": "/power-cut/map/power-back-on?incidentId=INCD-243592-G",
         "PostcodeData": [
          {
           "Center": {
            "lat": 50.7985,
            "lng": 0.03729
           },
           "Postcode": "BN9 9"
          }
         ],
         "PostcodesRemaining": [],
         "PowerCutType": "Restored",
         "ServiceDown": false
        },
        {
         "PanelContentUrl": "/power-cut/map/power-back-on?incidentId=INCD-247460-G",
         "PostcodeData": [
          {
           "Center": {
            "lat": 51.06213,
            "lng": -0.34112
           },
           "Postcode": "RH12 1"
          },
          {
           "Center": {
            "lat": 51.05158,
            "lng": -0.39266
           },
           "Postcode": "RH13 0"
          },
          {
           "Center": {
            "lat": 51.02142,
            "lng": -0.35011
           },
           "Postcode": "RH13 9"
          }
         ],
         "PostcodesRemaining": [],
         "PowerCutType": "Restored",
         "ServiceDown": false
        },
        {
         "PanelContentUrl": "/power-cut/map/power-back-on?incidentId=INCD-247374-G",
         "PostcodeData": [
          {
           "Center": {
            "lat": 51.28755,
            "lng": -0.35212
           },
           "Postcode": "KT22 9"
          }
         ],
         "PostcodesRemaining": [],
         "PowerCutType": "Restored",
         "ServiceDown": false
        },
        {
         "PanelContentUrl": "/power-cut/map/power-back-on?incidentId=INCD-247082-G",
         "PostcodeData": [
          {
           "Center": {
            "lat": 50.80882,
            "lng": 0.29784
           },
           "Postcode": "BN23 8"
          },
          {
           "Center": {
            "lat": 51.39789,
            "lng": 0.09999
           },
           "Postcode": "BR5 2"
          },
          {
           "Center": {
            "lat": 51.38008,
            "lng": 0.12915
           },
           "Postcode": "BR5 4"
          },
          {
           "Center": {
            "lat": 51.36538,
            "lng": 0.09959
           },
           "Postcode": "BR6 9"
          },
          {
           "Center": {
            "lat": 51.1288,
            "lng": 0.02898
           },
           "Postcode": "RH19 3"
          }
         ],
         "PostcodesRemaining": [],
         "PowerCutType": "Restored",
         "ServiceDown": false
        },
        {
         "PanelContentUrl": "/power-cut/map/power-back-on?incidentId=INCD-228053-Z",
         "PostcodeData": [
          {
           "Center": {
            "lat": 52.39061,
            "lng": 0.7881
           },
           "Postcode": "IP24 2"
          }
         ],
         "PostcodesRemaining": [],
         "PowerCutType": "Restored",
         "ServiceDown": false
        },
        {
         "PanelContentUrl": "/power-cut/map/power-back-on?incidentId=INCD-247498-G",
         "PostcodeData": [
          {
           "Center": {
            "lat": 51.36704,
            "lng": 1.10155
           },
           "Postcode": "CT6 8"
          }
         ],
         "PostcodesRemaining": [],
         "PowerCutType": "Restored",
         "ServiceDown": false
        },
        {
         "PanelContentUrl": "/power-cut/map/power-back-on?incidentId=INCD-259064-J",
         "PostcodeData": [
          {
           "Center": {
            "lat": 51.55508,
            "lng": -0.24114
           },
           "Postcode": "NW10 1"
          },
          {
           "Center": {
            "lat": 51.49979,
            "lng": -0.14031
           },
           "Postcode": "SW1E 6"
          },
          {
           "Center": {
            "lat": 51.48845,
            "lng": -0.17348
           },
           "Postcode": "SW3 6"
          },
          {
           "Center": {
            "lat": 51.5015,
            "lng": -0.16911
           },
           "Postcode": "SW7 1"
          },
          {
           "Center": {
            "lat": 51.49125,
            "lng": -0.17695
           },
           "Postcode": "SW7 3"
          },
          {
           "Center": {
            "lat": 51.51099,
            "lng": -0.16765
           },
           "Postcode": "W2 2"
          },
          {
           "Center": {
            "lat": 51.50943,
            "lng": -0.17922
           },
           "Postcode": "W2 3"
          }
         ],
         "PostcodesRemaining": [],
         "PowerCutType": "Restored",
         "ServiceDown": false
        },
        {
         "PanelContentUrl": "/power-cut/map/power-back-on?incidentId=INCD-246888-G",
         "PostcodeData": [],
         "PostcodesRemaining": [],
         "PowerCutType": "Restored",
         "ServiceDown": false
        },
        {
         "PanelContentUrl": "/power-cut/map/power-back-on?incidentId=INCD-246410-G",
         "PostcodeData": [
          {
           "Center": {
            "lat": 51.34664,
            "lng": 0.75687
           },
           "Postcode": "ME10 3"
          },
          {
           "Center": {
            "lat": 51.02682,
            "lng": -0.4502
           },
           "Postcode": "RH14 9"
          },
          {
           "Center": {
            "lat": 51.08459,
            "lng": 0.02973
           },
           "Postcode": "RH18 5"
          },
          {
           "Center": {
            "lat": 51.25938,
            "lng": 0.1899
           },
           "Postcode": "TN13 1"
          },
          {
           "Center": {
            "lat": 51.01653,
            "lng": 0.05315
           },
           "Postcode": "TN22 3"
          },
          {
           "Center": {
            "lat": 50.87353,
            "lng": 0.53538
           },
           "Postcode": "TN38 9"
          },
          {
           "Center": {
            "lat": 51.09761,
            "lng": 0.10361
           },
           "Postcode": "TN7 4"
          }
         ],
         "PostcodesRemaining": [],
         "PowerCutType": "Restored",
         "ServiceDown": false
        },
        {
         "PanelContentUrl": "/power-cut/map/power-back-on?incidentId=INCD-247112-G",
         "PostcodeData": [
          {
           "Center": {
            "lat": 51.00453,
            "lng": 0.40763
           },
           "Postcode": "TN19 7"
          }
         ],
         "PostcodesRemaining": [],
         "PowerCutType": "Restored",
         "ServiceDown": false
        },
        {
         "PanelContentUrl": "/power-cut/map/power-back-on?incidentId=INCD-227727-Z",
         "PostcodeData": [
          {
           "Center": {
            "lat": 51.89573,
            "lng": 0.90091
           },
           "Postcode": "CO1 1"
          },
          {
           "Center": {
            "lat": 51.88655,
            "lng": 0.9155
           },
           "Postcode": "CO1 2"
          },
          {
           "Center": {
            "lat": 51.87784,
            "lng": 0.89575
           },
           "Postcode": "CO2 7"
          }
         ],
         "PostcodesRemaining": [],
         "PowerCutType": "Restored",
         "ServiceDown": false
        },
        {
         "PanelContentUrl": "/power-cut/map/power-back-on?incidentId=INCD-228058-Z",
         "PostcodeData": [
          {
           "Center": {
            "lat": 51.73887,
            "lng": -0.32002
           },
           "Postcode": "AL1 1"
          },
          {
           "Center": {
            "lat": 51.7382,
            "lng": -0.33903
           },
           "Postcode": "AL1 2"
          },
          {
           "Center": {
            "lat": 51.75298,
            "lng": -0.33094
           },
           "Postcode": "AL1 3"
          },
          {
           "Center": {
            "lat": 51.74622,
            "lng": -0.31307
           },
           "Postcode": "AL1 5"
          },
          {
           "Center": {
            "lat": 51.74556,
            "lng": -0.36039
           },
           "Postcode": "AL3 4"
          },
          {
           "Center": {
            "lat": 51.76217,
            "lng": -0.34382
           },
           "Postcode": "AL3 5"
          },
          {
           "Center": {
            "lat": 51.49018,
            "lng": 0.06816
           },
           "Postcode": "SE18 6"
          }
         ],
         "PostcodesRemaining": [],
         "PowerCutType": "Restored",
         "ServiceDown": false
        },
        {
         "PanelContentUrl": "/power-cut/map/power-back-on?incidentId=INCD-229328-G",
         "PostcodeData": [
          {
           "Center": {
            "lat": 51.38816,
            "lng": 0.07668
           },
           "Postcode": "BR5 1"
          },
          {
           "Center": {
            "lat": 51.37123,
            "lng": 0.0661
           },
           "Postcode": "BR6 8"
          },
          {
           "Center": {
            "lat": 50.85364,
            "lng": 0.49481
           },
           "Postcode": "TN40 2"
          }
         ],
         "PostcodesRemaining": [],
         "PowerCutType": "Restored",
         "ServiceDown": false
        },
        {
         "PanelContentUrl": "/power-cut/map/power-back-on?incidentId=INCD-228056-Z",
         "PostcodeData": [
          {
           "Center": {
            "lat": 51.63393,
            "lng": 0.36766
           },
           "Postcode": "CM13 1"
          },
          {
           "Center": {
            "lat": 51.6351,
            "lng": 0.32705
           },
           "Postcode": "CM15 8"
          },
          {
           "Center": {
            "lat": 51.63941,
            "lng": 0.29246
           },
           "Postcode": "CM15 9"
          },
          {
           "Center": {
            "lat": 51.54876,
            "lng": 0.21977
           },
           "Postcode": "RM12 6"
          }
         ],
         "PostcodesRemaining": [],
         "PowerCutType": "Restored",
         "ServiceDown": false
        },
        {
         "PanelContentUrl": "/power-cut/map/power-back-on?incidentId=INCD-228132-Z",
         "PostcodeData": [
          {
           "Center": {
            "lat": 52.14624,
            "lng": 0.34984
           },
           "Postcode": "CB21 5"
          },
          {
           "Center": {
            "lat": 51.7557,
            "lng": 0.49807
           },
           "Postcode": "CM1 6"
          },
          {
           "Center": {
            "lat": 51.81377,
            "lng": 0.16156
           },
           "Postcode": "CM21 9"
          },
          {
           "Center": {
            "lat": 51.90402,
            "lng": 0.24782
           },
           "Postcode": "CM22 6"
          },
          {
           "Center": {
            "lat": 51.829,
            "lng": 0.21795
           },
           "Postcode": "CM22 7"
          },
          {
           "Center": {
            "lat": 51.85253,
            "lng": 0.14105
           },
           "Postcode": "CM23 4"
          },
          {
           "Center": {
            "lat": 51.87228,
            "lng": 0.1618
           },
           "Postcode": "CM23 9"
          },
          {
           "Center": {
            "lat": 52.36873,
            "lng": 0.4544
           },
           "Postcode": "IP28 8"
          },
          {
           "Center": {
            "lat": 52.15334,
            "lng": -0.40695
           },
           "Postcode": "MK41 0"
          }
         ],
         "PostcodesRemaining": [],
         "PowerCutType": "Restored",
         "ServiceDown": false
        },
        {
         "PanelContentUrl": "/power-cut/map/power-back-on?incidentId=INCD-247490-G",
         "PostcodeData": [
          {
           "Center": {
            "lat": 51.39659,
            "lng": -0.10762
           },
           "Postcode": "CR7 7"
          },
          {
           "Center": {
            "lat": 51.3631,
            "lng": 1.05821
           },
           "Postcode": "CT5 2"
          },
          {
           "Center": {
            "lat": 51.33697,
            "lng": 1.04166
           },
           "Postcode": "CT5 3"
          }
         ],
         "PostcodesRemaining": [],
         "PowerCutType": "Restored",
         "ServiceDown": false
        },
        {
         "PanelContentUrl": "/power-cut/map/power-back-on?incidentId=INCD-247530-G",
         "PostcodeData": [
          {
           "Center": {
            "lat": 50.79517,
            "lng": 0.32966
           },
           "Postcode": "BN23 5"
          },
          {
           "Center": {
            "lat": 50.80088,
            "lng": 0.31235
           },
           "Postcode": "BN23 7"
          },
          {
           "Center": {
            "lat": 50.82428,
            "lng": 0.30717
           },
           "Postcode": "BN24 5"
          },
          {
           "Center": {
            "lat": 50.82423,
            "lng": 0.36882
           },
           "Postcode": "BN24 6"
          }
         ],
         "PostcodesRemaining": [],
         "PowerCutType": "Restored",
         "ServiceDown": false
        },
        {
         "PanelContentUrl": "/power-cut/map/power-back-on?incidentId=INCD-227825-Z",
         "PostcodeData": [
          {
           "Center": {
            "lat": 51.68773,
            "lng": -0.02489
           },
           "Postcode": "EN8 7"
          }
         ],
         "PostcodesRemaining": [],
         "PowerCutType": "Restored",
         "ServiceDown": false
        },
        {
         "PanelContentUrl": "/power-cut/map/power-back-on?incidentId=INCD-228027-Z",
         "PostcodeData": [
          {
           "Center": {
            "lat": 51.63144,
            "lng": -0.20558
           },
           "Postcode": "N20 8"
          }
         ],
         "PostcodesRemaining": [],
         "PowerCutType": "Restored",
         "ServiceDown": false
        },
        {
         "PanelContentUrl": "/power-cut/map/power-back-on?incidentId=INCD-49388-V",
         "PostcodeData": [
          {
           "Center": {
            "lat": 51.20837,
            "lng": -0.47267
           },
           "Postcode": "GU5 9"
          },
          {
           "Center": {
            "lat": 51.36475,
            "lng": 0.43499
           },
           "Postcode": "ME2 1"
          }
         ],
         "PostcodesRemaining": [],
         "PowerCutType": "Restored",
         "ServiceDown": false
        },
        {
         "PanelContentUrl": "/power-cut/map/power-back-on?incidentId=INCD-235992-G",
         "PostcodeData": [
          {
           "Center": {
            "lat": 51.40004,
            "lng": -0.08512
           },
           "Postcode": "SE25 6"
          }
         ],
         "PostcodesRemaining": [],
         "PowerCutType": "Restored",
         "ServiceDown": false
        },
        {
         "PanelContentUrl": "/power-cut/map/power-back-on?incidentId=INCD-228097-Z",
         "PostcodeData": [
          {
           "Center": {
            "lat": 51.98139,
            "lng": 1.21285
           },
           "Postcode": "IP9 1"
          }
         ],
         "PostcodesRemaining": [],
         "PowerCutType": "Restored",
         "ServiceDown": false
        },
        {
         "PanelContentUrl": "/power-cut/map/power-back-on?incidentId=INCD-247476-G",
         "PostcodeData": [
          {
           "Center": {
            "lat": 50.76001,
            "lng": 0.20898
           },
           "Postcode": "BN20 0"
          },
          {
           "Center": {
            "lat": 50.76459,
            "lng": 0.28247
           },
           "Postcode": "BN21 4"
          },
          {
           "Center": {
            "lat": 50.7985,
            "lng": 0.27899
           },
           "Postcode": "BN22 9"
          },
          {
           "Center": {
            "lat": 51.34088,
            "lng": -0.28666
           },
           "Postcode": "KT19 8"
          },
          {
           "Center": {
            "lat": 51.17863,
            "lng": -0.02068
           },
           "Postcode": "RH7 6"
          }
         ],
         "PostcodesRemaining": [],
         "PowerCutType": "Restored",
         "ServiceDown": false
        },
        {
         "PanelContentUrl": "/power-cut/map/power-back-on?incidentId=INCD-227905-Z",
         "PostcodeData": [
          {
           "Center": {
            "lat": 51.6712,
            "lng": -0.02518
           },
           "Postcode": "EN3 6"
          }
         ],
         "PostcodesRemaining": [],
         "PowerCutType": "Restored",
         "ServiceDown": false
        },
        {
         "PanelContentUrl": "/power-cut/map/power-back-on?incidentId=INCD-226596-Z",
         "PostcodeData": [
          {
           "Center": {
            "lat": 52.65701,
            "lng": 1.32767
           },
           "Postcode": "NR7 8"
          }
         ],
         "PostcodesRemaining": [],
         "PowerCutType": "Restored",
         "ServiceDown": false
        },
        {
         "PanelContentUrl": "/power-cut/map/power-back-on?incidentId=INCD-247451-G",
         "PostcodeData": [],
         "PostcodesRemaining": [],
         "PowerCutType": "Restored",
         "ServiceDown": false
        },
        {
         "PanelContentUrl": "/power-cut/map/power-back-on?incidentId=INCD-246385-G",
         "PostcodeData": [
          {
           "Center": {
            "lat": 51.30899,
            "lng": 1.11574
           },
           "Postcode": "CT2 0"
          },
          {
           "Center": {
            "lat": 51.32231,
            "lng": 1.17203
           },
           "Postcode": "CT3 4"
          },
          {
           "Center": {
            "lat": 51.34594,
            "lng": 1.11387
           },
           "Postcode": "CT6 7"
          },
          {
           "Center": {
            "lat": 51.37904,
            "lng": -0.41942
           },
           "Postcode": "KT12 1"
          },
          {
           "Center": {
            "lat": 51.37816,
            "lng": -0.29065
           },
           "Postcode": "KT6 7"
          },
          {
           "Center": {
            "lat": 51.10331,
            "lng": -0.27849
           },
           "Postcode": "RH12 4"
          },
          {
           "Center": {
            "lat": 51.13515,
            "lng": 0.84483
           },
           "Postcode": "TN23 5"
          }
         ],
         "PostcodesRemaining": [],
         "PowerCutType": "Restored",
         "ServiceDown": false
        },
        {
         "PanelContentUrl": "/power-cut/map/power-back-on?incidentId=INCD-228080-Z",
         "PostcodeData": [
          {
           "Center": {
            "lat": 52.48704,
            "lng": 1.58586
           },
           "Postcode": "NR34 0"
          },
          {
           "Center": {
            "lat": 52.45904,
            "lng": 1.57405
           },
           "Postcode": "NR34 9"
          }
         ],
         "PostcodesRemaining": [],
         "PowerCutType": "Restored",
         "ServiceDown": false
        },
        {
         "PanelContentUrl": "/power-cut/map/power-back-on?incidentId=INCD-228135-Z",
         "PostcodeData": [],
         "PostcodesRemaining": [],
         "PowerCutType": "Restored",
         "ServiceDown": false
        },
        {
         "PanelContentUrl": "/power-cut/map/power-back-on?incidentId=INCD-247478-G",
         "PostcodeData": [],
         "PostcodesRemaining": [],
         "PowerCutType": "Restored",
         "ServiceDown": false
        },
        {
         "PanelContentUrl": "/power-cut/map/power-back-on?incidentId=INCD-223885-Z",
         "PostcodeData": [
          {
           "Center": {
            "lat": 51.54396,
            "lng": 0.16402
           },
           "Postcode": "RM10 8"
          },
          {
           "Center": {
            "lat": 51.54712,
            "lng": 0.13837
           },
           "Postcode": "RM9 5"
          },
          {
           "Center": {
            "lat": 51.52581,
            "lng": 0.14253
           },
           "Postcode": "RM9 6"
          }
         ],
         "PostcodesRemaining": [],
         "PowerCutType": "Restored",
         "ServiceDown": false
        },
        {
         "PanelContentUrl": "/power-cut/map/power-back-on?incidentId=INCD-228111-Z",
         "PostcodeData": [
          {
           "Center": {
            "lat": 51.61981,
            "lng": -0.32835
           },
           "Postcode": "HA7 3"
          }
         ],
         "PostcodesRemaining": [],
         "PowerCutType": "Restored",
         "ServiceDown": false
        },
        {
         "PanelContentUrl": "/power-cut/map/power-back-on?incidentId=INCD-228160-Z",
         "PostcodeData": [
          {
           "Center": {
            "lat": 51.82213,
            "lng": -0.84413
           },
           "Postcode": "HP19 8"
          },
          {
           "Center": {
            "lat": 51.83163,
            "lng": -0.82841
           },
           "Postcode": "HP19 9"
          }
         ],
         "PostcodesRemaining": [],
         "PowerCutType": "Restored",
         "ServiceDown": false
        },
        {
         "PanelContentUrl": "/power-cut/map/power-back-on?incidentId=INCD-226004-Z",
         "PostcodeData": [
          {
           "Center": {
            "lat": 51.53515,
            "lng": 0.72765
           },
           "Postcode": "SS1 2"
          }
         ],
         "PostcodesRemaining": [],
         "PowerCutType": "Restored",
         "ServiceDown": false
        },
        {
         "PanelContentUrl": "/power-cut/map/power-back-on?incidentId=INCD-228047-Z",
         "PostcodeData": [
          {
           "Center": {
            "lat": 51.65233,
            "lng": -0.44494
           },
           "Postcode": "WD3 3"
          }
         ],
         "PostcodesRemaining": [],
         "PowerCutType": "Restored",
         "ServiceDown": false
        },
        {
         "PanelContentUrl": "/power-cut/map/power-back-on?incidentId=INCD-247509-G",
         "PostcodeData": [],
         "PostcodesRemaining": [],
         "PowerCutType": "Restored",
         "ServiceDown": false
        },
        {
         "PanelContentUrl": "/power-cut/map/power-back-on?incidentId=INCD-226096-Z",
         "PostcodeData": [
          {
           "Center": {
            "lat": 51.56866,
            "lng": -0.20763
           },
           "Postcode": "NW2 2"
          }
         ],
         "PostcodesRemaining": [],
         "PowerCutType": "Restored",
         "ServiceDown": false
        },
        {
         "PanelContentUrl": "/power-cut/map/power-back-on?incidentId=INCD-227430-Z",
         "PostcodeData": [
          {
           "Center": {
            "lat": 52.7553,
            "lng": 0.39963
           },
           "Postcode": "PE30 1"
          }
         ],
         "PostcodesRemaining": [],
         "PowerCutType": "Restored",
         "ServiceDown": false
        },
        {
         "PanelContentUrl": "/power-cut/map/power-back-on?incidentId=INCD-227947-Z",
         "PostcodeData": [
          {
           "Center": {
            "lat": 51.68733,
            "lng": -0.63312
           },
           "Postcode": "HP6 5"
          }
         ],
         "PostcodesRemaining": [],
         "PowerCutType": "Restored",
         "ServiceDown": false
        },
        {
         "PanelContentUrl": "/power-cut/map/power-back-on?incidentId=INCD-259040-J",
         "PostcodeData": [
          {
           "Center": {
            "lat": 51.52796,
            "lng": -0.05033
           },
           "Postcode": "E2 0"
          }
         ],
         "PostcodesRemaining": [],
         "PowerCutType": "Restored",
         "ServiceDown": false
        },
        {
         "PanelContentUrl": "/power-cut/map/power-back-on?incidentId=INCD-228085-Z",
         "PostcodeData": [],
         "PostcodesRemaining": [],
         "PowerCutType": "Restored",
         "ServiceDown": false
        },
        {
         "PanelContentUrl": "/power-cut/map/power-back-on?incidentId=INCD-198672-J",
         "PostcodeData": [],
         "PostcodesRemaining": [],
         "PowerCutType": "Restored",
         "ServiceDown": false
        },
        {
         "PanelContentUrl": "/power-cut/map/power-back-on?incidentId=INCD-226855-Z",
         "PostcodeData": [
          {
           "Center": {
            "lat": 52.66527,
            "lng": 1.30588
           },
           "Postcode": "NR6 7"
          }
         ],
         "PostcodesRemaining": [],
         "PowerCutType": "Restored",
         "ServiceDown": false
        },
        {
         "PanelContentUrl": "/power-cut/map/power-back-on?incidentId=INCD-228118-Z",
         "PostcodeData": [
          {
           "Center": {
            "lat": 52.23306,
            "lng": 0.71261
           },
           "Postcode": "IP33 2"
          }
         ],
         "PostcodesRemaining": [],
         "PowerCutType": "Restored",
         "ServiceDown": false
        },
        {
         "PanelContentUrl": "/power-cut/map/power-back-on?incidentId=INCD-228046-Z",
         "PostcodeData": [
          {
           "Center": {
            "lat": 51.56906,
            "lng": -0.2785
           },
           "Postcode": "HA9 9"
          }
         ],
         "PostcodesRemaining": [],
         "PowerCutType": "Restored",
         "ServiceDown": false
        },
        {
         "PanelContentUrl": "/power-cut/map/power-back-on?incidentId=INCD-227196-Z",
         "PostcodeData": [],
         "PostcodesRemaining": [],
         "PowerCutType": "Restored",
         "ServiceDown": false
        },
        {
         "PanelContentUrl": "/power-cut/map/power-back-on?incidentId=INCD-247459-G",
         "PostcodeData": [
          {
           "Center": {
            "lat": 51.13003,
            "lng": 0.2629
           },
           "Postcode": "TN1 1"
          },
          {
           "Center": {
            "lat": 51.11879,
            "lng": 0.26673
           },
           "Postcode": "TN2 5"
          }
         ],
         "PostcodesRemaining": [],
         "PowerCutType": "Restored",
         "ServiceDown": false
        },
        {
         "PanelContentUrl": "/power-cut/map/power-back-on?incidentId=INCD-227388-Z",
         "PostcodeData": [],
         "PostcodesRemaining": [],
         "PowerCutType": "Restored",
         "ServiceDown": false
        },
        {
         "PanelContentUrl": "/power-cut/map/power-back-on?incidentId=INCD-197540-J",
         "PostcodeData": [
          {
           "Center": {
            "lat": 51.64218,
            "lng": 0.07464
           },
           "Postcode": "IG10 3"
          }
         ],
         "PostcodesRemaining": [],
         "PowerCutType": "Restored",
         "ServiceDown": false
        },
        {
         "PanelContentUrl": "/power-cut/map/power-back-on?incidentId=INCD-200488-G",
         "PostcodeData": [],
         "PostcodesRemaining": [],
         "PowerCutType": "Restored",
         "ServiceDown": false
        },
        {
         "PanelContentUrl": "/power-cut/map/power-back-on?incidentId=INCD-227990-Z",
         "PostcodeData": [
          {
           "Center": {
            "lat": 52.76164,
            "lng": 1.29981
           },
           "Postcode": "NR10 5"
          }
         ],
         "PostcodesRemaining": [],
         "PowerCutType": "Restored",
         "ServiceDown": false
        },
        {
         "PanelContentUrl": "/power-cut/map/power-back-on?incidentId=INCD-52970-V",
         "PostcodeData": [
          {
           "Center": {
            "lat": 51.43701,
            "lng": 0.40628
           },
           "Postcode": "DA12 2"
          },
          {
           "Center": {
            "lat": 51.40781,
            "lng": 0.41862
           },
           "Postcode": "DA12 3"
          },
          {
           "Center": {
            "lat": 51.40727,
            "lng": 0.33871
           },
           "Postcode": "DA13 9"
          },
          {
           "Center": {
            "lat": 51.39471,
            "lng": 0.31933
           },
           "Postcode": "DA3 7"
          },
          {
           "Center": {
            "lat": 51.37354,
            "lng": 0.2909
           },
           "Postcode": "DA3 8"
          },
          {
           "Center": {
            "lat": 51.44544,
            "lng": 0.27664
           },
           "Postcode": "DA9 9"
          },
          {
           "Center": {
            "lat": 50.95572,
            "lng": -0.11215
           },
           "Postcode": "RH15 0"
          }
         ],
         "PostcodesRemaining": [],
         "PowerCutType": "Restored",
         "ServiceDown": false
        },
        {
         "PanelContentUrl": "/power-cut/map/power-back-on?incidentId=INCD-228109-Z",
         "PostcodeData": [
          {
           "Center": {
            "lat": 51.60746,
            "lng": 0.40111
           },
           "Postcode": "CM12 9"
          }
         ],
         "PostcodesRemaining": [],
         "PowerCutType": "Restored",
         "ServiceDown": false
        },
        {
         "PanelContentUrl": "/power-cut/map/power-back-on?incidentId=INCD-52219-V",
         "PostcodeData": [
          {
           "Center": {
            "lat": 50.84006,
            "lng": 0.45013
           },
           "Postcode": "TN39 3"
          }
         ],
         "PostcodesRemaining": [],
         "PowerCutType": "Restored",
         "ServiceDown": false
        },
        {
         "PanelContentUrl": "/power-cut/map/power-back-on?incidentId=INCD-247500-G",
         "PostcodeData": [
          {
           "Center": {
            "lat": 50.76969,
            "lng": 0.10597
           },
           "Postcode": "BN25 1"
          },
          {
           "Center": {
            "lat": 50.78483,
            "lng": 0.12485
           },
           "Postcode": "BN25 3"
          },
          {
           "Center": {
            "lat": 51.36086,
            "lng": 1.41448
           },
           "Postcode": "CT10 2"
          }
         ],
         "PostcodesRemaining": [],
         "PowerCutType": "Restored",
         "ServiceDown": false
        },
        {
         "PanelContentUrl": "/power-cut/map/power-back-on?incidentId=INCD-228148-Z",
         "PostcodeData": [],
         "PostcodesRemaining": [],
         "PowerCutType": "Restored",
         "ServiceDown": false
        },
        {
         "PanelContentUrl": "/power-cut/map/power-back-on?incidentId=INCD-225481-Z",
         "PostcodeData": [
          {
           "Center": {
            "lat": 51.73165,
            "lng": -0.01743
           },
           "Postcode": "EN10 6"
          },
          {
           "Center": {
            "lat": 51.72062,
            "lng": -0.06982
           },
           "Postcode": "EN7 6"
          },
          {
           "Center": {
            "lat": 51.71567,
            "lng": -0.03358
           },
           "Postcode": "EN8 0"
          },
          {
           "Center": {
            "lat": 51.70444,
            "lng": -0.02712
           },
           "Postcode": "EN8 9"
          },
          {
           "Center": {
            "lat": 51.22098,
            "lng": 0.52324
           },
           "Postcode": "ME17 4"
          }
         ],
         "PostcodesRemaining": [],
         "PowerCutType": "Restored",
         "ServiceDown": false
        },
        {
         "PanelContentUrl": "/power-cut/map/power-back-on?incidentId=INCD-179903-Z",
         "PostcodeData": [
          {
           "Center": {
            "lat": 51.65405,
            "lng": -0.39022
           },
           "Postcode": "WD17 2"
          },
          {
           "Center": {
            "lat": 51.65055,
            "lng": -0.40011
           },
           "Postcode": "WD18 0"
          }
         ],
         "PostcodesRemaining": [],
         "PowerCutType": "Restored",
         "ServiceDown": false
        },
        {
         "PanelContentUrl": "/power-cut/map/power-back-on?incidentId=INCD-247280-G",
         "PostcodeData": [
          {
           "Center": {
            "lat": 50.90142,
            "lng": -0.33556
           },
           "Postcode": "BN44 3"
          },
          {
           "Center": {
            "lat": 51.26859,
            "lng": -0.14446
           },
           "Postcode": "RH1 3"
          },
          {
           "Center": {
            "lat": 51.23978,
            "lng": -0.32231
           },
           "Postcode": "RH4 1"
          },
          {
           "Center": {
            "lat": 51.22401,
            "lng": -0.32815
           },
           "Postcode": "RH4 2"
          },
          {
           "Center": {
            "lat": 51.2194,
            "lng": -0.36226
           },
           "Postcode": "RH4 3"
          },
          {
           "Center": {
            "lat": 51.19218,
            "lng": -0.31985
           },
           "Postcode": "RH5 4"
          }
         ],
         "PostcodesRemaining": [],
         "PowerCutType": "Restored",
         "ServiceDown": false
        },
        {
         "PanelContentUrl": "/power-cut/map/power-back-on?incidentId=INCD-43742-C",
         "PostcodeData": [
          {
           "Center": {
            "lat": 51.55698,
            "lng": 0.19892
           },
           "Postcode": "RM12 4"
          }
         ],
         "PostcodesRemaining": [],
         "PowerCutType": "Restored",
         "ServiceDown": false
        },
        {
         "PanelContentUrl": "/power-cut/map/power-back-on?incidentId=INCD-259065-J",
         "PostcodeData": [],
         "PostcodesRemaining": [],
         "PowerCutType": "Restored",
         "ServiceDown": false
        },
        {
         "PanelContentUrl": "/power-cut/map/power-back-on?incidentId=INCD-258819-J",
         "PostcodeData": [
          {
           "Center": {
            "lat": 51.54715,
            "lng": 0.00299
           },
           "Postcode": "E15 1"
          }
         ],
         "PostcodesRemaining": [],
         "PowerCutType": "Restored",
         "ServiceDown": false
        },
        {
         "PanelContentUrl": "/power-cut/map/power-back-on?incidentId=INCD-43735-C",
         "PostcodeData": [],
         "PostcodesRemaining": [],
         "PowerCutType": "Restored",
         "ServiceDown": false
        },
        {
         "PanelContentUrl": "/power-cut/map/power-back-on?incidentId=INCD-247505-G",
         "PostcodeData": [
          {
           "Center": {
            "lat": 51.0903,
            "lng": 1.16905
           },
           "Postcode": "CT19 5"
          },
          {
           "Center": {
            "lat": 51.0924,
            "lng": 1.19131
           },
           "Postcode": "CT19 6"
          },
          {
           "Center": {
            "lat": 51.07681,
            "lng": 1.19243
           },
           "Postcode": "CT20 1"
          }
         ],
         "PostcodesRemaining": [],
         "PowerCutType": "Restored",
         "ServiceDown": false
        },
        {
         "PanelContentUrl": "/power-cut/map/power-back-on?incidentId=INCD-228171-Z",
         "PostcodeData": [],
         "PostcodesRemaining": [],
         "PowerCutType": "Restored",
         "ServiceDown": false
        },
        {
         "PanelContentUrl": "/power-cut/map/planned-work?incidentId=INCD-6245-O",
         "PostcodeData": [
          {
           "Center": {
            "lat": 51.77808,
            "lng": -0.88092
           },
           "Postcode": "HP17 8"
          }
         ],
         "PostcodesRemaining": [],
         "PowerCutType": "Planned",
         "ServiceDown": false
        },
        {
         "PanelContentUrl": "/power-cut/map/planned-work?incidentId=INCD-6329-O",
         "PostcodeData": [
          {
           "Center": {
            "lat": 51.95973,
            "lng": -0.25462
           },
           "Postcode": "SG4 0"
          },
          {
           "Center": {
            "lat": 51.96229,
            "lng": -0.2135
           },
           "Postcode": "SG6 2"
          }
         ],
         "PostcodesRemaining": [],
         "PowerCutType": "Planned",
         "ServiceDown": false
        },
        {
         "PanelContentUrl": "/power-cut/map/planned-work?incidentId=INCD-6528-O",
         "PostcodeData": [],
         "PostcodesRemaining": [],
         "PowerCutType": "Planned",
         "ServiceDown": false
        },
        {
         "PanelContentUrl": "/power-cut/map/planned-work?incidentId=INCD-6545-O",
         "PostcodeData": [
          {
           "Center": {
            "lat": 52.20662,
            "lng": 1.18843
           },
           "Postcode": "IP14 6"
          }
         ],
         "PostcodesRemaining": [],
         "PowerCutType": "Planned",
         "ServiceDown": false
        },
        {
         "PanelContentUrl": "/power-cut/map/planned-work?incidentId=INCD-6522-O",
         "PostcodeData": [
          {
           "Center": {
            "lat": 52.85035,
            "lng": 1.23139
           },
           "Postcode": "NR11 7"
          }
         ],
         "PostcodesRemaining": [],
         "PowerCutType": "Planned",
         "ServiceDown": false
        },
        {
         "PanelContentUrl": "/power-cut/map/planned-work?incidentId=INCD-51547-V",
         "PostcodeData": [],
         "PostcodesRemaining": [],
         "PowerCutType": "Planned",
         "ServiceDown": false
        },
        {
         "PanelContentUrl": "/power-cut/map/planned-work?incidentId=INCD-224623-Z",
         "PostcodeData": [
          {
           "Center": {
            "lat": 51.56571,
            "lng": 0.50676
           },
           "Postcode": "SS13 3"
          }
         ],
         "PostcodesRemaining": [],
         "PowerCutType": "Planned",
         "ServiceDown": false
        },
        {
         "PanelContentUrl": "/power-cut/map/planned-work?incidentId=INCD-6194-O",
         "PostcodeData": [
          {
           "Center": {
            "lat": 52.02046,
            "lng": 1.27993
           },
           "Postcode": "IP10 0"
          }
         ],
         "PostcodesRemaining": [],
         "PowerCutType": "Planned",
         "ServiceDown": false
        },
        {
         "PanelContentUrl": "/power-cut/map/planned-work?incidentId=INCD-226750-Z",
         "PostcodeData": [],
         "PostcodesRemaining": [],
         "PowerCutType": "Planned",
         "ServiceDown": false
        },
        {
         "PanelContentUrl": "/power-cut/map/planned-work?incidentId=INCD-6261-O",
         "PostcodeData": [
          {
           "Center": {
            "lat": 52.19107,
            "lng": 1.5014
           },
           "Postcode": "IP17 1"
          }
         ],
         "PostcodesRemaining": [],
         "PowerCutType": "Planned",
         "ServiceDown": false
        },
        {
         "PanelContentUrl": "/power-cut/map/planned-work?incidentId=INCD-6402-O",
         "PostcodeData": [
          {
           "Center": {
            "lat": 52.90884,
            "lng": 1.33547
           },
           "Postcode": "NR27 0"
          }
         ],
         "PostcodesRemaining": [],
         "PowerCutType": "Planned",
         "ServiceDown": false
        },
        {
         "PanelContentUrl": "/power-cut/map/planned-work?incidentId=INCD-47170-V",
         "PostcodeData": [
          {
           "Center": {
            "lat": 50.93321,
            "lng": -0.18324
           },
           "Postcode": "BN6 9"
          }
         ],
         "PostcodesRemaining": [],
         "PowerCutType": "Planned",
         "ServiceDown": false
        },
        {
         "PanelContentUrl": "/power-cut/map/planned-work?incidentId=INCD-212888-Z",
         "PostcodeData": [
          {
           "Center": {
            "lat": 52.92176,
            "lng": 0.54699
           },
           "Postcode": "PE36 5"
          }
         ],
         "PostcodesRemaining": [],
         "PowerCutType": "Planned",
         "ServiceDown": false
        },
        {
         "PanelContentUrl": "/power-cut/map/planned-work?incidentId=INCD-51573-V",
         "PostcodeData": [
          {
           "Center": {
            "lat": 51.11946,
            "lng": 0.46021
           },
           "Postcode": "TN17 1"
          },
          {
           "Center": {
            "lat": 51.1132,
            "lng": 0.52291
           },
           "Postcode": "TN17 2"
          }
         ],
         "PostcodesRemaining": [],
         "PowerCutType": "Planned",
         "ServiceDown": false
        },
        {
         "PanelContentUrl": "/power-cut/map/planned-work?incidentId=INCD-48511-V",
         "PostcodeData": [
          {
           "Center": {
            "lat": 51.06513,
            "lng": 1.06417
           },
           "Postcode": "CT21 6"
          },
          {
           "Center": {
            "lat": 51.36519,
            "lng": 0.21181
           },
           "Postcode": "DA4 0"
          }
         ],
         "PostcodesRemaining": [],
         "PowerCutType": "Planned",
         "ServiceDown": false
        },
        {
         "PanelContentUrl": "/power-cut/map/planned-work?incidentId=INCD-52012-V",
         "PostcodeData": [
          {
           "Center": {
            "lat": 51.18096,
            "lng": 0.48663
           },
           "Postcode": "TN12 9"
          }
         ],
         "PostcodesRemaining": [],
         "PowerCutType": "Planned",
         "ServiceDown": false
        },
        {
         "PanelContentUrl": "/power-cut/map/planned-work?incidentId=INCD-225080-Z",
         "PostcodeData": [
          {
           "Center": {
            "lat": 52.27333,
            "lng": 0.42884
           },
           "Postcode": "CB8 7"
          }
         ],
         "PostcodesRemaining": [],
         "PowerCutType": "Planned",
         "ServiceDown": false
        },
        {
         "PanelContentUrl": "/power-cut/map/planned-work?incidentId=INCD-51714-V",
         "PostcodeData": [
          {
           "Center": {
            "lat": 50.835,
            "lng": -0.2146
           },
           "Postcode": "BN41 1"
          }
         ],
         "PostcodesRemaining": [],
         "PowerCutType": "Planned",
         "ServiceDown": false
        },
        {
         "PanelContentUrl": "/power-cut/map/planned-work?incidentId=INCD-6511-O",
         "PostcodeData": [
          {
           "Center": {
            "lat": 52.40253,
            "lng": 1.55154
           },
           "Postcode": "NR34 8"
          },
          {
           "Center": {
            "lat": 52.4291,
            "lng": 1.44153
           },
           "Postcode": "NR35 1"
          }
         ],
         "PostcodesRemaining": [],
         "PowerCutType": "Planned",
         "ServiceDown": false
        },
        {
         "PanelContentUrl": "/power-cut/map/planned-work?incidentId=INCD-51212-V",
         "PostcodeData": [
          {
           "Center": {
            "lat": 51.45014,
            "lng": 0.55263
           },
           "Postcode": "ME3 8"
          },
          {
           "Center": {
            "lat": 51.44237,
            "lng": 0.61427
           },
           "Postcode": "ME3 9"
          }
         ],
         "PostcodesRemaining": [],
         "PowerCutType": "Planned",
         "ServiceDown": false
        },
        {
         "IncidentsCount": 2,
         "PanelContentUrl": "/power-cut/map/multiple?postcodeSector=CM19 5",
         "PostcodeData": [
          {
           "Center": {
            "lat": 51.76088,
            "lng": 0.04634
           },
           "Postcode": "CM19 5"
          }
         ],
         "PostcodesRemaining": [],
         "PowerCutType": "Multiple",
         "ServiceDown": false
        },
        {
         "IncidentsCount": 2,
         "PanelContentUrl": "/power-cut/map/multiple?postcodeSector=RH19 4",
         "PostcodeData": [
          {
           "Center": {
            "lat": 51.08781,
            "lng": -0.03675
           },
           "Postcode": "RH19 4"
          }
         ],
         "PostcodesRemaining": [],
         "PowerCutType": "Multiple",
         "ServiceDown": false
        },
        {
         "IncidentsCount": 2,
         "PanelContentUrl": "/power-cut/map/multiple?postcodeSector=RH13 8",
         "PostcodeData": [
          {
           "Center": {
            "lat": 50.97861,
            "lng": -0.33269
           },
           "Postcode": "RH13 8"
          }
         ],
         "PostcodesRemaining": [],
         "PowerCutType": "Multiple",
         "ServiceDown": false
        },
        {
         "IncidentsCount": 2,
         "PanelContentUrl": "/power-cut/map/multiple?postcodeSector=RH16 3",
         "PostcodeData": [
          {
           "Center": {
            "lat": 50.99915,
            "lng": -0.09162
           },
           "Postcode": "RH16 3"
          }
         ],
         "PostcodesRemaining": [],
         "PowerCutType": "Multiple",
         "ServiceDown": false
        },
        {
         "IncidentsCount": 2,
         "PanelContentUrl": "/power-cut/map/multiple?postcodeSector=TW2 5",
         "PostcodeData": [
          {
           "Center": {
            "lat": 51.43934,
            "lng": -0.3532
           },
           "Postcode": "TW2 5"
          }
         ],
         "PostcodesRemaining": [],
         "PowerCutType": "Multiple",
         "ServiceDown": false
        },
        {
         "IncidentsCount": 2,
         "PanelContentUrl": "/power-cut/map/multiple?postcodeSector=TW9 4",
         "PostcodeData": [
          {
           "Center": {
            "lat": 51.47271,
            "lng": -0.28122
           },
           "Postcode": "TW9 4"
          }
         ],
         "PostcodesRemaining": [],
         "PowerCutType": "Multiple",
         "ServiceDown": false
        },
        {
         "IncidentsCount": 2,
         "PanelContentUrl": "/power-cut/map/multiple?postcodeSector=TN27 8",
         "PostcodeData": [
          {
           "Center": {
            "lat": 51.12933,
            "lng": 0.65574
           },
           "Postcode": "TN27 8"
          }
         ],
         "PostcodesRemaining": [],
         "PowerCutType": "Multiple",
         "ServiceDown": false
        },
        {
         "IncidentsCount": 2,
         "PanelContentUrl": "/power-cut/map/multiple?postcodeSector=RM6 4",
         "PostcodeData": [
          {
           "Center": {
            "lat": 51.57262,
            "lng": 0.12059
           },
           "Postcode": "RM6 4"
          }
         ],
         "PostcodesRemaining": [],
         "PowerCutType": "Multiple",
         "ServiceDown": false
        },
        {
         "IncidentsCount": 2,
         "PanelContentUrl": "/power-cut/map/multiple?postcodeSector=BN20 7",
         "PostcodeData": [
          {
           "Center": {
            "lat": 50.75111,
            "lng": 0.25442
           },
           "Postcode": "BN20 7"
          }
         ],
         "PostcodesRemaining": [],
         "PowerCutType": "Multiple",
         "ServiceDown": false
        },
        {
         "IncidentsCount": 2,
         "PanelContentUrl": "/power-cut/map/multiple?postcodeSector=BN20 8",
         "PostcodeData": [
          {
           "Center": {
            "lat": 50.77461,
            "lng": 0.24836
           },
           "Postcode": "BN20 8"
          }
         ],
         "PostcodesRemaining": [],
         "PowerCutType": "Multiple",
         "ServiceDown": false
        },
        {
         "IncidentsCount": 2,
         "PanelContentUrl": "/power-cut/map/multiple?postcodeSector=BN22 8",
         "PostcodeData": [
          {
           "Center": {
            "lat": 50.78109,
            "lng": 0.29088
           },
           "Postcode": "BN22 8"
          }
         ],
         "PostcodesRemaining": [],
         "PowerCutType": "Multiple",
         "ServiceDown": false
        },
        {
         "IncidentsCount": 2,
         "PanelContentUrl": "/power-cut/map/multiple?postcodeSector=ME13 9",
         "PostcodeData": [
          {
           "Center": {
            "lat": 51.29953,
            "lng": 0.94582
           },
           "Postcode": "ME13 9"
          }
         ],
         "PostcodesRemaining": [],
         "PowerCutType": "Multiple",
         "ServiceDown": false
        },
        {
         "IncidentsCount": 2,
         "PanelContentUrl": "/power-cut/map/multiple?postcodeSector=CT2 9",
         "PostcodeData": [
          {
           "Center": {
            "lat": 51.30244,
            "lng": 1.03381
           },
           "Postcode": "CT2 9"
          }
         ],
         "PostcodesRemaining": [],
         "PowerCutType": "Multiple",
         "ServiceDown": false
        },
        {
         "IncidentsCount": 2,
         "PanelContentUrl": "/power-cut/map/multiple?postcodeSector=DA13 0",
         "PostcodeData": [
          {
           "Center": {
            "lat": 51.35829,
            "lng": 0.37173
           },
           "Postcode": "DA13 0"
          }
         ],
         "PostcodesRemaining": [],
         "PowerCutType": "Multiple",
         "ServiceDown": false
        },
        {
         "IncidentsCount": 2,
         "PanelContentUrl": "/power-cut/map/multiple?postcodeSector=ME13 8",
         "PostcodeData": [
          {
           "Center": {
            "lat": 51.30868,
            "lng": 0.89844
           },
           "Postcode": "ME13 8"
          }
         ],
         "PostcodesRemaining": [],
         "PowerCutType": "Multiple",
         "ServiceDown": false
        },
        {
         "IncidentsCount": 2,
         "PanelContentUrl": "/power-cut/map/multiple?postcodeSector=SM6 0",
         "PostcodeData": [
          {
           "Center": {
            "lat": 51.35171,
            "lng": -0.15179
           },
           "Postcode": "SM6 0"
          }
         ],
         "PostcodesRemaining": [],
         "PowerCutType": "Multiple",
         "ServiceDown": false
        },
        {
         "IncidentsCount": 3,
         "PanelContentUrl": "/power-cut/map/multiple?postcodeSector=BR6 0",
         "PostcodeData": [
          {
           "Center": {
            "lat": 51.37833,
            "lng": 0.09703
           },
           "Postcode": "BR6 0"
          }
         ],
         "PostcodesRemaining": [],
         "PowerCutType": "Multiple",
         "ServiceDown": false
        },
        {
         "IncidentsCount": 2,
         "PanelContentUrl": "/power-cut/map/multiple?postcodeSector=BR6 7",
         "PostcodeData": [
          {
           "Center": {
            "lat": 51.35028,
            "lng": 0.12956
           },
           "Postcode": "BR6 7"
          }
         ],
         "PostcodesRemaining": [],
         "PowerCutType": "Multiple",
         "ServiceDown": false
        },
        {
         "IncidentsCount": 2,
         "PanelContentUrl": "/power-cut/map/multiple?postcodeSector=GU21 5",
         "PostcodeData": [
          {
           "Center": {
            "lat": 51.33373,
            "lng": -0.53669
           },
           "Postcode": "GU21 5"
          }
         ],
         "PostcodesRemaining": [],
         "PowerCutType": "Multiple",
         "ServiceDown": false
        },
        {
         "IncidentsCount": 2,
         "PanelContentUrl": "/power-cut/map/multiple?postcodeSector=SG18 0",
         "PostcodeData": [
          {
           "Center": {
            "lat": 52.09944,
            "lng": -0.25446
           },
           "Postcode": "SG18 0"
          }
         ],
         "PostcodesRemaining": [],
         "PowerCutType": "Multiple",
         "ServiceDown": false
        },
        {
         "IncidentsCount": 2,
         "PanelContentUrl": "/power-cut/map/multiple?postcodeSector=CB10 1",
         "PostcodeData": [
          {
           "Center": {
            "lat": 52.06448,
            "lng": 0.21172
           },
           "Postcode": "CB10 1"
          }
         ],
         "PostcodesRemaining": [],
         "PowerCutType": "Multiple",
         "ServiceDown": false
        },
        {
         "IncidentsCount": 2,
         "PanelContentUrl": "/power-cut/map/multiple?postcodeSector=RH5 6",
         "PostcodeData": [
          {
           "Center": {
            "lat": 51.21745,
            "lng": -0.37946
           },
           "Postcode": "RH5 6"
          }
         ],
         "PostcodesRemaining": [],
         "PowerCutType": "Multiple",
         "ServiceDown": false
        },
        {
         "IncidentsCount": 2,
         "PanelContentUrl": "/power-cut/map/multiple?postcodeSector=SW3 2",
         "PostcodeData": [
          {
           "Center": {
            "lat": 51.49449,
            "lng": -0.16498
           },
           "Postcode": "SW3 2"
          }
         ],
         "PostcodesRemaining": [],
         "PowerCutType": "Multiple",
         "ServiceDown": false
        },
        {
         "IncidentsCount": 2,
         "PanelContentUrl": "/power-cut/map/multiple?postcodeSector=SW7 2",
         "PostcodeData": [
          {
           "Center": {
            "lat": 51.49777,
            "lng": -0.17472
           },
           "Postcode": "SW7 2"
          }
         ],
         "PostcodesRemaining": [],
         "PowerCutType": "Multiple",
         "ServiceDown": false
        },
        {
         "IncidentsCount": 2,
         "PanelContentUrl": "/power-cut/map/multiple?postcodeSector=SW7 5",
         "PostcodeData": [
          {
           "Center": {
            "lat": 51.49897,
            "lng": -0.1808
           },
           "Postcode": "SW7 5"
          }
         ],
         "PostcodesRemaining": [],
         "PowerCutType": "Multiple",
         "ServiceDown": false
        },
        {
         "IncidentsCount": 2,
         "PanelContentUrl": "/power-cut/map/multiple?postcodeSector=DA1 1",
         "PostcodeData": [
          {
           "Center": {
            "lat": 51.4368,
            "lng": 0.22655
           },
           "Postcode": "DA1 1"
          }
         ],
         "PostcodesRemaining": [],
         "PowerCutType": "Multiple",
         "ServiceDown": false
        },
        {
         "IncidentsCount": 2,
         "PanelContentUrl": "/power-cut/map/multiple?postcodeSector=DA2 6",
         "PostcodeData": [
          {
           "Center": {
            "lat": 51.44219,
            "lng": 0.25034
           },
           "Postcode": "DA2 6"
          }
         ],
         "PostcodesRemaining": [],
         "PowerCutType": "Multiple",
         "ServiceDown": false
        },
        {
         "IncidentsCount": 2,
         "PanelContentUrl": "/power-cut/map/multiple?postcodeSector=BN23 6",
         "PostcodeData": [
          {
           "Center": {
            "lat": 50.7904,
            "lng": 0.30489
           },
           "Postcode": "BN23 6"
          }
         ],
         "PostcodesRemaining": [],
         "PowerCutType": "Multiple",
         "ServiceDown": false
        },
        {
         "IncidentsCount": 2,
         "PanelContentUrl": "/power-cut/map/multiple?postcodeSector=BN27 4",
         "PostcodeData": [
          {
           "Center": {
            "lat": 50.8985,
            "lng": 0.29812
           },
           "Postcode": "BN27 4"
          }
         ],
         "PostcodesRemaining": [],
         "PowerCutType": "Multiple",
         "ServiceDown": false
        },
        {
         "IncidentsCount": 2,
         "PanelContentUrl": "/power-cut/map/multiple?postcodeSector=BN25 4",
         "PostcodeData": [
          {
           "Center": {
            "lat": 50.77229,
            "lng": 0.15264
           },
           "Postcode": "BN25 4"
          }
         ],
         "PostcodesRemaining": [],
         "PowerCutType": "Multiple",
         "ServiceDown": false
        },
        {
         "IncidentsCount": 2,
         "PanelContentUrl": "/power-cut/map/multiple?postcodeSector=BN26 5",
         "PostcodeData": [
          {
           "Center": {
            "lat": 50.80746,
            "lng": 0.18502
           },
           "Postcode": "BN26 5"
          }
         ],
         "PostcodesRemaining": [],
         "PowerCutType": "Multiple",
         "ServiceDown": false
        },
        {
         "IncidentsCount": 2,
         "PanelContentUrl": "/power-cut/map/multiple?postcodeSector=NR34 7",
         "PostcodeData": [
          {
           "Center": {
            "lat": 52.41102,
            "lng": 1.64543
           },
           "Postcode": "NR34 7"
          }
         ],
         "PostcodesRemaining": [],
         "PowerCutType": "Multiple",
         "ServiceDown": false
        },
        {
         "IncidentsCount": 2,
         "PanelContentUrl": "/power-cut/map/multiple?postcodeSector=PE29 1",
         "PostcodeData": [
          {
           "Center": {
            "lat": 52.33959,
            "lng": -0.16342
           },
           "Postcode": "PE29 1"
          }
         ],
         "PostcodesRemaining": [],
         "PowerCutType": "Multiple",
         "ServiceDown": false
        },
        {
         "IncidentsCount": 2,
         "PanelContentUrl": "/power-cut/map/multiple?postcodeSector=TN32 5",
         "PostcodeData": [
          {
           "Center": {
            "lat": 50.97846,
            "lng": 0.48908
           },
           "Postcode": "TN32 5"
          }
         ],
         "PostcodesRemaining": [],
         "PowerCutType": "Multiple",
         "ServiceDown": false
        },
        {
         "IncidentsCount": 2,
         "PanelContentUrl": "/power-cut/map/multiple?postcodeSector=PE30 2",
         "PostcodeData": [
          {
           "Center": {
            "lat": 52.7768,
            "lng": 0.39582
           },
           "Postcode": "PE30 2"
          }
         ],
         "PostcodesRemaining": [],
         "PowerCutType": "Multiple",
         "ServiceDown": false
        },
        {
         "IncidentsCount": 2,
         "PanelContentUrl": "/power-cut/map/multiple?postcodeSector=ME6 5",
         "PostcodeData": [
          {
           "Center": {
            "lat": 51.32972,
            "lng": 0.4354
           },
           "Postcode": "ME6 5"
          }
         ],
         "PostcodesRemaining": [],
         "PowerCutType": "Multiple",
         "ServiceDown": false
        },
        {
         "IncidentsCount": 2,
         "PanelContentUrl": "/power-cut/map/multiple?postcodeSector=CO11 2",
         "PostcodeData": [
          {
           "Center": {
            "lat": 51.92494,
            "lng": 1.09434
           },
           "Postcode": "CO11 2"
          }
         ],
         "PostcodesRemaining": [],
         "PowerCutType": "Multiple",
         "ServiceDown": false
        },
        {
         "IncidentsCount": 2,
         "PanelContentUrl": "/power-cut/map/multiple?postcodeSector=CO7 7",
         "PostcodeData": [
          {
           "Center": {
            "lat": 51.8974,
            "lng": 0.9992
           },
           "Postcode": "CO7 7"
          }
         ],
         "PostcodesRemaining": [],
         "PowerCutType": "Multiple",
         "ServiceDown": false
        }
       ],
       "IsCached": false,
       "PollingInterval": 5000,
       "ServiceDown": false,
       "TwitterFeeds": []
      },
      "text/plain": [
       "<IPython.core.display.JSON object>"
      ]
     },
     "execution_count": 4,
     "metadata": {
      "application/json": {
       "expanded": false,
       "root": "root"
      }
     },
     "output_type": "execute_result"
    }
   ],
   "source": [
    "incidents_url = 'https://www.ukpowernetworks.co.uk/Incidents/GetIncidents'\n",
    "\n",
    "r_json = requests.get(incidents_url).json()\n",
    "\n",
    "JSON(r_json)"
   ]
  },
  {
   "cell_type": "markdown",
   "id": "chief-panel",
   "metadata": {},
   "source": [
    "<br>\n",
    "\n",
    "We'll now extract the incident ids as we can use them to generate the url for the JSON endpoint with the incident data. Items where the `PowerCutType` is set to `Multiple` have been purposefully removed, this is because they don't include an incident id (but we'll handle them next)."
   ]
  },
  {
   "cell_type": "code",
   "execution_count": 5,
   "id": "regulation-transsexual",
   "metadata": {},
   "outputs": [],
   "source": [
    "#exports\n",
    "extract_single_incident_ids = lambda r_json: [\n",
    "    incident['PanelContentUrl'].split('incidentId=')[1] \n",
    "    for incident \n",
    "    in r_json['Incidents'] \n",
    "    if incident['PowerCutType'] != 'Multiple'\n",
    "]"
   ]
  },
  {
   "cell_type": "code",
   "execution_count": 6,
   "id": "forced-experiment",
   "metadata": {},
   "outputs": [
    {
     "data": {
      "application/json": [
       [
        "INCD-228214-Z",
        "INCD-53519-V",
        "INCD-228141-Z",
        "INCD-247497-G",
        "INCD-228255-Z",
        "INCD-247468-G",
        "INCD-247499-G",
        "INCD-247486-G",
        "INCD-228258-Z",
        "INCD-228228-Z",
        "INCD-247522-G",
        "INCD-247525-G",
        "INCD-247513-G",
        "INCD-59603-N",
        "INCD-259047-J",
        "INCD-247526-G",
        "INCD-247506-G",
        "INCD-316989-U",
        "INCD-247521-G",
        "INCD-247491-G",
        "INCD-228158-Z",
        "INCD-228262-Z",
        "INCD-228240-Z",
        "INCD-59586-N",
        "INCD-43682-C",
        "INCD-228205-Z",
        "INCD-247441-G",
        "INCD-228095-Z",
        "INCD-247493-G",
        "INCD-247495-G",
        "INCD-243592-G",
        "INCD-247460-G",
        "INCD-247374-G",
        "INCD-247082-G",
        "INCD-228053-Z",
        "INCD-247498-G",
        "INCD-259064-J",
        "INCD-246888-G",
        "INCD-246410-G",
        "INCD-247112-G",
        "INCD-227727-Z",
        "INCD-228058-Z",
        "INCD-229328-G",
        "INCD-228056-Z",
        "INCD-228132-Z",
        "INCD-247490-G",
        "INCD-247530-G",
        "INCD-227825-Z",
        "INCD-228027-Z",
        "INCD-49388-V",
        "INCD-235992-G",
        "INCD-228097-Z",
        "INCD-247476-G",
        "INCD-227905-Z",
        "INCD-226596-Z",
        "INCD-247451-G",
        "INCD-246385-G",
        "INCD-228080-Z",
        "INCD-228135-Z",
        "INCD-247478-G",
        "INCD-223885-Z",
        "INCD-228111-Z",
        "INCD-228160-Z",
        "INCD-226004-Z",
        "INCD-228047-Z",
        "INCD-247509-G",
        "INCD-226096-Z",
        "INCD-227430-Z",
        "INCD-227947-Z",
        "INCD-259040-J",
        "INCD-228085-Z",
        "INCD-198672-J",
        "INCD-226855-Z",
        "INCD-228118-Z",
        "INCD-228046-Z",
        "INCD-227196-Z",
        "INCD-247459-G",
        "INCD-227388-Z",
        "INCD-197540-J",
        "INCD-200488-G",
        "INCD-227990-Z",
        "INCD-52970-V",
        "INCD-228109-Z",
        "INCD-52219-V",
        "INCD-247500-G",
        "INCD-228148-Z",
        "INCD-225481-Z",
        "INCD-179903-Z",
        "INCD-247280-G",
        "INCD-43742-C",
        "INCD-259065-J",
        "INCD-258819-J",
        "INCD-43735-C",
        "INCD-247505-G",
        "INCD-228171-Z",
        "INCD-6245-O",
        "INCD-6329-O",
        "INCD-6528-O",
        "INCD-6545-O",
        "INCD-6522-O",
        "INCD-51547-V",
        "INCD-224623-Z",
        "INCD-6194-O",
        "INCD-226750-Z",
        "INCD-6261-O",
        "INCD-6402-O",
        "INCD-47170-V",
        "INCD-212888-Z",
        "INCD-51573-V",
        "INCD-48511-V",
        "INCD-52012-V",
        "INCD-225080-Z",
        "INCD-51714-V",
        "INCD-6511-O",
        "INCD-51212-V"
       ]
      ],
      "text/plain": [
       "<IPython.core.display.JSON object>"
      ]
     },
     "execution_count": 6,
     "metadata": {
      "application/json": {
       "expanded": false,
       "root": "root"
      }
     },
     "output_type": "execute_result"
    }
   ],
   "source": [
    "single_incident_ids = extract_single_incident_ids(r_json)\n",
    "\n",
    "JSON([single_incident_ids])"
   ]
  },
  {
   "cell_type": "markdown",
   "id": "trying-substance",
   "metadata": {},
   "source": [
    "<br>\n",
    "\n",
    "For the `Multiple` items we'll extract the url for the incidents metadata, which includes the ids within them."
   ]
  },
  {
   "cell_type": "code",
   "execution_count": 7,
   "id": "aerial-belize",
   "metadata": {},
   "outputs": [],
   "source": [
    "#exports\n",
    "extract_multiple_incident_urls = lambda r_json: [\n",
    "    f\"https://www.ukpowernetworks.co.uk{incident['PanelContentUrl']}\"\n",
    "    for incident \n",
    "    in r_json['Incidents'] \n",
    "    if incident['PowerCutType'] == 'Multiple'\n",
    "]"
   ]
  },
  {
   "cell_type": "code",
   "execution_count": 8,
   "id": "fundamental-senior",
   "metadata": {},
   "outputs": [
    {
     "data": {
      "application/json": [
       [
        "https://www.ukpowernetworks.co.uk/power-cut/map/multiple?postcodeSector=CM19 5",
        "https://www.ukpowernetworks.co.uk/power-cut/map/multiple?postcodeSector=RH19 4",
        "https://www.ukpowernetworks.co.uk/power-cut/map/multiple?postcodeSector=RH13 8",
        "https://www.ukpowernetworks.co.uk/power-cut/map/multiple?postcodeSector=RH16 3",
        "https://www.ukpowernetworks.co.uk/power-cut/map/multiple?postcodeSector=TW2 5",
        "https://www.ukpowernetworks.co.uk/power-cut/map/multiple?postcodeSector=TW9 4",
        "https://www.ukpowernetworks.co.uk/power-cut/map/multiple?postcodeSector=TN27 8",
        "https://www.ukpowernetworks.co.uk/power-cut/map/multiple?postcodeSector=RM6 4",
        "https://www.ukpowernetworks.co.uk/power-cut/map/multiple?postcodeSector=BN20 7",
        "https://www.ukpowernetworks.co.uk/power-cut/map/multiple?postcodeSector=BN20 8",
        "https://www.ukpowernetworks.co.uk/power-cut/map/multiple?postcodeSector=BN22 8",
        "https://www.ukpowernetworks.co.uk/power-cut/map/multiple?postcodeSector=ME13 9",
        "https://www.ukpowernetworks.co.uk/power-cut/map/multiple?postcodeSector=CT2 9",
        "https://www.ukpowernetworks.co.uk/power-cut/map/multiple?postcodeSector=DA13 0",
        "https://www.ukpowernetworks.co.uk/power-cut/map/multiple?postcodeSector=ME13 8",
        "https://www.ukpowernetworks.co.uk/power-cut/map/multiple?postcodeSector=SM6 0",
        "https://www.ukpowernetworks.co.uk/power-cut/map/multiple?postcodeSector=BR6 0",
        "https://www.ukpowernetworks.co.uk/power-cut/map/multiple?postcodeSector=BR6 7",
        "https://www.ukpowernetworks.co.uk/power-cut/map/multiple?postcodeSector=GU21 5",
        "https://www.ukpowernetworks.co.uk/power-cut/map/multiple?postcodeSector=SG18 0",
        "https://www.ukpowernetworks.co.uk/power-cut/map/multiple?postcodeSector=CB10 1",
        "https://www.ukpowernetworks.co.uk/power-cut/map/multiple?postcodeSector=RH5 6",
        "https://www.ukpowernetworks.co.uk/power-cut/map/multiple?postcodeSector=SW3 2",
        "https://www.ukpowernetworks.co.uk/power-cut/map/multiple?postcodeSector=SW7 2",
        "https://www.ukpowernetworks.co.uk/power-cut/map/multiple?postcodeSector=SW7 5",
        "https://www.ukpowernetworks.co.uk/power-cut/map/multiple?postcodeSector=DA1 1",
        "https://www.ukpowernetworks.co.uk/power-cut/map/multiple?postcodeSector=DA2 6",
        "https://www.ukpowernetworks.co.uk/power-cut/map/multiple?postcodeSector=BN23 6",
        "https://www.ukpowernetworks.co.uk/power-cut/map/multiple?postcodeSector=BN27 4",
        "https://www.ukpowernetworks.co.uk/power-cut/map/multiple?postcodeSector=BN25 4",
        "https://www.ukpowernetworks.co.uk/power-cut/map/multiple?postcodeSector=BN26 5",
        "https://www.ukpowernetworks.co.uk/power-cut/map/multiple?postcodeSector=NR34 7",
        "https://www.ukpowernetworks.co.uk/power-cut/map/multiple?postcodeSector=PE29 1",
        "https://www.ukpowernetworks.co.uk/power-cut/map/multiple?postcodeSector=TN32 5",
        "https://www.ukpowernetworks.co.uk/power-cut/map/multiple?postcodeSector=PE30 2",
        "https://www.ukpowernetworks.co.uk/power-cut/map/multiple?postcodeSector=ME6 5",
        "https://www.ukpowernetworks.co.uk/power-cut/map/multiple?postcodeSector=CO11 2",
        "https://www.ukpowernetworks.co.uk/power-cut/map/multiple?postcodeSector=CO7 7"
       ]
      ],
      "text/plain": [
       "<IPython.core.display.JSON object>"
      ]
     },
     "execution_count": 8,
     "metadata": {
      "application/json": {
       "expanded": false,
       "root": "root"
      }
     },
     "output_type": "execute_result"
    }
   ],
   "source": [
    "multiple_incident_urls = extract_multiple_incident_urls(r_json)\n",
    "\n",
    "JSON([multiple_incident_urls])"
   ]
  },
  {
   "cell_type": "code",
   "execution_count": null,
   "id": "early-shopping",
   "metadata": {},
   "outputs": [],
   "source": []
  },
  {
   "cell_type": "code",
   "execution_count": 9,
   "id": "upper-miller",
   "metadata": {},
   "outputs": [],
   "source": [
    "#exports\n",
    "def extract_multiple_incident_ids(multiple_incident_urls):\n",
    "    incident_ids = []\n",
    "\n",
    "    for multiple_incident_url in track(multiple_incident_urls, label='Multiple Ids'):\n",
    "        r = requests.get(multiple_incident_url)\n",
    "        soup = bs(r.text, features='lxml')\n",
    "\n",
    "        incident_ids += [\n",
    "            link['data-url'].split('incidentId=')[1] \n",
    "            for link \n",
    "            in soup.find('div', {'class': 'multiple-incidents--wrapper mb-4'}).findAll('a')\n",
    "        ]\n",
    "        \n",
    "    return incident_ids"
   ]
  },
  {
   "cell_type": "code",
   "execution_count": 10,
   "id": "incoming-magnitude",
   "metadata": {},
   "outputs": [
    {
     "data": {
      "text/html": [
       "<div><span class=\"Text-label\" style=\"display:inline-block; overflow:hidden; white-space:nowrap; text-overflow:ellipsis; min-width:15ex; max-width:15ex; vertical-align:middle; text-align:right\">Multiple Ids</span>\n",
       "<progress style=\"width:45ex\" max=\"38\" value=\"38\" class=\"Progress-main\"/></progress>\n",
       "<span class=\"Progress-label\"><strong>100%</strong></span>\n",
       "<span class=\"Iteration-label\">38/38</span>\n",
       "<span class=\"Time-label\">[00:10<00:00, 0.26s/it]</span></div>"
      ],
      "text/plain": [
       "\u001b[A\u001b[2K\r",
       "   Multiple Ids [█████████████████████████████████████████████] 38/38 [00:10<00:00, 0.26s/it]"
      ]
     },
     "metadata": {},
     "output_type": "display_data"
    },
    {
     "data": {
      "text/plain": [
       "['INCD-228141-Z',\n",
       " 'INCD-43735-C',\n",
       " 'INCD-247499-G',\n",
       " 'INCD-247521-G',\n",
       " 'INCD-247486-G']"
      ]
     },
     "execution_count": 10,
     "metadata": {},
     "output_type": "execute_result"
    }
   ],
   "source": [
    "multiple_incident_ids = extract_multiple_incident_ids(multiple_incident_urls)\n",
    "\n",
    "multiple_incident_ids[:5]"
   ]
  },
  {
   "cell_type": "code",
   "execution_count": null,
   "id": "afraid-driving",
   "metadata": {},
   "outputs": [],
   "source": []
  },
  {
   "cell_type": "code",
   "execution_count": 11,
   "id": "secondary-england",
   "metadata": {},
   "outputs": [],
   "source": [
    "#exports\n",
    "get_incident_detail_url = lambda incident_id: f'https://www.ukpowernetworks.co.uk/Incidents/getincidentdetails?incidentid={incident_id}'"
   ]
  },
  {
   "cell_type": "code",
   "execution_count": 12,
   "id": "intermediate-connection",
   "metadata": {},
   "outputs": [
    {
     "data": {
      "application/json": {
       "FullPostcodeData": [
        "CM195JR",
        "CM195JS",
        "CM195JT"
       ],
       "IncidentCategoryCustomerFriendlyDescription": "A fault occurred on a piece of our electrical equipment which controls the power to your home.",
       "IncidentReference": "INCD-43735-C",
       "IncidentTypeTBCEstimatedFriendlyDescription": "17:30 - 18:30",
       "PanelContentUrl": "/power-cut/map/power-back-on?incidentId=INCD-43735-C",
       "PinLatitude": null,
       "PinLongitude": null,
       "PostcodeData": [
        {
         "Center": {
          "lat": 51.76088,
          "lng": 0.04634
         },
         "Coordinates": [
          {
           "lat": 51.76966,
           "lng": 0.01685
          },
          {
           "lat": 51.77024,
           "lng": 0.02061
          },
          {
           "lat": 51.7765,
           "lng": 0.02105
          },
          {
           "lat": 51.77732,
           "lng": 0.02962
          },
          {
           "lat": 51.77743,
           "lng": 0.03028
          },
          {
           "lat": 51.78047,
           "lng": 0.03557
          },
          {
           "lat": 51.77792,
           "lng": 0.04091
          },
          {
           "lat": 51.77782,
           "lng": 0.04143
          },
          {
           "lat": 51.77762,
           "lng": 0.0513
          },
          {
           "lat": 51.77794,
           "lng": 0.05187
          },
          {
           "lat": 51.77752,
           "lng": 0.05896
          },
          {
           "lat": 51.77765,
           "lng": 0.06144
          },
          {
           "lat": 51.7788,
           "lng": 0.06596
          },
          {
           "lat": 51.77885,
           "lng": 0.06649
          },
          {
           "lat": 51.77934,
           "lng": 0.06801
          },
          {
           "lat": 51.77574,
           "lng": 0.07199
          },
          {
           "lat": 51.77285,
           "lng": 0.07407
          },
          {
           "lat": 51.77282,
           "lng": 0.07407
          },
          {
           "lat": 51.77222,
           "lng": 0.07371
          },
          {
           "lat": 51.7711,
           "lng": 0.07437
          },
          {
           "lat": 51.7694,
           "lng": 0.07389
          },
          {
           "lat": 51.76821,
           "lng": 0.07283
          },
          {
           "lat": 51.76769,
           "lng": 0.07421
          },
          {
           "lat": 51.76665,
           "lng": 0.0754
          },
          {
           "lat": 51.76588,
           "lng": 0.07655
          },
          {
           "lat": 51.76528,
           "lng": 0.07697
          },
          {
           "lat": 51.76525,
           "lng": 0.07698
          },
          {
           "lat": 51.76303,
           "lng": 0.07888
          },
          {
           "lat": 51.76293,
           "lng": 0.07891
          },
          {
           "lat": 51.76284,
           "lng": 0.07875
          },
          {
           "lat": 51.76227,
           "lng": 0.07403
          },
          {
           "lat": 51.76125,
           "lng": 0.07223
          },
          {
           "lat": 51.75981,
           "lng": 0.07491
          },
          {
           "lat": 51.7595,
           "lng": 0.0759
          },
          {
           "lat": 51.75947,
           "lng": 0.07606
          },
          {
           "lat": 51.75886,
           "lng": 0.07633
          },
          {
           "lat": 51.75739,
           "lng": 0.07556
          },
          {
           "lat": 51.75707,
           "lng": 0.0758
          },
          {
           "lat": 51.75658,
           "lng": 0.07565
          },
          {
           "lat": 51.75593,
           "lng": 0.07488
          },
          {
           "lat": 51.75542,
           "lng": 0.07496
          },
          {
           "lat": 51.75382,
           "lng": 0.07388
          },
          {
           "lat": 51.75381,
           "lng": 0.07387
          },
          {
           "lat": 51.75192,
           "lng": 0.07468
          },
          {
           "lat": 51.75175,
           "lng": 0.07487
          },
          {
           "lat": 51.7514,
           "lng": 0.07487
          },
          {
           "lat": 51.75054,
           "lng": 0.07429
          },
          {
           "lat": 51.75014,
           "lng": 0.07421
          },
          {
           "lat": 51.74939,
           "lng": 0.07469
          },
          {
           "lat": 51.74896,
           "lng": 0.07596
          },
          {
           "lat": 51.74779,
           "lng": 0.07712
          },
          {
           "lat": 51.7474,
           "lng": 0.07823
          },
          {
           "lat": 51.74708,
           "lng": 0.07848
          },
          {
           "lat": 51.74706,
           "lng": 0.07848
          },
          {
           "lat": 51.7458,
           "lng": 0.07935
          },
          {
           "lat": 51.74532,
           "lng": 0.08
          },
          {
           "lat": 51.74525,
           "lng": 0.08018
          },
          {
           "lat": 51.74472,
           "lng": 0.08001
          },
          {
           "lat": 51.74361,
           "lng": 0.0802
          },
          {
           "lat": 51.74282,
           "lng": 0.08248
          },
          {
           "lat": 51.74276,
           "lng": 0.08295
          },
          {
           "lat": 51.74096,
           "lng": 0.08482
          },
          {
           "lat": 51.73927,
           "lng": 0.08455
          },
          {
           "lat": 51.73861,
           "lng": 0.08453
          },
          {
           "lat": 51.73784,
           "lng": 0.08211
          },
          {
           "lat": 51.7379,
           "lng": 0.08145
          },
          {
           "lat": 51.73976,
           "lng": 0.07878
          },
          {
           "lat": 51.74193,
           "lng": 0.07853
          },
          {
           "lat": 51.74246,
           "lng": 0.07725
          },
          {
           "lat": 51.74274,
           "lng": 0.07373
          },
          {
           "lat": 51.7427,
           "lng": 0.07288
          },
          {
           "lat": 51.74271,
           "lng": 0.07283
          },
          {
           "lat": 51.74269,
           "lng": 0.06845
          },
          {
           "lat": 51.74293,
           "lng": 0.06842
          },
          {
           "lat": 51.74549,
           "lng": 0.06699
          },
          {
           "lat": 51.7477,
           "lng": 0.06364
          },
          {
           "lat": 51.74758,
           "lng": 0.06182
          },
          {
           "lat": 51.74766,
           "lng": 0.05932
          },
          {
           "lat": 51.7464,
           "lng": 0.05768
          },
          {
           "lat": 51.74529,
           "lng": 0.0546
          },
          {
           "lat": 51.74486,
           "lng": 0.05204
          },
          {
           "lat": 51.74499,
           "lng": 0.05181
          },
          {
           "lat": 51.74503,
           "lng": 0.04262
          },
          {
           "lat": 51.74624,
           "lng": 0.04144
          },
          {
           "lat": 51.74631,
           "lng": 0.04126
          },
          {
           "lat": 51.74726,
           "lng": 0.0359
          },
          {
           "lat": 51.74692,
           "lng": 0.03392
          },
          {
           "lat": 51.74683,
           "lng": 0.02786
          },
          {
           "lat": 51.74658,
           "lng": 0.02682
          },
          {
           "lat": 51.7464,
           "lng": 0.02652
          },
          {
           "lat": 51.74444,
           "lng": 0.02471
          },
          {
           "lat": 51.7444,
           "lng": 0.02459
          },
          {
           "lat": 51.74541,
           "lng": 0.01776
          },
          {
           "lat": 51.74823,
           "lng": 0.01193
          },
          {
           "lat": 51.74922,
           "lng": 0.01183
          },
          {
           "lat": 51.75053,
           "lng": 0.01373
          },
          {
           "lat": 51.75061,
           "lng": 0.01378
          },
          {
           "lat": 51.75295,
           "lng": 0.01468
          },
          {
           "lat": 51.75593,
           "lng": 0.01667
          },
          {
           "lat": 51.75622,
           "lng": 0.01737
          },
          {
           "lat": 51.76048,
           "lng": 0.0168
          },
          {
           "lat": 51.7613,
           "lng": 0.01421
          },
          {
           "lat": 51.76482,
           "lng": 0.01012
          },
          {
           "lat": 51.7649,
           "lng": 0.01015
          },
          {
           "lat": 51.76525,
           "lng": 0.01044
          },
          {
           "lat": 51.76532,
           "lng": 0.0105
          },
          {
           "lat": 51.76564,
           "lng": 0.0108
          },
          {
           "lat": 51.76945,
           "lng": 0.0159
          },
          {
           "lat": 51.76966,
           "lng": 0.01685
          }
         ],
         "Postcode": "CM19 5"
        }
       ],
       "PostcodesRemaining": [
        "CM19 5"
       ],
       "PowerCutType": "Restored",
       "Scope": null,
       "ServiceDown": false,
       "ServiceDownUrl": null,
       "Steps": [
        {
         "Active": false,
         "Date": "2021-03-30T14:00:00",
         "Message": "<p>We became aware of a power cut at 14:00. We’re sorry for any disruption this may have caused you. We didn’t know in advance there would be a power cut but now that we know, our teams will do everything they can to get your power back quickly. </p>",
         "Name": "Power cut reported"
        },
        {
         "Active": false,
         "Date": "2021-03-30T15:40:37",
         "Message": "<p>We have engineers on their way. As this is affecting your area, they will not need to attend your property. Rest assured once they arrive, they&rsquo;ll work as quickly as is safely possible to get your power back on.</p>",
         "Name": "Engineers on their way"
        },
        {
         "Active": false,
         "Date": "2021-03-30T16:11:45",
         "Message": "<p>Engineers are now on site, carrying out investigations into the fault. Once they have completed their assessment, they will carry out repairs.</p>",
         "Name": "Engineers investigating and fixing"
        },
        {
         "Active": true,
         "Date": "2021-03-30T18:10:54.72",
         "Message": "<p>All power in the area should be back on. We’re really sorry for any disruption this caused.</p>",
         "Name": "Power restored"
        }
       ],
       "UKPNIncident": {
        "AffectedCustomers": [],
        "CreationDateTime": "2021-03-30T15:15:01",
        "CustomersOffSupply": 0,
        "CustomersOnSupply": 15,
        "EstimatedRestorationDate": "2021-03-30T18:00:00",
        "IncidentCategory": "124",
        "IncidentId": "C0000aad7INCD",
        "IncidentPriority": 10,
        "IncidentReference": "INCD-43735-C",
        "IncidentType": 2,
        "IncidentTypeName": "Restored",
        "Latitude": 0,
        "Logs": [],
        "Longitude": 0,
        "NoCallsReported": 1,
        "NoCustomerAffected": 0,
        "NoPlannedCustomers": 0,
        "PlannedDate": null,
        "PlannedIncidentReason": "",
        "PostCodesAffected": [
         "CM19 5"
        ],
        "PostCodesPlanned": [
         "CM195JR",
         "CM195JS",
         "CM195JT"
        ],
        "PostCodesRestored": [
         "CM195JR",
         "CM195JS",
         "CM195JT"
        ],
        "ReceivedDate": "2021-03-30T14:00:00",
        "Resource": {
         "ArrivalDate": "2021-03-30T16:11:45",
         "DispatchedDate": "2021-03-30T15:40:37",
         "EstimatedTimeOfArrival": "2021-03-30T16:15:00",
         "Id": null,
         "Name": "SIMON (R5) -  U/G & O/H S",
         "StatusId": 6
        },
        "RestoredDateTime": "2021-03-30T18:10:54.72",
        "Scope": null,
        "StatusId": 5,
        "Timestamp": "2021:03:30:18:10:55:08"
       }
      },
      "text/plain": [
       "<IPython.core.display.JSON object>"
      ]
     },
     "execution_count": 12,
     "metadata": {
      "application/json": {
       "expanded": false,
       "root": "root"
      }
     },
     "output_type": "execute_result"
    }
   ],
   "source": [
    "incident_id = multiple_incident_ids[1]\n",
    "\n",
    "incident_detail_url = get_incident_detail_url(incident_id)\n",
    "r_json = requests.get(incident_detail_url).json()\n",
    "\n",
    "JSON(r_json)"
   ]
  },
  {
   "cell_type": "code",
   "execution_count": null,
   "id": "scheduled-monday",
   "metadata": {},
   "outputs": [],
   "source": []
  },
  {
   "cell_type": "code",
   "execution_count": 13,
   "id": "enclosed-marsh",
   "metadata": {},
   "outputs": [],
   "source": [
    "#exports\n",
    "def extract_relevant_info(r_json):\n",
    "    incident_info = {\n",
    "        'incident_active': r_json['ServiceDown'],\n",
    "        'restored_time': r_json['UKPNIncident']['RestoredDateTime'],\n",
    "        'estimated_restored_time': r_json['UKPNIncident']['EstimatedRestorationDate'],\n",
    "        'planned_time': r_json['UKPNIncident']['PlannedDate'],\n",
    "        'received_time': r_json['UKPNIncident']['ReceivedDate'],\n",
    "        'postcodes_impacted': r_json['FullPostcodeData'],\n",
    "        'description': r_json['IncidentCategoryCustomerFriendlyDescription']\n",
    "    }\n",
    "    \n",
    "    return incident_info"
   ]
  },
  {
   "cell_type": "code",
   "execution_count": 14,
   "id": "designed-israel",
   "metadata": {},
   "outputs": [
    {
     "data": {
      "application/json": {
       "description": "A fault occurred on a piece of our electrical equipment which controls the power to your home.",
       "estimated_restored_time": "2021-03-30T18:00:00",
       "incident_active": false,
       "planned_time": null,
       "postcodes_impacted": [
        "CM195JR",
        "CM195JS",
        "CM195JT"
       ],
       "received_time": "2021-03-30T14:00:00",
       "restored_time": "2021-03-30T18:10:54.72"
      },
      "text/plain": [
       "<IPython.core.display.JSON object>"
      ]
     },
     "execution_count": 14,
     "metadata": {
      "application/json": {
       "expanded": false,
       "root": "root"
      }
     },
     "output_type": "execute_result"
    }
   ],
   "source": [
    "incident_info = extract_relevant_info(r_json)\n",
    "\n",
    "JSON(incident_info)"
   ]
  },
  {
   "cell_type": "code",
   "execution_count": null,
   "id": "protected-affect",
   "metadata": {},
   "outputs": [],
   "source": []
  },
  {
   "cell_type": "code",
   "execution_count": 15,
   "id": "spoken-thanks",
   "metadata": {},
   "outputs": [],
   "source": [
    "#exports\n",
    "def get_ukpn_incidents_info(incidents_url='https://www.ukpowernetworks.co.uk/Incidents/GetIncidents'):\n",
    "    r_json = requests.get(incidents_url).json()\n",
    "\n",
    "    incident_ids = (\n",
    "        extract_single_incident_ids(r_json) + \n",
    "        extract_multiple_incident_ids(extract_multiple_incident_urls(r_json))\n",
    "    )\n",
    "    \n",
    "    raw_incidents_info = dict()\n",
    "    cleaned_incidents_info = dict()\n",
    "\n",
    "    for incident_id in track(incident_ids, label='Details'):\n",
    "        try:\n",
    "            incident_detail_url = get_incident_detail_url(incident_id)\n",
    "            r_json = requests.get(incident_detail_url).json()\n",
    "\n",
    "            raw_incidents_info[incident_id] = r_json\n",
    "            cleaned_incidents_info[incident_id] = extract_relevant_info(r_json)\n",
    "        except:\n",
    "            warn(f'Failed to retrieve incident details for: {incident_id}')\n",
    "        \n",
    "    return raw_incidents_info, cleaned_incidents_info"
   ]
  },
  {
   "cell_type": "code",
   "execution_count": 16,
   "id": "warming-candy",
   "metadata": {},
   "outputs": [
    {
     "data": {
      "text/html": [
       "<div><span class=\"Text-label\" style=\"display:inline-block; overflow:hidden; white-space:nowrap; text-overflow:ellipsis; min-width:15ex; max-width:15ex; vertical-align:middle; text-align:right\">Multiple Ids</span>\n",
       "<progress style=\"width:45ex\" max=\"38\" value=\"38\" class=\"Progress-main\"/></progress>\n",
       "<span class=\"Progress-label\"><strong>100%</strong></span>\n",
       "<span class=\"Iteration-label\">38/38</span>\n",
       "<span class=\"Time-label\">[00:10<00:00, 0.26s/it]</span></div>"
      ],
      "text/plain": [
       "\u001b[A\u001b[2K\r",
       "   Multiple Ids [█████████████████████████████████████████████] 38/38 [00:10<00:00, 0.26s/it]"
      ]
     },
     "metadata": {},
     "output_type": "display_data"
    },
    {
     "data": {
      "text/html": [
       "<div><span class=\"Text-label\" style=\"display:inline-block; overflow:hidden; white-space:nowrap; text-overflow:ellipsis; min-width:15ex; max-width:15ex; vertical-align:middle; text-align:right\">Details</span>\n",
       "<progress style=\"width:45ex\" max=\"192\" value=\"192\" class=\"Progress-main\"/></progress>\n",
       "<span class=\"Progress-label\"><strong>100%</strong></span>\n",
       "<span class=\"Iteration-label\">192/192</span>\n",
       "<span class=\"Time-label\">[00:53<00:00, 0.28s/it]</span></div>"
      ],
      "text/plain": [
       "\u001b[A\u001b[2K\r",
       "        Details [█████████████████████████████████████████████] 192/192 [00:53<00:00, 0.28s/it]"
      ]
     },
     "metadata": {},
     "output_type": "display_data"
    },
    {
     "data": {
      "application/json": [
       {
        "INCD-179903-Z": {
         "description": "A fault occurred on an underground electricity cable affecting the local area.",
         "estimated_restored_time": null,
         "incident_active": false,
         "planned_time": null,
         "postcodes_impacted": [
          "WD172AP",
          "WD172EN",
          "WD172ET",
          "WD180BW"
         ],
         "received_time": "2020-08-28T03:38:00",
         "restored_time": "2021-03-30T08:38:58.31"
        },
        "INCD-197540-J": {
         "description": "A fault occurred on an underground electricity cable affecting the local area.",
         "estimated_restored_time": null,
         "incident_active": false,
         "planned_time": null,
         "postcodes_impacted": [
          "",
          "IG103AQ"
         ],
         "received_time": "2018-09-27T10:08:00",
         "restored_time": "2021-03-30T17:17:34.007"
        },
        "INCD-198672-J": {
         "description": "A fault occurred on an underground electricity cable affecting the local area.",
         "estimated_restored_time": null,
         "incident_active": false,
         "planned_time": null,
         "postcodes_impacted": [
          ""
         ],
         "received_time": "2018-10-18T08:06:08",
         "restored_time": "2021-03-30T14:25:35.42"
        },
        "INCD-200488-G": {
         "description": "",
         "estimated_restored_time": null,
         "incident_active": false,
         "planned_time": null,
         "postcodes_impacted": [
          ""
         ],
         "received_time": "2019-09-14T18:35:00",
         "restored_time": "2021-03-30T06:51:13.22"
        },
        "INCD-212888-Z": {
         "description": "We're carrying out planned work in your area. For our engineers to carry it out safely they need to turn the power off. We're doing this work as it's essential to provide reliable electricity supplies to your area. We're sorry for any inconvenience caused and thank you for your patience.",
         "estimated_restored_time": "2021-03-30T16:30:00",
         "incident_active": false,
         "planned_time": "2021-03-30T08:30:00",
         "postcodes_impacted": [
          "PE365BP",
          "PE365BU",
          "PE365BX"
         ],
         "received_time": "2021-03-30T09:40:00",
         "restored_time": "2021-03-30T15:43:48.28"
        },
        "INCD-223885-Z": {
         "description": "A fault occurred on an underground electricity cable affecting the local area.",
         "estimated_restored_time": "2021-03-11T01:30:00",
         "incident_active": false,
         "planned_time": null,
         "postcodes_impacted": [
          "RM108QS",
          "RM95AN",
          "RM95AW",
          "RM95RL",
          "RM96QD"
         ],
         "received_time": "2021-03-10T15:28:00",
         "restored_time": "2021-03-30T07:41:09.94"
        },
        "INCD-224623-Z": {
         "description": "We're carrying out planned work in your area. For our engineers to carry it out safely they need to turn the power off. We're doing this work as it's essential to provide reliable electricity supplies to your area. We're sorry for any inconvenience caused and thank you for your patience.",
         "estimated_restored_time": "2021-03-30T17:00:00",
         "incident_active": false,
         "planned_time": "2021-03-30T15:30:00",
         "postcodes_impacted": [
          "SS133BT"
         ],
         "received_time": "2021-03-30T15:30:00",
         "restored_time": "2021-03-30T16:32:42.27"
        },
        "INCD-225080-Z": {
         "description": "We're carrying out planned work in your area. For our engineers to carry it out safely they need to turn the power off. We're doing this work as it's essential to provide reliable electricity supplies to your area. We're sorry for any inconvenience caused and thank you for your patience.",
         "estimated_restored_time": "2021-03-30T13:00:00",
         "incident_active": false,
         "planned_time": "2021-03-30T09:00:00",
         "postcodes_impacted": [
          "CB87QR"
         ],
         "received_time": "2021-03-30T09:25:00",
         "restored_time": "2021-03-30T13:13:28.5"
        },
        "INCD-225481-Z": {
         "description": "An underground electricity cable faulted on our high voltage network, causing an area wide power cut.",
         "estimated_restored_time": "2021-03-17T04:00:00",
         "incident_active": false,
         "planned_time": null,
         "postcodes_impacted": [
          "EN106AP",
          "EN106AR",
          "EN106AS",
          "EN106AT",
          "EN106AU",
          "EN106NG",
          "EN116HL",
          "EN76AD",
          "EN76AE",
          "EN76AF",
          "EN76AG",
          "EN76AL",
          "EN76AN",
          "EN76AP",
          "EN76AQ",
          "EN76AR",
          "EN76AS",
          "EN76AT",
          "EN76AW",
          "EN76AX",
          "EN76AY",
          "EN76AZ",
          "EN76BA",
          "EN76BB",
          "EN76BD",
          "EN76BE",
          "EN76BF",
          "EN76BG",
          "EN76BH",
          "EN76BJ",
          "EN76BL",
          "EN76BN",
          "EN76BP",
          "EN76BQ",
          "EN76BW",
          "EN76DA",
          "EN76DB",
          "EN76DD",
          "EN76DE",
          "EN76DF",
          "EN76DG",
          "EN76DH",
          "EN76DJ",
          "EN76DL",
          "EN76DN",
          "EN76DP",
          "EN76DQ",
          "EN76DR",
          "EN76DW",
          "EN76ES",
          "EN76ET",
          "EN76EU",
          "EN76GT",
          "EN76HA",
          "EN76HB",
          "EN76HN",
          "EN76HU",
          "EN76HW",
          "EN76JH",
          "EN76JJ",
          "EN76JL",
          "EN76JN",
          "EN76JQ",
          "EN76JW",
          "EN76LL",
          "EN76LR",
          "EN76LS",
          "EN76LT",
          "EN76LU",
          "EN76LW",
          "EN76LX",
          "EN76LZ",
          "EN76NH",
          "EN76NJ",
          "EN76NL",
          "EN76NP",
          "EN76NS",
          "EN76NT",
          "EN76NU",
          "EN76NX",
          "EN76NY",
          "EN76PA",
          "EN76PS",
          "EN76PT",
          "EN76PU",
          "EN76PX",
          "EN76PY",
          "EN76PZ",
          "EN76QA",
          "EN76QD",
          "EN76QF",
          "EN76QH",
          "EN76QJ",
          "EN76QL",
          "EN76QN",
          "EN76QP",
          "EN76QQ",
          "EN76QR",
          "EN76QS",
          "EN76QT",
          "EN76QU",
          "EN76QW",
          "EN76QX",
          "EN76RN",
          "EN76RP",
          "EN76RR",
          "EN76RS",
          "EN76RT",
          "EN76RU",
          "EN76RW",
          "EN76RX",
          "EN76RY",
          "EN76TE",
          "EN76TF",
          "EN76TG",
          "EN76TL",
          "EN76TQ",
          "EN76TT",
          "EN76TU",
          "EN76TW",
          "EN76TX",
          "EN76TY",
          "EN76TZ",
          "EN76UA",
          "EN76UB",
          "EN76UD",
          "EN76UE",
          "EN76US",
          "EN76UT",
          "EN76UU",
          "EN76UW",
          "EN76WA",
          "EN80LR",
          "EN80PA",
          "EN80PS",
          "EN80QL",
          "EN80TA",
          "EN80TD",
          "EN80TE",
          "EN80TF",
          "EN80TG",
          "EN80TH",
          "EN80TJ",
          "EN80TL",
          "EN80TN",
          "EN80TP",
          "EN80TQ",
          "EN80TR",
          "EN80TW",
          "EN80TX",
          "EN80TY",
          "EN80TZ",
          "EN80XD",
          "EN80XN",
          "EN89NU",
          "EN89RN",
          "ME174HN"
         ],
         "received_time": "2021-03-17T02:10:13",
         "restored_time": "2021-03-30T07:32:25.073"
        },
        "INCD-226004-Z": {
         "description": "A fault occurred on an underground electricity cable affecting the local area.",
         "estimated_restored_time": "2021-03-19T23:00:00",
         "incident_active": false,
         "planned_time": null,
         "postcodes_impacted": [
          "SS12DS",
          "SS12DT",
          "SS12DU",
          "SS12DY",
          "SS12DZ",
          "SS12FJ",
          "SS12GD",
          "SS12HA",
          "SS12HT",
          "SS12PL",
          "SS12RG",
          "SS12RP",
          "SS12RR",
          "SS12RS",
          "SS12RW",
          "SS12RY",
          "SS12ZG",
          "UK"
         ],
         "received_time": "2021-03-19T01:39:00",
         "restored_time": "2021-03-30T07:47:53.717"
        },
        "INCD-226096-Z": {
         "description": "A fault occurred on an underground electricity cable affecting the local area.",
         "estimated_restored_time": null,
         "incident_active": false,
         "planned_time": null,
         "postcodes_impacted": [
          "CM236QP",
          "NW22EH",
          "NW22EJ",
          "NW22JG",
          "NW22LU",
          "NW22NP",
          "NW22NR",
          "NW22PG",
          "NW22PX",
          "NW22PY",
          "NW22QA",
          "NW22QB",
          "NW22QD",
          "NW22QE",
          "NW22TA",
          "NW22TD",
          "NW22TE",
          "NW22TF",
          "NW22TG",
          "NW22TQ"
         ],
         "received_time": "2021-03-19T12:05:01",
         "restored_time": "2021-03-30T15:14:48.943"
        },
        "INCD-226596-Z": {
         "description": "A fault occurred on an underground electricity cable affecting the local area.",
         "estimated_restored_time": null,
         "incident_active": false,
         "planned_time": null,
         "postcodes_impacted": [
          "NR78JX",
          "NR78LD"
         ],
         "received_time": "2021-03-22T15:54:11",
         "restored_time": "2021-03-30T08:11:35.2"
        },
        "INCD-226750-Z": {
         "description": "We're carrying out planned work in your area. For our engineers to carry it out safely they need to turn the power off. We're doing this work as it's essential to provide reliable electricity supplies to your area. We're sorry for any inconvenience caused and thank you for your patience.",
         "estimated_restored_time": "2021-03-30T15:00:00",
         "incident_active": false,
         "planned_time": "2021-03-30T09:00:00",
         "postcodes_impacted": [
          "CO112LP",
          "CO77RM"
         ],
         "received_time": "2021-03-30T09:00:00",
         "restored_time": "2021-03-30T14:58:39.953"
        },
        "INCD-226855-Z": {
         "description": "A fault occurred on an underground electricity cable affecting the local area.",
         "estimated_restored_time": null,
         "incident_active": false,
         "planned_time": null,
         "postcodes_impacted": [
          "NR67EA",
          "NR67ED",
          "NR67EE",
          "NR67HG"
         ],
         "received_time": "2021-03-23T15:25:31",
         "restored_time": "2021-03-30T07:22:02.723"
        },
        "INCD-227196-Z": {
         "description": "We had to turn off power in your area so our engineers could safely carry out emergency repairs to the network.",
         "estimated_restored_time": null,
         "incident_active": false,
         "planned_time": null,
         "postcodes_impacted": [
          "CB101SS"
         ],
         "received_time": "2021-03-25T06:15:00",
         "restored_time": "2021-03-30T13:01:33.553"
        },
        "INCD-227388-Z": {
         "description": "A fault occurred on an underground electricity cable affecting the local area.",
         "estimated_restored_time": null,
         "incident_active": false,
         "planned_time": null,
         "postcodes_impacted": [
          "PE291AJ",
          "PE291AL",
          "PE291NT",
          "PE291NU",
          "PE291NX",
          "PE291PA"
         ],
         "received_time": "2021-03-26T05:17:00",
         "restored_time": "2021-03-30T07:07:47.35"
        },
        "INCD-227430-Z": {
         "description": "A fault occurred on an underground electricity cable affecting the local area.",
         "estimated_restored_time": null,
         "incident_active": false,
         "planned_time": null,
         "postcodes_impacted": [
          "PE301LA",
          "PE301LD",
          "PE301LE",
          "PE301LF",
          "PE301LS",
          "PE302BP",
          "PE302PP",
          "PE302PR",
          "PE302PS",
          "PE302PT",
          "PE302PU",
          "PE302PX",
          "PE302PY",
          "PE302PZ",
          "PE302QA",
          "PE302QB",
          "PE302QD",
          "PE302QE",
          "PE302QF",
          "PE302QG",
          "PE302QH",
          "PE302QJ",
          "PE302QP",
          "PE302QQ",
          "PE302QR",
          "PE302QW"
         ],
         "received_time": "2021-03-26T10:07:00",
         "restored_time": "2021-03-30T14:35:03.847"
        },
        "INCD-227727-Z": {
         "description": "An underground electricity cable faulted on our high voltage network, causing an area wide power cut.",
         "estimated_restored_time": "2021-03-28T05:00:00",
         "incident_active": false,
         "planned_time": null,
         "postcodes_impacted": [
          "CO1",
          "CO11AA",
          "CO11BA",
          "CO11DA",
          "CO11DB",
          "CO11DG",
          "CO11DH",
          "CO11DJ",
          "CO11DQ",
          "CO11DS",
          "CO11DU",
          "CO11DX",
          "CO11DZ",
          "CO11EJ",
          "CO11FF",
          "CO11FP",
          "CO11FQ",
          "CO11GJ",
          "CO11GQ",
          "CO11HE",
          "CO11HF",
          "CO11HN",
          "CO11HQ",
          "CO11HZ",
          "CO11JG",
          "CO11JJ",
          "CO11JN",
          "CO11JQ",
          "CO11JR",
          "CO11JT",
          "CO11JW",
          "CO11JZ",
          "CO11LF",
          "CO11LJ",
          "CO11LS",
          "CO11PG",
          "CO11PJ",
          "CO11PN",
          "CO11PW",
          "CO11QW",
          "CO11SP",
          "CO11SR",
          "CO11SS",
          "CO11ST",
          "CO11SU",
          "CO11SZ",
          "CO11TB",
          "CO11TD",
          "CO11TL",
          "CO11TP",
          "CO11TS",
          "CO11TT",
          "CO11XJ",
          "CO12AA",
          "CO12AD",
          "CO12AF",
          "CO12AG",
          "CO12AH",
          "CO12AJ",
          "CO12AQ",
          "CO12BG",
          "CO12EU",
          "CO12FQ",
          "CO12JT",
          "CO27ED",
          "CO27EH",
          "CO27EJ",
          "CO27EL",
          "CO27EN",
          "CO27EP",
          "CO27EQ",
          "CO27ER",
          "CO27ES",
          "CO27ET",
          "CO27EU",
          "CO27EW",
          "CO27EX",
          "CO27FQ",
          "CO27FW",
          "CO27FX",
          "CO27FY",
          "CO27FZ",
          "CO27GG",
          "CO27GJ",
          "CO27GP",
          "CO27GQ",
          "CO27GR",
          "CO27GS",
          "CO27GT",
          "CO27GU",
          "CO27LD",
          "CO27LE",
          "CO27LF",
          "CO27LW",
          "CO27PA",
          "CO27PB",
          "CO27PD",
          "CO27PE",
          "CO27PF",
          "CO27PG",
          "CO27PH",
          "CO27PJ",
          "CO27PL",
          "CO27PN",
          "CO27PP",
          "CO27PQ",
          "CO27PR",
          "CO27PS",
          "CO27PW",
          "CO27PX",
          "CO27QD",
          "CO27QE",
          "CO27QF",
          "CO27SA",
          "CO27SG",
          "CO27TB",
          "CO27TU"
         ],
         "received_time": "2021-03-28T02:45:56",
         "restored_time": "2021-03-30T07:19:55.14"
        },
        "INCD-227825-Z": {
         "description": "A fault occurred on an underground electricity cable affecting the local area.",
         "estimated_restored_time": "2021-03-30T15:00:00",
         "incident_active": false,
         "planned_time": null,
         "postcodes_impacted": [
          "EN87NB",
          "EN87NJ",
          "EN87NT",
          "EN87PJ",
          "EN87SD",
          "EN87SJ",
          "EN87XA",
          "EN87XB"
         ],
         "received_time": "2021-03-29T03:37:00",
         "restored_time": "2021-03-30T14:46:28.773"
        },
        "INCD-227905-Z": {
         "description": "A fault occurred on an underground electricity cable affecting the local area.",
         "estimated_restored_time": "2021-03-30T14:00:00",
         "incident_active": false,
         "planned_time": null,
         "postcodes_impacted": [
          "EN36AR",
          "EN36AT",
          "EN36BH",
          "EN36BP",
          "EN36NG",
          "EN36SL",
          "EN36SN",
          "EN36XE"
         ],
         "received_time": "2021-03-29T11:49:00",
         "restored_time": "2021-03-30T14:32:15.597"
        },
        "INCD-227947-Z": {
         "description": "We had to turn off power in your area so our engineers could safely carry out emergency repairs to the network.",
         "estimated_restored_time": null,
         "incident_active": false,
         "planned_time": null,
         "postcodes_impacted": [
          "HP65BT",
          "HP65BW",
          "HP65EF",
          "HP65ES",
          "HP65EU",
          "HP65EX",
          "HP65FE",
          "HP65HN",
          "HP65HX",
          "HP65NE",
          "HP65TA",
          "HP65UL"
         ],
         "received_time": "2021-03-29T10:29:00",
         "restored_time": "2021-03-30T12:50:57.687"
        },
        "INCD-227990-Z": {
         "description": "We were investigating an overhead electricity line fault which caused a power cut in the local area.",
         "estimated_restored_time": "2021-03-30T10:00:00",
         "incident_active": false,
         "planned_time": null,
         "postcodes_impacted": [
          "NR105AH",
          "NR105DL",
          "NR105DS",
          "NR105DT",
          "NR105DU"
         ],
         "received_time": "2021-03-29T18:20:00",
         "restored_time": "2021-03-30T09:22:14.683"
        },
        "INCD-228027-Z": {
         "description": "A fault occurred on a piece of our electrical equipment which controls the power to your home.",
         "estimated_restored_time": null,
         "incident_active": false,
         "planned_time": null,
         "postcodes_impacted": [
          "N208JU",
          "N208LA"
         ],
         "received_time": "2021-03-29T19:55:00",
         "restored_time": "2021-03-30T08:46:24.943"
        },
        "INCD-228046-Z": {
         "description": "A fault occurred on an underground electricity cable affecting the local area.",
         "estimated_restored_time": "2021-03-30T11:00:00",
         "incident_active": false,
         "planned_time": null,
         "postcodes_impacted": [
          "HA99JR",
          "HA99LZ",
          "HA99PF",
          "HA99PR"
         ],
         "received_time": "2021-03-30T02:46:00",
         "restored_time": "2021-03-30T09:41:59.327"
        },
        "INCD-228047-Z": {
         "description": "A fault occurred on an underground electricity cable affecting the local area.",
         "estimated_restored_time": null,
         "incident_active": false,
         "planned_time": null,
         "postcodes_impacted": [
          "WD33PF"
         ],
         "received_time": "2021-03-30T05:08:00",
         "restored_time": "2021-03-30T14:31:14.86"
        },
        "INCD-228053-Z": {
         "description": "Our engineers had to redirect power due to a fault on the electricity network.",
         "estimated_restored_time": null,
         "incident_active": false,
         "planned_time": null,
         "postcodes_impacted": [
          "IP242RP",
          "IP242RW"
         ],
         "received_time": "2021-03-30T13:45:00",
         "restored_time": "2021-03-30T13:51:03.27"
        },
        "INCD-228056-Z": {
         "description": "An underground electricity cable faulted on our high voltage network, causing an area wide power cut.",
         "estimated_restored_time": "2021-03-30T10:30:00",
         "incident_active": false,
         "planned_time": null,
         "postcodes_impacted": [
          "CM13",
          "CM131AE",
          "CM131TA",
          "CM158EZ",
          "CM158FF",
          "CM158HA",
          "CM158HU",
          "CM158HX",
          "CM158HY",
          "CM158JA",
          "CM158JD",
          "CM158JF",
          "CM158JN",
          "CM158JR",
          "CM158JS",
          "CM158JT",
          "CM158JU",
          "CM158JX",
          "CM158LA",
          "CM158LB",
          "CM158LD",
          "CM158LE",
          "CM158LL",
          "CM158LZ",
          "CM158NA",
          "CM158NB",
          "CM158ND",
          "CM158NF",
          "CM158NG",
          "CM158NH",
          "CM158NJ",
          "CM158NL",
          "CM158NN",
          "CM158NQ",
          "CM158NR",
          "CM158NW",
          "CM158PA",
          "CM158PE",
          "CM158PF",
          "CM158PG",
          "CM158PN",
          "CM158PP",
          "CM158PS",
          "CM158PT",
          "CM158PW",
          "CM158PX",
          "CM158PY",
          "CM158PZ",
          "CM158QA",
          "CM158QD",
          "CM158QE",
          "CM158QL",
          "CM158QN",
          "CM158QP",
          "CM158QS",
          "CM158QT",
          "CM158QU",
          "CM158QW",
          "CM158QX",
          "CM158QY",
          "CM158RA",
          "CM158RB",
          "CM158RD",
          "CM158RE",
          "CM158RF",
          "CM158RG",
          "CM158RH",
          "CM158RJ",
          "CM158RL",
          "CM158RN",
          "CM158RQ",
          "CM158RT",
          "CM158RU",
          "CM158RX",
          "CM158RY",
          "CM158SA",
          "CM158SB",
          "CM158SD",
          "CM158SG",
          "CM159AB",
          "CM159AE",
          "CM159AF",
          "CM159AG",
          "CM159AL",
          "CM159AN",
          "RM126AF",
          "RM126QU"
         ],
         "received_time": "2021-03-30T08:19:17",
         "restored_time": "2021-03-30T11:09:08.637"
        },
        "INCD-228058-Z": {
         "description": "An underground electricity cable faulted on our high voltage network, causing an area wide power cut.",
         "estimated_restored_time": "2021-03-30T10:30:00",
         "incident_active": false,
         "planned_time": null,
         "postcodes_impacted": [
          "AL11BH",
          "AL11BU",
          "AL11BX",
          "AL11BY",
          "AL11BZ",
          "AL11DH",
          "AL11DQ",
          "AL11DT",
          "AL11DW",
          "AL11ER",
          "AL11EU",
          "AL11EX",
          "AL11EY",
          "AL11EZ",
          "AL11HA",
          "AL11HB",
          "AL11HD",
          "AL11HE",
          "AL11HF",
          "AL11HG",
          "AL11HP",
          "AL11HQ",
          "AL11HR",
          "AL11HW",
          "AL11JA",
          "AL11JH",
          "AL11JJ",
          "AL11JL",
          "AL11JN",
          "AL11JQ",
          "AL11JR",
          "AL11JT",
          "AL11LA",
          "AL11LE",
          "AL11LZ",
          "AL11NB",
          "AL11ND",
          "AL11NE",
          "AL11NF",
          "AL11NG",
          "AL11NH",
          "AL11NJ",
          "AL11NL",
          "AL11NN",
          "AL11NQ",
          "AL11PN",
          "AL11PX",
          "AL11QH",
          "AL11QJ",
          "AL11QL",
          "AL11QN",
          "AL11RB",
          "AL11RD",
          "AL11RF",
          "AL11RG",
          "AL11RH",
          "AL11RJ",
          "AL11RL",
          "AL11RN",
          "AL11RP",
          "AL11RQ",
          "AL11RR",
          "AL11RS",
          "AL11RT",
          "AL11RU",
          "AL11RW",
          "AL11RZ",
          "AL11SF",
          "AL11SH",
          "AL11SJ",
          "AL11SL",
          "AL11SN",
          "AL11SP",
          "AL11SQ",
          "AL11SR",
          "AL11SS",
          "AL11SW",
          "AL11TA",
          "AL11TT",
          "AL11TU",
          "AL11TX",
          "AL11XL",
          "AL11XT",
          "AL11XU",
          "AL12AP",
          "AL12AR",
          "AL12AT",
          "AL12AU",
          "AL12AW",
          "AL12AX",
          "AL12AY",
          "AL12AZ",
          "AL12BA",
          "AL12BL",
          "AL12BS",
          "AL12BU",
          "AL12BX",
          "AL12BZ",
          "AL12DJ",
          "AL12DN",
          "AL12DP",
          "AL12DQ",
          "AL12DS",
          "AL12DT",
          "AL12DU",
          "AL12DX",
          "AL12DY",
          "AL12EA",
          "AL12EF",
          "AL12EN",
          "AL12EP",
          "AL12ER",
          "AL12ES",
          "AL12ET",
          "AL12EW",
          "AL12EX",
          "AL12EY",
          "AL12EZ",
          "AL12HP",
          "AL12HR",
          "AL12HS",
          "AL12HT",
          "AL12HU",
          "AL12HX",
          "AL12HY",
          "AL12HZ",
          "AL12JA",
          "AL12JB",
          "AL12JD",
          "AL12JE",
          "AL12JH",
          "AL12JJ",
          "AL12JL",
          "AL12JP",
          "AL12JZ",
          "AL12LR",
          "AL12LS",
          "AL12QU",
          "AL12QZ",
          "AL12RJ",
          "AL13HL",
          "AL13JQ",
          "AL13XZ",
          "AL13YW",
          "AL15BX",
          "AL15BY",
          "AL34BL",
          "AL34BN",
          "AL34DD",
          "AL34EA",
          "AL34EB",
          "AL34ED",
          "AL34EH",
          "AL34EP",
          "AL34ER",
          "AL34ES",
          "AL34EW",
          "AL34EZ",
          "AL34PH",
          "AL35BG",
          "AL35DQ",
          "AL35DU",
          "SE186XY",
          "UK"
         ],
         "received_time": "2021-03-30T08:31:19",
         "restored_time": "2021-03-30T11:39:03.387"
        },
        "INCD-228080-Z": {
         "description": "We were investigating a high voltage overhead electricity line fault which caused a power cut in the local area.",
         "estimated_restored_time": "2021-03-30T15:00:00",
         "incident_active": false,
         "planned_time": null,
         "postcodes_impacted": [
          "NR340AD",
          "NR340AU",
          "NR340AX",
          "NR340BA",
          "NR340BB",
          "NR340BD",
          "NR340BF",
          "NR340BG",
          "NR340BL",
          "NR340BN",
          "NR340BQ",
          "NR340BT",
          "NR340BU",
          "NR340BW",
          "NR340RA",
          "NR347QG",
          "NR347QQ",
          "NR347QR",
          "NR349BD"
         ],
         "received_time": "2021-03-30T09:55:03",
         "restored_time": "2021-03-30T14:41:52.767"
        },
        "INCD-228085-Z": {
         "description": "We had to turn off power in your area so our engineers could safely carry out emergency repairs to the network.",
         "estimated_restored_time": null,
         "incident_active": false,
         "planned_time": null,
         "postcodes_impacted": [
          "NR347HS"
         ],
         "received_time": "2021-03-30T10:23:00",
         "restored_time": "2021-03-30T11:52:01.31"
        },
        "INCD-228095-Z": {
         "description": "Our engineers had to redirect power due to a fault on the electricity network.",
         "estimated_restored_time": "2021-03-30T15:00:00",
         "incident_active": false,
         "planned_time": null,
         "postcodes_impacted": [
          "CB101SE",
          "CB101SJ",
          "CB101SS",
          "CB101ST",
          "CB101SU",
          "CB101SX",
          "CB101SZ",
          "CB101TD",
          "CB101TE",
          "CB101TF",
          "CB101TG"
         ],
         "received_time": "2021-03-30T10:29:00",
         "restored_time": "2021-03-30T14:39:50.31"
        },
        "INCD-228097-Z": {
         "description": "We had to turn off power in your area so our engineers could safely carry out emergency repairs to the network.",
         "estimated_restored_time": "2021-03-30T12:30:00",
         "incident_active": false,
         "planned_time": null,
         "postcodes_impacted": [
          "IP91NJ",
          "IP91NP",
          "IP91NW",
          "IP91PB"
         ],
         "received_time": "2021-03-30T11:29:00",
         "restored_time": "2021-03-30T12:01:47.597"
        },
        "INCD-228109-Z": {
         "description": "A fault occurred on a piece of our electrical equipment which controls the power to your home.",
         "estimated_restored_time": "2021-03-30T15:30:00",
         "incident_active": false,
         "planned_time": null,
         "postcodes_impacted": [
          "CM129AB",
          "CM129AH"
         ],
         "received_time": "2021-03-30T10:51:00",
         "restored_time": "2021-03-30T14:07:51.3"
        },
        "INCD-228111-Z": {
         "description": "We had to turn off power in your area so our engineers could safely carry out emergency repairs to the network.",
         "estimated_restored_time": "2021-03-30T13:00:00",
         "incident_active": false,
         "planned_time": null,
         "postcodes_impacted": [
          "HA73DA",
          "HA73DB",
          "HA73DD",
          "HA73DE",
          "HA73DF",
          "HA73ER",
          "HA73HA",
          "HA73HD"
         ],
         "received_time": "2021-03-30T11:28:00",
         "restored_time": "2021-03-30T12:53:34.167"
        },
        "INCD-228118-Z": {
         "description": "We had to turn off power in your area so our engineers could safely carry out emergency repairs to the network.",
         "estimated_restored_time": "2021-03-30T12:00:00",
         "incident_active": false,
         "planned_time": null,
         "postcodes_impacted": [
          "IP332JA",
          "IP332JB"
         ],
         "received_time": "2021-03-30T11:08:00",
         "restored_time": "2021-03-30T11:47:47.67"
        },
        "INCD-228132-Z": {
         "description": "Our engineers had to redirect power due to a fault on the electricity network.",
         "estimated_restored_time": "2021-03-30T13:30:00",
         "incident_active": false,
         "planned_time": null,
         "postcodes_impacted": [
          "CB215HP",
          "CB218HR",
          "CM16BF",
          "CM219AB",
          "CM219AD",
          "CM219AE",
          "CM219AG",
          "CM219AH",
          "CM219AJ",
          "CM219AN",
          "CM219AQ",
          "CM219AR",
          "CM219AT",
          "CM219AU",
          "CM219AW",
          "CM219AX",
          "CM219AY",
          "CM219AZ",
          "CM219BA",
          "CM219BB",
          "CM219BD",
          "CM219BE",
          "CM219BG",
          "CM219BH",
          "CM219BJ",
          "CM219BL",
          "CM219BN",
          "CM219BQ",
          "CM219BW",
          "CM219DA",
          "CM219DB",
          "CM219EB",
          "CM219EF",
          "CM219ET",
          "CM219EU",
          "CM219EX",
          "CM219EY",
          "CM219FB",
          "CM219FD",
          "CM219FG",
          "CM219FH",
          "CM219FJ",
          "CM219GY",
          "CM219GZ",
          "CM219HA",
          "CM219HB",
          "CM219HD",
          "CM219HE",
          "CM219HH",
          "CM219HL",
          "CM219HN",
          "CM219HR",
          "CM219HX",
          "CM219HY",
          "CM219HZ",
          "CM219JA",
          "CM219JB",
          "CM219JE",
          "CM219JG",
          "CM219JH",
          "CM219JJ",
          "CM219JN",
          "CM219JS",
          "CM219JT",
          "CM219JX",
          "CM219JY",
          "CM219JZ",
          "CM219LB",
          "CM219LD",
          "CM219LF",
          "CM219LG",
          "CM219LH",
          "CM219LJ",
          "CM219LL",
          "CM219LN",
          "CM219LP",
          "CM219LQ",
          "CM219LR",
          "CM219LW",
          "CM219LZ",
          "CM219NA",
          "CM219NB",
          "CM219ND",
          "CM219NE",
          "CM219NF",
          "CM219NG",
          "CM219NH",
          "CM219NJ",
          "CM219NL",
          "CM219NN",
          "CM219NP",
          "CM219NQ",
          "CM219NR",
          "CM219NS",
          "CM219NT",
          "CM219NU",
          "CM219NW",
          "CM219NX",
          "CM219NY",
          "CM219PE",
          "CM219PF",
          "CM219PN",
          "CM219PP",
          "CM219PQ",
          "CM219PR",
          "CM219PS",
          "CM219PT",
          "CM219PU",
          "CM219PW",
          "CM219PX",
          "CM219PY",
          "CM219PZ",
          "CM219QA",
          "CM219QD",
          "CM219QE",
          "CM219QH",
          "CM219QL",
          "CM219RA",
          "CM219RB",
          "CM219RD",
          "CM219RF",
          "CM219RG",
          "CM219TD",
          "CM226HP",
          "CM227DR",
          "CM227GX",
          "CM227LD",
          "CM227LH",
          "CM227LN",
          "CM227LP",
          "CM227LR",
          "CM227LS",
          "CM227LT",
          "CM227LU",
          "CM227LW",
          "CM227LX",
          "CM227LY",
          "CM227LZ",
          "CM227NA",
          "CM227NB",
          "CM227ND",
          "CM227NE",
          "CM227NF",
          "CM227NG",
          "CM227NH",
          "CM227NJ",
          "CM227NL",
          "CM227NN",
          "CM227NP",
          "CM227NR",
          "CM227NW",
          "CM227NX",
          "CM227SE",
          "CM227SG",
          "CM227SH",
          "CM234AU",
          "CM234BA",
          "CM234BD",
          "CM234RB",
          "CM239JX",
          "IP135GS",
          "IP288JS",
          "MK410RH"
         ],
         "received_time": "2021-03-30T11:38:28",
         "restored_time": "2021-03-30T12:28:01.39"
        },
        "INCD-228135-Z": {
         "description": "We had to turn off power in your area so our engineers could safely carry out emergency repairs to the network.",
         "estimated_restored_time": "2021-03-30T16:00:00",
         "incident_active": false,
         "planned_time": null,
         "postcodes_impacted": [
          "PE291AJ",
          "PE291AL",
          "PE291NT",
          "PE291NU",
          "PE291NX",
          "PE291PA"
         ],
         "received_time": "2021-03-30T13:03:00",
         "restored_time": "2021-03-30T15:50:07.703"
        },
        "INCD-228141-Z": {
         "description": "We were fixing an overhead electricity line that was damaged in the area.",
         "estimated_restored_time": "2021-03-30T20:00:00",
         "incident_active": false,
         "planned_time": null,
         "postcodes_impacted": [
          "EN92DA",
          "EN92DD",
          "EN92DN",
          "EN92LW",
          "EN92RR",
          "EN92RS",
          "EN92RU",
          "EN92RX",
          "EN92RY",
          "EN92SA",
          "EN92SB",
          "EN92SD",
          "EN92SF",
          "EN92SQ",
          "CM195DH",
          "EN92AZ",
          "EN92DB",
          "EN92DE",
          "EN92DF",
          "EN92DG",
          "EN92DH",
          "EN92LN",
          "EN92LP",
          "EN92LR",
          "EN92LS",
          "EN92LT",
          "EN92LX",
          "EN92RG",
          "EN92RJ",
          "EN92RL",
          "EN92RN",
          "EN92RP",
          "EN92RT",
          "EN92RW",
          "EN92SE",
          "EN92SG",
          "EN92SH",
          "EN92SJ",
          "RM41HS"
         ],
         "received_time": "2021-03-30T12:09:05",
         "restored_time": null
        },
        "INCD-228148-Z": {
         "description": "We had to turn off power in your area so our engineers could safely carry out emergency repairs to the network.",
         "estimated_restored_time": null,
         "incident_active": false,
         "planned_time": null,
         "postcodes_impacted": [
          "PE302PU",
          "PE302PZ",
          "PE302QA",
          "PE302QG"
         ],
         "received_time": "2021-03-30T13:00:00",
         "restored_time": "2021-03-30T13:12:36.123"
        },
        "INCD-228158-Z": {
         "description": "We had to turn off power in your area so our engineers could safely carry out emergency repairs to the network.",
         "estimated_restored_time": "2021-03-30T19:45:00",
         "incident_active": false,
         "planned_time": null,
         "postcodes_impacted": [
          "CO108TA",
          "CO108UE",
          "CO108UF",
          "CO94AB",
          "CO94AD",
          "CO94AE",
          "CO94AF",
          "CO94AG",
          "CO94AH",
          "CO94AJ",
          "CO94AT",
          "CB237DS",
          "CB97BL",
          "CB97BN",
          "CB97BS",
          "CB97BU",
          "CB97BW",
          "CB97BX",
          "CB97BY",
          "CB97BZ",
          "CB97DB",
          "CB97DF",
          "CB97DG",
          "CB97DH",
          "CB97DJ",
          "CB97DL",
          "CB97DN",
          "CB97DP",
          "CB97DQ",
          "CB97DR",
          "CB97DS",
          "CB97DT",
          "CB97DU",
          "CB97DW",
          "CB97DX",
          "CB97DY",
          "CB97DZ",
          "CB97EA",
          "CB97EB",
          "CB97ED",
          "CB97EE",
          "CB97EF",
          "CB97EG",
          "CB97EH",
          "CB97EJ",
          "CB97EL",
          "CB97EN",
          "CB97EP",
          "CB97EQ",
          "CB97ER",
          "CB97ES",
          "CB97ET",
          "CB97EU",
          "CB97EW",
          "CB97EX",
          "CB97EZ",
          "CB97GW",
          "CB97JG",
          "CB97JU",
          "CB97NR",
          "CB97SG",
          "CB97UY",
          "CB97UZ",
          "CB97XA",
          "CB97XB",
          "CB97XD",
          "CB97XE",
          "CB97XF",
          "CB97XG",
          "CB97XH",
          "CB97XJ",
          "CB97XL",
          "CB97XN",
          "CB97XP",
          "CB97XQ",
          "CB97XR",
          "CB97XT",
          "CB97XW",
          "CB97XX",
          "CB97XY",
          "CB97YT",
          "CB97YU",
          "CB97YX",
          "CB97ZH",
          "CO108UA",
          "CO108UB",
          "CO108UD",
          "CO108UG",
          "CO108UH",
          "CO108UJ",
          "CO93HY",
          "CO94AA",
          "CO94AP",
          "CO94BB",
          "CO94BD",
          "CO94BE",
          "CO94BG",
          "CO94BH",
          "CO94BJ",
          "CO94BL",
          "CO94BN",
          "CO94BP",
          "CO94BQ",
          "CO94BS",
          "CO94BT",
          "CO94BU",
          "CO94BW",
          "CO94BX",
          "CO94BY",
          "CO94BZ",
          "CO94DA",
          "CO94DB",
          "CO94DD",
          "CO94PG",
          "CO94PH",
          "CO94PJ",
          "CO94RL",
          "CO94RP",
          "CO94RQ",
          "CO94RR",
          "CO94RS",
          "CO94RT",
          "CO94RU",
          "CO94RX",
          "CO94RZ",
          "CO94SG",
          "CO94SJ",
          "CO94SL",
          "CO94SN",
          "CO94SP",
          "CO94SR",
          "CO94ST",
          "CO94SW",
          "UMS"
         ],
         "received_time": "2021-03-30T17:52:45",
         "restored_time": null
        },
        "INCD-228160-Z": {
         "description": "We had to turn off power in your area so our engineers could safely carry out emergency repairs to the network.",
         "estimated_restored_time": "2021-03-30T14:00:00",
         "incident_active": false,
         "planned_time": null,
         "postcodes_impacted": [
          "HP198AB",
          "HP198AD",
          "HP198AJ",
          "HP198AL",
          "HP198AT",
          "HP198FR",
          "HP198FS",
          "HP198FY",
          "HP199AG",
          "HP199AN",
          "HP199DQ",
          "UK"
         ],
         "received_time": "2021-03-30T13:15:00",
         "restored_time": "2021-03-30T13:33:59.193"
        },
        "INCD-228171-Z": {
         "description": "A fault occurred on a piece of our electrical equipment which controls the power to your home.",
         "estimated_restored_time": null,
         "incident_active": false,
         "planned_time": null,
         "postcodes_impacted": [
          "SG180DB",
          "SG180DJ",
          "SG180DL",
          "SG180DT",
          "SG180DY",
          "SG180HN",
          "SG180HP",
          "SG180HW"
         ],
         "received_time": "2021-03-30T13:41:00",
         "restored_time": "2021-03-30T15:51:44.1"
        },
        "INCD-228205-Z": {
         "description": "We were investigating a high voltage overhead electricity line fault which has caused a power cut in the local area.",
         "estimated_restored_time": null,
         "incident_active": false,
         "planned_time": null,
         "postcodes_impacted": [
          "CM98DT"
         ],
         "received_time": "2021-03-30T15:17:05",
         "restored_time": "2021-03-30T16:29:54.7"
        },
        "INCD-228214-Z": {
         "description": "A fault occurred on an underground electricity cable affecting the local area.",
         "estimated_restored_time": null,
         "incident_active": false,
         "planned_time": null,
         "postcodes_impacted": [
          "NR21RG",
          "NR21RL",
          "NR21QY",
          "NR21SF",
          "UMS"
         ],
         "received_time": "2021-03-30T15:39:00",
         "restored_time": null
        },
        "INCD-228228-Z": {
         "description": "A fault occurred on an underground electricity cable affecting the local area.",
         "estimated_restored_time": null,
         "incident_active": false,
         "planned_time": null,
         "postcodes_impacted": [
          "EN13ED",
          "EN13EF",
          "EN13EG",
          "EN26BN",
          "EN26LE"
         ],
         "received_time": "2021-03-30T16:14:14",
         "restored_time": null
        },
        "INCD-228240-Z": {
         "description": "We were investigating a high voltage overhead electricity line fault which caused a power cut in the local area.",
         "estimated_restored_time": null,
         "incident_active": false,
         "planned_time": null,
         "postcodes_impacted": [
          "MK454AU",
          "SG175PJ",
          "LU71EN",
          "MK452BE",
          "SG156RB",
          "SG175BB",
          "SG175PH",
          "SG175TD",
          "SG175TH",
          "SG175TJ",
          "SG175TL",
          "SG175TN",
          "SG175TQ",
          "SG175XE",
          "SG180EJ"
         ],
         "received_time": "2021-03-30T16:28:13",
         "restored_time": null
        },
        "INCD-228255-Z": {
         "description": "A fault occurred on a piece of our electrical equipment which controls the power to your home.",
         "estimated_restored_time": null,
         "incident_active": false,
         "planned_time": null,
         "postcodes_impacted": [
          "PE305GA",
          "PE305GB",
          "PE305GD",
          "PE305GE",
          "PE305GQ",
          "PE305BS",
          "PE305BT"
         ],
         "received_time": "2021-03-30T17:11:11",
         "restored_time": null
        },
        "INCD-228258-Z": {
         "description": "We had to turn off power in your area so our engineers could safely carry out emergency repairs to the network.",
         "estimated_restored_time": null,
         "incident_active": false,
         "planned_time": null,
         "postcodes_impacted": [
          "CM111PW"
         ],
         "received_time": "2021-03-30T17:35:55",
         "restored_time": null
        },
        "INCD-228262-Z": {
         "description": "A fault occurred on a piece of our electrical equipment which controls the power to your home.",
         "estimated_restored_time": null,
         "incident_active": false,
         "planned_time": null,
         "postcodes_impacted": [
          "CM11SY"
         ],
         "received_time": "2021-03-30T17:38:00",
         "restored_time": null
        },
        "INCD-229328-G": {
         "description": "A piece of network equipment had a fault on our high voltage electricity network, causing an area wide power cut.",
         "estimated_restored_time": "2020-06-18T06:00:00",
         "incident_active": false,
         "planned_time": null,
         "postcodes_impacted": [
          "BR51ET",
          "BR51EU",
          "BR51EY",
          "BR51EZ",
          "BR51HA",
          "BR60BY",
          "BR60BZ",
          "BR68BF",
          "BR68BJ",
          "BR68BL",
          "BR68BN",
          "BR68BP",
          "BR68BU",
          "BR68BW",
          "BR68BX",
          "BR68BY",
          "BR68DA",
          "BR68DB",
          "BR68DD",
          "BR68DG",
          "BR68DH",
          "BR68DJ",
          "BR68DQ",
          "BR68DS",
          "BR68DT",
          "BR68PA",
          "BR68RA",
          "TN402FB"
         ],
         "received_time": "2020-06-18T03:09:30",
         "restored_time": "2021-03-30T10:42:13.487"
        },
        "INCD-235992-G": {
         "description": "A fault occurred on a piece of our electrical equipment which controls the power to your home.",
         "estimated_restored_time": "2020-10-03T11:30:00",
         "incident_active": false,
         "planned_time": null,
         "postcodes_impacted": [
          "SE256UP",
          "SE256UT",
          "SE256UU",
          "SE256XA",
          "SE256XJ",
          "SE256XL"
         ],
         "received_time": "2020-10-03T05:51:53",
         "restored_time": "2021-03-30T08:28:33.63"
        },
        "INCD-243592-G": {
         "description": "A piece of network equipment had a fault on our high voltage electricity network, causing an area wide power cut.",
         "estimated_restored_time": "2021-01-24T11:30:00",
         "incident_active": false,
         "planned_time": null,
         "postcodes_impacted": [
          "BN99SG",
          "BN99SN",
          "BN99SP",
          "BN99SW",
          "BN99TB"
         ],
         "received_time": "2021-01-24T06:43:38",
         "restored_time": "2021-03-30T07:32:57.983"
        },
        "INCD-246385-G": {
         "description": "An underground electricity cable faulted on our high voltage network, causing an area wide power cut.",
         "estimated_restored_time": null,
         "incident_active": false,
         "planned_time": null,
         "postcodes_impacted": [
          "CT20QJ",
          "CT20QN",
          "CT20QT",
          "CT20QW",
          "CT34ER",
          "CT34NA",
          "CT34NB",
          "CT34ND",
          "CT34NE",
          "CT34NG",
          "CT67AP",
          "CT67HB",
          "CT67HD",
          "CT67HE",
          "CT67HF",
          "CT67HG",
          "CT67HH",
          "CT67HJ",
          "CT67HL",
          "CT67HN",
          "CT67HP",
          "CT67HQ",
          "CT67HR",
          "CT67HS",
          "CT67HT",
          "CT67HU",
          "CT67HW",
          "CT67HX",
          "CT67HY",
          "CT67JA",
          "CT67JB",
          "CT67JD",
          "CT67JE",
          "CT67JF",
          "CT67JP",
          "CT67JQ",
          "CT67JS",
          "CT67JT",
          "CT67JU",
          "CT67JX",
          "CT67JY",
          "CT67JZ",
          "CT67LA",
          "CT67LB",
          "CT67LD",
          "CT67LE",
          "CT67LF",
          "CT67LG",
          "CT67LJ",
          "CT67LL",
          "CT67LN",
          "CT67LP",
          "CT67LQ",
          "CT67LR",
          "CT67LS",
          "CT67LT",
          "CT67LU",
          "CT67LX",
          "CT67LZ",
          "CT67NA",
          "CT67NB",
          "CT67ND",
          "CT67NE",
          "CT67NH",
          "CT67NJ",
          "CT67NN",
          "CT67NP",
          "CT67NQ",
          "CT67NT",
          "CT67NW",
          "CT67PH",
          "CT67PT",
          "CT67TA",
          "CT67TB",
          "CT67TD",
          "CT67TE",
          "CT67TF",
          "CT67TG",
          "CT67TQ",
          "CT67TX",
          "CT67TY",
          "CT67TZ",
          "KT121GH",
          "KT67HU",
          "ME138GD",
          "ME138GF",
          "RH124TE",
          "TN235FH",
          "TW94FA"
         ],
         "received_time": "2021-03-08T17:24:05",
         "restored_time": "2021-03-30T07:50:13.093"
        },
        "INCD-246410-G": {
         "description": "Due to a faulty piece of network equipment we had to turn off your power.",
         "estimated_restored_time": "2021-03-09T18:00:00",
         "incident_active": false,
         "planned_time": null,
         "postcodes_impacted": [
          "GU215FG",
          "GU25EA",
          "ME103SQ",
          "RH149HS",
          "RH185BB",
          "RH185BF",
          "RH185BN",
          "RH185BS",
          "RH185BU",
          "RH185BW",
          "RH185BX",
          "RH185BY",
          "RH185BZ",
          "RH185DA",
          "RH185DB",
          "RH185DD",
          "RH185DE",
          "RH185DF",
          "RH185DG",
          "RH185DN",
          "RH185DQ",
          "RH185DY",
          "RH185DZ",
          "RH185EA",
          "RH185EB",
          "RH185ED",
          "RH185GE",
          "RH185GG",
          "RH185JP",
          "RH185JT",
          "RH185JU",
          "RH185JX",
          "RH185JY",
          "RH185JZ",
          "RH185LR",
          "RH185LS",
          "RH185LT",
          "RH185LU",
          "RH185LX",
          "RH185LY",
          "RH185LZ",
          "RH185NA",
          "RH185NB",
          "RH185ND",
          "RH185NE",
          "RH185NF",
          "RH185NG",
          "RH185NN",
          "RH185NS",
          "RH185NT",
          "RH185NU",
          "RH185NX",
          "TN131BF",
          "TN223JD",
          "TN223JE",
          "TN223JG",
          "TN223JH",
          "TN389NW",
          "TN74AA",
          "TN74AB",
          "TN74AD",
          "TN74AE",
          "TN74AG",
          "TN74AH",
          "TN74AJ",
          "TN74AL",
          "TN74AN",
          "TN74AP",
          "TN74AQ",
          "TN74AR",
          "TN74AS",
          "TN74AT",
          "TN74AU",
          "TN74AW",
          "TN74BA",
          "TN74DH",
          "TN74DJ",
          "TN74DL",
          "TN74DN",
          "TN74DP",
          "TN74DQ",
          "TN74DR",
          "TN74DS",
          "TN74DT",
          "TN74DU",
          "TN74DX",
          "TN74DY",
          "TN74DZ",
          "TN74EA",
          "TN74EB",
          "TN74ED",
          "TN74EH",
          "TN74EJ",
          "TN74EL",
          "TN74EN",
          "TN74EP",
          "TN74EQ",
          "TN74ER",
          "TN74ES",
          "TN74ET",
          "TN74EU",
          "TN74EX",
          "TN74HA",
          "TN74HB",
          "TN74HF",
          "TN74HG",
          "TN74HH",
          "TN74HJ",
          "TN74HL",
          "TN74HN",
          "TN74HP",
          "TN74HR",
          "TN74HS",
          "TN74HT",
          "TN74JA",
          "TN74JB",
          "TN74JD",
          "TN74JE",
          "TN74JF",
          "TN74JG",
          "TN74JH",
          "TN74JJ",
          "TN74JN",
          "TN74JS",
          "TN74JT",
          "TN74JU",
          "TN74JX",
          "TN74LA",
          "TN74LB",
          "TN74WW"
         ],
         "received_time": "2021-03-09T11:34:00",
         "restored_time": "2021-03-30T06:57:50.023"
        },
        "INCD-246888-G": {
         "description": "An underground electricity cable faulted on our high voltage network, causing an area wide power cut.",
         "estimated_restored_time": null,
         "incident_active": false,
         "planned_time": null,
         "postcodes_impacted": [
          "DA11YY",
          "DA26NX",
          "DA26QA",
          "DA26QE",
          "DA26QF",
          "DA26QG",
          "DA26QP",
          "DA26QR",
          "DA26QY",
          "DA26SB"
         ],
         "received_time": "2021-03-17T05:02:21",
         "restored_time": "2021-03-30T11:44:14.347"
        },
        "INCD-247082-G": {
         "description": "An underground electricity cable faulted on our high voltage network, causing an area wide power cut.",
         "estimated_restored_time": null,
         "incident_active": false,
         "planned_time": null,
         "postcodes_impacted": [
          "BN238NL",
          "BR52AY",
          "BR52AZ",
          "BR52BA",
          "BR52BB",
          "BR52BD",
          "BR52BG",
          "BR52BQ",
          "BR54LA",
          "BR54LB",
          "BR54LD",
          "BR54LF",
          "BR54LG",
          "BR54LQ",
          "BR54LX",
          "BR60HX",
          "BR60JB",
          "BR60JD",
          "BR60PX",
          "BR60PY",
          "BR60PZ",
          "BR60QE",
          "BR60QG",
          "BR60QH",
          "BR60QJ",
          "BR60QN",
          "BR60QP",
          "BR60QQ",
          "BR60QR",
          "BR60QW",
          "BR60QX",
          "BR60QY",
          "BR60QZ",
          "BR60RA",
          "BR60RG",
          "BR60RH",
          "BR60RJ",
          "BR60RL",
          "BR60RQ",
          "BR60RU",
          "BR60RW",
          "BR60UE",
          "BR69AA",
          "BR69AD",
          "BR69AE",
          "BR69AF",
          "BR69AH",
          "BR69AT",
          "BR69AX",
          "BR69BF",
          "BR69BL",
          "BR69BP",
          "BR69BT",
          "BR69BU",
          "BR69BX",
          "BR69BY",
          "BR69BZ",
          "BR69DA",
          "BR69DE",
          "BR69DF",
          "BR69DG",
          "BR69DH",
          "BR69DJ",
          "BR69DL",
          "BR69DP",
          "BR69DQ",
          "BR69DT",
          "BR69DX",
          "BR69DY",
          "BR69DZ",
          "BR69EA",
          "BR69EB",
          "BR69ED",
          "BR69EE",
          "BR69EF",
          "BR69EN",
          "BR69EP",
          "BR69ER",
          "BR69ES",
          "BR69ET",
          "BR69EU",
          "BR69EX",
          "BR69EY",
          "BR69EZ",
          "BR69HA",
          "BR69HB",
          "BR69HD",
          "BR69HE",
          "BR69HF",
          "BR69HG",
          "BR69HH",
          "BR69HN",
          "BR69HQ",
          "BR69HW",
          "BR69HX",
          "BR69HY",
          "BR69HZ",
          "BR69JA",
          "BR69JB",
          "BR69LL",
          "BR69SE",
          "BR69SX",
          "BR69TF",
          "BR69TG",
          "BR69TH",
          "BR69WA",
          "BR69WB",
          "BR69WD",
          "BR69WE",
          "RH193NF"
         ],
         "received_time": "2021-03-21T00:43:59",
         "restored_time": "2021-03-30T07:22:18.617"
        },
        "INCD-247112-G": {
         "description": "An underground electricity cable faulted on our high voltage network, causing an area wide power cut.",
         "estimated_restored_time": "2021-03-22T11:00:00",
         "incident_active": false,
         "planned_time": null,
         "postcodes_impacted": [
          "TN197AH",
          "TN197BF",
          "TN197DP",
          "TN197DR",
          "TN197DS",
          "TN197DT",
          "TN197EP",
          "TN197ER",
          "TN197ES",
          "TN197ET",
          "TN197EU",
          "TN197EX",
          "TN197EY",
          "TN197FB",
          "TN197HA",
          "TN197HB",
          "TN197HE",
          "TN197HG",
          "TN197HH",
          "TN197HL",
          "TN197HN",
          "TN197HP",
          "TN197HS",
          "TN197HT",
          "TN197HU",
          "TN197HX",
          "TN197LA",
          "TN197LB",
          "TN197LD",
          "TN197LE",
          "TN197LF",
          "TN197LG",
          "TN197LH",
          "TN197LQ",
          "TN197LX"
         ],
         "received_time": "2021-03-22T02:21:00",
         "restored_time": "2021-03-30T11:15:56.373"
        },
        "INCD-247280-G": {
         "description": "An underground electricity cable faulted on our high voltage network, causing an area wide power cut.",
         "estimated_restored_time": "2021-03-25T15:30:00",
         "incident_active": false,
         "planned_time": null,
         "postcodes_impacted": [
          "BN274BF",
          "BN443PD",
          "RH13YZ",
          "RH41DB",
          "RH41DD",
          "RH41DY",
          "RH41EA",
          "RH41EB",
          "RH41ED",
          "RH41EE",
          "RH41EG",
          "RH41EH",
          "RH41EJ",
          "RH41EL",
          "RH41EQ",
          "RH41UP",
          "RH42AA",
          "RH42EP",
          "RH42ES",
          "RH42JA",
          "RH42JD",
          "RH43AA",
          "RH43AB",
          "RH43AD",
          "RH43AE",
          "RH43AF",
          "RH43AG",
          "RH43AH",
          "RH43AR",
          "RH43BA",
          "RH43BB",
          "RH43BD",
          "RH43BE",
          "RH43BG",
          "RH43BH",
          "RH43BS",
          "RH43BT",
          "RH43BU",
          "RH43BX",
          "RH43BY",
          "RH43BZ",
          "RH43DA",
          "RH43DB",
          "RH43DD",
          "RH43DE",
          "RH43DF",
          "RH43DG",
          "RH43DH",
          "RH43DJ",
          "RH43DL",
          "RH43DP",
          "RH43DQ",
          "RH43DW",
          "RH43EL",
          "RH43HE",
          "RH43HF",
          "RH43HP",
          "RH43HQ",
          "RH43HR",
          "RH43HS",
          "RH43HT",
          "RH43HW",
          "RH43HX",
          "RH43HY",
          "RH43HZ",
          "RH43JA",
          "RH43JB",
          "RH43JS",
          "RH43YX",
          "RH54PH",
          "RH54PL",
          "RH56BW"
         ],
         "received_time": "2021-03-25T12:39:18",
         "restored_time": "2021-03-30T06:42:28.093"
        },
        "INCD-247374-G": {
         "description": "We had to turn off power in your area so our engineers could safely carry out emergency repairs to the network.",
         "estimated_restored_time": null,
         "incident_active": false,
         "planned_time": null,
         "postcodes_impacted": [
          "KT229BP",
          "RH56ER",
          "RH56ES",
          "RH56ET"
         ],
         "received_time": "2021-03-28T18:30:00",
         "restored_time": "2021-03-30T15:00:44.993"
        },
        "INCD-247441-G": {
         "description": "",
         "estimated_restored_time": "2021-03-30T13:30:00",
         "incident_active": false,
         "planned_time": null,
         "postcodes_impacted": [
          "TN224PP",
          "TN224PR",
          "TN224QE"
         ],
         "received_time": "2021-03-30T06:20:00",
         "restored_time": "2021-03-30T12:32:52.933"
        },
        "INCD-247451-G": {
         "description": "An underground electricity cable faulted on our high voltage network, causing an area wide power cut.",
         "estimated_restored_time": "2021-03-30T13:00:00",
         "incident_active": false,
         "planned_time": null,
         "postcodes_impacted": [
          "DA11YY",
          "DA236QQ",
          "DA26DT",
          "DA26NW",
          "DA26NX",
          "DA26QA",
          "DA26QB",
          "DA26QD",
          "DA26QE",
          "DA26QF",
          "DA26QG",
          "DA26QH",
          "DA26QJ",
          "DA26QN",
          "DA26QP",
          "DA26QQ",
          "DA26QR",
          "DA26QS",
          "DA26QY",
          "DA26SB"
         ],
         "received_time": "2021-03-30T09:46:00",
         "restored_time": "2021-03-30T15:16:58.073"
        },
        "INCD-247459-G": {
         "description": "A fault occurred on an underground electricity cable affecting the local area.",
         "estimated_restored_time": null,
         "incident_active": false,
         "planned_time": null,
         "postcodes_impacted": [
          "TN11SS",
          "TN11SY",
          "TN11SZ",
          "TN11TA",
          "TN25DD"
         ],
         "received_time": "2021-03-30T10:20:19",
         "restored_time": "2021-03-30T10:32:49.82"
        },
        "INCD-247460-G": {
         "description": "We were investigating a high voltage overhead electricity line fault which has caused a power cut in the local area.",
         "estimated_restored_time": null,
         "incident_active": false,
         "planned_time": null,
         "postcodes_impacted": [
          "BN130JN",
          "GU211YL",
          "RH121WR",
          "RH130BB",
          "RH130JL",
          "RH130JN",
          "RH130JU",
          "RH130JW",
          "RH130QE",
          "RH130QF",
          "RH130QG",
          "RH130QQ",
          "RH130RD",
          "RH130TG",
          "RH130TR",
          "RH137DE",
          "RH137JD",
          "RH137JG",
          "RH137JN",
          "RH137JP",
          "RH137JQ",
          "RH137JR",
          "RH137JW",
          "RH137QG",
          "RH138",
          "RH138AX",
          "RH138GB",
          "RH138GD",
          "RH138GE",
          "RH138GF",
          "RH138GG",
          "RH138GL",
          "RH138GP",
          "RH138GQ",
          "RH138GR",
          "RH138GU",
          "RH138LJ",
          "RH138NN",
          "RH138PA",
          "RH138PB",
          "RH138PD",
          "RH138PE",
          "RH138PF",
          "RH138PG",
          "RH138PH",
          "RH138PJ",
          "RH138PL",
          "RH138PP",
          "RH138PQ",
          "RH138PZ",
          "RH138QA",
          "RH138QB",
          "RH138QR",
          "RH139BZ",
          "RH139DB"
         ],
         "received_time": "2021-03-30T10:29:27",
         "restored_time": "2021-03-30T14:32:40.207"
        },
        "INCD-247468-G": {
         "description": "We were investigating an electricity cable that was damaged, causing a power cut in the local area.",
         "estimated_restored_time": null,
         "incident_active": false,
         "planned_time": null,
         "postcodes_impacted": [
          "TN343HH",
          "TN343HE"
         ],
         "received_time": "2021-03-30T11:11:00",
         "restored_time": null
        },
        "INCD-247476-G": {
         "description": "An underground electricity cable faulted on our high voltage network, causing an area wide power cut.",
         "estimated_restored_time": null,
         "incident_active": false,
         "planned_time": null,
         "postcodes_impacted": [
          "BN200AA",
          "BN200AB",
          "BN200AD",
          "BN200AE",
          "BN200AG",
          "BN200AH",
          "BN200AJ",
          "BN200AL",
          "BN200AN",
          "BN200AR",
          "BN200AS",
          "BN200AT",
          "BN200AU",
          "BN200AW",
          "BN200AX",
          "BN200AY",
          "BN200AZ",
          "BN200BA",
          "BN200BB",
          "BN200BD",
          "BN200BL",
          "BN200BP",
          "BN200BS",
          "BN200BT",
          "BN200BU",
          "BN200BX",
          "BN200BY",
          "BN200DA",
          "BN200DB",
          "BN200DD",
          "BN200DE",
          "BN200DG",
          "BN200DH",
          "BN200DJ",
          "BN200DL",
          "BN200DN",
          "BN200DP",
          "BN200DQ",
          "BN200DR",
          "BN200DS",
          "BN200DT",
          "BN200EA",
          "BN200EB",
          "BN200ED",
          "BN200EE",
          "BN200EF",
          "BN200EG",
          "BN200EH",
          "BN200EJ",
          "BN200EL",
          "BN200EN",
          "BN200EP",
          "BN200ER",
          "BN200ES",
          "BN200ET",
          "BN200EU",
          "BN200EW",
          "BN200EX",
          "BN200EY",
          "BN200EZ",
          "BN200HA",
          "BN200HB",
          "BN200HD",
          "BN200HE",
          "BN200HP",
          "BN200HR",
          "BN200HS",
          "BN200HT",
          "BN200HU",
          "BN200HX",
          "BN200HY",
          "BN200HZ",
          "BN200JA",
          "BN200JB",
          "BN200JD",
          "BN200JE",
          "BN200JF",
          "BN200JG",
          "BN200JH",
          "BN200JJ",
          "BN200JL",
          "BN200JN",
          "BN200JP",
          "BN200JR",
          "BN200JS",
          "BN200JT",
          "BN200JU",
          "BN200JX",
          "BN200JY",
          "BN200JZ",
          "BN200LA",
          "BN200LB",
          "BN200LE",
          "BN200LF",
          "BN200LG",
          "BN200LH",
          "BN200LJ",
          "BN207EW",
          "BN207LW",
          "BN207QG",
          "BN207QQ",
          "BN207QW",
          "BN207RJ",
          "BN207SH",
          "BN207SN",
          "BN207SP",
          "BN207SR",
          "BN207ST",
          "BN207SU",
          "BN207SX",
          "BN207SY",
          "BN207TA",
          "BN207TB",
          "BN207TD",
          "BN207TH",
          "BN207TL",
          "BN207TN",
          "BN207TQ",
          "BN207TR",
          "BN207TS",
          "BN207TT",
          "BN207TW",
          "BN207TX",
          "BN207TY",
          "BN207TZ",
          "BN207UA",
          "BN207UB",
          "BN207UF",
          "BN207XA",
          "BN208BT",
          "BN208BU",
          "BN208BX",
          "BN208BY",
          "BN208DA",
          "BN208DB",
          "BN208DD",
          "BN208DG",
          "BN208DH",
          "BN208DL",
          "BN208DN",
          "BN208DP",
          "BN208DQ",
          "BN208DR",
          "BN208DS",
          "BN208DU",
          "BN208DW",
          "BN208DY",
          "BN208EA",
          "BN208ES",
          "BN208EY",
          "BN208HA",
          "BN208HB",
          "BN208HD",
          "BN208HE",
          "BN208HF",
          "BN208HG",
          "BN208HH",
          "BN208HJ",
          "BN214JG",
          "BN214LB",
          "BN214SJ",
          "BN214UZ",
          "BN21XXX",
          "BN228HJ",
          "BN228LH",
          "BN228TS",
          "BN229AG",
          "BN229AL",
          "BN236JB",
          "BN236NQ",
          "BN236NU",
          "BN236PF",
          "BN236QB",
          "BN254AP",
          "BN265QN",
          "KT198TE",
          "RH163BF",
          "RH76JH"
         ],
         "received_time": "2021-03-30T11:58:40",
         "restored_time": "2021-03-30T17:22:55.403"
        },
        "INCD-247478-G": {
         "description": "We are carrying out essential work on the electricity network in your area.",
         "estimated_restored_time": "2021-03-30T17:00:00",
         "incident_active": false,
         "planned_time": null,
         "postcodes_impacted": [
          "TN325XA"
         ],
         "received_time": "2021-03-30T09:03:00",
         "restored_time": "2021-03-30T17:57:30.29"
        },
        "INCD-247486-G": {
         "description": "We were investigating a high voltage overhead electricity line fault which caused a power cut in the local area.",
         "estimated_restored_time": "2021-03-30T19:00:00",
         "incident_active": false,
         "planned_time": null,
         "postcodes_impacted": [
          "BN59BP",
          "BN59BS",
          "BN59BT",
          "BN59AG",
          "BN59AQ",
          "BN59AR",
          "BN59AS",
          "BN59AT",
          "BN59BL",
          "RH12",
          "RH138EU",
          "RH138HA",
          "RH138HB",
          "RH138HD",
          "RH138HE",
          "RH138HF",
          "RH138HG",
          "RH138HH",
          "RH138HJ",
          "RH138HL",
          "RH138HN",
          "RH138HQ",
          "RH138HR"
         ],
         "received_time": "2021-03-30T13:01:27",
         "restored_time": null
        },
        "INCD-247490-G": {
         "description": "An underground electricity cable faulted on our high voltage network, causing an area wide power cut.",
         "estimated_restored_time": "2021-03-30T17:00:00",
         "incident_active": false,
         "planned_time": null,
         "postcodes_impacted": [
          "CR77FG",
          "CT52LH",
          "CT52LJ",
          "CT52LL",
          "CT52LN",
          "CT52LP",
          "CT52LW",
          "CT52PH",
          "CT52PJ",
          "CT52PQ",
          "CT52PY",
          "CT52PZ",
          "CT53BS",
          "CT53DY",
          "CT53DZ",
          "CT53ED",
          "CT53EN",
          "CT53EP",
          "CT53ER",
          "CT53ES",
          "CT53EU",
          "CT53EW",
          "CT53HT",
          "CT53HU",
          "CT53HX",
          "CT53HY",
          "CT53HZ",
          "CT53JE",
          "CT53JF",
          "CT53JH",
          "CT53JJ",
          "CT53JL",
          "CT53JN",
          "CT53JP",
          "CT53JQ",
          "CT53JR",
          "CT53JS",
          "CT53JT",
          "CT53JU",
          "CT53JW",
          "CT53JX",
          "CT53JY",
          "CT53JZ",
          "CT53LA",
          "CT53LB",
          "CT53LD",
          "CT53LE",
          "CT53LJ",
          "CT53LP",
          "CT53LR",
          "CT53LS",
          "CT53LT",
          "CT53LU",
          "CT53LX",
          "CT53LY",
          "CT53LZ",
          "CT53NA",
          "CT53NB",
          "CT53ND",
          "CT53NE",
          "CT53NF",
          "CT53NG",
          "CT53NH",
          "CT53NJ",
          "CT53NL",
          "CT53NN",
          "CT53NP",
          "CT53NQ",
          "CT53NR",
          "CT53NS",
          "CT53NT",
          "CT53NU",
          "CT53NW",
          "CT53NX",
          "CT53PA",
          "CT53PD",
          "CT53PJ",
          "CT53PL",
          "CT53PP",
          "CT53PR",
          "CT53QB",
          "CT53QD",
          "CT53QE",
          "CT53QF",
          "CT53QG",
          "CT53QL",
          "CT53QN",
          "CT53QQ",
          "CT53QS",
          "CT53QW",
          "SM60AR",
          "UMS"
         ],
         "received_time": "2021-03-30T13:47:38",
         "restored_time": "2021-03-30T17:31:42.133"
        },
        "INCD-247491-G": {
         "description": "An underground electricity cable faulted on our high voltage network, causing an area wide power cut.",
         "estimated_restored_time": "2021-03-30T21:30:00",
         "incident_active": false,
         "planned_time": null,
         "postcodes_impacted": [
          "TN87AJ",
          "GU215FG",
          "RH137WN",
          "TN118JJ",
          "TN85PA",
          "TN85PB",
          "TN85PE",
          "TN85PG",
          "TN85PH",
          "TN86PD",
          "TN86PE",
          "TN86PG",
          "TN87AA",
          "TN87AB",
          "TN87AD",
          "TN87AE",
          "TN87AG",
          "TN87AH",
          "TN87AL",
          "TN87AN",
          "TN87AP",
          "TN87AQ",
          "TN87AT",
          "TN87AU",
          "TN87BA",
          "TN87BB",
          "TN87BD",
          "TN87BE",
          "TN87BG",
          "TN87BH",
          "TN87BL",
          "TN87BN",
          "TN87BP",
          "TN87BQ",
          "TN87BS",
          "TN87BT",
          "TN87BU",
          "TN87DA",
          "TN87DB",
          "TN87DD",
          "TN87DE",
          "TN87DP",
          "TN87DW",
          "TN87NG",
          "TN87NP",
          "TN87NR",
          "TN87NS",
          "TN87NT",
          "TN87NU",
          "TN87NX",
          "TN87PA",
          "TN87PB",
          "TN87PD",
          "TN87PE",
          "TN87PF",
          "TN87PG",
          "TN87PH",
          "TN87PJ",
          "TN87PL",
          "TN87PP"
         ],
         "received_time": "2021-03-30T13:49:18",
         "restored_time": null
        },
        "INCD-247493-G": {
         "description": "We were investigating a high voltage overhead electricity line fault which has caused a power cut in the local area.",
         "estimated_restored_time": "2021-03-30T17:00:00",
         "incident_active": false,
         "planned_time": null,
         "postcodes_impacted": [
          "CT29LG",
          "ME139LH"
         ],
         "received_time": "2021-03-30T13:40:38",
         "restored_time": "2021-03-30T17:34:17"
        },
        "INCD-247495-G": {
         "description": "An underground electricity cable faulted on our high voltage network, causing an area wide power cut.",
         "estimated_restored_time": "2021-03-30T17:30:00",
         "incident_active": false,
         "planned_time": null,
         "postcodes_impacted": [
          "BR67NS",
          "BR67SH",
          "BR67SJ",
          "TN147HH",
          "TN147HJ",
          "TN147HL",
          "TN147HN",
          "TN147HP",
          "TN147HW",
          "TN157SH"
         ],
         "received_time": "2021-03-30T13:58:05",
         "restored_time": "2021-03-30T15:32:41.44"
        },
        "INCD-247497-G": {
         "description": "Due to a faulty piece of high voltage network equipment we had to turn off your power.",
         "estimated_restored_time": "2021-03-30T20:00:00",
         "incident_active": false,
         "planned_time": null,
         "postcodes_impacted": [
          "BN37SG",
          "BN38AF",
          "BN38AG",
          "BN38AH",
          "BN38BA",
          "BN38BB",
          "BN38BD",
          "BN38BE",
          "BN38EQ",
          "BN38LA",
          "BN38LB",
          "BN38LD",
          "BN38LF",
          "BN38LG",
          "BN38LH",
          "BN38LJ",
          "BN38LL",
          "BN38LN",
          "BN38LP",
          "BN38LQ",
          "BN38LR",
          "BN38LS",
          "BN38PP",
          "BN38PW",
          "BN412EN",
          "BN412EP",
          "BN412EQ",
          "BN412ER",
          "BN412ES",
          "BN412ET",
          "BN412EU",
          "BN412EW",
          "BN412EY",
          "BN412EZ",
          "BN412FD",
          "BN412FE",
          "BN412FG",
          "BN412FH",
          "BN412FL",
          "BN412FN",
          "BN412FP",
          "BN412FQ",
          "BN412FR",
          "BN412FS",
          "BN412FT",
          "BN412FU",
          "BN412FW",
          "BN412FX",
          "BN412FY",
          "BN412FZ",
          "BN412GB",
          "BN412GE",
          "BN412GG",
          "BN412GH",
          "BN412GJ",
          "BN412GL",
          "BN412GN",
          "BN412GP",
          "BN412GQ",
          "BN412GR",
          "BN412GS",
          "BN412GT",
          "BN412GU",
          "BN412GW",
          "BN412GX",
          "BN412GY",
          "BN412GZ",
          "BN412HT",
          "BN412HW",
          "BN412HY",
          "BN412JA",
          "BN412JB",
          "BN412JD",
          "BN412JE",
          "BN412PA",
          "BN412QE"
         ],
         "received_time": "2021-03-30T14:13:20",
         "restored_time": null
        },
        "INCD-247498-G": {
         "description": "Due to a faulty piece of network equipment we had to turn off your power.",
         "estimated_restored_time": "2021-03-30T18:00:00",
         "incident_active": false,
         "planned_time": null,
         "postcodes_impacted": [
          "CT68AL",
          "CT68AN",
          "CT68BL"
         ],
         "received_time": "2021-03-30T14:16:18",
         "restored_time": "2021-03-30T17:33:41.56"
        },
        "INCD-247499-G": {
         "description": "An underground electricity cable faulted on our high voltage network, causing an area wide power cut.",
         "estimated_restored_time": "2021-03-30T19:00:00",
         "incident_active": false,
         "planned_time": null,
         "postcodes_impacted": [
          "RH194AA",
          "RH194BP",
          "RH194BS",
          "RH194DJ",
          "RH194DR",
          "RH194DS",
          "RH194DT",
          "RH194DU",
          "RH194DX",
          "RH194DY",
          "RH194EE",
          "RH194JS",
          "RH194JT",
          "RH194NQ",
          "RH194RR",
          "RH194SF"
         ],
         "received_time": "2021-03-30T14:21:08",
         "restored_time": null
        },
        "INCD-247500-G": {
         "description": "An underground electricity cable faulted on our high voltage network, causing an area wide power cut.",
         "estimated_restored_time": "2021-03-30T17:30:00",
         "incident_active": false,
         "planned_time": null,
         "postcodes_impacted": [
          "BN251AL",
          "BN251JF",
          "BN251PN",
          "BN253AB",
          "BN253HF",
          "BN253HG",
          "BN253HH",
          "BN253HJ",
          "BN253HT",
          "BN253HU",
          "BN253HX",
          "BN253JA",
          "BN253JH",
          "BN253JJ",
          "BN253JL",
          "BN253JN",
          "BN253JP",
          "BN253JR",
          "BN253JS",
          "BN253JT",
          "BN253JU",
          "BN253JX",
          "BN253JY",
          "BN253JZ",
          "BN253LA",
          "BN253LB",
          "BN253LD",
          "BN253LE",
          "BN253LF",
          "BN253LG",
          "BN253LH",
          "BN253LJ",
          "BN253LL",
          "BN253LN",
          "BN253LP",
          "BN253LQ",
          "BN253LR",
          "BN253LS",
          "BN253LU",
          "BN253LW",
          "BN253NF",
          "BN253NN",
          "BN253PJ",
          "BN253PN",
          "BN253PX",
          "BN253QD",
          "BN253QH",
          "BN253QJ",
          "BN253QL",
          "BN253QN",
          "BN253QW",
          "BN253RA",
          "BN253RB",
          "BN253RD",
          "BN253RE",
          "BN253RG",
          "BN253RH",
          "BN253RJ",
          "BN253RL",
          "BN253RN",
          "BN253RP",
          "BN253RR",
          "BN253RS",
          "BN253RT",
          "BN253RU",
          "BN253RX",
          "BN253RY",
          "BN253RZ",
          "BN253SA",
          "BN253SB",
          "BN253SD",
          "BN253SE",
          "BN253SF",
          "BN253SG",
          "BN253SH",
          "BN253SJ",
          "BN253SL",
          "BN253SN",
          "BN253SP",
          "BN253SR",
          "BN253SS",
          "BN253ST",
          "BN253SU",
          "BN253TE",
          "BN253TG",
          "BN253TH",
          "BN253TJ",
          "BN253TL",
          "BN253TN",
          "BN253TP",
          "BN253TR",
          "BN253TS",
          "BN253TT",
          "BN253TU",
          "BN253TW",
          "BN253TX",
          "BN253TY",
          "BN253TZ",
          "BN253UA",
          "BN253UB",
          "BN253UD",
          "BN253UE",
          "BN253UF",
          "BN253UG",
          "BN253UJ",
          "BN253UL",
          "BN253UN",
          "BN253UP",
          "BN253UQ",
          "BN253UR",
          "BN253US",
          "BN253UT",
          "BN253UU",
          "BN253UX",
          "BN254AA",
          "BN254AB",
          "BN254AD",
          "BN254AG",
          "BN254AH",
          "BN254AJ",
          "BN254AL",
          "BN254AN",
          "BN254AW",
          "BN254BA",
          "BN254BB",
          "BN254BD",
          "BN254BE",
          "BN254BG",
          "BN254BH",
          "BN254BJ",
          "BN254BL",
          "BN254BN",
          "BN254BP",
          "BN254BS",
          "BN254BT",
          "BN254BU",
          "BN254BW",
          "BN254BX",
          "BN254BY",
          "BN254BZ",
          "BN254DB",
          "BN254DF",
          "BN254DJ",
          "BN254DL",
          "BN254DP",
          "BN254DR",
          "BN254DS",
          "BN254DT",
          "BN254DU",
          "BN254DW",
          "BN254DX",
          "BN254DY",
          "BN254DZ",
          "BN254EA",
          "BN254EB",
          "BN254ED",
          "BN254EJ",
          "BN254EL",
          "BN254EN",
          "BN254EP",
          "BN254HP",
          "BN254JB",
          "BN254JD",
          "BN254JE",
          "BN254JF",
          "BN254JG",
          "BN254JQ",
          "BN254LP",
          "BN254LU",
          "BN254NB",
          "BN254NJ",
          "BN254NL",
          "BN254NN",
          "BN254NP",
          "BN254NQ",
          "BN254NS",
          "BN254NT",
          "BN254NX",
          "BN254PL",
          "BN254PP",
          "BN254PR",
          "BN254PS",
          "BN254PT",
          "BN254PU",
          "BN254PW",
          "BN254PZ",
          "BN254QA",
          "BN254QB",
          "BN254QD",
          "BN254QP",
          "BN254QR",
          "BN254QS",
          "BN254QT",
          "BN254QW",
          "BN265QU",
          "BN265QX",
          "BN265QY",
          "BN265RA",
          "BN265RB",
          "BN265RD",
          "BN265RE",
          "BN265RF",
          "BN265RG",
          "BN265RQ",
          "BN265TR",
          "BN265TS",
          "BN265TT",
          "BN265TU",
          "BN265TX",
          "BN265XW",
          "BN82QS",
          "CT102PY"
         ],
         "received_time": "2021-03-30T14:26:33",
         "restored_time": "2021-03-30T15:33:00.907"
        },
        "INCD-247505-G": {
         "description": "An underground electricity cable faulted on our high voltage network, causing an area wide power cut.",
         "estimated_restored_time": "2021-03-30T17:30:00",
         "incident_active": false,
         "planned_time": null,
         "postcodes_impacted": [
          "CT195AP",
          "CT195BH",
          "CT195BP",
          "CT195BS",
          "CT195BT",
          "CT195BU",
          "CT195BW",
          "CT195BY",
          "CT195BZ",
          "CT195DA",
          "CT195DG",
          "CT195DH",
          "CT195DJ",
          "CT195DL",
          "CT195DN",
          "CT195DQ",
          "CT195EH",
          "CT195EL",
          "CT195EP",
          "CT195ER",
          "CT195ES",
          "CT195ET",
          "CT195EY",
          "CT195LT",
          "CT195NH",
          "CT195NJ",
          "CT195NL",
          "CT195NN",
          "CT195NP",
          "CT195NR",
          "CT195NW",
          "CT195PS",
          "CT195PT",
          "CT195PU",
          "CT195PW",
          "CT195QA",
          "CT195QB",
          "CT195QR",
          "CT195QX",
          "CT195QY",
          "CT195QZ",
          "CT195RA",
          "CT195RB",
          "CT195RD",
          "CT195RE",
          "CT195RF",
          "CT195RG",
          "CT195RH",
          "CT195RJ",
          "CT195RL",
          "CT195RQ",
          "CT195RW",
          "CT195RZ",
          "CT195SB",
          "CT195SD",
          "CT195SE",
          "CT195SF",
          "CT195TJ",
          "CT195UJ",
          "CT195WG",
          "CT196AT",
          "CT196AZ",
          "CT196BA",
          "CT196BB",
          "CT196BH",
          "CT196BY",
          "CT196BZ",
          "CT196DB",
          "CT196DD",
          "CT196DE",
          "CT196DF",
          "CT196DG",
          "CT196DH",
          "CT196DJ",
          "CT196DL",
          "CT196DN",
          "CT196DQ",
          "CT196DR",
          "CT196DS",
          "CT196DT",
          "CT196DU",
          "CT196DW",
          "CT196DX",
          "CT196DY",
          "CT196DZ",
          "CT196EF",
          "CT196EG",
          "CT196EJ",
          "CT196EN",
          "CT196EP",
          "CT196ER",
          "CT196ES",
          "CT196EW",
          "CT196EY",
          "CT196HA",
          "CT196HB",
          "CT196HD",
          "CT196HE",
          "CT196HF",
          "CT196HG",
          "CT196NG",
          "CT196NH",
          "CT196NJ",
          "CT196NL",
          "CT196NT",
          "CT196NU",
          "CT196NX",
          "CT196PU",
          "CT196PX",
          "CT196PY",
          "CT196QH",
          "CT196QJ",
          "CT196QL",
          "CT196QN",
          "CT196QT",
          "CT196QU",
          "CT201NW",
          "CT201PH",
          "CT201PJ",
          "CT201PQ",
          "CT201PW"
         ],
         "received_time": "2021-03-30T14:39:11",
         "restored_time": "2021-03-30T17:35:41.787"
        },
        "INCD-247506-G": {
         "description": "We were investigating a high voltage overhead electricity line fault which caused a power cut in the local area.",
         "estimated_restored_time": "2021-03-30T18:00:00",
         "incident_active": false,
         "planned_time": null,
         "postcodes_impacted": [
          "ME139LE",
          "ME139LF",
          "ME139LH",
          "CT29LB",
          "CT29LD",
          "CT29LE",
          "CT29LF",
          "CT29LG",
          "DA130UN",
          "ME138GD",
          "ME139HN",
          "ME139JA",
          "ME139JB",
          "ME139JD",
          "ME139JG",
          "ME139JJ",
          "ME139JL",
          "ME139JN",
          "ME139JP",
          "ME139JQ",
          "ME139JR",
          "ME139JS",
          "ME139JT",
          "ME139JU",
          "ME139JW",
          "ME139JX",
          "ME139JY",
          "ME139JZ",
          "ME139LB",
          "ME139LG",
          "ME139LL",
          "ME139LR",
          "ME139TU",
          "ME139TX",
          "ME139TY",
          "ME139TZ",
          "ME139UA",
          "ME139UB",
          "ME139UD",
          "SM60AR"
         ],
         "received_time": "2021-03-30T13:39:22",
         "restored_time": null
        },
        "INCD-247509-G": {
         "description": "A fault occurred on a piece of our electrical equipment which controls the power to your home.",
         "estimated_restored_time": "2021-03-30T19:30:00",
         "incident_active": false,
         "planned_time": null,
         "postcodes_impacted": [
          "TW25EJ",
          "TW25EL",
          "TW25EN",
          "TW25ET",
          "TW25NA",
          "TW25QL",
          "TW25QN",
          "TW25QR",
          "TW25QS",
          "TW25QW",
          "TW25RN",
          "TW25RP",
          "TW25RR",
          "TW25RS",
          "TW25RW",
          "TW25SB"
         ],
         "received_time": "2021-03-30T15:30:00",
         "restored_time": "2021-03-30T17:45:33.613"
        },
        "INCD-247513-G": {
         "description": "We were investigating a high voltage overhead electricity line fault which caused a power cut in the local area.",
         "estimated_restored_time": "2021-03-30T19:00:00",
         "incident_active": false,
         "planned_time": null,
         "postcodes_impacted": [
          "TN256AF",
          "TN256AG",
          "TN256AH",
          "TN256AJ",
          "TN256AL",
          "TN256AN",
          "TN256AQ",
          "TN256EJ",
          "TN256EW",
          "TN256HS",
          "TN256RE",
          "TN256RG",
          "TN256RH",
          "TN256RJ",
          "TN256RQ",
          "GU229DS",
          "ME206TB",
          "RH117AB",
          "TN221EJ",
          "TN255HD",
          "TN255HE",
          "TN255HF",
          "TN255HG",
          "TN255HH",
          "TN255HJ",
          "TN255HL",
          "TN255HN",
          "TN255HP",
          "TN255HQ",
          "TN255HR",
          "TN255HS",
          "TN255HT",
          "TN255HU",
          "TN255HW",
          "TN255HZ",
          "TN255JA",
          "TN255JB",
          "TN255JD",
          "TN255JE",
          "TN255JH",
          "TN255JZ",
          "TN255LH",
          "TN255LL",
          "TN255LN",
          "TN255LP",
          "TN255LQ",
          "TN255LR",
          "TN255LS",
          "TN255LT",
          "TN255LU",
          "TN255LW",
          "TN255LX",
          "TN255LY",
          "TN255LZ",
          "TN255NA",
          "TN255NB",
          "TN255ND",
          "TN255PN",
          "TN255PP",
          "TN256PX",
          "TN256QX",
          "TN256QZ",
          "TN256RA",
          "TN256RB",
          "TN256RD",
          "TN256RF",
          "TN256SP",
          "TN256SR",
          "TN256SS",
          "TN256ST",
          "TN257HJ",
          "TN262EB",
          "TN263BA",
          "TN270QE",
          "TN278DJ"
         ],
         "received_time": "2021-03-30T15:52:37",
         "restored_time": null
        },
        "INCD-247521-G": {
         "description": "A fault occurred on a piece of our electrical equipment which controls the power to your home.",
         "estimated_restored_time": "2021-03-30T21:30:00",
         "incident_active": false,
         "planned_time": null,
         "postcodes_impacted": [
          "RH194PP",
          "RH194PQ",
          "RH194PW",
          "RH194QE",
          "RH194QF",
          "RH194QG",
          "RH194QH",
          "RH194QJ",
          "RH194QL",
          "RH194QQ"
         ],
         "received_time": "2021-03-30T16:34:18",
         "restored_time": null
        },
        "INCD-247522-G": {
         "description": "We were investigating a high voltage overhead electricity line fault which caused a power cut in the local area.",
         "estimated_restored_time": "2021-03-30T20:30:00",
         "incident_active": false,
         "planned_time": null,
         "postcodes_impacted": [
          "RH203AH",
          "RH203AJ",
          "RH203AL",
          "RH203AN",
          "RH203BH",
          "RH203BP",
          "RH203BQ",
          "RH203BS",
          "RH203BT",
          "RH203BU",
          "RH203DG",
          "RH203JF",
          "RH203JH"
         ],
         "received_time": "2021-03-30T16:42:51",
         "restored_time": null
        },
        "INCD-247525-G": {
         "description": "An underground electricity cable faulted on our high voltage network, causing an area wide power cut.",
         "estimated_restored_time": "2021-03-30T20:00:00",
         "incident_active": false,
         "planned_time": null,
         "postcodes_impacted": [
          "KT14ER",
          "TW107BS",
          "TW107BT",
          "TW107BU",
          "TW107BX",
          "TW107BY",
          "TW107BZ",
          "TW107EJ",
          "TW107EW",
          "TW107JJ",
          "CT66AD",
          "KT25GU",
          "KT25QR",
          "KT25QY",
          "KT25QZ",
          "KT25RA",
          "KT25RB",
          "RH163BD",
          "TW107BH",
          "TW107EE",
          "TW107EF",
          "TW107EG",
          "TW107EH",
          "TW107EL",
          "TW107EQ",
          "TW107HA",
          "TW107HD",
          "TW107HE",
          "TW107HF",
          "TW107HG",
          "TW107HJ",
          "TW107HL",
          "TW107HQ",
          "TW107HS",
          "TW107JE",
          "TW107JN",
          "TW107JS",
          "TW107JT",
          "TW107JU",
          "TW107LR",
          "TW107LS",
          "TW107LT",
          "TW107LU",
          "TW107NB",
          "TW107NG",
          "TW107NH",
          "TW107NJ",
          "TW107NL",
          "TW107NN",
          "TW107NQ",
          "TW107NR",
          "TW107NS",
          "TW107NT",
          "TW107NU",
          "TW107NW",
          "TW107NX",
          "TW107NY",
          "TW107PA",
          "TW107PB",
          "TW107PD",
          "TW107PE",
          "TW107PW",
          "TW107QA",
          "TW107QB",
          "TW107QD",
          "TW107QE",
          "TW107QF",
          "TW107QG",
          "TW107QH",
          "TW107QN",
          "TW107QP",
          "TW107QR",
          "TW107QS",
          "TW107QT",
          "TW107QU",
          "TW107QW",
          "TW107QX",
          "TW107QY",
          "TW107RP",
          "TW107RS",
          "TW107RT",
          "TW107RY",
          "TW107RZ",
          "TW107SA",
          "TW107SB",
          "TW107SD",
          "TW107SE",
          "TW107SF",
          "TW107SG",
          "TW107SH",
          "TW107SJ",
          "TW107SL",
          "TW107SN",
          "TW107SP",
          "TW107SQ",
          "TW107SW",
          "TW107TS",
          "TW107TT",
          "TW107TU",
          "TW107TX",
          "TW107TY",
          "TW107TZ",
          "TW107UA",
          "TW107UB",
          "TW107UD",
          "TW107UE",
          "TW107UF",
          "TW107UG",
          "TW107UH",
          "TW107UJ",
          "TW107UL",
          "TW107UN",
          "TW107UQ",
          "TW107UR",
          "TW107UT",
          "TW107UU",
          "TW107UW",
          "TW107XU",
          "TW107XX",
          "TW107XY",
          "TW107YA",
          "TW107YB",
          "TW107YJ",
          "TW14PA",
          "TW14PB",
          "TW14PD",
          "TW14PE",
          "TW14PG",
          "TW14PH",
          "TW14PJ",
          "TW14PL",
          "TW14PP",
          "TW14PQ",
          "TW14PR",
          "TW14PS",
          "TW14PT",
          "TW14PU",
          "TW14PW",
          "TW14QA",
          "TW14QB",
          "TW14QD",
          "TW14QG",
          "TW14RB",
          "TW14RG",
          "TW14RL",
          "TW14RT",
          "TW14RU",
          "TW14RX",
          "TW14SB",
          "TW14SD",
          "TW14ST",
          "TW14SU",
          "TW25RR",
          "TW25RX",
          "TW25SA",
          "TW25SD",
          "TW25SE",
          "TW25SF",
          "TW25SG",
          "TW25SH",
          "TW25SJ",
          "TW25SL",
          "TW25SQ",
          "TW25TE",
          "TW25TF",
          "TW25TL",
          "TW25TZ",
          "TW25UA",
          "TW94QA"
         ],
         "received_time": "2021-03-30T16:56:22",
         "restored_time": null
        },
        "INCD-247526-G": {
         "description": "An underground electricity cable faulted on our high voltage network, causing an area wide power cut.",
         "estimated_restored_time": "2021-03-30T20:00:00",
         "incident_active": false,
         "planned_time": null,
         "postcodes_impacted": [
          "BN207PD",
          "BN208AA",
          "BN208AB",
          "BN208AD",
          "BN208AE",
          "BN208AG",
          "BN208AH",
          "BN208AZ",
          "BN208BA",
          "BN211BE",
          "BN211BT",
          "BN211BU",
          "BN211BX",
          "BN211BY",
          "BN211BZ",
          "BN211DJ",
          "BN211DL",
          "BN211DN",
          "BN211DP",
          "BN211DR",
          "BN211DT",
          "BN211DU",
          "BN211DW",
          "BN211EG",
          "BN211EL",
          "BN211EN",
          "BN211EP",
          "BN211ER",
          "BN211ET",
          "BN211EU",
          "BN211EY",
          "BN211LZ",
          "BN212AA",
          "BN212AB",
          "BN212AE",
          "BN212AF",
          "BN212AH",
          "BN212ET",
          "BN213WW",
          "BN228TS",
          "BN228XH",
          "BN228XJ",
          "BN228XL"
         ],
         "received_time": "2021-03-30T17:05:34",
         "restored_time": null
        },
        "INCD-247530-G": {
         "description": "Our engineers had to redirect power due to a fault on the electricity network.",
         "estimated_restored_time": null,
         "incident_active": false,
         "planned_time": null,
         "postcodes_impacted": [
          "BN21XXX",
          "BN235AB",
          "BN235AH",
          "BN235AN",
          "BN235AP",
          "BN235AQ",
          "BN235AS",
          "BN235AX",
          "BN235AY",
          "BN235BA",
          "BN235BB",
          "BN235BD",
          "BN235BE",
          "BN235BF",
          "BN235BH",
          "BN235BJ",
          "BN235NB",
          "BN235NN",
          "BN235PA",
          "BN235PB",
          "BN235PD",
          "BN235PE",
          "BN235PF",
          "BN235PN",
          "BN235PP",
          "BN235PQ",
          "BN235PU",
          "BN235PW",
          "BN235PY",
          "BN235QB",
          "BN235QD",
          "BN235QE",
          "BN235QF",
          "BN235QG",
          "BN235RB",
          "BN235UA",
          "BN235UQ",
          "BN235UT",
          "BN235UZ",
          "BN236FE",
          "BN236JD",
          "BN236JF",
          "BN236JH",
          "BN236JW",
          "BN236TA",
          "BN236TB",
          "BN236TD",
          "BN236TE",
          "BN236TF",
          "BN236TG",
          "BN236TH",
          "BN236TJ",
          "BN236TL",
          "BN236TN",
          "BN236TP",
          "BN236TQ",
          "BN236TR",
          "BN236TU",
          "BN236TW",
          "BN236TX",
          "BN236TY",
          "BN236TZ",
          "BN236UE",
          "BN236UF",
          "BN236UG",
          "BN236UQ",
          "BN237AA",
          "BN237AB",
          "BN237AD",
          "BN237AE",
          "BN237AF",
          "BN237AG",
          "BN237AH",
          "BN237AJ",
          "BN237AQ",
          "BN237BT",
          "BN245PN",
          "BN246DH",
          "BN246DP",
          "BN246DT",
          "BN246DX"
         ],
         "received_time": "2021-03-30T10:21:17",
         "restored_time": "2021-03-30T17:59:49.827"
        },
        "INCD-258819-J": {
         "description": "A fault occurred on an underground electricity cable affecting the local area.",
         "estimated_restored_time": "2021-03-27T03:00:00",
         "incident_active": false,
         "planned_time": null,
         "postcodes_impacted": [
          "E151AJ"
         ],
         "received_time": "2021-03-26T16:46:00",
         "restored_time": "2021-03-30T09:39:34.867"
        },
        "INCD-259040-J": {
         "description": "A fault occurred on a piece of our electrical equipment which controls the power to your home.",
         "estimated_restored_time": null,
         "incident_active": false,
         "planned_time": null,
         "postcodes_impacted": [
          "E20PW",
          "E20RY",
          "E20SD",
          "E20SE",
          "E20SF",
          "E20SG",
          "E20SL",
          "E20SP",
          "E20SQ",
          "E20SU",
          "E20SX"
         ],
         "received_time": "2021-03-30T05:41:00",
         "restored_time": "2021-03-30T07:27:50.273"
        },
        "INCD-259047-J": {
         "description": "A fault occurred on an underground electricity cable affecting the local area.",
         "estimated_restored_time": "2021-03-30T21:30:00",
         "incident_active": false,
         "planned_time": null,
         "postcodes_impacted": [
          "E18AH",
          "EC3N1AL",
          "EC3N1BD",
          "EC3N1AH",
          "EC3N1BJ",
          "RM64PQ",
          "RM64UL"
         ],
         "received_time": "2021-03-30T08:15:00",
         "restored_time": null
        },
        "INCD-259064-J": {
         "description": "An underground electricity cable faulted on our high voltage network, causing an area wide power cut.",
         "estimated_restored_time": "2021-03-30T17:00:00",
         "incident_active": false,
         "planned_time": null,
         "postcodes_impacted": [
          "NW101AG",
          "SW1E6DR",
          "SW32BN",
          "SW32BS",
          "SW32BW",
          "SW32DB",
          "SW32DF",
          "SW32DG",
          "SW32DY",
          "SW32DZ",
          "SW32EA",
          "SW32EB",
          "SW32ED",
          "SW32EP",
          "SW36EB",
          "SW36EH",
          "SW36HR",
          "SW36HS",
          "SW36HX",
          "SW71AE",
          "SW71AF",
          "SW71AH",
          "SW71AJ",
          "SW71AN",
          "SW71BB",
          "SW71BD",
          "SW71EQ",
          "SW71JH",
          "SW71LJ",
          "SW71LN",
          "SW71LP",
          "SW71LR",
          "SW71LU",
          "SW71LW",
          "SW71NG",
          "SW71NH",
          "SW71NQ",
          "SW71NR",
          "SW71PA",
          "SW71PB",
          "SW71PD",
          "SW71PH",
          "SW71PL",
          "SW71PT",
          "SW71PZ",
          "SW71QG",
          "SW71QJ",
          "SW71QL",
          "SW71QW",
          "SW72BQ",
          "SW72ES",
          "SW72ET",
          "SW72EU",
          "SW72QT",
          "SW73AG",
          "SW73AH",
          "SW73AL",
          "SW73AP",
          "SW73AQ",
          "SW73AR",
          "SW73AS",
          "SW73AT",
          "SW73AW",
          "SW73BD",
          "SW73BS",
          "SW73BU",
          "SW73HE",
          "SW73HL",
          "SW73LQ",
          "SW73LX",
          "SW73LY",
          "SW73LZ",
          "SW73QB",
          "SW73QG",
          "SW73QH",
          "SW73QQ",
          "SW75AB",
          "SW75AE",
          "SW75AF",
          "SW75AG",
          "SW75EE",
          "SW75ET",
          "SW75EU",
          "SW75EX",
          "SW75LP",
          "SW75LT",
          "SW75QX",
          "SW75RG",
          "UMS",
          "W22UH",
          "W23XA"
         ],
         "received_time": "2021-03-30T14:42:45",
         "restored_time": "2021-03-30T17:06:41.86"
        },
        "INCD-259065-J": {
         "description": "Our engineers had to redirect power due to a fault on the electricity network.",
         "estimated_restored_time": null,
         "incident_active": false,
         "planned_time": null,
         "postcodes_impacted": [
          "SW32BN",
          "SW32BS",
          "SW32BW",
          "SW32DB",
          "SW32DF",
          "SW32DG",
          "SW32DY",
          "SW32DZ",
          "SW32EA",
          "SW32EB",
          "SW32ED",
          "SW32EP",
          "SW72BQ",
          "SW72ES",
          "SW72ET",
          "SW72EU",
          "SW72QT",
          "SW75EE",
          "SW75ET",
          "SW75EU",
          "SW75EX"
         ],
         "received_time": "2021-03-30T14:43:27",
         "restored_time": "2021-03-30T15:41:32.43"
        },
        "INCD-316989-U": {
         "description": "A fault occurred on a piece of our electrical equipment which controls the power to your home.",
         "estimated_restored_time": "2021-03-30T21:00:00",
         "incident_active": false,
         "planned_time": null,
         "postcodes_impacted": [
          "BR60JG",
          "BR66BH",
          "BR66BJ",
          "BR66BQ",
          "BR66BS",
          "BR66BU",
          "BR66FL",
          "BR67BA"
         ],
         "received_time": "2021-03-30T15:45:43",
         "restored_time": null
        },
        "INCD-43682-C": {
         "description": "A fault occurred on an underground electricity cable affecting the local area.",
         "estimated_restored_time": null,
         "incident_active": false,
         "planned_time": null,
         "postcodes_impacted": [
          "RM141HF",
          "RM141HG",
          "RM141HN",
          "RM141HQ",
          "RM141HU",
          "RM141YA"
         ],
         "received_time": "2021-03-29T11:19:00",
         "restored_time": null
        },
        "INCD-43735-C": {
         "description": "A fault occurred on a piece of our electrical equipment which controls the power to your home.",
         "estimated_restored_time": "2021-03-30T18:00:00",
         "incident_active": false,
         "planned_time": null,
         "postcodes_impacted": [
          "CM195JR",
          "CM195JS",
          "CM195JT"
         ],
         "received_time": "2021-03-30T14:00:00",
         "restored_time": "2021-03-30T18:10:54.72"
        },
        "INCD-43742-C": {
         "description": "A fault occurred on a piece of our electrical equipment which controls the power to your home.",
         "estimated_restored_time": "2021-03-30T20:00:00",
         "incident_active": false,
         "planned_time": null,
         "postcodes_impacted": [
          "RM124BS",
          "RM124BT",
          "RM124BU",
          "RM124BZ",
          "RM124EF"
         ],
         "received_time": "2021-03-30T16:36:00",
         "restored_time": "2021-03-30T18:02:55.943"
        },
        "INCD-47170-V": {
         "description": "The reason for this work is we are upgrading a piece of electrical equipment called a pole mounted transformer, on our electricity network. This equipment controls and delivers the electricity into your area. These are essential works that will improve the reliability of our electricity network, ensure our electricity network can uphold the amount of electricity in your area and will also reduce the risk of you having an unplanned power cut. This is why it is important to complete this work during the Coronavirus pandemic. This work is taking place in Henfield road. The government has given exemptions to certain industries and activities, this outage falls into this category. We are adhering to government guidelines to keep our customers and colleagues safe. We are sorry for any inconvenience caused by this work and thank you for your patience.",
         "estimated_restored_time": "2021-03-30T15:00:00",
         "incident_active": false,
         "planned_time": "2021-03-30T09:30:00",
         "postcodes_impacted": [
          "BN69DE"
         ],
         "received_time": "2021-03-30T09:30:00",
         "restored_time": "2021-03-30T15:50:26.703"
        },
        "INCD-48511-V": {
         "description": "This is the planned power cut that was scheduled for the 12th February 2021 but was postponed due to storm Darcy. The reason for this work is we are upgrading a piece of equipment, called a transformer, on the electricity network. This equipment controls and delivers the electricity into your area. These are essential works that will improve the reliability of the electricity network, ensure our network can uphold the amount of electricity in your area and will also reduce the risk of you having an unplanned power cut which is why it is important to complete this work during the Coronavirus pandemic. This work is taking place on Bell Lane. The government has given exemptions to certain industries and activities, this outage falls into this category. We are adhering to government guidelines to keep our customers and colleagues safe. We are sorry for any inconvenience caused by this work and thank you for your patience.",
         "estimated_restored_time": "2021-03-30T14:30:00",
         "incident_active": false,
         "planned_time": "2021-03-30T09:00:00",
         "postcodes_impacted": [
          "CT216PB",
          "DA40HD",
          "TN278NR",
          "TN278PP",
          "TN278PR",
          "TN278PS",
          "TN278PT"
         ],
         "received_time": "2021-03-30T09:10:00",
         "restored_time": "2021-03-30T17:45:41.067"
        },
        "INCD-49388-V": {
         "description": "An underground electricity cable faulted on our high voltage network, causing an area wide power cut.",
         "estimated_restored_time": null,
         "incident_active": false,
         "planned_time": null,
         "postcodes_impacted": [
          "BN274BF",
          "GU59JG",
          "GU59JL",
          "GU59JQ",
          "ME21HH"
         ],
         "received_time": "2021-02-04T19:39:58",
         "restored_time": "2021-03-30T10:50:13.343"
        },
        "INCD-51212-V": {
         "description": "We are diverting some high voltage overhead electricity cables. This work is following on from a customer's request to allow for the construction of a new housing development. Once completed this will improve the reliability of our electricity network and ensures that the housing development can safely be erected around our electricity network. This is why it is important to complete this work during the Coronavirus pandemic. To ensure our engineers can carry out these works safely we will need to switch off your power. This work is taking place off Stoke Road. The government has given exemptions to certain industries and activities, this outage falls into this category. We are adhering to government guidelines to keep our customers and colleagues safe. We would like to apologise for any inconvenience this may cause you.",
         "estimated_restored_time": "2021-03-30T14:00:00",
         "incident_active": false,
         "planned_time": "2021-03-30T08:00:00",
         "postcodes_impacted": [
          "ME38PT",
          "ME39BH",
          "ME39BJ",
          "ME39BQ",
          "ME39LR",
          "ME39LS",
          "ME39LT",
          "ME65FN"
         ],
         "received_time": "2021-03-30T08:04:00",
         "restored_time": "2021-03-30T12:58:09.18"
        },
        "INCD-51547-V": {
         "description": "Our contractors Avidety Ltd are replacing and upgrading high voltage electricity poles due to them coming to the end of their serviceable lives. This will improve the reliability of the electricity network and will reduce the risk of you having an unplanned power cut which is why it is important to complete this work during the Coronavirus pandemic. You may see our contractors completing preparation works prior to the outage to allow for a shorter interruption on the day of the planned power cut. This work is taking place in and around Bourne Lane in Robertsbridge. The government has given exemptions to certain industries and activities, this outage falls into this category.",
         "estimated_restored_time": "2021-03-30T17:00:00",
         "incident_active": false,
         "planned_time": "2021-03-30T09:00:00",
         "postcodes_impacted": [
          "TN325PR",
          "TN325PT"
         ],
         "received_time": "2021-03-30T09:00:00",
         "restored_time": "2021-03-30T17:12:23.88"
        },
        "INCD-51573-V": {
         "description": "Our contractors Avidety Ltd are replacing and upgrading electricity poles due to them decaying. They will also be replacing and upgrading some overhead electricity cables with improved insulated cables. This will improve the reliability of our electricity network and reduce the risk of you having an unplanned power cut. This is why it is important to complete this work during the Coronavirus outbreak. You may see our contractors completing preparation works prior to the outage to allow for a shorter interruption on the day of the planned power cut. This work is taking place on Ranters Lane. The government has given exemptions to certain industries and activities, this outage falls into this category.",
         "estimated_restored_time": "2021-03-30T15:30:00",
         "incident_active": false,
         "planned_time": "2021-03-30T09:30:00",
         "postcodes_impacted": [
          "TN171HJ",
          "TN171HL",
          "TN172SG"
         ],
         "received_time": "2021-03-30T09:40:00",
         "restored_time": "2021-03-30T16:14:35.637"
        },
        "INCD-51714-V": {
         "description": "We're carrying out planned work in your area. For our engineers to carry it out safely they need to turn the power off. We're doing this work as it's essential to provide reliable electricity supplies to your area. We're sorry for any inconvenience caused and thank you for your patience.",
         "estimated_restored_time": "2021-03-30T11:30:00",
         "incident_active": false,
         "planned_time": "2021-03-30T09:30:00",
         "postcodes_impacted": [
          "BN411DN"
         ],
         "received_time": "2021-03-30T09:41:00",
         "restored_time": "2021-03-30T10:12:17.177"
        },
        "INCD-52012-V": {
         "description": "We're carrying out planned work in your area. For our engineers to carry it out safely they need to turn the power off. We're doing this work as it's essential to provide reliable electricity supplies to your area. We're sorry for any inconvenience caused and thank you for your patience.",
         "estimated_restored_time": "2021-03-30T09:30:00",
         "incident_active": false,
         "planned_time": "2021-03-30T09:00:00",
         "postcodes_impacted": [
          "TN129DF",
          "TN129DG"
         ],
         "received_time": "2021-03-30T10:09:00",
         "restored_time": "2021-03-30T11:01:13.53"
        },
        "INCD-52219-V": {
         "description": "",
         "estimated_restored_time": null,
         "incident_active": false,
         "planned_time": null,
         "postcodes_impacted": [
          "TN393NB",
          "TN393ND",
          "TN393NE",
          "TN393NG"
         ],
         "received_time": "2021-03-13T14:43:00",
         "restored_time": "2021-03-30T06:55:48.347"
        },
        "INCD-52970-V": {
         "description": "An underground electricity cable faulted on our high voltage network, causing an area wide power cut.",
         "estimated_restored_time": "2021-03-23T02:00:00",
         "incident_active": false,
         "planned_time": null,
         "postcodes_impacted": [
          "DA122QD",
          "DA123AL",
          "DA123AN",
          "DA123AW",
          "DA130AN",
          "DA130DZ",
          "DA130EF",
          "DA130EH",
          "DA130EJ",
          "DA130HJ",
          "DA130HL",
          "DA130HN",
          "DA130HP",
          "DA130HR",
          "DA130HS",
          "DA130HT",
          "DA130HU",
          "DA130HW",
          "DA130HX",
          "DA130HY",
          "DA130HZ",
          "DA130JD",
          "DA130LN",
          "DA130LP",
          "DA130LR",
          "DA130LS",
          "DA130LT",
          "DA130LU",
          "DA130LW",
          "DA130LX",
          "DA130NA",
          "DA130NB",
          "DA130ND",
          "DA130NE",
          "DA130NF",
          "DA130NG",
          "DA130NQ",
          "DA130XX",
          "DA130YA",
          "DA130YB",
          "DA130YE",
          "DA130YF",
          "DA139AD",
          "DA139AH",
          "DA139AU",
          "DA139AY",
          "DA139BL",
          "DA139HS",
          "DA139PA",
          "DA37AF",
          "DA37AG",
          "DA37AH",
          "DA37AL",
          "DA37AN",
          "DA37AP",
          "DA37AQ",
          "DA37AR",
          "DA37AS",
          "DA37AT",
          "DA37AU",
          "DA37EX",
          "DA37GR",
          "DA37HA",
          "DA37HB",
          "DA37HD",
          "DA37HF",
          "DA37HH",
          "DA37HS",
          "DA37HT",
          "DA37HU",
          "DA37HX",
          "DA37HY",
          "DA37JA",
          "DA37JE",
          "DA37JF",
          "DA37JG",
          "DA37JH",
          "DA37JJ",
          "DA37JL",
          "DA37JQ",
          "DA37JR",
          "DA37JW",
          "DA37LE",
          "DA37LF",
          "DA37LG",
          "DA37LH",
          "DA37LJ",
          "DA37LP",
          "DA37LQ",
          "DA37LR",
          "DA37LS",
          "DA37LT",
          "DA37NA",
          "DA37NL",
          "DA37NR",
          "DA37NS",
          "DA37PW",
          "DA38EJ",
          "DA38LA",
          "DA38LD",
          "DA38LE",
          "DA99TF",
          "ME65FN",
          "RH150GL"
         ],
         "received_time": "2021-03-22T22:59:01",
         "restored_time": "2021-03-30T06:50:35.203"
        },
        "INCD-53519-V": {
         "description": "We were investigating an overhead electricity line fault which caused a power cut in the local area.",
         "estimated_restored_time": null,
         "incident_active": false,
         "planned_time": null,
         "postcodes_impacted": [
          "RH164AE",
          "RH164BX"
         ],
         "received_time": "2021-03-30T09:59:00",
         "restored_time": null
        },
        "INCD-59586-N": {
         "description": "We had to turn off power in your area so our engineers could safely carry out emergency repairs to the network.",
         "estimated_restored_time": null,
         "incident_active": false,
         "planned_time": null,
         "postcodes_impacted": [
          "RM64UL",
          "RM64PQ"
         ],
         "received_time": "2021-03-30T09:08:00",
         "restored_time": null
        },
        "INCD-59603-N": {
         "description": "A fault occurred on an underground electricity cable affecting your supply.",
         "estimated_restored_time": "2021-03-30T21:00:00",
         "incident_active": false,
         "planned_time": null,
         "postcodes_impacted": [
          "SW183BT",
          "SW183AH",
          "SW183AW",
          "SW183BF",
          "SW183BP",
          "SW183BX",
          "SW183BY",
          "SW183EP"
         ],
         "received_time": "2021-03-30T13:53:00",
         "restored_time": null
        },
        "INCD-6194-O": {
         "description": "We're carrying out planned work in your area. For our engineers to carry it out safely they need to turn the power off. We're doing this work as it's essential to provide reliable electricity supplies to your area. We're sorry for any inconvenience caused and thank you for your patience.",
         "estimated_restored_time": "2021-03-30T15:00:00",
         "incident_active": false,
         "planned_time": "2021-03-30T09:00:00",
         "postcodes_impacted": [
          "IP100EU",
          "IP100HD",
          "IP100HF"
         ],
         "received_time": "2021-03-30T09:03:00",
         "restored_time": null
        },
        "INCD-6245-O": {
         "description": "We're carrying out planned work in your area. For our engineers to carry it out safely they need to turn the power off. We're doing this work as it's essential to provide reliable electricity supplies to your area. We're sorry for any inconvenience caused and thank you for your patience.",
         "estimated_restored_time": "2021-03-30T14:00:00",
         "incident_active": false,
         "planned_time": "2021-03-30T09:00:00",
         "postcodes_impacted": [
          "HP178LT",
          "HP178LX"
         ],
         "received_time": "2021-03-30T09:30:00",
         "restored_time": "2021-03-30T13:43:55.62"
        },
        "INCD-6261-O": {
         "description": "We're carrying out planned work in your area. For our engineers to carry it out safely they need to turn the power off. We're doing this work as it's essential to provide reliable electricity supplies to your area. We're sorry for any inconvenience caused and thank you for your patience.",
         "estimated_restored_time": "2021-03-30T15:00:00",
         "incident_active": false,
         "planned_time": "2021-03-30T09:00:00",
         "postcodes_impacted": [
          "IP171TP",
          "IP171TQ",
          "IP171TR",
          "IP171TW"
         ],
         "received_time": "2021-03-30T09:01:00",
         "restored_time": "2021-03-30T14:42:38.99"
        },
        "INCD-6329-O": {
         "description": "We're carrying out planned work in your area. For our engineers to carry it out safely they need to turn the power off. We're doing this work as it's essential to provide reliable electricity supplies to your area. We're sorry for any inconvenience caused and thank you for your patience.",
         "estimated_restored_time": "2021-03-30T15:45:00",
         "incident_active": false,
         "planned_time": "2021-03-30T08:00:00",
         "postcodes_impacted": [
          "SG40LX",
          "SG62AA",
          "SG62AJ",
          "SG62DP"
         ],
         "received_time": "2021-03-30T08:45:00",
         "restored_time": "2021-03-30T16:55:38.56"
        },
        "INCD-6402-O": {
         "description": "We're carrying out planned work in your area. For our engineers to carry it out safely they need to turn the power off. We're doing this work as it's essential to provide reliable electricity supplies to your area. We're sorry for any inconvenience caused and thank you for your patience.",
         "estimated_restored_time": "2021-03-30T13:30:00",
         "incident_active": false,
         "planned_time": "2021-03-30T12:30:00",
         "postcodes_impacted": [
          "NR270AB",
          "NR270NA",
          "NR270NB",
          "NR270ND",
          "NR270NF",
          "NR270NG",
          "NR270NQ",
          "NR270PD",
          "NR270PS",
          "NR270PT"
         ],
         "received_time": "2021-03-30T12:30:00",
         "restored_time": "2021-03-30T14:35:47.45"
        },
        "INCD-6511-O": {
         "description": "We're carrying out planned work in your area. For our engineers to carry it out safely they need to turn the power off. We're doing this work as it's essential to provide reliable electricity supplies to your area. We're sorry for any inconvenience caused and thank you for your patience.",
         "estimated_restored_time": "2021-03-30T15:00:00",
         "incident_active": false,
         "planned_time": "2021-03-30T09:00:00",
         "postcodes_impacted": [
          "NR348JF",
          "NR351QU",
          "NR351QX",
          "NR351QY",
          "NR351QZ"
         ],
         "received_time": "2021-03-30T09:00:00",
         "restored_time": "2021-03-30T13:38:18.59"
        },
        "INCD-6522-O": {
         "description": "We're carrying out planned work in your area. For our engineers to carry it out safely they need to turn the power off. We're doing this work as it's essential to provide reliable electricity supplies to your area. We're sorry for any inconvenience caused and thank you for your patience.",
         "estimated_restored_time": "2021-03-30T13:00:00",
         "incident_active": false,
         "planned_time": "2021-03-30T09:00:00",
         "postcodes_impacted": [
          "NR117HP"
         ],
         "received_time": "2021-03-30T09:03:00",
         "restored_time": "2021-03-30T12:32:45.653"
        },
        "INCD-6528-O": {
         "description": "We're carrying out planned work in your area. For our engineers to carry it out safely they need to turn the power off. We're doing this work as it's essential to provide reliable electricity supplies to your area. We're sorry for any inconvenience caused and thank you for your patience.",
         "estimated_restored_time": "2021-03-30T16:00:00",
         "incident_active": false,
         "planned_time": "2021-03-30T10:00:00",
         "postcodes_impacted": [
          "CO112PP",
          "CO77FW",
          "CO77HU",
          "CO77HX",
          "CO77HZ",
          "CO77TJ",
          "CO77TP",
          "CO77TR",
          "CO77TU",
          "CO77TX",
          "CO77TY",
          "CO77UU",
          "CO77UX",
          "CO77UZ"
         ],
         "received_time": "2021-03-30T10:14:00",
         "restored_time": "2021-03-30T16:01:22.207"
        },
        "INCD-6545-O": {
         "description": "We're carrying out planned work in your area. For our engineers to carry it out safely they need to turn the power off. We're doing this work as it's essential to provide reliable electricity supplies to your area. We're sorry for any inconvenience caused and thank you for your patience.",
         "estimated_restored_time": "2021-03-30T15:00:00",
         "incident_active": false,
         "planned_time": "2021-03-30T09:00:00",
         "postcodes_impacted": [
          "IP146LS"
         ],
         "received_time": "2021-03-30T09:01:00",
         "restored_time": "2021-03-30T13:31:50.453"
        }
       }
      ],
      "text/plain": [
       "<IPython.core.display.JSON object>"
      ]
     },
     "execution_count": 16,
     "metadata": {
      "application/json": {
       "expanded": false,
       "root": "root"
      }
     },
     "output_type": "execute_result"
    }
   ],
   "source": [
    "raw_incidents_info, cleaned_incidents_info = get_ukpn_incidents_info()\n",
    "\n",
    "JSON([cleaned_incidents_info])"
   ]
  },
  {
   "cell_type": "code",
   "execution_count": null,
   "id": "unable-folder",
   "metadata": {},
   "outputs": [],
   "source": []
  },
  {
   "cell_type": "code",
   "execution_count": 17,
   "id": "desirable-webmaster",
   "metadata": {},
   "outputs": [],
   "source": [
    "#exports\n",
    "def save_json_data(data, filename, data_dir='../data/raw'):\n",
    "    with open(f'{data_dir}/{filename}.json', 'w') as fp:\n",
    "        json.dump(data, fp)"
   ]
  },
  {
   "cell_type": "code",
   "execution_count": 18,
   "id": "major-poverty",
   "metadata": {},
   "outputs": [],
   "source": [
    "save_json_data(raw_incidents_info, 'ukpn_incidents_info')"
   ]
  },
  {
   "cell_type": "markdown",
   "id": "primary-amsterdam",
   "metadata": {},
   "source": [
    "<br>\n",
    "\n",
    "### Scottish & Southern Electricity Networks\n",
    "\n",
    "https://www.ssen.co.uk/Powertrack/\n",
    "\n",
    "N.b. we occasionaly get date values of: `Date(-62135596800000)`. This occurs when no date can be found so we will set these to `None`."
   ]
  },
  {
   "cell_type": "code",
   "execution_count": 19,
   "id": "right-hammer",
   "metadata": {},
   "outputs": [
    {
     "name": "stderr",
     "output_type": "stream",
     "text": [
      "C:\\Users\\Ayrto\\anaconda3\\envs\\outage\\lib\\site-packages\\urllib3\\connectionpool.py:1020: InsecureRequestWarning: Unverified HTTPS request is being made to host 'www.ssen.co.uk'. Adding certificate verification is strongly advised. See: https://urllib3.readthedocs.io/en/latest/advanced-usage.html#ssl-warnings\n",
      "  InsecureRequestWarning,\n"
     ]
    },
    {
     "data": {
      "application/json": {
       "Faults": [
        {
         "AffectedAreas": [
          "OX26 6GA",
          "OX26 6GB"
         ],
         "DepotCode": "42",
         "EstimatedArrivalOnSiteUtc": "/Date(-62135596800000)/",
         "EstimatedFaultUpdateTimeUtc": "/Date(-62135596800000)/",
         "EstimatedRestorationTimeUtc": "/Date(-62135596800000)/",
         "FaultType": "LV",
         "IsDepot": false,
         "Location": {
          "DisplayText": "51.900555777107591, -1.1446831518468226",
          "Latitude": 51.90055577710759,
          "Longitude": -1.1446831518468226
         },
         "LoggedAtUtc": "/Date(30018330600000)/",
         "Message": "We’re sorry for the loss of supply. We currently have a fault affecting the areas listed. We are working hard to get the power back on as quickly as we can. If you need more information, please call us on 105 or send us a message on <a href=\"http://m.me/ssencommunity/\">Facebook</a> or Twitter (<a href=\"https://twitter.com/ssencommunity\">@ssencommunity</a>) and quote reference 'HA9382'",
         "Reference": "HA9382",
         "Title": "OX26 Area"
        },
        {
         "AffectedAreas": [
          "PH7 3SB"
         ],
         "DepotCode": "70",
         "EstimatedArrivalOnSiteUtc": "/Date(-62135596800000)/",
         "EstimatedFaultUpdateTimeUtc": "/Date(-62135596800000)/",
         "EstimatedRestorationTimeUtc": "/Date(1617127200000)/",
         "FaultType": "PSI",
         "IsDepot": false,
         "Location": {
          "DisplayText": "56.3680753520734, -3.8455714252609496",
          "Latitude": 56.3680753520734,
          "Longitude": -3.8455714252609496
         },
         "LoggedAtUtc": "/Date(1617123600000)/",
         "Message": "We're sorry for the loss of supply. The reason you're currently without power is a planned outage in the areas listed. We have turned off your electricity supply to allow us to safely carry out essential work to our electrical equipment. By doing this, it'll help us to improve the reliability of our service to you for the future. If you have any questions or require more information, please call us on 105 or send us a message on <a href=\"http://m.me/ssencommunity/\">Facebook</a> or Twitter (<a href=\"https://twitter.com/ssencommunity\">@ssencommunity</a>) with reference  '198913'. You will have received a letter from us confirming your power will be interrupted with specific information relating to your property. If you did not receive this letter, you can assume your power will not be interrupted.",
         "Reference": "198913",
         "Title": "PH7 Area"
        },
        {
         "AffectedAreas": [
          "SL1 3XU",
          "SL1 3XX",
          "SL1 3XZ",
          "SL1 3YA"
         ],
         "DepotCode": "53",
         "EstimatedArrivalOnSiteUtc": "/Date(-62135596800000)/",
         "EstimatedFaultUpdateTimeUtc": "/Date(-62135596800000)/",
         "EstimatedRestorationTimeUtc": "/Date(1617129000000)/",
         "FaultType": "LV",
         "IsDepot": false,
         "Location": {
          "DisplayText": "51.524907964721656, -0.600406199520776",
          "Latitude": 51.524907964721656,
          "Longitude": -0.600406199520776
         },
         "LoggedAtUtc": "/Date(1617121800000)/",
         "Message": "We’re sorry for the loss of supply. We currently have a fault affecting the areas listed. Our engineers are on site working hard to get the power back on as quickly as they can. If you need more information, please call us on 105 or send us a message on <a href=\"http://m.me/ssencommunity/\">Facebook</a> or Twitter (<a href=\"https://twitter.com/ssencommunity\">@ssencommunity</a>) and quote reference 'HA9564'",
         "Reference": "HA9564",
         "Title": "SL1 Area"
        },
        {
         "AffectedAreas": [
          "SL7 1PX",
          "SL7 1PY"
         ],
         "DepotCode": "47",
         "EstimatedArrivalOnSiteUtc": "/Date(-62135596800000)/",
         "EstimatedFaultUpdateTimeUtc": "/Date(-62135596800000)/",
         "EstimatedRestorationTimeUtc": "/Date(1617148800000)/",
         "FaultType": "LV",
         "IsDepot": false,
         "Location": {
          "DisplayText": "51.570126781352222, -0.77040780083549043",
          "Latitude": 51.57012678135222,
          "Longitude": -0.7704078008354904
         },
         "LoggedAtUtc": "/Date(1617121800000)/",
         "Message": "We’re sorry for the loss of supply. We currently have a fault affecting the areas listed. Our engineers are on site working hard to get the power back on as quickly as they can. If you need more information, please call us on 105 or send us a message on <a href=\"http://m.me/ssencommunity/\">Facebook</a> or Twitter (<a href=\"https://twitter.com/ssencommunity\">@ssencommunity</a>) and quote reference 'HA9645'",
         "Reference": "HA9645",
         "Title": "SL7 Area"
        },
        {
         "AffectedAreas": [
          "PA28 6NT",
          "PA28 6NU",
          "PA28 6PN"
         ],
         "DepotCode": "57",
         "EstimatedArrivalOnSiteUtc": "/Date(1617121800000)/",
         "EstimatedFaultUpdateTimeUtc": "/Date(-62135596800000)/",
         "EstimatedRestorationTimeUtc": "/Date(1617129000000)/",
         "FaultType": "HV",
         "IsDepot": false,
         "Location": {
          "DisplayText": "55.436105953301713, -5.676731824596521",
          "Latitude": 55.43610595330171,
          "Longitude": -5.676731824596521
         },
         "LoggedAtUtc": "/Date(1617121020000)/",
         "Message": "We’re sorry for the loss of supply. We currently have a fault affecting the areas listed. Our engineers are on site working hard to get the power back on as quickly as they can. If you need more information, please call us on 105 or send us a message on <a href=\"http://m.me/ssencommunity/\">Facebook</a> or Twitter (<a href=\"https://twitter.com/ssencommunity\">@ssencommunity</a>) and quote reference 'HA9755'",
         "Reference": "HA9755",
         "Title": "PA28 Area"
        },
        {
         "AffectedAreas": [
          "BH21 2AD",
          "BH21 2AF",
          "BH21 2AG",
          "BH21 2AL",
          "BH21 2AN",
          "BH21 2BN",
          "BH21 2BT",
          "BH21 2BU",
          "BH21 2DB"
         ],
         "DepotCode": "45",
         "EstimatedArrivalOnSiteUtc": "/Date(1617123600000)/",
         "EstimatedFaultUpdateTimeUtc": "/Date(-62135596800000)/",
         "EstimatedRestorationTimeUtc": "/Date(1617132300000)/",
         "FaultType": "LV",
         "IsDepot": false,
         "Location": {
          "DisplayText": "50.798346316862187, -1.9700088847729973",
          "Latitude": 50.79834631686219,
          "Longitude": -1.9700088847729973
         },
         "LoggedAtUtc": "/Date(1617120960000)/",
         "Message": "We’re sorry for the loss of supply. We currently have a fault affecting the areas listed. Our engineers are on site working hard to get the power back on as quickly as they can. If you need more information, please call us on 105 or send us a message on <a href=\"http://m.me/ssencommunity/\">Facebook</a> or Twitter (<a href=\"https://twitter.com/ssencommunity\">@ssencommunity</a>) and quote reference 'HA9760'",
         "Reference": "HA9760",
         "Title": "BH21 Area"
        },
        {
         "AffectedAreas": [
          "MK18 4AH",
          "MK18 4AJ",
          "MK18 4AS",
          "NN13 5JQ",
          "NN13 5JZ",
          "NN13 5PR",
          "NN13 5RN",
          "NN13 5RW"
         ],
         "DepotCode": "42",
         "EstimatedArrivalOnSiteUtc": "/Date(-62135596800000)/",
         "EstimatedFaultUpdateTimeUtc": "/Date(-62135596800000)/",
         "EstimatedRestorationTimeUtc": "/Date(1617138000000)/",
         "FaultType": "HV",
         "IsDepot": false,
         "Location": {
          "DisplayText": "51.999504044765857, -1.0944534046159431",
          "Latitude": 51.99950404476586,
          "Longitude": -1.094453404615943
         },
         "LoggedAtUtc": "/Date(1617120240000)/",
         "Message": "We’re sorry for the loss of supply. We currently have a fault affecting the areas listed. Our engineers are on site working hard to get the power back on as quickly as they can. If you need more information, please call us on 105 or send us a message on <a href=\"http://m.me/ssencommunity/\">Facebook</a> or Twitter (<a href=\"https://twitter.com/ssencommunity\">@ssencommunity</a>) and quote reference 'HA9730'",
         "Reference": "HA9730",
         "Title": "NN13 Area"
        },
        {
         "AffectedAreas": [
          "DT4 0AB",
          "DT4 0AD",
          "DT4 0AE",
          "DT4 0AJ",
          "DT4 0AL"
         ],
         "DepotCode": "45",
         "EstimatedArrivalOnSiteUtc": "/Date(-62135596800000)/",
         "EstimatedFaultUpdateTimeUtc": "/Date(-62135596800000)/",
         "EstimatedRestorationTimeUtc": "/Date(1617132000000)/",
         "FaultType": "LV",
         "IsDepot": false,
         "Location": {
          "DisplayText": "50.612078799003605, -2.4614132482169944",
          "Latitude": 50.612078799003605,
          "Longitude": -2.4614132482169944
         },
         "LoggedAtUtc": "/Date(1617120180000)/",
         "Message": "We’re sorry for the loss of supply. We currently have a fault affecting the areas listed. Our engineers are on site working hard to get the power back on as quickly as they can. If you need more information, please call us on 105 or send us a message on <a href=\"http://m.me/ssencommunity/\">Facebook</a> or Twitter (<a href=\"https://twitter.com/ssencommunity\">@ssencommunity</a>) and quote reference 'HA9740'",
         "Reference": "HA9740",
         "Title": "DT4 Area"
        },
        {
         "AffectedAreas": [
          "TW4 7DA",
          "TW4 7DE",
          "TW4 7DF",
          "TW4 7DJ",
          "TW4 7DL"
         ],
         "DepotCode": "36",
         "EstimatedArrivalOnSiteUtc": "/Date(-62135596800000)/",
         "EstimatedFaultUpdateTimeUtc": "/Date(-62135596800000)/",
         "EstimatedRestorationTimeUtc": "/Date(1617134700000)/",
         "FaultType": "LV",
         "IsDepot": false,
         "Location": {
          "DisplayText": "51.471676086076648, -0.38374230241482377",
          "Latitude": 51.47167608607665,
          "Longitude": -0.38374230241482377
         },
         "LoggedAtUtc": "/Date(1617118800000)/",
         "Message": "We’re sorry for the loss of supply. We currently have a fault affecting the areas listed. Our engineers are on site working hard to get the power back on as quickly as they can. If you need more information, please call us on 105 or send us a message on <a href=\"http://m.me/ssencommunity/\">Facebook</a> or Twitter (<a href=\"https://twitter.com/ssencommunity\">@ssencommunity</a>) and quote reference 'HA9738'",
         "Reference": "HA9738",
         "Title": "TW4 Area"
        },
        {
         "AffectedAreas": [
          "HS6 5EU"
         ],
         "DepotCode": "52",
         "EstimatedArrivalOnSiteUtc": "/Date(-62135596800000)/",
         "EstimatedFaultUpdateTimeUtc": "/Date(-62135596800000)/",
         "EstimatedRestorationTimeUtc": "/Date(1617127200000)/",
         "FaultType": "LV",
         "IsDepot": false,
         "Location": {
          "DisplayText": "57.550519724885369, -7.2668971000947868",
          "Latitude": 57.55051972488537,
          "Longitude": -7.266897100094787
         },
         "LoggedAtUtc": "/Date(1617117540000)/",
         "Message": "We’re sorry for the loss of supply. We currently have a fault affecting the areas listed. Our engineers are on site working hard to get the power back on as quickly as they can. If you need more information, please call us on 105 or send us a message on <a href=\"http://m.me/ssencommunity/\">Facebook</a> or Twitter (<a href=\"https://twitter.com/ssencommunity\">@ssencommunity</a>) and quote reference 'HA9655'",
         "Reference": "HA9655",
         "Title": "HS6 Area"
        },
        {
         "AffectedAreas": [
          "SN15 4LT"
         ],
         "DepotCode": "38",
         "EstimatedArrivalOnSiteUtc": "/Date(-62135596800000)/",
         "EstimatedFaultUpdateTimeUtc": "/Date(-62135596800000)/",
         "EstimatedRestorationTimeUtc": "/Date(1617129000000)/",
         "FaultType": "HV",
         "IsDepot": false,
         "Location": {
          "DisplayText": "51.4737184347722, -2.056866375485781",
          "Latitude": 51.4737184347722,
          "Longitude": -2.056866375485781
         },
         "LoggedAtUtc": "/Date(1617117240000)/",
         "Message": "We’re sorry for the loss of supply. We currently have a fault affecting the areas listed. Our engineers are on site working hard to get the power back on as quickly as they can. If you need more information, please call us on 105 or send us a message on <a href=\"http://m.me/ssencommunity/\">Facebook</a> or Twitter (<a href=\"https://twitter.com/ssencommunity\">@ssencommunity</a>) and quote reference 'HA9654'",
         "Reference": "HA9654",
         "Title": "SN15 Area"
        },
        {
         "AffectedAreas": [
          "ML3 7GB",
          "ML3 7GF",
          "ML3 7GG",
          "ML3 7GH",
          "ML3 7GJ",
          "ML3 7GL",
          "ML3 7GN",
          "ML3 7TZ"
         ],
         "DepotCode": "59",
         "EstimatedArrivalOnSiteUtc": "/Date(-62135596800000)/",
         "EstimatedFaultUpdateTimeUtc": "/Date(-62135596800000)/",
         "EstimatedRestorationTimeUtc": "/Date(1617127200000)/",
         "FaultType": "HV",
         "IsDepot": false,
         "Location": {
          "DisplayText": "55.7650698661756, -4.00033157287949",
          "Latitude": 55.7650698661756,
          "Longitude": -4.00033157287949
         },
         "LoggedAtUtc": "/Date(1617116340000)/",
         "Message": "We’re sorry for the loss of supply. We currently have a fault affecting the areas listed. Our engineers are on site working hard to get the power back on as quickly as they can. If you need more information, please call us on 105 or send us a message on <a href=\"http://m.me/ssencommunity/\">Facebook</a> or Twitter (<a href=\"https://twitter.com/ssencommunity\">@ssencommunity</a>) and quote reference 'HA9639'",
         "Reference": "HA9639",
         "Title": "ML3 Area"
        },
        {
         "AffectedAreas": [
          "GL7 4DY",
          "GL7 4EA",
          "GL7 4EB",
          "GL7 4ED"
         ],
         "DepotCode": "55",
         "EstimatedArrivalOnSiteUtc": "/Date(1617125400000)/",
         "EstimatedFaultUpdateTimeUtc": "/Date(-62135596800000)/",
         "EstimatedRestorationTimeUtc": "/Date(1617136200000)/",
         "FaultType": "LV",
         "IsDepot": false,
         "Location": {
          "DisplayText": "51.6873689618773, -1.7579148307715831",
          "Latitude": 51.6873689618773,
          "Longitude": -1.757914830771583
         },
         "LoggedAtUtc": "/Date(1617115740000)/",
         "Message": "We’re sorry for the loss of supply. We currently have a fault affecting the areas listed. Our engineers are on site working hard to get the power back on as quickly as they can. If you need more information, please call us on 105 or send us a message on <a href=\"http://m.me/ssencommunity/\">Facebook</a> or Twitter (<a href=\"https://twitter.com/ssencommunity\">@ssencommunity</a>) and quote reference 'HA9632'",
         "Reference": "HA9632",
         "Title": "GL7 Area"
        },
        {
         "AffectedAreas": [
          "UB3 1PH",
          "UB3 1PX",
          "UB3 1PZ"
         ],
         "DepotCode": "34",
         "EstimatedArrivalOnSiteUtc": "/Date(-62135596800000)/",
         "EstimatedFaultUpdateTimeUtc": "/Date(-62135596800000)/",
         "EstimatedRestorationTimeUtc": "/Date(1617145140000)/",
         "FaultType": "LV",
         "IsDepot": false,
         "Location": {
          "DisplayText": "51.499660949371027, -0.44228346846892658",
          "Latitude": 51.49966094937103,
          "Longitude": -0.4422834684689266
         },
         "LoggedAtUtc": "/Date(1617113820000)/",
         "Message": "We’re sorry for the loss of supply. We currently have a fault affecting the areas listed. Our engineers are on site working hard to get the power back on as quickly as they can. If you need more information, please call us on 105 or send us a message on <a href=\"http://m.me/ssencommunity/\">Facebook</a> or Twitter (<a href=\"https://twitter.com/ssencommunity\">@ssencommunity</a>) and quote reference 'HA9621'",
         "Reference": "HA9621",
         "Title": "UB3 Area"
        },
        {
         "AffectedAreas": [
          "FK19 8NT",
          "FK19 8PW",
          "FK19 8PX"
         ],
         "DepotCode": "70",
         "EstimatedArrivalOnSiteUtc": "/Date(-62135596800000)/",
         "EstimatedFaultUpdateTimeUtc": "/Date(-62135596800000)/",
         "EstimatedRestorationTimeUtc": "/Date(1617127200000)/",
         "FaultType": "LV",
         "IsDepot": false,
         "Location": {
          "DisplayText": "56.380466536061917, -4.291474219036604",
          "Latitude": 56.38046653606192,
          "Longitude": -4.291474219036604
         },
         "LoggedAtUtc": "/Date(1617106920000)/",
         "Message": "We’re sorry for the loss of supply. We currently have a fault affecting the areas listed. Our engineers are on site working hard to get the power back on as quickly as they can. If you need more information, please call us on 105 or send us a message on <a href=\"http://m.me/ssencommunity/\">Facebook</a> or Twitter (<a href=\"https://twitter.com/ssencommunity\">@ssencommunity</a>) and quote reference 'HA9557'",
         "Reference": "HA9557",
         "Title": "FK19 Area"
        },
        {
         "AffectedAreas": [
          "AB53",
          "AB53 4EY",
          "AB53 5EH",
          "AB53 5HY",
          "AB53 5HZ",
          "AB53 5JZ",
          "AB53 5TB",
          "AB53 5TD",
          "AB53 5TE",
          "AB53 5TG",
          "AB53 5TH",
          "AB53 5TL",
          "AB53 5TN",
          "AB53 5TP",
          "AB53 5TQ",
          "AB53 5TR",
          "AB53 5TS",
          "AB53 5TT",
          "AB53 5TU",
          "AB53 5UQ",
          "AB53 5UR",
          "AB53 5US",
          "AB53 5UT",
          "AB53 5UU",
          "AB53 5UW",
          "AB53 5UX",
          "AB53 5UY",
          "AB53 5UZ",
          "AB53 5WD",
          "AB53 5WF",
          "AB53 5WH",
          "AB53 5WJ",
          "AB53 5XA",
          "AB53 5YD",
          "AB53 5YG",
          "AB53 5YH",
          "AB53 5YJ",
          "AB53 5YL",
          "AB53 5YS",
          "AB53 5YW",
          "AB53 5YY",
          "AB53 5YZ",
          "AB53 5ZA",
          "AB53 5ZB",
          "AB53 8DT",
          "AB53 8DU",
          "AB53 8DW",
          "AB53 8DX",
          "AB53 8DY",
          "AB53 8EA",
          "AB53 8EB",
          "AB53 8ED",
          "AB53 8HJ",
          "AB53 8HL",
          "AB53 8HN",
          "AB53 8HP",
          "AB53 8HQ",
          "AB53 8HR",
          "AB53 8HS",
          "AB53 8HT",
          "AB53 8HU",
          "AB53 8HW",
          "AB53 8HX",
          "AB53 8HY",
          "AB53 8JF",
          "AB53 8JJ",
          "AB53 8JL",
          "AB53 8QD"
         ],
         "DepotCode": "24",
         "EstimatedArrivalOnSiteUtc": "/Date(-62135596800000)/",
         "EstimatedFaultUpdateTimeUtc": "/Date(-62135596800000)/",
         "EstimatedRestorationTimeUtc": "/Date(1617130800000)/",
         "FaultType": "HV",
         "IsDepot": false,
         "Location": {
          "DisplayText": "57.540451892846811, -2.3521880441212506",
          "Latitude": 57.54045189284681,
          "Longitude": -2.3521880441212506
         },
         "LoggedAtUtc": "/Date(1617106140000)/",
         "Message": "We’re sorry for the loss of supply. We currently have a fault affecting the areas listed. Our engineers are on site working hard to get the power back on as quickly as they can. If you need more information, please call us on 105 or send us a message on <a href=\"http://m.me/ssencommunity/\">Facebook</a> or Twitter (<a href=\"https://twitter.com/ssencommunity\">@ssencommunity</a>) and quote reference 'HA9545'",
         "Reference": "HA9545",
         "Title": "AB53 Area"
        },
        {
         "AffectedAreas": [
          "PO9 2LF",
          "PO9 2LH",
          "PO9 2LJ"
         ],
         "DepotCode": "33",
         "EstimatedArrivalOnSiteUtc": "/Date(-62135596800000)/",
         "EstimatedFaultUpdateTimeUtc": "/Date(-62135596800000)/",
         "EstimatedRestorationTimeUtc": "/Date(1617143400000)/",
         "FaultType": "LV",
         "IsDepot": false,
         "Location": {
          "DisplayText": "50.863343030333986, -0.971811707917888",
          "Latitude": 50.863343030333986,
          "Longitude": -0.971811707917888
         },
         "LoggedAtUtc": "/Date(1617101400000)/",
         "Message": "We’re sorry for the loss of supply. We currently have a fault affecting the areas listed. Our engineers are on site working hard to get the power back on as quickly as they can. If you need more information, please call us on 105 or send us a message on <a href=\"http://m.me/ssencommunity/\">Facebook</a> or Twitter (<a href=\"https://twitter.com/ssencommunity\">@ssencommunity</a>) and quote reference 'HA9491'",
         "Reference": "HA9491",
         "Title": "PO9 Area"
        }
       ],
       "Message": "17 reported faults",
       "TimestampUtc": "/Date(1617124216000)/",
       "Uri": "http://api.sse.com/powerdistribution/network/v3/api/faults/"
      },
      "text/plain": [
       "<IPython.core.display.JSON object>"
      ]
     },
     "execution_count": 19,
     "metadata": {
      "application/json": {
       "expanded": false,
       "root": "root"
      }
     },
     "output_type": "execute_result"
    }
   ],
   "source": [
    "url = 'https://www.ssen.co.uk/Sse_Components/Views/Controls/FormControls/PowerTrackHandler.ashx'\n",
    "\n",
    "r_json = requests.get(url, verify=False).json()\n",
    "\n",
    "JSON(r_json)"
   ]
  },
  {
   "cell_type": "code",
   "execution_count": null,
   "id": "scheduled-botswana",
   "metadata": {},
   "outputs": [],
   "source": []
  },
  {
   "cell_type": "code",
   "execution_count": 20,
   "id": "lovely-funeral",
   "metadata": {},
   "outputs": [],
   "source": [
    "#exports\n",
    "def clean_ssen_incident_info(incident):\n",
    "    ssen_relevant_dates_name_mapping = { \n",
    "        'LoggedAtUtc': 'received_time',\n",
    "        'EstimatedArrivalOnSiteUtc': 'estimated_arrival_time',\n",
    "        'EstimatedRestorationTimeUtc': 'estimated_restored_time'\n",
    "     }\n",
    "\n",
    "    cleaned_incident_info = dict()\n",
    "\n",
    "    for old_dt_name, new_dt_name in ssen_relevant_dates_name_mapping.items():\n",
    "        dt_str = incident[old_dt_name].split('(')[1].split(')')[0]\n",
    "\n",
    "        if dt_str != '-62135596800000':\n",
    "            dt = pd.to_datetime(int(dt_str)*1e6).strftime('%Y-%m-%d %H:%M:%S')\n",
    "        else:\n",
    "            dt = None\n",
    "\n",
    "        cleaned_incident_info[new_dt_name] = dt\n",
    "\n",
    "    cleaned_incident_info['postcodes_impacted'] = incident['AffectedAreas']\n",
    "    cleaned_incident_info['description'] = incident['Message']\n",
    "    \n",
    "    return cleaned_incident_info"
   ]
  },
  {
   "cell_type": "code",
   "execution_count": 21,
   "id": "protected-wisconsin",
   "metadata": {},
   "outputs": [
    {
     "ename": "ValueError",
     "evalue": "NaTType does not support strftime",
     "output_type": "error",
     "traceback": [
      "\u001b[1;31m---------------------------------------------------------------------------\u001b[0m",
      "\u001b[1;31mValueError\u001b[0m                                Traceback (most recent call last)",
      "\u001b[1;32m<ipython-input-21-439ba4b0a771>\u001b[0m in \u001b[0;36m<module>\u001b[1;34m\u001b[0m\n\u001b[0;32m      1\u001b[0m \u001b[0mincident\u001b[0m \u001b[1;33m=\u001b[0m \u001b[0mr_json\u001b[0m\u001b[1;33m[\u001b[0m\u001b[1;34m'Faults'\u001b[0m\u001b[1;33m]\u001b[0m\u001b[1;33m[\u001b[0m\u001b[1;36m0\u001b[0m\u001b[1;33m]\u001b[0m\u001b[1;33m\u001b[0m\u001b[1;33m\u001b[0m\u001b[0m\n\u001b[0;32m      2\u001b[0m \u001b[1;33m\u001b[0m\u001b[0m\n\u001b[1;32m----> 3\u001b[1;33m \u001b[0mcleaned_incident_info\u001b[0m \u001b[1;33m=\u001b[0m \u001b[0mclean_ssen_incident_info\u001b[0m\u001b[1;33m(\u001b[0m\u001b[0mincident\u001b[0m\u001b[1;33m)\u001b[0m\u001b[1;33m\u001b[0m\u001b[1;33m\u001b[0m\u001b[0m\n\u001b[0m\u001b[0;32m      4\u001b[0m \u001b[1;33m\u001b[0m\u001b[0m\n\u001b[0;32m      5\u001b[0m \u001b[0mJSON\u001b[0m\u001b[1;33m(\u001b[0m\u001b[0mcleaned_incident_info\u001b[0m\u001b[1;33m)\u001b[0m\u001b[1;33m\u001b[0m\u001b[1;33m\u001b[0m\u001b[0m\n",
      "\u001b[1;32m<ipython-input-20-d65b081713c4>\u001b[0m in \u001b[0;36mclean_ssen_incident_info\u001b[1;34m(incident)\u001b[0m\n\u001b[0;32m     13\u001b[0m \u001b[1;33m\u001b[0m\u001b[0m\n\u001b[0;32m     14\u001b[0m         \u001b[1;32mif\u001b[0m \u001b[0mdt_str\u001b[0m \u001b[1;33m!=\u001b[0m \u001b[1;34m'-62135596800000'\u001b[0m\u001b[1;33m:\u001b[0m\u001b[1;33m\u001b[0m\u001b[1;33m\u001b[0m\u001b[0m\n\u001b[1;32m---> 15\u001b[1;33m             \u001b[0mdt\u001b[0m \u001b[1;33m=\u001b[0m \u001b[0mpd\u001b[0m\u001b[1;33m.\u001b[0m\u001b[0mto_datetime\u001b[0m\u001b[1;33m(\u001b[0m\u001b[0mint\u001b[0m\u001b[1;33m(\u001b[0m\u001b[0mdt_str\u001b[0m\u001b[1;33m)\u001b[0m\u001b[1;33m*\u001b[0m\u001b[1;36m1e6\u001b[0m\u001b[1;33m)\u001b[0m\u001b[1;33m.\u001b[0m\u001b[0mstrftime\u001b[0m\u001b[1;33m(\u001b[0m\u001b[1;34m'%Y-%m-%d %H:%M:%S'\u001b[0m\u001b[1;33m)\u001b[0m\u001b[1;33m\u001b[0m\u001b[1;33m\u001b[0m\u001b[0m\n\u001b[0m\u001b[0;32m     16\u001b[0m         \u001b[1;32melse\u001b[0m\u001b[1;33m:\u001b[0m\u001b[1;33m\u001b[0m\u001b[1;33m\u001b[0m\u001b[0m\n\u001b[0;32m     17\u001b[0m             \u001b[0mdt\u001b[0m \u001b[1;33m=\u001b[0m \u001b[1;32mNone\u001b[0m\u001b[1;33m\u001b[0m\u001b[1;33m\u001b[0m\u001b[0m\n",
      "\u001b[1;32mpandas\\_libs\\tslibs\\nattype.pyx\u001b[0m in \u001b[0;36mpandas._libs.tslibs.nattype._make_error_func.f\u001b[1;34m()\u001b[0m\n",
      "\u001b[1;31mValueError\u001b[0m: NaTType does not support strftime"
     ]
    }
   ],
   "source": [
    "incident = r_json['Faults'][0]\n",
    "\n",
    "cleaned_incident_info = clean_ssen_incident_info(incident)\n",
    "    \n",
    "JSON(cleaned_incident_info)"
   ]
  },
  {
   "cell_type": "code",
   "execution_count": null,
   "id": "functional-twins",
   "metadata": {},
   "outputs": [],
   "source": []
  },
  {
   "cell_type": "code",
   "execution_count": null,
   "id": "adolescent-charleston",
   "metadata": {},
   "outputs": [],
   "source": [
    "#exports\n",
    "def get_ssen_incidents_info(incidents_url='https://www.ssen.co.uk/Sse_Components/Views/Controls/FormControls/PowerTrackHandler.ashx'):\n",
    "    raw_incidents_info = requests.get(incidents_url, verify=False).json()\n",
    "    cleaned_incidents_info = dict()\n",
    "\n",
    "    for incident in track(raw_incidents_info['Faults']):\n",
    "        incident_ref = incident['Reference']\n",
    "        cleaned_incidents_info[incident_ref] = clean_ssen_incident_info(incident)\n",
    "        \n",
    "    return raw_incidents_info, cleaned_incidents_info"
   ]
  },
  {
   "cell_type": "code",
   "execution_count": null,
   "id": "surgical-relaxation",
   "metadata": {},
   "outputs": [],
   "source": [
    "raw_incidents_info, cleaned_incidents_info = get_ssen_incidents_info()\n",
    "\n",
    "JSON([cleaned_incidents_info])"
   ]
  },
  {
   "cell_type": "code",
   "execution_count": null,
   "id": "attempted-ultimate",
   "metadata": {},
   "outputs": [],
   "source": []
  },
  {
   "cell_type": "code",
   "execution_count": null,
   "id": "hollywood-priority",
   "metadata": {
    "tags": []
   },
   "outputs": [],
   "source": [
    "save_json_data(raw_incidents_info, 'ssen_incidents_info')"
   ]
  },
  {
   "cell_type": "markdown",
   "id": "continental-literacy",
   "metadata": {},
   "source": [
    "<br>\n",
    "\n",
    "### Western Power Distribution\n",
    "\n",
    "https://powercuts.westernpower.co.uk/"
   ]
  },
  {
   "cell_type": "code",
   "execution_count": null,
   "id": "addressed-american",
   "metadata": {},
   "outputs": [],
   "source": [
    "#exports\n",
    "def get_wpd_incident_feed(url='https://powercuts.westernpower.co.uk'):\n",
    "    r = requests.get(url)\n",
    "\n",
    "    raw_incidents_info = json.loads(html.unescape(r.text.split('data-ng-init=\"init(')[1].split(')\"></div><div id=\"powercuts\"')[0]))\n",
    "    feed = json.loads(raw_incidents_info['feed'])\n",
    "    \n",
    "    return feed"
   ]
  },
  {
   "cell_type": "code",
   "execution_count": null,
   "id": "worth-station",
   "metadata": {},
   "outputs": [],
   "source": [
    "feed = get_wpd_incident_feed()\n",
    "\n",
    "JSON(feed)"
   ]
  },
  {
   "cell_type": "code",
   "execution_count": null,
   "id": "harmful-representative",
   "metadata": {},
   "outputs": [],
   "source": []
  },
  {
   "cell_type": "code",
   "execution_count": null,
   "id": "intermediate-greeting",
   "metadata": {
    "tags": []
   },
   "outputs": [],
   "source": [
    "incident_ids = [incident['id'] for incident in feed['incidents']]\n",
    "\n",
    "incident_ids[:5]"
   ]
  },
  {
   "cell_type": "code",
   "execution_count": null,
   "id": "pending-member",
   "metadata": {},
   "outputs": [],
   "source": []
  },
  {
   "cell_type": "code",
   "execution_count": null,
   "id": "suspended-killer",
   "metadata": {},
   "outputs": [],
   "source": [
    "#exports\n",
    "wpd_incident_id_to_url = lambda incident_id: f'https://powercuts.westernpower.co.uk/__powercuts/getIncidentById?incidentId={incident_id}'"
   ]
  },
  {
   "cell_type": "code",
   "execution_count": null,
   "id": "great-profession",
   "metadata": {},
   "outputs": [],
   "source": [
    "incident_id = incident_ids[0]\n",
    "\n",
    "incident_url = wpd_incident_id_to_url(incident_id)\n",
    "r_json = requests.get(incident_url).json()\n",
    "\n",
    "JSON(r_json)"
   ]
  },
  {
   "cell_type": "code",
   "execution_count": null,
   "id": "noted-programmer",
   "metadata": {},
   "outputs": [],
   "source": []
  },
  {
   "cell_type": "code",
   "execution_count": null,
   "id": "terminal-methodology",
   "metadata": {},
   "outputs": [],
   "source": [
    "#exports\n",
    "def clean_wpd_incident_info(incident):\n",
    "    wpd_relevant_dates_name_mapping = { \n",
    "        'startTime': 'received_time',\n",
    "        'etr': 'estimated_restored_time'\n",
    "     }\n",
    "\n",
    "    cleaned_incident_info = dict()\n",
    "\n",
    "    for old_dt_name, new_dt_name in wpd_relevant_dates_name_mapping.items():\n",
    "        if incident[old_dt_name] is not None:\n",
    "            cleaned_incident_info[new_dt_name] = pd.to_datetime(incident[old_dt_name]*1e6).strftime('%Y-%m-%d %H:%M:%S')\n",
    "        else:\n",
    "            cleaned_incident_info[new_dt_name] = None\n",
    "\n",
    "    cleaned_incident_info['postcodes_impacted'] = incident['postcodes']\n",
    "    cleaned_incident_info['description'] = incident['status']\n",
    "    cleaned_incident_info['incident_active'] = bool(1 - incident['restored'])\n",
    "    \n",
    "    return cleaned_incident_info"
   ]
  },
  {
   "cell_type": "code",
   "execution_count": null,
   "id": "delayed-local",
   "metadata": {},
   "outputs": [],
   "source": [
    "clean_wpd_incident_info(r_json)"
   ]
  },
  {
   "cell_type": "code",
   "execution_count": null,
   "id": "historical-raleigh",
   "metadata": {},
   "outputs": [],
   "source": []
  },
  {
   "cell_type": "code",
   "execution_count": null,
   "id": "hourly-sample",
   "metadata": {},
   "outputs": [],
   "source": [
    "#exports\n",
    "def get_wpd_incidents_info(incidents_url='https://powercuts.westernpower.co.uk'):\n",
    "    cleaned_incidents_info = dict()\n",
    "    \n",
    "    raw_incidents_info = get_wpd_incident_feed(incidents_url)\n",
    "    incident_ids = [incident['id'] for incident in raw_incidents_info['incidents']]\n",
    "\n",
    "    for incident_id in incident_ids:\n",
    "        incident_url = wpd_incident_id_to_url(incident_id)\n",
    "        r_json = requests.get(incident_url).json()\n",
    "        cleaned_incidents_info[incident_id] = clean_wpd_incident_info(r_json)\n",
    "        \n",
    "    return raw_incidents_info, cleaned_incidents_info"
   ]
  },
  {
   "cell_type": "code",
   "execution_count": null,
   "id": "absolute-mainstream",
   "metadata": {},
   "outputs": [],
   "source": [
    "raw_incidents_info, cleaned_incidents_info = get_wpd_incidents_info()\n",
    "\n",
    "JSON(cleaned_incidents_info)"
   ]
  },
  {
   "cell_type": "code",
   "execution_count": null,
   "id": "central-transport",
   "metadata": {},
   "outputs": [],
   "source": []
  },
  {
   "cell_type": "code",
   "execution_count": null,
   "id": "recent-gambling",
   "metadata": {},
   "outputs": [],
   "source": [
    "save_json_data(raw_incidents_info, 'wpd_incidents_info')"
   ]
  },
  {
   "cell_type": "markdown",
   "id": "typical-preview",
   "metadata": {},
   "source": [
    "<br>\n",
    "\n",
    "### Scottish Power Energy Networks\n",
    "\n",
    "https://www.spenergynetworks.co.uk/pages/power_cuts_list.aspx"
   ]
  },
  {
   "cell_type": "code",
   "execution_count": null,
   "id": "enhanced-electricity",
   "metadata": {},
   "outputs": [],
   "source": []
  },
  {
   "cell_type": "code",
   "execution_count": null,
   "id": "historical-official",
   "metadata": {},
   "outputs": [],
   "source": []
  },
  {
   "cell_type": "code",
   "execution_count": null,
   "id": "altered-winning",
   "metadata": {},
   "outputs": [],
   "source": []
  },
  {
   "cell_type": "code",
   "execution_count": null,
   "id": "fitted-edgar",
   "metadata": {},
   "outputs": [],
   "source": []
  },
  {
   "cell_type": "markdown",
   "id": "central-brief",
   "metadata": {},
   "source": [
    "<br>\n",
    "\n",
    "### Northern Power Grid\n",
    "\n",
    "https://www.northernpowergrid.com/power-cuts"
   ]
  },
  {
   "cell_type": "code",
   "execution_count": null,
   "id": "hungarian-endorsement",
   "metadata": {},
   "outputs": [],
   "source": [
    "url = 'https://www.northernpowergrid.com/power-cuts'\n",
    "\n",
    "r = requests.get(url)\n",
    "soup = bs(r.text)\n",
    "\n",
    "soup.find('div', attrs={'role': 'table'})"
   ]
  },
  {
   "cell_type": "code",
   "execution_count": null,
   "id": "worst-sessions",
   "metadata": {},
   "outputs": [],
   "source": []
  },
  {
   "cell_type": "code",
   "execution_count": null,
   "id": "twelve-mason",
   "metadata": {},
   "outputs": [],
   "source": [
    "def _(main_url='https://www.northernpowergrid.com/power-cuts', data_url='https://www.northernpowergrid.com/powercutsgetallbyincno'):\n",
    "    session = requests.Session()\n",
    "\n",
    "    r = session.get(main_url)\n",
    "\n",
    "    data = {\n",
    "        'method': 'incno',\n",
    "        'typeFilters': '',\n",
    "        'timeFilters': '',\n",
    "        'postcodeFilter': '',\n",
    "        'categoryFilters': 'Service Cutout Change,Asset repairs by Troublecall,Metering,Emergency Disconnection,Emergency Disconnection (Charge),Cat A,Cat B,Cat C',\n",
    "        'authenticityToken': session.cookies['PLAY_SESSION'].split('AT=')[-1].replace('\"', '')\n",
    "    }\n",
    "\n",
    "    r = session.post(url, data=data)\n",
    "\n",
    "    data = json.loads(r.json()['data'])\n",
    "    \n",
    "    return data\n",
    "\n",
    "data = _()\n",
    "\n",
    "JSON(data)"
   ]
  },
  {
   "cell_type": "code",
   "execution_count": null,
   "id": "willing-serbia",
   "metadata": {},
   "outputs": [],
   "source": []
  },
  {
   "cell_type": "markdown",
   "id": "emerging-nitrogen",
   "metadata": {},
   "source": [
    "<br>\n",
    "\n",
    "### Electricity North West\n",
    "\n",
    "https://www.enwl.co.uk/power-cuts/"
   ]
  },
  {
   "cell_type": "code",
   "execution_count": null,
   "id": "complete-westminster",
   "metadata": {},
   "outputs": [],
   "source": [
    "# need to handle page size and number\n",
    "'https://www.enwl.co.uk/power-outages/search?pageSize=10&postcodeOrReferenceNumber=&pageNumber=2&includeCurrent=true&includeResolved=true&includeTodaysPlanned=true&includeFuturePlanned=true&includeCancelledPlanned=true'"
   ]
  },
  {
   "cell_type": "code",
   "execution_count": null,
   "id": "presidential-antenna",
   "metadata": {},
   "outputs": [],
   "source": []
  },
  {
   "cell_type": "code",
   "execution_count": null,
   "id": "bearing-smooth",
   "metadata": {},
   "outputs": [],
   "source": []
  },
  {
   "cell_type": "code",
   "execution_count": null,
   "id": "partial-vanilla",
   "metadata": {},
   "outputs": [],
   "source": [
    "# incident_active (if known)\n",
    "# logged/start time\n",
    "# estimated time of fix\n",
    "# postcodes impacted\n",
    "# description"
   ]
  },
  {
   "cell_type": "code",
   "execution_count": null,
   "id": "expanded-password",
   "metadata": {},
   "outputs": [],
   "source": [
    "#hide\n",
    "from nbdev.export import *\n",
    "notebook2script()"
   ]
  }
 ],
 "metadata": {
  "kernelspec": {
   "display_name": "outage",
   "language": "python",
   "name": "outage"
  },
  "language_info": {
   "codemirror_mode": {
    "name": "ipython",
    "version": 3
   },
   "file_extension": ".py",
   "mimetype": "text/x-python",
   "name": "python",
   "nbconvert_exporter": "python",
   "pygments_lexer": "ipython3",
   "version": "3.7.10"
  }
 },
 "nbformat": 4,
 "nbformat_minor": 5
}

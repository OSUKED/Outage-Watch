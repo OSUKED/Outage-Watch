{
 "cells": [
  {
   "cell_type": "code",
   "execution_count": 1,
   "id": "planned-neighborhood",
   "metadata": {},
   "outputs": [],
   "source": [
    "# default_exp retrieval"
   ]
  },
  {
   "cell_type": "markdown",
   "id": "republican-animal",
   "metadata": {},
   "source": [
    "# Outage Data Retrieval\n",
    "\n",
    "<br>\n",
    "\n",
    "### Imports"
   ]
  },
  {
   "cell_type": "code",
   "execution_count": 2,
   "id": "abroad-banking",
   "metadata": {},
   "outputs": [],
   "source": [
    "#exports\n",
    "import json\n",
    "import pandas as pd\n",
    "\n",
    "import html\n",
    "import requests\n",
    "from bs4 import BeautifulSoup as bs\n",
    "from warnings import warn\n",
    "\n",
    "from ipypb import track"
   ]
  },
  {
   "cell_type": "code",
   "execution_count": 3,
   "id": "absent-values",
   "metadata": {},
   "outputs": [],
   "source": [
    "from IPython.display import JSON"
   ]
  },
  {
   "cell_type": "markdown",
   "id": "medieval-worst",
   "metadata": {},
   "source": [
    "<br>\n",
    "\n",
    "### UK Power Networks\n",
    "\n",
    "https://www.ukpowernetworks.co.uk/power-cut/map"
   ]
  },
  {
   "cell_type": "code",
   "execution_count": 4,
   "id": "harmful-turkish",
   "metadata": {},
   "outputs": [
    {
     "data": {
      "application/json": {
       "Incidents": [
        {
         "PanelContentUrl": "/power-cut/map/unplanned?incidentId=INCD-247691-G",
         "PostcodeData": [
          {
           "Center": {
            "lat": 50.8224,
            "lng": -0.14015
           },
           "Postcode": "BN1 1"
          },
          {
           "Center": {
            "lat": 50.83175,
            "lng": -0.13787
           },
           "Postcode": "BN1 4"
          }
         ],
         "PostcodesRemaining": [],
         "PowerCutType": "Unplanned",
         "ServiceDown": false
        },
        {
         "PanelContentUrl": "/power-cut/map/unplanned?incidentId=INCD-259202-J",
         "PostcodeData": [
          {
           "Center": {
            "lat": 51.5216,
            "lng": -0.15373
           },
           "Postcode": "W1U 5"
          },
          {
           "Center": {
            "lat": 51.52055,
            "lng": -0.15765
           },
           "Postcode": "W1U 6"
          },
          {
           "Center": {
            "lat": 51.51863,
            "lng": -0.15499
           },
           "Postcode": "W1U 7"
          }
         ],
         "PostcodesRemaining": [],
         "PowerCutType": "Unplanned",
         "ServiceDown": false
        },
        {
         "PanelContentUrl": "/power-cut/map/unplanned?incidentId=INCD-229094-Z",
         "PostcodeData": [
          {
           "Center": {
            "lat": 52.55998,
            "lng": 1.08754
           },
           "Postcode": "NR18 9"
          },
          {
           "Center": {
            "lat": 52.60328,
            "lng": 1.00625
           },
           "Postcode": "NR9 4"
          },
          {
           "Center": {
            "lat": 52.61049,
            "lng": 1.17618
           },
           "Postcode": "NR9 3"
          }
         ],
         "PostcodesRemaining": [],
         "PowerCutType": "Unplanned",
         "ServiceDown": false
        },
        {
         "PanelContentUrl": "/power-cut/map/unplanned?incidentId=INCD-259364-J",
         "PostcodeData": [
          {
           "Center": {
            "lat": 51.55371,
            "lng": -0.10304
           },
           "Postcode": "N5 1"
          }
         ],
         "PostcodesRemaining": [],
         "PowerCutType": "Unplanned",
         "ServiceDown": false
        },
        {
         "PanelContentUrl": "/power-cut/map/unplanned?incidentId=INCD-43890-C",
         "PostcodeData": [],
         "PostcodesRemaining": [],
         "PowerCutType": "Unplanned",
         "ServiceDown": false
        },
        {
         "PanelContentUrl": "/power-cut/map/unplanned?incidentId=INCD-53851-V",
         "PostcodeData": [
          {
           "Center": {
            "lat": 51.12552,
            "lng": -0.1984
           },
           "Postcode": "RH11 7"
          }
         ],
         "PostcodesRemaining": [],
         "PowerCutType": "Unplanned",
         "ServiceDown": false
        },
        {
         "PanelContentUrl": "/power-cut/map/unplanned?incidentId=INCD-247718-G",
         "PostcodeData": [
          {
           "Center": {
            "lat": 51.39236,
            "lng": 0.533
           },
           "Postcode": "ME4 4"
          }
         ],
         "PostcodesRemaining": [],
         "PowerCutType": "Unplanned",
         "ServiceDown": false
        },
        {
         "PanelContentUrl": "/power-cut/map/unplanned?incidentId=INCD-259361-J",
         "PostcodeData": [
          {
           "Center": {
            "lat": 51.53846,
            "lng": -0.13585
           },
           "Postcode": "NW1 0"
          },
          {
           "Center": {
            "lat": 51.54397,
            "lng": -0.13366
           },
           "Postcode": "NW1 9"
          }
         ],
         "PostcodesRemaining": [],
         "PowerCutType": "Unplanned",
         "ServiceDown": false
        },
        {
         "PanelContentUrl": "/power-cut/map/unplanned?incidentId=INCD-43889-C",
         "PostcodeData": [
          {
           "Center": {
            "lat": 51.94285,
            "lng": 0.91642
           },
           "Postcode": "CO4 5"
          }
         ],
         "PostcodesRemaining": [],
         "PowerCutType": "Unplanned",
         "ServiceDown": false
        },
        {
         "PanelContentUrl": "/power-cut/map/power-back-on?incidentId=INCD-247687-G",
         "PostcodeData": [],
         "PostcodesRemaining": [],
         "PowerCutType": "Restored",
         "ServiceDown": false
        },
        {
         "PanelContentUrl": "/power-cut/map/power-back-on?incidentId=INCD-229043-Z",
         "PostcodeData": [
          {
           "Center": {
            "lat": 52.88915,
            "lng": 1.31107
           },
           "Postcode": "NR11 8"
          }
         ],
         "PostcodesRemaining": [],
         "PowerCutType": "Restored",
         "ServiceDown": false
        },
        {
         "PanelContentUrl": "/power-cut/map/power-back-on?incidentId=INCD-229044-Z",
         "PostcodeData": [
          {
           "Center": {
            "lat": 52.19107,
            "lng": 1.5014
           },
           "Postcode": "IP17 1"
          }
         ],
         "PostcodesRemaining": [],
         "PowerCutType": "Restored",
         "ServiceDown": false
        },
        {
         "PanelContentUrl": "/power-cut/map/power-back-on?incidentId=INCD-229042-Z",
         "PostcodeData": [
          {
           "Center": {
            "lat": 51.55818,
            "lng": -0.41262
           },
           "Postcode": "HA4 6"
          }
         ],
         "PostcodesRemaining": [],
         "PowerCutType": "Restored",
         "ServiceDown": false
        },
        {
         "PanelContentUrl": "/power-cut/map/power-back-on?incidentId=INCD-8407-L",
         "PostcodeData": [
          {
           "Center": {
            "lat": 51.52496,
            "lng": 0.11036
           },
           "Postcode": "IG11 0"
          }
         ],
         "PostcodesRemaining": [],
         "PowerCutType": "Restored",
         "ServiceDown": false
        },
        {
         "PanelContentUrl": "/power-cut/map/power-back-on?incidentId=INCD-53827-V",
         "PostcodeData": [
          {
           "Center": {
            "lat": 51.1132,
            "lng": 0.52291
           },
           "Postcode": "TN17 2"
          }
         ],
         "PostcodesRemaining": [],
         "PowerCutType": "Restored",
         "ServiceDown": false
        },
        {
         "PanelContentUrl": "/power-cut/map/power-back-on?incidentId=INCD-229052-Z",
         "PostcodeData": [
          {
           "Center": {
            "lat": 52.41102,
            "lng": 1.64543
           },
           "Postcode": "NR34 7"
          }
         ],
         "PostcodesRemaining": [],
         "PowerCutType": "Restored",
         "ServiceDown": false
        },
        {
         "PanelContentUrl": "/power-cut/map/power-back-on?incidentId=INCD-229057-Z",
         "PostcodeData": [
          {
           "Center": {
            "lat": 52.54034,
            "lng": 0.08893
           },
           "Postcode": "PE15 9"
          }
         ],
         "PostcodesRemaining": [],
         "PowerCutType": "Restored",
         "ServiceDown": false
        },
        {
         "PanelContentUrl": "/power-cut/map/power-back-on?incidentId=INCD-247710-G",
         "PostcodeData": [
          {
           "Center": {
            "lat": 51.29953,
            "lng": 0.94582
           },
           "Postcode": "ME13 9"
          }
         ],
         "PostcodesRemaining": [],
         "PowerCutType": "Restored",
         "ServiceDown": false
        },
        {
         "PanelContentUrl": "/power-cut/map/power-back-on?incidentId=INCD-247713-G",
         "PostcodeData": [
          {
           "Center": {
            "lat": 51.35535,
            "lng": 0.61686
           },
           "Postcode": "ME8 8"
          }
         ],
         "PostcodesRemaining": [],
         "PowerCutType": "Restored",
         "ServiceDown": false
        },
        {
         "PanelContentUrl": "/power-cut/map/power-back-on?incidentId=INCD-229104-Z",
         "PostcodeData": [
          {
           "Center": {
            "lat": 51.80644,
            "lng": -0.56441
           },
           "Postcode": "HP4 1"
          },
          {
           "Center": {
            "lat": 51.76189,
            "lng": -0.59964
           },
           "Postcode": "HP4 3"
          }
         ],
         "PostcodesRemaining": [],
         "PowerCutType": "Restored",
         "ServiceDown": false
        },
        {
         "PanelContentUrl": "/power-cut/map/power-back-on?incidentId=INCD-43892-C",
         "PostcodeData": [
          {
           "Center": {
            "lat": 51.73577,
            "lng": 0.50436
           },
           "Postcode": "CM2 6"
          }
         ],
         "PostcodesRemaining": [],
         "PowerCutType": "Restored",
         "ServiceDown": false
        },
        {
         "PanelContentUrl": "/power-cut/map/power-back-on?incidentId=INCD-229056-Z",
         "PostcodeData": [],
         "PostcodesRemaining": [],
         "PowerCutType": "Restored",
         "ServiceDown": false
        },
        {
         "PanelContentUrl": "/power-cut/map/power-back-on?incidentId=INCD-53830-V",
         "PostcodeData": [
          {
           "Center": {
            "lat": 51.00453,
            "lng": 0.40763
           },
           "Postcode": "TN19 7"
          }
         ],
         "PostcodesRemaining": [],
         "PowerCutType": "Restored",
         "ServiceDown": false
        },
        {
         "PanelContentUrl": "/power-cut/map/power-back-on?incidentId=INCD-229089-Z",
         "PostcodeData": [],
         "PostcodesRemaining": [],
         "PowerCutType": "Restored",
         "ServiceDown": false
        },
        {
         "PanelContentUrl": "/power-cut/map/power-back-on?incidentId=INCD-229103-Z",
         "PostcodeData": [
          {
           "Center": {
            "lat": 52.03705,
            "lng": -0.34724
           },
           "Postcode": "SG17 5"
          }
         ],
         "PostcodesRemaining": [],
         "PowerCutType": "Restored",
         "ServiceDown": false
        },
        {
         "PanelContentUrl": "/power-cut/map/power-back-on?incidentId=INCD-53654-V",
         "PostcodeData": [],
         "PostcodesRemaining": [],
         "PowerCutType": "Restored",
         "ServiceDown": false
        },
        {
         "PanelContentUrl": "/power-cut/map/power-back-on?incidentId=INCD-53828-V",
         "PostcodeData": [
          {
           "Center": {
            "lat": 51.31569,
            "lng": 0.03324
           },
           "Postcode": "TN16 3"
          }
         ],
         "PostcodesRemaining": [],
         "PowerCutType": "Restored",
         "ServiceDown": false
        },
        {
         "PanelContentUrl": "/power-cut/map/power-back-on?incidentId=INCD-229059-Z",
         "PostcodeData": [
          {
           "Center": {
            "lat": 51.64484,
            "lng": 0.17247
           },
           "Postcode": "RM4 1"
          }
         ],
         "PostcodesRemaining": [],
         "PowerCutType": "Restored",
         "ServiceDown": false
        },
        {
         "PanelContentUrl": "/power-cut/map/power-back-on?incidentId=INCD-228174-Z",
         "PostcodeData": [
          {
           "Center": {
            "lat": 51.62537,
            "lng": -0.16537
           },
           "Postcode": "N20 0"
          }
         ],
         "PostcodesRemaining": [],
         "PowerCutType": "Restored",
         "ServiceDown": false
        },
        {
         "PanelContentUrl": "/power-cut/map/power-back-on?incidentId=INCD-259369-J",
         "PostcodeData": [
          {
           "Center": {
            "lat": 51.5192,
            "lng": -0.2205
           },
           "Postcode": "W10 6"
          },
          {
           "Center": {
            "lat": 51.52094,
            "lng": -0.13722
           },
           "Postcode": "W1T 4"
          }
         ],
         "PostcodesRemaining": [],
         "PowerCutType": "Restored",
         "ServiceDown": false
        },
        {
         "PanelContentUrl": "/power-cut/map/power-back-on?incidentId=INCD-53835-V",
         "PostcodeData": [
          {
           "Center": {
            "lat": 50.81842,
            "lng": -0.12461
           },
           "Postcode": "BN2 1"
          }
         ],
         "PostcodesRemaining": [],
         "PowerCutType": "Restored",
         "ServiceDown": false
        },
        {
         "PanelContentUrl": "/power-cut/map/power-back-on?incidentId=INCD-259247-J",
         "PostcodeData": [
          {
           "Center": {
            "lat": 51.54621,
            "lng": 0.05435
           },
           "Postcode": "E12 6"
          }
         ],
         "PostcodesRemaining": [],
         "PowerCutType": "Restored",
         "ServiceDown": false
        },
        {
         "PanelContentUrl": "/power-cut/map/power-back-on?incidentId=INCD-229048-Z",
         "PostcodeData": [
          {
           "Center": {
            "lat": 51.55057,
            "lng": -0.27789
           },
           "Postcode": "HA9 6"
          },
          {
           "Center": {
            "lat": 52.34615,
            "lng": 1.01022
           },
           "Postcode": "IP22 1"
          },
          {
           "Center": {
            "lat": 52.38249,
            "lng": 1.10858
           },
           "Postcode": "IP22 4"
          },
          {
           "Center": {
            "lat": 52.56258,
            "lng": 0.80766
           },
           "Postcode": "IP25 6"
          },
          {
           "Center": {
            "lat": 52.61959,
            "lng": 0.85165
           },
           "Postcode": "IP25 7"
          },
          {
           "Center": {
            "lat": 52.60042,
            "lng": 0.50988
           },
           "Postcode": "PE33 9"
          }
         ],
         "PostcodesRemaining": [],
         "PowerCutType": "Restored",
         "ServiceDown": false
        },
        {
         "PanelContentUrl": "/power-cut/map/power-back-on?incidentId=INCD-229049-Z",
         "PostcodeData": [
          {
           "Center": {
            "lat": 52.61132,
            "lng": 1.29937
           },
           "Postcode": "NR1 2"
          },
          {
           "Center": {
            "lat": 52.59832,
            "lng": 1.25652
           },
           "Postcode": "NR4 6"
          }
         ],
         "PostcodesRemaining": [],
         "PowerCutType": "Restored",
         "ServiceDown": false
        },
        {
         "PanelContentUrl": "/power-cut/map/power-back-on?incidentId=INCD-229051-Z",
         "PostcodeData": [
          {
           "Center": {
            "lat": 52.71825,
            "lng": 1.65309
           },
           "Postcode": "NR29 4"
          },
          {
           "Center": {
            "lat": 52.71865,
            "lng": 1.54664
           },
           "Postcode": "NR29 5"
          },
          {
           "Center": {
            "lat": 52.55136,
            "lng": 1.59903
           },
           "Postcode": "NR31 9"
          }
         ],
         "PostcodesRemaining": [],
         "PowerCutType": "Restored",
         "ServiceDown": false
        },
        {
         "PanelContentUrl": "/power-cut/map/power-back-on?incidentId=INCD-316946-U",
         "PostcodeData": [
          {
           "Center": {
            "lat": 51.27185,
            "lng": 0.58115
           },
           "Postcode": "ME14 4"
          },
          {
           "Center": {
            "lat": 51.11012,
            "lng": -0.09572
           },
           "Postcode": "RH10 4"
          },
          {
           "Center": {
            "lat": 51.19036,
            "lng": 0.19494
           },
           "Postcode": "TN11 8"
          },
          {
           "Center": {
            "lat": 51.13515,
            "lng": 0.84483
           },
           "Postcode": "TN23 5"
          },
          {
           "Center": {
            "lat": 51.14882,
            "lng": 0.21092
           },
           "Postcode": "TN3 0"
          },
          {
           "Center": {
            "lat": 51.10425,
            "lng": 0.23266
           },
           "Postcode": "TN3 9"
          }
         ],
         "PostcodesRemaining": [],
         "PowerCutType": "Restored",
         "ServiceDown": false
        },
        {
         "PanelContentUrl": "/power-cut/map/power-back-on?incidentId=INCD-247722-G",
         "PostcodeData": [
          {
           "Center": {
            "lat": 50.81083,
            "lng": -0.41971
           },
           "Postcode": "BN12 4"
          }
         ],
         "PostcodesRemaining": [],
         "PowerCutType": "Restored",
         "ServiceDown": false
        },
        {
         "PanelContentUrl": "/power-cut/map/power-back-on?incidentId=INCD-53771-V",
         "PostcodeData": [
          {
           "Center": {
            "lat": 51.37722,
            "lng": 1.37544
           },
           "Postcode": "CT9 3"
          }
         ],
         "PostcodesRemaining": [],
         "PowerCutType": "Restored",
         "ServiceDown": false
        },
        {
         "PanelContentUrl": "/power-cut/map/power-back-on?incidentId=INCD-317009-U",
         "PostcodeData": [
          {
           "Center": {
            "lat": 51.13507,
            "lng": 0.9004
           },
           "Postcode": "TN24 0"
          }
         ],
         "PostcodesRemaining": [],
         "PowerCutType": "Restored",
         "ServiceDown": false
        },
        {
         "PanelContentUrl": "/power-cut/map/power-back-on?incidentId=INCD-53443-V",
         "PostcodeData": [
          {
           "Center": {
            "lat": 51.39248,
            "lng": 0.55157
           },
           "Postcode": "ME7 1"
          },
          {
           "Center": {
            "lat": 51.38504,
            "lng": 0.5392
           },
           "Postcode": "ME7 5"
          }
         ],
         "PostcodesRemaining": [],
         "PowerCutType": "Restored",
         "ServiceDown": false
        },
        {
         "PanelContentUrl": "/power-cut/map/power-back-on?incidentId=INCD-247525-G",
         "PostcodeData": [
          {
           "Center": {
            "lat": 51.36967,
            "lng": 1.17831
           },
           "Postcode": "CT6 6"
          },
          {
           "Center": {
            "lat": 51.41099,
            "lng": -0.31555
           },
           "Postcode": "KT1 4"
          },
          {
           "Center": {
            "lat": 51.42352,
            "lng": -0.29933
           },
           "Postcode": "KT2 5"
          },
          {
           "Center": {
            "lat": 50.99915,
            "lng": -0.09162
           },
           "Postcode": "RH16 3"
          },
          {
           "Center": {
            "lat": 51.43936,
            "lng": -0.31086
           },
           "Postcode": "TW10 7"
          },
          {
           "Center": {
            "lat": 51.4407,
            "lng": -0.33509
           },
           "Postcode": "TW1 4"
          },
          {
           "Center": {
            "lat": 51.43934,
            "lng": -0.3532
           },
           "Postcode": "TW2 5"
          },
          {
           "Center": {
            "lat": 51.47271,
            "lng": -0.28122
           },
           "Postcode": "TW9 4"
          }
         ],
         "PostcodesRemaining": [],
         "PowerCutType": "Restored",
         "ServiceDown": false
        },
        {
         "PanelContentUrl": "/power-cut/map/power-back-on?incidentId=INCD-229047-Z",
         "PostcodeData": [
          {
           "Center": {
            "lat": 51.55698,
            "lng": 0.19892
           },
           "Postcode": "RM12 4"
          }
         ],
         "PostcodesRemaining": [],
         "PowerCutType": "Restored",
         "ServiceDown": false
        },
        {
         "PanelContentUrl": "/power-cut/map/power-back-on?incidentId=INCD-247620-G",
         "PostcodeData": [
          {
           "Center": {
            "lat": 51.39697,
            "lng": -0.49975
           },
           "Postcode": "KT16 8"
          },
          {
           "Center": {
            "lat": 51.34425,
            "lng": -0.25331
           },
           "Postcode": "KT17 1"
          },
          {
           "Center": {
            "lat": 51.32352,
            "lng": -0.27879
           },
           "Postcode": "KT18 7"
          },
          {
           "Center": {
            "lat": 51.34088,
            "lng": -0.28666
           },
           "Postcode": "KT19 8"
          },
          {
           "Center": {
            "lat": 51.35668,
            "lng": -0.27117
           },
           "Postcode": "KT19 9"
          }
         ],
         "PostcodesRemaining": [],
         "PowerCutType": "Restored",
         "ServiceDown": false
        },
        {
         "PanelContentUrl": "/power-cut/map/power-back-on?incidentId=INCD-247709-G",
         "PostcodeData": [
          {
           "Center": {
            "lat": 51.32415,
            "lng": 0.24708
           },
           "Postcode": "TN15 6"
          }
         ],
         "PostcodesRemaining": [],
         "PowerCutType": "Restored",
         "ServiceDown": false
        },
        {
         "PanelContentUrl": "/power-cut/map/power-back-on?incidentId=INCD-43891-C",
         "PostcodeData": [],
         "PostcodesRemaining": [],
         "PowerCutType": "Restored",
         "ServiceDown": false
        },
        {
         "PanelContentUrl": "/power-cut/map/power-back-on?incidentId=INCD-229071-Z",
         "PostcodeData": [
          {
           "Center": {
            "lat": 52.22291,
            "lng": 0.63538
           },
           "Postcode": "IP29 5"
          },
          {
           "Center": {
            "lat": 52.23306,
            "lng": 0.71261
           },
           "Postcode": "IP33 2"
          }
         ],
         "PostcodesRemaining": [],
         "PowerCutType": "Restored",
         "ServiceDown": false
        },
        {
         "PanelContentUrl": "/power-cut/map/power-back-on?incidentId=INCD-43643-C",
         "PostcodeData": [
          {
           "Center": {
            "lat": 51.65836,
            "lng": -0.37482
           },
           "Postcode": "WD23 2"
          }
         ],
         "PostcodesRemaining": [],
         "PowerCutType": "Restored",
         "ServiceDown": false
        },
        {
         "IncidentsCount": 2,
         "PanelContentUrl": "/power-cut/map/multiple?postcodeSector=EN1 3",
         "PostcodeData": [
          {
           "Center": {
            "lat": 51.65744,
            "lng": -0.06813
           },
           "Postcode": "EN1 3"
          }
         ],
         "PostcodesRemaining": [],
         "PowerCutType": "Multiple",
         "ServiceDown": false
        },
        {
         "IncidentsCount": 2,
         "PanelContentUrl": "/power-cut/map/multiple?postcodeSector=EN2 6",
         "PostcodeData": [
          {
           "Center": {
            "lat": 51.65137,
            "lng": -0.08576
           },
           "Postcode": "EN2 6"
          }
         ],
         "PostcodesRemaining": [],
         "PowerCutType": "Multiple",
         "ServiceDown": false
        },
        {
         "IncidentsCount": 2,
         "PanelContentUrl": "/power-cut/map/multiple?postcodeSector=CT17 0",
         "PostcodeData": [
          {
           "Center": {
            "lat": 51.13606,
            "lng": 1.28365
           },
           "Postcode": "CT17 0"
          }
         ],
         "PostcodesRemaining": [],
         "PowerCutType": "Multiple",
         "ServiceDown": false
        },
        {
         "IncidentsCount": 2,
         "PanelContentUrl": "/power-cut/map/multiple?postcodeSector=IP17 3",
         "PostcodeData": [
          {
           "Center": {
            "lat": 52.27336,
            "lng": 1.56534
           },
           "Postcode": "IP17 3"
          }
         ],
         "PostcodesRemaining": [],
         "PowerCutType": "Multiple",
         "ServiceDown": false
        }
       ],
       "IsCached": false,
       "PollingInterval": 5000,
       "ServiceDown": false,
       "TwitterFeeds": []
      },
      "text/plain": [
       "<IPython.core.display.JSON object>"
      ]
     },
     "execution_count": 4,
     "metadata": {
      "application/json": {
       "expanded": false,
       "root": "root"
      }
     },
     "output_type": "execute_result"
    }
   ],
   "source": [
    "incidents_url = 'https://www.ukpowernetworks.co.uk/Incidents/GetIncidents'\n",
    "\n",
    "r_json = requests.get(incidents_url).json()\n",
    "\n",
    "JSON(r_json)"
   ]
  },
  {
   "cell_type": "markdown",
   "id": "civilian-hundred",
   "metadata": {},
   "source": [
    "<br>\n",
    "\n",
    "We'll now extract the incident ids as we can use them to generate the url for the JSON endpoint with the incident data. Items where the `PowerCutType` is set to `Multiple` have been purposefully removed, this is because they don't include an incident id (but we'll handle them next)."
   ]
  },
  {
   "cell_type": "code",
   "execution_count": 5,
   "id": "color-tattoo",
   "metadata": {},
   "outputs": [],
   "source": [
    "#exports\n",
    "extract_single_incident_ids = lambda r_json: [\n",
    "    incident['PanelContentUrl'].split('incidentId=')[1] \n",
    "    for incident \n",
    "    in r_json['Incidents'] \n",
    "    if incident['PowerCutType'] != 'Multiple'\n",
    "]"
   ]
  },
  {
   "cell_type": "code",
   "execution_count": 6,
   "id": "confidential-foster",
   "metadata": {},
   "outputs": [
    {
     "data": {
      "application/json": [
       [
        "INCD-247691-G",
        "INCD-259202-J",
        "INCD-229094-Z",
        "INCD-259364-J",
        "INCD-43890-C",
        "INCD-53851-V",
        "INCD-247718-G",
        "INCD-259361-J",
        "INCD-43889-C",
        "INCD-247687-G",
        "INCD-229043-Z",
        "INCD-229044-Z",
        "INCD-229042-Z",
        "INCD-8407-L",
        "INCD-53827-V",
        "INCD-229052-Z",
        "INCD-229057-Z",
        "INCD-247710-G",
        "INCD-247713-G",
        "INCD-229104-Z",
        "INCD-43892-C",
        "INCD-229056-Z",
        "INCD-53830-V",
        "INCD-229089-Z",
        "INCD-229103-Z",
        "INCD-53654-V",
        "INCD-53828-V",
        "INCD-229059-Z",
        "INCD-228174-Z",
        "INCD-259369-J",
        "INCD-53835-V",
        "INCD-259247-J",
        "INCD-229048-Z",
        "INCD-229049-Z",
        "INCD-229051-Z",
        "INCD-316946-U",
        "INCD-247722-G",
        "INCD-53771-V",
        "INCD-317009-U",
        "INCD-53443-V",
        "INCD-247525-G",
        "INCD-229047-Z",
        "INCD-247620-G",
        "INCD-247709-G",
        "INCD-43891-C",
        "INCD-229071-Z",
        "INCD-43643-C"
       ]
      ],
      "text/plain": [
       "<IPython.core.display.JSON object>"
      ]
     },
     "execution_count": 6,
     "metadata": {
      "application/json": {
       "expanded": false,
       "root": "root"
      }
     },
     "output_type": "execute_result"
    }
   ],
   "source": [
    "single_incident_ids = extract_single_incident_ids(r_json)\n",
    "\n",
    "JSON([single_incident_ids])"
   ]
  },
  {
   "cell_type": "markdown",
   "id": "flexible-resource",
   "metadata": {},
   "source": [
    "<br>\n",
    "\n",
    "For the `Multiple` items we'll extract the url for the incidents metadata, which includes the ids within them."
   ]
  },
  {
   "cell_type": "code",
   "execution_count": 7,
   "id": "other-worth",
   "metadata": {},
   "outputs": [],
   "source": [
    "#exports\n",
    "extract_multiple_incident_urls = lambda r_json: [\n",
    "    f\"https://www.ukpowernetworks.co.uk{incident['PanelContentUrl']}\"\n",
    "    for incident \n",
    "    in r_json['Incidents'] \n",
    "    if incident['PowerCutType'] == 'Multiple'\n",
    "]"
   ]
  },
  {
   "cell_type": "code",
   "execution_count": 8,
   "id": "raising-anderson",
   "metadata": {},
   "outputs": [
    {
     "data": {
      "application/json": [
       [
        "https://www.ukpowernetworks.co.uk/power-cut/map/multiple?postcodeSector=EN1 3",
        "https://www.ukpowernetworks.co.uk/power-cut/map/multiple?postcodeSector=EN2 6",
        "https://www.ukpowernetworks.co.uk/power-cut/map/multiple?postcodeSector=CT17 0",
        "https://www.ukpowernetworks.co.uk/power-cut/map/multiple?postcodeSector=IP17 3"
       ]
      ],
      "text/plain": [
       "<IPython.core.display.JSON object>"
      ]
     },
     "execution_count": 8,
     "metadata": {
      "application/json": {
       "expanded": false,
       "root": "root"
      }
     },
     "output_type": "execute_result"
    }
   ],
   "source": [
    "multiple_incident_urls = extract_multiple_incident_urls(r_json)\n",
    "\n",
    "JSON([multiple_incident_urls])"
   ]
  },
  {
   "cell_type": "code",
   "execution_count": null,
   "id": "assigned-nutrition",
   "metadata": {},
   "outputs": [],
   "source": []
  },
  {
   "cell_type": "code",
   "execution_count": 9,
   "id": "direct-buddy",
   "metadata": {},
   "outputs": [],
   "source": [
    "#exports\n",
    "def extract_multiple_incident_ids(multiple_incident_urls):\n",
    "    incident_ids = []\n",
    "\n",
    "    for multiple_incident_url in track(multiple_incident_urls, label='Multiple Ids'):\n",
    "        r = requests.get(multiple_incident_url)\n",
    "        soup = bs(r.text, features='lxml')\n",
    "\n",
    "        incident_ids += [\n",
    "            link['data-url'].split('incidentId=')[1] \n",
    "            for link \n",
    "            in soup.find('div', {'class': 'multiple-incidents--wrapper mb-4'}).findAll('a')\n",
    "        ]\n",
    "        \n",
    "    return incident_ids"
   ]
  },
  {
   "cell_type": "code",
   "execution_count": 10,
   "id": "foreign-geneva",
   "metadata": {},
   "outputs": [
    {
     "data": {
      "text/html": [
       "<div><span class=\"Text-label\" style=\"display:inline-block; overflow:hidden; white-space:nowrap; text-overflow:ellipsis; min-width:15ex; max-width:15ex; vertical-align:middle; text-align:right\">Multiple Ids</span>\n",
       "<progress style=\"width:45ex\" max=\"4\" value=\"4\" class=\"Progress-main\"/></progress>\n",
       "<span class=\"Progress-label\"><strong>100%</strong></span>\n",
       "<span class=\"Iteration-label\">4/4</span>\n",
       "<span class=\"Time-label\">[00:01<00:00, 0.27s/it]</span></div>"
      ],
      "text/plain": [
       "\u001b[A\u001b[2K\r",
       "   Multiple Ids [█████████████████████████████████████████████] 4/4 [00:01<00:00, 0.27s/it]"
      ]
     },
     "metadata": {},
     "output_type": "display_data"
    },
    {
     "data": {
      "text/plain": [
       "['INCD-43890-C',\n",
       " 'INCD-229089-Z',\n",
       " 'INCD-43890-C',\n",
       " 'INCD-229089-Z',\n",
       " 'INCD-247687-G']"
      ]
     },
     "execution_count": 10,
     "metadata": {},
     "output_type": "execute_result"
    }
   ],
   "source": [
    "multiple_incident_ids = extract_multiple_incident_ids(multiple_incident_urls)\n",
    "\n",
    "multiple_incident_ids[:5]"
   ]
  },
  {
   "cell_type": "code",
   "execution_count": null,
   "id": "statistical-husband",
   "metadata": {},
   "outputs": [],
   "source": []
  },
  {
   "cell_type": "code",
   "execution_count": 11,
   "id": "effective-offset",
   "metadata": {},
   "outputs": [],
   "source": [
    "#exports\n",
    "get_incident_detail_url = lambda incident_id: f'https://www.ukpowernetworks.co.uk/Incidents/getincidentdetails?incidentid={incident_id}'"
   ]
  },
  {
   "cell_type": "code",
   "execution_count": 12,
   "id": "chicken-right",
   "metadata": {},
   "outputs": [
    {
     "data": {
      "application/json": {
       "FullPostcodeData": [
        "EN13ED",
        "EN13EF",
        "EN13EG",
        "EN26BN",
        "EN26LE"
       ],
       "IncidentCategoryCustomerFriendlyDescription": "A fault occurred on a piece of our electrical equipment which controls the power to your home.",
       "IncidentReference": "INCD-229089-Z",
       "IncidentTypeTBCEstimatedFriendlyDescription": "14:00 - 15:00",
       "PanelContentUrl": "/power-cut/map/power-back-on?incidentId=INCD-229089-Z",
       "PinLatitude": null,
       "PinLongitude": null,
       "PostcodeData": [
        {
         "Center": {
          "lat": 51.65744,
          "lng": -0.06813
         },
         "Coordinates": [
          {
           "lat": 51.65392,
           "lng": -0.05229
          },
          {
           "lat": 51.6544,
           "lng": -0.05673
          },
          {
           "lat": 51.65442,
           "lng": -0.05678
          },
          {
           "lat": 51.65435,
           "lng": -0.05721
          },
          {
           "lat": 51.65109,
           "lng": -0.05783
          },
          {
           "lat": 51.65054,
           "lng": -0.05711
          },
          {
           "lat": 51.64909,
           "lng": -0.05926
          },
          {
           "lat": 51.65013,
           "lng": -0.06034
          },
          {
           "lat": 51.65083,
           "lng": -0.05973
          },
          {
           "lat": 51.65184,
           "lng": -0.0609
          },
          {
           "lat": 51.65448,
           "lng": -0.05938
          },
          {
           "lat": 51.65483,
           "lng": -0.06057
          },
          {
           "lat": 51.65213,
           "lng": -0.06299
          },
          {
           "lat": 51.65196,
           "lng": -0.06298
          },
          {
           "lat": 51.65147,
           "lng": -0.06231
          },
          {
           "lat": 51.65143,
           "lng": -0.06234
          },
          {
           "lat": 51.65081,
           "lng": -0.06351
          },
          {
           "lat": 51.65084,
           "lng": -0.06409
          },
          {
           "lat": 51.65081,
           "lng": -0.06421
          },
          {
           "lat": 51.65091,
           "lng": -0.06498
          },
          {
           "lat": 51.65125,
           "lng": -0.06542
          },
          {
           "lat": 51.65127,
           "lng": -0.06585
          },
          {
           "lat": 51.65101,
           "lng": -0.06644
          },
          {
           "lat": 51.65109,
           "lng": -0.06705
          },
          {
           "lat": 51.65155,
           "lng": -0.0672
          },
          {
           "lat": 51.65167,
           "lng": -0.06785
          },
          {
           "lat": 51.65145,
           "lng": -0.06839
          },
          {
           "lat": 51.65154,
           "lng": -0.06885
          },
          {
           "lat": 51.65195,
           "lng": -0.06916
          },
          {
           "lat": 51.652,
           "lng": -0.06939
          },
          {
           "lat": 51.65177,
           "lng": -0.07006
          },
          {
           "lat": 51.65209,
           "lng": -0.07046
          },
          {
           "lat": 51.652,
           "lng": -0.07148
          },
          {
           "lat": 51.65205,
           "lng": -0.07152
          },
          {
           "lat": 51.6524,
           "lng": -0.07158
          },
          {
           "lat": 51.65262,
           "lng": -0.07199
          },
          {
           "lat": 51.65229,
           "lng": -0.07294
          },
          {
           "lat": 51.65232,
           "lng": -0.07324
          },
          {
           "lat": 51.65287,
           "lng": -0.07354
          },
          {
           "lat": 51.65246,
           "lng": -0.07486
          },
          {
           "lat": 51.65245,
           "lng": -0.07506
          },
          {
           "lat": 51.65247,
           "lng": -0.0752
          },
          {
           "lat": 51.65253,
           "lng": -0.07526
          },
          {
           "lat": 51.6526,
           "lng": -0.07664
          },
          {
           "lat": 51.65245,
           "lng": -0.0769
          },
          {
           "lat": 51.65245,
           "lng": -0.0769
          },
          {
           "lat": 51.65257,
           "lng": -0.07745
          },
          {
           "lat": 51.65252,
           "lng": -0.07823
          },
          {
           "lat": 51.65253,
           "lng": -0.07826
          },
          {
           "lat": 51.65236,
           "lng": -0.07884
          },
          {
           "lat": 51.65256,
           "lng": -0.07938
          },
          {
           "lat": 51.65275,
           "lng": -0.07952
          },
          {
           "lat": 51.65283,
           "lng": -0.07987
          },
          {
           "lat": 51.65271,
           "lng": -0.08046
          },
          {
           "lat": 51.65238,
           "lng": -0.0805
          },
          {
           "lat": 51.65223,
           "lng": -0.08091
          },
          {
           "lat": 51.65269,
           "lng": -0.08131
          },
          {
           "lat": 51.65265,
           "lng": -0.08159
          },
          {
           "lat": 51.6528,
           "lng": -0.08227
          },
          {
           "lat": 51.65345,
           "lng": -0.08176
          },
          {
           "lat": 51.65395,
           "lng": -0.08281
          },
          {
           "lat": 51.65532,
           "lng": -0.08233
          },
          {
           "lat": 51.65579,
           "lng": -0.08337
          },
          {
           "lat": 51.65591,
           "lng": -0.08352
          },
          {
           "lat": 51.65655,
           "lng": -0.08267
          },
          {
           "lat": 51.65707,
           "lng": -0.08135
          },
          {
           "lat": 51.65714,
           "lng": -0.08133
          },
          {
           "lat": 51.65767,
           "lng": -0.08057
          },
          {
           "lat": 51.65841,
           "lng": -0.08128
          },
          {
           "lat": 51.65849,
           "lng": -0.08144
          },
          {
           "lat": 51.65863,
           "lng": -0.08149
          },
          {
           "lat": 51.65902,
           "lng": -0.082
          },
          {
           "lat": 51.65924,
           "lng": -0.08198
          },
          {
           "lat": 51.65961,
           "lng": -0.08078
          },
          {
           "lat": 51.65957,
           "lng": -0.08059
          },
          {
           "lat": 51.6598,
           "lng": -0.07956
          },
          {
           "lat": 51.66002,
           "lng": -0.07972
          },
          {
           "lat": 51.66022,
           "lng": -0.08015
          },
          {
           "lat": 51.6606,
           "lng": -0.08006
          },
          {
           "lat": 51.66087,
           "lng": -0.08089
          },
          {
           "lat": 51.66118,
           "lng": -0.08107
          },
          {
           "lat": 51.6614,
           "lng": -0.07983
          },
          {
           "lat": 51.66134,
           "lng": -0.07955
          },
          {
           "lat": 51.66172,
           "lng": -0.07874
          },
          {
           "lat": 51.6622,
           "lng": -0.07912
          },
          {
           "lat": 51.66272,
           "lng": -0.07881
          },
          {
           "lat": 51.66275,
           "lng": -0.07867
          },
          {
           "lat": 51.66272,
           "lng": -0.07804
          },
          {
           "lat": 51.66294,
           "lng": -0.0778
          },
          {
           "lat": 51.66325,
           "lng": -0.07764
          },
          {
           "lat": 51.66341,
           "lng": -0.07773
          },
          {
           "lat": 51.66355,
           "lng": -0.07768
          },
          {
           "lat": 51.66373,
           "lng": -0.07745
          },
          {
           "lat": 51.66385,
           "lng": -0.07721
          },
          {
           "lat": 51.66401,
           "lng": -0.07715
          },
          {
           "lat": 51.66453,
           "lng": -0.07661
          },
          {
           "lat": 51.66472,
           "lng": -0.07629
          },
          {
           "lat": 51.66584,
           "lng": -0.07672
          },
          {
           "lat": 51.6659,
           "lng": -0.07683
          },
          {
           "lat": 51.66675,
           "lng": -0.07603
          },
          {
           "lat": 51.66685,
           "lng": -0.07575
          },
          {
           "lat": 51.66693,
           "lng": -0.07516
          },
          {
           "lat": 51.66673,
           "lng": -0.07415
          },
          {
           "lat": 51.66711,
           "lng": -0.0738
          },
          {
           "lat": 51.66768,
           "lng": -0.07262
          },
          {
           "lat": 51.66681,
           "lng": -0.07222
          },
          {
           "lat": 51.66678,
           "lng": -0.07222
          },
          {
           "lat": 51.66633,
           "lng": -0.07266
          },
          {
           "lat": 51.66589,
           "lng": -0.07252
          },
          {
           "lat": 51.66567,
           "lng": -0.07197
          },
          {
           "lat": 51.66501,
           "lng": -0.07204
          },
          {
           "lat": 51.66494,
           "lng": -0.07109
          },
          {
           "lat": 51.66513,
           "lng": -0.07063
          },
          {
           "lat": 51.66514,
           "lng": -0.0706
          },
          {
           "lat": 51.66455,
           "lng": -0.07007
          },
          {
           "lat": 51.66425,
           "lng": -0.07029
          },
          {
           "lat": 51.66419,
           "lng": -0.07016
          },
          {
           "lat": 51.66348,
           "lng": -0.06974
          },
          {
           "lat": 51.66378,
           "lng": -0.06927
          },
          {
           "lat": 51.66374,
           "lng": -0.06834
          },
          {
           "lat": 51.66323,
           "lng": -0.06827
          },
          {
           "lat": 51.66314,
           "lng": -0.06817
          },
          {
           "lat": 51.66278,
           "lng": -0.06737
          },
          {
           "lat": 51.66188,
           "lng": -0.06729
          },
          {
           "lat": 51.66168,
           "lng": -0.06704
          },
          {
           "lat": 51.66205,
           "lng": -0.06518
          },
          {
           "lat": 51.66119,
           "lng": -0.06385
          },
          {
           "lat": 51.66101,
           "lng": -0.0634
          },
          {
           "lat": 51.66067,
           "lng": -0.06319
          },
          {
           "lat": 51.65986,
           "lng": -0.0633
          },
          {
           "lat": 51.65895,
           "lng": -0.06401
          },
          {
           "lat": 51.65789,
           "lng": -0.06353
          },
          {
           "lat": 51.65864,
           "lng": -0.06161
          },
          {
           "lat": 51.65972,
           "lng": -0.06007
          },
          {
           "lat": 51.6597,
           "lng": -0.05996
          },
          {
           "lat": 51.65976,
           "lng": -0.05929
          },
          {
           "lat": 51.65987,
           "lng": -0.05908
          },
          {
           "lat": 51.65999,
           "lng": -0.0586
          },
          {
           "lat": 51.6598,
           "lng": -0.05753
          },
          {
           "lat": 51.65988,
           "lng": -0.05736
          },
          {
           "lat": 51.65939,
           "lng": -0.05572
          },
          {
           "lat": 51.65972,
           "lng": -0.05529
          },
          {
           "lat": 51.66006,
           "lng": -0.05519
          },
          {
           "lat": 51.65972,
           "lng": -0.05351
          },
          {
           "lat": 51.65959,
           "lng": -0.05347
          },
          {
           "lat": 51.6594,
           "lng": -0.05179
          },
          {
           "lat": 51.65947,
           "lng": -0.05174
          },
          {
           "lat": 51.6593,
           "lng": -0.04963
          },
          {
           "lat": 51.65919,
           "lng": -0.04958
          },
          {
           "lat": 51.65886,
           "lng": -0.0499
          },
          {
           "lat": 51.65818,
           "lng": -0.04962
          },
          {
           "lat": 51.65757,
           "lng": -0.05039
          },
          {
           "lat": 51.65734,
           "lng": -0.05039
          },
          {
           "lat": 51.65715,
           "lng": -0.05004
          },
          {
           "lat": 51.6563,
           "lng": -0.05003
          },
          {
           "lat": 51.65587,
           "lng": -0.05039
          },
          {
           "lat": 51.65565,
           "lng": -0.05034
          },
          {
           "lat": 51.6553,
           "lng": -0.05057
          },
          {
           "lat": 51.65516,
           "lng": -0.05078
          },
          {
           "lat": 51.65431,
           "lng": -0.0512
          },
          {
           "lat": 51.65426,
           "lng": -0.05127
          },
          {
           "lat": 51.65392,
           "lng": -0.05229
          }
         ],
         "Postcode": "EN1 3"
        },
        {
         "Center": {
          "lat": 51.65137,
          "lng": -0.08576
         },
         "Coordinates": [
          {
           "lat": 51.65238,
           "lng": -0.0805
          },
          {
           "lat": 51.65223,
           "lng": -0.08026
          },
          {
           "lat": 51.65203,
           "lng": -0.08024
          },
          {
           "lat": 51.65197,
           "lng": -0.08026
          },
          {
           "lat": 51.65184,
           "lng": -0.08001
          },
          {
           "lat": 51.65155,
           "lng": -0.08013
          },
          {
           "lat": 51.65133,
           "lng": -0.07976
          },
          {
           "lat": 51.65131,
           "lng": -0.07977
          },
          {
           "lat": 51.65084,
           "lng": -0.07943
          },
          {
           "lat": 51.65062,
           "lng": -0.0782
          },
          {
           "lat": 51.64989,
           "lng": -0.07868
          },
          {
           "lat": 51.64985,
           "lng": -0.07879
          },
          {
           "lat": 51.6497,
           "lng": -0.07946
          },
          {
           "lat": 51.64916,
           "lng": -0.07969
          },
          {
           "lat": 51.64861,
           "lng": -0.07883
          },
          {
           "lat": 51.64858,
           "lng": -0.07886
          },
          {
           "lat": 51.64833,
           "lng": -0.07903
          },
          {
           "lat": 51.64773,
           "lng": -0.07871
          },
          {
           "lat": 51.64756,
           "lng": -0.07904
          },
          {
           "lat": 51.64753,
           "lng": -0.07921
          },
          {
           "lat": 51.64709,
           "lng": -0.07957
          },
          {
           "lat": 51.64705,
           "lng": -0.07957
          },
          {
           "lat": 51.64685,
           "lng": -0.07972
          },
          {
           "lat": 51.64652,
           "lng": -0.07943
          },
          {
           "lat": 51.64647,
           "lng": -0.07936
          },
          {
           "lat": 51.64611,
           "lng": -0.0793
          },
          {
           "lat": 51.64607,
           "lng": -0.07928
          },
          {
           "lat": 51.64588,
           "lng": -0.07933
          },
          {
           "lat": 51.64586,
           "lng": -0.07954
          },
          {
           "lat": 51.64561,
           "lng": -0.08022
          },
          {
           "lat": 51.64539,
           "lng": -0.08033
          },
          {
           "lat": 51.64466,
           "lng": -0.07957
          },
          {
           "lat": 51.64457,
           "lng": -0.08034
          },
          {
           "lat": 51.64489,
           "lng": -0.08092
          },
          {
           "lat": 51.64462,
           "lng": -0.08163
          },
          {
           "lat": 51.64465,
           "lng": -0.08188
          },
          {
           "lat": 51.64482,
           "lng": -0.08196
          },
          {
           "lat": 51.64504,
           "lng": -0.08235
          },
          {
           "lat": 51.64495,
           "lng": -0.08308
          },
          {
           "lat": 51.64482,
           "lng": -0.08324
          },
          {
           "lat": 51.6446,
           "lng": -0.0851
          },
          {
           "lat": 51.64484,
           "lng": -0.0856
          },
          {
           "lat": 51.64506,
           "lng": -0.08771
          },
          {
           "lat": 51.64535,
           "lng": -0.08798
          },
          {
           "lat": 51.64674,
           "lng": -0.08739
          },
          {
           "lat": 51.64901,
           "lng": -0.08794
          },
          {
           "lat": 51.64883,
           "lng": -0.08868
          },
          {
           "lat": 51.64711,
           "lng": -0.09117
          },
          {
           "lat": 51.64714,
           "lng": -0.09197
          },
          {
           "lat": 51.64779,
           "lng": -0.09243
          },
          {
           "lat": 51.64765,
           "lng": -0.09396
          },
          {
           "lat": 51.64796,
           "lng": -0.09403
          },
          {
           "lat": 51.64899,
           "lng": -0.09284
          },
          {
           "lat": 51.64904,
           "lng": -0.09291
          },
          {
           "lat": 51.65003,
           "lng": -0.09257
          },
          {
           "lat": 51.65034,
           "lng": -0.09206
          },
          {
           "lat": 51.6505,
           "lng": -0.08982
          },
          {
           "lat": 51.65144,
           "lng": -0.09091
          },
          {
           "lat": 51.65203,
           "lng": -0.09092
          },
          {
           "lat": 51.6524,
           "lng": -0.09072
          },
          {
           "lat": 51.65241,
           "lng": -0.09073
          },
          {
           "lat": 51.65283,
           "lng": -0.09077
          },
          {
           "lat": 51.65334,
           "lng": -0.09024
          },
          {
           "lat": 51.65337,
           "lng": -0.09015
          },
          {
           "lat": 51.65391,
           "lng": -0.09027
          },
          {
           "lat": 51.65414,
           "lng": -0.09068
          },
          {
           "lat": 51.6544,
           "lng": -0.09072
          },
          {
           "lat": 51.65497,
           "lng": -0.09005
          },
          {
           "lat": 51.6552,
           "lng": -0.08987
          },
          {
           "lat": 51.65531,
           "lng": -0.08962
          },
          {
           "lat": 51.65561,
           "lng": -0.0895
          },
          {
           "lat": 51.65599,
           "lng": -0.08991
          },
          {
           "lat": 51.6566,
           "lng": -0.09003
          },
          {
           "lat": 51.65684,
           "lng": -0.0904
          },
          {
           "lat": 51.65743,
           "lng": -0.09067
          },
          {
           "lat": 51.65748,
           "lng": -0.09067
          },
          {
           "lat": 51.65782,
           "lng": -0.091
          },
          {
           "lat": 51.6586,
           "lng": -0.09081
          },
          {
           "lat": 51.6587,
           "lng": -0.09069
          },
          {
           "lat": 51.65887,
           "lng": -0.09072
          },
          {
           "lat": 51.65938,
           "lng": -0.09109
          },
          {
           "lat": 51.6599,
           "lng": -0.08983
          },
          {
           "lat": 51.65995,
           "lng": -0.08941
          },
          {
           "lat": 51.65944,
           "lng": -0.08929
          },
          {
           "lat": 51.65916,
           "lng": -0.08877
          },
          {
           "lat": 51.65958,
           "lng": -0.08802
          },
          {
           "lat": 51.65949,
           "lng": -0.08787
          },
          {
           "lat": 51.65936,
           "lng": -0.08737
          },
          {
           "lat": 51.65885,
           "lng": -0.08736
          },
          {
           "lat": 51.65911,
           "lng": -0.08667
          },
          {
           "lat": 51.65886,
           "lng": -0.08615
          },
          {
           "lat": 51.65887,
           "lng": -0.08612
          },
          {
           "lat": 51.65823,
           "lng": -0.08535
          },
          {
           "lat": 51.65848,
           "lng": -0.08492
          },
          {
           "lat": 51.65851,
           "lng": -0.08474
          },
          {
           "lat": 51.65807,
           "lng": -0.0836
          },
          {
           "lat": 51.65807,
           "lng": -0.0836
          },
          {
           "lat": 51.65735,
           "lng": -0.08435
          },
          {
           "lat": 51.65615,
           "lng": -0.0843
          },
          {
           "lat": 51.6561,
           "lng": -0.08428
          },
          {
           "lat": 51.65591,
           "lng": -0.08352
          },
          {
           "lat": 51.65579,
           "lng": -0.08337
          },
          {
           "lat": 51.65532,
           "lng": -0.08233
          },
          {
           "lat": 51.65395,
           "lng": -0.08281
          },
          {
           "lat": 51.65345,
           "lng": -0.08176
          },
          {
           "lat": 51.6528,
           "lng": -0.08227
          },
          {
           "lat": 51.65265,
           "lng": -0.08159
          },
          {
           "lat": 51.65269,
           "lng": -0.08131
          },
          {
           "lat": 51.65223,
           "lng": -0.08091
          },
          {
           "lat": 51.65238,
           "lng": -0.0805
          }
         ],
         "Postcode": "EN2 6"
        }
       ],
       "PostcodesRemaining": [
        "EN1 3",
        "EN2 6"
       ],
       "PowerCutType": "Restored",
       "Scope": null,
       "ServiceDown": false,
       "ServiceDownUrl": null,
       "Steps": [
        {
         "Active": true,
         "Date": "2021-04-05T12:51:42.76",
         "Message": "Update at 12:51 - We have now restored power to The Town area. We are truly sorry for the power cuts recently. We know the underlying problem is on an underground cable so our engineers have installed specialist network equipment to help trace where on the cable the issue is. The installed equipment can report back on a location to allow us to make full repairs. If you'd like more information on the issue, or if your power isn't back on, call us on 08003163105 (free to call). We know that being without power during the current pandemic can be especially difficult, so we're sorry for the outage. Please rest assured that as key workers, our staff will continue to work around the clock to keep the lights on.",
         "Name": null
        },
        {
         "Active": false,
         "Date": "2021-04-05T11:39:00",
         "Message": "<p>We became aware of a power cut at 11:39. We’re sorry for any disruption this may have caused you. We didn’t know in advance there would be a power cut but now that we know, our teams will do everything they can to get your power back quickly. </p>",
         "Name": "Power cut reported"
        },
        {
         "Active": false,
         "Date": "2021-04-05T12:04:27",
         "Message": "<p>We have engineers on their way. As this is affecting your area, they will not need to attend your property. Rest assured once they arrive, they&rsquo;ll work as quickly as is safely possible to get your power back on.</p>",
         "Name": "Engineers on their way"
        },
        {
         "Active": false,
         "Date": "2021-04-05T12:17:23",
         "Message": "<p>Engineers are now on site, carrying out investigations into the fault. Once they have completed their assessment, they will carry out repairs.</p>",
         "Name": "Engineers investigating and fixing"
        },
        {
         "Active": true,
         "Date": "2021-04-05T12:37:46.1",
         "Message": "<p>All power in the area should be back on. We’re really sorry for any disruption this caused.</p>",
         "Name": "Power restored"
        }
       ],
       "UKPNIncident": {
        "AffectedCustomers": [],
        "CreationDateTime": "2021-04-05T11:48:07",
        "CustomersOffSupply": 0,
        "CustomersOnSupply": 23,
        "EstimatedRestorationDate": "2021-04-05T14:30:00",
        "IncidentCategory": "124",
        "IncidentId": "Z00037ee1INCD",
        "IncidentPriority": 10,
        "IncidentReference": "INCD-229089-Z",
        "IncidentType": 2,
        "IncidentTypeName": "Restored",
        "Latitude": 0,
        "Logs": [
         {
          "ActualEventTime": "2021-04-05T12:50:00",
          "CategoryId": 263,
          "Comment": "Update at 12:51 - We have now restored power to The Town area. We are truly sorry for the power cuts recently. We know the underlying problem is on an underground cable so our engineers have installed specialist network equipment to help trace where on the cable the issue is. The installed equipment can report back on a location to allow us to make full repairs. If you'd like more information on the issue, or if your power isn't back on, call us on 08003163105 (free to call). We know that being without power during the current pandemic can be especially difficult, so we're sorry for the outage. Please rest assured that as key workers, our staff will continue to work around the clock to keep the lights on.",
          "LoggedTime": "2021-04-05T12:51:42.76",
          "TypeId": 0
         }
        ],
        "Longitude": 0,
        "NoCallsReported": 4,
        "NoCustomerAffected": 0,
        "NoPlannedCustomers": 0,
        "PlannedDate": null,
        "PlannedIncidentReason": "We're carrying out planned work in your area. For our engineers to carry it out safely they need to turn the power off. We're doing this work as it's essential to provide reliable electricity supplies to your area. We're sorry for any inconvenience caused and thank you for your patience.",
        "PostCodesAffected": [
         "EN1 3",
         "EN2 6"
        ],
        "PostCodesPlanned": [
         "EN13ED",
         "EN13EF",
         "EN13EG",
         "EN26BN",
         "EN26LE"
        ],
        "PostCodesRestored": [
         "EN13ED",
         "EN13EF",
         "EN13EG",
         "EN26BN",
         "EN26LE"
        ],
        "ReceivedDate": "2021-04-05T11:39:00",
        "Resource": {
         "ArrivalDate": "2021-04-05T12:17:23",
         "DispatchedDate": "2021-04-05T12:04:27",
         "EstimatedTimeOfArrival": "2021-04-05T12:30:00",
         "Id": null,
         "Name": "MARK",
         "StatusId": 5
        },
        "RestoredDateTime": "2021-04-05T12:37:46.1",
        "Scope": null,
        "StatusId": 5,
        "Timestamp": "2021:04:05:16:31:09:86"
       }
      },
      "text/plain": [
       "<IPython.core.display.JSON object>"
      ]
     },
     "execution_count": 12,
     "metadata": {
      "application/json": {
       "expanded": false,
       "root": "root"
      }
     },
     "output_type": "execute_result"
    }
   ],
   "source": [
    "incident_id = multiple_incident_ids[1]\n",
    "\n",
    "incident_detail_url = get_incident_detail_url(incident_id)\n",
    "r_json = requests.get(incident_detail_url).json()\n",
    "\n",
    "JSON(r_json)"
   ]
  },
  {
   "cell_type": "code",
   "execution_count": null,
   "id": "demonstrated-snowboard",
   "metadata": {},
   "outputs": [],
   "source": []
  },
  {
   "cell_type": "code",
   "execution_count": 17,
   "id": "returning-spirituality",
   "metadata": {},
   "outputs": [],
   "source": [
    "#exports\n",
    "def is_ukpn_incident_active(r_json):\n",
    "    if r_json['PowerCutType'] == 'Restored':\n",
    "        return False\n",
    "    else:\n",
    "        return True\n",
    "    \n",
    "def extract_relevant_info(r_json):\n",
    "    incident_info = {\n",
    "        'incident_active': is_ukpn_incident_active(r_json),\n",
    "        'restored_time': r_json['UKPNIncident']['RestoredDateTime'],\n",
    "        'estimated_restored_time': r_json['UKPNIncident']['EstimatedRestorationDate'],\n",
    "        'planned_time': r_json['UKPNIncident']['PlannedDate'],\n",
    "        'received_time': r_json['UKPNIncident']['ReceivedDate'],\n",
    "        'postcodes_impacted': r_json['FullPostcodeData'],\n",
    "        'description': r_json['IncidentCategoryCustomerFriendlyDescription'],\n",
    "        'incident_url': f\"https://www.ukpowernetworks.co.uk/power-cut/map?incidentid={r_json['IncidentReference']}\"\n",
    "    }\n",
    "    \n",
    "    return incident_info"
   ]
  },
  {
   "cell_type": "code",
   "execution_count": 18,
   "id": "perfect-incentive",
   "metadata": {},
   "outputs": [
    {
     "data": {
      "application/json": {
       "description": "A fault occurred on a piece of our electrical equipment which controls the power to your home.",
       "estimated_restored_time": "2021-04-05T14:30:00",
       "incident_active": false,
       "incident_url": "https://www.ukpowernetworks.co.uk/power-cut/map?incidentid=INCD-229089-Z",
       "planned_time": null,
       "postcodes_impacted": [
        "EN13ED",
        "EN13EF",
        "EN13EG",
        "EN26BN",
        "EN26LE"
       ],
       "received_time": "2021-04-05T11:39:00",
       "restored_time": "2021-04-05T12:37:46.1"
      },
      "text/plain": [
       "<IPython.core.display.JSON object>"
      ]
     },
     "execution_count": 18,
     "metadata": {
      "application/json": {
       "expanded": false,
       "root": "root"
      }
     },
     "output_type": "execute_result"
    }
   ],
   "source": [
    "incident_info = extract_relevant_info(r_json)\n",
    "\n",
    "JSON(incident_info)"
   ]
  },
  {
   "cell_type": "code",
   "execution_count": null,
   "id": "fixed-tablet",
   "metadata": {},
   "outputs": [],
   "source": []
  },
  {
   "cell_type": "code",
   "execution_count": 15,
   "id": "cosmetic-avatar",
   "metadata": {},
   "outputs": [],
   "source": [
    "#exports\n",
    "def get_ukpn_incidents_info(incidents_url='https://www.ukpowernetworks.co.uk/Incidents/GetIncidents'):\n",
    "    r_json = requests.get(incidents_url).json()\n",
    "\n",
    "    incident_ids = (\n",
    "        extract_single_incident_ids(r_json) + \n",
    "        extract_multiple_incident_ids(extract_multiple_incident_urls(r_json))\n",
    "    )\n",
    "    \n",
    "    raw_incidents_info = dict()\n",
    "    cleaned_incidents_info = dict()\n",
    "\n",
    "    for incident_id in track(incident_ids, label='Details'):\n",
    "        try:\n",
    "            incident_detail_url = get_incident_detail_url(incident_id)\n",
    "            r_json = requests.get(incident_detail_url).json()\n",
    "\n",
    "            raw_incidents_info[incident_id] = r_json\n",
    "            cleaned_incidents_info[incident_id] = extract_relevant_info(r_json)\n",
    "        except:\n",
    "            warn(f'Failed to retrieve incident details for: {incident_id}')\n",
    "        \n",
    "    return raw_incidents_info, cleaned_incidents_info"
   ]
  },
  {
   "cell_type": "code",
   "execution_count": 16,
   "id": "awful-builder",
   "metadata": {},
   "outputs": [
    {
     "data": {
      "text/html": [
       "<div><span class=\"Text-label\" style=\"display:inline-block; overflow:hidden; white-space:nowrap; text-overflow:ellipsis; min-width:15ex; max-width:15ex; vertical-align:middle; text-align:right\">Multiple Ids</span>\n",
       "<progress style=\"width:45ex\" max=\"4\" value=\"4\" class=\"Progress-main\"/></progress>\n",
       "<span class=\"Progress-label\"><strong>100%</strong></span>\n",
       "<span class=\"Iteration-label\">4/4</span>\n",
       "<span class=\"Time-label\">[00:01<00:00, 0.24s/it]</span></div>"
      ],
      "text/plain": [
       "\u001b[A\u001b[2K\r",
       "   Multiple Ids [█████████████████████████████████████████████] 4/4 [00:01<00:00, 0.24s/it]"
      ]
     },
     "metadata": {},
     "output_type": "display_data"
    },
    {
     "data": {
      "text/html": [
       "<div><span class=\"Text-label\" style=\"display:inline-block; overflow:hidden; white-space:nowrap; text-overflow:ellipsis; min-width:15ex; max-width:15ex; vertical-align:middle; text-align:right\">Details</span>\n",
       "<progress style=\"width:45ex\" max=\"53\" value=\"53\" class=\"Progress-main\"/></progress>\n",
       "<span class=\"Progress-label\"><strong>100%</strong></span>\n",
       "<span class=\"Iteration-label\">53/53</span>\n",
       "<span class=\"Time-label\">[00:12<00:00, 0.23s/it]</span></div>"
      ],
      "text/plain": [
       "\u001b[A\u001b[2K\r",
       "        Details [█████████████████████████████████████████████] 53/53 [00:12<00:00, 0.23s/it]"
      ]
     },
     "metadata": {},
     "output_type": "display_data"
    },
    {
     "data": {
      "application/json": [
       {
        "INCD-228174-Z": {
         "description": "A fault occurred on an underground electricity cable affecting the local area.",
         "estimated_restored_time": null,
         "incident_active": false,
         "planned_time": null,
         "postcodes_impacted": [
          "N200JS",
          "N200JT",
          "N200JX",
          "N200NL",
          "N200NN",
          "N200NP"
         ],
         "received_time": "2021-03-30T13:53:13",
         "restored_time": "2021-04-05T12:36:27.567"
        },
        "INCD-229042-Z": {
         "description": "A fault occurred on a piece of our electrical equipment which controls the power to your home.",
         "estimated_restored_time": "2021-04-05T11:30:00",
         "incident_active": false,
         "planned_time": null,
         "postcodes_impacted": [
          "HA46HD",
          "HA46HE"
         ],
         "received_time": "2021-04-05T03:23:00",
         "restored_time": "2021-04-05T08:47:56.28"
        },
        "INCD-229043-Z": {
         "description": "A fault occurred on a piece of our electrical equipment which controls the power to your home.",
         "estimated_restored_time": "2021-04-05T10:30:00",
         "incident_active": false,
         "planned_time": null,
         "postcodes_impacted": [
          "NR118AE",
          "NR118BG",
          "NR118BH",
          "NR118BJ",
          "NR118BQ",
          "NR118BU"
         ],
         "received_time": "2021-04-05T04:40:00",
         "restored_time": "2021-04-05T10:44:28.88"
        },
        "INCD-229044-Z": {
         "description": "We were investigating a high voltage overhead electricity line fault which caused a power cut in the local area.",
         "estimated_restored_time": null,
         "incident_active": false,
         "planned_time": null,
         "postcodes_impacted": [
          "IP171HA"
         ],
         "received_time": "2021-04-05T05:16:00",
         "restored_time": "2021-04-05T11:17:04.507"
        },
        "INCD-229047-Z": {
         "description": "A fault occurred on a piece of our electrical equipment which controls the power to your home.",
         "estimated_restored_time": "2021-04-05T10:00:00",
         "incident_active": false,
         "planned_time": null,
         "postcodes_impacted": [
          "RM124QU",
          "RM124QX"
         ],
         "received_time": "2021-04-05T06:01:00",
         "restored_time": "2021-04-05T08:06:07.937"
        },
        "INCD-229048-Z": {
         "description": "We were investigating a high voltage overhead electricity line fault which caused a power cut in the local area.",
         "estimated_restored_time": "2021-04-05T15:00:00",
         "incident_active": false,
         "planned_time": null,
         "postcodes_impacted": [
          "HA96ET",
          "IP221AA",
          "IP221AB",
          "IP221AD",
          "IP221AE",
          "IP221AG",
          "IP221AH",
          "IP221AJ",
          "IP221AL",
          "IP221AN",
          "IP221AP",
          "IP221AQ",
          "IP221AR",
          "IP221AS",
          "IP221AU",
          "IP221AW",
          "IP221AX",
          "IP221AZ",
          "IP221BA",
          "IP221BE",
          "IP221BF",
          "IP221FB",
          "IP221FD",
          "IP221FJ",
          "IP221PF",
          "IP221PN",
          "IP221PP",
          "IP221PQ",
          "IP221PS",
          "IP221PT",
          "IP221PU",
          "IP221PW",
          "IP221RA",
          "IP221RB",
          "IP221RE",
          "IP221RF",
          "IP221RG",
          "IP221SH",
          "IP221SJ",
          "IP221SL",
          "IP221SN",
          "IP221SP",
          "IP221SR",
          "IP221SS",
          "IP221ST",
          "IP221SU",
          "IP221SW",
          "IP221SX",
          "IP221SY",
          "IP221TD",
          "IP221TH",
          "IP221TQ",
          "IP223BG",
          "IP224AW",
          "IP224BE",
          "IP224BG",
          "IP224LS",
          "IP256SY",
          "IP257EU",
          "IP257ND",
          "IP257TE",
          "PE339SR"
         ],
         "received_time": "2021-04-05T07:53:40",
         "restored_time": "2021-04-05T12:14:42.04"
        },
        "INCD-229049-Z": {
         "description": "A fault occurred on a piece of our electrical equipment which controls the power to your home.",
         "estimated_restored_time": "2021-04-05T15:00:00",
         "incident_active": false,
         "planned_time": null,
         "postcodes_impacted": [
          "NR12GB",
          "NR12JT",
          "NR12PN",
          "NR12PW",
          "NR12PY",
          "NR12RN",
          "NR12RT",
          "NR12RU",
          "NR12RY",
          "NR12RZ",
          "NR12SA",
          "NR12SE",
          "NR46NE"
         ],
         "received_time": "2021-04-05T06:34:00",
         "restored_time": "2021-04-05T12:20:39.917"
        },
        "INCD-229051-Z": {
         "description": "A fault occurred on a high voltage overhead electricity line in the local area.",
         "estimated_restored_time": "2021-04-05T13:30:00",
         "incident_active": false,
         "planned_time": null,
         "postcodes_impacted": [
          "NR",
          "NR294AB",
          "NR294AD",
          "NR294AH",
          "NR294AW",
          "NR294DH",
          "NR294DJ",
          "NR294DL",
          "NR294DN",
          "NR294DP",
          "NR294DR",
          "NR294DW",
          "NR294DY",
          "NR294DZ",
          "NR294EA",
          "NR294EB",
          "NR294EE",
          "NR294EF",
          "NR294EG",
          "NR294EL",
          "NR294FB",
          "NR294FG",
          "NR294GA",
          "NR294NZ",
          "NR294PB",
          "NR294PD",
          "NR294PE",
          "NR294PF",
          "NR294PG",
          "NR294PJ",
          "NR294PL",
          "NR294PN",
          "NR294PQ",
          "NR294PR",
          "NR294PT",
          "NR294PU",
          "NR294PX",
          "NR294PY",
          "NR294PZ",
          "NR294QA",
          "NR294QB",
          "NR294QD",
          "NR294QE",
          "NR294QF",
          "NR294QG",
          "NR294UA",
          "NR294UB",
          "NR294UD",
          "NR294UE",
          "NR294UF",
          "NR294UP",
          "NR294UR",
          "NR295",
          "NR295AB",
          "NR295AZ",
          "NR295BN",
          "NR295BQ",
          "NR319JW"
         ],
         "received_time": "2021-04-05T06:46:00",
         "restored_time": "2021-04-05T11:57:04.227"
        },
        "INCD-229052-Z": {
         "description": "We were investigating an overhead electricity line fault which caused a power cut in the local area.",
         "estimated_restored_time": "2021-04-05T14:00:00",
         "incident_active": false,
         "planned_time": null,
         "postcodes_impacted": [
          "NR347NF",
          "NR347NH"
         ],
         "received_time": "2021-04-05T06:55:00",
         "restored_time": "2021-04-05T14:04:10.663"
        },
        "INCD-229056-Z": {
         "description": "A fault occurred on a piece of our electrical equipment which controls the power to your home.",
         "estimated_restored_time": null,
         "incident_active": false,
         "planned_time": null,
         "postcodes_impacted": [
          "IP173QS",
          "IP173QT"
         ],
         "received_time": "2021-04-05T07:43:00",
         "restored_time": "2021-04-05T08:56:18.137"
        },
        "INCD-229057-Z": {
         "description": "A fault occurred on an underground electricity cable affecting the local area.",
         "estimated_restored_time": "2021-04-05T14:00:00",
         "incident_active": false,
         "planned_time": null,
         "postcodes_impacted": [
          "PE159AD",
          "PE159AE",
          "PE159AG",
          "PE159AU",
          "PE159AY",
          "PE159BQ"
         ],
         "received_time": "2021-04-05T08:54:00",
         "restored_time": "2021-04-05T14:17:15.037"
        },
        "INCD-229059-Z": {
         "description": "A fault occurred on a piece of our electrical equipment which controls the power to your home.",
         "estimated_restored_time": null,
         "incident_active": false,
         "planned_time": null,
         "postcodes_impacted": [
          "RM41PA",
          "RM41PL",
          "RM41PP",
          "RM41PR",
          "RM41PS",
          "RM41QR",
          "RM41QS"
         ],
         "received_time": "2021-04-05T09:02:57",
         "restored_time": "2021-04-05T10:17:17.817"
        },
        "INCD-229071-Z": {
         "description": "An underground electricity cable faulted on our high voltage network, causing an area wide power cut.",
         "estimated_restored_time": "2021-04-05T12:00:00",
         "incident_active": false,
         "planned_time": null,
         "postcodes_impacted": [
          "IP295LT",
          "IP295NY",
          "IP295NZ",
          "IP295PU",
          "IP332BL",
          "IP332BN",
          "IP332BT",
          "IP332BU",
          "IP332BW",
          "IP332BX",
          "IP332DA",
          "IP332DB",
          "IP332DD",
          "IP332DT",
          "IP332JZ",
          "IP332LE",
          "IP332NB",
          "IP332NN",
          "IP332NP",
          "IP332NR",
          "IP332NS",
          "IP332NT",
          "IP332NU",
          "IP332NW",
          "IP332NX",
          "IP332NY",
          "IP332NZ",
          "IP332PA",
          "IP332PB",
          "IP332PD",
          "IP332PE",
          "IP332PF",
          "IP332PG",
          "IP332PH",
          "IP332PJ",
          "IP332PL",
          "IP332PN",
          "IP332PP",
          "IP332PQ",
          "IP332PR",
          "IP332PS",
          "IP332PT",
          "IP332PU",
          "IP332PW",
          "IP332PX",
          "IP332PY",
          "IP332PZ",
          "IP332QA",
          "IP332QE",
          "IP332QF",
          "IP332QJ",
          "IP332QL",
          "IP332QS",
          "IP332QT",
          "IP332QU",
          "IP332QY",
          "IP332QZ",
          "IP332RD",
          "IP332RH",
          "IP332RN",
          "IP332TA",
          "IP332TB",
          "IP332TD",
          "IP332TE",
          "IP332TF",
          "IP332TG",
          "IP332TH",
          "IP332TN",
          "IP332TQ"
         ],
         "received_time": "2021-04-05T10:10:33",
         "restored_time": "2021-04-05T12:31:23.51"
        },
        "INCD-229089-Z": {
         "description": "A fault occurred on a piece of our electrical equipment which controls the power to your home.",
         "estimated_restored_time": "2021-04-05T14:30:00",
         "incident_active": false,
         "planned_time": null,
         "postcodes_impacted": [
          "EN13ED",
          "EN13EF",
          "EN13EG",
          "EN26BN",
          "EN26LE"
         ],
         "received_time": "2021-04-05T11:39:00",
         "restored_time": "2021-04-05T12:37:46.1"
        },
        "INCD-229094-Z": {
         "description": "We were investigating a high voltage overhead electricity line fault which caused a power cut in the local area.",
         "estimated_restored_time": "2021-04-05T18:00:00",
         "incident_active": true,
         "planned_time": null,
         "postcodes_impacted": [
          "NR189HF",
          "NR189HG",
          "NR94ED",
          "UK",
          "NR4",
          "NR93ND",
          "NR94AE",
          "NR94AF",
          "NR94AJ",
          "NR94BZ",
          "NR94EE",
          "NR94EJ",
          "NR94EP",
          "NR94ES",
          "NR94EW",
          "NR94GA",
          "NR94HA",
          "NR94HH",
          "NR94HL",
          "NR94HN",
          "NR94HR",
          "NR94HS",
          "NR94HT",
          "NR94HU",
          "NR94HW",
          "NR94HX",
          "NR94HY",
          "NR94HZ",
          "NR94JB",
          "NR94JD",
          "NR94JE",
          "NR94JF",
          "NR94JG",
          "NR94JH",
          "NR94JJ",
          "NR94JL",
          "NR94JN",
          "NR94JP",
          "NR94JS",
          "NR94JT",
          "NR94JU",
          "NR94JW",
          "NR94JX",
          "NR94JY",
          "NR94LA",
          "NR94LB",
          "NR94LF",
          "NR94LG",
          "NR94LH",
          "NR94LJ",
          "NR94LL",
          "NR94LN",
          "NR94LP",
          "NR94LQ",
          "NR94LR",
          "NR94LS",
          "NR94LT",
          "NR94LU",
          "NR94LW",
          "NR94LX",
          "NR94LY",
          "NR94LZ",
          "NR94NA",
          "NR94PX",
          "NR94PY",
          "NR94PZ"
         ],
         "received_time": "2021-04-05T12:39:39",
         "restored_time": null
        },
        "INCD-229103-Z": {
         "description": "A fault occurred on a piece of our electrical equipment which controls the power to your home.",
         "estimated_restored_time": "2021-04-05T17:30:00",
         "incident_active": false,
         "planned_time": null,
         "postcodes_impacted": [
          "SG175AD",
          "SG175AE",
          "SG175AF",
          "SG175AU",
          "SG175JR",
          "SG175RA",
          "SG175SG"
         ],
         "received_time": "2021-04-05T13:50:00",
         "restored_time": "2021-04-05T16:05:47.263"
        },
        "INCD-229104-Z": {
         "description": "A fault occurred on a piece of our electrical equipment which controls the power to your home.",
         "estimated_restored_time": null,
         "incident_active": false,
         "planned_time": null,
         "postcodes_impacted": [
          "HP41AB",
          "HP41AD",
          "HP41AP",
          "HP41AW",
          "HP41FD",
          "HP41FG",
          "HP43DA",
          "HP43DB",
          "HP43DD",
          "HP43DE",
          "HP43FQ",
          "HP43FW"
         ],
         "received_time": "2021-04-05T14:08:00",
         "restored_time": "2021-04-05T17:08:50.883"
        },
        "INCD-247525-G": {
         "description": "Due to a faulty piece of high voltage network equipment we had to turn off your power.",
         "estimated_restored_time": "2021-03-30T20:00:00",
         "incident_active": false,
         "planned_time": null,
         "postcodes_impacted": [
          "CT66AD",
          "KT14ER",
          "KT25GU",
          "KT25QR",
          "KT25QY",
          "KT25QZ",
          "KT25RA",
          "KT25RB",
          "RH163BD",
          "TW107BH",
          "TW107BS",
          "TW107BT",
          "TW107BU",
          "TW107BX",
          "TW107BY",
          "TW107BZ",
          "TW107EE",
          "TW107EF",
          "TW107EG",
          "TW107EH",
          "TW107EJ",
          "TW107EL",
          "TW107EQ",
          "TW107EW",
          "TW107HA",
          "TW107HD",
          "TW107HE",
          "TW107HF",
          "TW107HG",
          "TW107HJ",
          "TW107HL",
          "TW107HQ",
          "TW107HS",
          "TW107JE",
          "TW107JJ",
          "TW107JN",
          "TW107JS",
          "TW107JT",
          "TW107JU",
          "TW107LR",
          "TW107LS",
          "TW107LT",
          "TW107LU",
          "TW107NB",
          "TW107NG",
          "TW107NH",
          "TW107NJ",
          "TW107NL",
          "TW107NN",
          "TW107NQ",
          "TW107NR",
          "TW107NS",
          "TW107NT",
          "TW107NU",
          "TW107NW",
          "TW107NX",
          "TW107NY",
          "TW107PA",
          "TW107PB",
          "TW107PD",
          "TW107PE",
          "TW107PW",
          "TW107QA",
          "TW107QB",
          "TW107QD",
          "TW107QE",
          "TW107QF",
          "TW107QG",
          "TW107QH",
          "TW107QN",
          "TW107QP",
          "TW107QR",
          "TW107QS",
          "TW107QT",
          "TW107QU",
          "TW107QW",
          "TW107QX",
          "TW107QY",
          "TW107RP",
          "TW107RS",
          "TW107RT",
          "TW107RY",
          "TW107RZ",
          "TW107SA",
          "TW107SB",
          "TW107SD",
          "TW107SE",
          "TW107SF",
          "TW107SG",
          "TW107SH",
          "TW107SJ",
          "TW107SL",
          "TW107SN",
          "TW107SP",
          "TW107SQ",
          "TW107SW",
          "TW107TS",
          "TW107TT",
          "TW107TU",
          "TW107TX",
          "TW107TY",
          "TW107TZ",
          "TW107UA",
          "TW107UB",
          "TW107UD",
          "TW107UE",
          "TW107UF",
          "TW107UG",
          "TW107UH",
          "TW107UJ",
          "TW107UL",
          "TW107UN",
          "TW107UQ",
          "TW107UR",
          "TW107UT",
          "TW107UU",
          "TW107UW",
          "TW107XU",
          "TW107XX",
          "TW107XY",
          "TW107YA",
          "TW107YB",
          "TW107YJ",
          "TW14PA",
          "TW14PB",
          "TW14PD",
          "TW14PE",
          "TW14PG",
          "TW14PH",
          "TW14PJ",
          "TW14PL",
          "TW14PP",
          "TW14PQ",
          "TW14PR",
          "TW14PS",
          "TW14PT",
          "TW14PU",
          "TW14PW",
          "TW14QA",
          "TW14QB",
          "TW14QD",
          "TW14QG",
          "TW14RB",
          "TW14RG",
          "TW14RL",
          "TW14RT",
          "TW14RU",
          "TW14RX",
          "TW14SB",
          "TW14SD",
          "TW14ST",
          "TW14SU",
          "TW25RR",
          "TW25RX",
          "TW25SA",
          "TW25SD",
          "TW25SE",
          "TW25SF",
          "TW25SG",
          "TW25SH",
          "TW25SJ",
          "TW25SL",
          "TW25SQ",
          "TW25TE",
          "TW25TF",
          "TW25TL",
          "TW25TZ",
          "TW25UA",
          "TW94QA"
         ],
         "received_time": "2021-03-30T16:56:22",
         "restored_time": "2021-04-05T10:09:09.493"
        },
        "INCD-247620-G": {
         "description": "An underground electricity cable faulted on our high voltage network, causing an area wide power cut.",
         "estimated_restored_time": "2021-04-02T07:00:00",
         "incident_active": false,
         "planned_time": null,
         "postcodes_impacted": [
          "KT168DE",
          "KT171TH",
          "KT187LZ",
          "KT198AA",
          "KT198EJ",
          "KT198EX",
          "KT198EY",
          "KT198EZ",
          "KT198HA",
          "KT198HB",
          "KT198HF",
          "KT198HG",
          "KT198HH",
          "KT198HL",
          "KT198HN",
          "KT198HP",
          "KT198HW",
          "KT198JU",
          "KT198JX",
          "KT198PZ",
          "KT198QN",
          "KT198QT",
          "KT198QU",
          "KT198QY",
          "KT198QZ",
          "KT198RA",
          "KT198RD",
          "KT198RE",
          "KT198RG",
          "KT198RH",
          "KT198RJ",
          "KT198RN",
          "KT198RT",
          "KT198RW",
          "KT198RY",
          "KT198SA",
          "KT198SB",
          "KT198SD",
          "KT198SF",
          "KT198SG",
          "KT198SH",
          "KT198SJ",
          "KT198SL",
          "KT198SN",
          "KT198SS",
          "KT198ST",
          "KT198SW",
          "KT198SY",
          "KT198TB",
          "KT198TD",
          "KT198TE",
          "KT198TH",
          "KT198TL",
          "KT198TN",
          "KT198TP",
          "KT198TR",
          "KT198TT",
          "KT198TU",
          "KT198TX",
          "KT198TY",
          "KT198TZ",
          "KT198UA",
          "KT198UB",
          "KT198UD",
          "KT199AA",
          "KT199AB",
          "KT199AD",
          "KT199AN",
          "KT199AP",
          "KT199BB",
          "KT199BE",
          "KT199BW",
          "KT199DA",
          "KT199DB",
          "KT199DD",
          "KT199DE",
          "KT199DF",
          "KT199DG",
          "KT199DJ",
          "KT199DP",
          "KT199DR",
          "KT199DS",
          "KT199DT",
          "KT199DU",
          "KT199DW",
          "KT199QG",
          "KT199QQ",
          "KT199RR",
          "KT199RX",
          "KT199XS",
          "ME651LB"
         ],
         "received_time": "2021-04-02T00:58:30",
         "restored_time": "2021-04-05T10:10:06.73"
        },
        "INCD-247687-G": {
         "description": "A fault occurred on a piece of our electrical equipment which controls the power to your home.",
         "estimated_restored_time": "2021-04-04T01:00:00",
         "incident_active": false,
         "planned_time": null,
         "postcodes_impacted": [
          "CT170ES",
          "CT170ET",
          "CT170EX",
          "CT170FP",
          "CT170FZ",
          "CT170UP"
         ],
         "received_time": "2021-04-03T21:10:31",
         "restored_time": "2021-04-05T16:12:59.133"
        },
        "INCD-247691-G": {
         "description": "We had to turn off power in your area so our engineers could safely carry out emergency repairs to the network.",
         "estimated_restored_time": null,
         "incident_active": true,
         "planned_time": null,
         "postcodes_impacted": [
          "BN11YE",
          "UMS",
          "BN11UA",
          "BN11YA",
          "BN14AB",
          "BN14AD",
          "BN14AE",
          "BN14AF",
          "BN14AG"
         ],
         "received_time": "2021-04-04T02:05:00",
         "restored_time": null
        },
        "INCD-247709-G": {
         "description": "A fault occurred on a piece of our electrical equipment which controls the power to your home.",
         "estimated_restored_time": "2021-04-05T15:00:00",
         "incident_active": false,
         "planned_time": null,
         "postcodes_impacted": [
          "TN156XN"
         ],
         "received_time": "2021-04-04T22:58:48",
         "restored_time": "2021-04-05T11:03:21.923"
        },
        "INCD-247710-G": {
         "description": "A fault occurred on a piece of our electrical equipment which controls the power to your home.",
         "estimated_restored_time": null,
         "incident_active": false,
         "planned_time": null,
         "postcodes_impacted": [
          "ME139LH"
         ],
         "received_time": "2021-04-04T23:25:00",
         "restored_time": "2021-04-05T09:24:43.087"
        },
        "INCD-247713-G": {
         "description": "A fault occurred on an underground electricity cable affecting the local area.",
         "estimated_restored_time": "2021-04-05T14:00:00",
         "incident_active": false,
         "planned_time": null,
         "postcodes_impacted": [
          "ME88DR",
          "ME88DS",
          "ME88SR"
         ],
         "received_time": "2021-04-05T00:39:00",
         "restored_time": "2021-04-05T14:21:28.667"
        },
        "INCD-247718-G": {
         "description": "A fault occurred on an underground electricity cable affecting the local area.",
         "estimated_restored_time": "2021-04-05T18:00:00",
         "incident_active": true,
         "planned_time": null,
         "postcodes_impacted": [
          "ME44AS",
          "ME44JG"
         ],
         "received_time": "2021-04-05T04:02:00",
         "restored_time": null
        },
        "INCD-247722-G": {
         "description": "A fault occurred on a piece of our electrical equipment which controls the power to your home.",
         "estimated_restored_time": "2021-04-05T18:00:00",
         "incident_active": false,
         "planned_time": null,
         "postcodes_impacted": [
          "BN124EY",
          "BN124EZ",
          "BN124PJ",
          "BN124PL",
          "BN124PN",
          "BN124RS",
          "BN124SE",
          "BN124SG"
         ],
         "received_time": "2021-04-05T13:49:00",
         "restored_time": "2021-04-05T15:17:15.663"
        },
        "INCD-259202-J": {
         "description": "We were investigating an electricity cable that was damaged, causing a power cut in the local area.",
         "estimated_restored_time": null,
         "incident_active": true,
         "planned_time": null,
         "postcodes_impacted": [
          "W1M1HE",
          "W1M1DH",
          "W1M1HB",
          "W1M1HJ",
          "W1U5AH",
          "W1U6QJ",
          "W1U6QL",
          "W1U7AJ",
          "W1U7AL",
          "W1U7BY",
          "W1U7JA",
          "W1U7JF",
          "W1U7NE",
          "W1U7NF",
          "W1U7NN",
          "W1U7NP",
          "W1U7NR",
          "W1U7NS",
          "W1U7NT",
          "W1U7NU",
          "W1U7NW",
          "W1U7NX",
          "W1U7NY",
          "W1U7NZ",
          "W1U7PB",
          "W1U7PD",
          "W1U7PE",
          "W1U7PF",
          "W1U7PG",
          "W1U7PJ",
          "W1U7PN",
          "W1U7PP",
          "W1U7PQ",
          "W1U7PW",
          "W1U7RT"
         ],
         "received_time": "2021-04-02T15:00:00",
         "restored_time": null
        },
        "INCD-259247-J": {
         "description": "Due to a faulty piece of underground network equipment we had to turn off your power.",
         "estimated_restored_time": null,
         "incident_active": false,
         "planned_time": null,
         "postcodes_impacted": [
          "E126AD",
          "E126AP",
          "E126AS",
          "E126AU",
          "E126AX",
          "E126AZ",
          "E126BB",
          "E126BF"
         ],
         "received_time": "2021-04-01T18:18:00",
         "restored_time": "2021-04-05T09:39:40.29"
        },
        "INCD-259361-J": {
         "description": "A fault occurred on an underground electricity cable affecting the local area.",
         "estimated_restored_time": "2021-04-05T21:00:00",
         "incident_active": true,
         "planned_time": null,
         "postcodes_impacted": [
          "NW10RE",
          "NW19RE",
          "NW19SG",
          "NW19SH",
          "NW10RG",
          "NW19QN",
          "NW19RH",
          "NW19RL",
          "NW19RN",
          "NW19SB",
          "NW19SL",
          "NW19SX",
          "NW19SY",
          "NW19UG",
          "NW19XA",
          "NW19XB",
          "NW19XG",
          "NW19XT"
         ],
         "received_time": "2021-04-05T11:52:00",
         "restored_time": null
        },
        "INCD-259364-J": {
         "description": "A fault occurred on an underground electricity cable affecting the local area.",
         "estimated_restored_time": "2021-04-05T20:00:00",
         "incident_active": true,
         "planned_time": null,
         "postcodes_impacted": [
          "N51XG",
          "N51PR",
          "N51PS",
          "N51PT",
          "N51XR"
         ],
         "received_time": "2021-04-05T13:48:00",
         "restored_time": null
        },
        "INCD-259369-J": {
         "description": "A fault occurred on a piece of our electrical equipment which controls the power to your home.",
         "estimated_restored_time": "2021-04-05T18:30:00",
         "incident_active": false,
         "planned_time": null,
         "postcodes_impacted": [
          "W106TU",
          "W106TX",
          "W106UB",
          "W106UD",
          "W106UH",
          "W106UJ",
          "W1P1LN",
          "W1T4ED"
         ],
         "received_time": "2021-04-05T15:10:00",
         "restored_time": "2021-04-05T17:14:47.557"
        },
        "INCD-316946-U": {
         "description": "An underground electricity cable faulted on our high voltage network, causing an area wide power cut.",
         "estimated_restored_time": "2021-03-25T13:30:00",
         "incident_active": false,
         "planned_time": null,
         "postcodes_impacted": [
          "ME144RD",
          "RH104US",
          "TN118AL",
          "TN118AP",
          "TN118AR",
          "TN118AS",
          "TN235ES",
          "TN30BD",
          "TN30JG",
          "TN30JP",
          "TN30JR",
          "TN30JU",
          "TN30JW",
          "TN30JX",
          "TN30JY",
          "TN30NR",
          "TN30PH",
          "TN30RA",
          "TN30RB",
          "TN30RH",
          "TN39JH",
          "TN39LY",
          "TN39LZ",
          "TN39NA",
          "TN39SR",
          "TN39TD",
          "TN39TE",
          "TN39TL"
         ],
         "received_time": "2021-03-25T08:39:30",
         "restored_time": "2021-04-05T10:43:59.543"
        },
        "INCD-317009-U": {
         "description": "We were investigating an electricity cable that was damaged, causing a power cut in the local area.",
         "estimated_restored_time": "2021-04-02T15:30:00",
         "incident_active": false,
         "planned_time": null,
         "postcodes_impacted": [
          "TN240HY",
          "TN240NS",
          "TN240NY",
          "TN240NZ",
          "TN240QU",
          "TN240QX",
          "TN240QY",
          "TN240ST",
          "TN240TD",
          "TN240TH"
         ],
         "received_time": "2021-04-01T15:43:00",
         "restored_time": "2021-04-05T10:13:25.197"
        },
        "INCD-43889-C": {
         "description": "We had to turn off power in your area so our engineers could safely carry out emergency repairs to the network.",
         "estimated_restored_time": "2021-04-05T18:00:00",
         "incident_active": true,
         "planned_time": null,
         "postcodes_impacted": [
          "CO45JL",
          "CO45JN",
          "CO45JT"
         ],
         "received_time": "2021-04-05T16:39:00",
         "restored_time": null
        },
        "INCD-43890-C": {
         "description": "A fault occurred on an underground electricity cable affecting the local area.",
         "estimated_restored_time": null,
         "incident_active": true,
         "planned_time": null,
         "postcodes_impacted": [
          "EN13ED",
          "EN13EF",
          "EN13EG",
          "EN26BN",
          "EN26LE"
         ],
         "received_time": "2021-04-05T12:48:40",
         "restored_time": null
        },
        "INCD-43891-C": {
         "description": "We were investigating an overhead electricity line fault which caused a power cut in the local area.",
         "estimated_restored_time": "2021-04-05T15:00:00",
         "incident_active": false,
         "planned_time": null,
         "postcodes_impacted": [
          "IP173QS",
          "IP173QT"
         ],
         "received_time": "2021-04-05T14:01:00",
         "restored_time": "2021-04-05T15:18:14.073"
        },
        "INCD-43892-C": {
         "description": "A fault occurred on a piece of our electrical equipment which controls the power to your home.",
         "estimated_restored_time": "2021-04-05T18:30:00",
         "incident_active": false,
         "planned_time": null,
         "postcodes_impacted": [
          "CM26HX",
          "CM26HZ",
          "CM26JE",
          "CM26JG",
          "CM26JY"
         ],
         "received_time": "2021-04-05T15:25:00",
         "restored_time": "2021-04-05T16:52:43.677"
        },
        "INCD-53443-V": {
         "description": "A fault occurred on an underground electricity cable affecting the local area.",
         "estimated_restored_time": "2021-03-29T21:00:00",
         "incident_active": false,
         "planned_time": null,
         "postcodes_impacted": [
          "ME71AU",
          "ME71AX",
          "ME71BJ",
          "ME71BL",
          "ME71BN",
          "ME71BS",
          "ME71BW",
          "ME71BZ",
          "ME71DD",
          "ME71DE",
          "ME71DG",
          "ME71DW",
          "ME71DY",
          "ME71EB",
          "ME71EZ",
          "ME71HD",
          "ME75EW",
          "ME75TP",
          "ME75TX"
         ],
         "received_time": "2021-03-29T09:23:00",
         "restored_time": "2021-04-05T10:17:39.397"
        },
        "INCD-53654-V": {
         "description": "A fault occurred on an underground electricity cable affecting the local area.",
         "estimated_restored_time": null,
         "incident_active": false,
         "planned_time": null,
         "postcodes_impacted": [
          "CT170ES",
          "CT170ET",
          "CT170EX",
          "CT170EY",
          "CT170EZ",
          "CT170HA",
          "CT170HB",
          "CT170HE",
          "CT170HF",
          "CT170HG",
          "CT170HQ",
          "CT170JA"
         ],
         "received_time": "2021-03-31T17:16:00",
         "restored_time": "2021-04-05T10:17:54.523"
        },
        "INCD-53771-V": {
         "description": "A fault occurred on an underground electricity cable affecting the local area.",
         "estimated_restored_time": null,
         "incident_active": false,
         "planned_time": null,
         "postcodes_impacted": [
          "CT93AT",
          "CT93AU",
          "CT93AX",
          "CT93AY",
          "CT93AZ",
          "CT93BB",
          "CT93BJ",
          "CT93BL",
          "CT93BN",
          "CT93BP",
          "CT93BT",
          "CT93BU",
          "CT93BW",
          "CT93BX",
          "CT93BZ",
          "CT93DA",
          "CT93LX",
          "CT93LY",
          "CT93LZ",
          "CT93NA",
          "CT93PB",
          "CT93PD",
          "CT93PE",
          "CT93PF",
          "CT93PG",
          "CT93PH",
          "CT93PQ"
         ],
         "received_time": "2021-04-02T14:35:00",
         "restored_time": "2021-04-05T10:20:04.663"
        },
        "INCD-53827-V": {
         "description": "A fault occurred on a piece of our electrical equipment which controls the power to your home.",
         "estimated_restored_time": "2021-04-05T12:00:00",
         "incident_active": false,
         "planned_time": null,
         "postcodes_impacted": [
          "TN172JU",
          "TN172JX",
          "TN172JZ"
         ],
         "received_time": "2021-04-05T06:49:00",
         "restored_time": "2021-04-05T11:41:58.903"
        },
        "INCD-53828-V": {
         "description": "A fault occurred on a piece of our electrical equipment which controls the power to your home.",
         "estimated_restored_time": "2021-04-05T12:00:00",
         "incident_active": false,
         "planned_time": null,
         "postcodes_impacted": [
          "TN163DA",
          "TN163DB",
          "TN163DD",
          "TN163DF",
          "TN163DG",
          "TN163DN",
          "TN163DP",
          "TN163DW",
          "TN163XR",
          "TN163XS",
          "TN163XT"
         ],
         "received_time": "2021-04-05T07:31:00",
         "restored_time": "2021-04-05T08:34:13.69"
        },
        "INCD-53830-V": {
         "description": "A fault occurred on a piece of our electrical equipment which controls the power to your home.",
         "estimated_restored_time": null,
         "incident_active": false,
         "planned_time": null,
         "postcodes_impacted": [
          "TN197DP",
          "TN197DR"
         ],
         "received_time": "2021-04-05T08:49:00",
         "restored_time": "2021-04-05T10:44:51.547"
        },
        "INCD-53835-V": {
         "description": "A fault occurred on an underground electricity cable affecting the local area.",
         "estimated_restored_time": null,
         "incident_active": false,
         "planned_time": null,
         "postcodes_impacted": [
          "BN21DJ",
          "BN21EF",
          "BN21EH",
          "BN21EJ",
          "BN21EL",
          "BN21EP",
          "BN21ER",
          "BN21FA",
          "BN21FU"
         ],
         "received_time": "2021-04-05T10:55:00",
         "restored_time": "2021-04-05T17:33:10.003"
        },
        "INCD-8407-L": {
         "description": "A fault occurred on a piece of our electrical equipment which controls the power to your home.",
         "estimated_restored_time": null,
         "incident_active": false,
         "planned_time": null,
         "postcodes_impacted": [
          "IG110NZ",
          "IG110QG"
         ],
         "received_time": "2021-04-05T06:05:00",
         "restored_time": "2021-04-05T07:39:00.067"
        }
       }
      ],
      "text/plain": [
       "<IPython.core.display.JSON object>"
      ]
     },
     "execution_count": 16,
     "metadata": {
      "application/json": {
       "expanded": false,
       "root": "root"
      }
     },
     "output_type": "execute_result"
    }
   ],
   "source": [
    "raw_incidents_info, cleaned_incidents_info = get_ukpn_incidents_info()\n",
    "\n",
    "JSON([cleaned_incidents_info])"
   ]
  },
  {
   "cell_type": "code",
   "execution_count": null,
   "id": "hazardous-bride",
   "metadata": {},
   "outputs": [],
   "source": []
  },
  {
   "cell_type": "code",
   "execution_count": 17,
   "id": "knowing-vegetation",
   "metadata": {},
   "outputs": [],
   "source": [
    "#exports\n",
    "def save_json_data(data, filename, data_dir='../data/raw'):\n",
    "    with open(f'{data_dir}/{filename}.json', 'w') as fp:\n",
    "        json.dump(data, fp)"
   ]
  },
  {
   "cell_type": "code",
   "execution_count": 18,
   "id": "other-consolidation",
   "metadata": {},
   "outputs": [],
   "source": [
    "save_json_data(raw_incidents_info, 'ukpn_incidents_info')"
   ]
  },
  {
   "cell_type": "markdown",
   "id": "oriental-performance",
   "metadata": {},
   "source": [
    "<br>\n",
    "\n",
    "### Scottish & Southern Electricity Networks\n",
    "\n",
    "https://www.ssen.co.uk/Powertrack/\n",
    "\n",
    "N.b. we occasionaly get date values of: `Date(-62135596800000)`. This occurs when no date can be found so we will set these to `None`."
   ]
  },
  {
   "cell_type": "code",
   "execution_count": 19,
   "id": "local-blackberry",
   "metadata": {},
   "outputs": [
    {
     "name": "stderr",
     "output_type": "stream",
     "text": [
      "C:\\Users\\Ayrto\\anaconda3\\envs\\outage\\lib\\site-packages\\urllib3\\connectionpool.py:1020: InsecureRequestWarning: Unverified HTTPS request is being made to host 'www.ssen.co.uk'. Adding certificate verification is strongly advised. See: https://urllib3.readthedocs.io/en/latest/advanced-usage.html#ssl-warnings\n",
      "  InsecureRequestWarning,\n"
     ]
    },
    {
     "data": {
      "application/json": {
       "Faults": [
        {
         "AffectedAreas": [
          "AB31 6DB",
          "AB31 6DD",
          "AB31 6DE",
          "AB31 6DH",
          "AB31 6DJ",
          "AB31 6DL",
          "AB31 6JT",
          "AB31 6JU",
          "AB31 6JY",
          "AB31 6LA",
          "AB31 6LB",
          "AB31 6LD",
          "AB31 6LH"
         ],
         "DepotCode": "24",
         "EstimatedArrivalOnSiteUtc": "/Date(-62135596800000)/",
         "EstimatedFaultUpdateTimeUtc": "/Date(-62135596800000)/",
         "EstimatedRestorationTimeUtc": "/Date(1617643800000)/",
         "FaultType": "HV",
         "IsDepot": false,
         "Location": {
          "DisplayText": "57.023025157546918, -2.4308861902173069",
          "Latitude": 57.02302515754692,
          "Longitude": -2.430886190217307
         },
         "LoggedAtUtc": "/Date(1617635940000)/",
         "Message": "We’re sorry for the loss of supply. We currently have a fault affecting the areas listed. Our engineers are on site working hard to get the power back on as quickly as they can. If you need more information, please call us on 105 or send us a message on <a href=\"http://m.me/ssencommunity/\">Facebook</a> or Twitter (<a href=\"https://twitter.com/ssencommunity\">@ssencommunity</a>) and quote reference 'HB2540'",
         "Reference": "HB2540",
         "Title": "AB31 Area"
        },
        {
         "AffectedAreas": [
          "AB53 8NL",
          "AB53 8SB",
          "AB53 8SL"
         ],
         "DepotCode": "24",
         "EstimatedArrivalOnSiteUtc": "/Date(-62135596800000)/",
         "EstimatedFaultUpdateTimeUtc": "/Date(-62135596800000)/",
         "EstimatedRestorationTimeUtc": "/Date(1617642000000)/",
         "FaultType": "LV",
         "IsDepot": false,
         "Location": {
          "DisplayText": "57.465330280274834, -2.3490976504308572",
          "Latitude": 57.465330280274834,
          "Longitude": -2.349097650430857
         },
         "LoggedAtUtc": "/Date(1617627300000)/",
         "Message": "We’re sorry for the loss of supply. We currently have a fault affecting the areas listed. Our engineers are on site working hard to get the power back on as quickly as they can. If you need more information, please call us on 105 or send us a message on <a href=\"http://m.me/ssencommunity/\">Facebook</a> or Twitter (<a href=\"https://twitter.com/ssencommunity\">@ssencommunity</a>) and quote reference 'HB2459'",
         "Reference": "HB2459",
         "Title": "AB53 Area"
        },
        {
         "AffectedAreas": [
          "SL5 7JY",
          "SL5 7JZ",
          "SL5 8DE",
          "SL5 8DH",
          "SL5 8DQ",
          "SL5 8EP",
          "SL5 8EW",
          "SL5 8TA",
          "SL5 8TB",
          "SL5 8TH",
          "SL5 8TJ",
          "SL5 8TP",
          "SL5 8TW",
          "SL5 8TZ"
         ],
         "DepotCode": "32",
         "EstimatedArrivalOnSiteUtc": "/Date(-62135596800000)/",
         "EstimatedFaultUpdateTimeUtc": "/Date(1617652800000)/",
         "EstimatedRestorationTimeUtc": "/Date(-62135596800000)/",
         "FaultType": "HV",
         "IsDepot": false,
         "Location": {
          "DisplayText": "51.412567418342583, -0.69289159409634116",
          "Latitude": 51.41256741834258,
          "Longitude": -0.6928915940963412
         },
         "LoggedAtUtc": "/Date(1617615360000)/",
         "Message": "We’re sorry for the loss of supply. We currently have a fault affecting the areas listed. Our engineers are working hard to get the power back on as quickly as they can. If you need more information, please call us on 105 or send us a message on <a href=\"http://m.me/ssencommunity/\">Facebook</a> or Twitter (<a href=\"https://twitter.com/ssencommunity\">@ssencommunity</a>) and quote reference 'HB2253'",
         "Reference": "HB2253",
         "Title": "SL5 Area"
        },
        {
         "AffectedAreas": [
          "AB45 3EQ",
          "AB45 3ER",
          "AB45 3ES",
          "AB45 3SB"
         ],
         "DepotCode": "24",
         "EstimatedArrivalOnSiteUtc": "/Date(-62135596800000)/",
         "EstimatedFaultUpdateTimeUtc": "/Date(-62135596800000)/",
         "EstimatedRestorationTimeUtc": "/Date(1617642900000)/",
         "FaultType": "HV",
         "IsDepot": false,
         "Location": {
          "DisplayText": "57.659772373914748, -2.3837950930503369",
          "Latitude": 57.65977237391475,
          "Longitude": -2.383795093050337
         },
         "LoggedAtUtc": "/Date(1617613920000)/",
         "Message": "We’re sorry for the loss of supply. We currently have a fault affecting the areas listed. Our engineers are on site working hard to get the power back on as quickly as they can. If you need more information, please call us on 105 or send us a message on <a href=\"http://m.me/ssencommunity/\">Facebook</a> or Twitter (<a href=\"https://twitter.com/ssencommunity\">@ssencommunity</a>) and quote reference 'HB2299'",
         "Reference": "HB2299",
         "Title": "AB45 Area"
        },
        {
         "AffectedAreas": [
          "ZE2 9HL",
          "ZE2 9QG",
          "ZE2 9QN",
          "ZE2 9QW",
          "ZE2 9RD",
          "ZE2 9RE",
          "ZE2 9RF",
          "ZE2 9RN",
          "ZE2 9RT",
          "ZE2 9RU",
          "ZE2 9ST",
          "ZE2 9SZ",
          "ZE2 9TT",
          "ZE2 9TZ",
          "ZE2 9UA",
          "ZE2 9WL"
         ],
         "DepotCode": "50",
         "EstimatedArrivalOnSiteUtc": "/Date(1617636600000)/",
         "EstimatedFaultUpdateTimeUtc": "/Date(-62135596800000)/",
         "EstimatedRestorationTimeUtc": "/Date(1617643800000)/",
         "FaultType": "HV",
         "IsDepot": false,
         "Location": {
          "DisplayText": "60.389680330456038, -1.3584233469230354",
          "Latitude": 60.38968033045604,
          "Longitude": -1.3584233469230353
         },
         "LoggedAtUtc": "/Date(1617612660000)/",
         "Message": "We’re sorry for the loss of supply. We currently have a fault affecting the areas listed. Our engineers are on site working hard to get the power back on as quickly as they can. If you need more information, please call us on 105 or send us a message on <a href=\"http://m.me/ssencommunity/\">Facebook</a> or Twitter (<a href=\"https://twitter.com/ssencommunity\">@ssencommunity</a>) and quote reference 'HB2286'",
         "Reference": "HB2286",
         "Title": "ZE2 Area"
        },
        {
         "AffectedAreas": [
          "HP12 4AJ",
          "HP12 4AP",
          "HP13 5XN",
          "HP13 5YD",
          "HP13 5YE",
          "HP13 5YF",
          "HP13 5YG",
          "HP13 5YH",
          "HP13 5YJ",
          "HP13 5YL",
          "HP13 5YN",
          "HP13 5YQ",
          "HP14 4QY",
          "HP14 4RG",
          "HP14 4RH",
          "HP14 4RJ",
          "HP14 4RQ"
         ],
         "DepotCode": "47",
         "EstimatedArrivalOnSiteUtc": "/Date(1617557400000)/",
         "EstimatedFaultUpdateTimeUtc": "/Date(-62135596800000)/",
         "EstimatedRestorationTimeUtc": "/Date(1617645600000)/",
         "FaultType": "HV",
         "IsDepot": false,
         "Location": {
          "DisplayText": "51.655909634332723, -0.77657387097072228",
          "Latitude": 51.65590963433272,
          "Longitude": -0.7765738709707223
         },
         "LoggedAtUtc": "/Date(1617545460000)/",
         "Message": "We’re sorry for the loss of supply. We currently have a fault affecting the areas listed. Our engineers are on site working hard to get the power back on as quickly as they can. If you need more information, please call us on 105 or send us a message on <a href=\"http://m.me/ssencommunity/\">Facebook</a> or Twitter (<a href=\"https://twitter.com/ssencommunity\">@ssencommunity</a>) and quote reference 'HB1965'",
         "Reference": "HB1965",
         "Title": "HP13 Area"
        }
       ],
       "Message": "6 reported faults",
       "TimestampUtc": "/Date(1617642018000)/",
       "Uri": "http://api.sse.com/powerdistribution/network/v3/api/faults/"
      },
      "text/plain": [
       "<IPython.core.display.JSON object>"
      ]
     },
     "execution_count": 19,
     "metadata": {
      "application/json": {
       "expanded": false,
       "root": "root"
      }
     },
     "output_type": "execute_result"
    }
   ],
   "source": [
    "url = 'https://www.ssen.co.uk/Sse_Components/Views/Controls/FormControls/PowerTrackHandler.ashx'\n",
    "\n",
    "r_json = requests.get(url, verify=False).json()\n",
    "\n",
    "JSON(r_json)"
   ]
  },
  {
   "cell_type": "code",
   "execution_count": null,
   "id": "linear-atlantic",
   "metadata": {},
   "outputs": [],
   "source": []
  },
  {
   "cell_type": "code",
   "execution_count": 27,
   "id": "spanish-bubble",
   "metadata": {},
   "outputs": [],
   "source": [
    "#exports\n",
    "def clean_ssen_incident_info(incident):\n",
    "    ssen_relevant_dates_name_mapping = { \n",
    "        'LoggedAtUtc': 'received_time',\n",
    "        'EstimatedArrivalOnSiteUtc': 'estimated_arrival_time',\n",
    "        'EstimatedRestorationTimeUtc': 'estimated_restored_time'\n",
    "     }\n",
    "\n",
    "    cleaned_incident_info = dict()\n",
    "\n",
    "    for old_dt_name, new_dt_name in ssen_relevant_dates_name_mapping.items():\n",
    "        dt_str = incident[old_dt_name].split('(')[1].split(')')[0]\n",
    "\n",
    "        if dt_str != '-62135596800000':\n",
    "            try:\n",
    "                dt = pd.to_datetime(int(dt_str)*1e6).strftime('%Y-%m-%d %H:%M:%S')\n",
    "            except:\n",
    "                warn(f'{dt_str} could not be parsed to a date')\n",
    "                dt = None\n",
    "        else:\n",
    "            dt = None\n",
    "\n",
    "        cleaned_incident_info[new_dt_name] = dt\n",
    "\n",
    "    cleaned_incident_info['postcodes_impacted'] = incident['AffectedAreas']\n",
    "    cleaned_incident_info['description'] = incident['Message']\n",
    "    cleaned_incident_info['incident_active'] = True\n",
    "    cleaned_incident_info['incident_url'] = 'https://www.ssen.co.uk/Powertrack/'\n",
    "    \n",
    "    return cleaned_incident_info"
   ]
  },
  {
   "cell_type": "code",
   "execution_count": null,
   "id": "advance-maria",
   "metadata": {},
   "outputs": [],
   "source": []
  },
  {
   "cell_type": "code",
   "execution_count": 28,
   "id": "published-ethernet",
   "metadata": {},
   "outputs": [
    {
     "data": {
      "application/json": {
       "description": "We’re sorry for the loss of supply. We currently have a fault affecting the areas listed. Our engineers are on site working hard to get the power back on as quickly as they can. If you need more information, please call us on 105 or send us a message on <a href=\"http://m.me/ssencommunity/\">Facebook</a> or Twitter (<a href=\"https://twitter.com/ssencommunity\">@ssencommunity</a>) and quote reference 'HB2540'",
       "estimated_arrival_time": null,
       "estimated_restored_time": "2021-04-05 17:30:00",
       "incident_active": true,
       "incident_url": "https://www.ukpowernetworks.co.uk/power-cut/map?incidentid=HB2540",
       "postcodes_impacted": [
        "AB31 6DB",
        "AB31 6DD",
        "AB31 6DE",
        "AB31 6DH",
        "AB31 6DJ",
        "AB31 6DL",
        "AB31 6JT",
        "AB31 6JU",
        "AB31 6JY",
        "AB31 6LA",
        "AB31 6LB",
        "AB31 6LD",
        "AB31 6LH"
       ],
       "received_time": "2021-04-05 15:19:00"
      },
      "text/plain": [
       "<IPython.core.display.JSON object>"
      ]
     },
     "execution_count": 28,
     "metadata": {
      "application/json": {
       "expanded": false,
       "root": "root"
      }
     },
     "output_type": "execute_result"
    }
   ],
   "source": [
    "incident = r_json['Faults'][0]\n",
    "\n",
    "cleaned_incident_info = clean_ssen_incident_info(incident)\n",
    "    \n",
    "JSON(cleaned_incident_info)"
   ]
  },
  {
   "cell_type": "code",
   "execution_count": null,
   "id": "burning-collaboration",
   "metadata": {},
   "outputs": [],
   "source": []
  },
  {
   "cell_type": "code",
   "execution_count": 22,
   "id": "capable-median",
   "metadata": {},
   "outputs": [],
   "source": [
    "#exports\n",
    "def get_ssen_incidents_info(incidents_url='https://www.ssen.co.uk/Sse_Components/Views/Controls/FormControls/PowerTrackHandler.ashx'):\n",
    "    raw_incidents_info = requests.get(incidents_url, verify=False).json()\n",
    "    cleaned_incidents_info = dict()\n",
    "\n",
    "    for incident in track(raw_incidents_info['Faults']):\n",
    "        incident_ref = incident['Reference']\n",
    "        cleaned_incidents_info[incident_ref] = clean_ssen_incident_info(incident)\n",
    "        \n",
    "    return raw_incidents_info, cleaned_incidents_info"
   ]
  },
  {
   "cell_type": "code",
   "execution_count": 23,
   "id": "american-europe",
   "metadata": {},
   "outputs": [
    {
     "name": "stderr",
     "output_type": "stream",
     "text": [
      "C:\\Users\\Ayrto\\anaconda3\\envs\\outage\\lib\\site-packages\\urllib3\\connectionpool.py:1020: InsecureRequestWarning: Unverified HTTPS request is being made to host 'www.ssen.co.uk'. Adding certificate verification is strongly advised. See: https://urllib3.readthedocs.io/en/latest/advanced-usage.html#ssl-warnings\n",
      "  InsecureRequestWarning,\n"
     ]
    },
    {
     "data": {
      "text/html": [
       "<div><span class=\"Text-label\" style=\"display:inline-block; overflow:hidden; white-space:nowrap; text-overflow:ellipsis; min-width:0; max-width:15ex; vertical-align:middle; text-align:right\"></span>\n",
       "<progress style=\"width:60ex\" max=\"6\" value=\"6\" class=\"Progress-main\"/></progress>\n",
       "<span class=\"Progress-label\"><strong>100%</strong></span>\n",
       "<span class=\"Iteration-label\">6/6</span>\n",
       "<span class=\"Time-label\">[00:00<00:00, 0.00s/it]</span></div>"
      ],
      "text/plain": [
       "\u001b[A\u001b[2K\r",
       " [████████████████████████████████████████████████████████████] 6/6 [00:00<00:00, 0.00s/it]"
      ]
     },
     "metadata": {},
     "output_type": "display_data"
    },
    {
     "data": {
      "application/json": [
       {
        "HB1965": {
         "description": "We’re sorry for the loss of supply. We currently have a fault affecting the areas listed. Our engineers are on site working hard to get the power back on as quickly as they can. If you need more information, please call us on 105 or send us a message on <a href=\"http://m.me/ssencommunity/\">Facebook</a> or Twitter (<a href=\"https://twitter.com/ssencommunity\">@ssencommunity</a>) and quote reference 'HB1965'",
         "estimated_arrival_time": "2021-04-04 17:30:00",
         "estimated_restored_time": "2021-04-05 18:00:00",
         "incident_active": true,
         "postcodes_impacted": [
          "HP12 4AJ",
          "HP12 4AP",
          "HP13 5XN",
          "HP13 5YD",
          "HP13 5YE",
          "HP13 5YF",
          "HP13 5YG",
          "HP13 5YH",
          "HP13 5YJ",
          "HP13 5YL",
          "HP13 5YN",
          "HP13 5YQ",
          "HP14 4QY",
          "HP14 4RG",
          "HP14 4RH",
          "HP14 4RJ",
          "HP14 4RQ"
         ],
         "received_time": "2021-04-04 14:11:00"
        },
        "HB2253": {
         "description": "We’re sorry for the loss of supply. We currently have a fault affecting the areas listed. Our engineers are working hard to get the power back on as quickly as they can. If you need more information, please call us on 105 or send us a message on <a href=\"http://m.me/ssencommunity/\">Facebook</a> or Twitter (<a href=\"https://twitter.com/ssencommunity\">@ssencommunity</a>) and quote reference 'HB2253'",
         "estimated_arrival_time": null,
         "estimated_restored_time": null,
         "incident_active": true,
         "postcodes_impacted": [
          "SL5 7JY",
          "SL5 7JZ",
          "SL5 8DE",
          "SL5 8DH",
          "SL5 8DQ",
          "SL5 8EP",
          "SL5 8EW",
          "SL5 8TA",
          "SL5 8TB",
          "SL5 8TH",
          "SL5 8TJ",
          "SL5 8TP",
          "SL5 8TW",
          "SL5 8TZ"
         ],
         "received_time": "2021-04-05 09:36:00"
        },
        "HB2286": {
         "description": "We’re sorry for the loss of supply. We currently have a fault affecting the areas listed. Our engineers are on site working hard to get the power back on as quickly as they can. If you need more information, please call us on 105 or send us a message on <a href=\"http://m.me/ssencommunity/\">Facebook</a> or Twitter (<a href=\"https://twitter.com/ssencommunity\">@ssencommunity</a>) and quote reference 'HB2286'",
         "estimated_arrival_time": "2021-04-05 15:30:00",
         "estimated_restored_time": "2021-04-05 17:30:00",
         "incident_active": true,
         "postcodes_impacted": [
          "ZE2 9HL",
          "ZE2 9QG",
          "ZE2 9QN",
          "ZE2 9QW",
          "ZE2 9RD",
          "ZE2 9RE",
          "ZE2 9RF",
          "ZE2 9RN",
          "ZE2 9RT",
          "ZE2 9RU",
          "ZE2 9ST",
          "ZE2 9SZ",
          "ZE2 9TT",
          "ZE2 9TZ",
          "ZE2 9UA",
          "ZE2 9WL"
         ],
         "received_time": "2021-04-05 08:51:00"
        },
        "HB2299": {
         "description": "We’re sorry for the loss of supply. We currently have a fault affecting the areas listed. Our engineers are on site working hard to get the power back on as quickly as they can. If you need more information, please call us on 105 or send us a message on <a href=\"http://m.me/ssencommunity/\">Facebook</a> or Twitter (<a href=\"https://twitter.com/ssencommunity\">@ssencommunity</a>) and quote reference 'HB2299'",
         "estimated_arrival_time": null,
         "estimated_restored_time": "2021-04-05 17:15:00",
         "incident_active": true,
         "postcodes_impacted": [
          "AB45 3EQ",
          "AB45 3ER",
          "AB45 3ES",
          "AB45 3SB"
         ],
         "received_time": "2021-04-05 09:12:00"
        },
        "HB2459": {
         "description": "We’re sorry for the loss of supply. We currently have a fault affecting the areas listed. Our engineers are on site working hard to get the power back on as quickly as they can. If you need more information, please call us on 105 or send us a message on <a href=\"http://m.me/ssencommunity/\">Facebook</a> or Twitter (<a href=\"https://twitter.com/ssencommunity\">@ssencommunity</a>) and quote reference 'HB2459'",
         "estimated_arrival_time": null,
         "estimated_restored_time": "2021-04-05 17:00:00",
         "incident_active": true,
         "postcodes_impacted": [
          "AB53 8NL",
          "AB53 8SB",
          "AB53 8SL"
         ],
         "received_time": "2021-04-05 12:55:00"
        },
        "HB2540": {
         "description": "We’re sorry for the loss of supply. We currently have a fault affecting the areas listed. Our engineers are on site working hard to get the power back on as quickly as they can. If you need more information, please call us on 105 or send us a message on <a href=\"http://m.me/ssencommunity/\">Facebook</a> or Twitter (<a href=\"https://twitter.com/ssencommunity\">@ssencommunity</a>) and quote reference 'HB2540'",
         "estimated_arrival_time": null,
         "estimated_restored_time": "2021-04-05 17:30:00",
         "incident_active": true,
         "postcodes_impacted": [
          "AB31 6DB",
          "AB31 6DD",
          "AB31 6DE",
          "AB31 6DH",
          "AB31 6DJ",
          "AB31 6DL",
          "AB31 6JT",
          "AB31 6JU",
          "AB31 6JY",
          "AB31 6LA",
          "AB31 6LB",
          "AB31 6LD",
          "AB31 6LH"
         ],
         "received_time": "2021-04-05 15:19:00"
        }
       }
      ],
      "text/plain": [
       "<IPython.core.display.JSON object>"
      ]
     },
     "execution_count": 23,
     "metadata": {
      "application/json": {
       "expanded": false,
       "root": "root"
      }
     },
     "output_type": "execute_result"
    }
   ],
   "source": [
    "raw_incidents_info, cleaned_incidents_info = get_ssen_incidents_info()\n",
    "\n",
    "JSON([cleaned_incidents_info])"
   ]
  },
  {
   "cell_type": "code",
   "execution_count": null,
   "id": "popular-tokyo",
   "metadata": {},
   "outputs": [],
   "source": []
  },
  {
   "cell_type": "code",
   "execution_count": 24,
   "id": "seven-peter",
   "metadata": {
    "tags": []
   },
   "outputs": [],
   "source": [
    "save_json_data(raw_incidents_info, 'ssen_incidents_info')"
   ]
  },
  {
   "cell_type": "markdown",
   "id": "floral-patient",
   "metadata": {},
   "source": [
    "<br>\n",
    "\n",
    "### Western Power Distribution\n",
    "\n",
    "https://powercuts.westernpower.co.uk/"
   ]
  },
  {
   "cell_type": "code",
   "execution_count": 20,
   "id": "bacterial-quarterly",
   "metadata": {},
   "outputs": [],
   "source": [
    "#exports\n",
    "def get_wpd_incident_feed(url='https://powercuts.westernpower.co.uk'):\n",
    "    r = requests.get(url)\n",
    "\n",
    "    raw_incidents_info = json.loads(html.unescape(r.text.split('data-ng-init=\"init(')[1].split(')\"></div><div id=\"powercuts\"')[0]))\n",
    "    feed = json.loads(raw_incidents_info['feed'])\n",
    "    \n",
    "    return feed"
   ]
  },
  {
   "cell_type": "code",
   "execution_count": 21,
   "id": "accepted-campus",
   "metadata": {},
   "outputs": [
    {
     "data": {
      "application/json": {
       "incidents": [
        {
         "id": "INCD-125132-B",
         "loc": [
          51.35567,
          -2.960672
         ]
        },
        {
         "id": "INCD-125145-B",
         "loc": [
          50.19824,
          -4.978426
         ]
        },
        {
         "id": "INCD-125125-B",
         "loc": [
          50.97548,
          -3.232438
         ]
        },
        {
         "id": "INCD-125121-B",
         "loc": [
          50.82392,
          -3.092542
         ]
        },
        {
         "id": "INCD-357153-G",
         "loc": [
          51.70216,
          -2.611251
         ]
        },
        {
         "id": "INCD-151823-H",
         "loc": [
          52.94644,
          -1.492184
         ]
        },
        {
         "id": "INCD-151800-H",
         "loc": [
          52.77649,
          -1.557461
         ]
        }
       ],
       "lastUpdated": 1617643080000
      },
      "text/plain": [
       "<IPython.core.display.JSON object>"
      ]
     },
     "execution_count": 21,
     "metadata": {
      "application/json": {
       "expanded": false,
       "root": "root"
      }
     },
     "output_type": "execute_result"
    }
   ],
   "source": [
    "feed = get_wpd_incident_feed()\n",
    "\n",
    "JSON(feed)"
   ]
  },
  {
   "cell_type": "code",
   "execution_count": null,
   "id": "unable-oklahoma",
   "metadata": {},
   "outputs": [],
   "source": []
  },
  {
   "cell_type": "code",
   "execution_count": 22,
   "id": "accomplished-fabric",
   "metadata": {
    "tags": []
   },
   "outputs": [
    {
     "data": {
      "text/plain": [
       "['INCD-125132-B',\n",
       " 'INCD-125145-B',\n",
       " 'INCD-125125-B',\n",
       " 'INCD-125121-B',\n",
       " 'INCD-357153-G']"
      ]
     },
     "execution_count": 22,
     "metadata": {},
     "output_type": "execute_result"
    }
   ],
   "source": [
    "incident_ids = [incident['id'] for incident in feed['incidents']]\n",
    "\n",
    "incident_ids[:5]"
   ]
  },
  {
   "cell_type": "code",
   "execution_count": null,
   "id": "resistant-blair",
   "metadata": {},
   "outputs": [],
   "source": []
  },
  {
   "cell_type": "code",
   "execution_count": 23,
   "id": "monthly-alpha",
   "metadata": {},
   "outputs": [],
   "source": [
    "#exports\n",
    "wpd_incident_id_to_url = lambda incident_id: f'https://powercuts.westernpower.co.uk/__powercuts/getIncidentById?incidentId={incident_id}'"
   ]
  },
  {
   "cell_type": "code",
   "execution_count": 24,
   "id": "average-hindu",
   "metadata": {},
   "outputs": [
    {
     "data": {
      "application/json": {
       "areas": [
        "BS23"
       ],
       "confirmedOff": 0,
       "etr": 1617652800000,
       "id": "INCD-125132-B",
       "lastUpdated": 1617643080000,
       "planned": false,
       "postcodes": [
        "BS23 2UB",
        "BS23 2UE",
        "BS23 2UD"
       ],
       "predictedOff": 47,
       "priorityOff": 28,
       "region": "South West",
       "restored": 0,
       "startTime": 1617634560000,
       "status": "In Progress",
       "totalOff": 47,
       "voltage": "LV"
      },
      "text/plain": [
       "<IPython.core.display.JSON object>"
      ]
     },
     "execution_count": 24,
     "metadata": {
      "application/json": {
       "expanded": false,
       "root": "root"
      }
     },
     "output_type": "execute_result"
    }
   ],
   "source": [
    "incident_id = incident_ids[0]\n",
    "\n",
    "incident_url = wpd_incident_id_to_url(incident_id)\n",
    "r_json = requests.get(incident_url).json()\n",
    "\n",
    "JSON(r_json)"
   ]
  },
  {
   "cell_type": "code",
   "execution_count": null,
   "id": "infrared-spank",
   "metadata": {},
   "outputs": [],
   "source": []
  },
  {
   "cell_type": "code",
   "execution_count": 26,
   "id": "shaped-workshop",
   "metadata": {},
   "outputs": [],
   "source": [
    "#exports\n",
    "def clean_wpd_incident_info(incident):\n",
    "    wpd_relevant_dates_name_mapping = { \n",
    "        'startTime': 'received_time',\n",
    "        'etr': 'estimated_restored_time'\n",
    "     }\n",
    "\n",
    "    cleaned_incident_info = dict()\n",
    "\n",
    "    for old_dt_name, new_dt_name in wpd_relevant_dates_name_mapping.items():\n",
    "        if incident[old_dt_name] is not None:\n",
    "            cleaned_incident_info[new_dt_name] = pd.to_datetime(incident[old_dt_name]*1e6).strftime('%Y-%m-%d %H:%M:%S')\n",
    "        else:\n",
    "            cleaned_incident_info[new_dt_name] = None\n",
    "\n",
    "    cleaned_incident_info['postcodes_impacted'] = incident['postcodes']\n",
    "    cleaned_incident_info['description'] = incident['status']\n",
    "    cleaned_incident_info['incident_active'] = bool(1 - incident['restored'])\n",
    "    cleaned_incident_info['incident_url'] = f\"https://powercuts.westernpower.co.uk/incident/{incident['id']}\"\n",
    "    \n",
    "    return cleaned_incident_info"
   ]
  },
  {
   "cell_type": "code",
   "execution_count": 28,
   "id": "single-palace",
   "metadata": {},
   "outputs": [
    {
     "data": {
      "application/json": {
       "description": "In Progress",
       "estimated_restored_time": "2021-04-05 20:00:00",
       "incident_active": true,
       "incident_url": "https://powercuts.westernpower.co.uk/incident/INCD-125132-B",
       "postcodes_impacted": [
        "BS23 2UB",
        "BS23 2UE",
        "BS23 2UD"
       ],
       "received_time": "2021-04-05 14:56:00"
      },
      "text/plain": [
       "<IPython.core.display.JSON object>"
      ]
     },
     "execution_count": 28,
     "metadata": {
      "application/json": {
       "expanded": false,
       "root": "root"
      }
     },
     "output_type": "execute_result"
    }
   ],
   "source": [
    "JSON(clean_wpd_incident_info(r_json))"
   ]
  },
  {
   "cell_type": "code",
   "execution_count": null,
   "id": "divine-apple",
   "metadata": {},
   "outputs": [],
   "source": []
  },
  {
   "cell_type": "code",
   "execution_count": null,
   "id": "australian-growth",
   "metadata": {},
   "outputs": [],
   "source": [
    "#exports\n",
    "def get_wpd_incidents_info(incidents_url='https://powercuts.westernpower.co.uk'):\n",
    "    cleaned_incidents_info = dict()\n",
    "    \n",
    "    raw_incidents_info = get_wpd_incident_feed(incidents_url)\n",
    "    incident_ids = [incident['id'] for incident in raw_incidents_info['incidents']]\n",
    "\n",
    "    for incident_id in incident_ids:\n",
    "        incident_url = wpd_incident_id_to_url(incident_id)\n",
    "        r_json = requests.get(incident_url).json()\n",
    "        cleaned_incidents_info[incident_id] = clean_wpd_incident_info(r_json)\n",
    "        \n",
    "    return raw_incidents_info, cleaned_incidents_info"
   ]
  },
  {
   "cell_type": "code",
   "execution_count": null,
   "id": "floating-tobacco",
   "metadata": {},
   "outputs": [],
   "source": [
    "raw_incidents_info, cleaned_incidents_info = get_wpd_incidents_info()\n",
    "\n",
    "JSON(cleaned_incidents_info)"
   ]
  },
  {
   "cell_type": "code",
   "execution_count": null,
   "id": "chronic-slope",
   "metadata": {},
   "outputs": [],
   "source": []
  },
  {
   "cell_type": "code",
   "execution_count": null,
   "id": "subtle-workplace",
   "metadata": {},
   "outputs": [],
   "source": [
    "save_json_data(raw_incidents_info, 'wpd_incidents_info')"
   ]
  },
  {
   "cell_type": "markdown",
   "id": "australian-burke",
   "metadata": {},
   "source": [
    "<br>\n",
    "\n",
    "### Scottish Power Energy Networks\n",
    "\n",
    "https://www.spenergynetworks.co.uk/pages/power_cuts_list.aspx"
   ]
  },
  {
   "cell_type": "code",
   "execution_count": null,
   "id": "fewer-mount",
   "metadata": {},
   "outputs": [],
   "source": []
  },
  {
   "cell_type": "code",
   "execution_count": null,
   "id": "permanent-welcome",
   "metadata": {},
   "outputs": [],
   "source": []
  },
  {
   "cell_type": "code",
   "execution_count": null,
   "id": "reasonable-whole",
   "metadata": {},
   "outputs": [],
   "source": []
  },
  {
   "cell_type": "code",
   "execution_count": null,
   "id": "molecular-category",
   "metadata": {},
   "outputs": [],
   "source": []
  },
  {
   "cell_type": "markdown",
   "id": "starting-scoop",
   "metadata": {},
   "source": [
    "<br>\n",
    "\n",
    "### Northern Power Grid\n",
    "\n",
    "https://www.northernpowergrid.com/power-cuts"
   ]
  },
  {
   "cell_type": "code",
   "execution_count": null,
   "id": "liberal-titanium",
   "metadata": {},
   "outputs": [],
   "source": [
    "url = 'https://www.northernpowergrid.com/power-cuts'\n",
    "\n",
    "r = requests.get(url)\n",
    "soup = bs(r.text)\n",
    "\n",
    "soup.find('div', attrs={'role': 'table'})"
   ]
  },
  {
   "cell_type": "code",
   "execution_count": null,
   "id": "chubby-console",
   "metadata": {},
   "outputs": [],
   "source": []
  },
  {
   "cell_type": "code",
   "execution_count": null,
   "id": "metallic-freedom",
   "metadata": {},
   "outputs": [],
   "source": [
    "def _(main_url='https://www.northernpowergrid.com/power-cuts', data_url='https://www.northernpowergrid.com/powercutsgetallbyincno'):\n",
    "    session = requests.Session()\n",
    "\n",
    "    r = session.get(main_url)\n",
    "\n",
    "    data = {\n",
    "        'method': 'incno',\n",
    "        'typeFilters': '',\n",
    "        'timeFilters': '',\n",
    "        'postcodeFilter': '',\n",
    "        'categoryFilters': 'Service Cutout Change,Asset repairs by Troublecall,Metering,Emergency Disconnection,Emergency Disconnection (Charge),Cat A,Cat B,Cat C',\n",
    "        'authenticityToken': session.cookies['PLAY_SESSION'].split('AT=')[-1].replace('\"', '')\n",
    "    }\n",
    "\n",
    "    r = session.post(url, data=data)\n",
    "\n",
    "    data = json.loads(r.json()['data'])\n",
    "    \n",
    "    return data\n",
    "\n",
    "data = _()\n",
    "\n",
    "JSON(data)"
   ]
  },
  {
   "cell_type": "code",
   "execution_count": null,
   "id": "hundred-playlist",
   "metadata": {},
   "outputs": [],
   "source": []
  },
  {
   "cell_type": "markdown",
   "id": "bacterial-review",
   "metadata": {},
   "source": [
    "<br>\n",
    "\n",
    "### Electricity North West\n",
    "\n",
    "https://www.enwl.co.uk/power-cuts/"
   ]
  },
  {
   "cell_type": "code",
   "execution_count": null,
   "id": "delayed-complexity",
   "metadata": {},
   "outputs": [],
   "source": [
    "# need to handle page size and number\n",
    "'https://www.enwl.co.uk/power-outages/search?pageSize=10&postcodeOrReferenceNumber=&pageNumber=2&includeCurrent=true&includeResolved=true&includeTodaysPlanned=true&includeFuturePlanned=true&includeCancelledPlanned=true'"
   ]
  },
  {
   "cell_type": "code",
   "execution_count": null,
   "id": "tender-infrared",
   "metadata": {},
   "outputs": [],
   "source": []
  },
  {
   "cell_type": "code",
   "execution_count": null,
   "id": "sufficient-luxembourg",
   "metadata": {},
   "outputs": [],
   "source": []
  },
  {
   "cell_type": "code",
   "execution_count": null,
   "id": "immune-portrait",
   "metadata": {},
   "outputs": [],
   "source": [
    "# incident_active (if known)\n",
    "# logged/start time\n",
    "# estimated time of fix\n",
    "# postcodes impacted\n",
    "# description"
   ]
  },
  {
   "cell_type": "code",
   "execution_count": 29,
   "id": "center-mason",
   "metadata": {},
   "outputs": [
    {
     "name": "stdout",
     "output_type": "stream",
     "text": [
      "Converted 01-retrieval.ipynb.\n",
      "Converted 02-collation.ipynb.\n"
     ]
    }
   ],
   "source": [
    "#hide\n",
    "from nbdev.export import *\n",
    "notebook2script()"
   ]
  }
 ],
 "metadata": {
  "kernelspec": {
   "display_name": "outage",
   "language": "python",
   "name": "outage"
  },
  "language_info": {
   "codemirror_mode": {
    "name": "ipython",
    "version": 3
   },
   "file_extension": ".py",
   "mimetype": "text/x-python",
   "name": "python",
   "nbconvert_exporter": "python",
   "pygments_lexer": "ipython3",
   "version": "3.7.10"
  }
 },
 "nbformat": 4,
 "nbformat_minor": 5
}

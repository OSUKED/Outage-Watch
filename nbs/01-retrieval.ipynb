{
 "cells": [
  {
   "cell_type": "code",
   "execution_count": 1,
   "id": "rough-magnitude",
   "metadata": {},
   "outputs": [],
   "source": [
    "# default_exp retrieval"
   ]
  },
  {
   "cell_type": "markdown",
   "id": "directed-dutch",
   "metadata": {},
   "source": [
    "# Outage Data Retrieval\n",
    "\n",
    "<br>\n",
    "\n",
    "### Imports"
   ]
  },
  {
   "cell_type": "code",
   "execution_count": 2,
   "id": "romance-genius",
   "metadata": {},
   "outputs": [],
   "source": [
    "#exports\n",
    "import json\n",
    "import pandas as pd\n",
    "\n",
    "import html\n",
    "import requests\n",
    "from bs4 import BeautifulSoup as bs\n",
    "from warnings import warn\n",
    "\n",
    "from ipypb import track"
   ]
  },
  {
   "cell_type": "code",
   "execution_count": 3,
   "id": "tropical-produce",
   "metadata": {},
   "outputs": [],
   "source": [
    "from IPython.display import JSON, HTML"
   ]
  },
  {
   "cell_type": "markdown",
   "id": "tracked-introduction",
   "metadata": {},
   "source": [
    "<br>\n",
    "\n",
    "### UK Power Networks\n",
    "\n",
    "https://www.ukpowernetworks.co.uk/power-cut/map"
   ]
  },
  {
   "cell_type": "code",
   "execution_count": 5,
   "id": "considerable-appliance",
   "metadata": {},
   "outputs": [
    {
     "data": {
      "application/json": {
       "Incidents": [
        {
         "PanelContentUrl": "/power-cut/map/unplanned?incidentId=INCD-247691-G",
         "PostcodeData": [
          {
           "Center": {
            "lat": 50.8224,
            "lng": -0.14015
           },
           "Postcode": "BN1 1"
          },
          {
           "Center": {
            "lat": 50.83175,
            "lng": -0.13787
           },
           "Postcode": "BN1 4"
          }
         ],
         "PostcodesRemaining": [],
         "PowerCutType": "Unplanned",
         "ServiceDown": false
        },
        {
         "PanelContentUrl": "/power-cut/map/unplanned?incidentId=INCD-230130-Z",
         "PostcodeData": [
          {
           "Center": {
            "lat": 52.15097,
            "lng": -0.35406
           },
           "Postcode": "MK44 3"
          }
         ],
         "PostcodesRemaining": [],
         "PowerCutType": "Unplanned",
         "ServiceDown": false
        },
        {
         "PanelContentUrl": "/power-cut/map/unplanned?incidentId=INCD-230057-Z",
         "PostcodeData": [
          {
           "Center": {
            "lat": 51.60474,
            "lng": -0.26091
           },
           "Postcode": "HA8 0"
          },
          {
           "Center": {
            "lat": 51.61463,
            "lng": -0.26569
           },
           "Postcode": "HA8 9"
          }
         ],
         "PostcodesRemaining": [],
         "PowerCutType": "Unplanned",
         "ServiceDown": false
        },
        {
         "PanelContentUrl": "/power-cut/map/unplanned?incidentId=INCD-247961-G",
         "PostcodeData": [
          {
           "Center": {
            "lat": 51.09761,
            "lng": 0.10361
           },
           "Postcode": "TN7 4"
          }
         ],
         "PostcodesRemaining": [],
         "PowerCutType": "Unplanned",
         "ServiceDown": false
        },
        {
         "PanelContentUrl": "/power-cut/map/unplanned?incidentId=INCD-54055-V",
         "PostcodeData": [
          {
           "Center": {
            "lat": 51.24006,
            "lng": -0.57531
           },
           "Postcode": "GU1 4"
          }
         ],
         "PostcodesRemaining": [],
         "PowerCutType": "Unplanned",
         "ServiceDown": false
        },
        {
         "PanelContentUrl": "/power-cut/map/unplanned?incidentId=INCD-230069-Z",
         "PostcodeData": [
          {
           "Center": {
            "lat": 51.65744,
            "lng": -0.06813
           },
           "Postcode": "EN1 3"
          },
          {
           "Center": {
            "lat": 51.65137,
            "lng": -0.08576
           },
           "Postcode": "EN2 6"
          }
         ],
         "PostcodesRemaining": [],
         "PowerCutType": "Unplanned",
         "ServiceDown": false
        },
        {
         "PanelContentUrl": "/power-cut/map/unplanned?incidentId=INCD-44085-C",
         "PostcodeData": [
          {
           "Center": {
            "lat": 52.08977,
            "lng": -0.52969
           },
           "Postcode": "MK43 9"
          }
         ],
         "PostcodesRemaining": [],
         "PowerCutType": "Unplanned",
         "ServiceDown": false
        },
        {
         "PanelContentUrl": "/power-cut/map/unplanned?incidentId=INCD-247974-G",
         "PostcodeData": [
          {
           "Center": {
            "lat": 51.13006,
            "lng": -0.22262
           },
           "Postcode": "RH11 0"
          },
          {
           "Center": {
            "lat": 51.14799,
            "lng": 0.38767
           },
           "Postcode": "TN12 7"
          },
          {
           "Center": {
            "lat": 50.87661,
            "lng": 0.57802
           },
           "Postcode": "TN34 2"
          },
          {
           "Center": {
            "lat": 50.8872,
            "lng": 0.55569
           },
           "Postcode": "TN37 7"
          }
         ],
         "PostcodesRemaining": [],
         "PowerCutType": "Unplanned",
         "ServiceDown": false
        },
        {
         "PanelContentUrl": "/power-cut/map/unplanned?incidentId=INCD-230160-Z",
         "PostcodeData": [
          {
           "Center": {
            "lat": 52.70883,
            "lng": 0.21971
           },
           "Postcode": "PE14 7"
          }
         ],
         "PostcodesRemaining": [],
         "PowerCutType": "Unplanned",
         "ServiceDown": false
        },
        {
         "PanelContentUrl": "/power-cut/map/unplanned?incidentId=INCD-54215-V",
         "PostcodeData": [],
         "PostcodesRemaining": [],
         "PowerCutType": "Unplanned",
         "ServiceDown": false
        },
        {
         "PanelContentUrl": "/power-cut/map/unplanned?incidentId=INCD-259719-J",
         "PostcodeData": [
          {
           "Center": {
            "lat": 51.44953,
            "lng": -0.11406
           },
           "Postcode": "SW2 2"
          }
         ],
         "PostcodesRemaining": [],
         "PowerCutType": "Unplanned",
         "ServiceDown": false
        },
        {
         "PanelContentUrl": "/power-cut/map/power-back-on?incidentId=INCD-247784-G",
         "PostcodeData": [],
         "PostcodesRemaining": [],
         "PowerCutType": "Restored",
         "ServiceDown": false
        },
        {
         "PanelContentUrl": "/power-cut/map/power-back-on?incidentId=INCD-54207-V",
         "PostcodeData": [],
         "PostcodesRemaining": [],
         "PowerCutType": "Restored",
         "ServiceDown": false
        },
        {
         "PanelContentUrl": "/power-cut/map/power-back-on?incidentId=INCD-247978-G",
         "PostcodeData": [
          {
           "Center": {
            "lat": 51.35065,
            "lng": 0.0269
           },
           "Postcode": "BR2 6"
          },
          {
           "Center": {
            "lat": 51.35028,
            "lng": 0.12956
           },
           "Postcode": "BR6 7"
          },
          {
           "Center": {
            "lat": 51.31021,
            "lng": -0.02407
           },
           "Postcode": "CR6 9"
          },
          {
           "Center": {
            "lat": 51.31615,
            "lng": -0.09869
           },
           "Postcode": "CR8 5"
          },
          {
           "Center": {
            "lat": 51.43928,
            "lng": 0.36123
           },
           "Postcode": "DA11 0"
          },
          {
           "Center": {
            "lat": 51.31569,
            "lng": 0.03324
           },
           "Postcode": "TN16 3"
          }
         ],
         "PostcodesRemaining": [],
         "PowerCutType": "Restored",
         "ServiceDown": false
        },
        {
         "PanelContentUrl": "/power-cut/map/power-back-on?incidentId=INCD-247973-G",
         "PostcodeData": [
          {
           "Center": {
            "lat": 51.0268,
            "lng": 0.93643
           },
           "Postcode": "TN29 0"
          },
          {
           "Center": {
            "lat": 50.96415,
            "lng": 0.88368
           },
           "Postcode": "TN29 9"
          }
         ],
         "PostcodesRemaining": [],
         "PowerCutType": "Restored",
         "ServiceDown": false
        },
        {
         "PanelContentUrl": "/power-cut/map/power-back-on?incidentId=INCD-54191-V",
         "PostcodeData": [
          {
           "Center": {
            "lat": 50.82423,
            "lng": 0.36882
           },
           "Postcode": "BN24 6"
          }
         ],
         "PostcodesRemaining": [],
         "PowerCutType": "Restored",
         "ServiceDown": false
        },
        {
         "PanelContentUrl": "/power-cut/map/power-back-on?incidentId=INCD-247987-G",
         "PostcodeData": [],
         "PostcodesRemaining": [],
         "PowerCutType": "Restored",
         "ServiceDown": false
        },
        {
         "PanelContentUrl": "/power-cut/map/power-back-on?incidentId=INCD-230081-Z",
         "PostcodeData": [
          {
           "Center": {
            "lat": 51.5548,
            "lng": 0.61081
           },
           "Postcode": "SS7 2"
          }
         ],
         "PostcodesRemaining": [],
         "PowerCutType": "Restored",
         "ServiceDown": false
        },
        {
         "PanelContentUrl": "/power-cut/map/power-back-on?incidentId=INCD-230079-Z",
         "PostcodeData": [
          {
           "Center": {
            "lat": 51.99224,
            "lng": 1.10935
           },
           "Postcode": "IP9 2"
          }
         ],
         "PostcodesRemaining": [],
         "PowerCutType": "Restored",
         "ServiceDown": false
        },
        {
         "PanelContentUrl": "/power-cut/map/power-back-on?incidentId=INCD-230080-Z",
         "PostcodeData": [
          {
           "Center": {
            "lat": 51.63953,
            "lng": -0.15788
           },
           "Postcode": "EN4 8"
          },
          {
           "Center": {
            "lat": 51.64402,
            "lng": -0.1781
           },
           "Postcode": "EN5 1"
          }
         ],
         "PostcodesRemaining": [],
         "PowerCutType": "Restored",
         "ServiceDown": false
        },
        {
         "PanelContentUrl": "/power-cut/map/power-back-on?incidentId=INCD-229762-Z",
         "PostcodeData": [
          {
           "Center": {
            "lat": 52.61132,
            "lng": 1.29937
           },
           "Postcode": "NR1 2"
          }
         ],
         "PostcodesRemaining": [],
         "PowerCutType": "Restored",
         "ServiceDown": false
        },
        {
         "PanelContentUrl": "/power-cut/map/power-back-on?incidentId=INCD-230100-Z",
         "PostcodeData": [
          {
           "Center": {
            "lat": 52.63347,
            "lng": 1.35495
           },
           "Postcode": "NR7 0"
          }
         ],
         "PostcodesRemaining": [],
         "PowerCutType": "Restored",
         "ServiceDown": false
        },
        {
         "PanelContentUrl": "/power-cut/map/power-back-on?incidentId=INCD-259669-J",
         "PostcodeData": [
          {
           "Center": {
            "lat": 51.55024,
            "lng": -0.21783
           },
           "Postcode": "NW2 4"
          }
         ],
         "PostcodesRemaining": [],
         "PowerCutType": "Restored",
         "ServiceDown": false
        },
        {
         "PanelContentUrl": "/power-cut/map/power-back-on?incidentId=INCD-230103-Z",
         "PostcodeData": [
          {
           "Center": {
            "lat": 51.57825,
            "lng": 0.22014
           },
           "Postcode": "RM11 2"
          }
         ],
         "PostcodesRemaining": [],
         "PowerCutType": "Restored",
         "ServiceDown": false
        },
        {
         "PanelContentUrl": "/power-cut/map/power-back-on?incidentId=INCD-259709-J",
         "PostcodeData": [
          {
           "Center": {
            "lat": 51.53629,
            "lng": -0.20696
           },
           "Postcode": "NW6 6"
          }
         ],
         "PostcodesRemaining": [],
         "PowerCutType": "Restored",
         "ServiceDown": false
        },
        {
         "PanelContentUrl": "/power-cut/map/power-back-on?incidentId=INCD-160671-Z",
         "PostcodeData": [
          {
           "Center": {
            "lat": 51.62763,
            "lng": -0.46243
           },
           "Postcode": "WD3 1"
          }
         ],
         "PostcodesRemaining": [],
         "PowerCutType": "Restored",
         "ServiceDown": false
        },
        {
         "PanelContentUrl": "/power-cut/map/power-back-on?incidentId=INCD-259693-J",
         "PostcodeData": [
          {
           "Center": {
            "lat": 51.51297,
            "lng": -0.06031
           },
           "Postcode": "E1 2"
          },
          {
           "Center": {
            "lat": 51.51803,
            "lng": -0.04924
           },
           "Postcode": "E1 3"
          }
         ],
         "PostcodesRemaining": [],
         "PowerCutType": "Restored",
         "ServiceDown": false
        },
        {
         "PanelContentUrl": "/power-cut/map/power-back-on?incidentId=INCD-230102-Z",
         "PostcodeData": [
          {
           "Center": {
            "lat": 51.53861,
            "lng": 0.69736
           },
           "Postcode": "SS0 7"
          },
          {
           "Center": {
            "lat": 51.5366,
            "lng": 0.70885
           },
           "Postcode": "SS1 1"
          }
         ],
         "PostcodesRemaining": [],
         "PowerCutType": "Restored",
         "ServiceDown": false
        },
        {
         "PanelContentUrl": "/power-cut/map/power-back-on?incidentId=INCD-247991-G",
         "PostcodeData": [],
         "PostcodesRemaining": [],
         "PowerCutType": "Restored",
         "ServiceDown": false
        },
        {
         "PanelContentUrl": "/power-cut/map/power-back-on?incidentId=INCD-259692-J",
         "PostcodeData": [
          {
           "Center": {
            "lat": 51.49781,
            "lng": -0.11626
           },
           "Postcode": "SE1 7"
          }
         ],
         "PostcodesRemaining": [],
         "PowerCutType": "Restored",
         "ServiceDown": false
        },
        {
         "PanelContentUrl": "/power-cut/map/power-back-on?incidentId=INCD-230133-Z",
         "PostcodeData": [
          {
           "Center": {
            "lat": 51.69802,
            "lng": 0.2338
           },
           "Postcode": "CM5 9"
          }
         ],
         "PostcodesRemaining": [],
         "PowerCutType": "Restored",
         "ServiceDown": false
        },
        {
         "PanelContentUrl": "/power-cut/map/power-back-on?incidentId=INCD-230113-Z",
         "PostcodeData": [
          {
           "Center": {
            "lat": 51.76222,
            "lng": -0.46049
           },
           "Postcode": "HP2 5"
          }
         ],
         "PostcodesRemaining": [],
         "PowerCutType": "Restored",
         "ServiceDown": false
        },
        {
         "PanelContentUrl": "/power-cut/map/power-back-on?incidentId=INCD-247963-G",
         "PostcodeData": [
          {
           "Center": {
            "lat": 51.35833,
            "lng": 1.43773
           },
           "Postcode": "CT10 1"
          }
         ],
         "PostcodesRemaining": [],
         "PowerCutType": "Restored",
         "ServiceDown": false
        },
        {
         "PanelContentUrl": "/power-cut/map/power-back-on?incidentId=INCD-54195-V",
         "PostcodeData": [
          {
           "Center": {
            "lat": 51.16455,
            "lng": 0.54976
           },
           "Postcode": "TN12 0"
          },
          {
           "Center": {
            "lat": 51.1132,
            "lng": 0.52291
           },
           "Postcode": "TN17 2"
          }
         ],
         "PostcodesRemaining": [],
         "PowerCutType": "Restored",
         "ServiceDown": false
        },
        {
         "PanelContentUrl": "/power-cut/map/power-back-on?incidentId=INCD-247966-G",
         "PostcodeData": [
          {
           "Center": {
            "lat": 51.37067,
            "lng": -0.09948
           },
           "Postcode": "CR0 1"
          }
         ],
         "PostcodesRemaining": [],
         "PowerCutType": "Restored",
         "ServiceDown": false
        },
        {
         "PanelContentUrl": "/power-cut/map/power-back-on?incidentId=INCD-230091-Z",
         "PostcodeData": [
          {
           "Center": {
            "lat": 52.03865,
            "lng": 1.14839
           },
           "Postcode": "IP2 8"
          },
          {
           "Center": {
            "lat": 52.17809,
            "lng": 0.81156
           },
           "Postcode": "IP30 0"
          },
          {
           "Center": {
            "lat": 52.22635,
            "lng": 0.85383
           },
           "Postcode": "IP30 9"
          },
          {
           "Center": {
            "lat": 52.29111,
            "lng": 0.82081
           },
           "Postcode": "IP31 2"
          },
          {
           "Center": {
            "lat": 52.27624,
            "lng": 0.89806
           },
           "Postcode": "IP31 3"
          },
          {
           "Center": {
            "lat": 52.24703,
            "lng": 0.74247
           },
           "Postcode": "IP32 7"
          }
         ],
         "PostcodesRemaining": [],
         "PowerCutType": "Restored",
         "ServiceDown": false
        },
        {
         "PanelContentUrl": "/power-cut/map/power-back-on?incidentId=INCD-247968-G",
         "PostcodeData": [
          {
           "Center": {
            "lat": 50.82328,
            "lng": -0.44064
           },
           "Postcode": "BN12 6"
          },
          {
           "Center": {
            "lat": 50.83894,
            "lng": -0.39699
           },
           "Postcode": "BN13 3"
          }
         ],
         "PostcodesRemaining": [],
         "PowerCutType": "Restored",
         "ServiceDown": false
        },
        {
         "PanelContentUrl": "/power-cut/map/power-back-on?incidentId=INCD-259690-J",
         "PostcodeData": [
          {
           "Center": {
            "lat": 51.4737,
            "lng": -0.18821
           },
           "Postcode": "SW6 2"
          }
         ],
         "PostcodesRemaining": [],
         "PowerCutType": "Restored",
         "ServiceDown": false
        },
        {
         "PanelContentUrl": "/power-cut/map/power-back-on?incidentId=INCD-47807-V",
         "PostcodeData": [
          {
           "Center": {
            "lat": 51.28591,
            "lng": -0.31002
           },
           "Postcode": "KT22 8"
          }
         ],
         "PostcodesRemaining": [],
         "PowerCutType": "Restored",
         "ServiceDown": false
        },
        {
         "PanelContentUrl": "/power-cut/map/power-back-on?incidentId=INCD-259347-J",
         "PostcodeData": [
          {
           "Center": {
            "lat": 51.51702,
            "lng": -0.1636
           },
           "Postcode": "W1H 5"
          },
          {
           "Center": {
            "lat": 51.51702,
            "lng": -0.15024
           },
           "Postcode": "W1U 2"
          },
          {
           "Center": {
            "lat": 51.51288,
            "lng": -0.15027
           },
           "Postcode": "W1U 3"
          },
          {
           "Center": {
            "lat": 51.51967,
            "lng": -0.15296
           },
           "Postcode": "W1U 4"
          },
          {
           "Center": {
            "lat": 51.5216,
            "lng": -0.15373
           },
           "Postcode": "W1U 5"
          },
          {
           "Center": {
            "lat": 51.52055,
            "lng": -0.15765
           },
           "Postcode": "W1U 6"
          },
          {
           "Center": {
            "lat": 51.51863,
            "lng": -0.15499
           },
           "Postcode": "W1U 7"
          }
         ],
         "PostcodesRemaining": [],
         "PowerCutType": "Restored",
         "ServiceDown": false
        },
        {
         "PanelContentUrl": "/power-cut/map/power-back-on?incidentId=INCD-230148-Z",
         "PostcodeData": [
          {
           "Center": {
            "lat": 52.07039,
            "lng": -0.44093
           },
           "Postcode": "MK45 3"
          }
         ],
         "PostcodesRemaining": [],
         "PowerCutType": "Restored",
         "ServiceDown": false
        },
        {
         "PanelContentUrl": "/power-cut/map/power-back-on?incidentId=INCD-229829-Z",
         "PostcodeData": [
          {
           "Center": {
            "lat": 51.76088,
            "lng": 0.04634
           },
           "Postcode": "CM19 5"
          }
         ],
         "PostcodesRemaining": [],
         "PowerCutType": "Restored",
         "ServiceDown": false
        },
        {
         "PanelContentUrl": "/power-cut/map/power-back-on?incidentId=INCD-247976-G",
         "PostcodeData": [
          {
           "Center": {
            "lat": 51.08781,
            "lng": -0.03675
           },
           "Postcode": "RH19 4"
          },
          {
           "Center": {
            "lat": 50.90019,
            "lng": 0.42131
           },
           "Postcode": "TN33 9"
          }
         ],
         "PostcodesRemaining": [],
         "PowerCutType": "Restored",
         "ServiceDown": false
        },
        {
         "PanelContentUrl": "/power-cut/map/power-back-on?incidentId=INCD-247994-G",
         "PostcodeData": [],
         "PostcodesRemaining": [],
         "PowerCutType": "Restored",
         "ServiceDown": false
        },
        {
         "PanelContentUrl": "/power-cut/map/power-back-on?incidentId=INCD-230082-Z",
         "PostcodeData": [
          {
           "Center": {
            "lat": 51.58565,
            "lng": -0.33868
           },
           "Postcode": "HA1 1"
          }
         ],
         "PostcodesRemaining": [],
         "PowerCutType": "Restored",
         "ServiceDown": false
        },
        {
         "PanelContentUrl": "/power-cut/map/power-back-on?incidentId=INCD-247992-G",
         "PostcodeData": [
          {
           "Center": {
            "lat": 51.39697,
            "lng": -0.49975
           },
           "Postcode": "KT16 8"
          },
          {
           "Center": {
            "lat": 51.25027,
            "lng": 0.64819
           },
           "Postcode": "ME17 1"
          },
          {
           "Center": {
            "lat": 51.2151,
            "lng": 0.5947
           },
           "Postcode": "ME17 3"
          },
          {
           "Center": {
            "lat": 51.25451,
            "lng": 0.39148
           },
           "Postcode": "ME18 5"
          },
          {
           "Center": {
            "lat": 51.36556,
            "lng": -0.20501
           },
           "Postcode": "SM1 2"
          }
         ],
         "PostcodesRemaining": [],
         "PowerCutType": "Restored",
         "ServiceDown": false
        },
        {
         "PanelContentUrl": "/power-cut/map/planned-work?incidentId=INCD-227450-Z",
         "PostcodeData": [
          {
           "Center": {
            "lat": 51.84894,
            "lng": -0.05803
           },
           "Postcode": "SG12 0"
          },
          {
           "Center": {
            "lat": 51.8124,
            "lng": -0.12413
           },
           "Postcode": "SG14 2"
          }
         ],
         "PostcodesRemaining": [],
         "PowerCutType": "Planned",
         "ServiceDown": false
        },
        {
         "PanelContentUrl": "/power-cut/map/planned-work?incidentId=INCD-227053-Z",
         "PostcodeData": [
          {
           "Center": {
            "lat": 52.09023,
            "lng": 0.44958
           },
           "Postcode": "CB9 7"
          }
         ],
         "PostcodesRemaining": [],
         "PowerCutType": "Planned",
         "ServiceDown": false
        },
        {
         "IncidentsCount": 2,
         "PanelContentUrl": "/power-cut/map/multiple?postcodeSector=TN31 6",
         "PostcodeData": [
          {
           "Center": {
            "lat": 50.96766,
            "lng": 0.63563
           },
           "Postcode": "TN31 6"
          }
         ],
         "PostcodesRemaining": [],
         "PowerCutType": "Multiple",
         "ServiceDown": false
        },
        {
         "IncidentsCount": 4,
         "PanelContentUrl": "/power-cut/map/multiple?postcodeSector=TN33 0",
         "PostcodeData": [
          {
           "Center": {
            "lat": 50.92287,
            "lng": 0.5116
           },
           "Postcode": "TN33 0"
          }
         ],
         "PostcodesRemaining": [],
         "PowerCutType": "Multiple",
         "ServiceDown": false
        },
        {
         "IncidentsCount": 2,
         "PanelContentUrl": "/power-cut/map/multiple?postcodeSector=TN35 4",
         "PostcodeData": [
          {
           "Center": {
            "lat": 50.90041,
            "lng": 0.62094
           },
           "Postcode": "TN35 4"
          }
         ],
         "PostcodesRemaining": [],
         "PowerCutType": "Multiple",
         "ServiceDown": false
        },
        {
         "IncidentsCount": 2,
         "PanelContentUrl": "/power-cut/map/multiple?postcodeSector=BN43 5",
         "PostcodeData": [
          {
           "Center": {
            "lat": 50.86191,
            "lng": -0.27101
           },
           "Postcode": "BN43 5"
          }
         ],
         "PostcodesRemaining": [],
         "PowerCutType": "Multiple",
         "ServiceDown": false
        },
        {
         "IncidentsCount": 2,
         "PanelContentUrl": "/power-cut/map/multiple?postcodeSector=BN43 6",
         "PostcodeData": [
          {
           "Center": {
            "lat": 50.84416,
            "lng": -0.25653
           },
           "Postcode": "BN43 6"
          }
         ],
         "PostcodesRemaining": [],
         "PowerCutType": "Multiple",
         "ServiceDown": false
        },
        {
         "IncidentsCount": 2,
         "PanelContentUrl": "/power-cut/map/multiple?postcodeSector=RH7 6",
         "PostcodeData": [
          {
           "Center": {
            "lat": 51.17863,
            "lng": -0.02068
           },
           "Postcode": "RH7 6"
          }
         ],
         "PostcodesRemaining": [],
         "PowerCutType": "Multiple",
         "ServiceDown": false
        }
       ],
       "IsCached": false,
       "PollingInterval": 5000,
       "ServiceDown": false,
       "TwitterFeeds": []
      },
      "text/plain": [
       "<IPython.core.display.JSON object>"
      ]
     },
     "execution_count": 5,
     "metadata": {
      "application/json": {
       "expanded": false,
       "root": "root"
      }
     },
     "output_type": "execute_result"
    }
   ],
   "source": [
    "incidents_url = 'https://www.ukpowernetworks.co.uk/Incidents/GetIncidents'\n",
    "\n",
    "r_json = requests.get(incidents_url).json()\n",
    "\n",
    "JSON(r_json)"
   ]
  },
  {
   "cell_type": "markdown",
   "id": "textile-estonia",
   "metadata": {},
   "source": [
    "<br>\n",
    "\n",
    "We'll now extract the incident ids as we can use them to generate the url for the JSON endpoint with the incident data. Items where the `PowerCutType` is set to `Multiple` have been purposefully removed, this is because they don't include an incident id (but we'll handle them next)."
   ]
  },
  {
   "cell_type": "code",
   "execution_count": 6,
   "id": "acknowledged-deployment",
   "metadata": {},
   "outputs": [],
   "source": [
    "#exports\n",
    "extract_ukpn_single_incident_ids = lambda r_json: [\n",
    "    incident['PanelContentUrl'].split('incidentId=')[1] \n",
    "    for incident \n",
    "    in r_json['Incidents'] \n",
    "    if incident['PowerCutType'] != 'Multiple'\n",
    "]"
   ]
  },
  {
   "cell_type": "code",
   "execution_count": 7,
   "id": "beautiful-basic",
   "metadata": {},
   "outputs": [
    {
     "data": {
      "application/json": [
       [
        "INCD-247691-G",
        "INCD-230130-Z",
        "INCD-230057-Z",
        "INCD-247961-G",
        "INCD-54055-V",
        "INCD-230069-Z",
        "INCD-44085-C",
        "INCD-247974-G",
        "INCD-230160-Z",
        "INCD-54215-V",
        "INCD-259719-J",
        "INCD-247784-G",
        "INCD-54207-V",
        "INCD-247978-G",
        "INCD-247973-G",
        "INCD-54191-V",
        "INCD-247987-G",
        "INCD-230081-Z",
        "INCD-230079-Z",
        "INCD-230080-Z",
        "INCD-229762-Z",
        "INCD-230100-Z",
        "INCD-259669-J",
        "INCD-230103-Z",
        "INCD-259709-J",
        "INCD-160671-Z",
        "INCD-259693-J",
        "INCD-230102-Z",
        "INCD-247991-G",
        "INCD-259692-J",
        "INCD-230133-Z",
        "INCD-230113-Z",
        "INCD-247963-G",
        "INCD-54195-V",
        "INCD-247966-G",
        "INCD-230091-Z",
        "INCD-247968-G",
        "INCD-259690-J",
        "INCD-47807-V",
        "INCD-259347-J",
        "INCD-230148-Z",
        "INCD-229829-Z",
        "INCD-247976-G",
        "INCD-247994-G",
        "INCD-230082-Z",
        "INCD-247992-G",
        "INCD-227450-Z",
        "INCD-227053-Z"
       ]
      ],
      "text/plain": [
       "<IPython.core.display.JSON object>"
      ]
     },
     "execution_count": 7,
     "metadata": {
      "application/json": {
       "expanded": false,
       "root": "root"
      }
     },
     "output_type": "execute_result"
    }
   ],
   "source": [
    "single_incident_ids = extract_ukpn_single_incident_ids(r_json)\n",
    "\n",
    "JSON([single_incident_ids])"
   ]
  },
  {
   "cell_type": "markdown",
   "id": "hairy-smoke",
   "metadata": {},
   "source": [
    "<br>\n",
    "\n",
    "For the `Multiple` items we'll extract the url for the incidents metadata, which includes the ids within them."
   ]
  },
  {
   "cell_type": "code",
   "execution_count": 8,
   "id": "described-polls",
   "metadata": {},
   "outputs": [],
   "source": [
    "#exports\n",
    "extract_ukpn_multiple_incident_urls = lambda r_json: [\n",
    "    f\"https://www.ukpowernetworks.co.uk{incident['PanelContentUrl']}\"\n",
    "    for incident \n",
    "    in r_json['Incidents'] \n",
    "    if incident['PowerCutType'] == 'Multiple'\n",
    "]"
   ]
  },
  {
   "cell_type": "code",
   "execution_count": 9,
   "id": "beautiful-trainer",
   "metadata": {},
   "outputs": [
    {
     "data": {
      "application/json": [
       [
        "https://www.ukpowernetworks.co.uk/power-cut/map/multiple?postcodeSector=TN31 6",
        "https://www.ukpowernetworks.co.uk/power-cut/map/multiple?postcodeSector=TN33 0",
        "https://www.ukpowernetworks.co.uk/power-cut/map/multiple?postcodeSector=TN35 4",
        "https://www.ukpowernetworks.co.uk/power-cut/map/multiple?postcodeSector=BN43 5",
        "https://www.ukpowernetworks.co.uk/power-cut/map/multiple?postcodeSector=BN43 6",
        "https://www.ukpowernetworks.co.uk/power-cut/map/multiple?postcodeSector=RH7 6"
       ]
      ],
      "text/plain": [
       "<IPython.core.display.JSON object>"
      ]
     },
     "execution_count": 9,
     "metadata": {
      "application/json": {
       "expanded": false,
       "root": "root"
      }
     },
     "output_type": "execute_result"
    }
   ],
   "source": [
    "multiple_incident_urls = extract_ukpn_multiple_incident_urls(r_json)\n",
    "\n",
    "JSON([multiple_incident_urls])"
   ]
  },
  {
   "cell_type": "code",
   "execution_count": null,
   "id": "arbitrary-cursor",
   "metadata": {},
   "outputs": [],
   "source": []
  },
  {
   "cell_type": "code",
   "execution_count": 10,
   "id": "incomplete-surface",
   "metadata": {},
   "outputs": [],
   "source": [
    "#exports\n",
    "def extract_ukpn_multiple_incident_ids(multiple_incident_urls):\n",
    "    incident_ids = []\n",
    "\n",
    "    for multiple_incident_url in track(multiple_incident_urls, label='Multiple Ids'):\n",
    "        r = requests.get(multiple_incident_url)\n",
    "        soup = bs(r.text, features='lxml')\n",
    "\n",
    "        incident_ids += [\n",
    "            link['data-url'].split('incidentId=')[1] \n",
    "            for link \n",
    "            in soup.find('div', {'class': 'multiple-incidents--wrapper mb-4'}).findAll('a')\n",
    "        ]\n",
    "        \n",
    "    return incident_ids"
   ]
  },
  {
   "cell_type": "code",
   "execution_count": 11,
   "id": "administrative-integrity",
   "metadata": {},
   "outputs": [
    {
     "data": {
      "text/html": [
       "<div><span class=\"Text-label\" style=\"display:inline-block; overflow:hidden; white-space:nowrap; text-overflow:ellipsis; min-width:15ex; max-width:15ex; vertical-align:middle; text-align:right\">Multiple Ids</span>\n",
       "<progress style=\"width:45ex\" max=\"6\" value=\"6\" class=\"Progress-main\"/></progress>\n",
       "<span class=\"Progress-label\"><strong>100%</strong></span>\n",
       "<span class=\"Iteration-label\">6/6</span>\n",
       "<span class=\"Time-label\">[00:01<00:00, 0.19s/it]</span></div>"
      ],
      "text/plain": [
       "\u001b[A\u001b[2K\r",
       "   Multiple Ids [█████████████████████████████████████████████] 6/6 [00:01<00:00, 0.19s/it]"
      ]
     },
     "metadata": {},
     "output_type": "display_data"
    },
    {
     "data": {
      "text/plain": [
       "['INCD-247974-G',\n",
       " 'INCD-247994-G',\n",
       " 'INCD-247974-G',\n",
       " 'INCD-247976-G',\n",
       " 'INCD-247987-G']"
      ]
     },
     "execution_count": 11,
     "metadata": {},
     "output_type": "execute_result"
    }
   ],
   "source": [
    "multiple_incident_ids = extract_ukpn_multiple_incident_ids(multiple_incident_urls)\n",
    "\n",
    "multiple_incident_ids[:5]"
   ]
  },
  {
   "cell_type": "code",
   "execution_count": null,
   "id": "verbal-rating",
   "metadata": {},
   "outputs": [],
   "source": []
  },
  {
   "cell_type": "code",
   "execution_count": 12,
   "id": "steady-graduation",
   "metadata": {},
   "outputs": [],
   "source": [
    "#exports\n",
    "get_ukpn_incident_detail_url = lambda incident_id: f'https://www.ukpowernetworks.co.uk/Incidents/getincidentdetails?incidentid={incident_id}'"
   ]
  },
  {
   "cell_type": "code",
   "execution_count": 13,
   "id": "serial-clarity",
   "metadata": {},
   "outputs": [
    {
     "data": {
      "application/json": {
       "FullPostcodeData": [
        "TN316HA",
        "TN316HB",
        "TN330PH",
        "TN330PJ",
        "TN330PL",
        "TN330PN",
        "TN330RS",
        "TN330RT",
        "TN330RU",
        "TN330RX",
        "TN330RY",
        "TN330SU",
        "TN34",
        "TN354PN",
        "TN354QA",
        "TN354QB",
        "TN354QQ",
        "TN354QZ",
        "TN354RA",
        "TN354RB",
        "TN354RD",
        "TN354RE",
        "TN354RF",
        "TN354RG",
        "TN354RH",
        "TN354RJ",
        "TN354RL",
        "TN354RN",
        "TN354RP",
        "TN354RQ",
        "TN354RR",
        "TN354RS",
        "TN354RT",
        "TN354RU",
        "TN354RX",
        "TN354SB",
        "TN354SD",
        "TN354SE",
        "TN354SG",
        "TN354SH",
        "TN354SJ",
        "TN354SL",
        "TN354SN",
        "TN354SU",
        "TN354SW"
       ],
       "IncidentCategoryCustomerFriendlyDescription": "We were investigating a high voltage overhead electricity line fault which caused a power cut in the local area.",
       "IncidentReference": "INCD-247994-G",
       "IncidentTypeTBCEstimatedFriendlyDescription": "21:30 - 22:30",
       "PanelContentUrl": "/power-cut/map/power-back-on?incidentId=INCD-247994-G",
       "PinLatitude": null,
       "PinLongitude": null,
       "PostcodeData": [
        {
         "Center": {
          "lat": 50.96766,
          "lng": 0.63563
         },
         "Coordinates": [
          {
           "lat": 50.93335,
           "lng": 0.56495
          },
          {
           "lat": 50.94108,
           "lng": 0.56255
          },
          {
           "lat": 50.9469,
           "lng": 0.56917
          },
          {
           "lat": 50.95264,
           "lng": 0.56415
          },
          {
           "lat": 50.95459,
           "lng": 0.56181
          },
          {
           "lat": 50.95717,
           "lng": 0.56349
          },
          {
           "lat": 50.95909,
           "lng": 0.56619
          },
          {
           "lat": 50.9602,
           "lng": 0.56876
          },
          {
           "lat": 50.96916,
           "lng": 0.56654
          },
          {
           "lat": 50.97228,
           "lng": 0.56025
          },
          {
           "lat": 50.97406,
           "lng": 0.56922
          },
          {
           "lat": 50.97846,
           "lng": 0.56824
          },
          {
           "lat": 50.98021,
           "lng": 0.57125
          },
          {
           "lat": 50.98093,
           "lng": 0.57133
          },
          {
           "lat": 50.98498,
           "lng": 0.5755
          },
          {
           "lat": 50.98503,
           "lng": 0.57763
          },
          {
           "lat": 50.98842,
           "lng": 0.58514
          },
          {
           "lat": 50.99347,
           "lng": 0.58505
          },
          {
           "lat": 50.99358,
           "lng": 0.58494
          },
          {
           "lat": 50.99686,
           "lng": 0.58131
          },
          {
           "lat": 51.00488,
           "lng": 0.58027
          },
          {
           "lat": 51.00626,
           "lng": 0.5826
          },
          {
           "lat": 51.00799,
           "lng": 0.58429
          },
          {
           "lat": 51.01083,
           "lng": 0.59159
          },
          {
           "lat": 51.01126,
           "lng": 0.595
          },
          {
           "lat": 51.01106,
           "lng": 0.59769
          },
          {
           "lat": 51.01018,
           "lng": 0.60136
          },
          {
           "lat": 51.01044,
           "lng": 0.60325
          },
          {
           "lat": 51.01121,
           "lng": 0.60608
          },
          {
           "lat": 51.01099,
           "lng": 0.62473
          },
          {
           "lat": 51.00951,
           "lng": 0.62998
          },
          {
           "lat": 51.01437,
           "lng": 0.63992
          },
          {
           "lat": 51.01458,
           "lng": 0.64007
          },
          {
           "lat": 51.01678,
           "lng": 0.64219
          },
          {
           "lat": 51.0148,
           "lng": 0.66131
          },
          {
           "lat": 51.01234,
           "lng": 0.6672
          },
          {
           "lat": 51.01116,
           "lng": 0.66897
          },
          {
           "lat": 51.00831,
           "lng": 0.67161
          },
          {
           "lat": 51.00681,
           "lng": 0.67482
          },
          {
           "lat": 51.0059,
           "lng": 0.67618
          },
          {
           "lat": 51.00378,
           "lng": 0.67807
          },
          {
           "lat": 51.00337,
           "lng": 0.6797
          },
          {
           "lat": 50.98976,
           "lng": 0.70141
          },
          {
           "lat": 50.9895,
           "lng": 0.70133
          },
          {
           "lat": 50.98651,
           "lng": 0.69723
          },
          {
           "lat": 50.9821,
           "lng": 0.6973
          },
          {
           "lat": 50.97955,
           "lng": 0.69807
          },
          {
           "lat": 50.97674,
           "lng": 0.69987
          },
          {
           "lat": 50.97672,
           "lng": 0.69986
          },
          {
           "lat": 50.97245,
           "lng": 0.69713
          },
          {
           "lat": 50.96838,
           "lng": 0.69736
          },
          {
           "lat": 50.96453,
           "lng": 0.7038
          },
          {
           "lat": 50.96397,
           "lng": 0.70446
          },
          {
           "lat": 50.95989,
           "lng": 0.70747
          },
          {
           "lat": 50.9574,
           "lng": 0.70433
          },
          {
           "lat": 50.95638,
           "lng": 0.70243
          },
          {
           "lat": 50.95359,
           "lng": 0.70185
          },
          {
           "lat": 50.95101,
           "lng": 0.70506
          },
          {
           "lat": 50.9481,
           "lng": 0.70811
          },
          {
           "lat": 50.94783,
           "lng": 0.71179
          },
          {
           "lat": 50.94743,
           "lng": 0.7159
          },
          {
           "lat": 50.94728,
           "lng": 0.71624
          },
          {
           "lat": 50.94628,
           "lng": 0.71771
          },
          {
           "lat": 50.94409,
           "lng": 0.72234
          },
          {
           "lat": 50.94399,
           "lng": 0.7223
          },
          {
           "lat": 50.93976,
           "lng": 0.71759
          },
          {
           "lat": 50.93957,
           "lng": 0.71307
          },
          {
           "lat": 50.93774,
           "lng": 0.70954
          },
          {
           "lat": 50.93802,
           "lng": 0.70663
          },
          {
           "lat": 50.93713,
           "lng": 0.69752
          },
          {
           "lat": 50.93498,
           "lng": 0.69227
          },
          {
           "lat": 50.93204,
           "lng": 0.68968
          },
          {
           "lat": 50.93092,
           "lng": 0.68912
          },
          {
           "lat": 50.92927,
           "lng": 0.68936
          },
          {
           "lat": 50.9243,
           "lng": 0.68213
          },
          {
           "lat": 50.92472,
           "lng": 0.67519
          },
          {
           "lat": 50.9258,
           "lng": 0.66837
          },
          {
           "lat": 50.92682,
           "lng": 0.66481
          },
          {
           "lat": 50.9284,
           "lng": 0.66299
          },
          {
           "lat": 50.93031,
           "lng": 0.65746
          },
          {
           "lat": 50.93062,
           "lng": 0.65513
          },
          {
           "lat": 50.93017,
           "lng": 0.64865
          },
          {
           "lat": 50.93036,
           "lng": 0.64528
          },
          {
           "lat": 50.93271,
           "lng": 0.64015
          },
          {
           "lat": 50.92755,
           "lng": 0.62002
          },
          {
           "lat": 50.92755,
           "lng": 0.62001
          },
          {
           "lat": 50.92794,
           "lng": 0.61619
          },
          {
           "lat": 50.92913,
           "lng": 0.61313
          },
          {
           "lat": 50.92913,
           "lng": 0.609
          },
          {
           "lat": 50.92954,
           "lng": 0.6074
          },
          {
           "lat": 50.92894,
           "lng": 0.59147
          },
          {
           "lat": 50.92916,
           "lng": 0.58973
          },
          {
           "lat": 50.9264,
           "lng": 0.58516
          },
          {
           "lat": 50.92605,
           "lng": 0.58328
          },
          {
           "lat": 50.92958,
           "lng": 0.57518
          },
          {
           "lat": 50.93278,
           "lng": 0.57035
          },
          {
           "lat": 50.93261,
           "lng": 0.56763
          },
          {
           "lat": 50.93335,
           "lng": 0.56495
          }
         ],
         "Postcode": "TN31 6"
        },
        {
         "Center": {
          "lat": 50.92287,
          "lng": 0.5116
         },
         "Coordinates": [
          {
           "lat": 50.89669,
           "lng": 0.52907
          },
          {
           "lat": 50.89643,
           "lng": 0.52867
          },
          {
           "lat": 50.89484,
           "lng": 0.52596
          },
          {
           "lat": 50.8916,
           "lng": 0.52428
          },
          {
           "lat": 50.88877,
           "lng": 0.51405
          },
          {
           "lat": 50.89113,
           "lng": 0.51083
          },
          {
           "lat": 50.89358,
           "lng": 0.50891
          },
          {
           "lat": 50.89445,
           "lng": 0.50537
          },
          {
           "lat": 50.89684,
           "lng": 0.50129
          },
          {
           "lat": 50.8937,
           "lng": 0.48813
          },
          {
           "lat": 50.89272,
           "lng": 0.48764
          },
          {
           "lat": 50.89215,
           "lng": 0.48721
          },
          {
           "lat": 50.89125,
           "lng": 0.48601
          },
          {
           "lat": 50.88973,
           "lng": 0.48305
          },
          {
           "lat": 50.88994,
           "lng": 0.48183
          },
          {
           "lat": 50.89471,
           "lng": 0.46942
          },
          {
           "lat": 50.89468,
           "lng": 0.46913
          },
          {
           "lat": 50.89703,
           "lng": 0.46246
          },
          {
           "lat": 50.89675,
           "lng": 0.45816
          },
          {
           "lat": 50.89746,
           "lng": 0.45691
          },
          {
           "lat": 50.8985,
           "lng": 0.45556
          },
          {
           "lat": 50.90206,
           "lng": 0.45427
          },
          {
           "lat": 50.90474,
           "lng": 0.45969
          },
          {
           "lat": 50.90369,
           "lng": 0.46224
          },
          {
           "lat": 50.9045,
           "lng": 0.46653
          },
          {
           "lat": 50.90804,
           "lng": 0.4719
          },
          {
           "lat": 50.90928,
           "lng": 0.47216
          },
          {
           "lat": 50.91205,
           "lng": 0.4631
          },
          {
           "lat": 50.91199,
           "lng": 0.46121
          },
          {
           "lat": 50.91048,
           "lng": 0.4561
          },
          {
           "lat": 50.91184,
           "lng": 0.45157
          },
          {
           "lat": 50.91189,
           "lng": 0.45153
          },
          {
           "lat": 50.92204,
           "lng": 0.45192
          },
          {
           "lat": 50.92327,
           "lng": 0.45354
          },
          {
           "lat": 50.9277,
           "lng": 0.45401
          },
          {
           "lat": 50.92899,
           "lng": 0.45853
          },
          {
           "lat": 50.9408,
           "lng": 0.46877
          },
          {
           "lat": 50.94098,
           "lng": 0.46909
          },
          {
           "lat": 50.94061,
           "lng": 0.47092
          },
          {
           "lat": 50.94308,
           "lng": 0.48851
          },
          {
           "lat": 50.94579,
           "lng": 0.49112
          },
          {
           "lat": 50.94588,
           "lng": 0.49121
          },
          {
           "lat": 50.94626,
           "lng": 0.49124
          },
          {
           "lat": 50.94813,
           "lng": 0.49235
          },
          {
           "lat": 50.95292,
           "lng": 0.49288
          },
          {
           "lat": 50.95425,
           "lng": 0.50297
          },
          {
           "lat": 50.95597,
           "lng": 0.50432
          },
          {
           "lat": 50.96081,
           "lng": 0.50329
          },
          {
           "lat": 50.96147,
           "lng": 0.50508
          },
          {
           "lat": 50.95281,
           "lng": 0.51796
          },
          {
           "lat": 50.95207,
           "lng": 0.51797
          },
          {
           "lat": 50.95186,
           "lng": 0.51816
          },
          {
           "lat": 50.95235,
           "lng": 0.53547
          },
          {
           "lat": 50.95363,
           "lng": 0.53938
          },
          {
           "lat": 50.95303,
           "lng": 0.5456
          },
          {
           "lat": 50.95209,
           "lng": 0.54824
          },
          {
           "lat": 50.95226,
           "lng": 0.55025
          },
          {
           "lat": 50.95459,
           "lng": 0.56181
          },
          {
           "lat": 50.95264,
           "lng": 0.56415
          },
          {
           "lat": 50.9469,
           "lng": 0.56917
          },
          {
           "lat": 50.94108,
           "lng": 0.56255
          },
          {
           "lat": 50.93335,
           "lng": 0.56495
          },
          {
           "lat": 50.93233,
           "lng": 0.55364
          },
          {
           "lat": 50.92696,
           "lng": 0.55236
          },
          {
           "lat": 50.92485,
           "lng": 0.55468
          },
          {
           "lat": 50.9225,
           "lng": 0.56394
          },
          {
           "lat": 50.9214,
           "lng": 0.565
          },
          {
           "lat": 50.91937,
           "lng": 0.56443
          },
          {
           "lat": 50.91911,
           "lng": 0.56454
          },
          {
           "lat": 50.91438,
           "lng": 0.56019
          },
          {
           "lat": 50.9143,
           "lng": 0.56017
          },
          {
           "lat": 50.91215,
           "lng": 0.55616
          },
          {
           "lat": 50.90823,
           "lng": 0.56336
          },
          {
           "lat": 50.90623,
           "lng": 0.56281
          },
          {
           "lat": 50.90542,
           "lng": 0.56329
          },
          {
           "lat": 50.90161,
           "lng": 0.5612
          },
          {
           "lat": 50.90098,
           "lng": 0.5598
          },
          {
           "lat": 50.90063,
           "lng": 0.55932
          },
          {
           "lat": 50.89823,
           "lng": 0.54898
          },
          {
           "lat": 50.8976,
           "lng": 0.54831
          },
          {
           "lat": 50.89826,
           "lng": 0.53858
          },
          {
           "lat": 50.90023,
           "lng": 0.53297
          },
          {
           "lat": 50.89669,
           "lng": 0.52907
          }
         ],
         "Postcode": "TN33 0"
        },
        {
         "Center": {
          "lat": 50.90041,
          "lng": 0.62094
         },
         "Coordinates": [
          {
           "lat": 50.87759,
           "lng": 0.60001
          },
          {
           "lat": 50.87767,
           "lng": 0.59988
          },
          {
           "lat": 50.8778,
           "lng": 0.59987
          },
          {
           "lat": 50.87882,
           "lng": 0.59867
          },
          {
           "lat": 50.88198,
           "lng": 0.59898
          },
          {
           "lat": 50.88291,
           "lng": 0.59511
          },
          {
           "lat": 50.88247,
           "lng": 0.59409
          },
          {
           "lat": 50.8822,
           "lng": 0.59368
          },
          {
           "lat": 50.88218,
           "lng": 0.59362
          },
          {
           "lat": 50.88198,
           "lng": 0.59123
          },
          {
           "lat": 50.88165,
           "lng": 0.59017
          },
          {
           "lat": 50.88144,
           "lng": 0.58867
          },
          {
           "lat": 50.8827,
           "lng": 0.58652
          },
          {
           "lat": 50.88262,
           "lng": 0.58568
          },
          {
           "lat": 50.88316,
           "lng": 0.58489
          },
          {
           "lat": 50.88369,
           "lng": 0.58447
          },
          {
           "lat": 50.88485,
           "lng": 0.58466
          },
          {
           "lat": 50.88639,
           "lng": 0.58241
          },
          {
           "lat": 50.8865,
           "lng": 0.58234
          },
          {
           "lat": 50.88677,
           "lng": 0.5822
          },
          {
           "lat": 50.88803,
           "lng": 0.58116
          },
          {
           "lat": 50.88987,
           "lng": 0.57913
          },
          {
           "lat": 50.89236,
           "lng": 0.57926
          },
          {
           "lat": 50.89355,
           "lng": 0.57697
          },
          {
           "lat": 50.89363,
           "lng": 0.57695
          },
          {
           "lat": 50.89785,
           "lng": 0.56689
          },
          {
           "lat": 50.89916,
           "lng": 0.56615
          },
          {
           "lat": 50.90161,
           "lng": 0.5612
          },
          {
           "lat": 50.90542,
           "lng": 0.56329
          },
          {
           "lat": 50.90623,
           "lng": 0.56281
          },
          {
           "lat": 50.90823,
           "lng": 0.56336
          },
          {
           "lat": 50.91215,
           "lng": 0.55616
          },
          {
           "lat": 50.9143,
           "lng": 0.56017
          },
          {
           "lat": 50.91438,
           "lng": 0.56019
          },
          {
           "lat": 50.91911,
           "lng": 0.56454
          },
          {
           "lat": 50.91937,
           "lng": 0.56443
          },
          {
           "lat": 50.9214,
           "lng": 0.565
          },
          {
           "lat": 50.9225,
           "lng": 0.56394
          },
          {
           "lat": 50.92485,
           "lng": 0.55468
          },
          {
           "lat": 50.92696,
           "lng": 0.55236
          },
          {
           "lat": 50.93233,
           "lng": 0.55364
          },
          {
           "lat": 50.93335,
           "lng": 0.56495
          },
          {
           "lat": 50.93261,
           "lng": 0.56763
          },
          {
           "lat": 50.93278,
           "lng": 0.57035
          },
          {
           "lat": 50.92958,
           "lng": 0.57518
          },
          {
           "lat": 50.92605,
           "lng": 0.58328
          },
          {
           "lat": 50.9264,
           "lng": 0.58516
          },
          {
           "lat": 50.92916,
           "lng": 0.58973
          },
          {
           "lat": 50.92894,
           "lng": 0.59147
          },
          {
           "lat": 50.92954,
           "lng": 0.6074
          },
          {
           "lat": 50.92913,
           "lng": 0.609
          },
          {
           "lat": 50.92913,
           "lng": 0.61313
          },
          {
           "lat": 50.92794,
           "lng": 0.61619
          },
          {
           "lat": 50.92755,
           "lng": 0.62001
          },
          {
           "lat": 50.92755,
           "lng": 0.62002
          },
          {
           "lat": 50.92369,
           "lng": 0.62312
          },
          {
           "lat": 50.91863,
           "lng": 0.63014
          },
          {
           "lat": 50.91832,
           "lng": 0.63851
          },
          {
           "lat": 50.91639,
           "lng": 0.64105
          },
          {
           "lat": 50.90939,
           "lng": 0.64181
          },
          {
           "lat": 50.90755,
           "lng": 0.64355
          },
          {
           "lat": 50.90854,
           "lng": 0.65158
          },
          {
           "lat": 50.90733,
           "lng": 0.66283
          },
          {
           "lat": 50.90726,
           "lng": 0.66294
          },
          {
           "lat": 50.9065,
           "lng": 0.66694
          },
          {
           "lat": 50.90125,
           "lng": 0.67
          },
          {
           "lat": 50.89837,
           "lng": 0.68111
          },
          {
           "lat": 50.89892,
           "lng": 0.68478
          },
          {
           "lat": 50.90073,
           "lng": 0.68855
          },
          {
           "lat": 50.90402,
           "lng": 0.69436
          },
          {
           "lat": 50.90448,
           "lng": 0.69668
          },
          {
           "lat": 50.90286,
           "lng": 0.70603
          },
          {
           "lat": 50.90144,
           "lng": 0.70862
          },
          {
           "lat": 50.89171,
           "lng": 0.69174
          },
          {
           "lat": 50.89065,
           "lng": 0.6899
          },
          {
           "lat": 50.88879,
           "lng": 0.68667
          },
          {
           "lat": 50.88738,
           "lng": 0.68504
          },
          {
           "lat": 50.88654,
           "lng": 0.68405
          },
          {
           "lat": 50.88186,
           "lng": 0.67862
          },
          {
           "lat": 50.881,
           "lng": 0.67762
          },
          {
           "lat": 50.87837,
           "lng": 0.67457
          },
          {
           "lat": 50.87656,
           "lng": 0.67247
          },
          {
           "lat": 50.87545,
           "lng": 0.67117
          },
          {
           "lat": 50.87421,
           "lng": 0.66974
          },
          {
           "lat": 50.87399,
           "lng": 0.66947
          },
          {
           "lat": 50.87317,
           "lng": 0.66705
          },
          {
           "lat": 50.87252,
           "lng": 0.66513
          },
          {
           "lat": 50.87188,
           "lng": 0.66321
          },
          {
           "lat": 50.87,
           "lng": 0.65763
          },
          {
           "lat": 50.8696,
           "lng": 0.65642
          },
          {
           "lat": 50.86906,
           "lng": 0.65246
          },
          {
           "lat": 50.86712,
           "lng": 0.63824
          },
          {
           "lat": 50.8654,
           "lng": 0.63428
          },
          {
           "lat": 50.87067,
           "lng": 0.63528
          },
          {
           "lat": 50.87453,
           "lng": 0.63091
          },
          {
           "lat": 50.88104,
           "lng": 0.63671
          },
          {
           "lat": 50.88233,
           "lng": 0.63549
          },
          {
           "lat": 50.88222,
           "lng": 0.62925
          },
          {
           "lat": 50.88219,
           "lng": 0.62916
          },
          {
           "lat": 50.88076,
           "lng": 0.62673
          },
          {
           "lat": 50.87966,
           "lng": 0.62529
          },
          {
           "lat": 50.88007,
           "lng": 0.62324
          },
          {
           "lat": 50.88262,
           "lng": 0.62012
          },
          {
           "lat": 50.88279,
           "lng": 0.61853
          },
          {
           "lat": 50.88366,
           "lng": 0.61779
          },
          {
           "lat": 50.88331,
           "lng": 0.61634
          },
          {
           "lat": 50.88028,
           "lng": 0.61585
          },
          {
           "lat": 50.88078,
           "lng": 0.61399
          },
          {
           "lat": 50.8785,
           "lng": 0.61238
          },
          {
           "lat": 50.87849,
           "lng": 0.61234
          },
          {
           "lat": 50.87745,
           "lng": 0.61165
          },
          {
           "lat": 50.87692,
           "lng": 0.61214
          },
          {
           "lat": 50.87654,
           "lng": 0.61
          },
          {
           "lat": 50.87612,
           "lng": 0.61051
          },
          {
           "lat": 50.87547,
           "lng": 0.61038
          },
          {
           "lat": 50.87542,
           "lng": 0.60989
          },
          {
           "lat": 50.8748,
           "lng": 0.60928
          },
          {
           "lat": 50.87521,
           "lng": 0.60811
          },
          {
           "lat": 50.87522,
           "lng": 0.60705
          },
          {
           "lat": 50.87522,
           "lng": 0.60704
          },
          {
           "lat": 50.87542,
           "lng": 0.60658
          },
          {
           "lat": 50.87681,
           "lng": 0.60612
          },
          {
           "lat": 50.87732,
           "lng": 0.60566
          },
          {
           "lat": 50.87633,
           "lng": 0.60371
          },
          {
           "lat": 50.87631,
           "lng": 0.60359
          },
          {
           "lat": 50.87631,
           "lng": 0.60324
          },
          {
           "lat": 50.87759,
           "lng": 0.60001
          }
         ],
         "Postcode": "TN35 4"
        }
       ],
       "PostcodesRemaining": [
        "T N",
        "TN31 6",
        "TN33 0",
        "TN35 4"
       ],
       "PowerCutType": "Restored",
       "Scope": null,
       "ServiceDown": false,
       "ServiceDownUrl": null,
       "Steps": [
        {
         "Active": true,
         "Date": "2021-04-10T20:43:38.02",
         "Message": "Update at 20:43 - We believe our engineers have been able to restore power to all affected customers in the Battle TN33 area, by diverting power around the fault on our cabling network. Due to the nature of this issue, if your power isn't back on we'll need to hear from you. To report this, or to talk to us about anything else, call us on 08003163105 which is free from landlines and mobiles. We know your power may have been off for a long time, so we're sorry for any disruption or worry this caused you. Being without power during the current pandemic can be especially difficult, but please rest assured that as key workers, our staff will continue to work around the clock to keep the lights on. If you have any concerns or questions, give us a call any time.",
         "Name": null
        },
        {
         "Active": false,
         "Date": "2021-04-10T16:46:00",
         "Message": "<p>We became aware of this power cut at 16:46. We’re sorry for any disruption this may have caused you. We didn’t know in advance there would be a power cut, but now that we know, our teams will do everything they can to get your power back quickly. Engineers in our control room have switched some customers power back on in your area. To get everyone’s power back on we may need to attend to investigate and make repairs. We’ll continue to update you until everyone’s power is back on.</p>",
         "Name": "We are restoring customers automatically"
        },
        {
         "Active": false,
         "Date": "2021-04-10T20:29:26",
         "Message": "<p>We have engineers on their way. As this is affecting your area, they will not need to attend your property. Rest assured once they arrive, they&rsquo;ll work as quickly as is safely possible to get your power back on.</p>",
         "Name": "Engineers on their way"
        },
        {
         "Active": false,
         "Date": "2021-04-10T20:29:31",
         "Message": "<p>Engineers are now on site, carrying out investigations into the fault. Once they have completed their assessment, they will carry out repairs.</p>",
         "Name": "Engineers investigating and fixing"
        },
        {
         "Active": true,
         "Date": "2021-04-10T20:38:04.53",
         "Message": "<p>All power in the area should be back on. We’re really sorry for any disruption this caused.</p>",
         "Name": "Power restored"
        }
       ],
       "UKPNIncident": {
        "AffectedCustomers": [],
        "CreationDateTime": "2021-04-10T20:17:16",
        "CustomersOffSupply": 0,
        "CustomersOnSupply": 438,
        "EstimatedRestorationDate": "2021-04-10T22:00:00",
        "IncidentCategory": "140",
        "IncidentId": "G0003c8baINCD",
        "IncidentPriority": 10,
        "IncidentReference": "INCD-247994-G",
        "IncidentType": 3,
        "IncidentTypeName": "Restored",
        "Latitude": 0,
        "Logs": [
         {
          "ActualEventTime": "2021-04-10T20:43:00",
          "CategoryId": 263,
          "Comment": "Update at 20:43 - We believe our engineers have been able to restore power to all affected customers in the Battle TN33 area, by diverting power around the fault on our cabling network. Due to the nature of this issue, if your power isn't back on we'll need to hear from you. To report this, or to talk to us about anything else, call us on 08003163105 which is free from landlines and mobiles. We know your power may have been off for a long time, so we're sorry for any disruption or worry this caused you. Being without power during the current pandemic can be especially difficult, but please rest assured that as key workers, our staff will continue to work around the clock to keep the lights on. If you have any concerns or questions, give us a call any time.",
          "LoggedTime": "2021-04-10T20:43:38.02",
          "TypeId": 0
         }
        ],
        "Longitude": 0,
        "NoCallsReported": 37,
        "NoCustomerAffected": 0,
        "NoPlannedCustomers": 0,
        "PlannedDate": null,
        "PlannedIncidentReason": "",
        "PostCodesAffected": [
         "T N",
         "TN31 6",
         "TN33 0",
         "TN35 4"
        ],
        "PostCodesPlanned": [
         "TN316HA",
         "TN316HB",
         "TN330PH",
         "TN330PJ",
         "TN330PL",
         "TN330PN",
         "TN330RS",
         "TN330RT",
         "TN330RU",
         "TN330RX",
         "TN330RY",
         "TN330SU",
         "TN34",
         "TN354PN",
         "TN354QA",
         "TN354QB",
         "TN354QQ",
         "TN354QZ",
         "TN354RA",
         "TN354RB",
         "TN354RD",
         "TN354RE",
         "TN354RF",
         "TN354RG",
         "TN354RH",
         "TN354RJ",
         "TN354RL",
         "TN354RN",
         "TN354RP",
         "TN354RQ",
         "TN354RR",
         "TN354RS",
         "TN354RT",
         "TN354RU",
         "TN354RX",
         "TN354SB",
         "TN354SD",
         "TN354SE",
         "TN354SG",
         "TN354SH",
         "TN354SJ",
         "TN354SL",
         "TN354SN",
         "TN354SU",
         "TN354SW"
        ],
        "PostCodesRestored": [
         "TN316HA",
         "TN316HB",
         "TN330PH",
         "TN330PJ",
         "TN330PL",
         "TN330PN",
         "TN330RS",
         "TN330RT",
         "TN330RU",
         "TN330RX",
         "TN330RY",
         "TN330SU",
         "TN34",
         "TN354PN",
         "TN354QA",
         "TN354QB",
         "TN354QQ",
         "TN354QZ",
         "TN354RA",
         "TN354RB",
         "TN354RD",
         "TN354RE",
         "TN354RF",
         "TN354RG",
         "TN354RH",
         "TN354RJ",
         "TN354RL",
         "TN354RN",
         "TN354RP",
         "TN354RQ",
         "TN354RR",
         "TN354RS",
         "TN354RT",
         "TN354RU",
         "TN354RX",
         "TN354SB",
         "TN354SD",
         "TN354SE",
         "TN354SG",
         "TN354SH",
         "TN354SJ",
         "TN354SL",
         "TN354SN",
         "TN354SU",
         "TN354SW"
        ],
        "ReceivedDate": "2021-04-10T16:46:00",
        "Resource": {
         "ArrivalDate": "2021-04-10T20:29:31",
         "DispatchedDate": "2021-04-10T20:29:26",
         "EstimatedTimeOfArrival": "0001-01-01T00:00:00",
         "Id": null,
         "Name": "PAUL (R5)",
         "StatusId": 6
        },
        "RestoredDateTime": "2021-04-10T20:38:04.53",
        "Scope": null,
        "StatusId": 5,
        "Timestamp": "2021:04:10:22:19:22:47"
       }
      },
      "text/plain": [
       "<IPython.core.display.JSON object>"
      ]
     },
     "execution_count": 13,
     "metadata": {
      "application/json": {
       "expanded": false,
       "root": "root"
      }
     },
     "output_type": "execute_result"
    }
   ],
   "source": [
    "incident_id = multiple_incident_ids[1]\n",
    "\n",
    "incident_detail_url = get_ukpn_incident_detail_url(incident_id)\n",
    "r_json = requests.get(incident_detail_url).json()\n",
    "\n",
    "JSON(r_json)"
   ]
  },
  {
   "cell_type": "code",
   "execution_count": null,
   "id": "offensive-bunch",
   "metadata": {},
   "outputs": [],
   "source": []
  },
  {
   "cell_type": "code",
   "execution_count": 14,
   "id": "great-policy",
   "metadata": {},
   "outputs": [],
   "source": [
    "#exports\n",
    "def is_ukpn_incident_active(r_json):\n",
    "    if r_json['PowerCutType'] == 'Restored':\n",
    "        return False\n",
    "    else:\n",
    "        return True\n",
    "    \n",
    "def extract_ukpn_relevant_info(r_json):\n",
    "    incident_info = {\n",
    "        'incident_active': is_ukpn_incident_active(r_json),\n",
    "        'restored_time': r_json['UKPNIncident']['RestoredDateTime'],\n",
    "        'estimated_restored_time': r_json['UKPNIncident']['EstimatedRestorationDate'],\n",
    "        'planned_time': r_json['UKPNIncident']['PlannedDate'],\n",
    "        'received_time': r_json['UKPNIncident']['ReceivedDate'],\n",
    "        'postcodes_impacted': r_json['FullPostcodeData'],\n",
    "        'description': r_json['IncidentCategoryCustomerFriendlyDescription'],\n",
    "        'incident_url': f\"https://www.ukpowernetworks.co.uk/power-cut/map?incidentid={r_json['IncidentReference']}\"\n",
    "    }\n",
    "    \n",
    "    return incident_info"
   ]
  },
  {
   "cell_type": "code",
   "execution_count": 15,
   "id": "annoying-documentary",
   "metadata": {},
   "outputs": [
    {
     "data": {
      "application/json": {
       "description": "We were investigating a high voltage overhead electricity line fault which caused a power cut in the local area.",
       "estimated_restored_time": "2021-04-10T22:00:00",
       "incident_active": false,
       "incident_url": "https://www.ukpowernetworks.co.uk/power-cut/map?incidentid=INCD-247994-G",
       "planned_time": null,
       "postcodes_impacted": [
        "TN316HA",
        "TN316HB",
        "TN330PH",
        "TN330PJ",
        "TN330PL",
        "TN330PN",
        "TN330RS",
        "TN330RT",
        "TN330RU",
        "TN330RX",
        "TN330RY",
        "TN330SU",
        "TN34",
        "TN354PN",
        "TN354QA",
        "TN354QB",
        "TN354QQ",
        "TN354QZ",
        "TN354RA",
        "TN354RB",
        "TN354RD",
        "TN354RE",
        "TN354RF",
        "TN354RG",
        "TN354RH",
        "TN354RJ",
        "TN354RL",
        "TN354RN",
        "TN354RP",
        "TN354RQ",
        "TN354RR",
        "TN354RS",
        "TN354RT",
        "TN354RU",
        "TN354RX",
        "TN354SB",
        "TN354SD",
        "TN354SE",
        "TN354SG",
        "TN354SH",
        "TN354SJ",
        "TN354SL",
        "TN354SN",
        "TN354SU",
        "TN354SW"
       ],
       "received_time": "2021-04-10T16:46:00",
       "restored_time": "2021-04-10T20:38:04.53"
      },
      "text/plain": [
       "<IPython.core.display.JSON object>"
      ]
     },
     "execution_count": 15,
     "metadata": {
      "application/json": {
       "expanded": false,
       "root": "root"
      }
     },
     "output_type": "execute_result"
    }
   ],
   "source": [
    "incident_info = extract_ukpn_relevant_info(r_json)\n",
    "\n",
    "JSON(incident_info)"
   ]
  },
  {
   "cell_type": "code",
   "execution_count": null,
   "id": "choice-gothic",
   "metadata": {},
   "outputs": [],
   "source": []
  },
  {
   "cell_type": "code",
   "execution_count": 16,
   "id": "typical-success",
   "metadata": {},
   "outputs": [],
   "source": [
    "#exports\n",
    "def get_ukpn_incidents_info(incidents_url='https://www.ukpowernetworks.co.uk/Incidents/GetIncidents'):\n",
    "    r_json = requests.get(incidents_url).json()\n",
    "\n",
    "    incident_ids = (\n",
    "        extract_ukpn_single_incident_ids(r_json) + \n",
    "        extract_ukpn_multiple_incident_ids(extract_ukpn_multiple_incident_urls(r_json))\n",
    "    )\n",
    "    \n",
    "    raw_incidents_info = dict()\n",
    "    cleaned_incidents_info = dict()\n",
    "\n",
    "    for incident_id in track(incident_ids, label='Details'):\n",
    "        try:\n",
    "            incident_detail_url = get_ukpn_incident_detail_url(incident_id)\n",
    "            r_json = requests.get(incident_detail_url).json()\n",
    "\n",
    "            raw_incidents_info[incident_id] = r_json\n",
    "            cleaned_incidents_info[incident_id] = extract_ukpn_relevant_info(r_json)\n",
    "        except:\n",
    "            warn(f'Failed to retrieve incident details for: {incident_id}')\n",
    "        \n",
    "    return raw_incidents_info, cleaned_incidents_info"
   ]
  },
  {
   "cell_type": "code",
   "execution_count": 17,
   "id": "occupied-concord",
   "metadata": {},
   "outputs": [
    {
     "data": {
      "text/html": [
       "<div><span class=\"Text-label\" style=\"display:inline-block; overflow:hidden; white-space:nowrap; text-overflow:ellipsis; min-width:15ex; max-width:15ex; vertical-align:middle; text-align:right\">Multiple Ids</span>\n",
       "<progress style=\"width:45ex\" max=\"6\" value=\"6\" class=\"Progress-main\"/></progress>\n",
       "<span class=\"Progress-label\"><strong>100%</strong></span>\n",
       "<span class=\"Iteration-label\">6/6</span>\n",
       "<span class=\"Time-label\">[00:01<00:00, 0.19s/it]</span></div>"
      ],
      "text/plain": [
       "\u001b[A\u001b[2K\r",
       "   Multiple Ids [█████████████████████████████████████████████] 6/6 [00:01<00:00, 0.19s/it]"
      ]
     },
     "metadata": {},
     "output_type": "display_data"
    },
    {
     "data": {
      "text/html": [
       "<div><span class=\"Text-label\" style=\"display:inline-block; overflow:hidden; white-space:nowrap; text-overflow:ellipsis; min-width:15ex; max-width:15ex; vertical-align:middle; text-align:right\">Details</span>\n",
       "<progress style=\"width:45ex\" max=\"61\" value=\"61\" class=\"Progress-main\"/></progress>\n",
       "<span class=\"Progress-label\"><strong>100%</strong></span>\n",
       "<span class=\"Iteration-label\">61/61</span>\n",
       "<span class=\"Time-label\">[00:12<00:00, 0.19s/it]</span></div>"
      ],
      "text/plain": [
       "\u001b[A\u001b[2K\r",
       "        Details [█████████████████████████████████████████████] 61/61 [00:12<00:00, 0.19s/it]"
      ]
     },
     "metadata": {},
     "output_type": "display_data"
    },
    {
     "data": {
      "application/json": [
       {
        "INCD-160671-Z": {
         "description": "A fault occurred on an underground electricity cable affecting the local area.",
         "estimated_restored_time": null,
         "incident_active": false,
         "incident_url": "https://www.ukpowernetworks.co.uk/power-cut/map?incidentid=INCD-160671-Z",
         "planned_time": null,
         "postcodes_impacted": [
          "WD31AB",
          "WD31AQ",
          "WD31AY",
          "WD31FZ",
          "WD31QA",
          "WD31QP"
         ],
         "received_time": "2020-05-29T09:00:00",
         "restored_time": "2021-04-10T12:32:51.467"
        },
        "INCD-227053-Z": {
         "description": "We're carrying out planned work in your area. For our engineers to carry it out safely they need to turn the power off. We're doing this work as it's essential to provide reliable electricity supplies to your area. We're sorry for any inconvenience caused and thank you for your patience.",
         "estimated_restored_time": "2021-04-10T15:00:00",
         "incident_active": true,
         "incident_url": "https://www.ukpowernetworks.co.uk/power-cut/map?incidentid=INCD-227053-Z",
         "planned_time": "2021-04-10T09:00:00",
         "postcodes_impacted": [
          "CB97UU"
         ],
         "received_time": "2021-04-10T09:03:00",
         "restored_time": "2021-04-10T11:24:54.75"
        },
        "INCD-227450-Z": {
         "description": "We're carrying out planned work in your area. For our engineers to carry it out safely they need to turn the power off. We're doing this work as it's essential to provide reliable electricity supplies to your area. We're sorry for any inconvenience caused and thank you for your patience.",
         "estimated_restored_time": "2021-04-10T11:00:00",
         "incident_active": true,
         "incident_url": "https://www.ukpowernetworks.co.uk/power-cut/map?incidentid=INCD-227450-Z",
         "planned_time": "2021-04-10T09:00:00",
         "postcodes_impacted": [
          "SG120HQ",
          "SG142PS",
          "SG142QR",
          "SG142RD"
         ],
         "received_time": "2021-04-10T09:21:00",
         "restored_time": "2021-04-10T11:54:05.273"
        },
        "INCD-229762-Z": {
         "description": "A fault occurred on an underground electricity cable affecting the local area.",
         "estimated_restored_time": "2021-04-08T18:00:00",
         "incident_active": false,
         "incident_url": "https://www.ukpowernetworks.co.uk/power-cut/map?incidentid=INCD-229762-Z",
         "planned_time": null,
         "postcodes_impacted": [
          "NR12JT",
          "NR12PN",
          "NR12PW",
          "NR12PY"
         ],
         "received_time": "2021-04-08T15:14:00",
         "restored_time": "2021-04-10T11:38:24.4"
        },
        "INCD-229829-Z": {
         "description": "Due to a faulty piece of underground network equipment we had to turn off your power.",
         "estimated_restored_time": "2021-04-09T20:00:00",
         "incident_active": false,
         "incident_url": "https://www.ukpowernetworks.co.uk/power-cut/map?incidentid=INCD-229829-Z",
         "planned_time": null,
         "postcodes_impacted": [
          "CM195JN",
          "CM195JP",
          "CM195JR",
          "CM195JU",
          "CM195JW",
          "CM195JY",
          "CM195JZ"
         ],
         "received_time": "2021-04-09T02:37:00",
         "restored_time": "2021-04-10T22:17:24.72"
        },
        "INCD-230057-Z": {
         "description": "A fault occurred on an underground electricity cable affecting the local area.",
         "estimated_restored_time": null,
         "incident_active": true,
         "incident_url": "https://www.ukpowernetworks.co.uk/power-cut/map?incidentid=INCD-230057-Z",
         "planned_time": null,
         "postcodes_impacted": [
          "HA80AD",
          "HA80ED",
          "HA80FD",
          "HA80FE",
          "HA80FH",
          "HA89BA",
          "HA89BE"
         ],
         "received_time": "2021-04-10T02:52:00",
         "restored_time": null
        },
        "INCD-230079-Z": {
         "description": "A fault occurred on an underground electricity cable affecting the local area.",
         "estimated_restored_time": "2021-04-10T19:30:00",
         "incident_active": false,
         "incident_url": "https://www.ukpowernetworks.co.uk/power-cut/map?incidentid=INCD-230079-Z",
         "planned_time": null,
         "postcodes_impacted": [
          "IP92EH",
          "IP92HY",
          "IP92HZ",
          "IP92JA",
          "IP92JQ",
          "IP92LE"
         ],
         "received_time": "2021-04-10T07:49:00",
         "restored_time": "2021-04-10T18:32:57.887"
        },
        "INCD-230080-Z": {
         "description": "We had to turn off power in your area so our engineers could safely carry out emergency repairs to the network.",
         "estimated_restored_time": null,
         "incident_active": false,
         "incident_url": "https://www.ukpowernetworks.co.uk/power-cut/map?incidentid=INCD-230080-Z",
         "planned_time": null,
         "postcodes_impacted": [
          "EN48AP",
          "EN48AR",
          "EN48AS",
          "EN48AX",
          "EN48AZ",
          "EN48BD",
          "EN48BZ",
          "EN48FG",
          "EN48RA",
          "EN48RQ",
          "EN48RW",
          "EN51FG",
          "EN51LP",
          "EN51PB",
          "EN51QN",
          "EN51QW"
         ],
         "received_time": "2021-04-10T08:05:00",
         "restored_time": "2021-04-10T13:38:26.463"
        },
        "INCD-230081-Z": {
         "description": "We had to turn off power in your area so our engineers could safely carry out emergency repairs to the network.",
         "estimated_restored_time": "2021-04-10T12:30:00",
         "incident_active": false,
         "incident_url": "https://www.ukpowernetworks.co.uk/power-cut/map?incidentid=INCD-230081-Z",
         "planned_time": null,
         "postcodes_impacted": [
          "SS72EH",
          "SS72EQ",
          "SS72ER",
          "SS72ES",
          "SS72EW",
          "SS72HF",
          "SS72HJ",
          "SS72HL",
          "SS72HN",
          "SS72HP",
          "SS72HR",
          "SS72HS",
          "SS72HT",
          "SS72HW",
          "SS72JD",
          "SS72JJ",
          "SS72JL",
          "SS72JN",
          "SS72JP"
         ],
         "received_time": "2021-04-10T08:19:00",
         "restored_time": "2021-04-10T12:22:08.493"
        },
        "INCD-230082-Z": {
         "description": "A fault occurred on an underground electricity cable affecting the local area.",
         "estimated_restored_time": null,
         "incident_active": false,
         "incident_url": "https://www.ukpowernetworks.co.uk/power-cut/map?incidentid=INCD-230082-Z",
         "planned_time": null,
         "postcodes_impacted": [
          "HA11TX",
          "HA11TY",
          "HA11TZ",
          "HA11UA",
          "HA11UJ",
          "HA11UL",
          "HA11UU",
          "HA11XS",
          "HA11XX"
         ],
         "received_time": "2021-04-10T08:29:33",
         "restored_time": "2021-04-10T22:20:33.903"
        },
        "INCD-230091-Z": {
         "description": "Our engineers had to redirect power due to a fault on the electricity network.",
         "estimated_restored_time": "2021-04-10T12:00:00",
         "incident_active": false,
         "incident_url": "https://www.ukpowernetworks.co.uk/power-cut/map?incidentid=INCD-230091-Z",
         "planned_time": null,
         "postcodes_impacted": [
          "IP28TJ",
          "IP300ET",
          "IP300HY",
          "IP309HX",
          "IP309HY",
          "IP309HZ",
          "IP309JB",
          "IP309JD",
          "IP309JE",
          "IP309JF",
          "IP309JG",
          "IP309JJ",
          "IP309JL",
          "IP309JQ",
          "IP309LR",
          "IP309LS",
          "IP309LT",
          "IP309LU",
          "IP309LX",
          "IP309LZ",
          "IP309ND",
          "IP309NG",
          "IP309NH",
          "IP309NQ",
          "IP312QU",
          "IP313QW",
          "IP313QX",
          "IP313QY",
          "IP313QZ",
          "IP313RA",
          "IP313TA",
          "IP313TN",
          "IP313TS",
          "IP32",
          "IP322TT",
          "IP327AA",
          "IP327AR",
          "IP327BX",
          "IP327EA",
          "IP327ES",
          "IP327EU",
          "IP327EX",
          "IP327EY",
          "IP327GJ",
          "IP327GL",
          "IP327GY",
          "IP327JT",
          "IP327JU",
          "IP327JW",
          "IP327JY",
          "IP327LZ",
          "IP327NL",
          "IP327NN",
          "IP327PE",
          "IP327PF",
          "IP327PG",
          "IP327PH",
          "IP327PL",
          "IP327PN",
          "IP327PP",
          "IP327PQ",
          "IP327PR",
          "IP327PS",
          "IP327PT",
          "IP327PZ",
          "IP327QA",
          "IP327QB",
          "IP327YB",
          "IP327YL"
         ],
         "received_time": "2021-04-10T09:43:57",
         "restored_time": "2021-04-10T11:13:35.673"
        },
        "INCD-230100-Z": {
         "description": "A fault occurred on a piece of our electrical equipment which controls the power to your home.",
         "estimated_restored_time": null,
         "incident_active": false,
         "incident_url": "https://www.ukpowernetworks.co.uk/power-cut/map?incidentid=INCD-230100-Z",
         "planned_time": null,
         "postcodes_impacted": [
          "NR70AD",
          "NR70RJ",
          "NR70RL",
          "NR70SA",
          "NR70SB",
          "NR70SE",
          "NR70SF",
          "NR70SG",
          "NR70SH",
          "NR70SQ",
          "NR70UP"
         ],
         "received_time": "2021-04-10T10:46:00",
         "restored_time": "2021-04-10T13:21:31.593"
        },
        "INCD-230102-Z": {
         "description": "A fault occurred on an underground electricity cable affecting the local area.",
         "estimated_restored_time": null,
         "incident_active": false,
         "incident_url": "https://www.ukpowernetworks.co.uk/power-cut/map?incidentid=INCD-230102-Z",
         "planned_time": null,
         "postcodes_impacted": [
          "SS07PA",
          "SS07PB",
          "SS11EN",
          "SS11EP",
          "SS11EW",
          "SS11HH",
          "SS11HJ",
          "SS11QA",
          "SS11QB",
          "SS11QD"
         ],
         "received_time": "2021-04-10T10:58:00",
         "restored_time": "2021-04-10T20:34:46.093"
        },
        "INCD-230103-Z": {
         "description": "A fault occurred on a piece of our electrical equipment which controls the power to your home.",
         "estimated_restored_time": "2021-04-10T13:30:00",
         "incident_active": false,
         "incident_url": "https://www.ukpowernetworks.co.uk/power-cut/map?incidentid=INCD-230103-Z",
         "planned_time": null,
         "postcodes_impacted": [
          "RM112ND",
          "RM112NT",
          "RM112NU",
          "RM112NY",
          "RM112NZ"
         ],
         "received_time": "2021-04-10T11:07:00",
         "restored_time": "2021-04-10T11:56:32.597"
        },
        "INCD-230113-Z": {
         "description": "A fault occurred on a piece of our electrical equipment which controls the power to your home.",
         "estimated_restored_time": "2021-04-10T17:00:00",
         "incident_active": false,
         "incident_url": "https://www.ukpowernetworks.co.uk/power-cut/map?incidentid=INCD-230113-Z",
         "planned_time": null,
         "postcodes_impacted": [
          "HP25AH",
          "HP25AQ",
          "HP25DD",
          "HP25PS",
          "HP25SJ",
          "HP25SL",
          "HP25SN",
          "HP25SW",
          "HP25XE",
          "HP25XF",
          "HP25XR"
         ],
         "received_time": "2021-04-10T13:09:00",
         "restored_time": "2021-04-10T15:01:09.347"
        },
        "INCD-230130-Z": {
         "description": "We were investigating an electricity cable that was damaged, causing a power cut in the local area.",
         "estimated_restored_time": "2021-04-10T23:30:00",
         "incident_active": true,
         "incident_url": "https://www.ukpowernetworks.co.uk/power-cut/map?incidentid=INCD-230130-Z",
         "planned_time": null,
         "postcodes_impacted": [
          "MK443PN"
         ],
         "received_time": "2021-04-10T21:05:00",
         "restored_time": null
        },
        "INCD-230133-Z": {
         "description": "A fault occurred on a piece of our electrical equipment which controls the power to your home.",
         "estimated_restored_time": "2021-04-10T18:00:00",
         "incident_active": false,
         "incident_url": "https://www.ukpowernetworks.co.uk/power-cut/map?incidentid=INCD-230133-Z",
         "planned_time": null,
         "postcodes_impacted": [
          "CM59LF",
          "CM59LG",
          "CM59LP",
          "CM59LQ"
         ],
         "received_time": "2021-04-10T15:44:00",
         "restored_time": "2021-04-10T16:28:02.233"
        },
        "INCD-230148-Z": {
         "description": "A fault occurred on a piece of our electrical equipment which controls the power to your home.",
         "estimated_restored_time": "2021-04-10T21:00:00",
         "incident_active": false,
         "incident_url": "https://www.ukpowernetworks.co.uk/power-cut/map?incidentid=INCD-230148-Z",
         "planned_time": null,
         "postcodes_impacted": [
          "MK453AQ",
          "MK453FF",
          "MK453FH",
          "MK453JU",
          "MK453LA",
          "MK453LB",
          "MK453LD",
          "MK453LE",
          "MK453LF",
          "MK453LH",
          "MK453LJ",
          "MK453LL",
          "MK453NR"
         ],
         "received_time": "2021-04-10T18:09:00",
         "restored_time": "2021-04-10T19:45:12.85"
        },
        "INCD-230160-Z": {
         "description": "A fault occurred on a piece of our electrical equipment which controls the power to your home.",
         "estimated_restored_time": "2021-04-11T00:00:00",
         "incident_active": true,
         "incident_url": "https://www.ukpowernetworks.co.uk/power-cut/map?incidentid=INCD-230160-Z",
         "planned_time": null,
         "postcodes_impacted": [
          "PE147NS",
          "PE147NU",
          "PE147NY",
          "PE147PH",
          "PE147PL",
          "PE147PN"
         ],
         "received_time": "2021-04-10T20:55:00",
         "restored_time": null
        },
        "INCD-247691-G": {
         "description": "We had to turn off power in your area so our engineers could safely carry out emergency repairs to the network.",
         "estimated_restored_time": null,
         "incident_active": true,
         "incident_url": "https://www.ukpowernetworks.co.uk/power-cut/map?incidentid=INCD-247691-G",
         "planned_time": null,
         "postcodes_impacted": [
          "BN11YE",
          "UMS",
          "BN11UA",
          "BN11YA",
          "BN14AB",
          "BN14AD",
          "BN14AE",
          "BN14AF",
          "BN14AG"
         ],
         "received_time": "2021-04-04T02:05:00",
         "restored_time": null
        },
        "INCD-247784-G": {
         "description": "We had to turn off power in your area so our engineers could safely carry out emergency repairs to the network.",
         "estimated_restored_time": "2021-04-10T18:30:00",
         "incident_active": false,
         "incident_url": "https://www.ukpowernetworks.co.uk/power-cut/map?incidentid=INCD-247784-G",
         "planned_time": null,
         "postcodes_impacted": [
          "RH76NZ",
          "RH76PA"
         ],
         "received_time": "2021-04-09T07:10:00",
         "restored_time": "2021-04-10T16:25:00"
        },
        "INCD-247961-G": {
         "description": "A fault occurred on an underground electricity cable affecting the local area.",
         "estimated_restored_time": null,
         "incident_active": true,
         "incident_url": "https://www.ukpowernetworks.co.uk/power-cut/map?incidentid=INCD-247961-G",
         "planned_time": null,
         "postcodes_impacted": [
          "TN74ET"
         ],
         "received_time": "2021-04-10T00:20:00",
         "restored_time": null
        },
        "INCD-247963-G": {
         "description": "A fault occurred on an underground electricity cable affecting the local area.",
         "estimated_restored_time": "2021-04-10T18:00:00",
         "incident_active": false,
         "incident_url": "https://www.ukpowernetworks.co.uk/power-cut/map?incidentid=INCD-247963-G",
         "planned_time": null,
         "postcodes_impacted": [
          "CT101NL",
          "CT101NN",
          "CT101NP",
          "CT101NQ",
          "CT101NR",
          "CT101NW"
         ],
         "received_time": "2021-04-10T01:26:00",
         "restored_time": "2021-04-10T16:12:36.083"
        },
        "INCD-247966-G": {
         "description": "A fault occurred on a piece of our electrical equipment which controls the power to your home.",
         "estimated_restored_time": "2021-04-10T13:30:00",
         "incident_active": false,
         "incident_url": "https://www.ukpowernetworks.co.uk/power-cut/map?incidentid=INCD-247966-G",
         "planned_time": null,
         "postcodes_impacted": [
          "CR01LD",
          "CR91ED",
          "CR92NS"
         ],
         "received_time": "2021-04-10T08:36:00",
         "restored_time": "2021-04-10T12:35:53.69"
        },
        "INCD-247968-G": {
         "description": "An underground electricity cable faulted on our high voltage network, causing an area wide power cut.",
         "estimated_restored_time": "2021-04-10T13:00:00",
         "incident_active": false,
         "incident_url": "https://www.ukpowernetworks.co.uk/power-cut/map?incidentid=INCD-247968-G",
         "planned_time": null,
         "postcodes_impacted": [
          "BN126NX",
          "BN126NZ",
          "BN133NT",
          "BN133NX",
          "BN133PP",
          "BN133PR",
          "BN133PS",
          "BN133PT",
          "BN133PU",
          "BN133PX",
          "BN133PY",
          "BN133PZ",
          "BN133QL",
          "BN133QZ",
          "BN133RD",
          "BN133RE",
          "BN133RS",
          "BN133RT",
          "BN133RU",
          "BN133RW",
          "BN133RX",
          "BN133RY",
          "BN133RZ",
          "BN133SA",
          "BN133SL",
          "BN133SN",
          "BN133SP",
          "BN133SR",
          "BN133SS",
          "BN133ST",
          "BN133SU",
          "BN133SW",
          "BN133TB"
         ],
         "received_time": "2021-04-10T09:58:32",
         "restored_time": "2021-04-10T11:10:37.04"
        },
        "INCD-247973-G": {
         "description": "We were investigating a high voltage overhead electricity line fault which caused a power cut in the local area.",
         "estimated_restored_time": "2021-04-10T17:00:00",
         "incident_active": false,
         "incident_url": "https://www.ukpowernetworks.co.uk/power-cut/map?incidentid=INCD-247973-G",
         "planned_time": null,
         "postcodes_impacted": [
          "TN290NH",
          "TN299AF",
          "TN299AH",
          "TN299AJ",
          "TN299AL",
          "TN299AN",
          "TN299AR",
          "TN299AS",
          "TN299AT",
          "TN299AU",
          "TN299AW",
          "TN299AX",
          "TN299AY",
          "TN299AZ",
          "TN299BA",
          "TN299BB",
          "TN299BH",
          "TN299BJ",
          "TN299BL",
          "TN299BN",
          "TN299BP",
          "TN299BS",
          "TN299BT",
          "TN299BW",
          "TN299DB",
          "TN299DD",
          "TN299DF",
          "TN299DG",
          "TN299DH",
          "TN299DJ",
          "TN299DN",
          "TN299DP",
          "TN299DQ",
          "TN299DR",
          "TN299DS",
          "TN299DT",
          "TN299DU",
          "TN299DW",
          "TN299DX",
          "TN299DY",
          "TN299DZ",
          "TN299EA",
          "TN299EB",
          "TN299ED",
          "TN299EE",
          "TN299EF",
          "TN299EG",
          "TN299EH",
          "TN299EJ",
          "TN299EL",
          "TN299EN",
          "TN299EP",
          "TN299EQ",
          "TN299ER",
          "TN299EW",
          "TN299HN",
          "TN299HR",
          "TN299HX",
          "TN299HY",
          "TN299JB",
          "TN299JN",
          "TN299JP",
          "TN299JT",
          "TN299JU",
          "TN299JW",
          "TN299JX",
          "TN299JY",
          "TN299JZ",
          "TN299LA",
          "TN299LB",
          "TN299LD",
          "TN299LE",
          "TN299LF",
          "TN299LG",
          "TN299LH",
          "TN299LJ",
          "TN299LL",
          "TN299LN",
          "TN299LP",
          "TN299LQ",
          "TN299LS",
          "TN299LT",
          "TN299LW",
          "TN299LX",
          "TN299LY",
          "TN299LZ",
          "TN299NE",
          "TN299PU",
          "TN299PY",
          "TN299PZ",
          "TN299QA",
          "TN299QB",
          "TN299QG",
          "TN299QQ",
          "TN299SF",
          "TN299SX",
          "TN299UT",
          "TN299UU"
         ],
         "received_time": "2021-04-10T11:02:11",
         "restored_time": "2021-04-10T15:55:39.4"
        },
        "INCD-247974-G": {
         "description": "An underground electricity cable faulted on our high voltage network, causing an area wide power cut.",
         "estimated_restored_time": null,
         "incident_active": true,
         "incident_url": "https://www.ukpowernetworks.co.uk/power-cut/map?incidentid=INCD-247974-G",
         "planned_time": null,
         "postcodes_impacted": [
          "RH110NR",
          "RH11ONR",
          "TN127AU",
          "TN316HA",
          "TN316HB",
          "TN33",
          "TN330FJ",
          "TN330GR",
          "TN330PB",
          "TN330PE",
          "TN330PF",
          "TN330PG",
          "TN330PH",
          "TN330PJ",
          "TN330PL",
          "TN330PN",
          "TN330PP",
          "TN330PQ",
          "TN330PR",
          "TN330PS",
          "TN330PT",
          "TN330PU",
          "TN330PW",
          "TN330PX",
          "TN330PY",
          "TN330PZ",
          "TN330QA",
          "TN330QB",
          "TN330QD",
          "TN330QE",
          "TN330QF",
          "TN330QG",
          "TN330QJ",
          "TN330QL",
          "TN330QN",
          "TN330QP",
          "TN330QQ",
          "TN330QR",
          "TN330QS",
          "TN330QT",
          "TN330QU",
          "TN330QW",
          "TN330QX",
          "TN330QY",
          "TN330QZ",
          "TN330RD",
          "TN330RE",
          "TN330RF",
          "TN330RH",
          "TN330RJ",
          "TN330RL",
          "TN330RN",
          "TN330RP",
          "TN330RQ",
          "TN330RR",
          "TN330RS",
          "TN330RT",
          "TN330RU",
          "TN330RX",
          "TN330RY",
          "TN330RZ",
          "TN330SA",
          "TN330SB",
          "TN330SD",
          "TN330SE",
          "TN330SF",
          "TN330SG",
          "TN330SU",
          "TN330YE",
          "TN34",
          "TN342FB",
          "TN342FT",
          "TN342FU",
          "TN342LZ",
          "TN342QX",
          "TN342QZ",
          "TN342RA",
          "TN342RB",
          "TN342RD",
          "TN342RE",
          "TN342RF",
          "TN342RG",
          "TN342RH",
          "TN342RJ",
          "TN342RL",
          "TN342RN",
          "TN342RP",
          "TN342RQ",
          "TN342RR",
          "TN342RS",
          "TN342RT",
          "TN342RU",
          "TN342RW",
          "TN342RX",
          "TN342RY",
          "TN342SA",
          "TN342SB",
          "TN342SE",
          "TN342SF",
          "TN342SW",
          "TN342TR",
          "TN354PN",
          "TN354QA",
          "TN354QB",
          "TN354QQ",
          "TN354QZ",
          "TN354RA",
          "TN354RB",
          "TN354RD",
          "TN354RE",
          "TN354RF",
          "TN354RG",
          "TN354RH",
          "TN354RJ",
          "TN354RL",
          "TN354RN",
          "TN354RP",
          "TN354RQ",
          "TN354RR",
          "TN354RS",
          "TN354RT",
          "TN354RU",
          "TN354RX",
          "TN354SB",
          "TN354SD",
          "TN354SE",
          "TN354SG",
          "TN354SH",
          "TN354SJ",
          "TN354SL",
          "TN354SN",
          "TN354SU",
          "TN354SW",
          "TN377NA",
          "TN377NB",
          "TN377ND",
          "TN377NE",
          "TN377NG",
          "TN377PN",
          "TN377PT",
          "TN377PW",
          "TN386AE"
         ],
         "received_time": "2021-04-10T11:05:03",
         "restored_time": null
        },
        "INCD-247976-G": {
         "description": "We were investigating a high voltage overhead electricity line fault which caused a power cut in the local area.",
         "estimated_restored_time": "2021-04-10T23:00:00",
         "incident_active": false,
         "incident_url": "https://www.ukpowernetworks.co.uk/power-cut/map?incidentid=INCD-247976-G",
         "planned_time": null,
         "postcodes_impacted": [
          "RH194HG",
          "TN33",
          "TN330FD",
          "TN330GF",
          "TN330HA",
          "TN330HH",
          "TN330HJ",
          "TN330HL",
          "TN330HN",
          "TN330HS",
          "TN330HU",
          "TN330HW",
          "TN330JG",
          "TN330JH",
          "TN330JL",
          "TN330JN",
          "TN330JQ",
          "TN330JW",
          "TN330LA",
          "TN330LB",
          "TN330LD",
          "TN330LE",
          "TN330LG",
          "TN330LH",
          "TN330LL",
          "TN330LP",
          "TN330LQ",
          "TN330LR",
          "TN330LS",
          "TN330LT",
          "TN330LU",
          "TN330LZ",
          "TN330NA",
          "TN330PU",
          "TN330RB",
          "TN330RE",
          "TN330TY",
          "TN339LJ",
          "TN339LL",
          "TN339LN",
          "TN339LP",
          "TN339LR",
          "TN339LS",
          "TN339LT",
          "TN339LX",
          "TN339PP",
          "TN339PR",
          "TN339PU",
          "TN339PX",
          "TN339PY",
          "TN339PZ",
          "TN339QA",
          "TN339QB",
          "TN339QD",
          "TN339QF",
          "TN339QG",
          "TN339QH",
          "TN339QS",
          "TN339QT",
          "TN339QU",
          "TN33OSR"
         ],
         "received_time": "2021-04-10T12:02:34",
         "restored_time": "2021-04-10T20:50:45.527"
        },
        "INCD-247978-G": {
         "description": "An underground electricity cable faulted on our high voltage network, causing an area wide power cut.",
         "estimated_restored_time": "2021-04-10T17:00:00",
         "incident_active": false,
         "incident_url": "https://www.ukpowernetworks.co.uk/power-cut/map?incidentid=INCD-247978-G",
         "planned_time": null,
         "postcodes_impacted": [
          "BR26AA",
          "BR26AB",
          "BR26AD",
          "BR26AE",
          "BR26AG",
          "BR26DA",
          "BR26DB",
          "BR26DD",
          "BR26DE",
          "BR26DF",
          "BR26DG",
          "BR26DH",
          "BR26DJ",
          "BR26DL",
          "BR26DN",
          "BR26DP",
          "BR26DQ",
          "BR26DR",
          "BR26DS",
          "BR26DT",
          "BR26DU",
          "BR26DW",
          "BR26HL",
          "BR26HP",
          "BR26HR",
          "BR26HS",
          "BR26HT",
          "BR26HU",
          "BR26HZ",
          "BR67GZ",
          "BR67HH",
          "BR67JB",
          "BR67JD",
          "BR67JE",
          "CR69PH",
          "CR69PL",
          "CR69PN",
          "CR69PP",
          "CR69PQ",
          "CR69PW",
          "CR69QF",
          "CR85UR",
          "DA110GF",
          "TN163BN",
          "TN163BS",
          "TN163BT",
          "TN163BU",
          "TN163BW",
          "TN163BX",
          "TN163DD",
          "TN163DE",
          "TN163DG",
          "TN163DH",
          "TN163DJ",
          "TN163DL",
          "TN163DP",
          "TN163DR",
          "TN163DU",
          "TN163EA",
          "TN163EB",
          "TN163EE",
          "TN163EG",
          "TN163EH",
          "TN163EL",
          "TN163EN",
          "TN163ER",
          "TN163ES",
          "TN163EW",
          "TN163GA",
          "TN163GB",
          "TN163GD",
          "TN163GF",
          "TN163GG",
          "TN163GH",
          "TN163GJ",
          "TN163GL",
          "TN163LW",
          "TN163UT",
          "TN163XB",
          "TN163XD",
          "TN163XE",
          "TN163XF",
          "TN163XG",
          "TN163XH",
          "TN163XJ",
          "TN163XL",
          "TN163XN",
          "TN163YN"
         ],
         "received_time": "2021-04-10T12:29:59",
         "restored_time": "2021-04-10T16:25:21.82"
        },
        "INCD-247987-G": {
         "description": "Our engineers had to redirect power due to a fault on the electricity network.",
         "estimated_restored_time": "2021-04-10T22:00:00",
         "incident_active": false,
         "incident_url": "https://www.ukpowernetworks.co.uk/power-cut/map?incidentid=INCD-247987-G",
         "planned_time": null,
         "postcodes_impacted": [
          "TN330PH",
          "TN330PJ",
          "TN330PL",
          "TN330PN",
          "TN330SU"
         ],
         "received_time": "2021-04-10T15:24:54",
         "restored_time": "2021-04-10T20:38:17.203"
        },
        "INCD-247991-G": {
         "description": "We had to turn off power in your area so our engineers could safely carry out emergency repairs to the network.",
         "estimated_restored_time": null,
         "incident_active": false,
         "incident_url": "https://www.ukpowernetworks.co.uk/power-cut/map?incidentid=INCD-247991-G",
         "planned_time": null,
         "postcodes_impacted": [
          "RH76NZ",
          "RH76PA"
         ],
         "received_time": "2021-04-10T17:12:11",
         "restored_time": "2021-04-10T17:20:08.153"
        },
        "INCD-247992-G": {
         "description": "We were investigating a high voltage overhead electricity line fault which caused a power cut in the local area.",
         "estimated_restored_time": "2021-04-10T21:00:00",
         "incident_active": false,
         "incident_url": "https://www.ukpowernetworks.co.uk/power-cut/map?incidentid=INCD-247992-G",
         "planned_time": null,
         "postcodes_impacted": [
          "GU4",
          "KT168HT",
          "ME171BQ",
          "ME173AB",
          "ME173AD",
          "ME173AE",
          "ME173AF",
          "ME173AG",
          "ME173AH",
          "ME173AJ",
          "ME173AL",
          "ME173AP",
          "ME173AR",
          "ME173AS",
          "ME173AU",
          "ME173AW",
          "ME173AX",
          "ME173AY",
          "ME173AZ",
          "ME173BA",
          "ME173BB",
          "ME173BD",
          "ME173BE",
          "ME173BG",
          "ME173BH",
          "ME173BJ",
          "ME173BL",
          "ME173BN",
          "ME173BP",
          "ME173BQ",
          "ME173BS",
          "ME173BT",
          "ME173BW",
          "ME173BX",
          "ME173BY",
          "ME173DA",
          "ME173DB",
          "ME173DN",
          "ME173EB",
          "ME173ED",
          "ME173EE",
          "ME173EG",
          "ME173EH",
          "ME173EL",
          "ME173EN",
          "ME173EW",
          "ME173EZ",
          "ME173FP",
          "ME173FS",
          "ME173FT",
          "ME173GS",
          "ME173HB",
          "ME173HH",
          "ME173HN",
          "ME173HR",
          "ME173HS",
          "ME173HT",
          "ME173HU",
          "ME173HX",
          "ME173JA",
          "ME173LN",
          "ME173LP",
          "ME173LQ",
          "ME173LR",
          "ME173LS",
          "ME173LW",
          "ME173NW",
          "ME173QA",
          "ME173QS",
          "ME173QY",
          "ME173RA",
          "ME173RB",
          "ME173RD",
          "ME173RE",
          "ME173RF",
          "ME173RG",
          "ME173RP",
          "ME173RQ",
          "ME173RR",
          "ME173RS",
          "ME173RT",
          "ME173RU",
          "ME173RX",
          "ME173RY",
          "ME173RZ",
          "ME173SA",
          "ME173SB",
          "ME173SD",
          "ME173SE",
          "ME173SG",
          "ME173SX",
          "ME185JL",
          "SM12NP"
         ],
         "received_time": "2021-04-10T16:56:55",
         "restored_time": "2021-04-10T21:15:46.023"
        },
        "INCD-247994-G": {
         "description": "We were investigating a high voltage overhead electricity line fault which caused a power cut in the local area.",
         "estimated_restored_time": "2021-04-10T22:00:00",
         "incident_active": false,
         "incident_url": "https://www.ukpowernetworks.co.uk/power-cut/map?incidentid=INCD-247994-G",
         "planned_time": null,
         "postcodes_impacted": [
          "TN316HA",
          "TN316HB",
          "TN330PH",
          "TN330PJ",
          "TN330PL",
          "TN330PN",
          "TN330RS",
          "TN330RT",
          "TN330RU",
          "TN330RX",
          "TN330RY",
          "TN330SU",
          "TN34",
          "TN354PN",
          "TN354QA",
          "TN354QB",
          "TN354QQ",
          "TN354QZ",
          "TN354RA",
          "TN354RB",
          "TN354RD",
          "TN354RE",
          "TN354RF",
          "TN354RG",
          "TN354RH",
          "TN354RJ",
          "TN354RL",
          "TN354RN",
          "TN354RP",
          "TN354RQ",
          "TN354RR",
          "TN354RS",
          "TN354RT",
          "TN354RU",
          "TN354RX",
          "TN354SB",
          "TN354SD",
          "TN354SE",
          "TN354SG",
          "TN354SH",
          "TN354SJ",
          "TN354SL",
          "TN354SN",
          "TN354SU",
          "TN354SW"
         ],
         "received_time": "2021-04-10T16:46:00",
         "restored_time": "2021-04-10T20:38:04.53"
        },
        "INCD-259347-J": {
         "description": "",
         "estimated_restored_time": null,
         "incident_active": false,
         "incident_url": "https://www.ukpowernetworks.co.uk/power-cut/map?incidentid=INCD-259347-J",
         "planned_time": null,
         "postcodes_impacted": [
          "W1H5BJ",
          "W1M1HB",
          "W1M1HE",
          "W1M1HJ",
          "W1M5LG",
          "W1U2DX",
          "W1U3AE",
          "W1U3DA",
          "W1U3DB",
          "W1U3DD",
          "W1U3DG",
          "W1U3DJ",
          "W1U3DL",
          "W1U3DN",
          "W1U3DQ",
          "W1U3JA",
          "W1U3JB",
          "W1U3JE",
          "W1U3QE",
          "W1U3QR",
          "W1U3QS",
          "W1U3QT",
          "W1U3QU",
          "W1U3QX",
          "W1U3QY",
          "W1U3QZ",
          "W1U4DG",
          "W1U5AH",
          "W1U6QJ",
          "W1U6QL",
          "W1U7DP",
          "W1U7HS",
          "W1U7HU",
          "W1U7HX",
          "W1U7HY",
          "W1U7HZ",
          "W1U7JA",
          "W1U7LS",
          "W1U7LT",
          "W1U7LU",
          "W1U7NE",
          "W1U7NF",
          "W1U7NN",
          "W1U7NP",
          "W1U7NR",
          "W1U7NS",
          "W1U7NT",
          "W1U7NU",
          "W1U7NW",
          "W1U7NX",
          "W1U7NY",
          "W1U7NZ",
          "W1U7PB",
          "W1U7PD",
          "W1U7PE",
          "W1U7PF",
          "W1U7PG",
          "W1U7PJ",
          "W1U7PN",
          "W1U7PP",
          "W1U7PQ",
          "W1U7PW"
         ],
         "received_time": "2021-04-04T19:24:38",
         "restored_time": "2021-04-10T22:05:50.4222884+01:00"
        },
        "INCD-259669-J": {
         "description": "A fault occurred on an underground electricity cable affecting the local area.",
         "estimated_restored_time": "2021-04-10T11:00:00",
         "incident_active": false,
         "incident_url": "https://www.ukpowernetworks.co.uk/power-cut/map?incidentid=INCD-259669-J",
         "planned_time": null,
         "postcodes_impacted": [
          "NW24NS",
          "NW24QN",
          "NW24QP"
         ],
         "received_time": "2021-04-09T22:39:00",
         "restored_time": "2021-04-10T15:19:14.69"
        },
        "INCD-259690-J": {
         "description": "We had to turn off power in your area so our engineers could safely carry out emergency repairs to the network.",
         "estimated_restored_time": "2021-04-10T12:30:00",
         "incident_active": false,
         "incident_url": "https://www.ukpowernetworks.co.uk/power-cut/map?incidentid=INCD-259690-J",
         "planned_time": null,
         "postcodes_impacted": [
          "SW62BS",
          "SW62LA",
          "SW62LB",
          "SW62LE",
          "SW62LF",
          "SW62LG",
          "SW62LJ",
          "SW62LQ",
          "SW62PS"
         ],
         "received_time": "2021-04-10T09:20:00",
         "restored_time": "2021-04-10T11:55:53.623"
        },
        "INCD-259692-J": {
         "description": "A fault occurred on a piece of our electrical equipment which controls the power to your home.",
         "estimated_restored_time": "2021-04-10T13:30:00",
         "incident_active": false,
         "incident_url": "https://www.ukpowernetworks.co.uk/power-cut/map?incidentid=INCD-259692-J",
         "planned_time": null,
         "postcodes_impacted": [
          "SE17EQ",
          "SE17LL",
          "SE17LN",
          "SE17LW"
         ],
         "received_time": "2021-04-10T09:28:00",
         "restored_time": "2021-04-10T11:35:11.88"
        },
        "INCD-259693-J": {
         "description": "A fault occurred on a piece of our electrical equipment which controls the power to your home.",
         "estimated_restored_time": "2021-04-10T13:00:00",
         "incident_active": false,
         "incident_url": "https://www.ukpowernetworks.co.uk/power-cut/map?incidentid=INCD-259693-J",
         "planned_time": null,
         "postcodes_impacted": [
          "E12EL",
          "E12HH",
          "E13AA",
          "E13AB",
          "E13AZ",
          "E13BB",
          "E13BD"
         ],
         "received_time": "2021-04-10T10:06:00",
         "restored_time": "2021-04-10T13:42:39.437"
        },
        "INCD-259709-J": {
         "description": "We were investigating an electricity cable that was damaged, causing a power cut in the local area.",
         "estimated_restored_time": "2021-04-10T18:00:00",
         "incident_active": false,
         "incident_url": "https://www.ukpowernetworks.co.uk/power-cut/map?incidentid=INCD-259709-J",
         "planned_time": null,
         "postcodes_impacted": [
          "NW66LA",
          "NW66LB",
          "NW66NP",
          "NW66NR"
         ],
         "received_time": "2021-04-10T13:53:00",
         "restored_time": "2021-04-10T17:32:21.083"
        },
        "INCD-259719-J": {
         "description": "A fault occurred on a piece of our electrical equipment which controls the power to your home.",
         "estimated_restored_time": "2021-04-11T00:30:00",
         "incident_active": true,
         "incident_url": "https://www.ukpowernetworks.co.uk/power-cut/map?incidentid=INCD-259719-J",
         "planned_time": null,
         "postcodes_impacted": [
          "SW22LL"
         ],
         "received_time": "2021-04-10T21:14:57",
         "restored_time": null
        },
        "INCD-44085-C": {
         "description": "A fault occurred on an underground electricity cable affecting the local area.",
         "estimated_restored_time": null,
         "incident_active": true,
         "incident_url": "https://www.ukpowernetworks.co.uk/power-cut/map?incidentid=INCD-44085-C",
         "planned_time": null,
         "postcodes_impacted": [
          "MK439DA",
          "MK439DB",
          "MK439JT"
         ],
         "received_time": "2021-04-10T14:11:00",
         "restored_time": null
        },
        "INCD-47807-V": {
         "description": "We were investigating a transformer fault on the electricity network that caused a power cut in the local area.",
         "estimated_restored_time": null,
         "incident_active": false,
         "incident_url": "https://www.ukpowernetworks.co.uk/power-cut/map?incidentid=INCD-47807-V",
         "planned_time": null,
         "postcodes_impacted": [
          "KT228SF",
          "KT228SG",
          "KT228SH",
          "KT228SQ"
         ],
         "received_time": "2021-01-15T13:42:01",
         "restored_time": "2021-04-10T19:32:35.43"
        },
        "INCD-54055-V": {
         "description": "A fault occurred on an underground electricity cable affecting the local area.",
         "estimated_restored_time": null,
         "incident_active": true,
         "incident_url": "https://www.ukpowernetworks.co.uk/power-cut/map?incidentid=INCD-54055-V",
         "planned_time": null,
         "postcodes_impacted": [
          "GU14SQ",
          "GU14RY",
          "GU14SG",
          "GU14SJ",
          "GU14SS",
          "GU14YN"
         ],
         "received_time": "2021-04-08T09:30:00",
         "restored_time": null
        },
        "INCD-54191-V": {
         "description": "A fault occurred on an underground electricity cable affecting the local area.",
         "estimated_restored_time": "2021-04-10T20:00:00",
         "incident_active": false,
         "incident_url": "https://www.ukpowernetworks.co.uk/power-cut/map?incidentid=INCD-54191-V",
         "planned_time": null,
         "postcodes_impacted": [
          "BN246BH",
          "BN246BJ",
          "BN246HR",
          "BN246JD",
          "BN246JE",
          "BN246JF",
          "BN246JG",
          "BN246JH",
          "BN246JL",
          "BN246JQ"
         ],
         "received_time": "2021-04-10T10:48:00",
         "restored_time": "2021-04-10T19:30:33.503"
        },
        "INCD-54195-V": {
         "description": "We were investigating a high voltage overhead electricity line fault which caused a power cut in the local area.",
         "estimated_restored_time": "2021-04-10T15:00:00",
         "incident_active": false,
         "incident_url": "https://www.ukpowernetworks.co.uk/power-cut/map?incidentid=INCD-54195-V",
         "planned_time": null,
         "postcodes_impacted": [
          "TN120DL",
          "TN172DT",
          "TN172DU",
          "TN172DX",
          "TN172EA",
          "TN172EB",
          "TN172ED",
          "TN172EE",
          "TN172EH",
          "TN179BT"
         ],
         "received_time": "2021-04-10T12:11:56",
         "restored_time": "2021-04-10T14:25:05.293"
        },
        "INCD-54207-V": {
         "description": "An underground electricity cable faulted on our high voltage network, causing an area wide power cut.",
         "estimated_restored_time": "2021-04-10T22:00:00",
         "incident_active": false,
         "incident_url": "https://www.ukpowernetworks.co.uk/power-cut/map?incidentid=INCD-54207-V",
         "planned_time": null,
         "postcodes_impacted": [
          "BN435LD",
          "BN436RG",
          "BN436RH",
          "BN436RS"
         ],
         "received_time": "2021-04-10T17:51:57",
         "restored_time": "2021-04-10T20:37:33.577"
        },
        "INCD-54215-V": {
         "description": "A fault occurred on a piece of our electrical equipment which controls the power to your home.",
         "estimated_restored_time": "2021-04-11T00:00:00",
         "incident_active": true,
         "incident_url": "https://www.ukpowernetworks.co.uk/power-cut/map?incidentid=INCD-54215-V",
         "planned_time": null,
         "postcodes_impacted": [
          "BN435LD",
          "BN436RG",
          "BN436RH",
          "BN436RS"
         ],
         "received_time": "2021-04-10T20:54:57",
         "restored_time": null
        }
       }
      ],
      "text/plain": [
       "<IPython.core.display.JSON object>"
      ]
     },
     "execution_count": 17,
     "metadata": {
      "application/json": {
       "expanded": false,
       "root": "root"
      }
     },
     "output_type": "execute_result"
    }
   ],
   "source": [
    "raw_incidents_info, cleaned_incidents_info = get_ukpn_incidents_info()\n",
    "\n",
    "JSON([cleaned_incidents_info])"
   ]
  },
  {
   "cell_type": "code",
   "execution_count": null,
   "id": "athletic-playlist",
   "metadata": {},
   "outputs": [],
   "source": []
  },
  {
   "cell_type": "code",
   "execution_count": 18,
   "id": "fleet-despite",
   "metadata": {},
   "outputs": [],
   "source": [
    "#exports\n",
    "def save_json_data(data, filename, data_dir='data/raw'):\n",
    "    with open(f'{data_dir}/{filename}.json', 'w') as fp:\n",
    "        json.dump(data, fp)"
   ]
  },
  {
   "cell_type": "code",
   "execution_count": 19,
   "id": "moderate-breed",
   "metadata": {},
   "outputs": [],
   "source": [
    "save_json_data(raw_incidents_info, 'ukpn_incidents_info', data_dir='../data/raw')"
   ]
  },
  {
   "cell_type": "markdown",
   "id": "humanitarian-intervention",
   "metadata": {},
   "source": [
    "<br>\n",
    "\n",
    "### Scottish & Southern Electricity Networks\n",
    "\n",
    "https://www.ssen.co.uk/Powertrack/\n",
    "\n",
    "N.b. we occasionaly get date values of: `Date(-62135596800000)`. This occurs when no date can be found so we will set these to `None`."
   ]
  },
  {
   "cell_type": "code",
   "execution_count": 21,
   "id": "sharp-petersburg",
   "metadata": {},
   "outputs": [
    {
     "name": "stderr",
     "output_type": "stream",
     "text": [
      "C:\\Users\\Ayrto\\anaconda3\\envs\\outage\\lib\\site-packages\\urllib3\\connectionpool.py:1020: InsecureRequestWarning: Unverified HTTPS request is being made to host 'www.ssen.co.uk'. Adding certificate verification is strongly advised. See: https://urllib3.readthedocs.io/en/latest/advanced-usage.html#ssl-warnings\n",
      "  InsecureRequestWarning,\n"
     ]
    },
    {
     "data": {
      "application/json": {
       "Faults": [
        {
         "AffectedAreas": [
          "BH1 4RR",
          "BH1 4RT",
          "BH1 4RU",
          "BH1 4SB",
          "BH1 4SD",
          "BH1 4SE",
          "BH8 8AY",
          "BH8 8BE"
         ],
         "DepotCode": "31",
         "EstimatedArrivalOnSiteUtc": "/Date(1618092900000)/",
         "EstimatedFaultUpdateTimeUtc": "/Date(-62135596800000)/",
         "EstimatedRestorationTimeUtc": "/Date(1618101000000)/",
         "FaultType": "LV",
         "IsDepot": false,
         "Location": {
          "DisplayText": "50.729969990728655, -1.8547756882063939",
          "Latitude": 50.729969990728655,
          "Longitude": -1.854775688206394
         },
         "LoggedAtUtc": "/Date(1618089840000)/",
         "Message": "We’re sorry for the loss of supply. We currently have a fault affecting the areas listed. Our engineers are on site working hard to get the power back on as quickly as they can. If you need more information, please call us on 105 or send us a message on <a href=\"http://m.me/ssencommunity/\">Facebook</a> or Twitter (<a href=\"https://twitter.com/ssencommunity\">@ssencommunity</a>) and quote reference 'HB5123'",
         "Reference": "HB5123",
         "Title": "BH1 Area"
        },
        {
         "AffectedAreas": [
          "BH1 2AL",
          "RG12 2NY",
          "RG42 2JP",
          "RG42 2JR",
          "RG42 3AT",
          "RG42 3BT",
          "RG42 3DH",
          "RG42 3DJ",
          "RG42 3DL",
          "RG42 4SR",
          "RG42 4ST",
          "RG42 5RR",
          "RG42 6AA",
          "RG42 6AB",
          "RG42 6AD",
          "RG42 6AE",
          "RG42 6AF",
          "RG42 6AG",
          "RG42 6AJ",
          "RG42 6AL",
          "RG42 6AN",
          "RG42 6AP",
          "RG42 6AQ",
          "RG42 6AR",
          "RG42 6AS",
          "RG42 6AT",
          "RG42 6AU",
          "RG42 6AW",
          "RG42 6AX",
          "RG42 6AY",
          "RG42 6AZ",
          "RG42 6BA",
          "RG42 6BB",
          "RG42 6BD",
          "RG42 6BE",
          "RG42 6BF",
          "RG42 6BG",
          "RG42 6BH",
          "RG42 6BJ",
          "RG42 6BL",
          "RG42 6BN",
          "RG42 6BP",
          "RG42 6BS",
          "RG42 6DA",
          "RG42 6DD",
          "RG42 6DE",
          "RG42 6DG",
          "RG42 6DH",
          "RG42 6DP",
          "RG42 6DQ",
          "RG42 6DY",
          "RG42 6EA",
          "RG42 6EB",
          "RG42 6ED",
          "RG42 6EE",
          "RG42 6EG",
          "RG42 6EY",
          "RG42 6HJ",
          "RG42 6HN",
          "RG42 6HP",
          "RG42 6HR",
          "RG42 6HS",
          "RG42 6HT",
          "RG42 6HU",
          "RG42 6HX",
          "RG42 6HY",
          "RG42 6JA",
          "RG42 6JB",
          "RG42 6JD",
          "RG42 6JE",
          "RG42 6JF",
          "RG42 6JG",
          "RG42 6JL",
          "RG42 6JQ",
          "RG42 6JS",
          "RG42 6JT",
          "RG42 6JU",
          "RG42 6JX",
          "RG42 6JY",
          "RG42 6LA",
          "RG42 6LB",
          "RG42 6LD",
          "RG42 6LE",
          "RG42 6LH",
          "RG42 6LJ",
          "RG42 6LL",
          "RG42 6LN",
          "RG42 6LP",
          "RG42 6LQ",
          "RG42 6LR",
          "RG42 6LS",
          "RG42 6NA",
          "SL4 2HA",
          "SL4 4NT",
          "SL4 4PX",
          "SL4 4QJ",
          "SL4 4QQ",
          "SL4 4QR",
          "SL4 4QS",
          "SL4 4QT",
          "SL4 4QU",
          "SL4 4QW",
          "SL4 4QX",
          "SL4 4QY",
          "SL4 4RL",
          "SL4 4RP",
          "SL4 4RU",
          "SL4 4RW",
          "SL4 4RX",
          "SL4 4RZ",
          "SL4 4SA",
          "SL4 4SD",
          "SL4 4SE",
          "SL4 4SF",
          "SL4 4SG",
          "SL4 4SH",
          "SL4 4SJ",
          "SL4 4SL",
          "SL4 4SN",
          "SL4 4SP",
          "SL4 4SQ",
          "SL4 4SR",
          "SL4 4SS",
          "SL4 4ST",
          "SL4 4SW",
          "SL4 4SY",
          "SL4 4TE",
          "SL4 4TF",
          "SL4 4TH",
          "SL4 4TJ",
          "SL4 4TL",
          "SL4 4TN",
          "SL4 4TW",
          "SL5 8RR"
         ],
         "DepotCode": "32",
         "EstimatedArrivalOnSiteUtc": "/Date(-62135596800000)/",
         "EstimatedFaultUpdateTimeUtc": "/Date(-62135596800000)/",
         "EstimatedRestorationTimeUtc": "/Date(1618099200000)/",
         "FaultType": "HV",
         "IsDepot": false,
         "Location": {
          "DisplayText": "51.436028650972119, -0.72646281251870826",
          "Latitude": 51.43602865097212,
          "Longitude": -0.7264628125187083
         },
         "LoggedAtUtc": "/Date(1618088280000)/",
         "Message": "We’re sorry for the loss of supply. We currently have a fault affecting the areas listed. Our engineers are on site working hard to get the power back on as quickly as they can. If you need more information, please call us on 105 or send us a message on <a href=\"http://m.me/ssencommunity/\">Facebook</a> or Twitter (<a href=\"https://twitter.com/ssencommunity\">@ssencommunity</a>) and quote reference 'HB5118'",
         "Reference": "HB5118",
         "Title": "SL4 & RG42 Areas"
        },
        {
         "AffectedAreas": [
          "SL4 2BH",
          "SL4 2BL",
          "SL4 2DA",
          "SL4 2DB",
          "SL4 2DD",
          "SL4 2DE",
          "SL4 2DG",
          "SL4 2DH",
          "SL4 2DJ",
          "SL4 2DL",
          "SL4 2DN",
          "SL4 2DP",
          "SL4 2DQ",
          "SL4 2DR",
          "SL4 2DS",
          "SL4 2DT",
          "SL4 2DU",
          "SL4 2DW",
          "SL4 2DY",
          "SL4 2DZ",
          "SL4 2ED",
          "SL4 2EE",
          "SL4 2EG",
          "SL4 2EQ",
          "SL4 2FA",
          "SL4 2HB",
          "SL4 4FG",
          "SL4 4RH",
          "SL4 4RJ",
          "SL4 4RL",
          "SL4 4SY",
          "SL4 4SZ",
          "SL4 4TA",
          "SL4 4TB",
          "SL4 4TE",
          "SL4 4TF",
          "SL4 4TG",
          "SL4 4TH",
          "SL4 4TP",
          "SL4 4TR"
         ],
         "DepotCode": "32",
         "EstimatedArrivalOnSiteUtc": "/Date(-62135596800000)/",
         "EstimatedFaultUpdateTimeUtc": "/Date(-62135596800000)/",
         "EstimatedRestorationTimeUtc": "/Date(1618092000000)/",
         "FaultType": "HV",
         "IsDepot": false,
         "Location": {
          "DisplayText": "51.439032413544219, -0.66586421901178539",
          "Latitude": 51.43903241354422,
          "Longitude": -0.6658642190117854
         },
         "LoggedAtUtc": "/Date(1618081320000)/",
         "Message": "We’re sorry for the loss of supply. We currently have a fault affecting the areas listed. Our engineers are on site working hard to get the power back on as quickly as they can. If you need more information, please call us on 105 or send us a message on <a href=\"http://m.me/ssencommunity/\">Facebook</a> or Twitter (<a href=\"https://twitter.com/ssencommunity\">@ssencommunity</a>) and quote reference 'HB5099'",
         "Reference": "HB5099",
         "Title": "SL4 Area"
        },
        {
         "AffectedAreas": [
          "RG14 2DZ",
          "RG14 2JD",
          "RG14 2JE",
          "RG14 2JF",
          "RG14 2JG",
          "RG14 2JP",
          "RG14 2JQ",
          "RG14 2JR",
          "RG14 2JS",
          "RG14 2JT",
          "RG14 2JU",
          "RG14 2JX",
          "RG14 2JY",
          "RG14 2JZ",
          "RG14 2LA",
          "RG14 2LB",
          "RG14 2LD",
          "RG14 2LG",
          "RG14 2LQ",
          "RG14 3AA"
         ],
         "DepotCode": "39",
         "EstimatedArrivalOnSiteUtc": "/Date(-62135596800000)/",
         "EstimatedFaultUpdateTimeUtc": "/Date(-62135596800000)/",
         "EstimatedRestorationTimeUtc": "/Date(1618092000000)/",
         "FaultType": "HV",
         "IsDepot": false,
         "Location": {
          "DisplayText": "51.415670372242147, -1.3324021854902615",
          "Latitude": 51.41567037224215,
          "Longitude": -1.3324021854902615
         },
         "LoggedAtUtc": "/Date(1618066800000)/",
         "Message": "We’re sorry for the loss of supply. We currently have a fault affecting the areas listed. Our engineers are on site working hard to get the power back on as quickly as they can. If you need more information, please call us on 105 or send us a message on <a href=\"http://m.me/ssencommunity/\">Facebook</a> or Twitter (<a href=\"https://twitter.com/ssencommunity\">@ssencommunity</a>) and quote reference 'HB5037'",
         "Reference": "HB5037",
         "Title": "RG14 Area"
        },
        {
         "AffectedAreas": [
          "BH12 4DH",
          "BH12 4DJ",
          "BH12 4DN"
         ],
         "DepotCode": "45",
         "EstimatedArrivalOnSiteUtc": "/Date(-62135596800000)/",
         "EstimatedFaultUpdateTimeUtc": "/Date(-62135596800000)/",
         "EstimatedRestorationTimeUtc": "/Date(1618099200000)/",
         "FaultType": "LV",
         "IsDepot": false,
         "Location": {
          "DisplayText": "50.741730498689535, -1.9173098388401058",
          "Latitude": 50.741730498689535,
          "Longitude": -1.9173098388401058
         },
         "LoggedAtUtc": "/Date(1618066080000)/",
         "Message": "We’re sorry for the loss of supply. We currently have a fault affecting the areas listed. Our engineers are on site working hard to get the power back on as quickly as they can. If you need more information, please call us on 105 or send us a message on <a href=\"http://m.me/ssencommunity/\">Facebook</a> or Twitter (<a href=\"https://twitter.com/ssencommunity\">@ssencommunity</a>) and quote reference 'HB5034'",
         "Reference": "HB5034",
         "Title": "BH12 Area"
        },
        {
         "AffectedAreas": [
          "OX39 4SF",
          "OX39 4SG",
          "OX39 4SQ",
          "OX49 5SD"
         ],
         "DepotCode": "47",
         "EstimatedArrivalOnSiteUtc": "/Date(-62135596800000)/",
         "EstimatedFaultUpdateTimeUtc": "/Date(-62135596800000)/",
         "EstimatedRestorationTimeUtc": "/Date(1618106400000)/",
         "FaultType": "HV",
         "IsDepot": false,
         "Location": {
          "DisplayText": "51.676088193836954, -0.93253031018137722",
          "Latitude": 51.676088193836954,
          "Longitude": -0.9325303101813772
         },
         "LoggedAtUtc": "/Date(1618063680000)/",
         "Message": "We’re sorry for the loss of supply. We currently have a fault affecting the areas listed. Our engineers are on site working hard to get the power back on as quickly as they can. If you need more information, please call us on 105 or send us a message on <a href=\"http://m.me/ssencommunity/\">Facebook</a> or Twitter (<a href=\"https://twitter.com/ssencommunity\">@ssencommunity</a>) and quote reference 'HB5045'",
         "Reference": "HB5045",
         "Title": "OX39 Area"
        },
        {
         "AffectedAreas": [
          "PO9 6DD",
          "PO9 6DP",
          "PO9 6DR",
          "PO9 6DS",
          "PO9 6DT",
          "PO9 6DU",
          "PO9 6DX"
         ],
         "DepotCode": "33",
         "EstimatedArrivalOnSiteUtc": "/Date(1618063200000)/",
         "EstimatedFaultUpdateTimeUtc": "/Date(-62135596800000)/",
         "EstimatedRestorationTimeUtc": "/Date(1618104600000)/",
         "FaultType": "HV",
         "IsDepot": false,
         "Location": {
          "DisplayText": "50.886087276358907, -0.937845661378094",
          "Latitude": 50.88608727635891,
          "Longitude": -0.937845661378094
         },
         "LoggedAtUtc": "/Date(1618062840000)/",
         "Message": "We’re sorry for the loss of supply. We currently have a fault affecting the areas listed. Our engineers are on site working hard to get the power back on as quickly as they can. If you need more information, please call us on 105 or send us a message on <a href=\"http://m.me/ssencommunity/\">Facebook</a> or Twitter (<a href=\"https://twitter.com/ssencommunity\">@ssencommunity</a>) and quote reference 'HB4987'",
         "Reference": "HB4987",
         "Title": "PO9 Area"
        }
       ],
       "Message": "7 reported faults",
       "TimestampUtc": "/Date(1618090512000)/",
       "Uri": "http://api.sse.com/powerdistribution/network/v3/api/faults/"
      },
      "text/plain": [
       "<IPython.core.display.JSON object>"
      ]
     },
     "execution_count": 21,
     "metadata": {
      "application/json": {
       "expanded": false,
       "root": "root"
      }
     },
     "output_type": "execute_result"
    }
   ],
   "source": [
    "url = 'https://www.ssen.co.uk/Sse_Components/Views/Controls/FormControls/PowerTrackHandler.ashx'\n",
    "\n",
    "r_json = requests.get(url, verify=False).json()\n",
    "\n",
    "JSON(r_json)"
   ]
  },
  {
   "cell_type": "code",
   "execution_count": null,
   "id": "prostate-sperm",
   "metadata": {},
   "outputs": [],
   "source": []
  },
  {
   "cell_type": "code",
   "execution_count": null,
   "id": "diverse-strength",
   "metadata": {},
   "outputs": [],
   "source": [
    "#exports\n",
    "def clean_ssen_incident_info(incident):\n",
    "    ssen_relevant_dates_name_mapping = { \n",
    "        'LoggedAtUtc': 'received_time',\n",
    "        'EstimatedArrivalOnSiteUtc': 'estimated_arrival_time',\n",
    "        'EstimatedRestorationTimeUtc': 'estimated_restored_time'\n",
    "     }\n",
    "\n",
    "    cleaned_incident_info = dict()\n",
    "\n",
    "    for old_dt_name, new_dt_name in ssen_relevant_dates_name_mapping.items():\n",
    "        dt_str = incident[old_dt_name].split('(')[1].split(')')[0]\n",
    "\n",
    "        if dt_str != '-62135596800000':\n",
    "            try:\n",
    "                dt = pd.to_datetime(int(dt_str)*1e6).strftime('%Y-%m-%d %H:%M:%S')\n",
    "            except:\n",
    "                warn(f'{dt_str} could not be parsed to a date')\n",
    "                dt = None\n",
    "        else:\n",
    "            dt = None\n",
    "\n",
    "        cleaned_incident_info[new_dt_name] = dt\n",
    "\n",
    "    cleaned_incident_info['postcodes_impacted'] = incident['AffectedAreas']\n",
    "    cleaned_incident_info['description'] = incident['Message']\n",
    "    cleaned_incident_info['incident_active'] = True\n",
    "    cleaned_incident_info['incident_url'] = 'https://www.ssen.co.uk/Powertrack/'\n",
    "    \n",
    "    return cleaned_incident_info"
   ]
  },
  {
   "cell_type": "code",
   "execution_count": null,
   "id": "premier-arbor",
   "metadata": {},
   "outputs": [],
   "source": []
  },
  {
   "cell_type": "code",
   "execution_count": null,
   "id": "emotional-profession",
   "metadata": {},
   "outputs": [],
   "source": [
    "incident = r_json['Faults'][0]\n",
    "\n",
    "cleaned_incident_info = clean_ssen_incident_info(incident)\n",
    "    \n",
    "JSON(cleaned_incident_info)"
   ]
  },
  {
   "cell_type": "code",
   "execution_count": null,
   "id": "moving-recommendation",
   "metadata": {},
   "outputs": [],
   "source": []
  },
  {
   "cell_type": "code",
   "execution_count": null,
   "id": "strange-luxury",
   "metadata": {},
   "outputs": [],
   "source": [
    "#exports\n",
    "def get_ssen_incidents_info(incidents_url='https://www.ssen.co.uk/Sse_Components/Views/Controls/FormControls/PowerTrackHandler.ashx'):\n",
    "    raw_incidents_info = requests.get(incidents_url, verify=False).json()\n",
    "    cleaned_incidents_info = dict()\n",
    "\n",
    "    for incident in track(raw_incidents_info['Faults']):\n",
    "        incident_ref = incident['Reference']\n",
    "        cleaned_incidents_info[incident_ref] = clean_ssen_incident_info(incident)\n",
    "        \n",
    "    return raw_incidents_info, cleaned_incidents_info"
   ]
  },
  {
   "cell_type": "code",
   "execution_count": null,
   "id": "twelve-count",
   "metadata": {},
   "outputs": [],
   "source": [
    "raw_incidents_info, cleaned_incidents_info = get_ssen_incidents_info()\n",
    "\n",
    "JSON([cleaned_incidents_info])"
   ]
  },
  {
   "cell_type": "code",
   "execution_count": null,
   "id": "searching-omaha",
   "metadata": {},
   "outputs": [],
   "source": []
  },
  {
   "cell_type": "code",
   "execution_count": null,
   "id": "quantitative-mystery",
   "metadata": {
    "tags": []
   },
   "outputs": [],
   "source": [
    "save_json_data(raw_incidents_info, 'ssen_incidents_info', data_dir='../data/raw')"
   ]
  },
  {
   "cell_type": "markdown",
   "id": "stable-myrtle",
   "metadata": {},
   "source": [
    "<br>\n",
    "\n",
    "### Western Power Distribution\n",
    "\n",
    "https://powercuts.westernpower.co.uk/"
   ]
  },
  {
   "cell_type": "code",
   "execution_count": null,
   "id": "lightweight-savannah",
   "metadata": {},
   "outputs": [],
   "source": [
    "#exports\n",
    "def get_wpd_incident_feed(url='https://powercuts.westernpower.co.uk'):\n",
    "    r = requests.get(url)\n",
    "\n",
    "    raw_incidents_info = json.loads(html.unescape(r.text.split('data-ng-init=\"init(')[1].split(')\"></div><div id=\"powercuts\"')[0]))\n",
    "    feed = json.loads(raw_incidents_info['feed'])\n",
    "    \n",
    "    return feed"
   ]
  },
  {
   "cell_type": "code",
   "execution_count": null,
   "id": "small-session",
   "metadata": {},
   "outputs": [],
   "source": [
    "feed = get_wpd_incident_feed()\n",
    "\n",
    "JSON(feed)"
   ]
  },
  {
   "cell_type": "code",
   "execution_count": null,
   "id": "color-intention",
   "metadata": {},
   "outputs": [],
   "source": []
  },
  {
   "cell_type": "code",
   "execution_count": null,
   "id": "indie-helicopter",
   "metadata": {
    "tags": []
   },
   "outputs": [],
   "source": [
    "incident_ids = [incident['id'] for incident in feed['incidents']]\n",
    "\n",
    "incident_ids[:5]"
   ]
  },
  {
   "cell_type": "code",
   "execution_count": null,
   "id": "regulation-indication",
   "metadata": {},
   "outputs": [],
   "source": []
  },
  {
   "cell_type": "code",
   "execution_count": null,
   "id": "comfortable-mistress",
   "metadata": {},
   "outputs": [],
   "source": [
    "#exports\n",
    "wpd_incident_id_to_url = lambda incident_id: f'https://powercuts.westernpower.co.uk/__powercuts/getIncidentById?incidentId={incident_id}'"
   ]
  },
  {
   "cell_type": "code",
   "execution_count": null,
   "id": "narrow-willow",
   "metadata": {},
   "outputs": [],
   "source": [
    "incident_id = incident_ids[0]\n",
    "\n",
    "incident_url = wpd_incident_id_to_url(incident_id)\n",
    "r_json = requests.get(incident_url).json()\n",
    "\n",
    "JSON(r_json)"
   ]
  },
  {
   "cell_type": "code",
   "execution_count": null,
   "id": "alpha-detection",
   "metadata": {},
   "outputs": [],
   "source": []
  },
  {
   "cell_type": "code",
   "execution_count": null,
   "id": "sacred-rwanda",
   "metadata": {},
   "outputs": [],
   "source": [
    "#exports\n",
    "def clean_wpd_incident_info(incident):\n",
    "    wpd_relevant_dates_name_mapping = { \n",
    "        'startTime': 'received_time',\n",
    "        'etr': 'estimated_restored_time'\n",
    "     }\n",
    "\n",
    "    cleaned_incident_info = dict()\n",
    "\n",
    "    for old_dt_name, new_dt_name in wpd_relevant_dates_name_mapping.items():\n",
    "        if incident[old_dt_name] is not None:\n",
    "            cleaned_incident_info[new_dt_name] = pd.to_datetime(incident[old_dt_name]*1e6).strftime('%Y-%m-%d %H:%M:%S')\n",
    "        else:\n",
    "            cleaned_incident_info[new_dt_name] = None\n",
    "\n",
    "    cleaned_incident_info['postcodes_impacted'] = incident['postcodes']\n",
    "    cleaned_incident_info['description'] = incident['status']\n",
    "    cleaned_incident_info['incident_active'] = bool(1 - incident['restored'])\n",
    "    cleaned_incident_info['incident_url'] = f\"https://powercuts.westernpower.co.uk/incident/{incident['id']}\"\n",
    "    \n",
    "    return cleaned_incident_info"
   ]
  },
  {
   "cell_type": "code",
   "execution_count": null,
   "id": "shaped-december",
   "metadata": {},
   "outputs": [],
   "source": [
    "JSON(clean_wpd_incident_info(r_json))"
   ]
  },
  {
   "cell_type": "code",
   "execution_count": null,
   "id": "rubber-railway",
   "metadata": {},
   "outputs": [],
   "source": []
  },
  {
   "cell_type": "code",
   "execution_count": null,
   "id": "alternate-victor",
   "metadata": {},
   "outputs": [],
   "source": [
    "#exports\n",
    "def get_wpd_incidents_info(incidents_url='https://powercuts.westernpower.co.uk'):\n",
    "    cleaned_incidents_info = dict()\n",
    "    \n",
    "    raw_incidents_info = get_wpd_incident_feed(incidents_url)\n",
    "    incident_ids = [incident['id'] for incident in raw_incidents_info['incidents']]\n",
    "\n",
    "    for incident_id in incident_ids:\n",
    "        incident_url = wpd_incident_id_to_url(incident_id)\n",
    "        r_json = requests.get(incident_url).json()\n",
    "        cleaned_incidents_info[incident_id] = clean_wpd_incident_info(r_json)\n",
    "        \n",
    "    return raw_incidents_info, cleaned_incidents_info"
   ]
  },
  {
   "cell_type": "code",
   "execution_count": null,
   "id": "greenhouse-center",
   "metadata": {},
   "outputs": [],
   "source": [
    "raw_incidents_info, cleaned_incidents_info = get_wpd_incidents_info()\n",
    "\n",
    "JSON(cleaned_incidents_info)"
   ]
  },
  {
   "cell_type": "code",
   "execution_count": null,
   "id": "offensive-advancement",
   "metadata": {},
   "outputs": [],
   "source": []
  },
  {
   "cell_type": "code",
   "execution_count": null,
   "id": "decent-regard",
   "metadata": {},
   "outputs": [],
   "source": [
    "save_json_data(raw_incidents_info, 'wpd_incidents_info', data_dir='../data/raw')"
   ]
  },
  {
   "cell_type": "markdown",
   "id": "hourly-ethiopia",
   "metadata": {},
   "source": [
    "<br>\n",
    "\n",
    "### Scottish Power Energy Networks\n",
    "\n",
    "https://www.spenergynetworks.co.uk/pages/power_cuts_list.aspx"
   ]
  },
  {
   "cell_type": "code",
   "execution_count": null,
   "id": "prescription-remark",
   "metadata": {},
   "outputs": [],
   "source": [
    "#exports\n",
    "get_raw_sp_incidents_info = lambda sp_map_url='https://www.spenergynetworks.co.uk/pages/power_cuts_map.aspx': json.loads(requests.get(sp_map_url).text.split('arrPowercutsPostcodes:')[1].split('strPagePathListView')[0].replace(',\\r\\n', '').strip())"
   ]
  },
  {
   "cell_type": "code",
   "execution_count": null,
   "id": "ceramic-congress",
   "metadata": {},
   "outputs": [],
   "source": [
    "incidents_info = get_raw_sp_incidents_info()\n",
    "\n",
    "JSON([incidents_info])"
   ]
  },
  {
   "cell_type": "code",
   "execution_count": null,
   "id": "given-donor",
   "metadata": {},
   "outputs": [],
   "source": []
  },
  {
   "cell_type": "code",
   "execution_count": null,
   "id": "banner-affiliation",
   "metadata": {},
   "outputs": [],
   "source": [
    "#exports\n",
    "def clean_sp_incident_info(incident_info):\n",
    "    def clean_dt(dt):\n",
    "        if dt is None:\n",
    "            return ''\n",
    "        else:\n",
    "            return pd.to_datetime(dt, utc=True).strftime('%Y-%m-%d %H:%M')\n",
    "    \n",
    "    cleaned_incident_info = dict()\n",
    "\n",
    "    cleaned_incident_info['received_time'] = clean_dt(incident_info['CREATION_DATE'])\n",
    "    cleaned_incident_info['estimated_restored_time'] = clean_dt(incident_info['EST_REST_DATE'])\n",
    "    cleaned_incident_info['postcodes_impacted'] = incident_info['POSTCODES']\n",
    "    cleaned_incident_info['description'] = incident_info['MAIN_MESSAGE']\n",
    "    cleaned_incident_info['incident_active'] = incident_info['HISTORIC_FLAG'] is None\n",
    "    cleaned_incident_info['incident_url'] = f\"https://www.spenergynetworks.co.uk/pages/power_cuts_map.aspx?incRef={incident_info['INCIDENT_REF']}\"\n",
    "    \n",
    "    return cleaned_incident_info"
   ]
  },
  {
   "cell_type": "code",
   "execution_count": null,
   "id": "bacterial-mercy",
   "metadata": {},
   "outputs": [],
   "source": [
    "clean_sp_incident_info(incidents_info[0])"
   ]
  },
  {
   "cell_type": "code",
   "execution_count": null,
   "id": "scenic-multimedia",
   "metadata": {},
   "outputs": [],
   "source": []
  },
  {
   "cell_type": "code",
   "execution_count": null,
   "id": "tender-adrian",
   "metadata": {},
   "outputs": [],
   "source": [
    "#exports\n",
    "def get_sp_incidents_info(sp_map_url='https://www.spenergynetworks.co.uk/pages/power_cuts_map.aspx'):\n",
    "    cleaned_incidents_info = dict()\n",
    "    \n",
    "    raw_incidents_info = get_raw_sp_incidents_info(sp_map_url)\n",
    "\n",
    "    for incident_info in raw_incidents_info:\n",
    "        incident_id = incident_info['INCIDENT_REF']\n",
    "        cleaned_incidents_info[incident_id] = clean_sp_incident_info(incident_info)\n",
    "        \n",
    "    return raw_incidents_info, cleaned_incidents_info"
   ]
  },
  {
   "cell_type": "code",
   "execution_count": null,
   "id": "controlling-consumer",
   "metadata": {},
   "outputs": [],
   "source": [
    "raw_incidents_info, cleaned_incidents_info = get_sp_incidents_info()\n",
    "\n",
    "JSON([cleaned_incidents_info])"
   ]
  },
  {
   "cell_type": "code",
   "execution_count": null,
   "id": "square-cornell",
   "metadata": {},
   "outputs": [],
   "source": []
  },
  {
   "cell_type": "code",
   "execution_count": null,
   "id": "bulgarian-empty",
   "metadata": {},
   "outputs": [],
   "source": [
    "save_json_data(raw_incidents_info, 'sp_incidents_info', data_dir='../data/raw')"
   ]
  },
  {
   "cell_type": "markdown",
   "id": "packed-marina",
   "metadata": {},
   "source": [
    "<br>\n",
    "\n",
    "### Northern Power Grid\n",
    "\n",
    "https://www.northernpowergrid.com/power-cuts"
   ]
  },
  {
   "cell_type": "code",
   "execution_count": null,
   "id": "acute-canyon",
   "metadata": {},
   "outputs": [],
   "source": [
    "#exports\n",
    "def get_np_auth(np_main_url='https://www.northernpowergrid.com/power-cuts'):\n",
    "    s = requests.Session()\n",
    "\n",
    "    r = s.get(np_main_url)\n",
    "    soup = bs(r.text, features='lxml')\n",
    "\n",
    "    authenticity_token = soup.find('input', attrs={'name': 'authenticityToken'})['value']\n",
    "\n",
    "    return s, authenticity_token"
   ]
  },
  {
   "cell_type": "code",
   "execution_count": null,
   "id": "attempted-genome",
   "metadata": {},
   "outputs": [],
   "source": [
    "s, authenticity_token = get_np_auth()\n",
    "\n",
    "authenticity_token"
   ]
  },
  {
   "cell_type": "code",
   "execution_count": null,
   "id": "religious-victory",
   "metadata": {},
   "outputs": [],
   "source": []
  },
  {
   "cell_type": "code",
   "execution_count": null,
   "id": "informal-inflation",
   "metadata": {},
   "outputs": [],
   "source": [
    "#exports\n",
    "def get_np_r(\n",
    "    np_main_url='https://www.northernpowergrid.com/power-cuts', \n",
    "    np_incidents_url='https://www.northernpowergrid.com/powercutsgetallbyincno'\n",
    "):\n",
    "    s, authenticity_token = get_np_auth(np_main_url)\n",
    "    \n",
    "    data = {\n",
    "        'method': 'incno',\n",
    "        'categoryFilters': 'Service Cutout Change,Asset repairs by Troublecall,Metering,Emergency Disconnection,Emergency Disconnection (Charge),Cat A,Cat B,Cat C',\n",
    "        'authenticityToken': authenticity_token\n",
    "    }\n",
    "\n",
    "    r = s.post(np_incidents_url, data=data)\n",
    "\n",
    "    return r"
   ]
  },
  {
   "cell_type": "code",
   "execution_count": null,
   "id": "mysterious-bulgarian",
   "metadata": {},
   "outputs": [],
   "source": [
    "r = get_np_r()\n",
    "\n",
    "r"
   ]
  },
  {
   "cell_type": "code",
   "execution_count": null,
   "id": "medium-exchange",
   "metadata": {},
   "outputs": [],
   "source": []
  },
  {
   "cell_type": "code",
   "execution_count": null,
   "id": "integral-membership",
   "metadata": {},
   "outputs": [],
   "source": [
    "#exports\n",
    "get_np_raw_incidents_info = lambda r: json.loads(r.json()['data'])"
   ]
  },
  {
   "cell_type": "code",
   "execution_count": null,
   "id": "minus-spider",
   "metadata": {},
   "outputs": [],
   "source": [
    "raw_incidents_info = get_np_raw_incidents_info(r)\n",
    "\n",
    "JSON(raw_incidents_info)"
   ]
  },
  {
   "cell_type": "code",
   "execution_count": null,
   "id": "stock-lawsuit",
   "metadata": {},
   "outputs": [],
   "source": []
  },
  {
   "cell_type": "code",
   "execution_count": null,
   "id": "furnished-palace",
   "metadata": {},
   "outputs": [],
   "source": [
    "#exports\n",
    "def clean_np_incident_info(incident_info):\n",
    "    def clean_dt(dt):\n",
    "        if dt is None:\n",
    "            return ''\n",
    "        else:\n",
    "            return pd.to_datetime(dt, unit='ms').strftime('%Y-%m-%d %H:%M')\n",
    "        \n",
    "    cleaned_incident_info = dict()\n",
    "\n",
    "    cleaned_incident_info['received_time'] = clean_dt(incident_info['logged'])\n",
    "    cleaned_incident_info['estimated_restored_time'] = clean_dt(incident_info['estimatedTimeTillResolution'])\n",
    "    cleaned_incident_info['postcodes_impacted'] = incident_info['postcodes']\n",
    "    cleaned_incident_info['description'] = f\"{incident_info['category']} {incident_info['status']}\"\n",
    "    cleaned_incident_info['incident_active'] = (incident_info['totalConfirmedOff'] + incident_info['totalPredictedOff']) > 0\n",
    "    cleaned_incident_info['incident_url'] = 'https://www.northernpowergrid.com/power-cuts'\n",
    "    \n",
    "    return cleaned_incident_info"
   ]
  },
  {
   "cell_type": "code",
   "execution_count": null,
   "id": "large-triple",
   "metadata": {},
   "outputs": [],
   "source": [
    "incident_info = raw_incidents_info['powercuts']['PPC039814']\n",
    "\n",
    "cleaned_incident_info = clean_np_incident_info(incident_info)\n",
    "\n",
    "JSON(cleaned_incident_info)"
   ]
  },
  {
   "cell_type": "code",
   "execution_count": null,
   "id": "fatty-tender",
   "metadata": {},
   "outputs": [],
   "source": []
  },
  {
   "cell_type": "code",
   "execution_count": null,
   "id": "southwest-details",
   "metadata": {},
   "outputs": [],
   "source": [
    "#exports\n",
    "def get_np_incidents_info(\n",
    "    np_main_url='https://www.northernpowergrid.com/power-cuts', \n",
    "    np_incidents_url='https://www.northernpowergrid.com/powercutsgetallbyincno'\n",
    "):\n",
    "    cleaned_incidents_info = dict()\n",
    "    \n",
    "    r = get_np_r(np_main_url, np_incidents_url)\n",
    "    raw_incidents_info = get_np_raw_incidents_info(r)\n",
    "\n",
    "    for incident_id, incident_info in raw_incidents_info['powercuts'].items():\n",
    "        cleaned_incidents_info[incident_id] = clean_np_incident_info(incident_info)\n",
    "        \n",
    "    return raw_incidents_info, cleaned_incidents_info"
   ]
  },
  {
   "cell_type": "code",
   "execution_count": null,
   "id": "consolidated-floor",
   "metadata": {},
   "outputs": [],
   "source": [
    "raw_incidents_info, cleaned_incidents_info = get_np_incidents_info()\n",
    "\n",
    "JSON([cleaned_incidents_info])"
   ]
  },
  {
   "cell_type": "code",
   "execution_count": null,
   "id": "decent-count",
   "metadata": {},
   "outputs": [],
   "source": []
  },
  {
   "cell_type": "markdown",
   "id": "corporate-cream",
   "metadata": {},
   "source": [
    "<br>\n",
    "\n",
    "### Electricity North West\n",
    "\n",
    "https://www.enwl.co.uk/power-cuts/"
   ]
  },
  {
   "cell_type": "code",
   "execution_count": null,
   "id": "historic-action",
   "metadata": {},
   "outputs": [],
   "source": [
    "#exports\n",
    "get_enw_incidents_page = lambda page=1, page_size=10000: f'https://www.enwl.co.uk/power-outages/search?pageSize={page_size}&postcodeOrReferenceNumber=&pageNumber={page}&includeCurrent=true&includeResolved=true&includeTodaysPlanned=true&includeFuturePlanned=true&includeCancelledPlanned=true'"
   ]
  },
  {
   "cell_type": "code",
   "execution_count": null,
   "id": "focused-canal",
   "metadata": {},
   "outputs": [],
   "source": [
    "url = get_enw_incidents_page()\n",
    "\n",
    "r_json = requests.get(url).json()\n",
    "\n",
    "JSON([r_json])"
   ]
  },
  {
   "cell_type": "code",
   "execution_count": null,
   "id": "center-cathedral",
   "metadata": {},
   "outputs": [],
   "source": []
  },
  {
   "cell_type": "code",
   "execution_count": null,
   "id": "grateful-designation",
   "metadata": {},
   "outputs": [],
   "source": [
    "#exports\n",
    "def check_num_results(r_json):\n",
    "    num_total_results = r_json['TotalResults']\n",
    "    num_results_returned = len(r_json['Items'])\n",
    "\n",
    "    if num_total_results != num_results_returned:\n",
    "        warn(f'Only {num_results_returned} items were returned for Electricity North West when there are {num_total_results} in total')\n",
    "        \n",
    "    return"
   ]
  },
  {
   "cell_type": "code",
   "execution_count": null,
   "id": "written-hello",
   "metadata": {},
   "outputs": [],
   "source": [
    "check_num_results(r_json)"
   ]
  },
  {
   "cell_type": "markdown",
   "id": "worth-rates",
   "metadata": {},
   "source": [
    "<br>\n",
    "\n",
    "We'll check that we get the expected warning when the conditions are met"
   ]
  },
  {
   "cell_type": "code",
   "execution_count": null,
   "id": "posted-resource",
   "metadata": {},
   "outputs": [],
   "source": [
    "url = get_enw_incidents_page(page_size=10)\n",
    "\n",
    "r_json = requests.get(url).json()\n",
    "\n",
    "check_num_results(r_json)"
   ]
  },
  {
   "cell_type": "code",
   "execution_count": null,
   "id": "conservative-dispatch",
   "metadata": {},
   "outputs": [],
   "source": []
  },
  {
   "cell_type": "code",
   "execution_count": null,
   "id": "consistent-barrier",
   "metadata": {},
   "outputs": [],
   "source": [
    "#exports\n",
    "def get_enw_raw_incidents(page=1, page_size=10000):\n",
    "    url = get_enw_incidents_page(page=page, page_size=page_size)\n",
    "    raw_incidents = requests.get(url).json()\n",
    "    check_num_results(raw_incidents)\n",
    "    \n",
    "    return raw_incidents"
   ]
  },
  {
   "cell_type": "code",
   "execution_count": null,
   "id": "stopped-green",
   "metadata": {},
   "outputs": [],
   "source": [
    "raw_incidents = get_enw_raw_incidents()\n",
    "\n",
    "JSON([raw_incidents])"
   ]
  },
  {
   "cell_type": "code",
   "execution_count": null,
   "id": "protected-arbor",
   "metadata": {},
   "outputs": [],
   "source": []
  },
  {
   "cell_type": "code",
   "execution_count": null,
   "id": "following-geneva",
   "metadata": {},
   "outputs": [],
   "source": [
    "#exports\n",
    "def clean_enw_incident_info(incident_info):\n",
    "    def clean_dt(dt):\n",
    "        if dt is None:\n",
    "            return ''\n",
    "        else:\n",
    "            return pd.to_datetime(dt).strftime('%Y-%m-%d %H:%M')\n",
    "        \n",
    "    cleaned_incident_info = dict()\n",
    "    cleaned_incident_info['received_time'] = clean_dt(incident_info['date'])\n",
    "    cleaned_incident_info['estimated_restored_time'] = clean_dt(incident_info['estimatedTimeOfRestorationMajority'])\n",
    "    cleaned_incident_info['postcodes_impacted'] = incident_info['AffectedPostcodes'].strip().split(', ')\n",
    "    cleaned_incident_info['description'] = incident_info['AdditionalFaultInfo']\n",
    "    cleaned_incident_info['incident_active'] = incident_info['FaultLabel'] in ['CurrentFault', 'Live power cut']\n",
    "    cleaned_incident_info['incident_url'] = 'https://www.enwl.co.uk/power-cuts/power-cuts-power-cuts-live-power-cut-information-fault-list/fault-list'\n",
    "    \n",
    "    return cleaned_incident_info"
   ]
  },
  {
   "cell_type": "code",
   "execution_count": null,
   "id": "interim-blend",
   "metadata": {},
   "outputs": [],
   "source": [
    "incident_info = raw_incidents['Items'][0]\n",
    "\n",
    "cleaned_incident_info = clean_enw_incident_info(incident_info)\n",
    "\n",
    "JSON(cleaned_incident_info)"
   ]
  },
  {
   "cell_type": "code",
   "execution_count": null,
   "id": "formed-nurse",
   "metadata": {},
   "outputs": [],
   "source": []
  },
  {
   "cell_type": "code",
   "execution_count": null,
   "id": "quick-worry",
   "metadata": {},
   "outputs": [],
   "source": [
    "#exports\n",
    "def get_enw_incidents_info(page=1, page_size=10000):\n",
    "    cleaned_incidents_info = dict()\n",
    "    \n",
    "    raw_incidents_info = get_enw_raw_incidents(page=page, page_size=page_size)\n",
    "\n",
    "    for incident_info in raw_incidents_info['Items']:\n",
    "        incident_id = incident_info['faultNumber']\n",
    "        cleaned_incidents_info[incident_id] = clean_enw_incident_info(incident_info)\n",
    "        \n",
    "    return raw_incidents_info, cleaned_incidents_info"
   ]
  },
  {
   "cell_type": "code",
   "execution_count": null,
   "id": "turkish-eclipse",
   "metadata": {},
   "outputs": [],
   "source": [
    "raw_incidents_info, cleaned_incidents_info = get_enw_incidents_info()\n",
    "\n",
    "JSON([cleaned_incidents_info])"
   ]
  },
  {
   "cell_type": "code",
   "execution_count": null,
   "id": "optimum-bulgarian",
   "metadata": {},
   "outputs": [],
   "source": []
  },
  {
   "cell_type": "code",
   "execution_count": 23,
   "id": "sufficient-conference",
   "metadata": {},
   "outputs": [
    {
     "name": "stdout",
     "output_type": "stream",
     "text": [
      "Converted 01-retrieval.ipynb.\n",
      "Converted 02-collation.ipynb.\n",
      "Converted 03-deployment.ipynb.\n"
     ]
    }
   ],
   "source": [
    "#hide\n",
    "from nbdev.export import *\n",
    "notebook2script()"
   ]
  }
 ],
 "metadata": {
  "kernelspec": {
   "display_name": "outage",
   "language": "python",
   "name": "outage"
  },
  "language_info": {
   "codemirror_mode": {
    "name": "ipython",
    "version": 3
   },
   "file_extension": ".py",
   "mimetype": "text/x-python",
   "name": "python",
   "nbconvert_exporter": "python",
   "pygments_lexer": "ipython3",
   "version": "3.7.10"
  }
 },
 "nbformat": 4,
 "nbformat_minor": 5
}
